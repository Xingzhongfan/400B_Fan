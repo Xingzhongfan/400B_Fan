{
 "cells": [
  {
   "cell_type": "markdown",
   "metadata": {},
   "source": [
    "# In Class Lab 13 Template\n",
    "# Cosmological Tools\n",
    "\n",
    "In this lab we will build on the Class called `CosmologicalTools` that we developed as part of Lab 12. \n",
    "\n",
    "For Lab 13, we will create functions that compute: Look Back Time, Comoving Distance, Luminosity Distance and Angular Diameter Distance. \n"
   ]
  },
  {
   "cell_type": "code",
   "execution_count": 1,
   "metadata": {
    "execution_event_id": "88952e8b-c6b9-4012-9b97-b63ec35cdaff",
    "last_executed_text": "# import modules\nimport numpy as np\nimport astropy.units as u\n\n# For Lab 12: Import the constant for the speed of light\nfrom astropy.constants import c\n\n# import plotting modules\nimport matplotlib.pyplot as plt\nimport matplotlib\n%matplotlib inline\n\n\n# Lab 12 : added\n# integrating tools from SciPy  \nfrom scipy.integrate import simps\n",
    "persistent_id": "68dbb10d-b28d-405d-9422-c6162e21b901"
   },
   "outputs": [],
   "source": [
    "# import modules\n",
    "import numpy as np\n",
    "import astropy.units as u\n",
    "\n",
    "# For Lab 12: Import the constant for the speed of light\n",
    "from astropy.constants import c\n",
    "\n",
    "# import plotting modules\n",
    "import matplotlib.pyplot as plt\n",
    "import matplotlib\n",
    "%matplotlib inline\n",
    "\n",
    "\n",
    "# Lab 12 : added\n",
    "# integrating tools from SciPy  \n",
    "from scipy.integrate import simps\n"
   ]
  },
  {
   "cell_type": "code",
   "execution_count": 2,
   "metadata": {
    "execution_event_id": "cba8e680-d835-4dde-8e68-4cadfac421cb",
    "last_executed_text": "# Define the benchmark cosmology at z =0\n# Planck 2016 results. XIII. Cosmological parameters   \n# Planck Collaboration+2016 A&A 594 13  Table 4, column 2 \n\nOmegaM0_planck = 0.308   # Matter Density Parameter\nOmegaR0_planck = 8.24e-5  # Radiation Density Parameter\nOmegaL0_planck = 0.692  # Dark Energy Density Parameter\nh_planck = 0.6781   # Hubble Constant  100 h km/s/Mpc\n        ",
    "persistent_id": "e8762684-c0a6-48c3-97b7-18d2540530b4"
   },
   "outputs": [],
   "source": [
    "# Define the benchmark cosmology at z =0\n",
    "# Planck 2016 results. XIII. Cosmological parameters   \n",
    "# Planck Collaboration+2016 A&A 594 13  Table 4, column 2 \n",
    "\n",
    "OmegaM0_planck = 0.308   # Matter Density Parameter\n",
    "OmegaR0_planck = 8.24e-5  # Radiation Density Parameter\n",
    "OmegaL0_planck = 0.692  # Dark Energy Density Parameter\n",
    "h_planck = 0.6781   # Hubble Constant  100 h km/s/Mpc\n",
    "        "
   ]
  },
  {
   "cell_type": "code",
   "execution_count": 3,
   "metadata": {
    "execution_event_id": "97b462fb-8bc6-4127-afe7-e3efe1a4cbb5",
    "last_executed_text": "# Define the Einstein-DeSitter cosmology (Matter Dominated)\nOmegaMD = 1\nOmegaRD = 0\nOmegaLD = 0\n# h is the same = h_planck\n\n",
    "persistent_id": "61e8d205-5658-4568-ae01-da18f13a962b"
   },
   "outputs": [],
   "source": [
    "# Define the Einstein-DeSitter cosmology (Matter Dominated)\n",
    "OmegaMD = 1\n",
    "OmegaRD = 0\n",
    "OmegaLD = 0\n",
    "# h is the same = h_planck\n",
    "\n"
   ]
  },
  {
   "cell_type": "markdown",
   "metadata": {},
   "source": [
    "\n",
    "# Part 1 :  Look Back Time\n",
    "\n",
    "A) \n",
    "\n",
    "Complete the function ``LookBackTime`` that takes as inputs the desired redshift and returns the corresponding time (Gyr ago). To do this, we need to Numerically integrate :\n",
    "\n",
    "\n",
    "$ t_L = \\int_0^z \\frac{dz'}{(1+z') H(z')}$\n",
    "\n",
    "\n",
    "The scipy function ``simps`` is really useful for numerical integration. At the start of the program I have \n",
    "imported this module:  ``from scipy.integrate import simps`` \n",
    "\n",
    "\n",
    "To use it, I have already defined an array with redshifts, spaced in intervals of 0.001\n",
    "    \n",
    "``zrange = np.arange(zo, ze, 1e-3)``\n",
    "\n",
    "Where zo is the redshift of the observer (it's us, so zo= 0).  And ze is the redshift of the emitter. \n",
    "\n",
    "Next define the integrand and utilize simps to integrate:\n",
    "\n",
    "``simps(y(x), x)``\n",
    "\n",
    "\n",
    "B) \n",
    "\n",
    "- How many Gyr ago was z = 1 in the benchmark cosmology? \n",
    "- What is the age of the universe in the benchmark cosmology?  Use a large z value to estimate this. \n",
    "- What is the age in the Einstein De Sitter cosmology (where $\\Omega_m=1$ and all other density parameters are 0) ? \n",
    "- Which cosmology results in the youngest age for the universe? \n",
    "\n",
    "\n",
    "C) \n",
    "\n",
    "Complete the plot template for Look Back Time as a function of 1+ z for both the benchmark and Einstein De Sitter cosmologies. You will need loop over the ``LookBackTime`` function  from z = (0, 50) using a list comprehension. Follow the instructions in the template. \n",
    "\n",
    "List Comprehension Syntax: ``[ expression for item in list if conditional ]``\n",
    "This is equivalent to:\n",
    "\n",
    "``for item in list:``\n",
    "\n",
    "``     if conditional:``\n",
    "    \n",
    "``        expression``\n"
   ]
  },
  {
   "cell_type": "markdown",
   "metadata": {},
   "source": [
    "# Part 2:  Comoving and Proper Distance\n",
    "\n",
    "\n",
    "A)\n",
    "\n",
    "Complete the function  ``ComovingDistance`` that takes as input: the redshift when the photon was observed and the redshift when the photon was emitted.  The function returns the Comoving Radial Distance from an observer at z=z_o, $D_C(z)$, by numerically integrating the following: \n",
    "\n",
    "$D_C(z) = c \\int_{z_0}^{z_e} \\frac{dz'}{H(z)}$\n",
    "\n",
    "Where $c$ is the speed of light.  If $z_0$=0, $D_C(0)$ is equivalent to the proper distance to that object today (line of sight distance).\n",
    " \n",
    "B)\n",
    "- What is the size of the observable universe in the Benchmark cosmology today?  (use a large redshift) \n",
    "- What is the size in the Einstein De Sitter cosmology?  Which is smaller? \n",
    "\n",
    "\n",
    "C)\n",
    "\n",
    "What is the current radial distance between two galaxies that are closely located on the sky, where one is at z=0.01 and the second galaxy is at z =0.05 ?\n",
    "\n",
    "\n",
    "D) \n",
    "\n",
    "Complete the function ``ProperDistance`` that takes as input the the redshift when the photon was observed and emitted and returns the Proper Distance at that observed redshift.  I.e. it computes:\n",
    "\n",
    "$\\frac{D_C(z)}{(1+z_0)}$  \n",
    "\n",
    "If $z_0$=0 this function returns the same value as the `ComovingDistance` function.\n",
    "\n",
    "\n",
    "E) \n",
    "\n",
    "What is the size of the observable universe at z=2 ? \n",
    "\n",
    "F) \n",
    "\n",
    "Plot the Horizon Distance as a Function of Redshift out to z=10 for the BenchMark and Einstein DeSitter Cosmology\n",
    "\n",
    "\n"
   ]
  },
  {
   "cell_type": "markdown",
   "metadata": {},
   "source": [
    "# Part 3:  Luminosity Distance\n",
    "\n",
    "Determining distances to standard candles\n",
    "\n",
    "\n",
    "A)\n",
    "\n",
    "Complete the function ``LuminosityDistanc`` that takes as input the emitted redshift and returns\n",
    "\n",
    "$D_L = D_C(1+z)$\n",
    "\n",
    "B)\n",
    "\n",
    "Consider a Type 1A  Supernova (absolute magnitude M = -19.3 $\\pm$ 0.3) that goes off at an unknown redshift.  We measure an apparent magnitude m = 25.1. \n",
    "\n",
    "- What is the inferred Luminosity Distance ($D_{LSne}$) ? \n",
    "\n",
    "\n",
    "$m-M = 5 Log(D_{LSne}/{\\rm Mpc})  + 25  \\qquad  D_{LSne} =  10^{(m - M - 25)/5}$\n",
    "\n",
    "\n",
    "-  Using the function ``LuminosityDistance``, what redshift most closely returns the inferred $D_{LSne}$?\n",
    "\n",
    "-  Using the function ``ProperDistance``, what is the proper distance from an observer on earth to the supernova? \n",
    "(note you could equivalently use the function ``ComovingDistance``)\n"
   ]
  },
  {
   "cell_type": "markdown",
   "metadata": {},
   "source": [
    "# Part 4 : Angular Diameter Distance\n",
    "\n",
    "Translating angular separations into projected distances. \n",
    "\n",
    "A)\n",
    "\n",
    "Complete the function ``AngularDiameterDistance``, which takes as input the desired redshift and returns\n",
    "\n",
    "$D_A = D_C/(1+z)$. \n",
    "\n",
    "B)\n",
    "\n",
    "Complete the function ``Separation``, which takes as input the desired redshift and angle (assumed to be in arcsec) between two galaxies and returns their projected separation. \n",
    "\n",
    "\n",
    "$\\theta = \\frac{D_{\\rm sep}}{D_A}$\n",
    "\n",
    "\n",
    "C) \n",
    "\n",
    "Consider two galaxies that are located at an average redshift of 1.0 and separated by an angle of 1''.  What is their physical separation in kpc ?\n",
    "\n"
   ]
  },
  {
   "cell_type": "code",
   "execution_count": 54,
   "metadata": {
    "execution_event_id": "873434e7-5f93-471e-8aff-7aa168bdea95",
    "last_executed_text": "class CosmologicalTools:\n    # Define a class that provides functions to compute various cosmological quantities\n    # for a given cosmology  \n        \n    def __init__(self, OmegaM0, OmegaR0, OmegaL0, h):\n        # initialize the instance of the class - for any given Cosmology\n        # Input:    Omega M matter density parameter at z=0\n        #           Omega R radiation density parameter at z=0\n        #           Omega L  dark energy density parameter at z=0\n        #           h  normalization for the hubble parameter at z=0\n        \n        # initialize the cosmology at z=0\n        self.OmegaM0 = OmegaM0    ### Matter Density Parameter\n        self.OmegaR0 = OmegaR0    ### Radiation Density Parameter\n        self.OmegaL0 = OmegaL0    ### Dark Energy Density Parameter\n        self.OmegaK0 = 1 - (OmegaM0 + OmegaR0 + OmegaL0)    #### Curvature Density Parameter\n    \n        self.h = h   # Normalization of Hubble Parameter   \n        self.Ho = h*100*u.km/u.s/u.Mpc #  Hubble Constant at z=0  100 h km/s/Mpc\n    \n    \n    # Question 1 A)\n    def HubbleParameter(self, z):\n        # Function that defines the Hubble Parameter as a function of redshift\n        # Input:   Redshift z \n        # Returns: The Hubble parameter at the given redshift in units of km/s/Mpc        \n        \n        # FILL THIS IN \n        M = self.OmegaM0*(1+z)**3\n        R = self.OmegaR0*(1+z)**4\n        L = self.OmegaL0\n        K = self.OmegaK0*(1+z)**2\n        \n        return  self.Ho*np.sqrt(M+R+L+K)\n    \n    \n    \n    # Question 2 A)\n    def OmegaM_Z(self,z):\n        # Function that defines the matter density parameter as a function of redshift\n        # Input:  Redshift z . Can be an array\n        # Output:  Matter Density Parameter at the given redshift.\n        \n        # FILL THIS IN\n        return self.OmegaM0*(1+z)**3*self.Ho**2/self.HubbleParameter(z)**2\n    \n    def OmegaR_Z(self,z):\n        # Function that defines the radiation density parameter as a function of redshift\n        # Input:  Redshift z . Can be an array\n        # Output:  Radiation Density Parameter at the given redshift.\n        \n        # FILL THIS IN\n        return self.OmegaR0*(1+z)**4*self.Ho**2/self.HubbleParameter(z)**2\n    \n    \n    def OmegaL_Z(self,z):\n        # Function that defines the dark energy density parameter as a function of redshift\n        # Input:  Redshift z . Can be an array\n        # Output:  Dark Energy Density Parameter at the given redshift.\n        \n        # FILL THIS IN\n        return self.OmegaL0*self.Ho**2/self.HubbleParameter(z)**2\n    \n    \n    ###########################\n    # Lab 12 Starts Here\n    ###########################\n    \n    \n    # Question 1 A) \n    \n    def LookBackTime(self, ze):\n    # Function that computes the look back time at a given redshift\n    # i.e. the difference in time from when a photon was emitted to when it is observed at present day.\n    # Input:    Redshift emitted (ze). This cannot be an array. \n    # Output:   Time in units of Gyr Ago  (relative to present day). This is not an array  \n    \n        # Observed redshift  \n        zo = 0\n    \n        # define an array with redshifts, spaced in intervals of 0.001 from zo to ze\n        zrange = np.arange(zo, ze, 1e-3)\n        \n        # y = (1/H(zrange)).to(GYR)  /  (1+zrange)\n        # But need to correct units of 1/H to be Gyr rather than seconds  \n        # use the astropy.units functionality .to(units)\n        # FILL THIS IN \n        y = (1/self.HubbleParameter(zrange)).to(u.Gyr)/(1+zrange)\n        \n        \n        # Integrate y(zrange) numerically over zrange and return in units of Gyr\n        # FILL THIS IN \n        return simps(y,zrange)*u.Gyr\n    \n    \n    # Question 2 A) \n    \n    def ComovingDistance(self, ze):\n    # Function that returns the Comoving Radial Distance to an object at a given redshift\n    # Distance to a galaxy that is moving with the Hubble Flow (expanding universe) at a given redshift\n    # Input:    Redshift emitted (ze) \n    # Output:   DC in Mpc\n\n    \n        # define an array with redshifts, spaced  in intervals of 0.001\n        # Note that if you want redshifts smaller than 0.001 you'll need to refine this\n        zrange = np.arange(0, ze, 1e-3)\n    \n        # 1/H(zrange)*speed of light\n        # Speed of light is loaded in modules from astropy, but in units of m/s --> need in km/s\n        # FILL THIS IN\n        y = 1/self.HubbleParameter(zrange)*c.to(u.km/u.s)\n    \n        # Integrate y numerically over zrange and return in units of Mpc\n        # FILL THIS IN \n        return simps(y,zrange)*u.Mpc\n    \n    \n    # Question 2 D) \n    \n    def ProperDistance(self, zo, ze):\n    # Function that returns the Proper Distance at a given redshift (the distance measured by a ruler)\n    # Input:    Redshift observed (zo) \n    #           Redshift of object (ze)\n    # Output:   Proper Distance in Mpc\n    \n        # FILL THIS IN\n        # Comoving Distance (to emitted photon) [ independent of time] x the scale factor at the time of observation.\n        return self.ComovingDistance(ze)/(1+zo)\n\n \n    # Question 3 A)\n    \n    def LuminosityDistance(self, ze): \n    # Function that computes DL, the luminosity distance of a galaxy at a given redshift\n    # Input:    Redshift emitted (ze) \n    # Output:   DL  in Mpc\n    \n        # Return  DL = DC*(1+z)\n        # FILL THIS IN\n        return self.ComovingDistance(ze)*(1+ze)\n    \n\n    # Question 4 A)\n    \n    def AngularDiameterDistance(self, ze): \n    # Function that computes DA, the angular diameter distance at a given redshift\n    # This is the proper distance between us and the source, at the time the photons were emitted.\n    # Physical size of angular separation of 1 degree\n    # Input:   Redshift emitted (ze)\n    # Output:   DA  in Mpc\n    \n        # # FILL THIS IN\n        # DA = DC/(1+z_emitted) = DL/(1+z)**2\n        return self.ComovingDistance(ze)/(1+ze)\n    \n    \n    # Question 4 B) \n    \n    def Separation(self, ze, angle):\n    # Function to compute the physical distance corresponding to an angular separation at a given redshift\n    # Input:    Redshift emmitted ze ,  \n    #           angle: Angle between galaxies in arcsec\n    # Output:  Distance in kpc\n    \n        # convert angle from arcsec to radians\n        angleRad = (angle*u.arcsec).to(u.rad)\n    \n         # FILL THIS IN\n        #   DA*angleRad\n        return (self.AngularDiameterDistance(ze)*angleRad/u.rad).to(u.kpc)\n    \n    \n\n    \n    ",
    "persistent_id": "a4122f5a-4440-4d1c-ac15-e848d168770a"
   },
   "outputs": [],
   "source": [
    "class CosmologicalTools:\n",
    "    # Define a class that provides functions to compute various cosmological quantities\n",
    "    # for a given cosmology  \n",
    "        \n",
    "    def __init__(self, OmegaM0, OmegaR0, OmegaL0, h):\n",
    "        # initialize the instance of the class - for any given Cosmology\n",
    "        # Input:    Omega M matter density parameter at z=0\n",
    "        #           Omega R radiation density parameter at z=0\n",
    "        #           Omega L  dark energy density parameter at z=0\n",
    "        #           h  normalization for the hubble parameter at z=0\n",
    "        \n",
    "        # initialize the cosmology at z=0\n",
    "        self.OmegaM0 = OmegaM0    ### Matter Density Parameter\n",
    "        self.OmegaR0 = OmegaR0    ### Radiation Density Parameter\n",
    "        self.OmegaL0 = OmegaL0    ### Dark Energy Density Parameter\n",
    "        self.OmegaK0 = 1 - (OmegaM0 + OmegaR0 + OmegaL0)    #### Curvature Density Parameter\n",
    "    \n",
    "        self.h = h   # Normalization of Hubble Parameter   \n",
    "        self.Ho = h*100*u.km/u.s/u.Mpc #  Hubble Constant at z=0  100 h km/s/Mpc\n",
    "    \n",
    "    \n",
    "    # Question 1 A)\n",
    "    def HubbleParameter(self, z):\n",
    "        # Function that defines the Hubble Parameter as a function of redshift\n",
    "        # Input:   Redshift z \n",
    "        # Returns: The Hubble parameter at the given redshift in units of km/s/Mpc        \n",
    "        \n",
    "        # FILL THIS IN \n",
    "        M = self.OmegaM0*(1+z)**3\n",
    "        R = self.OmegaR0*(1+z)**4\n",
    "        L = self.OmegaL0\n",
    "        K = self.OmegaK0*(1+z)**2\n",
    "        \n",
    "        return  self.Ho*np.sqrt(M+R+L+K)\n",
    "    \n",
    "    \n",
    "    \n",
    "    # Question 2 A)\n",
    "    def OmegaM_Z(self,z):\n",
    "        # Function that defines the matter density parameter as a function of redshift\n",
    "        # Input:  Redshift z . Can be an array\n",
    "        # Output:  Matter Density Parameter at the given redshift.\n",
    "        \n",
    "        # FILL THIS IN\n",
    "        return self.OmegaM0*(1+z)**3*self.Ho**2/self.HubbleParameter(z)**2\n",
    "    \n",
    "    def OmegaR_Z(self,z):\n",
    "        # Function that defines the radiation density parameter as a function of redshift\n",
    "        # Input:  Redshift z . Can be an array\n",
    "        # Output:  Radiation Density Parameter at the given redshift.\n",
    "        \n",
    "        # FILL THIS IN\n",
    "        return self.OmegaR0*(1+z)**4*self.Ho**2/self.HubbleParameter(z)**2\n",
    "    \n",
    "    \n",
    "    def OmegaL_Z(self,z):\n",
    "        # Function that defines the dark energy density parameter as a function of redshift\n",
    "        # Input:  Redshift z . Can be an array\n",
    "        # Output:  Dark Energy Density Parameter at the given redshift.\n",
    "        \n",
    "        # FILL THIS IN\n",
    "        return self.OmegaL0*self.Ho**2/self.HubbleParameter(z)**2\n",
    "    \n",
    "    \n",
    "    ###########################\n",
    "    # Lab 12 Starts Here\n",
    "    ###########################\n",
    "    \n",
    "    \n",
    "    # Question 1 A) \n",
    "    \n",
    "    def LookBackTime(self, ze):\n",
    "    # Function that computes the look back time at a given redshift\n",
    "    # i.e. the difference in time from when a photon was emitted to when it is observed at present day.\n",
    "    # Input:    Redshift emitted (ze). This cannot be an array. \n",
    "    # Output:   Time in units of Gyr Ago  (relative to present day). This is not an array  \n",
    "    \n",
    "        # Observed redshift  \n",
    "        zo = 0\n",
    "    \n",
    "        # define an array with redshifts, spaced in intervals of 0.001 from zo to ze\n",
    "        zrange = np.arange(zo, ze, 1e-3)\n",
    "        \n",
    "        # y = (1/H(zrange)).to(GYR)  /  (1+zrange)\n",
    "        # But need to correct units of 1/H to be Gyr rather than seconds  \n",
    "        # use the astropy.units functionality .to(units)\n",
    "        # FILL THIS IN \n",
    "        y = (1/self.HubbleParameter(zrange)).to(u.Gyr)/(1+zrange)\n",
    "        \n",
    "        \n",
    "        # Integrate y(zrange) numerically over zrange and return in units of Gyr\n",
    "        # FILL THIS IN \n",
    "        return simps(y,zrange)*u.Gyr\n",
    "    \n",
    "    \n",
    "    # Question 2 A) \n",
    "    \n",
    "    def ComovingDistance(self, ze):\n",
    "    # Function that returns the Comoving Radial Distance to an object at a given redshift\n",
    "    # Distance to a galaxy that is moving with the Hubble Flow (expanding universe) at a given redshift\n",
    "    # Input:    Redshift emitted (ze) \n",
    "    # Output:   DC in Mpc\n",
    "\n",
    "    \n",
    "        # define an array with redshifts, spaced  in intervals of 0.001\n",
    "        # Note that if you want redshifts smaller than 0.001 you'll need to refine this\n",
    "        zrange = np.arange(0, ze, 1e-3)\n",
    "    \n",
    "        # 1/H(zrange)*speed of light\n",
    "        # Speed of light is loaded in modules from astropy, but in units of m/s --> need in km/s\n",
    "        # FILL THIS IN\n",
    "        y = 1/self.HubbleParameter(zrange)*c.to(u.km/u.s)\n",
    "    \n",
    "        # Integrate y numerically over zrange and return in units of Mpc\n",
    "        # FILL THIS IN \n",
    "        return simps(y,zrange)*u.Mpc\n",
    "    \n",
    "    \n",
    "    # Question 2 D) \n",
    "    \n",
    "    def ProperDistance(self, zo, ze):\n",
    "    # Function that returns the Proper Distance at a given redshift (the distance measured by a ruler)\n",
    "    # Input:    Redshift observed (zo) \n",
    "    #           Redshift of object (ze)\n",
    "    # Output:   Proper Distance in Mpc\n",
    "    \n",
    "        # FILL THIS IN\n",
    "        # Comoving Distance (to emitted photon) [ independent of time] x the scale factor at the time of observation.\n",
    "        return self.ComovingDistance(ze)/(1+zo)\n",
    "\n",
    " \n",
    "    # Question 3 A)\n",
    "    \n",
    "    def LuminosityDistance(self, ze): \n",
    "    # Function that computes DL, the luminosity distance of a galaxy at a given redshift\n",
    "    # Input:    Redshift emitted (ze) \n",
    "    # Output:   DL  in Mpc\n",
    "    \n",
    "        # Return  DL = DC*(1+z)\n",
    "        # FILL THIS IN\n",
    "        return self.ComovingDistance(ze)*(1+ze)\n",
    "    \n",
    "\n",
    "    # Question 4 A)\n",
    "    \n",
    "    def AngularDiameterDistance(self, ze): \n",
    "    # Function that computes DA, the angular diameter distance at a given redshift\n",
    "    # This is the proper distance between us and the source, at the time the photons were emitted.\n",
    "    # Physical size of angular separation of 1 degree\n",
    "    # Input:   Redshift emitted (ze)\n",
    "    # Output:   DA  in Mpc\n",
    "    \n",
    "        # # FILL THIS IN\n",
    "        # DA = DC/(1+z_emitted) = DL/(1+z)**2\n",
    "        return self.ComovingDistance(ze)/(1+ze)\n",
    "    \n",
    "    \n",
    "    # Question 4 B) \n",
    "    \n",
    "    def Separation(self, ze, angle):\n",
    "    # Function to compute the physical distance corresponding to an angular separation at a given redshift\n",
    "    # Input:    Redshift emmitted ze ,  \n",
    "    #           angle: Angle between galaxies in arcsec\n",
    "    # Output:  Distance in kpc\n",
    "    \n",
    "        # convert angle from arcsec to radians\n",
    "        angleRad = (angle*u.arcsec).to(u.rad)\n",
    "    \n",
    "         # FILL THIS IN\n",
    "        #   DA*angleRad\n",
    "        return (self.AngularDiameterDistance(ze)*angleRad/u.rad).to(u.kpc)\n",
    "    \n",
    "    \n",
    "\n",
    "    \n",
    "    "
   ]
  },
  {
   "cell_type": "code",
   "execution_count": 55,
   "metadata": {
    "execution_event_id": "6e0f02e9-f04c-486b-a2eb-48fcfd0f87d4",
    "last_executed_text": "# Define here an instance of the Class Cosmological Tools that follows the Benchmark Cosmology\nBenchMark = CosmologicalTools(OmegaM0_planck,OmegaR0_planck,OmegaL0_planck,h_planck)\n",
    "persistent_id": "9ec74341-3619-4dec-9730-4b3253e37073"
   },
   "outputs": [],
   "source": [
    "# Define here an instance of the Class Cosmological Tools that follows the Benchmark Cosmology\n",
    "BenchMark = CosmologicalTools(OmegaM0_planck,OmegaR0_planck,OmegaL0_planck,h_planck)\n"
   ]
  },
  {
   "cell_type": "code",
   "execution_count": 56,
   "metadata": {
    "execution_event_id": "e99ba5ab-c7e2-4acc-b54c-ece0f6c1e5f8",
    "last_executed_text": "# Define a New Instance of the Class with Einstein De Sitter Cosmology \nDeSitter = CosmologicalTools(OmegaMD,OmegaRD,OmegaLD,h_planck)",
    "persistent_id": "40952956-831b-458d-8161-69cdf1f5665a"
   },
   "outputs": [],
   "source": [
    "# Define a New Instance of the Class with Einstein De Sitter Cosmology \n",
    "DeSitter = CosmologicalTools(OmegaMD,OmegaRD,OmegaLD,h_planck)"
   ]
  },
  {
   "cell_type": "markdown",
   "metadata": {},
   "source": [
    "##  Question 1 B) "
   ]
  },
  {
   "cell_type": "code",
   "execution_count": null,
   "metadata": {
    "persistent_id": "8d4c11a2-49ec-47b2-9219-d88f70226b99"
   },
   "outputs": [],
   "source": [
    "# Question 1 B) \n",
    "\n",
    "# How many Gyr ago was z=1 in the Benchmark cosmology?\n"
   ]
  },
  {
   "cell_type": "code",
   "execution_count": 7,
   "metadata": {
    "execution_event_id": "1817c8a5-5db6-4eb4-a4dd-f5a4d835341e",
    "last_executed_text": "BenchMark.LookBackTime(1)",
    "persistent_id": "c60ffb17-bb62-43a7-bcba-3574ff64f664"
   },
   "outputs": [
    {
     "data": {
      "text/latex": [
       "$7.926721 \\; \\mathrm{Gyr}$"
      ],
      "text/plain": [
       "<Quantity 7.92672101 Gyr>"
      ]
     },
     "execution_count": 7,
     "metadata": {},
     "output_type": "execute_result"
    }
   ],
   "source": [
    "BenchMark.LookBackTime(1)"
   ]
  },
  {
   "cell_type": "code",
   "execution_count": 9,
   "metadata": {
    "execution_event_id": "9178f03b-7c52-4f7e-9cf9-8236f865bbb5",
    "last_executed_text": "BenchMark.LookBackTime(10)",
    "persistent_id": "c77d9209-e6d1-4f3a-be55-4889df941679"
   },
   "outputs": [
    {
     "data": {
      "text/latex": [
       "$13.322265 \\; \\mathrm{Gyr}$"
      ],
      "text/plain": [
       "<Quantity 13.32226524 Gyr>"
      ]
     },
     "execution_count": 9,
     "metadata": {},
     "output_type": "execute_result"
    }
   ],
   "source": [
    "BenchMark.LookBackTime(10)"
   ]
  },
  {
   "cell_type": "code",
   "execution_count": 10,
   "metadata": {
    "execution_event_id": "19de07a7-ff98-44da-a650-ab32aed24bee",
    "last_executed_text": "# Question 1 B) \n\n# What is the Age of the Universe in the Benchmark Cosmology  (put in a large z)\n\nBenchMark.LookBackTime(1000)\n",
    "persistent_id": "960097f8-1623-4899-bf82-222fd39ea1a1"
   },
   "outputs": [
    {
     "data": {
      "text/latex": [
       "$13.794599 \\; \\mathrm{Gyr}$"
      ],
      "text/plain": [
       "<Quantity 13.79459933 Gyr>"
      ]
     },
     "execution_count": 10,
     "metadata": {},
     "output_type": "execute_result"
    }
   ],
   "source": [
    "# Question 1 B) \n",
    "\n",
    "# What is the Age of the Universe in the Benchmark Cosmology  (put in a large z)\n",
    "\n",
    "BenchMark.LookBackTime(1000)\n"
   ]
  },
  {
   "cell_type": "code",
   "execution_count": 11,
   "metadata": {
    "execution_event_id": "2e9f9d0f-d985-4107-ad94-9986ad8aedb7",
    "last_executed_text": "# What is the Age of the Universe in the Einstein De Sitter Cosmology\nDeSitter.LookBackTime(1000)",
    "persistent_id": "97ea05c2-8c35-4e0a-bb59-dc52aeeda061"
   },
   "outputs": [
    {
     "data": {
      "text/latex": [
       "$9.6127547 \\; \\mathrm{Gyr}$"
      ],
      "text/plain": [
       "<Quantity 9.61275474 Gyr>"
      ]
     },
     "execution_count": 11,
     "metadata": {},
     "output_type": "execute_result"
    }
   ],
   "source": [
    "# What is the Age of the Universe in the Einstein De Sitter Cosmology\n",
    "DeSitter.LookBackTime(1000)"
   ]
  },
  {
   "cell_type": "code",
   "execution_count": 14,
   "metadata": {
    "execution_event_id": "05effdc7-101a-4fda-b6f9-cbc76ac80cb3",
    "last_executed_text": "# Inverse of the Hubble Parameter today is roughly the age of the universe. but not exactly.\n(1/BenchMark.HubbleParameter(0).to(u.km/u.km/u.Gyr))",
    "persistent_id": "121ee37a-d9e0-488e-aead-f04300662fdd"
   },
   "outputs": [
    {
     "data": {
      "text/latex": [
       "$14.419587 \\; \\mathrm{Gyr}$"
      ],
      "text/plain": [
       "<Quantity 14.4195874 Gyr>"
      ]
     },
     "execution_count": 14,
     "metadata": {},
     "output_type": "execute_result"
    }
   ],
   "source": [
    "# Inverse of the Hubble Parameter today is roughly the age of the universe. but not exactly.\n",
    "(1/BenchMark.HubbleParameter(0).to(u.km/u.km/u.Gyr))"
   ]
  },
  {
   "cell_type": "markdown",
   "metadata": {},
   "source": [
    "####  Which cosmology results in a younger universe?\n",
    "\n",
    "Einstein-DeSitter (Matter Dominated) Universe would be younger today\n"
   ]
  },
  {
   "cell_type": "markdown",
   "metadata": {},
   "source": [
    "## Question 1 C) "
   ]
  },
  {
   "cell_type": "code",
   "execution_count": 16,
   "metadata": {
    "execution_event_id": "01ba53e0-c512-4bd3-b91c-3c08b8f41042",
    "last_executed_text": "# Question 1 C)   Plotting Look Back Time\n\n# First define an array of redshift for the X axis\n# Define an array of redshift to some max redshift\nzmax = 50\nzmin = 0.001\nzrange = np.arange(zmin, zmax, 0.01)",
    "persistent_id": "d93f66e0-5b8c-495b-acd8-d361eb52d41f"
   },
   "outputs": [],
   "source": [
    "# Question 1 C)   Plotting Look Back Time\n",
    "\n",
    "# First define an array of redshift for the X axis\n",
    "# Define an array of redshift to some max redshift\n",
    "zmax = 50\n",
    "zmin = 0.001\n",
    "zrange = np.arange(zmin, zmax, 0.01)"
   ]
  },
  {
   "cell_type": "code",
   "execution_count": 22,
   "metadata": {
    "execution_event_id": "52bb1677-2c88-40f1-bc7c-a9782cd25b5a",
    "last_executed_text": "# Create a list comprehension to compute an array of Look Back Time for each element in zrange\n# NOTE THIS GENERATES A LIST NOT AN ARRAY\n\nTimeBenchMark = [BenchMark.LookBackTime(i).value for i in zrange ]\n",
    "persistent_id": "b8efa626-2032-4e26-a85b-3f827e34e1b9"
   },
   "outputs": [],
   "source": [
    "# Create a list comprehension to compute an array of Look Back Time for each element in zrange\n",
    "# NOTE THIS GENERATES A LIST NOT AN ARRAY\n",
    "\n",
    "TimeBenchMark = [BenchMark.LookBackTime(i).value for i in zrange ]\n"
   ]
  },
  {
   "cell_type": "code",
   "execution_count": 19,
   "metadata": {
    "execution_event_id": "89040b76-ba70-472e-8642-6b18af9c3e5f",
    "last_executed_text": "TimeDeSitter = [DeSitter.LookBackTime(i).value for i in zrange]",
    "persistent_id": "3f758c80-ab97-49dc-8e68-a89c15ecd9c7"
   },
   "outputs": [],
   "source": [
    "TimeDeSitter = [DeSitter.LookBackTime(i).value for i in zrange]"
   ]
  },
  {
   "cell_type": "code",
   "execution_count": 23,
   "metadata": {
    "execution_event_id": "4b3ed76d-d1b7-41e7-8bc8-7ac31a843bcf",
    "last_executed_text": "# Plot the Look Back Time as a Function of Redshift out to z=10\n################################################################\n\nfig = plt.figure(figsize=(10,10))\nax = plt.subplot(111)\n\n\n# Look Back Time Benchmark\n# FILL THIS IN\nplt.semilogx(1+zrange , TimeBenchMark,color='blue', linewidth=5, label='Benchmark')\n\n\n# Look Back Time Einstein De Sitter\n# FILL THIS IN\nplt.semilogx(1+zrange ,  TimeDeSitter, color='red', linewidth=5, label='DeSitter')\n\n\n# Add axis labels\nplt.xlabel('1+z', fontsize=22)\nplt.ylabel('Look Back Time (Gyr Ago)', fontsize=22)\n\n#adjust tick label font size\nlabel_size = 22\nmatplotlib.rcParams['xtick.labelsize'] = label_size \nmatplotlib.rcParams['ytick.labelsize'] = label_size\n\nlegend = ax.legend(loc='upper left',fontsize=20)\n\n# Save to a file\nax.set_rasterized(True)\nplt.savefig('LookBackTime.png', rasterized=True, dpi=350)",
    "persistent_id": "e850a8f6-cce5-4604-a7b8-47e32c4384d0"
   },
   "outputs": [
    {
     "data": {
      "image/png": "[encoded data removed]",
      "text/plain": [
       "<Figure size 720x720 with 1 Axes>"
      ]
     },
     "metadata": {
      "needs_background": "light"
     },
     "output_type": "display_data"
    }
   ],
   "source": [
    "# Plot the Look Back Time as a Function of Redshift out to z=10\n",
    "################################################################\n",
    "\n",
    "fig = plt.figure(figsize=(10,10))\n",
    "ax = plt.subplot(111)\n",
    "\n",
    "\n",
    "# Look Back Time Benchmark\n",
    "# FILL THIS IN\n",
    "plt.semilogx(1+zrange , TimeBenchMark,color='blue', linewidth=5, label='Benchmark')\n",
    "\n",
    "\n",
    "# Look Back Time Einstein De Sitter\n",
    "# FILL THIS IN\n",
    "plt.semilogx(1+zrange ,  TimeDeSitter, color='red', linewidth=5, label='DeSitter')\n",
    "\n",
    "\n",
    "# Add axis labels\n",
    "plt.xlabel('1+z', fontsize=22)\n",
    "plt.ylabel('Look Back Time (Gyr Ago)', fontsize=22)\n",
    "\n",
    "#adjust tick label font size\n",
    "label_size = 22\n",
    "matplotlib.rcParams['xtick.labelsize'] = label_size \n",
    "matplotlib.rcParams['ytick.labelsize'] = label_size\n",
    "\n",
    "legend = ax.legend(loc='upper left',fontsize=20)\n",
    "\n",
    "# Save to a file\n",
    "ax.set_rasterized(True)\n",
    "plt.savefig('LookBackTime.png', rasterized=True, dpi=350)"
   ]
  },
  {
   "cell_type": "markdown",
   "metadata": {},
   "source": [
    "## Question 2 B)"
   ]
  },
  {
   "cell_type": "code",
   "execution_count": 27,
   "metadata": {
    "execution_event_id": "20b4705d-66cf-449e-8dcd-2cd190bd1c17",
    "last_executed_text": "# Question 2 B\n\n# What is the size of the presently observable universe in the Benchmark cosmology ? (pick a large z)\n# this is the size assuming the present day scale factor \nBenchMark.ComovingDistance(1000)",
    "persistent_id": "9752c37a-3f32-4374-8f1b-4be726357979"
   },
   "outputs": [
    {
     "data": {
      "text/latex": [
       "$13892.81 \\; \\mathrm{Mpc}$"
      ],
      "text/plain": [
       "<Quantity 13892.80996183 Mpc>"
      ]
     },
     "execution_count": 27,
     "metadata": {},
     "output_type": "execute_result"
    }
   ],
   "source": [
    "# Question 2 B\n",
    "\n",
    "# What is the size of the presently observable universe in the Benchmark cosmology ? (pick a large z)\n",
    "# this is the size assuming the present day scale factor \n",
    "BenchMark.ComovingDistance(1000)"
   ]
  },
  {
   "cell_type": "code",
   "execution_count": 28,
   "metadata": {
    "execution_event_id": "0b015032-b7e8-42d0-8fcd-42a6ccc1dcf6",
    "last_executed_text": "# What is the size of the presently observable universe in the Einstein De Sitter cosmology? (pick a large z)\nDeSitter.ComovingDistance(1000)",
    "persistent_id": "68418cf6-ae06-4ace-ae0a-3500f3d0870e"
   },
   "outputs": [
    {
     "data": {
      "text/latex": [
       "$8562.658 \\; \\mathrm{Mpc}$"
      ],
      "text/plain": [
       "<Quantity 8562.65801348 Mpc>"
      ]
     },
     "execution_count": 28,
     "metadata": {},
     "output_type": "execute_result"
    }
   ],
   "source": [
    "# What is the size of the presently observable universe in the Einstein De Sitter cosmology? (pick a large z)\n",
    "DeSitter.ComovingDistance(1000)"
   ]
  },
  {
   "cell_type": "code",
   "execution_count": null,
   "metadata": {
    "persistent_id": "572aa2c7-b1b4-439c-9007-90d40574977e"
   },
   "outputs": [],
   "source": [
    "# Which is larger? \n",
    "\n",
    "# BenchMark is larger, and accordingly the universe is older today (1 B)"
   ]
  },
  {
   "cell_type": "markdown",
   "metadata": {},
   "source": [
    "## Question 2 C)"
   ]
  },
  {
   "cell_type": "code",
   "execution_count": null,
   "metadata": {
    "persistent_id": "b2521acd-e519-4205-80a8-8d85e7ce331b"
   },
   "outputs": [],
   "source": [
    "# What is the current distance between two closely located galaxies on the sky, where one galaxy\n",
    "# is  at z=0.01 and the second galaxy is at z =0.05 ?"
   ]
  },
  {
   "cell_type": "code",
   "execution_count": 29,
   "metadata": {
    "execution_event_id": "f79af373-7f54-4f6f-986e-c851ea86d08e",
    "last_executed_text": "z1 = 0.01\nz2 = 0.05",
    "persistent_id": "505d5017-5ded-45e9-8cf2-9a8a896e5ae0"
   },
   "outputs": [],
   "source": [
    "z1 = 0.01\n",
    "z2 = 0.05"
   ]
  },
  {
   "cell_type": "code",
   "execution_count": 30,
   "metadata": {
    "execution_event_id": "a6545333-6c2b-4abc-b32a-46ed5419eeb1",
    "last_executed_text": "# What is their comoving separation at each redshift\n\nDist_z1 = BenchMark.ComovingDistance(z1)\n\nDist_z2 = BenchMark.ComovingDistance(z2)\n\n\n# Find the difference\n\nDist = Dist_z2-Dist_z1\n\nDist",
    "persistent_id": "f3fec705-d8c1-494f-93b5-adc3a80a4244"
   },
   "outputs": [
    {
     "data": {
      "text/latex": [
       "$174.44993 \\; \\mathrm{Mpc}$"
      ],
      "text/plain": [
       "<Quantity 174.44993323 Mpc>"
      ]
     },
     "execution_count": 30,
     "metadata": {},
     "output_type": "execute_result"
    }
   ],
   "source": [
    "# What is their comoving separation at each redshift\n",
    "\n",
    "Dist_z1 = BenchMark.ComovingDistance(z1)\n",
    "\n",
    "Dist_z2 = BenchMark.ComovingDistance(z2)\n",
    "\n",
    "\n",
    "# Find the difference\n",
    "\n",
    "Dist = Dist_z2-Dist_z1\n",
    "\n",
    "Dist"
   ]
  },
  {
   "cell_type": "code",
   "execution_count": 31,
   "metadata": {
    "execution_event_id": "ca8e1099-f957-4f98-8ead-2cbe73c3458a",
    "last_executed_text": "# Physical Distance AT THAT Redshift: Proper Distance = R(t)u = u/(1+z)\n# Need to multiply by the correct scale factor 1/ (1+zavg)\n\nzavg = (z1+z2)/2\nDist/(1+zavg)\n",
    "persistent_id": "d888f545-6530-40a7-945f-eee4021971d2"
   },
   "outputs": [
    {
     "data": {
      "text/latex": [
       "$169.36887 \\; \\mathrm{Mpc}$"
      ],
      "text/plain": [
       "<Quantity 169.36886721 Mpc>"
      ]
     },
     "execution_count": 31,
     "metadata": {},
     "output_type": "execute_result"
    }
   ],
   "source": [
    "# Physical Distance AT THAT Redshift: Proper Distance = R(t)u = u/(1+z)\n",
    "# Need to multiply by the correct scale factor 1/ (1+zavg)\n",
    "\n",
    "zavg = (z1+z2)/2\n",
    "Dist/(1+zavg)\n"
   ]
  },
  {
   "cell_type": "markdown",
   "metadata": {},
   "source": [
    "## Question 2 E)"
   ]
  },
  {
   "cell_type": "code",
   "execution_count": 37,
   "metadata": {
    "execution_event_id": "67183b4a-ddfe-47a8-b521-332725b3a3d5",
    "last_executed_text": "# First double check, that the proper distance = comoving radial distance if z_obs=0   (line of sight distance)\nBenchMark.ProperDistance(0,1000)",
    "persistent_id": "bc1c66e9-8cac-48ce-87af-0f66a6f27b4b"
   },
   "outputs": [
    {
     "data": {
      "text/latex": [
       "$13892.81 \\; \\mathrm{Mpc}$"
      ],
      "text/plain": [
       "<Quantity 13892.80996183 Mpc>"
      ]
     },
     "execution_count": 37,
     "metadata": {},
     "output_type": "execute_result"
    }
   ],
   "source": [
    "# First double check, that the proper distance = comoving radial distance if z_obs=0   (line of sight distance)\n",
    "BenchMark.ProperDistance(0,1000)"
   ]
  },
  {
   "cell_type": "code",
   "execution_count": 38,
   "metadata": {
    "execution_event_id": "e3a6987c-4a29-48fa-bf44-32994490f99e",
    "last_executed_text": "# What is the size of the observable universe at z=2? \nBenchMark.ProperDistance(2,1000)",
    "persistent_id": "aa007f99-d7d8-43d1-afd1-6727ae897a39"
   },
   "outputs": [
    {
     "data": {
      "text/latex": [
       "$4630.9367 \\; \\mathrm{Mpc}$"
      ],
      "text/plain": [
       "<Quantity 4630.93665394 Mpc>"
      ]
     },
     "execution_count": 38,
     "metadata": {},
     "output_type": "execute_result"
    }
   ],
   "source": [
    "# What is the size of the observable universe at z=2? \n",
    "BenchMark.ProperDistance(2,1000)"
   ]
  },
  {
   "cell_type": "code",
   "execution_count": 39,
   "metadata": {
    "execution_event_id": "084ad75d-6e3b-40d0-895a-7c120c47dff5",
    "last_executed_text": "# how much larger was the universe then vs now?\n# expect (1+z) factor of expansion, size of universe changes by the scale factor. \nBenchMark.ProperDistance(0,1000)/BenchMark.ProperDistance(2,1000)",
    "persistent_id": "2a49df03-74dc-4e3b-9876-abc8d3b2f67e"
   },
   "outputs": [
    {
     "data": {
      "text/latex": [
       "$3 \\; \\mathrm{}$"
      ],
      "text/plain": [
       "<Quantity 3.>"
      ]
     },
     "execution_count": 39,
     "metadata": {},
     "output_type": "execute_result"
    }
   ],
   "source": [
    "# how much larger was the universe then vs now?\n",
    "# expect (1+z) factor of expansion, size of universe changes by the scale factor. \n",
    "BenchMark.ProperDistance(0,1000)/BenchMark.ProperDistance(2,1000)"
   ]
  },
  {
   "cell_type": "markdown",
   "metadata": {},
   "source": [
    "##  Question 2 F)"
   ]
  },
  {
   "cell_type": "code",
   "execution_count": 40,
   "metadata": {
    "execution_event_id": "742da726-88e3-45e3-a6ca-62d29dd3852e",
    "last_executed_text": "zmax = 10\nzmin = 0.001\nzrange2 = np.arange(zmin, zmax, 0.5)",
    "persistent_id": "ea0875c6-153c-4b88-88de-1d0a5540ae19"
   },
   "outputs": [],
   "source": [
    "zmax = 10\n",
    "zmin = 0.001\n",
    "zrange2 = np.arange(zmin, zmax, 0.5)"
   ]
  },
  {
   "cell_type": "code",
   "execution_count": 43,
   "metadata": {
    "execution_event_id": "f34399fb-110c-44f9-8458-9bf42ebfae65",
    "last_executed_text": "# What is the size of the universe at each redshit in each cosmology\n\nHorizonBenchMark = [BenchMark.ProperDistance(i,1000).value for i in zrange2]\nHorizonDeSitter = [DeSitter.ProperDistance(i,1000).value for i in zrange2]\n",
    "persistent_id": "67a65346-0976-4378-8565-53e18a5575eb"
   },
   "outputs": [],
   "source": [
    "# What is the size of the universe at each redshit in each cosmology\n",
    "\n",
    "HorizonBenchMark = [BenchMark.ProperDistance(i,1000).value for i in zrange2]\n",
    "HorizonDeSitter = [DeSitter.ProperDistance(i,1000).value for i in zrange2]\n"
   ]
  },
  {
   "cell_type": "code",
   "execution_count": 44,
   "metadata": {
    "execution_event_id": "a38f350c-c5d7-42f5-9451-2ba5aaddb5ee",
    "last_executed_text": "# Plot the Horizon Distance as a Function of Redshift out to z=10\n###############################################################################\n\nfig = plt.figure(figsize=(10,10))\nax = plt.subplot(111)\n\n\n# Comoving Distance\n# FILL THIS IN\nplt.semilogy(1+zrange2,HorizonBenchMark, linewidth=5, label='BenchMark')\n\nplt.semilogy(1+zrange2 ,HorizonDeSitter  , linewidth=5, label='DeSitter')\n\n\n# Add axis labels\nplt.xlabel('1+z', fontsize=22)\nplt.ylabel('Horizon Distance (Mpc)', fontsize=22)\n\n\n#adjust tick label font size\nlabel_size = 22\nmatplotlib.rcParams['xtick.labelsize'] = label_size \nmatplotlib.rcParams['ytick.labelsize'] = label_size\n\nlegend = ax.legend(loc='upper right',fontsize=20)\n\n# Save to a file\nax.set_rasterized(True)\nplt.savefig('HorizonDistance.png', rasterized=True, dpi=350)",
    "persistent_id": "9bb7c842-5c93-4229-b5e3-1b4cb1e951db"
   },
   "outputs": [
    {
     "data": {
      "image/png": "[encoded data removed]",
      "text/plain": [
       "<Figure size 720x720 with 1 Axes>"
      ]
     },
     "metadata": {
      "needs_background": "light"
     },
     "output_type": "display_data"
    }
   ],
   "source": [
    "# Plot the Horizon Distance as a Function of Redshift out to z=10\n",
    "###############################################################################\n",
    "\n",
    "fig = plt.figure(figsize=(10,10))\n",
    "ax = plt.subplot(111)\n",
    "\n",
    "\n",
    "# Comoving Distance\n",
    "# FILL THIS IN\n",
    "plt.semilogy(1+zrange2,HorizonBenchMark, linewidth=5, label='BenchMark')\n",
    "\n",
    "plt.semilogy(1+zrange2 ,HorizonDeSitter  , linewidth=5, label='DeSitter')\n",
    "\n",
    "\n",
    "# Add axis labels\n",
    "plt.xlabel('1+z', fontsize=22)\n",
    "plt.ylabel('Horizon Distance (Mpc)', fontsize=22)\n",
    "\n",
    "\n",
    "#adjust tick label font size\n",
    "label_size = 22\n",
    "matplotlib.rcParams['xtick.labelsize'] = label_size \n",
    "matplotlib.rcParams['ytick.labelsize'] = label_size\n",
    "\n",
    "legend = ax.legend(loc='upper right',fontsize=20)\n",
    "\n",
    "# Save to a file\n",
    "ax.set_rasterized(True)\n",
    "plt.savefig('HorizonDistance.png', rasterized=True, dpi=350)"
   ]
  },
  {
   "cell_type": "markdown",
   "metadata": {},
   "source": [
    "## Question 3 B)\n",
    "\n",
    " Luminosity distances are used to measure distances and infer redshifts for standard candles. \n",
    "\n",
    " Consider that you observe a Type Ia Supernova with an apparent magnitude, m = 25.1\n",
    " Absolute magnitude of a Type Ia Supernova is -19.3±0.03 \n",
    "\n",
    " Using the Benchmark cosmology, determine this Supernova's redshift\n"
   ]
  },
  {
   "cell_type": "code",
   "execution_count": 48,
   "metadata": {
    "execution_event_id": "b0341bec-8bd5-4743-8a38-8edfca3f5f51",
    "last_executed_text": "# Question 3 B) \n\n# First What is the Luminosity Distance? \n# m-M = 5*log(DL/Mpc) + 25\n\nm = 25.1\nM = -19.3\n\nDLSne = 10**((m-M-25.0)/5.0)*u.Mpc\nDLSne\n",
    "persistent_id": "f426ef28-4cce-4f91-acce-a22dee885d38"
   },
   "outputs": [
    {
     "data": {
      "text/latex": [
       "$7585.7758 \\; \\mathrm{Mpc}$"
      ],
      "text/plain": [
       "<Quantity 7585.77575029 Mpc>"
      ]
     },
     "execution_count": 48,
     "metadata": {},
     "output_type": "execute_result"
    }
   ],
   "source": [
    "# Question 3 B) \n",
    "\n",
    "# First What is the Luminosity Distance? \n",
    "# m-M = 5*log(DL/Mpc) + 25\n",
    "\n",
    "m = 25.1\n",
    "M = -19.3\n",
    "\n",
    "DLSne = 10**((m-M-25.0)/5.0)*u.Mpc\n",
    "DLSne\n"
   ]
  },
  {
   "cell_type": "code",
   "execution_count": 51,
   "metadata": {
    "execution_event_id": "2f4ebec5-5556-4865-b365-45236c79284c",
    "last_executed_text": "# Now reverse engineer the problem. What redshift gives you the right answer? \n# in reality the redshift is determined by identifying the redshift of the host.  \nBenchMark.LuminosityDistance(1.095)",
    "persistent_id": "cc59feef-a0b6-4f78-993a-cba8be151681"
   },
   "outputs": [
    {
     "data": {
      "text/latex": [
       "$7587.8455 \\; \\mathrm{Mpc}$"
      ],
      "text/plain": [
       "<Quantity 7587.84545591 Mpc>"
      ]
     },
     "execution_count": 51,
     "metadata": {},
     "output_type": "execute_result"
    }
   ],
   "source": [
    "# Now reverse engineer the problem. What redshift gives you the right answer? \n",
    "# in reality the redshift is determined by identifying the redshift of the host.  \n",
    "BenchMark.LuminosityDistance(1.095)"
   ]
  },
  {
   "cell_type": "code",
   "execution_count": 52,
   "metadata": {
    "execution_event_id": "2748c815-d514-416b-88f1-2c6390a5d3f7",
    "last_executed_text": "# What is the proper distance to this supernova given our current rate of expansion? \nBenchMark.ProperDistance(0,1.095)",
    "persistent_id": "a7c04d32-5066-4890-81c5-c1fc978d4162"
   },
   "outputs": [
    {
     "data": {
      "text/latex": [
       "$3621.8833 \\; \\mathrm{Mpc}$"
      ],
      "text/plain": [
       "<Quantity 3621.88327251 Mpc>"
      ]
     },
     "execution_count": 52,
     "metadata": {},
     "output_type": "execute_result"
    }
   ],
   "source": [
    "# What is the proper distance to this supernova given our current rate of expansion? \n",
    "BenchMark.ProperDistance(0,1.095)"
   ]
  },
  {
   "cell_type": "code",
   "execution_count": null,
   "metadata": {
    "persistent_id": "a2683f38-8259-4c76-a6ce-419d0395b728"
   },
   "outputs": [],
   "source": []
  },
  {
   "cell_type": "markdown",
   "metadata": {},
   "source": [
    "## Question 4 C) "
   ]
  },
  {
   "cell_type": "code",
   "execution_count": 57,
   "metadata": {
    "execution_event_id": "3ac94204-363f-4282-8ffc-dee30f1daf93",
    "last_executed_text": "# Question 4 C)  \n\n# Angle = Size/DA\n# What is the separation between two galaxies separated by 1 arcsec at z=1 in the Benchmark Cosmology\n\nrp = BenchMark.Separation(1,1)\nrp",
    "persistent_id": "f7986024-e42c-46bf-96cb-0894f4b6dbfd"
   },
   "outputs": [
    {
     "data": {
      "text/latex": [
       "$8.2219282 \\; \\mathrm{kpc}$"
      ],
      "text/plain": [
       "<Quantity 8.22192823 kpc>"
      ]
     },
     "execution_count": 57,
     "metadata": {},
     "output_type": "execute_result"
    }
   ],
   "source": [
    "# Question 4 C)  \n",
    "\n",
    "# Angle = Size/DA\n",
    "# What is the separation between two galaxies separated by 1 arcsec at z=1 in the Benchmark Cosmology\n",
    "rp = BenchMark.Separation(1,1)\n",
    "rp"
   ]
  },
  {
   "cell_type": "code",
   "execution_count": null,
   "metadata": {
    "persistent_id": "66ef2c6d-49bd-4fe2-b5b1-02e28daee005"
   },
   "outputs": [],
   "source": []
  }
 ],
 "metadata": {
  "history": [
   {
    "cell": {
     "executionCount": 1,
     "executionEventId": "88952e8b-c6b9-4012-9b97-b63ec35cdaff",
     "hasError": false,
     "id": "9c814894-fb07-41ae-abd2-b81e987cdbcf",
     "outputs": [],
     "persistentId": "68dbb10d-b28d-405d-9422-c6162e21b901",
     "text": "# import modules\nimport numpy as np\nimport astropy.units as u\n\n# For Lab 12: Import the constant for the speed of light\nfrom astropy.constants import c\n\n# import plotting modules\nimport matplotlib.pyplot as plt\nimport matplotlib\n%matplotlib inline\n\n\n# Lab 12 : added\n# integrating tools from SciPy  \nfrom scipy.integrate import simps\n"
    },
    "executionTime": "2020-05-12T06:47:10.789Z"
   },
   {
    "cell": {
     "executionCount": 2,
     "executionEventId": "cba8e680-d835-4dde-8e68-4cadfac421cb",
     "hasError": false,
     "id": "b00d8c85-715f-4e22-accb-52aaeeb883a0",
     "outputs": [],
     "persistentId": "e8762684-c0a6-48c3-97b7-18d2540530b4",
     "text": "# Define the benchmark cosmology at z =0\n# Planck 2016 results. XIII. Cosmological parameters   \n# Planck Collaboration+2016 A&A 594 13  Table 4, column 2 \n\nOmegaM0_planck = 0.308   # Matter Density Parameter\nOmegaR0_planck = 8.24e-5  # Radiation Density Parameter\nOmegaL0_planck = 0.692  # Dark Energy Density Parameter\nh_planck = 0.6781   # Hubble Constant  100 h km/s/Mpc\n        "
    },
    "executionTime": "2020-05-12T06:47:10.813Z"
   },
   {
    "cell": {
     "executionCount": 3,
     "executionEventId": "97b462fb-8bc6-4127-afe7-e3efe1a4cbb5",
     "hasError": false,
     "id": "c5c68826-20b2-42ef-9848-c5fac612d8e4",
     "outputs": [],
     "persistentId": "61e8d205-5658-4568-ae01-da18f13a962b",
     "text": "# Define the Einstein-DeSitter cosmology (Matter Dominated)\nOmegaMD = 1\nOmegaRD = 0\nOmegaLD = 0\n# h is the same = h_planck\n\n"
    },
    "executionTime": "2020-05-12T06:47:11.402Z"
   },
   {
    "cell": {
     "executionCount": 4,
     "executionEventId": "cdc34490-8ff0-4d5a-b316-13416dc3be8a",
     "hasError": false,
     "id": "64260a7f-9c58-4608-a503-828ab4c51acc",
     "outputs": [],
     "persistentId": "a4122f5a-4440-4d1c-ac15-e848d168770a",
     "text": "class CosmologicalTools:\n    # Define a class that provides functions to compute various cosmological quantities\n    # for a given cosmology  \n        \n    def __init__(self, OmegaM0, OmegaR0, OmegaL0, h):\n        # initialize the instance of the class - for any given Cosmology\n        # Input:    Omega M matter density parameter at z=0\n        #           Omega R radiation density parameter at z=0\n        #           Omega L  dark energy density parameter at z=0\n        #           h  normalization for the hubble parameter at z=0\n        \n        # initialize the cosmology at z=0\n        self.OmegaM0 = OmegaM0    ### Matter Density Parameter\n        self.OmegaR0 = OmegaR0    ### Radiation Density Parameter\n        self.OmegaL0 = OmegaL0    ### Dark Energy Density Parameter\n        self.OmegaK0 = 1 - (OmegaM0 + OmegaR0 + OmegaL0)    #### Curvature Density Parameter\n    \n        self.h = h   # Normalization of Hubble Parameter   \n        self.Ho = h*100*u.km/u.s/u.Mpc #  Hubble Constant at z=0  100 h km/s/Mpc\n    \n    \n    # Question 1 A)\n    def HubbleParameter(self, z):\n        # Function that defines the Hubble Parameter as a function of redshift\n        # Input:   Redshift z \n        # Returns: The Hubble parameter at the given redshift in units of km/s/Mpc        \n        \n        # FILL THIS IN \n        M = self.OmegaM0*(1+z)**3\n        R = self.OmegaR0*(1+z)**4\n        L = self.OmegaL0\n        K = self.OmegaK0*(1+z)**2\n        \n        return  self.Ho*np.sqrt(M+R+L+K)\n    \n    \n    \n    # Question 2 A)\n    def OmegaM_Z(self,z):\n        # Function that defines the matter density parameter as a function of redshift\n        # Input:  Redshift z . Can be an array\n        # Output:  Matter Density Parameter at the given redshift.\n        \n        # FILL THIS IN\n        return self.OmegaM0*(1+z)**3*self.Ho**2/self.HubbleParameter(z)**2\n    \n    def OmegaR_Z(self,z):\n        # Function that defines the radiation density parameter as a function of redshift\n        # Input:  Redshift z . Can be an array\n        # Output:  Radiation Density Parameter at the given redshift.\n        \n        # FILL THIS IN\n        return self.OmegaR0*(1+z)**4*self.Ho**2/self.HubbleParameter(z)**2\n    \n    \n    def OmegaL_Z(self,z):\n        # Function that defines the dark energy density parameter as a function of redshift\n        # Input:  Redshift z . Can be an array\n        # Output:  Dark Energy Density Parameter at the given redshift.\n        \n        # FILL THIS IN\n        return self.OmegaL0*self.Ho**2/self.HubbleParameter(z)**2\n    \n    \n    ###########################\n    # Lab 12 Starts Here\n    ###########################\n    \n    \n    # Question 1 A) \n    \n    def LookBackTime(self, ze):\n    # Function that computes the look back time at a given redshift\n    # i.e. the difference in time from when a photon was emitted to when it is observed at present day.\n    # Input:    Redshift emitted (ze). This cannot be an array. \n    # Output:   Time in units of Gyr Ago  (relative to present day). This is not an array  \n    \n        # Observed redshift  \n        zo = 0\n    \n        # define an array with redshifts, spaced in intervals of 0.001 from zo to ze\n        zrange = np.arange(zo, ze, 1e-3)\n        \n        # y = (1/H(zrange)).to(GYR)  /  (1+zrange)\n        # But need to correct units of 1/H to be Gyr rather than seconds  \n        # use the astropy.units functionality .to(units)\n        # FILL THIS IN \n        y = (1/self.HubbleParameter(zrange)).to(u.Gyr)/(1+zrange)\n        \n        \n        # Integrate y(zrange) numerically over zrange and return in units of Gyr\n        # FILL THIS IN \n        return simps(y,zrange)*u.Gyr\n    \n    \n    # Question 2 A) \n    \n    def ComovingDistance(self, ze):\n    # Function that returns the Comoving Radial Distance to an object at a given redshift\n    # Distance to a galaxy that is moving with the Hubble Flow (expanding universe) at a given redshift\n    # Input:    Redshift emitted (ze) \n    # Output:   DC in Mpc\n\n    \n        # define an array with redshifts, spaced  in intervals of 0.001\n        # Note that if you want redshifts smaller than 0.001 you'll need to refine this\n        zrange = np.arange(0, ze, 1e-3)\n    \n        # 1/H(zrange)*speed of light\n        # Speed of light is loaded in modules from astropy, but in units of m/s --> need in km/s\n        # FILL THIS IN\n    \n        # Integrate y numerically over zrange and return in units of Mpc\n        # FILL THIS IN \n        return \n    \n    \n    # Question 2 D) \n    \n    def ProperDistance(self, zo, ze):\n    # Function that returns the Proper Distance at a given redshift (the distance measured by a ruler)\n    # Input:    Redshift observed (zo) \n    #           Redshift of object (ze)\n    # Output:   Proper Distance in Mpc\n    \n        # FILL THIS IN\n        # Comoving Distance (to emitted photon) [ independent of time] x the scale factor at the time of observation.\n        return \n\n \n    # Question 3 A)\n    \n    def LuminosityDistance(self, ze): \n    # Function that computes DL, the luminosity distance of a galaxy at a given redshift\n    # Input:    Redshift emitted (ze) \n    # Output:   DL  in Mpc\n    \n        # Return  DL = DC*(1+z)\n        # FILL THIS IN\n        return \n    \n\n    # Question 4 A)\n    \n    def AngularDiameterDistance(self, ze): \n    # Function that computes DA, the angular diameter distance at a given redshift\n    # This is the proper distance between us and the source, at the time the photons were emitted.\n    # Physical size of angular separation of 1 degree\n    # Input:   Redshift emitted (ze)\n    # Output:   DA  in Mpc\n    \n        # # FILL THIS IN\n        # DA = DC/(1+z_emitted) = DL/(1+z)**2\n        return      \n    \n    \n    # Question 4 B) \n    \n    def Separation(self, ze, angle):\n    # Function to compute the physical distance corresponding to an angular separation at a given redshift\n    # Input:    Redshift emmitted ze ,  \n    #           angle: Angle between galaxies in arcsec\n    # Output:  Distance in kpc\n    \n        # convert angle from arcsec to radians\n        angleRad = (angle*u.arcsec).to(u.rad)\n    \n         # FILL THIS IN\n        #   DA*angleRad\n        return \n    \n    \n\n    \n    "
    },
    "executionTime": "2020-05-12T06:53:33.229Z"
   },
   {
    "cell": {
     "executionCount": 5,
     "executionEventId": "da3dcaea-d61b-44e4-82ca-2cbc3bd4fd03",
     "hasError": false,
     "id": "931e307c-bbc3-4f76-9135-deb98507d22f",
     "outputs": [],
     "persistentId": "9ec74341-3619-4dec-9730-4b3253e37073",
     "text": "# Define here an instance of the Class Cosmological Tools that follows the Benchmark Cosmology\nBenchMark = CosmologicalTools(OmegaM0_planck,OmegaR0_planck,OmegaL0_planck,h_planck)\n"
    },
    "executionTime": "2020-05-12T06:57:15.465Z"
   },
   {
    "cell": {
     "executionCount": 6,
     "executionEventId": "a126e3de-26e0-4545-82ef-e4ac01a4a928",
     "hasError": false,
     "id": "93b6fcdc-a8c3-4054-aff9-75ca6cf6c84b",
     "outputs": [],
     "persistentId": "40952956-831b-458d-8161-69cdf1f5665a",
     "text": "# Define a New Instance of the Class with Einstein De Sitter Cosmology \nDeSitter = CosmologicalTools(OmegaMD,OmegaRD,OmegaLD,h_planck)"
    },
    "executionTime": "2020-05-12T06:58:36.201Z"
   },
   {
    "cell": {
     "executionCount": 7,
     "executionEventId": "1817c8a5-5db6-4eb4-a4dd-f5a4d835341e",
     "hasError": false,
     "id": "12b872cc-1f42-40f2-a310-f03a24785746",
     "outputs": [
      {
       "data": {
        "text/latex": "$7.926721 \\; \\mathrm{Gyr}$",
        "text/plain": "<Quantity 7.92672101 Gyr>"
       },
       "execution_count": 7,
       "metadata": {},
       "output_type": "execute_result"
      }
     ],
     "persistentId": "c60ffb17-bb62-43a7-bcba-3574ff64f664",
     "text": "BenchMark.LookBackTime(1)"
    },
    "executionTime": "2020-05-12T07:11:37.652Z"
   },
   {
    "cell": {
     "executionCount": 8,
     "executionEventId": "3165a3a6-2124-41f3-818a-2e8a3c14b655",
     "hasError": false,
     "id": "e0730f43-3eff-47c4-995d-c58e75309af6",
     "outputs": [
      {
       "data": {
        "text/latex": "$10.5082 \\; \\mathrm{Gyr}$",
        "text/plain": "<Quantity 10.50819984 Gyr>"
       },
       "execution_count": 8,
       "metadata": {},
       "output_type": "execute_result"
      }
     ],
     "persistentId": "c77d9209-e6d1-4f3a-be55-4889df941679",
     "text": "BenchMark.LookBackTime(2)"
    },
    "executionTime": "2020-05-12T07:11:59.398Z"
   },
   {
    "cell": {
     "executionCount": 9,
     "executionEventId": "9178f03b-7c52-4f7e-9cf9-8236f865bbb5",
     "hasError": false,
     "id": "e0730f43-3eff-47c4-995d-c58e75309af6",
     "outputs": [
      {
       "data": {
        "text/latex": "$13.322265 \\; \\mathrm{Gyr}$",
        "text/plain": "<Quantity 13.32226524 Gyr>"
       },
       "execution_count": 9,
       "metadata": {},
       "output_type": "execute_result"
      }
     ],
     "persistentId": "c77d9209-e6d1-4f3a-be55-4889df941679",
     "text": "BenchMark.LookBackTime(10)"
    },
    "executionTime": "2020-05-12T07:12:19.188Z"
   },
   {
    "cell": {
     "executionCount": 10,
     "executionEventId": "19de07a7-ff98-44da-a650-ab32aed24bee",
     "hasError": false,
     "id": "7d68a943-6f45-4224-b2d3-e4f307459bd7",
     "outputs": [
      {
       "data": {
        "text/latex": "$13.794599 \\; \\mathrm{Gyr}$",
        "text/plain": "<Quantity 13.79459933 Gyr>"
       },
       "execution_count": 10,
       "metadata": {},
       "output_type": "execute_result"
      }
     ],
     "persistentId": "960097f8-1623-4899-bf82-222fd39ea1a1",
     "text": "# Question 1 B) \n\n# What is the Age of the Universe in the Benchmark Cosmology  (put in a large z)\n\nBenchMark.LookBackTime(1000)\n"
    },
    "executionTime": "2020-05-12T07:14:19.496Z"
   },
   {
    "cell": {
     "executionCount": 11,
     "executionEventId": "2e9f9d0f-d985-4107-ad94-9986ad8aedb7",
     "hasError": false,
     "id": "ce615f6e-af2f-45c4-98f9-8f0613f1f302",
     "outputs": [
      {
       "data": {
        "text/latex": "$9.6127547 \\; \\mathrm{Gyr}$",
        "text/plain": "<Quantity 9.61275474 Gyr>"
       },
       "execution_count": 11,
       "metadata": {},
       "output_type": "execute_result"
      }
     ],
     "persistentId": "97ea05c2-8c35-4e0a-bb59-dc52aeeda061",
     "text": "# What is the Age of the Universe in the Einstein De Sitter Cosmology\nDeSitter.LookBackTime(1000)"
    },
    "executionTime": "2020-05-12T07:15:53.334Z"
   },
   {
    "cell": {
     "executionCount": 12,
     "executionEventId": "7cf7a36b-a62f-469f-a3cc-040497733cf0",
     "hasError": true,
     "id": "93a6ebad-2776-4172-9690-5e3a9401589f",
     "outputs": [
      {
       "ename": "UnitConversionError",
       "evalue": "'Mpc s / km' (time) and '1 / Gyr' (frequency) are not convertible",
       "output_type": "error",
       "traceback": [
        "\u001b[0;31m---------------------------------------------------------------------------\u001b[0m",
        "\u001b[0;31mUnitConversionError\u001b[0m                       Traceback (most recent call last)",
        "\u001b[0;32m<ipython-input-12-32e4bdebc9f0>\u001b[0m in \u001b[0;36m<module>\u001b[0;34m\u001b[0m\n\u001b[1;32m      1\u001b[0m \u001b[0;31m# Inverse of the Hubble Parameter today is roughly the age of the universe. but not exactly.\u001b[0m\u001b[0;34m\u001b[0m\u001b[0;34m\u001b[0m\u001b[0;34m\u001b[0m\u001b[0m\n\u001b[0;32m----> 2\u001b[0;31m \u001b[0;34m(\u001b[0m\u001b[0;36m1\u001b[0m\u001b[0;34m/\u001b[0m\u001b[0mBenchMark\u001b[0m\u001b[0;34m.\u001b[0m\u001b[0mHubbleParameter\u001b[0m\u001b[0;34m(\u001b[0m\u001b[0;36m0\u001b[0m\u001b[0;34m)\u001b[0m\u001b[0;34m)\u001b[0m\u001b[0;34m.\u001b[0m\u001b[0mto\u001b[0m\u001b[0;34m(\u001b[0m\u001b[0mu\u001b[0m\u001b[0;34m.\u001b[0m\u001b[0mkm\u001b[0m\u001b[0;34m/\u001b[0m\u001b[0mu\u001b[0m\u001b[0;34m.\u001b[0m\u001b[0mkm\u001b[0m\u001b[0;34m/\u001b[0m\u001b[0mu\u001b[0m\u001b[0;34m.\u001b[0m\u001b[0mGyr\u001b[0m\u001b[0;34m)\u001b[0m\u001b[0;34m\u001b[0m\u001b[0;34m\u001b[0m\u001b[0m\n\u001b[0m",
        "\u001b[0;32m/anaconda3/lib/python3.6/site-packages/astropy/units/quantity.py\u001b[0m in \u001b[0;36mto\u001b[0;34m(self, unit, equivalencies)\u001b[0m\n\u001b[1;32m    691\u001b[0m         \u001b[0;31m# and don't want to slow down this method (esp. the scalar case).\u001b[0m\u001b[0;34m\u001b[0m\u001b[0;34m\u001b[0m\u001b[0;34m\u001b[0m\u001b[0m\n\u001b[1;32m    692\u001b[0m         \u001b[0munit\u001b[0m \u001b[0;34m=\u001b[0m \u001b[0mUnit\u001b[0m\u001b[0;34m(\u001b[0m\u001b[0munit\u001b[0m\u001b[0;34m)\u001b[0m\u001b[0;34m\u001b[0m\u001b[0;34m\u001b[0m\u001b[0m\n\u001b[0;32m--> 693\u001b[0;31m         \u001b[0;32mreturn\u001b[0m \u001b[0mself\u001b[0m\u001b[0;34m.\u001b[0m\u001b[0m_new_view\u001b[0m\u001b[0;34m(\u001b[0m\u001b[0mself\u001b[0m\u001b[0;34m.\u001b[0m\u001b[0m_to_value\u001b[0m\u001b[0;34m(\u001b[0m\u001b[0munit\u001b[0m\u001b[0;34m,\u001b[0m \u001b[0mequivalencies\u001b[0m\u001b[0;34m)\u001b[0m\u001b[0;34m,\u001b[0m \u001b[0munit\u001b[0m\u001b[0;34m)\u001b[0m\u001b[0;34m\u001b[0m\u001b[0;34m\u001b[0m\u001b[0m\n\u001b[0m\u001b[1;32m    694\u001b[0m \u001b[0;34m\u001b[0m\u001b[0m\n\u001b[1;32m    695\u001b[0m     \u001b[0;32mdef\u001b[0m \u001b[0mto_value\u001b[0m\u001b[0;34m(\u001b[0m\u001b[0mself\u001b[0m\u001b[0;34m,\u001b[0m \u001b[0munit\u001b[0m\u001b[0;34m=\u001b[0m\u001b[0;32mNone\u001b[0m\u001b[0;34m,\u001b[0m \u001b[0mequivalencies\u001b[0m\u001b[0;34m=\u001b[0m\u001b[0;34m[\u001b[0m\u001b[0;34m]\u001b[0m\u001b[0;34m)\u001b[0m\u001b[0;34m:\u001b[0m\u001b[0;34m\u001b[0m\u001b[0;34m\u001b[0m\u001b[0m\n",
        "\u001b[0;32m/anaconda3/lib/python3.6/site-packages/astropy/units/quantity.py\u001b[0m in \u001b[0;36m_to_value\u001b[0;34m(self, unit, equivalencies)\u001b[0m\n\u001b[1;32m    663\u001b[0m             \u001b[0mequivalencies\u001b[0m \u001b[0;34m=\u001b[0m \u001b[0mself\u001b[0m\u001b[0;34m.\u001b[0m\u001b[0m_equivalencies\u001b[0m\u001b[0;34m\u001b[0m\u001b[0;34m\u001b[0m\u001b[0m\n\u001b[1;32m    664\u001b[0m         return self.unit.to(unit, self.view(np.ndarray),\n\u001b[0;32m--> 665\u001b[0;31m                             equivalencies=equivalencies)\n\u001b[0m\u001b[1;32m    666\u001b[0m \u001b[0;34m\u001b[0m\u001b[0m\n\u001b[1;32m    667\u001b[0m     \u001b[0;32mdef\u001b[0m \u001b[0mto\u001b[0m\u001b[0;34m(\u001b[0m\u001b[0mself\u001b[0m\u001b[0;34m,\u001b[0m \u001b[0munit\u001b[0m\u001b[0;34m,\u001b[0m \u001b[0mequivalencies\u001b[0m\u001b[0;34m=\u001b[0m\u001b[0;34m[\u001b[0m\u001b[0;34m]\u001b[0m\u001b[0;34m)\u001b[0m\u001b[0;34m:\u001b[0m\u001b[0;34m\u001b[0m\u001b[0;34m\u001b[0m\u001b[0m\n",
        "\u001b[0;32m/anaconda3/lib/python3.6/site-packages/astropy/units/core.py\u001b[0m in \u001b[0;36mto\u001b[0;34m(self, other, value, equivalencies)\u001b[0m\n\u001b[1;32m    985\u001b[0m             \u001b[0;32mreturn\u001b[0m \u001b[0mUNITY\u001b[0m\u001b[0;34m\u001b[0m\u001b[0;34m\u001b[0m\u001b[0m\n\u001b[1;32m    986\u001b[0m         \u001b[0;32melse\u001b[0m\u001b[0;34m:\u001b[0m\u001b[0;34m\u001b[0m\u001b[0;34m\u001b[0m\u001b[0m\n\u001b[0;32m--> 987\u001b[0;31m             \u001b[0;32mreturn\u001b[0m \u001b[0mself\u001b[0m\u001b[0;34m.\u001b[0m\u001b[0m_get_converter\u001b[0m\u001b[0;34m(\u001b[0m\u001b[0mother\u001b[0m\u001b[0;34m,\u001b[0m \u001b[0mequivalencies\u001b[0m\u001b[0;34m=\u001b[0m\u001b[0mequivalencies\u001b[0m\u001b[0;34m)\u001b[0m\u001b[0;34m(\u001b[0m\u001b[0mvalue\u001b[0m\u001b[0;34m)\u001b[0m\u001b[0;34m\u001b[0m\u001b[0;34m\u001b[0m\u001b[0m\n\u001b[0m\u001b[1;32m    988\u001b[0m \u001b[0;34m\u001b[0m\u001b[0m\n\u001b[1;32m    989\u001b[0m     \u001b[0;32mdef\u001b[0m \u001b[0min_units\u001b[0m\u001b[0;34m(\u001b[0m\u001b[0mself\u001b[0m\u001b[0;34m,\u001b[0m \u001b[0mother\u001b[0m\u001b[0;34m,\u001b[0m \u001b[0mvalue\u001b[0m\u001b[0;34m=\u001b[0m\u001b[0;36m1.0\u001b[0m\u001b[0;34m,\u001b[0m \u001b[0mequivalencies\u001b[0m\u001b[0;34m=\u001b[0m\u001b[0;34m[\u001b[0m\u001b[0;34m]\u001b[0m\u001b[0;34m)\u001b[0m\u001b[0;34m:\u001b[0m\u001b[0;34m\u001b[0m\u001b[0;34m\u001b[0m\u001b[0m\n",
        "\u001b[0;32m/anaconda3/lib/python3.6/site-packages/astropy/units/core.py\u001b[0m in \u001b[0;36m_get_converter\u001b[0;34m(self, other, equivalencies)\u001b[0m\n\u001b[1;32m    916\u001b[0m                             \u001b[0;32mpass\u001b[0m\u001b[0;34m\u001b[0m\u001b[0;34m\u001b[0m\u001b[0m\n\u001b[1;32m    917\u001b[0m \u001b[0;34m\u001b[0m\u001b[0m\n\u001b[0;32m--> 918\u001b[0;31m             \u001b[0;32mraise\u001b[0m \u001b[0mexc\u001b[0m\u001b[0;34m\u001b[0m\u001b[0;34m\u001b[0m\u001b[0m\n\u001b[0m\u001b[1;32m    919\u001b[0m \u001b[0;34m\u001b[0m\u001b[0m\n\u001b[1;32m    920\u001b[0m     \u001b[0;32mdef\u001b[0m \u001b[0m_to\u001b[0m\u001b[0;34m(\u001b[0m\u001b[0mself\u001b[0m\u001b[0;34m,\u001b[0m \u001b[0mother\u001b[0m\u001b[0;34m)\u001b[0m\u001b[0;34m:\u001b[0m\u001b[0;34m\u001b[0m\u001b[0;34m\u001b[0m\u001b[0m\n",
        "\u001b[0;32m/anaconda3/lib/python3.6/site-packages/astropy/units/core.py\u001b[0m in \u001b[0;36m_get_converter\u001b[0;34m(self, other, equivalencies)\u001b[0m\n\u001b[1;32m    902\u001b[0m         \u001b[0;32mtry\u001b[0m\u001b[0;34m:\u001b[0m\u001b[0;34m\u001b[0m\u001b[0;34m\u001b[0m\u001b[0m\n\u001b[1;32m    903\u001b[0m             return self._apply_equivalencies(\n\u001b[0;32m--> 904\u001b[0;31m                 self, other, self._normalize_equivalencies(equivalencies))\n\u001b[0m\u001b[1;32m    905\u001b[0m         \u001b[0;32mexcept\u001b[0m \u001b[0mUnitsError\u001b[0m \u001b[0;32mas\u001b[0m \u001b[0mexc\u001b[0m\u001b[0;34m:\u001b[0m\u001b[0;34m\u001b[0m\u001b[0;34m\u001b[0m\u001b[0m\n\u001b[1;32m    906\u001b[0m             \u001b[0;31m# Last hope: maybe other knows how to do it?\u001b[0m\u001b[0;34m\u001b[0m\u001b[0;34m\u001b[0m\u001b[0;34m\u001b[0m\u001b[0m\n",
        "\u001b[0;32m/anaconda3/lib/python3.6/site-packages/astropy/units/core.py\u001b[0m in \u001b[0;36m_apply_equivalencies\u001b[0;34m(self, unit, other, equivalencies)\u001b[0m\n\u001b[1;32m    886\u001b[0m         raise UnitConversionError(\n\u001b[1;32m    887\u001b[0m             \"{} and {} are not convertible\".format(\n\u001b[0;32m--> 888\u001b[0;31m                 unit_str, other_str))\n\u001b[0m\u001b[1;32m    889\u001b[0m \u001b[0;34m\u001b[0m\u001b[0m\n\u001b[1;32m    890\u001b[0m     \u001b[0;32mdef\u001b[0m \u001b[0m_get_converter\u001b[0m\u001b[0;34m(\u001b[0m\u001b[0mself\u001b[0m\u001b[0;34m,\u001b[0m \u001b[0mother\u001b[0m\u001b[0;34m,\u001b[0m \u001b[0mequivalencies\u001b[0m\u001b[0;34m=\u001b[0m\u001b[0;34m[\u001b[0m\u001b[0;34m]\u001b[0m\u001b[0;34m)\u001b[0m\u001b[0;34m:\u001b[0m\u001b[0;34m\u001b[0m\u001b[0;34m\u001b[0m\u001b[0m\n",
        "\u001b[0;31mUnitConversionError\u001b[0m: 'Mpc s / km' (time) and '1 / Gyr' (frequency) are not convertible"
       ]
      }
     ],
     "persistentId": "121ee37a-d9e0-488e-aead-f04300662fdd",
     "text": "# Inverse of the Hubble Parameter today is roughly the age of the universe. but not exactly.\n(1/BenchMark.HubbleParameter(0)).to(u.km/u.km/u.Gyr)"
    },
    "executionTime": "2020-05-12T07:17:56.064Z"
   },
   {
    "cell": {
     "executionCount": 13,
     "executionEventId": "fa9d757a-5558-438f-a5a8-ac4cdf98f26b",
     "hasError": true,
     "id": "93a6ebad-2776-4172-9690-5e3a9401589f",
     "outputs": [
      {
       "ename": "SyntaxError",
       "evalue": "invalid character in identifier (<ipython-input-13-44dc6360a8bf>, line 2)",
       "output_type": "error",
       "traceback": [
        "\u001b[0;36m  File \u001b[0;32m\"<ipython-input-13-44dc6360a8bf>\"\u001b[0;36m, line \u001b[0;32m2\u001b[0m\n\u001b[0;31m    (1/BenchMark.HubbleParameter(0).to(u.km/u.km/u.Gyr)）\u001b[0m\n\u001b[0m                                                       ^\u001b[0m\n\u001b[0;31mSyntaxError\u001b[0m\u001b[0;31m:\u001b[0m invalid character in identifier\n"
       ]
      }
     ],
     "persistentId": "121ee37a-d9e0-488e-aead-f04300662fdd",
     "text": "# Inverse of the Hubble Parameter today is roughly the age of the universe. but not exactly.\n(1/BenchMark.HubbleParameter(0).to(u.km/u.km/u.Gyr)）"
    },
    "executionTime": "2020-05-12T07:18:05.772Z"
   },
   {
    "cell": {
     "executionCount": 14,
     "executionEventId": "05effdc7-101a-4fda-b6f9-cbc76ac80cb3",
     "hasError": false,
     "id": "93a6ebad-2776-4172-9690-5e3a9401589f",
     "outputs": [
      {
       "data": {
        "text/latex": "$14.419587 \\; \\mathrm{Gyr}$",
        "text/plain": "<Quantity 14.4195874 Gyr>"
       },
       "execution_count": 14,
       "metadata": {},
       "output_type": "execute_result"
      }
     ],
     "persistentId": "121ee37a-d9e0-488e-aead-f04300662fdd",
     "text": "# Inverse of the Hubble Parameter today is roughly the age of the universe. but not exactly.\n(1/BenchMark.HubbleParameter(0).to(u.km/u.km/u.Gyr))"
    },
    "executionTime": "2020-05-12T07:18:09.191Z"
   },
   {
    "cell": {
     "executionCount": 15,
     "executionEventId": "93a39d35-07a9-420d-b98d-6d59f81fb872",
     "hasError": true,
     "id": "9e5ee6a7-7e30-4484-b08c-4ba2feea1b07",
     "outputs": [
      {
       "ename": "NameError",
       "evalue": "name 'zrange' is not defined",
       "output_type": "error",
       "traceback": [
        "\u001b[0;31m---------------------------------------------------------------------------\u001b[0m",
        "\u001b[0;31mNameError\u001b[0m                                 Traceback (most recent call last)",
        "\u001b[0;32m<ipython-input-15-2caa14ed0399>\u001b[0m in \u001b[0;36m<module>\u001b[0;34m\u001b[0m\n\u001b[1;32m      2\u001b[0m \u001b[0;31m# NOTE THIS GENERATES A LIST NOT AN ARRAY\u001b[0m\u001b[0;34m\u001b[0m\u001b[0;34m\u001b[0m\u001b[0;34m\u001b[0m\u001b[0m\n\u001b[1;32m      3\u001b[0m \u001b[0;34m\u001b[0m\u001b[0m\n\u001b[0;32m----> 4\u001b[0;31m \u001b[0mTimeBenchMark\u001b[0m \u001b[0;34m=\u001b[0m \u001b[0;34m[\u001b[0m\u001b[0mBenchMark\u001b[0m\u001b[0;34m.\u001b[0m\u001b[0mLookBackTime\u001b[0m\u001b[0;34m(\u001b[0m\u001b[0;36m1\u001b[0m\u001b[0;34m)\u001b[0m\u001b[0;34m.\u001b[0m\u001b[0mvalue\u001b[0m \u001b[0;32mfor\u001b[0m \u001b[0mi\u001b[0m \u001b[0;32min\u001b[0m \u001b[0mzrange\u001b[0m \u001b[0;34m]\u001b[0m\u001b[0;34m\u001b[0m\u001b[0;34m\u001b[0m\u001b[0m\n\u001b[0m",
        "\u001b[0;31mNameError\u001b[0m: name 'zrange' is not defined"
       ]
      }
     ],
     "persistentId": "b8efa626-2032-4e26-a85b-3f827e34e1b9",
     "text": "# Create a list comprehension to compute an array of Look Back Time for each element in zrange\n# NOTE THIS GENERATES A LIST NOT AN ARRAY\n\nTimeBenchMark = [BenchMark.LookBackTime(1).value for i in zrange ]\n"
    },
    "executionTime": "2020-05-12T07:27:49.564Z"
   },
   {
    "cell": {
     "executionCount": 16,
     "executionEventId": "01ba53e0-c512-4bd3-b91c-3c08b8f41042",
     "hasError": false,
     "id": "75214a3b-872b-4858-a790-24b19b6df094",
     "outputs": [],
     "persistentId": "d93f66e0-5b8c-495b-acd8-d361eb52d41f",
     "text": "# Question 1 C)   Plotting Look Back Time\n\n# First define an array of redshift for the X axis\n# Define an array of redshift to some max redshift\nzmax = 50\nzmin = 0.001\nzrange = np.arange(zmin, zmax, 0.01)"
    },
    "executionTime": "2020-05-12T07:27:55.730Z"
   },
   {
    "cell": {
     "executionCount": 17,
     "executionEventId": "50312657-3d83-42a8-9c6a-a508c50e78c7",
     "hasError": false,
     "id": "9e5ee6a7-7e30-4484-b08c-4ba2feea1b07",
     "outputs": [],
     "persistentId": "b8efa626-2032-4e26-a85b-3f827e34e1b9",
     "text": "# Create a list comprehension to compute an array of Look Back Time for each element in zrange\n# NOTE THIS GENERATES A LIST NOT AN ARRAY\n\nTimeBenchMark = [BenchMark.LookBackTime(1).value for i in zrange ]\n"
    },
    "executionTime": "2020-05-12T07:28:00.498Z"
   },
   {
    "cell": {
     "executionCount": 18,
     "executionEventId": "f7dbecd7-8aa4-4bbf-9117-91b0fe0aad65",
     "hasError": false,
     "id": "c815195b-c04d-44a7-a696-ed68f106b4e7",
     "outputs": [],
     "persistentId": "3f758c80-ab97-49dc-8e68-a89c15ecd9c7",
     "text": "TimeDeSitter = [DeSitter.LookBackTime(i).value for i in zrange]"
    },
    "executionTime": "2020-05-12T07:28:14.306Z"
   },
   {
    "cell": {
     "executionCount": 19,
     "executionEventId": "89040b76-ba70-472e-8642-6b18af9c3e5f",
     "hasError": false,
     "id": "c815195b-c04d-44a7-a696-ed68f106b4e7",
     "outputs": [],
     "persistentId": "3f758c80-ab97-49dc-8e68-a89c15ecd9c7",
     "text": "TimeDeSitter = [DeSitter.LookBackTime(i).value for i in zrange]"
    },
    "executionTime": "2020-05-12T07:28:36.378Z"
   },
   {
    "cell": {
     "executionCount": 20,
     "executionEventId": "d84a940c-f8b2-49d2-97b1-09c28c40db65",
     "hasError": true,
     "id": "0f82fd17-9555-4998-8804-1691979bd1d3",
     "outputs": [
      {
       "ename": "SyntaxError",
       "evalue": "invalid syntax (<ipython-input-20-44a49a18e466>, line 10)",
       "output_type": "error",
       "traceback": [
        "\u001b[0;36m  File \u001b[0;32m\"<ipython-input-20-44a49a18e466>\"\u001b[0;36m, line \u001b[0;32m10\u001b[0m\n\u001b[0;31m    plt.semilogx(1+zrange , TimeBenchMark  color='blue', linewidth=5, label='Benchmark')\u001b[0m\n\u001b[0m                                               ^\u001b[0m\n\u001b[0;31mSyntaxError\u001b[0m\u001b[0;31m:\u001b[0m invalid syntax\n"
       ]
      }
     ],
     "persistentId": "e850a8f6-cce5-4604-a7b8-47e32c4384d0",
     "text": "# Plot the Look Back Time as a Function of Redshift out to z=10\n################################################################\n\nfig = plt.figure(figsize=(10,10))\nax = plt.subplot(111)\n\n\n# Look Back Time Benchmark\n# FILL THIS IN\nplt.semilogx(1+zrange , TimeBenchMark  color='blue', linewidth=5, label='Benchmark')\n\n\n# Look Back Time Einstein De Sitter\n# FILL THIS IN\nplt.semilogx(1+zrange ,  TimeDeSitter, color='red', linewidth=5, label='DeSitter')\n\n\n# Add axis labels\nplt.xlabel('1+z', fontsize=22)\nplt.ylabel('Look Back Time (Gyr Ago)', fontsize=22)\n\n#adjust tick label font size\nlabel_size = 22\nmatplotlib.rcParams['xtick.labelsize'] = label_size \nmatplotlib.rcParams['ytick.labelsize'] = label_size\n\nlegend = ax.legend(loc='upper left',fontsize=20)\n\n# Save to a file\nax.set_rasterized(True)\nplt.savefig('LookBackTime.png', rasterized=True, dpi=350)"
    },
    "executionTime": "2020-05-12T07:29:28.408Z"
   },
   {
    "cell": {
     "executionCount": 21,
     "executionEventId": "7fdf4039-d164-462e-b1af-fa384a491054",
     "hasError": false,
     "id": "0f82fd17-9555-4998-8804-1691979bd1d3",
     "outputs": [
      {
       "data": {
        "image/png": "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\n",
        "text/plain": "<Figure size 720x720 with 1 Axes>"
       },
       "metadata": {
        "needs_background": "light"
       },
       "output_type": "display_data"
      }
     ],
     "persistentId": "e850a8f6-cce5-4604-a7b8-47e32c4384d0",
     "text": "# Plot the Look Back Time as a Function of Redshift out to z=10\n################################################################\n\nfig = plt.figure(figsize=(10,10))\nax = plt.subplot(111)\n\n\n# Look Back Time Benchmark\n# FILL THIS IN\nplt.semilogx(1+zrange , TimeBenchMark,color='blue', linewidth=5, label='Benchmark')\n\n\n# Look Back Time Einstein De Sitter\n# FILL THIS IN\nplt.semilogx(1+zrange ,  TimeDeSitter, color='red', linewidth=5, label='DeSitter')\n\n\n# Add axis labels\nplt.xlabel('1+z', fontsize=22)\nplt.ylabel('Look Back Time (Gyr Ago)', fontsize=22)\n\n#adjust tick label font size\nlabel_size = 22\nmatplotlib.rcParams['xtick.labelsize'] = label_size \nmatplotlib.rcParams['ytick.labelsize'] = label_size\n\nlegend = ax.legend(loc='upper left',fontsize=20)\n\n# Save to a file\nax.set_rasterized(True)\nplt.savefig('LookBackTime.png', rasterized=True, dpi=350)"
    },
    "executionTime": "2020-05-12T07:29:39.439Z"
   },
   {
    "cell": {
     "executionCount": 22,
     "executionEventId": "52bb1677-2c88-40f1-bc7c-a9782cd25b5a",
     "hasError": false,
     "id": "9e5ee6a7-7e30-4484-b08c-4ba2feea1b07",
     "outputs": [],
     "persistentId": "b8efa626-2032-4e26-a85b-3f827e34e1b9",
     "text": "# Create a list comprehension to compute an array of Look Back Time for each element in zrange\n# NOTE THIS GENERATES A LIST NOT AN ARRAY\n\nTimeBenchMark = [BenchMark.LookBackTime(i).value for i in zrange ]\n"
    },
    "executionTime": "2020-05-12T07:30:16.705Z"
   },
   {
    "cell": {
     "executionCount": 23,
     "executionEventId": "4b3ed76d-d1b7-41e7-8bc8-7ac31a843bcf",
     "hasError": false,
     "id": "0f82fd17-9555-4998-8804-1691979bd1d3",
     "outputs": [
      {
       "data": {
        "image/png": "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\n",
        "text/plain": "<Figure size 720x720 with 1 Axes>"
       },
       "metadata": {
        "needs_background": "light"
       },
       "output_type": "display_data"
      }
     ],
     "persistentId": "e850a8f6-cce5-4604-a7b8-47e32c4384d0",
     "text": "# Plot the Look Back Time as a Function of Redshift out to z=10\n################################################################\n\nfig = plt.figure(figsize=(10,10))\nax = plt.subplot(111)\n\n\n# Look Back Time Benchmark\n# FILL THIS IN\nplt.semilogx(1+zrange , TimeBenchMark,color='blue', linewidth=5, label='Benchmark')\n\n\n# Look Back Time Einstein De Sitter\n# FILL THIS IN\nplt.semilogx(1+zrange ,  TimeDeSitter, color='red', linewidth=5, label='DeSitter')\n\n\n# Add axis labels\nplt.xlabel('1+z', fontsize=22)\nplt.ylabel('Look Back Time (Gyr Ago)', fontsize=22)\n\n#adjust tick label font size\nlabel_size = 22\nmatplotlib.rcParams['xtick.labelsize'] = label_size \nmatplotlib.rcParams['ytick.labelsize'] = label_size\n\nlegend = ax.legend(loc='upper left',fontsize=20)\n\n# Save to a file\nax.set_rasterized(True)\nplt.savefig('LookBackTime.png', rasterized=True, dpi=350)"
    },
    "executionTime": "2020-05-12T07:30:21.075Z"
   },
   {
    "cell": {
     "executionCount": 24,
     "executionEventId": "25861d75-bd15-48a8-807a-50365857db8a",
     "hasError": false,
     "id": "64260a7f-9c58-4608-a503-828ab4c51acc",
     "outputs": [],
     "persistentId": "a4122f5a-4440-4d1c-ac15-e848d168770a",
     "text": "class CosmologicalTools:\n    # Define a class that provides functions to compute various cosmological quantities\n    # for a given cosmology  \n        \n    def __init__(self, OmegaM0, OmegaR0, OmegaL0, h):\n        # initialize the instance of the class - for any given Cosmology\n        # Input:    Omega M matter density parameter at z=0\n        #           Omega R radiation density parameter at z=0\n        #           Omega L  dark energy density parameter at z=0\n        #           h  normalization for the hubble parameter at z=0\n        \n        # initialize the cosmology at z=0\n        self.OmegaM0 = OmegaM0    ### Matter Density Parameter\n        self.OmegaR0 = OmegaR0    ### Radiation Density Parameter\n        self.OmegaL0 = OmegaL0    ### Dark Energy Density Parameter\n        self.OmegaK0 = 1 - (OmegaM0 + OmegaR0 + OmegaL0)    #### Curvature Density Parameter\n    \n        self.h = h   # Normalization of Hubble Parameter   \n        self.Ho = h*100*u.km/u.s/u.Mpc #  Hubble Constant at z=0  100 h km/s/Mpc\n    \n    \n    # Question 1 A)\n    def HubbleParameter(self, z):\n        # Function that defines the Hubble Parameter as a function of redshift\n        # Input:   Redshift z \n        # Returns: The Hubble parameter at the given redshift in units of km/s/Mpc        \n        \n        # FILL THIS IN \n        M = self.OmegaM0*(1+z)**3\n        R = self.OmegaR0*(1+z)**4\n        L = self.OmegaL0\n        K = self.OmegaK0*(1+z)**2\n        \n        return  self.Ho*np.sqrt(M+R+L+K)\n    \n    \n    \n    # Question 2 A)\n    def OmegaM_Z(self,z):\n        # Function that defines the matter density parameter as a function of redshift\n        # Input:  Redshift z . Can be an array\n        # Output:  Matter Density Parameter at the given redshift.\n        \n        # FILL THIS IN\n        return self.OmegaM0*(1+z)**3*self.Ho**2/self.HubbleParameter(z)**2\n    \n    def OmegaR_Z(self,z):\n        # Function that defines the radiation density parameter as a function of redshift\n        # Input:  Redshift z . Can be an array\n        # Output:  Radiation Density Parameter at the given redshift.\n        \n        # FILL THIS IN\n        return self.OmegaR0*(1+z)**4*self.Ho**2/self.HubbleParameter(z)**2\n    \n    \n    def OmegaL_Z(self,z):\n        # Function that defines the dark energy density parameter as a function of redshift\n        # Input:  Redshift z . Can be an array\n        # Output:  Dark Energy Density Parameter at the given redshift.\n        \n        # FILL THIS IN\n        return self.OmegaL0*self.Ho**2/self.HubbleParameter(z)**2\n    \n    \n    ###########################\n    # Lab 12 Starts Here\n    ###########################\n    \n    \n    # Question 1 A) \n    \n    def LookBackTime(self, ze):\n    # Function that computes the look back time at a given redshift\n    # i.e. the difference in time from when a photon was emitted to when it is observed at present day.\n    # Input:    Redshift emitted (ze). This cannot be an array. \n    # Output:   Time in units of Gyr Ago  (relative to present day). This is not an array  \n    \n        # Observed redshift  \n        zo = 0\n    \n        # define an array with redshifts, spaced in intervals of 0.001 from zo to ze\n        zrange = np.arange(zo, ze, 1e-3)\n        \n        # y = (1/H(zrange)).to(GYR)  /  (1+zrange)\n        # But need to correct units of 1/H to be Gyr rather than seconds  \n        # use the astropy.units functionality .to(units)\n        # FILL THIS IN \n        y = (1/self.HubbleParameter(zrange)).to(u.Gyr)/(1+zrange)\n        \n        \n        # Integrate y(zrange) numerically over zrange and return in units of Gyr\n        # FILL THIS IN \n        return simps(y,zrange)*u.Gyr\n    \n    \n    # Question 2 A) \n    \n    def ComovingDistance(self, ze):\n    # Function that returns the Comoving Radial Distance to an object at a given redshift\n    # Distance to a galaxy that is moving with the Hubble Flow (expanding universe) at a given redshift\n    # Input:    Redshift emitted (ze) \n    # Output:   DC in Mpc\n\n    \n        # define an array with redshifts, spaced  in intervals of 0.001\n        # Note that if you want redshifts smaller than 0.001 you'll need to refine this\n        zrange = np.arange(0, ze, 1e-3)\n    \n        # 1/H(zrange)*speed of light\n        # Speed of light is loaded in modules from astropy, but in units of m/s --> need in km/s\n        # FILL THIS IN\n        y = 1/self.HubbleParameter(zrange)*c.to(u.km/u.s)\n    \n        # Integrate y numerically over zrange and return in units of Mpc\n        # FILL THIS IN \n        return simps(y,zrange)*u.Mpc\n    \n    \n    # Question 2 D) \n    \n    def ProperDistance(self, zo, ze):\n    # Function that returns the Proper Distance at a given redshift (the distance measured by a ruler)\n    # Input:    Redshift observed (zo) \n    #           Redshift of object (ze)\n    # Output:   Proper Distance in Mpc\n    \n        # FILL THIS IN\n        # Comoving Distance (to emitted photon) [ independent of time] x the scale factor at the time of observation.\n        return \n\n \n    # Question 3 A)\n    \n    def LuminosityDistance(self, ze): \n    # Function that computes DL, the luminosity distance of a galaxy at a given redshift\n    # Input:    Redshift emitted (ze) \n    # Output:   DL  in Mpc\n    \n        # Return  DL = DC*(1+z)\n        # FILL THIS IN\n        return \n    \n\n    # Question 4 A)\n    \n    def AngularDiameterDistance(self, ze): \n    # Function that computes DA, the angular diameter distance at a given redshift\n    # This is the proper distance between us and the source, at the time the photons were emitted.\n    # Physical size of angular separation of 1 degree\n    # Input:   Redshift emitted (ze)\n    # Output:   DA  in Mpc\n    \n        # # FILL THIS IN\n        # DA = DC/(1+z_emitted) = DL/(1+z)**2\n        return      \n    \n    \n    # Question 4 B) \n    \n    def Separation(self, ze, angle):\n    # Function to compute the physical distance corresponding to an angular separation at a given redshift\n    # Input:    Redshift emmitted ze ,  \n    #           angle: Angle between galaxies in arcsec\n    # Output:  Distance in kpc\n    \n        # convert angle from arcsec to radians\n        angleRad = (angle*u.arcsec).to(u.rad)\n    \n         # FILL THIS IN\n        #   DA*angleRad\n        return \n    \n    \n\n    \n    "
    },
    "executionTime": "2020-05-12T07:37:12.934Z"
   },
   {
    "cell": {
     "executionCount": 25,
     "executionEventId": "1a86b523-8431-4ca1-9d58-978ca1ba3cfe",
     "hasError": false,
     "id": "931e307c-bbc3-4f76-9135-deb98507d22f",
     "outputs": [],
     "persistentId": "9ec74341-3619-4dec-9730-4b3253e37073",
     "text": "# Define here an instance of the Class Cosmological Tools that follows the Benchmark Cosmology\nBenchMark = CosmologicalTools(OmegaM0_planck,OmegaR0_planck,OmegaL0_planck,h_planck)\n"
    },
    "executionTime": "2020-05-12T07:37:28.902Z"
   },
   {
    "cell": {
     "executionCount": 26,
     "executionEventId": "cff7f479-5319-4358-a3f6-1944891b5669",
     "hasError": false,
     "id": "93b6fcdc-a8c3-4054-aff9-75ca6cf6c84b",
     "outputs": [],
     "persistentId": "40952956-831b-458d-8161-69cdf1f5665a",
     "text": "# Define a New Instance of the Class with Einstein De Sitter Cosmology \nDeSitter = CosmologicalTools(OmegaMD,OmegaRD,OmegaLD,h_planck)"
    },
    "executionTime": "2020-05-12T07:37:30.809Z"
   },
   {
    "cell": {
     "executionCount": 27,
     "executionEventId": "20b4705d-66cf-449e-8dcd-2cd190bd1c17",
     "hasError": false,
     "id": "fa977f6c-a5f9-47e6-a9b9-027f9cf80ef1",
     "outputs": [
      {
       "data": {
        "text/latex": "$13892.81 \\; \\mathrm{Mpc}$",
        "text/plain": "<Quantity 13892.80996183 Mpc>"
       },
       "execution_count": 27,
       "metadata": {},
       "output_type": "execute_result"
      }
     ],
     "persistentId": "9752c37a-3f32-4374-8f1b-4be726357979",
     "text": "# Question 2 B\n\n# What is the size of the presently observable universe in the Benchmark cosmology ? (pick a large z)\n# this is the size assuming the present day scale factor \nBenchMark.ComovingDistance(1000)"
    },
    "executionTime": "2020-05-12T07:38:04.986Z"
   },
   {
    "cell": {
     "executionCount": 28,
     "executionEventId": "0b015032-b7e8-42d0-8fcd-42a6ccc1dcf6",
     "hasError": false,
     "id": "02658400-c81f-49fe-9897-99020b97c87e",
     "outputs": [
      {
       "data": {
        "text/latex": "$8562.658 \\; \\mathrm{Mpc}$",
        "text/plain": "<Quantity 8562.65801348 Mpc>"
       },
       "execution_count": 28,
       "metadata": {},
       "output_type": "execute_result"
      }
     ],
     "persistentId": "68418cf6-ae06-4ace-ae0a-3500f3d0870e",
     "text": "# What is the size of the presently observable universe in the Einstein De Sitter cosmology? (pick a large z)\nDeSitter.ComovingDistance(1000)"
    },
    "executionTime": "2020-05-12T07:38:33.331Z"
   },
   {
    "cell": {
     "executionCount": 29,
     "executionEventId": "f79af373-7f54-4f6f-986e-c851ea86d08e",
     "hasError": false,
     "id": "274e453f-5d1b-45c8-9b82-e0d1e183c444",
     "outputs": [],
     "persistentId": "505d5017-5ded-45e9-8cf2-9a8a896e5ae0",
     "text": "z1 = 0.01\nz2 = 0.05"
    },
    "executionTime": "2020-05-12T07:40:10.702Z"
   },
   {
    "cell": {
     "executionCount": 30,
     "executionEventId": "a6545333-6c2b-4abc-b32a-46ed5419eeb1",
     "hasError": false,
     "id": "3ef2b72e-3bf6-4132-93ce-f962ab1c8772",
     "outputs": [
      {
       "data": {
        "text/latex": "$174.44993 \\; \\mathrm{Mpc}$",
        "text/plain": "<Quantity 174.44993323 Mpc>"
       },
       "execution_count": 30,
       "metadata": {},
       "output_type": "execute_result"
      }
     ],
     "persistentId": "f3fec705-d8c1-494f-93b5-adc3a80a4244",
     "text": "# What is their comoving separation at each redshift\n\nDist_z1 = BenchMark.ComovingDistance(z1)\n\nDist_z2 = BenchMark.ComovingDistance(z2)\n\n\n# Find the difference\n\nDist = Dist_z2-Dist_z1\n\nDist"
    },
    "executionTime": "2020-05-12T07:40:23.045Z"
   },
   {
    "cell": {
     "executionCount": 31,
     "executionEventId": "ca8e1099-f957-4f98-8ead-2cbe73c3458a",
     "hasError": false,
     "id": "79c32434-6363-46ba-b5cd-eca29cd12b6d",
     "outputs": [
      {
       "data": {
        "text/latex": "$169.36887 \\; \\mathrm{Mpc}$",
        "text/plain": "<Quantity 169.36886721 Mpc>"
       },
       "execution_count": 31,
       "metadata": {},
       "output_type": "execute_result"
      }
     ],
     "persistentId": "d888f545-6530-40a7-945f-eee4021971d2",
     "text": "# Physical Distance AT THAT Redshift: Proper Distance = R(t)u = u/(1+z)\n# Need to multiply by the correct scale factor 1/ (1+zavg)\n\nzavg = (z1+z2)/2\nDist/(1+zavg)\n"
    },
    "executionTime": "2020-05-12T07:42:00.512Z"
   },
   {
    "cell": {
     "executionCount": 32,
     "executionEventId": "101f9a11-455b-4436-8820-5f5ac83187e9",
     "hasError": false,
     "id": "64260a7f-9c58-4608-a503-828ab4c51acc",
     "outputs": [],
     "persistentId": "a4122f5a-4440-4d1c-ac15-e848d168770a",
     "text": "class CosmologicalTools:\n    # Define a class that provides functions to compute various cosmological quantities\n    # for a given cosmology  \n        \n    def __init__(self, OmegaM0, OmegaR0, OmegaL0, h):\n        # initialize the instance of the class - for any given Cosmology\n        # Input:    Omega M matter density parameter at z=0\n        #           Omega R radiation density parameter at z=0\n        #           Omega L  dark energy density parameter at z=0\n        #           h  normalization for the hubble parameter at z=0\n        \n        # initialize the cosmology at z=0\n        self.OmegaM0 = OmegaM0    ### Matter Density Parameter\n        self.OmegaR0 = OmegaR0    ### Radiation Density Parameter\n        self.OmegaL0 = OmegaL0    ### Dark Energy Density Parameter\n        self.OmegaK0 = 1 - (OmegaM0 + OmegaR0 + OmegaL0)    #### Curvature Density Parameter\n    \n        self.h = h   # Normalization of Hubble Parameter   \n        self.Ho = h*100*u.km/u.s/u.Mpc #  Hubble Constant at z=0  100 h km/s/Mpc\n    \n    \n    # Question 1 A)\n    def HubbleParameter(self, z):\n        # Function that defines the Hubble Parameter as a function of redshift\n        # Input:   Redshift z \n        # Returns: The Hubble parameter at the given redshift in units of km/s/Mpc        \n        \n        # FILL THIS IN \n        M = self.OmegaM0*(1+z)**3\n        R = self.OmegaR0*(1+z)**4\n        L = self.OmegaL0\n        K = self.OmegaK0*(1+z)**2\n        \n        return  self.Ho*np.sqrt(M+R+L+K)\n    \n    \n    \n    # Question 2 A)\n    def OmegaM_Z(self,z):\n        # Function that defines the matter density parameter as a function of redshift\n        # Input:  Redshift z . Can be an array\n        # Output:  Matter Density Parameter at the given redshift.\n        \n        # FILL THIS IN\n        return self.OmegaM0*(1+z)**3*self.Ho**2/self.HubbleParameter(z)**2\n    \n    def OmegaR_Z(self,z):\n        # Function that defines the radiation density parameter as a function of redshift\n        # Input:  Redshift z . Can be an array\n        # Output:  Radiation Density Parameter at the given redshift.\n        \n        # FILL THIS IN\n        return self.OmegaR0*(1+z)**4*self.Ho**2/self.HubbleParameter(z)**2\n    \n    \n    def OmegaL_Z(self,z):\n        # Function that defines the dark energy density parameter as a function of redshift\n        # Input:  Redshift z . Can be an array\n        # Output:  Dark Energy Density Parameter at the given redshift.\n        \n        # FILL THIS IN\n        return self.OmegaL0*self.Ho**2/self.HubbleParameter(z)**2\n    \n    \n    ###########################\n    # Lab 12 Starts Here\n    ###########################\n    \n    \n    # Question 1 A) \n    \n    def LookBackTime(self, ze):\n    # Function that computes the look back time at a given redshift\n    # i.e. the difference in time from when a photon was emitted to when it is observed at present day.\n    # Input:    Redshift emitted (ze). This cannot be an array. \n    # Output:   Time in units of Gyr Ago  (relative to present day). This is not an array  \n    \n        # Observed redshift  \n        zo = 0\n    \n        # define an array with redshifts, spaced in intervals of 0.001 from zo to ze\n        zrange = np.arange(zo, ze, 1e-3)\n        \n        # y = (1/H(zrange)).to(GYR)  /  (1+zrange)\n        # But need to correct units of 1/H to be Gyr rather than seconds  \n        # use the astropy.units functionality .to(units)\n        # FILL THIS IN \n        y = (1/self.HubbleParameter(zrange)).to(u.Gyr)/(1+zrange)\n        \n        \n        # Integrate y(zrange) numerically over zrange and return in units of Gyr\n        # FILL THIS IN \n        return simps(y,zrange)*u.Gyr\n    \n    \n    # Question 2 A) \n    \n    def ComovingDistance(self, ze):\n    # Function that returns the Comoving Radial Distance to an object at a given redshift\n    # Distance to a galaxy that is moving with the Hubble Flow (expanding universe) at a given redshift\n    # Input:    Redshift emitted (ze) \n    # Output:   DC in Mpc\n\n    \n        # define an array with redshifts, spaced  in intervals of 0.001\n        # Note that if you want redshifts smaller than 0.001 you'll need to refine this\n        zrange = np.arange(0, ze, 1e-3)\n    \n        # 1/H(zrange)*speed of light\n        # Speed of light is loaded in modules from astropy, but in units of m/s --> need in km/s\n        # FILL THIS IN\n        y = 1/self.HubbleParameter(zrange)*c.to(u.km/u.s)\n    \n        # Integrate y numerically over zrange and return in units of Mpc\n        # FILL THIS IN \n        return simps(y,zrange)*u.Mpc\n    \n    \n    # Question 2 D) \n    \n    def ProperDistance(self, zo, ze):\n    # Function that returns the Proper Distance at a given redshift (the distance measured by a ruler)\n    # Input:    Redshift observed (zo) \n    #           Redshift of object (ze)\n    # Output:   Proper Distance in Mpc\n    \n        # FILL THIS IN\n        # Comoving Distance (to emitted photon) [ independent of time] x the scale factor at the time of observation.\n        return self.ComovingDistance(ze)/(1+zo)\n\n \n    # Question 3 A)\n    \n    def LuminosityDistance(self, ze): \n    # Function that computes DL, the luminosity distance of a galaxy at a given redshift\n    # Input:    Redshift emitted (ze) \n    # Output:   DL  in Mpc\n    \n        # Return  DL = DC*(1+z)\n        # FILL THIS IN\n        return \n    \n\n    # Question 4 A)\n    \n    def AngularDiameterDistance(self, ze): \n    # Function that computes DA, the angular diameter distance at a given redshift\n    # This is the proper distance between us and the source, at the time the photons were emitted.\n    # Physical size of angular separation of 1 degree\n    # Input:   Redshift emitted (ze)\n    # Output:   DA  in Mpc\n    \n        # # FILL THIS IN\n        # DA = DC/(1+z_emitted) = DL/(1+z)**2\n        return      \n    \n    \n    # Question 4 B) \n    \n    def Separation(self, ze, angle):\n    # Function to compute the physical distance corresponding to an angular separation at a given redshift\n    # Input:    Redshift emmitted ze ,  \n    #           angle: Angle between galaxies in arcsec\n    # Output:  Distance in kpc\n    \n        # convert angle from arcsec to radians\n        angleRad = (angle*u.arcsec).to(u.rad)\n    \n         # FILL THIS IN\n        #   DA*angleRad\n        return \n    \n    \n\n    \n    "
    },
    "executionTime": "2020-05-12T07:45:29.477Z"
   },
   {
    "cell": {
     "executionCount": 33,
     "executionEventId": "9bde9101-782f-427f-810c-c23923a57d50",
     "hasError": false,
     "id": "9c1c38c0-1a38-41b0-b37f-42e5ba10465c",
     "outputs": [],
     "persistentId": "bc1c66e9-8cac-48ce-87af-0f66a6f27b4b",
     "text": "# First double check, that the proper distance = comoving radial distance if z_obs=0   (line of sight distance)\nBenchMark.ProperDistance(0,1000)\n"
    },
    "executionTime": "2020-05-12T07:47:15.083Z"
   },
   {
    "cell": {
     "executionCount": 34,
     "executionEventId": "fbe8b1f1-93be-471c-a158-56c237b3e9d8",
     "hasError": false,
     "id": "64260a7f-9c58-4608-a503-828ab4c51acc",
     "outputs": [],
     "persistentId": "a4122f5a-4440-4d1c-ac15-e848d168770a",
     "text": "class CosmologicalTools:\n    # Define a class that provides functions to compute various cosmological quantities\n    # for a given cosmology  \n        \n    def __init__(self, OmegaM0, OmegaR0, OmegaL0, h):\n        # initialize the instance of the class - for any given Cosmology\n        # Input:    Omega M matter density parameter at z=0\n        #           Omega R radiation density parameter at z=0\n        #           Omega L  dark energy density parameter at z=0\n        #           h  normalization for the hubble parameter at z=0\n        \n        # initialize the cosmology at z=0\n        self.OmegaM0 = OmegaM0    ### Matter Density Parameter\n        self.OmegaR0 = OmegaR0    ### Radiation Density Parameter\n        self.OmegaL0 = OmegaL0    ### Dark Energy Density Parameter\n        self.OmegaK0 = 1 - (OmegaM0 + OmegaR0 + OmegaL0)    #### Curvature Density Parameter\n    \n        self.h = h   # Normalization of Hubble Parameter   \n        self.Ho = h*100*u.km/u.s/u.Mpc #  Hubble Constant at z=0  100 h km/s/Mpc\n    \n    \n    # Question 1 A)\n    def HubbleParameter(self, z):\n        # Function that defines the Hubble Parameter as a function of redshift\n        # Input:   Redshift z \n        # Returns: The Hubble parameter at the given redshift in units of km/s/Mpc        \n        \n        # FILL THIS IN \n        M = self.OmegaM0*(1+z)**3\n        R = self.OmegaR0*(1+z)**4\n        L = self.OmegaL0\n        K = self.OmegaK0*(1+z)**2\n        \n        return  self.Ho*np.sqrt(M+R+L+K)\n    \n    \n    \n    # Question 2 A)\n    def OmegaM_Z(self,z):\n        # Function that defines the matter density parameter as a function of redshift\n        # Input:  Redshift z . Can be an array\n        # Output:  Matter Density Parameter at the given redshift.\n        \n        # FILL THIS IN\n        return self.OmegaM0*(1+z)**3*self.Ho**2/self.HubbleParameter(z)**2\n    \n    def OmegaR_Z(self,z):\n        # Function that defines the radiation density parameter as a function of redshift\n        # Input:  Redshift z . Can be an array\n        # Output:  Radiation Density Parameter at the given redshift.\n        \n        # FILL THIS IN\n        return self.OmegaR0*(1+z)**4*self.Ho**2/self.HubbleParameter(z)**2\n    \n    \n    def OmegaL_Z(self,z):\n        # Function that defines the dark energy density parameter as a function of redshift\n        # Input:  Redshift z . Can be an array\n        # Output:  Dark Energy Density Parameter at the given redshift.\n        \n        # FILL THIS IN\n        return self.OmegaL0*self.Ho**2/self.HubbleParameter(z)**2\n    \n    \n    ###########################\n    # Lab 12 Starts Here\n    ###########################\n    \n    \n    # Question 1 A) \n    \n    def LookBackTime(self, ze):\n    # Function that computes the look back time at a given redshift\n    # i.e. the difference in time from when a photon was emitted to when it is observed at present day.\n    # Input:    Redshift emitted (ze). This cannot be an array. \n    # Output:   Time in units of Gyr Ago  (relative to present day). This is not an array  \n    \n        # Observed redshift  \n        zo = 0\n    \n        # define an array with redshifts, spaced in intervals of 0.001 from zo to ze\n        zrange = np.arange(zo, ze, 1e-3)\n        \n        # y = (1/H(zrange)).to(GYR)  /  (1+zrange)\n        # But need to correct units of 1/H to be Gyr rather than seconds  \n        # use the astropy.units functionality .to(units)\n        # FILL THIS IN \n        y = (1/self.HubbleParameter(zrange)).to(u.Gyr)/(1+zrange)\n        \n        \n        # Integrate y(zrange) numerically over zrange and return in units of Gyr\n        # FILL THIS IN \n        return simps(y,zrange)*u.Gyr\n    \n    \n    # Question 2 A) \n    \n    def ComovingDistance(self, ze):\n    # Function that returns the Comoving Radial Distance to an object at a given redshift\n    # Distance to a galaxy that is moving with the Hubble Flow (expanding universe) at a given redshift\n    # Input:    Redshift emitted (ze) \n    # Output:   DC in Mpc\n\n    \n        # define an array with redshifts, spaced  in intervals of 0.001\n        # Note that if you want redshifts smaller than 0.001 you'll need to refine this\n        zrange = np.arange(0, ze, 1e-3)\n    \n        # 1/H(zrange)*speed of light\n        # Speed of light is loaded in modules from astropy, but in units of m/s --> need in km/s\n        # FILL THIS IN\n        y = 1/self.HubbleParameter(zrange)*c.to(u.km/u.s)\n    \n        # Integrate y numerically over zrange and return in units of Mpc\n        # FILL THIS IN \n        return simps(y,zrange)*u.Mpc\n    \n    \n    # Question 2 D) \n    \n    def ProperDistance(self, zo, ze):\n    # Function that returns the Proper Distance at a given redshift (the distance measured by a ruler)\n    # Input:    Redshift observed (zo) \n    #           Redshift of object (ze)\n    # Output:   Proper Distance in Mpc\n    \n        # FILL THIS IN\n        # Comoving Distance (to emitted photon) [ independent of time] x the scale factor at the time of observation.\n        return self.ComovingDistance(ze)/(1+zo)\n\n \n    # Question 3 A)\n    \n    def LuminosityDistance(self, ze): \n    # Function that computes DL, the luminosity distance of a galaxy at a given redshift\n    # Input:    Redshift emitted (ze) \n    # Output:   DL  in Mpc\n    \n        # Return  DL = DC*(1+z)\n        # FILL THIS IN\n        return \n    \n\n    # Question 4 A)\n    \n    def AngularDiameterDistance(self, ze): \n    # Function that computes DA, the angular diameter distance at a given redshift\n    # This is the proper distance between us and the source, at the time the photons were emitted.\n    # Physical size of angular separation of 1 degree\n    # Input:   Redshift emitted (ze)\n    # Output:   DA  in Mpc\n    \n        # # FILL THIS IN\n        # DA = DC/(1+z_emitted) = DL/(1+z)**2\n        return      \n    \n    \n    # Question 4 B) \n    \n    def Separation(self, ze, angle):\n    # Function to compute the physical distance corresponding to an angular separation at a given redshift\n    # Input:    Redshift emmitted ze ,  \n    #           angle: Angle between galaxies in arcsec\n    # Output:  Distance in kpc\n    \n        # convert angle from arcsec to radians\n        angleRad = (angle*u.arcsec).to(u.rad)\n    \n         # FILL THIS IN\n        #   DA*angleRad\n        return \n    \n    \n\n    \n    "
    },
    "executionTime": "2020-05-12T07:47:21.601Z"
   },
   {
    "cell": {
     "executionCount": 35,
     "executionEventId": "dc8b2d74-3445-475f-9363-e11d1a930522",
     "hasError": false,
     "id": "931e307c-bbc3-4f76-9135-deb98507d22f",
     "outputs": [],
     "persistentId": "9ec74341-3619-4dec-9730-4b3253e37073",
     "text": "# Define here an instance of the Class Cosmological Tools that follows the Benchmark Cosmology\nBenchMark = CosmologicalTools(OmegaM0_planck,OmegaR0_planck,OmegaL0_planck,h_planck)\n"
    },
    "executionTime": "2020-05-12T07:47:22.085Z"
   },
   {
    "cell": {
     "executionCount": 36,
     "executionEventId": "bcaf4e4a-6d08-4a7d-a988-808d21242372",
     "hasError": false,
     "id": "93b6fcdc-a8c3-4054-aff9-75ca6cf6c84b",
     "outputs": [],
     "persistentId": "40952956-831b-458d-8161-69cdf1f5665a",
     "text": "# Define a New Instance of the Class with Einstein De Sitter Cosmology \nDeSitter = CosmologicalTools(OmegaMD,OmegaRD,OmegaLD,h_planck)"
    },
    "executionTime": "2020-05-12T07:47:22.551Z"
   },
   {
    "cell": {
     "executionCount": 37,
     "executionEventId": "67183b4a-ddfe-47a8-b521-332725b3a3d5",
     "hasError": false,
     "id": "9c1c38c0-1a38-41b0-b37f-42e5ba10465c",
     "outputs": [
      {
       "data": {
        "text/latex": "$13892.81 \\; \\mathrm{Mpc}$",
        "text/plain": "<Quantity 13892.80996183 Mpc>"
       },
       "execution_count": 37,
       "metadata": {},
       "output_type": "execute_result"
      }
     ],
     "persistentId": "bc1c66e9-8cac-48ce-87af-0f66a6f27b4b",
     "text": "# First double check, that the proper distance = comoving radial distance if z_obs=0   (line of sight distance)\nBenchMark.ProperDistance(0,1000)"
    },
    "executionTime": "2020-05-12T07:47:27.382Z"
   },
   {
    "cell": {
     "executionCount": 38,
     "executionEventId": "e3a6987c-4a29-48fa-bf44-32994490f99e",
     "hasError": false,
     "id": "2af07312-9f7f-4bab-a5db-2eecc822db5d",
     "outputs": [
      {
       "data": {
        "text/latex": "$4630.9367 \\; \\mathrm{Mpc}$",
        "text/plain": "<Quantity 4630.93665394 Mpc>"
       },
       "execution_count": 38,
       "metadata": {},
       "output_type": "execute_result"
      }
     ],
     "persistentId": "aa007f99-d7d8-43d1-afd1-6727ae897a39",
     "text": "# What is the size of the observable universe at z=2? \nBenchMark.ProperDistance(2,1000)"
    },
    "executionTime": "2020-05-12T07:48:00.770Z"
   },
   {
    "cell": {
     "executionCount": 39,
     "executionEventId": "084ad75d-6e3b-40d0-895a-7c120c47dff5",
     "hasError": false,
     "id": "4da729d8-dcf4-4b02-8a56-3eaff901a2cc",
     "outputs": [
      {
       "data": {
        "text/latex": "$3 \\; \\mathrm{}$",
        "text/plain": "<Quantity 3.>"
       },
       "execution_count": 39,
       "metadata": {},
       "output_type": "execute_result"
      }
     ],
     "persistentId": "2a49df03-74dc-4e3b-9876-abc8d3b2f67e",
     "text": "# how much larger was the universe then vs now?\n# expect (1+z) factor of expansion, size of universe changes by the scale factor. \nBenchMark.ProperDistance(0,1000)/BenchMark.ProperDistance(2,1000)"
    },
    "executionTime": "2020-05-12T07:48:45.511Z"
   },
   {
    "cell": {
     "executionCount": 40,
     "executionEventId": "742da726-88e3-45e3-a6ca-62d29dd3852e",
     "hasError": false,
     "id": "504edf4a-0113-42a7-a624-8146225d7c91",
     "outputs": [],
     "persistentId": "ea0875c6-153c-4b88-88de-1d0a5540ae19",
     "text": "zmax = 10\nzmin = 0.001\nzrange2 = np.arange(zmin, zmax, 0.5)"
    },
    "executionTime": "2020-05-12T07:50:05.812Z"
   },
   {
    "cell": {
     "executionCount": 41,
     "executionEventId": "adcccbe3-c9ce-4b6b-8833-aa188209e46d",
     "hasError": true,
     "id": "772d0303-d9a7-423f-ab81-4cce9c3cb587",
     "outputs": [
      {
       "ename": "KeyboardInterrupt",
       "evalue": "",
       "output_type": "error",
       "traceback": [
        "\u001b[0;31m---------------------------------------------------------------------------\u001b[0m",
        "\u001b[0;31mKeyboardInterrupt\u001b[0m                         Traceback (most recent call last)",
        "\u001b[0;32m<ipython-input-41-d91764a5ea2b>\u001b[0m in \u001b[0;36m<module>\u001b[0;34m\u001b[0m\n\u001b[1;32m      1\u001b[0m \u001b[0;31m# What is the size of the universe at each redshit in each cosmology\u001b[0m\u001b[0;34m\u001b[0m\u001b[0;34m\u001b[0m\u001b[0;34m\u001b[0m\u001b[0m\n\u001b[1;32m      2\u001b[0m \u001b[0;34m\u001b[0m\u001b[0m\n\u001b[0;32m----> 3\u001b[0;31m \u001b[0mHorizonBenchMark\u001b[0m \u001b[0;34m=\u001b[0m \u001b[0;34m[\u001b[0m\u001b[0mBenchMark\u001b[0m\u001b[0;34m.\u001b[0m\u001b[0mProperDistance\u001b[0m\u001b[0;34m(\u001b[0m\u001b[0mi\u001b[0m\u001b[0;34m,\u001b[0m\u001b[0;36m1000\u001b[0m\u001b[0;34m)\u001b[0m\u001b[0;34m.\u001b[0m\u001b[0mvalue\u001b[0m \u001b[0;32mfor\u001b[0m \u001b[0mi\u001b[0m \u001b[0;32min\u001b[0m \u001b[0mzrange\u001b[0m\u001b[0;34m]\u001b[0m\u001b[0;34m\u001b[0m\u001b[0;34m\u001b[0m\u001b[0m\n\u001b[0m\u001b[1;32m      4\u001b[0m \u001b[0mHorizonDeSitter\u001b[0m \u001b[0;34m=\u001b[0m \u001b[0;34m[\u001b[0m\u001b[0mDiSitter\u001b[0m\u001b[0;34m.\u001b[0m\u001b[0mProperDistance\u001b[0m\u001b[0;34m(\u001b[0m\u001b[0mi\u001b[0m\u001b[0;34m,\u001b[0m\u001b[0;36m1000\u001b[0m\u001b[0;34m)\u001b[0m\u001b[0;34m.\u001b[0m\u001b[0mvalue\u001b[0m \u001b[0;32mfor\u001b[0m \u001b[0mi\u001b[0m \u001b[0;32min\u001b[0m \u001b[0mzrange\u001b[0m\u001b[0;34m]\u001b[0m\u001b[0;34m\u001b[0m\u001b[0;34m\u001b[0m\u001b[0m\n",
        "\u001b[0;32m<ipython-input-41-d91764a5ea2b>\u001b[0m in \u001b[0;36m<listcomp>\u001b[0;34m(.0)\u001b[0m\n\u001b[1;32m      1\u001b[0m \u001b[0;31m# What is the size of the universe at each redshit in each cosmology\u001b[0m\u001b[0;34m\u001b[0m\u001b[0;34m\u001b[0m\u001b[0;34m\u001b[0m\u001b[0m\n\u001b[1;32m      2\u001b[0m \u001b[0;34m\u001b[0m\u001b[0m\n\u001b[0;32m----> 3\u001b[0;31m \u001b[0mHorizonBenchMark\u001b[0m \u001b[0;34m=\u001b[0m \u001b[0;34m[\u001b[0m\u001b[0mBenchMark\u001b[0m\u001b[0;34m.\u001b[0m\u001b[0mProperDistance\u001b[0m\u001b[0;34m(\u001b[0m\u001b[0mi\u001b[0m\u001b[0;34m,\u001b[0m\u001b[0;36m1000\u001b[0m\u001b[0;34m)\u001b[0m\u001b[0;34m.\u001b[0m\u001b[0mvalue\u001b[0m \u001b[0;32mfor\u001b[0m \u001b[0mi\u001b[0m \u001b[0;32min\u001b[0m \u001b[0mzrange\u001b[0m\u001b[0;34m]\u001b[0m\u001b[0;34m\u001b[0m\u001b[0;34m\u001b[0m\u001b[0m\n\u001b[0m\u001b[1;32m      4\u001b[0m \u001b[0mHorizonDeSitter\u001b[0m \u001b[0;34m=\u001b[0m \u001b[0;34m[\u001b[0m\u001b[0mDiSitter\u001b[0m\u001b[0;34m.\u001b[0m\u001b[0mProperDistance\u001b[0m\u001b[0;34m(\u001b[0m\u001b[0mi\u001b[0m\u001b[0;34m,\u001b[0m\u001b[0;36m1000\u001b[0m\u001b[0;34m)\u001b[0m\u001b[0;34m.\u001b[0m\u001b[0mvalue\u001b[0m \u001b[0;32mfor\u001b[0m \u001b[0mi\u001b[0m \u001b[0;32min\u001b[0m \u001b[0mzrange\u001b[0m\u001b[0;34m]\u001b[0m\u001b[0;34m\u001b[0m\u001b[0;34m\u001b[0m\u001b[0m\n",
        "\u001b[0;32m<ipython-input-34-3346313fb9e3>\u001b[0m in \u001b[0;36mProperDistance\u001b[0;34m(self, zo, ze)\u001b[0m\n\u001b[1;32m    127\u001b[0m         \u001b[0;31m# FILL THIS IN\u001b[0m\u001b[0;34m\u001b[0m\u001b[0;34m\u001b[0m\u001b[0;34m\u001b[0m\u001b[0m\n\u001b[1;32m    128\u001b[0m         \u001b[0;31m# Comoving Distance (to emitted photon) [ independent of time] x the scale factor at the time of observation.\u001b[0m\u001b[0;34m\u001b[0m\u001b[0;34m\u001b[0m\u001b[0;34m\u001b[0m\u001b[0m\n\u001b[0;32m--> 129\u001b[0;31m         \u001b[0;32mreturn\u001b[0m \u001b[0mself\u001b[0m\u001b[0;34m.\u001b[0m\u001b[0mComovingDistance\u001b[0m\u001b[0;34m(\u001b[0m\u001b[0mze\u001b[0m\u001b[0;34m)\u001b[0m\u001b[0;34m/\u001b[0m\u001b[0;34m(\u001b[0m\u001b[0;36m1\u001b[0m\u001b[0;34m+\u001b[0m\u001b[0mzo\u001b[0m\u001b[0;34m)\u001b[0m\u001b[0;34m\u001b[0m\u001b[0;34m\u001b[0m\u001b[0m\n\u001b[0m\u001b[1;32m    130\u001b[0m \u001b[0;34m\u001b[0m\u001b[0m\n\u001b[1;32m    131\u001b[0m \u001b[0;34m\u001b[0m\u001b[0m\n",
        "\u001b[0;32m<ipython-input-34-3346313fb9e3>\u001b[0m in \u001b[0;36mComovingDistance\u001b[0;34m(self, ze)\u001b[0m\n\u001b[1;32m    110\u001b[0m         \u001b[0;31m# Speed of light is loaded in modules from astropy, but in units of m/s --> need in km/s\u001b[0m\u001b[0;34m\u001b[0m\u001b[0;34m\u001b[0m\u001b[0;34m\u001b[0m\u001b[0m\n\u001b[1;32m    111\u001b[0m         \u001b[0;31m# FILL THIS IN\u001b[0m\u001b[0;34m\u001b[0m\u001b[0;34m\u001b[0m\u001b[0;34m\u001b[0m\u001b[0m\n\u001b[0;32m--> 112\u001b[0;31m         \u001b[0my\u001b[0m \u001b[0;34m=\u001b[0m \u001b[0;36m1\u001b[0m\u001b[0;34m/\u001b[0m\u001b[0mself\u001b[0m\u001b[0;34m.\u001b[0m\u001b[0mHubbleParameter\u001b[0m\u001b[0;34m(\u001b[0m\u001b[0mzrange\u001b[0m\u001b[0;34m)\u001b[0m\u001b[0;34m*\u001b[0m\u001b[0mc\u001b[0m\u001b[0;34m.\u001b[0m\u001b[0mto\u001b[0m\u001b[0;34m(\u001b[0m\u001b[0mu\u001b[0m\u001b[0;34m.\u001b[0m\u001b[0mkm\u001b[0m\u001b[0;34m/\u001b[0m\u001b[0mu\u001b[0m\u001b[0;34m.\u001b[0m\u001b[0ms\u001b[0m\u001b[0;34m)\u001b[0m\u001b[0;34m\u001b[0m\u001b[0;34m\u001b[0m\u001b[0m\n\u001b[0m\u001b[1;32m    113\u001b[0m \u001b[0;34m\u001b[0m\u001b[0m\n\u001b[1;32m    114\u001b[0m         \u001b[0;31m# Integrate y numerically over zrange and return in units of Mpc\u001b[0m\u001b[0;34m\u001b[0m\u001b[0;34m\u001b[0m\u001b[0;34m\u001b[0m\u001b[0m\n",
        "\u001b[0;32m<ipython-input-34-3346313fb9e3>\u001b[0m in \u001b[0;36mHubbleParameter\u001b[0;34m(self, z)\u001b[0m\n\u001b[1;32m     28\u001b[0m         \u001b[0;31m# FILL THIS IN\u001b[0m\u001b[0;34m\u001b[0m\u001b[0;34m\u001b[0m\u001b[0;34m\u001b[0m\u001b[0m\n\u001b[1;32m     29\u001b[0m         \u001b[0mM\u001b[0m \u001b[0;34m=\u001b[0m \u001b[0mself\u001b[0m\u001b[0;34m.\u001b[0m\u001b[0mOmegaM0\u001b[0m\u001b[0;34m*\u001b[0m\u001b[0;34m(\u001b[0m\u001b[0;36m1\u001b[0m\u001b[0;34m+\u001b[0m\u001b[0mz\u001b[0m\u001b[0;34m)\u001b[0m\u001b[0;34m**\u001b[0m\u001b[0;36m3\u001b[0m\u001b[0;34m\u001b[0m\u001b[0;34m\u001b[0m\u001b[0m\n\u001b[0;32m---> 30\u001b[0;31m         \u001b[0mR\u001b[0m \u001b[0;34m=\u001b[0m \u001b[0mself\u001b[0m\u001b[0;34m.\u001b[0m\u001b[0mOmegaR0\u001b[0m\u001b[0;34m*\u001b[0m\u001b[0;34m(\u001b[0m\u001b[0;36m1\u001b[0m\u001b[0;34m+\u001b[0m\u001b[0mz\u001b[0m\u001b[0;34m)\u001b[0m\u001b[0;34m**\u001b[0m\u001b[0;36m4\u001b[0m\u001b[0;34m\u001b[0m\u001b[0;34m\u001b[0m\u001b[0m\n\u001b[0m\u001b[1;32m     31\u001b[0m         \u001b[0mL\u001b[0m \u001b[0;34m=\u001b[0m \u001b[0mself\u001b[0m\u001b[0;34m.\u001b[0m\u001b[0mOmegaL0\u001b[0m\u001b[0;34m\u001b[0m\u001b[0;34m\u001b[0m\u001b[0m\n\u001b[1;32m     32\u001b[0m         \u001b[0mK\u001b[0m \u001b[0;34m=\u001b[0m \u001b[0mself\u001b[0m\u001b[0;34m.\u001b[0m\u001b[0mOmegaK0\u001b[0m\u001b[0;34m*\u001b[0m\u001b[0;34m(\u001b[0m\u001b[0;36m1\u001b[0m\u001b[0;34m+\u001b[0m\u001b[0mz\u001b[0m\u001b[0;34m)\u001b[0m\u001b[0;34m**\u001b[0m\u001b[0;36m2\u001b[0m\u001b[0;34m\u001b[0m\u001b[0;34m\u001b[0m\u001b[0m\n",
        "\u001b[0;31mKeyboardInterrupt\u001b[0m: "
       ]
      }
     ],
     "persistentId": "67a65346-0976-4378-8565-53e18a5575eb",
     "text": "# What is the size of the universe at each redshit in each cosmology\n\nHorizonBenchMark = [BenchMark.ProperDistance(i,1000).value for i in zrange]\nHorizonDeSitter = [DiSitter.ProperDistance(i,1000).value for i in zrange]\n"
    },
    "executionTime": "2020-05-12T07:51:57.420Z"
   },
   {
    "cell": {
     "executionCount": 42,
     "executionEventId": "13fce5bc-a451-401d-a18c-7d592c744a46",
     "hasError": true,
     "id": "772d0303-d9a7-423f-ab81-4cce9c3cb587",
     "outputs": [
      {
       "ename": "NameError",
       "evalue": "name 'DiSitter' is not defined",
       "output_type": "error",
       "traceback": [
        "\u001b[0;31m---------------------------------------------------------------------------\u001b[0m",
        "\u001b[0;31mNameError\u001b[0m                                 Traceback (most recent call last)",
        "\u001b[0;32m<ipython-input-42-109b0ee7d3d4>\u001b[0m in \u001b[0;36m<module>\u001b[0;34m\u001b[0m\n\u001b[1;32m      2\u001b[0m \u001b[0;34m\u001b[0m\u001b[0m\n\u001b[1;32m      3\u001b[0m \u001b[0mHorizonBenchMark\u001b[0m \u001b[0;34m=\u001b[0m \u001b[0;34m[\u001b[0m\u001b[0mBenchMark\u001b[0m\u001b[0;34m.\u001b[0m\u001b[0mProperDistance\u001b[0m\u001b[0;34m(\u001b[0m\u001b[0mi\u001b[0m\u001b[0;34m,\u001b[0m\u001b[0;36m1000\u001b[0m\u001b[0;34m)\u001b[0m\u001b[0;34m.\u001b[0m\u001b[0mvalue\u001b[0m \u001b[0;32mfor\u001b[0m \u001b[0mi\u001b[0m \u001b[0;32min\u001b[0m \u001b[0mzrange2\u001b[0m\u001b[0;34m]\u001b[0m\u001b[0;34m\u001b[0m\u001b[0;34m\u001b[0m\u001b[0m\n\u001b[0;32m----> 4\u001b[0;31m \u001b[0mHorizonDeSitter\u001b[0m \u001b[0;34m=\u001b[0m \u001b[0;34m[\u001b[0m\u001b[0mDiSitter\u001b[0m\u001b[0;34m.\u001b[0m\u001b[0mProperDistance\u001b[0m\u001b[0;34m(\u001b[0m\u001b[0mi\u001b[0m\u001b[0;34m,\u001b[0m\u001b[0;36m1000\u001b[0m\u001b[0;34m)\u001b[0m\u001b[0;34m.\u001b[0m\u001b[0mvalue\u001b[0m \u001b[0;32mfor\u001b[0m \u001b[0mi\u001b[0m \u001b[0;32min\u001b[0m \u001b[0mzrange2\u001b[0m\u001b[0;34m]\u001b[0m\u001b[0;34m\u001b[0m\u001b[0;34m\u001b[0m\u001b[0m\n\u001b[0m",
        "\u001b[0;32m<ipython-input-42-109b0ee7d3d4>\u001b[0m in \u001b[0;36m<listcomp>\u001b[0;34m(.0)\u001b[0m\n\u001b[1;32m      2\u001b[0m \u001b[0;34m\u001b[0m\u001b[0m\n\u001b[1;32m      3\u001b[0m \u001b[0mHorizonBenchMark\u001b[0m \u001b[0;34m=\u001b[0m \u001b[0;34m[\u001b[0m\u001b[0mBenchMark\u001b[0m\u001b[0;34m.\u001b[0m\u001b[0mProperDistance\u001b[0m\u001b[0;34m(\u001b[0m\u001b[0mi\u001b[0m\u001b[0;34m,\u001b[0m\u001b[0;36m1000\u001b[0m\u001b[0;34m)\u001b[0m\u001b[0;34m.\u001b[0m\u001b[0mvalue\u001b[0m \u001b[0;32mfor\u001b[0m \u001b[0mi\u001b[0m \u001b[0;32min\u001b[0m \u001b[0mzrange2\u001b[0m\u001b[0;34m]\u001b[0m\u001b[0;34m\u001b[0m\u001b[0;34m\u001b[0m\u001b[0m\n\u001b[0;32m----> 4\u001b[0;31m \u001b[0mHorizonDeSitter\u001b[0m \u001b[0;34m=\u001b[0m \u001b[0;34m[\u001b[0m\u001b[0mDiSitter\u001b[0m\u001b[0;34m.\u001b[0m\u001b[0mProperDistance\u001b[0m\u001b[0;34m(\u001b[0m\u001b[0mi\u001b[0m\u001b[0;34m,\u001b[0m\u001b[0;36m1000\u001b[0m\u001b[0;34m)\u001b[0m\u001b[0;34m.\u001b[0m\u001b[0mvalue\u001b[0m \u001b[0;32mfor\u001b[0m \u001b[0mi\u001b[0m \u001b[0;32min\u001b[0m \u001b[0mzrange2\u001b[0m\u001b[0;34m]\u001b[0m\u001b[0;34m\u001b[0m\u001b[0;34m\u001b[0m\u001b[0m\n\u001b[0m",
        "\u001b[0;31mNameError\u001b[0m: name 'DiSitter' is not defined"
       ]
      }
     ],
     "persistentId": "67a65346-0976-4378-8565-53e18a5575eb",
     "text": "# What is the size of the universe at each redshit in each cosmology\n\nHorizonBenchMark = [BenchMark.ProperDistance(i,1000).value for i in zrange2]\nHorizonDeSitter = [DiSitter.ProperDistance(i,1000).value for i in zrange2]\n"
    },
    "executionTime": "2020-05-12T07:52:08.921Z"
   },
   {
    "cell": {
     "executionCount": 43,
     "executionEventId": "f34399fb-110c-44f9-8458-9bf42ebfae65",
     "hasError": false,
     "id": "772d0303-d9a7-423f-ab81-4cce9c3cb587",
     "outputs": [],
     "persistentId": "67a65346-0976-4378-8565-53e18a5575eb",
     "text": "# What is the size of the universe at each redshit in each cosmology\n\nHorizonBenchMark = [BenchMark.ProperDistance(i,1000).value for i in zrange2]\nHorizonDeSitter = [DeSitter.ProperDistance(i,1000).value for i in zrange2]\n"
    },
    "executionTime": "2020-05-12T07:52:25.201Z"
   },
   {
    "cell": {
     "executionCount": 44,
     "executionEventId": "a38f350c-c5d7-42f5-9451-2ba5aaddb5ee",
     "hasError": false,
     "id": "96e62edd-2008-4f64-bdb1-6ad7ec8469b1",
     "outputs": [
      {
       "data": {
        "image/png": "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\n",
        "text/plain": "<Figure size 720x720 with 1 Axes>"
       },
       "metadata": {
        "needs_background": "light"
       },
       "output_type": "display_data"
      }
     ],
     "persistentId": "9bb7c842-5c93-4229-b5e3-1b4cb1e951db",
     "text": "# Plot the Horizon Distance as a Function of Redshift out to z=10\n###############################################################################\n\nfig = plt.figure(figsize=(10,10))\nax = plt.subplot(111)\n\n\n# Comoving Distance\n# FILL THIS IN\nplt.semilogy(1+zrange2,HorizonBenchMark, linewidth=5, label='BenchMark')\n\nplt.semilogy(1+zrange2 ,HorizonDeSitter  , linewidth=5, label='DeSitter')\n\n\n# Add axis labels\nplt.xlabel('1+z', fontsize=22)\nplt.ylabel('Horizon Distance (Mpc)', fontsize=22)\n\n\n#adjust tick label font size\nlabel_size = 22\nmatplotlib.rcParams['xtick.labelsize'] = label_size \nmatplotlib.rcParams['ytick.labelsize'] = label_size\n\nlegend = ax.legend(loc='upper right',fontsize=20)\n\n# Save to a file\nax.set_rasterized(True)\nplt.savefig('HorizonDistance.png', rasterized=True, dpi=350)"
    },
    "executionTime": "2020-05-12T07:52:56.106Z"
   },
   {
    "cell": {
     "executionCount": 45,
     "executionEventId": "72aee796-276d-48ff-ad88-e2841085e766",
     "hasError": false,
     "id": "64260a7f-9c58-4608-a503-828ab4c51acc",
     "outputs": [],
     "persistentId": "a4122f5a-4440-4d1c-ac15-e848d168770a",
     "text": "class CosmologicalTools:\n    # Define a class that provides functions to compute various cosmological quantities\n    # for a given cosmology  \n        \n    def __init__(self, OmegaM0, OmegaR0, OmegaL0, h):\n        # initialize the instance of the class - for any given Cosmology\n        # Input:    Omega M matter density parameter at z=0\n        #           Omega R radiation density parameter at z=0\n        #           Omega L  dark energy density parameter at z=0\n        #           h  normalization for the hubble parameter at z=0\n        \n        # initialize the cosmology at z=0\n        self.OmegaM0 = OmegaM0    ### Matter Density Parameter\n        self.OmegaR0 = OmegaR0    ### Radiation Density Parameter\n        self.OmegaL0 = OmegaL0    ### Dark Energy Density Parameter\n        self.OmegaK0 = 1 - (OmegaM0 + OmegaR0 + OmegaL0)    #### Curvature Density Parameter\n    \n        self.h = h   # Normalization of Hubble Parameter   \n        self.Ho = h*100*u.km/u.s/u.Mpc #  Hubble Constant at z=0  100 h km/s/Mpc\n    \n    \n    # Question 1 A)\n    def HubbleParameter(self, z):\n        # Function that defines the Hubble Parameter as a function of redshift\n        # Input:   Redshift z \n        # Returns: The Hubble parameter at the given redshift in units of km/s/Mpc        \n        \n        # FILL THIS IN \n        M = self.OmegaM0*(1+z)**3\n        R = self.OmegaR0*(1+z)**4\n        L = self.OmegaL0\n        K = self.OmegaK0*(1+z)**2\n        \n        return  self.Ho*np.sqrt(M+R+L+K)\n    \n    \n    \n    # Question 2 A)\n    def OmegaM_Z(self,z):\n        # Function that defines the matter density parameter as a function of redshift\n        # Input:  Redshift z . Can be an array\n        # Output:  Matter Density Parameter at the given redshift.\n        \n        # FILL THIS IN\n        return self.OmegaM0*(1+z)**3*self.Ho**2/self.HubbleParameter(z)**2\n    \n    def OmegaR_Z(self,z):\n        # Function that defines the radiation density parameter as a function of redshift\n        # Input:  Redshift z . Can be an array\n        # Output:  Radiation Density Parameter at the given redshift.\n        \n        # FILL THIS IN\n        return self.OmegaR0*(1+z)**4*self.Ho**2/self.HubbleParameter(z)**2\n    \n    \n    def OmegaL_Z(self,z):\n        # Function that defines the dark energy density parameter as a function of redshift\n        # Input:  Redshift z . Can be an array\n        # Output:  Dark Energy Density Parameter at the given redshift.\n        \n        # FILL THIS IN\n        return self.OmegaL0*self.Ho**2/self.HubbleParameter(z)**2\n    \n    \n    ###########################\n    # Lab 12 Starts Here\n    ###########################\n    \n    \n    # Question 1 A) \n    \n    def LookBackTime(self, ze):\n    # Function that computes the look back time at a given redshift\n    # i.e. the difference in time from when a photon was emitted to when it is observed at present day.\n    # Input:    Redshift emitted (ze). This cannot be an array. \n    # Output:   Time in units of Gyr Ago  (relative to present day). This is not an array  \n    \n        # Observed redshift  \n        zo = 0\n    \n        # define an array with redshifts, spaced in intervals of 0.001 from zo to ze\n        zrange = np.arange(zo, ze, 1e-3)\n        \n        # y = (1/H(zrange)).to(GYR)  /  (1+zrange)\n        # But need to correct units of 1/H to be Gyr rather than seconds  \n        # use the astropy.units functionality .to(units)\n        # FILL THIS IN \n        y = (1/self.HubbleParameter(zrange)).to(u.Gyr)/(1+zrange)\n        \n        \n        # Integrate y(zrange) numerically over zrange and return in units of Gyr\n        # FILL THIS IN \n        return simps(y,zrange)*u.Gyr\n    \n    \n    # Question 2 A) \n    \n    def ComovingDistance(self, ze):\n    # Function that returns the Comoving Radial Distance to an object at a given redshift\n    # Distance to a galaxy that is moving with the Hubble Flow (expanding universe) at a given redshift\n    # Input:    Redshift emitted (ze) \n    # Output:   DC in Mpc\n\n    \n        # define an array with redshifts, spaced  in intervals of 0.001\n        # Note that if you want redshifts smaller than 0.001 you'll need to refine this\n        zrange = np.arange(0, ze, 1e-3)\n    \n        # 1/H(zrange)*speed of light\n        # Speed of light is loaded in modules from astropy, but in units of m/s --> need in km/s\n        # FILL THIS IN\n        y = 1/self.HubbleParameter(zrange)*c.to(u.km/u.s)\n    \n        # Integrate y numerically over zrange and return in units of Mpc\n        # FILL THIS IN \n        return simps(y,zrange)*u.Mpc\n    \n    \n    # Question 2 D) \n    \n    def ProperDistance(self, zo, ze):\n    # Function that returns the Proper Distance at a given redshift (the distance measured by a ruler)\n    # Input:    Redshift observed (zo) \n    #           Redshift of object (ze)\n    # Output:   Proper Distance in Mpc\n    \n        # FILL THIS IN\n        # Comoving Distance (to emitted photon) [ independent of time] x the scale factor at the time of observation.\n        return self.ComovingDistance(ze)/(1+zo)\n\n \n    # Question 3 A)\n    \n    def LuminosityDistance(self, ze): \n    # Function that computes DL, the luminosity distance of a galaxy at a given redshift\n    # Input:    Redshift emitted (ze) \n    # Output:   DL  in Mpc\n    \n        # Return  DL = DC*(1+z)\n        # FILL THIS IN\n        return self.ComovingDistance(ze)*(1+ze)\n    \n\n    # Question 4 A)\n    \n    def AngularDiameterDistance(self, ze): \n    # Function that computes DA, the angular diameter distance at a given redshift\n    # This is the proper distance between us and the source, at the time the photons were emitted.\n    # Physical size of angular separation of 1 degree\n    # Input:   Redshift emitted (ze)\n    # Output:   DA  in Mpc\n    \n        # # FILL THIS IN\n        # DA = DC/(1+z_emitted) = DL/(1+z)**2\n        return      \n    \n    \n    # Question 4 B) \n    \n    def Separation(self, ze, angle):\n    # Function to compute the physical distance corresponding to an angular separation at a given redshift\n    # Input:    Redshift emmitted ze ,  \n    #           angle: Angle between galaxies in arcsec\n    # Output:  Distance in kpc\n    \n        # convert angle from arcsec to radians\n        angleRad = (angle*u.arcsec).to(u.rad)\n    \n         # FILL THIS IN\n        #   DA*angleRad\n        return \n    \n    \n\n    \n    "
    },
    "executionTime": "2020-05-12T07:56:06.983Z"
   },
   {
    "cell": {
     "executionCount": 46,
     "executionEventId": "88fcc177-84f4-4667-9846-7f7717479d0b",
     "hasError": false,
     "id": "931e307c-bbc3-4f76-9135-deb98507d22f",
     "outputs": [],
     "persistentId": "9ec74341-3619-4dec-9730-4b3253e37073",
     "text": "# Define here an instance of the Class Cosmological Tools that follows the Benchmark Cosmology\nBenchMark = CosmologicalTools(OmegaM0_planck,OmegaR0_planck,OmegaL0_planck,h_planck)\n"
    },
    "executionTime": "2020-05-12T07:56:14.064Z"
   },
   {
    "cell": {
     "executionCount": 47,
     "executionEventId": "7a536a17-fdab-47c0-a3af-bbf791face3b",
     "hasError": false,
     "id": "93b6fcdc-a8c3-4054-aff9-75ca6cf6c84b",
     "outputs": [],
     "persistentId": "40952956-831b-458d-8161-69cdf1f5665a",
     "text": "# Define a New Instance of the Class with Einstein De Sitter Cosmology \nDeSitter = CosmologicalTools(OmegaMD,OmegaRD,OmegaLD,h_planck)"
    },
    "executionTime": "2020-05-12T07:56:15.000Z"
   },
   {
    "cell": {
     "executionCount": 48,
     "executionEventId": "b0341bec-8bd5-4743-8a38-8edfca3f5f51",
     "hasError": false,
     "id": "014e7abd-404f-43a4-9a3b-4230a68c6e13",
     "outputs": [
      {
       "data": {
        "text/latex": "$7585.7758 \\; \\mathrm{Mpc}$",
        "text/plain": "<Quantity 7585.77575029 Mpc>"
       },
       "execution_count": 48,
       "metadata": {},
       "output_type": "execute_result"
      }
     ],
     "persistentId": "f426ef28-4cce-4f91-acce-a22dee885d38",
     "text": "# Question 3 B) \n\n# First What is the Luminosity Distance? \n# m-M = 5*log(DL/Mpc) + 25\n\nm = 25.1\nM = -19.3\n\nDLSne = 10**((m-M-25.0)/5.0)*u.Mpc\nDLSne\n"
    },
    "executionTime": "2020-05-12T07:58:19.831Z"
   },
   {
    "cell": {
     "executionCount": 49,
     "executionEventId": "9edb95fe-8ba2-4cb9-915b-cda9f895f8c8",
     "hasError": false,
     "id": "1b892ab1-f06b-44ef-a574-a19c060aad40",
     "outputs": [
      {
       "data": {
        "text/latex": "$6783.5777 \\; \\mathrm{Mpc}$",
        "text/plain": "<Quantity 6783.57773673 Mpc>"
       },
       "execution_count": 49,
       "metadata": {},
       "output_type": "execute_result"
      }
     ],
     "persistentId": "cc59feef-a0b6-4f78-993a-cba8be151681",
     "text": "# Now reverse engineer the problem. What redshift gives you the right answer? \n# in reality the redshift is determined by identifying the redshift of the host.  \nBenchMark.LuminosityDistance(1)"
    },
    "executionTime": "2020-05-12T07:59:03.853Z"
   },
   {
    "cell": {
     "executionCount": 50,
     "executionEventId": "0058c40d-9d22-4aa4-8983-c50ef4004df2",
     "hasError": false,
     "id": "1b892ab1-f06b-44ef-a574-a19c060aad40",
     "outputs": [
      {
       "data": {
        "text/latex": "$11189.137 \\; \\mathrm{Mpc}$",
        "text/plain": "<Quantity 11189.13720226 Mpc>"
       },
       "execution_count": 50,
       "metadata": {},
       "output_type": "execute_result"
      }
     ],
     "persistentId": "cc59feef-a0b6-4f78-993a-cba8be151681",
     "text": "# Now reverse engineer the problem. What redshift gives you the right answer? \n# in reality the redshift is determined by identifying the redshift of the host.  \nBenchMark.LuminosityDistance(1.5)"
    },
    "executionTime": "2020-05-12T07:59:20.590Z"
   },
   {
    "cell": {
     "executionCount": 51,
     "executionEventId": "2f4ebec5-5556-4865-b365-45236c79284c",
     "hasError": false,
     "id": "1b892ab1-f06b-44ef-a574-a19c060aad40",
     "outputs": [
      {
       "data": {
        "text/latex": "$7587.8455 \\; \\mathrm{Mpc}$",
        "text/plain": "<Quantity 7587.84545591 Mpc>"
       },
       "execution_count": 51,
       "metadata": {},
       "output_type": "execute_result"
      }
     ],
     "persistentId": "cc59feef-a0b6-4f78-993a-cba8be151681",
     "text": "# Now reverse engineer the problem. What redshift gives you the right answer? \n# in reality the redshift is determined by identifying the redshift of the host.  \nBenchMark.LuminosityDistance(1.095)"
    },
    "executionTime": "2020-05-12T07:59:26.044Z"
   },
   {
    "cell": {
     "executionCount": 52,
     "executionEventId": "2748c815-d514-416b-88f1-2c6390a5d3f7",
     "hasError": false,
     "id": "ef10f079-dbd8-4c2c-8c49-8acebcaf3cf4",
     "outputs": [
      {
       "data": {
        "text/latex": "$3621.8833 \\; \\mathrm{Mpc}$",
        "text/plain": "<Quantity 3621.88327251 Mpc>"
       },
       "execution_count": 52,
       "metadata": {},
       "output_type": "execute_result"
      }
     ],
     "persistentId": "a7c04d32-5066-4890-81c5-c1fc978d4162",
     "text": "# What is the proper distance to this supernova given our current rate of expansion? \nBenchMark.ProperDistance(0,1.095)"
    },
    "executionTime": "2020-05-12T08:00:47.226Z"
   },
   {
    "cell": {
     "executionCount": 53,
     "executionEventId": "a911156c-2605-4b21-b108-d3c9518e6ddf",
     "hasError": true,
     "id": "64260a7f-9c58-4608-a503-828ab4c51acc",
     "outputs": [
      {
       "ename": "SyntaxError",
       "evalue": "invalid character in identifier (<ipython-input-53-70c55885412a>, line 171)",
       "output_type": "error",
       "traceback": [
        "\u001b[0;36m  File \u001b[0;32m\"<ipython-input-53-70c55885412a>\"\u001b[0;36m, line \u001b[0;32m171\u001b[0m\n\u001b[0;31m    return （self.AngularDiameterDistance(ze)*angleRad).to(u.kpc)\u001b[0m\n\u001b[0m               ^\u001b[0m\n\u001b[0;31mSyntaxError\u001b[0m\u001b[0;31m:\u001b[0m invalid character in identifier\n"
       ]
      }
     ],
     "persistentId": "a4122f5a-4440-4d1c-ac15-e848d168770a",
     "text": "class CosmologicalTools:\n    # Define a class that provides functions to compute various cosmological quantities\n    # for a given cosmology  \n        \n    def __init__(self, OmegaM0, OmegaR0, OmegaL0, h):\n        # initialize the instance of the class - for any given Cosmology\n        # Input:    Omega M matter density parameter at z=0\n        #           Omega R radiation density parameter at z=0\n        #           Omega L  dark energy density parameter at z=0\n        #           h  normalization for the hubble parameter at z=0\n        \n        # initialize the cosmology at z=0\n        self.OmegaM0 = OmegaM0    ### Matter Density Parameter\n        self.OmegaR0 = OmegaR0    ### Radiation Density Parameter\n        self.OmegaL0 = OmegaL0    ### Dark Energy Density Parameter\n        self.OmegaK0 = 1 - (OmegaM0 + OmegaR0 + OmegaL0)    #### Curvature Density Parameter\n    \n        self.h = h   # Normalization of Hubble Parameter   \n        self.Ho = h*100*u.km/u.s/u.Mpc #  Hubble Constant at z=0  100 h km/s/Mpc\n    \n    \n    # Question 1 A)\n    def HubbleParameter(self, z):\n        # Function that defines the Hubble Parameter as a function of redshift\n        # Input:   Redshift z \n        # Returns: The Hubble parameter at the given redshift in units of km/s/Mpc        \n        \n        # FILL THIS IN \n        M = self.OmegaM0*(1+z)**3\n        R = self.OmegaR0*(1+z)**4\n        L = self.OmegaL0\n        K = self.OmegaK0*(1+z)**2\n        \n        return  self.Ho*np.sqrt(M+R+L+K)\n    \n    \n    \n    # Question 2 A)\n    def OmegaM_Z(self,z):\n        # Function that defines the matter density parameter as a function of redshift\n        # Input:  Redshift z . Can be an array\n        # Output:  Matter Density Parameter at the given redshift.\n        \n        # FILL THIS IN\n        return self.OmegaM0*(1+z)**3*self.Ho**2/self.HubbleParameter(z)**2\n    \n    def OmegaR_Z(self,z):\n        # Function that defines the radiation density parameter as a function of redshift\n        # Input:  Redshift z . Can be an array\n        # Output:  Radiation Density Parameter at the given redshift.\n        \n        # FILL THIS IN\n        return self.OmegaR0*(1+z)**4*self.Ho**2/self.HubbleParameter(z)**2\n    \n    \n    def OmegaL_Z(self,z):\n        # Function that defines the dark energy density parameter as a function of redshift\n        # Input:  Redshift z . Can be an array\n        # Output:  Dark Energy Density Parameter at the given redshift.\n        \n        # FILL THIS IN\n        return self.OmegaL0*self.Ho**2/self.HubbleParameter(z)**2\n    \n    \n    ###########################\n    # Lab 12 Starts Here\n    ###########################\n    \n    \n    # Question 1 A) \n    \n    def LookBackTime(self, ze):\n    # Function that computes the look back time at a given redshift\n    # i.e. the difference in time from when a photon was emitted to when it is observed at present day.\n    # Input:    Redshift emitted (ze). This cannot be an array. \n    # Output:   Time in units of Gyr Ago  (relative to present day). This is not an array  \n    \n        # Observed redshift  \n        zo = 0\n    \n        # define an array with redshifts, spaced in intervals of 0.001 from zo to ze\n        zrange = np.arange(zo, ze, 1e-3)\n        \n        # y = (1/H(zrange)).to(GYR)  /  (1+zrange)\n        # But need to correct units of 1/H to be Gyr rather than seconds  \n        # use the astropy.units functionality .to(units)\n        # FILL THIS IN \n        y = (1/self.HubbleParameter(zrange)).to(u.Gyr)/(1+zrange)\n        \n        \n        # Integrate y(zrange) numerically over zrange and return in units of Gyr\n        # FILL THIS IN \n        return simps(y,zrange)*u.Gyr\n    \n    \n    # Question 2 A) \n    \n    def ComovingDistance(self, ze):\n    # Function that returns the Comoving Radial Distance to an object at a given redshift\n    # Distance to a galaxy that is moving with the Hubble Flow (expanding universe) at a given redshift\n    # Input:    Redshift emitted (ze) \n    # Output:   DC in Mpc\n\n    \n        # define an array with redshifts, spaced  in intervals of 0.001\n        # Note that if you want redshifts smaller than 0.001 you'll need to refine this\n        zrange = np.arange(0, ze, 1e-3)\n    \n        # 1/H(zrange)*speed of light\n        # Speed of light is loaded in modules from astropy, but in units of m/s --> need in km/s\n        # FILL THIS IN\n        y = 1/self.HubbleParameter(zrange)*c.to(u.km/u.s)\n    \n        # Integrate y numerically over zrange and return in units of Mpc\n        # FILL THIS IN \n        return simps(y,zrange)*u.Mpc\n    \n    \n    # Question 2 D) \n    \n    def ProperDistance(self, zo, ze):\n    # Function that returns the Proper Distance at a given redshift (the distance measured by a ruler)\n    # Input:    Redshift observed (zo) \n    #           Redshift of object (ze)\n    # Output:   Proper Distance in Mpc\n    \n        # FILL THIS IN\n        # Comoving Distance (to emitted photon) [ independent of time] x the scale factor at the time of observation.\n        return self.ComovingDistance(ze)/(1+zo)\n\n \n    # Question 3 A)\n    \n    def LuminosityDistance(self, ze): \n    # Function that computes DL, the luminosity distance of a galaxy at a given redshift\n    # Input:    Redshift emitted (ze) \n    # Output:   DL  in Mpc\n    \n        # Return  DL = DC*(1+z)\n        # FILL THIS IN\n        return self.ComovingDistance(ze)*(1+ze)\n    \n\n    # Question 4 A)\n    \n    def AngularDiameterDistance(self, ze): \n    # Function that computes DA, the angular diameter distance at a given redshift\n    # This is the proper distance between us and the source, at the time the photons were emitted.\n    # Physical size of angular separation of 1 degree\n    # Input:   Redshift emitted (ze)\n    # Output:   DA  in Mpc\n    \n        # # FILL THIS IN\n        # DA = DC/(1+z_emitted) = DL/(1+z)**2\n        return self.ComovingDistance(ze)/(1+ze)\n    \n    \n    # Question 4 B) \n    \n    def Separation(self, ze, angle):\n    # Function to compute the physical distance corresponding to an angular separation at a given redshift\n    # Input:    Redshift emmitted ze ,  \n    #           angle: Angle between galaxies in arcsec\n    # Output:  Distance in kpc\n    \n        # convert angle from arcsec to radians\n        angleRad = (angle*u.arcsec).to(u.rad)\n    \n         # FILL THIS IN\n        #   DA*angleRad\n        return （self.AngularDiameterDistance(ze)*angleRad).to(u.kpc)\n    \n    \n\n    \n    "
    },
    "executionTime": "2020-05-12T08:04:20.943Z"
   },
   {
    "cell": {
     "executionCount": 54,
     "executionEventId": "873434e7-5f93-471e-8aff-7aa168bdea95",
     "hasError": false,
     "id": "64260a7f-9c58-4608-a503-828ab4c51acc",
     "outputs": [],
     "persistentId": "a4122f5a-4440-4d1c-ac15-e848d168770a",
     "text": "class CosmologicalTools:\n    # Define a class that provides functions to compute various cosmological quantities\n    # for a given cosmology  \n        \n    def __init__(self, OmegaM0, OmegaR0, OmegaL0, h):\n        # initialize the instance of the class - for any given Cosmology\n        # Input:    Omega M matter density parameter at z=0\n        #           Omega R radiation density parameter at z=0\n        #           Omega L  dark energy density parameter at z=0\n        #           h  normalization for the hubble parameter at z=0\n        \n        # initialize the cosmology at z=0\n        self.OmegaM0 = OmegaM0    ### Matter Density Parameter\n        self.OmegaR0 = OmegaR0    ### Radiation Density Parameter\n        self.OmegaL0 = OmegaL0    ### Dark Energy Density Parameter\n        self.OmegaK0 = 1 - (OmegaM0 + OmegaR0 + OmegaL0)    #### Curvature Density Parameter\n    \n        self.h = h   # Normalization of Hubble Parameter   \n        self.Ho = h*100*u.km/u.s/u.Mpc #  Hubble Constant at z=0  100 h km/s/Mpc\n    \n    \n    # Question 1 A)\n    def HubbleParameter(self, z):\n        # Function that defines the Hubble Parameter as a function of redshift\n        # Input:   Redshift z \n        # Returns: The Hubble parameter at the given redshift in units of km/s/Mpc        \n        \n        # FILL THIS IN \n        M = self.OmegaM0*(1+z)**3\n        R = self.OmegaR0*(1+z)**4\n        L = self.OmegaL0\n        K = self.OmegaK0*(1+z)**2\n        \n        return  self.Ho*np.sqrt(M+R+L+K)\n    \n    \n    \n    # Question 2 A)\n    def OmegaM_Z(self,z):\n        # Function that defines the matter density parameter as a function of redshift\n        # Input:  Redshift z . Can be an array\n        # Output:  Matter Density Parameter at the given redshift.\n        \n        # FILL THIS IN\n        return self.OmegaM0*(1+z)**3*self.Ho**2/self.HubbleParameter(z)**2\n    \n    def OmegaR_Z(self,z):\n        # Function that defines the radiation density parameter as a function of redshift\n        # Input:  Redshift z . Can be an array\n        # Output:  Radiation Density Parameter at the given redshift.\n        \n        # FILL THIS IN\n        return self.OmegaR0*(1+z)**4*self.Ho**2/self.HubbleParameter(z)**2\n    \n    \n    def OmegaL_Z(self,z):\n        # Function that defines the dark energy density parameter as a function of redshift\n        # Input:  Redshift z . Can be an array\n        # Output:  Dark Energy Density Parameter at the given redshift.\n        \n        # FILL THIS IN\n        return self.OmegaL0*self.Ho**2/self.HubbleParameter(z)**2\n    \n    \n    ###########################\n    # Lab 12 Starts Here\n    ###########################\n    \n    \n    # Question 1 A) \n    \n    def LookBackTime(self, ze):\n    # Function that computes the look back time at a given redshift\n    # i.e. the difference in time from when a photon was emitted to when it is observed at present day.\n    # Input:    Redshift emitted (ze). This cannot be an array. \n    # Output:   Time in units of Gyr Ago  (relative to present day). This is not an array  \n    \n        # Observed redshift  \n        zo = 0\n    \n        # define an array with redshifts, spaced in intervals of 0.001 from zo to ze\n        zrange = np.arange(zo, ze, 1e-3)\n        \n        # y = (1/H(zrange)).to(GYR)  /  (1+zrange)\n        # But need to correct units of 1/H to be Gyr rather than seconds  \n        # use the astropy.units functionality .to(units)\n        # FILL THIS IN \n        y = (1/self.HubbleParameter(zrange)).to(u.Gyr)/(1+zrange)\n        \n        \n        # Integrate y(zrange) numerically over zrange and return in units of Gyr\n        # FILL THIS IN \n        return simps(y,zrange)*u.Gyr\n    \n    \n    # Question 2 A) \n    \n    def ComovingDistance(self, ze):\n    # Function that returns the Comoving Radial Distance to an object at a given redshift\n    # Distance to a galaxy that is moving with the Hubble Flow (expanding universe) at a given redshift\n    # Input:    Redshift emitted (ze) \n    # Output:   DC in Mpc\n\n    \n        # define an array with redshifts, spaced  in intervals of 0.001\n        # Note that if you want redshifts smaller than 0.001 you'll need to refine this\n        zrange = np.arange(0, ze, 1e-3)\n    \n        # 1/H(zrange)*speed of light\n        # Speed of light is loaded in modules from astropy, but in units of m/s --> need in km/s\n        # FILL THIS IN\n        y = 1/self.HubbleParameter(zrange)*c.to(u.km/u.s)\n    \n        # Integrate y numerically over zrange and return in units of Mpc\n        # FILL THIS IN \n        return simps(y,zrange)*u.Mpc\n    \n    \n    # Question 2 D) \n    \n    def ProperDistance(self, zo, ze):\n    # Function that returns the Proper Distance at a given redshift (the distance measured by a ruler)\n    # Input:    Redshift observed (zo) \n    #           Redshift of object (ze)\n    # Output:   Proper Distance in Mpc\n    \n        # FILL THIS IN\n        # Comoving Distance (to emitted photon) [ independent of time] x the scale factor at the time of observation.\n        return self.ComovingDistance(ze)/(1+zo)\n\n \n    # Question 3 A)\n    \n    def LuminosityDistance(self, ze): \n    # Function that computes DL, the luminosity distance of a galaxy at a given redshift\n    # Input:    Redshift emitted (ze) \n    # Output:   DL  in Mpc\n    \n        # Return  DL = DC*(1+z)\n        # FILL THIS IN\n        return self.ComovingDistance(ze)*(1+ze)\n    \n\n    # Question 4 A)\n    \n    def AngularDiameterDistance(self, ze): \n    # Function that computes DA, the angular diameter distance at a given redshift\n    # This is the proper distance between us and the source, at the time the photons were emitted.\n    # Physical size of angular separation of 1 degree\n    # Input:   Redshift emitted (ze)\n    # Output:   DA  in Mpc\n    \n        # # FILL THIS IN\n        # DA = DC/(1+z_emitted) = DL/(1+z)**2\n        return self.ComovingDistance(ze)/(1+ze)\n    \n    \n    # Question 4 B) \n    \n    def Separation(self, ze, angle):\n    # Function to compute the physical distance corresponding to an angular separation at a given redshift\n    # Input:    Redshift emmitted ze ,  \n    #           angle: Angle between galaxies in arcsec\n    # Output:  Distance in kpc\n    \n        # convert angle from arcsec to radians\n        angleRad = (angle*u.arcsec).to(u.rad)\n    \n         # FILL THIS IN\n        #   DA*angleRad\n        return (self.AngularDiameterDistance(ze)*angleRad/u.rad).to(u.kpc)\n    \n    \n\n    \n    "
    },
    "executionTime": "2020-05-12T08:04:48.374Z"
   },
   {
    "cell": {
     "executionCount": 55,
     "executionEventId": "6e0f02e9-f04c-486b-a2eb-48fcfd0f87d4",
     "hasError": false,
     "id": "931e307c-bbc3-4f76-9135-deb98507d22f",
     "outputs": [],
     "persistentId": "9ec74341-3619-4dec-9730-4b3253e37073",
     "text": "# Define here an instance of the Class Cosmological Tools that follows the Benchmark Cosmology\nBenchMark = CosmologicalTools(OmegaM0_planck,OmegaR0_planck,OmegaL0_planck,h_planck)\n"
    },
    "executionTime": "2020-05-12T08:04:49.779Z"
   },
   {
    "cell": {
     "executionCount": 56,
     "executionEventId": "e99ba5ab-c7e2-4acc-b54c-ece0f6c1e5f8",
     "hasError": false,
     "id": "93b6fcdc-a8c3-4054-aff9-75ca6cf6c84b",
     "outputs": [],
     "persistentId": "40952956-831b-458d-8161-69cdf1f5665a",
     "text": "# Define a New Instance of the Class with Einstein De Sitter Cosmology \nDeSitter = CosmologicalTools(OmegaMD,OmegaRD,OmegaLD,h_planck)"
    },
    "executionTime": "2020-05-12T08:04:50.240Z"
   },
   {
    "cell": {
     "executionCount": 57,
     "executionEventId": "3ac94204-363f-4282-8ffc-dee30f1daf93",
     "hasError": false,
     "id": "6ab8a499-e1d6-45c8-bce9-40ca791c082a",
     "outputs": [
      {
       "data": {
        "text/latex": "$8.2219282 \\; \\mathrm{kpc}$",
        "text/plain": "<Quantity 8.22192823 kpc>"
       },
       "execution_count": 57,
       "metadata": {},
       "output_type": "execute_result"
      }
     ],
     "persistentId": "f7986024-e42c-46bf-96cb-0894f4b6dbfd",
     "text": "# Question 4 C)  \n\n# Angle = Size/DA\n# What is the separation between two galaxies separated by 1 arcsec at z=1 in the Benchmark Cosmology\n\nrp = BenchMark.Separation(1,1)\nrp"
    },
    "executionTime": "2020-05-12T08:05:53.509Z"
   }
  ],
  "kernelspec": {
   "display_name": "Python 3",
   "language": "python",
   "name": "python3"
  },
  "language_info": {
   "codemirror_mode": {
    "name": "ipython",
    "version": 3
   },
   "file_extension": ".py",
   "mimetype": "text/x-python",
   "name": "python",
   "nbconvert_exporter": "python",
   "pygments_lexer": "ipython3",
   "version": "3.6.7"
  },
  "uuid": "0a2adf8a-047f-409a-9bed-1ab86fa1547d"
 },
 "nbformat": 4,
 "nbformat_minor": 4
}
