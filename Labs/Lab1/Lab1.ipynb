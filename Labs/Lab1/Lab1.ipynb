{
 "cells": [
  {
   "cell_type": "markdown",
   "metadata": {},
   "source": [
    "# In Class Lab 1\n",
    "\n",
    "## Part A:  The Local Standard of Rest\n",
    "Proper motion of Sgr A* from Reid & Brunthaler 2004\n",
    "$\\mu = 6.379$ mas/yr \n",
    "\n",
    "Peculiar motion of the sun, $v_\\odot$ = 12.24 km/s  (Schonrich 2010)\n",
    "\n",
    "\n",
    "$v_{tan} = 4.74 \\frac{\\mu}{\\rm mas/yr} \\frac{R_o}{\\rm kpc} = V_{LSR} + v_\\odot$\n",
    "\n",
    "\n",
    "### a)\n",
    "\n",
    "Create a function called VLSR to compute the local standard of res (V$_{LSR}$).\n",
    "\n",
    "The function should take as input: the solar radius (R$_o$), the proper motion (mu)\n",
    "and the peculiar motion of the sun in the $v_\\odot$ direction.\n",
    "\n",
    "Compute V$_{LSR}$ using three different values R$_o$: \n",
    "1. Water Maser Distance for the Sun :  R$_o$ = 8.34 kpc   (Reid 2014 ApJ 783) \n",
    "2. GRAVITY Collaboration Distance for the Sun:  R$_o$ = 8.178 kpc   (Abuter+2019 A&A 625)\n",
    "3. Value for Distance to Sun listed in Sparke & Gallagher : R$_o$ = 7.9 kpc \n"
   ]
  },
  {
   "cell_type": "code",
   "execution_count": 1,
   "metadata": {
    "execution_event_id": "a37698e5-dde5-48c2-b88b-e0e7b042bb4a",
    "last_executed_text": "import numpy as np",
    "persistent_id": "8ee2144d-8ddf-4bde-aff6-fffac634ac50"
   },
   "outputs": [],
   "source": [
    "import numpy as np"
   ]
  },
  {
   "cell_type": "code",
   "execution_count": 11,
   "metadata": {
    "execution_event_id": "3634b9b4-72c7-413b-a8ba-7c6e15fa8f79",
    "last_executed_text": "# Function to computer the local standard of rest velocity\n\n# 4.74*mu(mas/yr)*Ro(kpc) = VLSR+V_sun\n# The function will use below equation\n# VLSR = 4.74*mu(mas/yr)*Ro(kpc) - V_sun\n\ndef VLSR(Ro, mu=6.379, v_sun=12.24):\n    # Inputs:\n    # Ro is the distance from the sun to the Galactic center(kpc)\n    # mu is the proper motion of Sag A* (mas/yr): Default is from Reid & Brunthaler 2004\n    # v_sun is the peculiar motion of the sun in the v direction (km/s): Default id from Schonrich 2010\n    # Returns:\n    # VLSR, the local standard of rest (km/s)\n    return 4.74*mu*Ro - v_sun\n",
    "persistent_id": "866553d1-555a-4655-bb76-518ed19a9ca9"
   },
   "outputs": [],
   "source": [
    "# Function to computer the local standard of rest velocity\n",
    "\n",
    "# 4.74*mu(mas/yr)*Ro(kpc) = VLSR+V_sun\n",
    "# The function will use below equation\n",
    "# VLSR = 4.74*mu(mas/yr)*Ro(kpc) - V_sun\n",
    "\n",
    "def VLSR(Ro, mu=6.379, v_sun=12.24):\n",
    "    # Inputs:\n",
    "    # Ro is the distance from the sun to the Galactic center(kpc)\n",
    "    # mu is the proper motion of Sag A* (mas/yr): Default is from Reid & Brunthaler 2004\n",
    "    # v_sun is the peculiar motion of the sun in the v direction (km/s): Default id from Schonrich 2010\n",
    "    # Returns:\n",
    "    # VLSR, the local standard of rest (km/s)\n",
    "    return 4.74*mu*Ro - v_sun\n"
   ]
  },
  {
   "cell_type": "code",
   "execution_count": 12,
   "metadata": {
    "execution_event_id": "f5923b89-b490-4d7c-a323-ac760dfe36a1",
    "last_executed_text": "RoReid = 8.34 # Distance from the sun to the Galactic center from Reid 2014 in kpc\nRoGravity = 8.178 # Distance from the sun to the Galactic center from GRAVITY Collaboration Abuter+2019\nRoSG = 7.9 # Distance from the sun to the Galactic center from Sparke & Gallagher",
    "persistent_id": "46f80b71-61e3-4ee3-a242-325c442bfeeb"
   },
   "outputs": [],
   "source": [
    "RoReid = 8.34 # Distance from the sun to the Galactic center from Reid 2014 in kpc\n",
    "RoGravity = 8.178 # Distance from the sun to the Galactic center from GRAVITY Collaboration Abuter+2019\n",
    "RoSG = 7.9 # Distance from the sun to the Galactic center from Sparke & Gallagher"
   ]
  },
  {
   "cell_type": "code",
   "execution_count": 14,
   "metadata": {
    "execution_event_id": "b981d918-bcd0-4d57-8b5c-15e0c8abad05",
    "last_executed_text": "# Compute VLSR using Beid 2014 value for Ro\nVLSR_Reid = VLSR(RoReid)\nprint(VLSR_Reid)",
    "persistent_id": "7af95512-1e0b-4650-94ab-43e3707e7650"
   },
   "outputs": [
    {
     "name": "stdout",
     "output_type": "stream",
     "text": [
      "239.9320764\n"
     ]
    }
   ],
   "source": [
    "# Compute VLSR using Beid 2014 value for Ro\n",
    "VLSR_Reid = VLSR(RoReid)\n",
    "print(VLSR_Reid)"
   ]
  },
  {
   "cell_type": "code",
   "execution_count": 15,
   "metadata": {
    "execution_event_id": "9703ef1f-d032-4f56-80d1-c81676a0202a",
    "last_executed_text": "# Compute VLSR using GRAVITY value for Ro\nVLSR_Gravity = VLSR(RoGravity)\nprint(VLSR_Gravity)\n",
    "persistent_id": "feb91872-f54d-427f-96dd-554a40bc9f12"
   },
   "outputs": [
    {
     "name": "stdout",
     "output_type": "stream",
     "text": [
      "235.03376988000002\n"
     ]
    }
   ],
   "source": [
    "# Compute VLSR using GRAVITY value for Ro\n",
    "VLSR_Gravity = VLSR(RoGravity)\n",
    "print(VLSR_Gravity)\n"
   ]
  },
  {
   "cell_type": "code",
   "execution_count": 16,
   "metadata": {
    "execution_event_id": "518406c0-2f57-4be4-94e7-3248b2051fca",
    "last_executed_text": "# Compute VLSR using Sparke & Gallagher value for Ro\nVLSR_SG = VLSR(RoSG)\nprint(VLSR_SG)\n",
    "persistent_id": "22f808e3-01a2-4c2d-801d-36523da36c4c"
   },
   "outputs": [
    {
     "name": "stdout",
     "output_type": "stream",
     "text": [
      "226.628034\n"
     ]
    }
   ],
   "source": [
    "# Compute VLSR using Sparke & Gallagher value for Ro\n",
    "VLSR_SG = VLSR(RoSG)\n",
    "print(VLSR_SG)\n"
   ]
  },
  {
   "cell_type": "markdown",
   "metadata": {},
   "source": [
    "### b)\n",
    "\n",
    "compute the orbital period of the sun using R$_o$ from the GRAVITY Collaboration (assume circular orbit)\n",
    "\n",
    "Note that 1 km/s $\\sim$ 1kpc/Gyr"
   ]
  },
  {
   "cell_type": "code",
   "execution_count": 17,
   "metadata": {
    "execution_event_id": "74e2d1b7-c8f5-4be4-9da6-3eab2bd94e20",
    "last_executed_text": "# Orbital period of the Sun, using Ro from GRAVITY Collaboration\n# T = 2piR/V\n# V = Vtan = VLSR + V_sun\nVtan = VLSR_Gravity + 12.24\nT_Grav = 2*np.pi*RoGravity/Vtan\nprint(T_Grav)",
    "persistent_id": "82c23ab8-0818-4c71-8bf9-1d7e258d4322"
   },
   "outputs": [
    {
     "name": "stdout",
     "output_type": "stream",
     "text": [
      "0.20780161788713317\n"
     ]
    }
   ],
   "source": [
    "# Orbital period of the Sun, using Ro from GRAVITY Collaboration\n",
    "# T = 2piR/V -- units kpc / (kpc/s) - kpc / (kpc/Gyr) - Gyr\n",
    "# V = Vtan = VLSR + V_sun\n",
    "Vtan = VLSR_Gravity + 12.24\n",
    "T_Grav = 2*np.pi*RoGravity/Vtan\n",
    "print(T_Grav) #orbital period in Gyr"
   ]
  },
  {
   "cell_type": "markdown",
   "metadata": {},
   "source": [
    "### c)\n",
    "\n",
    "Compute the number of rotations about the GC over the age of the universe (13.8 Gyr)"
   ]
  },
  {
   "cell_type": "code",
   "execution_count": 35,
   "metadata": {
    "execution_event_id": "573255a0-b828-4158-86af-1d4a24340afa",
    "last_executed_text": "# The number of rotation about the Galatic Center\n# Age of the universe 13.8Gyr / Orbital Period (T_grav)\nage_universe = 13.8 \nGcrotations = age_universe/T_Grav\nprint(Gcrotations)",
    "persistent_id": "2dd992bd-9a91-4160-affa-41431f7bee24"
   },
   "outputs": [
    {
     "name": "stdout",
     "output_type": "stream",
     "text": [
      "66.40949257428511\n"
     ]
    }
   ],
   "source": [
    "# The number of rotation about the Galatic Center\n",
    "# Age of the universe 13.8Gyr / Orbital Period (T_grav)\n",
    "age_universe = 13.8 \n",
    "Gcrotations = age_universe/T_Grav\n",
    "print(Gcrotations)"
   ]
  },
  {
   "cell_type": "markdown",
   "metadata": {},
   "source": [
    "## Part B  Dark Matter Density Profiles\n",
    "\n",
    "### a)\n",
    "Try out Fitting Rotation Curves \n",
    "[here](http://wittman.physics.ucdavis.edu/Animations/RotationCurve/GalacticRotation.html)\n",
    "\n",
    "\n",
    "### b)\n",
    "\n",
    "In the Isothermal Sphere model, what is the mass enclosed within the solar radius (R$_o$) in units of $10^{10}$ M$_\\odot$? \n",
    "\n",
    "Recall that for the Isothermal sphere :\n",
    "$\\rho(r) = \\frac{V_{LSR}^2}{4\\pi G r^2}$\n",
    "\n",
    "Where $G$ = 4.4988e-6 kpc$^3$/Gyr$^2$/M$_\\odot$\n",
    "\n",
    "What about at 260 kpc (in units of 10$^{12}$ M$_\\odot$) ? "
   ]
  },
  {
   "cell_type": "code",
   "execution_count": 27,
   "metadata": {
    "execution_event_id": "d8903960-1509-479e-a79d-280c8018a07d",
    "last_executed_text": "# Gravitational Constant\nG = 4.4988e-6 #kpc^2/Gye^2/Msun",
    "persistent_id": "d6cd50ad-215b-4890-88f4-85123268ba3d"
   },
   "outputs": [],
   "source": [
    "# Gravitational Constant\n",
    "G = 4.4988e-6 #kpc^2/Gye^2/Msun"
   ]
  },
  {
   "cell_type": "code",
   "execution_count": 28,
   "metadata": {
    "execution_event_id": "68425b72-f994-4754-8993-6a8a92b5653a",
    "last_executed_text": "# Compute the mass within the solar radius assuming an Isothermal Sphere Model\n# Density profile: rho = VLSR^2/ (4*pi*G*R^2)\n# Mass = Intergrate rho dV\n#        Intergrate VLSR^2/ (4*pi*G*r^2) * 4*pi*r^2 dr\n#        Intergrate VLSR^2/G dr\n#        VLSR^2/G * r\n\ndef MassIso(r,VLSR=235):\n    # Input:\n    #        VLSR the local standard of rest (km/s): Using default VLSR arising from Gravity collaboration Ro \n    #        r the distance from the Galatic Center (kpc)\n    # Return:\n    #        Mass inclosed in Msun\n    return VLSR**2/G*r",
    "persistent_id": "c0fa3f88-0306-4d6f-9410-b8ab5ae2706b"
   },
   "outputs": [],
   "source": [
    "# Compute the mass within the solar radius assuming an Isothermal Sphere Model\n",
    "# Density profile: rho = VLSR^2/ (4*pi*G*R^2)\n",
    "# Mass = Intergrate rho dV\n",
    "#        Intergrate VLSR^2/ (4*pi*G*r^2) * 4*pi*r^2 dr\n",
    "#        Intergrate VLSR^2/G dr\n",
    "#        VLSR^2/G * r\n",
    "\n",
    "def MassIso(r,VLSR=235):\n",
    "    # Input:\n",
    "    #        VLSR the local standard of rest (km/s): Using default VLSR arising from Gravity collaboration Ro \n",
    "    #        r the distance from the Galatic Center (kpc)\n",
    "    # Return:\n",
    "    #        Mass inclosed in Msun\n",
    "    return VLSR**2/G*r"
   ]
  },
  {
   "cell_type": "code",
   "execution_count": 29,
   "metadata": {
    "execution_event_id": "4118fd2a-025d-45a3-94c7-56840053df28",
    "last_executed_text": "# Computer mass enclosed within Ro\nMisoSolar = MassIso(RoGravity)\nprint(MisoSolar/1e10) #units of 1e10 Msun",
    "persistent_id": "52218050-0e6a-46fa-b35a-b2dda76527ca"
   },
   "outputs": [
    {
     "name": "stdout",
     "output_type": "stream",
     "text": [
      "10.038900373432917\n"
     ]
    }
   ],
   "source": [
    "# Computer mass enclosed within Ro\n",
    "MisoSolar = MassIso(RoGravity)\n",
    "print(MisoSolar/1e10) #units of 1e10 Msun"
   ]
  },
  {
   "cell_type": "code",
   "execution_count": 30,
   "metadata": {
    "execution_event_id": "890e1bc3-aa47-419b-8ae8-d87096671547",
    "last_executed_text": "# Computer mass enclosed within 260kpc\nMIso260  = MassIso(260)\nprint(MIso260/1e12)\n",
    "persistent_id": "ab1d7388-cb0e-4fe8-a308-42dd644d7c80"
   },
   "outputs": [
    {
     "name": "stdout",
     "output_type": "stream",
     "text": [
      "3.191628878812128\n"
     ]
    }
   ],
   "source": [
    "# Computer mass enclosed within 260kpc\n",
    "MIso260  = MassIso(260)\n",
    "print(MIso260/1e12)\n"
   ]
  },
  {
   "cell_type": "markdown",
   "metadata": {},
   "source": [
    "## c) \n",
    "\n",
    "The Leo I satellite is one of the fastest moving satellite galaxies we know. \n",
    "\n",
    "\n",
    "It is moving with 3D velocity of magnitude: Vtot = 196 km/s at a distance of 260 kpc (Sohn 2013 ApJ 768)\n",
    "\n",
    "If we assume that Leo I is moving at the escape speed:\n",
    "\n",
    "$v_{esc}^2 = 2|\\Phi| = 2 \\int G \\frac{\\rho(r)}{r}dV $ \n",
    "\n",
    "and assuming the Milky Way is well modeled by a Hernquist Sphere with a scale radius of $a$= 30 kpc, what is the minimum mass of the Milky Way (in units of $10^{12}$ M$_\\odot$) ?  \n",
    "\n",
    "How does this compare to estimates of the mass assuming the Isothermal Sphere model at 260 kpc (from your answer above)"
   ]
  },
  {
   "cell_type": "code",
   "execution_count": 31,
   "metadata": {
    "execution_event_id": "b8c48e5e-04e7-4691-b1b6-ba8223214bef",
    "last_executed_text": "# Potential for a Bernquist Sphere\n# Phi = - G*M/(r*a)\n\n# Using the Bernquist potential, the equation for the escape speed becomes\n# Vesc^2 = 2*G*M/(r+a)\n\n# Rearranging the escape equation for M\n# M = vesc^2/2/G*(r+a)\n#   = 196^2/2/G*(260+30)\n\n# Function that will determine the local halo mass needed to set a given escape at a given distance,\n# assuming a Bernquist profile for the dark matter halo\n\ndef MassFromVesc(vesc, a, r):\n    # Inputs:\n    #    vesc the excape speed in km/s (or speed of the satellite)\n    #    r is the distance from the Galatic center (kpc)\n    #    a = Bernquist scale length (kpc)\n    # Returns:\n    #    Total mass in Msun \n    return vesc**2/2/G*(r+a)",
    "persistent_id": "0df9d3c9-e7bb-4d4f-a980-badd1e2ef7e5"
   },
   "outputs": [],
   "source": [
    "# Potential for a Bernquist Sphere\n",
    "# Phi = - G*M/(r*a)\n",
    "\n",
    "# Using the Bernquist potential, the equation for the escape speed becomes\n",
    "# Vesc^2 = 2*G*M/(r+a)\n",
    "\n",
    "# Rearranging the escape equation for M\n",
    "# M = vesc^2/2/G*(r+a)\n",
    "#   = 196^2/2/G*(260+30)\n",
    "\n",
    "# Function that will determine the local halo mass needed to set a given escape at a given distance,\n",
    "# assuming a Bernquist profile for the dark matter halo\n",
    "\n",
    "def MassFromVesc(vesc, a, r):\n",
    "    # Inputs:\n",
    "    #    vesc the excape speed in km/s (or speed of the satellite)\n",
    "    #    r is the distance from the Galatic center (kpc)\n",
    "    #    a = Bernquist scale length (kpc)\n",
    "    # Returns:\n",
    "    #    Total mass in Msun \n",
    "    return vesc**2/2/G*(r+a)"
   ]
  },
  {
   "cell_type": "code",
   "execution_count": 32,
   "metadata": {
    "execution_event_id": "b9c710eb-7ce5-472e-be86-8e72a7c0c5de",
    "last_executed_text": "# Mass needed to keep Leo I bound, assuming a Berquist Profile\nMLeoI = MassFromVesc(196, 30, 260)\nprint(MLeoI)",
    "persistent_id": "3541aaaf-7a70-4924-ab53-2fc71e6f22a0"
   },
   "outputs": [
    {
     "name": "stdout",
     "output_type": "stream",
     "text": [
      "1238179069974.2153\n"
     ]
    }
   ],
   "source": [
    "# Mass needed to keep Leo I bound, assuming a Berquist Profile\n",
    "MLeoI = MassFromVesc(196, 30, 260)\n",
    "print(MLeoI)"
   ]
  },
  {
   "cell_type": "code",
   "execution_count": 33,
   "metadata": {
    "execution_event_id": "5e4234f8-7e54-4c96-8f5c-fa6cc7a75f07",
    "last_executed_text": "MIso260/MLeoI",
    "persistent_id": "202d5a17-6da1-4b4e-9644-75e0ef64da6e"
   },
   "outputs": [
    {
     "data": {
      "text/plain": [
       "2.577679558804521"
      ]
     },
     "execution_count": 33,
     "metadata": {},
     "output_type": "execute_result"
    }
   ],
   "source": [
    "MIso260/MLeoIA"
   ]
  }
 ],
 "metadata": {
  "history": [
   {
    "cell": {
     "executionCount": 1,
     "executionEventId": "a37698e5-dde5-48c2-b88b-e0e7b042bb4a",
     "hasError": false,
     "id": "f65b804f-a288-4896-a2d3-2cc0b173fa9a",
     "outputs": [],
     "persistentId": "8ee2144d-8ddf-4bde-aff6-fffac634ac50",
     "text": "import numpy as np"
    },
    "executionTime": "2020-01-30T21:04:37.162Z"
   },
   {
    "cell": {
     "executionCount": 2,
     "executionEventId": "63dd92a5-3f39-4389-a63b-d18f9067fa19",
     "hasError": false,
     "id": "f18ae8a1-85cd-4fe4-b1e8-85ce46a185b6",
     "outputs": [],
     "persistentId": "866553d1-555a-4655-bb76-518ed19a9ca9",
     "text": "def VLSR(R0):\n    v_sun = 12.24\n    mu = 6.379\n    VLSR = 4.74*mu*R0 - v_sun\n    return VLSR"
    },
    "executionTime": "2020-01-30T21:06:48.750Z"
   },
   {
    "cell": {
     "executionCount": 3,
     "executionEventId": "4449881d-48e5-438a-a9e4-d286f9a42892",
     "hasError": false,
     "id": "f18ae8a1-85cd-4fe4-b1e8-85ce46a185b6",
     "outputs": [],
     "persistentId": "866553d1-555a-4655-bb76-518ed19a9ca9",
     "text": "def VLSR(R0):\n    v_sun = 12.24\n    mu = 6.379\n    VLSR = 4.74*mu*R0 - v_sun\n    return VLSR"
    },
    "executionTime": "2020-01-30T21:07:34.517Z"
   },
   {
    "cell": {
     "executionCount": 4,
     "executionEventId": "9f6588de-32e9-42dc-8a43-9dad8d7a40b4",
     "hasError": false,
     "id": "3448b4df-12a6-40ab-9bc0-380078581d35",
     "outputs": [
      {
       "data": {
        "text/plain": "[1, 2, 3, 1, 2, 3]"
       },
       "execution_count": 4,
       "metadata": {},
       "output_type": "execute_result"
      }
     ],
     "persistentId": "46f80b71-61e3-4ee3-a242-325c442bfeeb",
     "text": "2*[1,2,3]"
    },
    "executionTime": "2020-01-30T21:09:21.298Z"
   },
   {
    "cell": {
     "executionCount": 5,
     "executionEventId": "f40992eb-2372-42c8-8195-e96d24247d70",
     "hasError": true,
     "id": "3448b4df-12a6-40ab-9bc0-380078581d35",
     "outputs": [
      {
       "ename": "SyntaxError",
       "evalue": "invalid syntax (<ipython-input-5-849d7a0707d5>, line 1)",
       "output_type": "error",
       "traceback": [
        "\u001b[0;36m  File \u001b[0;32m\"<ipython-input-5-849d7a0707d5>\"\u001b[0;36m, line \u001b[0;32m1\u001b[0m\n\u001b[0;31m    2*np.[1,2,3]\u001b[0m\n\u001b[0m         ^\u001b[0m\n\u001b[0;31mSyntaxError\u001b[0m\u001b[0;31m:\u001b[0m invalid syntax\n"
       ]
      }
     ],
     "persistentId": "46f80b71-61e3-4ee3-a242-325c442bfeeb",
     "text": "2*np.[1,2,3]"
    },
    "executionTime": "2020-01-30T21:09:28.707Z"
   },
   {
    "cell": {
     "executionCount": 6,
     "executionEventId": "57365f8a-a3dc-4837-ac0a-57cc9993d8f3",
     "hasError": true,
     "id": "3448b4df-12a6-40ab-9bc0-380078581d35",
     "outputs": [
      {
       "ename": "SyntaxError",
       "evalue": "invalid syntax (<ipython-input-6-7fd18456e8b7>, line 1)",
       "output_type": "error",
       "traceback": [
        "\u001b[0;36m  File \u001b[0;32m\"<ipython-input-6-7fd18456e8b7>\"\u001b[0;36m, line \u001b[0;32m1\u001b[0m\n\u001b[0;31m    2*np.(1,2,3)\u001b[0m\n\u001b[0m         ^\u001b[0m\n\u001b[0;31mSyntaxError\u001b[0m\u001b[0;31m:\u001b[0m invalid syntax\n"
       ]
      }
     ],
     "persistentId": "46f80b71-61e3-4ee3-a242-325c442bfeeb",
     "text": "2*np.(1,2,3)"
    },
    "executionTime": "2020-01-30T21:09:36.084Z"
   },
   {
    "cell": {
     "executionCount": 7,
     "executionEventId": "24bd64e7-980e-4978-8276-86cfe37853c4",
     "hasError": false,
     "id": "3448b4df-12a6-40ab-9bc0-380078581d35",
     "outputs": [
      {
       "data": {
        "text/plain": "239.9320764"
       },
       "execution_count": 7,
       "metadata": {},
       "output_type": "execute_result"
      }
     ],
     "persistentId": "46f80b71-61e3-4ee3-a242-325c442bfeeb",
     "text": "VLSR(8.34)"
    },
    "executionTime": "2020-01-30T21:11:40.722Z"
   },
   {
    "cell": {
     "executionCount": 8,
     "executionEventId": "ced02f3a-bb72-488e-a185-4759f45d3a84",
     "hasError": false,
     "id": "3448b4df-12a6-40ab-9bc0-380078581d35",
     "outputs": [
      {
       "data": {
        "text/plain": "(239.9320764, 235.03376988000002)"
       },
       "execution_count": 8,
       "metadata": {},
       "output_type": "execute_result"
      }
     ],
     "persistentId": "46f80b71-61e3-4ee3-a242-325c442bfeeb",
     "text": "VLSR(8.34), VLSR(8.178)"
    },
    "executionTime": "2020-01-30T21:11:57.600Z"
   },
   {
    "cell": {
     "executionCount": 9,
     "executionEventId": "e8c20740-b831-4996-ae04-726ee79e3c4c",
     "hasError": false,
     "id": "3448b4df-12a6-40ab-9bc0-380078581d35",
     "outputs": [
      {
       "data": {
        "text/plain": "(239.9320764, 235.03376988000002, 226.628034)"
       },
       "execution_count": 9,
       "metadata": {},
       "output_type": "execute_result"
      }
     ],
     "persistentId": "46f80b71-61e3-4ee3-a242-325c442bfeeb",
     "text": "VLSR(8.34), VLSR(8.178), VLSR(7.9)"
    },
    "executionTime": "2020-01-30T21:12:05.572Z"
   },
   {
    "cell": {
     "executionCount": 10,
     "executionEventId": "dd61fac1-e892-4ffc-bc10-53531532dca0",
     "hasError": false,
     "id": "3448b4df-12a6-40ab-9bc0-380078581d35",
     "outputs": [],
     "persistentId": "46f80b71-61e3-4ee3-a242-325c442bfeeb",
     "text": "RoReid = 8.34 # Distance from the sun to the Galactic center from Reid 2014 in kpc\nRoGravity = 8.178 # Distance from the sun to the Galactic center from GRAVITY Collaboration Abuter+2019\nRoSG = 7.9 # Distance from the sun to the Galactic center from Sparke & Gallagher"
    },
    "executionTime": "2020-01-30T21:25:29.146Z"
   },
   {
    "cell": {
     "executionCount": 11,
     "executionEventId": "3634b9b4-72c7-413b-a8ba-7c6e15fa8f79",
     "hasError": false,
     "id": "f18ae8a1-85cd-4fe4-b1e8-85ce46a185b6",
     "outputs": [],
     "persistentId": "866553d1-555a-4655-bb76-518ed19a9ca9",
     "text": "# Function to computer the local standard of rest velocity\n\n# 4.74*mu(mas/yr)*Ro(kpc) = VLSR+V_sun\n# The function will use below equation\n# VLSR = 4.74*mu(mas/yr)*Ro(kpc) - V_sun\n\ndef VLSR(Ro, mu=6.379, v_sun=12.24):\n    # Inputs:\n    # Ro is the distance from the sun to the Galactic center(kpc)\n    # mu is the proper motion of Sag A* (mas/yr): Default is from Reid & Brunthaler 2004\n    # v_sun is the peculiar motion of the sun in the v direction (km/s): Default id from Schonrich 2010\n    # Returns:\n    # VLSR, the local standard of rest (km/s)\n    return 4.74*mu*Ro - v_sun\n"
    },
    "executionTime": "2020-01-30T21:25:30.796Z"
   },
   {
    "cell": {
     "executionCount": 12,
     "executionEventId": "f5923b89-b490-4d7c-a323-ac760dfe36a1",
     "hasError": false,
     "id": "3448b4df-12a6-40ab-9bc0-380078581d35",
     "outputs": [],
     "persistentId": "46f80b71-61e3-4ee3-a242-325c442bfeeb",
     "text": "RoReid = 8.34 # Distance from the sun to the Galactic center from Reid 2014 in kpc\nRoGravity = 8.178 # Distance from the sun to the Galactic center from GRAVITY Collaboration Abuter+2019\nRoSG = 7.9 # Distance from the sun to the Galactic center from Sparke & Gallagher"
    },
    "executionTime": "2020-01-30T21:25:35.414Z"
   },
   {
    "cell": {
     "executionCount": 13,
     "executionEventId": "745401b8-784f-4a28-b51d-d48ec61ebe31",
     "hasError": false,
     "id": "175946ad-d7b8-4735-a2e4-c71060f99528",
     "outputs": [],
     "persistentId": "7af95512-1e0b-4650-94ab-43e3707e7650",
     "text": "# Compute VLSR using Beid 2014 value for Ro\nVLSR_Reid = VLSR(RoReid)"
    },
    "executionTime": "2020-01-30T21:26:45.356Z"
   },
   {
    "cell": {
     "executionCount": 14,
     "executionEventId": "b981d918-bcd0-4d57-8b5c-15e0c8abad05",
     "hasError": false,
     "id": "175946ad-d7b8-4735-a2e4-c71060f99528",
     "outputs": [
      {
       "name": "stdout",
       "output_type": "stream",
       "text": "239.9320764\n"
      }
     ],
     "persistentId": "7af95512-1e0b-4650-94ab-43e3707e7650",
     "text": "# Compute VLSR using Beid 2014 value for Ro\nVLSR_Reid = VLSR(RoReid)\nprint(VLSR_Reid)"
    },
    "executionTime": "2020-01-30T21:27:02.341Z"
   },
   {
    "cell": {
     "executionCount": 15,
     "executionEventId": "9703ef1f-d032-4f56-80d1-c81676a0202a",
     "hasError": false,
     "id": "7370a311-0321-4b97-8140-c32e8f696f5f",
     "outputs": [
      {
       "name": "stdout",
       "output_type": "stream",
       "text": "235.03376988000002\n"
      }
     ],
     "persistentId": "feb91872-f54d-427f-96dd-554a40bc9f12",
     "text": "# Compute VLSR using GRAVITY value for Ro\nVLSR_Gravity = VLSR(RoGravity)\nprint(VLSR_Gravity)\n"
    },
    "executionTime": "2020-01-30T21:28:12.631Z"
   },
   {
    "cell": {
     "executionCount": 16,
     "executionEventId": "518406c0-2f57-4be4-94e7-3248b2051fca",
     "hasError": false,
     "id": "9be677e2-def0-4b0b-bb74-a8804bf2ed21",
     "outputs": [
      {
       "name": "stdout",
       "output_type": "stream",
       "text": "226.628034\n"
      }
     ],
     "persistentId": "22f808e3-01a2-4c2d-801d-36523da36c4c",
     "text": "# Compute VLSR using Sparke & Gallagher value for Ro\nVLSR_SG = VLSR(RoSG)\nprint(VLSR_SG)\n"
    },
    "executionTime": "2020-01-30T21:29:05.433Z"
   },
   {
    "cell": {
     "executionCount": 17,
     "executionEventId": "74e2d1b7-c8f5-4be4-9da6-3eab2bd94e20",
     "hasError": false,
     "id": "779fb2bc-ffe1-4b28-a4fd-8d51131caa9d",
     "outputs": [
      {
       "name": "stdout",
       "output_type": "stream",
       "text": "0.20780161788713317\n"
      }
     ],
     "persistentId": "82c23ab8-0818-4c71-8bf9-1d7e258d4322",
     "text": "# Orbital period of the Sun, using Ro from GRAVITY Collaboration\n# T = 2piR/V\n# V = Vtan = VLSR + V_sun\nVtan = VLSR_Gravity + 12.24\nT_Grav = 2*np.pi*RoGravity/Vtan\nprint(T_Grav)"
    },
    "executionTime": "2020-01-30T21:32:59.020Z"
   },
   {
    "cell": {
     "executionCount": 18,
     "executionEventId": "9ba297eb-983e-4b68-afa8-b3c801bb9097",
     "hasError": true,
     "id": "6fe686ce-5a0d-468d-b890-4a2f816719ea",
     "outputs": [
      {
       "ename": "SyntaxError",
       "evalue": "unexpected EOF while parsing (<ipython-input-18-bbb580ef151d>, line 11)",
       "output_type": "error",
       "traceback": [
        "\u001b[0;36m  File \u001b[0;32m\"<ipython-input-18-bbb580ef151d>\"\u001b[0;36m, line \u001b[0;32m11\u001b[0m\n\u001b[0;31m    #        r the distance from the Galatic Center (kpc)\u001b[0m\n\u001b[0m                                                         ^\u001b[0m\n\u001b[0;31mSyntaxError\u001b[0m\u001b[0;31m:\u001b[0m unexpected EOF while parsing\n"
       ]
      }
     ],
     "persistentId": "c0fa3f88-0306-4d6f-9410-b8ab5ae2706b",
     "text": "# Compute the mass within the solar radius assuming an Isothermal Sphere Model\n# Density profile: rho = VLSR^2/ (4*pi*G*R^2)\n# Mass = Intergrate rho dV\n#        Intergrate VLSR^2/ (4*pi*G*r^2) * 4*pi*r^2 dr\n#        Intergrate VLSR^2/G dr\n#        VLSR^2/G * r\n\ndef MassIso(VLSR, r):\n    #Input:\n    #        VLSR the local standard of rest (km/s)\n    #        r the distance from the Galatic Center (kpc)"
    },
    "executionTime": "2020-01-30T21:49:29.132Z"
   },
   {
    "cell": {
     "executionCount": 19,
     "executionEventId": "8d62c8c6-ea89-4c07-9dd5-e3e6bf813a3c",
     "hasError": true,
     "id": "6fe686ce-5a0d-468d-b890-4a2f816719ea",
     "outputs": [
      {
       "ename": "SyntaxError",
       "evalue": "unexpected EOF while parsing (<ipython-input-19-bbb580ef151d>, line 11)",
       "output_type": "error",
       "traceback": [
        "\u001b[0;36m  File \u001b[0;32m\"<ipython-input-19-bbb580ef151d>\"\u001b[0;36m, line \u001b[0;32m11\u001b[0m\n\u001b[0;31m    #        r the distance from the Galatic Center (kpc)\u001b[0m\n\u001b[0m                                                         ^\u001b[0m\n\u001b[0;31mSyntaxError\u001b[0m\u001b[0;31m:\u001b[0m unexpected EOF while parsing\n"
       ]
      }
     ],
     "persistentId": "c0fa3f88-0306-4d6f-9410-b8ab5ae2706b",
     "text": "# Compute the mass within the solar radius assuming an Isothermal Sphere Model\n# Density profile: rho = VLSR^2/ (4*pi*G*R^2)\n# Mass = Intergrate rho dV\n#        Intergrate VLSR^2/ (4*pi*G*r^2) * 4*pi*r^2 dr\n#        Intergrate VLSR^2/G dr\n#        VLSR^2/G * r\n\ndef MassIso(VLSR, r):\n    #Input:\n    #        VLSR the local standard of rest (km/s)\n    #        r the distance from the Galatic Center (kpc)"
    },
    "executionTime": "2020-01-30T21:49:30.921Z"
   },
   {
    "cell": {
     "executionCount": 20,
     "executionEventId": "09055ca3-7437-4477-b568-ebea299d3c7e",
     "hasError": true,
     "id": "6fe686ce-5a0d-468d-b890-4a2f816719ea",
     "outputs": [
      {
       "ename": "SyntaxError",
       "evalue": "invalid syntax (<ipython-input-20-225e7a272310>, line 14)",
       "output_type": "error",
       "traceback": [
        "\u001b[0;36m  File \u001b[0;32m\"<ipython-input-20-225e7a272310>\"\u001b[0;36m, line \u001b[0;32m14\u001b[0m\n\u001b[0;31m    return VLSR**2/G*r|\u001b[0m\n\u001b[0m                       ^\u001b[0m\n\u001b[0;31mSyntaxError\u001b[0m\u001b[0;31m:\u001b[0m invalid syntax\n"
       ]
      }
     ],
     "persistentId": "c0fa3f88-0306-4d6f-9410-b8ab5ae2706b",
     "text": "# Compute the mass within the solar radius assuming an Isothermal Sphere Model\n# Density profile: rho = VLSR^2/ (4*pi*G*R^2)\n# Mass = Intergrate rho dV\n#        Intergrate VLSR^2/ (4*pi*G*r^2) * 4*pi*r^2 dr\n#        Intergrate VLSR^2/G dr\n#        VLSR^2/G * r\n\ndef MassIso(VLSR, r):\n    # Input:\n    #        VLSR the local standard of rest (km/s)\n    #        r the distance from the Galatic Center (kpc)\n    # Return:\n    #        Mass inclosed in Msun\n    return VLSR**2/G*r|"
    },
    "executionTime": "2020-01-30T21:50:50.817Z"
   },
   {
    "cell": {
     "executionCount": 21,
     "executionEventId": "7f01dce4-370e-4ee6-b746-a43dbc4cbda2",
     "hasError": false,
     "id": "6fe686ce-5a0d-468d-b890-4a2f816719ea",
     "outputs": [],
     "persistentId": "c0fa3f88-0306-4d6f-9410-b8ab5ae2706b",
     "text": "# Compute the mass within the solar radius assuming an Isothermal Sphere Model\n# Density profile: rho = VLSR^2/ (4*pi*G*R^2)\n# Mass = Intergrate rho dV\n#        Intergrate VLSR^2/ (4*pi*G*r^2) * 4*pi*r^2 dr\n#        Intergrate VLSR^2/G dr\n#        VLSR^2/G * r\n\ndef MassIso(VLSR, r):\n    # Input:\n    #        VLSR the local standard of rest (km/s)\n    #        r the distance from the Galatic Center (kpc)\n    # Return:\n    #        Mass inclosed in Msun\n    return VLSR**2/G*r"
    },
    "executionTime": "2020-01-30T21:50:53.066Z"
   },
   {
    "cell": {
     "executionCount": 22,
     "executionEventId": "76378b32-8203-4850-a702-3286af0ef899",
     "hasError": true,
     "id": "bf9eb757-0d6c-42e3-8541-36000f306365",
     "outputs": [
      {
       "ename": "TypeError",
       "evalue": "MassIso() missing 1 required positional argument: 'r'",
       "output_type": "error",
       "traceback": [
        "\u001b[0;31m---------------------------------------------------------------------------\u001b[0m",
        "\u001b[0;31mTypeError\u001b[0m                                 Traceback (most recent call last)",
        "\u001b[0;32m<ipython-input-22-2ef3d0530969>\u001b[0m in \u001b[0;36m<module>\u001b[0;34m\u001b[0m\n\u001b[1;32m      1\u001b[0m \u001b[0;31m# Computer mass enclosed within Ro\u001b[0m\u001b[0;34m\u001b[0m\u001b[0;34m\u001b[0m\u001b[0;34m\u001b[0m\u001b[0m\n\u001b[0;32m----> 2\u001b[0;31m \u001b[0mMisoSolar\u001b[0m \u001b[0;34m=\u001b[0m \u001b[0mMassIso\u001b[0m\u001b[0;34m(\u001b[0m\u001b[0mRoGravity\u001b[0m\u001b[0;34m)\u001b[0m\u001b[0;34m\u001b[0m\u001b[0;34m\u001b[0m\u001b[0m\n\u001b[0m\u001b[1;32m      3\u001b[0m \u001b[0mprint\u001b[0m\u001b[0;34m(\u001b[0m\u001b[0mMisoSolar\u001b[0m\u001b[0;34m/\u001b[0m\u001b[0;36m1e10\u001b[0m\u001b[0;34m)\u001b[0m \u001b[0;31m#units of 1e10 Msun\u001b[0m\u001b[0;34m\u001b[0m\u001b[0;34m\u001b[0m\u001b[0m\n",
        "\u001b[0;31mTypeError\u001b[0m: MassIso() missing 1 required positional argument: 'r'"
       ]
      }
     ],
     "persistentId": "52218050-0e6a-46fa-b35a-b2dda76527ca",
     "text": "# Computer mass enclosed within Ro\nMisoSolar = MassIso(RoGravity)\nprint(MisoSolar/1e10) #units of 1e10 Msun"
    },
    "executionTime": "2020-01-30T21:53:58.683Z"
   },
   {
    "cell": {
     "executionCount": 23,
     "executionEventId": "be175def-4536-4a91-be8d-620af9979241",
     "hasError": true,
     "id": "6fe686ce-5a0d-468d-b890-4a2f816719ea",
     "outputs": [
      {
       "ename": "SyntaxError",
       "evalue": "non-default argument follows default argument (<ipython-input-23-ee8fba1812cc>, line 8)",
       "output_type": "error",
       "traceback": [
        "\u001b[0;36m  File \u001b[0;32m\"<ipython-input-23-ee8fba1812cc>\"\u001b[0;36m, line \u001b[0;32m8\u001b[0m\n\u001b[0;31m    def MassIso(VLSR=235,r):\u001b[0m\n\u001b[0m               ^\u001b[0m\n\u001b[0;31mSyntaxError\u001b[0m\u001b[0;31m:\u001b[0m non-default argument follows default argument\n"
       ]
      }
     ],
     "persistentId": "c0fa3f88-0306-4d6f-9410-b8ab5ae2706b",
     "text": "# Compute the mass within the solar radius assuming an Isothermal Sphere Model\n# Density profile: rho = VLSR^2/ (4*pi*G*R^2)\n# Mass = Intergrate rho dV\n#        Intergrate VLSR^2/ (4*pi*G*r^2) * 4*pi*r^2 dr\n#        Intergrate VLSR^2/G dr\n#        VLSR^2/G * r\n\ndef MassIso(VLSR=235,r):\n    # Input:\n    #        VLSR the local standard of rest (km/s): Using default VLSR arising from Gravity collaboration Ro \n    #        r the distance from the Galatic Center (kpc)\n    # Return:\n    #        Mass inclosed in Msun\n    return VLSR**2/G*r"
    },
    "executionTime": "2020-01-30T21:54:18.627Z"
   },
   {
    "cell": {
     "executionCount": 24,
     "executionEventId": "c258e0dd-384e-45de-907f-eef59dcf9998",
     "hasError": true,
     "id": "6fe686ce-5a0d-468d-b890-4a2f816719ea",
     "outputs": [
      {
       "ename": "SyntaxError",
       "evalue": "non-default argument follows default argument (<ipython-input-24-ee8fba1812cc>, line 8)",
       "output_type": "error",
       "traceback": [
        "\u001b[0;36m  File \u001b[0;32m\"<ipython-input-24-ee8fba1812cc>\"\u001b[0;36m, line \u001b[0;32m8\u001b[0m\n\u001b[0;31m    def MassIso(VLSR=235,r):\u001b[0m\n\u001b[0m               ^\u001b[0m\n\u001b[0;31mSyntaxError\u001b[0m\u001b[0;31m:\u001b[0m non-default argument follows default argument\n"
       ]
      }
     ],
     "persistentId": "c0fa3f88-0306-4d6f-9410-b8ab5ae2706b",
     "text": "# Compute the mass within the solar radius assuming an Isothermal Sphere Model\n# Density profile: rho = VLSR^2/ (4*pi*G*R^2)\n# Mass = Intergrate rho dV\n#        Intergrate VLSR^2/ (4*pi*G*r^2) * 4*pi*r^2 dr\n#        Intergrate VLSR^2/G dr\n#        VLSR^2/G * r\n\ndef MassIso(VLSR=235,r):\n    # Input:\n    #        VLSR the local standard of rest (km/s): Using default VLSR arising from Gravity collaboration Ro \n    #        r the distance from the Galatic Center (kpc)\n    # Return:\n    #        Mass inclosed in Msun\n    return VLSR**2/G*r"
    },
    "executionTime": "2020-01-30T21:54:57.664Z"
   },
   {
    "cell": {
     "executionCount": 25,
     "executionEventId": "93d515c9-a222-469e-aedd-9576da2ff70b",
     "hasError": false,
     "id": "6fe686ce-5a0d-468d-b890-4a2f816719ea",
     "outputs": [],
     "persistentId": "c0fa3f88-0306-4d6f-9410-b8ab5ae2706b",
     "text": "# Compute the mass within the solar radius assuming an Isothermal Sphere Model\n# Density profile: rho = VLSR^2/ (4*pi*G*R^2)\n# Mass = Intergrate rho dV\n#        Intergrate VLSR^2/ (4*pi*G*r^2) * 4*pi*r^2 dr\n#        Intergrate VLSR^2/G dr\n#        VLSR^2/G * r\n\ndef MassIso(r,VLSR=235):\n    # Input:\n    #        VLSR the local standard of rest (km/s): Using default VLSR arising from Gravity collaboration Ro \n    #        r the distance from the Galatic Center (kpc)\n    # Return:\n    #        Mass inclosed in Msun\n    return VLSR**2/G*r"
    },
    "executionTime": "2020-01-30T21:56:31.070Z"
   },
   {
    "cell": {
     "executionCount": 26,
     "executionEventId": "7a39b3b2-044f-46b7-9fab-e5526aa17eac",
     "hasError": true,
     "id": "bf9eb757-0d6c-42e3-8541-36000f306365",
     "outputs": [
      {
       "ename": "NameError",
       "evalue": "name 'G' is not defined",
       "output_type": "error",
       "traceback": [
        "\u001b[0;31m---------------------------------------------------------------------------\u001b[0m",
        "\u001b[0;31mNameError\u001b[0m                                 Traceback (most recent call last)",
        "\u001b[0;32m<ipython-input-26-2ef3d0530969>\u001b[0m in \u001b[0;36m<module>\u001b[0;34m\u001b[0m\n\u001b[1;32m      1\u001b[0m \u001b[0;31m# Computer mass enclosed within Ro\u001b[0m\u001b[0;34m\u001b[0m\u001b[0;34m\u001b[0m\u001b[0;34m\u001b[0m\u001b[0m\n\u001b[0;32m----> 2\u001b[0;31m \u001b[0mMisoSolar\u001b[0m \u001b[0;34m=\u001b[0m \u001b[0mMassIso\u001b[0m\u001b[0;34m(\u001b[0m\u001b[0mRoGravity\u001b[0m\u001b[0;34m)\u001b[0m\u001b[0;34m\u001b[0m\u001b[0;34m\u001b[0m\u001b[0m\n\u001b[0m\u001b[1;32m      3\u001b[0m \u001b[0mprint\u001b[0m\u001b[0;34m(\u001b[0m\u001b[0mMisoSolar\u001b[0m\u001b[0;34m/\u001b[0m\u001b[0;36m1e10\u001b[0m\u001b[0;34m)\u001b[0m \u001b[0;31m#units of 1e10 Msun\u001b[0m\u001b[0;34m\u001b[0m\u001b[0;34m\u001b[0m\u001b[0m\n",
        "\u001b[0;32m<ipython-input-25-58cc99355523>\u001b[0m in \u001b[0;36mMassIso\u001b[0;34m(r, VLSR)\u001b[0m\n\u001b[1;32m     12\u001b[0m     \u001b[0;31m# Return:\u001b[0m\u001b[0;34m\u001b[0m\u001b[0;34m\u001b[0m\u001b[0;34m\u001b[0m\u001b[0m\n\u001b[1;32m     13\u001b[0m     \u001b[0;31m#        Mass inclosed in Msun\u001b[0m\u001b[0;34m\u001b[0m\u001b[0;34m\u001b[0m\u001b[0;34m\u001b[0m\u001b[0m\n\u001b[0;32m---> 14\u001b[0;31m     \u001b[0;32mreturn\u001b[0m \u001b[0mVLSR\u001b[0m\u001b[0;34m**\u001b[0m\u001b[0;36m2\u001b[0m\u001b[0;34m/\u001b[0m\u001b[0mG\u001b[0m\u001b[0;34m*\u001b[0m\u001b[0mr\u001b[0m\u001b[0;34m\u001b[0m\u001b[0;34m\u001b[0m\u001b[0m\n\u001b[0m",
        "\u001b[0;31mNameError\u001b[0m: name 'G' is not defined"
       ]
      }
     ],
     "persistentId": "52218050-0e6a-46fa-b35a-b2dda76527ca",
     "text": "# Computer mass enclosed within Ro\nMisoSolar = MassIso(RoGravity)\nprint(MisoSolar/1e10) #units of 1e10 Msun"
    },
    "executionTime": "2020-01-30T21:56:33.443Z"
   },
   {
    "cell": {
     "executionCount": 27,
     "executionEventId": "d8903960-1509-479e-a79d-280c8018a07d",
     "hasError": false,
     "id": "427274bf-740f-46db-9a85-186248912934",
     "outputs": [],
     "persistentId": "d6cd50ad-215b-4890-88f4-85123268ba3d",
     "text": "# Gravitational Constant\nG = 4.4988e-6 #kpc^2/Gye^2/Msun"
    },
    "executionTime": "2020-01-30T21:56:37.079Z"
   },
   {
    "cell": {
     "executionCount": 28,
     "executionEventId": "68425b72-f994-4754-8993-6a8a92b5653a",
     "hasError": false,
     "id": "6fe686ce-5a0d-468d-b890-4a2f816719ea",
     "outputs": [],
     "persistentId": "c0fa3f88-0306-4d6f-9410-b8ab5ae2706b",
     "text": "# Compute the mass within the solar radius assuming an Isothermal Sphere Model\n# Density profile: rho = VLSR^2/ (4*pi*G*R^2)\n# Mass = Intergrate rho dV\n#        Intergrate VLSR^2/ (4*pi*G*r^2) * 4*pi*r^2 dr\n#        Intergrate VLSR^2/G dr\n#        VLSR^2/G * r\n\ndef MassIso(r,VLSR=235):\n    # Input:\n    #        VLSR the local standard of rest (km/s): Using default VLSR arising from Gravity collaboration Ro \n    #        r the distance from the Galatic Center (kpc)\n    # Return:\n    #        Mass inclosed in Msun\n    return VLSR**2/G*r"
    },
    "executionTime": "2020-01-30T21:56:38.687Z"
   },
   {
    "cell": {
     "executionCount": 29,
     "executionEventId": "4118fd2a-025d-45a3-94c7-56840053df28",
     "hasError": false,
     "id": "bf9eb757-0d6c-42e3-8541-36000f306365",
     "outputs": [
      {
       "name": "stdout",
       "output_type": "stream",
       "text": "10.038900373432917\n"
      }
     ],
     "persistentId": "52218050-0e6a-46fa-b35a-b2dda76527ca",
     "text": "# Computer mass enclosed within Ro\nMisoSolar = MassIso(RoGravity)\nprint(MisoSolar/1e10) #units of 1e10 Msun"
    },
    "executionTime": "2020-01-30T21:56:39.230Z"
   },
   {
    "cell": {
     "executionCount": 30,
     "executionEventId": "890e1bc3-aa47-419b-8ae8-d87096671547",
     "hasError": false,
     "id": "ab28bd2b-2d8b-43a9-a061-29458da8017f",
     "outputs": [
      {
       "name": "stdout",
       "output_type": "stream",
       "text": "3.191628878812128\n"
      }
     ],
     "persistentId": "ab1d7388-cb0e-4fe8-a308-42dd644d7c80",
     "text": "# Computer mass enclosed within 260kpc\nMIso260  = MassIso(260)\nprint(MIso260/1e12)\n"
    },
    "executionTime": "2020-01-30T21:56:40.688Z"
   },
   {
    "cell": {
     "executionCount": 31,
     "executionEventId": "b8c48e5e-04e7-4691-b1b6-ba8223214bef",
     "hasError": false,
     "id": "b3080eaf-79e5-4caf-8c1a-6deac930f679",
     "outputs": [],
     "persistentId": "0df9d3c9-e7bb-4d4f-a980-badd1e2ef7e5",
     "text": "# Potential for a Bernquist Sphere\n# Phi = - G*M/(r*a)\n\n# Using the Bernquist potential, the equation for the escape speed becomes\n# Vesc^2 = 2*G*M/(r+a)\n\n# Rearranging the escape equation for M\n# M = vesc^2/2/G*(r+a)\n#   = 196^2/2/G*(260+30)\n\n# Function that will determine the local halo mass needed to set a given escape at a given distance,\n# assuming a Bernquist profile for the dark matter halo\n\ndef MassFromVesc(vesc, a, r):\n    # Inputs:\n    #    vesc the excape speed in km/s (or speed of the satellite)\n    #    r is the distance from the Galatic center (kpc)\n    #    a = Bernquist scale length (kpc)\n    # Returns:\n    #    Total mass in Msun \n    return vesc**2/2/G*(r+a)"
    },
    "executionTime": "2020-01-30T22:06:59.229Z"
   },
   {
    "cell": {
     "executionCount": 32,
     "executionEventId": "b9c710eb-7ce5-472e-be86-8e72a7c0c5de",
     "hasError": false,
     "id": "a81131f5-239c-4040-8c15-0729f7ee7c3e",
     "outputs": [
      {
       "name": "stdout",
       "output_type": "stream",
       "text": "1238179069974.2153\n"
      }
     ],
     "persistentId": "3541aaaf-7a70-4924-ab53-2fc71e6f22a0",
     "text": "# Mass needed to keep Leo I bound, assuming a Berquist Profile\nMLeoI = MassFromVesc(196, 30, 260)\nprint(MLeoI)"
    },
    "executionTime": "2020-01-30T22:07:28.524Z"
   },
   {
    "cell": {
     "executionCount": 33,
     "executionEventId": "5e4234f8-7e54-4c96-8f5c-fa6cc7a75f07",
     "hasError": false,
     "id": "3bf4e759-8149-4b23-b872-6726f95348da",
     "outputs": [
      {
       "data": {
        "text/plain": "2.577679558804521"
       },
       "execution_count": 33,
       "metadata": {},
       "output_type": "execute_result"
      }
     ],
     "persistentId": "202d5a17-6da1-4b4e-9644-75e0ef64da6e",
     "text": "MIso260/MLeoI"
    },
    "executionTime": "2020-01-30T22:09:24.291Z"
   },
   {
    "cell": {
     "executionCount": 34,
     "executionEventId": "93f88c00-d0d8-40d7-9e97-100a18ed7493",
     "hasError": false,
     "id": "b01945b0-53ba-45b6-a733-a5e0e86f3154",
     "outputs": [],
     "persistentId": "2dd992bd-9a91-4160-affa-41431f7bee24",
     "text": "# The number of rotation about the Galatic Center\n# Age of the universe 13.8Gyr / Orbital Period (T_grav)\nage_universe = 13.8 \nGcrotations = age_universe/T_Grav"
    },
    "executionTime": "2020-01-30T22:10:48.498Z"
   },
   {
    "cell": {
     "executionCount": 35,
     "executionEventId": "573255a0-b828-4158-86af-1d4a24340afa",
     "hasError": false,
     "id": "b01945b0-53ba-45b6-a733-a5e0e86f3154",
     "outputs": [
      {
       "name": "stdout",
       "output_type": "stream",
       "text": "66.40949257428511\n"
      }
     ],
     "persistentId": "2dd992bd-9a91-4160-affa-41431f7bee24",
     "text": "# The number of rotation about the Galatic Center\n# Age of the universe 13.8Gyr / Orbital Period (T_grav)\nage_universe = 13.8 \nGcrotations = age_universe/T_Grav\nprint(Gcrotations)"
    },
    "executionTime": "2020-01-30T22:10:54.835Z"
   },
   {
    "cell": {
     "executionCount": 36,
     "executionEventId": "660ecf38-e9d1-4430-8e5e-b5315c922c21",
     "hasError": true,
     "id": "3d058080-d1b9-4f5f-af86-504fe2a6fce6",
     "outputs": [
      {
       "ename": "NameError",
       "evalue": "name 'D' is not defined",
       "output_type": "error",
       "traceback": [
        "\u001b[0;31m---------------------------------------------------------------------------\u001b[0m",
        "\u001b[0;31mNameError\u001b[0m                                 Traceback (most recent call last)",
        "\u001b[0;32m<ipython-input-36-d89d5603d062>\u001b[0m in \u001b[0;36m<module>\u001b[0;34m\u001b[0m\n\u001b[0;32m----> 1\u001b[0;31m \u001b[0mD\u001b[0m\u001b[0;34m,\u001b[0m \u001b[0mD\u001b[0m\u001b[0;34m\u001b[0m\u001b[0;34m\u001b[0m\u001b[0m\n\u001b[0m",
        "\u001b[0;31mNameError\u001b[0m: name 'D' is not defined"
       ]
      }
     ],
     "persistentId": "ee72a5c0-dffc-4c7a-a858-7c19be73b2c6",
     "text": "D, D"
    },
    "executionTime": "2020-01-30T22:19:52.913Z"
   },
   {
    "cell": {
     "executionCount": 37,
     "executionEventId": "d49259ff-5b5b-4734-913d-4c4e1e897f74",
     "hasError": true,
     "id": "3d058080-d1b9-4f5f-af86-504fe2a6fce6",
     "outputs": [
      {
       "ename": "SyntaxError",
       "evalue": "invalid syntax (<ipython-input-37-4a0a7e9b45be>, line 1)",
       "output_type": "error",
       "traceback": [
        "\u001b[0;36m  File \u001b[0;32m\"<ipython-input-37-4a0a7e9b45be>\"\u001b[0;36m, line \u001b[0;32m1\u001b[0m\n\u001b[0;31m    d d\u001b[0m\n\u001b[0m      ^\u001b[0m\n\u001b[0;31mSyntaxError\u001b[0m\u001b[0;31m:\u001b[0m invalid syntax\n"
       ]
      }
     ],
     "persistentId": "ee72a5c0-dffc-4c7a-a858-7c19be73b2c6",
     "text": "d d"
    },
    "executionTime": "2020-01-30T22:19:56.431Z"
   }
  ],
  "kernelspec": {
   "display_name": "Python 3",
   "language": "python",
   "name": "python3"
  },
  "language_info": {
   "codemirror_mode": {
    "name": "ipython",
    "version": 3
   },
   "file_extension": ".py",
   "mimetype": "text/x-python",
   "name": "python",
   "nbconvert_exporter": "python",
   "pygments_lexer": "ipython3",
   "version": "3.6.7"
  },
  "uuid": "5eba280d-e6d5-406a-9cf4-f060425565f9"
 },
 "nbformat": 4,
 "nbformat_minor": 4
}
