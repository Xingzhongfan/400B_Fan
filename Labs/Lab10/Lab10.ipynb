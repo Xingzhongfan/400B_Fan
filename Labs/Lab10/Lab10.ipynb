{
 "cells": [
  {
   "cell_type": "markdown",
   "metadata": {},
   "source": [
    "# In Class Lab 10 : Template File\n",
    "\n",
    "Tutorial to make some interesting plots with widgets and the simulaton data ! \n",
    "\n",
    "\n",
    "Graphical widgets -- helpful functions to make a \"graphical user interface\", or GUI.\n",
    "\n",
    "These widgets need to be able to take input from the mouse and keyboard while the program is running. The most common way this is achieved is to have the code run in an infinite loop which is interrupted whenever input is provided. Some action is taken according to the input, and then the loop starts running again. This sort of algorithm is known as an *event loop* -- the code loops until a user event occurs.\n",
    "\n",
    "`matplotlib` provides a number of simple widgets which automatically create an event loop for us. One can create a widget instance, and then tell the widget what function to run when something happens to the widget. Such a function is called a *callback* -- the event loop calls back to the function we give it in order to take some action before starting up again."
   ]
  },
  {
   "cell_type": "code",
   "execution_count": 1,
   "metadata": {
    "execution_event_id": "ce0c904f-672c-4587-a6cb-5a0a0559ce98",
    "last_executed_text": "%matplotlib qt\n# enabling windows to pop up and be interactive\n\nimport matplotlib.widgets as mw  # get access to the widgets\n\n\n# external modules\nimport matplotlib\nimport matplotlib.pyplot as plt\nimport matplotlib.colors as colors\nfrom matplotlib.colors import LogNorm\nimport numpy as np\n\n# my modules \nfrom ReadFile import Read\nfrom CenterOfMass2 import CenterOfMass\nfrom MassProfile import MassProfile\n\n# I took the code from Lab 7 for making contours and made it into a separate script\n# NOTE: it is more organized to keep functions in separate scripts \n# and then call them when you want to e.g. make plots or do some analysis. \nfrom contour import density_contour",
    "persistent_id": "cfe33b60-1c32-4a6a-bdc7-de8c5fa07789"
   },
   "outputs": [],
   "source": [
    "%matplotlib qt\n",
    "# enabling windows to pop up and be interactive\n",
    "\n",
    "import matplotlib.widgets as mw  # get access to the widgets\n",
    "\n",
    "\n",
    "# external modules\n",
    "import matplotlib\n",
    "import matplotlib.pyplot as plt\n",
    "import matplotlib.colors as colors\n",
    "from matplotlib.colors import LogNorm\n",
    "import numpy as np\n",
    "\n",
    "# my modules \n",
    "from ReadFile import Read\n",
    "from CenterOfMass2 import CenterOfMass\n",
    "from MassProfile import MassProfile\n",
    "\n",
    "# I took the code from Lab 7 for making contours and made it into a separate script\n",
    "# NOTE: it is more organized to keep functions in separate scripts \n",
    "# and then call them when you want to e.g. make plots or do some analysis. \n",
    "from contour import density_contour"
   ]
  },
  {
   "cell_type": "markdown",
   "metadata": {},
   "source": [
    "# Part A. Load in Data and make some simple plots\n",
    "\n",
    "To do this lab you will need to sftp into nimoy to get the highres data files for this lab:\n",
    "MW_000.txt and MW_400.txt\n",
    "If you don't have enough space on your computer you can use the low res files. \n"
   ]
  },
  {
   "cell_type": "code",
   "execution_count": 2,
   "metadata": {
    "execution_event_id": "bc90e113-170a-4557-bd8a-9ac87ed383ad",
    "last_executed_text": "# Load in disk particles centered on the MW\n# this is from the HighRes data files on nimoy so it might take a bit of time to load\nCOM = CenterOfMass(\"MW_000.txt\",2)",
    "persistent_id": "70aad473-183c-4d4a-9eb4-f677aabfd865"
   },
   "outputs": [],
   "source": [
    "# Load in disk particles centered on the MW\n",
    "# this is from the HighRes data files on nimoy so it might take a bit of time to load\n",
    "COM = CenterOfMass(\"MW_000.txt\",2)"
   ]
  },
  {
   "cell_type": "code",
   "execution_count": 3,
   "metadata": {
    "execution_event_id": "2a9661c7-7bb7-4f24-934b-19ba938618f1",
    "last_executed_text": "# Compute COM of the MW at the new position using disk particles\nCOMP = COM.COM_P(0.1, 2)\nCOMV = COM.COM_V(COMP[0],COMP[1],COMP[2])\n# Determine positions of disk particles relative to COM \nMW_Disk_x = COM.x - COMP[0].value \nMW_Disk_y = COM.y - COMP[1].value \n\n# Also store the disk velocity in the y direction\nMW_Disk_vy = COM.vy - COMV[1].value",
    "persistent_id": "39aa3d07-ea93-491e-b104-7bf8fabb0e98"
   },
   "outputs": [],
   "source": [
    "# Compute COM of the MW at the new position using disk particles\n",
    "COMP = COM.COM_P(0.1, 2)\n",
    "COMV = COM.COM_V(COMP[0],COMP[1],COMP[2])\n",
    "# Determine positions of disk particles relative to COM \n",
    "MW_Disk_x = COM.x - COMP[0].value \n",
    "MW_Disk_y = COM.y - COMP[1].value \n",
    "\n",
    "# Also store the disk velocity in the y direction\n",
    "MW_Disk_vy = COM.vy - COMV[1].value"
   ]
  },
  {
   "cell_type": "code",
   "execution_count": 4,
   "metadata": {
    "execution_event_id": "4a3f472f-8fee-4318-9f0f-936250f0a911",
    "last_executed_text": "# Plot the disk of the MW with contours. \n\n\n# MW Disk Density \nfig, ax= plt.subplots(figsize=(10, 10))\n\n## ADD HERE\n# plot the particle density for MW using plt.hist2d \n# can modify bin number (e.g. bin =100 for low res files)\nplt.hist2d(MW_Disk_x, MW_Disk_y, bins = 200, norm = LogNorm(), cmap = 'magma')\nplt.colorbar(label = 'Number of Disk Particles per bin')\n\n\n# note: MW_Disk.x and MW_Disk.y won't be exactly at 0,0 because i was lazy and didn't take out the center of mass pos\n\n#### ADD HERE \n# call density_contour to add contours\n# density_contour(x pos, y pos, contour res, contour res, axis, colors=[colors,colors])\n\ndensity_contour(MW_Disk_x, MW_Disk_y, 80, 80, ax=ax, colors=['white'])\n\n# Add axis labels\nplt.xlabel('x (kpc)', fontsize=22)\nplt.ylabel('y (kpc)', fontsize=22)\n\n#set axis limits\nplt.ylim(-30,30)\nplt.xlim(-30,30)\n\n#adjust tick label font size\nlabel_size = 22\nmatplotlib.rcParams['xtick.labelsize'] = label_size \nmatplotlib.rcParams['ytick.labelsize'] = label_size\n",
    "persistent_id": "20aa0990-7c81-4d88-a99e-0777dce0cf8c"
   },
   "outputs": [],
   "source": [
    "# Plot the disk of the MW with contours. \n",
    "\n",
    "\n",
    "# MW Disk Density \n",
    "fig, ax= plt.subplots(figsize=(10, 10))\n",
    "\n",
    "## ADD HERE\n",
    "# plot the particle density for MW using plt.hist2d \n",
    "# can modify bin number (e.g. bin =100 for low res files)\n",
    "plt.hist2d(MW_Disk_x, MW_Disk_y, bins = 200, norm = LogNorm(), cmap = 'magma')\n",
    "plt.colorbar(label = 'Number of Disk Particles per bin')\n",
    "\n",
    "\n",
    "# note: MW_Disk.x and MW_Disk.y won't be exactly at 0,0 because i was lazy and didn't take out the center of mass pos\n",
    "\n",
    "#### ADD HERE \n",
    "# call density_contour to add contours\n",
    "# density_contour(x pos, y pos, contour res, contour res, axis, colors=[colors,colors])\n",
    "\n",
    "density_contour(MW_Disk_x, MW_Disk_y, 80, 80, ax=ax, colors=['white'])\n",
    "\n",
    "# Add axis labels\n",
    "plt.xlabel('x (kpc)', fontsize=22)\n",
    "plt.ylabel('y (kpc)', fontsize=22)\n",
    "\n",
    "#set axis limits\n",
    "plt.ylim(-30,30)\n",
    "plt.xlim(-30,30)\n",
    "\n",
    "#adjust tick label font size\n",
    "label_size = 22\n",
    "matplotlib.rcParams['xtick.labelsize'] = label_size \n",
    "matplotlib.rcParams['ytick.labelsize'] = label_size\n"
   ]
  },
  {
   "cell_type": "markdown",
   "metadata": {},
   "source": [
    "# Part B  Zooming in on a plot with widgets\n",
    "\n",
    "We can catch characters typed on the keyboard -- *keypress events* -- by connecting a \"key_press_event\" to a callback function which takes an event as an argument.\n",
    "The event object contains a variety of data. The most useful being:\n",
    "\n",
    "    event.key       # the key which was pressed\n",
    "    event.xdata     # the mouse x-position when the key was pressed\n",
    "    event.ydata     # the mouse y-position when the key was pressed\n",
    "    \n",
    "Another useful widget allows the user to select a rectangular region in some axes object, and then calls a callback function with the bounding coordinates (the extent) of the region selected. This is the RectangleSelector widget.\n",
    "\n",
    "Note that click and release are not really that! Click contains the more-negative values and release the more positive values of both x and y coordinates."
   ]
  },
  {
   "cell_type": "code",
   "execution_count": 48,
   "metadata": {
    "execution_event_id": "0ad4d0f2-b076-4c91-bd1d-2d5c8beae6b9",
    "last_executed_text": "\ndef callbackRectangle( click, release ): # the events are click and release\n    print( f\"button {click.button} pressed\" )\n    print( f\"button {release.button} released\" )\n    extent = [ click.xdata, release.xdata, click.ydata, release.ydata ]\n    print( f\"box extent is {extent}\") \n    \n    # ADD - in order to zoom in reset the axes to the clicked box size\n    ax.set_xlim(click.xdata, release.xdata)\n    ax.set_ylim(click.ydata, release.ydata)\n\n    # Save the file\n    plt.savefig('Density_Zoom.png')",
    "persistent_id": "d5bf66f0-bb43-433d-8da9-5a846a0a2117"
   },
   "outputs": [],
   "source": [
    "\n",
    "def callbackRectangle( click, release ): # the events are click and release\n",
    "    print( f\"button {click.button} pressed\" )\n",
    "    print( f\"button {release.button} released\" )\n",
    "    extent = [ click.xdata, release.xdata, click.ydata, release.ydata ]\n",
    "    print( f\"box extent is {extent}\") \n",
    "    \n",
    "    # ADD - in order to zoom in reset the axes to the clicked box size\n",
    "    ax.set_xlim(click.xdata, release.xdata)\n",
    "    ax.set_ylim(click.ydata, release.ydata)\n",
    "\n",
    "    # Save the file\n",
    "    plt.savefig('Density_Zoom.png')"
   ]
  },
  {
   "cell_type": "code",
   "execution_count": 49,
   "metadata": {
    "execution_event_id": "c9573ff9-7b2c-4c92-9cba-b83e4908fc5c",
    "last_executed_text": "# add the ability to reset the image using an \"on key press\" function \ndef onKeyPressed(event): \n    if event.key in ['R', 'r']:\n        # ADD - to zoom back out reset the axes\n        ax.set_xlim(-30,30)\n        ax.set_ylim(-30,30)\n",
    "persistent_id": "dcbc9d70-a02e-4aa2-baa9-121b197df1fe"
   },
   "outputs": [],
   "source": [
    "# add the ability to reset the image using an \"on key press\" function \n",
    "def onKeyPressed(event): \n",
    "    if event.key in ['R', 'r']:\n",
    "        # ADD - to zoom back out reset the axes\n",
    "        ax.set_xlim(-30,30)\n",
    "        ax.set_ylim(-30,30)\n"
   ]
  },
  {
   "cell_type": "code",
   "execution_count": 50,
   "metadata": {
    "execution_event_id": "13431391-5b69-422e-af15-9e9a5d0c2eea",
    "last_executed_text": "# plot the particle density for the MW Disk and then zoom in on a region of the disk \n\nfig, ax = plt.subplots(figsize =(10 ,10))                             \n\n# 2d histogram \nplt.hist2d(MW_Disk_x,MW_Disk_y, bins=200, norm=LogNorm(), cmap='magma')\nplt.colorbar(label='Number  of  Particles  per  bin')\n\n# over plot contours\ndensity_contour(MW_Disk_x, MW_Disk_y, 80, 80, ax=ax, \\\n                colors=['white'])\n   \n    \n## NEW: Rectangle Selector.     \nrs = mw.RectangleSelector( ax,                        # the axes to attach to\n                           callbackRectangle,         # the callback function\n                           drawtype='box',            # draw a box when selecting a region\n                           button=[1, 3],             # allow us to use left or right mouse button\n                                                      #button 1 is left mouse button\n                           minspanx=5, minspany=5,    # don't accept a box of fewer than 5 pixels\n                           spancoords='pixels' )      # units for above\n\n\n#set axis limits\nax.set_ylim(-30,30)\nax.set_xlim(-30,30)\n\n\n# Add axis labels\nplt.xlabel('x (kpc)', fontsize=22)\nplt.ylabel('y (kpc)', fontsize=22)\n\n# ADDED THIS\n# to detect the 'R' key press to reset the image\nplt.connect(\"key_press_event\", onKeyPressed)\n",
    "persistent_id": "fa5df1e4-2456-4cc4-b91f-e7a65be16913"
   },
   "outputs": [
    {
     "data": {
      "text/plain": [
       "13"
      ]
     },
     "execution_count": 50,
     "metadata": {},
     "output_type": "execute_result"
    }
   ],
   "source": [
    "# plot the particle density for the MW Disk and then zoom in on a region of the disk \n",
    "\n",
    "fig, ax = plt.subplots(figsize =(10 ,10))                             \n",
    "\n",
    "# 2d histogram \n",
    "plt.hist2d(MW_Disk_x,MW_Disk_y, bins=200, norm=LogNorm(), cmap='magma')\n",
    "plt.colorbar(label='Number  of  Particles  per  bin')\n",
    "\n",
    "# over plot contours\n",
    "density_contour(MW_Disk_x, MW_Disk_y, 80, 80, ax=ax, \\\n",
    "                colors=['white'])\n",
    "   \n",
    "    \n",
    "## NEW: Rectangle Selector.     \n",
    "rs = mw.RectangleSelector( ax,                        # the axes to attach to\n",
    "                           callbackRectangle,         # the callback function\n",
    "                           drawtype='box',            # draw a box when selecting a region\n",
    "                           button=[1, 3],             # allow us to use left or right mouse button\n",
    "                                                      #button 1 is left mouse button\n",
    "                           minspanx=5, minspany=5,    # don't accept a box of fewer than 5 pixels\n",
    "                           spancoords='pixels' )      # units for above\n",
    "\n",
    "\n",
    "#set axis limits\n",
    "ax.set_ylim(-30,30)\n",
    "ax.set_xlim(-30,30)\n",
    "\n",
    "\n",
    "# Add axis labels\n",
    "plt.xlabel('x (kpc)', fontsize=22)\n",
    "plt.ylabel('y (kpc)', fontsize=22)\n",
    "\n",
    "# ADDED THIS\n",
    "# to detect the 'R' key press to reset the image\n",
    "plt.connect(\"key_press_event\", onKeyPressed)\n"
   ]
  },
  {
   "cell_type": "markdown",
   "metadata": {},
   "source": [
    "# Part C    Connecting Morphology to Kinematics\n",
    "\n",
    "\n",
    "Make a two panel plot.\n",
    "Left Panel:  Density \n",
    "Right Panel: Phase Diagram \n",
    "\n",
    "Relect a section of the density plot and see where the particles are on the phase diagram"
   ]
  },
  {
   "cell_type": "code",
   "execution_count": 8,
   "metadata": {
    "execution_event_id": "08f25f97-c396-4564-8e54-647b5032c95e",
    "last_executed_text": "# Let's store the circular velocity of the MW like we did in Lab 7\n\n# ADD MassProfile Object.\nMWCirc = MassProfile('MW',0)\n",
    "persistent_id": "00728d7e-a1c6-4190-84b3-40d4af4415ad"
   },
   "outputs": [],
   "source": [
    "# Let's store the circular velocity of the MW like we did in Lab 7\n",
    "\n",
    "# ADD MassProfile Object.\n",
    "MWCirc = MassProfile('MW',0)\n"
   ]
  },
  {
   "cell_type": "code",
   "execution_count": 12,
   "metadata": {
    "execution_event_id": "f8e40a04-720a-4c12-926e-631cd462535b",
    "last_executed_text": "# Add an array for radii up to 40 kpc\nR = np.arange(0.01, 40,0.5)\n\n# Store Vcirc \n",
    "persistent_id": "712fff14-e6f6-4049-800a-af53fd83f2a7"
   },
   "outputs": [],
   "source": [
    "# Add an array for radii up to 40 kpc\n",
    "R = np.arange(0.01, 40,0.5)\n",
    "\n",
    "# Store Vcirc \n"
   ]
  },
  {
   "cell_type": "code",
   "execution_count": null,
   "metadata": {
    "persistent_id": "73a60516-5421-4ff7-89ad-cfa26a02f6e2"
   },
   "outputs": [],
   "source": [
    "# Step 1) Copy over the call back function and the onkeypressed function\n",
    "\n",
    "\n",
    "# Step 3) Let figure out how to select a region in the density and plot it also in the right panel\n",
    "# We also don't want to zoom in on the left panel, instead let's just mark the region we examined. \n",
    "\n",
    "\n"
   ]
  },
  {
   "cell_type": "code",
   "execution_count": 21,
   "metadata": {
    "execution_event_id": "9cd68d6d-651f-421f-a5aa-2f2522218f23",
    "last_executed_text": "def callbackRectangle( click, release ): # the events are click and release\n    print( f\"button {click.button} pressed\" )\n    print( f\"button {release.button} released\" )\n    extent = [ click.xdata, release.xdata, click.ydata, release.ydata ]\n    print( f\"box extent is {extent}\") \n    \n    # ADD - in order to zoom in reset the axes to the clicked box size\n    #ax[0].set_xlim(click.xdata, release.xdata)\n    #ax[0].set_ylim(click.ydata, release.ydata)\n    \n    # Create a rectangle\n    width = np.abs(release.xdata - click.xdata)\n    height = np.abs(click.ydata - release.ydata)\n    \n    Rect = plt.Rectangle((click.xdata,click.ydata), width, height, fill=False, color='yellow', linewidth=3)\n    ax[0].add_patch(Rect)\n    \n    # Use the selected region to find the corresponding particles in the phase diagram\n    index = np.where( (MW_Disk_x>click.xdata) & (MW_Disk_x<release.xdata) & (MW_Disk_y > click.ydata) & (MW_Disk_y < release.ydata) )\n    ax[1].scatter(MW_Disk_2_x[index], MW_Disk_2_y[index])\n    \n    # Save the file\n    plt.savefig('Density_Velocity.png')",
    "persistent_id": "e9c4f6d9-1ba4-4ff6-81ad-0ca23be6be0e"
   },
   "outputs": [],
   "source": [
    "def callbackRectangle( click, release ): # the events are click and release\n",
    "    print( f\"button {click.button} pressed\" )\n",
    "    print( f\"button {release.button} released\" )\n",
    "    extent = [ click.xdata, release.xdata, click.ydata, release.ydata ]\n",
    "    print( f\"box extent is {extent}\") \n",
    "    \n",
    "    # ADD - in order to zoom in reset the axes to the clicked box size\n",
    "    #ax[0].set_xlim(click.xdata, release.xdata)\n",
    "    #ax[0].set_ylim(click.ydata, release.ydata)\n",
    "    \n",
    "    # Create a rectangle\n",
    "    width = np.abs(release.xdata - click.xdata)\n",
    "    height = np.abs(click.ydata - release.ydata)\n",
    "    \n",
    "    Rect = plt.Rectangle((click.xdata,click.ydata), width, height, fill=False, color='yellow', linewidth=3)\n",
    "    ax[0].add_patch(Rect)\n",
    "    \n",
    "    # Use the selected region to find the corresponding particles in the phase diagram\n",
    "    index = np.where( (MW_Disk_x>click.xdata) & (MW_Disk_x<release.xdata) & (MW_Disk_y > click.ydata) & (MW_Disk_y < release.ydata) )\n",
    "    ax[1].scatter(MW_Disk_2_x[index], MW_Disk_2_y[index])\n",
    "    \n",
    "    # Save the file\n",
    "    plt.savefig('Density_Velocity.png')"
   ]
  },
  {
   "cell_type": "code",
   "execution_count": 6,
   "metadata": {
    "execution_event_id": "c8169fa2-c1b5-4ec7-820a-8f282c9539df",
    "last_executed_text": "# add the ability to reset the image using an \"on key press\" function \ndef onKeyPressed(event): \n    if event.key in ['R', 'r']:\n        # ADD - to zoom back out reset the axes\n        ax.set_xlim(-30,30)\n        ax.set_ylim(-30,30)\n\n",
    "persistent_id": "67a148e7-97a5-4df2-a6ed-a58b208fcb98"
   },
   "outputs": [],
   "source": [
    "# add the ability to reset the image using an \"on key press\" function \n",
    "def onKeyPressed(event): \n",
    "    if event.key in ['R', 'r']:\n",
    "        # ADD - to zoom back out reset the axes\n",
    "        ax.set_xlim(-30,30)\n",
    "        ax.set_ylim(-30,30)\n",
    "\n"
   ]
  },
  {
   "cell_type": "code",
   "execution_count": 14,
   "metadata": {
    "execution_event_id": "8f969254-6013-4624-b90d-0ac335552410",
    "last_executed_text": "# Step 2) \n# Add not just the density but also the phase diagram as a separate panel.\n# Copy over the plotting code (2D histogram) and modify the figure so that there are now two panels.\n\n# Add a phase diagram: X vs VY \n\n# plot the particle density for the MW Disk and then zoom in on a region of the disk \n\nfig, ax = plt.subplots(nrows=1, ncols=2, figsize =(10 ,10))\n# ax[0] --> Density\n# ax[1] --> Phase Diagram\n\n### 2d histogram is on the left panel\nax[0].hist2d(MW_Disk_x,MW_Disk_y, bins=200, norm=LogNorm(), cmap='magma')\n#plt.colorbar(label='Number  of  Particles  per  bin')\n\n# over plot contours\ndensity_contour(MW_Disk_x, MW_Disk_y, 80, 80, ax=ax[0], \\\n                colors=['white'])\n   \n    \n#set axis limits\nax[0].set_ylim(-30,30)\nax[0].set_xlim(-30,30)\n\n\n# Add axis labels\nax[0].set_xlabel('x (kpc)', fontsize=22)\nax[0].set_xlabel('y (kpc)', fontsize=22)\n\n### Phase diagram is on the right panel\nax[1].hist2d(MW_Disk_x, MW_Disk_vy, bins=200, norm=LogNorm(),cmap='magma')\n\n#set axis limits\nax[1].set_xlim(-30,30)\n\n\n# Add axis labels\nax[1].set_xlabel('x (kpc)')\nax[1].set_xlabel('velocity along y axis (km/s)')\n\n\n\n## NEW: Rectangle Selector.     \nrs = mw.RectangleSelector( ax,                        # the axes to attach to\n                           callbackRectangle,         # the callback function\n                           drawtype='box',            # draw a box when selecting a region\n                           button=[1, 3],             # allow us to use left or right mouse button\n                                                      #button 1 is left mouse button\n                           minspanx=5, minspany=5,    # don't accept a box of fewer than 5 pixels\n                           spancoords='pixels' )      # units for above\n\n\nplt.connect(\"key_press_event\", onKeyPressed)",
    "persistent_id": "0a67f017-3bb6-49f5-8564-c656a63a140f"
   },
   "outputs": [
    {
     "ename": "AttributeError",
     "evalue": "'numpy.ndarray' object has no attribute 'figure'",
     "output_type": "error",
     "traceback": [
      "\u001b[0;31m---------------------------------------------------------------------------\u001b[0m",
      "\u001b[0;31mAttributeError\u001b[0m                            Traceback (most recent call last)",
      "\u001b[0;32m<ipython-input-14-0865308c171a>\u001b[0m in \u001b[0;36m<module>\u001b[0;34m\u001b[0m\n\u001b[1;32m     49\u001b[0m                                                       \u001b[0;31m#button 1 is left mouse button\u001b[0m\u001b[0;34m\u001b[0m\u001b[0;34m\u001b[0m\u001b[0;34m\u001b[0m\u001b[0m\n\u001b[1;32m     50\u001b[0m                            \u001b[0mminspanx\u001b[0m\u001b[0;34m=\u001b[0m\u001b[0;36m5\u001b[0m\u001b[0;34m,\u001b[0m \u001b[0mminspany\u001b[0m\u001b[0;34m=\u001b[0m\u001b[0;36m5\u001b[0m\u001b[0;34m,\u001b[0m    \u001b[0;31m# don't accept a box of fewer than 5 pixels\u001b[0m\u001b[0;34m\u001b[0m\u001b[0;34m\u001b[0m\u001b[0m\n\u001b[0;32m---> 51\u001b[0;31m                            spancoords='pixels' )      # units for above\n\u001b[0m\u001b[1;32m     52\u001b[0m \u001b[0;34m\u001b[0m\u001b[0m\n\u001b[1;32m     53\u001b[0m \u001b[0;34m\u001b[0m\u001b[0m\n",
      "\u001b[0;32m/anaconda3/lib/python3.6/site-packages/matplotlib/widgets.py\u001b[0m in \u001b[0;36m__init__\u001b[0;34m(self, ax, onselect, drawtype, minspanx, minspany, useblit, lineprops, rectprops, spancoords, button, maxdist, marker_props, interactive, state_modifier_keys)\u001b[0m\n\u001b[1;32m   2077\u001b[0m         _SelectorWidget.__init__(self, ax, onselect, useblit=useblit,\n\u001b[1;32m   2078\u001b[0m                                  \u001b[0mbutton\u001b[0m\u001b[0;34m=\u001b[0m\u001b[0mbutton\u001b[0m\u001b[0;34m,\u001b[0m\u001b[0;34m\u001b[0m\u001b[0;34m\u001b[0m\u001b[0m\n\u001b[0;32m-> 2079\u001b[0;31m                                  state_modifier_keys=state_modifier_keys)\n\u001b[0m\u001b[1;32m   2080\u001b[0m \u001b[0;34m\u001b[0m\u001b[0m\n\u001b[1;32m   2081\u001b[0m         \u001b[0mself\u001b[0m\u001b[0;34m.\u001b[0m\u001b[0mto_draw\u001b[0m \u001b[0;34m=\u001b[0m \u001b[0;32mNone\u001b[0m\u001b[0;34m\u001b[0m\u001b[0;34m\u001b[0m\u001b[0m\n",
      "\u001b[0;32m/anaconda3/lib/python3.6/site-packages/matplotlib/widgets.py\u001b[0m in \u001b[0;36m__init__\u001b[0;34m(self, ax, onselect, useblit, button, state_modifier_keys)\u001b[0m\n\u001b[1;32m   1463\u001b[0m     def __init__(self, ax, onselect, useblit=False, button=None,\n\u001b[1;32m   1464\u001b[0m                  state_modifier_keys=None):\n\u001b[0;32m-> 1465\u001b[0;31m         \u001b[0mAxesWidget\u001b[0m\u001b[0;34m.\u001b[0m\u001b[0m__init__\u001b[0m\u001b[0;34m(\u001b[0m\u001b[0mself\u001b[0m\u001b[0;34m,\u001b[0m \u001b[0max\u001b[0m\u001b[0;34m)\u001b[0m\u001b[0;34m\u001b[0m\u001b[0;34m\u001b[0m\u001b[0m\n\u001b[0m\u001b[1;32m   1466\u001b[0m \u001b[0;34m\u001b[0m\u001b[0m\n\u001b[1;32m   1467\u001b[0m         \u001b[0mself\u001b[0m\u001b[0;34m.\u001b[0m\u001b[0mvisible\u001b[0m \u001b[0;34m=\u001b[0m \u001b[0;32mTrue\u001b[0m\u001b[0;34m\u001b[0m\u001b[0;34m\u001b[0m\u001b[0m\n",
      "\u001b[0;32m/anaconda3/lib/python3.6/site-packages/matplotlib/widgets.py\u001b[0m in \u001b[0;36m__init__\u001b[0;34m(self, ax)\u001b[0m\n\u001b[1;32m    114\u001b[0m     \u001b[0;32mdef\u001b[0m \u001b[0m__init__\u001b[0m\u001b[0;34m(\u001b[0m\u001b[0mself\u001b[0m\u001b[0;34m,\u001b[0m \u001b[0max\u001b[0m\u001b[0;34m)\u001b[0m\u001b[0;34m:\u001b[0m\u001b[0;34m\u001b[0m\u001b[0;34m\u001b[0m\u001b[0m\n\u001b[1;32m    115\u001b[0m         \u001b[0mself\u001b[0m\u001b[0;34m.\u001b[0m\u001b[0max\u001b[0m \u001b[0;34m=\u001b[0m \u001b[0max\u001b[0m\u001b[0;34m\u001b[0m\u001b[0;34m\u001b[0m\u001b[0m\n\u001b[0;32m--> 116\u001b[0;31m         \u001b[0mself\u001b[0m\u001b[0;34m.\u001b[0m\u001b[0mcanvas\u001b[0m \u001b[0;34m=\u001b[0m \u001b[0max\u001b[0m\u001b[0;34m.\u001b[0m\u001b[0mfigure\u001b[0m\u001b[0;34m.\u001b[0m\u001b[0mcanvas\u001b[0m\u001b[0;34m\u001b[0m\u001b[0;34m\u001b[0m\u001b[0m\n\u001b[0m\u001b[1;32m    117\u001b[0m         \u001b[0mself\u001b[0m\u001b[0;34m.\u001b[0m\u001b[0mcids\u001b[0m \u001b[0;34m=\u001b[0m \u001b[0;34m[\u001b[0m\u001b[0;34m]\u001b[0m\u001b[0;34m\u001b[0m\u001b[0;34m\u001b[0m\u001b[0m\n\u001b[1;32m    118\u001b[0m \u001b[0;34m\u001b[0m\u001b[0m\n",
      "\u001b[0;31mAttributeError\u001b[0m: 'numpy.ndarray' object has no attribute 'figure'"
     ]
    }
   ],
   "source": [
    "# Step 2) \n",
    "# Add not just the density but also the phase diagram as a separate panel.\n",
    "# Copy over the plotting code (2D histogram) and modify the figure so that there are now two panels.\n",
    "\n",
    "# Add a phase diagram: X vs VY \n",
    "\n",
    "# plot the particle density for the MW Disk and then zoom in on a region of the disk \n",
    "\n",
    "fig, ax = plt.subplots(nrows=1, ncols=2, figsize =(10 ,10))\n",
    "# ax[0] --> Density\n",
    "# ax[1] --> Phase Diagram\n",
    "\n",
    "### 2d histogram is on the left panel\n",
    "ax[0].hist2d(MW_Disk_x,MW_Disk_y, bins=200, norm=LogNorm(), cmap='magma')\n",
    "#plt.colorbar(label='Number  of  Particles  per  bin')\n",
    "\n",
    "# over plot contours\n",
    "density_contour(MW_Disk_x, MW_Disk_y, 80, 80, ax=ax[0], \\\n",
    "                colors=['white'])\n",
    "   \n",
    "    \n",
    "#set axis limits\n",
    "ax[0].set_ylim(-30,30)\n",
    "ax[0].set_xlim(-30,30)\n",
    "\n",
    "\n",
    "# Add axis labels\n",
    "ax[0].set_xlabel('x (kpc)', fontsize=22)\n",
    "ax[0].set_xlabel('y (kpc)', fontsize=22)\n",
    "\n",
    "### Phase diagram is on the right panel\n",
    "ax[1].hist2d(MW_Disk_x, MW_Disk_vy, bins=200, norm=LogNorm(),cmap='magma')\n",
    "\n",
    "#set axis limits\n",
    "ax[1].set_xlim(-30,30)\n",
    "\n",
    "\n",
    "# Add axis labels\n",
    "ax[1].set_xlabel('x (kpc)')\n",
    "ax[1].set_xlabel('velocity along y axis (km/s)')\n",
    "\n",
    "\n",
    "\n",
    "## NEW: Rectangle Selector.     \n",
    "rs = mw.RectangleSelector( ax,                        # the axes to attach to\n",
    "                           callbackRectangle,         # the callback function\n",
    "                           drawtype='box',            # draw a box when selecting a region\n",
    "                           button=[1, 3],             # allow us to use left or right mouse button\n",
    "                                                      #button 1 is left mouse button\n",
    "                           minspanx=5, minspany=5,    # don't accept a box of fewer than 5 pixels\n",
    "                           spancoords='pixels' )      # units for above\n",
    "\n",
    "\n",
    "plt.connect(\"key_press_event\", onKeyPressed)"
   ]
  },
  {
   "cell_type": "markdown",
   "metadata": {},
   "source": [
    "# Part D:  Flip it around \n",
    "\n",
    "Now Pick based on kinematics and find out where they are in the disk.\n",
    "This would be a good way to find e.g. high velocity particles. or particles that are really not obeying the normal kinematics of the disk at the current time."
   ]
  },
  {
   "cell_type": "code",
   "execution_count": null,
   "metadata": {
    "persistent_id": "474fd2b4-210f-4924-ad6c-52496c32bc13"
   },
   "outputs": [],
   "source": [
    "# Copy over the Call back function and the onkeypressed function from Part C\n",
    "# flip the axes ax[0] < --- > ax[1]"
   ]
  },
  {
   "cell_type": "code",
   "execution_count": null,
   "metadata": {
    "persistent_id": "7cf12026-b098-4880-a541-c0c788660ead"
   },
   "outputs": [],
   "source": [
    "# Copy over the Density and phase diagram code\n",
    "# flip the axes ax[0]<--> ax[1]\n",
    "\n",
    "\n"
   ]
  },
  {
   "cell_type": "markdown",
   "metadata": {},
   "source": [
    "# Part E : Connecting particles across snapshots\n"
   ]
  },
  {
   "cell_type": "code",
   "execution_count": 17,
   "metadata": {
    "execution_event_id": "524e7b6d-d5c1-410f-8856-3062e4166722",
    "last_executed_text": "# Load in a different snapshot\nCOM_2 = CenterOfMass(\"MW_400.txt\",2)",
    "persistent_id": "30c19c8f-1ba4-40ac-8026-d712be751a67"
   },
   "outputs": [],
   "source": [
    "# Load in a different snapshot\n",
    "COM_2 = CenterOfMass(\"MW_400.txt\",2)"
   ]
  },
  {
   "cell_type": "code",
   "execution_count": 20,
   "metadata": {
    "execution_event_id": "c5be3038-73b2-4126-a3c0-c48f514c864b",
    "last_executed_text": "\n# Compute COM of the MW at the new position using disk particles\nCOMP_2 = COM_2.COM_P(0.1, 2)\n# Determine positions of disk particles relative to COM \nMW_Disk_2_x = COM_2.x - COMP_2[0].value \nMW_Disk_2_y = COM_2.y - COMP_2[1].value \n",
    "persistent_id": "b8e3940b-27ab-4055-9015-22d9cb2cc233"
   },
   "outputs": [],
   "source": [
    "\n",
    "# Compute COM of the MW at the new position using disk particles\n",
    "COMP_2 = COM_2.COM_P(0.1, 2)\n",
    "# Determine positions of disk particles relative to COM \n",
    "MW_Disk_2_x = COM_2.x - COMP_2[0].value \n",
    "MW_Disk_2_y = COM_2.y - COMP_2[1].value \n"
   ]
  },
  {
   "cell_type": "code",
   "execution_count": 22,
   "metadata": {
    "execution_event_id": "3c94bf1f-edf3-4f47-9018-003f1dadcd41",
    "last_executed_text": "# Copy over the Call back function and the onkeypressed function from Part C\n# Step 2) \n# Add not just the density but also the phase diagram as a separate panel.\n# Copy over the plotting code (2D histogram) and modify the figure so that there are now two panels.\n\n# Add a phase diagram: X vs VY \n\n# plot the particle density for the MW Disk and then zoom in on a region of the disk \n\nfig, ax = plt.subplots(nrows=1, ncols=2, figsize =(10 ,10))\n# ax[0] --> Density\n# ax[1] --> Phase Diagram\n\n### 2d histogram is on the left panel\nax[0].hist2d(MW_Disk_x,MW_Disk_y, bins=200, norm=LogNorm(), cmap='magma')\n#plt.colorbar(label='Number  of  Particles  per  bin')\n\n# over plot contours\ndensity_contour(MW_Disk_x, MW_Disk_y, 80, 80, ax=ax[0], \\\n                colors=['white'])\n   \n    \n#set axis limits\nax[0].set_ylim(-30,30)\nax[0].set_xlim(-30,30)\n\n\n# Add axis labels\nax[0].set_xlabel('x (kpc)', fontsize=22)\nax[0].set_xlabel('y (kpc)', fontsize=22)\n\n### Phase diagram is on the right panel\nax[1].hist2d(MW_Disk_2_x, MW_Disk_2_y, bins=200, norm=LogNorm(),cmap='magma')\n\n#set axis limits\nax[1].set_xlim(-30,30)\n\n\n# Add axis labels\nax[1].set_xlabel('x (kpc)')\nax[1].set_xlabel('y (kpc)')\n\n\n\n## NEW: Rectangle Selector.     \nrs = mw.RectangleSelector( ax,                        # the axes to attach to\n                           callbackRectangle,         # the callback function\n                           drawtype='box',            # draw a box when selecting a region\n                           button=[1, 3],             # allow us to use left or right mouse button\n                                                      #button 1 is left mouse button\n                           minspanx=5, minspany=5,    # don't accept a box of fewer than 5 pixels\n                           spancoords='pixels' )      # units for above\n\n\nplt.connect(\"key_press_event\", onKeyPressed)\n",
    "persistent_id": "80c2efb8-5e82-40f5-baef-96693d6f4922"
   },
   "outputs": [
    {
     "ename": "AttributeError",
     "evalue": "'numpy.ndarray' object has no attribute 'figure'",
     "output_type": "error",
     "traceback": [
      "\u001b[0;31m---------------------------------------------------------------------------\u001b[0m",
      "\u001b[0;31mAttributeError\u001b[0m                            Traceback (most recent call last)",
      "\u001b[0;32m<ipython-input-22-50d4e926ac0a>\u001b[0m in \u001b[0;36m<module>\u001b[0;34m\u001b[0m\n\u001b[1;32m     50\u001b[0m                                                       \u001b[0;31m#button 1 is left mouse button\u001b[0m\u001b[0;34m\u001b[0m\u001b[0;34m\u001b[0m\u001b[0;34m\u001b[0m\u001b[0m\n\u001b[1;32m     51\u001b[0m                            \u001b[0mminspanx\u001b[0m\u001b[0;34m=\u001b[0m\u001b[0;36m5\u001b[0m\u001b[0;34m,\u001b[0m \u001b[0mminspany\u001b[0m\u001b[0;34m=\u001b[0m\u001b[0;36m5\u001b[0m\u001b[0;34m,\u001b[0m    \u001b[0;31m# don't accept a box of fewer than 5 pixels\u001b[0m\u001b[0;34m\u001b[0m\u001b[0;34m\u001b[0m\u001b[0m\n\u001b[0;32m---> 52\u001b[0;31m                            spancoords='pixels' )      # units for above\n\u001b[0m\u001b[1;32m     53\u001b[0m \u001b[0;34m\u001b[0m\u001b[0m\n\u001b[1;32m     54\u001b[0m \u001b[0;34m\u001b[0m\u001b[0m\n",
      "\u001b[0;32m/anaconda3/lib/python3.6/site-packages/matplotlib/widgets.py\u001b[0m in \u001b[0;36m__init__\u001b[0;34m(self, ax, onselect, drawtype, minspanx, minspany, useblit, lineprops, rectprops, spancoords, button, maxdist, marker_props, interactive, state_modifier_keys)\u001b[0m\n\u001b[1;32m   2077\u001b[0m         _SelectorWidget.__init__(self, ax, onselect, useblit=useblit,\n\u001b[1;32m   2078\u001b[0m                                  \u001b[0mbutton\u001b[0m\u001b[0;34m=\u001b[0m\u001b[0mbutton\u001b[0m\u001b[0;34m,\u001b[0m\u001b[0;34m\u001b[0m\u001b[0;34m\u001b[0m\u001b[0m\n\u001b[0;32m-> 2079\u001b[0;31m                                  state_modifier_keys=state_modifier_keys)\n\u001b[0m\u001b[1;32m   2080\u001b[0m \u001b[0;34m\u001b[0m\u001b[0m\n\u001b[1;32m   2081\u001b[0m         \u001b[0mself\u001b[0m\u001b[0;34m.\u001b[0m\u001b[0mto_draw\u001b[0m \u001b[0;34m=\u001b[0m \u001b[0;32mNone\u001b[0m\u001b[0;34m\u001b[0m\u001b[0;34m\u001b[0m\u001b[0m\n",
      "\u001b[0;32m/anaconda3/lib/python3.6/site-packages/matplotlib/widgets.py\u001b[0m in \u001b[0;36m__init__\u001b[0;34m(self, ax, onselect, useblit, button, state_modifier_keys)\u001b[0m\n\u001b[1;32m   1463\u001b[0m     def __init__(self, ax, onselect, useblit=False, button=None,\n\u001b[1;32m   1464\u001b[0m                  state_modifier_keys=None):\n\u001b[0;32m-> 1465\u001b[0;31m         \u001b[0mAxesWidget\u001b[0m\u001b[0;34m.\u001b[0m\u001b[0m__init__\u001b[0m\u001b[0;34m(\u001b[0m\u001b[0mself\u001b[0m\u001b[0;34m,\u001b[0m \u001b[0max\u001b[0m\u001b[0;34m)\u001b[0m\u001b[0;34m\u001b[0m\u001b[0;34m\u001b[0m\u001b[0m\n\u001b[0m\u001b[1;32m   1466\u001b[0m \u001b[0;34m\u001b[0m\u001b[0m\n\u001b[1;32m   1467\u001b[0m         \u001b[0mself\u001b[0m\u001b[0;34m.\u001b[0m\u001b[0mvisible\u001b[0m \u001b[0;34m=\u001b[0m \u001b[0;32mTrue\u001b[0m\u001b[0;34m\u001b[0m\u001b[0;34m\u001b[0m\u001b[0m\n",
      "\u001b[0;32m/anaconda3/lib/python3.6/site-packages/matplotlib/widgets.py\u001b[0m in \u001b[0;36m__init__\u001b[0;34m(self, ax)\u001b[0m\n\u001b[1;32m    114\u001b[0m     \u001b[0;32mdef\u001b[0m \u001b[0m__init__\u001b[0m\u001b[0;34m(\u001b[0m\u001b[0mself\u001b[0m\u001b[0;34m,\u001b[0m \u001b[0max\u001b[0m\u001b[0;34m)\u001b[0m\u001b[0;34m:\u001b[0m\u001b[0;34m\u001b[0m\u001b[0;34m\u001b[0m\u001b[0m\n\u001b[1;32m    115\u001b[0m         \u001b[0mself\u001b[0m\u001b[0;34m.\u001b[0m\u001b[0max\u001b[0m \u001b[0;34m=\u001b[0m \u001b[0max\u001b[0m\u001b[0;34m\u001b[0m\u001b[0;34m\u001b[0m\u001b[0m\n\u001b[0;32m--> 116\u001b[0;31m         \u001b[0mself\u001b[0m\u001b[0;34m.\u001b[0m\u001b[0mcanvas\u001b[0m \u001b[0;34m=\u001b[0m \u001b[0max\u001b[0m\u001b[0;34m.\u001b[0m\u001b[0mfigure\u001b[0m\u001b[0;34m.\u001b[0m\u001b[0mcanvas\u001b[0m\u001b[0;34m\u001b[0m\u001b[0;34m\u001b[0m\u001b[0m\n\u001b[0m\u001b[1;32m    117\u001b[0m         \u001b[0mself\u001b[0m\u001b[0;34m.\u001b[0m\u001b[0mcids\u001b[0m \u001b[0;34m=\u001b[0m \u001b[0;34m[\u001b[0m\u001b[0;34m]\u001b[0m\u001b[0;34m\u001b[0m\u001b[0;34m\u001b[0m\u001b[0m\n\u001b[1;32m    118\u001b[0m \u001b[0;34m\u001b[0m\u001b[0m\n",
      "\u001b[0;31mAttributeError\u001b[0m: 'numpy.ndarray' object has no attribute 'figure'"
     ]
    }
   ],
   "source": [
    "# Copy over the Call back function and the onkeypressed function from Part C\n",
    "# Step 2) \n",
    "# Add not just the density but also the phase diagram as a separate panel.\n",
    "# Copy over the plotting code (2D histogram) and modify the figure so that there are now two panels.\n",
    "\n",
    "# Add a phase diagram: X vs VY \n",
    "\n",
    "# plot the particle density for the MW Disk and then zoom in on a region of the disk \n",
    "\n",
    "fig, ax = plt.subplots(nrows=1, ncols=2, figsize =(10 ,10))\n",
    "# ax[0] --> Density\n",
    "# ax[1] --> Phase Diagram\n",
    "\n",
    "### 2d histogram is on the left panel\n",
    "ax[0].hist2d(MW_Disk_x,MW_Disk_y, bins=200, norm=LogNorm(), cmap='magma')\n",
    "#plt.colorbar(label='Number  of  Particles  per  bin')\n",
    "\n",
    "# over plot contours\n",
    "density_contour(MW_Disk_x, MW_Disk_y, 80, 80, ax=ax[0], \\\n",
    "                colors=['white'])\n",
    "   \n",
    "    \n",
    "#set axis limits\n",
    "ax[0].set_ylim(-30,30)\n",
    "ax[0].set_xlim(-30,30)\n",
    "\n",
    "\n",
    "# Add axis labels\n",
    "ax[0].set_xlabel('x (kpc)', fontsize=22)\n",
    "ax[0].set_xlabel('y (kpc)', fontsize=22)\n",
    "\n",
    "### Phase diagram is on the right panel\n",
    "ax[1].hist2d(MW_Disk_2_x, MW_Disk_2_y, bins=200, norm=LogNorm(),cmap='magma')\n",
    "\n",
    "#set axis limits\n",
    "ax[1].set_xlim(-30,30)\n",
    "\n",
    "\n",
    "# Add axis labels\n",
    "ax[1].set_xlabel('x (kpc)')\n",
    "ax[1].set_xlabel('y (kpc)')\n",
    "\n",
    "\n",
    "\n",
    "## NEW: Rectangle Selector.     \n",
    "rs = mw.RectangleSelector( ax,                        # the axes to attach to\n",
    "                           callbackRectangle,         # the callback function\n",
    "                           drawtype='box',            # draw a box when selecting a region\n",
    "                           button=[1, 3],             # allow us to use left or right mouse button\n",
    "                                                      #button 1 is left mouse button\n",
    "                           minspanx=5, minspany=5,    # don't accept a box of fewer than 5 pixels\n",
    "                           spancoords='pixels' )      # units for above\n",
    "\n",
    "\n",
    "plt.connect(\"key_press_event\", onKeyPressed)\n"
   ]
  },
  {
   "cell_type": "code",
   "execution_count": null,
   "metadata": {},
   "outputs": [],
   "source": [
    "# Copy over the plotting script from Part C\n",
    "# Instead of the phase plot, have the second panel be the MW at a different snapshot\n",
    "\n"
   ]
  },
  {
   "cell_type": "code",
   "execution_count": null,
   "metadata": {},
   "outputs": [],
   "source": []
  }
 ],
 "metadata": {
  "history": [
   {
    "cell": {
     "executionCount": 1,
     "executionEventId": "909010e3-21be-489b-99ef-7688d1c5e4b1",
     "hasError": true,
     "id": "aefb1a83-4546-4d6a-b478-4ce0ebb45ba3",
     "outputs": [
      {
       "ename": "ModuleNotFoundError",
       "evalue": "No module named 'CenterOfMass'",
       "output_type": "error",
       "traceback": [
        "\u001b[0;31m---------------------------------------------------------------------------\u001b[0m",
        "\u001b[0;31mModuleNotFoundError\u001b[0m                       Traceback (most recent call last)",
        "\u001b[0;32m<ipython-input-1-94e7ea9bfa2a>\u001b[0m in \u001b[0;36m<module>\u001b[0;34m\u001b[0m\n\u001b[1;32m     15\u001b[0m \u001b[0;32mfrom\u001b[0m \u001b[0mReadFile\u001b[0m \u001b[0;32mimport\u001b[0m \u001b[0mRead\u001b[0m\u001b[0;34m\u001b[0m\u001b[0;34m\u001b[0m\u001b[0m\n\u001b[1;32m     16\u001b[0m \u001b[0;32mfrom\u001b[0m \u001b[0mCenterOfMass2\u001b[0m \u001b[0;32mimport\u001b[0m \u001b[0mCenterOfMass\u001b[0m\u001b[0;34m\u001b[0m\u001b[0;34m\u001b[0m\u001b[0m\n\u001b[0;32m---> 17\u001b[0;31m \u001b[0;32mfrom\u001b[0m \u001b[0mMassProfile\u001b[0m \u001b[0;32mimport\u001b[0m \u001b[0mMassProfile\u001b[0m\u001b[0;34m\u001b[0m\u001b[0;34m\u001b[0m\u001b[0m\n\u001b[0m\u001b[1;32m     18\u001b[0m \u001b[0;34m\u001b[0m\u001b[0m\n\u001b[1;32m     19\u001b[0m \u001b[0;31m# I took the code from Lab 7 for making contours and made it into a separate script\u001b[0m\u001b[0;34m\u001b[0m\u001b[0;34m\u001b[0m\u001b[0;34m\u001b[0m\u001b[0m\n",
        "\u001b[0;32m~/Github/ASTR400B_2020/InClassLabs/Lab10/MassProfile.py\u001b[0m in \u001b[0;36m<module>\u001b[0;34m\u001b[0m\n\u001b[1;32m     18\u001b[0m \u001b[0;31m# my modules\u001b[0m\u001b[0;34m\u001b[0m\u001b[0;34m\u001b[0m\u001b[0;34m\u001b[0m\u001b[0m\n\u001b[1;32m     19\u001b[0m \u001b[0;32mfrom\u001b[0m \u001b[0mReadFile\u001b[0m \u001b[0;32mimport\u001b[0m \u001b[0mRead\u001b[0m\u001b[0;34m\u001b[0m\u001b[0;34m\u001b[0m\u001b[0m\n\u001b[0;32m---> 20\u001b[0;31m \u001b[0;32mfrom\u001b[0m \u001b[0mCenterOfMass\u001b[0m \u001b[0;32mimport\u001b[0m \u001b[0mCenterOfMass\u001b[0m\u001b[0;34m\u001b[0m\u001b[0;34m\u001b[0m\u001b[0m\n\u001b[0m\u001b[1;32m     21\u001b[0m \u001b[0;34m\u001b[0m\u001b[0m\n\u001b[1;32m     22\u001b[0m \u001b[0;34m\u001b[0m\u001b[0m\n",
        "\u001b[0;31mModuleNotFoundError\u001b[0m: No module named 'CenterOfMass'"
       ]
      }
     ],
     "persistentId": "cfe33b60-1c32-4a6a-bdc7-de8c5fa07789",
     "text": "%matplotlib qt\n# enabling windows to pop up and be interactive\n\nimport matplotlib.widgets as mw  # get access to the widgets\n\n\n# external modules\nimport matplotlib\nimport matplotlib.pyplot as plt\nimport matplotlib.colors as colors\nfrom matplotlib.colors import LogNorm\nimport numpy as np\n\n# my modules \nfrom ReadFile import Read\nfrom CenterOfMass2 import CenterOfMass\nfrom MassProfile import MassProfile\n\n# I took the code from Lab 7 for making contours and made it into a separate script\n# NOTE: it is more organized to keep functions in separate scripts \n# and then call them when you want to e.g. make plots or do some analysis. \nfrom contour import density_contour"
    },
    "executionTime": "2020-04-22T03:38:17.902Z"
   },
   {
    "cell": {
     "executionCount": 2,
     "executionEventId": "01f98654-618e-440c-98fe-86a213c4dccb",
     "hasError": true,
     "id": "aefb1a83-4546-4d6a-b478-4ce0ebb45ba3",
     "outputs": [
      {
       "ename": "ModuleNotFoundError",
       "evalue": "No module named 'CenterOfMass'",
       "output_type": "error",
       "traceback": [
        "\u001b[0;31m---------------------------------------------------------------------------\u001b[0m",
        "\u001b[0;31mModuleNotFoundError\u001b[0m                       Traceback (most recent call last)",
        "\u001b[0;32m<ipython-input-2-94e7ea9bfa2a>\u001b[0m in \u001b[0;36m<module>\u001b[0;34m\u001b[0m\n\u001b[1;32m     15\u001b[0m \u001b[0;32mfrom\u001b[0m \u001b[0mReadFile\u001b[0m \u001b[0;32mimport\u001b[0m \u001b[0mRead\u001b[0m\u001b[0;34m\u001b[0m\u001b[0;34m\u001b[0m\u001b[0m\n\u001b[1;32m     16\u001b[0m \u001b[0;32mfrom\u001b[0m \u001b[0mCenterOfMass2\u001b[0m \u001b[0;32mimport\u001b[0m \u001b[0mCenterOfMass\u001b[0m\u001b[0;34m\u001b[0m\u001b[0;34m\u001b[0m\u001b[0m\n\u001b[0;32m---> 17\u001b[0;31m \u001b[0;32mfrom\u001b[0m \u001b[0mMassProfile\u001b[0m \u001b[0;32mimport\u001b[0m \u001b[0mMassProfile\u001b[0m\u001b[0;34m\u001b[0m\u001b[0;34m\u001b[0m\u001b[0m\n\u001b[0m\u001b[1;32m     18\u001b[0m \u001b[0;34m\u001b[0m\u001b[0m\n\u001b[1;32m     19\u001b[0m \u001b[0;31m# I took the code from Lab 7 for making contours and made it into a separate script\u001b[0m\u001b[0;34m\u001b[0m\u001b[0;34m\u001b[0m\u001b[0;34m\u001b[0m\u001b[0m\n",
        "\u001b[0;32m~/Github/ASTR400B_2020/InClassLabs/Lab10/MassProfile.py\u001b[0m in \u001b[0;36m<module>\u001b[0;34m\u001b[0m\n\u001b[1;32m     18\u001b[0m \u001b[0;31m# my modules\u001b[0m\u001b[0;34m\u001b[0m\u001b[0;34m\u001b[0m\u001b[0;34m\u001b[0m\u001b[0m\n\u001b[1;32m     19\u001b[0m \u001b[0;32mfrom\u001b[0m \u001b[0mReadFile\u001b[0m \u001b[0;32mimport\u001b[0m \u001b[0mRead\u001b[0m\u001b[0;34m\u001b[0m\u001b[0;34m\u001b[0m\u001b[0m\n\u001b[0;32m---> 20\u001b[0;31m \u001b[0;32mfrom\u001b[0m \u001b[0mCenterOfMass\u001b[0m \u001b[0;32mimport\u001b[0m \u001b[0mCenterOfMass\u001b[0m\u001b[0;34m\u001b[0m\u001b[0;34m\u001b[0m\u001b[0m\n\u001b[0m\u001b[1;32m     21\u001b[0m \u001b[0;34m\u001b[0m\u001b[0m\n\u001b[1;32m     22\u001b[0m \u001b[0;34m\u001b[0m\u001b[0m\n",
        "\u001b[0;31mModuleNotFoundError\u001b[0m: No module named 'CenterOfMass'"
       ]
      }
     ],
     "persistentId": "cfe33b60-1c32-4a6a-bdc7-de8c5fa07789",
     "text": "%matplotlib qt\n# enabling windows to pop up and be interactive\n\nimport matplotlib.widgets as mw  # get access to the widgets\n\n\n# external modules\nimport matplotlib\nimport matplotlib.pyplot as plt\nimport matplotlib.colors as colors\nfrom matplotlib.colors import LogNorm\nimport numpy as np\n\n# my modules \nfrom ReadFile import Read\nfrom CenterOfMass2 import CenterOfMass\nfrom MassProfile import MassProfile\n\n# I took the code from Lab 7 for making contours and made it into a separate script\n# NOTE: it is more organized to keep functions in separate scripts \n# and then call them when you want to e.g. make plots or do some analysis. \nfrom contour import density_contour"
    },
    "executionTime": "2020-04-22T03:38:35.545Z"
   },
   {
    "cell": {
     "executionCount": 3,
     "executionEventId": "f0bc975e-6c86-49fd-a047-0d81ad10d2c5",
     "hasError": false,
     "id": "aefb1a83-4546-4d6a-b478-4ce0ebb45ba3",
     "outputs": [],
     "persistentId": "cfe33b60-1c32-4a6a-bdc7-de8c5fa07789",
     "text": "%matplotlib qt\n# enabling windows to pop up and be interactive\n\nimport matplotlib.widgets as mw  # get access to the widgets\n\n\n# external modules\nimport matplotlib\nimport matplotlib.pyplot as plt\nimport matplotlib.colors as colors\nfrom matplotlib.colors import LogNorm\nimport numpy as np\n\n# my modules \nfrom ReadFile import Read\nfrom CenterOfMass2 import CenterOfMass\nfrom MassProfile import MassProfile\n\n# I took the code from Lab 7 for making contours and made it into a separate script\n# NOTE: it is more organized to keep functions in separate scripts \n# and then call them when you want to e.g. make plots or do some analysis. \nfrom contour import density_contour"
    },
    "executionTime": "2020-04-22T03:39:45.461Z"
   },
   {
    "cell": {
     "executionCount": 4,
     "executionEventId": "982dda9d-dc84-4964-940d-93f9bdea33ba",
     "hasError": true,
     "id": "41c7906f-b120-4620-9567-cc5da747cff4",
     "outputs": [
      {
       "ename": "FileNotFoundError",
       "evalue": "[Errno 2] No such file or directory: 'MW_000.txt'",
       "output_type": "error",
       "traceback": [
        "\u001b[0;31m---------------------------------------------------------------------------\u001b[0m",
        "\u001b[0;31mFileNotFoundError\u001b[0m                         Traceback (most recent call last)",
        "\u001b[0;32m<ipython-input-4-54c35f6c3c6a>\u001b[0m in \u001b[0;36m<module>\u001b[0;34m\u001b[0m\n\u001b[1;32m      1\u001b[0m \u001b[0;31m# Load in disk particles centered on the MW\u001b[0m\u001b[0;34m\u001b[0m\u001b[0;34m\u001b[0m\u001b[0;34m\u001b[0m\u001b[0m\n\u001b[1;32m      2\u001b[0m \u001b[0;31m# this is from the HighRes data files on nimoy so it might take a bit of time to load\u001b[0m\u001b[0;34m\u001b[0m\u001b[0;34m\u001b[0m\u001b[0;34m\u001b[0m\u001b[0m\n\u001b[0;32m----> 3\u001b[0;31m \u001b[0mCOM\u001b[0m \u001b[0;34m=\u001b[0m \u001b[0mCenterOfMass\u001b[0m\u001b[0;34m(\u001b[0m\u001b[0;34m\"MW_000.txt\"\u001b[0m\u001b[0;34m,\u001b[0m\u001b[0;36m2\u001b[0m\u001b[0;34m)\u001b[0m\u001b[0;34m\u001b[0m\u001b[0;34m\u001b[0m\u001b[0m\n\u001b[0m",
        "\u001b[0;32m~/Github/ASTR400B_2020/InClassLabs/Lab10/CenterOfMass2.py\u001b[0m in \u001b[0;36m__init__\u001b[0;34m(self, filename, ptype)\u001b[0m\n\u001b[1;32m     29\u001b[0m \u001b[0;34m\u001b[0m\u001b[0m\n\u001b[1;32m     30\u001b[0m         \u001b[0;31m# read in the file\u001b[0m\u001b[0;34m\u001b[0m\u001b[0;34m\u001b[0m\u001b[0;34m\u001b[0m\u001b[0m\n\u001b[0;32m---> 31\u001b[0;31m         \u001b[0mself\u001b[0m\u001b[0;34m.\u001b[0m\u001b[0mtime\u001b[0m\u001b[0;34m,\u001b[0m \u001b[0mself\u001b[0m\u001b[0;34m.\u001b[0m\u001b[0mtotal\u001b[0m\u001b[0;34m,\u001b[0m \u001b[0mself\u001b[0m\u001b[0;34m.\u001b[0m\u001b[0mdata\u001b[0m \u001b[0;34m=\u001b[0m \u001b[0mRead\u001b[0m\u001b[0;34m(\u001b[0m\u001b[0mfilename\u001b[0m\u001b[0;34m)\u001b[0m\u001b[0;34m\u001b[0m\u001b[0;34m\u001b[0m\u001b[0m\n\u001b[0m\u001b[1;32m     32\u001b[0m         \u001b[0;31m#print(self.time)\u001b[0m\u001b[0;34m\u001b[0m\u001b[0;34m\u001b[0m\u001b[0;34m\u001b[0m\u001b[0m\n\u001b[1;32m     33\u001b[0m \u001b[0;34m\u001b[0m\u001b[0m\n",
        "\u001b[0;32m~/Github/ASTR400B_2020/InClassLabs/Lab10/ReadFile.py\u001b[0m in \u001b[0;36mRead\u001b[0;34m(filename)\u001b[0m\n\u001b[1;32m     10\u001b[0m \u001b[0;34m\u001b[0m\u001b[0m\n\u001b[1;32m     11\u001b[0m         \u001b[0;31m# open the file\u001b[0m\u001b[0;34m\u001b[0m\u001b[0;34m\u001b[0m\u001b[0;34m\u001b[0m\u001b[0m\n\u001b[0;32m---> 12\u001b[0;31m         \u001b[0mfile\u001b[0m \u001b[0;34m=\u001b[0m \u001b[0mopen\u001b[0m\u001b[0;34m(\u001b[0m\u001b[0mfilename\u001b[0m\u001b[0;34m,\u001b[0m\u001b[0;34m'r'\u001b[0m\u001b[0;34m)\u001b[0m\u001b[0;34m\u001b[0m\u001b[0;34m\u001b[0m\u001b[0m\n\u001b[0m\u001b[1;32m     13\u001b[0m \u001b[0;34m\u001b[0m\u001b[0m\n\u001b[1;32m     14\u001b[0m         \u001b[0;31m#read header info line by line (line will be a string)\u001b[0m\u001b[0;34m\u001b[0m\u001b[0;34m\u001b[0m\u001b[0;34m\u001b[0m\u001b[0m\n",
        "\u001b[0;31mFileNotFoundError\u001b[0m: [Errno 2] No such file or directory: 'MW_000.txt'"
       ]
      }
     ],
     "persistentId": "70aad473-183c-4d4a-9eb4-f677aabfd865",
     "text": "# Load in disk particles centered on the MW\n# this is from the HighRes data files on nimoy so it might take a bit of time to load\nCOM = CenterOfMass(\"MW_000.txt\",2)"
    },
    "executionTime": "2020-04-22T03:47:51.353Z"
   },
   {
    "cell": {
     "executionCount": 5,
     "executionEventId": "0ae54c50-877b-4da0-9edf-c8d49134d5a1",
     "hasError": false,
     "id": "41c7906f-b120-4620-9567-cc5da747cff4",
     "outputs": [],
     "persistentId": "70aad473-183c-4d4a-9eb4-f677aabfd865",
     "text": "# Load in disk particles centered on the MW\n# this is from the HighRes data files on nimoy so it might take a bit of time to load\nCOM = CenterOfMass(\"MW_000.txt\",2)"
    },
    "executionTime": "2020-04-22T03:48:45.365Z"
   },
   {
    "cell": {
     "executionCount": 6,
     "executionEventId": "dffa4826-b418-47f7-bf4b-fb61a3c6dfe4",
     "hasError": false,
     "id": "04f2e74d-13b6-41a9-bf1b-e620fef590f7",
     "outputs": [],
     "persistentId": "39aa3d07-ea93-491e-b104-7bf8fabb0e98",
     "text": "# Compute COM of the MW at the new position using disk particles\nCOMP = COM.COM_P(0.1, 2)\nCOMV = COM.COM_V(COMP[0],COMP[1],COMP[2])\n# Determine positions of disk particles relative to COM \nMW_Disk_x = COM.x - COMP[0].value \nMW_Disk_y = COM.y - COMP[1].value \n\n# Also store the disk velocity in the y direction\nMW_Disk_vy = COM.vy - COMV[1].value"
    },
    "executionTime": "2020-04-22T03:52:25.606Z"
   },
   {
    "cell": {
     "executionCount": 7,
     "executionEventId": "460b5a6e-53af-4515-90b1-3bfde9d5ae42",
     "hasError": true,
     "id": "25e88cdc-c425-4966-86a9-973cee2a95e3",
     "outputs": [
      {
       "ename": "TypeError",
       "evalue": "__init__() got an unexpected keyword argument 'lable'",
       "output_type": "error",
       "traceback": [
        "\u001b[0;31m---------------------------------------------------------------------------\u001b[0m",
        "\u001b[0;31mTypeError\u001b[0m                                 Traceback (most recent call last)",
        "\u001b[0;32m<ipython-input-7-c8f37bf81020>\u001b[0m in \u001b[0;36m<module>\u001b[0;34m\u001b[0m\n\u001b[1;32m     15\u001b[0m \u001b[0;31m# density_contour(x pos, y pos, contour res, contour res, axis, colors=[colors,colors])\u001b[0m\u001b[0;34m\u001b[0m\u001b[0;34m\u001b[0m\u001b[0;34m\u001b[0m\u001b[0m\n\u001b[1;32m     16\u001b[0m \u001b[0mplt\u001b[0m\u001b[0;34m.\u001b[0m\u001b[0mhist2d\u001b[0m\u001b[0;34m(\u001b[0m\u001b[0mMW_Disk_x\u001b[0m\u001b[0;34m,\u001b[0m \u001b[0mMW_Disk_y\u001b[0m\u001b[0;34m,\u001b[0m \u001b[0mbins\u001b[0m \u001b[0;34m=\u001b[0m \u001b[0;36m200\u001b[0m\u001b[0;34m,\u001b[0m \u001b[0mnorm\u001b[0m \u001b[0;34m=\u001b[0m \u001b[0mLogNorm\u001b[0m\u001b[0;34m(\u001b[0m\u001b[0;34m)\u001b[0m\u001b[0;34m,\u001b[0m \u001b[0mcmap\u001b[0m \u001b[0;34m=\u001b[0m \u001b[0;34m'magma'\u001b[0m\u001b[0;34m)\u001b[0m\u001b[0;34m\u001b[0m\u001b[0;34m\u001b[0m\u001b[0m\n\u001b[0;32m---> 17\u001b[0;31m \u001b[0mplt\u001b[0m\u001b[0;34m.\u001b[0m\u001b[0mcolorbar\u001b[0m\u001b[0;34m(\u001b[0m\u001b[0mlable\u001b[0m \u001b[0;34m=\u001b[0m \u001b[0;34m'Number of Disk Particles per bin'\u001b[0m\u001b[0;34m)\u001b[0m\u001b[0;34m\u001b[0m\u001b[0;34m\u001b[0m\u001b[0m\n\u001b[0m\u001b[1;32m     18\u001b[0m \u001b[0;34m\u001b[0m\u001b[0m\n\u001b[1;32m     19\u001b[0m \u001b[0;34m\u001b[0m\u001b[0m\n",
        "\u001b[0;32m/anaconda3/lib/python3.6/site-packages/matplotlib/pyplot.py\u001b[0m in \u001b[0;36mcolorbar\u001b[0;34m(mappable, cax, ax, **kw)\u001b[0m\n\u001b[1;32m   2078\u001b[0m     \u001b[0;32mif\u001b[0m \u001b[0max\u001b[0m \u001b[0;32mis\u001b[0m \u001b[0;32mNone\u001b[0m\u001b[0;34m:\u001b[0m\u001b[0;34m\u001b[0m\u001b[0;34m\u001b[0m\u001b[0m\n\u001b[1;32m   2079\u001b[0m         \u001b[0max\u001b[0m \u001b[0;34m=\u001b[0m \u001b[0mgca\u001b[0m\u001b[0;34m(\u001b[0m\u001b[0;34m)\u001b[0m\u001b[0;34m\u001b[0m\u001b[0;34m\u001b[0m\u001b[0m\n\u001b[0;32m-> 2080\u001b[0;31m     \u001b[0mret\u001b[0m \u001b[0;34m=\u001b[0m \u001b[0mgcf\u001b[0m\u001b[0;34m(\u001b[0m\u001b[0;34m)\u001b[0m\u001b[0;34m.\u001b[0m\u001b[0mcolorbar\u001b[0m\u001b[0;34m(\u001b[0m\u001b[0mmappable\u001b[0m\u001b[0;34m,\u001b[0m \u001b[0mcax\u001b[0m\u001b[0;34m=\u001b[0m\u001b[0mcax\u001b[0m\u001b[0;34m,\u001b[0m \u001b[0max\u001b[0m\u001b[0;34m=\u001b[0m\u001b[0max\u001b[0m\u001b[0;34m,\u001b[0m \u001b[0;34m**\u001b[0m\u001b[0mkw\u001b[0m\u001b[0;34m)\u001b[0m\u001b[0;34m\u001b[0m\u001b[0;34m\u001b[0m\u001b[0m\n\u001b[0m\u001b[1;32m   2081\u001b[0m     \u001b[0;32mreturn\u001b[0m \u001b[0mret\u001b[0m\u001b[0;34m\u001b[0m\u001b[0;34m\u001b[0m\u001b[0m\n\u001b[1;32m   2082\u001b[0m \u001b[0mcolorbar\u001b[0m\u001b[0;34m.\u001b[0m\u001b[0m__doc__\u001b[0m \u001b[0;34m=\u001b[0m \u001b[0mmatplotlib\u001b[0m\u001b[0;34m.\u001b[0m\u001b[0mcolorbar\u001b[0m\u001b[0;34m.\u001b[0m\u001b[0mcolorbar_doc\u001b[0m\u001b[0;34m\u001b[0m\u001b[0;34m\u001b[0m\u001b[0m\n",
        "\u001b[0;32m/anaconda3/lib/python3.6/site-packages/matplotlib/figure.py\u001b[0m in \u001b[0;36mcolorbar\u001b[0;34m(self, mappable, cax, ax, use_gridspec, **kw)\u001b[0m\n\u001b[1;32m   2213\u001b[0m                              'panchor']\n\u001b[1;32m   2214\u001b[0m         \u001b[0mcb_kw\u001b[0m \u001b[0;34m=\u001b[0m \u001b[0;34m{\u001b[0m\u001b[0mk\u001b[0m\u001b[0;34m:\u001b[0m \u001b[0mv\u001b[0m \u001b[0;32mfor\u001b[0m \u001b[0mk\u001b[0m\u001b[0;34m,\u001b[0m \u001b[0mv\u001b[0m \u001b[0;32min\u001b[0m \u001b[0mkw\u001b[0m\u001b[0;34m.\u001b[0m\u001b[0mitems\u001b[0m\u001b[0;34m(\u001b[0m\u001b[0;34m)\u001b[0m \u001b[0;32mif\u001b[0m \u001b[0mk\u001b[0m \u001b[0;32mnot\u001b[0m \u001b[0;32min\u001b[0m \u001b[0mNON_COLORBAR_KEYS\u001b[0m\u001b[0;34m}\u001b[0m\u001b[0;34m\u001b[0m\u001b[0;34m\u001b[0m\u001b[0m\n\u001b[0;32m-> 2215\u001b[0;31m         \u001b[0mcb\u001b[0m \u001b[0;34m=\u001b[0m \u001b[0mcbar\u001b[0m\u001b[0;34m.\u001b[0m\u001b[0mcolorbar_factory\u001b[0m\u001b[0;34m(\u001b[0m\u001b[0mcax\u001b[0m\u001b[0;34m,\u001b[0m \u001b[0mmappable\u001b[0m\u001b[0;34m,\u001b[0m \u001b[0;34m**\u001b[0m\u001b[0mcb_kw\u001b[0m\u001b[0;34m)\u001b[0m\u001b[0;34m\u001b[0m\u001b[0;34m\u001b[0m\u001b[0m\n\u001b[0m\u001b[1;32m   2216\u001b[0m \u001b[0;34m\u001b[0m\u001b[0m\n\u001b[1;32m   2217\u001b[0m         \u001b[0mself\u001b[0m\u001b[0;34m.\u001b[0m\u001b[0msca\u001b[0m\u001b[0;34m(\u001b[0m\u001b[0mcurrent_ax\u001b[0m\u001b[0;34m)\u001b[0m\u001b[0;34m\u001b[0m\u001b[0;34m\u001b[0m\u001b[0m\n",
        "\u001b[0;32m/anaconda3/lib/python3.6/site-packages/matplotlib/colorbar.py\u001b[0m in \u001b[0;36mcolorbar_factory\u001b[0;34m(cax, mappable, **kwargs)\u001b[0m\n\u001b[1;32m   1638\u001b[0m         \u001b[0mcb\u001b[0m \u001b[0;34m=\u001b[0m \u001b[0mColorbarPatch\u001b[0m\u001b[0;34m(\u001b[0m\u001b[0mcax\u001b[0m\u001b[0;34m,\u001b[0m \u001b[0mmappable\u001b[0m\u001b[0;34m,\u001b[0m \u001b[0;34m**\u001b[0m\u001b[0mkwargs\u001b[0m\u001b[0;34m)\u001b[0m\u001b[0;34m\u001b[0m\u001b[0;34m\u001b[0m\u001b[0m\n\u001b[1;32m   1639\u001b[0m     \u001b[0;32melse\u001b[0m\u001b[0;34m:\u001b[0m\u001b[0;34m\u001b[0m\u001b[0;34m\u001b[0m\u001b[0m\n\u001b[0;32m-> 1640\u001b[0;31m         \u001b[0mcb\u001b[0m \u001b[0;34m=\u001b[0m \u001b[0mColorbar\u001b[0m\u001b[0;34m(\u001b[0m\u001b[0mcax\u001b[0m\u001b[0;34m,\u001b[0m \u001b[0mmappable\u001b[0m\u001b[0;34m,\u001b[0m \u001b[0;34m**\u001b[0m\u001b[0mkwargs\u001b[0m\u001b[0;34m)\u001b[0m\u001b[0;34m\u001b[0m\u001b[0;34m\u001b[0m\u001b[0m\n\u001b[0m\u001b[1;32m   1641\u001b[0m \u001b[0;34m\u001b[0m\u001b[0m\n\u001b[1;32m   1642\u001b[0m     \u001b[0mcid\u001b[0m \u001b[0;34m=\u001b[0m \u001b[0mmappable\u001b[0m\u001b[0;34m.\u001b[0m\u001b[0mcallbacksSM\u001b[0m\u001b[0;34m.\u001b[0m\u001b[0mconnect\u001b[0m\u001b[0;34m(\u001b[0m\u001b[0;34m'changed'\u001b[0m\u001b[0;34m,\u001b[0m \u001b[0mcb\u001b[0m\u001b[0;34m.\u001b[0m\u001b[0mon_mappable_changed\u001b[0m\u001b[0;34m)\u001b[0m\u001b[0;34m\u001b[0m\u001b[0;34m\u001b[0m\u001b[0m\n",
        "\u001b[0;32m/anaconda3/lib/python3.6/site-packages/matplotlib/colorbar.py\u001b[0m in \u001b[0;36m__init__\u001b[0;34m(self, ax, mappable, **kw)\u001b[0m\n\u001b[1;32m   1181\u001b[0m                 \u001b[0mkw\u001b[0m\u001b[0;34m[\u001b[0m\u001b[0;34m'alpha'\u001b[0m\u001b[0;34m]\u001b[0m \u001b[0;34m=\u001b[0m \u001b[0mmappable\u001b[0m\u001b[0;34m.\u001b[0m\u001b[0mget_alpha\u001b[0m\u001b[0;34m(\u001b[0m\u001b[0;34m)\u001b[0m\u001b[0;34m\u001b[0m\u001b[0;34m\u001b[0m\u001b[0m\n\u001b[1;32m   1182\u001b[0m \u001b[0;34m\u001b[0m\u001b[0m\n\u001b[0;32m-> 1183\u001b[0;31m             \u001b[0mColorbarBase\u001b[0m\u001b[0;34m.\u001b[0m\u001b[0m__init__\u001b[0m\u001b[0;34m(\u001b[0m\u001b[0mself\u001b[0m\u001b[0;34m,\u001b[0m \u001b[0max\u001b[0m\u001b[0;34m,\u001b[0m \u001b[0;34m**\u001b[0m\u001b[0mkw\u001b[0m\u001b[0;34m)\u001b[0m\u001b[0;34m\u001b[0m\u001b[0;34m\u001b[0m\u001b[0m\n\u001b[0m\u001b[1;32m   1184\u001b[0m \u001b[0;34m\u001b[0m\u001b[0m\n\u001b[1;32m   1185\u001b[0m     \u001b[0;32mdef\u001b[0m \u001b[0mon_mappable_changed\u001b[0m\u001b[0;34m(\u001b[0m\u001b[0mself\u001b[0m\u001b[0;34m,\u001b[0m \u001b[0mmappable\u001b[0m\u001b[0;34m)\u001b[0m\u001b[0;34m:\u001b[0m\u001b[0;34m\u001b[0m\u001b[0;34m\u001b[0m\u001b[0m\n",
        "\u001b[0;31mTypeError\u001b[0m: __init__() got an unexpected keyword argument 'lable'"
       ]
      }
     ],
     "persistentId": "20aa0990-7c81-4d88-a99e-0777dce0cf8c",
     "text": "# Plot the disk of the MW with contours. \n\n\n# MW Disk Density \nfig, ax= plt.subplots(figsize=(10, 10))\n\n## ADD HERE\n# plot the particle density for MW using plt.hist2d \n# can modify bin number (e.g. bin =100 for low res files)\n\n# note: MW_Disk.x and MW_Disk.y won't be exactly at 0,0 because i was lazy and didn't take out the center of mass pos\n\n#### ADD HERE \n# call density_contour to add contours\n# density_contour(x pos, y pos, contour res, contour res, axis, colors=[colors,colors])\nplt.hist2d(MW_Disk_x, MW_Disk_y, bins = 200, norm = LogNorm(), cmap = 'magma')\nplt.colorbar(lable = 'Number of Disk Particles per bin')\n\n\n\n# Add axis labels\nplt.xlabel('x (kpc)', fontsize=22)\nplt.ylabel('y (kpc)', fontsize=22)\n\n#set axis limits\nplt.ylim(-30,30)\nplt.xlim(-30,30)\n\n#adjust tick label font size\nlabel_size = 22\nmatplotlib.rcParams['xtick.labelsize'] = label_size \nmatplotlib.rcParams['ytick.labelsize'] = label_size\n"
    },
    "executionTime": "2020-04-22T03:56:37.821Z"
   },
   {
    "cell": {
     "executionCount": 8,
     "executionEventId": "5e6a5d03-71cc-42ab-9b49-f5eb80e70762",
     "hasError": false,
     "id": "25e88cdc-c425-4966-86a9-973cee2a95e3",
     "outputs": [],
     "persistentId": "20aa0990-7c81-4d88-a99e-0777dce0cf8c",
     "text": "# Plot the disk of the MW with contours. \n\n\n# MW Disk Density \nfig, ax= plt.subplots(figsize=(10, 10))\n\n## ADD HERE\n# plot the particle density for MW using plt.hist2d \n# can modify bin number (e.g. bin =100 for low res files)\n\n# note: MW_Disk.x and MW_Disk.y won't be exactly at 0,0 because i was lazy and didn't take out the center of mass pos\n\n#### ADD HERE \n# call density_contour to add contours\n# density_contour(x pos, y pos, contour res, contour res, axis, colors=[colors,colors])\nplt.hist2d(MW_Disk_x, MW_Disk_y, bins = 200, norm = LogNorm(), cmap = 'magma')\nplt.colorbar(label = 'Number of Disk Particles per bin')\n\n\n\n# Add axis labels\nplt.xlabel('x (kpc)', fontsize=22)\nplt.ylabel('y (kpc)', fontsize=22)\n\n#set axis limits\nplt.ylim(-30,30)\nplt.xlim(-30,30)\n\n#adjust tick label font size\nlabel_size = 22\nmatplotlib.rcParams['xtick.labelsize'] = label_size \nmatplotlib.rcParams['ytick.labelsize'] = label_size\n"
    },
    "executionTime": "2020-04-22T03:57:31.780Z"
   },
   {
    "cell": {
     "executionCount": 9,
     "executionEventId": "3932d33f-2f0e-4073-9070-49a3f5680b3c",
     "hasError": false,
     "id": "25e88cdc-c425-4966-86a9-973cee2a95e3",
     "outputs": [],
     "persistentId": "20aa0990-7c81-4d88-a99e-0777dce0cf8c",
     "text": "# Plot the disk of the MW with contours. \n\n\n# MW Disk Density \nfig, ax= plt.subplots(figsize=(10, 10))\n\n## ADD HERE\n# plot the particle density for MW using plt.hist2d \n# can modify bin number (e.g. bin =100 for low res files)\nplt.hist2d(MW_Disk_x, MW_Disk_y, bins = 200, norm = LogNorm(), cmap = 'magma')\nplt.colorbar(label = 'Number of Disk Particles per bin')\n\n\n# note: MW_Disk.x and MW_Disk.y won't be exactly at 0,0 because i was lazy and didn't take out the center of mass pos\n\n#### ADD HERE \n# call density_contour to add contours\n# density_contour(x pos, y pos, contour res, contour res, axis, colors=[colors,colors])\n\ndensity_contour(MW_Disk_x, MW_Disk_y, 80, 80, ax=ax, colors=['white'])\n\n# Add axis labels\nplt.xlabel('x (kpc)', fontsize=22)\nplt.ylabel('y (kpc)', fontsize=22)\n\n#set axis limits\nplt.ylim(-30,30)\nplt.xlim(-30,30)\n\n#adjust tick label font size\nlabel_size = 22\nmatplotlib.rcParams['xtick.labelsize'] = label_size \nmatplotlib.rcParams['ytick.labelsize'] = label_size\n"
    },
    "executionTime": "2020-04-22T04:00:13.119Z"
   },
   {
    "cell": {
     "executionCount": 10,
     "executionEventId": "9783c68b-1f3e-4092-b44d-c7238c2751f4",
     "hasError": true,
     "id": "5f2e9a29-06aa-4d37-a3b7-0ca5ee373c07",
     "outputs": [
      {
       "ename": "NameError",
       "evalue": "name 'callbackRectangle' is not defined",
       "output_type": "error",
       "traceback": [
        "\u001b[0;31m---------------------------------------------------------------------------\u001b[0m",
        "\u001b[0;31mNameError\u001b[0m                                 Traceback (most recent call last)",
        "\u001b[0;32m<ipython-input-10-4b8cb864a4c7>\u001b[0m in \u001b[0;36m<module>\u001b[0;34m\u001b[0m\n\u001b[1;32m     14\u001b[0m \u001b[0;31m## NEW: Rectangle Selector.\u001b[0m\u001b[0;34m\u001b[0m\u001b[0;34m\u001b[0m\u001b[0;34m\u001b[0m\u001b[0m\n\u001b[1;32m     15\u001b[0m rs = mw.RectangleSelector( ax,                        # the axes to attach to\n\u001b[0;32m---> 16\u001b[0;31m                            \u001b[0mcallbackRectangle\u001b[0m\u001b[0;34m,\u001b[0m         \u001b[0;31m# the callback function\u001b[0m\u001b[0;34m\u001b[0m\u001b[0;34m\u001b[0m\u001b[0m\n\u001b[0m\u001b[1;32m     17\u001b[0m                            \u001b[0mdrawtype\u001b[0m\u001b[0;34m=\u001b[0m\u001b[0;34m'box'\u001b[0m\u001b[0;34m,\u001b[0m            \u001b[0;31m# draw a box when selecting a region\u001b[0m\u001b[0;34m\u001b[0m\u001b[0;34m\u001b[0m\u001b[0m\n\u001b[1;32m     18\u001b[0m                            \u001b[0mbutton\u001b[0m\u001b[0;34m=\u001b[0m\u001b[0;34m[\u001b[0m\u001b[0;36m1\u001b[0m\u001b[0;34m,\u001b[0m \u001b[0;36m3\u001b[0m\u001b[0;34m]\u001b[0m\u001b[0;34m,\u001b[0m             \u001b[0;31m# allow us to use left or right mouse button\u001b[0m\u001b[0;34m\u001b[0m\u001b[0;34m\u001b[0m\u001b[0m\n",
        "\u001b[0;31mNameError\u001b[0m: name 'callbackRectangle' is not defined"
       ]
      }
     ],
     "persistentId": "fa5df1e4-2456-4cc4-b91f-e7a65be16913",
     "text": "# plot the particle density for the MW Disk and then zoom in on a region of the disk \n\nfig, ax = plt.subplots(figsize =(10 ,10))                             \n\n# 2d histogram \nplt.hist2d(MW_Disk_x,MW_Disk_y, bins=200, norm=LogNorm(), cmap='magma')\nplt.colorbar(label='Number  of  Particles  per  bin')\n\n# over plot contours\ndensity_contour(MW_Disk_x, MW_Disk_y, 80, 80, ax=ax, \\\n                colors=['white'])\n   \n    \n## NEW: Rectangle Selector.     \nrs = mw.RectangleSelector( ax,                        # the axes to attach to\n                           callbackRectangle,         # the callback function\n                           drawtype='box',            # draw a box when selecting a region\n                           button=[1, 3],             # allow us to use left or right mouse button\n                                                      #button 1 is left mouse button\n                           minspanx=5, minspany=5,    # don't accept a box of fewer than 5 pixels\n                           spancoords='pixels' )      # units for above\n\n\n#set axis limits\nax.set_ylim(-30,30)\nax.set_xlim(-30,30)\n\n\n# Add axis labels\nplt.xlabel('x (kpc)', fontsize=22)\nplt.ylabel('y (kpc)', fontsize=22)\n\n# ADDED THIS\n# to detect the 'R' key press to reset the image\n#plt.connect(\"key_press_event\", onKeyPressed)\n"
    },
    "executionTime": "2020-04-22T04:05:08.829Z"
   },
   {
    "cell": {
     "executionCount": 11,
     "executionEventId": "e33320f2-89d7-40d6-84ec-b0be03f15af9",
     "hasError": false,
     "id": "bb4ed9ef-73bd-457a-acd1-dc2c55e932f5",
     "outputs": [],
     "persistentId": "d5bf66f0-bb43-433d-8da9-5a846a0a2117",
     "text": "\ndef callbackRectangle( click, release ): # the events are click and release\n    print( f\"button {click.button} pressed\" )\n    print( f\"button {release.button} released\" )\n    extent = [ click.xdata, release.xdata, click.ydata, release.ydata ]\n    print( f\"box extent is {extent}\") \n    \n    # ADD - in order to zoom in reset the axes to the clicked box size\n   \n\n    # Save the file\n        "
    },
    "executionTime": "2020-04-22T04:06:00.387Z"
   },
   {
    "cell": {
     "executionCount": 12,
     "executionEventId": "bf3eacb2-2efc-4a70-932a-5bb6c6a37195",
     "hasError": true,
     "id": "1dbd64c7-733a-44e3-a6a5-291c3cf3f2a5",
     "outputs": [
      {
       "ename": "IndentationError",
       "evalue": "expected an indented block (<ipython-input-12-ae51f217fc6b>, line 4)",
       "output_type": "error",
       "traceback": [
        "\u001b[0;36m  File \u001b[0;32m\"<ipython-input-12-ae51f217fc6b>\"\u001b[0;36m, line \u001b[0;32m4\u001b[0m\n\u001b[0;31m    if event.key in ['R', 'r']:\u001b[0m\n\u001b[0m     ^\u001b[0m\n\u001b[0;31mIndentationError\u001b[0m\u001b[0;31m:\u001b[0m expected an indented block\n"
       ]
      }
     ],
     "persistentId": "dcbc9d70-a02e-4aa2-baa9-121b197df1fe",
     "text": "    # add the ability to reset the image using an \"on key press\" function \ndef onKeyPressed(event):\n    \n    if event.key in ['R', 'r']:\n        # ADD - to zoom back out reset the axes\n\n"
    },
    "executionTime": "2020-04-22T04:06:01.513Z"
   },
   {
    "cell": {
     "executionCount": 13,
     "executionEventId": "a79bbf90-334e-4022-9faf-649e1e343d12",
     "hasError": false,
     "id": "5f2e9a29-06aa-4d37-a3b7-0ca5ee373c07",
     "outputs": [
      {
       "data": {
        "text/plain": "Text(0, 0.5, 'y (kpc)')"
       },
       "execution_count": 13,
       "metadata": {},
       "output_type": "execute_result"
      }
     ],
     "persistentId": "fa5df1e4-2456-4cc4-b91f-e7a65be16913",
     "text": "# plot the particle density for the MW Disk and then zoom in on a region of the disk \n\nfig, ax = plt.subplots(figsize =(10 ,10))                             \n\n# 2d histogram \nplt.hist2d(MW_Disk_x,MW_Disk_y, bins=200, norm=LogNorm(), cmap='magma')\nplt.colorbar(label='Number  of  Particles  per  bin')\n\n# over plot contours\ndensity_contour(MW_Disk_x, MW_Disk_y, 80, 80, ax=ax, \\\n                colors=['white'])\n   \n    \n## NEW: Rectangle Selector.     \nrs = mw.RectangleSelector( ax,                        # the axes to attach to\n                           callbackRectangle,         # the callback function\n                           drawtype='box',            # draw a box when selecting a region\n                           button=[1, 3],             # allow us to use left or right mouse button\n                                                      #button 1 is left mouse button\n                           minspanx=5, minspany=5,    # don't accept a box of fewer than 5 pixels\n                           spancoords='pixels' )      # units for above\n\n\n#set axis limits\nax.set_ylim(-30,30)\nax.set_xlim(-30,30)\n\n\n# Add axis labels\nplt.xlabel('x (kpc)', fontsize=22)\nplt.ylabel('y (kpc)', fontsize=22)\n\n# ADDED THIS\n# to detect the 'R' key press to reset the image\n#plt.connect(\"key_press_event\", onKeyPressed)\n"
    },
    "executionTime": "2020-04-22T04:06:20.225Z"
   },
   {
    "cell": {
     "executionCount": 14,
     "executionEventId": "ba1ad287-99e9-46e9-8a15-c29a846cb28a",
     "hasError": false,
     "id": "bb4ed9ef-73bd-457a-acd1-dc2c55e932f5",
     "outputs": [],
     "persistentId": "d5bf66f0-bb43-433d-8da9-5a846a0a2117",
     "text": "\ndef callbackRectangle( click, release ): # the events are click and release\n    print( f\"button {click.button} pressed\" )\n    print( f\"button {release.button} released\" )\n    extent = [ click.xdata, release.xdata, click.ydata, release.ydata ]\n    print( f\"box extent is {extent}\") \n    \n    # ADD - in order to zoom in reset the axes to the clicked box size\n    ax.set_xlim(click.xdata, release.xdata)\n    ax.set_ylim(click.ydata, release.ydata)\n\n    # Save the file\n    plt.savefig('Density_Zoom.png')"
    },
    "executionTime": "2020-04-22T04:20:24.466Z"
   },
   {
    "cell": {
     "executionCount": 15,
     "executionEventId": "9b74c3f5-3761-4def-9cfb-511e0c2c63ef",
     "hasError": false,
     "id": "5f2e9a29-06aa-4d37-a3b7-0ca5ee373c07",
     "outputs": [
      {
       "data": {
        "text/plain": "Text(0, 0.5, 'y (kpc)')"
       },
       "execution_count": 15,
       "metadata": {},
       "output_type": "execute_result"
      }
     ],
     "persistentId": "fa5df1e4-2456-4cc4-b91f-e7a65be16913",
     "text": "# plot the particle density for the MW Disk and then zoom in on a region of the disk \n\nfig, ax = plt.subplots(figsize =(10 ,10))                             \n\n# 2d histogram \nplt.hist2d(MW_Disk_x,MW_Disk_y, bins=200, norm=LogNorm(), cmap='magma')\nplt.colorbar(label='Number  of  Particles  per  bin')\n\n# over plot contours\ndensity_contour(MW_Disk_x, MW_Disk_y, 80, 80, ax=ax, \\\n                colors=['white'])\n   \n    \n## NEW: Rectangle Selector.     \nrs = mw.RectangleSelector( ax,                        # the axes to attach to\n                           callbackRectangle,         # the callback function\n                           drawtype='box',            # draw a box when selecting a region\n                           button=[1, 3],             # allow us to use left or right mouse button\n                                                      #button 1 is left mouse button\n                           minspanx=5, minspany=5,    # don't accept a box of fewer than 5 pixels\n                           spancoords='pixels' )      # units for above\n\n\n#set axis limits\nax.set_ylim(-30,30)\nax.set_xlim(-30,30)\n\n\n# Add axis labels\nplt.xlabel('x (kpc)', fontsize=22)\nplt.ylabel('y (kpc)', fontsize=22)\n\n# ADDED THIS\n# to detect the 'R' key press to reset the image\n#plt.connect(\"key_press_event\", onKeyPressed)\n"
    },
    "executionTime": "2020-04-22T04:20:33.374Z"
   },
   {
    "cell": {
     "executionCount": 16,
     "executionEventId": "9c0993a4-bdd2-451b-99f6-c8b42b0a56d9",
     "hasError": true,
     "id": "1dbd64c7-733a-44e3-a6a5-291c3cf3f2a5",
     "outputs": [
      {
       "ename": "IndentationError",
       "evalue": "expected an indented block (<ipython-input-16-f1441610b06f>, line 4)",
       "output_type": "error",
       "traceback": [
        "\u001b[0;36m  File \u001b[0;32m\"<ipython-input-16-f1441610b06f>\"\u001b[0;36m, line \u001b[0;32m4\u001b[0m\n\u001b[0;31m    if event.key in ['R', 'r']:\u001b[0m\n\u001b[0m     ^\u001b[0m\n\u001b[0;31mIndentationError\u001b[0m\u001b[0;31m:\u001b[0m expected an indented block\n"
       ]
      }
     ],
     "persistentId": "dcbc9d70-a02e-4aa2-baa9-121b197df1fe",
     "text": "    # add the ability to reset the image using an \"on key press\" function \ndef onKeyPressed(event):\n    \n    if event.key in ['R', 'r']:\n        # ADD - to zoom back out reset the axes\n        ax.set_xlim(-30,30)\n        ax.set_ylim(-30,30)\n"
    },
    "executionTime": "2020-04-22T04:22:07.778Z"
   },
   {
    "cell": {
     "executionCount": 17,
     "executionEventId": "d4976100-db2c-4b70-809f-a56b8b30552d",
     "hasError": true,
     "id": "1dbd64c7-733a-44e3-a6a5-291c3cf3f2a5",
     "outputs": [
      {
       "ename": "IndentationError",
       "evalue": "expected an indented block (<ipython-input-17-15eddb32551a>, line 3)",
       "output_type": "error",
       "traceback": [
        "\u001b[0;36m  File \u001b[0;32m\"<ipython-input-17-15eddb32551a>\"\u001b[0;36m, line \u001b[0;32m3\u001b[0m\n\u001b[0;31m    if event.key in ['R', 'r']:\u001b[0m\n\u001b[0m     ^\u001b[0m\n\u001b[0;31mIndentationError\u001b[0m\u001b[0;31m:\u001b[0m expected an indented block\n"
       ]
      }
     ],
     "persistentId": "dcbc9d70-a02e-4aa2-baa9-121b197df1fe",
     "text": "    # add the ability to reset the image using an \"on key press\" function \ndef onKeyPressed(event): \n    if event.key in ['R', 'r']:\n        # ADD - to zoom back out reset the axes\n        ax.set_xlim(-30,30)\n        ax.set_ylim(-30,30)\n"
    },
    "executionTime": "2020-04-22T04:22:16.468Z"
   },
   {
    "cell": {
     "executionCount": 18,
     "executionEventId": "c5bb0f2a-c7dd-40da-94d1-fb3c87be976c",
     "hasError": true,
     "id": "1dbd64c7-733a-44e3-a6a5-291c3cf3f2a5",
     "outputs": [
      {
       "ename": "IndentationError",
       "evalue": "expected an indented block (<ipython-input-18-15eddb32551a>, line 3)",
       "output_type": "error",
       "traceback": [
        "\u001b[0;36m  File \u001b[0;32m\"<ipython-input-18-15eddb32551a>\"\u001b[0;36m, line \u001b[0;32m3\u001b[0m\n\u001b[0;31m    if event.key in ['R', 'r']:\u001b[0m\n\u001b[0m     ^\u001b[0m\n\u001b[0;31mIndentationError\u001b[0m\u001b[0;31m:\u001b[0m expected an indented block\n"
       ]
      }
     ],
     "persistentId": "dcbc9d70-a02e-4aa2-baa9-121b197df1fe",
     "text": "    # add the ability to reset the image using an \"on key press\" function \ndef onKeyPressed(event): \n    if event.key in ['R', 'r']:\n        # ADD - to zoom back out reset the axes\n        ax.set_xlim(-30,30)\n        ax.set_ylim(-30,30)\n"
    },
    "executionTime": "2020-04-22T04:22:32.520Z"
   },
   {
    "cell": {
     "executionCount": 19,
     "executionEventId": "ee325c0e-36c9-4448-bd98-f8a2af1157a5",
     "hasError": false,
     "id": "1dbd64c7-733a-44e3-a6a5-291c3cf3f2a5",
     "outputs": [],
     "persistentId": "dcbc9d70-a02e-4aa2-baa9-121b197df1fe",
     "text": "# add the ability to reset the image using an \"on key press\" function \ndef onKeyPressed(event): \n    if event.key in ['R', 'r']:\n        ax.set_xlim(-30,30)\n        ax.set_ylim(-30,30)\n"
    },
    "executionTime": "2020-04-22T04:22:45.681Z"
   },
   {
    "cell": {
     "executionCount": 20,
     "executionEventId": "a7949c6f-a1ce-4959-ab2f-521d49bdbbd3",
     "hasError": false,
     "id": "1dbd64c7-733a-44e3-a6a5-291c3cf3f2a5",
     "outputs": [],
     "persistentId": "dcbc9d70-a02e-4aa2-baa9-121b197df1fe",
     "text": "# add the ability to reset the image using an \"on key press\" function \ndef onKeyPressed(event): \n    if event.key in ['R', 'r']:\n        # ADD - to zoom back out reset the axes\n        ax.set_xlim(-30,30)\n        ax.set_ylim(-30,30)\n"
    },
    "executionTime": "2020-04-22T04:22:49.925Z"
   },
   {
    "cell": {
     "executionCount": 21,
     "executionEventId": "af15fb6f-e3cf-475a-8d54-f30e5fe9396e",
     "hasError": false,
     "id": "5f2e9a29-06aa-4d37-a3b7-0ca5ee373c07",
     "outputs": [
      {
       "data": {
        "text/plain": "13"
       },
       "execution_count": 21,
       "metadata": {},
       "output_type": "execute_result"
      }
     ],
     "persistentId": "fa5df1e4-2456-4cc4-b91f-e7a65be16913",
     "text": "# plot the particle density for the MW Disk and then zoom in on a region of the disk \n\nfig, ax = plt.subplots(figsize =(10 ,10))                             \n\n# 2d histogram \nplt.hist2d(MW_Disk_x,MW_Disk_y, bins=200, norm=LogNorm(), cmap='magma')\nplt.colorbar(label='Number  of  Particles  per  bin')\n\n# over plot contours\ndensity_contour(MW_Disk_x, MW_Disk_y, 80, 80, ax=ax, \\\n                colors=['white'])\n   \n    \n## NEW: Rectangle Selector.     \nrs = mw.RectangleSelector( ax,                        # the axes to attach to\n                           callbackRectangle,         # the callback function\n                           drawtype='box',            # draw a box when selecting a region\n                           button=[1, 3],             # allow us to use left or right mouse button\n                                                      #button 1 is left mouse button\n                           minspanx=5, minspany=5,    # don't accept a box of fewer than 5 pixels\n                           spancoords='pixels' )      # units for above\n\n\n#set axis limits\nax.set_ylim(-30,30)\nax.set_xlim(-30,30)\n\n\n# Add axis labels\nplt.xlabel('x (kpc)', fontsize=22)\nplt.ylabel('y (kpc)', fontsize=22)\n\n# ADDED THIS\n# to detect the 'R' key press to reset the image\nplt.connect(\"key_press_event\", onKeyPressed)\n"
    },
    "executionTime": "2020-04-22T04:23:09.231Z"
   },
   {
    "cell": {
     "executionCount": 22,
     "executionEventId": "e92f12e4-b0ec-45f1-8414-272b03b56bdc",
     "hasError": false,
     "id": "ef9604f4-fcc9-48d8-8dec-ea3cf6349505",
     "outputs": [],
     "persistentId": "e9c4f6d9-1ba4-4ff6-81ad-0ca23be6be0e",
     "text": "def callbackRectangle( click, release ): # the events are click and release\n    print( f\"button {click.button} pressed\" )\n    print( f\"button {release.button} released\" )\n    extent = [ click.xdata, release.xdata, click.ydata, release.ydata ]\n    print( f\"box extent is {extent}\") \n    \n    # ADD - in order to zoom in reset the axes to the clicked box size\n    ax.set_xlim(click.xdata, release.xdata)\n    ax.set_ylim(click.ydata, release.ydata)\n\n    # Save the file\n    plt.savefig('Density_Zoom.png')"
    },
    "executionTime": "2020-04-22T04:25:43.334Z"
   },
   {
    "cell": {
     "executionCount": 23,
     "executionEventId": "bb2e1363-c5d6-4d27-aac9-c8bc11cd7e21",
     "hasError": false,
     "id": "becdcc90-fd2a-4aae-ae41-b7b8ca51ba91",
     "outputs": [],
     "persistentId": "67a148e7-97a5-4df2-a6ed-a58b208fcb98",
     "text": "# add the ability to reset the image using an \"on key press\" function \ndef onKeyPressed(event): \n    if event.key in ['R', 'r']:\n        # ADD - to zoom back out reset the axes\n        ax.set_xlim(-30,30)\n        ax.set_ylim(-30,30)\n\n"
    },
    "executionTime": "2020-04-22T04:25:44.529Z"
   },
   {
    "cell": {
     "executionCount": 24,
     "executionEventId": "fbe2c046-9c39-42c8-b478-2c95d545e8b9",
     "hasError": true,
     "id": "e8a3b0ce-def2-406d-b3f1-3fd3463022eb",
     "outputs": [
      {
       "ename": "AttributeError",
       "evalue": "'AxesSubplot' object has no attribute 'xlabel'",
       "output_type": "error",
       "traceback": [
        "\u001b[0;31m---------------------------------------------------------------------------\u001b[0m",
        "\u001b[0;31mAttributeError\u001b[0m                            Traceback (most recent call last)",
        "\u001b[0;32m<ipython-input-24-526a2fc4e75f>\u001b[0m in \u001b[0;36m<module>\u001b[0;34m\u001b[0m\n\u001b[1;32m     26\u001b[0m \u001b[0;34m\u001b[0m\u001b[0m\n\u001b[1;32m     27\u001b[0m \u001b[0;31m# Add axis labels\u001b[0m\u001b[0;34m\u001b[0m\u001b[0;34m\u001b[0m\u001b[0;34m\u001b[0m\u001b[0m\n\u001b[0;32m---> 28\u001b[0;31m \u001b[0max\u001b[0m\u001b[0;34m[\u001b[0m\u001b[0;36m0\u001b[0m\u001b[0;34m]\u001b[0m\u001b[0;34m.\u001b[0m\u001b[0mxlabel\u001b[0m\u001b[0;34m(\u001b[0m\u001b[0;34m'x (kpc)'\u001b[0m\u001b[0;34m,\u001b[0m \u001b[0mfontsize\u001b[0m\u001b[0;34m=\u001b[0m\u001b[0;36m22\u001b[0m\u001b[0;34m)\u001b[0m\u001b[0;34m\u001b[0m\u001b[0;34m\u001b[0m\u001b[0m\n\u001b[0m\u001b[1;32m     29\u001b[0m \u001b[0max\u001b[0m\u001b[0;34m[\u001b[0m\u001b[0;36m0\u001b[0m\u001b[0;34m]\u001b[0m\u001b[0;34m.\u001b[0m\u001b[0mylabel\u001b[0m\u001b[0;34m(\u001b[0m\u001b[0;34m'y (kpc)'\u001b[0m\u001b[0;34m,\u001b[0m \u001b[0mfontsize\u001b[0m\u001b[0;34m=\u001b[0m\u001b[0;36m22\u001b[0m\u001b[0;34m)\u001b[0m\u001b[0;34m\u001b[0m\u001b[0;34m\u001b[0m\u001b[0m\n\u001b[1;32m     30\u001b[0m \u001b[0;34m\u001b[0m\u001b[0m\n",
        "\u001b[0;31mAttributeError\u001b[0m: 'AxesSubplot' object has no attribute 'xlabel'"
       ]
      }
     ],
     "persistentId": "0a67f017-3bb6-49f5-8564-c656a63a140f",
     "text": "# Step 2) \n# Add not just the density but also the phase diagram as a separate panel.\n# Copy over the plotting code (2D histogram) and modify the figure so that there are now two panels.\n\n# Add a phase diagram: X vs VY\n\n# plot the particle density for the MW Disk and then zoom in on a region of the disk \n\nfig, ax = plt.subplots(nrows=1, ncols=2, figsize =(10 ,10))\n# ax[0] --> Density\n# ax[1] --> Phase Diagram\n\n### 2d histogram is on the left panel\nax[0].hist2d(MW_Disk_x,MW_Disk_y, bins=200, norm=LogNorm(), cmap='magma')\n#plt.colorbar(label='Number  of  Particles  per  bin')\n\n# over plot contours\ndensity_contour(MW_Disk_x, MW_Disk_y, 80, 80, ax=ax[0], \\\n                colors=['white'])\n   \n    \n#set axis limits\nax[0].set_ylim(-30,30)\nax[0].set_xlim(-30,30)\n\n\n# Add axis labels\nax[0].xlabel('x (kpc)', fontsize=22)\nax[0].ylabel('y (kpc)', fontsize=22)\n\n### Phase diagram is on the right panel\nax[1].hist2d(MW_Disk_x, MW_Disk_vy, bins=200, norm=LogNorm(),cmap='magma')\n\n#set axis limits\nax[1].set_xlim(-30,30)\n\n\n# Add axis labels\nax[1].xlabel('x (kpc)', fontsize=22)\nax[1].ylabel('y (kpc)', fontsize=22)\n\n\n\n## NEW: Rectangle Selector.     \nrs = mw.RectangleSelector( ax,                        # the axes to attach to\n                           callbackRectangle,         # the callback function\n                           drawtype='box',            # draw a box when selecting a region\n                           button=[1, 3],             # allow us to use left or right mouse button\n                                                      #button 1 is left mouse button\n                           minspanx=5, minspany=5,    # don't accept a box of fewer than 5 pixels\n                           spancoords='pixels' )      # units for above\n\n\n"
    },
    "executionTime": "2020-04-22T04:31:33.656Z"
   },
   {
    "cell": {
     "executionCount": 25,
     "executionEventId": "96a05077-044b-4201-be66-b035d541b70e",
     "hasError": true,
     "id": "e8a3b0ce-def2-406d-b3f1-3fd3463022eb",
     "outputs": [
      {
       "ename": "AttributeError",
       "evalue": "'AxesSubplot' object has no attribute 'xlable'",
       "output_type": "error",
       "traceback": [
        "\u001b[0;31m---------------------------------------------------------------------------\u001b[0m",
        "\u001b[0;31mAttributeError\u001b[0m                            Traceback (most recent call last)",
        "\u001b[0;32m<ipython-input-25-fc603e34307b>\u001b[0m in \u001b[0;36m<module>\u001b[0;34m\u001b[0m\n\u001b[1;32m     26\u001b[0m \u001b[0;34m\u001b[0m\u001b[0m\n\u001b[1;32m     27\u001b[0m \u001b[0;31m# Add axis labels\u001b[0m\u001b[0;34m\u001b[0m\u001b[0;34m\u001b[0m\u001b[0;34m\u001b[0m\u001b[0m\n\u001b[0;32m---> 28\u001b[0;31m \u001b[0max\u001b[0m\u001b[0;34m[\u001b[0m\u001b[0;36m0\u001b[0m\u001b[0;34m]\u001b[0m\u001b[0;34m.\u001b[0m\u001b[0mxlable\u001b[0m\u001b[0;34m(\u001b[0m\u001b[0;34m'x (kpc)'\u001b[0m\u001b[0;34m,\u001b[0m \u001b[0mfontsize\u001b[0m\u001b[0;34m=\u001b[0m\u001b[0;36m22\u001b[0m\u001b[0;34m)\u001b[0m\u001b[0;34m\u001b[0m\u001b[0;34m\u001b[0m\u001b[0m\n\u001b[0m\u001b[1;32m     29\u001b[0m \u001b[0max\u001b[0m\u001b[0;34m[\u001b[0m\u001b[0;36m0\u001b[0m\u001b[0;34m]\u001b[0m\u001b[0;34m.\u001b[0m\u001b[0mylable\u001b[0m\u001b[0;34m(\u001b[0m\u001b[0;34m'y (kpc)'\u001b[0m\u001b[0;34m,\u001b[0m \u001b[0mfontsize\u001b[0m\u001b[0;34m=\u001b[0m\u001b[0;36m22\u001b[0m\u001b[0;34m)\u001b[0m\u001b[0;34m\u001b[0m\u001b[0;34m\u001b[0m\u001b[0m\n\u001b[1;32m     30\u001b[0m \u001b[0;34m\u001b[0m\u001b[0m\n",
        "\u001b[0;31mAttributeError\u001b[0m: 'AxesSubplot' object has no attribute 'xlable'"
       ]
      }
     ],
     "persistentId": "0a67f017-3bb6-49f5-8564-c656a63a140f",
     "text": "# Step 2) \n# Add not just the density but also the phase diagram as a separate panel.\n# Copy over the plotting code (2D histogram) and modify the figure so that there are now two panels.\n\n# Add a phase diagram: X vs VY\n\n# plot the particle density for the MW Disk and then zoom in on a region of the disk \n\nfig, ax = plt.subplots(nrows=1, ncols=2, figsize =(10 ,10))\n# ax[0] --> Density\n# ax[1] --> Phase Diagram\n\n### 2d histogram is on the left panel\nax[0].hist2d(MW_Disk_x,MW_Disk_y, bins=200, norm=LogNorm(), cmap='magma')\n#plt.colorbar(label='Number  of  Particles  per  bin')\n\n# over plot contours\ndensity_contour(MW_Disk_x, MW_Disk_y, 80, 80, ax=ax[0], \\\n                colors=['white'])\n   \n    \n#set axis limits\nax[0].set_ylim(-30,30)\nax[0].set_xlim(-30,30)\n\n\n# Add axis labels\nax[0].xlable('x (kpc)', fontsize=22)\nax[0].ylable('y (kpc)', fontsize=22)\n\n### Phase diagram is on the right panel\nax[1].hist2d(MW_Disk_x, MW_Disk_vy, bins=200, norm=LogNorm(),cmap='magma')\n\n#set axis limits\nax[1].set_xlim(-30,30)\n\n\n# Add axis labels\nax[1].xlable('x (kpc)', fontsize=22)\nax[1].ylable('y (kpc)', fontsize=22)\n\n\n\n## NEW: Rectangle Selector.     \nrs = mw.RectangleSelector( ax,                        # the axes to attach to\n                           callbackRectangle,         # the callback function\n                           drawtype='box',            # draw a box when selecting a region\n                           button=[1, 3],             # allow us to use left or right mouse button\n                                                      #button 1 is left mouse button\n                           minspanx=5, minspany=5,    # don't accept a box of fewer than 5 pixels\n                           spancoords='pixels' )      # units for above\n\n\n"
    },
    "executionTime": "2020-04-22T04:31:53.302Z"
   },
   {
    "cell": {
     "executionCount": 26,
     "executionEventId": "71bcd87e-a773-4936-9856-49aad9493eb4",
     "hasError": true,
     "id": "e8a3b0ce-def2-406d-b3f1-3fd3463022eb",
     "outputs": [
      {
       "ename": "AttributeError",
       "evalue": "'AxesSubplot' object has no attribute 'xlabel'",
       "output_type": "error",
       "traceback": [
        "\u001b[0;31m---------------------------------------------------------------------------\u001b[0m",
        "\u001b[0;31mAttributeError\u001b[0m                            Traceback (most recent call last)",
        "\u001b[0;32m<ipython-input-26-466f40b9fb85>\u001b[0m in \u001b[0;36m<module>\u001b[0;34m\u001b[0m\n\u001b[1;32m     26\u001b[0m \u001b[0;34m\u001b[0m\u001b[0m\n\u001b[1;32m     27\u001b[0m \u001b[0;31m# Add axis labels\u001b[0m\u001b[0;34m\u001b[0m\u001b[0;34m\u001b[0m\u001b[0;34m\u001b[0m\u001b[0m\n\u001b[0;32m---> 28\u001b[0;31m \u001b[0max\u001b[0m\u001b[0;34m[\u001b[0m\u001b[0;36m0\u001b[0m\u001b[0;34m]\u001b[0m\u001b[0;34m.\u001b[0m\u001b[0mxlabel\u001b[0m\u001b[0;34m(\u001b[0m\u001b[0;34m'x (kpc)'\u001b[0m\u001b[0;34m,\u001b[0m \u001b[0mfontsize\u001b[0m\u001b[0;34m=\u001b[0m\u001b[0;36m22\u001b[0m\u001b[0;34m)\u001b[0m\u001b[0;34m\u001b[0m\u001b[0;34m\u001b[0m\u001b[0m\n\u001b[0m\u001b[1;32m     29\u001b[0m \u001b[0max\u001b[0m\u001b[0;34m[\u001b[0m\u001b[0;36m0\u001b[0m\u001b[0;34m]\u001b[0m\u001b[0;34m.\u001b[0m\u001b[0mxlabel\u001b[0m\u001b[0;34m(\u001b[0m\u001b[0;34m'y (kpc)'\u001b[0m\u001b[0;34m,\u001b[0m \u001b[0mfontsize\u001b[0m\u001b[0;34m=\u001b[0m\u001b[0;36m22\u001b[0m\u001b[0;34m)\u001b[0m\u001b[0;34m\u001b[0m\u001b[0;34m\u001b[0m\u001b[0m\n\u001b[1;32m     30\u001b[0m \u001b[0;34m\u001b[0m\u001b[0m\n",
        "\u001b[0;31mAttributeError\u001b[0m: 'AxesSubplot' object has no attribute 'xlabel'"
       ]
      }
     ],
     "persistentId": "0a67f017-3bb6-49f5-8564-c656a63a140f",
     "text": "# Step 2) \n# Add not just the density but also the phase diagram as a separate panel.\n# Copy over the plotting code (2D histogram) and modify the figure so that there are now two panels.\n\n# Add a phase diagram: X vs VY\n\n# plot the particle density for the MW Disk and then zoom in on a region of the disk \n\nfig, ax = plt.subplots(nrows=1, ncols=2, figsize =(10 ,10))\n# ax[0] --> Density\n# ax[1] --> Phase Diagram\n\n### 2d histogram is on the left panel\nax[0].hist2d(MW_Disk_x,MW_Disk_y, bins=200, norm=LogNorm(), cmap='magma')\n#plt.colorbar(label='Number  of  Particles  per  bin')\n\n# over plot contours\ndensity_contour(MW_Disk_x, MW_Disk_y, 80, 80, ax=ax[0], \\\n                colors=['white'])\n   \n    \n#set axis limits\nax[0].set_ylim(-30,30)\nax[0].set_xlim(-30,30)\n\n\n# Add axis labels\nax[0].xlabel('x (kpc)', fontsize=22)\nax[0].xlabel('y (kpc)', fontsize=22)\n\n### Phase diagram is on the right panel\nax[1].hist2d(MW_Disk_x, MW_Disk_vy, bins=200, norm=LogNorm(),cmap='magma')\n\n#set axis limits\nax[1].set_xlim(-30,30)\n\n\n# Add axis labels\nax[1].xlabel('x (kpc)', fontsize=22)\nax[1].xlabel('y (kpc)', fontsize=22)\n\n\n\n## NEW: Rectangle Selector.     \nrs = mw.RectangleSelector( ax,                        # the axes to attach to\n                           callbackRectangle,         # the callback function\n                           drawtype='box',            # draw a box when selecting a region\n                           button=[1, 3],             # allow us to use left or right mouse button\n                                                      #button 1 is left mouse button\n                           minspanx=5, minspany=5,    # don't accept a box of fewer than 5 pixels\n                           spancoords='pixels' )      # units for above\n\n\n"
    },
    "executionTime": "2020-04-22T04:32:40.370Z"
   },
   {
    "cell": {
     "executionCount": 27,
     "executionEventId": "b35f60d7-e6da-4fc9-bde2-397e1100a3ee",
     "hasError": true,
     "id": "e8a3b0ce-def2-406d-b3f1-3fd3463022eb",
     "outputs": [
      {
       "ename": "AttributeError",
       "evalue": "'numpy.ndarray' object has no attribute 'figure'",
       "output_type": "error",
       "traceback": [
        "\u001b[0;31m---------------------------------------------------------------------------\u001b[0m",
        "\u001b[0;31mAttributeError\u001b[0m                            Traceback (most recent call last)",
        "\u001b[0;32m<ipython-input-27-6a49b518121d>\u001b[0m in \u001b[0;36m<module>\u001b[0;34m\u001b[0m\n\u001b[1;32m     49\u001b[0m                                                       \u001b[0;31m#button 1 is left mouse button\u001b[0m\u001b[0;34m\u001b[0m\u001b[0;34m\u001b[0m\u001b[0;34m\u001b[0m\u001b[0m\n\u001b[1;32m     50\u001b[0m                            \u001b[0mminspanx\u001b[0m\u001b[0;34m=\u001b[0m\u001b[0;36m5\u001b[0m\u001b[0;34m,\u001b[0m \u001b[0mminspany\u001b[0m\u001b[0;34m=\u001b[0m\u001b[0;36m5\u001b[0m\u001b[0;34m,\u001b[0m    \u001b[0;31m# don't accept a box of fewer than 5 pixels\u001b[0m\u001b[0;34m\u001b[0m\u001b[0;34m\u001b[0m\u001b[0m\n\u001b[0;32m---> 51\u001b[0;31m                            spancoords='pixels' )      # units for above\n\u001b[0m\u001b[1;32m     52\u001b[0m \u001b[0;34m\u001b[0m\u001b[0m\n\u001b[1;32m     53\u001b[0m \u001b[0;34m\u001b[0m\u001b[0m\n",
        "\u001b[0;32m/anaconda3/lib/python3.6/site-packages/matplotlib/widgets.py\u001b[0m in \u001b[0;36m__init__\u001b[0;34m(self, ax, onselect, drawtype, minspanx, minspany, useblit, lineprops, rectprops, spancoords, button, maxdist, marker_props, interactive, state_modifier_keys)\u001b[0m\n\u001b[1;32m   2077\u001b[0m         _SelectorWidget.__init__(self, ax, onselect, useblit=useblit,\n\u001b[1;32m   2078\u001b[0m                                  \u001b[0mbutton\u001b[0m\u001b[0;34m=\u001b[0m\u001b[0mbutton\u001b[0m\u001b[0;34m,\u001b[0m\u001b[0;34m\u001b[0m\u001b[0;34m\u001b[0m\u001b[0m\n\u001b[0;32m-> 2079\u001b[0;31m                                  state_modifier_keys=state_modifier_keys)\n\u001b[0m\u001b[1;32m   2080\u001b[0m \u001b[0;34m\u001b[0m\u001b[0m\n\u001b[1;32m   2081\u001b[0m         \u001b[0mself\u001b[0m\u001b[0;34m.\u001b[0m\u001b[0mto_draw\u001b[0m \u001b[0;34m=\u001b[0m \u001b[0;32mNone\u001b[0m\u001b[0;34m\u001b[0m\u001b[0;34m\u001b[0m\u001b[0m\n",
        "\u001b[0;32m/anaconda3/lib/python3.6/site-packages/matplotlib/widgets.py\u001b[0m in \u001b[0;36m__init__\u001b[0;34m(self, ax, onselect, useblit, button, state_modifier_keys)\u001b[0m\n\u001b[1;32m   1463\u001b[0m     def __init__(self, ax, onselect, useblit=False, button=None,\n\u001b[1;32m   1464\u001b[0m                  state_modifier_keys=None):\n\u001b[0;32m-> 1465\u001b[0;31m         \u001b[0mAxesWidget\u001b[0m\u001b[0;34m.\u001b[0m\u001b[0m__init__\u001b[0m\u001b[0;34m(\u001b[0m\u001b[0mself\u001b[0m\u001b[0;34m,\u001b[0m \u001b[0max\u001b[0m\u001b[0;34m)\u001b[0m\u001b[0;34m\u001b[0m\u001b[0;34m\u001b[0m\u001b[0m\n\u001b[0m\u001b[1;32m   1466\u001b[0m \u001b[0;34m\u001b[0m\u001b[0m\n\u001b[1;32m   1467\u001b[0m         \u001b[0mself\u001b[0m\u001b[0;34m.\u001b[0m\u001b[0mvisible\u001b[0m \u001b[0;34m=\u001b[0m \u001b[0;32mTrue\u001b[0m\u001b[0;34m\u001b[0m\u001b[0;34m\u001b[0m\u001b[0m\n",
        "\u001b[0;32m/anaconda3/lib/python3.6/site-packages/matplotlib/widgets.py\u001b[0m in \u001b[0;36m__init__\u001b[0;34m(self, ax)\u001b[0m\n\u001b[1;32m    114\u001b[0m     \u001b[0;32mdef\u001b[0m \u001b[0m__init__\u001b[0m\u001b[0;34m(\u001b[0m\u001b[0mself\u001b[0m\u001b[0;34m,\u001b[0m \u001b[0max\u001b[0m\u001b[0;34m)\u001b[0m\u001b[0;34m:\u001b[0m\u001b[0;34m\u001b[0m\u001b[0;34m\u001b[0m\u001b[0m\n\u001b[1;32m    115\u001b[0m         \u001b[0mself\u001b[0m\u001b[0;34m.\u001b[0m\u001b[0max\u001b[0m \u001b[0;34m=\u001b[0m \u001b[0max\u001b[0m\u001b[0;34m\u001b[0m\u001b[0;34m\u001b[0m\u001b[0m\n\u001b[0;32m--> 116\u001b[0;31m         \u001b[0mself\u001b[0m\u001b[0;34m.\u001b[0m\u001b[0mcanvas\u001b[0m \u001b[0;34m=\u001b[0m \u001b[0max\u001b[0m\u001b[0;34m.\u001b[0m\u001b[0mfigure\u001b[0m\u001b[0;34m.\u001b[0m\u001b[0mcanvas\u001b[0m\u001b[0;34m\u001b[0m\u001b[0;34m\u001b[0m\u001b[0m\n\u001b[0m\u001b[1;32m    117\u001b[0m         \u001b[0mself\u001b[0m\u001b[0;34m.\u001b[0m\u001b[0mcids\u001b[0m \u001b[0;34m=\u001b[0m \u001b[0;34m[\u001b[0m\u001b[0;34m]\u001b[0m\u001b[0;34m\u001b[0m\u001b[0;34m\u001b[0m\u001b[0m\n\u001b[1;32m    118\u001b[0m \u001b[0;34m\u001b[0m\u001b[0m\n",
        "\u001b[0;31mAttributeError\u001b[0m: 'numpy.ndarray' object has no attribute 'figure'"
       ]
      }
     ],
     "persistentId": "0a67f017-3bb6-49f5-8564-c656a63a140f",
     "text": "# Step 2) \n# Add not just the density but also the phase diagram as a separate panel.\n# Copy over the plotting code (2D histogram) and modify the figure so that there are now two panels.\n\n# Add a phase diagram: X vs VY\n\n# plot the particle density for the MW Disk and then zoom in on a region of the disk \n\nfig, ax = plt.subplots(nrows=1, ncols=2, figsize =(10 ,10))\n# ax[0] --> Density\n# ax[1] --> Phase Diagram\n\n### 2d histogram is on the left panel\nax[0].hist2d(MW_Disk_x,MW_Disk_y, bins=200, norm=LogNorm(), cmap='magma')\n#plt.colorbar(label='Number  of  Particles  per  bin')\n\n# over plot contours\ndensity_contour(MW_Disk_x, MW_Disk_y, 80, 80, ax=ax[0], \\\n                colors=['white'])\n   \n    \n#set axis limits\nax[0].set_ylim(-30,30)\nax[0].set_xlim(-30,30)\n\n\n# Add axis labels\nax[0].set_xlabel('x (kpc)', fontsize=22)\nax[0].set_xlabel('y (kpc)', fontsize=22)\n\n### Phase diagram is on the right panel\nax[1].hist2d(MW_Disk_x, MW_Disk_vy, bins=200, norm=LogNorm(),cmap='magma')\n\n#set axis limits\nax[1].set_xlim(-30,30)\n\n\n# Add axis labels\nax[1].set_xlabel('x (kpc)', fontsize=22)\nax[1].set_xlabel('y (kpc)', fontsize=22)\n\n\n\n## NEW: Rectangle Selector.     \nrs = mw.RectangleSelector( ax,                        # the axes to attach to\n                           callbackRectangle,         # the callback function\n                           drawtype='box',            # draw a box when selecting a region\n                           button=[1, 3],             # allow us to use left or right mouse button\n                                                      #button 1 is left mouse button\n                           minspanx=5, minspany=5,    # don't accept a box of fewer than 5 pixels\n                           spancoords='pixels' )      # units for above\n\n\n"
    },
    "executionTime": "2020-04-22T04:33:48.892Z"
   },
   {
    "cell": {
     "executionCount": 28,
     "executionEventId": "a538df10-e3cb-4027-93d0-639c54915e1a",
     "hasError": false,
     "id": "becdcc90-fd2a-4aae-ae41-b7b8ca51ba91",
     "outputs": [],
     "persistentId": "67a148e7-97a5-4df2-a6ed-a58b208fcb98",
     "text": "# add the ability to reset the image using an \"on key press\" function \ndef onKeyPressed(event): \n    if event.key in ['R', 'r']:\n        # ADD - to zoom back out reset the axes\n        ax[0].set_xlim(-30,30)\n        ax[0].set_ylim(-30,30)\n\n"
    },
    "executionTime": "2020-04-22T04:34:25.880Z"
   },
   {
    "cell": {
     "executionCount": 29,
     "executionEventId": "52f0f555-9b33-4454-9626-ef85d1365109",
     "hasError": true,
     "id": "e8a3b0ce-def2-406d-b3f1-3fd3463022eb",
     "outputs": [
      {
       "ename": "AttributeError",
       "evalue": "'numpy.ndarray' object has no attribute 'figure'",
       "output_type": "error",
       "traceback": [
        "\u001b[0;31m---------------------------------------------------------------------------\u001b[0m",
        "\u001b[0;31mAttributeError\u001b[0m                            Traceback (most recent call last)",
        "\u001b[0;32m<ipython-input-29-b214ab7cd472>\u001b[0m in \u001b[0;36m<module>\u001b[0;34m\u001b[0m\n\u001b[1;32m     49\u001b[0m                                                       \u001b[0;31m#button 1 is left mouse button\u001b[0m\u001b[0;34m\u001b[0m\u001b[0;34m\u001b[0m\u001b[0;34m\u001b[0m\u001b[0m\n\u001b[1;32m     50\u001b[0m                            \u001b[0mminspanx\u001b[0m\u001b[0;34m=\u001b[0m\u001b[0;36m5\u001b[0m\u001b[0;34m,\u001b[0m \u001b[0mminspany\u001b[0m\u001b[0;34m=\u001b[0m\u001b[0;36m5\u001b[0m\u001b[0;34m,\u001b[0m    \u001b[0;31m# don't accept a box of fewer than 5 pixels\u001b[0m\u001b[0;34m\u001b[0m\u001b[0;34m\u001b[0m\u001b[0m\n\u001b[0;32m---> 51\u001b[0;31m                            spancoords='pixels' )      # units for above\n\u001b[0m\u001b[1;32m     52\u001b[0m \u001b[0;34m\u001b[0m\u001b[0m\n\u001b[1;32m     53\u001b[0m \u001b[0;34m\u001b[0m\u001b[0m\n",
        "\u001b[0;32m/anaconda3/lib/python3.6/site-packages/matplotlib/widgets.py\u001b[0m in \u001b[0;36m__init__\u001b[0;34m(self, ax, onselect, drawtype, minspanx, minspany, useblit, lineprops, rectprops, spancoords, button, maxdist, marker_props, interactive, state_modifier_keys)\u001b[0m\n\u001b[1;32m   2077\u001b[0m         _SelectorWidget.__init__(self, ax, onselect, useblit=useblit,\n\u001b[1;32m   2078\u001b[0m                                  \u001b[0mbutton\u001b[0m\u001b[0;34m=\u001b[0m\u001b[0mbutton\u001b[0m\u001b[0;34m,\u001b[0m\u001b[0;34m\u001b[0m\u001b[0;34m\u001b[0m\u001b[0m\n\u001b[0;32m-> 2079\u001b[0;31m                                  state_modifier_keys=state_modifier_keys)\n\u001b[0m\u001b[1;32m   2080\u001b[0m \u001b[0;34m\u001b[0m\u001b[0m\n\u001b[1;32m   2081\u001b[0m         \u001b[0mself\u001b[0m\u001b[0;34m.\u001b[0m\u001b[0mto_draw\u001b[0m \u001b[0;34m=\u001b[0m \u001b[0;32mNone\u001b[0m\u001b[0;34m\u001b[0m\u001b[0;34m\u001b[0m\u001b[0m\n",
        "\u001b[0;32m/anaconda3/lib/python3.6/site-packages/matplotlib/widgets.py\u001b[0m in \u001b[0;36m__init__\u001b[0;34m(self, ax, onselect, useblit, button, state_modifier_keys)\u001b[0m\n\u001b[1;32m   1463\u001b[0m     def __init__(self, ax, onselect, useblit=False, button=None,\n\u001b[1;32m   1464\u001b[0m                  state_modifier_keys=None):\n\u001b[0;32m-> 1465\u001b[0;31m         \u001b[0mAxesWidget\u001b[0m\u001b[0;34m.\u001b[0m\u001b[0m__init__\u001b[0m\u001b[0;34m(\u001b[0m\u001b[0mself\u001b[0m\u001b[0;34m,\u001b[0m \u001b[0max\u001b[0m\u001b[0;34m)\u001b[0m\u001b[0;34m\u001b[0m\u001b[0;34m\u001b[0m\u001b[0m\n\u001b[0m\u001b[1;32m   1466\u001b[0m \u001b[0;34m\u001b[0m\u001b[0m\n\u001b[1;32m   1467\u001b[0m         \u001b[0mself\u001b[0m\u001b[0;34m.\u001b[0m\u001b[0mvisible\u001b[0m \u001b[0;34m=\u001b[0m \u001b[0;32mTrue\u001b[0m\u001b[0;34m\u001b[0m\u001b[0;34m\u001b[0m\u001b[0m\n",
        "\u001b[0;32m/anaconda3/lib/python3.6/site-packages/matplotlib/widgets.py\u001b[0m in \u001b[0;36m__init__\u001b[0;34m(self, ax)\u001b[0m\n\u001b[1;32m    114\u001b[0m     \u001b[0;32mdef\u001b[0m \u001b[0m__init__\u001b[0m\u001b[0;34m(\u001b[0m\u001b[0mself\u001b[0m\u001b[0;34m,\u001b[0m \u001b[0max\u001b[0m\u001b[0;34m)\u001b[0m\u001b[0;34m:\u001b[0m\u001b[0;34m\u001b[0m\u001b[0;34m\u001b[0m\u001b[0m\n\u001b[1;32m    115\u001b[0m         \u001b[0mself\u001b[0m\u001b[0;34m.\u001b[0m\u001b[0max\u001b[0m \u001b[0;34m=\u001b[0m \u001b[0max\u001b[0m\u001b[0;34m\u001b[0m\u001b[0;34m\u001b[0m\u001b[0m\n\u001b[0;32m--> 116\u001b[0;31m         \u001b[0mself\u001b[0m\u001b[0;34m.\u001b[0m\u001b[0mcanvas\u001b[0m \u001b[0;34m=\u001b[0m \u001b[0max\u001b[0m\u001b[0;34m.\u001b[0m\u001b[0mfigure\u001b[0m\u001b[0;34m.\u001b[0m\u001b[0mcanvas\u001b[0m\u001b[0;34m\u001b[0m\u001b[0;34m\u001b[0m\u001b[0m\n\u001b[0m\u001b[1;32m    117\u001b[0m         \u001b[0mself\u001b[0m\u001b[0;34m.\u001b[0m\u001b[0mcids\u001b[0m \u001b[0;34m=\u001b[0m \u001b[0;34m[\u001b[0m\u001b[0;34m]\u001b[0m\u001b[0;34m\u001b[0m\u001b[0;34m\u001b[0m\u001b[0m\n\u001b[1;32m    118\u001b[0m \u001b[0;34m\u001b[0m\u001b[0m\n",
        "\u001b[0;31mAttributeError\u001b[0m: 'numpy.ndarray' object has no attribute 'figure'"
       ]
      }
     ],
     "persistentId": "0a67f017-3bb6-49f5-8564-c656a63a140f",
     "text": "# Step 2) \n# Add not just the density but also the phase diagram as a separate panel.\n# Copy over the plotting code (2D histogram) and modify the figure so that there are now two panels.\n\n# Add a phase diagram: X vs VY\n\n# plot the particle density for the MW Disk and then zoom in on a region of the disk \n\nfig, ax = plt.subplots(nrows=1, ncols=2, figsize =(10 ,10))\n# ax[0] --> Density\n# ax[1] --> Phase Diagram\n\n### 2d histogram is on the left panel\nax[0].hist2d(MW_Disk_x,MW_Disk_y, bins=200, norm=LogNorm(), cmap='magma')\n#plt.colorbar(label='Number  of  Particles  per  bin')\n\n# over plot contours\ndensity_contour(MW_Disk_x, MW_Disk_y, 80, 80, ax=ax[0], \\\n                colors=['white'])\n   \n    \n#set axis limits\nax[0].set_ylim(-30,30)\nax[0].set_xlim(-30,30)\n\n\n# Add axis labels\nax[0].set_xlabel('x (kpc)', fontsize=22)\nax[0].set_xlabel('y (kpc)', fontsize=22)\n\n### Phase diagram is on the right panel\nax[1].hist2d(MW_Disk_x, MW_Disk_vy, bins=200, norm=LogNorm(),cmap='magma')\n\n#set axis limits\nax[1].set_xlim(-30,30)\n\n\n# Add axis labels\nax[1].set_xlabel('x (kpc)', fontsize=22)\nax[1].set_xlabel('y (kpc)', fontsize=22)\n\n\n\n## NEW: Rectangle Selector.     \nrs = mw.RectangleSelector( ax,                        # the axes to attach to\n                           callbackRectangle,         # the callback function\n                           drawtype='box',            # draw a box when selecting a region\n                           button=[1, 3],             # allow us to use left or right mouse button\n                                                      #button 1 is left mouse button\n                           minspanx=5, minspany=5,    # don't accept a box of fewer than 5 pixels\n                           spancoords='pixels' )      # units for above\n\n\nplt.connect(\"key_press_event\", onKeyPressed)\n\n\n"
    },
    "executionTime": "2020-04-22T04:34:33.244Z"
   },
   {
    "cell": {
     "executionCount": 30,
     "executionEventId": "12439362-ff16-477a-8c4d-8137a75fee8d",
     "hasError": false,
     "id": "ef9604f4-fcc9-48d8-8dec-ea3cf6349505",
     "outputs": [],
     "persistentId": "e9c4f6d9-1ba4-4ff6-81ad-0ca23be6be0e",
     "text": "def callbackRectangle( click, release ): # the events are click and release\n    print( f\"button {click.button} pressed\" )\n    print( f\"button {release.button} released\" )\n    extent = [ click.xdata, release.xdata, click.ydata, release.ydata ]\n    print( f\"box extent is {extent}\") \n    \n    # ADD - in order to zoom in reset the axes to the clicked box size\n    ax.set_xlim(click.xdata, release.xdata)\n    ax.set_ylim(click.ydata, release.ydata)\n\n    # Save the file\n    plt.savefig('Density_Zoom.png')"
    },
    "executionTime": "2020-04-22T04:34:44.584Z"
   },
   {
    "cell": {
     "executionCount": 31,
     "executionEventId": "a30a639f-1496-416e-8ed2-5a29cd224c61",
     "hasError": false,
     "id": "becdcc90-fd2a-4aae-ae41-b7b8ca51ba91",
     "outputs": [],
     "persistentId": "67a148e7-97a5-4df2-a6ed-a58b208fcb98",
     "text": "# add the ability to reset the image using an \"on key press\" function \ndef onKeyPressed(event): \n    if event.key in ['R', 'r']:\n        # ADD - to zoom back out reset the axes\n        ax[0].set_xlim(-30,30)\n        ax[0].set_ylim(-30,30)\n\n"
    },
    "executionTime": "2020-04-22T04:34:45.295Z"
   },
   {
    "cell": {
     "executionCount": 32,
     "executionEventId": "ece98b5e-45f6-4665-a2e6-ffa68f72491c",
     "hasError": true,
     "id": "e8a3b0ce-def2-406d-b3f1-3fd3463022eb",
     "outputs": [
      {
       "ename": "AttributeError",
       "evalue": "'numpy.ndarray' object has no attribute 'figure'",
       "output_type": "error",
       "traceback": [
        "\u001b[0;31m---------------------------------------------------------------------------\u001b[0m",
        "\u001b[0;31mAttributeError\u001b[0m                            Traceback (most recent call last)",
        "\u001b[0;32m<ipython-input-32-b214ab7cd472>\u001b[0m in \u001b[0;36m<module>\u001b[0;34m\u001b[0m\n\u001b[1;32m     49\u001b[0m                                                       \u001b[0;31m#button 1 is left mouse button\u001b[0m\u001b[0;34m\u001b[0m\u001b[0;34m\u001b[0m\u001b[0;34m\u001b[0m\u001b[0m\n\u001b[1;32m     50\u001b[0m                            \u001b[0mminspanx\u001b[0m\u001b[0;34m=\u001b[0m\u001b[0;36m5\u001b[0m\u001b[0;34m,\u001b[0m \u001b[0mminspany\u001b[0m\u001b[0;34m=\u001b[0m\u001b[0;36m5\u001b[0m\u001b[0;34m,\u001b[0m    \u001b[0;31m# don't accept a box of fewer than 5 pixels\u001b[0m\u001b[0;34m\u001b[0m\u001b[0;34m\u001b[0m\u001b[0m\n\u001b[0;32m---> 51\u001b[0;31m                            spancoords='pixels' )      # units for above\n\u001b[0m\u001b[1;32m     52\u001b[0m \u001b[0;34m\u001b[0m\u001b[0m\n\u001b[1;32m     53\u001b[0m \u001b[0;34m\u001b[0m\u001b[0m\n",
        "\u001b[0;32m/anaconda3/lib/python3.6/site-packages/matplotlib/widgets.py\u001b[0m in \u001b[0;36m__init__\u001b[0;34m(self, ax, onselect, drawtype, minspanx, minspany, useblit, lineprops, rectprops, spancoords, button, maxdist, marker_props, interactive, state_modifier_keys)\u001b[0m\n\u001b[1;32m   2077\u001b[0m         _SelectorWidget.__init__(self, ax, onselect, useblit=useblit,\n\u001b[1;32m   2078\u001b[0m                                  \u001b[0mbutton\u001b[0m\u001b[0;34m=\u001b[0m\u001b[0mbutton\u001b[0m\u001b[0;34m,\u001b[0m\u001b[0;34m\u001b[0m\u001b[0;34m\u001b[0m\u001b[0m\n\u001b[0;32m-> 2079\u001b[0;31m                                  state_modifier_keys=state_modifier_keys)\n\u001b[0m\u001b[1;32m   2080\u001b[0m \u001b[0;34m\u001b[0m\u001b[0m\n\u001b[1;32m   2081\u001b[0m         \u001b[0mself\u001b[0m\u001b[0;34m.\u001b[0m\u001b[0mto_draw\u001b[0m \u001b[0;34m=\u001b[0m \u001b[0;32mNone\u001b[0m\u001b[0;34m\u001b[0m\u001b[0;34m\u001b[0m\u001b[0m\n",
        "\u001b[0;32m/anaconda3/lib/python3.6/site-packages/matplotlib/widgets.py\u001b[0m in \u001b[0;36m__init__\u001b[0;34m(self, ax, onselect, useblit, button, state_modifier_keys)\u001b[0m\n\u001b[1;32m   1463\u001b[0m     def __init__(self, ax, onselect, useblit=False, button=None,\n\u001b[1;32m   1464\u001b[0m                  state_modifier_keys=None):\n\u001b[0;32m-> 1465\u001b[0;31m         \u001b[0mAxesWidget\u001b[0m\u001b[0;34m.\u001b[0m\u001b[0m__init__\u001b[0m\u001b[0;34m(\u001b[0m\u001b[0mself\u001b[0m\u001b[0;34m,\u001b[0m \u001b[0max\u001b[0m\u001b[0;34m)\u001b[0m\u001b[0;34m\u001b[0m\u001b[0;34m\u001b[0m\u001b[0m\n\u001b[0m\u001b[1;32m   1466\u001b[0m \u001b[0;34m\u001b[0m\u001b[0m\n\u001b[1;32m   1467\u001b[0m         \u001b[0mself\u001b[0m\u001b[0;34m.\u001b[0m\u001b[0mvisible\u001b[0m \u001b[0;34m=\u001b[0m \u001b[0;32mTrue\u001b[0m\u001b[0;34m\u001b[0m\u001b[0;34m\u001b[0m\u001b[0m\n",
        "\u001b[0;32m/anaconda3/lib/python3.6/site-packages/matplotlib/widgets.py\u001b[0m in \u001b[0;36m__init__\u001b[0;34m(self, ax)\u001b[0m\n\u001b[1;32m    114\u001b[0m     \u001b[0;32mdef\u001b[0m \u001b[0m__init__\u001b[0m\u001b[0;34m(\u001b[0m\u001b[0mself\u001b[0m\u001b[0;34m,\u001b[0m \u001b[0max\u001b[0m\u001b[0;34m)\u001b[0m\u001b[0;34m:\u001b[0m\u001b[0;34m\u001b[0m\u001b[0;34m\u001b[0m\u001b[0m\n\u001b[1;32m    115\u001b[0m         \u001b[0mself\u001b[0m\u001b[0;34m.\u001b[0m\u001b[0max\u001b[0m \u001b[0;34m=\u001b[0m \u001b[0max\u001b[0m\u001b[0;34m\u001b[0m\u001b[0;34m\u001b[0m\u001b[0m\n\u001b[0;32m--> 116\u001b[0;31m         \u001b[0mself\u001b[0m\u001b[0;34m.\u001b[0m\u001b[0mcanvas\u001b[0m \u001b[0;34m=\u001b[0m \u001b[0max\u001b[0m\u001b[0;34m.\u001b[0m\u001b[0mfigure\u001b[0m\u001b[0;34m.\u001b[0m\u001b[0mcanvas\u001b[0m\u001b[0;34m\u001b[0m\u001b[0;34m\u001b[0m\u001b[0m\n\u001b[0m\u001b[1;32m    117\u001b[0m         \u001b[0mself\u001b[0m\u001b[0;34m.\u001b[0m\u001b[0mcids\u001b[0m \u001b[0;34m=\u001b[0m \u001b[0;34m[\u001b[0m\u001b[0;34m]\u001b[0m\u001b[0;34m\u001b[0m\u001b[0;34m\u001b[0m\u001b[0m\n\u001b[1;32m    118\u001b[0m \u001b[0;34m\u001b[0m\u001b[0m\n",
        "\u001b[0;31mAttributeError\u001b[0m: 'numpy.ndarray' object has no attribute 'figure'"
       ]
      }
     ],
     "persistentId": "0a67f017-3bb6-49f5-8564-c656a63a140f",
     "text": "# Step 2) \n# Add not just the density but also the phase diagram as a separate panel.\n# Copy over the plotting code (2D histogram) and modify the figure so that there are now two panels.\n\n# Add a phase diagram: X vs VY\n\n# plot the particle density for the MW Disk and then zoom in on a region of the disk \n\nfig, ax = plt.subplots(nrows=1, ncols=2, figsize =(10 ,10))\n# ax[0] --> Density\n# ax[1] --> Phase Diagram\n\n### 2d histogram is on the left panel\nax[0].hist2d(MW_Disk_x,MW_Disk_y, bins=200, norm=LogNorm(), cmap='magma')\n#plt.colorbar(label='Number  of  Particles  per  bin')\n\n# over plot contours\ndensity_contour(MW_Disk_x, MW_Disk_y, 80, 80, ax=ax[0], \\\n                colors=['white'])\n   \n    \n#set axis limits\nax[0].set_ylim(-30,30)\nax[0].set_xlim(-30,30)\n\n\n# Add axis labels\nax[0].set_xlabel('x (kpc)', fontsize=22)\nax[0].set_xlabel('y (kpc)', fontsize=22)\n\n### Phase diagram is on the right panel\nax[1].hist2d(MW_Disk_x, MW_Disk_vy, bins=200, norm=LogNorm(),cmap='magma')\n\n#set axis limits\nax[1].set_xlim(-30,30)\n\n\n# Add axis labels\nax[1].set_xlabel('x (kpc)', fontsize=22)\nax[1].set_xlabel('y (kpc)', fontsize=22)\n\n\n\n## NEW: Rectangle Selector.     \nrs = mw.RectangleSelector( ax,                        # the axes to attach to\n                           callbackRectangle,         # the callback function\n                           drawtype='box',            # draw a box when selecting a region\n                           button=[1, 3],             # allow us to use left or right mouse button\n                                                      #button 1 is left mouse button\n                           minspanx=5, minspany=5,    # don't accept a box of fewer than 5 pixels\n                           spancoords='pixels' )      # units for above\n\n\nplt.connect(\"key_press_event\", onKeyPressed)\n\n\n"
    },
    "executionTime": "2020-04-22T04:34:46.597Z"
   },
   {
    "cell": {
     "executionCount": 33,
     "executionEventId": "32c8099c-8d41-4479-bc38-587b93a7ff25",
     "hasError": true,
     "id": "ef9604f4-fcc9-48d8-8dec-ea3cf6349505",
     "outputs": [
      {
       "ename": "IndentationError",
       "evalue": "unexpected indent (<ipython-input-33-41d3f05734bb>, line 19)",
       "output_type": "error",
       "traceback": [
        "\u001b[0;36m  File \u001b[0;32m\"<ipython-input-33-41d3f05734bb>\"\u001b[0;36m, line \u001b[0;32m19\u001b[0m\n\u001b[0;31m    plt.savefig('Density_Velocity.png')\u001b[0m\n\u001b[0m    ^\u001b[0m\n\u001b[0;31mIndentationError\u001b[0m\u001b[0;31m:\u001b[0m unexpected indent\n"
       ]
      }
     ],
     "persistentId": "e9c4f6d9-1ba4-4ff6-81ad-0ca23be6be0e",
     "text": "def callbackRectangle( click, release ): # the events are click and release\n    print( f\"button {click.button} pressed\" )\n    print( f\"button {release.button} released\" )\n    extent = [ click.xdata, release.xdata, click.ydata, release.ydata ]\n    print( f\"box extent is {extent}\") \n    \n    # ADD - in order to zoom in reset the axes to the clicked box size\n    #ax[0].set_xlim(click.xdata, release.xdata)\n    #ax[0].set_ylim(click.ydata, release.ydata)\n    \n    # Create a rectangle\n    width = np.abs(release.xdata - click.data)\n    height = np.abs(click.ydata-release.ydata)\n    \n    Rect = plt.Rectangle((click.xdata,click.ydata), width, height, fill=False, color='yellow', linewidth=3)\n    ax[0].add_patch(Rect)\np    \n    # Save the file\n    plt.savefig('Density_Velocity.png')"
    },
    "executionTime": "2020-04-22T04:39:12.282Z"
   },
   {
    "cell": {
     "executionCount": 34,
     "executionEventId": "02fb2cab-2043-46f4-b018-5a29305fb143",
     "hasError": false,
     "id": "ef9604f4-fcc9-48d8-8dec-ea3cf6349505",
     "outputs": [],
     "persistentId": "e9c4f6d9-1ba4-4ff6-81ad-0ca23be6be0e",
     "text": "def callbackRectangle( click, release ): # the events are click and release\n    print( f\"button {click.button} pressed\" )\n    print( f\"button {release.button} released\" )\n    extent = [ click.xdata, release.xdata, click.ydata, release.ydata ]\n    print( f\"box extent is {extent}\") \n    \n    # ADD - in order to zoom in reset the axes to the clicked box size\n    #ax[0].set_xlim(click.xdata, release.xdata)\n    #ax[0].set_ylim(click.ydata, release.ydata)\n    \n    # Create a rectangle\n    width = np.abs(release.xdata - click.data)\n    height = np.abs(click.ydata-release.ydata)\n    \n    Rect = plt.Rectangle((click.xdata,click.ydata), width, height, fill=False, color='yellow', linewidth=3)\n    ax[0].add_patch(Rect)\n    \n    # Save the file\n    plt.savefig('Density_Velocity.png')"
    },
    "executionTime": "2020-04-22T04:39:24.180Z"
   },
   {
    "cell": {
     "executionCount": 35,
     "executionEventId": "8d4e3d01-73cb-4919-bf38-a63e930e01fc",
     "hasError": false,
     "id": "ef9604f4-fcc9-48d8-8dec-ea3cf6349505",
     "outputs": [],
     "persistentId": "e9c4f6d9-1ba4-4ff6-81ad-0ca23be6be0e",
     "text": "def callbackRectangle( click, release ): # the events are click and release\n    print( f\"button {click.button} pressed\" )\n    print( f\"button {release.button} released\" )\n    extent = [ click.xdata, release.xdata, click.ydata, release.ydata ]\n    print( f\"box extent is {extent}\") \n    \n    # ADD - in order to zoom in reset the axes to the clicked box size\n    #ax[0].set_xlim(click.xdata, release.xdata)\n    #ax[0].set_ylim(click.ydata, release.ydata)\n    \n    # Create a rectangle\n    width = np.abs(release.xdata - click.data)\n    height = np.abs(click.ydata-release.ydata)\n    \n    Rect = plt.Rectangle((click.xdata,click.ydata), width, height, fill=False, color='yellow', linewidth=3)\n    ax[0].add_patch(Rect)\n    \n    # Use the selected region to find the corresponding particles in the phase diagram\n    index = np.where((MW_Disk_x>click.xdata)&(MW_Disk_x<release.xdata)&(MW_Disk_y>click.ydata)&(MW_Disk_y < release.ydata))\n    ax[1].scatter(MW_Disk_x[index], MW_Disk_vy[index])\n    \n    # Save the file\n    plt.savefig('Density_Velocity.png')"
    },
    "executionTime": "2020-04-22T04:42:11.928Z"
   },
   {
    "cell": {
     "executionCount": 36,
     "executionEventId": "288da178-94f2-427d-9fea-64a7dd339900",
     "hasError": true,
     "id": "e8a3b0ce-def2-406d-b3f1-3fd3463022eb",
     "outputs": [
      {
       "ename": "AttributeError",
       "evalue": "'numpy.ndarray' object has no attribute 'figure'",
       "output_type": "error",
       "traceback": [
        "\u001b[0;31m---------------------------------------------------------------------------\u001b[0m",
        "\u001b[0;31mAttributeError\u001b[0m                            Traceback (most recent call last)",
        "\u001b[0;32m<ipython-input-36-a1fb606ad65e>\u001b[0m in \u001b[0;36m<module>\u001b[0;34m\u001b[0m\n\u001b[1;32m     49\u001b[0m                                                       \u001b[0;31m#button 1 is left mouse button\u001b[0m\u001b[0;34m\u001b[0m\u001b[0;34m\u001b[0m\u001b[0;34m\u001b[0m\u001b[0m\n\u001b[1;32m     50\u001b[0m                            \u001b[0mminspanx\u001b[0m\u001b[0;34m=\u001b[0m\u001b[0;36m5\u001b[0m\u001b[0;34m,\u001b[0m \u001b[0mminspany\u001b[0m\u001b[0;34m=\u001b[0m\u001b[0;36m5\u001b[0m\u001b[0;34m,\u001b[0m    \u001b[0;31m# don't accept a box of fewer than 5 pixels\u001b[0m\u001b[0;34m\u001b[0m\u001b[0;34m\u001b[0m\u001b[0m\n\u001b[0;32m---> 51\u001b[0;31m                            spancoords='pixels' )      # units for above\n\u001b[0m\u001b[1;32m     52\u001b[0m \u001b[0;34m\u001b[0m\u001b[0m\n\u001b[1;32m     53\u001b[0m \u001b[0;34m\u001b[0m\u001b[0m\n",
        "\u001b[0;32m/anaconda3/lib/python3.6/site-packages/matplotlib/widgets.py\u001b[0m in \u001b[0;36m__init__\u001b[0;34m(self, ax, onselect, drawtype, minspanx, minspany, useblit, lineprops, rectprops, spancoords, button, maxdist, marker_props, interactive, state_modifier_keys)\u001b[0m\n\u001b[1;32m   2077\u001b[0m         _SelectorWidget.__init__(self, ax, onselect, useblit=useblit,\n\u001b[1;32m   2078\u001b[0m                                  \u001b[0mbutton\u001b[0m\u001b[0;34m=\u001b[0m\u001b[0mbutton\u001b[0m\u001b[0;34m,\u001b[0m\u001b[0;34m\u001b[0m\u001b[0;34m\u001b[0m\u001b[0m\n\u001b[0;32m-> 2079\u001b[0;31m                                  state_modifier_keys=state_modifier_keys)\n\u001b[0m\u001b[1;32m   2080\u001b[0m \u001b[0;34m\u001b[0m\u001b[0m\n\u001b[1;32m   2081\u001b[0m         \u001b[0mself\u001b[0m\u001b[0;34m.\u001b[0m\u001b[0mto_draw\u001b[0m \u001b[0;34m=\u001b[0m \u001b[0;32mNone\u001b[0m\u001b[0;34m\u001b[0m\u001b[0;34m\u001b[0m\u001b[0m\n",
        "\u001b[0;32m/anaconda3/lib/python3.6/site-packages/matplotlib/widgets.py\u001b[0m in \u001b[0;36m__init__\u001b[0;34m(self, ax, onselect, useblit, button, state_modifier_keys)\u001b[0m\n\u001b[1;32m   1463\u001b[0m     def __init__(self, ax, onselect, useblit=False, button=None,\n\u001b[1;32m   1464\u001b[0m                  state_modifier_keys=None):\n\u001b[0;32m-> 1465\u001b[0;31m         \u001b[0mAxesWidget\u001b[0m\u001b[0;34m.\u001b[0m\u001b[0m__init__\u001b[0m\u001b[0;34m(\u001b[0m\u001b[0mself\u001b[0m\u001b[0;34m,\u001b[0m \u001b[0max\u001b[0m\u001b[0;34m)\u001b[0m\u001b[0;34m\u001b[0m\u001b[0;34m\u001b[0m\u001b[0m\n\u001b[0m\u001b[1;32m   1466\u001b[0m \u001b[0;34m\u001b[0m\u001b[0m\n\u001b[1;32m   1467\u001b[0m         \u001b[0mself\u001b[0m\u001b[0;34m.\u001b[0m\u001b[0mvisible\u001b[0m \u001b[0;34m=\u001b[0m \u001b[0;32mTrue\u001b[0m\u001b[0;34m\u001b[0m\u001b[0;34m\u001b[0m\u001b[0m\n",
        "\u001b[0;32m/anaconda3/lib/python3.6/site-packages/matplotlib/widgets.py\u001b[0m in \u001b[0;36m__init__\u001b[0;34m(self, ax)\u001b[0m\n\u001b[1;32m    114\u001b[0m     \u001b[0;32mdef\u001b[0m \u001b[0m__init__\u001b[0m\u001b[0;34m(\u001b[0m\u001b[0mself\u001b[0m\u001b[0;34m,\u001b[0m \u001b[0max\u001b[0m\u001b[0;34m)\u001b[0m\u001b[0;34m:\u001b[0m\u001b[0;34m\u001b[0m\u001b[0;34m\u001b[0m\u001b[0m\n\u001b[1;32m    115\u001b[0m         \u001b[0mself\u001b[0m\u001b[0;34m.\u001b[0m\u001b[0max\u001b[0m \u001b[0;34m=\u001b[0m \u001b[0max\u001b[0m\u001b[0;34m\u001b[0m\u001b[0;34m\u001b[0m\u001b[0m\n\u001b[0;32m--> 116\u001b[0;31m         \u001b[0mself\u001b[0m\u001b[0;34m.\u001b[0m\u001b[0mcanvas\u001b[0m \u001b[0;34m=\u001b[0m \u001b[0max\u001b[0m\u001b[0;34m.\u001b[0m\u001b[0mfigure\u001b[0m\u001b[0;34m.\u001b[0m\u001b[0mcanvas\u001b[0m\u001b[0;34m\u001b[0m\u001b[0;34m\u001b[0m\u001b[0m\n\u001b[0m\u001b[1;32m    117\u001b[0m         \u001b[0mself\u001b[0m\u001b[0;34m.\u001b[0m\u001b[0mcids\u001b[0m \u001b[0;34m=\u001b[0m \u001b[0;34m[\u001b[0m\u001b[0;34m]\u001b[0m\u001b[0;34m\u001b[0m\u001b[0;34m\u001b[0m\u001b[0m\n\u001b[1;32m    118\u001b[0m \u001b[0;34m\u001b[0m\u001b[0m\n",
        "\u001b[0;31mAttributeError\u001b[0m: 'numpy.ndarray' object has no attribute 'figure'"
       ]
      }
     ],
     "persistentId": "0a67f017-3bb6-49f5-8564-c656a63a140f",
     "text": "# Step 2) \n# Add not just the density but also the phase diagram as a separate panel.\n# Copy over the plotting code (2D histogram) and modify the figure so that there are now two panels.\n\n# Add a phase diagram: X vs VY \n\n# plot the particle density for the MW Disk and then zoom in on a region of the disk \n\nfig, ax = plt.subplots(nrows=1, ncols=2, figsize =(10 ,10))\n# ax[0] --> Density\n# ax[1] --> Phase Diagram\n\n### 2d histogram is on the left panel\nax[0].hist2d(MW_Disk_x,MW_Disk_y, bins=200, norm=LogNorm(), cmap='magma')\n#plt.colorbar(label='Number  of  Particles  per  bin')\n\n# over plot contours\ndensity_contour(MW_Disk_x, MW_Disk_y, 80, 80, ax=ax[0], \\\n                colors=['white'])\n   \n    \n#set axis limits\nax[0].set_ylim(-30,30)\nax[0].set_xlim(-30,30)\n\n\n# Add axis labels\nax[0].set_xlabel('x (kpc)', fontsize=22)\nax[0].set_xlabel('y (kpc)', fontsize=22)\n\n### Phase diagram is on the right panel\nax[1].hist2d(MW_Disk_x, MW_Disk_vy, bins=200, norm=LogNorm(),cmap='magma')\n\n#set axis limits\nax[1].set_xlim(-30,30)\n\n\n# Add axis labels\nax[1].set_xlabel('x (kpc)', fontsize=22)\nax[1].set_xlabel('velocity along y axis (km/s)', fontsize=22)\n\n\n\n## NEW: Rectangle Selector.     \nrs = mw.RectangleSelector( ax,                        # the axes to attach to\n                           callbackRectangle,         # the callback function\n                           drawtype='box',            # draw a box when selecting a region\n                           button=[1, 3],             # allow us to use left or right mouse button\n                                                      #button 1 is left mouse button\n                           minspanx=5, minspany=5,    # don't accept a box of fewer than 5 pixels\n                           spancoords='pixels' )      # units for above\n\n\nplt.connect(\"key_press_event\", onKeyPressed)\n\n\n"
    },
    "executionTime": "2020-04-22T04:42:46.344Z"
   },
   {
    "cell": {
     "executionCount": 37,
     "executionEventId": "1c59318f-f327-4b3c-879f-df45406c8516",
     "hasError": false,
     "id": "ef9604f4-fcc9-48d8-8dec-ea3cf6349505",
     "outputs": [],
     "persistentId": "e9c4f6d9-1ba4-4ff6-81ad-0ca23be6be0e",
     "text": "def callbackRectangle( click, release ): # the events are click and release\n    print( f\"button {click.button} pressed\" )\n    print( f\"button {release.button} released\" )\n    extent = [ click.xdata, release.xdata, click.ydata, release.ydata ]\n    print( f\"box extent is {extent}\") \n    \n    # ADD - in order to zoom in reset the axes to the clicked box size\n    #ax[0].set_xlim(click.xdata, release.xdata)\n    #ax[0].set_ylim(click.ydata, release.ydata)\n    \n    # Create a rectangle\n    width = np.abs(release.xdata - click.data)\n    height = np.abs(click.ydata-release.ydata)\n    \n    Rect = plt.Rectangle((click.xdata,click.ydata), width, height, fill=False, color='yellow', linewidth=3)\n    ax[0].add_patch(Rect)\n    \n    # Use the selected region to find the corresponding particles in the phase diagram\n    index = np.where((MW_Disk_x>click.xdata)&(MW_Disk_x<release.xdata)&(MW_Disk_y>click.ydata)&(MW_Disk_y < release.ydata))\n    ax[1].scatter(MW_Disk_x[index], MW_Disk_vy[index])\n    \n    # Save the file\n    plt.savefig('Density_Velocity.png')"
    },
    "executionTime": "2020-04-22T04:43:31.206Z"
   },
   {
    "cell": {
     "executionCount": 38,
     "executionEventId": "3edccd41-2ad0-4b10-a981-55658044dcc8",
     "hasError": false,
     "id": "becdcc90-fd2a-4aae-ae41-b7b8ca51ba91",
     "outputs": [],
     "persistentId": "67a148e7-97a5-4df2-a6ed-a58b208fcb98",
     "text": "# add the ability to reset the image using an \"on key press\" function \ndef onKeyPressed(event): \n    if event.key in ['R', 'r']:\n        # ADD - to zoom back out reset the axes\n        ax.set_xlim(-30,30)\n        ax.set_ylim(-30,30)\n\n"
    },
    "executionTime": "2020-04-22T04:43:31.878Z"
   },
   {
    "cell": {
     "executionCount": 39,
     "executionEventId": "cea17e69-a5b2-471c-b91f-394c22303dd7",
     "hasError": true,
     "id": "e8a3b0ce-def2-406d-b3f1-3fd3463022eb",
     "outputs": [
      {
       "ename": "AttributeError",
       "evalue": "'numpy.ndarray' object has no attribute 'figure'",
       "output_type": "error",
       "traceback": [
        "\u001b[0;31m---------------------------------------------------------------------------\u001b[0m",
        "\u001b[0;31mAttributeError\u001b[0m                            Traceback (most recent call last)",
        "\u001b[0;32m<ipython-input-39-a1fb606ad65e>\u001b[0m in \u001b[0;36m<module>\u001b[0;34m\u001b[0m\n\u001b[1;32m     49\u001b[0m                                                       \u001b[0;31m#button 1 is left mouse button\u001b[0m\u001b[0;34m\u001b[0m\u001b[0;34m\u001b[0m\u001b[0;34m\u001b[0m\u001b[0m\n\u001b[1;32m     50\u001b[0m                            \u001b[0mminspanx\u001b[0m\u001b[0;34m=\u001b[0m\u001b[0;36m5\u001b[0m\u001b[0;34m,\u001b[0m \u001b[0mminspany\u001b[0m\u001b[0;34m=\u001b[0m\u001b[0;36m5\u001b[0m\u001b[0;34m,\u001b[0m    \u001b[0;31m# don't accept a box of fewer than 5 pixels\u001b[0m\u001b[0;34m\u001b[0m\u001b[0;34m\u001b[0m\u001b[0m\n\u001b[0;32m---> 51\u001b[0;31m                            spancoords='pixels' )      # units for above\n\u001b[0m\u001b[1;32m     52\u001b[0m \u001b[0;34m\u001b[0m\u001b[0m\n\u001b[1;32m     53\u001b[0m \u001b[0;34m\u001b[0m\u001b[0m\n",
        "\u001b[0;32m/anaconda3/lib/python3.6/site-packages/matplotlib/widgets.py\u001b[0m in \u001b[0;36m__init__\u001b[0;34m(self, ax, onselect, drawtype, minspanx, minspany, useblit, lineprops, rectprops, spancoords, button, maxdist, marker_props, interactive, state_modifier_keys)\u001b[0m\n\u001b[1;32m   2077\u001b[0m         _SelectorWidget.__init__(self, ax, onselect, useblit=useblit,\n\u001b[1;32m   2078\u001b[0m                                  \u001b[0mbutton\u001b[0m\u001b[0;34m=\u001b[0m\u001b[0mbutton\u001b[0m\u001b[0;34m,\u001b[0m\u001b[0;34m\u001b[0m\u001b[0;34m\u001b[0m\u001b[0m\n\u001b[0;32m-> 2079\u001b[0;31m                                  state_modifier_keys=state_modifier_keys)\n\u001b[0m\u001b[1;32m   2080\u001b[0m \u001b[0;34m\u001b[0m\u001b[0m\n\u001b[1;32m   2081\u001b[0m         \u001b[0mself\u001b[0m\u001b[0;34m.\u001b[0m\u001b[0mto_draw\u001b[0m \u001b[0;34m=\u001b[0m \u001b[0;32mNone\u001b[0m\u001b[0;34m\u001b[0m\u001b[0;34m\u001b[0m\u001b[0m\n",
        "\u001b[0;32m/anaconda3/lib/python3.6/site-packages/matplotlib/widgets.py\u001b[0m in \u001b[0;36m__init__\u001b[0;34m(self, ax, onselect, useblit, button, state_modifier_keys)\u001b[0m\n\u001b[1;32m   1463\u001b[0m     def __init__(self, ax, onselect, useblit=False, button=None,\n\u001b[1;32m   1464\u001b[0m                  state_modifier_keys=None):\n\u001b[0;32m-> 1465\u001b[0;31m         \u001b[0mAxesWidget\u001b[0m\u001b[0;34m.\u001b[0m\u001b[0m__init__\u001b[0m\u001b[0;34m(\u001b[0m\u001b[0mself\u001b[0m\u001b[0;34m,\u001b[0m \u001b[0max\u001b[0m\u001b[0;34m)\u001b[0m\u001b[0;34m\u001b[0m\u001b[0;34m\u001b[0m\u001b[0m\n\u001b[0m\u001b[1;32m   1466\u001b[0m \u001b[0;34m\u001b[0m\u001b[0m\n\u001b[1;32m   1467\u001b[0m         \u001b[0mself\u001b[0m\u001b[0;34m.\u001b[0m\u001b[0mvisible\u001b[0m \u001b[0;34m=\u001b[0m \u001b[0;32mTrue\u001b[0m\u001b[0;34m\u001b[0m\u001b[0;34m\u001b[0m\u001b[0m\n",
        "\u001b[0;32m/anaconda3/lib/python3.6/site-packages/matplotlib/widgets.py\u001b[0m in \u001b[0;36m__init__\u001b[0;34m(self, ax)\u001b[0m\n\u001b[1;32m    114\u001b[0m     \u001b[0;32mdef\u001b[0m \u001b[0m__init__\u001b[0m\u001b[0;34m(\u001b[0m\u001b[0mself\u001b[0m\u001b[0;34m,\u001b[0m \u001b[0max\u001b[0m\u001b[0;34m)\u001b[0m\u001b[0;34m:\u001b[0m\u001b[0;34m\u001b[0m\u001b[0;34m\u001b[0m\u001b[0m\n\u001b[1;32m    115\u001b[0m         \u001b[0mself\u001b[0m\u001b[0;34m.\u001b[0m\u001b[0max\u001b[0m \u001b[0;34m=\u001b[0m \u001b[0max\u001b[0m\u001b[0;34m\u001b[0m\u001b[0;34m\u001b[0m\u001b[0m\n\u001b[0;32m--> 116\u001b[0;31m         \u001b[0mself\u001b[0m\u001b[0;34m.\u001b[0m\u001b[0mcanvas\u001b[0m \u001b[0;34m=\u001b[0m \u001b[0max\u001b[0m\u001b[0;34m.\u001b[0m\u001b[0mfigure\u001b[0m\u001b[0;34m.\u001b[0m\u001b[0mcanvas\u001b[0m\u001b[0;34m\u001b[0m\u001b[0;34m\u001b[0m\u001b[0m\n\u001b[0m\u001b[1;32m    117\u001b[0m         \u001b[0mself\u001b[0m\u001b[0;34m.\u001b[0m\u001b[0mcids\u001b[0m \u001b[0;34m=\u001b[0m \u001b[0;34m[\u001b[0m\u001b[0;34m]\u001b[0m\u001b[0;34m\u001b[0m\u001b[0;34m\u001b[0m\u001b[0m\n\u001b[1;32m    118\u001b[0m \u001b[0;34m\u001b[0m\u001b[0m\n",
        "\u001b[0;31mAttributeError\u001b[0m: 'numpy.ndarray' object has no attribute 'figure'"
       ]
      }
     ],
     "persistentId": "0a67f017-3bb6-49f5-8564-c656a63a140f",
     "text": "# Step 2) \n# Add not just the density but also the phase diagram as a separate panel.\n# Copy over the plotting code (2D histogram) and modify the figure so that there are now two panels.\n\n# Add a phase diagram: X vs VY \n\n# plot the particle density for the MW Disk and then zoom in on a region of the disk \n\nfig, ax = plt.subplots(nrows=1, ncols=2, figsize =(10 ,10))\n# ax[0] --> Density\n# ax[1] --> Phase Diagram\n\n### 2d histogram is on the left panel\nax[0].hist2d(MW_Disk_x,MW_Disk_y, bins=200, norm=LogNorm(), cmap='magma')\n#plt.colorbar(label='Number  of  Particles  per  bin')\n\n# over plot contours\ndensity_contour(MW_Disk_x, MW_Disk_y, 80, 80, ax=ax[0], \\\n                colors=['white'])\n   \n    \n#set axis limits\nax[0].set_ylim(-30,30)\nax[0].set_xlim(-30,30)\n\n\n# Add axis labels\nax[0].set_xlabel('x (kpc)', fontsize=22)\nax[0].set_xlabel('y (kpc)', fontsize=22)\n\n### Phase diagram is on the right panel\nax[1].hist2d(MW_Disk_x, MW_Disk_vy, bins=200, norm=LogNorm(),cmap='magma')\n\n#set axis limits\nax[1].set_xlim(-30,30)\n\n\n# Add axis labels\nax[1].set_xlabel('x (kpc)', fontsize=22)\nax[1].set_xlabel('velocity along y axis (km/s)', fontsize=22)\n\n\n\n## NEW: Rectangle Selector.     \nrs = mw.RectangleSelector( ax,                        # the axes to attach to\n                           callbackRectangle,         # the callback function\n                           drawtype='box',            # draw a box when selecting a region\n                           button=[1, 3],             # allow us to use left or right mouse button\n                                                      #button 1 is left mouse button\n                           minspanx=5, minspany=5,    # don't accept a box of fewer than 5 pixels\n                           spancoords='pixels' )      # units for above\n\n\nplt.connect(\"key_press_event\", onKeyPressed)\n\n\n"
    },
    "executionTime": "2020-04-22T04:43:33.227Z"
   },
   {
    "cell": {
     "executionCount": 40,
     "executionEventId": "a4009392-0155-4aea-8e77-668b98da8338",
     "hasError": true,
     "id": "e8a3b0ce-def2-406d-b3f1-3fd3463022eb",
     "outputs": [
      {
       "ename": "AttributeError",
       "evalue": "'numpy.ndarray' object has no attribute 'figure'",
       "output_type": "error",
       "traceback": [
        "\u001b[0;31m---------------------------------------------------------------------------\u001b[0m",
        "\u001b[0;31mAttributeError\u001b[0m                            Traceback (most recent call last)",
        "\u001b[0;32m<ipython-input-40-8cd94dbfcb81>\u001b[0m in \u001b[0;36m<module>\u001b[0;34m\u001b[0m\n\u001b[1;32m     49\u001b[0m                                                       \u001b[0;31m#button 1 is left mouse button\u001b[0m\u001b[0;34m\u001b[0m\u001b[0;34m\u001b[0m\u001b[0;34m\u001b[0m\u001b[0m\n\u001b[1;32m     50\u001b[0m                            \u001b[0mminspanx\u001b[0m\u001b[0;34m=\u001b[0m\u001b[0;36m5\u001b[0m\u001b[0;34m,\u001b[0m \u001b[0mminspany\u001b[0m\u001b[0;34m=\u001b[0m\u001b[0;36m5\u001b[0m\u001b[0;34m,\u001b[0m    \u001b[0;31m# don't accept a box of fewer than 5 pixels\u001b[0m\u001b[0;34m\u001b[0m\u001b[0;34m\u001b[0m\u001b[0m\n\u001b[0;32m---> 51\u001b[0;31m                            spancoords='pixels' )      # units for above\n\u001b[0m\u001b[1;32m     52\u001b[0m \u001b[0;34m\u001b[0m\u001b[0m\n\u001b[1;32m     53\u001b[0m \u001b[0;34m\u001b[0m\u001b[0m\n",
        "\u001b[0;32m/anaconda3/lib/python3.6/site-packages/matplotlib/widgets.py\u001b[0m in \u001b[0;36m__init__\u001b[0;34m(self, ax, onselect, drawtype, minspanx, minspany, useblit, lineprops, rectprops, spancoords, button, maxdist, marker_props, interactive, state_modifier_keys)\u001b[0m\n\u001b[1;32m   2077\u001b[0m         _SelectorWidget.__init__(self, ax, onselect, useblit=useblit,\n\u001b[1;32m   2078\u001b[0m                                  \u001b[0mbutton\u001b[0m\u001b[0;34m=\u001b[0m\u001b[0mbutton\u001b[0m\u001b[0;34m,\u001b[0m\u001b[0;34m\u001b[0m\u001b[0;34m\u001b[0m\u001b[0m\n\u001b[0;32m-> 2079\u001b[0;31m                                  state_modifier_keys=state_modifier_keys)\n\u001b[0m\u001b[1;32m   2080\u001b[0m \u001b[0;34m\u001b[0m\u001b[0m\n\u001b[1;32m   2081\u001b[0m         \u001b[0mself\u001b[0m\u001b[0;34m.\u001b[0m\u001b[0mto_draw\u001b[0m \u001b[0;34m=\u001b[0m \u001b[0;32mNone\u001b[0m\u001b[0;34m\u001b[0m\u001b[0;34m\u001b[0m\u001b[0m\n",
        "\u001b[0;32m/anaconda3/lib/python3.6/site-packages/matplotlib/widgets.py\u001b[0m in \u001b[0;36m__init__\u001b[0;34m(self, ax, onselect, useblit, button, state_modifier_keys)\u001b[0m\n\u001b[1;32m   1463\u001b[0m     def __init__(self, ax, onselect, useblit=False, button=None,\n\u001b[1;32m   1464\u001b[0m                  state_modifier_keys=None):\n\u001b[0;32m-> 1465\u001b[0;31m         \u001b[0mAxesWidget\u001b[0m\u001b[0;34m.\u001b[0m\u001b[0m__init__\u001b[0m\u001b[0;34m(\u001b[0m\u001b[0mself\u001b[0m\u001b[0;34m,\u001b[0m \u001b[0max\u001b[0m\u001b[0;34m)\u001b[0m\u001b[0;34m\u001b[0m\u001b[0;34m\u001b[0m\u001b[0m\n\u001b[0m\u001b[1;32m   1466\u001b[0m \u001b[0;34m\u001b[0m\u001b[0m\n\u001b[1;32m   1467\u001b[0m         \u001b[0mself\u001b[0m\u001b[0;34m.\u001b[0m\u001b[0mvisible\u001b[0m \u001b[0;34m=\u001b[0m \u001b[0;32mTrue\u001b[0m\u001b[0;34m\u001b[0m\u001b[0;34m\u001b[0m\u001b[0m\n",
        "\u001b[0;32m/anaconda3/lib/python3.6/site-packages/matplotlib/widgets.py\u001b[0m in \u001b[0;36m__init__\u001b[0;34m(self, ax)\u001b[0m\n\u001b[1;32m    114\u001b[0m     \u001b[0;32mdef\u001b[0m \u001b[0m__init__\u001b[0m\u001b[0;34m(\u001b[0m\u001b[0mself\u001b[0m\u001b[0;34m,\u001b[0m \u001b[0max\u001b[0m\u001b[0;34m)\u001b[0m\u001b[0;34m:\u001b[0m\u001b[0;34m\u001b[0m\u001b[0;34m\u001b[0m\u001b[0m\n\u001b[1;32m    115\u001b[0m         \u001b[0mself\u001b[0m\u001b[0;34m.\u001b[0m\u001b[0max\u001b[0m \u001b[0;34m=\u001b[0m \u001b[0max\u001b[0m\u001b[0;34m\u001b[0m\u001b[0;34m\u001b[0m\u001b[0m\n\u001b[0;32m--> 116\u001b[0;31m         \u001b[0mself\u001b[0m\u001b[0;34m.\u001b[0m\u001b[0mcanvas\u001b[0m \u001b[0;34m=\u001b[0m \u001b[0max\u001b[0m\u001b[0;34m.\u001b[0m\u001b[0mfigure\u001b[0m\u001b[0;34m.\u001b[0m\u001b[0mcanvas\u001b[0m\u001b[0;34m\u001b[0m\u001b[0;34m\u001b[0m\u001b[0m\n\u001b[0m\u001b[1;32m    117\u001b[0m         \u001b[0mself\u001b[0m\u001b[0;34m.\u001b[0m\u001b[0mcids\u001b[0m \u001b[0;34m=\u001b[0m \u001b[0;34m[\u001b[0m\u001b[0;34m]\u001b[0m\u001b[0;34m\u001b[0m\u001b[0;34m\u001b[0m\u001b[0m\n\u001b[1;32m    118\u001b[0m \u001b[0;34m\u001b[0m\u001b[0m\n",
        "\u001b[0;31mAttributeError\u001b[0m: 'numpy.ndarray' object has no attribute 'figure'"
       ]
      }
     ],
     "persistentId": "0a67f017-3bb6-49f5-8564-c656a63a140f",
     "text": "# Step 2) \n# Add not just the density but also the phase diagram as a separate panel.\n# Copy over the plotting code (2D histogram) and modify the figure so that there are now two panels.\n\n# Add a phase diagram: X vs VY \n\n# plot the particle density for the MW Disk and then zoom in on a region of the disk \n\nfig, ax = plt.subplots(nrows=1, ncols=2, figsize =(10 ,10))\n# ax[0] --> Density\n# ax[1] --> Phase Diagram\n\n### 2d histogram is on the left panel\nax[0].hist2d(MW_Disk_x,MW_Disk_y, bins=200, norm=LogNorm(), cmap='magma')\n#plt.colorbar(label='Number  of  Particles  per  bin')\n\n# over plot contours\ndensity_contour(MW_Disk_x, MW_Disk_y, 80, 80, ax=ax[0], \\\n                colors=['white'])\n   \n    \n#set axis limits\nax[0].set_ylim(-30,30)\nax[0].set_xlim(-30,30)\n\n\n# Add axis labels\nax[0].set_xlabel('x (kpc)', fontsize=22)\nax[0].set_xlabel('y (kpc)', fontsize=22)\n\n### Phase diagram is on the right panel\nax[1].hist2d(MW_Disk_x, MW_Disk_vy, bins=200, norm=LogNorm(),cmap='magma')\n\n#set axis limits\nax[1].set_xlim(-30,30)\n\n\n# Add axis labels\nax[1].set_xlabel('x (kpc)')\nax[1].set_xlabel('velocity along y axis (km/s)')\n\n\n\n## NEW: Rectangle Selector.     \nrs = mw.RectangleSelector( ax,                        # the axes to attach to\n                           callbackRectangle,         # the callback function\n                           drawtype='box',            # draw a box when selecting a region\n                           button=[1, 3],             # allow us to use left or right mouse button\n                                                      #button 1 is left mouse button\n                           minspanx=5, minspany=5,    # don't accept a box of fewer than 5 pixels\n                           spancoords='pixels' )      # units for above\n\n\nplt.connect(\"key_press_event\", onKeyPressed)\n\n\n"
    },
    "executionTime": "2020-04-22T04:45:43.116Z"
   },
   {
    "cell": {
     "executionCount": 41,
     "executionEventId": "a7c77005-b4a4-450e-bbfa-171d08ff096b",
     "hasError": false,
     "id": "ef9604f4-fcc9-48d8-8dec-ea3cf6349505",
     "outputs": [],
     "persistentId": "e9c4f6d9-1ba4-4ff6-81ad-0ca23be6be0e",
     "text": "def callbackRectangle( click, release ): # the events are click and release\n    print( f\"button {click.button} pressed\" )\n    print( f\"button {release.button} released\" )\n    extent = [ click.xdata, release.xdata, click.ydata, release.ydata ]\n    print( f\"box extent is {extent}\") \n    \n    # ADD - in order to zoom in reset the axes to the clicked box size\n    #ax[0].set_xlim(click.xdata, release.xdata)\n    #ax[0].set_ylim(click.ydata, release.ydata)\n    \n    # Create a rectangle\n    width = np.abs(release.xdata - click.xdata)\n    height = np.abs(click.ydata - release.ydata)\n    \n    Rect = plt.Rectangle((click.xdata,click.ydata), width, height, fill=False, color='yellow', linewidth=3)\n    ax[0].add_patch(Rect)\n    \n    # Use the selected region to find the corresponding particles in the phase diagram\n    index = np.where((MW_Disk_x>click.xdata)&(MW_Disk_x<release.xdata)&(MW_Disk_y>click.ydata)&(MW_Disk_y < release.ydata))\n    ax[1].scatter(MW_Disk_x[index], MW_Disk_vy[index])\n    \n    # Save the file\n    plt.savefig('Density_Velocity.png')"
    },
    "executionTime": "2020-04-22T04:47:18.068Z"
   },
   {
    "cell": {
     "executionCount": 42,
     "executionEventId": "656c73d9-5fcd-4538-bbd7-7d6af2c66d62",
     "hasError": true,
     "id": "e8a3b0ce-def2-406d-b3f1-3fd3463022eb",
     "outputs": [
      {
       "ename": "AttributeError",
       "evalue": "'numpy.ndarray' object has no attribute 'figure'",
       "output_type": "error",
       "traceback": [
        "\u001b[0;31m---------------------------------------------------------------------------\u001b[0m",
        "\u001b[0;31mAttributeError\u001b[0m                            Traceback (most recent call last)",
        "\u001b[0;32m<ipython-input-42-8cd94dbfcb81>\u001b[0m in \u001b[0;36m<module>\u001b[0;34m\u001b[0m\n\u001b[1;32m     49\u001b[0m                                                       \u001b[0;31m#button 1 is left mouse button\u001b[0m\u001b[0;34m\u001b[0m\u001b[0;34m\u001b[0m\u001b[0;34m\u001b[0m\u001b[0m\n\u001b[1;32m     50\u001b[0m                            \u001b[0mminspanx\u001b[0m\u001b[0;34m=\u001b[0m\u001b[0;36m5\u001b[0m\u001b[0;34m,\u001b[0m \u001b[0mminspany\u001b[0m\u001b[0;34m=\u001b[0m\u001b[0;36m5\u001b[0m\u001b[0;34m,\u001b[0m    \u001b[0;31m# don't accept a box of fewer than 5 pixels\u001b[0m\u001b[0;34m\u001b[0m\u001b[0;34m\u001b[0m\u001b[0m\n\u001b[0;32m---> 51\u001b[0;31m                            spancoords='pixels' )      # units for above\n\u001b[0m\u001b[1;32m     52\u001b[0m \u001b[0;34m\u001b[0m\u001b[0m\n\u001b[1;32m     53\u001b[0m \u001b[0;34m\u001b[0m\u001b[0m\n",
        "\u001b[0;32m/anaconda3/lib/python3.6/site-packages/matplotlib/widgets.py\u001b[0m in \u001b[0;36m__init__\u001b[0;34m(self, ax, onselect, drawtype, minspanx, minspany, useblit, lineprops, rectprops, spancoords, button, maxdist, marker_props, interactive, state_modifier_keys)\u001b[0m\n\u001b[1;32m   2077\u001b[0m         _SelectorWidget.__init__(self, ax, onselect, useblit=useblit,\n\u001b[1;32m   2078\u001b[0m                                  \u001b[0mbutton\u001b[0m\u001b[0;34m=\u001b[0m\u001b[0mbutton\u001b[0m\u001b[0;34m,\u001b[0m\u001b[0;34m\u001b[0m\u001b[0;34m\u001b[0m\u001b[0m\n\u001b[0;32m-> 2079\u001b[0;31m                                  state_modifier_keys=state_modifier_keys)\n\u001b[0m\u001b[1;32m   2080\u001b[0m \u001b[0;34m\u001b[0m\u001b[0m\n\u001b[1;32m   2081\u001b[0m         \u001b[0mself\u001b[0m\u001b[0;34m.\u001b[0m\u001b[0mto_draw\u001b[0m \u001b[0;34m=\u001b[0m \u001b[0;32mNone\u001b[0m\u001b[0;34m\u001b[0m\u001b[0;34m\u001b[0m\u001b[0m\n",
        "\u001b[0;32m/anaconda3/lib/python3.6/site-packages/matplotlib/widgets.py\u001b[0m in \u001b[0;36m__init__\u001b[0;34m(self, ax, onselect, useblit, button, state_modifier_keys)\u001b[0m\n\u001b[1;32m   1463\u001b[0m     def __init__(self, ax, onselect, useblit=False, button=None,\n\u001b[1;32m   1464\u001b[0m                  state_modifier_keys=None):\n\u001b[0;32m-> 1465\u001b[0;31m         \u001b[0mAxesWidget\u001b[0m\u001b[0;34m.\u001b[0m\u001b[0m__init__\u001b[0m\u001b[0;34m(\u001b[0m\u001b[0mself\u001b[0m\u001b[0;34m,\u001b[0m \u001b[0max\u001b[0m\u001b[0;34m)\u001b[0m\u001b[0;34m\u001b[0m\u001b[0;34m\u001b[0m\u001b[0m\n\u001b[0m\u001b[1;32m   1466\u001b[0m \u001b[0;34m\u001b[0m\u001b[0m\n\u001b[1;32m   1467\u001b[0m         \u001b[0mself\u001b[0m\u001b[0;34m.\u001b[0m\u001b[0mvisible\u001b[0m \u001b[0;34m=\u001b[0m \u001b[0;32mTrue\u001b[0m\u001b[0;34m\u001b[0m\u001b[0;34m\u001b[0m\u001b[0m\n",
        "\u001b[0;32m/anaconda3/lib/python3.6/site-packages/matplotlib/widgets.py\u001b[0m in \u001b[0;36m__init__\u001b[0;34m(self, ax)\u001b[0m\n\u001b[1;32m    114\u001b[0m     \u001b[0;32mdef\u001b[0m \u001b[0m__init__\u001b[0m\u001b[0;34m(\u001b[0m\u001b[0mself\u001b[0m\u001b[0;34m,\u001b[0m \u001b[0max\u001b[0m\u001b[0;34m)\u001b[0m\u001b[0;34m:\u001b[0m\u001b[0;34m\u001b[0m\u001b[0;34m\u001b[0m\u001b[0m\n\u001b[1;32m    115\u001b[0m         \u001b[0mself\u001b[0m\u001b[0;34m.\u001b[0m\u001b[0max\u001b[0m \u001b[0;34m=\u001b[0m \u001b[0max\u001b[0m\u001b[0;34m\u001b[0m\u001b[0;34m\u001b[0m\u001b[0m\n\u001b[0;32m--> 116\u001b[0;31m         \u001b[0mself\u001b[0m\u001b[0;34m.\u001b[0m\u001b[0mcanvas\u001b[0m \u001b[0;34m=\u001b[0m \u001b[0max\u001b[0m\u001b[0;34m.\u001b[0m\u001b[0mfigure\u001b[0m\u001b[0;34m.\u001b[0m\u001b[0mcanvas\u001b[0m\u001b[0;34m\u001b[0m\u001b[0;34m\u001b[0m\u001b[0m\n\u001b[0m\u001b[1;32m    117\u001b[0m         \u001b[0mself\u001b[0m\u001b[0;34m.\u001b[0m\u001b[0mcids\u001b[0m \u001b[0;34m=\u001b[0m \u001b[0;34m[\u001b[0m\u001b[0;34m]\u001b[0m\u001b[0;34m\u001b[0m\u001b[0;34m\u001b[0m\u001b[0m\n\u001b[1;32m    118\u001b[0m \u001b[0;34m\u001b[0m\u001b[0m\n",
        "\u001b[0;31mAttributeError\u001b[0m: 'numpy.ndarray' object has no attribute 'figure'"
       ]
      }
     ],
     "persistentId": "0a67f017-3bb6-49f5-8564-c656a63a140f",
     "text": "# Step 2) \n# Add not just the density but also the phase diagram as a separate panel.\n# Copy over the plotting code (2D histogram) and modify the figure so that there are now two panels.\n\n# Add a phase diagram: X vs VY \n\n# plot the particle density for the MW Disk and then zoom in on a region of the disk \n\nfig, ax = plt.subplots(nrows=1, ncols=2, figsize =(10 ,10))\n# ax[0] --> Density\n# ax[1] --> Phase Diagram\n\n### 2d histogram is on the left panel\nax[0].hist2d(MW_Disk_x,MW_Disk_y, bins=200, norm=LogNorm(), cmap='magma')\n#plt.colorbar(label='Number  of  Particles  per  bin')\n\n# over plot contours\ndensity_contour(MW_Disk_x, MW_Disk_y, 80, 80, ax=ax[0], \\\n                colors=['white'])\n   \n    \n#set axis limits\nax[0].set_ylim(-30,30)\nax[0].set_xlim(-30,30)\n\n\n# Add axis labels\nax[0].set_xlabel('x (kpc)', fontsize=22)\nax[0].set_xlabel('y (kpc)', fontsize=22)\n\n### Phase diagram is on the right panel\nax[1].hist2d(MW_Disk_x, MW_Disk_vy, bins=200, norm=LogNorm(),cmap='magma')\n\n#set axis limits\nax[1].set_xlim(-30,30)\n\n\n# Add axis labels\nax[1].set_xlabel('x (kpc)')\nax[1].set_xlabel('velocity along y axis (km/s)')\n\n\n\n## NEW: Rectangle Selector.     \nrs = mw.RectangleSelector( ax,                        # the axes to attach to\n                           callbackRectangle,         # the callback function\n                           drawtype='box',            # draw a box when selecting a region\n                           button=[1, 3],             # allow us to use left or right mouse button\n                                                      #button 1 is left mouse button\n                           minspanx=5, minspany=5,    # don't accept a box of fewer than 5 pixels\n                           spancoords='pixels' )      # units for above\n\n\nplt.connect(\"key_press_event\", onKeyPressed)\n\n\n"
    },
    "executionTime": "2020-04-22T04:47:21.434Z"
   },
   {
    "cell": {
     "executionCount": 43,
     "executionEventId": "370830f9-934f-4ecd-a432-d3b2a256dc6f",
     "hasError": false,
     "id": "ef9604f4-fcc9-48d8-8dec-ea3cf6349505",
     "outputs": [],
     "persistentId": "e9c4f6d9-1ba4-4ff6-81ad-0ca23be6be0e",
     "text": "def callbackRectangle( click, release ): # the events are click and release\n    print( f\"button {click.button} pressed\" )\n    print( f\"button {release.button} released\" )\n    extent = [ click.xdata, release.xdata, click.ydata, release.ydata ]\n    print( f\"box extent is {extent}\") \n    \n    # ADD - in order to zoom in reset the axes to the clicked box size\n    #ax[0].set_xlim(click.xdata, release.xdata)\n    #ax[0].set_ylim(click.ydata, release.ydata)\n    \n    # Create a rectangle\n    width = np.abs(release.xdata - click.xdata)\n    height = np.abs(click.ydata - release.ydata)\n    \n    Rect = plt.Rectangle((click.xdata,click.ydata), width, height, fill=False, color='yellow', linewidth=3)\n    ax[0].add_patch(Rect)\n    \n    # Use the selected region to find the corresponding particles in the phase diagram\n    index = np.where( (MW_Disk_x>click.xdata) & (MW_Disk_x<release.xdata) & (MW_Disk_y > click.ydata) & (MW_Disk_y < release.ydata) )\n    ax[1].scatter(MW_Disk_x[index], MW_Disk_vy[index])\n    \n    # Save the file\n    plt.savefig('Density_Velocity.png')"
    },
    "executionTime": "2020-04-22T04:49:26.375Z"
   },
   {
    "cell": {
     "executionCount": 44,
     "executionEventId": "d7d5a83f-8086-453d-bb0a-dbe8e0567e4f",
     "hasError": false,
     "id": "becdcc90-fd2a-4aae-ae41-b7b8ca51ba91",
     "outputs": [],
     "persistentId": "67a148e7-97a5-4df2-a6ed-a58b208fcb98",
     "text": "# add the ability to reset the image using an \"on key press\" function \ndef onKeyPressed(event): \n    if event.key in ['R', 'r']:\n        # ADD - to zoom back out reset the axes\n        ax.set_xlim(-30,30)\n        ax.set_ylim(-30,30)\n\n"
    },
    "executionTime": "2020-04-22T04:49:29.973Z"
   },
   {
    "cell": {
     "executionCount": 45,
     "executionEventId": "b52c43c6-52bf-49b7-97f3-d0f208eaed56",
     "hasError": true,
     "id": "e8a3b0ce-def2-406d-b3f1-3fd3463022eb",
     "outputs": [
      {
       "ename": "AttributeError",
       "evalue": "'numpy.ndarray' object has no attribute 'figure'",
       "output_type": "error",
       "traceback": [
        "\u001b[0;31m---------------------------------------------------------------------------\u001b[0m",
        "\u001b[0;31mAttributeError\u001b[0m                            Traceback (most recent call last)",
        "\u001b[0;32m<ipython-input-45-8cd94dbfcb81>\u001b[0m in \u001b[0;36m<module>\u001b[0;34m\u001b[0m\n\u001b[1;32m     49\u001b[0m                                                       \u001b[0;31m#button 1 is left mouse button\u001b[0m\u001b[0;34m\u001b[0m\u001b[0;34m\u001b[0m\u001b[0;34m\u001b[0m\u001b[0m\n\u001b[1;32m     50\u001b[0m                            \u001b[0mminspanx\u001b[0m\u001b[0;34m=\u001b[0m\u001b[0;36m5\u001b[0m\u001b[0;34m,\u001b[0m \u001b[0mminspany\u001b[0m\u001b[0;34m=\u001b[0m\u001b[0;36m5\u001b[0m\u001b[0;34m,\u001b[0m    \u001b[0;31m# don't accept a box of fewer than 5 pixels\u001b[0m\u001b[0;34m\u001b[0m\u001b[0;34m\u001b[0m\u001b[0m\n\u001b[0;32m---> 51\u001b[0;31m                            spancoords='pixels' )      # units for above\n\u001b[0m\u001b[1;32m     52\u001b[0m \u001b[0;34m\u001b[0m\u001b[0m\n\u001b[1;32m     53\u001b[0m \u001b[0;34m\u001b[0m\u001b[0m\n",
        "\u001b[0;32m/anaconda3/lib/python3.6/site-packages/matplotlib/widgets.py\u001b[0m in \u001b[0;36m__init__\u001b[0;34m(self, ax, onselect, drawtype, minspanx, minspany, useblit, lineprops, rectprops, spancoords, button, maxdist, marker_props, interactive, state_modifier_keys)\u001b[0m\n\u001b[1;32m   2077\u001b[0m         _SelectorWidget.__init__(self, ax, onselect, useblit=useblit,\n\u001b[1;32m   2078\u001b[0m                                  \u001b[0mbutton\u001b[0m\u001b[0;34m=\u001b[0m\u001b[0mbutton\u001b[0m\u001b[0;34m,\u001b[0m\u001b[0;34m\u001b[0m\u001b[0;34m\u001b[0m\u001b[0m\n\u001b[0;32m-> 2079\u001b[0;31m                                  state_modifier_keys=state_modifier_keys)\n\u001b[0m\u001b[1;32m   2080\u001b[0m \u001b[0;34m\u001b[0m\u001b[0m\n\u001b[1;32m   2081\u001b[0m         \u001b[0mself\u001b[0m\u001b[0;34m.\u001b[0m\u001b[0mto_draw\u001b[0m \u001b[0;34m=\u001b[0m \u001b[0;32mNone\u001b[0m\u001b[0;34m\u001b[0m\u001b[0;34m\u001b[0m\u001b[0m\n",
        "\u001b[0;32m/anaconda3/lib/python3.6/site-packages/matplotlib/widgets.py\u001b[0m in \u001b[0;36m__init__\u001b[0;34m(self, ax, onselect, useblit, button, state_modifier_keys)\u001b[0m\n\u001b[1;32m   1463\u001b[0m     def __init__(self, ax, onselect, useblit=False, button=None,\n\u001b[1;32m   1464\u001b[0m                  state_modifier_keys=None):\n\u001b[0;32m-> 1465\u001b[0;31m         \u001b[0mAxesWidget\u001b[0m\u001b[0;34m.\u001b[0m\u001b[0m__init__\u001b[0m\u001b[0;34m(\u001b[0m\u001b[0mself\u001b[0m\u001b[0;34m,\u001b[0m \u001b[0max\u001b[0m\u001b[0;34m)\u001b[0m\u001b[0;34m\u001b[0m\u001b[0;34m\u001b[0m\u001b[0m\n\u001b[0m\u001b[1;32m   1466\u001b[0m \u001b[0;34m\u001b[0m\u001b[0m\n\u001b[1;32m   1467\u001b[0m         \u001b[0mself\u001b[0m\u001b[0;34m.\u001b[0m\u001b[0mvisible\u001b[0m \u001b[0;34m=\u001b[0m \u001b[0;32mTrue\u001b[0m\u001b[0;34m\u001b[0m\u001b[0;34m\u001b[0m\u001b[0m\n",
        "\u001b[0;32m/anaconda3/lib/python3.6/site-packages/matplotlib/widgets.py\u001b[0m in \u001b[0;36m__init__\u001b[0;34m(self, ax)\u001b[0m\n\u001b[1;32m    114\u001b[0m     \u001b[0;32mdef\u001b[0m \u001b[0m__init__\u001b[0m\u001b[0;34m(\u001b[0m\u001b[0mself\u001b[0m\u001b[0;34m,\u001b[0m \u001b[0max\u001b[0m\u001b[0;34m)\u001b[0m\u001b[0;34m:\u001b[0m\u001b[0;34m\u001b[0m\u001b[0;34m\u001b[0m\u001b[0m\n\u001b[1;32m    115\u001b[0m         \u001b[0mself\u001b[0m\u001b[0;34m.\u001b[0m\u001b[0max\u001b[0m \u001b[0;34m=\u001b[0m \u001b[0max\u001b[0m\u001b[0;34m\u001b[0m\u001b[0;34m\u001b[0m\u001b[0m\n\u001b[0;32m--> 116\u001b[0;31m         \u001b[0mself\u001b[0m\u001b[0;34m.\u001b[0m\u001b[0mcanvas\u001b[0m \u001b[0;34m=\u001b[0m \u001b[0max\u001b[0m\u001b[0;34m.\u001b[0m\u001b[0mfigure\u001b[0m\u001b[0;34m.\u001b[0m\u001b[0mcanvas\u001b[0m\u001b[0;34m\u001b[0m\u001b[0;34m\u001b[0m\u001b[0m\n\u001b[0m\u001b[1;32m    117\u001b[0m         \u001b[0mself\u001b[0m\u001b[0;34m.\u001b[0m\u001b[0mcids\u001b[0m \u001b[0;34m=\u001b[0m \u001b[0;34m[\u001b[0m\u001b[0;34m]\u001b[0m\u001b[0;34m\u001b[0m\u001b[0;34m\u001b[0m\u001b[0m\n\u001b[1;32m    118\u001b[0m \u001b[0;34m\u001b[0m\u001b[0m\n",
        "\u001b[0;31mAttributeError\u001b[0m: 'numpy.ndarray' object has no attribute 'figure'"
       ]
      }
     ],
     "persistentId": "0a67f017-3bb6-49f5-8564-c656a63a140f",
     "text": "# Step 2) \n# Add not just the density but also the phase diagram as a separate panel.\n# Copy over the plotting code (2D histogram) and modify the figure so that there are now two panels.\n\n# Add a phase diagram: X vs VY \n\n# plot the particle density for the MW Disk and then zoom in on a region of the disk \n\nfig, ax = plt.subplots(nrows=1, ncols=2, figsize =(10 ,10))\n# ax[0] --> Density\n# ax[1] --> Phase Diagram\n\n### 2d histogram is on the left panel\nax[0].hist2d(MW_Disk_x,MW_Disk_y, bins=200, norm=LogNorm(), cmap='magma')\n#plt.colorbar(label='Number  of  Particles  per  bin')\n\n# over plot contours\ndensity_contour(MW_Disk_x, MW_Disk_y, 80, 80, ax=ax[0], \\\n                colors=['white'])\n   \n    \n#set axis limits\nax[0].set_ylim(-30,30)\nax[0].set_xlim(-30,30)\n\n\n# Add axis labels\nax[0].set_xlabel('x (kpc)', fontsize=22)\nax[0].set_xlabel('y (kpc)', fontsize=22)\n\n### Phase diagram is on the right panel\nax[1].hist2d(MW_Disk_x, MW_Disk_vy, bins=200, norm=LogNorm(),cmap='magma')\n\n#set axis limits\nax[1].set_xlim(-30,30)\n\n\n# Add axis labels\nax[1].set_xlabel('x (kpc)')\nax[1].set_xlabel('velocity along y axis (km/s)')\n\n\n\n## NEW: Rectangle Selector.     \nrs = mw.RectangleSelector( ax,                        # the axes to attach to\n                           callbackRectangle,         # the callback function\n                           drawtype='box',            # draw a box when selecting a region\n                           button=[1, 3],             # allow us to use left or right mouse button\n                                                      #button 1 is left mouse button\n                           minspanx=5, minspany=5,    # don't accept a box of fewer than 5 pixels\n                           spancoords='pixels' )      # units for above\n\n\nplt.connect(\"key_press_event\", onKeyPressed)\n\n\n"
    },
    "executionTime": "2020-04-22T04:49:31.134Z"
   },
   {
    "cell": {
     "executionCount": 46,
     "executionEventId": "51b354c3-6c37-42d9-8b3c-c05a8be2a324",
     "hasError": true,
     "id": "e8a3b0ce-def2-406d-b3f1-3fd3463022eb",
     "outputs": [
      {
       "ename": "AttributeError",
       "evalue": "'numpy.ndarray' object has no attribute 'figure'",
       "output_type": "error",
       "traceback": [
        "\u001b[0;31m---------------------------------------------------------------------------\u001b[0m",
        "\u001b[0;31mAttributeError\u001b[0m                            Traceback (most recent call last)",
        "\u001b[0;32m<ipython-input-46-996e13d8ffb6>\u001b[0m in \u001b[0;36m<module>\u001b[0;34m\u001b[0m\n\u001b[1;32m     49\u001b[0m                                                       \u001b[0;31m#button 1 is left mouse button\u001b[0m\u001b[0;34m\u001b[0m\u001b[0;34m\u001b[0m\u001b[0;34m\u001b[0m\u001b[0m\n\u001b[1;32m     50\u001b[0m                            \u001b[0mminspanx\u001b[0m\u001b[0;34m=\u001b[0m\u001b[0;36m10\u001b[0m\u001b[0;34m,\u001b[0m \u001b[0mminspany\u001b[0m\u001b[0;34m=\u001b[0m\u001b[0;36m10\u001b[0m\u001b[0;34m,\u001b[0m    \u001b[0;31m# don't accept a box of fewer than 5 pixels\u001b[0m\u001b[0;34m\u001b[0m\u001b[0;34m\u001b[0m\u001b[0m\n\u001b[0;32m---> 51\u001b[0;31m                            spancoords='pixels' )      # units for above\n\u001b[0m\u001b[1;32m     52\u001b[0m \u001b[0;34m\u001b[0m\u001b[0m\n\u001b[1;32m     53\u001b[0m \u001b[0;34m\u001b[0m\u001b[0m\n",
        "\u001b[0;32m/anaconda3/lib/python3.6/site-packages/matplotlib/widgets.py\u001b[0m in \u001b[0;36m__init__\u001b[0;34m(self, ax, onselect, drawtype, minspanx, minspany, useblit, lineprops, rectprops, spancoords, button, maxdist, marker_props, interactive, state_modifier_keys)\u001b[0m\n\u001b[1;32m   2077\u001b[0m         _SelectorWidget.__init__(self, ax, onselect, useblit=useblit,\n\u001b[1;32m   2078\u001b[0m                                  \u001b[0mbutton\u001b[0m\u001b[0;34m=\u001b[0m\u001b[0mbutton\u001b[0m\u001b[0;34m,\u001b[0m\u001b[0;34m\u001b[0m\u001b[0;34m\u001b[0m\u001b[0m\n\u001b[0;32m-> 2079\u001b[0;31m                                  state_modifier_keys=state_modifier_keys)\n\u001b[0m\u001b[1;32m   2080\u001b[0m \u001b[0;34m\u001b[0m\u001b[0m\n\u001b[1;32m   2081\u001b[0m         \u001b[0mself\u001b[0m\u001b[0;34m.\u001b[0m\u001b[0mto_draw\u001b[0m \u001b[0;34m=\u001b[0m \u001b[0;32mNone\u001b[0m\u001b[0;34m\u001b[0m\u001b[0;34m\u001b[0m\u001b[0m\n",
        "\u001b[0;32m/anaconda3/lib/python3.6/site-packages/matplotlib/widgets.py\u001b[0m in \u001b[0;36m__init__\u001b[0;34m(self, ax, onselect, useblit, button, state_modifier_keys)\u001b[0m\n\u001b[1;32m   1463\u001b[0m     def __init__(self, ax, onselect, useblit=False, button=None,\n\u001b[1;32m   1464\u001b[0m                  state_modifier_keys=None):\n\u001b[0;32m-> 1465\u001b[0;31m         \u001b[0mAxesWidget\u001b[0m\u001b[0;34m.\u001b[0m\u001b[0m__init__\u001b[0m\u001b[0;34m(\u001b[0m\u001b[0mself\u001b[0m\u001b[0;34m,\u001b[0m \u001b[0max\u001b[0m\u001b[0;34m)\u001b[0m\u001b[0;34m\u001b[0m\u001b[0;34m\u001b[0m\u001b[0m\n\u001b[0m\u001b[1;32m   1466\u001b[0m \u001b[0;34m\u001b[0m\u001b[0m\n\u001b[1;32m   1467\u001b[0m         \u001b[0mself\u001b[0m\u001b[0;34m.\u001b[0m\u001b[0mvisible\u001b[0m \u001b[0;34m=\u001b[0m \u001b[0;32mTrue\u001b[0m\u001b[0;34m\u001b[0m\u001b[0;34m\u001b[0m\u001b[0m\n",
        "\u001b[0;32m/anaconda3/lib/python3.6/site-packages/matplotlib/widgets.py\u001b[0m in \u001b[0;36m__init__\u001b[0;34m(self, ax)\u001b[0m\n\u001b[1;32m    114\u001b[0m     \u001b[0;32mdef\u001b[0m \u001b[0m__init__\u001b[0m\u001b[0;34m(\u001b[0m\u001b[0mself\u001b[0m\u001b[0;34m,\u001b[0m \u001b[0max\u001b[0m\u001b[0;34m)\u001b[0m\u001b[0;34m:\u001b[0m\u001b[0;34m\u001b[0m\u001b[0;34m\u001b[0m\u001b[0m\n\u001b[1;32m    115\u001b[0m         \u001b[0mself\u001b[0m\u001b[0;34m.\u001b[0m\u001b[0max\u001b[0m \u001b[0;34m=\u001b[0m \u001b[0max\u001b[0m\u001b[0;34m\u001b[0m\u001b[0;34m\u001b[0m\u001b[0m\n\u001b[0;32m--> 116\u001b[0;31m         \u001b[0mself\u001b[0m\u001b[0;34m.\u001b[0m\u001b[0mcanvas\u001b[0m \u001b[0;34m=\u001b[0m \u001b[0max\u001b[0m\u001b[0;34m.\u001b[0m\u001b[0mfigure\u001b[0m\u001b[0;34m.\u001b[0m\u001b[0mcanvas\u001b[0m\u001b[0;34m\u001b[0m\u001b[0;34m\u001b[0m\u001b[0m\n\u001b[0m\u001b[1;32m    117\u001b[0m         \u001b[0mself\u001b[0m\u001b[0;34m.\u001b[0m\u001b[0mcids\u001b[0m \u001b[0;34m=\u001b[0m \u001b[0;34m[\u001b[0m\u001b[0;34m]\u001b[0m\u001b[0;34m\u001b[0m\u001b[0;34m\u001b[0m\u001b[0m\n\u001b[1;32m    118\u001b[0m \u001b[0;34m\u001b[0m\u001b[0m\n",
        "\u001b[0;31mAttributeError\u001b[0m: 'numpy.ndarray' object has no attribute 'figure'"
       ]
      }
     ],
     "persistentId": "0a67f017-3bb6-49f5-8564-c656a63a140f",
     "text": "# Step 2) \n# Add not just the density but also the phase diagram as a separate panel.\n# Copy over the plotting code (2D histogram) and modify the figure so that there are now two panels.\n\n# Add a phase diagram: X vs VY \n\n# plot the particle density for the MW Disk and then zoom in on a region of the disk \n\nfig, ax = plt.subplots(nrows=1, ncols=2, figsize =(10 ,10))\n# ax[0] --> Density\n# ax[1] --> Phase Diagram\n\n### 2d histogram is on the left panel\nax[0].hist2d(MW_Disk_x,MW_Disk_y, bins=200, norm=LogNorm(), cmap='magma')\n#plt.colorbar(label='Number  of  Particles  per  bin')\n\n# over plot contours\ndensity_contour(MW_Disk_x, MW_Disk_y, 80, 80, ax=ax[0], \\\n                colors=['white'])\n   \n    \n#set axis limits\nax[0].set_ylim(-30,30)\nax[0].set_xlim(-30,30)\n\n\n# Add axis labels\nax[0].set_xlabel('x (kpc)', fontsize=22)\nax[0].set_xlabel('y (kpc)', fontsize=22)\n\n### Phase diagram is on the right panel\nax[1].hist2d(MW_Disk_x, MW_Disk_vy, bins=200, norm=LogNorm(),cmap='magma')\n\n#set axis limits\nax[1].set_xlim(-30,30)\n\n\n# Add axis labels\nax[1].set_xlabel('x (kpc)')\nax[1].set_xlabel('velocity along y axis (km/s)')\n\n\n\n## NEW: Rectangle Selector.     \nrs = mw.RectangleSelector( ax,                        # the axes to attach to\n                           callbackRectangle,         # the callback function\n                           drawtype='box',            # draw a box when selecting a region\n                           button=[1, 3],             # allow us to use left or right mouse button\n                                                      #button 1 is left mouse button\n                           minspanx=10, minspany=10,    # don't accept a box of fewer than 5 pixels\n                           spancoords='pixels' )      # units for above\n\n\nplt.connect(\"key_press_event\", onKeyPressed)\n\n\n"
    },
    "executionTime": "2020-04-22T04:50:38.761Z"
   },
   {
    "cell": {
     "executionCount": 47,
     "executionEventId": "b3c6ab51-7a25-4897-b44a-1cf4303c3f11",
     "hasError": false,
     "id": "5f2e9a29-06aa-4d37-a3b7-0ca5ee373c07",
     "outputs": [
      {
       "data": {
        "text/plain": "13"
       },
       "execution_count": 47,
       "metadata": {},
       "output_type": "execute_result"
      }
     ],
     "persistentId": "fa5df1e4-2456-4cc4-b91f-e7a65be16913",
     "text": "# plot the particle density for the MW Disk and then zoom in on a region of the disk \n\nfig, ax = plt.subplots(figsize =(10 ,10))                             \n\n# 2d histogram \nplt.hist2d(MW_Disk_x,MW_Disk_y, bins=200, norm=LogNorm(), cmap='magma')\nplt.colorbar(label='Number  of  Particles  per  bin')\n\n# over plot contours\ndensity_contour(MW_Disk_x, MW_Disk_y, 80, 80, ax=ax, \\\n                colors=['white'])\n   \n    \n## NEW: Rectangle Selector.     \nrs = mw.RectangleSelector( ax,                        # the axes to attach to\n                           callbackRectangle,         # the callback function\n                           drawtype='box',            # draw a box when selecting a region\n                           button=[1, 3],             # allow us to use left or right mouse button\n                                                      #button 1 is left mouse button\n                           minspanx=5, minspany=5,    # don't accept a box of fewer than 5 pixels\n                           spancoords='pixels' )      # units for above\n\n\n#set axis limits\nax.set_ylim(-30,30)\nax.set_xlim(-30,30)\n\n\n# Add axis labels\nplt.xlabel('x (kpc)', fontsize=22)\nplt.ylabel('y (kpc)', fontsize=22)\n\n# ADDED THIS\n# to detect the 'R' key press to reset the image\nplt.connect(\"key_press_event\", onKeyPressed)\n"
    },
    "executionTime": "2020-04-22T04:51:24.894Z"
   },
   {
    "cell": {
     "executionCount": 48,
     "executionEventId": "0ad4d0f2-b076-4c91-bd1d-2d5c8beae6b9",
     "hasError": false,
     "id": "bb4ed9ef-73bd-457a-acd1-dc2c55e932f5",
     "outputs": [],
     "persistentId": "d5bf66f0-bb43-433d-8da9-5a846a0a2117",
     "text": "\ndef callbackRectangle( click, release ): # the events are click and release\n    print( f\"button {click.button} pressed\" )\n    print( f\"button {release.button} released\" )\n    extent = [ click.xdata, release.xdata, click.ydata, release.ydata ]\n    print( f\"box extent is {extent}\") \n    \n    # ADD - in order to zoom in reset the axes to the clicked box size\n    ax.set_xlim(click.xdata, release.xdata)\n    ax.set_ylim(click.ydata, release.ydata)\n\n    # Save the file\n    plt.savefig('Density_Zoom.png')"
    },
    "executionTime": "2020-04-22T04:51:43.446Z"
   },
   {
    "cell": {
     "executionCount": 49,
     "executionEventId": "c9573ff9-7b2c-4c92-9cba-b83e4908fc5c",
     "hasError": false,
     "id": "1dbd64c7-733a-44e3-a6a5-291c3cf3f2a5",
     "outputs": [],
     "persistentId": "dcbc9d70-a02e-4aa2-baa9-121b197df1fe",
     "text": "# add the ability to reset the image using an \"on key press\" function \ndef onKeyPressed(event): \n    if event.key in ['R', 'r']:\n        # ADD - to zoom back out reset the axes\n        ax.set_xlim(-30,30)\n        ax.set_ylim(-30,30)\n"
    },
    "executionTime": "2020-04-22T04:51:44.033Z"
   },
   {
    "cell": {
     "executionCount": 50,
     "executionEventId": "13431391-5b69-422e-af15-9e9a5d0c2eea",
     "hasError": false,
     "id": "5f2e9a29-06aa-4d37-a3b7-0ca5ee373c07",
     "outputs": [
      {
       "data": {
        "text/plain": "13"
       },
       "execution_count": 50,
       "metadata": {},
       "output_type": "execute_result"
      }
     ],
     "persistentId": "fa5df1e4-2456-4cc4-b91f-e7a65be16913",
     "text": "# plot the particle density for the MW Disk and then zoom in on a region of the disk \n\nfig, ax = plt.subplots(figsize =(10 ,10))                             \n\n# 2d histogram \nplt.hist2d(MW_Disk_x,MW_Disk_y, bins=200, norm=LogNorm(), cmap='magma')\nplt.colorbar(label='Number  of  Particles  per  bin')\n\n# over plot contours\ndensity_contour(MW_Disk_x, MW_Disk_y, 80, 80, ax=ax, \\\n                colors=['white'])\n   \n    \n## NEW: Rectangle Selector.     \nrs = mw.RectangleSelector( ax,                        # the axes to attach to\n                           callbackRectangle,         # the callback function\n                           drawtype='box',            # draw a box when selecting a region\n                           button=[1, 3],             # allow us to use left or right mouse button\n                                                      #button 1 is left mouse button\n                           minspanx=5, minspany=5,    # don't accept a box of fewer than 5 pixels\n                           spancoords='pixels' )      # units for above\n\n\n#set axis limits\nax.set_ylim(-30,30)\nax.set_xlim(-30,30)\n\n\n# Add axis labels\nplt.xlabel('x (kpc)', fontsize=22)\nplt.ylabel('y (kpc)', fontsize=22)\n\n# ADDED THIS\n# to detect the 'R' key press to reset the image\nplt.connect(\"key_press_event\", onKeyPressed)\n"
    },
    "executionTime": "2020-04-22T04:51:44.887Z"
   },
   {
    "cell": {
     "executionCount": 51,
     "executionEventId": "8fa5d1b9-268b-417a-bfc2-837095a267dc",
     "hasError": false,
     "id": "ef9604f4-fcc9-48d8-8dec-ea3cf6349505",
     "outputs": [],
     "persistentId": "e9c4f6d9-1ba4-4ff6-81ad-0ca23be6be0e",
     "text": "def callbackRectangle( click, release ): # the events are click and release\n    print( f\"button {click.button} pressed\" )\n    print( f\"button {release.button} released\" )\n    extent = [ click.xdata, release.xdata, click.ydata, release.ydata ]\n    print( f\"box extent is {extent}\") \n    \n    # ADD - in order to zoom in reset the axes to the clicked box size\n    #ax[0].set_xlim(click.xdata, release.xdata)\n    #ax[0].set_ylim(click.ydata, release.ydata)\n    \n    # Create a rectangle\n    width = np.abs(release.xdata - click.xdata)\n    height = np.abs(click.ydata - release.ydata)\n    \n    Rect = plt.Rectangle((click.xdata,click.ydata), width, height, fill=False, color='yellow', linewidth=3)\n    ax[0].add_patch(Rect)\n    \n    # Use the selected region to find the corresponding particles in the phase diagram\n    index = np.where( (MW_Disk_x>click.xdata) & (MW_Disk_x<release.xdata) & (MW_Disk_y > click.ydata) & (MW_Disk_y < release.ydata) )\n    ax[1].scatter(MW_Disk_x[index], MW_Disk_vy[index])\n    \n    # Save the file\n    plt.savefig('Density_Velocity.png')"
    },
    "executionTime": "2020-04-22T04:53:12.419Z"
   },
   {
    "cell": {
     "executionCount": 52,
     "executionEventId": "b83d4225-ff2e-4b58-a656-74a0353aa911",
     "hasError": false,
     "id": "becdcc90-fd2a-4aae-ae41-b7b8ca51ba91",
     "outputs": [],
     "persistentId": "67a148e7-97a5-4df2-a6ed-a58b208fcb98",
     "text": "# add the ability to reset the image using an \"on key press\" function \ndef onKeyPressed(event): \n    if event.key in ['R', 'r']:\n        # ADD - to zoom back out reset the axes\n        ax.set_xlim(-30,30)\n        ax.set_ylim(-30,30)\n\n"
    },
    "executionTime": "2020-04-22T04:53:13.141Z"
   },
   {
    "cell": {
     "executionCount": 1,
     "executionEventId": "ce0c904f-672c-4587-a6cb-5a0a0559ce98",
     "hasError": false,
     "id": "aefb1a83-4546-4d6a-b478-4ce0ebb45ba3",
     "outputs": [],
     "persistentId": "cfe33b60-1c32-4a6a-bdc7-de8c5fa07789",
     "text": "%matplotlib qt\n# enabling windows to pop up and be interactive\n\nimport matplotlib.widgets as mw  # get access to the widgets\n\n\n# external modules\nimport matplotlib\nimport matplotlib.pyplot as plt\nimport matplotlib.colors as colors\nfrom matplotlib.colors import LogNorm\nimport numpy as np\n\n# my modules \nfrom ReadFile import Read\nfrom CenterOfMass2 import CenterOfMass\nfrom MassProfile import MassProfile\n\n# I took the code from Lab 7 for making contours and made it into a separate script\n# NOTE: it is more organized to keep functions in separate scripts \n# and then call them when you want to e.g. make plots or do some analysis. \nfrom contour import density_contour"
    },
    "executionTime": "2020-04-22T04:53:35.721Z"
   },
   {
    "cell": {
     "executionCount": 2,
     "executionEventId": "bc90e113-170a-4557-bd8a-9ac87ed383ad",
     "hasError": false,
     "id": "41c7906f-b120-4620-9567-cc5da747cff4",
     "outputs": [],
     "persistentId": "70aad473-183c-4d4a-9eb4-f677aabfd865",
     "text": "# Load in disk particles centered on the MW\n# this is from the HighRes data files on nimoy so it might take a bit of time to load\nCOM = CenterOfMass(\"MW_000.txt\",2)"
    },
    "executionTime": "2020-04-22T04:53:37.460Z"
   },
   {
    "cell": {
     "executionCount": 3,
     "executionEventId": "2a9661c7-7bb7-4f24-934b-19ba938618f1",
     "hasError": false,
     "id": "04f2e74d-13b6-41a9-bf1b-e620fef590f7",
     "outputs": [],
     "persistentId": "39aa3d07-ea93-491e-b104-7bf8fabb0e98",
     "text": "# Compute COM of the MW at the new position using disk particles\nCOMP = COM.COM_P(0.1, 2)\nCOMV = COM.COM_V(COMP[0],COMP[1],COMP[2])\n# Determine positions of disk particles relative to COM \nMW_Disk_x = COM.x - COMP[0].value \nMW_Disk_y = COM.y - COMP[1].value \n\n# Also store the disk velocity in the y direction\nMW_Disk_vy = COM.vy - COMV[1].value"
    },
    "executionTime": "2020-04-22T04:53:42.179Z"
   },
   {
    "cell": {
     "executionCount": 4,
     "executionEventId": "4a3f472f-8fee-4318-9f0f-936250f0a911",
     "hasError": false,
     "id": "25e88cdc-c425-4966-86a9-973cee2a95e3",
     "outputs": [],
     "persistentId": "20aa0990-7c81-4d88-a99e-0777dce0cf8c",
     "text": "# Plot the disk of the MW with contours. \n\n\n# MW Disk Density \nfig, ax= plt.subplots(figsize=(10, 10))\n\n## ADD HERE\n# plot the particle density for MW using plt.hist2d \n# can modify bin number (e.g. bin =100 for low res files)\nplt.hist2d(MW_Disk_x, MW_Disk_y, bins = 200, norm = LogNorm(), cmap = 'magma')\nplt.colorbar(label = 'Number of Disk Particles per bin')\n\n\n# note: MW_Disk.x and MW_Disk.y won't be exactly at 0,0 because i was lazy and didn't take out the center of mass pos\n\n#### ADD HERE \n# call density_contour to add contours\n# density_contour(x pos, y pos, contour res, contour res, axis, colors=[colors,colors])\n\ndensity_contour(MW_Disk_x, MW_Disk_y, 80, 80, ax=ax, colors=['white'])\n\n# Add axis labels\nplt.xlabel('x (kpc)', fontsize=22)\nplt.ylabel('y (kpc)', fontsize=22)\n\n#set axis limits\nplt.ylim(-30,30)\nplt.xlim(-30,30)\n\n#adjust tick label font size\nlabel_size = 22\nmatplotlib.rcParams['xtick.labelsize'] = label_size \nmatplotlib.rcParams['ytick.labelsize'] = label_size\n"
    },
    "executionTime": "2020-04-22T04:53:43.565Z"
   },
   {
    "cell": {
     "executionCount": 5,
     "executionEventId": "49171d21-1c50-4361-8d5e-cc7a76cc133c",
     "hasError": false,
     "id": "ef9604f4-fcc9-48d8-8dec-ea3cf6349505",
     "outputs": [],
     "persistentId": "e9c4f6d9-1ba4-4ff6-81ad-0ca23be6be0e",
     "text": "def callbackRectangle( click, release ): # the events are click and release\n    print( f\"button {click.button} pressed\" )\n    print( f\"button {release.button} released\" )\n    extent = [ click.xdata, release.xdata, click.ydata, release.ydata ]\n    print( f\"box extent is {extent}\") \n    \n    # ADD - in order to zoom in reset the axes to the clicked box size\n    #ax[0].set_xlim(click.xdata, release.xdata)\n    #ax[0].set_ylim(click.ydata, release.ydata)\n    \n    # Create a rectangle\n    width = np.abs(release.xdata - click.xdata)\n    height = np.abs(click.ydata - release.ydata)\n    \n    Rect = plt.Rectangle((click.xdata,click.ydata), width, height, fill=False, color='yellow', linewidth=3)\n    ax[0].add_patch(Rect)\n    \n    # Use the selected region to find the corresponding particles in the phase diagram\n    index = np.where( (MW_Disk_x>click.xdata) & (MW_Disk_x<release.xdata) & (MW_Disk_y > click.ydata) & (MW_Disk_y < release.ydata) )\n    ax[1].scatter(MW_Disk_x[index], MW_Disk_vy[index])\n    \n    # Save the file\n    plt.savefig('Density_Velocity.png')"
    },
    "executionTime": "2020-04-22T04:53:53.765Z"
   },
   {
    "cell": {
     "executionCount": 6,
     "executionEventId": "c8169fa2-c1b5-4ec7-820a-8f282c9539df",
     "hasError": false,
     "id": "becdcc90-fd2a-4aae-ae41-b7b8ca51ba91",
     "outputs": [],
     "persistentId": "67a148e7-97a5-4df2-a6ed-a58b208fcb98",
     "text": "# add the ability to reset the image using an \"on key press\" function \ndef onKeyPressed(event): \n    if event.key in ['R', 'r']:\n        # ADD - to zoom back out reset the axes\n        ax.set_xlim(-30,30)\n        ax.set_ylim(-30,30)\n\n"
    },
    "executionTime": "2020-04-22T04:53:54.647Z"
   },
   {
    "cell": {
     "executionCount": 7,
     "executionEventId": "4d645445-48d1-41e8-a81b-79fee3958233",
     "hasError": true,
     "id": "e8a3b0ce-def2-406d-b3f1-3fd3463022eb",
     "outputs": [
      {
       "ename": "AttributeError",
       "evalue": "'numpy.ndarray' object has no attribute 'figure'",
       "output_type": "error",
       "traceback": [
        "\u001b[0;31m---------------------------------------------------------------------------\u001b[0m",
        "\u001b[0;31mAttributeError\u001b[0m                            Traceback (most recent call last)",
        "\u001b[0;32m<ipython-input-7-0865308c171a>\u001b[0m in \u001b[0;36m<module>\u001b[0;34m\u001b[0m\n\u001b[1;32m     49\u001b[0m                                                       \u001b[0;31m#button 1 is left mouse button\u001b[0m\u001b[0;34m\u001b[0m\u001b[0;34m\u001b[0m\u001b[0;34m\u001b[0m\u001b[0m\n\u001b[1;32m     50\u001b[0m                            \u001b[0mminspanx\u001b[0m\u001b[0;34m=\u001b[0m\u001b[0;36m5\u001b[0m\u001b[0;34m,\u001b[0m \u001b[0mminspany\u001b[0m\u001b[0;34m=\u001b[0m\u001b[0;36m5\u001b[0m\u001b[0;34m,\u001b[0m    \u001b[0;31m# don't accept a box of fewer than 5 pixels\u001b[0m\u001b[0;34m\u001b[0m\u001b[0;34m\u001b[0m\u001b[0m\n\u001b[0;32m---> 51\u001b[0;31m                            spancoords='pixels' )      # units for above\n\u001b[0m\u001b[1;32m     52\u001b[0m \u001b[0;34m\u001b[0m\u001b[0m\n\u001b[1;32m     53\u001b[0m \u001b[0;34m\u001b[0m\u001b[0m\n",
        "\u001b[0;32m/anaconda3/lib/python3.6/site-packages/matplotlib/widgets.py\u001b[0m in \u001b[0;36m__init__\u001b[0;34m(self, ax, onselect, drawtype, minspanx, minspany, useblit, lineprops, rectprops, spancoords, button, maxdist, marker_props, interactive, state_modifier_keys)\u001b[0m\n\u001b[1;32m   2077\u001b[0m         _SelectorWidget.__init__(self, ax, onselect, useblit=useblit,\n\u001b[1;32m   2078\u001b[0m                                  \u001b[0mbutton\u001b[0m\u001b[0;34m=\u001b[0m\u001b[0mbutton\u001b[0m\u001b[0;34m,\u001b[0m\u001b[0;34m\u001b[0m\u001b[0;34m\u001b[0m\u001b[0m\n\u001b[0;32m-> 2079\u001b[0;31m                                  state_modifier_keys=state_modifier_keys)\n\u001b[0m\u001b[1;32m   2080\u001b[0m \u001b[0;34m\u001b[0m\u001b[0m\n\u001b[1;32m   2081\u001b[0m         \u001b[0mself\u001b[0m\u001b[0;34m.\u001b[0m\u001b[0mto_draw\u001b[0m \u001b[0;34m=\u001b[0m \u001b[0;32mNone\u001b[0m\u001b[0;34m\u001b[0m\u001b[0;34m\u001b[0m\u001b[0m\n",
        "\u001b[0;32m/anaconda3/lib/python3.6/site-packages/matplotlib/widgets.py\u001b[0m in \u001b[0;36m__init__\u001b[0;34m(self, ax, onselect, useblit, button, state_modifier_keys)\u001b[0m\n\u001b[1;32m   1463\u001b[0m     def __init__(self, ax, onselect, useblit=False, button=None,\n\u001b[1;32m   1464\u001b[0m                  state_modifier_keys=None):\n\u001b[0;32m-> 1465\u001b[0;31m         \u001b[0mAxesWidget\u001b[0m\u001b[0;34m.\u001b[0m\u001b[0m__init__\u001b[0m\u001b[0;34m(\u001b[0m\u001b[0mself\u001b[0m\u001b[0;34m,\u001b[0m \u001b[0max\u001b[0m\u001b[0;34m)\u001b[0m\u001b[0;34m\u001b[0m\u001b[0;34m\u001b[0m\u001b[0m\n\u001b[0m\u001b[1;32m   1466\u001b[0m \u001b[0;34m\u001b[0m\u001b[0m\n\u001b[1;32m   1467\u001b[0m         \u001b[0mself\u001b[0m\u001b[0;34m.\u001b[0m\u001b[0mvisible\u001b[0m \u001b[0;34m=\u001b[0m \u001b[0;32mTrue\u001b[0m\u001b[0;34m\u001b[0m\u001b[0;34m\u001b[0m\u001b[0m\n",
        "\u001b[0;32m/anaconda3/lib/python3.6/site-packages/matplotlib/widgets.py\u001b[0m in \u001b[0;36m__init__\u001b[0;34m(self, ax)\u001b[0m\n\u001b[1;32m    114\u001b[0m     \u001b[0;32mdef\u001b[0m \u001b[0m__init__\u001b[0m\u001b[0;34m(\u001b[0m\u001b[0mself\u001b[0m\u001b[0;34m,\u001b[0m \u001b[0max\u001b[0m\u001b[0;34m)\u001b[0m\u001b[0;34m:\u001b[0m\u001b[0;34m\u001b[0m\u001b[0;34m\u001b[0m\u001b[0m\n\u001b[1;32m    115\u001b[0m         \u001b[0mself\u001b[0m\u001b[0;34m.\u001b[0m\u001b[0max\u001b[0m \u001b[0;34m=\u001b[0m \u001b[0max\u001b[0m\u001b[0;34m\u001b[0m\u001b[0;34m\u001b[0m\u001b[0m\n\u001b[0;32m--> 116\u001b[0;31m         \u001b[0mself\u001b[0m\u001b[0;34m.\u001b[0m\u001b[0mcanvas\u001b[0m \u001b[0;34m=\u001b[0m \u001b[0max\u001b[0m\u001b[0;34m.\u001b[0m\u001b[0mfigure\u001b[0m\u001b[0;34m.\u001b[0m\u001b[0mcanvas\u001b[0m\u001b[0;34m\u001b[0m\u001b[0;34m\u001b[0m\u001b[0m\n\u001b[0m\u001b[1;32m    117\u001b[0m         \u001b[0mself\u001b[0m\u001b[0;34m.\u001b[0m\u001b[0mcids\u001b[0m \u001b[0;34m=\u001b[0m \u001b[0;34m[\u001b[0m\u001b[0;34m]\u001b[0m\u001b[0;34m\u001b[0m\u001b[0;34m\u001b[0m\u001b[0m\n\u001b[1;32m    118\u001b[0m \u001b[0;34m\u001b[0m\u001b[0m\n",
        "\u001b[0;31mAttributeError\u001b[0m: 'numpy.ndarray' object has no attribute 'figure'"
       ]
      }
     ],
     "persistentId": "0a67f017-3bb6-49f5-8564-c656a63a140f",
     "text": "# Step 2) \n# Add not just the density but also the phase diagram as a separate panel.\n# Copy over the plotting code (2D histogram) and modify the figure so that there are now two panels.\n\n# Add a phase diagram: X vs VY \n\n# plot the particle density for the MW Disk and then zoom in on a region of the disk \n\nfig, ax = plt.subplots(nrows=1, ncols=2, figsize =(10 ,10))\n# ax[0] --> Density\n# ax[1] --> Phase Diagram\n\n### 2d histogram is on the left panel\nax[0].hist2d(MW_Disk_x,MW_Disk_y, bins=200, norm=LogNorm(), cmap='magma')\n#plt.colorbar(label='Number  of  Particles  per  bin')\n\n# over plot contours\ndensity_contour(MW_Disk_x, MW_Disk_y, 80, 80, ax=ax[0], \\\n                colors=['white'])\n   \n    \n#set axis limits\nax[0].set_ylim(-30,30)\nax[0].set_xlim(-30,30)\n\n\n# Add axis labels\nax[0].set_xlabel('x (kpc)', fontsize=22)\nax[0].set_xlabel('y (kpc)', fontsize=22)\n\n### Phase diagram is on the right panel\nax[1].hist2d(MW_Disk_x, MW_Disk_vy, bins=200, norm=LogNorm(),cmap='magma')\n\n#set axis limits\nax[1].set_xlim(-30,30)\n\n\n# Add axis labels\nax[1].set_xlabel('x (kpc)')\nax[1].set_xlabel('velocity along y axis (km/s)')\n\n\n\n## NEW: Rectangle Selector.     \nrs = mw.RectangleSelector( ax,                        # the axes to attach to\n                           callbackRectangle,         # the callback function\n                           drawtype='box',            # draw a box when selecting a region\n                           button=[1, 3],             # allow us to use left or right mouse button\n                                                      #button 1 is left mouse button\n                           minspanx=5, minspany=5,    # don't accept a box of fewer than 5 pixels\n                           spancoords='pixels' )      # units for above\n\n\nplt.connect(\"key_press_event\", onKeyPressed)"
    },
    "executionTime": "2020-04-22T04:53:56.935Z"
   },
   {
    "cell": {
     "executionCount": 8,
     "executionEventId": "08f25f97-c396-4564-8e54-647b5032c95e",
     "hasError": false,
     "id": "84978038-78b6-4faa-a89c-d1d302c83d02",
     "outputs": [],
     "persistentId": "00728d7e-a1c6-4190-84b3-40d4af4415ad",
     "text": "# Let's store the circular velocity of the MW like we did in Lab 7\n\n# ADD MassProfile Object.\nMWCirc = MassProfile('MW',0)\n"
    },
    "executionTime": "2020-04-22T04:55:56.141Z"
   },
   {
    "cell": {
     "executionCount": 9,
     "executionEventId": "f8e3eb0a-6005-4f19-af66-154d21bc37d3",
     "hasError": true,
     "id": "b6100818-f8fc-4052-bf85-716de5a3b282",
     "outputs": [
      {
       "ename": "AttributeError",
       "evalue": "module 'numpy' has no attribute 'arrange'",
       "output_type": "error",
       "traceback": [
        "\u001b[0;31m---------------------------------------------------------------------------\u001b[0m",
        "\u001b[0;31mAttributeError\u001b[0m                            Traceback (most recent call last)",
        "\u001b[0;32m<ipython-input-9-a81283a5a927>\u001b[0m in \u001b[0;36m<module>\u001b[0;34m\u001b[0m\n\u001b[1;32m      1\u001b[0m \u001b[0;31m# Add an array for radii up to 40 kpc\u001b[0m\u001b[0;34m\u001b[0m\u001b[0;34m\u001b[0m\u001b[0;34m\u001b[0m\u001b[0m\n\u001b[0;32m----> 2\u001b[0;31m \u001b[0mR\u001b[0m \u001b[0;34m=\u001b[0m \u001b[0mnp\u001b[0m\u001b[0;34m.\u001b[0m\u001b[0marrange\u001b[0m\u001b[0;34m(\u001b[0m\u001b[0;36m0.01\u001b[0m\u001b[0;34m,\u001b[0m \u001b[0;36m40\u001b[0m\u001b[0;34m,\u001b[0m\u001b[0;36m0.5\u001b[0m\u001b[0;34m)\u001b[0m\u001b[0;34m\u001b[0m\u001b[0;34m\u001b[0m\u001b[0m\n\u001b[0m\u001b[1;32m      3\u001b[0m \u001b[0;34m\u001b[0m\u001b[0m\n\u001b[1;32m      4\u001b[0m \u001b[0;31m# Store Vcirc\u001b[0m\u001b[0;34m\u001b[0m\u001b[0;34m\u001b[0m\u001b[0;34m\u001b[0m\u001b[0m\n\u001b[1;32m      5\u001b[0m \u001b[0mVcirc\u001b[0m \u001b[0;34m=\u001b[0m \u001b[0mMWCirc\u001b[0m\u001b[0;34m.\u001b[0m\u001b[0mCircularVelocityTotal\u001b[0m\u001b[0;34m(\u001b[0m\u001b[0mR\u001b[0m\u001b[0;34m)\u001b[0m\u001b[0;34m\u001b[0m\u001b[0;34m\u001b[0m\u001b[0m\n",
        "\u001b[0;31mAttributeError\u001b[0m: module 'numpy' has no attribute 'arrange'"
       ]
      }
     ],
     "persistentId": "712fff14-e6f6-4049-800a-af53fd83f2a7",
     "text": "# Add an array for radii up to 40 kpc\nR = np.arrange(0.01, 40,0.5)\n\n# Store Vcirc \nVcirc = MWCirc.CircularVelocityTotal(R)\n"
    },
    "executionTime": "2020-04-22T04:56:24.974Z"
   },
   {
    "cell": {
     "executionCount": 10,
     "executionEventId": "d0385a41-10df-47ee-b2cd-107c4b2125c5",
     "hasError": true,
     "id": "b6100818-f8fc-4052-bf85-716de5a3b282",
     "outputs": [
      {
       "ename": "AttributeError",
       "evalue": "module 'numpy' has no attribute 'range'",
       "output_type": "error",
       "traceback": [
        "\u001b[0;31m---------------------------------------------------------------------------\u001b[0m",
        "\u001b[0;31mAttributeError\u001b[0m                            Traceback (most recent call last)",
        "\u001b[0;32m<ipython-input-10-3fb6c812beb3>\u001b[0m in \u001b[0;36m<module>\u001b[0;34m\u001b[0m\n\u001b[1;32m      1\u001b[0m \u001b[0;31m# Add an array for radii up to 40 kpc\u001b[0m\u001b[0;34m\u001b[0m\u001b[0;34m\u001b[0m\u001b[0;34m\u001b[0m\u001b[0m\n\u001b[0;32m----> 2\u001b[0;31m \u001b[0mR\u001b[0m \u001b[0;34m=\u001b[0m \u001b[0mnp\u001b[0m\u001b[0;34m.\u001b[0m\u001b[0mrange\u001b[0m\u001b[0;34m(\u001b[0m\u001b[0;36m0.01\u001b[0m\u001b[0;34m,\u001b[0m \u001b[0;36m40\u001b[0m\u001b[0;34m,\u001b[0m\u001b[0;36m0.5\u001b[0m\u001b[0;34m)\u001b[0m\u001b[0;34m\u001b[0m\u001b[0;34m\u001b[0m\u001b[0m\n\u001b[0m\u001b[1;32m      3\u001b[0m \u001b[0;34m\u001b[0m\u001b[0m\n\u001b[1;32m      4\u001b[0m \u001b[0;31m# Store Vcirc\u001b[0m\u001b[0;34m\u001b[0m\u001b[0;34m\u001b[0m\u001b[0;34m\u001b[0m\u001b[0m\n\u001b[1;32m      5\u001b[0m \u001b[0mVcirc\u001b[0m \u001b[0;34m=\u001b[0m \u001b[0mMWCirc\u001b[0m\u001b[0;34m.\u001b[0m\u001b[0mCircularVelocityTotal\u001b[0m\u001b[0;34m(\u001b[0m\u001b[0mR\u001b[0m\u001b[0;34m)\u001b[0m\u001b[0;34m\u001b[0m\u001b[0;34m\u001b[0m\u001b[0m\n",
        "\u001b[0;31mAttributeError\u001b[0m: module 'numpy' has no attribute 'range'"
       ]
      }
     ],
     "persistentId": "712fff14-e6f6-4049-800a-af53fd83f2a7",
     "text": "# Add an array for radii up to 40 kpc\nR = np.range(0.01, 40,0.5)\n\n# Store Vcirc \nVcirc = MWCirc.CircularVelocityTotal(R)\n"
    },
    "executionTime": "2020-04-22T04:56:31.823Z"
   },
   {
    "cell": {
     "executionCount": 11,
     "executionEventId": "ed3bd0bb-230b-45cf-8a80-4cb57db463e0",
     "hasError": true,
     "id": "b6100818-f8fc-4052-bf85-716de5a3b282",
     "outputs": [
      {
       "ename": "TypeError",
       "evalue": "COM_P() missing 1 required positional argument: 'VolDec'",
       "output_type": "error",
       "traceback": [
        "\u001b[0;31m---------------------------------------------------------------------------\u001b[0m",
        "\u001b[0;31mTypeError\u001b[0m                                 Traceback (most recent call last)",
        "\u001b[0;32m<ipython-input-11-b14cad632cf9>\u001b[0m in \u001b[0;36m<module>\u001b[0;34m\u001b[0m\n\u001b[1;32m      3\u001b[0m \u001b[0;34m\u001b[0m\u001b[0m\n\u001b[1;32m      4\u001b[0m \u001b[0;31m# Store Vcirc\u001b[0m\u001b[0;34m\u001b[0m\u001b[0;34m\u001b[0m\u001b[0;34m\u001b[0m\u001b[0m\n\u001b[0;32m----> 5\u001b[0;31m \u001b[0mVcirc\u001b[0m \u001b[0;34m=\u001b[0m \u001b[0mMWCirc\u001b[0m\u001b[0;34m.\u001b[0m\u001b[0mCircularVelocityTotal\u001b[0m\u001b[0;34m(\u001b[0m\u001b[0mR\u001b[0m\u001b[0;34m)\u001b[0m\u001b[0;34m\u001b[0m\u001b[0;34m\u001b[0m\u001b[0m\n\u001b[0m",
        "\u001b[0;32m~/Github/ASTR400B_2020/InClassLabs/Lab10/MassProfile.py\u001b[0m in \u001b[0;36mCircularVelocityTotal\u001b[0;34m(self, R)\u001b[0m\n\u001b[1;32m    151\u001b[0m \u001b[0;34m\u001b[0m\u001b[0m\n\u001b[1;32m    152\u001b[0m         \u001b[0;31m# compute the total mass enclosed\u001b[0m\u001b[0;34m\u001b[0m\u001b[0;34m\u001b[0m\u001b[0;34m\u001b[0m\u001b[0m\n\u001b[0;32m--> 153\u001b[0;31m         \u001b[0mMenc\u001b[0m \u001b[0;34m=\u001b[0m \u001b[0mself\u001b[0m\u001b[0;34m.\u001b[0m\u001b[0mMassEnclosedTotal\u001b[0m\u001b[0;34m(\u001b[0m\u001b[0mR\u001b[0m\u001b[0;34m)\u001b[0m\u001b[0;34m\u001b[0m\u001b[0;34m\u001b[0m\u001b[0m\n\u001b[0m\u001b[1;32m    154\u001b[0m \u001b[0;34m\u001b[0m\u001b[0m\n\u001b[1;32m    155\u001b[0m         \u001b[0;31m# Determine the circular speed as a function of input radius assuming spherical symmetry\u001b[0m\u001b[0;34m\u001b[0m\u001b[0;34m\u001b[0m\u001b[0;34m\u001b[0m\u001b[0m\n",
        "\u001b[0;32m~/Github/ASTR400B_2020/InClassLabs/Lab10/MassProfile.py\u001b[0m in \u001b[0;36mMassEnclosedTotal\u001b[0;34m(self, R)\u001b[0m\n\u001b[1;32m    103\u001b[0m \u001b[0;34m\u001b[0m\u001b[0m\n\u001b[1;32m    104\u001b[0m         \u001b[0;31m# Sum up all the mass of each component.\u001b[0m\u001b[0;34m\u001b[0m\u001b[0;34m\u001b[0m\u001b[0;34m\u001b[0m\u001b[0m\n\u001b[0;32m--> 105\u001b[0;31m         \u001b[0mMenc\u001b[0m \u001b[0;34m=\u001b[0m \u001b[0mself\u001b[0m\u001b[0;34m.\u001b[0m\u001b[0mMassEnclosed\u001b[0m\u001b[0;34m(\u001b[0m\u001b[0;36m1\u001b[0m\u001b[0;34m,\u001b[0m\u001b[0mR\u001b[0m\u001b[0;34m)\u001b[0m \u001b[0;34m+\u001b[0m \u001b[0mself\u001b[0m\u001b[0;34m.\u001b[0m\u001b[0mMassEnclosed\u001b[0m\u001b[0;34m(\u001b[0m\u001b[0;36m2\u001b[0m\u001b[0;34m,\u001b[0m\u001b[0mR\u001b[0m\u001b[0;34m)\u001b[0m \u001b[0;34m+\u001b[0m \u001b[0mself\u001b[0m\u001b[0;34m.\u001b[0m\u001b[0mMassEnclosed\u001b[0m\u001b[0;34m(\u001b[0m\u001b[0;36m3\u001b[0m\u001b[0;34m,\u001b[0m\u001b[0mR\u001b[0m\u001b[0;34m)\u001b[0m\u001b[0;34m\u001b[0m\u001b[0;34m\u001b[0m\u001b[0m\n\u001b[0m\u001b[1;32m    106\u001b[0m \u001b[0;34m\u001b[0m\u001b[0m\n\u001b[1;32m    107\u001b[0m         \u001b[0;31m# Recall that M33 only has 2 components!  No bulge\u001b[0m\u001b[0;34m\u001b[0m\u001b[0;34m\u001b[0m\u001b[0;34m\u001b[0m\u001b[0m\n",
        "\u001b[0;32m~/Github/ASTR400B_2020/InClassLabs/Lab10/MassProfile.py\u001b[0m in \u001b[0;36mMassEnclosed\u001b[0;34m(self, ptype, R)\u001b[0m\n\u001b[1;32m     68\u001b[0m         \u001b[0;31m# Store the COM position of the galaxy\u001b[0m\u001b[0;34m\u001b[0m\u001b[0;34m\u001b[0m\u001b[0;34m\u001b[0m\u001b[0m\n\u001b[1;32m     69\u001b[0m         \u001b[0;31m# Set Delta = whatever you determined to be a good value in Homework 4.\u001b[0m\u001b[0;34m\u001b[0m\u001b[0;34m\u001b[0m\u001b[0;34m\u001b[0m\u001b[0m\n\u001b[0;32m---> 70\u001b[0;31m         \u001b[0mGalCOMP\u001b[0m \u001b[0;34m=\u001b[0m \u001b[0mCOM\u001b[0m\u001b[0;34m.\u001b[0m\u001b[0mCOM_P\u001b[0m\u001b[0;34m(\u001b[0m\u001b[0;36m0.1\u001b[0m\u001b[0;34m)\u001b[0m\u001b[0;34m\u001b[0m\u001b[0;34m\u001b[0m\u001b[0m\n\u001b[0m\u001b[1;32m     71\u001b[0m \u001b[0;34m\u001b[0m\u001b[0m\n\u001b[1;32m     72\u001b[0m         \u001b[0;31m# create an array to store indexes of particles of desired Ptype\u001b[0m\u001b[0;34m\u001b[0m\u001b[0;34m\u001b[0m\u001b[0;34m\u001b[0m\u001b[0m\n",
        "\u001b[0;31mTypeError\u001b[0m: COM_P() missing 1 required positional argument: 'VolDec'"
       ]
      }
     ],
     "persistentId": "712fff14-e6f6-4049-800a-af53fd83f2a7",
     "text": "# Add an array for radii up to 40 kpc\nR = np.arange(0.01, 40,0.5)\n\n# Store Vcirc \nVcirc = MWCirc.CircularVelocityTotal(R)\n"
    },
    "executionTime": "2020-04-22T04:56:44.324Z"
   },
   {
    "cell": {
     "executionCount": 12,
     "executionEventId": "f8e40a04-720a-4c12-926e-631cd462535b",
     "hasError": false,
     "id": "b6100818-f8fc-4052-bf85-716de5a3b282",
     "outputs": [],
     "persistentId": "712fff14-e6f6-4049-800a-af53fd83f2a7",
     "text": "# Add an array for radii up to 40 kpc\nR = np.arange(0.01, 40,0.5)\n\n# Store Vcirc \n"
    },
    "executionTime": "2020-04-22T04:57:07.584Z"
   },
   {
    "cell": {
     "executionCount": 13,
     "executionEventId": "f350ff42-c02e-4cff-aac7-33bbcf3e5700",
     "hasError": false,
     "id": "ef9604f4-fcc9-48d8-8dec-ea3cf6349505",
     "outputs": [],
     "persistentId": "e9c4f6d9-1ba4-4ff6-81ad-0ca23be6be0e",
     "text": "def callbackRectangle( click, release ): # the events are click and release\n    print( f\"button {click.button} pressed\" )\n    print( f\"button {release.button} released\" )\n    extent = [ click.xdata, release.xdata, click.ydata, release.ydata ]\n    print( f\"box extent is {extent}\") \n    \n    # ADD - in order to zoom in reset the axes to the clicked box size\n    #ax[0].set_xlim(click.xdata, release.xdata)\n    #ax[0].set_ylim(click.ydata, release.ydata)\n    \n    # Create a rectangle\n    width = np.abs(release.xdata - click.xdata)\n    height = np.abs(click.ydata - release.ydata)\n    \n    Rect = plt.Rectangle((click.xdata,click.ydata), width, height, fill=False, color='yellow', linewidth=3)\n    ax[0].add_patch(Rect)\n    \n    # Use the selected region to find the corresponding particles in the phase diagram\n    index = np.where( (MW_Disk_x>click.xdata) & (MW_Disk_x<release.xdata) & (MW_Disk_y > click.ydata) & (MW_Disk_y < release.ydata) )\n    ax[0].scatter(MW_Disk_x[index], MW_Disk_vy[index])\n    \n    # Save the file\n    plt.savefig('Density_Velocity.png')"
    },
    "executionTime": "2020-04-22T04:57:36.431Z"
   },
   {
    "cell": {
     "executionCount": 14,
     "executionEventId": "8f969254-6013-4624-b90d-0ac335552410",
     "hasError": true,
     "id": "e8a3b0ce-def2-406d-b3f1-3fd3463022eb",
     "outputs": [
      {
       "ename": "AttributeError",
       "evalue": "'numpy.ndarray' object has no attribute 'figure'",
       "output_type": "error",
       "traceback": [
        "\u001b[0;31m---------------------------------------------------------------------------\u001b[0m",
        "\u001b[0;31mAttributeError\u001b[0m                            Traceback (most recent call last)",
        "\u001b[0;32m<ipython-input-14-0865308c171a>\u001b[0m in \u001b[0;36m<module>\u001b[0;34m\u001b[0m\n\u001b[1;32m     49\u001b[0m                                                       \u001b[0;31m#button 1 is left mouse button\u001b[0m\u001b[0;34m\u001b[0m\u001b[0;34m\u001b[0m\u001b[0;34m\u001b[0m\u001b[0m\n\u001b[1;32m     50\u001b[0m                            \u001b[0mminspanx\u001b[0m\u001b[0;34m=\u001b[0m\u001b[0;36m5\u001b[0m\u001b[0;34m,\u001b[0m \u001b[0mminspany\u001b[0m\u001b[0;34m=\u001b[0m\u001b[0;36m5\u001b[0m\u001b[0;34m,\u001b[0m    \u001b[0;31m# don't accept a box of fewer than 5 pixels\u001b[0m\u001b[0;34m\u001b[0m\u001b[0;34m\u001b[0m\u001b[0m\n\u001b[0;32m---> 51\u001b[0;31m                            spancoords='pixels' )      # units for above\n\u001b[0m\u001b[1;32m     52\u001b[0m \u001b[0;34m\u001b[0m\u001b[0m\n\u001b[1;32m     53\u001b[0m \u001b[0;34m\u001b[0m\u001b[0m\n",
        "\u001b[0;32m/anaconda3/lib/python3.6/site-packages/matplotlib/widgets.py\u001b[0m in \u001b[0;36m__init__\u001b[0;34m(self, ax, onselect, drawtype, minspanx, minspany, useblit, lineprops, rectprops, spancoords, button, maxdist, marker_props, interactive, state_modifier_keys)\u001b[0m\n\u001b[1;32m   2077\u001b[0m         _SelectorWidget.__init__(self, ax, onselect, useblit=useblit,\n\u001b[1;32m   2078\u001b[0m                                  \u001b[0mbutton\u001b[0m\u001b[0;34m=\u001b[0m\u001b[0mbutton\u001b[0m\u001b[0;34m,\u001b[0m\u001b[0;34m\u001b[0m\u001b[0;34m\u001b[0m\u001b[0m\n\u001b[0;32m-> 2079\u001b[0;31m                                  state_modifier_keys=state_modifier_keys)\n\u001b[0m\u001b[1;32m   2080\u001b[0m \u001b[0;34m\u001b[0m\u001b[0m\n\u001b[1;32m   2081\u001b[0m         \u001b[0mself\u001b[0m\u001b[0;34m.\u001b[0m\u001b[0mto_draw\u001b[0m \u001b[0;34m=\u001b[0m \u001b[0;32mNone\u001b[0m\u001b[0;34m\u001b[0m\u001b[0;34m\u001b[0m\u001b[0m\n",
        "\u001b[0;32m/anaconda3/lib/python3.6/site-packages/matplotlib/widgets.py\u001b[0m in \u001b[0;36m__init__\u001b[0;34m(self, ax, onselect, useblit, button, state_modifier_keys)\u001b[0m\n\u001b[1;32m   1463\u001b[0m     def __init__(self, ax, onselect, useblit=False, button=None,\n\u001b[1;32m   1464\u001b[0m                  state_modifier_keys=None):\n\u001b[0;32m-> 1465\u001b[0;31m         \u001b[0mAxesWidget\u001b[0m\u001b[0;34m.\u001b[0m\u001b[0m__init__\u001b[0m\u001b[0;34m(\u001b[0m\u001b[0mself\u001b[0m\u001b[0;34m,\u001b[0m \u001b[0max\u001b[0m\u001b[0;34m)\u001b[0m\u001b[0;34m\u001b[0m\u001b[0;34m\u001b[0m\u001b[0m\n\u001b[0m\u001b[1;32m   1466\u001b[0m \u001b[0;34m\u001b[0m\u001b[0m\n\u001b[1;32m   1467\u001b[0m         \u001b[0mself\u001b[0m\u001b[0;34m.\u001b[0m\u001b[0mvisible\u001b[0m \u001b[0;34m=\u001b[0m \u001b[0;32mTrue\u001b[0m\u001b[0;34m\u001b[0m\u001b[0;34m\u001b[0m\u001b[0m\n",
        "\u001b[0;32m/anaconda3/lib/python3.6/site-packages/matplotlib/widgets.py\u001b[0m in \u001b[0;36m__init__\u001b[0;34m(self, ax)\u001b[0m\n\u001b[1;32m    114\u001b[0m     \u001b[0;32mdef\u001b[0m \u001b[0m__init__\u001b[0m\u001b[0;34m(\u001b[0m\u001b[0mself\u001b[0m\u001b[0;34m,\u001b[0m \u001b[0max\u001b[0m\u001b[0;34m)\u001b[0m\u001b[0;34m:\u001b[0m\u001b[0;34m\u001b[0m\u001b[0;34m\u001b[0m\u001b[0m\n\u001b[1;32m    115\u001b[0m         \u001b[0mself\u001b[0m\u001b[0;34m.\u001b[0m\u001b[0max\u001b[0m \u001b[0;34m=\u001b[0m \u001b[0max\u001b[0m\u001b[0;34m\u001b[0m\u001b[0;34m\u001b[0m\u001b[0m\n\u001b[0;32m--> 116\u001b[0;31m         \u001b[0mself\u001b[0m\u001b[0;34m.\u001b[0m\u001b[0mcanvas\u001b[0m \u001b[0;34m=\u001b[0m \u001b[0max\u001b[0m\u001b[0;34m.\u001b[0m\u001b[0mfigure\u001b[0m\u001b[0;34m.\u001b[0m\u001b[0mcanvas\u001b[0m\u001b[0;34m\u001b[0m\u001b[0;34m\u001b[0m\u001b[0m\n\u001b[0m\u001b[1;32m    117\u001b[0m         \u001b[0mself\u001b[0m\u001b[0;34m.\u001b[0m\u001b[0mcids\u001b[0m \u001b[0;34m=\u001b[0m \u001b[0;34m[\u001b[0m\u001b[0;34m]\u001b[0m\u001b[0;34m\u001b[0m\u001b[0;34m\u001b[0m\u001b[0m\n\u001b[1;32m    118\u001b[0m \u001b[0;34m\u001b[0m\u001b[0m\n",
        "\u001b[0;31mAttributeError\u001b[0m: 'numpy.ndarray' object has no attribute 'figure'"
       ]
      }
     ],
     "persistentId": "0a67f017-3bb6-49f5-8564-c656a63a140f",
     "text": "# Step 2) \n# Add not just the density but also the phase diagram as a separate panel.\n# Copy over the plotting code (2D histogram) and modify the figure so that there are now two panels.\n\n# Add a phase diagram: X vs VY \n\n# plot the particle density for the MW Disk and then zoom in on a region of the disk \n\nfig, ax = plt.subplots(nrows=1, ncols=2, figsize =(10 ,10))\n# ax[0] --> Density\n# ax[1] --> Phase Diagram\n\n### 2d histogram is on the left panel\nax[0].hist2d(MW_Disk_x,MW_Disk_y, bins=200, norm=LogNorm(), cmap='magma')\n#plt.colorbar(label='Number  of  Particles  per  bin')\n\n# over plot contours\ndensity_contour(MW_Disk_x, MW_Disk_y, 80, 80, ax=ax[0], \\\n                colors=['white'])\n   \n    \n#set axis limits\nax[0].set_ylim(-30,30)\nax[0].set_xlim(-30,30)\n\n\n# Add axis labels\nax[0].set_xlabel('x (kpc)', fontsize=22)\nax[0].set_xlabel('y (kpc)', fontsize=22)\n\n### Phase diagram is on the right panel\nax[1].hist2d(MW_Disk_x, MW_Disk_vy, bins=200, norm=LogNorm(),cmap='magma')\n\n#set axis limits\nax[1].set_xlim(-30,30)\n\n\n# Add axis labels\nax[1].set_xlabel('x (kpc)')\nax[1].set_xlabel('velocity along y axis (km/s)')\n\n\n\n## NEW: Rectangle Selector.     \nrs = mw.RectangleSelector( ax,                        # the axes to attach to\n                           callbackRectangle,         # the callback function\n                           drawtype='box',            # draw a box when selecting a region\n                           button=[1, 3],             # allow us to use left or right mouse button\n                                                      #button 1 is left mouse button\n                           minspanx=5, minspany=5,    # don't accept a box of fewer than 5 pixels\n                           spancoords='pixels' )      # units for above\n\n\nplt.connect(\"key_press_event\", onKeyPressed)"
    },
    "executionTime": "2020-04-22T04:57:40.233Z"
   },
   {
    "cell": {
     "executionCount": 15,
     "executionEventId": "03281ca0-5b93-415c-9634-1ff5721af36b",
     "hasError": false,
     "id": "ef9604f4-fcc9-48d8-8dec-ea3cf6349505",
     "outputs": [],
     "persistentId": "e9c4f6d9-1ba4-4ff6-81ad-0ca23be6be0e",
     "text": "def callbackRectangle( click, release ): # the events are click and release\n    print( f\"button {click.button} pressed\" )\n    print( f\"button {release.button} released\" )\n    extent = [ click.xdata, release.xdata, click.ydata, release.ydata ]\n    print( f\"box extent is {extent}\") \n    \n    # ADD - in order to zoom in reset the axes to the clicked box size\n    #ax[0].set_xlim(click.xdata, release.xdata)\n    #ax[0].set_ylim(click.ydata, release.ydata)\n    \n    # Create a rectangle\n    width = np.abs(release.xdata - click.xdata)\n    height = np.abs(click.ydata - release.ydata)\n    \n    Rect = plt.Rectangle((click.xdata,click.ydata), width, height, fill=False, color='yellow', linewidth=3)\n    ax[0].add_patch(Rect)\n    \n    # Use the selected region to find the corresponding particles in the phase diagram\n    index = np.where( (MW_Disk_x>click.xdata) & (MW_Disk_x<release.xdata) & (MW_Disk_y > click.ydata) & (MW_Disk_y < release.ydata) )\n    ax[1].scatter(MW_Disk_x[index], MW_Disk_vy[index])\n    \n    # Save the file\n    plt.savefig('Density_Velocity.png')"
    },
    "executionTime": "2020-04-22T04:57:57.594Z"
   },
   {
    "cell": {
     "executionCount": 16,
     "executionEventId": "8e99da4b-1e5a-458a-b0c1-171d281d9d57",
     "hasError": true,
     "id": "4efe84cb-0082-47e2-9c9e-874143d17517",
     "outputs": [
      {
       "ename": "FileNotFoundError",
       "evalue": "[Errno 2] No such file or directory: 'MW_400.txt'",
       "output_type": "error",
       "traceback": [
        "\u001b[0;31m---------------------------------------------------------------------------\u001b[0m",
        "\u001b[0;31mFileNotFoundError\u001b[0m                         Traceback (most recent call last)",
        "\u001b[0;32m<ipython-input-16-2d41c8c9ff99>\u001b[0m in \u001b[0;36m<module>\u001b[0;34m\u001b[0m\n\u001b[1;32m      1\u001b[0m \u001b[0;31m# Load in a different snapshot\u001b[0m\u001b[0;34m\u001b[0m\u001b[0;34m\u001b[0m\u001b[0;34m\u001b[0m\u001b[0m\n\u001b[0;32m----> 2\u001b[0;31m \u001b[0mCOM_2\u001b[0m \u001b[0;34m=\u001b[0m \u001b[0mCenterOfMass\u001b[0m\u001b[0;34m(\u001b[0m\u001b[0;34m\"MW_400.txt\"\u001b[0m\u001b[0;34m,\u001b[0m\u001b[0;36m2\u001b[0m\u001b[0;34m)\u001b[0m\u001b[0;34m\u001b[0m\u001b[0;34m\u001b[0m\u001b[0m\n\u001b[0m",
        "\u001b[0;32m~/Github/ASTR400B_2020/InClassLabs/Lab10/CenterOfMass2.py\u001b[0m in \u001b[0;36m__init__\u001b[0;34m(self, filename, ptype)\u001b[0m\n\u001b[1;32m     29\u001b[0m \u001b[0;34m\u001b[0m\u001b[0m\n\u001b[1;32m     30\u001b[0m         \u001b[0;31m# read in the file\u001b[0m\u001b[0;34m\u001b[0m\u001b[0;34m\u001b[0m\u001b[0;34m\u001b[0m\u001b[0m\n\u001b[0;32m---> 31\u001b[0;31m         \u001b[0mself\u001b[0m\u001b[0;34m.\u001b[0m\u001b[0mtime\u001b[0m\u001b[0;34m,\u001b[0m \u001b[0mself\u001b[0m\u001b[0;34m.\u001b[0m\u001b[0mtotal\u001b[0m\u001b[0;34m,\u001b[0m \u001b[0mself\u001b[0m\u001b[0;34m.\u001b[0m\u001b[0mdata\u001b[0m \u001b[0;34m=\u001b[0m \u001b[0mRead\u001b[0m\u001b[0;34m(\u001b[0m\u001b[0mfilename\u001b[0m\u001b[0;34m)\u001b[0m\u001b[0;34m\u001b[0m\u001b[0;34m\u001b[0m\u001b[0m\n\u001b[0m\u001b[1;32m     32\u001b[0m         \u001b[0;31m#print(self.time)\u001b[0m\u001b[0;34m\u001b[0m\u001b[0;34m\u001b[0m\u001b[0;34m\u001b[0m\u001b[0m\n\u001b[1;32m     33\u001b[0m \u001b[0;34m\u001b[0m\u001b[0m\n",
        "\u001b[0;32m~/Github/ASTR400B_2020/InClassLabs/Lab10/ReadFile.py\u001b[0m in \u001b[0;36mRead\u001b[0;34m(filename)\u001b[0m\n\u001b[1;32m     10\u001b[0m \u001b[0;34m\u001b[0m\u001b[0m\n\u001b[1;32m     11\u001b[0m         \u001b[0;31m# open the file\u001b[0m\u001b[0;34m\u001b[0m\u001b[0;34m\u001b[0m\u001b[0;34m\u001b[0m\u001b[0m\n\u001b[0;32m---> 12\u001b[0;31m         \u001b[0mfile\u001b[0m \u001b[0;34m=\u001b[0m \u001b[0mopen\u001b[0m\u001b[0;34m(\u001b[0m\u001b[0mfilename\u001b[0m\u001b[0;34m,\u001b[0m\u001b[0;34m'r'\u001b[0m\u001b[0;34m)\u001b[0m\u001b[0;34m\u001b[0m\u001b[0;34m\u001b[0m\u001b[0m\n\u001b[0m\u001b[1;32m     13\u001b[0m \u001b[0;34m\u001b[0m\u001b[0m\n\u001b[1;32m     14\u001b[0m         \u001b[0;31m#read header info line by line (line will be a string)\u001b[0m\u001b[0;34m\u001b[0m\u001b[0;34m\u001b[0m\u001b[0;34m\u001b[0m\u001b[0m\n",
        "\u001b[0;31mFileNotFoundError\u001b[0m: [Errno 2] No such file or directory: 'MW_400.txt'"
       ]
      }
     ],
     "persistentId": "30c19c8f-1ba4-40ac-8026-d712be751a67",
     "text": "# Load in a different snapshot\nCOM_2 = CenterOfMass(\"MW_400.txt\",2)"
    },
    "executionTime": "2020-04-22T04:59:04.334Z"
   },
   {
    "cell": {
     "executionCount": 17,
     "executionEventId": "524e7b6d-d5c1-410f-8856-3062e4166722",
     "hasError": false,
     "id": "4efe84cb-0082-47e2-9c9e-874143d17517",
     "outputs": [],
     "persistentId": "30c19c8f-1ba4-40ac-8026-d712be751a67",
     "text": "# Load in a different snapshot\nCOM_2 = CenterOfMass(\"MW_400.txt\",2)"
    },
    "executionTime": "2020-04-22T05:00:05.033Z"
   },
   {
    "cell": {
     "executionCount": 18,
     "executionEventId": "8037ac67-f9db-478c-9857-718ef1379205",
     "hasError": false,
     "id": "ef9604f4-fcc9-48d8-8dec-ea3cf6349505",
     "outputs": [],
     "persistentId": "e9c4f6d9-1ba4-4ff6-81ad-0ca23be6be0e",
     "text": "def callbackRectangle( click, release ): # the events are click and release\n    print( f\"button {click.button} pressed\" )\n    print( f\"button {release.button} released\" )\n    extent = [ click.xdata, release.xdata, click.ydata, release.ydata ]\n    print( f\"box extent is {extent}\") \n    \n    # ADD - in order to zoom in reset the axes to the clicked box size\n    #ax[0].set_xlim(click.xdata, release.xdata)\n    #ax[0].set_ylim(click.ydata, release.ydata)\n    \n    # Create a rectangle\n    width = np.abs(release.xdata - click.xdata)\n    height = np.abs(click.ydata - release.ydata)\n    \n    Rect = plt.Rectangle((click.xdata,click.ydata), width, height, fill=False, color='yellow', linewidth=3)\n    ax[0].add_patch(Rect)\n    \n    # Use the selected region to find the corresponding particles in the phase diagram\n    index = np.where( (MW_Disk_x>click.xdata) & (MW_Disk_x<release.xdata) & (MW_Disk_y > click.ydata) & (MW_Disk_y < release.ydata) )\n    ax[1].scatter(MW_Disk_x[index], MW_Disk_vy[index])\n    \n    # Save the file\n    plt.savefig('Density_Velocity.png')"
    },
    "executionTime": "2020-04-22T05:01:01.886Z"
   },
   {
    "cell": {
     "executionCount": 19,
     "executionEventId": "e45b43fb-7e66-46b8-aa47-deb578fcdbab",
     "hasError": true,
     "id": "1a19f8f4-3f96-4ea3-9176-7b5596bf6fa4",
     "outputs": [
      {
       "ename": "NameError",
       "evalue": "name 'MW_Disk_x_2' is not defined",
       "output_type": "error",
       "traceback": [
        "\u001b[0;31m---------------------------------------------------------------------------\u001b[0m",
        "\u001b[0;31mNameError\u001b[0m                                 Traceback (most recent call last)",
        "\u001b[0;32m<ipython-input-19-2591d3efc699>\u001b[0m in \u001b[0;36m<module>\u001b[0;34m\u001b[0m\n\u001b[1;32m     31\u001b[0m \u001b[0;34m\u001b[0m\u001b[0m\n\u001b[1;32m     32\u001b[0m \u001b[0;31m### Phase diagram is on the right panel\u001b[0m\u001b[0;34m\u001b[0m\u001b[0;34m\u001b[0m\u001b[0;34m\u001b[0m\u001b[0m\n\u001b[0;32m---> 33\u001b[0;31m \u001b[0max\u001b[0m\u001b[0;34m[\u001b[0m\u001b[0;36m1\u001b[0m\u001b[0;34m]\u001b[0m\u001b[0;34m.\u001b[0m\u001b[0mhist2d\u001b[0m\u001b[0;34m(\u001b[0m\u001b[0mMW_Disk_x_2\u001b[0m\u001b[0;34m,\u001b[0m \u001b[0mMW_Disk_y_2\u001b[0m\u001b[0;34m,\u001b[0m \u001b[0mbins\u001b[0m\u001b[0;34m=\u001b[0m\u001b[0;36m200\u001b[0m\u001b[0;34m,\u001b[0m \u001b[0mnorm\u001b[0m\u001b[0;34m=\u001b[0m\u001b[0mLogNorm\u001b[0m\u001b[0;34m(\u001b[0m\u001b[0;34m)\u001b[0m\u001b[0;34m,\u001b[0m\u001b[0mcmap\u001b[0m\u001b[0;34m=\u001b[0m\u001b[0;34m'magma'\u001b[0m\u001b[0;34m)\u001b[0m\u001b[0;34m\u001b[0m\u001b[0;34m\u001b[0m\u001b[0m\n\u001b[0m\u001b[1;32m     34\u001b[0m \u001b[0;34m\u001b[0m\u001b[0m\n\u001b[1;32m     35\u001b[0m \u001b[0;31m#set axis limits\u001b[0m\u001b[0;34m\u001b[0m\u001b[0;34m\u001b[0m\u001b[0;34m\u001b[0m\u001b[0m\n",
        "\u001b[0;31mNameError\u001b[0m: name 'MW_Disk_x_2' is not defined"
       ]
      }
     ],
     "persistentId": "80c2efb8-5e82-40f5-baef-96693d6f4922",
     "text": "# Copy over the Call back function and the onkeypressed function from Part C\n# Step 2) \n# Add not just the density but also the phase diagram as a separate panel.\n# Copy over the plotting code (2D histogram) and modify the figure so that there are now two panels.\n\n# Add a phase diagram: X vs VY \n\n# plot the particle density for the MW Disk and then zoom in on a region of the disk \n\nfig, ax = plt.subplots(nrows=1, ncols=2, figsize =(10 ,10))\n# ax[0] --> Density\n# ax[1] --> Phase Diagram\n\n### 2d histogram is on the left panel\nax[0].hist2d(MW_Disk_x,MW_Disk_y, bins=200, norm=LogNorm(), cmap='magma')\n#plt.colorbar(label='Number  of  Particles  per  bin')\n\n# over plot contours\ndensity_contour(MW_Disk_x, MW_Disk_y, 80, 80, ax=ax[0], \\\n                colors=['white'])\n   \n    \n#set axis limits\nax[0].set_ylim(-30,30)\nax[0].set_xlim(-30,30)\n\n\n# Add axis labels\nax[0].set_xlabel('x (kpc)', fontsize=22)\nax[0].set_xlabel('y (kpc)', fontsize=22)\n\n### Phase diagram is on the right panel\nax[1].hist2d(MW_Disk_x_2, MW_Disk_y_2, bins=200, norm=LogNorm(),cmap='magma')\n\n#set axis limits\nax[1].set_xlim(-30,30)\n\n\n# Add axis labels\nax[1].set_xlabel('x (kpc)')\nax[1].set_xlabel('velocity along y axis (km/s)')\n\n\n\n## NEW: Rectangle Selector.     \nrs = mw.RectangleSelector( ax,                        # the axes to attach to\n                           callbackRectangle,         # the callback function\n                           drawtype='box',            # draw a box when selecting a region\n                           button=[1, 3],             # allow us to use left or right mouse button\n                                                      #button 1 is left mouse button\n                           minspanx=5, minspany=5,    # don't accept a box of fewer than 5 pixels\n                           spancoords='pixels' )      # units for above\n\n\nplt.connect(\"key_press_event\", onKeyPressed)\n"
    },
    "executionTime": "2020-04-22T05:02:20.361Z"
   },
   {
    "cell": {
     "executionCount": 20,
     "executionEventId": "c5be3038-73b2-4126-a3c0-c48f514c864b",
     "hasError": false,
     "id": "fcd17271-6863-447e-999b-f470ef003fbd",
     "outputs": [],
     "persistentId": "b8e3940b-27ab-4055-9015-22d9cb2cc233",
     "text": "\n# Compute COM of the MW at the new position using disk particles\nCOMP_2 = COM_2.COM_P(0.1, 2)\n# Determine positions of disk particles relative to COM \nMW_Disk_2_x = COM_2.x - COMP_2[0].value \nMW_Disk_2_y = COM_2.y - COMP_2[1].value \n"
    },
    "executionTime": "2020-04-22T05:02:32.626Z"
   },
   {
    "cell": {
     "executionCount": 21,
     "executionEventId": "9cd68d6d-651f-421f-a5aa-2f2522218f23",
     "hasError": false,
     "id": "ef9604f4-fcc9-48d8-8dec-ea3cf6349505",
     "outputs": [],
     "persistentId": "e9c4f6d9-1ba4-4ff6-81ad-0ca23be6be0e",
     "text": "def callbackRectangle( click, release ): # the events are click and release\n    print( f\"button {click.button} pressed\" )\n    print( f\"button {release.button} released\" )\n    extent = [ click.xdata, release.xdata, click.ydata, release.ydata ]\n    print( f\"box extent is {extent}\") \n    \n    # ADD - in order to zoom in reset the axes to the clicked box size\n    #ax[0].set_xlim(click.xdata, release.xdata)\n    #ax[0].set_ylim(click.ydata, release.ydata)\n    \n    # Create a rectangle\n    width = np.abs(release.xdata - click.xdata)\n    height = np.abs(click.ydata - release.ydata)\n    \n    Rect = plt.Rectangle((click.xdata,click.ydata), width, height, fill=False, color='yellow', linewidth=3)\n    ax[0].add_patch(Rect)\n    \n    # Use the selected region to find the corresponding particles in the phase diagram\n    index = np.where( (MW_Disk_x>click.xdata) & (MW_Disk_x<release.xdata) & (MW_Disk_y > click.ydata) & (MW_Disk_y < release.ydata) )\n    ax[1].scatter(MW_Disk_2_x[index], MW_Disk_2_y[index])\n    \n    # Save the file\n    plt.savefig('Density_Velocity.png')"
    },
    "executionTime": "2020-04-22T05:03:18.313Z"
   },
   {
    "cell": {
     "executionCount": 22,
     "executionEventId": "3c94bf1f-edf3-4f47-9018-003f1dadcd41",
     "hasError": true,
     "id": "1a19f8f4-3f96-4ea3-9176-7b5596bf6fa4",
     "outputs": [
      {
       "ename": "AttributeError",
       "evalue": "'numpy.ndarray' object has no attribute 'figure'",
       "output_type": "error",
       "traceback": [
        "\u001b[0;31m---------------------------------------------------------------------------\u001b[0m",
        "\u001b[0;31mAttributeError\u001b[0m                            Traceback (most recent call last)",
        "\u001b[0;32m<ipython-input-22-50d4e926ac0a>\u001b[0m in \u001b[0;36m<module>\u001b[0;34m\u001b[0m\n\u001b[1;32m     50\u001b[0m                                                       \u001b[0;31m#button 1 is left mouse button\u001b[0m\u001b[0;34m\u001b[0m\u001b[0;34m\u001b[0m\u001b[0;34m\u001b[0m\u001b[0m\n\u001b[1;32m     51\u001b[0m                            \u001b[0mminspanx\u001b[0m\u001b[0;34m=\u001b[0m\u001b[0;36m5\u001b[0m\u001b[0;34m,\u001b[0m \u001b[0mminspany\u001b[0m\u001b[0;34m=\u001b[0m\u001b[0;36m5\u001b[0m\u001b[0;34m,\u001b[0m    \u001b[0;31m# don't accept a box of fewer than 5 pixels\u001b[0m\u001b[0;34m\u001b[0m\u001b[0;34m\u001b[0m\u001b[0m\n\u001b[0;32m---> 52\u001b[0;31m                            spancoords='pixels' )      # units for above\n\u001b[0m\u001b[1;32m     53\u001b[0m \u001b[0;34m\u001b[0m\u001b[0m\n\u001b[1;32m     54\u001b[0m \u001b[0;34m\u001b[0m\u001b[0m\n",
        "\u001b[0;32m/anaconda3/lib/python3.6/site-packages/matplotlib/widgets.py\u001b[0m in \u001b[0;36m__init__\u001b[0;34m(self, ax, onselect, drawtype, minspanx, minspany, useblit, lineprops, rectprops, spancoords, button, maxdist, marker_props, interactive, state_modifier_keys)\u001b[0m\n\u001b[1;32m   2077\u001b[0m         _SelectorWidget.__init__(self, ax, onselect, useblit=useblit,\n\u001b[1;32m   2078\u001b[0m                                  \u001b[0mbutton\u001b[0m\u001b[0;34m=\u001b[0m\u001b[0mbutton\u001b[0m\u001b[0;34m,\u001b[0m\u001b[0;34m\u001b[0m\u001b[0;34m\u001b[0m\u001b[0m\n\u001b[0;32m-> 2079\u001b[0;31m                                  state_modifier_keys=state_modifier_keys)\n\u001b[0m\u001b[1;32m   2080\u001b[0m \u001b[0;34m\u001b[0m\u001b[0m\n\u001b[1;32m   2081\u001b[0m         \u001b[0mself\u001b[0m\u001b[0;34m.\u001b[0m\u001b[0mto_draw\u001b[0m \u001b[0;34m=\u001b[0m \u001b[0;32mNone\u001b[0m\u001b[0;34m\u001b[0m\u001b[0;34m\u001b[0m\u001b[0m\n",
        "\u001b[0;32m/anaconda3/lib/python3.6/site-packages/matplotlib/widgets.py\u001b[0m in \u001b[0;36m__init__\u001b[0;34m(self, ax, onselect, useblit, button, state_modifier_keys)\u001b[0m\n\u001b[1;32m   1463\u001b[0m     def __init__(self, ax, onselect, useblit=False, button=None,\n\u001b[1;32m   1464\u001b[0m                  state_modifier_keys=None):\n\u001b[0;32m-> 1465\u001b[0;31m         \u001b[0mAxesWidget\u001b[0m\u001b[0;34m.\u001b[0m\u001b[0m__init__\u001b[0m\u001b[0;34m(\u001b[0m\u001b[0mself\u001b[0m\u001b[0;34m,\u001b[0m \u001b[0max\u001b[0m\u001b[0;34m)\u001b[0m\u001b[0;34m\u001b[0m\u001b[0;34m\u001b[0m\u001b[0m\n\u001b[0m\u001b[1;32m   1466\u001b[0m \u001b[0;34m\u001b[0m\u001b[0m\n\u001b[1;32m   1467\u001b[0m         \u001b[0mself\u001b[0m\u001b[0;34m.\u001b[0m\u001b[0mvisible\u001b[0m \u001b[0;34m=\u001b[0m \u001b[0;32mTrue\u001b[0m\u001b[0;34m\u001b[0m\u001b[0;34m\u001b[0m\u001b[0m\n",
        "\u001b[0;32m/anaconda3/lib/python3.6/site-packages/matplotlib/widgets.py\u001b[0m in \u001b[0;36m__init__\u001b[0;34m(self, ax)\u001b[0m\n\u001b[1;32m    114\u001b[0m     \u001b[0;32mdef\u001b[0m \u001b[0m__init__\u001b[0m\u001b[0;34m(\u001b[0m\u001b[0mself\u001b[0m\u001b[0;34m,\u001b[0m \u001b[0max\u001b[0m\u001b[0;34m)\u001b[0m\u001b[0;34m:\u001b[0m\u001b[0;34m\u001b[0m\u001b[0;34m\u001b[0m\u001b[0m\n\u001b[1;32m    115\u001b[0m         \u001b[0mself\u001b[0m\u001b[0;34m.\u001b[0m\u001b[0max\u001b[0m \u001b[0;34m=\u001b[0m \u001b[0max\u001b[0m\u001b[0;34m\u001b[0m\u001b[0;34m\u001b[0m\u001b[0m\n\u001b[0;32m--> 116\u001b[0;31m         \u001b[0mself\u001b[0m\u001b[0;34m.\u001b[0m\u001b[0mcanvas\u001b[0m \u001b[0;34m=\u001b[0m \u001b[0max\u001b[0m\u001b[0;34m.\u001b[0m\u001b[0mfigure\u001b[0m\u001b[0;34m.\u001b[0m\u001b[0mcanvas\u001b[0m\u001b[0;34m\u001b[0m\u001b[0;34m\u001b[0m\u001b[0m\n\u001b[0m\u001b[1;32m    117\u001b[0m         \u001b[0mself\u001b[0m\u001b[0;34m.\u001b[0m\u001b[0mcids\u001b[0m \u001b[0;34m=\u001b[0m \u001b[0;34m[\u001b[0m\u001b[0;34m]\u001b[0m\u001b[0;34m\u001b[0m\u001b[0;34m\u001b[0m\u001b[0m\n\u001b[1;32m    118\u001b[0m \u001b[0;34m\u001b[0m\u001b[0m\n",
        "\u001b[0;31mAttributeError\u001b[0m: 'numpy.ndarray' object has no attribute 'figure'"
       ]
      }
     ],
     "persistentId": "80c2efb8-5e82-40f5-baef-96693d6f4922",
     "text": "# Copy over the Call back function and the onkeypressed function from Part C\n# Step 2) \n# Add not just the density but also the phase diagram as a separate panel.\n# Copy over the plotting code (2D histogram) and modify the figure so that there are now two panels.\n\n# Add a phase diagram: X vs VY \n\n# plot the particle density for the MW Disk and then zoom in on a region of the disk \n\nfig, ax = plt.subplots(nrows=1, ncols=2, figsize =(10 ,10))\n# ax[0] --> Density\n# ax[1] --> Phase Diagram\n\n### 2d histogram is on the left panel\nax[0].hist2d(MW_Disk_x,MW_Disk_y, bins=200, norm=LogNorm(), cmap='magma')\n#plt.colorbar(label='Number  of  Particles  per  bin')\n\n# over plot contours\ndensity_contour(MW_Disk_x, MW_Disk_y, 80, 80, ax=ax[0], \\\n                colors=['white'])\n   \n    \n#set axis limits\nax[0].set_ylim(-30,30)\nax[0].set_xlim(-30,30)\n\n\n# Add axis labels\nax[0].set_xlabel('x (kpc)', fontsize=22)\nax[0].set_xlabel('y (kpc)', fontsize=22)\n\n### Phase diagram is on the right panel\nax[1].hist2d(MW_Disk_2_x, MW_Disk_2_y, bins=200, norm=LogNorm(),cmap='magma')\n\n#set axis limits\nax[1].set_xlim(-30,30)\n\n\n# Add axis labels\nax[1].set_xlabel('x (kpc)')\nax[1].set_xlabel('y (kpc)')\n\n\n\n## NEW: Rectangle Selector.     \nrs = mw.RectangleSelector( ax,                        # the axes to attach to\n                           callbackRectangle,         # the callback function\n                           drawtype='box',            # draw a box when selecting a region\n                           button=[1, 3],             # allow us to use left or right mouse button\n                                                      #button 1 is left mouse button\n                           minspanx=5, minspany=5,    # don't accept a box of fewer than 5 pixels\n                           spancoords='pixels' )      # units for above\n\n\nplt.connect(\"key_press_event\", onKeyPressed)\n"
    },
    "executionTime": "2020-04-22T05:03:32.254Z"
   }
  ],
  "kernelspec": {
   "display_name": "Python 3",
   "language": "python",
   "name": "python3"
  },
  "language_info": {
   "codemirror_mode": {
    "name": "ipython",
    "version": 3
   },
   "file_extension": ".py",
   "mimetype": "text/x-python",
   "name": "python",
   "nbconvert_exporter": "python",
   "pygments_lexer": "ipython3",
   "version": "3.6.7"
  },
  "uuid": "58469a82-db0b-427f-858b-a85c9adf9756"
 },
 "nbformat": 4,
 "nbformat_minor": 4
}
