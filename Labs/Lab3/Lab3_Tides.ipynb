{
 "cells": [
  {
   "cell_type": "code",
   "execution_count": 1,
   "metadata": {
    "execution_event_id": "9a6c1cf8-09fe-450b-bea8-7ce9df4f069f",
    "last_executed_text": "# In Class Lab 3\n# G. Besla \n\n# import relevant modules \nimport astropy.units as u\nimport numpy as np",
    "persistent_id": "c067d725-2bf0-4587-a47b-54a0158608aa"
   },
   "outputs": [],
   "source": [
    "# In Class Lab 3\n",
    "# G. Besla \n",
    "\n",
    "# import relevant modules \n",
    "import astropy.units as u\n",
    "import numpy as np"
   ]
  },
  {
   "cell_type": "markdown",
   "metadata": {},
   "source": [
    "The Large Magellanic Cloud is at a distance of 50 kpc from the Galactic Center. \n",
    "It is observed to have a stellar disk that extends to a radius of at least 18.5 kpc.\n",
    "\n",
    "![LMC](./Lab3_Tidal.png)\n",
    "Deep photometric imaging reveals the faint stellar outskirts of the LMC. \n",
    "Outskirts: DECam data Mackey+2016 MNRAS 459, 239. \n",
    "Inner: shallower imaging from robotic telescopes Besla+2016 APJ 825.\n",
    "\n",
    "In this lab we will determine\n",
    "the minimum mass required for the LMC so that it maintains the observed radius \n",
    "in the face of the Milky Way's tidal field. "
   ]
  },
  {
   "cell_type": "markdown",
   "metadata": {},
   "source": [
    "# Part A\n",
    "\n",
    "We define the mass profile of the Milky Way using a Hernquist profile.\n",
    "\n",
    "\n",
    "$\\rho(r) =  \\frac{M_{halo}}{2\\pi} \\frac{a}{r(r+a)^3} \\qquad M(r) =  \\frac{M_{halo} r^2}{(a+r)^2}$ \n",
    "\n"
   ]
  },
  {
   "cell_type": "markdown",
   "metadata": {},
   "source": [
    "## #1\n",
    "\n",
    "Create a function `HernquistM` that returns the dark matter halo mass at a given radius in units of solar mass.\n",
    "This function should take as input:  the distance from the Galactic center $r$, the scale radius $a$, and the halo mass $M_{halo}$.\n",
    "\n",
    "\n",
    "For the Hernquist scale radius for the Milky Way, use the default value of $a=60$ kpc. \n",
    "\n",
    "For $M_{halo}$ use your answer for the total mass of the simulated Milky Way you computed in Homework 3 as the default value (in units of 1e12). "
   ]
  },
  {
   "cell_type": "code",
   "execution_count": 2,
   "metadata": {
    "execution_event_id": "91b4491a-2acc-4889-b580-b3bcc3aa47b1",
    "last_executed_text": "# Function that returns the Hernquist 1990 Mass profile\ndef HernquistM(r,a=60,Mhalo=1.97):\n    # Inputs:\n    #        r is the distance from the center of the galaxy (kpc)\n    #        a is the scale radius (kpc)\n    #        Nhalo is the total dark matter halo mass (10^12 Msun)\n    # Return:\n    #        Total dark matter mass enclosed within r (Msun)\n    return np.round(Mhalo*r**2/(a+r)**2,2)*1e12*u.Msun",
    "persistent_id": "6199ae8a-db39-4724-be97-bf5300853df4"
   },
   "outputs": [],
   "source": [
    "# Function that returns the Hernquist 1990 Mass profile\n",
    "def HernquistM(r,a=60,Mhalo=1.97):\n",
    "    # Inputs:\n",
    "    #        r is the distance from the center of the galaxy (kpc)\n",
    "    #        a is the scale radius (kpc)\n",
    "    #        Nhalo is the total dark matter halo mass (10^12 Msun)\n",
    "    # Return:\n",
    "    #        Total dark matter mass enclosed within r (Msun)\n",
    "    return np.round(Mhalo*r**2/(a+r)**2,2)*1e12*u.Msun"
   ]
  },
  {
   "cell_type": "code",
   "execution_count": 3,
   "metadata": {
    "execution_event_id": "df2f6b46-c276-42d7-b61c-0ca903fc47be",
    "last_executed_text": "HernquistM(10000)",
    "persistent_id": "537ccb13-1b33-481b-bfd6-5ef42c27b914"
   },
   "outputs": [
    {
     "data": {
      "text/latex": [
       "$1.95 \\times 10^{12} \\; \\mathrm{M_{\\odot}}$"
      ],
      "text/plain": [
       "<Quantity 1.95e+12 solMass>"
      ]
     },
     "execution_count": 3,
     "metadata": {},
     "output_type": "execute_result"
    }
   ],
   "source": [
    "HernquistM(10000)"
   ]
  },
  {
   "cell_type": "code",
   "execution_count": 4,
   "metadata": {
    "execution_event_id": "9b38d3e2-256d-4128-a85e-4e83cb49ca11",
    "last_executed_text": "HernquistM(260)",
    "persistent_id": "7f68e679-8537-4bb6-b22a-b1bc507dcd63"
   },
   "outputs": [
    {
     "data": {
      "text/latex": [
       "$1.3 \\times 10^{12} \\; \\mathrm{M_{\\odot}}$"
      ],
      "text/plain": [
       "<Quantity 1.3e+12 solMass>"
      ]
     },
     "execution_count": 4,
     "metadata": {},
     "output_type": "execute_result"
    }
   ],
   "source": [
    "HernquistM(260)"
   ]
  },
  {
   "cell_type": "code",
   "execution_count": 5,
   "metadata": {
    "execution_event_id": "076ee3a8-1e49-47f7-a9f1-c35f95161c36",
    "last_executed_text": "HernquistM(50)",
    "persistent_id": "12572e6e-3b73-4334-9516-23a3321166bb"
   },
   "outputs": [
    {
     "data": {
      "text/latex": [
       "$4.1 \\times 10^{11} \\; \\mathrm{M_{\\odot}}$"
      ],
      "text/plain": [
       "<Quantity 4.1e+11 solMass>"
      ]
     },
     "execution_count": 5,
     "metadata": {},
     "output_type": "execute_result"
    }
   ],
   "source": [
    "HernquistM(50)"
   ]
  },
  {
   "cell_type": "markdown",
   "metadata": {},
   "source": [
    "## #2\n",
    "\n",
    "Compute the total mass of the Milky Way within 50 kpc, including its baryonic components (Dark Matter + Bulge + Disk). Use your answers from Homework 3 for the Bulge and Disk Masses. \n",
    "Store this as a variable called `MassMW50`.\n"
   ]
  },
  {
   "cell_type": "code",
   "execution_count": 6,
   "metadata": {
    "execution_event_id": "dd97c029-d6e0-45a6-b552-6c8dd9093cf3",
    "last_executed_text": "# Buldge Mass\nMbuldge = 1e10*u.Msun\n\n# Disk Mass\nMdisk = 7.5e10*u.Msun\n\n# Halo mass within 50 kpc + Disk Mass + Bulge Mass\nMassMW50 = HernquistM(50) + Mdisk + Mbuldge ",
    "persistent_id": "e025d625-0899-4fdf-9722-3b23a925cb16"
   },
   "outputs": [],
   "source": [
    "# Buldge Mass\n",
    "Mbuldge = 1e10*u.Msun\n",
    "\n",
    "# Disk Mass\n",
    "Mdisk = 7.5e10*u.Msun\n",
    "\n",
    "# Halo mass within 50 kpc + Disk Mass + Bulge Mass\n",
    "MassMW50 = HernquistM(50) + Mdisk + Mbuldge "
   ]
  },
  {
   "cell_type": "code",
   "execution_count": 7,
   "metadata": {
    "execution_event_id": "d2618ba4-9b88-495c-88f2-7e8bed525823",
    "last_executed_text": "MassMW50 ",
    "persistent_id": "347558f9-676d-4daf-91ad-7aa2cf99a22d"
   },
   "outputs": [
    {
     "data": {
      "text/latex": [
       "$4.95 \\times 10^{11} \\; \\mathrm{M_{\\odot}}$"
      ],
      "text/plain": [
       "<Quantity 4.95e+11 solMass>"
      ]
     },
     "execution_count": 7,
     "metadata": {},
     "output_type": "execute_result"
    }
   ],
   "source": [
    "MassMW50 "
   ]
  },
  {
   "cell_type": "markdown",
   "metadata": {},
   "source": [
    "# Part B\n",
    "\n",
    "The Jacobi Radius for a satellite on a circular orbit about an extended host, where \n",
    "the host is assumed to be well modeled as an isothermal sphere halo:\n",
    "\n",
    "\n",
    "$R_j = r  \\bigg( \\frac{M_{sat}}{2 M_{host}(<r)} \\bigg)^{1/3}$\n",
    "\n",
    "\n",
    "The Isothermal Sphere approximation is not a bad one within 50 kpc.\n",
    "\n",
    "Note also that the LMC is not on a circular orbit, but it is very close to its pericentric approach, where the velocity is all in the tangential component. So this isn't a terrible approximation either. \n",
    "\n",
    "## #1\n",
    "Create a function called `JacobiMass` that returns the total mass of a satellite galaxy in units of Msun, \n",
    "such that it has a given size \n",
    "\n",
    "Do this by rearranging the Jacobi Radius equation to solve for the satellite mass. \n"
   ]
  },
  {
   "cell_type": "code",
   "execution_count": 8,
   "metadata": {
    "execution_event_id": "b1aaefe4-3188-4b64-8f66-2b9c17084da9",
    "last_executed_text": "# Function that returns the minimum mass of a satellite given its observed size and distance\n# from a massive host\n# Msat = (Rj/r)**3 *2 * Nhost \ndef JacobiMass(Rj,r,Mhost):\n    # Inputs:\n    #     Rj = Jacobi Radius, approximated as the observed size of the satelite (kpc)\n    #     r = distance between the satellite and the host (kpc)\n    #     Nhost = total mass of the host enclosed within r (Msun)\n    # Return:\n    #     Minimum mass of a satellite given its current size (Msun)\n    return (Rj/r)**3*2*Mhost",
    "persistent_id": "a19ab421-5df0-4c9d-9a52-c5f00f083bc5"
   },
   "outputs": [],
   "source": [
    "# Function that returns the minimum mass of a satellite given its observed size and distance\n",
    "# from a massive host\n",
    "# Msat = (Rj/r)**3 *2 * Nhost \n",
    "def JacobiMass(Rj,r,Mhost):\n",
    "    # Inputs:\n",
    "    #     Rj = Jacobi Radius, approximated as the observed size of the satelite (kpc)\n",
    "    #     r = distance between the satellite and the host (kpc)\n",
    "    #     Nhost = total mass of the host enclosed within r (Msun)\n",
    "    # Return:\n",
    "    #     Minimum mass of a satellite given its current size (Msun)\n",
    "    return (Rj/r)**3*2*Mhost"
   ]
  },
  {
   "cell_type": "markdown",
   "metadata": {},
   "source": [
    "## #2 \n",
    "\n",
    "Determine the minimum total mass of the LMC needed to maintain its radius of 18.5 kpc in the face of the Milky Way's tidal \n",
    "field at its current distance of 50 kpc. Store this as a variable called `LMCJacobiMass`."
   ]
  },
  {
   "cell_type": "code",
   "execution_count": 9,
   "metadata": {
    "execution_event_id": "98d5f1f9-63d8-4251-9bf3-213fca84dbec",
    "last_executed_text": "# Observed size of the LMC disk\nSizeL = 18.5*u.kpc # Mackey +2016\n\n# Distance to the LMC\nDistL = 50.0*u.kpc\n",
    "persistent_id": "8bfa6f7e-8ffd-4989-ae4c-702ab467039e"
   },
   "outputs": [],
   "source": [
    "# Observed size of the LMC disk\n",
    "SizeL = 18.5*u.kpc # Mackey +2016\n",
    "\n",
    "# Distance to the LMC\n",
    "DistL = 50.0*u.kpc\n"
   ]
  },
  {
   "cell_type": "code",
   "execution_count": 10,
   "metadata": {
    "execution_event_id": "5f008629-96a1-44b0-81d1-54731212067f",
    "last_executed_text": "# Minimum mass of the LMC\nLMCJacobiMass = JacobiMass(SizeL,DistL,MassMW50)\nLMCJacobiMass",
    "persistent_id": "641635cb-dd65-4d7a-9353-5d350e46270d"
   },
   "outputs": [
    {
     "data": {
      "text/latex": [
       "$5.014647 \\times 10^{10} \\; \\mathrm{M_{\\odot}}$"
      ],
      "text/plain": [
       "<Quantity 5.014647e+10 solMass>"
      ]
     },
     "execution_count": 10,
     "metadata": {},
     "output_type": "execute_result"
    }
   ],
   "source": [
    "# Minimum mass of the LMC\n",
    "LMCJacobiMass = JacobiMass(SizeL,DistL,MassMW50)\n",
    "LMCJacobiMass"
   ]
  },
  {
   "cell_type": "markdown",
   "metadata": {},
   "source": [
    "## #3\n",
    "\n",
    "Recall that, ignoring centrifugal forces and assuming the host is a point mass, the tidal radius is given as :\n",
    "\n",
    "$r_{tide} = r\\left (\\frac{m_{sat}}{4M_{host} } \\right)^{1/3} $\n",
    "\n",
    "Create a function to determine the total mass the must LMC possess to have a disk with radius 18.5 kpc.\n",
    "\n",
    "The function should take as input, the current size of the satellite (kpc), this distnce ot the host(kpc) and the mass of the host (in Msun)\n",
    "\n",
    "Use the function to determine the needed LMC mass and store it as a variable called `LMCTidalMass`. "
   ]
  },
  {
   "cell_type": "code",
   "execution_count": null,
   "metadata": {
    "collapsed": true,
    "jupyter": {
     "outputs_hidden": true
    },
    "persistent_id": "f4be46d6-30fa-4821-809c-4e01b1c8cac4"
   },
   "outputs": [],
   "source": []
  },
  {
   "cell_type": "markdown",
   "metadata": {},
   "source": [
    "## #4\n",
    "\n",
    "Compare `LMCTidalMass` to the calculation using the Jacobi Radius.\n",
    "\n",
    "How does the total mass of the LMC compare to its stellar mass (M$_\\ast = 3 \\times 10^9$ M$_\\odot$)? \n"
   ]
  },
  {
   "cell_type": "code",
   "execution_count": 11,
   "metadata": {
    "execution_event_id": "0eec597f-5109-4cc7-9062-cedaf07b521a",
    "last_executed_text": "# Stellar mass of the LMC\nLMCstar = 3e9*u.Msun",
    "persistent_id": "a26691fd-9c82-41d9-a77b-2eac80a7a1fd"
   },
   "outputs": [],
   "source": [
    "# Stellar mass of the LMC\n",
    "LMCstar = 3e9*u.Msun"
   ]
  },
  {
   "cell_type": "code",
   "execution_count": 12,
   "metadata": {
    "execution_event_id": "8d219f78-c0b5-43b6-aecf-5906430a2d88",
    "last_executed_text": "LMCJacobiMass/LMCstar",
    "persistent_id": "f8799630-f49c-4fcb-8a63-a8f3cd139190"
   },
   "outputs": [
    {
     "data": {
      "text/latex": [
       "$16.71549 \\; \\mathrm{}$"
      ],
      "text/plain": [
       "<Quantity 16.71549>"
      ]
     },
     "execution_count": 12,
     "metadata": {},
     "output_type": "execute_result"
    }
   ],
   "source": [
    "LMCJacobiMass/LMCstar"
   ]
  },
  {
   "cell_type": "markdown",
   "metadata": {},
   "source": [
    "# Part C: Consistency Check\n",
    "\n",
    "\n",
    "The maximal enclosed mass of the LMC at any radius can be determined by assuming a flat rotation curve. \n",
    "\n",
    "$V_c^2 = \\frac{G M}{r} = constant$\n",
    " \n",
    " The rotation curve of the LMC is observed to flatten at a value of 91.7 +/- 18.8 km/s  (van der Marel & Kallivayalil 2014 ApJ 781)\n",
    "  (note that 1 kpc/Gyr $\\sim$ 1 km/s). \n",
    "  \n",
    "   Create a function called `MaxMass` that takes as input Vc (km/s) and distance to from the center of the galaxy (r) and returns the maximal dynamical mass in Msun. \n",
    " \n"
   ]
  },
  {
   "cell_type": "code",
   "execution_count": 15,
   "metadata": {
    "execution_event_id": "a4e6cb07-9f4d-4146-8bbd-a8f2c558d1bd",
    "last_executed_text": "# gravitational constant in units of kpc^3/Gyr^2/Msun\nG = 4.498768e-6*u.kpc**3/u.Gyr**2/u.Msun",
    "persistent_id": "524977a8-b2cd-47d5-9ce1-1e90db0d585e"
   },
   "outputs": [],
   "source": [
    "# gravitational constant in units of kpc^3/Gyr^2/Msun\n",
    "G = 4.498768e-6*u.kpc**3/u.Gyr**2/u.Msun"
   ]
  },
  {
   "cell_type": "code",
   "execution_count": 16,
   "metadata": {
    "execution_event_id": "c4e37c70-03e2-4cef-aca2-61e44dff0281",
    "last_executed_text": "# Function that returns the maximal mass of a satellite, assuming a flat rotation curve\ndef MaxMass(Vc, Size):\n    return Vc**2*Size/G",
    "persistent_id": "063855a6-c25c-45bd-879b-1ec16217a516"
   },
   "outputs": [],
   "source": [
    "# Function that returns the maximal mass of a satellite, assuming a flat rotation curve\n",
    "def MaxMass(Vc, Size):\n",
    "    return Vc**2*Size/G"
   ]
  },
  {
   "cell_type": "markdown",
   "metadata": {},
   "source": [
    "  \n",
    "## #1  \n",
    "Compute the maximal mass enclosed by the LMC within the observed radius. Store it as a variable called `LMCMassMax`. "
   ]
  },
  {
   "cell_type": "code",
   "execution_count": 18,
   "metadata": {
    "execution_event_id": "984a273b-5c31-4f97-8b21-7e3c08ee924b",
    "last_executed_text": "LMCMassMax = MaxMass(91.7*u.km/u.s, 18.5*u.kpc)\nLMCMassMax",
    "persistent_id": "3f0dcf43-864b-4d80-bac1-82a2fa439921"
   },
   "outputs": [
    {
     "data": {
      "text/latex": [
       "$3.4579348 \\times 10^{10} \\; \\mathrm{\\frac{Gyr^{2}\\,km^{2}\\,M_{\\odot}}{kpc^{2}\\,s^{2}}}$"
      ],
      "text/plain": [
       "<Quantity 3.45793482e+10 Gyr2 km2 solMass / (kpc2 s2)>"
      ]
     },
     "execution_count": 18,
     "metadata": {},
     "output_type": "execute_result"
    }
   ],
   "source": [
    "LMCMassMax = MaxMass(91.7*u.km/u.s, 18.5*u.kpc)\n",
    "LMCMassMax"
   ]
  },
  {
   "cell_type": "markdown",
   "metadata": {},
   "source": [
    "## #2\n",
    "\n",
    "Is `LMCMassMax` consistent with `LMCMassMin`, the minimum mass needed to explain the observed radius of the LMC given the tidal field of the MW? If not, how can the numbers be reconciled?"
   ]
  },
  {
   "cell_type": "code",
   "execution_count": 19,
   "metadata": {
    "execution_event_id": "6f610461-6938-4768-a827-05aa3a9453cf",
    "last_executed_text": "JacobiMass(SizeL, DistL, 3e11*u.Msun)",
    "persistent_id": "c51f9cb9-1e85-49f9-aec1-a8db5c1f24c4"
   },
   "outputs": [
    {
     "data": {
      "text/latex": [
       "$3.03918 \\times 10^{10} \\; \\mathrm{M_{\\odot}}$"
      ],
      "text/plain": [
       "<Quantity 3.03918e+10 solMass>"
      ]
     },
     "execution_count": 19,
     "metadata": {},
     "output_type": "execute_result"
    }
   ],
   "source": [
    "JacobiMass(SizeL, DistL, 3e11*u.Msun)"
   ]
  },
  {
   "cell_type": "code",
   "execution_count": null,
   "metadata": {},
   "outputs": [],
   "source": []
  }
 ],
 "metadata": {
  "history": [
   {
    "cell": {
     "executionCount": 1,
     "executionEventId": "b2593ba4-f572-4d48-9a1c-639e38674274",
     "hasError": false,
     "id": "87536365-29a7-4c4a-9aab-3977fa132eea",
     "outputs": [],
     "persistentId": "c067d725-2bf0-4587-a47b-54a0158608aa",
     "text": "# In Class Lab 3\n# G. Besla \n\n# import relevant modules \nimport astropy.units as u\nimport numpy as np"
    },
    "executionTime": "2020-02-13T22:00:12.446Z"
   },
   {
    "cell": {
     "executionCount": 2,
     "executionEventId": "6c3b8734-307d-41d9-aced-3d08460e3671",
     "hasError": false,
     "id": "0b34b8b3-0b39-497a-9a9e-96e5803558df",
     "outputs": [],
     "persistentId": "6199ae8a-db39-4724-be97-bf5300853df4",
     "text": "# Function that returns the Hernquist 1990 Mass profile\ndef HernquistM(r,a=60,Nhalo=1.97):\n    # Inputs:\n    #        r is the distance from the center of the galaxy (kpc)\n    #        a is the scale radius (kpc)\n    #        Nhalo is the total dark matter halo mass (10^12 Msun)\n    # Return:\n    #        Total dark matter mass enclosed within r (Msun)\n    return np.round(Mhalo*r**2/(a+r)**2,2)*1e12*u.Msun"
    },
    "executionTime": "2020-02-13T22:05:31.570Z"
   },
   {
    "cell": {
     "executionCount": 3,
     "executionEventId": "db09848e-3eaa-4ca5-8018-71d618a02db0",
     "hasError": true,
     "id": "b8d66760-a148-44db-addc-1fbd0175e719",
     "outputs": [
      {
       "ename": "NameError",
       "evalue": "name 'Mhalo' is not defined",
       "output_type": "error",
       "traceback": [
        "\u001b[0;31m---------------------------------------------------------------------------\u001b[0m",
        "\u001b[0;31mNameError\u001b[0m                                 Traceback (most recent call last)",
        "\u001b[0;32m<ipython-input-3-070765b356a6>\u001b[0m in \u001b[0;36m<module>\u001b[0;34m\u001b[0m\n\u001b[0;32m----> 1\u001b[0;31m \u001b[0mHernquistM\u001b[0m\u001b[0;34m(\u001b[0m\u001b[0;36m10000\u001b[0m\u001b[0;34m)\u001b[0m\u001b[0;34m\u001b[0m\u001b[0;34m\u001b[0m\u001b[0m\n\u001b[0m",
        "\u001b[0;32m<ipython-input-2-08b4840b63b5>\u001b[0m in \u001b[0;36mHernquistM\u001b[0;34m(r, a, Nhalo)\u001b[0m\n\u001b[1;32m      7\u001b[0m     \u001b[0;31m# Return:\u001b[0m\u001b[0;34m\u001b[0m\u001b[0;34m\u001b[0m\u001b[0;34m\u001b[0m\u001b[0m\n\u001b[1;32m      8\u001b[0m     \u001b[0;31m#        Total dark matter mass enclosed within r (Msun)\u001b[0m\u001b[0;34m\u001b[0m\u001b[0;34m\u001b[0m\u001b[0;34m\u001b[0m\u001b[0m\n\u001b[0;32m----> 9\u001b[0;31m     \u001b[0;32mreturn\u001b[0m \u001b[0mnp\u001b[0m\u001b[0;34m.\u001b[0m\u001b[0mround\u001b[0m\u001b[0;34m(\u001b[0m\u001b[0mMhalo\u001b[0m\u001b[0;34m*\u001b[0m\u001b[0mr\u001b[0m\u001b[0;34m**\u001b[0m\u001b[0;36m2\u001b[0m\u001b[0;34m/\u001b[0m\u001b[0;34m(\u001b[0m\u001b[0ma\u001b[0m\u001b[0;34m+\u001b[0m\u001b[0mr\u001b[0m\u001b[0;34m)\u001b[0m\u001b[0;34m**\u001b[0m\u001b[0;36m2\u001b[0m\u001b[0;34m,\u001b[0m\u001b[0;36m2\u001b[0m\u001b[0;34m)\u001b[0m\u001b[0;34m*\u001b[0m\u001b[0;36m1e12\u001b[0m\u001b[0;34m*\u001b[0m\u001b[0mu\u001b[0m\u001b[0;34m.\u001b[0m\u001b[0mMsun\u001b[0m\u001b[0;34m\u001b[0m\u001b[0;34m\u001b[0m\u001b[0m\n\u001b[0m",
        "\u001b[0;31mNameError\u001b[0m: name 'Mhalo' is not defined"
       ]
      }
     ],
     "persistentId": "537ccb13-1b33-481b-bfd6-5ef42c27b914",
     "text": "HernquistM(10000)"
    },
    "executionTime": "2020-02-13T22:05:48.669Z"
   },
   {
    "cell": {
     "executionCount": 4,
     "executionEventId": "933e228e-5830-4e0c-a00f-6694231f845d",
     "hasError": false,
     "id": "0b34b8b3-0b39-497a-9a9e-96e5803558df",
     "outputs": [],
     "persistentId": "6199ae8a-db39-4724-be97-bf5300853df4",
     "text": "# Function that returns the Hernquist 1990 Mass profile\ndef HernquistM(r,a=60,Mhalo=1.97):\n    # Inputs:\n    #        r is the distance from the center of the galaxy (kpc)\n    #        a is the scale radius (kpc)\n    #        Nhalo is the total dark matter halo mass (10^12 Msun)\n    # Return:\n    #        Total dark matter mass enclosed within r (Msun)\n    return np.round(Mhalo*r**2/(a+r)**2,2)*1e12*u.Msun"
    },
    "executionTime": "2020-02-13T22:05:56.992Z"
   },
   {
    "cell": {
     "executionCount": 5,
     "executionEventId": "35e0bc1c-2d1b-4903-8fca-098d1c599512",
     "hasError": false,
     "id": "b8d66760-a148-44db-addc-1fbd0175e719",
     "outputs": [
      {
       "data": {
        "text/latex": "$1.95 \\times 10^{12} \\; \\mathrm{M_{\\odot}}$",
        "text/plain": "<Quantity 1.95e+12 solMass>"
       },
       "execution_count": 5,
       "metadata": {},
       "output_type": "execute_result"
      }
     ],
     "persistentId": "537ccb13-1b33-481b-bfd6-5ef42c27b914",
     "text": "HernquistM(10000)"
    },
    "executionTime": "2020-02-13T22:05:57.657Z"
   },
   {
    "cell": {
     "executionCount": 6,
     "executionEventId": "4ff625b2-d27f-424e-8789-94d6c2b69f81",
     "hasError": false,
     "id": "b32f489c-adad-42ef-81ae-eab797888dec",
     "outputs": [
      {
       "data": {
        "text/latex": "$1.3 \\times 10^{12} \\; \\mathrm{M_{\\odot}}$",
        "text/plain": "<Quantity 1.3e+12 solMass>"
       },
       "execution_count": 6,
       "metadata": {},
       "output_type": "execute_result"
      }
     ],
     "persistentId": "7f68e679-8537-4bb6-b22a-b1bc507dcd63",
     "text": "HernquistM(260)"
    },
    "executionTime": "2020-02-13T22:07:33.088Z"
   },
   {
    "cell": {
     "executionCount": 7,
     "executionEventId": "a4e345a6-84f4-4312-9938-a8de7eed89b2",
     "hasError": false,
     "id": "587e76ec-5023-411e-ae44-fbf4e9e34ea2",
     "outputs": [
      {
       "data": {
        "text/latex": "$4.1 \\times 10^{11} \\; \\mathrm{M_{\\odot}}$",
        "text/plain": "<Quantity 4.1e+11 solMass>"
       },
       "execution_count": 7,
       "metadata": {},
       "output_type": "execute_result"
      }
     ],
     "persistentId": "12572e6e-3b73-4334-9516-23a3321166bb",
     "text": "HernquistM(50)"
    },
    "executionTime": "2020-02-13T22:07:53.237Z"
   },
   {
    "cell": {
     "executionCount": 8,
     "executionEventId": "8d475a13-b2be-4c11-9fc3-03a95011f5db",
     "hasError": false,
     "id": "2f30fadc-52a7-4303-a535-6825229e05ec",
     "outputs": [],
     "persistentId": "e025d625-0899-4fdf-9722-3b23a925cb16",
     "text": "# Buldge Mass\nMbuldge = 1e10*u.Msun\n\n# Disk Mass\nMdisk = 7.5e10*u.Msun"
    },
    "executionTime": "2020-02-13T22:09:52.175Z"
   },
   {
    "cell": {
     "executionCount": 9,
     "executionEventId": "3ecde523-af33-4f5c-8462-28c892b7b063",
     "hasError": false,
     "id": "2f30fadc-52a7-4303-a535-6825229e05ec",
     "outputs": [],
     "persistentId": "e025d625-0899-4fdf-9722-3b23a925cb16",
     "text": "# Buldge Mass\nMbuldge = 1e10*u.Msun\n\n# Disk Mass\nMdisk = 7.5e10*u.Msun\n\n# Halo mass within 50 kpc + Disk Mass + Bulge Mass\nMassMW50 = HernquistM(50) + Mdisk + Mbuldge "
    },
    "executionTime": "2020-02-13T22:11:07.434Z"
   },
   {
    "cell": {
     "executionCount": 1,
     "executionEventId": "9a6c1cf8-09fe-450b-bea8-7ce9df4f069f",
     "hasError": false,
     "id": "350a2f35-7650-4d7c-82de-303ffd0c0385",
     "outputs": [],
     "persistentId": "c067d725-2bf0-4587-a47b-54a0158608aa",
     "text": "# In Class Lab 3\n# G. Besla \n\n# import relevant modules \nimport astropy.units as u\nimport numpy as np"
    },
    "executionTime": "2020-02-18T20:58:34.886Z"
   },
   {
    "cell": {
     "executionCount": 2,
     "executionEventId": "91b4491a-2acc-4889-b580-b3bcc3aa47b1",
     "hasError": false,
     "id": "9ab06e33-2f85-4d4b-8229-cc0985d3f17b",
     "outputs": [],
     "persistentId": "6199ae8a-db39-4724-be97-bf5300853df4",
     "text": "# Function that returns the Hernquist 1990 Mass profile\ndef HernquistM(r,a=60,Mhalo=1.97):\n    # Inputs:\n    #        r is the distance from the center of the galaxy (kpc)\n    #        a is the scale radius (kpc)\n    #        Nhalo is the total dark matter halo mass (10^12 Msun)\n    # Return:\n    #        Total dark matter mass enclosed within r (Msun)\n    return np.round(Mhalo*r**2/(a+r)**2,2)*1e12*u.Msun"
    },
    "executionTime": "2020-02-18T20:58:48.818Z"
   },
   {
    "cell": {
     "executionCount": 3,
     "executionEventId": "df2f6b46-c276-42d7-b61c-0ca903fc47be",
     "hasError": false,
     "id": "c8c92e89-2d23-46e2-b2fd-e757cb28b8b3",
     "outputs": [
      {
       "data": {
        "text/latex": "$1.95 \\times 10^{12} \\; \\mathrm{M_{\\odot}}$",
        "text/plain": "<Quantity 1.95e+12 solMass>"
       },
       "execution_count": 3,
       "metadata": {},
       "output_type": "execute_result"
      }
     ],
     "persistentId": "537ccb13-1b33-481b-bfd6-5ef42c27b914",
     "text": "HernquistM(10000)"
    },
    "executionTime": "2020-02-18T20:58:50.505Z"
   },
   {
    "cell": {
     "executionCount": 4,
     "executionEventId": "9b38d3e2-256d-4128-a85e-4e83cb49ca11",
     "hasError": false,
     "id": "6b860624-bd99-4f6a-bb77-f25189384aff",
     "outputs": [
      {
       "data": {
        "text/latex": "$1.3 \\times 10^{12} \\; \\mathrm{M_{\\odot}}$",
        "text/plain": "<Quantity 1.3e+12 solMass>"
       },
       "execution_count": 4,
       "metadata": {},
       "output_type": "execute_result"
      }
     ],
     "persistentId": "7f68e679-8537-4bb6-b22a-b1bc507dcd63",
     "text": "HernquistM(260)"
    },
    "executionTime": "2020-02-18T20:58:52.331Z"
   },
   {
    "cell": {
     "executionCount": 5,
     "executionEventId": "076ee3a8-1e49-47f7-a9f1-c35f95161c36",
     "hasError": false,
     "id": "bc6f3f4d-e479-4238-b511-326179f783fc",
     "outputs": [
      {
       "data": {
        "text/latex": "$4.1 \\times 10^{11} \\; \\mathrm{M_{\\odot}}$",
        "text/plain": "<Quantity 4.1e+11 solMass>"
       },
       "execution_count": 5,
       "metadata": {},
       "output_type": "execute_result"
      }
     ],
     "persistentId": "12572e6e-3b73-4334-9516-23a3321166bb",
     "text": "HernquistM(50)"
    },
    "executionTime": "2020-02-18T20:58:53.783Z"
   },
   {
    "cell": {
     "executionCount": 6,
     "executionEventId": "dd97c029-d6e0-45a6-b552-6c8dd9093cf3",
     "hasError": false,
     "id": "e6f6751f-a77e-469e-a096-7c4cbd807438",
     "outputs": [],
     "persistentId": "e025d625-0899-4fdf-9722-3b23a925cb16",
     "text": "# Buldge Mass\nMbuldge = 1e10*u.Msun\n\n# Disk Mass\nMdisk = 7.5e10*u.Msun\n\n# Halo mass within 50 kpc + Disk Mass + Bulge Mass\nMassMW50 = HernquistM(50) + Mdisk + Mbuldge "
    },
    "executionTime": "2020-02-18T20:58:58.776Z"
   },
   {
    "cell": {
     "executionCount": 7,
     "executionEventId": "d2618ba4-9b88-495c-88f2-7e8bed525823",
     "hasError": false,
     "id": "7afdf5ad-2c8f-45d7-9181-5dc8ec61d221",
     "outputs": [
      {
       "data": {
        "text/latex": "$4.95 \\times 10^{11} \\; \\mathrm{M_{\\odot}}$",
        "text/plain": "<Quantity 4.95e+11 solMass>"
       },
       "execution_count": 7,
       "metadata": {},
       "output_type": "execute_result"
      }
     ],
     "persistentId": "347558f9-676d-4daf-91ad-7aa2cf99a22d",
     "text": "MassMW50 "
    },
    "executionTime": "2020-02-18T20:59:01.181Z"
   },
   {
    "cell": {
     "executionCount": 8,
     "executionEventId": "b1aaefe4-3188-4b64-8f66-2b9c17084da9",
     "hasError": false,
     "id": "31a41a5a-bba6-461d-8080-dd36a505c98d",
     "outputs": [],
     "persistentId": "a19ab421-5df0-4c9d-9a52-c5f00f083bc5",
     "text": "# Function that returns the minimum mass of a satellite given its observed size and distance\n# from a massive host\n# Msat = (Rj/r)**3 *2 * Nhost \ndef JacobiMass(Rj,r,Mhost):\n    # Inputs:\n    #     Rj = Jacobi Radius, approximated as the observed size of the satelite (kpc)\n    #     r = distance between the satellite and the host (kpc)\n    #     Nhost = total mass of the host enclosed within r (Msun)\n    # Return:\n    #     Minimum mass of a satellite given its current size (Msun)\n    return (Rj/r)**3*2*Mhost"
    },
    "executionTime": "2020-02-18T21:18:05.478Z"
   },
   {
    "cell": {
     "executionCount": 9,
     "executionEventId": "98d5f1f9-63d8-4251-9bf3-213fca84dbec",
     "hasError": false,
     "id": "9e58f664-1813-4964-a35d-7d6e51a70cae",
     "outputs": [],
     "persistentId": "8bfa6f7e-8ffd-4989-ae4c-702ab467039e",
     "text": "# Observed size of the LMC disk\nSizeL = 18.5*u.kpc # Mackey +2016\n\n# Distance to the LMC\nDistL = 50.0*u.kpc\n"
    },
    "executionTime": "2020-02-18T21:20:26.242Z"
   },
   {
    "cell": {
     "executionCount": 10,
     "executionEventId": "5f008629-96a1-44b0-81d1-54731212067f",
     "hasError": false,
     "id": "1826f642-1c1c-4f85-afac-905849f15439",
     "outputs": [
      {
       "data": {
        "text/latex": "$5.014647 \\times 10^{10} \\; \\mathrm{M_{\\odot}}$",
        "text/plain": "<Quantity 5.014647e+10 solMass>"
       },
       "execution_count": 10,
       "metadata": {},
       "output_type": "execute_result"
      }
     ],
     "persistentId": "641635cb-dd65-4d7a-9353-5d350e46270d",
     "text": "# Minimum mass of the LMC\nLMCJacobiMass = JacobiMass(SizeL,DistL,MassMW50)\nLMCJacobiMass"
    },
    "executionTime": "2020-02-18T21:20:42.604Z"
   },
   {
    "cell": {
     "executionCount": 11,
     "executionEventId": "0eec597f-5109-4cc7-9062-cedaf07b521a",
     "hasError": false,
     "id": "1f2a1c6c-08f0-4d43-a7a5-f216fa5b5084",
     "outputs": [],
     "persistentId": "a26691fd-9c82-41d9-a77b-2eac80a7a1fd",
     "text": "# Stellar mass of the LMC\nLMCstar = 3e9*u.Msun"
    },
    "executionTime": "2020-02-18T21:23:34.509Z"
   },
   {
    "cell": {
     "executionCount": 12,
     "executionEventId": "8d219f78-c0b5-43b6-aecf-5906430a2d88",
     "hasError": false,
     "id": "0e18d6dd-59d0-4361-ab21-0aca0e498486",
     "outputs": [
      {
       "data": {
        "text/latex": "$16.71549 \\; \\mathrm{}$",
        "text/plain": "<Quantity 16.71549>"
       },
       "execution_count": 12,
       "metadata": {},
       "output_type": "execute_result"
      }
     ],
     "persistentId": "f8799630-f49c-4fcb-8a63-a8f3cd139190",
     "text": "LMCJacobiMass/LMCstar"
    },
    "executionTime": "2020-02-18T21:23:47.394Z"
   },
   {
    "cell": {
     "executionCount": 13,
     "executionEventId": "706fce96-3eb0-4298-843e-ab661d947f5a",
     "hasError": false,
     "id": "6a1db18a-bb5d-4a84-8430-989264d1a316",
     "outputs": [],
     "persistentId": "063855a6-c25c-45bd-879b-1ec16217a516",
     "text": "# Function that returns the maximal mass of a satellite, assuming a flat rotation curve\ndef MaxMass(Vc, Size):\n    return Vc**2*Size/G"
    },
    "executionTime": "2020-02-18T21:26:50.831Z"
   },
   {
    "cell": {
     "executionCount": 14,
     "executionEventId": "824252a3-bb6b-4ed2-994a-c8859d08f57a",
     "hasError": false,
     "id": "ccdf8a2e-f9b4-4b89-9c41-40a04be35d5a",
     "outputs": [],
     "persistentId": "524977a8-b2cd-47d5-9ce1-1e90db0d585e",
     "text": "# gravitational constant in units of kpc^3/Gyr^2/Msun\nG = 4.498768e-6*u.kpc**3/u.Gyr**2/u.Msun"
    },
    "executionTime": "2020-02-18T21:26:54.137Z"
   },
   {
    "cell": {
     "executionCount": 15,
     "executionEventId": "a4e6cb07-9f4d-4146-8bbd-a8f2c558d1bd",
     "hasError": false,
     "id": "ccdf8a2e-f9b4-4b89-9c41-40a04be35d5a",
     "outputs": [],
     "persistentId": "524977a8-b2cd-47d5-9ce1-1e90db0d585e",
     "text": "# gravitational constant in units of kpc^3/Gyr^2/Msun\nG = 4.498768e-6*u.kpc**3/u.Gyr**2/u.Msun"
    },
    "executionTime": "2020-02-18T21:27:15.643Z"
   },
   {
    "cell": {
     "executionCount": 16,
     "executionEventId": "c4e37c70-03e2-4cef-aca2-61e44dff0281",
     "hasError": false,
     "id": "6a1db18a-bb5d-4a84-8430-989264d1a316",
     "outputs": [],
     "persistentId": "063855a6-c25c-45bd-879b-1ec16217a516",
     "text": "# Function that returns the maximal mass of a satellite, assuming a flat rotation curve\ndef MaxMass(Vc, Size):\n    return Vc**2*Size/G"
    },
    "executionTime": "2020-02-18T21:27:16.207Z"
   },
   {
    "cell": {
     "executionCount": 17,
     "executionEventId": "fe9a28ad-2e8e-4060-b63d-4dbd6cf58b2c",
     "hasError": false,
     "id": "18f41eaa-98a6-42df-96e4-bac1a19ec7da",
     "outputs": [],
     "persistentId": "3f0dcf43-864b-4d80-bac1-82a2fa439921",
     "text": "LMCMassMax = MaxMass(91.7, 18.5)"
    },
    "executionTime": "2020-02-18T21:27:59.547Z"
   },
   {
    "cell": {
     "executionCount": 18,
     "executionEventId": "984a273b-5c31-4f97-8b21-7e3c08ee924b",
     "hasError": false,
     "id": "18f41eaa-98a6-42df-96e4-bac1a19ec7da",
     "outputs": [
      {
       "data": {
        "text/latex": "$3.4579348 \\times 10^{10} \\; \\mathrm{\\frac{Gyr^{2}\\,km^{2}\\,M_{\\odot}}{kpc^{2}\\,s^{2}}}$",
        "text/plain": "<Quantity 3.45793482e+10 Gyr2 km2 solMass / (kpc2 s2)>"
       },
       "execution_count": 18,
       "metadata": {},
       "output_type": "execute_result"
      }
     ],
     "persistentId": "3f0dcf43-864b-4d80-bac1-82a2fa439921",
     "text": "LMCMassMax = MaxMass(91.7*u.km/u.s, 18.5*u.kpc)\nLMCMassMax"
    },
    "executionTime": "2020-02-18T21:28:26.341Z"
   },
   {
    "cell": {
     "executionCount": 19,
     "executionEventId": "6f610461-6938-4768-a827-05aa3a9453cf",
     "hasError": false,
     "id": "458ee608-0e9d-4926-a0ce-6e3ed518d13b",
     "outputs": [
      {
       "data": {
        "text/latex": "$3.03918 \\times 10^{10} \\; \\mathrm{M_{\\odot}}$",
        "text/plain": "<Quantity 3.03918e+10 solMass>"
       },
       "execution_count": 19,
       "metadata": {},
       "output_type": "execute_result"
      }
     ],
     "persistentId": "c51f9cb9-1e85-49f9-aec1-a8db5c1f24c4",
     "text": "JacobiMass(SizeL, DistL, 3e11*u.Msun)"
    },
    "executionTime": "2020-02-18T21:30:24.260Z"
   }
  ],
  "kernelspec": {
   "display_name": "Python 3",
   "language": "python",
   "name": "python3"
  },
  "language_info": {
   "codemirror_mode": {
    "name": "ipython",
    "version": 3
   },
   "file_extension": ".py",
   "mimetype": "text/x-python",
   "name": "python",
   "nbconvert_exporter": "python",
   "pygments_lexer": "ipython3",
   "version": "3.6.7"
  },
  "uuid": "3b694dea-379c-497d-820a-4685ad7d49a0"
 },
 "nbformat": 4,
 "nbformat_minor": 4
}
