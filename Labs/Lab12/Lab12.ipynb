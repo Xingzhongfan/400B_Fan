{
 "cells": [
  {
   "cell_type": "markdown",
   "metadata": {},
   "source": [
    "# In Class Lab 12 Template\n",
    "# Cosmological Tools\n",
    "\n",
    "In this lab you will create a Class called `CosmologicalTools` that will define various functions that are useful for defining cosmological quantities. We will be adding to this class in subsequent labs. \n",
    "\n",
    "For Lab 12, we will create functions that return the Hubble Parameter and the Density Parameters as a function of redshift. \n",
    "\n"
   ]
  },
  {
   "cell_type": "code",
   "execution_count": 1,
   "metadata": {
    "execution_event_id": "e7ec6ee2-a25b-4f8a-83a1-f2d453132024",
    "last_executed_text": "# import modules\nimport numpy as np\nimport astropy.units as u\nfrom astropy.constants import G\n\n# import plotting modules\nimport matplotlib.pyplot as plt\nimport matplotlib\n%matplotlib inline",
    "persistent_id": "f742eae6-10db-440b-834d-1209dee22a39"
   },
   "outputs": [],
   "source": [
    "# import modules\n",
    "import numpy as np\n",
    "import astropy.units as u\n",
    "from astropy.constants import G\n",
    "\n",
    "# import plotting modules\n",
    "import matplotlib.pyplot as plt\n",
    "import matplotlib\n",
    "%matplotlib inline"
   ]
  },
  {
   "cell_type": "code",
   "execution_count": 2,
   "metadata": {
    "execution_event_id": "4bc08b51-c14f-4d0b-a5fc-a133026e199c",
    "last_executed_text": "# Define the benchmark cosmology at z =0\n# Planck 2016 results. XIII. Cosmological parameters   \n# Planck Collaboration+2016 A&A 594 13  Table 4, column 2 \n\nOmegaM0_planck = 0.308   # Matter Density Parameter\nOmegaR0_planck = 8.24e-5  # Radiation Density Parameter\nOmegaL0_planck = 0.692  # Dark Energy Density Parameter\nh_planck = 0.6781   # Hubble Constant  100 h km/s/Mpc\n        ",
    "persistent_id": "9601cc86-4dc4-4d18-af01-c3856d00956a"
   },
   "outputs": [],
   "source": [
    "# Define the benchmark cosmology at z =0\n",
    "# Planck 2016 results. XIII. Cosmological parameters   \n",
    "# Planck Collaboration+2016 A&A 594 13  Table 4, column 2 \n",
    "\n",
    "OmegaM0_planck = 0.308   # Matter Density Parameter\n",
    "OmegaR0_planck = 8.24e-5  # Radiation Density Parameter\n",
    "OmegaL0_planck = 0.692  # Dark Energy Density Parameter\n",
    "h_planck = 0.6781   # Hubble Constant  100 h km/s/Mpc\n",
    "        "
   ]
  },
  {
   "cell_type": "markdown",
   "metadata": {},
   "source": [
    "\n",
    "# Part 1 :\n",
    "\n",
    "A)\n",
    "The first function of the class is called `HubbleParameter`.   From class:\n",
    "\n",
    "$H(z)^2 = H_o^2 \\Bigg [ \\Omega_{m,o}(1+z)^3 + \\Omega_{rad,o}(1+z)^4 + \\Omega_{\\Lambda,o} + \\Omega_{K,o}(1+z)^2 \\Bigg ] $\n",
    "\n",
    "- Complete the initialization of the Class. \n",
    "- Complete the function to return H(z). \n",
    "\n",
    "B)\n",
    "Check your code to make sure it returns the correct Hubble Parameter at z=0  of 67.81 km/s/Mpc\n",
    "\n",
    "C) \n",
    "Determine the Hubble Parameter at z = 1 in the benchmark cosmology\n",
    "\n",
    "D) The Einstein De Sitter cosmology refers to a time when normal matter dominated the energy budget. \n",
    "$\\Omega_m = 1$ and all other density parameters are negligible (set to 0).\n",
    "\n",
    "   -  Determine the Hubble Parameter at z=1 in the Einstein De Sitter Cosmology\n",
    "\n",
    "   -   Is the recession velocity of a galaxy at a given distance expected to be larger or smaller than in the benchmark cosmology at z=1?"
   ]
  },
  {
   "cell_type": "markdown",
   "metadata": {},
   "source": [
    "# Part 2:\n",
    "\n",
    "\n",
    "## A) \n",
    "\n",
    "From class:\n",
    "\n",
    "$\\Omega_m(z) = \\Omega_{m0} (1+z)^3 \\Bigg (\\frac{H_o}{H(z)} \\Bigg )^2$\n",
    "\n",
    "\n",
    "$\\Omega_{rad}(z) = \\Omega_{rad0}(1+z)^4\\Bigg (\\frac{H_o}{H(z)} \\Bigg )^2$\n",
    "\n",
    "\n",
    "$\\Omega_\\Lambda(z) = \\Omega_{\\Lambda 0}\\Bigg (\\frac{H_o}{H(z)} \\Bigg )^2$\n",
    "\n",
    "\n",
    "Complete the corresponding functions in the class\n",
    "\n",
    "## B) \n",
    "\n",
    "Plot $\\Omega_m$(z),  $\\Omega_{rad}$(z) and $\\Omega_{\\Lambda}$(z) as a function of z using the benchmark cosmology.  \n",
    "\n",
    "But plot the x values as (z+1).  \n",
    "\n",
    "An array of redshifts has already been defined (zrange), starting from the future  (zmin = -0.9) to the past (zmax = 10$^5$).\n",
    "\n",
    "## C) \n",
    "\n",
    "-  At what redshift does radiation dominate? This epoch is referred to as matter-radiation equality.\n",
    "-  At what redshift does dark energy dominate?\n"
   ]
  },
  {
   "cell_type": "code",
   "execution_count": 19,
   "metadata": {
    "execution_event_id": "0ee17bb8-5e8a-470c-ab33-1faa333178a6",
    "last_executed_text": "class CosmologicalTools:\n    # Define a class that provides functions to compute various cosmological quantities\n    # for a given cosmology  \n        \n    def __init__(self, OmegaM0, OmegaR0, OmegaL0, h):\n        # initialize the instance of the class - for any given Cosmology\n        # Input:    Omega M matter density parameter at z=0\n        #           Omega R radiation density parameter at z=0\n        #           Omega L  dark energy density parameter at z=0\n        #           h  normalization for the hubble parameter at z=0\n        \n        # initialize the cosmology at z=0\n        self.OmegaM0 = OmegaM0   ### Matter Density Parameter\n        self.OmegaR0 = OmegaR0  ### Radiation Density Parameter\n        self.OmegaL0 = OmegaL0  ### Dark Energy Density Parameter\n        self.OmegaK0 = (1 - (OmegaM0 + OmegaR0 + OmegaL0))    #### Curvature Density Parameter\n    \n        self.h = h   # Normalization of Hubble Parameter   \n        self.Ho = h*100*u.km/u.s/u.Mpc #  Hubble Constant at z=0  100 h km/s/Mpc\n    \n    \n    # Question 1 A)\n    def HubbleParameter(self, z):\n        # Function that defines the Hubble Parameter as a function of redshift\n        # H(z)^2 = H_o^2 [ OmegaM0(1+z)^3 + OmegaR0(1+z)^4 + OmegaLambda0 + OmegaK0(1+z)^2] \n        # Input:   Redshift z \n        # Returns: The Hubble parameter at the given redshift in units of km/s/Mpc        \n        \n        # FILL THIS IN \n        M = self.OmegaM0*(1+z)**3\n        R = self.OmegaR0*(1+z)**4\n        L = self.OmegaL0\n        K = self.OmegaK0*(1+z)**2\n        \n        return self.Ho*np.sqrt(M+R+L+K)\n    \n    \n    # Question 2 A)\n    def OmegaM_Z(self,z):\n        # Function that defines the matter density parameter as a function of redshift\n        # Input:  Redshift z . Can be an array\n        # Output:  Matter Density Parameter at the given redshift.\n        \n        # FILL THIS IN\n        return self.OmegaM0*(1+z)**3*self.Ho**2/self.HubbleParameter(z)**2\n    \n    def OmegaR_Z(self,z):\n        # Function that defines the radiation density parameter as a function of redshift\n        # Input:  Redshift z . Can be an array\n        # Output:  Radiation Density Parameter at the given redshift.\n        \n        # FILL THIS IN\n        return self.OmegaR0*(1+z)**4*self.Ho**2/self.HubbleParameter(z)**2\n    \n    \n    def OmegaL_Z(self,z):\n        # Function that defines the dark energy density parameter as a function of redshift\n        # Input:  Redshift z . Can be an array\n        # Output:  Dark Energy Density Parameter at the given redshift.\n        \n        # FILL THIS IN\n        return self.OmegaL0*self.Ho**2/self.HubbleParameter(z)**2\n    \n    \n    ",
    "persistent_id": "8294a357-155c-4e89-8088-71021d3c72be"
   },
   "outputs": [],
   "source": [
    "class CosmologicalTools:\n",
    "    # Define a class that provides functions to compute various cosmological quantities\n",
    "    # for a given cosmology  \n",
    "        \n",
    "    def __init__(self, OmegaM0, OmegaR0, OmegaL0, h):\n",
    "        # initialize the instance of the class - for any given Cosmology\n",
    "        # Input:    Omega M matter density parameter at z=0\n",
    "        #           Omega R radiation density parameter at z=0\n",
    "        #           Omega L  dark energy density parameter at z=0\n",
    "        #           h  normalization for the hubble parameter at z=0\n",
    "        \n",
    "        # initialize the cosmology at z=0\n",
    "        self.OmegaM0 = OmegaM0   ### Matter Density Parameter\n",
    "        self.OmegaR0 = OmegaR0  ### Radiation Density Parameter\n",
    "        self.OmegaL0 = OmegaL0  ### Dark Energy Density Parameter\n",
    "        self.OmegaK0 = (1 - (OmegaM0 + OmegaR0 + OmegaL0))    #### Curvature Density Parameter\n",
    "    \n",
    "        self.h = h   # Normalization of Hubble Parameter   \n",
    "        self.Ho = h*100*u.km/u.s/u.Mpc #  Hubble Constant at z=0  100 h km/s/Mpc\n",
    "    \n",
    "    \n",
    "    # Question 1 A)\n",
    "    def HubbleParameter(self, z):\n",
    "        # Function that defines the Hubble Parameter as a function of redshift\n",
    "        # H(z)^2 = H_o^2 [ OmegaM0(1+z)^3 + OmegaR0(1+z)^4 + OmegaLambda0 + OmegaK0(1+z)^2] \n",
    "        # Input:   Redshift z \n",
    "        # Returns: The Hubble parameter at the given redshift in units of km/s/Mpc        \n",
    "        \n",
    "        # FILL THIS IN \n",
    "        M = self.OmegaM0*(1+z)**3\n",
    "        R = self.OmegaR0*(1+z)**4\n",
    "        L = self.OmegaL0\n",
    "        K = self.OmegaK0*(1+z)**2\n",
    "        \n",
    "        return self.Ho*np.sqrt(M+R+L+K)\n",
    "    \n",
    "    \n",
    "    # Question 2 A)\n",
    "    def OmegaM_Z(self,z):\n",
    "        # Function that defines the matter density parameter as a function of redshift\n",
    "        # Input:  Redshift z . Can be an array\n",
    "        # Output:  Matter Density Parameter at the given redshift.\n",
    "        \n",
    "        # FILL THIS IN\n",
    "        return self.OmegaM0*(1+z)**3*self.Ho**2/self.HubbleParameter(z)**2\n",
    "    \n",
    "    def OmegaR_Z(self,z):\n",
    "        # Function that defines the radiation density parameter as a function of redshift\n",
    "        # Input:  Redshift z . Can be an array\n",
    "        # Output:  Radiation Density Parameter at the given redshift.\n",
    "        \n",
    "        # FILL THIS IN\n",
    "        return self.OmegaR0*(1+z)**4*self.Ho**2/self.HubbleParameter(z)**2\n",
    "    \n",
    "    \n",
    "    def OmegaL_Z(self,z):\n",
    "        # Function that defines the dark energy density parameter as a function of redshift\n",
    "        # Input:  Redshift z . Can be an array\n",
    "        # Output:  Dark Energy Density Parameter at the given redshift.\n",
    "        \n",
    "        # FILL THIS IN\n",
    "        return self.OmegaL0*self.Ho**2/self.HubbleParameter(z)**2\n",
    "    \n",
    "    \n",
    "    "
   ]
  },
  {
   "cell_type": "code",
   "execution_count": 20,
   "metadata": {
    "execution_event_id": "f9a18736-7b9a-4af0-81db-1e6a2b5b39a6",
    "last_executed_text": "# Define here an instance of the Class Cosmological Tools that follows the Benchmark Cosmology\nBenchMark = CosmologicalTools(OmegaM0_planck,OmegaR0_planck,OmegaL0_planck,h_planck)\n\n",
    "persistent_id": "72f6ac47-7c31-4603-add0-5bfe97486af2"
   },
   "outputs": [],
   "source": [
    "# Define here an instance of the Class Cosmological Tools that follows the Benchmark Cosmology\n",
    "BenchMark = CosmologicalTools(OmegaM0_planck,OmegaR0_planck,OmegaL0_planck,h_planck)\n",
    "\n"
   ]
  },
  {
   "cell_type": "code",
   "execution_count": 5,
   "metadata": {
    "execution_event_id": "a200fc14-feac-4e47-81e7-0ba1ca99b728",
    "last_executed_text": "# Question 1 B) \n\n# Test Hubble Parameter at z = 0\nBenchMark.HubbleParameter(0)",
    "persistent_id": "2fdcf8cc-d8b2-4044-8f30-adf4b38093a1"
   },
   "outputs": [
    {
     "data": {
      "text/latex": [
       "$67.81 \\; \\mathrm{\\frac{km}{Mpc\\,s}}$"
      ],
      "text/plain": [
       "<Quantity 67.81 km / (Mpc s)>"
      ]
     },
     "execution_count": 5,
     "metadata": {},
     "output_type": "execute_result"
    }
   ],
   "source": [
    "# Question 1 B) \n",
    "\n",
    "# Test Hubble Parameter at z = 0\n",
    "BenchMark.HubbleParameter(0)"
   ]
  },
  {
   "cell_type": "code",
   "execution_count": 6,
   "metadata": {
    "execution_event_id": "63b1e9b4-c5a4-4483-a874-02470f2c7e0c",
    "last_executed_text": "BenchMark.Ho",
    "persistent_id": "79660999-764d-4d38-b1e3-13e45c7e6f49"
   },
   "outputs": [
    {
     "data": {
      "text/latex": [
       "$67.81 \\; \\mathrm{\\frac{km}{Mpc\\,s}}$"
      ],
      "text/plain": [
       "<Quantity 67.81 km / (Mpc s)>"
      ]
     },
     "execution_count": 6,
     "metadata": {},
     "output_type": "execute_result"
    }
   ],
   "source": [
    "BenchMark.Ho"
   ]
  },
  {
   "cell_type": "code",
   "execution_count": 7,
   "metadata": {
    "execution_event_id": "c661cfbe-62fa-4042-a134-b1a6f06a694b",
    "last_executed_text": "# Question 1 C) \n\n# Compute the Hubble Parameter at z = 1 in BenchMark Cosmology\nBenchMark.HubbleParameter(1)",
    "persistent_id": "4fecc19c-8f59-42ca-a234-95b3a3e1c274"
   },
   "outputs": [
    {
     "data": {
      "text/latex": [
       "$120.48425 \\; \\mathrm{\\frac{km}{Mpc\\,s}}$"
      ],
      "text/plain": [
       "<Quantity 120.48424622 km / (Mpc s)>"
      ]
     },
     "execution_count": 7,
     "metadata": {},
     "output_type": "execute_result"
    }
   ],
   "source": [
    "# Question 1 C) \n",
    "\n",
    "# Compute the Hubble Parameter at z = 1 in BenchMark Cosmology\n",
    "BenchMark.HubbleParameter(1)"
   ]
  },
  {
   "cell_type": "code",
   "execution_count": 8,
   "metadata": {
    "execution_event_id": "979c16b7-7a54-4274-a166-152f56cf0d66",
    "last_executed_text": "# Question 1 D) \n# Define the cosmology for the Einstein De Sitter Universe\nOmegaMD = 1\nOmegaRD = 0\nOmegaLD = 0\n# h is the same \n",
    "persistent_id": "f725182d-c009-4d39-b6d0-513463d65c38"
   },
   "outputs": [],
   "source": [
    "# Question 1 D) \n",
    "# Define the cosmology for the Einstein De Sitter Universe\n",
    "OmegaMD = 1\n",
    "OmegaRD = 0\n",
    "OmegaLD = 0\n",
    "# h is the same \n"
   ]
  },
  {
   "cell_type": "code",
   "execution_count": 12,
   "metadata": {
    "execution_event_id": "c3f2f2fc-31e5-41a4-bda9-c4fd8bfb945f",
    "last_executed_text": "# Define a New Instance of the Class with Einstein De Sitter Cosmology \n\nDeSitter = CosmologicalTools(OmegaMD,OmegaRD,OmegaLD,h_planck)\n# ******NOTE in the video i write \"h\" it should be \"h_planck\"\n\n\n\n# Compute the Hubble Parameter at z = 1.0 in Einstein De Sitter Cosmology\nDeSitter.HubbleParameter(1)",
    "persistent_id": "8060e33d-af1a-4cb2-8e1a-ce0a77818069"
   },
   "outputs": [
    {
     "data": {
      "text/latex": [
       "$191.79564 \\; \\mathrm{\\frac{km}{Mpc\\,s}}$"
      ],
      "text/plain": [
       "<Quantity 191.79564333 km / (Mpc s)>"
      ]
     },
     "execution_count": 12,
     "metadata": {},
     "output_type": "execute_result"
    }
   ],
   "source": [
    "# Define a New Instance of the Class with Einstein De Sitter Cosmology \n",
    "\n",
    "DeSitter = CosmologicalTools(OmegaMD,OmegaRD,OmegaLD,h_planck)\n",
    "# ******NOTE in the video i write \"h\" it should be \"h_planck\"\n",
    "\n",
    "\n",
    "\n",
    "# Compute the Hubble Parameter at z = 1.0 in Einstein De Sitter Cosmology\n",
    "DeSitter.HubbleParameter(1)"
   ]
  },
  {
   "cell_type": "markdown",
   "metadata": {},
   "source": [
    "Is the recession velocity of a galaxy at a given distance larger or smaller than in the benchmark cosmology at z=1?\n"
   ]
  },
  {
   "cell_type": "code",
   "execution_count": 22,
   "metadata": {
    "execution_event_id": "73b62f82-53a0-4056-866c-7ac7cc3845d1",
    "last_executed_text": "# Question 2 B) \n\n\n# Plot the Redshift Evolution of OmegaM, OmegaR and OmegaL\n############################################################\n\nfig = plt.figure(figsize=(10,10))\nax = plt.subplot(111)\n\n# Define an array of redshift \nzmax = 10**5\nzmin = -0.9\nzrange = np.arange(zmin, zmax, 0.1)\n\n\n# Evolution of Matter Density Parameter as a function of 1+z\n# FILL THIS IN\nplt.semilogx(1+zrange, BenchMark.OmegaM_Z(zrange), color='blue', linewidth=5, label=r'$\\Omega_M$(z)')\n\n# Evolution of Radiation Density Parameter \n# FILL THIS IN \nplt.semilogx(1+zrange, BenchMark.OmegaR_Z(zrange) , color='red', linewidth=5, label=r'$\\Omega_R$(z)')\n\n# Evolution of Dark Energy Density Parameter \n# FILL THIS IN\nplt.semilogx(1+zrange, BenchMark.OmegaL_Z(zrange) , color='black', linewidth=5, label=r'$\\Omega_L$(z)')\n\n\n\n\n# Add axis labels\nplt.xlabel('1+z', fontsize=22)\nplt.ylabel(r'$\\Omega$(z)', fontsize=22)\n\n\n#adjust tick label font size\nlabel_size = 22\nmatplotlib.rcParams['xtick.labelsize'] = label_size \nmatplotlib.rcParams['ytick.labelsize'] = label_size\n\n\nlegend = ax.legend(loc='upper center', fontsize='x-large', \n                   bbox_to_anchor=(0.5, 1.05),ncol=3, fancybox=True, shadow=True)\n\n# Save to a file\nax.set_rasterized(True)\nplt.savefig('DensityParameterEvolution.png', rasterized=True, dpi=350)",
    "persistent_id": "8cb1e9de-fc60-4d52-a4e3-5e4ab92a11d5"
   },
   "outputs": [
    {
     "data": {
      "image/png": "[encoded data removed]",
      "text/plain": [
       "<Figure size 720x720 with 1 Axes>"
      ]
     },
     "metadata": {
      "needs_background": "light"
     },
     "output_type": "display_data"
    }
   ],
   "source": [
    "# Question 2 B) \n",
    "\n",
    "\n",
    "# Plot the Redshift Evolution of OmegaM, OmegaR and OmegaL\n",
    "############################################################\n",
    "\n",
    "fig = plt.figure(figsize=(10,10))\n",
    "ax = plt.subplot(111)\n",
    "\n",
    "# Define an array of redshift \n",
    "zmax = 10**5\n",
    "zmin = -0.9\n",
    "zrange = np.arange(zmin, zmax, 0.1)\n",
    "\n",
    "\n",
    "# Evolution of Matter Density Parameter as a function of 1+z\n",
    "# FILL THIS IN\n",
    "plt.semilogx(1+zrange, BenchMark.OmegaM_Z(zrange), color='blue', linewidth=5, label=r'$\\Omega_M$(z)')\n",
    "\n",
    "# Evolution of Radiation Density Parameter \n",
    "# FILL THIS IN \n",
    "plt.semilogx(1+zrange, BenchMark.OmegaR_Z(zrange) , color='red', linewidth=5, label=r'$\\Omega_R$(z)')\n",
    "\n",
    "# Evolution of Dark Energy Density Parameter \n",
    "# FILL THIS IN\n",
    "plt.semilogx(1+zrange, BenchMark.OmegaL_Z(zrange) , color='black', linewidth=5, label=r'$\\Omega_L$(z)')\n",
    "\n",
    "\n",
    "\n",
    "\n",
    "# Add axis labels\n",
    "plt.xlabel('1+z', fontsize=22)\n",
    "plt.ylabel(r'$\\Omega$(z)', fontsize=22)\n",
    "\n",
    "\n",
    "#adjust tick label font size\n",
    "label_size = 22\n",
    "matplotlib.rcParams['xtick.labelsize'] = label_size \n",
    "matplotlib.rcParams['ytick.labelsize'] = label_size\n",
    "\n",
    "\n",
    "legend = ax.legend(loc='upper center', fontsize='x-large', \n",
    "                   bbox_to_anchor=(0.5, 1.05),ncol=3, fancybox=True, shadow=True)\n",
    "\n",
    "# Save to a file\n",
    "ax.set_rasterized(True)\n",
    "plt.savefig('DensityParameterEvolution.png', rasterized=True, dpi=350)"
   ]
  },
  {
   "cell_type": "markdown",
   "metadata": {},
   "source": [
    "# Question 2 C) \n",
    "\n",
    " At what approximate redshift does Radiation Density dominate?\n",
    "\n",
    "\n"
   ]
  },
  {
   "cell_type": "code",
   "execution_count": 27,
   "metadata": {
    "execution_event_id": "3dc91ef0-bd44-4bf3-ac8e-ee83bed3dc03",
    "last_executed_text": "BenchMark.OmegaM_Z(3.75e3)",
    "persistent_id": "c4b9a3b9-ad68-4498-9a10-721abbe3a6e2"
   },
   "outputs": [
    {
     "data": {
      "text/latex": [
       "$0.49912299 \\; \\mathrm{}$"
      ],
      "text/plain": [
       "<Quantity 0.49912299>"
      ]
     },
     "execution_count": 27,
     "metadata": {},
     "output_type": "execute_result"
    }
   ],
   "source": [
    "BenchMark.OmegaM_Z(3.75e3)"
   ]
  },
  {
   "cell_type": "markdown",
   "metadata": {},
   "source": [
    " At what approximate redshift does Dark Energy dominate?   \n"
   ]
  },
  {
   "cell_type": "code",
   "execution_count": 28,
   "metadata": {
    "execution_event_id": "99862907-392b-41a6-8486-cbd4d91f88f4",
    "last_executed_text": "BenchMark.OmegaR_Z(3.75e3)",
    "persistent_id": "4eece4d9-90c8-4157-b4f2-fcd9c8cd5464"
   },
   "outputs": [
    {
     "data": {
      "text/latex": [
       "$0.50087705 \\; \\mathrm{}$"
      ],
      "text/plain": [
       "<Quantity 0.50087705>"
      ]
     },
     "execution_count": 28,
     "metadata": {},
     "output_type": "execute_result"
    }
   ],
   "source": [
    "BenchMark.OmegaR_Z(3.75e3)"
   ]
  },
  {
   "cell_type": "code",
   "execution_count": 30,
   "metadata": {
    "execution_event_id": "1aac2366-b6d2-4477-b0de-a253dbad40e4",
    "last_executed_text": "BenchMark.OmegaM_Z(0.3)",
    "persistent_id": "11da28d4-6866-4b22-be08-3512597b17e5"
   },
   "outputs": [
    {
     "data": {
      "text/latex": [
       "$0.49436718 \\; \\mathrm{}$"
      ],
      "text/plain": [
       "<Quantity 0.49436718>"
      ]
     },
     "execution_count": 30,
     "metadata": {},
     "output_type": "execute_result"
    }
   ],
   "source": [
    "BenchMark.OmegaM_Z(0.3)"
   ]
  },
  {
   "cell_type": "code",
   "execution_count": 31,
   "metadata": {
    "execution_event_id": "8cff60ff-4a9e-41e3-9fdb-3f50697b89c1",
    "last_executed_text": "BenchMark.OmegaL_Z(0.3)",
    "persistent_id": "2f503b15-6603-4084-b757-e18bec256ba5"
   },
   "outputs": [
    {
     "data": {
      "text/latex": [
       "$0.50556262 \\; \\mathrm{}$"
      ],
      "text/plain": [
       "<Quantity 0.50556262>"
      ]
     },
     "execution_count": 31,
     "metadata": {},
     "output_type": "execute_result"
    }
   ],
   "source": [
    "BenchMark.OmegaL_Z(0.3)"
   ]
  },
  {
   "cell_type": "code",
   "execution_count": null,
   "metadata": {},
   "outputs": [],
   "source": []
  }
 ],
 "metadata": {
  "history": [
   {
    "cell": {
     "executionCount": 1,
     "executionEventId": "e7ec6ee2-a25b-4f8a-83a1-f2d453132024",
     "hasError": false,
     "id": "d6b7f4af-1c3f-4096-922a-6f4132af3b7d",
     "outputs": [],
     "persistentId": "f742eae6-10db-440b-834d-1209dee22a39",
     "text": "# import modules\nimport numpy as np\nimport astropy.units as u\nfrom astropy.constants import G\n\n# import plotting modules\nimport matplotlib.pyplot as plt\nimport matplotlib\n%matplotlib inline"
    },
    "executionTime": "2020-05-12T06:18:31.075Z"
   },
   {
    "cell": {
     "executionCount": 2,
     "executionEventId": "4bc08b51-c14f-4d0b-a5fc-a133026e199c",
     "hasError": false,
     "id": "b1c0ec6e-b105-4bd0-8aaa-64788cb353a0",
     "outputs": [],
     "persistentId": "9601cc86-4dc4-4d18-af01-c3856d00956a",
     "text": "# Define the benchmark cosmology at z =0\n# Planck 2016 results. XIII. Cosmological parameters   \n# Planck Collaboration+2016 A&A 594 13  Table 4, column 2 \n\nOmegaM0_planck = 0.308   # Matter Density Parameter\nOmegaR0_planck = 8.24e-5  # Radiation Density Parameter\nOmegaL0_planck = 0.692  # Dark Energy Density Parameter\nh_planck = 0.6781   # Hubble Constant  100 h km/s/Mpc\n        "
    },
    "executionTime": "2020-05-12T06:19:16.296Z"
   },
   {
    "cell": {
     "executionCount": 3,
     "executionEventId": "fecdad86-b5d4-4a59-8dd2-a037e071e37e",
     "hasError": false,
     "id": "e23dfc2f-aaca-4eb5-a90f-8e3833fc0cb2",
     "outputs": [],
     "persistentId": "8294a357-155c-4e89-8088-71021d3c72be",
     "text": "class CosmologicalTools:\n    # Define a class that provides functions to compute various cosmological quantities\n    # for a given cosmology  \n        \n    def __init__(self, OmegaM0, OmegaR0, OmegaL0, h):\n        # initialize the instance of the class - for any given Cosmology\n        # Input:    Omega M matter density parameter at z=0\n        #           Omega R radiation density parameter at z=0\n        #           Omega L  dark energy density parameter at z=0\n        #           h  normalization for the hubble parameter at z=0\n        \n        # initialize the cosmology at z=0\n        self.OmegaM0 = OmegaM0   ### Matter Density Parameter\n        self.OmegaR0 = OmegaR0  ### Radiation Density Parameter\n        self.OmegaL0 = OmegaL0  ### Dark Energy Density Parameter\n        self.OmegaK0 = (1 - (OmegaM0 + OmegaR0 + OmegaL0))    #### Curvature Density Parameter\n    \n        self.h = h   # Normalization of Hubble Parameter   \n        self.Ho = h*100*u.km/u.s/u.Mpc #  Hubble Constant at z=0  100 h km/s/Mpc\n    \n    \n    # Question 1 A)\n    def HubbleParameter(self, z):\n        # Function that defines the Hubble Parameter as a function of redshift\n        # H(z)^2 = H_o^2 [ OmegaM0(1+z)^3 + OmegaR0(1+z)^4 + OmegaLambda0 + OmegaK0(1+z)^2] \n        # Input:   Redshift z \n        # Returns: The Hubble parameter at the given redshift in units of km/s/Mpc        \n        \n        # FILL THIS IN \n        M = self.OmegaM0*(1+z)**3\n        R = self.OmegaR0*(1+z)**4\n        L = self.OmegaL0\n        K = self.OmegaK0*(1+z)**2\n        \n        return self.Ho*np.sqrt(M+R+L+K)\n    \n    \n    # Question 2 A)\n    def OmegaM_Z(self,z):\n        # Function that defines the matter density parameter as a function of redshift\n        # Input:  Redshift z . Can be an array\n        # Output:  Matter Density Parameter at the given redshift.\n        \n        # FILL THIS IN\n        return \n    \n    def OmegaR_Z(self,z):\n        # Function that defines the radiation density parameter as a function of redshift\n        # Input:  Redshift z . Can be an array\n        # Output:  Radiation Density Parameter at the given redshift.\n        \n        # FILL THIS IN\n        return \n    \n    \n    def OmegaL_Z(self,z):\n        # Function that defines the dark energy density parameter as a function of redshift\n        # Input:  Redshift z . Can be an array\n        # Output:  Dark Energy Density Parameter at the given redshift.\n        \n        # FILL THIS IN\n        return \n    \n    \n    "
    },
    "executionTime": "2020-05-12T06:26:01.559Z"
   },
   {
    "cell": {
     "executionCount": 4,
     "executionEventId": "38b7613e-b778-44ca-8e98-f54e16a74eca",
     "hasError": false,
     "id": "42be2f87-fd63-4b8e-a827-1e76794d7893",
     "outputs": [],
     "persistentId": "72f6ac47-7c31-4603-add0-5bfe97486af2",
     "text": "# Define here an instance of the Class Cosmological Tools that follows the Benchmark Cosmology\nBenchMark = CosmologicalTools(OmegaM0_planck,OmegaR0_planck,OmegaL0_planck,h_planck)\n\n"
    },
    "executionTime": "2020-05-12T06:27:22.095Z"
   },
   {
    "cell": {
     "executionCount": 5,
     "executionEventId": "a200fc14-feac-4e47-81e7-0ba1ca99b728",
     "hasError": false,
     "id": "f6940bf8-129b-4aef-87cf-06789fe8324e",
     "outputs": [
      {
       "data": {
        "text/latex": "$67.81 \\; \\mathrm{\\frac{km}{Mpc\\,s}}$",
        "text/plain": "<Quantity 67.81 km / (Mpc s)>"
       },
       "execution_count": 5,
       "metadata": {},
       "output_type": "execute_result"
      }
     ],
     "persistentId": "2fdcf8cc-d8b2-4044-8f30-adf4b38093a1",
     "text": "# Question 1 B) \n\n# Test Hubble Parameter at z = 0\nBenchMark.HubbleParameter(0)"
    },
    "executionTime": "2020-05-12T06:27:42.585Z"
   },
   {
    "cell": {
     "executionCount": 6,
     "executionEventId": "63b1e9b4-c5a4-4483-a874-02470f2c7e0c",
     "hasError": false,
     "id": "99d4d141-4175-44c4-8185-3b77c412b9fa",
     "outputs": [
      {
       "data": {
        "text/latex": "$67.81 \\; \\mathrm{\\frac{km}{Mpc\\,s}}$",
        "text/plain": "<Quantity 67.81 km / (Mpc s)>"
       },
       "execution_count": 6,
       "metadata": {},
       "output_type": "execute_result"
      }
     ],
     "persistentId": "79660999-764d-4d38-b1e3-13e45c7e6f49",
     "text": "BenchMark.Ho"
    },
    "executionTime": "2020-05-12T06:28:36.038Z"
   },
   {
    "cell": {
     "executionCount": 7,
     "executionEventId": "c661cfbe-62fa-4042-a134-b1a6f06a694b",
     "hasError": false,
     "id": "cba7ec9b-bd50-420a-8b68-5f47b75d0c01",
     "outputs": [
      {
       "data": {
        "text/latex": "$120.48425 \\; \\mathrm{\\frac{km}{Mpc\\,s}}$",
        "text/plain": "<Quantity 120.48424622 km / (Mpc s)>"
       },
       "execution_count": 7,
       "metadata": {},
       "output_type": "execute_result"
      }
     ],
     "persistentId": "4fecc19c-8f59-42ca-a234-95b3a3e1c274",
     "text": "# Question 1 C) \n\n# Compute the Hubble Parameter at z = 1 in BenchMark Cosmology\nBenchMark.HubbleParameter(1)"
    },
    "executionTime": "2020-05-12T06:29:10.246Z"
   },
   {
    "cell": {
     "executionCount": 8,
     "executionEventId": "979c16b7-7a54-4274-a166-152f56cf0d66",
     "hasError": false,
     "id": "34fa4581-c04a-4ea4-90e5-7273cf71a310",
     "outputs": [],
     "persistentId": "f725182d-c009-4d39-b6d0-513463d65c38",
     "text": "# Question 1 D) \n# Define the cosmology for the Einstein De Sitter Universe\nOmegaMD = 1\nOmegaRD = 0\nOmegaLD = 0\n# h is the same \n"
    },
    "executionTime": "2020-05-12T06:30:36.039Z"
   },
   {
    "cell": {
     "executionCount": 9,
     "executionEventId": "f76801f3-625f-4d2e-a582-57f953dd1b54",
     "hasError": true,
     "id": "6ef82f20-a50f-47d1-b3a7-94fa18940df8",
     "outputs": [
      {
       "ename": "NameError",
       "evalue": "name 'h' is not defined",
       "output_type": "error",
       "traceback": [
        "\u001b[0;31m---------------------------------------------------------------------------\u001b[0m",
        "\u001b[0;31mNameError\u001b[0m                                 Traceback (most recent call last)",
        "\u001b[0;32m<ipython-input-9-9a4a08f21668>\u001b[0m in \u001b[0;36m<module>\u001b[0;34m\u001b[0m\n\u001b[1;32m      1\u001b[0m \u001b[0;31m# Define a New Instance of the Class with Einstein De Sitter Cosmology\u001b[0m\u001b[0;34m\u001b[0m\u001b[0;34m\u001b[0m\u001b[0;34m\u001b[0m\u001b[0m\n\u001b[1;32m      2\u001b[0m \u001b[0;34m\u001b[0m\u001b[0m\n\u001b[0;32m----> 3\u001b[0;31m \u001b[0mDeSitter\u001b[0m \u001b[0;34m=\u001b[0m \u001b[0mCosmologicalTools\u001b[0m\u001b[0;34m(\u001b[0m\u001b[0mOmegaMD\u001b[0m\u001b[0;34m,\u001b[0m\u001b[0mOmegaRD\u001b[0m\u001b[0;34m,\u001b[0m\u001b[0mOmegaLD\u001b[0m\u001b[0;34m,\u001b[0m\u001b[0mh\u001b[0m\u001b[0;34m)\u001b[0m\u001b[0;34m\u001b[0m\u001b[0;34m\u001b[0m\u001b[0m\n\u001b[0m\u001b[1;32m      4\u001b[0m \u001b[0;31m# ******NOTE in the video i write \"h\" it should be \"h_planck\"\u001b[0m\u001b[0;34m\u001b[0m\u001b[0;34m\u001b[0m\u001b[0;34m\u001b[0m\u001b[0m\n\u001b[1;32m      5\u001b[0m \u001b[0;34m\u001b[0m\u001b[0m\n",
        "\u001b[0;31mNameError\u001b[0m: name 'h' is not defined"
       ]
      }
     ],
     "persistentId": "8060e33d-af1a-4cb2-8e1a-ce0a77818069",
     "text": "# Define a New Instance of the Class with Einstein De Sitter Cosmology \n\nDeSitter = CosmologicalTools(OmegaMD,OmegaRD,OmegaLD,h)\n# ******NOTE in the video i write \"h\" it should be \"h_planck\"\n\n\n\n# Compute the Hubble Parameter at z = 1.0 in Einstein De Sitter Cosmology\n"
    },
    "executionTime": "2020-05-12T06:31:36.324Z"
   },
   {
    "cell": {
     "executionCount": 10,
     "executionEventId": "ac1395bb-4a05-4e25-af26-0d119e7eeb2d",
     "hasError": false,
     "id": "6ef82f20-a50f-47d1-b3a7-94fa18940df8",
     "outputs": [],
     "persistentId": "8060e33d-af1a-4cb2-8e1a-ce0a77818069",
     "text": "# Define a New Instance of the Class with Einstein De Sitter Cosmology \n\nDeSitter = CosmologicalTools(OmegaMD,OmegaRD,OmegaLD,h_planck)\n# ******NOTE in the video i write \"h\" it should be \"h_planck\"\n\n\n\n# Compute the Hubble Parameter at z = 1.0 in Einstein De Sitter Cosmology\n"
    },
    "executionTime": "2020-05-12T06:31:45.775Z"
   },
   {
    "cell": {
     "executionCount": 11,
     "executionEventId": "44024509-4877-4414-b32b-c29dba03183c",
     "hasError": true,
     "id": "6ef82f20-a50f-47d1-b3a7-94fa18940df8",
     "outputs": [
      {
       "ename": "AttributeError",
       "evalue": "'CosmologicalTools' object has no attribute 'HubbleParaMeter'",
       "output_type": "error",
       "traceback": [
        "\u001b[0;31m---------------------------------------------------------------------------\u001b[0m",
        "\u001b[0;31mAttributeError\u001b[0m                            Traceback (most recent call last)",
        "\u001b[0;32m<ipython-input-11-5e3743577cb3>\u001b[0m in \u001b[0;36m<module>\u001b[0;34m\u001b[0m\n\u001b[1;32m      7\u001b[0m \u001b[0;34m\u001b[0m\u001b[0m\n\u001b[1;32m      8\u001b[0m \u001b[0;31m# Compute the Hubble Parameter at z = 1.0 in Einstein De Sitter Cosmology\u001b[0m\u001b[0;34m\u001b[0m\u001b[0;34m\u001b[0m\u001b[0;34m\u001b[0m\u001b[0m\n\u001b[0;32m----> 9\u001b[0;31m \u001b[0mDeSitter\u001b[0m\u001b[0;34m.\u001b[0m\u001b[0mHubbleParaMeter\u001b[0m\u001b[0;34m(\u001b[0m\u001b[0;36m1\u001b[0m\u001b[0;34m)\u001b[0m\u001b[0;34m\u001b[0m\u001b[0;34m\u001b[0m\u001b[0m\n\u001b[0m",
        "\u001b[0;31mAttributeError\u001b[0m: 'CosmologicalTools' object has no attribute 'HubbleParaMeter'"
       ]
      }
     ],
     "persistentId": "8060e33d-af1a-4cb2-8e1a-ce0a77818069",
     "text": "# Define a New Instance of the Class with Einstein De Sitter Cosmology \n\nDeSitter = CosmologicalTools(OmegaMD,OmegaRD,OmegaLD,h_planck)\n# ******NOTE in the video i write \"h\" it should be \"h_planck\"\n\n\n\n# Compute the Hubble Parameter at z = 1.0 in Einstein De Sitter Cosmology\nDeSitter.HubbleParaMeter(1)"
    },
    "executionTime": "2020-05-12T06:32:13.844Z"
   },
   {
    "cell": {
     "executionCount": 12,
     "executionEventId": "c3f2f2fc-31e5-41a4-bda9-c4fd8bfb945f",
     "hasError": false,
     "id": "6ef82f20-a50f-47d1-b3a7-94fa18940df8",
     "outputs": [
      {
       "data": {
        "text/latex": "$191.79564 \\; \\mathrm{\\frac{km}{Mpc\\,s}}$",
        "text/plain": "<Quantity 191.79564333 km / (Mpc s)>"
       },
       "execution_count": 12,
       "metadata": {},
       "output_type": "execute_result"
      }
     ],
     "persistentId": "8060e33d-af1a-4cb2-8e1a-ce0a77818069",
     "text": "# Define a New Instance of the Class with Einstein De Sitter Cosmology \n\nDeSitter = CosmologicalTools(OmegaMD,OmegaRD,OmegaLD,h_planck)\n# ******NOTE in the video i write \"h\" it should be \"h_planck\"\n\n\n\n# Compute the Hubble Parameter at z = 1.0 in Einstein De Sitter Cosmology\nDeSitter.HubbleParameter(1)"
    },
    "executionTime": "2020-05-12T06:32:23.235Z"
   },
   {
    "cell": {
     "executionCount": 13,
     "executionEventId": "ee47c725-954b-4b20-8ce5-4f62a6a1f0ec",
     "hasError": false,
     "id": "e23dfc2f-aaca-4eb5-a90f-8e3833fc0cb2",
     "outputs": [],
     "persistentId": "8294a357-155c-4e89-8088-71021d3c72be",
     "text": "class CosmologicalTools:\n    # Define a class that provides functions to compute various cosmological quantities\n    # for a given cosmology  \n        \n    def __init__(self, OmegaM0, OmegaR0, OmegaL0, h):\n        # initialize the instance of the class - for any given Cosmology\n        # Input:    Omega M matter density parameter at z=0\n        #           Omega R radiation density parameter at z=0\n        #           Omega L  dark energy density parameter at z=0\n        #           h  normalization for the hubble parameter at z=0\n        \n        # initialize the cosmology at z=0\n        self.OmegaM0 = OmegaM0   ### Matter Density Parameter\n        self.OmegaR0 = OmegaR0  ### Radiation Density Parameter\n        self.OmegaL0 = OmegaL0  ### Dark Energy Density Parameter\n        self.OmegaK0 = (1 - (OmegaM0 + OmegaR0 + OmegaL0))    #### Curvature Density Parameter\n    \n        self.h = h   # Normalization of Hubble Parameter   \n        self.Ho = h*100*u.km/u.s/u.Mpc #  Hubble Constant at z=0  100 h km/s/Mpc\n    \n    \n    # Question 1 A)\n    def HubbleParameter(self, z):\n        # Function that defines the Hubble Parameter as a function of redshift\n        # H(z)^2 = H_o^2 [ OmegaM0(1+z)^3 + OmegaR0(1+z)^4 + OmegaLambda0 + OmegaK0(1+z)^2] \n        # Input:   Redshift z \n        # Returns: The Hubble parameter at the given redshift in units of km/s/Mpc        \n        \n        # FILL THIS IN \n        M = self.OmegaM0*(1+z)**3\n        R = self.OmegaR0*(1+z)**4\n        L = self.OmegaL0\n        K = self.OmegaK0*(1+z)**2\n        \n        return self.Ho*np.sqrt(M+R+L+K)\n    \n    \n    # Question 2 A)\n    def OmegaM_Z(self,z):\n        # Function that defines the matter density parameter as a function of redshift\n        # Input:  Redshift z . Can be an array\n        # Output:  Matter Density Parameter at the given redshift.\n        \n        # FILL THIS IN\n        return self.OmegaM0*(1+z)**3*self.Ho**2/self.HubbleParameter(z)**2\n    \n    def OmegaR_Z(self,z):\n        # Function that defines the radiation density parameter as a function of redshift\n        # Input:  Redshift z . Can be an array\n        # Output:  Radiation Density Parameter at the given redshift.\n        \n        # FILL THIS IN\n        return self.OmegaR0*(1+z)**4*self.Ho**2/self.HubbleParameter(z)**2\n    \n    \n    def OmegaL_Z(self,z):\n        # Function that defines the dark energy density parameter as a function of redshift\n        # Input:  Redshift z . Can be an array\n        # Output:  Dark Energy Density Parameter at the given redshift.\n        \n        # FILL THIS IN\n        return self.OmegaL0*self.Ho**2/self.HubbleParameter(z)**2\n    \n    \n    "
    },
    "executionTime": "2020-05-12T06:36:44.784Z"
   },
   {
    "cell": {
     "executionCount": 14,
     "executionEventId": "6e9ed22c-d0fe-4a53-b794-def567f81bc7",
     "hasError": true,
     "id": "29addc99-a986-45c7-8ab1-26bf196dc95a",
     "outputs": [
      {
       "ename": "ValueError",
       "evalue": "x, y, and format string must not be None",
       "output_type": "error",
       "traceback": [
        "\u001b[0;31m---------------------------------------------------------------------------\u001b[0m",
        "\u001b[0;31mValueError\u001b[0m                                Traceback (most recent call last)",
        "\u001b[0;32m<ipython-input-14-5d5c06f8e1d8>\u001b[0m in \u001b[0;36m<module>\u001b[0;34m\u001b[0m\n\u001b[1;32m     16\u001b[0m \u001b[0;31m# Evolution of Matter Density Parameter as a function of 1+z\u001b[0m\u001b[0;34m\u001b[0m\u001b[0;34m\u001b[0m\u001b[0;34m\u001b[0m\u001b[0m\n\u001b[1;32m     17\u001b[0m \u001b[0;31m# FILL THIS IN\u001b[0m\u001b[0;34m\u001b[0m\u001b[0;34m\u001b[0m\u001b[0;34m\u001b[0m\u001b[0m\n\u001b[0;32m---> 18\u001b[0;31m \u001b[0mplt\u001b[0m\u001b[0;34m.\u001b[0m\u001b[0msemilogx\u001b[0m\u001b[0;34m(\u001b[0m\u001b[0;36m1\u001b[0m\u001b[0;34m+\u001b[0m\u001b[0mzrange\u001b[0m\u001b[0;34m,\u001b[0m \u001b[0mBenchMark\u001b[0m\u001b[0;34m.\u001b[0m\u001b[0mOmegaM_Z\u001b[0m\u001b[0;34m(\u001b[0m\u001b[0mzrange\u001b[0m\u001b[0;34m)\u001b[0m\u001b[0;34m,\u001b[0m \u001b[0mcolor\u001b[0m\u001b[0;34m=\u001b[0m\u001b[0;34m'blue'\u001b[0m\u001b[0;34m,\u001b[0m \u001b[0mlinewidth\u001b[0m\u001b[0;34m=\u001b[0m\u001b[0;36m5\u001b[0m\u001b[0;34m,\u001b[0m \u001b[0mlabel\u001b[0m\u001b[0;34m=\u001b[0m\u001b[0;34mr'$\\Omega_M$(z)'\u001b[0m\u001b[0;34m)\u001b[0m\u001b[0;34m\u001b[0m\u001b[0;34m\u001b[0m\u001b[0m\n\u001b[0m\u001b[1;32m     19\u001b[0m \u001b[0;34m\u001b[0m\u001b[0m\n\u001b[1;32m     20\u001b[0m \u001b[0;31m# Evolution of Radiation Density Parameter\u001b[0m\u001b[0;34m\u001b[0m\u001b[0;34m\u001b[0m\u001b[0;34m\u001b[0m\u001b[0m\n",
        "\u001b[0;32m/anaconda3/lib/python3.6/site-packages/matplotlib/pyplot.py\u001b[0m in \u001b[0;36msemilogx\u001b[0;34m(*args, **kwargs)\u001b[0m\n\u001b[1;32m   2847\u001b[0m \u001b[0;34m@\u001b[0m\u001b[0mdocstring\u001b[0m\u001b[0;34m.\u001b[0m\u001b[0mcopy\u001b[0m\u001b[0;34m(\u001b[0m\u001b[0mAxes\u001b[0m\u001b[0;34m.\u001b[0m\u001b[0msemilogx\u001b[0m\u001b[0;34m)\u001b[0m\u001b[0;34m\u001b[0m\u001b[0;34m\u001b[0m\u001b[0m\n\u001b[1;32m   2848\u001b[0m \u001b[0;32mdef\u001b[0m \u001b[0msemilogx\u001b[0m\u001b[0;34m(\u001b[0m\u001b[0;34m*\u001b[0m\u001b[0margs\u001b[0m\u001b[0;34m,\u001b[0m \u001b[0;34m**\u001b[0m\u001b[0mkwargs\u001b[0m\u001b[0;34m)\u001b[0m\u001b[0;34m:\u001b[0m\u001b[0;34m\u001b[0m\u001b[0;34m\u001b[0m\u001b[0m\n\u001b[0;32m-> 2849\u001b[0;31m     \u001b[0;32mreturn\u001b[0m \u001b[0mgca\u001b[0m\u001b[0;34m(\u001b[0m\u001b[0;34m)\u001b[0m\u001b[0;34m.\u001b[0m\u001b[0msemilogx\u001b[0m\u001b[0;34m(\u001b[0m\u001b[0;34m*\u001b[0m\u001b[0margs\u001b[0m\u001b[0;34m,\u001b[0m \u001b[0;34m**\u001b[0m\u001b[0mkwargs\u001b[0m\u001b[0;34m)\u001b[0m\u001b[0;34m\u001b[0m\u001b[0;34m\u001b[0m\u001b[0m\n\u001b[0m\u001b[1;32m   2850\u001b[0m \u001b[0;34m\u001b[0m\u001b[0m\n\u001b[1;32m   2851\u001b[0m \u001b[0;34m\u001b[0m\u001b[0m\n",
        "\u001b[0;32m/anaconda3/lib/python3.6/site-packages/matplotlib/axes/_axes.py\u001b[0m in \u001b[0;36msemilogx\u001b[0;34m(self, *args, **kwargs)\u001b[0m\n\u001b[1;32m   1847\u001b[0m \u001b[0;34m\u001b[0m\u001b[0m\n\u001b[1;32m   1848\u001b[0m         \u001b[0mself\u001b[0m\u001b[0;34m.\u001b[0m\u001b[0mset_xscale\u001b[0m\u001b[0;34m(\u001b[0m\u001b[0;34m'log'\u001b[0m\u001b[0;34m,\u001b[0m \u001b[0;34m**\u001b[0m\u001b[0md\u001b[0m\u001b[0;34m)\u001b[0m\u001b[0;34m\u001b[0m\u001b[0;34m\u001b[0m\u001b[0m\n\u001b[0;32m-> 1849\u001b[0;31m         \u001b[0ml\u001b[0m \u001b[0;34m=\u001b[0m \u001b[0mself\u001b[0m\u001b[0;34m.\u001b[0m\u001b[0mplot\u001b[0m\u001b[0;34m(\u001b[0m\u001b[0;34m*\u001b[0m\u001b[0margs\u001b[0m\u001b[0;34m,\u001b[0m \u001b[0;34m**\u001b[0m\u001b[0mkwargs\u001b[0m\u001b[0;34m)\u001b[0m\u001b[0;34m\u001b[0m\u001b[0;34m\u001b[0m\u001b[0m\n\u001b[0m\u001b[1;32m   1850\u001b[0m         \u001b[0;32mreturn\u001b[0m \u001b[0ml\u001b[0m\u001b[0;34m\u001b[0m\u001b[0;34m\u001b[0m\u001b[0m\n\u001b[1;32m   1851\u001b[0m \u001b[0;34m\u001b[0m\u001b[0m\n",
        "\u001b[0;32m/anaconda3/lib/python3.6/site-packages/matplotlib/axes/_axes.py\u001b[0m in \u001b[0;36mplot\u001b[0;34m(self, scalex, scaley, data, *args, **kwargs)\u001b[0m\n\u001b[1;32m   1663\u001b[0m         \"\"\"\n\u001b[1;32m   1664\u001b[0m         \u001b[0mkwargs\u001b[0m \u001b[0;34m=\u001b[0m \u001b[0mcbook\u001b[0m\u001b[0;34m.\u001b[0m\u001b[0mnormalize_kwargs\u001b[0m\u001b[0;34m(\u001b[0m\u001b[0mkwargs\u001b[0m\u001b[0;34m,\u001b[0m \u001b[0mmlines\u001b[0m\u001b[0;34m.\u001b[0m\u001b[0mLine2D\u001b[0m\u001b[0;34m.\u001b[0m\u001b[0m_alias_map\u001b[0m\u001b[0;34m)\u001b[0m\u001b[0;34m\u001b[0m\u001b[0;34m\u001b[0m\u001b[0m\n\u001b[0;32m-> 1665\u001b[0;31m         \u001b[0mlines\u001b[0m \u001b[0;34m=\u001b[0m \u001b[0;34m[\u001b[0m\u001b[0;34m*\u001b[0m\u001b[0mself\u001b[0m\u001b[0;34m.\u001b[0m\u001b[0m_get_lines\u001b[0m\u001b[0;34m(\u001b[0m\u001b[0;34m*\u001b[0m\u001b[0margs\u001b[0m\u001b[0;34m,\u001b[0m \u001b[0mdata\u001b[0m\u001b[0;34m=\u001b[0m\u001b[0mdata\u001b[0m\u001b[0;34m,\u001b[0m \u001b[0;34m**\u001b[0m\u001b[0mkwargs\u001b[0m\u001b[0;34m)\u001b[0m\u001b[0;34m]\u001b[0m\u001b[0;34m\u001b[0m\u001b[0;34m\u001b[0m\u001b[0m\n\u001b[0m\u001b[1;32m   1666\u001b[0m         \u001b[0;32mfor\u001b[0m \u001b[0mline\u001b[0m \u001b[0;32min\u001b[0m \u001b[0mlines\u001b[0m\u001b[0;34m:\u001b[0m\u001b[0;34m\u001b[0m\u001b[0;34m\u001b[0m\u001b[0m\n\u001b[1;32m   1667\u001b[0m             \u001b[0mself\u001b[0m\u001b[0;34m.\u001b[0m\u001b[0madd_line\u001b[0m\u001b[0;34m(\u001b[0m\u001b[0mline\u001b[0m\u001b[0;34m)\u001b[0m\u001b[0;34m\u001b[0m\u001b[0;34m\u001b[0m\u001b[0m\n",
        "\u001b[0;32m/anaconda3/lib/python3.6/site-packages/matplotlib/axes/_base.py\u001b[0m in \u001b[0;36m__call__\u001b[0;34m(self, *args, **kwargs)\u001b[0m\n\u001b[1;32m    223\u001b[0m                 \u001b[0mthis\u001b[0m \u001b[0;34m+=\u001b[0m \u001b[0margs\u001b[0m\u001b[0;34m[\u001b[0m\u001b[0;36m0\u001b[0m\u001b[0;34m]\u001b[0m\u001b[0;34m,\u001b[0m\u001b[0;34m\u001b[0m\u001b[0;34m\u001b[0m\u001b[0m\n\u001b[1;32m    224\u001b[0m                 \u001b[0margs\u001b[0m \u001b[0;34m=\u001b[0m \u001b[0margs\u001b[0m\u001b[0;34m[\u001b[0m\u001b[0;36m1\u001b[0m\u001b[0;34m:\u001b[0m\u001b[0;34m]\u001b[0m\u001b[0;34m\u001b[0m\u001b[0;34m\u001b[0m\u001b[0m\n\u001b[0;32m--> 225\u001b[0;31m             \u001b[0;32myield\u001b[0m \u001b[0;32mfrom\u001b[0m \u001b[0mself\u001b[0m\u001b[0;34m.\u001b[0m\u001b[0m_plot_args\u001b[0m\u001b[0;34m(\u001b[0m\u001b[0mthis\u001b[0m\u001b[0;34m,\u001b[0m \u001b[0mkwargs\u001b[0m\u001b[0;34m)\u001b[0m\u001b[0;34m\u001b[0m\u001b[0;34m\u001b[0m\u001b[0m\n\u001b[0m\u001b[1;32m    226\u001b[0m \u001b[0;34m\u001b[0m\u001b[0m\n\u001b[1;32m    227\u001b[0m     \u001b[0;32mdef\u001b[0m \u001b[0mget_next_color\u001b[0m\u001b[0;34m(\u001b[0m\u001b[0mself\u001b[0m\u001b[0;34m)\u001b[0m\u001b[0;34m:\u001b[0m\u001b[0;34m\u001b[0m\u001b[0;34m\u001b[0m\u001b[0m\n",
        "\u001b[0;32m/anaconda3/lib/python3.6/site-packages/matplotlib/axes/_base.py\u001b[0m in \u001b[0;36m_plot_args\u001b[0;34m(self, tup, kwargs)\u001b[0m\n\u001b[1;32m    375\u001b[0m         \u001b[0;31m# downstream.\u001b[0m\u001b[0;34m\u001b[0m\u001b[0;34m\u001b[0m\u001b[0;34m\u001b[0m\u001b[0m\n\u001b[1;32m    376\u001b[0m         \u001b[0;32mif\u001b[0m \u001b[0many\u001b[0m\u001b[0;34m(\u001b[0m\u001b[0mv\u001b[0m \u001b[0;32mis\u001b[0m \u001b[0;32mNone\u001b[0m \u001b[0;32mfor\u001b[0m \u001b[0mv\u001b[0m \u001b[0;32min\u001b[0m \u001b[0mtup\u001b[0m\u001b[0;34m)\u001b[0m\u001b[0;34m:\u001b[0m\u001b[0;34m\u001b[0m\u001b[0;34m\u001b[0m\u001b[0m\n\u001b[0;32m--> 377\u001b[0;31m             \u001b[0;32mraise\u001b[0m \u001b[0mValueError\u001b[0m\u001b[0;34m(\u001b[0m\u001b[0;34m\"x, y, and format string must not be None\"\u001b[0m\u001b[0;34m)\u001b[0m\u001b[0;34m\u001b[0m\u001b[0;34m\u001b[0m\u001b[0m\n\u001b[0m\u001b[1;32m    378\u001b[0m \u001b[0;34m\u001b[0m\u001b[0m\n\u001b[1;32m    379\u001b[0m         \u001b[0mkw\u001b[0m \u001b[0;34m=\u001b[0m \u001b[0;34m{\u001b[0m\u001b[0;34m}\u001b[0m\u001b[0;34m\u001b[0m\u001b[0;34m\u001b[0m\u001b[0m\n",
        "\u001b[0;31mValueError\u001b[0m: x, y, and format string must not be None"
       ]
      },
      {
       "data": {
        "image/png": "iVBORw0KGgoAAAANSUhEUgAAAlMAAAJGCAYAAAB/WgDAAAAABHNCSVQICAgIfAhkiAAAAAlwSFlzAAALEgAACxIB0t1+/AAAADh0RVh0U29mdHdhcmUAbWF0cGxvdGxpYiB2ZXJzaW9uMy4xLjIsIGh0dHA6Ly9tYXRwbG90bGliLm9yZy8li6FKAAAWKklEQVR4nO3df4zkd13H8debqzWxyo/AQfRapMRCvUTRuhZigpT4gxbUgvGPFiOhwZxNqPEP/6BqtETirxiNqS02F6wNCVJJbfTA1pqotYlI0q1B5CQlZ0W6lKQHGo1g0hx8/GMGHKa73dm+Z7tzN49HssnOdz63+3nv3Xzved+dnasxRgAAeHqeddAbAAA4m4kpAIAGMQUA0CCmAAAaxBQAQIOYAgBo2DWmqur2qnq8qj6+w/1VVTdX1amq+lhVXbb8bQIArKZFrkzdkeTKp7j/qiSXTN+OJfmD/rYAAM4Ou8bUGOOBJP/xFEuuTvLeMfGRJM+tqm9e1gYBAFbZeUv4GEeSPDpze2t67LPzC6vqWCZXr3LBBRd8z6WXXrqETw8AsL8eeuihz40xDm933zJiqrY5tu3/UTPGOJ7keJJsbGyMzc3NJXx6AID9VVX/vtN9y/hpvq0kF83cvjDJY0v4uAAAK28ZMXUiyVumP9X3qiT/NcZ40rf4AADORbt+m6+q3p/kiiQvqKqtJDcl+bokGWPcluSeJK9PcirJF5Nct1+bBQBYNbvG1Bjj2l3uH0nevrQdAQCcRbwCOgBAg5gCAGgQUwAADWIKAKBBTAEANIgpAIAGMQUA0CCmAAAaxBQAQIOYAgBoEFMAAA1iCgCgQUwBADSIKQCABjEFANAgpgAAGsQUAECDmAIAaBBTAAANYgoAoEFMAQA0iCkAgAYxBQDQIKYAABrEFABAg5gCAGgQUwAADWIKAKBBTAEANIgpAIAGMQUA0CCmAAAaxBQAQIOYAgBoEFMAAA1iCgCgQUwBADSIKQCABjEFANAgpgAAGsQUAECDmAIAaBBTAAANYgoAoEFMAQA0iCkAgAYxBQDQIKYAABrEFABAg5gCAGgQUwAADWIKAKBBTAEANIgpAIAGMQUA0CCmAAAaxBQAQIOYAgBoEFMAAA1iCgCgQUwBADSIKQCABjEFANAgpgAAGsQUAECDmAIAaBBTAAANYgoAoEFMAQA0iCkAgAYxBQDQIKYAABrEFABAg5gCAGgQUwAADWIKAKBBTAEANIgpAIAGMQUA0CCmAAAaxBQAQIOYAgBoEFMAAA1iCgCgQUwBADSIKQCABjEFANAgpgAAGsQUAECDmAIAaBBTAAANYgoAoEFMAQA0iCkAgAYxBQDQIKYAABrEFABAg5gCAGgQUwAADWIKAKBhoZiqqiur6uGqOlVVN25z/3Oq6oNV9U9VdbKqrlv+VgEAVs+uMVVVh5LcmuSqJEeTXFtVR+eWvT3Jv4wxXpHkiiS/U1XnL3mvAAArZ5ErU5cnOTXGeGSM8USSO5NcPbdmJPmmqqok35jkP5KcWepOAQBW0CIxdSTJozO3t6bHZt2S5NuTPJbkn5P83Bjjy/MfqKqOVdVmVW2ePn36aW4ZAGB1LBJTtc2xMXf7dUk+muRbknxXkluq6tlP+kVjHB9jbIwxNg4fPrznzQIArJpFYmoryUUzty/M5ArUrOuS3D0mTiX5tySXLmeLAACra5GYejDJJVV18fRJ5dckOTG35tNJfiBJqupFSV6e5JFlbhQAYBWdt9uCMcaZqrohyX1JDiW5fYxxsqqun95/W5J3Jbmjqv45k28LvmOM8bl93DcAwErYNaaSZIxxT5J75o7dNvP+Y0l+eLlbAwBYfV4BHQCgQUwBADSIKQCABjEFANAgpgAAGsQUAECDmAIAaBBTAAANYgoAoEFMAQA0iCkAgAYxBQDQIKYAABrEFABAg5gCAGgQUwAADWIKAKBBTAEANIgpAIAGMQUA0CCmAAAaxBQAQIOYAgBoEFMAAA1iCgCgQUwBADSIKQCABjEFANAgpgAAGsQUAECDmAIAaBBTAAANYgoAoEFMAQA0iCkAgAYxBQDQIKYAABrEFABAg5gCAGgQUwAADWIKAKBBTAEANIgpAIAGMQUA0CCmAAAaxBQAQIOYAgBoEFMAAA1iCgCgQUwBADSIKQCABjEFANAgpgAAGsQUAECDmAIAaBBTAAANYgoAoEFMAQA0iCkAgAYxBQDQIKYAABrEFABAg5gCAGgQUwAADWIKAKBBTAEANIgpAIAGMQUA0CCmAAAaxBQAQIOYAgBoEFMAAA1iCgCgQUwBADSIKQCABjEFANAgpgAAGsQUAECDmAIAaBBTAAANYgoAoEFMAQA0iCkAgAYxBQDQIKYAABrEFABAg5gCAGgQUwAADWIKAKBBTAEANIgpAIAGMQUA0CCmAAAaxBQAQIOYAgBoEFMAAA1iCgCgQUwBADSIKQCABjEFANCwUExV1ZVV9XBVnaqqG3dYc0VVfbSqTlbV3y13mwAAq+m83RZU1aEktyb5oSRbSR6sqhNjjH+ZWfPcJO9OcuUY49NV9cL92jAAwCpZ5MrU5UlOjTEeGWM8keTOJFfPrXlzkrvHGJ9OkjHG48vdJgDAalokpo4keXTm9tb02KyXJXleVd1fVQ9V1Vu2+0BVdayqNqtq8/Tp009vxwAAK2SRmKptjo252+cl+Z4kb0jyuiS/XFUve9IvGuP4GGNjjLFx+PDhPW8WAGDV7PqcqUyuRF00c/vCJI9ts+ZzY4wvJPlCVT2Q5BVJPrmUXQIArKhFrkw9mOSSqrq4qs5Pck2SE3Nr/jzJq6vqvKr6hiSvTPKJ5W4VAGD17HplaoxxpqpuSHJfkkNJbh9jnKyq66f33zbG+ERV/WWSjyX5cpL3jDE+vp8bBwBYBTXG/NOfnhkbGxtjc3PzQD43AMBeVNVDY4yN7e7zCugAAA1iCgCgQUwBADSIKQCABjEFANAgpgAAGsQUAECDmAIAaBBTAAANYgoAoEFMAQA0iCkAgAYxBQDQIKYAABrEFABAg5gCAGgQUwAADWIKAKBBTAEANIgpAIAGMQUA0CCmAAAaxBQAQIOYAgBoEFMAAA1iCgCgQUwBADSIKQCABjEFANAgpgAAGsQUAECDmAIAaBBTAAANYgoAoEFMAQA0iCkAgAYxBQDQIKYAABrEFABAg5gCAGgQUwAADWIKAKBBTAEANIgpAIAGMQUA0CCmAAAaxBQAQIOYAgBoEFMAAA1iCgCgQUwBADSIKQCABjEFANAgpgAAGsQUAECDmAIAaBBTAAANYgoAoEFMAQA0iCkAgAYxBQDQIKYAABrEFABAg5gCAGgQUwAADWIKAKBBTAEANIgpAIAGMQUA0CCmAAAaxBQAQIOYAgBoEFMAAA1iCgCgQUwBADSIKQCABjEFANAgpgAAGsQUAECDmAIAaBBTAAANYgoAoEFMAQA0iCkAgAYxBQDQIKYAABrEFABAg5gCAGgQUwAADWIKAKBBTAEANIgpAIAGMQUA0CCmAAAaxBQAQIOYAgBoEFMAAA1iCgCgQUwBADQsFFNVdWVVPVxVp6rqxqdY971V9aWq+onlbREAYHXtGlNVdSjJrUmuSnI0ybVVdXSHdb+V5L5lbxIAYFUtcmXq8iSnxhiPjDGeSHJnkqu3WfezSf40yeNL3B8AwEpbJKaOJHl05vbW9NhXVdWRJG9KctvytgYAsPoWiana5tiYu/17Sd4xxvjSU36gqmNVtVlVm6dPn150jwAAK+u8BdZsJblo5vaFSR6bW7OR5M6qSpIXJHl9VZ0ZY/zZ7KIxxvEkx5NkY2NjPsgAAM46i8TUg0kuqaqLk3wmyTVJ3jy7YIxx8Vfer6o7knxoPqQAAM5Fu8bUGONMVd2QyU/pHUpy+xjjZFVdP73f86QAgLW1yJWpjDHuSXLP3LFtI2qM8db+tgAAzg5eAR0AoEFMAQA0iCkAgAYxBQDQIKYAABrEFABAg5gCAGgQUwAADWIKAKBBTAEANIgpAIAGMQUA0CCmAAAaxBQAQIOYAgBoEFMAAA1iCgCgQUwBADSIKQCABjEFANAgpgAAGsQUAECDmAIAaBBTAAANYgoAoEFMAQA0iCkAgAYxBQDQIKYAABrEFABAg5gCAGgQUwAADWIKAKBBTAEANIgpAIAGMQUA0CCmAAAaxBQAQIOYAgBoEFMAAA1iCgCgQUwBADSIKQCABjEFANAgpgAAGsQUAECDmAIAaBBTAAANYgoAoEFMAQA0iCkAgAYxBQDQIKYAABrEFABAg5gCAGgQUwAADWIKAKBBTAEANIgpAIAGMQUA0CCmAAAaxBQAQIOYAgBoEFMAAA1iCgCgQUwBADSIKQCABjEFANAgpgAAGsQUAECDmAIAaBBTAAANYgoAoEFMAQA0iCkAgAYxBQDQIKYAABrEFABAg5gCAGgQUwAADWIKAKBBTAEANIgpAIAGMQUA0CCmAAAaxBQAQIOYAgBoEFMAAA1iCgCgQUwBADSIKQCABjEFANAgpgAAGsQUAECDmAIAaBBTAAANYgoAoEFMAQA0iCkAgAYxBQDQsFBMVdWVVfVwVZ2qqhu3uf8nq+pj07cPV9Urlr9VAIDVs2tMVdWhJLcmuSrJ0STXVtXRuWX/luQ1Y4zvTPKuJMeXvVEAgFW0yJWpy5OcGmM8MsZ4IsmdSa6eXTDG+PAY4z+nNz+S5MLlbhMAYDUtElNHkjw6c3tremwnb0ty73Z3VNWxqtqsqs3Tp08vvksAgBW1SEzVNsfGtgurXptJTL1ju/vHGMfHGBtjjI3Dhw8vvksAgBV13gJrtpJcNHP7wiSPzS+qqu9M8p4kV40xPr+c7QEArLZFrkw9mOSSqrq4qs5Pck2SE7MLqurFSe5O8lNjjE8uf5sAAKtp1ytTY4wzVXVDkvuSHEpy+xjjZFVdP73/tiS/kuT5Sd5dVUlyZoyxsX/bBgBYDTXGtk9/2ncbGxtjc3PzQD43AMBeVNVDO10o8groAAANYgoAoEFMAQA0iCkAgAYxBQDQIKYAABrEFABAg5gCAGgQUwAADWIKAKBBTAEANIgpAIAGMQUA0CCmAAAaxBQAQIOYAgBoEFMAAA1iCgCgQUwBADSIKQCABjEFANAgpgAAGsQUAECDmAIAaBBTAAANYgoAoEFMAQA0iCkAgAYxBQDQIKYAABrEFABAg5gCAGgQUwAADWIKAKBBTAEANIgpAIAGMQUA0CCmAAAaxBQAQIOYAgBoEFMAAA1iCgCgQUwBADSIKQCABjEFANAgpgAAGsQUAECDmAIAaBBTAAANYgoAoEFMAQA0iCkAgAYxBQDQIKYAABrEFABAg5gCAGgQUwAADWIKAKBBTAEANIgpAIAGMQUA0CCmAAAaxBQAQIOYAgBoEFMAAA1iCgCgQUwBADSIKQCABjEFANAgpgAAGsQUAECDmAIAaBBTAAANYgoAoEFMAQA0iCkAgAYxBQDQIKYAABrEFABAg5gCAGgQUwAADWIKAKBBTAEANIgpAIAGMQUA0CCmAAAaxBQAQIOYAgBoEFMAAA1iCgCgQUwBADSIKQCABjEFANAgpgAAGsQUAECDmAIAaBBTAAANYgoAoEFMAQA0iCkAgIaFYqqqrqyqh6vqVFXduM39VVU3T+//WFVdtvytAgCsnl1jqqoOJbk1yVVJjia5tqqOzi27Kskl07djSf5gyfsEAFhJi1yZujzJqTHGI2OMJ5LcmeTquTVXJ3nvmPhIkudW1Tcvea8AACvnvAXWHEny6MztrSSvXGDNkSSfnV1UVccyuXKVJP9TVQ/vabdnvxck+dxBb+KArOvs6zp3sr6zr+vcyfrOvq5zJ+s1+7fudMciMVXbHBtPY03GGMeTHF/gc56TqmpzjLFx0Ps4COs6+7rOnazv7Os6d7K+s6/r3Ml6zz5rkW/zbSW5aOb2hUkeexprAADOOYvE1INJLqmqi6vq/CTXJDkxt+ZEkrdMf6rvVUn+a4zx2fkPBABwrtn123xjjDNVdUOS+5IcSnL7GONkVV0/vf+2JPckeX2SU0m+mOS6/dvyWW1tv8WZ9Z19XedO1nf2dZ07Wd/Z13XuZL1n/6oa40lPbQIAYEFeAR0AoEFMAQA0iCkAgAYxBQDQsMiLdrJkVfXGJG9I8sIkt44x/qqqXp3kJzP5PTma5KeTvDPJ55P89RjjrgPa7lJtN/v0+AVJHkhyUyZfgyetOdvt8Pt+QZJ3J3kiyf1JPpPkXUlOJrlzjHH/wex2earqpUl+Kclzxhg/MT32rEzmfHaSzSR/m+SWTF5J+ZNjjN88oO0u1Q6zf3uSn8vklaP/OpOflP6aNeeK6f/j+s7MncdmH+9jjA8d3A73T1VdkbnH8vx5fozxfQe4xX2xyHlujPG+g9zjvhhjeNvDW5Lbkzye5ONzx69M8nAmLw9x44If63lJ/nDu2BuT/EySn0/y6umxEwc9937PnuRXk7wjyY881dfnXJs9yU8l+dHp+3+S5DVJ7k1yR5JvO8fmvmvm/TdNZ/zdJD+Q5AeT/Mz0vvce9Nz7OfvMsWfNPQaetOZsn3+n89h2j/dVelvS7Ds+lr9ynj/oOfdj7plfs+N57qDn3Jev3UFv4Gx7S/L9SS6b/cOWyetv/WuSlyY5P8k/ZXJ16TuSfGju7YUzv+53klw29/E/kMm/1l+Y5NYkv53k7w967v2cffoX6TVJ3pqvjaknfX3Owdl/Icl3Td//4yTPmr7/oiTvO8fmno2pG/P/8XRXkudncnXqb5Jcd9Bz7+fs09s/luTDSd6805qDflvG/NnmPLbT432V3pY0+46P5UzP8wc95z7/md/xPHfQc+7Hm2/z7dEY44Gqesnc4cuTnBpjPJIkVXVnkqvHGL+R5EfmP0ZVVZLfTHLvGOMfZ46/OJNXj//vJP+d5O1VdSjJ3fsxy17t4+yvTXJBJg/Q/62qe5P8+tyaA7WPs29l8t8vfTSTk++Xp8f/M8nXL3uOvVrG3DvYyuSSf5J8KZMX+r1p+vnuSvJH3b137ePsGWOcSHKiqv4ik4heOUucf/48Nv94v2fmz/1KWPLv/dc8lufO8yvlmTrP7c/uD5aYWo4jSR6dub2V5JVPsf5nM/nX2XOq6tvG5FXkk+Rtmf4lMv0D/YuZnHR+e8n7Xab27GOMX0qSqnprJs+Zefv8mn3Zed8yft/vTnJLVb0hyQer6seTvC7JczN5DtEq2tPcVfX8JL+W5Lur6hemJ+G7k/z+9DkkDyT5uyTvrKo3J/nUfm18CdqzT59L8+OZ/AV7zw5fn1W11/lfkrnz2PzjfdVC6insdfadHstfPc+fJZZ+ntu3nR4gMbUctc2xHV9afoxxc5Kbtzl+08z7n0pybBmb22dLmX163x0zN7dds2Las48xvpAn//dLK3El8insde7PJ7l+7tgXM/lLZdbZ8OTrZcx+fyY/bDDr+pwd9jr/p7LDeWzu8X422Ovsd2ebx/Lsef4ssV/nuXPKOXm57QBsJblo5vaFSR47oL0808z+/9Zl9nWdO1nv2ZP1nn9dZ1/XufdETC3Hg0kuqaqLq+r8TJ5ceeKA9/RMMfv6zb6ucyfrPXuy3vOv6+zrOveeiKk9qqr3J/mHJC+vqq2qetsY40ySGzJ5vZhPJPnAGOPkQe5zP5h9/WZf17mT9Z49We/513X2dZ17GWqMHb/1CQDALlyZAgBoEFMAAA1iCgCgQUwBADSIKQCABjEFANAgpgAAGsQUAEDD/wHIxqCoA5yjigAAAABJRU5ErkJggg==\n",
        "text/plain": "<Figure size 720x720 with 1 Axes>"
       },
       "metadata": {
        "needs_background": "light"
       },
       "output_type": "display_data"
      }
     ],
     "persistentId": "8cb1e9de-fc60-4d52-a4e3-5e4ab92a11d5",
     "text": "# Question 2 B) \n\n\n# Plot the Redshift Evolution of OmegaM, OmegaR and OmegaL\n############################################################\n\nfig = plt.figure(figsize=(10,10))\nax = plt.subplot(111)\n\n# Define an array of redshift \nzmax = 10**5\nzmin = -0.9\nzrange = np.arange(zmin, zmax, 0.1)\n\n\n# Evolution of Matter Density Parameter as a function of 1+z\n# FILL THIS IN\nplt.semilogx(1+zrange, BenchMark.OmegaM_Z(zrange), color='blue', linewidth=5, label=r'$\\Omega_M$(z)')\n\n# Evolution of Radiation Density Parameter \n# FILL THIS IN \nplt.semilogx(1+zrange, BenchMark.OmegaR_Z(zrange) , color='red', linewidth=5, label=r'$\\Omega_R$(z)')\n\n# Evolution of Dark Energy Density Parameter \n# FILL THIS IN\nplt.semilogx(1+zrange, BenchMark.OmegaL_Z(zrange) , color='black', linewidth=5, label=r'$\\Omega_L$(z)')\n\n\n\n\n# Add axis labels\nplt.xlabel('1+z', fontsize=22)\nplt.ylabel(r'$\\Omega$(z)', fontsize=22)\n\n\n#adjust tick label font size\nlabel_size = 22\nmatplotlib.rcParams['xtick.labelsize'] = label_size \nmatplotlib.rcParams['ytick.labelsize'] = label_size\n\n\nlegend = ax.legend(loc='upper center', fontsize='x-large', \n                   bbox_to_anchor=(0.5, 1.05),ncol=3, fancybox=True, shadow=True)\n\n# Save to a file\nax.set_rasterized(True)\nplt.savefig('DensityParameterEvolution.png', rasterized=True, dpi=350)"
    },
    "executionTime": "2020-05-12T06:39:03.712Z"
   },
   {
    "cell": {
     "executionCount": 15,
     "executionEventId": "04e3cb44-74f4-4477-a93d-fd48602f5f06",
     "hasError": true,
     "id": "29addc99-a986-45c7-8ab1-26bf196dc95a",
     "outputs": [
      {
       "ename": "ValueError",
       "evalue": "x, y, and format string must not be None",
       "output_type": "error",
       "traceback": [
        "\u001b[0;31m---------------------------------------------------------------------------\u001b[0m",
        "\u001b[0;31mValueError\u001b[0m                                Traceback (most recent call last)",
        "\u001b[0;32m<ipython-input-15-5d5c06f8e1d8>\u001b[0m in \u001b[0;36m<module>\u001b[0;34m\u001b[0m\n\u001b[1;32m     16\u001b[0m \u001b[0;31m# Evolution of Matter Density Parameter as a function of 1+z\u001b[0m\u001b[0;34m\u001b[0m\u001b[0;34m\u001b[0m\u001b[0;34m\u001b[0m\u001b[0m\n\u001b[1;32m     17\u001b[0m \u001b[0;31m# FILL THIS IN\u001b[0m\u001b[0;34m\u001b[0m\u001b[0;34m\u001b[0m\u001b[0;34m\u001b[0m\u001b[0m\n\u001b[0;32m---> 18\u001b[0;31m \u001b[0mplt\u001b[0m\u001b[0;34m.\u001b[0m\u001b[0msemilogx\u001b[0m\u001b[0;34m(\u001b[0m\u001b[0;36m1\u001b[0m\u001b[0;34m+\u001b[0m\u001b[0mzrange\u001b[0m\u001b[0;34m,\u001b[0m \u001b[0mBenchMark\u001b[0m\u001b[0;34m.\u001b[0m\u001b[0mOmegaM_Z\u001b[0m\u001b[0;34m(\u001b[0m\u001b[0mzrange\u001b[0m\u001b[0;34m)\u001b[0m\u001b[0;34m,\u001b[0m \u001b[0mcolor\u001b[0m\u001b[0;34m=\u001b[0m\u001b[0;34m'blue'\u001b[0m\u001b[0;34m,\u001b[0m \u001b[0mlinewidth\u001b[0m\u001b[0;34m=\u001b[0m\u001b[0;36m5\u001b[0m\u001b[0;34m,\u001b[0m \u001b[0mlabel\u001b[0m\u001b[0;34m=\u001b[0m\u001b[0;34mr'$\\Omega_M$(z)'\u001b[0m\u001b[0;34m)\u001b[0m\u001b[0;34m\u001b[0m\u001b[0;34m\u001b[0m\u001b[0m\n\u001b[0m\u001b[1;32m     19\u001b[0m \u001b[0;34m\u001b[0m\u001b[0m\n\u001b[1;32m     20\u001b[0m \u001b[0;31m# Evolution of Radiation Density Parameter\u001b[0m\u001b[0;34m\u001b[0m\u001b[0;34m\u001b[0m\u001b[0;34m\u001b[0m\u001b[0m\n",
        "\u001b[0;32m/anaconda3/lib/python3.6/site-packages/matplotlib/pyplot.py\u001b[0m in \u001b[0;36msemilogx\u001b[0;34m(*args, **kwargs)\u001b[0m\n\u001b[1;32m   2847\u001b[0m \u001b[0;34m@\u001b[0m\u001b[0mdocstring\u001b[0m\u001b[0;34m.\u001b[0m\u001b[0mcopy\u001b[0m\u001b[0;34m(\u001b[0m\u001b[0mAxes\u001b[0m\u001b[0;34m.\u001b[0m\u001b[0msemilogx\u001b[0m\u001b[0;34m)\u001b[0m\u001b[0;34m\u001b[0m\u001b[0;34m\u001b[0m\u001b[0m\n\u001b[1;32m   2848\u001b[0m \u001b[0;32mdef\u001b[0m \u001b[0msemilogx\u001b[0m\u001b[0;34m(\u001b[0m\u001b[0;34m*\u001b[0m\u001b[0margs\u001b[0m\u001b[0;34m,\u001b[0m \u001b[0;34m**\u001b[0m\u001b[0mkwargs\u001b[0m\u001b[0;34m)\u001b[0m\u001b[0;34m:\u001b[0m\u001b[0;34m\u001b[0m\u001b[0;34m\u001b[0m\u001b[0m\n\u001b[0;32m-> 2849\u001b[0;31m     \u001b[0;32mreturn\u001b[0m \u001b[0mgca\u001b[0m\u001b[0;34m(\u001b[0m\u001b[0;34m)\u001b[0m\u001b[0;34m.\u001b[0m\u001b[0msemilogx\u001b[0m\u001b[0;34m(\u001b[0m\u001b[0;34m*\u001b[0m\u001b[0margs\u001b[0m\u001b[0;34m,\u001b[0m \u001b[0;34m**\u001b[0m\u001b[0mkwargs\u001b[0m\u001b[0;34m)\u001b[0m\u001b[0;34m\u001b[0m\u001b[0;34m\u001b[0m\u001b[0m\n\u001b[0m\u001b[1;32m   2850\u001b[0m \u001b[0;34m\u001b[0m\u001b[0m\n\u001b[1;32m   2851\u001b[0m \u001b[0;34m\u001b[0m\u001b[0m\n",
        "\u001b[0;32m/anaconda3/lib/python3.6/site-packages/matplotlib/axes/_axes.py\u001b[0m in \u001b[0;36msemilogx\u001b[0;34m(self, *args, **kwargs)\u001b[0m\n\u001b[1;32m   1847\u001b[0m \u001b[0;34m\u001b[0m\u001b[0m\n\u001b[1;32m   1848\u001b[0m         \u001b[0mself\u001b[0m\u001b[0;34m.\u001b[0m\u001b[0mset_xscale\u001b[0m\u001b[0;34m(\u001b[0m\u001b[0;34m'log'\u001b[0m\u001b[0;34m,\u001b[0m \u001b[0;34m**\u001b[0m\u001b[0md\u001b[0m\u001b[0;34m)\u001b[0m\u001b[0;34m\u001b[0m\u001b[0;34m\u001b[0m\u001b[0m\n\u001b[0;32m-> 1849\u001b[0;31m         \u001b[0ml\u001b[0m \u001b[0;34m=\u001b[0m \u001b[0mself\u001b[0m\u001b[0;34m.\u001b[0m\u001b[0mplot\u001b[0m\u001b[0;34m(\u001b[0m\u001b[0;34m*\u001b[0m\u001b[0margs\u001b[0m\u001b[0;34m,\u001b[0m \u001b[0;34m**\u001b[0m\u001b[0mkwargs\u001b[0m\u001b[0;34m)\u001b[0m\u001b[0;34m\u001b[0m\u001b[0;34m\u001b[0m\u001b[0m\n\u001b[0m\u001b[1;32m   1850\u001b[0m         \u001b[0;32mreturn\u001b[0m \u001b[0ml\u001b[0m\u001b[0;34m\u001b[0m\u001b[0;34m\u001b[0m\u001b[0m\n\u001b[1;32m   1851\u001b[0m \u001b[0;34m\u001b[0m\u001b[0m\n",
        "\u001b[0;32m/anaconda3/lib/python3.6/site-packages/matplotlib/axes/_axes.py\u001b[0m in \u001b[0;36mplot\u001b[0;34m(self, scalex, scaley, data, *args, **kwargs)\u001b[0m\n\u001b[1;32m   1663\u001b[0m         \"\"\"\n\u001b[1;32m   1664\u001b[0m         \u001b[0mkwargs\u001b[0m \u001b[0;34m=\u001b[0m \u001b[0mcbook\u001b[0m\u001b[0;34m.\u001b[0m\u001b[0mnormalize_kwargs\u001b[0m\u001b[0;34m(\u001b[0m\u001b[0mkwargs\u001b[0m\u001b[0;34m,\u001b[0m \u001b[0mmlines\u001b[0m\u001b[0;34m.\u001b[0m\u001b[0mLine2D\u001b[0m\u001b[0;34m.\u001b[0m\u001b[0m_alias_map\u001b[0m\u001b[0;34m)\u001b[0m\u001b[0;34m\u001b[0m\u001b[0;34m\u001b[0m\u001b[0m\n\u001b[0;32m-> 1665\u001b[0;31m         \u001b[0mlines\u001b[0m \u001b[0;34m=\u001b[0m \u001b[0;34m[\u001b[0m\u001b[0;34m*\u001b[0m\u001b[0mself\u001b[0m\u001b[0;34m.\u001b[0m\u001b[0m_get_lines\u001b[0m\u001b[0;34m(\u001b[0m\u001b[0;34m*\u001b[0m\u001b[0margs\u001b[0m\u001b[0;34m,\u001b[0m \u001b[0mdata\u001b[0m\u001b[0;34m=\u001b[0m\u001b[0mdata\u001b[0m\u001b[0;34m,\u001b[0m \u001b[0;34m**\u001b[0m\u001b[0mkwargs\u001b[0m\u001b[0;34m)\u001b[0m\u001b[0;34m]\u001b[0m\u001b[0;34m\u001b[0m\u001b[0;34m\u001b[0m\u001b[0m\n\u001b[0m\u001b[1;32m   1666\u001b[0m         \u001b[0;32mfor\u001b[0m \u001b[0mline\u001b[0m \u001b[0;32min\u001b[0m \u001b[0mlines\u001b[0m\u001b[0;34m:\u001b[0m\u001b[0;34m\u001b[0m\u001b[0;34m\u001b[0m\u001b[0m\n\u001b[1;32m   1667\u001b[0m             \u001b[0mself\u001b[0m\u001b[0;34m.\u001b[0m\u001b[0madd_line\u001b[0m\u001b[0;34m(\u001b[0m\u001b[0mline\u001b[0m\u001b[0;34m)\u001b[0m\u001b[0;34m\u001b[0m\u001b[0;34m\u001b[0m\u001b[0m\n",
        "\u001b[0;32m/anaconda3/lib/python3.6/site-packages/matplotlib/axes/_base.py\u001b[0m in \u001b[0;36m__call__\u001b[0;34m(self, *args, **kwargs)\u001b[0m\n\u001b[1;32m    223\u001b[0m                 \u001b[0mthis\u001b[0m \u001b[0;34m+=\u001b[0m \u001b[0margs\u001b[0m\u001b[0;34m[\u001b[0m\u001b[0;36m0\u001b[0m\u001b[0;34m]\u001b[0m\u001b[0;34m,\u001b[0m\u001b[0;34m\u001b[0m\u001b[0;34m\u001b[0m\u001b[0m\n\u001b[1;32m    224\u001b[0m                 \u001b[0margs\u001b[0m \u001b[0;34m=\u001b[0m \u001b[0margs\u001b[0m\u001b[0;34m[\u001b[0m\u001b[0;36m1\u001b[0m\u001b[0;34m:\u001b[0m\u001b[0;34m]\u001b[0m\u001b[0;34m\u001b[0m\u001b[0;34m\u001b[0m\u001b[0m\n\u001b[0;32m--> 225\u001b[0;31m             \u001b[0;32myield\u001b[0m \u001b[0;32mfrom\u001b[0m \u001b[0mself\u001b[0m\u001b[0;34m.\u001b[0m\u001b[0m_plot_args\u001b[0m\u001b[0;34m(\u001b[0m\u001b[0mthis\u001b[0m\u001b[0;34m,\u001b[0m \u001b[0mkwargs\u001b[0m\u001b[0;34m)\u001b[0m\u001b[0;34m\u001b[0m\u001b[0;34m\u001b[0m\u001b[0m\n\u001b[0m\u001b[1;32m    226\u001b[0m \u001b[0;34m\u001b[0m\u001b[0m\n\u001b[1;32m    227\u001b[0m     \u001b[0;32mdef\u001b[0m \u001b[0mget_next_color\u001b[0m\u001b[0;34m(\u001b[0m\u001b[0mself\u001b[0m\u001b[0;34m)\u001b[0m\u001b[0;34m:\u001b[0m\u001b[0;34m\u001b[0m\u001b[0;34m\u001b[0m\u001b[0m\n",
        "\u001b[0;32m/anaconda3/lib/python3.6/site-packages/matplotlib/axes/_base.py\u001b[0m in \u001b[0;36m_plot_args\u001b[0;34m(self, tup, kwargs)\u001b[0m\n\u001b[1;32m    375\u001b[0m         \u001b[0;31m# downstream.\u001b[0m\u001b[0;34m\u001b[0m\u001b[0;34m\u001b[0m\u001b[0;34m\u001b[0m\u001b[0m\n\u001b[1;32m    376\u001b[0m         \u001b[0;32mif\u001b[0m \u001b[0many\u001b[0m\u001b[0;34m(\u001b[0m\u001b[0mv\u001b[0m \u001b[0;32mis\u001b[0m \u001b[0;32mNone\u001b[0m \u001b[0;32mfor\u001b[0m \u001b[0mv\u001b[0m \u001b[0;32min\u001b[0m \u001b[0mtup\u001b[0m\u001b[0;34m)\u001b[0m\u001b[0;34m:\u001b[0m\u001b[0;34m\u001b[0m\u001b[0;34m\u001b[0m\u001b[0m\n\u001b[0;32m--> 377\u001b[0;31m             \u001b[0;32mraise\u001b[0m \u001b[0mValueError\u001b[0m\u001b[0;34m(\u001b[0m\u001b[0;34m\"x, y, and format string must not be None\"\u001b[0m\u001b[0;34m)\u001b[0m\u001b[0;34m\u001b[0m\u001b[0;34m\u001b[0m\u001b[0m\n\u001b[0m\u001b[1;32m    378\u001b[0m \u001b[0;34m\u001b[0m\u001b[0m\n\u001b[1;32m    379\u001b[0m         \u001b[0mkw\u001b[0m \u001b[0;34m=\u001b[0m \u001b[0;34m{\u001b[0m\u001b[0;34m}\u001b[0m\u001b[0;34m\u001b[0m\u001b[0;34m\u001b[0m\u001b[0m\n",
        "\u001b[0;31mValueError\u001b[0m: x, y, and format string must not be None"
       ]
      },
      {
       "data": {
        "image/png": "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\n",
        "text/plain": "<Figure size 720x720 with 1 Axes>"
       },
       "metadata": {
        "needs_background": "light"
       },
       "output_type": "display_data"
      }
     ],
     "persistentId": "8cb1e9de-fc60-4d52-a4e3-5e4ab92a11d5",
     "text": "# Question 2 B) \n\n\n# Plot the Redshift Evolution of OmegaM, OmegaR and OmegaL\n############################################################\n\nfig = plt.figure(figsize=(10,10))\nax = plt.subplot(111)\n\n# Define an array of redshift \nzmax = 10**5\nzmin = -0.9\nzrange = np.arange(zmin, zmax, 0.1)\n\n\n# Evolution of Matter Density Parameter as a function of 1+z\n# FILL THIS IN\nplt.semilogx(1+zrange, BenchMark.OmegaM_Z(zrange), color='blue', linewidth=5, label=r'$\\Omega_M$(z)')\n\n# Evolution of Radiation Density Parameter \n# FILL THIS IN \nplt.semilogx(1+zrange, BenchMark.OmegaR_Z(zrange) , color='red', linewidth=5, label=r'$\\Omega_R$(z)')\n\n# Evolution of Dark Energy Density Parameter \n# FILL THIS IN\nplt.semilogx(1+zrange, BenchMark.OmegaL_Z(zrange) , color='black', linewidth=5, label=r'$\\Omega_L$(z)')\n\n\n\n\n# Add axis labels\nplt.xlabel('1+z', fontsize=22)\nplt.ylabel(r'$\\Omega$(z)', fontsize=22)\n\n\n#adjust tick label font size\nlabel_size = 22\nmatplotlib.rcParams['xtick.labelsize'] = label_size \nmatplotlib.rcParams['ytick.labelsize'] = label_size\n\n\nlegend = ax.legend(loc='upper center', fontsize='x-large', \n                   bbox_to_anchor=(0.5, 1.05),ncol=3, fancybox=True, shadow=True)\n\n# Save to a file\nax.set_rasterized(True)\nplt.savefig('DensityParameterEvolution.png', rasterized=True, dpi=350)"
    },
    "executionTime": "2020-05-12T06:39:39.376Z"
   },
   {
    "cell": {
     "executionCount": 16,
     "executionEventId": "9b341aac-2146-47c0-88f7-6cc22faf702c",
     "hasError": false,
     "id": "4c3dfacd-b1ef-4d43-b460-cef222d2bba9",
     "outputs": [
      {
       "data": {
        "text/plain": "array([1.000000e-01, 2.000000e-01, 3.000000e-01, ..., 1.000007e+05,\n       1.000008e+05, 1.000009e+05])"
       },
       "execution_count": 16,
       "metadata": {},
       "output_type": "execute_result"
      }
     ],
     "persistentId": "fa6075a2-0c35-4897-873a-ffa3ed2ea0b6",
     "text": "1+zrange"
    },
    "executionTime": "2020-05-12T06:40:21.104Z"
   },
   {
    "cell": {
     "executionCount": 17,
     "executionEventId": "39799546-178e-44cb-91f8-5e4c8260bc14",
     "hasError": false,
     "id": "4c3dfacd-b1ef-4d43-b460-cef222d2bba9",
     "outputs": [],
     "persistentId": "fa6075a2-0c35-4897-873a-ffa3ed2ea0b6",
     "text": "BenchMark.OmegaM_Z(zrange)"
    },
    "executionTime": "2020-05-12T06:40:38.169Z"
   },
   {
    "cell": {
     "executionCount": 18,
     "executionEventId": "18864f6e-d3c0-406e-89a0-8287b8efc883",
     "hasError": false,
     "id": "4c3dfacd-b1ef-4d43-b460-cef222d2bba9",
     "outputs": [],
     "persistentId": "fa6075a2-0c35-4897-873a-ffa3ed2ea0b6",
     "text": "BenchMark.OmegaM_Z(zrange)"
    },
    "executionTime": "2020-05-12T06:40:41.090Z"
   },
   {
    "cell": {
     "executionCount": 19,
     "executionEventId": "0ee17bb8-5e8a-470c-ab33-1faa333178a6",
     "hasError": false,
     "id": "e23dfc2f-aaca-4eb5-a90f-8e3833fc0cb2",
     "outputs": [],
     "persistentId": "8294a357-155c-4e89-8088-71021d3c72be",
     "text": "class CosmologicalTools:\n    # Define a class that provides functions to compute various cosmological quantities\n    # for a given cosmology  \n        \n    def __init__(self, OmegaM0, OmegaR0, OmegaL0, h):\n        # initialize the instance of the class - for any given Cosmology\n        # Input:    Omega M matter density parameter at z=0\n        #           Omega R radiation density parameter at z=0\n        #           Omega L  dark energy density parameter at z=0\n        #           h  normalization for the hubble parameter at z=0\n        \n        # initialize the cosmology at z=0\n        self.OmegaM0 = OmegaM0   ### Matter Density Parameter\n        self.OmegaR0 = OmegaR0  ### Radiation Density Parameter\n        self.OmegaL0 = OmegaL0  ### Dark Energy Density Parameter\n        self.OmegaK0 = (1 - (OmegaM0 + OmegaR0 + OmegaL0))    #### Curvature Density Parameter\n    \n        self.h = h   # Normalization of Hubble Parameter   \n        self.Ho = h*100*u.km/u.s/u.Mpc #  Hubble Constant at z=0  100 h km/s/Mpc\n    \n    \n    # Question 1 A)\n    def HubbleParameter(self, z):\n        # Function that defines the Hubble Parameter as a function of redshift\n        # H(z)^2 = H_o^2 [ OmegaM0(1+z)^3 + OmegaR0(1+z)^4 + OmegaLambda0 + OmegaK0(1+z)^2] \n        # Input:   Redshift z \n        # Returns: The Hubble parameter at the given redshift in units of km/s/Mpc        \n        \n        # FILL THIS IN \n        M = self.OmegaM0*(1+z)**3\n        R = self.OmegaR0*(1+z)**4\n        L = self.OmegaL0\n        K = self.OmegaK0*(1+z)**2\n        \n        return self.Ho*np.sqrt(M+R+L+K)\n    \n    \n    # Question 2 A)\n    def OmegaM_Z(self,z):\n        # Function that defines the matter density parameter as a function of redshift\n        # Input:  Redshift z . Can be an array\n        # Output:  Matter Density Parameter at the given redshift.\n        \n        # FILL THIS IN\n        return self.OmegaM0*(1+z)**3*self.Ho**2/self.HubbleParameter(z)**2\n    \n    def OmegaR_Z(self,z):\n        # Function that defines the radiation density parameter as a function of redshift\n        # Input:  Redshift z . Can be an array\n        # Output:  Radiation Density Parameter at the given redshift.\n        \n        # FILL THIS IN\n        return self.OmegaR0*(1+z)**4*self.Ho**2/self.HubbleParameter(z)**2\n    \n    \n    def OmegaL_Z(self,z):\n        # Function that defines the dark energy density parameter as a function of redshift\n        # Input:  Redshift z . Can be an array\n        # Output:  Dark Energy Density Parameter at the given redshift.\n        \n        # FILL THIS IN\n        return self.OmegaL0*self.Ho**2/self.HubbleParameter(z)**2\n    \n    \n    "
    },
    "executionTime": "2020-05-12T06:40:59.157Z"
   },
   {
    "cell": {
     "executionCount": 20,
     "executionEventId": "f9a18736-7b9a-4af0-81db-1e6a2b5b39a6",
     "hasError": false,
     "id": "42be2f87-fd63-4b8e-a827-1e76794d7893",
     "outputs": [],
     "persistentId": "72f6ac47-7c31-4603-add0-5bfe97486af2",
     "text": "# Define here an instance of the Class Cosmological Tools that follows the Benchmark Cosmology\nBenchMark = CosmologicalTools(OmegaM0_planck,OmegaR0_planck,OmegaL0_planck,h_planck)\n\n"
    },
    "executionTime": "2020-05-12T06:41:01.874Z"
   },
   {
    "cell": {
     "executionCount": 21,
     "executionEventId": "e815b026-640d-4767-bf58-de1a8a6af31d",
     "hasError": false,
     "id": "4c3dfacd-b1ef-4d43-b460-cef222d2bba9",
     "outputs": [
      {
       "data": {
        "text/latex": "$[0.00044488922,~0.0035480763,~0.011874754,~\\dots,~0.036031577,~0.036031542,~0.036031508] \\; \\mathrm{}$",
        "text/plain": "<Quantity [0.00044489, 0.00354808, 0.01187475, ..., 0.03603158, 0.03603154,\n           0.03603151]>"
       },
       "execution_count": 21,
       "metadata": {},
       "output_type": "execute_result"
      }
     ],
     "persistentId": "fa6075a2-0c35-4897-873a-ffa3ed2ea0b6",
     "text": "BenchMark.OmegaM_Z(zrange)"
    },
    "executionTime": "2020-05-12T06:41:09.561Z"
   },
   {
    "cell": {
     "executionCount": 22,
     "executionEventId": "73b62f82-53a0-4056-866c-7ac7cc3845d1",
     "hasError": false,
     "id": "29addc99-a986-45c7-8ab1-26bf196dc95a",
     "outputs": [
      {
       "data": {
        "image/png": "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\n",
        "text/plain": "<Figure size 720x720 with 1 Axes>"
       },
       "metadata": {
        "needs_background": "light"
       },
       "output_type": "display_data"
      }
     ],
     "persistentId": "8cb1e9de-fc60-4d52-a4e3-5e4ab92a11d5",
     "text": "# Question 2 B) \n\n\n# Plot the Redshift Evolution of OmegaM, OmegaR and OmegaL\n############################################################\n\nfig = plt.figure(figsize=(10,10))\nax = plt.subplot(111)\n\n# Define an array of redshift \nzmax = 10**5\nzmin = -0.9\nzrange = np.arange(zmin, zmax, 0.1)\n\n\n# Evolution of Matter Density Parameter as a function of 1+z\n# FILL THIS IN\nplt.semilogx(1+zrange, BenchMark.OmegaM_Z(zrange), color='blue', linewidth=5, label=r'$\\Omega_M$(z)')\n\n# Evolution of Radiation Density Parameter \n# FILL THIS IN \nplt.semilogx(1+zrange, BenchMark.OmegaR_Z(zrange) , color='red', linewidth=5, label=r'$\\Omega_R$(z)')\n\n# Evolution of Dark Energy Density Parameter \n# FILL THIS IN\nplt.semilogx(1+zrange, BenchMark.OmegaL_Z(zrange) , color='black', linewidth=5, label=r'$\\Omega_L$(z)')\n\n\n\n\n# Add axis labels\nplt.xlabel('1+z', fontsize=22)\nplt.ylabel(r'$\\Omega$(z)', fontsize=22)\n\n\n#adjust tick label font size\nlabel_size = 22\nmatplotlib.rcParams['xtick.labelsize'] = label_size \nmatplotlib.rcParams['ytick.labelsize'] = label_size\n\n\nlegend = ax.legend(loc='upper center', fontsize='x-large', \n                   bbox_to_anchor=(0.5, 1.05),ncol=3, fancybox=True, shadow=True)\n\n# Save to a file\nax.set_rasterized(True)\nplt.savefig('DensityParameterEvolution.png', rasterized=True, dpi=350)"
    },
    "executionTime": "2020-05-12T06:41:16.524Z"
   },
   {
    "cell": {
     "executionCount": 23,
     "executionEventId": "2ad17544-a2d3-4694-9769-550aa8289a08",
     "hasError": false,
     "id": "30e362ac-fd94-4799-a038-ce8072f58eb5",
     "outputs": [
      {
       "data": {
        "text/latex": "$1 \\; \\mathrm{}$",
        "text/plain": "<Quantity 1.>"
       },
       "execution_count": 23,
       "metadata": {},
       "output_type": "execute_result"
      }
     ],
     "persistentId": "c4b9a3b9-ad68-4498-9a10-721abbe3a6e2",
     "text": "BenchMark.OmegaR_Z(3.5e13)"
    },
    "executionTime": "2020-05-12T06:43:09.703Z"
   },
   {
    "cell": {
     "executionCount": 24,
     "executionEventId": "260e3e20-ebee-4505-a8c6-5c21a92008ab",
     "hasError": false,
     "id": "30e362ac-fd94-4799-a038-ce8072f58eb5",
     "outputs": [
      {
       "data": {
        "text/latex": "$0.48363944 \\; \\mathrm{}$",
        "text/plain": "<Quantity 0.48363944>"
       },
       "execution_count": 24,
       "metadata": {},
       "output_type": "execute_result"
      }
     ],
     "persistentId": "c4b9a3b9-ad68-4498-9a10-721abbe3a6e2",
     "text": "BenchMark.OmegaR_Z(3.5e3)"
    },
    "executionTime": "2020-05-12T06:43:15.177Z"
   },
   {
    "cell": {
     "executionCount": 25,
     "executionEventId": "d89959cf-d1d4-4c2f-b15e-ca88932f6a3c",
     "hasError": false,
     "id": "30e362ac-fd94-4799-a038-ce8072f58eb5",
     "outputs": [
      {
       "data": {
        "text/latex": "$0.5163606 \\; \\mathrm{}$",
        "text/plain": "<Quantity 0.5163606>"
       },
       "execution_count": 25,
       "metadata": {},
       "output_type": "execute_result"
      }
     ],
     "persistentId": "c4b9a3b9-ad68-4498-9a10-721abbe3a6e2",
     "text": "BenchMark.OmegaM_Z(3.5e3)"
    },
    "executionTime": "2020-05-12T06:43:31.133Z"
   },
   {
    "cell": {
     "executionCount": 26,
     "executionEventId": "60c6f14f-cc3d-41dd-817e-624b47351c15",
     "hasError": false,
     "id": "e29d5a85-4a37-4f92-9ec9-5a99f74deb05",
     "outputs": [
      {
       "data": {
        "text/latex": "$0.48363944 \\; \\mathrm{}$",
        "text/plain": "<Quantity 0.48363944>"
       },
       "execution_count": 26,
       "metadata": {},
       "output_type": "execute_result"
      }
     ],
     "persistentId": "4eece4d9-90c8-4157-b4f2-fcd9c8cd5464",
     "text": "BenchMark.OmegaR_Z(3.5e3)"
    },
    "executionTime": "2020-05-12T06:43:32.497Z"
   },
   {
    "cell": {
     "executionCount": 27,
     "executionEventId": "3dc91ef0-bd44-4bf3-ac8e-ee83bed3dc03",
     "hasError": false,
     "id": "30e362ac-fd94-4799-a038-ce8072f58eb5",
     "outputs": [
      {
       "data": {
        "text/latex": "$0.49912299 \\; \\mathrm{}$",
        "text/plain": "<Quantity 0.49912299>"
       },
       "execution_count": 27,
       "metadata": {},
       "output_type": "execute_result"
      }
     ],
     "persistentId": "c4b9a3b9-ad68-4498-9a10-721abbe3a6e2",
     "text": "BenchMark.OmegaM_Z(3.75e3)"
    },
    "executionTime": "2020-05-12T06:43:47.399Z"
   },
   {
    "cell": {
     "executionCount": 28,
     "executionEventId": "99862907-392b-41a6-8486-cbd4d91f88f4",
     "hasError": false,
     "id": "e29d5a85-4a37-4f92-9ec9-5a99f74deb05",
     "outputs": [
      {
       "data": {
        "text/latex": "$0.50087705 \\; \\mathrm{}$",
        "text/plain": "<Quantity 0.50087705>"
       },
       "execution_count": 28,
       "metadata": {},
       "output_type": "execute_result"
      }
     ],
     "persistentId": "4eece4d9-90c8-4157-b4f2-fcd9c8cd5464",
     "text": "BenchMark.OmegaR_Z(3.75e3)"
    },
    "executionTime": "2020-05-12T06:43:53.573Z"
   },
   {
    "cell": {
     "executionCount": 29,
     "executionEventId": "96617ec1-8591-4266-a7d9-37aa6e41b187",
     "hasError": false,
     "id": "130e6b60-9549-4a64-9052-d308f6404d6f",
     "outputs": [
      {
       "data": {
        "text/latex": "$0.00017193705 \\; \\mathrm{}$",
        "text/plain": "<Quantity 0.00017194>"
       },
       "execution_count": 29,
       "metadata": {},
       "output_type": "execute_result"
      }
     ],
     "persistentId": "11da28d4-6866-4b22-be08-3512597b17e5",
     "text": "BenchMark.OmegaR_Z(0.3)"
    },
    "executionTime": "2020-05-12T06:44:29.028Z"
   },
   {
    "cell": {
     "executionCount": 30,
     "executionEventId": "1aac2366-b6d2-4477-b0de-a253dbad40e4",
     "hasError": false,
     "id": "130e6b60-9549-4a64-9052-d308f6404d6f",
     "outputs": [
      {
       "data": {
        "text/latex": "$0.49436718 \\; \\mathrm{}$",
        "text/plain": "<Quantity 0.49436718>"
       },
       "execution_count": 30,
       "metadata": {},
       "output_type": "execute_result"
      }
     ],
     "persistentId": "11da28d4-6866-4b22-be08-3512597b17e5",
     "text": "BenchMark.OmegaM_Z(0.3)"
    },
    "executionTime": "2020-05-12T06:44:38.667Z"
   },
   {
    "cell": {
     "executionCount": 31,
     "executionEventId": "8cff60ff-4a9e-41e3-9fdb-3f50697b89c1",
     "hasError": false,
     "id": "e70fa953-6150-499d-bc93-64bfa07f2566",
     "outputs": [
      {
       "data": {
        "text/latex": "$0.50556262 \\; \\mathrm{}$",
        "text/plain": "<Quantity 0.50556262>"
       },
       "execution_count": 31,
       "metadata": {},
       "output_type": "execute_result"
      }
     ],
     "persistentId": "2f503b15-6603-4084-b757-e18bec256ba5",
     "text": "BenchMark.OmegaL_Z(0.3)"
    },
    "executionTime": "2020-05-12T06:44:44.339Z"
   }
  ],
  "kernelspec": {
   "display_name": "Python 3",
   "language": "python",
   "name": "python3"
  },
  "language_info": {
   "codemirror_mode": {
    "name": "ipython",
    "version": 3
   },
   "file_extension": ".py",
   "mimetype": "text/x-python",
   "name": "python",
   "nbconvert_exporter": "python",
   "pygments_lexer": "ipython3",
   "version": "3.6.7"
  },
  "uuid": "1c5b6866-ffa6-457b-b670-6a5794d979cd"
 },
 "nbformat": 4,
 "nbformat_minor": 4
}
