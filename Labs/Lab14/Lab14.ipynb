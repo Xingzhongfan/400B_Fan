{
 "cells": [
  {
   "cell_type": "markdown",
   "metadata": {},
   "source": [
    "# In Class Lab 14 Template\n",
    "# Cosmological Tools\n",
    "\n",
    "In this lab we will build on the Class called `CosmologicalTools` that we developed as part of Lab 12 and 13. \n",
    "\n",
    "For Lab 14 we will create a function to understand the temperature evolution of the universe and the horizon distance. "
   ]
  },
  {
   "cell_type": "code",
   "execution_count": 1,
   "metadata": {
    "execution_event_id": "3b63ea64-3978-4cbc-814b-bf54e313562c",
    "last_executed_text": "# import modules\nimport numpy as np\nimport astropy.units as u\n\n# For Lab 12: Import the constant for the speed of light\nfrom astropy.constants import c\n# For Lab 14: Import the boltzmann constant\nfrom astropy.constants import k_B \n\n# import plotting modules\nimport matplotlib.pyplot as plt\nimport matplotlib\n%matplotlib inline\n\n\n# Lab 12 : added\n# integrating tools from SciPy  \nfrom scipy.integrate import simps\n",
    "persistent_id": "b4b61c93-db2d-4783-b37c-89c8bebfffa8"
   },
   "outputs": [],
   "source": [
    "# import modules\n",
    "import numpy as np\n",
    "import astropy.units as u\n",
    "\n",
    "# For Lab 12: Import the constant for the speed of light\n",
    "from astropy.constants import c\n",
    "# For Lab 14: Import the boltzmann constant\n",
    "from astropy.constants import k_B \n",
    "\n",
    "# import plotting modules\n",
    "import matplotlib.pyplot as plt\n",
    "import matplotlib\n",
    "%matplotlib inline\n",
    "\n",
    "\n",
    "# Lab 12 : added\n",
    "# integrating tools from SciPy  \n",
    "from scipy.integrate import simps\n"
   ]
  },
  {
   "cell_type": "code",
   "execution_count": 2,
   "metadata": {
    "execution_event_id": "8df29070-7e0a-441d-a129-6f53149b2bc1",
    "last_executed_text": "k_B",
    "persistent_id": "df43c7ab-8028-4055-9699-e78ef18a9a38"
   },
   "outputs": [
    {
     "data": {
      "text/latex": [
       "$1.380649 \\times 10^{-23} \\; \\mathrm{\\frac{J}{K}}$"
      ],
      "text/plain": [
       "<<class 'astropy.constants.codata2018.CODATA2018'> name='Boltzmann constant' value=1.380649e-23 uncertainty=0.0 unit='J / K' reference='CODATA 2018'>"
      ]
     },
     "execution_count": 2,
     "metadata": {},
     "output_type": "execute_result"
    }
   ],
   "source": [
    "k_B"
   ]
  },
  {
   "cell_type": "code",
   "execution_count": 4,
   "metadata": {
    "execution_event_id": "1ab25990-cc40-411d-af84-cd9d1b80d464",
    "last_executed_text": "k_B_ev = k_B.to(u.electronvolt/u.K)\nk_B_ev",
    "persistent_id": "3704af95-d1e3-48c0-963f-6f596ca17b80"
   },
   "outputs": [
    {
     "data": {
      "text/latex": [
       "$8.6173333 \\times 10^{-5} \\; \\mathrm{\\frac{eV}{K}}$"
      ],
      "text/plain": [
       "<Quantity 8.61733326e-05 eV / K>"
      ]
     },
     "execution_count": 4,
     "metadata": {},
     "output_type": "execute_result"
    }
   ],
   "source": [
    "k_B_ev = k_B.to(u.electronvolt/u.K)\n",
    "k_B_ev"
   ]
  },
  {
   "cell_type": "code",
   "execution_count": 7,
   "metadata": {
    "execution_event_id": "1ff4ec10-2b40-4f50-8eec-44b8f04bc2fc",
    "last_executed_text": "# Define the benchmark cosmology at z =0\n# Planck 2016 results. XIII. Cosmological parameters   \n# Planck Collaboration+2016 A&A 594 13  Table 4, column 2 \n\nOmegaM0_planck = 0.308   # Matter Density Parameter\nOmegaR0_planck = 8.24e-5  # Radiation Density Parameter\nOmegaL0_planck = 0.692  # Dark Energy Density Parameter\nh_planck = 0.6781   # Hubble Constant  100 h km/s/Mpc\n        ",
    "persistent_id": "2bd36990-a140-4b0f-bf5a-2947c613cde5"
   },
   "outputs": [],
   "source": [
    "# Define the benchmark cosmology at z =0\n",
    "# Planck 2016 results. XIII. Cosmological parameters   \n",
    "# Planck Collaboration+2016 A&A 594 13  Table 4, column 2 \n",
    "\n",
    "OmegaM0_planck = 0.308   # Matter Density Parameter\n",
    "OmegaR0_planck = 8.24e-5  # Radiation Density Parameter\n",
    "OmegaL0_planck = 0.692  # Dark Energy Density Parameter\n",
    "h_planck = 0.6781   # Hubble Constant  100 h km/s/Mpc\n",
    "        "
   ]
  },
  {
   "cell_type": "code",
   "execution_count": 22,
   "metadata": {
    "execution_event_id": "b3101232-2b3a-4f32-bbca-e4283f4c0789",
    "last_executed_text": "class CosmologicalTools:\n    # Define a class that provides functions to compute various cosmological quantities\n    # for a given cosmology  \n        \n    def __init__(self, OmegaM0, OmegaR0, OmegaL0, h):\n        # initialize the instance of the class - for any given Cosmology\n        # Input:    Omega M matter density parameter at z=0\n        #           Omega R radiation density parameter at z=0\n        #           Omega L  dark energy density parameter at z=0\n        #           h  normalization for the hubble parameter at z=0\n        \n        # initialize the cosmology at z=0\n        self.OmegaM0 = OmegaM0    ### Matter Density Parameter\n        self.OmegaR0 = OmegaR0    ### Radiation Density Parameter\n        self.OmegaL0 = OmegaL0    ### Dark Energy Density Parameter\n        self.OmegaK0 = 1 - (OmegaM0 + OmegaR0 + OmegaL0)    #### Curvature Density Parameter\n    \n        self.h = h   # Normalization of Hubble Parameter   \n        self.Ho = h*100*u.km/u.s/u.Mpc #  Hubble Constant at z=0  100 h km/s/Mpc\n    \n    \n    # Question 1 A)\n    def HubbleParameter(self, z):\n        # Function that defines the Hubble Parameter as a function of redshift\n        # Input:   Redshift z \n        # Returns: The Hubble parameter at the given redshift in units of km/s/Mpc        \n        \n        # FILL THIS IN \n        M = self.OmegaM0*(1+z)**3\n        R = self.OmegaR0*(1+z)**4\n        L = self.OmegaL0\n        K = self.OmegaK0*(1+z)**2\n        \n        return  self.Ho*np.sqrt(M+R+L+K)\n    \n    \n    \n    # Question 2 A)\n    def OmegaM_Z(self,z):\n        # Function that defines the matter density parameter as a function of redshift\n        # Input:  Redshift z . Can be an array\n        # Output:  Matter Density Parameter at the given redshift.\n        \n        # FILL THIS IN\n        return self.OmegaM0*(1+z)**3*self.Ho**2/self.HubbleParameter(z)**2\n    \n    def OmegaR_Z(self,z):\n        # Function that defines the radiation density parameter as a function of redshift\n        # Input:  Redshift z . Can be an array\n        # Output:  Radiation Density Parameter at the given redshift.\n        \n        # FILL THIS IN\n        return self.OmegaR0*(1+z)**4*self.Ho**2/self.HubbleParameter(z)**2\n    \n    \n    def OmegaL_Z(self,z):\n        # Function that defines the dark energy density parameter as a function of redshift\n        # Input:  Redshift z . Can be an array\n        # Output:  Dark Energy Density Parameter at the given redshift.\n        \n        # FILL THIS IN\n        return self.OmegaL0*self.Ho**2/self.HubbleParameter(z)**2\n    \n    \n \n    \n    # Question 1 A) \n    \n    def LookBackTime(self, ze):\n    # Function that computes the look back time at a given redshift\n    # i.e. the difference in time from when a photon was emitted to when it is observed at present day.\n    # Input:    Redshift emitted (ze). This cannot be an array. \n    # Output:   Time in units of Gyr Ago  (relative to present day). This is not an arrat    \n    \n        # Observed redshift  \n        zo = 0\n    \n        # define an array with redshifts, spaced in intervals of 0.001 from zo to ze\n        zrange = np.arange(zo, ze, 1e-3)\n        \n        # y = (1/H(zrange)).to(GYR)  /  (1+zrange)\n        # But need to correct units of 1/H to be Gyr rather than seconds  \n        # use the astropy.units functionality .to(units)\n        # FILL THIS IN \n        y = (1.0/self.HubbleParameter(zrange)).to(u.Gyr)/(1+zrange)  \n        \n        # Integrate y numerically over zrange and return in units of Gyr\n        # FILL THIS IN \n        return simps(y,zrange)*u.Gyr\n    \n    \n    # Question 2 A) \n    \n    def ComovingDistance(self, ze):\n    # Function that returns the Comoving Radial Distance to an object at a given redshift\n    # Distance to a galaxy that is moving with the Hubble Flow (expanding universe) at a given redshift\n    # Input:    Redshift observed (zo) \n    #           Redshift emitted (ze)\n    # Output:   DC in Mpc\n\n        zo = 0\n    \n        # define an array with redshifts, spaced  in intervals of 0.001\n        # Note that if you want redshifts smaller than 0.001 you'll need to refine this\n        zrange = np.arange(zo,ze, 1e-3)\n    \n        # 1/H(zrange)*speed of light\n        # Speed of light is loaded in modules from astropy, but in units of m/s --> need in km/s\n        # FILL THIS IN\n        y = c.to(u.km/u.s)*(1.0/self.HubbleParameter(zrange))\n    \n        # Integrate y numerically over zrange and return in units of Mpc\n        # FILL THIS IN \n        return simps(y,zrange)*u.Mpc\n    \n    \n    # Question 2 D) \n    \n    def ProperDistance(self, zo, ze):\n    # Function that returns the Proper Distance \n    # of an comoving distance measured today, at a given redshift (the distance measured by a ruler)\n    # Input:    Redshift observed (zo) \n    #           Redshift of object (ze)\n    # Output:   Proper Distance in Mpc\n    \n        # Comoving Distance (to emitted photon) [ independent of time] x the scale factor \n        # at the time of observation.\n        return self.ComovingDistance(ze)/(1+zo)\n\n \n    # Question 3 A)\n    \n    def LuminosityDistance(self, ze): \n    # Function that computes DL, the luminosity distance of a galaxy at a given redshift\n    # Input:    Redshift emitted (ze) \n    # Output:   DL  in Mpc\n        # this is an observable so\n        zo = 0\n        # Return  DL = DC*(1+z)\n        return self.ComovingDistance(ze)*(1+ze)\n    \n\n    # Question 4 A)\n    \n    def AngularDiameterDistance(self, ze): \n    # Function that computes DA, the angular diameter distance at a given redshift\n    # This is the proper distance between us and the source, at the time the photons were emitted.\n    # Physical size of angular separation of 1 degree\n    # Input:   Redshift emitted (ze)\n    # Output:   DA  in Mpc\n    \n        \n        # this is an observable so\n        zo = 0\n        \n        # # FILL THIS IN\n        # DA = DC/(1+z_emitted) = DL/(1+z)**2\n        return self.ComovingDistance(ze)/(1+ze)     \n    \n    \n    # Question 4 B) \n    \n    def Separation(self, ze, angle):\n    # Function to compute the physical distance corresponding to an angular separation at a given redshift\n    # Input:    Redshift emmitted ze ,  \n    #           angle: Angle between galaxies in arcsec\n    # Output:  Distance in kpc\n    \n        # convert angle from arcsec to radians\n        #    FILL THIS IN\n        angleRad = (angle*u.arcsec).to(u.rad)\n    \n         # FILL THIS IN\n        #   DA*angleRad\n        return (self.AngularDiameterDistance(ze)*angleRad/u.rad).to(u.kpc)\n    \n    \n\n    ################\n    ## Lab 14  Starts here\n    ################\n    \n    # Q1\n    def Temperature(self, z):\n        # function that returns the temperature of the universe as a function of redshift\n        #Input: Redshift of interest\n        # Returns: Temperature in K\n        To = 2.73\n        \n        # Fill this in \n        # To(1+z)\n        return To*(1+z)\n    \n    \n    \n    \n    # Q2 \n    # \n    ## Fill this in \n    def HorizonDistance(self, zo):\n        # Compute the proper distance to the horizon at a given redshift\n        # DC(zo,ze)/(1+zo)\n        # input: Redshift of the observer\n        # Returns the proper distance (Mpc)\n        \n        # define an array with redshifts, spaced  in intervals of 0.001\n        # Note that if you want redshifts smaller than 0.001 you'll need to refine this\n        zrange = np.arange(zo, 5000, 1e-3)\n    \n        # 1/H(zrange)*speed of light\n        # Speed of light is loaded in modules from astropy, but in units of m/s --> need in km/s\n        # FILL THIS IN\n        y = c.to(u.km/u.s)*(1.0/self.HubbleParameter(zrange))\n    \n        # Integrate y numerically over zrange and return in units of Mpc\n        # FILL THIS IN \n        Comoving = simps(y,zrange)*u.Mpc\n      \n        \n        # Proper distance Comoving/(1+z)\n        return Comoving/(1+zo)\n\n    \n    # Q3 \n    ## Fill this in \n    def SoundHorizon(self,zdecouple):\n        # The Maximal distance that sound can travel since the beginning of the universe to the time of \n        # decoupling\n        # DC(zdecouple, zinfty)*speed of sound\n        # Input:  Redshift of decoupling\n        # Returns: Distance of Sound Horizon in Mpc\n        \n        # HorizonDistance/(1+z)\n        return self.HorizonDistance(zdecouple)/np.sqrt(3)    ",
    "persistent_id": "93272292-43d6-44bb-840b-a0f3db5f79dc"
   },
   "outputs": [],
   "source": [
    "class CosmologicalTools:\n",
    "    # Define a class that provides functions to compute various cosmological quantities\n",
    "    # for a given cosmology  \n",
    "        \n",
    "    def __init__(self, OmegaM0, OmegaR0, OmegaL0, h):\n",
    "        # initialize the instance of the class - for any given Cosmology\n",
    "        # Input:    Omega M matter density parameter at z=0\n",
    "        #           Omega R radiation density parameter at z=0\n",
    "        #           Omega L  dark energy density parameter at z=0\n",
    "        #           h  normalization for the hubble parameter at z=0\n",
    "        \n",
    "        # initialize the cosmology at z=0\n",
    "        self.OmegaM0 = OmegaM0    ### Matter Density Parameter\n",
    "        self.OmegaR0 = OmegaR0    ### Radiation Density Parameter\n",
    "        self.OmegaL0 = OmegaL0    ### Dark Energy Density Parameter\n",
    "        self.OmegaK0 = 1 - (OmegaM0 + OmegaR0 + OmegaL0)    #### Curvature Density Parameter\n",
    "    \n",
    "        self.h = h   # Normalization of Hubble Parameter   \n",
    "        self.Ho = h*100*u.km/u.s/u.Mpc #  Hubble Constant at z=0  100 h km/s/Mpc\n",
    "    \n",
    "    \n",
    "    # Question 1 A)\n",
    "    def HubbleParameter(self, z):\n",
    "        # Function that defines the Hubble Parameter as a function of redshift\n",
    "        # Input:   Redshift z \n",
    "        # Returns: The Hubble parameter at the given redshift in units of km/s/Mpc        \n",
    "        \n",
    "        # FILL THIS IN \n",
    "        M = self.OmegaM0*(1+z)**3\n",
    "        R = self.OmegaR0*(1+z)**4\n",
    "        L = self.OmegaL0\n",
    "        K = self.OmegaK0*(1+z)**2\n",
    "        \n",
    "        return  self.Ho*np.sqrt(M+R+L+K)\n",
    "    \n",
    "    \n",
    "    \n",
    "    # Question 2 A)\n",
    "    def OmegaM_Z(self,z):\n",
    "        # Function that defines the matter density parameter as a function of redshift\n",
    "        # Input:  Redshift z . Can be an array\n",
    "        # Output:  Matter Density Parameter at the given redshift.\n",
    "        \n",
    "        # FILL THIS IN\n",
    "        return self.OmegaM0*(1+z)**3*self.Ho**2/self.HubbleParameter(z)**2\n",
    "    \n",
    "    def OmegaR_Z(self,z):\n",
    "        # Function that defines the radiation density parameter as a function of redshift\n",
    "        # Input:  Redshift z . Can be an array\n",
    "        # Output:  Radiation Density Parameter at the given redshift.\n",
    "        \n",
    "        # FILL THIS IN\n",
    "        return self.OmegaR0*(1+z)**4*self.Ho**2/self.HubbleParameter(z)**2\n",
    "    \n",
    "    \n",
    "    def OmegaL_Z(self,z):\n",
    "        # Function that defines the dark energy density parameter as a function of redshift\n",
    "        # Input:  Redshift z . Can be an array\n",
    "        # Output:  Dark Energy Density Parameter at the given redshift.\n",
    "        \n",
    "        # FILL THIS IN\n",
    "        return self.OmegaL0*self.Ho**2/self.HubbleParameter(z)**2\n",
    "    \n",
    "    \n",
    " \n",
    "    \n",
    "    # Question 1 A) \n",
    "    \n",
    "    def LookBackTime(self, ze):\n",
    "    # Function that computes the look back time at a given redshift\n",
    "    # i.e. the difference in time from when a photon was emitted to when it is observed at present day.\n",
    "    # Input:    Redshift emitted (ze). This cannot be an array. \n",
    "    # Output:   Time in units of Gyr Ago  (relative to present day). This is not an arrat    \n",
    "    \n",
    "        # Observed redshift  \n",
    "        zo = 0\n",
    "    \n",
    "        # define an array with redshifts, spaced in intervals of 0.001 from zo to ze\n",
    "        zrange = np.arange(zo, ze, 1e-3)\n",
    "        \n",
    "        # y = (1/H(zrange)).to(GYR)  /  (1+zrange)\n",
    "        # But need to correct units of 1/H to be Gyr rather than seconds  \n",
    "        # use the astropy.units functionality .to(units)\n",
    "        # FILL THIS IN \n",
    "        y = (1.0/self.HubbleParameter(zrange)).to(u.Gyr)/(1+zrange)  \n",
    "        \n",
    "        # Integrate y numerically over zrange and return in units of Gyr\n",
    "        # FILL THIS IN \n",
    "        return simps(y,zrange)*u.Gyr\n",
    "    \n",
    "    \n",
    "    # Question 2 A) \n",
    "    \n",
    "    def ComovingDistance(self, ze):\n",
    "    # Function that returns the Comoving Radial Distance to an object at a given redshift\n",
    "    # Distance to a galaxy that is moving with the Hubble Flow (expanding universe) at a given redshift\n",
    "    # Input:    Redshift observed (zo) \n",
    "    #           Redshift emitted (ze)\n",
    "    # Output:   DC in Mpc\n",
    "\n",
    "        zo = 0\n",
    "    \n",
    "        # define an array with redshifts, spaced  in intervals of 0.001\n",
    "        # Note that if you want redshifts smaller than 0.001 you'll need to refine this\n",
    "        zrange = np.arange(zo,ze, 1e-3)\n",
    "    \n",
    "        # 1/H(zrange)*speed of light\n",
    "        # Speed of light is loaded in modules from astropy, but in units of m/s --> need in km/s\n",
    "        # FILL THIS IN\n",
    "        y = c.to(u.km/u.s)*(1.0/self.HubbleParameter(zrange))\n",
    "    \n",
    "        # Integrate y numerically over zrange and return in units of Mpc\n",
    "        # FILL THIS IN \n",
    "        return simps(y,zrange)*u.Mpc\n",
    "    \n",
    "    \n",
    "    # Question 2 D) \n",
    "    \n",
    "    def ProperDistance(self, zo, ze):\n",
    "    # Function that returns the Proper Distance \n",
    "    # of an comoving distance measured today, at a given redshift (the distance measured by a ruler)\n",
    "    # Input:    Redshift observed (zo) \n",
    "    #           Redshift of object (ze)\n",
    "    # Output:   Proper Distance in Mpc\n",
    "    \n",
    "        # Comoving Distance (to emitted photon) [ independent of time] x the scale factor \n",
    "        # at the time of observation.\n",
    "        return self.ComovingDistance(ze)/(1+zo)\n",
    "\n",
    " \n",
    "    # Question 3 A)\n",
    "    \n",
    "    def LuminosityDistance(self, ze): \n",
    "    # Function that computes DL, the luminosity distance of a galaxy at a given redshift\n",
    "    # Input:    Redshift emitted (ze) \n",
    "    # Output:   DL  in Mpc\n",
    "        # this is an observable so\n",
    "        zo = 0\n",
    "        # Return  DL = DC*(1+z)\n",
    "        return self.ComovingDistance(ze)*(1+ze)\n",
    "    \n",
    "\n",
    "    # Question 4 A)\n",
    "    \n",
    "    def AngularDiameterDistance(self, ze): \n",
    "    # Function that computes DA, the angular diameter distance at a given redshift\n",
    "    # This is the proper distance between us and the source, at the time the photons were emitted.\n",
    "    # Physical size of angular separation of 1 degree\n",
    "    # Input:   Redshift emitted (ze)\n",
    "    # Output:   DA  in Mpc\n",
    "    \n",
    "        \n",
    "        # this is an observable so\n",
    "        zo = 0\n",
    "        \n",
    "        # # FILL THIS IN\n",
    "        # DA = DC/(1+z_emitted) = DL/(1+z)**2\n",
    "        return self.ComovingDistance(ze)/(1+ze)     \n",
    "    \n",
    "    \n",
    "    # Question 4 B) \n",
    "    \n",
    "    def Separation(self, ze, angle):\n",
    "    # Function to compute the physical distance corresponding to an angular separation at a given redshift\n",
    "    # Input:    Redshift emmitted ze ,  \n",
    "    #           angle: Angle between galaxies in arcsec\n",
    "    # Output:  Distance in kpc\n",
    "    \n",
    "        # convert angle from arcsec to radians\n",
    "        #    FILL THIS IN\n",
    "        angleRad = (angle*u.arcsec).to(u.rad)\n",
    "    \n",
    "         # FILL THIS IN\n",
    "        #   DA*angleRad\n",
    "        return (self.AngularDiameterDistance(ze)*angleRad/u.rad).to(u.kpc)\n",
    "    \n",
    "    \n",
    "\n",
    "    ################\n",
    "    ## Lab 14  Starts here\n",
    "    ################\n",
    "    \n",
    "    # Q1\n",
    "    def Temperature(self, z):\n",
    "        # function that returns the temperature of the universe as a function of redshift\n",
    "        #Input: Redshift of interest\n",
    "        # Returns: Temperature in K\n",
    "        To = 2.73\n",
    "        \n",
    "        # Fill this in \n",
    "        # To(1+z)\n",
    "        return To*(1+z)\n",
    "    \n",
    "    \n",
    "    \n",
    "    \n",
    "    # Q2 \n",
    "    # \n",
    "    ## Fill this in \n",
    "    def HorizonDistance(self, zo):\n",
    "        # Compute the proper distance to the horizon at a given redshift\n",
    "        # DC(zo,ze)/(1+zo)\n",
    "        # input: Redshift of the observer\n",
    "        # Returns the proper distance (Mpc)\n",
    "        \n",
    "        # define an array with redshifts, spaced  in intervals of 0.001\n",
    "        # Note that if you want redshifts smaller than 0.001 you'll need to refine this\n",
    "        zrange = np.arange(zo, 5000, 1e-3)\n",
    "    \n",
    "        # 1/H(zrange)*speed of light\n",
    "        # Speed of light is loaded in modules from astropy, but in units of m/s --> need in km/s\n",
    "        # FILL THIS IN\n",
    "        y = c.to(u.km/u.s)*(1.0/self.HubbleParameter(zrange))\n",
    "    \n",
    "        # Integrate y numerically over zrange and return in units of Mpc\n",
    "        # FILL THIS IN \n",
    "        Comoving = simps(y,zrange)*u.Mpc\n",
    "      \n",
    "        \n",
    "        # Proper distance Comoving/(1+z)\n",
    "        return Comoving/(1+zo)\n",
    "\n",
    "    \n",
    "    # Q3 \n",
    "    ## Fill this in \n",
    "    def SoundHorizon(self,zdecouple):\n",
    "        # The Maximal distance that sound can travel since the beginning of the universe to the time of \n",
    "        # decoupling\n",
    "        # DC(zdecouple, zinfty)*speed of sound\n",
    "        # Input:  Redshift of decoupling\n",
    "        # Returns: Distance of Sound Horizon in Mpc\n",
    "        \n",
    "        # HorizonDistance/(1+z)\n",
    "        return self.HorizonDistance(zdecouple)/np.sqrt(3)    "
   ]
  },
  {
   "cell_type": "code",
   "execution_count": 23,
   "metadata": {
    "execution_event_id": "1f637713-0c89-4bf0-b0e9-e3019b0a423d",
    "last_executed_text": "# Define here an instance of the Class Cosmological Tools that follows the Benchmark Cosmology\n\nBenchMark = CosmologicalTools(OmegaM0_planck, OmegaR0_planck, OmegaL0_planck, h_planck)\n",
    "persistent_id": "eb1161b1-feba-43be-abba-03765fd0186b"
   },
   "outputs": [],
   "source": [
    "# Define here an instance of the Class Cosmological Tools that follows the Benchmark Cosmology\n",
    "\n",
    "BenchMark = CosmologicalTools(OmegaM0_planck, OmegaR0_planck, OmegaL0_planck, h_planck)\n"
   ]
  },
  {
   "cell_type": "markdown",
   "metadata": {},
   "source": [
    "# Question 1\n",
    "\n",
    "Complete the function `Temperature` to examine the Evolution of the average temperature of the universe as a function of time. \n",
    "\n",
    "$T(z) = T_o(1+z)$ \n",
    "\n",
    "Where $T_o = 2.7$K, the black body temperature that describes the CMB\n",
    "\n",
    "- What is the temperature needed to ionize a hydrogen atom (13.6eV). \n",
    "- How does this temperature compare to the temperature at photon-electron decoupling era (Z = 1100)"
   ]
  },
  {
   "cell_type": "code",
   "execution_count": 11,
   "metadata": {
    "execution_event_id": "2b626eb2-fa0b-44f3-8ab7-0684f7375571",
    "last_executed_text": "# E = 3kBT\n\nT = 13.6*u.electronvolt/3/k_B_ev\nT",
    "persistent_id": "900e494c-9780-488e-b4de-19de8d2a5291"
   },
   "outputs": [
    {
     "data": {
      "text/latex": [
       "$52607.149 \\; \\mathrm{K}$"
      ],
      "text/plain": [
       "<Quantity 52607.14881769 K>"
      ]
     },
     "execution_count": 11,
     "metadata": {},
     "output_type": "execute_result"
    }
   ],
   "source": [
    "# E = 3kBT\n",
    "\n",
    "T = 13.6*u.electronvolt/3/k_B_ev\n",
    "T"
   ]
  },
  {
   "cell_type": "code",
   "execution_count": 12,
   "metadata": {
    "execution_event_id": "b797f2d2-5586-4371-a7b7-15d6d110c8ad",
    "last_executed_text": "# redshift of Photon Decoupling\nzDecoupling = 1100",
    "persistent_id": "40715b6b-f81d-4d59-b012-90965dfab7f7"
   },
   "outputs": [],
   "source": [
    "# redshift of Photon Decoupling\n",
    "zDecoupling = 1100"
   ]
  },
  {
   "cell_type": "code",
   "execution_count": 13,
   "metadata": {
    "execution_event_id": "bf6e4f9e-41fc-475b-a8c4-e3ba7a3deb6a",
    "last_executed_text": "# Temperature at z = 1100\nBenchMark.Temperature(zDecoupling)",
    "persistent_id": "57f5bd1e-1540-461a-b01e-976f91dc5635"
   },
   "outputs": [
    {
     "data": {
      "text/plain": [
       "3005.73"
      ]
     },
     "execution_count": 13,
     "metadata": {},
     "output_type": "execute_result"
    }
   ],
   "source": [
    "# Temperature at z = 1100\n",
    "BenchMark.Temperature(zDecoupling)"
   ]
  },
  {
   "cell_type": "code",
   "execution_count": null,
   "metadata": {
    "persistent_id": "e0816b67-4b77-4429-aaa9-1fe75f6a066c"
   },
   "outputs": [],
   "source": [
    "# Redshift where it should have happened! \n"
   ]
  },
  {
   "cell_type": "code",
   "execution_count": 15,
   "metadata": {
    "execution_event_id": "f417f739-1e4c-418c-92fa-05edf13cc08e",
    "last_executed_text": "# Plot the Temperature Evolution as a Function of Redshift\n###############################################################################\n\nzmax = 21000\nzmin = 0.001\nzrange = np.arange(zmin, zmax, 0.5) \n\n\nfig = plt.figure(figsize=(10,10))\nax = plt.subplot(111)\n\n\n# Temperature \n# FILL THIS IN\nplt.semilogy(zrange +1, BenchMark.Temperature(zrange) , linewidth=5, label='BenchMark')\n\n\n# Add axis labels\nplt.xlabel('1+z', fontsize=22)\nplt.ylabel('Temperature (K)', fontsize=22)\n\n\n#adjust tick label font size\nlabel_size = 22\nmatplotlib.rcParams['xtick.labelsize'] = label_size \nmatplotlib.rcParams['ytick.labelsize'] = label_size\n\nlegend = ax.legend(loc='upper left',fontsize=20)\n\n# Save to a file\nax.set_rasterized(True)\nplt.savefig('Temperature.png', rasterized=True, dpi=350)",
    "persistent_id": "da1b79bd-1978-4d8a-9831-3be985ff7092"
   },
   "outputs": [
    {
     "data": {
      "image/png": "[encoded data removed]",
      "text/plain": [
       "<Figure size 720x720 with 1 Axes>"
      ]
     },
     "metadata": {
      "needs_background": "light"
     },
     "output_type": "display_data"
    }
   ],
   "source": [
    "# Plot the Temperature Evolution as a Function of Redshift\n",
    "###############################################################################\n",
    "\n",
    "zmax = 21000\n",
    "zmin = 0.001\n",
    "zrange = np.arange(zmin, zmax, 0.5) \n",
    "\n",
    "\n",
    "fig = plt.figure(figsize=(10,10))\n",
    "ax = plt.subplot(111)\n",
    "\n",
    "\n",
    "# Temperature \n",
    "# FILL THIS IN\n",
    "plt.semilogy(zrange +1, BenchMark.Temperature(zrange) , linewidth=5, label='BenchMark')\n",
    "\n",
    "\n",
    "# Add axis labels\n",
    "plt.xlabel('1+z', fontsize=22)\n",
    "plt.ylabel('Temperature (K)', fontsize=22)\n",
    "\n",
    "\n",
    "#adjust tick label font size\n",
    "label_size = 22\n",
    "matplotlib.rcParams['xtick.labelsize'] = label_size \n",
    "matplotlib.rcParams['ytick.labelsize'] = label_size\n",
    "\n",
    "legend = ax.legend(loc='upper left',fontsize=20)\n",
    "\n",
    "# Save to a file\n",
    "ax.set_rasterized(True)\n",
    "plt.savefig('Temperature.png', rasterized=True, dpi=350)"
   ]
  },
  {
   "cell_type": "markdown",
   "metadata": {},
   "source": [
    "# Question 2\n",
    "\n",
    "Define the horizon distance. \n",
    "\n",
    "Complete the function  ``HorizonDistance`` that takes as input: the redshift when the photon was observed and the redshift when the photon was emitted.  The function returns the Comoving Radial Distance from an observer at z=z_o, $D_C(z)$, by numerically integrating the below: \n",
    "\n",
    "$D_C(z0,ze) = c \\int_{z_0}^{z_e} \\frac{dz'}{H(z')}$\n",
    "\n",
    "Where $c$ is the speed of light.  Where  $z_0$= zObs is the redshift of the observer, $z_e$ is the redshift of the horizon (say $z_e$ = 5000).  \n",
    "\n",
    "And then translating this to proper distance:\n",
    "\n",
    "$d_{horizon}$ = D$_C$(zObs,5000)/(1+zObs)\n",
    " \n",
    "\n"
   ]
  },
  {
   "cell_type": "code",
   "execution_count": 19,
   "metadata": {
    "execution_event_id": "11d18adb-5875-44e7-85e4-e622c0d78df4",
    "last_executed_text": "# Horizon distance at that scale in the benchmark cosmology\n\n# ProperDistance(zobs, zemitted), where we are an observed at zDecoupling\nHorizon = BenchMark.HorizonDistance(zDecoupling)\nHorizon",
    "persistent_id": "10036857-0a59-42b8-a6e4-46b4bf6a9df1"
   },
   "outputs": [
    {
     "data": {
      "text/latex": [
       "$0.18332163 \\; \\mathrm{Mpc}$"
      ],
      "text/plain": [
       "<Quantity 0.18332163 Mpc>"
      ]
     },
     "execution_count": 19,
     "metadata": {},
     "output_type": "execute_result"
    }
   ],
   "source": [
    "# Horizon distance at that scale in the benchmark cosmology\n",
    "\n",
    "# ProperDistance(zobs, zemitted), where we are an observed at zDecoupling\n",
    "Horizon = BenchMark.HorizonDistance(zDecoupling)\n",
    "Horizon"
   ]
  },
  {
   "cell_type": "code",
   "execution_count": 20,
   "metadata": {
    "execution_event_id": "b2381c4e-d118-43e0-940a-02c73b371235",
    "last_executed_text": "# Angular Diameter distance to  z = 1100 \nAngDiam_Zdecouple = BenchMark.AngularDiameterDistance(zDecoupling)\nAngDiam_Zdecouple",
    "persistent_id": "5c1e7c6c-0e2d-4035-bc48-1973777d5dd9"
   },
   "outputs": [
    {
     "data": {
      "text/latex": [
       "$12.637146 \\; \\mathrm{Mpc}$"
      ],
      "text/plain": [
       "<Quantity 12.6371462 Mpc>"
      ]
     },
     "execution_count": 20,
     "metadata": {},
     "output_type": "execute_result"
    }
   ],
   "source": [
    "# Angular Diameter distance to  z = 1100 \n",
    "AngDiam_Zdecouple = BenchMark.AngularDiameterDistance(zDecoupling)\n",
    "AngDiam_Zdecouple"
   ]
  },
  {
   "cell_type": "code",
   "execution_count": 21,
   "metadata": {
    "execution_event_id": "44d4ea39-b75e-4c92-8a22-0dfc8baf1974",
    "last_executed_text": "# Angular Scale of the Causally Connected region:  Angle the horizon would subtend on the sky. \n# Theta = Size / Distance = Horizon*2 / Angular Diameter Distance  \n\nTheta = 2*Horizon/AngDiam_Zdecouple*u.radian.to(u.degree)\nTheta",
    "persistent_id": "0e7a81b4-a3eb-4f8f-ad2e-2fbc0dc1099f"
   },
   "outputs": [
    {
     "data": {
      "text/latex": [
       "$1.6623303 \\; \\mathrm{}$"
      ],
      "text/plain": [
       "<Quantity 1.66233031>"
      ]
     },
     "execution_count": 21,
     "metadata": {},
     "output_type": "execute_result"
    }
   ],
   "source": [
    "# Angular Scale of the Causally Connected region:  Angle the horizon would subtend on the sky. \n",
    "# Theta = Size / Distance = Horizon*2 / Angular Diameter Distance  \n",
    "\n",
    "Theta = 2*Horizon/AngDiam_Zdecouple*u.radian.to(u.degree)\n",
    "Theta"
   ]
  },
  {
   "cell_type": "markdown",
   "metadata": {},
   "source": [
    "# Question 3 A\n",
    "\n",
    "What is the sound horizon at the time of photon-electron decoupling?\n",
    "\n",
    "Complete the function `SoundHorizon`, which is similar to the horizon distance except the relevant speed is the speed of sound in a photon-electron fluid \n",
    "\n",
    "$c_s$ = c/sqrt(3)\n",
    "\n",
    "Sound Horizon = $ \\frac{c_s}{1+z_e} \\int_{z_d}^{z_e} \\frac{dz'}{H(z')}$\n",
    "\n",
    "  Where  $z_d$= zDecoupling is the redshift at decoupling, $z_e$ is the redshift of the horizon (say $z_e$ = 5000).  \n"
   ]
  },
  {
   "cell_type": "code",
   "execution_count": 24,
   "metadata": {
    "execution_event_id": "9e97eeb7-086e-444b-895d-6fa90039c54b",
    "last_executed_text": "# Sound Horizon  \nSound = BenchMark.SoundHorizon(zDecoupling)\nSound",
    "persistent_id": "c7bc9ea5-65c5-4618-a248-2f8205845d71"
   },
   "outputs": [
    {
     "data": {
      "text/latex": [
       "$0.10584079 \\; \\mathrm{Mpc}$"
      ],
      "text/plain": [
       "<Quantity 0.10584079 Mpc>"
      ]
     },
     "execution_count": 24,
     "metadata": {},
     "output_type": "execute_result"
    }
   ],
   "source": [
    "# Sound Horizon  \n",
    "Sound = BenchMark.SoundHorizon(zDecoupling)\n",
    "Sound"
   ]
  },
  {
   "cell_type": "markdown",
   "metadata": {},
   "source": [
    "# Question 3 B\n",
    "\n",
    "What is the angular size subtended by the Sound Horizon Diameter?\n",
    "\n",
    "Theta = Sound Horizon Diameter/ Angular Diameter Distance"
   ]
  },
  {
   "cell_type": "code",
   "execution_count": 25,
   "metadata": {
    "execution_event_id": "46db73a3-0bc4-40ff-800c-042e3cd134c2",
    "last_executed_text": "# Angle subtended \n\n# Size/ Distance = 2* sound horizon / Angular Diameter Distance\nThetaSound = Sound*2/BenchMark.AngularDiameterDistance(zDecoupling)*u.radian.to(u.degree)",
    "persistent_id": "cef037ed-a8e9-4e9a-8f76-45926ca93e52"
   },
   "outputs": [],
   "source": [
    "# Angle subtended \n",
    "\n",
    "# Size/ Distance = 2* sound horizon / Angular Diameter Distance\n",
    "ThetaSound = Sound*2/BenchMark.AngularDiameterDistance(zDecoupling)*u.radian.to(u.degree)"
   ]
  },
  {
   "cell_type": "code",
   "execution_count": 26,
   "metadata": {
    "execution_event_id": "5d6edfb9-563a-4275-b2fc-0559f43c2895",
    "last_executed_text": "ThetaSound",
    "persistent_id": "0cb18f46-7909-4116-b933-c1cea0d9851a"
   },
   "outputs": [
    {
     "data": {
      "text/latex": [
       "$0.95974685 \\; \\mathrm{}$"
      ],
      "text/plain": [
       "<Quantity 0.95974685>"
      ]
     },
     "execution_count": 26,
     "metadata": {},
     "output_type": "execute_result"
    }
   ],
   "source": [
    "ThetaSound"
   ]
  },
  {
   "cell_type": "code",
   "execution_count": null,
   "metadata": {
    "persistent_id": "c29e6948-fc16-48d7-af50-799feb0b8cbe"
   },
   "outputs": [],
   "source": []
  }
 ],
 "metadata": {
  "history": [
   {
    "cell": {
     "executionCount": 1,
     "executionEventId": "3b63ea64-3978-4cbc-814b-bf54e313562c",
     "hasError": false,
     "id": "8328c5f2-1c08-454d-b8a2-7fd6c29bb008",
     "outputs": [],
     "persistentId": "b4b61c93-db2d-4783-b37c-89c8bebfffa8",
     "text": "# import modules\nimport numpy as np\nimport astropy.units as u\n\n# For Lab 12: Import the constant for the speed of light\nfrom astropy.constants import c\n# For Lab 14: Import the boltzmann constant\nfrom astropy.constants import k_B \n\n# import plotting modules\nimport matplotlib.pyplot as plt\nimport matplotlib\n%matplotlib inline\n\n\n# Lab 12 : added\n# integrating tools from SciPy  \nfrom scipy.integrate import simps\n"
    },
    "executionTime": "2020-05-12T08:27:51.712Z"
   },
   {
    "cell": {
     "executionCount": 2,
     "executionEventId": "8df29070-7e0a-441d-a129-6f53149b2bc1",
     "hasError": false,
     "id": "7c3fc074-f9a6-4d07-b757-26e8461c1202",
     "outputs": [
      {
       "data": {
        "text/latex": "$1.380649 \\times 10^{-23} \\; \\mathrm{\\frac{J}{K}}$",
        "text/plain": "<<class 'astropy.constants.codata2018.CODATA2018'> name='Boltzmann constant' value=1.380649e-23 uncertainty=0.0 unit='J / K' reference='CODATA 2018'>"
       },
       "execution_count": 2,
       "metadata": {},
       "output_type": "execute_result"
      }
     ],
     "persistentId": "df43c7ab-8028-4055-9699-e78ef18a9a38",
     "text": "k_B"
    },
    "executionTime": "2020-05-12T08:30:12.506Z"
   },
   {
    "cell": {
     "executionCount": 3,
     "executionEventId": "a49836bb-355e-427d-9dc0-8e8e14ca89ad",
     "hasError": false,
     "id": "d8c5f12e-1795-40c2-9fdb-aa58d07df17e",
     "outputs": [],
     "persistentId": "3704af95-d1e3-48c0-963f-6f596ca17b80",
     "text": "k_B_ev = k_B.to(u.electronvolt/u.K)"
    },
    "executionTime": "2020-05-12T08:30:54.790Z"
   },
   {
    "cell": {
     "executionCount": 4,
     "executionEventId": "1ab25990-cc40-411d-af84-cd9d1b80d464",
     "hasError": false,
     "id": "d8c5f12e-1795-40c2-9fdb-aa58d07df17e",
     "outputs": [
      {
       "data": {
        "text/latex": "$8.6173333 \\times 10^{-5} \\; \\mathrm{\\frac{eV}{K}}$",
        "text/plain": "<Quantity 8.61733326e-05 eV / K>"
       },
       "execution_count": 4,
       "metadata": {},
       "output_type": "execute_result"
      }
     ],
     "persistentId": "3704af95-d1e3-48c0-963f-6f596ca17b80",
     "text": "k_B_ev = k_B.to(u.electronvolt/u.K)\nk_B_ev"
    },
    "executionTime": "2020-05-12T08:30:59.732Z"
   },
   {
    "cell": {
     "executionCount": 5,
     "executionEventId": "fee67908-b3bd-4d80-a9a8-2c1acd3afd9f",
     "hasError": false,
     "id": "9a7df408-69e2-403b-87aa-5e4b7d5cde94",
     "outputs": [],
     "persistentId": "93272292-43d6-44bb-840b-a0f3db5f79dc",
     "text": "class CosmologicalTools:\n    # Define a class that provides functions to compute various cosmological quantities\n    # for a given cosmology  \n        \n    def __init__(self, OmegaM0, OmegaR0, OmegaL0, h):\n        # initialize the instance of the class - for any given Cosmology\n        # Input:    Omega M matter density parameter at z=0\n        #           Omega R radiation density parameter at z=0\n        #           Omega L  dark energy density parameter at z=0\n        #           h  normalization for the hubble parameter at z=0\n        \n        # initialize the cosmology at z=0\n        self.OmegaM0 = OmegaM0    ### Matter Density Parameter\n        self.OmegaR0 = OmegaR0    ### Radiation Density Parameter\n        self.OmegaL0 = OmegaL0    ### Dark Energy Density Parameter\n        self.OmegaK0 = 1 - (OmegaM0 + OmegaR0 + OmegaL0)    #### Curvature Density Parameter\n    \n        self.h = h   # Normalization of Hubble Parameter   \n        self.Ho = h*100*u.km/u.s/u.Mpc #  Hubble Constant at z=0  100 h km/s/Mpc\n    \n    \n    # Question 1 A)\n    def HubbleParameter(self, z):\n        # Function that defines the Hubble Parameter as a function of redshift\n        # Input:   Redshift z \n        # Returns: The Hubble parameter at the given redshift in units of km/s/Mpc        \n        \n        # FILL THIS IN \n        M = self.OmegaM0*(1+z)**3\n        R = self.OmegaR0*(1+z)**4\n        L = self.OmegaL0\n        K = self.OmegaK0*(1+z)**2\n        \n        return  self.Ho*np.sqrt(M+R+L+K)\n    \n    \n    \n    # Question 2 A)\n    def OmegaM_Z(self,z):\n        # Function that defines the matter density parameter as a function of redshift\n        # Input:  Redshift z . Can be an array\n        # Output:  Matter Density Parameter at the given redshift.\n        \n        # FILL THIS IN\n        return self.OmegaM0*(1+z)**3*self.Ho**2/self.HubbleParameter(z)**2\n    \n    def OmegaR_Z(self,z):\n        # Function that defines the radiation density parameter as a function of redshift\n        # Input:  Redshift z . Can be an array\n        # Output:  Radiation Density Parameter at the given redshift.\n        \n        # FILL THIS IN\n        return self.OmegaR0*(1+z)**4*self.Ho**2/self.HubbleParameter(z)**2\n    \n    \n    def OmegaL_Z(self,z):\n        # Function that defines the dark energy density parameter as a function of redshift\n        # Input:  Redshift z . Can be an array\n        # Output:  Dark Energy Density Parameter at the given redshift.\n        \n        # FILL THIS IN\n        return self.OmegaL0*self.Ho**2/self.HubbleParameter(z)**2\n    \n    \n \n    \n    # Question 1 A) \n    \n    def LookBackTime(self, ze):\n    # Function that computes the look back time at a given redshift\n    # i.e. the difference in time from when a photon was emitted to when it is observed at present day.\n    # Input:    Redshift emitted (ze). This cannot be an array. \n    # Output:   Time in units of Gyr Ago  (relative to present day). This is not an arrat    \n    \n        # Observed redshift  \n        zo = 0\n    \n        # define an array with redshifts, spaced in intervals of 0.001 from zo to ze\n        zrange = np.arange(zo, ze, 1e-3)\n        \n        # y = (1/H(zrange)).to(GYR)  /  (1+zrange)\n        # But need to correct units of 1/H to be Gyr rather than seconds  \n        # use the astropy.units functionality .to(units)\n        # FILL THIS IN \n        y = (1.0/self.HubbleParameter(zrange)).to(u.Gyr)/(1+zrange)  \n        \n        # Integrate y numerically over zrange and return in units of Gyr\n        # FILL THIS IN \n        return simps(y,zrange)*u.Gyr\n    \n    \n    # Question 2 A) \n    \n    def ComovingDistance(self, ze):\n    # Function that returns the Comoving Radial Distance to an object at a given redshift\n    # Distance to a galaxy that is moving with the Hubble Flow (expanding universe) at a given redshift\n    # Input:    Redshift observed (zo) \n    #           Redshift emitted (ze)\n    # Output:   DC in Mpc\n\n        zo = 0\n    \n        # define an array with redshifts, spaced  in intervals of 0.001\n        # Note that if you want redshifts smaller than 0.001 you'll need to refine this\n        zrange = np.arange(zo,ze, 1e-3)\n    \n        # 1/H(zrange)*speed of light\n        # Speed of light is loaded in modules from astropy, but in units of m/s --> need in km/s\n        # FILL THIS IN\n        y = c.to(u.km/u.s)*(1.0/self.HubbleParameter(zrange))\n    \n        # Integrate y numerically over zrange and return in units of Mpc\n        # FILL THIS IN \n        return simps(y,zrange)*u.Mpc\n    \n    \n    # Question 2 D) \n    \n    def ProperDistance(self, zo, ze):\n    # Function that returns the Proper Distance \n    # of an comoving distance measured today, at a given redshift (the distance measured by a ruler)\n    # Input:    Redshift observed (zo) \n    #           Redshift of object (ze)\n    # Output:   Proper Distance in Mpc\n    \n        # Comoving Distance (to emitted photon) [ independent of time] x the scale factor \n        # at the time of observation.\n        return self.ComovingDistance(ze)/(1+zo)\n\n \n    # Question 3 A)\n    \n    def LuminosityDistance(self, ze): \n    # Function that computes DL, the luminosity distance of a galaxy at a given redshift\n    # Input:    Redshift emitted (ze) \n    # Output:   DL  in Mpc\n        # this is an observable so\n        zo = 0\n        # Return  DL = DC*(1+z)\n        return self.ComovingDistance(ze)*(1+ze)\n    \n\n    # Question 4 A)\n    \n    def AngularDiameterDistance(self, ze): \n    # Function that computes DA, the angular diameter distance at a given redshift\n    # This is the proper distance between us and the source, at the time the photons were emitted.\n    # Physical size of angular separation of 1 degree\n    # Input:   Redshift emitted (ze)\n    # Output:   DA  in Mpc\n    \n        \n        # this is an observable so\n        zo = 0\n        \n        # # FILL THIS IN\n        # DA = DC/(1+z_emitted) = DL/(1+z)**2\n        return self.ComovingDistance(ze)/(1+ze)     \n    \n    \n    # Question 4 B) \n    \n    def Separation(self, ze, angle):\n    # Function to compute the physical distance corresponding to an angular separation at a given redshift\n    # Input:    Redshift emmitted ze ,  \n    #           angle: Angle between galaxies in arcsec\n    # Output:  Distance in kpc\n    \n        # convert angle from arcsec to radians\n        #    FILL THIS IN\n        angleRad = (angle*u.arcsec).to(u.rad)\n    \n         # FILL THIS IN\n        #   DA*angleRad\n        return (self.AngularDiameterDistance(ze)*angleRad/u.rad).to(u.kpc)\n    \n    \n\n    ################\n    ## Lab 14  Starts here\n    ################\n    \n    # Q1\n    def Temperature(self, z):\n        # function that returns the temperature of the universe as a function of redshift\n        #Input: Redshift of interest\n        # Returns: Temperature in K\n        To = 2.73\n        \n        # Fill this in \n        # To(1+z)\n        return To*(1+z)\n    \n    \n    \n    \n    # Q2 \n    # \n    ## Fill this in \n    def HorizonDistance(self, zo):\n        # Compute the proper distance to the horizon at a given redshift\n        # DC(zo,ze)/(1+zo)\n        # input: Redshift of the observer\n        # Returns the proper distance (Mpc)\n        \n        # define an array with redshifts, spaced  in intervals of 0.001\n        # Note that if you want redshifts smaller than 0.001 you'll need to refine this\n        zrange = np.arange(zo, 5000, 1e-3)\n    \n        # 1/H(zrange)*speed of light\n        # Speed of light is loaded in modules from astropy, but in units of m/s --> need in km/s\n        # FILL THIS IN\n        \n    \n        # Integrate y numerically over zrange and return in units of Mpc\n        # FILL THIS IN \n      \n        \n        # Proper distance Comoving/(1+z)\n        return \n\n    \n    # Q3 \n    ## Fill this in \n    def SoundHorizon(self,zdecouple):\n        # The Maximal distance that sound can travel since the beginning of the universe to the time of \n        # decoupling\n        # DC(zdecouple, zinfty)*speed of sound\n        # Input:  Redshift of decoupling\n        # Returns: Distance of Sound Horizon in Mpc\n        \n        # HorizonDistance/(1+z)\n        return \n    "
    },
    "executionTime": "2020-05-12T08:32:22.449Z"
   },
   {
    "cell": {
     "executionCount": 6,
     "executionEventId": "7f136f05-414d-4e5d-8384-3f55432b2436",
     "hasError": true,
     "id": "e1c794c2-39a4-4607-b51e-f0c2267a230c",
     "outputs": [
      {
       "ename": "NameError",
       "evalue": "name 'OmegaM0_planck' is not defined",
       "output_type": "error",
       "traceback": [
        "\u001b[0;31m---------------------------------------------------------------------------\u001b[0m",
        "\u001b[0;31mNameError\u001b[0m                                 Traceback (most recent call last)",
        "\u001b[0;32m<ipython-input-6-7b72f6d62bcd>\u001b[0m in \u001b[0;36m<module>\u001b[0;34m\u001b[0m\n\u001b[1;32m      1\u001b[0m \u001b[0;31m# Define here an instance of the Class Cosmological Tools that follows the Benchmark Cosmology\u001b[0m\u001b[0;34m\u001b[0m\u001b[0;34m\u001b[0m\u001b[0;34m\u001b[0m\u001b[0m\n\u001b[1;32m      2\u001b[0m \u001b[0;34m\u001b[0m\u001b[0m\n\u001b[0;32m----> 3\u001b[0;31m \u001b[0mBenchMark\u001b[0m \u001b[0;34m=\u001b[0m \u001b[0mCosmologicalTools\u001b[0m\u001b[0;34m(\u001b[0m\u001b[0mOmegaM0_planck\u001b[0m\u001b[0;34m,\u001b[0m \u001b[0mOmegaR0_planck\u001b[0m\u001b[0;34m,\u001b[0m \u001b[0mOmegaL0_planck\u001b[0m\u001b[0;34m,\u001b[0m \u001b[0mh_planck\u001b[0m\u001b[0;34m)\u001b[0m\u001b[0;34m\u001b[0m\u001b[0;34m\u001b[0m\u001b[0m\n\u001b[0m",
        "\u001b[0;31mNameError\u001b[0m: name 'OmegaM0_planck' is not defined"
       ]
      }
     ],
     "persistentId": "eb1161b1-feba-43be-abba-03765fd0186b",
     "text": "# Define here an instance of the Class Cosmological Tools that follows the Benchmark Cosmology\n\nBenchMark = CosmologicalTools(OmegaM0_planck, OmegaR0_planck, OmegaL0_planck, h_planck)\n"
    },
    "executionTime": "2020-05-12T08:32:25.066Z"
   },
   {
    "cell": {
     "executionCount": 7,
     "executionEventId": "1ff4ec10-2b40-4f50-8eec-44b8f04bc2fc",
     "hasError": false,
     "id": "e8b010c2-894c-4b80-85a8-b6be41ddde59",
     "outputs": [],
     "persistentId": "2bd36990-a140-4b0f-bf5a-2947c613cde5",
     "text": "# Define the benchmark cosmology at z =0\n# Planck 2016 results. XIII. Cosmological parameters   \n# Planck Collaboration+2016 A&A 594 13  Table 4, column 2 \n\nOmegaM0_planck = 0.308   # Matter Density Parameter\nOmegaR0_planck = 8.24e-5  # Radiation Density Parameter\nOmegaL0_planck = 0.692  # Dark Energy Density Parameter\nh_planck = 0.6781   # Hubble Constant  100 h km/s/Mpc\n        "
    },
    "executionTime": "2020-05-12T08:32:31.527Z"
   },
   {
    "cell": {
     "executionCount": 8,
     "executionEventId": "c913da97-45aa-481e-b1ad-2c1f98db0edb",
     "hasError": false,
     "id": "9a7df408-69e2-403b-87aa-5e4b7d5cde94",
     "outputs": [],
     "persistentId": "93272292-43d6-44bb-840b-a0f3db5f79dc",
     "text": "class CosmologicalTools:\n    # Define a class that provides functions to compute various cosmological quantities\n    # for a given cosmology  \n        \n    def __init__(self, OmegaM0, OmegaR0, OmegaL0, h):\n        # initialize the instance of the class - for any given Cosmology\n        # Input:    Omega M matter density parameter at z=0\n        #           Omega R radiation density parameter at z=0\n        #           Omega L  dark energy density parameter at z=0\n        #           h  normalization for the hubble parameter at z=0\n        \n        # initialize the cosmology at z=0\n        self.OmegaM0 = OmegaM0    ### Matter Density Parameter\n        self.OmegaR0 = OmegaR0    ### Radiation Density Parameter\n        self.OmegaL0 = OmegaL0    ### Dark Energy Density Parameter\n        self.OmegaK0 = 1 - (OmegaM0 + OmegaR0 + OmegaL0)    #### Curvature Density Parameter\n    \n        self.h = h   # Normalization of Hubble Parameter   \n        self.Ho = h*100*u.km/u.s/u.Mpc #  Hubble Constant at z=0  100 h km/s/Mpc\n    \n    \n    # Question 1 A)\n    def HubbleParameter(self, z):\n        # Function that defines the Hubble Parameter as a function of redshift\n        # Input:   Redshift z \n        # Returns: The Hubble parameter at the given redshift in units of km/s/Mpc        \n        \n        # FILL THIS IN \n        M = self.OmegaM0*(1+z)**3\n        R = self.OmegaR0*(1+z)**4\n        L = self.OmegaL0\n        K = self.OmegaK0*(1+z)**2\n        \n        return  self.Ho*np.sqrt(M+R+L+K)\n    \n    \n    \n    # Question 2 A)\n    def OmegaM_Z(self,z):\n        # Function that defines the matter density parameter as a function of redshift\n        # Input:  Redshift z . Can be an array\n        # Output:  Matter Density Parameter at the given redshift.\n        \n        # FILL THIS IN\n        return self.OmegaM0*(1+z)**3*self.Ho**2/self.HubbleParameter(z)**2\n    \n    def OmegaR_Z(self,z):\n        # Function that defines the radiation density parameter as a function of redshift\n        # Input:  Redshift z . Can be an array\n        # Output:  Radiation Density Parameter at the given redshift.\n        \n        # FILL THIS IN\n        return self.OmegaR0*(1+z)**4*self.Ho**2/self.HubbleParameter(z)**2\n    \n    \n    def OmegaL_Z(self,z):\n        # Function that defines the dark energy density parameter as a function of redshift\n        # Input:  Redshift z . Can be an array\n        # Output:  Dark Energy Density Parameter at the given redshift.\n        \n        # FILL THIS IN\n        return self.OmegaL0*self.Ho**2/self.HubbleParameter(z)**2\n    \n    \n \n    \n    # Question 1 A) \n    \n    def LookBackTime(self, ze):\n    # Function that computes the look back time at a given redshift\n    # i.e. the difference in time from when a photon was emitted to when it is observed at present day.\n    # Input:    Redshift emitted (ze). This cannot be an array. \n    # Output:   Time in units of Gyr Ago  (relative to present day). This is not an arrat    \n    \n        # Observed redshift  \n        zo = 0\n    \n        # define an array with redshifts, spaced in intervals of 0.001 from zo to ze\n        zrange = np.arange(zo, ze, 1e-3)\n        \n        # y = (1/H(zrange)).to(GYR)  /  (1+zrange)\n        # But need to correct units of 1/H to be Gyr rather than seconds  \n        # use the astropy.units functionality .to(units)\n        # FILL THIS IN \n        y = (1.0/self.HubbleParameter(zrange)).to(u.Gyr)/(1+zrange)  \n        \n        # Integrate y numerically over zrange and return in units of Gyr\n        # FILL THIS IN \n        return simps(y,zrange)*u.Gyr\n    \n    \n    # Question 2 A) \n    \n    def ComovingDistance(self, ze):\n    # Function that returns the Comoving Radial Distance to an object at a given redshift\n    # Distance to a galaxy that is moving with the Hubble Flow (expanding universe) at a given redshift\n    # Input:    Redshift observed (zo) \n    #           Redshift emitted (ze)\n    # Output:   DC in Mpc\n\n        zo = 0\n    \n        # define an array with redshifts, spaced  in intervals of 0.001\n        # Note that if you want redshifts smaller than 0.001 you'll need to refine this\n        zrange = np.arange(zo,ze, 1e-3)\n    \n        # 1/H(zrange)*speed of light\n        # Speed of light is loaded in modules from astropy, but in units of m/s --> need in km/s\n        # FILL THIS IN\n        y = c.to(u.km/u.s)*(1.0/self.HubbleParameter(zrange))\n    \n        # Integrate y numerically over zrange and return in units of Mpc\n        # FILL THIS IN \n        return simps(y,zrange)*u.Mpc\n    \n    \n    # Question 2 D) \n    \n    def ProperDistance(self, zo, ze):\n    # Function that returns the Proper Distance \n    # of an comoving distance measured today, at a given redshift (the distance measured by a ruler)\n    # Input:    Redshift observed (zo) \n    #           Redshift of object (ze)\n    # Output:   Proper Distance in Mpc\n    \n        # Comoving Distance (to emitted photon) [ independent of time] x the scale factor \n        # at the time of observation.\n        return self.ComovingDistance(ze)/(1+zo)\n\n \n    # Question 3 A)\n    \n    def LuminosityDistance(self, ze): \n    # Function that computes DL, the luminosity distance of a galaxy at a given redshift\n    # Input:    Redshift emitted (ze) \n    # Output:   DL  in Mpc\n        # this is an observable so\n        zo = 0\n        # Return  DL = DC*(1+z)\n        return self.ComovingDistance(ze)*(1+ze)\n    \n\n    # Question 4 A)\n    \n    def AngularDiameterDistance(self, ze): \n    # Function that computes DA, the angular diameter distance at a given redshift\n    # This is the proper distance between us and the source, at the time the photons were emitted.\n    # Physical size of angular separation of 1 degree\n    # Input:   Redshift emitted (ze)\n    # Output:   DA  in Mpc\n    \n        \n        # this is an observable so\n        zo = 0\n        \n        # # FILL THIS IN\n        # DA = DC/(1+z_emitted) = DL/(1+z)**2\n        return self.ComovingDistance(ze)/(1+ze)     \n    \n    \n    # Question 4 B) \n    \n    def Separation(self, ze, angle):\n    # Function to compute the physical distance corresponding to an angular separation at a given redshift\n    # Input:    Redshift emmitted ze ,  \n    #           angle: Angle between galaxies in arcsec\n    # Output:  Distance in kpc\n    \n        # convert angle from arcsec to radians\n        #    FILL THIS IN\n        angleRad = (angle*u.arcsec).to(u.rad)\n    \n         # FILL THIS IN\n        #   DA*angleRad\n        return (self.AngularDiameterDistance(ze)*angleRad/u.rad).to(u.kpc)\n    \n    \n\n    ################\n    ## Lab 14  Starts here\n    ################\n    \n    # Q1\n    def Temperature(self, z):\n        # function that returns the temperature of the universe as a function of redshift\n        #Input: Redshift of interest\n        # Returns: Temperature in K\n        To = 2.73\n        \n        # Fill this in \n        # To(1+z)\n        return To*(1+z)\n    \n    \n    \n    \n    # Q2 \n    # \n    ## Fill this in \n    def HorizonDistance(self, zo):\n        # Compute the proper distance to the horizon at a given redshift\n        # DC(zo,ze)/(1+zo)\n        # input: Redshift of the observer\n        # Returns the proper distance (Mpc)\n        \n        # define an array with redshifts, spaced  in intervals of 0.001\n        # Note that if you want redshifts smaller than 0.001 you'll need to refine this\n        zrange = np.arange(zo, 5000, 1e-3)\n    \n        # 1/H(zrange)*speed of light\n        # Speed of light is loaded in modules from astropy, but in units of m/s --> need in km/s\n        # FILL THIS IN\n        \n    \n        # Integrate y numerically over zrange and return in units of Mpc\n        # FILL THIS IN \n      \n        \n        # Proper distance Comoving/(1+z)\n        return \n\n    \n    # Q3 \n    ## Fill this in \n    def SoundHorizon(self,zdecouple):\n        # The Maximal distance that sound can travel since the beginning of the universe to the time of \n        # decoupling\n        # DC(zdecouple, zinfty)*speed of sound\n        # Input:  Redshift of decoupling\n        # Returns: Distance of Sound Horizon in Mpc\n        \n        # HorizonDistance/(1+z)\n        return \n    "
    },
    "executionTime": "2020-05-12T08:32:32.240Z"
   },
   {
    "cell": {
     "executionCount": 9,
     "executionEventId": "f515aece-40a6-4709-83a9-a6aeff5777e9",
     "hasError": false,
     "id": "e1c794c2-39a4-4607-b51e-f0c2267a230c",
     "outputs": [],
     "persistentId": "eb1161b1-feba-43be-abba-03765fd0186b",
     "text": "# Define here an instance of the Class Cosmological Tools that follows the Benchmark Cosmology\n\nBenchMark = CosmologicalTools(OmegaM0_planck, OmegaR0_planck, OmegaL0_planck, h_planck)\n"
    },
    "executionTime": "2020-05-12T08:32:32.884Z"
   },
   {
    "cell": {
     "executionCount": 10,
     "executionEventId": "d385e61f-6137-4c08-81f3-47be26a8b6c9",
     "hasError": false,
     "id": "530a9a9c-2f15-4127-b221-bc5e8bf97f88",
     "outputs": [],
     "persistentId": "900e494c-9780-488e-b4de-19de8d2a5291",
     "text": "# E = 3kBT\n\nT = 13.6*u.electronvolt/3/k_B_ev"
    },
    "executionTime": "2020-05-12T08:34:12.186Z"
   },
   {
    "cell": {
     "executionCount": 11,
     "executionEventId": "2b626eb2-fa0b-44f3-8ab7-0684f7375571",
     "hasError": false,
     "id": "530a9a9c-2f15-4127-b221-bc5e8bf97f88",
     "outputs": [
      {
       "data": {
        "text/latex": "$52607.149 \\; \\mathrm{K}$",
        "text/plain": "<Quantity 52607.14881769 K>"
       },
       "execution_count": 11,
       "metadata": {},
       "output_type": "execute_result"
      }
     ],
     "persistentId": "900e494c-9780-488e-b4de-19de8d2a5291",
     "text": "# E = 3kBT\n\nT = 13.6*u.electronvolt/3/k_B_ev\nT"
    },
    "executionTime": "2020-05-12T08:34:27.304Z"
   },
   {
    "cell": {
     "executionCount": 12,
     "executionEventId": "b797f2d2-5586-4371-a7b7-15d6d110c8ad",
     "hasError": false,
     "id": "15cdc652-bfd2-459f-8c49-3f66624a05b5",
     "outputs": [],
     "persistentId": "40715b6b-f81d-4d59-b012-90965dfab7f7",
     "text": "# redshift of Photon Decoupling\nzDecoupling = 1100"
    },
    "executionTime": "2020-05-12T08:35:06.706Z"
   },
   {
    "cell": {
     "executionCount": 13,
     "executionEventId": "bf6e4f9e-41fc-475b-a8c4-e3ba7a3deb6a",
     "hasError": false,
     "id": "24a09f01-538d-4ec2-95bc-4ad53e1bbb04",
     "outputs": [
      {
       "data": {
        "text/plain": "3005.73"
       },
       "execution_count": 13,
       "metadata": {},
       "output_type": "execute_result"
      }
     ],
     "persistentId": "57f5bd1e-1540-461a-b01e-976f91dc5635",
     "text": "# Temperature at z = 1100\nBenchMark.Temperature(zDecoupling)"
    },
    "executionTime": "2020-05-12T08:35:38.312Z"
   },
   {
    "cell": {
     "executionCount": 14,
     "executionEventId": "faae8ada-7d82-46b9-b9e7-c5c1f26c1bf1",
     "hasError": false,
     "id": "db21554d-d3fe-4a62-9380-52a32ebf44a4",
     "outputs": [
      {
       "data": {
        "image/png": "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\n",
        "text/plain": "<Figure size 720x720 with 1 Axes>"
       },
       "metadata": {
        "needs_background": "light"
       },
       "output_type": "display_data"
      }
     ],
     "persistentId": "da1b79bd-1978-4d8a-9831-3be985ff7092",
     "text": "# Plot the Temperature Evolution as a Function of Redshift\n###############################################################################\n\nzmax = 2000\nzmin = 0.001\nzrange = np.arange(zmin, zmax, 0.5) \n\n\nfig = plt.figure(figsize=(10,10))\nax = plt.subplot(111)\n\n\n# Temperature \n# FILL THIS IN\nplt.semilogy(zrange +1, BenchMark.Temperature(zrange) , linewidth=5, label='BenchMark')\n\n\n# Add axis labels\nplt.xlabel('1+z', fontsize=22)\nplt.ylabel('Temperature (K)', fontsize=22)\n\n\n#adjust tick label font size\nlabel_size = 22\nmatplotlib.rcParams['xtick.labelsize'] = label_size \nmatplotlib.rcParams['ytick.labelsize'] = label_size\n\nlegend = ax.legend(loc='upper left',fontsize=20)\n\n# Save to a file\nax.set_rasterized(True)\nplt.savefig('Temperature.png', rasterized=True, dpi=350)"
    },
    "executionTime": "2020-05-12T08:36:49.426Z"
   },
   {
    "cell": {
     "executionCount": 15,
     "executionEventId": "f417f739-1e4c-418c-92fa-05edf13cc08e",
     "hasError": false,
     "id": "db21554d-d3fe-4a62-9380-52a32ebf44a4",
     "outputs": [
      {
       "data": {
        "image/png": "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\n",
        "text/plain": "<Figure size 720x720 with 1 Axes>"
       },
       "metadata": {
        "needs_background": "light"
       },
       "output_type": "display_data"
      }
     ],
     "persistentId": "da1b79bd-1978-4d8a-9831-3be985ff7092",
     "text": "# Plot the Temperature Evolution as a Function of Redshift\n###############################################################################\n\nzmax = 21000\nzmin = 0.001\nzrange = np.arange(zmin, zmax, 0.5) \n\n\nfig = plt.figure(figsize=(10,10))\nax = plt.subplot(111)\n\n\n# Temperature \n# FILL THIS IN\nplt.semilogy(zrange +1, BenchMark.Temperature(zrange) , linewidth=5, label='BenchMark')\n\n\n# Add axis labels\nplt.xlabel('1+z', fontsize=22)\nplt.ylabel('Temperature (K)', fontsize=22)\n\n\n#adjust tick label font size\nlabel_size = 22\nmatplotlib.rcParams['xtick.labelsize'] = label_size \nmatplotlib.rcParams['ytick.labelsize'] = label_size\n\nlegend = ax.legend(loc='upper left',fontsize=20)\n\n# Save to a file\nax.set_rasterized(True)\nplt.savefig('Temperature.png', rasterized=True, dpi=350)"
    },
    "executionTime": "2020-05-12T08:37:26.662Z"
   },
   {
    "cell": {
     "executionCount": 16,
     "executionEventId": "d2f8bff6-e1df-48ab-bae5-5a016a541935",
     "hasError": false,
     "id": "9a7df408-69e2-403b-87aa-5e4b7d5cde94",
     "outputs": [],
     "persistentId": "93272292-43d6-44bb-840b-a0f3db5f79dc",
     "text": "class CosmologicalTools:\n    # Define a class that provides functions to compute various cosmological quantities\n    # for a given cosmology  \n        \n    def __init__(self, OmegaM0, OmegaR0, OmegaL0, h):\n        # initialize the instance of the class - for any given Cosmology\n        # Input:    Omega M matter density parameter at z=0\n        #           Omega R radiation density parameter at z=0\n        #           Omega L  dark energy density parameter at z=0\n        #           h  normalization for the hubble parameter at z=0\n        \n        # initialize the cosmology at z=0\n        self.OmegaM0 = OmegaM0    ### Matter Density Parameter\n        self.OmegaR0 = OmegaR0    ### Radiation Density Parameter\n        self.OmegaL0 = OmegaL0    ### Dark Energy Density Parameter\n        self.OmegaK0 = 1 - (OmegaM0 + OmegaR0 + OmegaL0)    #### Curvature Density Parameter\n    \n        self.h = h   # Normalization of Hubble Parameter   \n        self.Ho = h*100*u.km/u.s/u.Mpc #  Hubble Constant at z=0  100 h km/s/Mpc\n    \n    \n    # Question 1 A)\n    def HubbleParameter(self, z):\n        # Function that defines the Hubble Parameter as a function of redshift\n        # Input:   Redshift z \n        # Returns: The Hubble parameter at the given redshift in units of km/s/Mpc        \n        \n        # FILL THIS IN \n        M = self.OmegaM0*(1+z)**3\n        R = self.OmegaR0*(1+z)**4\n        L = self.OmegaL0\n        K = self.OmegaK0*(1+z)**2\n        \n        return  self.Ho*np.sqrt(M+R+L+K)\n    \n    \n    \n    # Question 2 A)\n    def OmegaM_Z(self,z):\n        # Function that defines the matter density parameter as a function of redshift\n        # Input:  Redshift z . Can be an array\n        # Output:  Matter Density Parameter at the given redshift.\n        \n        # FILL THIS IN\n        return self.OmegaM0*(1+z)**3*self.Ho**2/self.HubbleParameter(z)**2\n    \n    def OmegaR_Z(self,z):\n        # Function that defines the radiation density parameter as a function of redshift\n        # Input:  Redshift z . Can be an array\n        # Output:  Radiation Density Parameter at the given redshift.\n        \n        # FILL THIS IN\n        return self.OmegaR0*(1+z)**4*self.Ho**2/self.HubbleParameter(z)**2\n    \n    \n    def OmegaL_Z(self,z):\n        # Function that defines the dark energy density parameter as a function of redshift\n        # Input:  Redshift z . Can be an array\n        # Output:  Dark Energy Density Parameter at the given redshift.\n        \n        # FILL THIS IN\n        return self.OmegaL0*self.Ho**2/self.HubbleParameter(z)**2\n    \n    \n \n    \n    # Question 1 A) \n    \n    def LookBackTime(self, ze):\n    # Function that computes the look back time at a given redshift\n    # i.e. the difference in time from when a photon was emitted to when it is observed at present day.\n    # Input:    Redshift emitted (ze). This cannot be an array. \n    # Output:   Time in units of Gyr Ago  (relative to present day). This is not an arrat    \n    \n        # Observed redshift  \n        zo = 0\n    \n        # define an array with redshifts, spaced in intervals of 0.001 from zo to ze\n        zrange = np.arange(zo, ze, 1e-3)\n        \n        # y = (1/H(zrange)).to(GYR)  /  (1+zrange)\n        # But need to correct units of 1/H to be Gyr rather than seconds  \n        # use the astropy.units functionality .to(units)\n        # FILL THIS IN \n        y = (1.0/self.HubbleParameter(zrange)).to(u.Gyr)/(1+zrange)  \n        \n        # Integrate y numerically over zrange and return in units of Gyr\n        # FILL THIS IN \n        return simps(y,zrange)*u.Gyr\n    \n    \n    # Question 2 A) \n    \n    def ComovingDistance(self, ze):\n    # Function that returns the Comoving Radial Distance to an object at a given redshift\n    # Distance to a galaxy that is moving with the Hubble Flow (expanding universe) at a given redshift\n    # Input:    Redshift observed (zo) \n    #           Redshift emitted (ze)\n    # Output:   DC in Mpc\n\n        zo = 0\n    \n        # define an array with redshifts, spaced  in intervals of 0.001\n        # Note that if you want redshifts smaller than 0.001 you'll need to refine this\n        zrange = np.arange(zo,ze, 1e-3)\n    \n        # 1/H(zrange)*speed of light\n        # Speed of light is loaded in modules from astropy, but in units of m/s --> need in km/s\n        # FILL THIS IN\n        y = c.to(u.km/u.s)*(1.0/self.HubbleParameter(zrange))\n    \n        # Integrate y numerically over zrange and return in units of Mpc\n        # FILL THIS IN \n        return simps(y,zrange)*u.Mpc\n    \n    \n    # Question 2 D) \n    \n    def ProperDistance(self, zo, ze):\n    # Function that returns the Proper Distance \n    # of an comoving distance measured today, at a given redshift (the distance measured by a ruler)\n    # Input:    Redshift observed (zo) \n    #           Redshift of object (ze)\n    # Output:   Proper Distance in Mpc\n    \n        # Comoving Distance (to emitted photon) [ independent of time] x the scale factor \n        # at the time of observation.\n        return self.ComovingDistance(ze)/(1+zo)\n\n \n    # Question 3 A)\n    \n    def LuminosityDistance(self, ze): \n    # Function that computes DL, the luminosity distance of a galaxy at a given redshift\n    # Input:    Redshift emitted (ze) \n    # Output:   DL  in Mpc\n        # this is an observable so\n        zo = 0\n        # Return  DL = DC*(1+z)\n        return self.ComovingDistance(ze)*(1+ze)\n    \n\n    # Question 4 A)\n    \n    def AngularDiameterDistance(self, ze): \n    # Function that computes DA, the angular diameter distance at a given redshift\n    # This is the proper distance between us and the source, at the time the photons were emitted.\n    # Physical size of angular separation of 1 degree\n    # Input:   Redshift emitted (ze)\n    # Output:   DA  in Mpc\n    \n        \n        # this is an observable so\n        zo = 0\n        \n        # # FILL THIS IN\n        # DA = DC/(1+z_emitted) = DL/(1+z)**2\n        return self.ComovingDistance(ze)/(1+ze)     \n    \n    \n    # Question 4 B) \n    \n    def Separation(self, ze, angle):\n    # Function to compute the physical distance corresponding to an angular separation at a given redshift\n    # Input:    Redshift emmitted ze ,  \n    #           angle: Angle between galaxies in arcsec\n    # Output:  Distance in kpc\n    \n        # convert angle from arcsec to radians\n        #    FILL THIS IN\n        angleRad = (angle*u.arcsec).to(u.rad)\n    \n         # FILL THIS IN\n        #   DA*angleRad\n        return (self.AngularDiameterDistance(ze)*angleRad/u.rad).to(u.kpc)\n    \n    \n\n    ################\n    ## Lab 14  Starts here\n    ################\n    \n    # Q1\n    def Temperature(self, z):\n        # function that returns the temperature of the universe as a function of redshift\n        #Input: Redshift of interest\n        # Returns: Temperature in K\n        To = 2.73\n        \n        # Fill this in \n        # To(1+z)\n        return To*(1+z)\n    \n    \n    \n    \n    # Q2 \n    # \n    ## Fill this in \n    def HorizonDistance(self, zo):\n        # Compute the proper distance to the horizon at a given redshift\n        # DC(zo,ze)/(1+zo)\n        # input: Redshift of the observer\n        # Returns the proper distance (Mpc)\n        \n        # define an array with redshifts, spaced  in intervals of 0.001\n        # Note that if you want redshifts smaller than 0.001 you'll need to refine this\n        zrange = np.arange(zo, 5000, 1e-3)\n    \n        # 1/H(zrange)*speed of light\n        # Speed of light is loaded in modules from astropy, but in units of m/s --> need in km/s\n        # FILL THIS IN\n        y = c.to(u.km/u.s)*(1.0/self.HubbleParameter(zrange))\n    \n        # Integrate y numerically over zrange and return in units of Mpc\n        # FILL THIS IN \n        Comoving = simps(y,zrange)*u.Mpc\n      \n        \n        # Proper distance Comoving/(1+z)\n        return Comoving/(1+zo)\n\n    \n    # Q3 \n    ## Fill this in \n    def SoundHorizon(self,zdecouple):\n        # The Maximal distance that sound can travel since the beginning of the universe to the time of \n        # decoupling\n        # DC(zdecouple, zinfty)*speed of sound\n        # Input:  Redshift of decoupling\n        # Returns: Distance of Sound Horizon in Mpc\n        \n        # HorizonDistance/(1+z)\n        return \n    "
    },
    "executionTime": "2020-05-12T08:44:37.292Z"
   },
   {
    "cell": {
     "executionCount": 17,
     "executionEventId": "b649700a-4a95-404b-a6a0-efbfb041858c",
     "hasError": false,
     "id": "e1c794c2-39a4-4607-b51e-f0c2267a230c",
     "outputs": [],
     "persistentId": "eb1161b1-feba-43be-abba-03765fd0186b",
     "text": "# Define here an instance of the Class Cosmological Tools that follows the Benchmark Cosmology\n\nBenchMark = CosmologicalTools(OmegaM0_planck, OmegaR0_planck, OmegaL0_planck, h_planck)\n"
    },
    "executionTime": "2020-05-12T08:44:39.646Z"
   },
   {
    "cell": {
     "executionCount": 18,
     "executionEventId": "44a2e4a0-c614-41db-a6c4-88abf0111d8c",
     "hasError": false,
     "id": "a89f0316-0ed5-44e2-a4f7-0459223350ca",
     "outputs": [],
     "persistentId": "10036857-0a59-42b8-a6e4-46b4bf6a9df1",
     "text": "# Horizon distance at that scale in the benchmark cosmology\n\n# ProperDistance(zobs, zemitted), where we are an observed at zDecoupling\nHorizon = BenchMark.HorizonDistance(zDecoupling)"
    },
    "executionTime": "2020-05-12T08:45:19.426Z"
   },
   {
    "cell": {
     "executionCount": 19,
     "executionEventId": "11d18adb-5875-44e7-85e4-e622c0d78df4",
     "hasError": false,
     "id": "a89f0316-0ed5-44e2-a4f7-0459223350ca",
     "outputs": [
      {
       "data": {
        "text/latex": "$0.18332163 \\; \\mathrm{Mpc}$",
        "text/plain": "<Quantity 0.18332163 Mpc>"
       },
       "execution_count": 19,
       "metadata": {},
       "output_type": "execute_result"
      }
     ],
     "persistentId": "10036857-0a59-42b8-a6e4-46b4bf6a9df1",
     "text": "# Horizon distance at that scale in the benchmark cosmology\n\n# ProperDistance(zobs, zemitted), where we are an observed at zDecoupling\nHorizon = BenchMark.HorizonDistance(zDecoupling)\nHorizon"
    },
    "executionTime": "2020-05-12T08:45:25.397Z"
   },
   {
    "cell": {
     "executionCount": 20,
     "executionEventId": "b2381c4e-d118-43e0-940a-02c73b371235",
     "hasError": false,
     "id": "f9eec308-960f-421d-bed4-f664cb4f35ae",
     "outputs": [
      {
       "data": {
        "text/latex": "$12.637146 \\; \\mathrm{Mpc}$",
        "text/plain": "<Quantity 12.6371462 Mpc>"
       },
       "execution_count": 20,
       "metadata": {},
       "output_type": "execute_result"
      }
     ],
     "persistentId": "5c1e7c6c-0e2d-4035-bc48-1973777d5dd9",
     "text": "# Angular Diameter distance to  z = 1100 \nAngDiam_Zdecouple = BenchMark.AngularDiameterDistance(zDecoupling)\nAngDiam_Zdecouple"
    },
    "executionTime": "2020-05-12T08:46:56.883Z"
   },
   {
    "cell": {
     "executionCount": 21,
     "executionEventId": "44d4ea39-b75e-4c92-8a22-0dfc8baf1974",
     "hasError": false,
     "id": "da2b545d-33ea-4114-930c-6706c0f5a69a",
     "outputs": [
      {
       "data": {
        "text/latex": "$1.6623303 \\; \\mathrm{}$",
        "text/plain": "<Quantity 1.66233031>"
       },
       "execution_count": 21,
       "metadata": {},
       "output_type": "execute_result"
      }
     ],
     "persistentId": "0e7a81b4-a3eb-4f8f-ad2e-2fbc0dc1099f",
     "text": "# Angular Scale of the Causally Connected region:  Angle the horizon would subtend on the sky. \n# Theta = Size / Distance = Horizon*2 / Angular Diameter Distance  \n\nTheta = 2*Horizon/AngDiam_Zdecouple*u.radian.to(u.degree)\nTheta"
    },
    "executionTime": "2020-05-12T08:47:51.760Z"
   },
   {
    "cell": {
     "executionCount": 22,
     "executionEventId": "b3101232-2b3a-4f32-bbca-e4283f4c0789",
     "hasError": false,
     "id": "9a7df408-69e2-403b-87aa-5e4b7d5cde94",
     "outputs": [],
     "persistentId": "93272292-43d6-44bb-840b-a0f3db5f79dc",
     "text": "class CosmologicalTools:\n    # Define a class that provides functions to compute various cosmological quantities\n    # for a given cosmology  \n        \n    def __init__(self, OmegaM0, OmegaR0, OmegaL0, h):\n        # initialize the instance of the class - for any given Cosmology\n        # Input:    Omega M matter density parameter at z=0\n        #           Omega R radiation density parameter at z=0\n        #           Omega L  dark energy density parameter at z=0\n        #           h  normalization for the hubble parameter at z=0\n        \n        # initialize the cosmology at z=0\n        self.OmegaM0 = OmegaM0    ### Matter Density Parameter\n        self.OmegaR0 = OmegaR0    ### Radiation Density Parameter\n        self.OmegaL0 = OmegaL0    ### Dark Energy Density Parameter\n        self.OmegaK0 = 1 - (OmegaM0 + OmegaR0 + OmegaL0)    #### Curvature Density Parameter\n    \n        self.h = h   # Normalization of Hubble Parameter   \n        self.Ho = h*100*u.km/u.s/u.Mpc #  Hubble Constant at z=0  100 h km/s/Mpc\n    \n    \n    # Question 1 A)\n    def HubbleParameter(self, z):\n        # Function that defines the Hubble Parameter as a function of redshift\n        # Input:   Redshift z \n        # Returns: The Hubble parameter at the given redshift in units of km/s/Mpc        \n        \n        # FILL THIS IN \n        M = self.OmegaM0*(1+z)**3\n        R = self.OmegaR0*(1+z)**4\n        L = self.OmegaL0\n        K = self.OmegaK0*(1+z)**2\n        \n        return  self.Ho*np.sqrt(M+R+L+K)\n    \n    \n    \n    # Question 2 A)\n    def OmegaM_Z(self,z):\n        # Function that defines the matter density parameter as a function of redshift\n        # Input:  Redshift z . Can be an array\n        # Output:  Matter Density Parameter at the given redshift.\n        \n        # FILL THIS IN\n        return self.OmegaM0*(1+z)**3*self.Ho**2/self.HubbleParameter(z)**2\n    \n    def OmegaR_Z(self,z):\n        # Function that defines the radiation density parameter as a function of redshift\n        # Input:  Redshift z . Can be an array\n        # Output:  Radiation Density Parameter at the given redshift.\n        \n        # FILL THIS IN\n        return self.OmegaR0*(1+z)**4*self.Ho**2/self.HubbleParameter(z)**2\n    \n    \n    def OmegaL_Z(self,z):\n        # Function that defines the dark energy density parameter as a function of redshift\n        # Input:  Redshift z . Can be an array\n        # Output:  Dark Energy Density Parameter at the given redshift.\n        \n        # FILL THIS IN\n        return self.OmegaL0*self.Ho**2/self.HubbleParameter(z)**2\n    \n    \n \n    \n    # Question 1 A) \n    \n    def LookBackTime(self, ze):\n    # Function that computes the look back time at a given redshift\n    # i.e. the difference in time from when a photon was emitted to when it is observed at present day.\n    # Input:    Redshift emitted (ze). This cannot be an array. \n    # Output:   Time in units of Gyr Ago  (relative to present day). This is not an arrat    \n    \n        # Observed redshift  \n        zo = 0\n    \n        # define an array with redshifts, spaced in intervals of 0.001 from zo to ze\n        zrange = np.arange(zo, ze, 1e-3)\n        \n        # y = (1/H(zrange)).to(GYR)  /  (1+zrange)\n        # But need to correct units of 1/H to be Gyr rather than seconds  \n        # use the astropy.units functionality .to(units)\n        # FILL THIS IN \n        y = (1.0/self.HubbleParameter(zrange)).to(u.Gyr)/(1+zrange)  \n        \n        # Integrate y numerically over zrange and return in units of Gyr\n        # FILL THIS IN \n        return simps(y,zrange)*u.Gyr\n    \n    \n    # Question 2 A) \n    \n    def ComovingDistance(self, ze):\n    # Function that returns the Comoving Radial Distance to an object at a given redshift\n    # Distance to a galaxy that is moving with the Hubble Flow (expanding universe) at a given redshift\n    # Input:    Redshift observed (zo) \n    #           Redshift emitted (ze)\n    # Output:   DC in Mpc\n\n        zo = 0\n    \n        # define an array with redshifts, spaced  in intervals of 0.001\n        # Note that if you want redshifts smaller than 0.001 you'll need to refine this\n        zrange = np.arange(zo,ze, 1e-3)\n    \n        # 1/H(zrange)*speed of light\n        # Speed of light is loaded in modules from astropy, but in units of m/s --> need in km/s\n        # FILL THIS IN\n        y = c.to(u.km/u.s)*(1.0/self.HubbleParameter(zrange))\n    \n        # Integrate y numerically over zrange and return in units of Mpc\n        # FILL THIS IN \n        return simps(y,zrange)*u.Mpc\n    \n    \n    # Question 2 D) \n    \n    def ProperDistance(self, zo, ze):\n    # Function that returns the Proper Distance \n    # of an comoving distance measured today, at a given redshift (the distance measured by a ruler)\n    # Input:    Redshift observed (zo) \n    #           Redshift of object (ze)\n    # Output:   Proper Distance in Mpc\n    \n        # Comoving Distance (to emitted photon) [ independent of time] x the scale factor \n        # at the time of observation.\n        return self.ComovingDistance(ze)/(1+zo)\n\n \n    # Question 3 A)\n    \n    def LuminosityDistance(self, ze): \n    # Function that computes DL, the luminosity distance of a galaxy at a given redshift\n    # Input:    Redshift emitted (ze) \n    # Output:   DL  in Mpc\n        # this is an observable so\n        zo = 0\n        # Return  DL = DC*(1+z)\n        return self.ComovingDistance(ze)*(1+ze)\n    \n\n    # Question 4 A)\n    \n    def AngularDiameterDistance(self, ze): \n    # Function that computes DA, the angular diameter distance at a given redshift\n    # This is the proper distance between us and the source, at the time the photons were emitted.\n    # Physical size of angular separation of 1 degree\n    # Input:   Redshift emitted (ze)\n    # Output:   DA  in Mpc\n    \n        \n        # this is an observable so\n        zo = 0\n        \n        # # FILL THIS IN\n        # DA = DC/(1+z_emitted) = DL/(1+z)**2\n        return self.ComovingDistance(ze)/(1+ze)     \n    \n    \n    # Question 4 B) \n    \n    def Separation(self, ze, angle):\n    # Function to compute the physical distance corresponding to an angular separation at a given redshift\n    # Input:    Redshift emmitted ze ,  \n    #           angle: Angle between galaxies in arcsec\n    # Output:  Distance in kpc\n    \n        # convert angle from arcsec to radians\n        #    FILL THIS IN\n        angleRad = (angle*u.arcsec).to(u.rad)\n    \n         # FILL THIS IN\n        #   DA*angleRad\n        return (self.AngularDiameterDistance(ze)*angleRad/u.rad).to(u.kpc)\n    \n    \n\n    ################\n    ## Lab 14  Starts here\n    ################\n    \n    # Q1\n    def Temperature(self, z):\n        # function that returns the temperature of the universe as a function of redshift\n        #Input: Redshift of interest\n        # Returns: Temperature in K\n        To = 2.73\n        \n        # Fill this in \n        # To(1+z)\n        return To*(1+z)\n    \n    \n    \n    \n    # Q2 \n    # \n    ## Fill this in \n    def HorizonDistance(self, zo):\n        # Compute the proper distance to the horizon at a given redshift\n        # DC(zo,ze)/(1+zo)\n        # input: Redshift of the observer\n        # Returns the proper distance (Mpc)\n        \n        # define an array with redshifts, spaced  in intervals of 0.001\n        # Note that if you want redshifts smaller than 0.001 you'll need to refine this\n        zrange = np.arange(zo, 5000, 1e-3)\n    \n        # 1/H(zrange)*speed of light\n        # Speed of light is loaded in modules from astropy, but in units of m/s --> need in km/s\n        # FILL THIS IN\n        y = c.to(u.km/u.s)*(1.0/self.HubbleParameter(zrange))\n    \n        # Integrate y numerically over zrange and return in units of Mpc\n        # FILL THIS IN \n        Comoving = simps(y,zrange)*u.Mpc\n      \n        \n        # Proper distance Comoving/(1+z)\n        return Comoving/(1+zo)\n\n    \n    # Q3 \n    ## Fill this in \n    def SoundHorizon(self,zdecouple):\n        # The Maximal distance that sound can travel since the beginning of the universe to the time of \n        # decoupling\n        # DC(zdecouple, zinfty)*speed of sound\n        # Input:  Redshift of decoupling\n        # Returns: Distance of Sound Horizon in Mpc\n        \n        # HorizonDistance/(1+z)\n        return self.HorizonDistance(zdecouple)/np.sqrt(3)    "
    },
    "executionTime": "2020-05-12T08:49:55.588Z"
   },
   {
    "cell": {
     "executionCount": 23,
     "executionEventId": "1f637713-0c89-4bf0-b0e9-e3019b0a423d",
     "hasError": false,
     "id": "e1c794c2-39a4-4607-b51e-f0c2267a230c",
     "outputs": [],
     "persistentId": "eb1161b1-feba-43be-abba-03765fd0186b",
     "text": "# Define here an instance of the Class Cosmological Tools that follows the Benchmark Cosmology\n\nBenchMark = CosmologicalTools(OmegaM0_planck, OmegaR0_planck, OmegaL0_planck, h_planck)\n"
    },
    "executionTime": "2020-05-12T08:49:57.415Z"
   },
   {
    "cell": {
     "executionCount": 24,
     "executionEventId": "9e97eeb7-086e-444b-895d-6fa90039c54b",
     "hasError": false,
     "id": "72e876dc-970d-4ba4-8d0e-df669bf1cbaf",
     "outputs": [
      {
       "data": {
        "text/latex": "$0.10584079 \\; \\mathrm{Mpc}$",
        "text/plain": "<Quantity 0.10584079 Mpc>"
       },
       "execution_count": 24,
       "metadata": {},
       "output_type": "execute_result"
      }
     ],
     "persistentId": "c7bc9ea5-65c5-4618-a248-2f8205845d71",
     "text": "# Sound Horizon  \nSound = BenchMark.SoundHorizon(zDecoupling)\nSound"
    },
    "executionTime": "2020-05-12T08:50:21.872Z"
   },
   {
    "cell": {
     "executionCount": 25,
     "executionEventId": "46db73a3-0bc4-40ff-800c-042e3cd134c2",
     "hasError": false,
     "id": "42e8abab-91cd-4587-a100-32a95e36fd3b",
     "outputs": [],
     "persistentId": "cef037ed-a8e9-4e9a-8f76-45926ca93e52",
     "text": "# Angle subtended \n\n# Size/ Distance = 2* sound horizon / Angular Diameter Distance\nThetaSound = Sound*2/BenchMark.AngularDiameterDistance(zDecoupling)*u.radian.to(u.degree)"
    },
    "executionTime": "2020-05-12T08:52:27.651Z"
   },
   {
    "cell": {
     "executionCount": 26,
     "executionEventId": "5d6edfb9-563a-4275-b2fc-0559f43c2895",
     "hasError": false,
     "id": "0ff69bca-6a96-4a6a-aa3b-3d55f97e50c9",
     "outputs": [
      {
       "data": {
        "text/latex": "$0.95974685 \\; \\mathrm{}$",
        "text/plain": "<Quantity 0.95974685>"
       },
       "execution_count": 26,
       "metadata": {},
       "output_type": "execute_result"
      }
     ],
     "persistentId": "0cb18f46-7909-4116-b933-c1cea0d9851a",
     "text": "ThetaSound"
    },
    "executionTime": "2020-05-12T08:52:31.295Z"
   }
  ],
  "kernelspec": {
   "display_name": "Python 3",
   "language": "python",
   "name": "python3"
  },
  "language_info": {
   "codemirror_mode": {
    "name": "ipython",
    "version": 3
   },
   "file_extension": ".py",
   "mimetype": "text/x-python",
   "name": "python",
   "nbconvert_exporter": "python",
   "pygments_lexer": "ipython3",
   "version": "3.6.7"
  },
  "uuid": "301d3dbf-fdf6-49c9-a77c-9178107b8afc"
 },
 "nbformat": 4,
 "nbformat_minor": 4
}
