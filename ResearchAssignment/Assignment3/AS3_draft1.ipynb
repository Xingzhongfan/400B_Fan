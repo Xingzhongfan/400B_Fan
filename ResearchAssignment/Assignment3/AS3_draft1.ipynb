{
 "cells": [
  {
   "cell_type": "markdown",
   "metadata": {
    "persistent_id": "0eeba52b-933e-40a5-804a-de1ace32c481"
   },
   "source": [
    "## Tidal Debris from M33"
   ]
  },
  {
   "cell_type": "code",
   "execution_count": 6,
   "metadata": {
    "execution_event_id": "90b8016a-03de-4cdc-80e6-31eb6003b6c9",
    "last_executed_text": "import numpy as np\nimport astropy.units as u\nfrom astropy.constants import G\n\n# import plotting modules\nimport matplotlib.pyplot as plt\nimport matplotlib\n%matplotlib inline\n\n# my modules\nfrom ReadFile import Read\n\n# edit CenterOfMass2 to Calculate COM of all components \nfrom CenterOfMass2 import CenterOfMass\n# edit GalaxyMAss to Calculate Mass of all components \nfrom GalaxyMass import ComponentMass\n",
    "persistent_id": "0c0b76d9-3d1a-4a46-859e-e72e8cb5329a"
   },
   "outputs": [],
   "source": [
    "import numpy as np\n",
    "import astropy.units as u\n",
    "from astropy.constants import G\n",
    "\n",
    "# import plotting modules\n",
    "import matplotlib.pyplot as plt\n",
    "import matplotlib\n",
    "%matplotlib inline\n",
    "\n",
    "# my modules\n",
    "from ReadFile import Read\n",
    "\n",
    "# edit CenterOfMass2 to Calculate COM of all components \n",
    "from CenterOfMass2 import CenterOfMass\n",
    "# edit GalaxyMAss to Calculate Mass of all components \n",
    "from GalaxyMass import ComponentMass\n"
   ]
  },
  {
   "cell_type": "code",
   "execution_count": 8,
   "metadata": {
    "execution_event_id": "a41160a3-44fe-4aa2-8b83-524b7db7db81",
    "last_executed_text": "def Mass_enclose(filename,radius):\n# function to compute the mass of all particles of a given type for a given galaxy \n# output: Mass in units of Msun. \n    \n    # read in the file \n    time, total, data = Read(filename)\n    \n    # gather particles with the same type and sum up the mass\n    # we can directly round the result and adjust the units\n    mass = np.round(data[np.sqrt(data['x']**2+data['y']**2+data['z']**2) < radius]['m'].sum() * 1e10, 3)\n    \n    # return the mass \n    return mass\n",
    "persistent_id": "5064a642-f2ac-42d6-a048-5b0a9c852881"
   },
   "outputs": [],
   "source": [
    "def Mass_enclose(filename,radius):\n",
    "# function to compute the mass of all particles less than the distance between two Galaxy COM position \n",
    "# Inputs:\n",
    "#       filename: galaxyfile for input\n",
    "#       radius: COM position difference in kpc \n",
    "# output: Mass in units of Msun. \n",
    "    \n",
    "    # read in the file \n",
    "    time, total, data = Read(filename)\n",
    "    \n",
    "    # gather particles with the same type and sum up the mass\n",
    "    mass = np.round(data[np.sqrt(data['x']**2+data['y']**2+data['z']**2) < radius]['m'].sum() * 1e10, 3)\n",
    "    \n",
    "    # return the mass \n",
    "    return mass\n"
   ]
  },
  {
   "cell_type": "code",
   "execution_count": 9,
   "metadata": {
    "execution_event_id": "17b3518e-366a-4562-a411-c59b07d53b47",
    "last_executed_text": "class Snap:\n    \"\"\"This is a class for Snap with M31, MW, M33\"\"\"\n    \n    def __init__(self,Snap_number):\n        self.Snap_number = Snap_number\n        self.MWfilename = \"VLowRes/\" + 'MW' + \"_VLowRes/\" + 'MW' +  \"_{:03d}\".format(self.Snap_number) + \".txt\"\n        self.M31filename = \"VLowRes/\" + 'M31' + \"_VLowRes/\" + 'M31' +  \"_{:03d}\".format(self.Snap_number) + \".txt\"\n        self.M33filename = \"VLowRes/\" + 'M33' + \"_VLowRes/\" + 'M33' +  \"_{:03d}\".format(self.Snap_number) + \".txt\"\n        \n    def COM(self):\n        \n        MW_COM = CenterOfMass(self.MWfilename)\n        M31_COM = CenterOfMass(self.M31filename)\n        M33_COM = CenterOfMass(self.M31filename)\n        \n        MW_COM = MW_COM.COM_P(0.1,2)\n        M31_COM = M31_COM.COM_P(0.1,2)\n        M33_COM = M33_COM.COM_P(0.1,4)\n        self.COMP_MW = COMP_MW.value\n        self.COMP_M31 = COMP_M31.value\n        self.COMP_M33 = COMP_M33.value\n        \n        return self.COMP_MW, self.COMP_M31, self.COMP_M33\n    \n    \n    def COMdiff(self,galaxy1,galaxy2):\n        \n        COMdiff = np.sqrt((galaxy1[0]-galaxy2[0])**2+(galaxy1[1]-galaxy2[1])**2+(galaxy1[2]-galaxy2[2])**2)        \n        \n        return COMdiff\n    \n    def Total_Mass(self,galaxy_name):\n        \n        return ComponentMass(galaxy_name) \n    \n    def Mass_enclose(self):\n        \n        self.COMP_MW, self.COMP_M31, self.COMP_M33 = self.COM()\n        \n        self.MW_M33diff = self.COMdiff(self.COMP_MW,self.COMP_M33)\n        self.M31_M33diff = self.COMdiff(self.COMP_M31,self.COMP_M33)\n        \n        self.M31_enclose = Mass_enclose(self.M31filename, self.M31_M33diff)\n        self.MW_enclose = Mass_enclose(self.MWfilename, self.MW_M33diff)\n        \n        return self.M31_enclose, self.MW_enclose\n    \n    def Rj(self):\n        \n        self.MWmass = self.Total_Mass(self.MWfilename)\n        self.M31mass = self.Total_Mass(self.M31filename)\n        self.M33mass = self.Total_Mass(self.M33filename)\n        \n        self.COMP_MW, self.COMP_M31, self.COMP_M33 = self.COM()\n        \n        self.MW_M33diff = self.COMdiff(self.COMP_MW,self.COMP_M33)\n        self.M31_M33diff = self.COMdiff(self.COMP_M31,self.COMP_M33)\n        \n        self.M31_enclose, self.MW_enclose = self.Mass_enclose()\n        \n        self.Rj_MW_M33 = self.MW_M33diff *(self.M33mass/self.MW_enclose)**(1/3)\n        self.Rj_M31_M33 = self.M31_M33diff *(self.M33mass/self.M31_enclose)**(1/3)\n        \n        return self.Rj_M31_M33, self.Rj_MW_M33",
    "persistent_id": "c19ce159-9811-4a98-b843-6bf704c73071"
   },
   "outputs": [],
   "source": [
    "class Snap:\n",
    "    \"\"\"This is a class for each Snap with M31, MW, M33\"\"\"\n",
    "    \n",
    "    def __init__(self,Snap_number):\n",
    "        # get the snap file name of MW M31 and M33\n",
    "        # Inputs: Snapnumber\n",
    "        \n",
    "        self.Snap_number = Snap_number\n",
    "        self.MWfilename = \"VLowRes/\" + 'MW' + \"_VLowRes/\" + 'MW' +  \"_{:03d}\".format(self.Snap_number) + \".txt\"\n",
    "        self.M31filename = \"VLowRes/\" + 'M31' + \"_VLowRes/\" + 'M31' +  \"_{:03d}\".format(self.Snap_number) + \".txt\"\n",
    "        self.M33filename = \"VLowRes/\" + 'M33' + \"_VLowRes/\" + 'M33' +  \"_{:03d}\".format(self.Snap_number) + \".txt\"\n",
    "        \n",
    "    def COM(self):\n",
    "        # Calculate the COM Position of MW, M31 and M33 \n",
    "        \n",
    "        MW_COM = CenterOfMass(self.MWfilename)\n",
    "        M31_COM = CenterOfMass(self.M31filename)\n",
    "        M33_COM = CenterOfMass(self.M31filename)\n",
    "        \n",
    "        # For MW and M31 delta = 0.1 and VelDec = 2\n",
    "        # For M33 dalta = 0.1 and VelDec = 4\n",
    "        MW_COM = MW_COM.COM_P(0.1,2)\n",
    "        M31_COM = M31_COM.COM_P(0.1,2)\n",
    "        M33_COM = M33_COM.COM_P(0.1,4)\n",
    "        self.COMP_MW = COMP_MW.value\n",
    "        self.COMP_M31 = COMP_M31.value\n",
    "        self.COMP_M33 = COMP_M33.value\n",
    "        \n",
    "        return self.COMP_MW, self.COMP_M31, self.COMP_M33\n",
    "    \n",
    "    \n",
    "    def COMdiff(self,galaxy1,galaxy2):\n",
    "        # Calculate the COM Position distance of two Galaxy\n",
    "        \n",
    "        COMdiff = np.sqrt((galaxy1[0]-galaxy2[0])**2+(galaxy1[1]-galaxy2[1])**2+(galaxy1[2]-galaxy2[2])**2)        \n",
    "        \n",
    "        return COMdiff\n",
    "    \n",
    "    def Total_Mass(self,galaxy_name):\n",
    "        # Calculate total Mass of each Galaxy \n",
    "        \n",
    "        return ComponentMass(galaxy_name) \n",
    "    \n",
    "    def Mass_enclose(self):\n",
    "        # Calculate the Mass enclose less than the distance between two Galaxy COM Position\n",
    "        \n",
    "        #Calculate COM Positoon\n",
    "        self.COMP_MW, self.COMP_M31, self.COMP_M33 = self.COM()\n",
    "        \n",
    "        #Calculate MW_M33 M31_M33 COMP difference\n",
    "        self.MW_M33diff = self.COMdiff(self.COMP_MW,self.COMP_M33)\n",
    "        self.M31_M33diff = self.COMdiff(self.COMP_M31,self.COMP_M33)\n",
    "        \n",
    "        #Calculate the mass inclose\n",
    "        self.M31_enclose = Mass_enclose(self.M31filename, self.M31_M33diff)\n",
    "        self.MW_enclose = Mass_enclose(self.MWfilename, self.MW_M33diff)\n",
    "        \n",
    "        return self.M31_enclose, self.MW_enclose\n",
    "    \n",
    "    def Rj(self)\n",
    "        # Calculate the Jacobi Radius of M31-M33 and MW-M33 system\n",
    "        # Rj = r*(Msat/Mhost(<r))**(1/3)\n",
    "        # Msat is M33, Mhost is enclose mass of MW and M31\n",
    "        self.MWmass = self.Total_Mass(self.MWfilename)\n",
    "        self.M31mass = self.Total_Mass(self.M31filename)\n",
    "        self.M33mass = self.Total_Mass(self.M33filename)\n",
    "        \n",
    "        self.COMP_MW, self.COMP_M31, self.COMP_M33 = self.COM()\n",
    "        \n",
    "        self.MW_M33diff = self.COMdiff(self.COMP_MW,self.COMP_M33)\n",
    "        self.M31_M33diff = self.COMdiff(self.COMP_M31,self.COMP_M33)\n",
    "        \n",
    "        self.M31_enclose, self.MW_enclose = self.Mass_enclose()\n",
    "        \n",
    "        self.Rj_MW_M33 = self.MW_M33diff *(self.M33mass/self.MW_enclose)**(1/3)\n",
    "        self.Rj_M31_M33 = self.M31_M33diff *(self.M33mass/self.M31_enclose)**(1/3)\n",
    "        \n",
    "        return self.Rj_M31_M33, self.Rj_MW_M33\n"
   ]
  },
  {
   "cell_type": "code",
   "execution_count": 35,
   "metadata": {
    "execution_event_id": "90341f2a-c565-4141-92e9-fd9538edaa1d",
    "last_executed_text": "def Select_tides_star(M33,Rj_MW_M33,Rj_M31_M33):\n    \n    time, total, data = Read(M33)\n    MW_index = np.where(np.sqrt(data['x']**2+data['y']**2+data['z']**2) >= Rj_MW_M33)\n    M31_index = np.where(np.sqrt(data['x']**2+data['y']**2+data['z']**2) >= Rj_M31_M33)\n    total_index = M31_index\n    for i in range(len(MW_index)):\n        if MW_index[i] not in total_index:\n            total_index = np.append(total_index,MW_index[i])\n    tidal_star = data[total_index]\n    \n    return tidal_star",
    "persistent_id": "02f16121-7895-4b2d-b448-5f48407eb681"
   },
   "outputs": [],
   "source": [
    "def Select_tides_star(M33,Rj_MW_M33,Rj_M31_M33):\n",
    "    \"\"\"Select tides star of M33\"\"\"\n",
    "    # Inputs:\n",
    "    #      M33: each snap file of M33\n",
    "    #      Rj_MW_M33: Jacobi Radius of MW and M33 system\n",
    "    #      Rj_M1_M33: Jacobi Radius of M31 and M33 system\n",
    "    # Outpur:\n",
    "    #      tidal_star con\n",
    "    time, total, data = Read(M33)\n",
    "    MW_index = np.where(np.sqrt(data['x']**2+data['y']**2+data['z']**2) >= Rj_MW_M33)\n",
    "    M31_index = np.where(np.sqrt(data['x']**2+data['y']**2+data['z']**2) >= Rj_M31_M33)\n",
    "    total_index = M31_index\n",
    "    for i in range(len(MW_index)):\n",
    "        if MW_index[i] not in total_index:\n",
    "            total_index = np.append(total_index,MW_index[i])\n",
    "    tidal_star = data[total_index]\n",
    "    \n",
    "    return tidal_star"
   ]
  },
  {
   "cell_type": "code",
   "execution_count": 5,
   "metadata": {
    "execution_event_id": "e757bb10-811a-4af0-bc12-409e39399b8f",
    "last_executed_text": "filename = \"VLowRes/\" + 'MW' + \"_VLowRes/\" + 'MW' +  \"_{:03d}\".format(111) + \".txt\"\nfilename",
    "persistent_id": "9f222463-6434-4d42-aa79-917bf07aae05"
   },
   "outputs": [
    {
     "data": {
      "text/plain": [
       "'VLowRes/MW_VLowRes/MW_111.txt'"
      ]
     },
     "execution_count": 5,
     "metadata": {},
     "output_type": "execute_result"
    }
   ],
   "source": []
  },
  {
   "cell_type": "code",
   "execution_count": 30,
   "metadata": {
    "execution_event_id": "4ee8e31f-fb16-45d1-8bde-b5284800b702",
    "last_executed_text": "a = np.array([1,2,3,4,5])",
    "persistent_id": "bf3dfa73-20bb-4f1f-bcce-fcfa030a530c"
   },
   "outputs": [],
   "source": []
  },
  {
   "cell_type": "code",
   "execution_count": 31,
   "metadata": {
    "execution_event_id": "91af5032-e70f-4a37-9452-6e13d965642b",
    "last_executed_text": "b = np.array([1,2,5,7,9])",
    "persistent_id": "6ed27eaf-9a13-4f2d-a68b-6cca876c9528"
   },
   "outputs": [],
   "source": []
  },
  {
   "cell_type": "code",
   "execution_count": 32,
   "metadata": {
    "execution_event_id": "a80cbdef-fa3e-497b-bc31-88f7caf3624d",
    "last_executed_text": "for i in range(len(a)):\n    if a[i] not in b:\n        b = np.append(b,a[i])",
    "persistent_id": "13984171-c099-4a50-a464-856ad4d8d5b5"
   },
   "outputs": [],
   "source": []
  },
  {
   "cell_type": "code",
   "execution_count": 38,
   "metadata": {
    "execution_event_id": "91f83483-3581-4bcf-83ab-4e2386427c33",
    "last_executed_text": "a[-1]",
    "persistent_id": "766c28c3-28fa-4368-9b97-b2cf69b8d2c8"
   },
   "outputs": [
    {
     "data": {
      "text/plain": [
       "5"
      ]
     },
     "execution_count": 38,
     "metadata": {},
     "output_type": "execute_result"
    }
   ],
   "source": []
  },
  {
   "cell_type": "code",
   "execution_count": null,
   "metadata": {},
   "outputs": [],
   "source": []
  }
 ],
 "metadata": {
  "history": [
   {
    "cell": {
     "executionCount": 1,
     "executionEventId": "b1a7c769-d77e-4a34-8596-dfcf3bff33c9",
     "hasError": false,
     "id": "8221c510-5393-431e-a4a7-fcab6decbd10",
     "outputs": [],
     "persistentId": "0c0b76d9-3d1a-4a46-859e-e72e8cb5329a",
     "text": "import numpy as np\nimport astropy.units as u\nfrom astropy.constants import G\n\n# import plotting modules\nimport matplotlib.pyplot as plt\nimport matplotlib\n%matplotlib inline\n\n# my modules\nfrom ReadFile import Read\nfrom CenterOfMass2 import CenterOfMass\n"
    },
    "executionTime": "2020-04-09T02:08:58.337Z"
   },
   {
    "cell": {
     "executionCount": 2,
     "executionEventId": "85d83431-7fd5-46b4-a8df-f4369f6bbfeb",
     "hasError": true,
     "id": "d21a84c4-0d3b-4f32-a708-04b501baf5c1",
     "outputs": [
      {
       "ename": "ValueError",
       "evalue": "Unknown format code 'd' for object of type 'str'",
       "output_type": "error",
       "traceback": [
        "\u001b[0;31m---------------------------------------------------------------------------\u001b[0m",
        "\u001b[0;31mValueError\u001b[0m                                Traceback (most recent call last)",
        "\u001b[0;32m<ipython-input-2-bc9179693981>\u001b[0m in \u001b[0;36m<module>\u001b[0;34m\u001b[0m\n\u001b[0;32m----> 1\u001b[0;31m \u001b[0mfilename\u001b[0m \u001b[0;34m=\u001b[0m \u001b[0;34m\"VLowRes/\"\u001b[0m \u001b[0;34m+\u001b[0m \u001b[0;34m'MW'\u001b[0m \u001b[0;34m+\u001b[0m \u001b[0;34m\"_VLowRes/\"\u001b[0m \u001b[0;34m+\u001b[0m \u001b[0;34m'MW'\u001b[0m \u001b[0;34m+\u001b[0m  \u001b[0;34m\"_{:03d}\"\u001b[0m\u001b[0;34m.\u001b[0m\u001b[0mformat\u001b[0m\u001b[0;34m(\u001b[0m\u001b[0;34m'000'\u001b[0m\u001b[0;34m)\u001b[0m \u001b[0;34m+\u001b[0m \u001b[0;34m\".txt\"\u001b[0m\u001b[0;34m\u001b[0m\u001b[0;34m\u001b[0m\u001b[0m\n\u001b[0m\u001b[1;32m      2\u001b[0m \u001b[0mfilename\u001b[0m\u001b[0;34m\u001b[0m\u001b[0;34m\u001b[0m\u001b[0m\n",
        "\u001b[0;31mValueError\u001b[0m: Unknown format code 'd' for object of type 'str'"
       ]
      }
     ],
     "persistentId": "9f222463-6434-4d42-aa79-917bf07aae05",
     "text": "filename = \"VLowRes/\" + 'MW' + \"_VLowRes/\" + 'MW' +  \"_{:03d}\".format('000') + \".txt\"\nfilename"
    },
    "executionTime": "2020-04-09T02:16:18.429Z"
   },
   {
    "cell": {
     "executionCount": 3,
     "executionEventId": "d69d9675-d61f-4d30-ae9e-0809f5dc7094",
     "hasError": true,
     "id": "d21a84c4-0d3b-4f32-a708-04b501baf5c1",
     "outputs": [
      {
       "ename": "SyntaxError",
       "evalue": "invalid token (<ipython-input-3-b6bc35fd3cc2>, line 1)",
       "output_type": "error",
       "traceback": [
        "\u001b[0;36m  File \u001b[0;32m\"<ipython-input-3-b6bc35fd3cc2>\"\u001b[0;36m, line \u001b[0;32m1\u001b[0m\n\u001b[0;31m    filename = \"VLowRes/\" + 'MW' + \"_VLowRes/\" + 'MW' +  \"_{:03d}\".format(001) + \".txt\"\u001b[0m\n\u001b[0m                                                                            ^\u001b[0m\n\u001b[0;31mSyntaxError\u001b[0m\u001b[0;31m:\u001b[0m invalid token\n"
       ]
      }
     ],
     "persistentId": "9f222463-6434-4d42-aa79-917bf07aae05",
     "text": "filename = \"VLowRes/\" + 'MW' + \"_VLowRes/\" + 'MW' +  \"_{:03d}\".format(001) + \".txt\"\nfilename"
    },
    "executionTime": "2020-04-09T02:16:31.531Z"
   },
   {
    "cell": {
     "executionCount": 4,
     "executionEventId": "87583ae7-efdb-4af3-9688-dede3e04ba82",
     "hasError": false,
     "id": "d21a84c4-0d3b-4f32-a708-04b501baf5c1",
     "outputs": [
      {
       "data": {
        "text/plain": "'VLowRes/MW_VLowRes/MW_001.txt'"
       },
       "execution_count": 4,
       "metadata": {},
       "output_type": "execute_result"
      }
     ],
     "persistentId": "9f222463-6434-4d42-aa79-917bf07aae05",
     "text": "filename = \"VLowRes/\" + 'MW' + \"_VLowRes/\" + 'MW' +  \"_{:03d}\".format(1) + \".txt\"\nfilename"
    },
    "executionTime": "2020-04-09T02:16:34.396Z"
   },
   {
    "cell": {
     "executionCount": 5,
     "executionEventId": "e757bb10-811a-4af0-bc12-409e39399b8f",
     "hasError": false,
     "id": "d21a84c4-0d3b-4f32-a708-04b501baf5c1",
     "outputs": [
      {
       "data": {
        "text/plain": "'VLowRes/MW_VLowRes/MW_111.txt'"
       },
       "execution_count": 5,
       "metadata": {},
       "output_type": "execute_result"
      }
     ],
     "persistentId": "9f222463-6434-4d42-aa79-917bf07aae05",
     "text": "filename = \"VLowRes/\" + 'MW' + \"_VLowRes/\" + 'MW' +  \"_{:03d}\".format(111) + \".txt\"\nfilename"
    },
    "executionTime": "2020-04-09T02:16:45.976Z"
   },
   {
    "cell": {
     "executionCount": 6,
     "executionEventId": "10b2253e-b21e-44d5-bd23-2d4edf0b7bab",
     "hasError": false,
     "id": "f11c8769-4224-4ef4-98bd-d2cc30626831",
     "outputs": [],
     "persistentId": "c19ce159-9811-4a98-b843-6bf704c73071",
     "text": "class Snap:\n    \"\"\"This is a class for Snap with M31, MW, M33\"\"\"\n    \n    def __init__(self,Snap_number):\n        self.Snap_number = Snap_number\n        self.MWfilename = \"VLowRes/\" + 'MW' + \"_VLowRes/\" + 'MW' +  \"_{:03d}\".format(self.Snap_number) + \".txt\"\n        self.M31filename = \"VLowRes/\" + 'M31' + \"_VLowRes/\" + 'M31' +  \"_{:03d}\".format(self.Snap_number) + \".txt\"\n        self.M33filename = \"VLowRes/\" + 'M33' + \"_VLowRes/\" + 'M33' +  \"_{:03d}\".format(self.Snap_number) + \".txt\"\n        \n    def COM(self):\n        MW_COM = CenterOfMass(self.MWfilename)\n        M31_COM = CenterOfMass(self.M31filename)\n        COMP_M33 = COM_M33.COM_P(0.1,4)\n        self.COMP_M33 = COMP_M33.value\n        "
    },
    "executionTime": "2020-04-09T02:29:55.121Z"
   },
   {
    "cell": {
     "executionCount": 1,
     "executionEventId": "8eb336de-849e-4baf-9fe2-7cf92f3aa80a",
     "hasError": true,
     "id": "8221c510-5393-431e-a4a7-fcab6decbd10",
     "outputs": [
      {
       "ename": "SyntaxError",
       "evalue": "invalid character in identifier (CenterOfMass2.py, line 26)",
       "output_type": "error",
       "traceback": [
        "Traceback \u001b[0;36m(most recent call last)\u001b[0m:\n",
        "  File \u001b[1;32m\"/anaconda3/lib/python3.6/site-packages/IPython/core/interactiveshell.py\"\u001b[0m, line \u001b[1;32m3319\u001b[0m, in \u001b[1;35mrun_code\u001b[0m\n    exec(code_obj, self.user_global_ns, self.user_ns)\n",
        "\u001b[0;36m  File \u001b[0;32m\"<ipython-input-1-b1ccfe7a4975>\"\u001b[0;36m, line \u001b[0;32m14\u001b[0;36m, in \u001b[0;35m<module>\u001b[0;36m\u001b[0m\n\u001b[0;31m    from CenterOfMass2 import CenterOfMass\u001b[0m\n",
        "\u001b[0;36m  File \u001b[0;32m\"/Users/fanxingzhong/400BRP/CenterOfMass2.py\"\u001b[0;36m, line \u001b[0;32m26\u001b[0m\n\u001b[0;31m    def __init__(self, filename∂):\u001b[0m\n\u001b[0m                               ^\u001b[0m\n\u001b[0;31mSyntaxError\u001b[0m\u001b[0;31m:\u001b[0m invalid character in identifier\n"
       ]
      }
     ],
     "persistentId": "0c0b76d9-3d1a-4a46-859e-e72e8cb5329a",
     "text": "import numpy as np\nimport astropy.units as u\nfrom astropy.constants import G\n\n# import plotting modules\nimport matplotlib.pyplot as plt\nimport matplotlib\n%matplotlib inline\n\n# my modules\nfrom ReadFile import Read\n\n# edit CenterOfMass2 to Calculate COM of all components \nfrom CenterOfMass2 import CenterOfMass\n"
    },
    "executionTime": "2020-04-09T02:31:32.121Z"
   },
   {
    "cell": {
     "executionCount": 2,
     "executionEventId": "6a3741d5-97c0-4ede-a94b-7252c3077790",
     "hasError": true,
     "id": "8221c510-5393-431e-a4a7-fcab6decbd10",
     "outputs": [
      {
       "ename": "SyntaxError",
       "evalue": "invalid character in identifier (CenterOfMass2.py, line 26)",
       "output_type": "error",
       "traceback": [
        "Traceback \u001b[0;36m(most recent call last)\u001b[0m:\n",
        "  File \u001b[1;32m\"/anaconda3/lib/python3.6/site-packages/IPython/core/interactiveshell.py\"\u001b[0m, line \u001b[1;32m3319\u001b[0m, in \u001b[1;35mrun_code\u001b[0m\n    exec(code_obj, self.user_global_ns, self.user_ns)\n",
        "\u001b[0;36m  File \u001b[0;32m\"<ipython-input-2-b1ccfe7a4975>\"\u001b[0;36m, line \u001b[0;32m14\u001b[0;36m, in \u001b[0;35m<module>\u001b[0;36m\u001b[0m\n\u001b[0;31m    from CenterOfMass2 import CenterOfMass\u001b[0m\n",
        "\u001b[0;36m  File \u001b[0;32m\"/Users/fanxingzhong/400BRP/CenterOfMass2.py\"\u001b[0;36m, line \u001b[0;32m26\u001b[0m\n\u001b[0;31m    def __init__(self, filename∂):\u001b[0m\n\u001b[0m                               ^\u001b[0m\n\u001b[0;31mSyntaxError\u001b[0m\u001b[0;31m:\u001b[0m invalid character in identifier\n"
       ]
      }
     ],
     "persistentId": "0c0b76d9-3d1a-4a46-859e-e72e8cb5329a",
     "text": "import numpy as np\nimport astropy.units as u\nfrom astropy.constants import G\n\n# import plotting modules\nimport matplotlib.pyplot as plt\nimport matplotlib\n%matplotlib inline\n\n# my modules\nfrom ReadFile import Read\n\n# edit CenterOfMass2 to Calculate COM of all components \nfrom CenterOfMass2 import CenterOfMass\n"
    },
    "executionTime": "2020-04-09T02:31:45.714Z"
   },
   {
    "cell": {
     "executionCount": 3,
     "executionEventId": "e305c270-30c9-4e23-978d-939f7704ac1c",
     "hasError": false,
     "id": "8221c510-5393-431e-a4a7-fcab6decbd10",
     "outputs": [],
     "persistentId": "0c0b76d9-3d1a-4a46-859e-e72e8cb5329a",
     "text": "import numpy as np\nimport astropy.units as u\nfrom astropy.constants import G\n\n# import plotting modules\nimport matplotlib.pyplot as plt\nimport matplotlib\n%matplotlib inline\n\n# my modules\nfrom ReadFile import Read\n\n# edit CenterOfMass2 to Calculate COM of all components \nfrom CenterOfMass2 import CenterOfMass\n"
    },
    "executionTime": "2020-04-09T02:31:57.352Z"
   },
   {
    "cell": {
     "executionCount": 1,
     "executionEventId": "30ed6e13-a6b7-4469-998f-bf413694a343",
     "hasError": true,
     "id": "8221c510-5393-431e-a4a7-fcab6decbd10",
     "outputs": [
      {
       "ename": "FileNotFoundError",
       "evalue": "[Errno 2] No such file or directory: 'MW_000.txt'",
       "output_type": "error",
       "traceback": [
        "\u001b[0;31m---------------------------------------------------------------------------\u001b[0m",
        "\u001b[0;31mFileNotFoundError\u001b[0m                         Traceback (most recent call last)",
        "\u001b[0;32m<ipython-input-1-2905215b808b>\u001b[0m in \u001b[0;36m<module>\u001b[0;34m\u001b[0m\n\u001b[1;32m     13\u001b[0m \u001b[0;31m# edit CenterOfMass2 to Calculate COM of all components\u001b[0m\u001b[0;34m\u001b[0m\u001b[0;34m\u001b[0m\u001b[0;34m\u001b[0m\u001b[0m\n\u001b[1;32m     14\u001b[0m \u001b[0;32mfrom\u001b[0m \u001b[0mCenterOfMass2\u001b[0m \u001b[0;32mimport\u001b[0m \u001b[0mCenterOfMass\u001b[0m\u001b[0;34m\u001b[0m\u001b[0;34m\u001b[0m\u001b[0m\n\u001b[0;32m---> 15\u001b[0;31m \u001b[0;32mfrom\u001b[0m \u001b[0mGalaxyMass\u001b[0m \u001b[0;32mimport\u001b[0m \u001b[0mComponentMass\u001b[0m\u001b[0;34m\u001b[0m\u001b[0;34m\u001b[0m\u001b[0m\n\u001b[0m",
        "\u001b[0;32m~/400BRP/GalaxyMass.py\u001b[0m in \u001b[0;36m<module>\u001b[0;34m\u001b[0m\n\u001b[1;32m     44\u001b[0m \u001b[0;34m\u001b[0m\u001b[0m\n\u001b[1;32m     45\u001b[0m \u001b[0;31m# MW Mass\u001b[0m\u001b[0;34m\u001b[0m\u001b[0;34m\u001b[0m\u001b[0;34m\u001b[0m\u001b[0m\n\u001b[0;32m---> 46\u001b[0;31m \u001b[0mMW_halo\u001b[0m \u001b[0;34m=\u001b[0m \u001b[0mComponentMass\u001b[0m\u001b[0;34m(\u001b[0m\u001b[0;34m\"MW_000.txt\"\u001b[0m\u001b[0;34m,\u001b[0m\u001b[0;36m1\u001b[0m\u001b[0;34m)\u001b[0m\u001b[0;34m\u001b[0m\u001b[0;34m\u001b[0m\u001b[0m\n\u001b[0m\u001b[1;32m     47\u001b[0m \u001b[0mMW_disk\u001b[0m \u001b[0;34m=\u001b[0m \u001b[0mComponentMass\u001b[0m\u001b[0;34m(\u001b[0m\u001b[0;34m\"MW_000.txt\"\u001b[0m\u001b[0;34m,\u001b[0m\u001b[0;36m2\u001b[0m\u001b[0;34m)\u001b[0m\u001b[0;34m\u001b[0m\u001b[0;34m\u001b[0m\u001b[0m\n\u001b[1;32m     48\u001b[0m \u001b[0mMW_bulge\u001b[0m \u001b[0;34m=\u001b[0m \u001b[0mComponentMass\u001b[0m\u001b[0;34m(\u001b[0m\u001b[0;34m\"MW_000.txt\"\u001b[0m\u001b[0;34m,\u001b[0m\u001b[0;36m3\u001b[0m\u001b[0;34m)\u001b[0m\u001b[0;34m\u001b[0m\u001b[0;34m\u001b[0m\u001b[0m\n",
        "\u001b[0;32m~/400BRP/GalaxyMass.py\u001b[0m in \u001b[0;36mComponentMass\u001b[0;34m(filename, PType)\u001b[0m\n\u001b[1;32m     31\u001b[0m \u001b[0;34m\u001b[0m\u001b[0m\n\u001b[1;32m     32\u001b[0m      \u001b[0;31m# read in the file\u001b[0m\u001b[0;34m\u001b[0m\u001b[0;34m\u001b[0m\u001b[0;34m\u001b[0m\u001b[0m\n\u001b[0;32m---> 33\u001b[0;31m     \u001b[0mtime\u001b[0m\u001b[0;34m,\u001b[0m \u001b[0mtotal\u001b[0m\u001b[0;34m,\u001b[0m \u001b[0mdata\u001b[0m \u001b[0;34m=\u001b[0m \u001b[0mRead\u001b[0m\u001b[0;34m(\u001b[0m\u001b[0mfilename\u001b[0m\u001b[0;34m)\u001b[0m\u001b[0;34m\u001b[0m\u001b[0;34m\u001b[0m\u001b[0m\n\u001b[0m\u001b[1;32m     34\u001b[0m \u001b[0;34m\u001b[0m\u001b[0m\n\u001b[1;32m     35\u001b[0m       \u001b[0;31m# gather particles with the same type and sum up the mass\u001b[0m\u001b[0;34m\u001b[0m\u001b[0;34m\u001b[0m\u001b[0;34m\u001b[0m\u001b[0m\n",
        "\u001b[0;32m~/400BRP/ReadFile.py\u001b[0m in \u001b[0;36mRead\u001b[0;34m(filename)\u001b[0m\n\u001b[1;32m     14\u001b[0m \u001b[0;34m\u001b[0m\u001b[0m\n\u001b[1;32m     15\u001b[0m     \u001b[0;31m# open the file\u001b[0m\u001b[0;34m\u001b[0m\u001b[0;34m\u001b[0m\u001b[0;34m\u001b[0m\u001b[0m\n\u001b[0;32m---> 16\u001b[0;31m     \u001b[0mfile\u001b[0m \u001b[0;34m=\u001b[0m \u001b[0mopen\u001b[0m\u001b[0;34m(\u001b[0m\u001b[0mfilename\u001b[0m\u001b[0;34m,\u001b[0m\u001b[0;34m'r'\u001b[0m\u001b[0;34m)\u001b[0m\u001b[0;34m\u001b[0m\u001b[0;34m\u001b[0m\u001b[0m\n\u001b[0m\u001b[1;32m     17\u001b[0m     \u001b[0;31m# read the first line\u001b[0m\u001b[0;34m\u001b[0m\u001b[0;34m\u001b[0m\u001b[0;34m\u001b[0m\u001b[0m\n\u001b[1;32m     18\u001b[0m     \u001b[0mline1\u001b[0m \u001b[0;34m=\u001b[0m \u001b[0mfile\u001b[0m\u001b[0;34m.\u001b[0m\u001b[0mreadline\u001b[0m\u001b[0;34m(\u001b[0m\u001b[0;34m)\u001b[0m\u001b[0;34m\u001b[0m\u001b[0;34m\u001b[0m\u001b[0m\n",
        "\u001b[0;31mFileNotFoundError\u001b[0m: [Errno 2] No such file or directory: 'MW_000.txt'"
       ]
      }
     ],
     "persistentId": "0c0b76d9-3d1a-4a46-859e-e72e8cb5329a",
     "text": "import numpy as np\nimport astropy.units as u\nfrom astropy.constants import G\n\n# import plotting modules\nimport matplotlib.pyplot as plt\nimport matplotlib\n%matplotlib inline\n\n# my modules\nfrom ReadFile import Read\n\n# edit CenterOfMass2 to Calculate COM of all components \nfrom CenterOfMass2 import CenterOfMass\nfrom GalaxyMass import ComponentMass\n"
    },
    "executionTime": "2020-04-09T02:42:49.778Z"
   },
   {
    "cell": {
     "executionCount": 2,
     "executionEventId": "e6f23af4-c743-4366-9c77-4f76985ecc43",
     "hasError": false,
     "id": "8221c510-5393-431e-a4a7-fcab6decbd10",
     "outputs": [],
     "persistentId": "0c0b76d9-3d1a-4a46-859e-e72e8cb5329a",
     "text": "import numpy as np\nimport astropy.units as u\nfrom astropy.constants import G\n\n# import plotting modules\nimport matplotlib.pyplot as plt\nimport matplotlib\n%matplotlib inline\n\n# my modules\nfrom ReadFile import Read\n\n# edit CenterOfMass2 to Calculate COM of all components \nfrom CenterOfMass2 import CenterOfMass\nfrom GalaxyMass import ComponentMass\n"
    },
    "executionTime": "2020-04-09T02:44:14.582Z"
   },
   {
    "cell": {
     "executionCount": 3,
     "executionEventId": "5d237543-c4ac-4981-bce7-86869fabdaba",
     "hasError": false,
     "id": "8221c510-5393-431e-a4a7-fcab6decbd10",
     "outputs": [],
     "persistentId": "0c0b76d9-3d1a-4a46-859e-e72e8cb5329a",
     "text": "import numpy as np\nimport astropy.units as u\nfrom astropy.constants import G\n\n# import plotting modules\nimport matplotlib.pyplot as plt\nimport matplotlib\n%matplotlib inline\n\n# my modules\nfrom ReadFile import Read\n\n# edit CenterOfMass2 to Calculate COM of all components \nfrom CenterOfMass2 import CenterOfMass\n# edit GalaxyMAss to Calculate Mass of all components \nfrom GalaxyMass import ComponentMass\n"
    },
    "executionTime": "2020-04-09T02:44:33.804Z"
   },
   {
    "cell": {
     "executionCount": 5,
     "executionEventId": "50860781-f8ce-416b-bba6-22c1e4225f6b",
     "hasError": true,
     "id": "5b40a971-b35d-4c0e-accc-b53dada5d090",
     "outputs": [
      {
       "ename": "ImportError",
       "evalue": "cannot import name 'TotalMass'",
       "output_type": "error",
       "traceback": [
        "\u001b[0;31m---------------------------------------------------------------------------\u001b[0m",
        "\u001b[0;31mImportError\u001b[0m                               Traceback (most recent call last)",
        "\u001b[0;32m<ipython-input-5-f0ab1463d895>\u001b[0m in \u001b[0;36m<module>\u001b[0;34m\u001b[0m\n\u001b[1;32m     14\u001b[0m \u001b[0;32mfrom\u001b[0m \u001b[0mCenterOfMass2\u001b[0m \u001b[0;32mimport\u001b[0m \u001b[0mCenterOfMass\u001b[0m\u001b[0;34m\u001b[0m\u001b[0;34m\u001b[0m\u001b[0m\n\u001b[1;32m     15\u001b[0m \u001b[0;31m# edit GalaxyMAss to Calculate Mass of all components\u001b[0m\u001b[0;34m\u001b[0m\u001b[0;34m\u001b[0m\u001b[0;34m\u001b[0m\u001b[0m\n\u001b[0;32m---> 16\u001b[0;31m \u001b[0;32mfrom\u001b[0m \u001b[0mGalaxyMass\u001b[0m \u001b[0;32mimport\u001b[0m \u001b[0mTotalMass\u001b[0m\u001b[0;34m\u001b[0m\u001b[0;34m\u001b[0m\u001b[0m\n\u001b[0m",
        "\u001b[0;31mImportError\u001b[0m: cannot import name 'TotalMass'"
       ]
      }
     ],
     "persistentId": "0c0b76d9-3d1a-4a46-859e-e72e8cb5329a",
     "text": "import numpy as np\nimport astropy.units as u\nfrom astropy.constants import G\n\n# import plotting modules\nimport matplotlib.pyplot as plt\nimport matplotlib\n%matplotlib inline\n\n# my modules\nfrom ReadFile import Read\n\n# edit CenterOfMass2 to Calculate COM of all components \nfrom CenterOfMass2 import CenterOfMass\n# edit GalaxyMAss to Calculate Mass of all components \nfrom GalaxyMass import TotalMass\n"
    },
    "executionTime": "2020-04-09T03:12:29.890Z"
   },
   {
    "cell": {
     "executionCount": 6,
     "executionEventId": "90b8016a-03de-4cdc-80e6-31eb6003b6c9",
     "hasError": false,
     "id": "5b40a971-b35d-4c0e-accc-b53dada5d090",
     "outputs": [],
     "persistentId": "0c0b76d9-3d1a-4a46-859e-e72e8cb5329a",
     "text": "import numpy as np\nimport astropy.units as u\nfrom astropy.constants import G\n\n# import plotting modules\nimport matplotlib.pyplot as plt\nimport matplotlib\n%matplotlib inline\n\n# my modules\nfrom ReadFile import Read\n\n# edit CenterOfMass2 to Calculate COM of all components \nfrom CenterOfMass2 import CenterOfMass\n# edit GalaxyMAss to Calculate Mass of all components \nfrom GalaxyMass import ComponentMass\n"
    },
    "executionTime": "2020-04-09T03:12:35.616Z"
   },
   {
    "cell": {
     "executionCount": 7,
     "executionEventId": "346a60b8-798b-492e-ad2d-ca41ce6596b2",
     "hasError": true,
     "id": "a556ed75-ec70-4552-8265-6e162bcf9330",
     "outputs": [
      {
       "ename": "SyntaxError",
       "evalue": "invalid syntax (<ipython-input-7-42d8021c2dfe>, line 47)",
       "output_type": "error",
       "traceback": [
        "\u001b[0;36m  File \u001b[0;32m\"<ipython-input-7-42d8021c2dfe>\"\u001b[0;36m, line \u001b[0;32m47\u001b[0m\n\u001b[0;31m    self.Rj_MW_M33 = self.MW_M33diff *(self.M33mass/)**(1/3)\u001b[0m\n\u001b[0m                                                    ^\u001b[0m\n\u001b[0;31mSyntaxError\u001b[0m\u001b[0;31m:\u001b[0m invalid syntax\n"
       ]
      }
     ],
     "persistentId": "c19ce159-9811-4a98-b843-6bf704c73071",
     "text": "class Snap:\n    \"\"\"This is a class for Snap with M31, MW, M33\"\"\"\n    \n    def __init__(self,Snap_number):\n        self.Snap_number = Snap_number\n        self.MWfilename = \"VLowRes/\" + 'MW' + \"_VLowRes/\" + 'MW' +  \"_{:03d}\".format(self.Snap_number) + \".txt\"\n        self.M31filename = \"VLowRes/\" + 'M31' + \"_VLowRes/\" + 'M31' +  \"_{:03d}\".format(self.Snap_number) + \".txt\"\n        self.M33filename = \"VLowRes/\" + 'M33' + \"_VLowRes/\" + 'M33' +  \"_{:03d}\".format(self.Snap_number) + \".txt\"\n        \n    def COM(self):\n        \n        MW_COM = CenterOfMass(self.MWfilename)\n        M31_COM = CenterOfMass(self.M31filename)\n        M33_COM = CenterOfMass(self.M31filename)\n        \n        MW_COM = MW_COM.COM_P(0.1,2)\n        M31_COM = M31_COM.COM_P(0.1,2)\n        M33_COM = M33_COM.COM_P(0.1,4)\n        self.COMP_MW = COMP_MW.value\n        self.COMP_M31 = COMP_M31.value\n        self.COMP_M33 = COMP_M33.value\n        \n        return self.COMP_MW, self.COMP_M31, self.COMP_M33\n    \n    \n    def COMdiff(self,galaxy1,galaxy2):\n        \n        COMdiff = np.sqrt((galaxy1[0]-galaxy2[0])**2+(galaxy1[1]-galaxy2[1])**2+(galaxy1[2]-galaxy2[2])**2)        \n        \n        return COMdiff\n    \n    def Total_Mass(self,galaxy_name):\n        \n        return ComponentMass(galaxy_name)        \n    \n    def Rj(self):\n        \n        self.MWmass = self.Total_Mass(self.MWfilename)\n        self.M31mass = self.Total_Mass(self.M31filename)\n        self.M33mass = self.Total_Mass(self.M33filename)\n        \n        self.COMP_MW, self.COMP_M31, self.COMP_M33 = self.COM()\n        \n        self.MW_M33diff = self.COMdiff(self.COMP_MW,self.COMP_M33)\n        self.M31_M33diff = self.COMdiff(self.COMP_M31,self.COMP_M33)\n        \n        self.Rj_MW_M33 = self.MW_M33diff *(self.M33mass/)**(1/3)"
    },
    "executionTime": "2020-04-09T03:12:38.843Z"
   },
   {
    "cell": {
     "executionCount": 8,
     "executionEventId": "a41160a3-44fe-4aa2-8b83-524b7db7db81",
     "hasError": false,
     "id": "2b8be67b-eb5c-4f02-9dc4-c7e1c5e788ed",
     "outputs": [],
     "persistentId": "5064a642-f2ac-42d6-a048-5b0a9c852881",
     "text": "def Mass_enclose(filename,radius):\n# function to compute the mass of all particles of a given type for a given galaxy \n# output: Mass in units of Msun. \n    \n    # read in the file \n    time, total, data = Read(filename)\n    \n    # gather particles with the same type and sum up the mass\n    # we can directly round the result and adjust the units\n    mass = np.round(data[np.sqrt(data['x']**2+data['y']**2+data['z']**2) < radius]['m'].sum() * 1e10, 3)\n    \n    # return the mass \n    return mass\n"
    },
    "executionTime": "2020-04-09T03:18:40.393Z"
   },
   {
    "cell": {
     "executionCount": 9,
     "executionEventId": "17b3518e-366a-4562-a411-c59b07d53b47",
     "hasError": false,
     "id": "a556ed75-ec70-4552-8265-6e162bcf9330",
     "outputs": [],
     "persistentId": "c19ce159-9811-4a98-b843-6bf704c73071",
     "text": "class Snap:\n    \"\"\"This is a class for Snap with M31, MW, M33\"\"\"\n    \n    def __init__(self,Snap_number):\n        self.Snap_number = Snap_number\n        self.MWfilename = \"VLowRes/\" + 'MW' + \"_VLowRes/\" + 'MW' +  \"_{:03d}\".format(self.Snap_number) + \".txt\"\n        self.M31filename = \"VLowRes/\" + 'M31' + \"_VLowRes/\" + 'M31' +  \"_{:03d}\".format(self.Snap_number) + \".txt\"\n        self.M33filename = \"VLowRes/\" + 'M33' + \"_VLowRes/\" + 'M33' +  \"_{:03d}\".format(self.Snap_number) + \".txt\"\n        \n    def COM(self):\n        \n        MW_COM = CenterOfMass(self.MWfilename)\n        M31_COM = CenterOfMass(self.M31filename)\n        M33_COM = CenterOfMass(self.M31filename)\n        \n        MW_COM = MW_COM.COM_P(0.1,2)\n        M31_COM = M31_COM.COM_P(0.1,2)\n        M33_COM = M33_COM.COM_P(0.1,4)\n        self.COMP_MW = COMP_MW.value\n        self.COMP_M31 = COMP_M31.value\n        self.COMP_M33 = COMP_M33.value\n        \n        return self.COMP_MW, self.COMP_M31, self.COMP_M33\n    \n    \n    def COMdiff(self,galaxy1,galaxy2):\n        \n        COMdiff = np.sqrt((galaxy1[0]-galaxy2[0])**2+(galaxy1[1]-galaxy2[1])**2+(galaxy1[2]-galaxy2[2])**2)        \n        \n        return COMdiff\n    \n    def Total_Mass(self,galaxy_name):\n        \n        return ComponentMass(galaxy_name) \n    \n    def Mass_enclose(self):\n        \n        self.COMP_MW, self.COMP_M31, self.COMP_M33 = self.COM()\n        \n        self.MW_M33diff = self.COMdiff(self.COMP_MW,self.COMP_M33)\n        self.M31_M33diff = self.COMdiff(self.COMP_M31,self.COMP_M33)\n        \n        self.M31_enclose = Mass_enclose(self.M31filename, self.M31_M33diff)\n        self.MW_enclose = Mass_enclose(self.MWfilename, self.MW_M33diff)\n        \n        return self.M31_enclose, self.MW_enclose\n    \n    def Rj(self):\n        \n        self.MWmass = self.Total_Mass(self.MWfilename)\n        self.M31mass = self.Total_Mass(self.M31filename)\n        self.M33mass = self.Total_Mass(self.M33filename)\n        \n        self.COMP_MW, self.COMP_M31, self.COMP_M33 = self.COM()\n        \n        self.MW_M33diff = self.COMdiff(self.COMP_MW,self.COMP_M33)\n        self.M31_M33diff = self.COMdiff(self.COMP_M31,self.COMP_M33)\n        \n        self.M31_enclose, self.MW_enclose = self.Mass_enclose()\n        \n        self.Rj_MW_M33 = self.MW_M33diff *(self.M33mass/self.MW_enclose)**(1/3)\n        self.Rj_M31_M33 = self.M31_M33diff *(self.M33mass/self.M31_enclose)**(1/3)\n        \n        return self.Rj_M31_M33, self.Rj_MW_M33"
    },
    "executionTime": "2020-04-09T03:24:41.278Z"
   },
   {
    "cell": {
     "executionCount": 10,
     "executionEventId": "0114c688-1cbe-414e-b88f-28875053009b",
     "hasError": true,
     "id": "ee9c1690-3c2e-4a90-8909-4f94dc46cc52",
     "outputs": [
      {
       "ename": "ValueError",
       "evalue": "only 2 non-keyword arguments accepted",
       "output_type": "error",
       "traceback": [
        "\u001b[0;31m---------------------------------------------------------------------------\u001b[0m",
        "\u001b[0;31mValueError\u001b[0m                                Traceback (most recent call last)",
        "\u001b[0;32m<ipython-input-10-d6a40461989b>\u001b[0m in \u001b[0;36m<module>\u001b[0;34m\u001b[0m\n\u001b[0;32m----> 1\u001b[0;31m \u001b[0ma\u001b[0m \u001b[0;34m=\u001b[0m \u001b[0mnp\u001b[0m\u001b[0;34m.\u001b[0m\u001b[0marray\u001b[0m\u001b[0;34m(\u001b[0m\u001b[0;36m1\u001b[0m\u001b[0;34m,\u001b[0m\u001b[0;36m2\u001b[0m\u001b[0;34m,\u001b[0m\u001b[0;36m3\u001b[0m\u001b[0;34m,\u001b[0m\u001b[0;36m4\u001b[0m\u001b[0;34m,\u001b[0m\u001b[0;36m5\u001b[0m\u001b[0;34m)\u001b[0m\u001b[0;34m\u001b[0m\u001b[0;34m\u001b[0m\u001b[0m\n\u001b[0m",
        "\u001b[0;31mValueError\u001b[0m: only 2 non-keyword arguments accepted"
       ]
      }
     ],
     "persistentId": "bf3dfa73-20bb-4f1f-bcce-fcfa030a530c",
     "text": "a = np.array(1,2,3,4,5)"
    },
    "executionTime": "2020-04-09T03:38:02.736Z"
   },
   {
    "cell": {
     "executionCount": 11,
     "executionEventId": "91e28767-c45f-4f14-a4b9-449471d39583",
     "hasError": false,
     "id": "ee9c1690-3c2e-4a90-8909-4f94dc46cc52",
     "outputs": [],
     "persistentId": "bf3dfa73-20bb-4f1f-bcce-fcfa030a530c",
     "text": "a = np.array([1,2,3,4,5])"
    },
    "executionTime": "2020-04-09T03:38:45.938Z"
   },
   {
    "cell": {
     "executionCount": 12,
     "executionEventId": "885632d6-ea22-45e6-b0d5-f3b3cff29ccf",
     "hasError": false,
     "id": "0b8550f1-34d9-4b41-b347-ca9e14e05330",
     "outputs": [],
     "persistentId": "6ed27eaf-9a13-4f2d-a68b-6cca876c9528",
     "text": "b = np.array([1,2,5,7,9])"
    },
    "executionTime": "2020-04-09T03:39:02.069Z"
   },
   {
    "cell": {
     "executionCount": 13,
     "executionEventId": "c5a5d83c-5714-4242-b873-82c1325b4134",
     "hasError": false,
     "id": "e6d82cd7-b2ed-4c77-bd7a-2fa71b98e996",
     "outputs": [
      {
       "data": {
        "text/plain": "array([1, 2, 3, 4, 5])"
       },
       "execution_count": 13,
       "metadata": {},
       "output_type": "execute_result"
      }
     ],
     "persistentId": "13984171-c099-4a50-a464-856ad4d8d5b5",
     "text": "a"
    },
    "executionTime": "2020-04-09T03:39:03.825Z"
   },
   {
    "cell": {
     "executionCount": 14,
     "executionEventId": "db2fb1f4-ee4f-4c57-bfe2-0ec42af3c277",
     "hasError": false,
     "id": "e6d82cd7-b2ed-4c77-bd7a-2fa71b98e996",
     "outputs": [
      {
       "data": {
        "text/plain": "(array([0]),)"
       },
       "execution_count": 14,
       "metadata": {},
       "output_type": "execute_result"
      }
     ],
     "persistentId": "13984171-c099-4a50-a464-856ad4d8d5b5",
     "text": "np.where(a==1)"
    },
    "executionTime": "2020-04-09T03:39:25.644Z"
   },
   {
    "cell": {
     "executionCount": 15,
     "executionEventId": "48b5dea3-7c5e-427e-814f-9e004056b0d0",
     "hasError": false,
     "id": "e6d82cd7-b2ed-4c77-bd7a-2fa71b98e996",
     "outputs": [
      {
       "data": {
        "text/plain": "array([ True,  True, False, False, False])"
       },
       "execution_count": 15,
       "metadata": {},
       "output_type": "execute_result"
      }
     ],
     "persistentId": "13984171-c099-4a50-a464-856ad4d8d5b5",
     "text": "a ==b"
    },
    "executionTime": "2020-04-09T03:39:39.143Z"
   },
   {
    "cell": {
     "executionCount": 16,
     "executionEventId": "9f889466-586b-411e-aa09-2fc72cd08ddc",
     "hasError": false,
     "id": "e6d82cd7-b2ed-4c77-bd7a-2fa71b98e996",
     "outputs": [
      {
       "data": {
        "text/plain": "(array([0, 1]),)"
       },
       "execution_count": 16,
       "metadata": {},
       "output_type": "execute_result"
      }
     ],
     "persistentId": "13984171-c099-4a50-a464-856ad4d8d5b5",
     "text": "np.where(a == b)"
    },
    "executionTime": "2020-04-09T03:39:50.932Z"
   },
   {
    "cell": {
     "executionCount": 17,
     "executionEventId": "e46490f8-172d-4703-82a8-ee55908fd7a3",
     "hasError": false,
     "id": "e6d82cd7-b2ed-4c77-bd7a-2fa71b98e996",
     "outputs": [
      {
       "data": {
        "text/plain": "5"
       },
       "execution_count": 17,
       "metadata": {},
       "output_type": "execute_result"
      }
     ],
     "persistentId": "13984171-c099-4a50-a464-856ad4d8d5b5",
     "text": "len(a)"
    },
    "executionTime": "2020-04-09T03:42:42.645Z"
   },
   {
    "cell": {
     "executionCount": 18,
     "executionEventId": "5ab407c0-4de7-4bf2-91e3-4d3e91bfaa97",
     "hasError": false,
     "id": "e6d82cd7-b2ed-4c77-bd7a-2fa71b98e996",
     "outputs": [
      {
       "name": "stdout",
       "output_type": "stream",
       "text": "1\n2\n3\n4\n5\n"
      }
     ],
     "persistentId": "13984171-c099-4a50-a464-856ad4d8d5b5",
     "text": "for i in range(len(a)):\n    print(a[i])"
    },
    "executionTime": "2020-04-09T03:43:02.301Z"
   },
   {
    "cell": {
     "executionCount": 19,
     "executionEventId": "c10deece-1975-45f8-af55-f4f4152d0252",
     "hasError": false,
     "id": "e6d82cd7-b2ed-4c77-bd7a-2fa71b98e996",
     "outputs": [
      {
       "name": "stdout",
       "output_type": "stream",
       "text": "3\n4\n"
      }
     ],
     "persistentId": "13984171-c099-4a50-a464-856ad4d8d5b5",
     "text": "for i in range(len(a)):\n    if a[i] not in b:\n        print(a[i])"
    },
    "executionTime": "2020-04-09T03:43:26.517Z"
   },
   {
    "cell": {
     "executionCount": 20,
     "executionEventId": "050fb4ab-68ec-4c60-8b01-e77b379ea4d3",
     "hasError": true,
     "id": "e6d82cd7-b2ed-4c77-bd7a-2fa71b98e996",
     "outputs": [
      {
       "ename": "AttributeError",
       "evalue": "'numpy.ndarray' object has no attribute 'append'",
       "output_type": "error",
       "traceback": [
        "\u001b[0;31m---------------------------------------------------------------------------\u001b[0m",
        "\u001b[0;31mAttributeError\u001b[0m                            Traceback (most recent call last)",
        "\u001b[0;32m<ipython-input-20-e3da84ee4482>\u001b[0m in \u001b[0;36m<module>\u001b[0;34m\u001b[0m\n\u001b[1;32m      2\u001b[0m \u001b[0;32mfor\u001b[0m \u001b[0mi\u001b[0m \u001b[0;32min\u001b[0m \u001b[0mrange\u001b[0m\u001b[0;34m(\u001b[0m\u001b[0mlen\u001b[0m\u001b[0;34m(\u001b[0m\u001b[0ma\u001b[0m\u001b[0;34m)\u001b[0m\u001b[0;34m)\u001b[0m\u001b[0;34m:\u001b[0m\u001b[0;34m\u001b[0m\u001b[0;34m\u001b[0m\u001b[0m\n\u001b[1;32m      3\u001b[0m     \u001b[0;32mif\u001b[0m \u001b[0ma\u001b[0m\u001b[0;34m[\u001b[0m\u001b[0mi\u001b[0m\u001b[0;34m]\u001b[0m \u001b[0;32mnot\u001b[0m \u001b[0;32min\u001b[0m \u001b[0mb\u001b[0m\u001b[0;34m:\u001b[0m\u001b[0;34m\u001b[0m\u001b[0;34m\u001b[0m\u001b[0m\n\u001b[0;32m----> 4\u001b[0;31m         \u001b[0mc\u001b[0m\u001b[0;34m.\u001b[0m\u001b[0mappend\u001b[0m\u001b[0;34m(\u001b[0m\u001b[0ma\u001b[0m\u001b[0;34m[\u001b[0m\u001b[0mi\u001b[0m\u001b[0;34m]\u001b[0m\u001b[0;34m)\u001b[0m\u001b[0;34m\u001b[0m\u001b[0;34m\u001b[0m\u001b[0m\n\u001b[0m",
        "\u001b[0;31mAttributeError\u001b[0m: 'numpy.ndarray' object has no attribute 'append'"
       ]
      }
     ],
     "persistentId": "13984171-c099-4a50-a464-856ad4d8d5b5",
     "text": "c = np.array([])\nfor i in range(len(a)):\n    if a[i] not in b:\n        c.append(a[i])"
    },
    "executionTime": "2020-04-09T03:44:48.223Z"
   },
   {
    "cell": {
     "executionCount": 21,
     "executionEventId": "37184a0b-85b5-40d4-922a-0e5a6577a3d6",
     "hasError": true,
     "id": "e6d82cd7-b2ed-4c77-bd7a-2fa71b98e996",
     "outputs": [
      {
       "ename": "AttributeError",
       "evalue": "'numpy.ndarray' object has no attribute 'np'",
       "output_type": "error",
       "traceback": [
        "\u001b[0;31m---------------------------------------------------------------------------\u001b[0m",
        "\u001b[0;31mAttributeError\u001b[0m                            Traceback (most recent call last)",
        "\u001b[0;32m<ipython-input-21-f44af6a6af49>\u001b[0m in \u001b[0;36m<module>\u001b[0;34m\u001b[0m\n\u001b[1;32m      2\u001b[0m \u001b[0;32mfor\u001b[0m \u001b[0mi\u001b[0m \u001b[0;32min\u001b[0m \u001b[0mrange\u001b[0m\u001b[0;34m(\u001b[0m\u001b[0mlen\u001b[0m\u001b[0;34m(\u001b[0m\u001b[0ma\u001b[0m\u001b[0;34m)\u001b[0m\u001b[0;34m)\u001b[0m\u001b[0;34m:\u001b[0m\u001b[0;34m\u001b[0m\u001b[0;34m\u001b[0m\u001b[0m\n\u001b[1;32m      3\u001b[0m     \u001b[0;32mif\u001b[0m \u001b[0ma\u001b[0m\u001b[0;34m[\u001b[0m\u001b[0mi\u001b[0m\u001b[0;34m]\u001b[0m \u001b[0;32mnot\u001b[0m \u001b[0;32min\u001b[0m \u001b[0mb\u001b[0m\u001b[0;34m:\u001b[0m\u001b[0;34m\u001b[0m\u001b[0;34m\u001b[0m\u001b[0m\n\u001b[0;32m----> 4\u001b[0;31m         \u001b[0mc\u001b[0m\u001b[0;34m.\u001b[0m\u001b[0mnp\u001b[0m\u001b[0;34m.\u001b[0m\u001b[0mappend\u001b[0m\u001b[0;34m(\u001b[0m\u001b[0ma\u001b[0m\u001b[0;34m[\u001b[0m\u001b[0mi\u001b[0m\u001b[0;34m]\u001b[0m\u001b[0;34m)\u001b[0m\u001b[0;34m\u001b[0m\u001b[0;34m\u001b[0m\u001b[0m\n\u001b[0m",
        "\u001b[0;31mAttributeError\u001b[0m: 'numpy.ndarray' object has no attribute 'np'"
       ]
      }
     ],
     "persistentId": "13984171-c099-4a50-a464-856ad4d8d5b5",
     "text": "c = np.array([])\nfor i in range(len(a)):\n    if a[i] not in b:\n        c.np.append(a[i])"
    },
    "executionTime": "2020-04-09T03:44:53.478Z"
   },
   {
    "cell": {
     "executionCount": 22,
     "executionEventId": "64e1e346-5081-4b4b-a1fe-25cbe9f6b654",
     "hasError": true,
     "id": "e6d82cd7-b2ed-4c77-bd7a-2fa71b98e996",
     "outputs": [
      {
       "ename": "AttributeError",
       "evalue": "'numpy.ndarray' object has no attribute 'append'",
       "output_type": "error",
       "traceback": [
        "\u001b[0;31m---------------------------------------------------------------------------\u001b[0m",
        "\u001b[0;31mAttributeError\u001b[0m                            Traceback (most recent call last)",
        "\u001b[0;32m<ipython-input-22-e3da84ee4482>\u001b[0m in \u001b[0;36m<module>\u001b[0;34m\u001b[0m\n\u001b[1;32m      2\u001b[0m \u001b[0;32mfor\u001b[0m \u001b[0mi\u001b[0m \u001b[0;32min\u001b[0m \u001b[0mrange\u001b[0m\u001b[0;34m(\u001b[0m\u001b[0mlen\u001b[0m\u001b[0;34m(\u001b[0m\u001b[0ma\u001b[0m\u001b[0;34m)\u001b[0m\u001b[0;34m)\u001b[0m\u001b[0;34m:\u001b[0m\u001b[0;34m\u001b[0m\u001b[0;34m\u001b[0m\u001b[0m\n\u001b[1;32m      3\u001b[0m     \u001b[0;32mif\u001b[0m \u001b[0ma\u001b[0m\u001b[0;34m[\u001b[0m\u001b[0mi\u001b[0m\u001b[0;34m]\u001b[0m \u001b[0;32mnot\u001b[0m \u001b[0;32min\u001b[0m \u001b[0mb\u001b[0m\u001b[0;34m:\u001b[0m\u001b[0;34m\u001b[0m\u001b[0;34m\u001b[0m\u001b[0m\n\u001b[0;32m----> 4\u001b[0;31m         \u001b[0mc\u001b[0m\u001b[0;34m.\u001b[0m\u001b[0mappend\u001b[0m\u001b[0;34m(\u001b[0m\u001b[0ma\u001b[0m\u001b[0;34m[\u001b[0m\u001b[0mi\u001b[0m\u001b[0;34m]\u001b[0m\u001b[0;34m)\u001b[0m\u001b[0;34m\u001b[0m\u001b[0;34m\u001b[0m\u001b[0m\n\u001b[0m",
        "\u001b[0;31mAttributeError\u001b[0m: 'numpy.ndarray' object has no attribute 'append'"
       ]
      }
     ],
     "persistentId": "13984171-c099-4a50-a464-856ad4d8d5b5",
     "text": "c = np.array([])\nfor i in range(len(a)):\n    if a[i] not in b:\n        c.append(a[i])"
    },
    "executionTime": "2020-04-09T03:45:39.457Z"
   },
   {
    "cell": {
     "executionCount": 23,
     "executionEventId": "dbf9ee8a-4232-40c6-9b1a-c79f92aa8bf9",
     "hasError": false,
     "id": "e6d82cd7-b2ed-4c77-bd7a-2fa71b98e996",
     "outputs": [],
     "persistentId": "13984171-c099-4a50-a464-856ad4d8d5b5",
     "text": "c = np.array([])\nfor i in range(len(a)):\n    if a[i] not in b:\n        c = np.append(a[i],b)"
    },
    "executionTime": "2020-04-09T03:46:34.676Z"
   },
   {
    "cell": {
     "executionCount": 24,
     "executionEventId": "5686ee0d-325d-4a34-91df-157521d42d1e",
     "hasError": false,
     "id": "ef8fc70e-ebf1-4a1a-980f-7fc61bff1c8b",
     "outputs": [
      {
       "data": {
        "text/plain": "array([4, 1, 2, 5, 7, 9])"
       },
       "execution_count": 24,
       "metadata": {},
       "output_type": "execute_result"
      }
     ],
     "persistentId": "766c28c3-28fa-4368-9b97-b2cf69b8d2c8",
     "text": "c"
    },
    "executionTime": "2020-04-09T03:46:36.352Z"
   },
   {
    "cell": {
     "executionCount": 25,
     "executionEventId": "41d58b8a-39fb-48f0-abbb-1bf86cc96974",
     "hasError": false,
     "id": "ef8fc70e-ebf1-4a1a-980f-7fc61bff1c8b",
     "outputs": [
      {
       "data": {
        "text/plain": "array([4, 1, 2, 5, 7, 9])"
       },
       "execution_count": 25,
       "metadata": {},
       "output_type": "execute_result"
      }
     ],
     "persistentId": "766c28c3-28fa-4368-9b97-b2cf69b8d2c8",
     "text": "c"
    },
    "executionTime": "2020-04-09T03:46:50.243Z"
   },
   {
    "cell": {
     "executionCount": 26,
     "executionEventId": "8d11a046-a6ee-49ae-9724-923003a805bd",
     "hasError": false,
     "id": "e6d82cd7-b2ed-4c77-bd7a-2fa71b98e996",
     "outputs": [],
     "persistentId": "13984171-c099-4a50-a464-856ad4d8d5b5",
     "text": "for i in range(len(a)):\n    if a[i] not in b:\n        a = np.append(a[i],b)"
    },
    "executionTime": "2020-04-09T03:47:30.478Z"
   },
   {
    "cell": {
     "executionCount": 27,
     "executionEventId": "ac429c05-9e03-47f6-b2af-b3a9b66393f1",
     "hasError": false,
     "id": "ef8fc70e-ebf1-4a1a-980f-7fc61bff1c8b",
     "outputs": [
      {
       "data": {
        "text/plain": "array([3, 1, 2, 5, 7, 9])"
       },
       "execution_count": 27,
       "metadata": {},
       "output_type": "execute_result"
      }
     ],
     "persistentId": "766c28c3-28fa-4368-9b97-b2cf69b8d2c8",
     "text": "a"
    },
    "executionTime": "2020-04-09T03:47:32.022Z"
   },
   {
    "cell": {
     "executionCount": 28,
     "executionEventId": "ec92df32-d42a-4043-a194-ef27dfd4c381",
     "hasError": false,
     "id": "e6d82cd7-b2ed-4c77-bd7a-2fa71b98e996",
     "outputs": [],
     "persistentId": "13984171-c099-4a50-a464-856ad4d8d5b5",
     "text": "for i in range(len(a)):\n    if a[i] not in b:\n        b = np.append(b,a[i])"
    },
    "executionTime": "2020-04-09T03:48:07.595Z"
   },
   {
    "cell": {
     "executionCount": 29,
     "executionEventId": "ef382b45-b62f-4903-af5e-999d9e3f17a6",
     "hasError": false,
     "id": "ef8fc70e-ebf1-4a1a-980f-7fc61bff1c8b",
     "outputs": [
      {
       "data": {
        "text/plain": "array([1, 2, 5, 7, 9, 3])"
       },
       "execution_count": 29,
       "metadata": {},
       "output_type": "execute_result"
      }
     ],
     "persistentId": "766c28c3-28fa-4368-9b97-b2cf69b8d2c8",
     "text": "b"
    },
    "executionTime": "2020-04-09T03:48:09.455Z"
   },
   {
    "cell": {
     "executionCount": 30,
     "executionEventId": "4ee8e31f-fb16-45d1-8bde-b5284800b702",
     "hasError": false,
     "id": "ee9c1690-3c2e-4a90-8909-4f94dc46cc52",
     "outputs": [],
     "persistentId": "bf3dfa73-20bb-4f1f-bcce-fcfa030a530c",
     "text": "a = np.array([1,2,3,4,5])"
    },
    "executionTime": "2020-04-09T03:48:19.403Z"
   },
   {
    "cell": {
     "executionCount": 31,
     "executionEventId": "91af5032-e70f-4a37-9452-6e13d965642b",
     "hasError": false,
     "id": "0b8550f1-34d9-4b41-b347-ca9e14e05330",
     "outputs": [],
     "persistentId": "6ed27eaf-9a13-4f2d-a68b-6cca876c9528",
     "text": "b = np.array([1,2,5,7,9])"
    },
    "executionTime": "2020-04-09T03:48:20.573Z"
   },
   {
    "cell": {
     "executionCount": 32,
     "executionEventId": "a80cbdef-fa3e-497b-bc31-88f7caf3624d",
     "hasError": false,
     "id": "e6d82cd7-b2ed-4c77-bd7a-2fa71b98e996",
     "outputs": [],
     "persistentId": "13984171-c099-4a50-a464-856ad4d8d5b5",
     "text": "for i in range(len(a)):\n    if a[i] not in b:\n        b = np.append(b,a[i])"
    },
    "executionTime": "2020-04-09T03:48:21.569Z"
   },
   {
    "cell": {
     "executionCount": 33,
     "executionEventId": "a6828131-4999-4a3d-9564-70bcd910e7a4",
     "hasError": false,
     "id": "ef8fc70e-ebf1-4a1a-980f-7fc61bff1c8b",
     "outputs": [
      {
       "data": {
        "text/plain": "array([1, 2, 5, 7, 9, 3, 4])"
       },
       "execution_count": 33,
       "metadata": {},
       "output_type": "execute_result"
      }
     ],
     "persistentId": "766c28c3-28fa-4368-9b97-b2cf69b8d2c8",
     "text": "b"
    },
    "executionTime": "2020-04-09T03:48:23.087Z"
   },
   {
    "cell": {
     "executionCount": 34,
     "executionEventId": "9c0675f6-d52b-4567-ac26-431025ac9c6a",
     "hasError": false,
     "id": "ef8fc70e-ebf1-4a1a-980f-7fc61bff1c8b",
     "outputs": [
      {
       "data": {
        "text/plain": "array([1, 2, 5, 7, 9, 3, 4])"
       },
       "execution_count": 34,
       "metadata": {},
       "output_type": "execute_result"
      }
     ],
     "persistentId": "766c28c3-28fa-4368-9b97-b2cf69b8d2c8",
     "text": "b"
    },
    "executionTime": "2020-04-09T03:48:24.702Z"
   },
   {
    "cell": {
     "executionCount": 35,
     "executionEventId": "90341f2a-c565-4141-92e9-fd9538edaa1d",
     "hasError": false,
     "id": "ad3117bc-b3dc-4220-b74d-33664f23b551",
     "outputs": [],
     "persistentId": "02f16121-7895-4b2d-b448-5f48407eb681",
     "text": "def Select_tides_star(M33,Rj_MW_M33,Rj_M31_M33):\n    \n    time, total, data = Read(M33)\n    MW_index = np.where(np.sqrt(data['x']**2+data['y']**2+data['z']**2) >= Rj_MW_M33)\n    M31_index = np.where(np.sqrt(data['x']**2+data['y']**2+data['z']**2) >= Rj_M31_M33)\n    total_index = M31_index\n    for i in range(len(MW_index)):\n        if MW_index[i] not in total_index:\n            total_index = np.append(total_index,MW_index[i])\n    tidal_star = data[total_index]\n    \n    return tidal_star"
    },
    "executionTime": "2020-04-09T03:50:54.897Z"
   },
   {
    "cell": {
     "executionCount": 36,
     "executionEventId": "023efc85-2cb7-48a0-8cd2-60e2430cbd58",
     "hasError": false,
     "id": "ef8fc70e-ebf1-4a1a-980f-7fc61bff1c8b",
     "outputs": [
      {
       "data": {
        "text/plain": "array([1, 2, 3, 4, 5])"
       },
       "execution_count": 36,
       "metadata": {},
       "output_type": "execute_result"
      }
     ],
     "persistentId": "766c28c3-28fa-4368-9b97-b2cf69b8d2c8",
     "text": "a"
    },
    "executionTime": "2020-04-09T03:54:02.529Z"
   },
   {
    "cell": {
     "executionCount": 37,
     "executionEventId": "a07fc6c9-6306-4a60-a1e7-2f74d5637ae2",
     "hasError": false,
     "id": "ef8fc70e-ebf1-4a1a-980f-7fc61bff1c8b",
     "outputs": [
      {
       "data": {
        "text/plain": "2"
       },
       "execution_count": 37,
       "metadata": {},
       "output_type": "execute_result"
      }
     ],
     "persistentId": "766c28c3-28fa-4368-9b97-b2cf69b8d2c8",
     "text": "a[1]"
    },
    "executionTime": "2020-04-09T03:54:04.834Z"
   },
   {
    "cell": {
     "executionCount": 38,
     "executionEventId": "91f83483-3581-4bcf-83ab-4e2386427c33",
     "hasError": false,
     "id": "ef8fc70e-ebf1-4a1a-980f-7fc61bff1c8b",
     "outputs": [
      {
       "data": {
        "text/plain": "5"
       },
       "execution_count": 38,
       "metadata": {},
       "output_type": "execute_result"
      }
     ],
     "persistentId": "766c28c3-28fa-4368-9b97-b2cf69b8d2c8",
     "text": "a[-1]"
    },
    "executionTime": "2020-04-09T03:54:08.810Z"
   }
  ],
  "kernelspec": {
   "display_name": "Python 3",
   "language": "python",
   "name": "python3"
  },
  "language_info": {
   "codemirror_mode": {
    "name": "ipython",
    "version": 3
   },
   "file_extension": ".py",
   "mimetype": "text/x-python",
   "name": "python",
   "nbconvert_exporter": "python",
   "pygments_lexer": "ipython3",
   "version": "3.6.7"
  },
  "uuid": "bd5542e3-08c0-4e68-8cda-0bfbff28a134"
 },
 "nbformat": 4,
 "nbformat_minor": 4
}
