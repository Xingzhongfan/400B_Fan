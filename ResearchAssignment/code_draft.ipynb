{
 "cells": [
  {
   "cell_type": "markdown",
   "metadata": {
    "persistent_id": "0eeba52b-933e-40a5-804a-de1ace32c481"
   },
   "source": [
    "## Tidal Debris from M33"
   ]
  },
  {
   "cell_type": "markdown",
   "metadata": {},
   "source": [
    "1. change the mass of sat, select star from the previous Rj."
   ]
  },
  {
   "cell_type": "code",
   "execution_count": 36,
   "metadata": {
    "execution_event_id": "9899d227-0d77-47dc-b893-5a1203793e25",
    "last_executed_text": "import numpy as np\nimport astropy.units as u\nfrom astropy.constants import G\n\n# import plotting modules\nimport matplotlib.pyplot as plt\nimport matplotlib\n%matplotlib inline\n\n# my modules\nfrom ReadFile import Read\n\n# edit CenterOfMass2 to Calculate COM of all components \nfrom CenterOfMass2 import CenterOfMass\n# edit GalaxyMAss to Calculate Mass of all components \nfrom GalaxyMass import ComponentMass\n",
    "persistent_id": "0c0b76d9-3d1a-4a46-859e-e72e8cb5329a"
   },
   "outputs": [],
   "source": [
    "import numpy as np\n",
    "import astropy.units as u\n",
    "from astropy.constants import G\n",
    "\n",
    "# import plotting modules\n",
    "import matplotlib.pyplot as plt\n",
    "import matplotlib\n",
    "%matplotlib inline\n",
    "\n",
    "# my modules\n",
    "from ReadFile import Read\n",
    "\n",
    "# edit CenterOfMass2 to Calculate COM of all components \n",
    "from CenterOfMass2 import CenterOfMass\n",
    "# edit GalaxyMAss to Calculate Mass of all components \n",
    "from GalaxyMass import ComponentMass\n"
   ]
  },
  {
   "cell_type": "code",
   "execution_count": 37,
   "metadata": {
    "execution_event_id": "6b5c5e30-d401-4598-a775-3413bc07943e",
    "last_executed_text": "def Mass_enclose(filename,radius,COMP):\n# function to compute the mass of all particles less than the distance between two Galaxy COM position \n# Inputs:\n#       filename: galaxyfile for input\n#       radius: COM position difference in kpc\n#       COMP: COM positon of each galaxy [x, y, z]\n#       output: Mass in units of Msun. \n    \n    # read in the file \n    time, total, data = Read(filename)\n    \n    # gather particles with the same type and sum up the mass\n    mass = np.round(data[np.sqrt((data['x']-COMP[0])**2+(data['y']-COMP[1])**2+(data['z']-COMP[2])**2) < radius]['m'].sum() * 1e10, 3)\n    \n    # return the mass \n    return mass\n",
    "persistent_id": "5064a642-f2ac-42d6-a048-5b0a9c852881"
   },
   "outputs": [],
   "source": [
    "def Mass_enclose(filename,radius,COMP):\n",
    "# function to compute the mass of all particles less than the distance between two Galaxy COM position \n",
    "# Inputs:\n",
    "#       filename: galaxyfile for input\n",
    "#       radius: COM position difference in kpc\n",
    "#       COMP: COM positon of each galaxy [x, y, z]\n",
    "#       output: Mass in units of Msun. \n",
    "    \n",
    "    # read in the file \n",
    "    time, total, data = Read(filename)\n",
    "    \n",
    "    # gather particles with the same type and sum up the mass\n",
    "    mass = np.round(data[np.sqrt((data['x']-COMP[0])**2+(data['y']-COMP[1])**2+(data['z']-COMP[2])**2) < radius]['m'].sum() * 1e10, 3)\n",
    "    \n",
    "    # return the mass \n",
    "    return mass\n"
   ]
  },
  {
   "cell_type": "code",
   "execution_count": 38,
   "metadata": {
    "execution_event_id": "16b6b157-eff6-41f7-a779-d4bc168eb1fa",
    "last_executed_text": "def Select_tides_star(M33,Rj_MW_M33,Rj_M31_M33,COMP_M33):\n    \"\"\"Select tides star of M33\"\"\"\n    # Inputs:\n    #      M33: each snap file name of M33\n    #      Rj_MW_M33: Jacobi Radius of MW and M33 system\n    #      Rj_M1_M33: Jacobi Radius of M31 and M33 system\n    #      COMP_M33: COM positon of M33 [x, y, z]\n    # Outpur:\n    #      tidal_star list\n    time, total, data = Read(M33)\n    MW_index = np.where(np.sqrt((data['x']-COMP_M33[0])**2+(data['y']-COMP_M33[1])**2+(data['z']-COMP_M33[2])**2) >= Rj_MW_M33)\n    M31_index = np.where(np.sqrt((data['x']-COMP_M33[0])**2+(data['y']-COMP_M33[1])**2+(data['z']-COMP_M33[2])**2) >= Rj_M31_M33)\n    total_index = M31_index\n    for i in range(len(MW_index)):\n        if MW_index[i] not in total_index:\n            total_index = np.append(total_index,MW_index[i])\n    \n    tidal_star_MW = data[MW_index]\n    tidal_star_M31 = data[M31_index]\n    tidal_star_total = data[total_index]\n    \n    return tidal_star_MW, tidal_star_M31, tidal_star_total",
    "persistent_id": "02f16121-7895-4b2d-b448-5f48407eb681"
   },
   "outputs": [],
   "source": [
    "def Select_tides_star(M33,Rj_MW_M33,Rj_M31_M33,COMP_M33):\n",
    "    \"\"\"Select tides star of M33\"\"\"\n",
    "    # Inputs:\n",
    "    #      M33: each snap file name of M33\n",
    "    #      Rj_MW_M33: Jacobi Radius of MW and M33 system\n",
    "    #      Rj_M1_M33: Jacobi Radius of M31 and M33 system\n",
    "    #      COMP_M33: COM positon of M33 [x, y, z]\n",
    "    # Outpur:\n",
    "    #      tidal_star list\n",
    "    time, total, data = Read(M33)\n",
    "    MW_index = np.where(np.sqrt((data['x']-COMP_M33[0])**2+(data['y']-COMP_M33[1])**2+(data['z']-COMP_M33[2])**2) >= Rj_MW_M33)\n",
    "    M31_index = np.where(np.sqrt((data['x']-COMP_M33[0])**2+(data['y']-COMP_M33[1])**2+(data['z']-COMP_M33[2])**2) >= Rj_M31_M33)\n",
    "    total_index = M31_index\n",
    "    for i in range(len(MW_index)):\n",
    "        if MW_index[i] not in total_index:\n",
    "            total_index = np.append(total_index,MW_index[i])\n",
    "    \n",
    "    tidal_star_MW = data[MW_index]\n",
    "    tidal_star_M31 = data[M31_index]\n",
    "    tidal_star_total = data[total_index]\n",
    "    \n",
    "    return tidal_star_MW, tidal_star_M31, tidal_star_total"
   ]
  },
  {
   "cell_type": "code",
   "execution_count": 40,
   "metadata": {
    "execution_event_id": "151206dc-b23a-426c-bdf5-7c9ce045e01b",
    "last_executed_text": "class Snap:\n    \"\"\"This is a class for each Snap with M31, MW, M33\"\"\"\n    \n    def __init__(self,Snap_number):\n        # get the snap file name of MW M31 and M33\n        # Inputs: Snapnumber\n        # self.time unit is Myr\n        \n        self.Snap_number = Snap_number\n        self.MWfilename = \"VLowRes/\" + 'MW' + \"_VLowRes/\" + 'MW' +  \"_{:03d}\".format(self.Snap_number) + \".txt\"\n        self.M31filename = \"VLowRes/\" + 'M31' + \"_VLowRes/\" + 'M31' +  \"_{:03d}\".format(self.Snap_number) + \".txt\"\n        self.M33filename = \"VLowRes/\" + 'M33' + \"_VLowRes/\" + 'M33' +  \"_{:03d}\".format(self.Snap_number) + \".txt\"\n        self.time = Snap_number*10/0.7\n    \n    def COM(self):\n        # Calculate the COM Position of MW, M31 and M33 \n        \n        MW_COM = CenterOfMass(self.MWfilename)\n        M31_COM = CenterOfMass(self.M31filename)\n        M33_COM = CenterOfMass(self.M31filename)\n        \n        # For MW and M31 delta = 0.1 and VelDec = 2\n        # For M33 dalta = 0.1 and VelDec = 4\n        \n        COMP_MW = MW_COM.COM_P(0.1,2)\n        COMP_M31 = M31_COM.COM_P(0.1,2)\n        COMP_M33 = M33_COM.COM_P(0.1,4)\n        self.COMP_MW = COMP_MW.value\n        self.COMP_M31 = COMP_M31.value\n        self.COMP_M33 = COMP_M33.value\n        \n        return self.COMP_MW, self.COMP_M31, self.COMP_M33\n    \n    \n    def COMdiff(self,galaxy1,galaxy2):\n        # Calculate the COM Position distance of two Galaxy\n        \n        COMdiff = np.sqrt((galaxy1[0]-galaxy2[0])**2+(galaxy1[1]-galaxy2[1])**2+(galaxy1[2]-galaxy2[2])**2)        \n        \n        return COMdiff\n    \n    def Total_Mass(self,galaxy_name):\n        # Calculate total Mass of each Galaxy \n        \n        return ComponentMass(galaxy_name) \n    \n    def Mass_enclose(self,PreRjMW_M33,PreRjMW_M31):\n        # Calculate the Mass enclose less than the distance between two Galaxy COM Position\n        \n        #Calculate COM Positoon\n        self.COMP_MW, self.COMP_M31, self.COMP_M33 = self.COM()\n        \n        #Calculate MW_M33 M31_M33 COMP difference\n        self.MW_M33diff = self.COMdiff(self.COMP_MW,self.COMP_M33)\n        self.M31_M33diff = self.COMdiff(self.COMP_M31,self.COMP_M33)\n        \n        #Calculate the mass inclose\n        self.MW_enclose = Mass_enclose(self.MWfilename, self.MW_M33diff,self.COMP_MW)\n        self.M31_enclose = Mass_enclose(self.M31filename, self.M31_M33diff,self.COMP_M31)\n        self.M33_enclose_MW = Mass_enclose(self.M33filename, PreRjMW_M33,self.COMP_M33)\n        self.M33_enclose_M31 = Mass_enclose(self.M33filename, PreRjMW_M31,self.COMP_M33)\n        \n        return self.M31_enclose, self.MW_enclose, self.M33_enclose_MW, self.M33_enclose_M31\n    \n    def Rj(self,PreRjMW_M33=10000,PreRjMW_M31=10000):\n        # Calculate the Jacobi Radius of M31-M33 and MW-M33 system\n        # Rj = r*(Msat/Mhost(<r))**(1/3)\n        # Msat is M33, Mhost is enclose mass of MW and M31\n        self.MWmass = self.Total_Mass(self.MWfilename)\n        self.M31mass = self.Total_Mass(self.M31filename)\n        self.M33mass = self.Total_Mass(self.M33filename)\n        \n        self.COMP_MW, self.COMP_M31, self.COMP_M33 = self.COM()\n        \n        self.MW_M33diff = self.COMdiff(self.COMP_MW,self.COMP_M33)\n        self.M31_M33diff = self.COMdiff(self.COMP_M31,self.COMP_M33)\n        \n        self.M31_enclose, self.MW_enclose, self.M33_enclose_MW, self.M33_enclose_M31= self.Mass_enclose(PreRjMW_M33,PreRjMW_M31)\n        \n        self.Rj_MW_M33 = self.MW_M33diff *(self.M33_enclose_MW/self.MW_enclose)**(1/3)\n        self.Rj_M31_M33 = self.M31_M33diff *(self.M33_enclose_M31/self.M31_enclose)**(1/3)\n        \n        return self.Rj_MW_M33, self.Rj_M31_M33\n    \n    def select_star(self):\n        \n        self.Rj_MW_M33, self.Rj_M31_M33 = self.Rj()\n        \n        self.tidal_star_MW, self.tidal_star_M31, self.tidal_star_total = Select_tides_star(self.M33filename,self.Rj_MW_M33,self.Rj_M31_M33,self.COMP_M33)\n        \n        return self.tidal_star_MW, self.tidal_star_M31, self.tidal_star_total\n",
    "persistent_id": "c19ce159-9811-4a98-b843-6bf704c73071"
   },
   "outputs": [],
   "source": [
    "class Snap:\n",
    "    \"\"\"This is a class for each Snap with M31, MW, M33\"\"\"\n",
    "    \n",
    "    def __init__(self,Snap_number):\n",
    "        # get the snap file name of MW M31 and M33\n",
    "        # Inputs: Snapnumber\n",
    "        # self.time unit is Myr\n",
    "        \n",
    "        self.Snap_number = Snap_number\n",
    "        self.MWfilename = \"VLowRes/\" + 'MW' + \"_VLowRes/\" + 'MW' +  \"_{:03d}\".format(self.Snap_number) + \".txt\"\n",
    "        self.M31filename = \"VLowRes/\" + 'M31' + \"_VLowRes/\" + 'M31' +  \"_{:03d}\".format(self.Snap_number) + \".txt\"\n",
    "        self.M33filename = \"VLowRes/\" + 'M33' + \"_VLowRes/\" + 'M33' +  \"_{:03d}\".format(self.Snap_number) + \".txt\"\n",
    "        self.time = Snap_number*10/0.7\n",
    "    \n",
    "    def COM(self):\n",
    "        # Calculate the COM Position of MW, M31 and M33 \n",
    "        \n",
    "        MW_COM = CenterOfMass(self.MWfilename)\n",
    "        M31_COM = CenterOfMass(self.M31filename)\n",
    "        M33_COM = CenterOfMass(self.M31filename)\n",
    "        \n",
    "        # For MW and M31 delta = 0.1 and VelDec = 2\n",
    "        # For M33 dalta = 0.1 and VelDec = 4\n",
    "        \n",
    "        COMP_MW = MW_COM.COM_P(0.1,2)\n",
    "        COMP_M31 = M31_COM.COM_P(0.1,2)\n",
    "        COMP_M33 = M33_COM.COM_P(0.1,4)\n",
    "        self.COMP_MW = COMP_MW.value\n",
    "        self.COMP_M31 = COMP_M31.value\n",
    "        self.COMP_M33 = COMP_M33.value\n",
    "        \n",
    "        return self.COMP_MW, self.COMP_M31, self.COMP_M33\n",
    "    \n",
    "    \n",
    "    def COMdiff(self,galaxy1,galaxy2):\n",
    "        # Calculate the COM Position distance of two Galaxy\n",
    "        \n",
    "        COMdiff = np.sqrt((galaxy1[0]-galaxy2[0])**2+(galaxy1[1]-galaxy2[1])**2+(galaxy1[2]-galaxy2[2])**2)        \n",
    "        \n",
    "        return COMdiff\n",
    "    \n",
    "    def Total_Mass(self,galaxy_name):\n",
    "        # Calculate total Mass of each Galaxy \n",
    "        \n",
    "        return ComponentMass(galaxy_name) \n",
    "    \n",
    "    def Mass_enclose(self,PreRjMW_M33,PreRjMW_M31):\n",
    "        # Calculate the Mass enclose less than the distance between two Galaxy COM Position\n",
    "        \n",
    "        #Calculate COM Positoon\n",
    "        self.COMP_MW, self.COMP_M31, self.COMP_M33 = self.COM()\n",
    "        \n",
    "        #Calculate MW_M33 M31_M33 COMP difference\n",
    "        self.MW_M33diff = self.COMdiff(self.COMP_MW,self.COMP_M33)\n",
    "        self.M31_M33diff = self.COMdiff(self.COMP_M31,self.COMP_M33)\n",
    "        \n",
    "        #Calculate the mass inclose\n",
    "        self.MW_enclose = Mass_enclose(self.MWfilename, self.MW_M33diff,self.COMP_MW)\n",
    "        self.M31_enclose = Mass_enclose(self.M31filename, self.M31_M33diff,self.COMP_M31)\n",
    "        self.M33_enclose_MW = Mass_enclose(self.M33filename, PreRjMW_M33,self.COMP_M33)\n",
    "        self.M33_enclose_M31 = Mass_enclose(self.M33filename, PreRjMW_M31,self.COMP_M33)\n",
    "        \n",
    "        return self.M31_enclose, self.MW_enclose, self.M33_enclose_MW, self.M33_enclose_M31\n",
    "    \n",
    "    def Rj(self,PreRjMW_M33=10000,PreRjMW_M31=10000):\n",
    "        # Calculate the Jacobi Radius of M31-M33 and MW-M33 system\n",
    "        # Rj = r*(Msat/Mhost(<r))**(1/3)\n",
    "        # Msat is M33, Mhost is enclose mass of MW and M31\n",
    "        self.MWmass = self.Total_Mass(self.MWfilename)\n",
    "        self.M31mass = self.Total_Mass(self.M31filename)\n",
    "        self.M33mass = self.Total_Mass(self.M33filename)\n",
    "        \n",
    "        self.COMP_MW, self.COMP_M31, self.COMP_M33 = self.COM()\n",
    "        \n",
    "        self.MW_M33diff = self.COMdiff(self.COMP_MW,self.COMP_M33)\n",
    "        self.M31_M33diff = self.COMdiff(self.COMP_M31,self.COMP_M33)\n",
    "        \n",
    "        self.M31_enclose, self.MW_enclose, self.M33_enclose_MW, self.M33_enclose_M31= self.Mass_enclose(PreRjMW_M33,PreRjMW_M31)\n",
    "        \n",
    "        self.Rj_MW_M33 = self.MW_M33diff *(self.M33_enclose_MW/self.MW_enclose)**(1/3)\n",
    "        self.Rj_M31_M33 = self.M31_M33diff *(self.M33_enclose_M31/self.M31_enclose)**(1/3)\n",
    "        \n",
    "        return self.Rj_MW_M33, self.Rj_M31_M33\n",
    "    \n",
    "    def select_star(self):\n",
    "        \n",
    "        self.Rj_MW_M33, self.Rj_M31_M33 = self.Rj()\n",
    "        \n",
    "        self.tidal_star_MW, self.tidal_star_M31, self.tidal_star_total = Select_tides_star(self.M33filename,self.Rj_MW_M33,self.Rj_M31_M33,self.COMP_M33)\n",
    "        \n",
    "        return self.tidal_star_MW, self.tidal_star_M31, self.tidal_star_total\n"
   ]
  },
  {
   "cell_type": "code",
   "execution_count": 59,
   "metadata": {
    "execution_event_id": "d8ec1554-7974-44ae-bf22-205dcd255090",
    "last_executed_text": "t = Snap(1)",
    "persistent_id": "089ba10f-5132-447a-b512-d5392113a174"
   },
   "outputs": [],
   "source": [
    "t = Snap(1)"
   ]
  },
  {
   "cell_type": "code",
   "execution_count": 60,
   "metadata": {
    "execution_event_id": "2ad27a21-a820-4bab-a48e-bc9b96f2aca0",
    "last_executed_text": "t.COM()",
    "persistent_id": "6bfb21a5-851e-441a-80f3-528b3180adbe"
   },
   "outputs": [
    {
     "data": {
      "text/plain": [
       "(array([-2.04,  3.12, -1.49]),\n",
       " array([-376.07,  609.98, -283.97]),\n",
       " array([-376.17,  610.11, -283.89]))"
      ]
     },
     "execution_count": 60,
     "metadata": {},
     "output_type": "execute_result"
    }
   ],
   "source": [
    "t.COM()"
   ]
  },
  {
   "cell_type": "code",
   "execution_count": 28,
   "metadata": {
    "execution_event_id": "f6dd2fc5-8c05-43f0-bd95-18b13e9ba24d",
    "last_executed_text": "np.sqrt((-293.22-(-281.11))**2 + (505.09-501.26)**2 +(-215-(-211.09))**2)",
    "persistent_id": "682df9b6-67ca-4e91-8bf9-544063254ed6"
   },
   "outputs": [
    {
     "data": {
      "text/plain": [
       "13.289435653932042"
      ]
     },
     "execution_count": 28,
     "metadata": {},
     "output_type": "execute_result"
    }
   ],
   "source": [
    "np.sqrt((-293.22-(-281.11))**2 + (505.09-501.26)**2 +(-215-(-211.09))**2)"
   ]
  },
  {
   "cell_type": "code",
   "execution_count": 29,
   "metadata": {
    "execution_event_id": "94df4590-8744-4a42-8348-886b615a6755",
    "last_executed_text": "t.Mass_enclose(10000,10000)",
    "persistent_id": "8862a6d1-7d55-4adc-804b-3a6418fb515c"
   },
   "outputs": [
    {
     "data": {
      "text/plain": [
       "(80708083740.0, 1724423737999.999, 195913000000.0, 195913000000.0)"
      ]
     },
     "execution_count": 29,
     "metadata": {},
     "output_type": "execute_result"
    }
   ],
   "source": [
    "t.Mass_enclose(10000,10000)"
   ]
  },
  {
   "cell_type": "code",
   "execution_count": 61,
   "metadata": {
    "execution_event_id": "2978548c-4546-464a-a527-df3b034c706e",
    "last_executed_text": "a,b = t.Rj()",
    "persistent_id": "6a604084-d72d-4d1e-80fe-fc44e4aafe90"
   },
   "outputs": [],
   "source": [
    "a,b = t.Rj()"
   ]
  },
  {
   "cell_type": "code",
   "execution_count": 63,
   "metadata": {
    "execution_event_id": "f8157916-cce6-4161-8ba9-0c32432f5e39",
    "last_executed_text": "a,b",
    "persistent_id": "3783232f-adf8-4937-a214-1619d194bdb1"
   },
   "outputs": [
    {
     "data": {
      "text/plain": [
       "(366.77148899551594, 1.444741393735398)"
      ]
     },
     "execution_count": 63,
     "metadata": {},
     "output_type": "execute_result"
    }
   ],
   "source": [
    "a,b"
   ]
  },
  {
   "cell_type": "code",
   "execution_count": 32,
   "metadata": {
    "execution_event_id": "56d08f64-a601-4ea7-bb9d-3b7825f13b09",
    "last_executed_text": "starMW = []\nstarM31 = []\nstarT = []\nstarMW,starM31,starT = t.select_star()",
    "persistent_id": "c12d0638-a9a6-444b-8f11-b464b56e0ac5"
   },
   "outputs": [
    {
     "name": "stderr",
     "output_type": "stream",
     "text": [
      "/anaconda3/lib/python3.6/site-packages/ipykernel_launcher.py:15: DeprecationWarning: elementwise comparison failed; this will raise an error in the future.\n",
      "  from ipykernel import kernelapp as app\n"
     ]
    }
   ],
   "source": [
    "starMW = []\n",
    "starM31 = []\n",
    "starT = []\n",
    "starMW,starM31,starT = t.select_star()"
   ]
  },
  {
   "cell_type": "code",
   "execution_count": 33,
   "metadata": {
    "execution_event_id": "bb7d0ae5-0fcb-4ed4-ac7b-333b0c5e5770",
    "last_executed_text": "len(starMW)",
    "persistent_id": "e5253a2e-744f-4d93-945c-33a7b299e9a7"
   },
   "outputs": [
    {
     "data": {
      "text/plain": [
       "682"
      ]
     },
     "execution_count": 33,
     "metadata": {},
     "output_type": "execute_result"
    }
   ],
   "source": [
    "len(starMW)"
   ]
  },
  {
   "cell_type": "code",
   "execution_count": 34,
   "metadata": {
    "execution_event_id": "095713a7-2b8b-4a93-8691-87b6b7f4df42",
    "last_executed_text": "len(starM31)",
    "persistent_id": "decda1c2-9f31-4011-baa1-cc2000519aa2"
   },
   "outputs": [
    {
     "data": {
      "text/plain": [
       "14300"
      ]
     },
     "execution_count": 34,
     "metadata": {},
     "output_type": "execute_result"
    }
   ],
   "source": [
    "len(starM31)"
   ]
  },
  {
   "cell_type": "code",
   "execution_count": 35,
   "metadata": {
    "execution_event_id": "00cfcfb6-741f-4d0d-b780-6cd1d0aafdea",
    "last_executed_text": "len(starT)",
    "persistent_id": "805cf101-458e-4f9d-b006-28cd1484e001"
   },
   "outputs": [
    {
     "data": {
      "text/plain": [
       "14982"
      ]
     },
     "execution_count": 35,
     "metadata": {},
     "output_type": "execute_result"
    }
   ],
   "source": [
    "len(starT)"
   ]
  },
  {
   "cell_type": "code",
   "execution_count": 62,
   "metadata": {
    "collapsed": true,
    "execution_event_id": "95ef9214-510e-4181-a8c2-296b40c42868",
    "jupyter": {
     "outputs_hidden": true
    },
    "last_executed_text": "starMW",
    "persistent_id": "d15fe194-ced5-4713-8396-afd0e0688dc1"
   },
   "outputs": [
    {
     "data": {
      "text/plain": [
       "array([(1., 0.00373226,  6.83653e+02,  2.29640e+03, -3.54354e+02,   40.6226  ,  9.61086e+01, 139.611  ),\n",
       "       (1., 0.00373226, -2.62424e+02,  7.93488e+02, -5.97544e+02,   26.5387  ,  4.50087e+01, 191.095  ),\n",
       "       (1., 0.00373226, -1.64494e+02,  8.20262e+02, -4.05828e+02,   34.4837  ,  2.97120e+01, 211.802  ),\n",
       "       (1., 0.00373226, -3.84501e+01,  6.88735e+02, -2.02983e+02,  -29.6997  ,  4.33915e+01, 197.602  ),\n",
       "       (1., 0.00373226,  9.92978e+01,  6.46916e+02,  1.90658e+02,    9.28519 ,  7.04353e+01, 109.076  ),\n",
       "       (1., 0.00373226, -1.21197e+03,  1.06697e+03, -3.28748e+02,   57.4902  ,  9.32989e+01, 142.081  ),\n",
       "       (1., 0.00373226, -7.22843e+01,  7.14133e+02, -3.66019e+02,   22.7158  ,  5.90773e+01, 172.28   ),\n",
       "       (1., 0.00373226, -2.75159e+02,  6.19999e+02, -5.09058e+02,   69.3152  ,  7.95585e+01, 189.682  ),\n",
       "       (1., 0.00373226, -1.27960e+03,  7.47316e+01, -7.24678e+02,   53.8462  ,  1.04984e+02, 145.262  ),\n",
       "       (1., 0.00373226, -5.53770e+02,  9.13253e+02, -2.82730e+02,   72.8529  ,  6.23585e+01, 164.905  ),\n",
       "       (1., 0.00373226, -7.81842e+02,  5.43718e+02,  7.73678e+00,   90.1114  ,  6.72236e+01, 152.544  ),\n",
       "       (1., 0.00373226,  4.68559e+02,  3.28003e+02, -1.60899e+02,    2.81659 ,  9.46049e+01, 152.443  ),\n",
       "       (1., 0.00373226, -4.91257e+02,  9.18550e+02, -3.67006e+02,   69.5659  ,  6.83363e+01, 195.931  ),\n",
       "       (1., 0.00373226, -4.22767e+02, -3.01961e+02, -1.07762e+03,   46.0813  ,  1.08710e+02, 150.321  ),\n",
       "       (1., 0.00373226, -7.27680e+02,  1.47447e+02, -1.83202e+02,   77.9384  ,  1.21440e+02, 145.284  ),\n",
       "       (1., 0.00373226, -1.24753e+02,  1.58599e+03, -7.77449e+01,   40.9655  ,  8.29363e+01, 138.416  ),\n",
       "       (1., 0.00373226, -8.45719e+02,  7.36463e+02, -4.57715e+02,   75.1346  ,  1.12374e+02, 141.159  ),\n",
       "       (1., 0.00373226, -1.44170e+03,  1.00162e+03,  2.54056e+02,   53.9191  ,  9.67666e+01, 135.751  ),\n",
       "       (1., 0.00373226, -6.13815e+02,  3.77964e+02, -2.14702e+02,   68.2603  ,  1.22304e+02, 146.564  ),\n",
       "       (1., 0.00373226, -5.29189e+02,  7.75858e+02, -3.08084e+02,   85.7261  ,  1.15757e+01, 184.356  ),\n",
       "       (1., 0.00373226, -3.13537e+01,  2.03880e+02, -3.76578e+01,   27.7928  ,  3.05013e+01, 227.116  ),\n",
       "       (1., 0.00373226, -4.67361e+02,  8.15279e+02, -3.11359e+02,   78.969   ,  6.52553e+01, 198.615  ),\n",
       "       (1., 0.00373226, -4.60340e+02,  7.45644e+02, -2.70241e+02,  170.704   ,  8.33855e+01, 167.218  ),\n",
       "       (1., 0.00373226, -7.06535e+02,  6.21337e+02,  9.58328e+01,   83.7982  ,  1.07611e+02,  98.1918 ),\n",
       "       (1., 0.00373226,  6.88338e+01,  8.06352e+02, -7.38407e+01,   16.3956  ,  6.22022e+01, 126.437  ),\n",
       "       (1., 0.00373226, -2.11503e+02,  7.89089e+02, -5.90612e+02,    6.66748 ,  7.99146e+01, 174.871  ),\n",
       "       (1., 0.00373226, -4.17282e+02,  8.63642e+02, -4.36781e+02,   73.9425  ,  1.00899e+02, 160.862  ),\n",
       "       (1., 0.00373226, -1.36985e+02,  5.35356e+02,  1.29422e+02,   -4.35303 ,  9.83420e+01,  73.4708 ),\n",
       "       (1., 0.00373226, -1.36122e+02,  7.51785e+02,  2.34928e+01,   13.6653  ,  5.47741e+01,  67.6523 ),\n",
       "       (1., 0.00373226, -5.92737e+02,  5.92342e+02, -3.16349e+02,  124.528   ,  9.46803e+01, 167.242  ),\n",
       "       (1., 0.00373226,  3.12555e+03,  4.03598e+03, -1.48412e+03,   42.4255  ,  1.00546e+02, 139.096  ),\n",
       "       (1., 0.00373226, -6.03118e+02,  6.26174e+02,  8.88955e+01,  121.974   ,  6.72492e+01,  68.7172 ),\n",
       "       (1., 0.00373226, -4.59938e+02,  1.83402e+03,  2.07313e+03,   43.5188  ,  9.91342e+01, 135.659  ),\n",
       "       (1., 0.00373226, -5.91389e+02,  9.37541e+02,  3.24674e+01,   59.6343  ,  6.90161e+01, 114.381  ),\n",
       "       (1., 0.00373226, -4.87574e+02,  7.99424e+02,  7.33959e+02,   50.568   ,  9.24107e+01, 118.865  ),\n",
       "       (1., 0.00373226, -2.24505e+02,  7.84662e+02, -5.08421e+02,   26.9212  ,  4.56908e+01, 174.503  ),\n",
       "       (1., 0.00373226, -6.92681e+02,  5.15270e+02,  9.08327e+01,   88.7816  ,  1.11873e+02, 141.491  ),\n",
       "       (1., 0.00373226, -2.97100e+02,  9.35954e+02,  4.27569e+02,   46.5764  ,  7.85219e+01, 110.192  ),\n",
       "       (1., 0.00373226, -1.26517e+00,  5.60380e+02, -1.77049e+02,  -36.0009  ,  7.39668e+01, 179.127  ),\n",
       "       (1., 0.00373226, -3.59894e+02,  9.65674e+02, -1.53009e+02,   71.9541  ,  3.21417e+01, 147.96   ),\n",
       "       (1., 0.00373226, -2.12577e+02,  9.67861e+02, -2.94298e+02,   13.1754  ,  6.14363e+01, 139.556  ),\n",
       "       (1., 0.00373226, -6.17031e+02,  1.00401e+03, -6.67772e+01,   85.16    ,  4.68422e+01, 149.321  ),\n",
       "       (1., 0.00373226, -8.42832e+02, -5.15598e+01,  1.01540e+03,   50.2845  ,  1.04976e+02, 128.574  ),\n",
       "       (1., 0.00373226, -6.72082e+02,  8.79341e+02, -2.32483e+02,  111.487   ,  5.56440e+01, 127.997  ),\n",
       "       (1., 0.00373226, -8.91116e+02,  2.23395e+03,  1.31737e+03,   44.3988  ,  9.78927e+01, 136.206  ),\n",
       "       (1., 0.00373226,  6.06395e+02,  9.95509e+02,  9.53068e+02,   36.6992  ,  9.56862e+01, 130.426  ),\n",
       "       (1., 0.00373226, -5.22443e+02,  7.82138e+02, -3.17567e+02,  130.328   ,  5.44101e+01, 171.103  ),\n",
       "       (1., 0.00373226,  1.17322e+02,  5.70627e+02, -4.02636e+02,    2.34776 ,  9.05602e+01, 175.476  ),\n",
       "       (1., 0.00373226, -1.03538e+03,  1.83759e+01, -1.13160e+02,   63.36    ,  1.10842e+02, 139.898  ),\n",
       "       (1., 0.00373226,  1.01851e+02, -1.35205e+03,  2.28694e+03,   42.8493  ,  1.03122e+02, 136.239  ),\n",
       "       (1., 0.00373226, -5.53770e+02,  9.13253e+02, -2.82730e+02,   72.8529  ,  6.23585e+01, 164.905  ),\n",
       "       (1., 0.00373226, -2.00398e+03,  1.36180e+03, -6.79871e+02,   47.9177  ,  9.88779e+01, 140.419  ),\n",
       "       (1., 0.00373226, -3.93291e+02,  9.62987e+02, -4.80340e+02,   63.0074  ,  5.40242e+01, 178.232  ),\n",
       "       (1., 0.00373226, -4.97267e+02,  6.74265e+02, -4.44704e+02,  117.655   ,  8.99014e+01, 176.29   ),\n",
       "       (1., 0.00373226, -4.58573e+02,  7.78345e+02, -2.56908e+02,  165.787   ,  2.47723e+01, 139.255  ),\n",
       "       (1., 0.00373226, -1.21755e+03,  6.43273e+02,  1.84453e+02,   61.4148  ,  9.86174e+01, 133.657  ),\n",
       "       (1., 0.00373226, -5.74841e+02,  4.09526e+02,  1.45674e+03,   45.9018  ,  1.00857e+02, 129.384  ),\n",
       "       (1., 0.00373226, -1.37054e+02,  7.92415e+02,  7.35977e+02,   42.3683  ,  9.00299e+01, 116.551  ),\n",
       "       (1., 0.00373226, -4.26027e+02,  8.34758e+02, -1.20839e+02,   94.5692  , -1.60804e-01,  91.3927 ),\n",
       "       (1., 0.00373226, -4.45565e+02,  7.30977e+02, -9.53839e+01,  184.365   ,  3.45584e+01, 145.944  ),\n",
       "       (1., 0.00373226, -1.83774e+02,  9.37326e+02, -5.26320e+01,   38.1722  ,  3.67343e+01,  95.6095 ),\n",
       "       (1., 0.00373226, -7.23523e+02,  8.74844e+02, -1.91956e+02,   79.3111  ,  6.91133e+01, 167.43   ),\n",
       "       (1., 0.00373226, -7.64174e+02,  1.23457e+03,  4.75508e+01,   58.4583  ,  8.07233e+01, 133.792  ),\n",
       "       (1., 0.00373226, -6.85515e+01,  6.84992e+02, -3.37546e+02,    0.63128 ,  6.60059e+01, 213.508  ),\n",
       "       (1., 0.00373226, -2.16046e+02,  8.02128e+02, -2.57451e+02,   -1.04748 , -2.65726e+01, 183.264  ),\n",
       "       (1., 0.00373226, -3.64106e+02,  8.69818e+02, -3.50548e+02,   38.5252  ,  3.04309e+01, 197.14   ),\n",
       "       (1., 0.00373226, -2.34627e+02,  2.93767e+02,  1.80702e+02,   83.7712  ,  1.05094e+02, 102.915  ),\n",
       "       (1., 0.00373226,  1.18223e+02,  7.86962e+01,  8.34965e+01, -151.811   ,  1.20694e+02, 140.44   ),\n",
       "       (1., 0.00373226, -6.70570e+02,  4.60831e+02,  1.91565e+01,   95.8484  ,  9.36625e+01, 138.207  ),\n",
       "       (1., 0.00373226, -4.79092e+02,  1.19767e+03, -1.49891e+01,   58.3105  ,  7.82802e+01, 163.256  ),\n",
       "       (1., 0.00373226,  1.05620e+03, -1.90235e+02, -1.06209e+03,   36.9055  ,  1.03909e+02, 144.349  ),\n",
       "       (1., 0.00373226, -6.92191e+01,  1.08898e+03, -5.27304e+02,   32.9841  ,  7.42717e+01, 159.823  ),\n",
       "       (1., 0.00373226,  1.11358e+03,  6.70990e+02,  4.28635e+01,   30.0434  ,  9.75116e+01, 138.268  ),\n",
       "       (1., 0.00373226, -3.81765e+02,  1.33240e+03, -1.11572e+02,   47.5383  ,  7.07580e+01, 138.656  ),\n",
       "       (1., 0.00373226, -4.31347e+02,  6.59686e+02, -5.82464e+02,   67.46    ,  1.33110e+02, 181.234  ),\n",
       "       (1., 0.00373226, -3.98200e+02,  7.73065e+02, -3.01404e+02,   64.7422  ,  6.81287e+01, 244.902  ),\n",
       "       (1., 0.00373226, -2.08953e+02,  1.16932e+03,  7.91324e+02,   43.275   ,  9.03298e+01, 125.717  ),\n",
       "       (1., 0.00373226, -8.37599e+02,  1.43424e+03, -8.99328e+02,   48.4774  ,  9.29785e+01, 146.053  ),\n",
       "       (1., 0.00373226,  2.06343e+02,  1.10420e+03, -2.39284e+02,   23.814   ,  7.64202e+01, 144.853  ),\n",
       "       (1., 0.00373226, -5.23615e+02,  9.61558e+02, -3.23338e+01,  108.582   ,  4.02642e+01, 137.991  ),\n",
       "       (1., 0.00373226, -4.64581e+02,  7.36108e+02, -3.94656e+02,   85.8842  ,  7.58188e+01, 170.27   ),\n",
       "       (1., 0.00373226, -1.34523e+03,  5.52780e+01, -7.72073e+01,   57.2518  ,  1.05918e+02, 138.877  ),\n",
       "       (1., 0.00373226,  6.68050e+02,  1.11462e+03, -1.17363e+03,   37.7279  ,  9.70339e+01, 145.731  ),\n",
       "       (1., 0.00373226, -4.08309e+02,  2.24152e+02, -2.67873e+02,   78.5791  ,  1.35103e+02, 183.385  ),\n",
       "       (1., 0.00373226, -5.77872e+02,  4.93110e+02, -1.19726e+02,  138.169   ,  1.39054e+02, 127.287  ),\n",
       "       (1., 0.00373226, -2.21735e+02,  8.62468e+02, -3.61808e+02,   17.0915  ,  2.91174e+01, 153.261  ),\n",
       "       (1., 0.00373226, -8.71187e+02,  2.56210e+03, -1.16998e+03,   44.2046  ,  9.77091e+01, 140.673  ),\n",
       "       (1., 0.00373226,  1.11447e+02,  2.75737e+02, -8.96943e+02,   35.2318  ,  1.04709e+02, 161.579  ),\n",
       "       (1., 0.00373226, -7.41499e+02,  1.54110e+01,  4.85148e+02,   61.7189  ,  1.10449e+02, 123.795  ),\n",
       "       (1., 0.00373226, -2.53800e+02,  7.67414e+02, -6.66813e+01,   53.097   , -5.54619e+01, 121.94   ),\n",
       "       (1., 0.00373226, -1.14318e+02,  2.26239e+02,  6.89963e+01,   87.9196  ,  3.97777e+01, 134.205  ),\n",
       "       (1., 0.00373226,  5.12131e+01,  8.82816e+02, -3.21525e+02,   26.1767  ,  6.25235e+01, 143.561  ),\n",
       "       (1., 0.00373226, -6.71298e+02,  5.21384e+02,  1.33256e+02,   99.15    ,  1.34364e+02, 114.972  ),\n",
       "       (1., 0.00373226, -3.77875e+02,  8.18265e+02, -3.52306e+01,   89.097   , -1.17555e+01, 137.183  ),\n",
       "       (1., 0.00373226, -1.65930e+02,  1.55129e+02, -1.62156e+02,   53.4939  ,  1.36560e+02, 226.638  ),\n",
       "       (1., 0.00373226, -6.58439e+01,  1.00812e+03,  4.35452e+01,   58.8584  ,  3.54321e+01, 121.94   ),\n",
       "       (1., 0.00373226,  3.40346e+01,  8.83392e+02, -1.07302e+03,   38.7907  ,  9.47975e+01, 154.899  ),\n",
       "       (1., 0.00373226, -8.07544e+02,  4.89903e+02, -2.43669e+02,   83.778   ,  1.06847e+02, 145.072  ),\n",
       "       (1., 0.00373226, -6.58274e+02,  5.32980e+02, -2.02151e+02,   85.7509  ,  1.22043e+02, 148.9    ),\n",
       "       (1., 0.00373226,  8.43655e+02, -3.31014e+02, -2.73877e+01,   27.0006  ,  1.10749e+02, 140.04   ),\n",
       "       (1., 0.00373226, -4.18949e+02,  6.81939e+02,  3.58053e+02,   82.3911  ,  9.44283e+01, 128.239  ),\n",
       "       (1., 0.00373226, -5.06098e+02,  7.48606e+02, -2.26933e+02,  117.565   ,  1.77512e+01, 177.528  ),\n",
       "       (1., 0.00373226, -1.41396e+02,  8.40393e+02,  1.88556e+00,  -38.9505  ,  5.09433e+01, 147.629  ),\n",
       "       (1., 0.00373226, -1.77414e+02,  1.10373e+03, -5.35262e+02,   37.9731  ,  7.24741e+01, 161.389  ),\n",
       "       (1., 0.00373226, -1.53377e+03, -1.39510e+02, -5.98317e+02,   51.4925  ,  1.04737e+02, 142.176  ),\n",
       "       (1., 0.00373226, -5.31622e+02,  6.60229e+02, -2.92911e+02,  133.168   ,  1.18702e+02, 135.661  ),\n",
       "       (1., 0.00373226, -4.75180e+02,  6.29976e+02, -4.27294e+02,  111.321   ,  1.08130e+02, 168.783  ),\n",
       "       (1., 0.00373226, -9.16633e+01,  6.07311e+02, -5.27894e+02,  -29.1549  ,  9.13182e+01, 183.68   ),\n",
       "       (1., 0.00373226, -5.26102e+02,  1.30471e+03, -2.47284e+02,   52.7733  ,  7.33820e+01, 143.67   ),\n",
       "       (1., 0.00373226, -2.14968e+02,  1.05937e+03,  1.65668e+02,   38.7191  ,  6.03614e+01, 115.137  ),\n",
       "       (1., 0.00373226, -6.67594e+02,  6.49479e+02,  2.02963e+01,   97.5139  ,  1.14707e+02, 165.67   ),\n",
       "       (1., 0.00373226, -9.64564e+02, -6.51542e+02,  8.25217e+02,   48.7317  ,  1.07482e+02, 133.37   ),\n",
       "       (1., 0.00373226, -6.38524e+02,  1.45746e+03, -1.45943e+02,   51.2368  ,  8.19301e+01, 139.542  ),\n",
       "       (1., 0.00373226, -4.37191e+02,  7.94908e+02, -2.48753e+02,  158.938   ,  8.57431e+01, 213.791  ),\n",
       "       (1., 0.00373226, -1.73733e+03,  1.22992e+02, -7.33305e+02,   50.4919  ,  1.02801e+02, 141.985  ),\n",
       "       (1., 0.00373226, -5.10915e+02,  7.73054e+02, -3.62944e+02,  133.645   ,  4.24213e+01, 153.989  ),\n",
       "       (1., 0.00373226, -5.71551e+02,  6.64974e+02, -2.27699e+02,  135.689   ,  7.61556e+01, 164.505  ),\n",
       "       (1., 0.00373226, -6.21653e+02, -2.85192e+02,  6.52651e+02,   54.053   ,  1.12284e+02, 125.848  ),\n",
       "       (1., 0.00373226, -1.54299e+03,  7.40400e+02, -6.00809e+02,   53.2984  ,  9.93737e+01, 142.735  ),\n",
       "       (1., 0.00373226, -1.46188e+02,  1.07262e+03,  1.32859e+03,   43.0177  ,  9.68058e+01, 129.828  ),\n",
       "       (1., 0.00373226, -6.23150e+02,  5.75096e+02, -3.55552e+02,  107.49    ,  1.43233e+02, 191.136  ),\n",
       "       (1., 0.00373226, -5.96869e+02,  3.99147e+02, -3.05320e+02,  112.918   ,  1.23558e+02, 156.232  ),\n",
       "       (1., 0.00373226, -6.16112e+02,  6.00517e+02,  9.11891e+01,  110.581   ,  7.97412e+01, 120.35   ),\n",
       "       (1., 0.00373226, -6.41807e+02,  3.42504e+02, -2.78466e+02,   74.3499  ,  1.23030e+02, 186.833  ),\n",
       "       (1., 0.00373226, -7.30524e+02,  6.87214e+02, -1.58868e+02,   69.5497  ,  6.02055e+01, 147.455  ),\n",
       "       (1., 0.00373226, -5.59989e+02,  1.02976e+03, -3.44377e+02,   81.6465  ,  8.98960e+01, 156.576  ),\n",
       "       (1., 0.00373226, -3.05889e+03,  8.58167e+02,  2.11307e+03,   44.6488  ,  1.01018e+02, 137.638  ),\n",
       "       (1., 0.00373226, -7.67351e+02,  1.27805e+03, -3.99197e+02,   55.8104  ,  8.31378e+01, 145.967  ),\n",
       "       (1., 0.00373226, -6.21731e+02,  4.39762e+02, -6.39997e+02,   61.6036  ,  7.76261e+01, 142.686  ),\n",
       "       (1., 0.00373226, -5.86393e+02,  1.51029e+03,  1.09695e+02,   49.0886  ,  8.38542e+01, 134.923  ),\n",
       "       (1., 0.00373226, -6.04356e+02,  5.90693e+02, -2.92269e+02,  107.424   ,  6.59828e+01, 207.941  ),\n",
       "       (1., 0.00373226, -5.79940e+02,  2.52696e+02,  2.46824e+02,   79.2511  ,  1.13348e+02, 112.932  ),\n",
       "       (1., 0.00373226,  9.17675e+02, -3.85260e+03, -1.53018e+03,   42.7914  ,  1.02428e+02, 139.229  ),\n",
       "       (1., 0.00373226,  8.08713e+02,  1.12684e+03, -7.09695e+02,   34.3998  ,  9.51397e+01, 144.488  ),\n",
       "       (1., 0.00373226, -5.54869e+02,  7.18024e+02, -1.81647e+02,  157.489   ,  8.39182e+01, 151.898  ),\n",
       "       (1., 0.00373226, -8.31245e+02,  1.23030e+03, -2.60307e+02,   58.8523  ,  8.26796e+01, 142.757  ),\n",
       "       (1., 0.00373226, -5.60157e+02, -6.11332e+02, -6.00121e+02,   49.0466  ,  1.13512e+02, 146.62   ),\n",
       "       (1., 0.00373226, -4.47082e+02,  7.96202e+02, -2.12318e+02,  177.25    ,  4.27074e+01, 163.631  ),\n",
       "       (1., 0.00373226, -1.33546e+02,  7.16530e+02, -5.46646e+01,  -90.2906  ,  6.56941e+01, 106.986  ),\n",
       "       (1., 0.00373226, -5.02993e+02,  7.22689e+02, -3.17012e+01,  167.138   ,  5.91574e+01,  90.3624 ),\n",
       "       (1., 0.00373226, -2.05357e+02,  8.00883e+02, -2.47549e+02,  -57.4454  ,  3.28561e+01, 198.357  ),\n",
       "       (1., 0.00373226,  4.93775e+02,  4.61806e+02, -9.94591e+02,   33.739   ,  1.00293e+02, 152.122  ),\n",
       "       (1., 0.00373226,  6.42640e+02,  8.56031e+02, -5.65840e+02,   28.6697  ,  9.35691e+01, 147.72   ),\n",
       "       (1., 0.00373226, -6.79918e+02,  7.97666e+02, -2.91291e+02,   79.3349  ,  6.89986e+01, 158.505  ),\n",
       "       (1., 0.00373226, -5.76056e+02,  1.30896e+03,  4.12482e+02,   49.9847  ,  8.50284e+01, 128.202  ),\n",
       "       (1., 0.00373226, -4.34362e+02,  1.26056e+03, -3.28943e+02,   50.3552  ,  7.01324e+01, 148.329  ),\n",
       "       (1., 0.00373226, -4.72070e+02,  2.21272e+02, -1.37227e+02,   78.5208  ,  1.51494e+02, 183.119  ),\n",
       "       (1., 0.00373226, -3.82170e+03,  1.22647e+03,  3.67694e+02,   44.8778  ,  1.00869e+02, 138.6    ),\n",
       "       (1., 0.00373226, -7.40163e+02,  5.84771e+02, -7.12246e+02,   62.7623  ,  9.94097e+01, 163.068  ),\n",
       "       (1., 0.00373226, -7.14758e+02,  1.09576e+03, -4.32880e+02,   73.9957  ,  8.15030e+01, 161.622  ),\n",
       "       (1., 0.00373226,  1.24806e+03, -1.37310e+03,  1.87963e+03,   41.5997  ,  1.03092e+02, 136.747  ),\n",
       "       (1., 0.00373226,  5.86228e+01,  5.54773e+02, -4.07286e+02,   -0.219297,  9.27650e+01, 183.332  ),\n",
       "       (1., 0.00373226, -3.73980e+02,  8.12743e+02, -3.90246e+02,   33.6239  ,  4.45356e+01, 229.804  ),\n",
       "       (1., 0.00373226, -5.53601e+02,  7.27609e+02, -4.64485e+02,  106.311   ,  8.50208e+01, 212.719  ),\n",
       "       (1., 0.00373226, -9.66654e+02,  7.24752e+02, -4.38447e+02,   69.6021  ,  9.48811e+01, 150.829  ),\n",
       "       (1., 0.00373226, -6.84537e+02,  1.21861e+03, -4.09064e+02,   84.9121  ,  9.78944e+01, 156.876  ),\n",
       "       (1., 0.00373226, -4.88581e+02,  7.69263e+02, -3.23685e+02,   70.4009  ,  4.65938e+01, 206.839  ),\n",
       "       (1., 0.00373226,  5.40829e+02, -1.21596e+03, -5.00326e+02,   39.9897  ,  1.08568e+02, 141.371  ),\n",
       "       (1., 0.00373226,  3.04362e+01,  6.39506e+02, -4.24863e+02,   -2.94799 ,  7.61670e+01, 208.934  ),\n",
       "       (1., 0.00373226, -1.00362e+03,  7.10507e+02, -1.80598e+02,   73.6916  ,  9.47528e+01, 141.274  ),\n",
       "       (1., 0.00373226, -5.72096e+02,  6.53773e+02, -5.20250e+02,  108.211   ,  9.43359e+01, 199.813  ),\n",
       "       (1., 0.00373226, -8.00063e+02,  1.20302e+03,  6.10853e+02,   51.2844  ,  9.12905e+01, 128.861  ),\n",
       "       (1., 0.00373226,  1.98168e+02,  4.30401e+02, -1.72418e+02,   -8.81475 ,  8.43383e+01, 163.141  ),\n",
       "       (1., 0.00373226, -1.43142e+01, -9.63442e+02,  3.39121e+02,   42.6276  ,  1.15334e+02, 135.153  ),\n",
       "       (1., 0.00373226,  2.25128e+03,  1.29553e+02, -6.23741e+00,   38.6273  ,  1.01606e+02, 138.808  ),\n",
       "       (1., 0.00373226,  8.78676e+02, -1.09866e+03, -3.09377e+03,   42.4779  ,  1.02129e+02, 140.612  ),\n",
       "       (1., 0.00373226, -1.67725e+02,  9.69028e+02, -1.95268e+02,   44.3783  ,  2.74727e+01, 118.073  ),\n",
       "       (1., 0.00373226, -2.77349e+02,  1.22532e+03, -1.87640e+02,   43.1481  ,  6.13376e+01, 142.929  ),\n",
       "       (1., 0.00373226, -3.16126e+02,  7.52670e+02, -4.22378e+01,   76.1581  ,  1.63095e+01,   8.40958),\n",
       "       (1., 0.00373226, -9.87003e+02,  4.60523e+02,  6.04228e+01,   72.8288  ,  1.03102e+02, 132.35   ),\n",
       "       (1., 0.00373226, -4.05523e+01,  4.38375e+02, -4.45347e+02,   10.0177  ,  1.09516e+02, 196.781  ),\n",
       "       (1., 0.00373226, -3.92910e+02,  8.13805e+02, -4.52409e+02,  103.891   ,  7.95498e+01, 187.222  ),\n",
       "       (1., 0.00373226, -1.31335e+03, -1.66821e+02, -4.53613e+02,   53.9374  ,  1.06833e+02, 142.541  ),\n",
       "       (1., 0.00373226, -2.10972e+02,  6.16959e+02, -4.83566e+02,   34.2304  ,  1.31098e+02, 217.538  ),\n",
       "       (1., 0.00373226,  7.03791e+02,  1.37918e+03, -1.04568e+03,   38.0988  ,  9.60957e+01, 144.214  ),\n",
       "       (1., 0.00373226, -3.32637e+02,  7.02039e+02,  6.00574e+01,   31.7106  ,  5.15012e+01,   4.14698),\n",
       "       (1., 0.00373226, -5.90894e+02,  1.54419e+03,  4.26168e+02,   47.4759  ,  8.85684e+01, 132.416  ),\n",
       "       (1., 0.00373226, -9.49066e+01,  5.15043e+02,  2.30204e+02,   30.9377  ,  7.32669e+01,  81.7789 ),\n",
       "       (1., 0.00373226, -3.05889e+03,  8.58167e+02,  2.11307e+03,   44.6488  ,  1.01018e+02, 137.638  ),\n",
       "       (1., 0.00373226, -5.47474e+01,  1.50688e+03,  3.16475e+02,   40.2951  ,  8.51360e+01, 132.273  ),\n",
       "       (1., 0.00373226, -6.89847e+02,  7.04083e+02,  1.74031e+01,   88.999   ,  9.05724e+01, 118.723  ),\n",
       "       (1., 0.00373226, -8.77310e+02,  4.93803e+02,  9.09012e+02,   52.2253  ,  1.00066e+02, 126.605  ),\n",
       "       (1., 0.00373226, -1.00362e+03,  7.10507e+02, -1.80598e+02,   73.6916  ,  9.47528e+01, 141.274  ),\n",
       "       (1., 0.00373226, -9.86179e+02,  1.01400e+03, -6.78845e+02,   56.5752  ,  9.25519e+01, 149.252  ),\n",
       "       (1., 0.00373226,  1.53428e+03,  1.65093e+03,  1.08291e+03,   39.9794  ,  9.88944e+01, 136.75   ),\n",
       "       (1., 0.00373226, -4.27329e+02,  3.70175e+02,  9.28070e+01,  104.581   ,  1.11966e+02, 125.043  ),\n",
       "       (1., 0.00373226,  5.86228e+01,  5.54773e+02, -4.07286e+02,   -0.219297,  9.27650e+01, 183.332  ),\n",
       "       (1., 0.00373226, -3.43540e+02,  2.06157e+02,  9.47698e+02,   48.4788  ,  1.02963e+02, 118.603  ),\n",
       "       (1., 0.00373226, -1.35945e+03,  3.86362e+02,  1.38492e+02,   58.517   ,  1.02311e+02, 135.874  ),\n",
       "       (1., 0.00373226, -5.94244e+02,  7.15785e+02, -2.09118e+02,  128.18    ,  8.15061e+01, 141.009  ),\n",
       "       (1., 0.00373226, -6.43713e+02,  6.77963e+02, -8.31405e+01,  140.316   ,  9.67182e+01, 146.283  ),\n",
       "       (1., 0.00373226, -4.51193e+02,  1.42322e+03,  1.34935e+02,   47.9088  ,  7.96416e+01, 132.791  ),\n",
       "       (1., 0.00373226, -9.66897e+01,  7.35378e+02, -5.77842e+02,   23.4436  ,  6.63950e+01, 165.854  ),\n",
       "       (1., 0.00373226, -4.65956e+03,  1.20751e+03, -1.66875e+03,   44.1331  ,  1.01084e+02, 139.188  ),\n",
       "       (1., 0.00373226, -6.01776e+02,  5.48977e+02, -1.34007e+02,  122.357   ,  9.90089e+01, 109.25   ),\n",
       "       (1., 0.00373226, -4.67252e+02,  3.60832e+02,  2.38888e+02,  101.923   ,  1.01313e+02, 107.073  ),\n",
       "       (1., 0.00373226, -5.56652e+02,  3.09712e+02,  1.23242e+02,  111.941   ,  7.47073e+01, 116.082  ),\n",
       "       (1., 0.00373226, -2.65405e+02,  1.03795e+03,  2.99844e+02,   43.887   ,  7.05509e+01, 112.896  ),\n",
       "       (1., 0.00373226, -5.96353e+02,  8.85621e+02, -3.45336e+02,   50.8391  ,  4.94662e+01, 141.746  ),\n",
       "       (1., 0.00373226, -9.24015e+02,  1.39158e+02, -9.17047e+02,   53.3825  ,  1.05843e+02, 150.831  ),\n",
       "       (1., 0.00373226, -5.80158e+02,  7.00787e+02, -8.68632e+01,  110.783   ,  2.80623e+01, 121.932  ),\n",
       "       (1., 0.00373226, -4.89745e+02,  1.28374e+03, -9.42091e+01,   61.0872  ,  6.56376e+01, 115.175  ),\n",
       "       (1., 0.00373226, -5.00498e+01,  4.26857e+02,  1.52595e+03,   42.689   ,  1.00555e+02, 128.978  ),\n",
       "       (1., 0.00373226, -7.72821e+02,  5.15215e+02, -4.28913e+02,   72.1723  ,  1.01009e+02, 142.018  ),\n",
       "       (1., 0.00373226, -1.92521e+02,  1.03320e+03,  3.60293e+01,   30.3295  ,  5.55297e+01, 109.249  ),\n",
       "       (1., 0.00373226, -1.64095e+01,  5.41251e+02, -1.16043e+02,  -37.0185  ,  9.16317e+01, 173.147  ),\n",
       "       (1., 0.00373226, -5.35938e+02,  5.70597e+02, -4.31418e+02,  106.095   ,  1.30123e+02, 219.283  ),\n",
       "       (1., 0.00373226, -3.28177e+02,  2.24871e+02, -1.06859e+03,   45.543   ,  1.05523e+02, 158.058  ),\n",
       "       (1., 0.00373226, -1.45757e+03,  1.25650e+02,  5.70666e+01,   55.7769  ,  1.04335e+02, 137.543  ),\n",
       "       (1., 0.00373226, -7.97010e+02,  8.13817e+02, -5.50448e+02,   68.2568  ,  8.94696e+01, 159.112  ),\n",
       "       (1., 0.00373226, -3.49107e+02,  1.66136e+02,  1.11361e+02,  102.556   ,  1.23669e+02, 113.802  ),\n",
       "       (1., 0.00373226,  1.78320e+02,  6.76900e+02, -5.68618e+01,   -5.49465 ,  7.28868e+01, 136.683  ),\n",
       "       (1., 0.00373226, -7.27004e+02, -9.03418e+01,  1.46952e+02,   68.0547  ,  1.18042e+02, 131.887  ),\n",
       "       (1., 0.00373226, -5.29189e+02,  7.75858e+02, -3.08084e+02,   85.7261  ,  1.15757e+01, 184.356  ),\n",
       "       (1., 0.00373226, -7.36773e+02,  7.56753e+02, -8.68241e+01,   60.3978  ,  8.04512e+01, 155.008  ),\n",
       "       (1., 0.00373226, -3.21398e+01,  3.86788e+02, -3.72387e+02,    5.05085 ,  1.15249e+02, 196.61   ),\n",
       "       (1., 0.00373226, -4.42951e+02,  3.48476e+02,  2.86556e+02,   79.8398  ,  1.20285e+02, 114.918  ),\n",
       "       (1., 0.00373226, -3.00668e+02,  2.63384e+02,  8.44352e+01,   56.9841  ,  1.10528e+02, 110.945  ),\n",
       "       (1., 0.00373226, -1.43187e+02,  5.14506e+02, -5.51085e+02,   33.3033  ,  1.22054e+02, 195.611  ),\n",
       "       (1., 0.00373226, -5.00704e+02,  1.08652e+03,  1.11194e+03,   45.8665  ,  9.55195e+01, 128.671  ),\n",
       "       (1., 0.00373226, -1.41015e+03,  6.57815e+02, -1.28680e+02,   58.2309  ,  9.92691e+01, 139.23   ),\n",
       "       (1., 0.00373226, -4.47496e+02,  7.63835e+02, -2.24548e+02,  173.446   ,  7.01448e+01, 160.307  ),\n",
       "       (1., 0.00373226, -5.12269e+01,  5.24248e+02, -8.08104e+02,   35.061   ,  9.95675e+01, 170.698  ),\n",
       "       (1., 0.00373226, -9.39092e+02,  5.05220e+02, -6.94638e+02,   61.4133  ,  1.01697e+02, 154.215  ),\n",
       "       (1., 0.00373226,  3.79018e+02,  7.52234e+02, -1.42447e+03,   39.1839  ,  9.90754e+01, 148.096  ),\n",
       "       (1., 0.00373226, -5.68282e+02,  5.68148e+02, -3.41908e+02,  129.993   ,  9.16326e+01, 178.676  ),\n",
       "       (1., 0.00373226, -1.88407e+02,  6.15735e+02,  8.32140e+02,   44.5487  ,  9.42110e+01, 115.969  ),\n",
       "       (1., 0.00373226, -1.11038e+03, -2.37935e+02,  1.27881e+03,   47.6803  ,  1.03937e+02, 132.758  ),\n",
       "       (1., 0.00373226, -7.18902e+02, -1.85060e+02, -5.53048e+02,   56.4766  ,  1.14770e+02, 150.889  ),\n",
       "       (1., 0.00373226,  9.81683e+02, -3.41304e+02,  1.36239e+03,   38.8566  ,  1.03636e+02, 133.478  ),\n",
       "       (1., 0.00373226, -2.53800e+02,  7.67414e+02, -6.66813e+01,   53.097   , -5.54619e+01, 121.94   ),\n",
       "       (1., 0.00373226, -2.35532e+01,  8.23664e+02,  2.94388e+02,   26.4037  ,  7.22197e+01, 105.997  ),\n",
       "       (1., 0.00373226, -1.30665e+02, -4.67579e+02, -1.19286e+03,   43.0557  ,  1.07786e+02, 148.266  ),\n",
       "       (1., 0.00373226, -4.70494e+02,  8.75373e+02, -5.26109e+01,   68.3117  ,  3.55716e+01,  97.0911 ),\n",
       "       (1., 0.00373226, -3.01261e+01,  5.32089e+02,  1.37241e+02,    7.90971 ,  6.73831e+01,  91.758  ),\n",
       "       (1., 0.00373226, -5.67136e+02,  4.12369e+02, -3.46572e+02,   74.0521  ,  8.35508e+01, 195.555  ),\n",
       "       (1., 0.00373226, -3.85389e+02,  6.75929e+02, -4.61538e+02,   99.5812  ,  6.78355e+01, 199.446  ),\n",
       "       (1., 0.00373226, -4.29603e+02,  7.22602e+02, -7.35623e+02,   64.2127  ,  9.91154e+01, 170.896  ),\n",
       "       (1., 0.00373226, -4.74975e+02,  4.18536e+02,  3.73848e+02,   80.2033  ,  8.58624e+01,  93.6089 ),\n",
       "       (1., 0.00373226, -8.18786e+02,  8.26583e+02, -3.96531e+02,   52.0256  ,  7.75449e+01, 114.139  ),\n",
       "       (1., 0.00373226, -4.45326e+02,  6.53323e+02, -4.89277e+02,   34.6799  ,  3.70965e+01, 204.453  ),\n",
       "       (1., 0.00373226,  1.03193e+03, -7.19754e+01, -1.09408e+03,   36.7251  ,  1.03422e+02, 144.744  ),\n",
       "       (1., 0.00373226, -5.97167e+02,  5.49398e+02, -4.43888e+02,   55.2803  ,  9.35674e+01, 218.004  ),\n",
       "       (1., 0.00373226, -1.71270e+02,  1.10274e+03, -5.23775e+02,   37.2977  ,  7.18651e+01, 160.984  ),\n",
       "       (1., 0.00373226, -4.01871e+02,  8.48158e+02, -1.46606e+02,   72.9565  , -2.85774e+01, 123.57   ),\n",
       "       (1., 0.00373226, -4.67445e+01,  7.58614e+02, -6.58643e+02,   51.6155  ,  9.73534e+01, 175.566  ),\n",
       "       (1., 0.00373226, -6.28818e+02,  3.54962e+02,  2.57238e+01,   82.7733  ,  8.62298e+01, 125.402  ),\n",
       "       (1., 0.00373226, -5.58539e+02,  1.42168e+03,  8.59434e+01,   50.2403  ,  8.05513e+01, 134.103  ),\n",
       "       (1., 0.00373226, -5.22596e+02,  7.71830e+02, -1.68119e+02,  114.957   ,  2.86261e+01, 117.12   ),\n",
       "       (1., 0.00373226, -5.48657e+02,  6.67684e+02, -3.12453e+02,  124.529   ,  6.79430e+01, 210.7    ),\n",
       "       (1., 0.00373226,  6.87698e+02,  1.97973e+02,  5.00508e+02,   21.7694  ,  1.01477e+02, 125.628  ),\n",
       "       (1., 0.00373226, -6.37609e+02,  5.51044e+02, -1.04683e+02,   84.1269  ,  8.27880e+01, 125.724  ),\n",
       "       (1., 0.00373226, -2.28063e+02,  6.67233e+02,  1.93092e+02,   87.0628  ,  7.07684e+01,  89.9263 ),\n",
       "       (1., 0.00373226,  1.34711e+02,  4.02279e+02, -5.71603e+02,   20.5967  ,  1.02309e+02, 173.937  ),\n",
       "       (1., 0.00373226, -4.19091e+03,  9.26262e+02,  2.31411e+02,   44.6579  ,  1.01067e+02, 138.696  ),\n",
       "       (1., 0.00373226, -2.19722e+02,  7.99675e+02, -1.42243e+02,    2.86312 , -1.15173e+01, 227.685  ),\n",
       "       (1., 0.00373226, -1.62190e+02,  1.66010e+02, -3.67202e+02,   60.296   ,  1.39993e+02, 209.87   ),\n",
       "       (1., 0.00373226, -9.16699e+02,  7.38924e+02, -1.16076e+03,   50.2215  ,  9.87689e+01, 149.905  ),\n",
       "       (1., 0.00373226, -6.94673e+02,  7.54846e+02, -1.99286e+02,   71.7832  ,  4.57543e+01, 151.236  ),\n",
       "       (1., 0.00373226, -2.77223e+02,  7.07092e+02,  2.34843e+02,   76.5374  ,  8.37800e+01,  67.9778 ),\n",
       "       (1., 0.00373226, -5.77362e+02,  8.65938e+02, -2.14291e+02,   79.2181  ,  3.40090e+01, 135.602  ),\n",
       "       (1., 0.00373226, -4.37543e-01,  9.12097e+01,  7.08345e+01,  215.05    , -4.39720e+01, 157.697  ),\n",
       "       (1., 0.00373226, -6.73710e+02,  7.13677e+02, -1.99740e+02,  100.52    ,  6.37072e+01, 144.949  ),\n",
       "       (1., 0.00373226, -2.52194e+02,  1.14335e+02,  1.58915e+02,  120.253   ,  1.20337e+02,  99.7071 ),\n",
       "       (1., 0.00373226, -6.89516e+01,  1.58539e+03, -3.80829e+02,   40.2749  ,  8.48160e+01, 143.142  ),\n",
       "       (1., 0.00373226, -9.43308e+02,  6.14932e+02,  4.54417e+01,   76.4324  ,  9.76005e+01, 131.103  ),\n",
       "       (1., 0.00373226, -7.14758e+02,  1.09576e+03, -4.32880e+02,   73.9957  ,  8.15030e+01, 161.622  ),\n",
       "       (1., 0.00373226, -4.20981e+02,  1.49043e+03, -4.51120e+02,   46.2456  ,  8.28059e+01, 145.484  ),\n",
       "       (1., 0.00373226, -3.76113e+02,  8.42905e+02, -4.21010e+02,   49.3114  ,  6.86849e+01, 177.807  ),\n",
       "       (1., 0.00373226,  1.95200e+02,  2.99815e+03,  8.05470e+02,   42.6085  ,  9.80713e+01, 137.732  ),\n",
       "       (1., 0.00373226, -3.90611e+02,  7.64650e+02,  1.74651e+02,   67.9092  ,  9.89997e+01,  84.7221 ),\n",
       "       (1., 0.00373226, -6.22879e+02,  4.16429e+02, -1.63055e+02,  121.378   ,  1.37500e+02,  91.592  ),\n",
       "       (1., 0.00373226, -7.51944e+02,  7.27716e+02, -3.60394e+02,   79.3784  ,  9.95447e+01, 136.707  ),\n",
       "       (1., 0.00373226, -5.20089e+02,  6.88953e+02,  9.83507e+00,  148.244   ,  1.11495e+02, 118.399  ),\n",
       "       (1., 0.00373226, -4.97787e+02,  7.52208e+02, -2.50854e+02,  149.805   ,  1.85711e+01, 143.381  ),\n",
       "       (1., 0.00373226, -3.36969e+02,  7.60134e+02, -6.36272e+01,  117.083   , -5.07218e+01, 128.651  ),\n",
       "       (1., 0.00373226,  1.48137e+01,  7.18974e+01,  6.13101e+01, -162.354   , -2.12057e+01, 262.729  ),\n",
       "       (1., 0.00373226, -6.70570e+02,  4.60831e+02,  1.91565e+01,   95.8484  ,  9.36625e+01, 138.207  ),\n",
       "       (1., 0.00373226, -6.32837e+01, -2.44688e+02, -1.16126e+03,   42.2     ,  1.07691e+02, 150.936  ),\n",
       "       (1., 0.00373226, -1.22677e+03,  9.04210e+02,  3.90764e+02,   56.1682  ,  9.59522e+01, 132.542  ),\n",
       "       (1., 0.00373226, -5.24635e+02,  6.15386e+02, -3.84722e+02,  136.019   ,  8.67466e+01, 186.848  ),\n",
       "       (1., 0.00373226, -3.01052e+02,  8.43765e+02, -1.56855e+02,   83.2121  , -1.21806e+01, 153.223  ),\n",
       "       (1., 0.00373226, -4.33505e+02,  5.92586e+02, -6.40304e+02,   47.7875  ,  1.05771e+02, 189.027  ),\n",
       "       (1., 0.00373226,  1.78017e+02,  4.91093e+02,  6.61567e+02,   31.8276  ,  9.12633e+01, 110.558  ),\n",
       "       (1., 0.00373226, -3.76040e+02,  1.13783e+03,  1.54544e+02,   49.9842  ,  6.51139e+01, 121.224  ),\n",
       "       (1., 0.00373226, -1.03924e+03,  1.13365e+03, -6.72381e+02,   54.4574  ,  9.26679e+01, 146.915  ),\n",
       "       (1., 0.00373226, -2.63494e+02,  7.60414e+02, -5.72652e+01,   19.9077  ,  1.71421e+01,   6.24522),\n",
       "       (1., 0.00373226, -3.25820e+02, -4.38753e+02,  8.91628e+02,   46.9957  ,  1.11140e+02, 126.057  ),\n",
       "       (1., 0.00373226, -7.06380e+02,  6.51267e+02, -1.32714e+02,  109.588   ,  1.25776e+02, 138.726  ),\n",
       "       (1., 0.00373226, -2.76607e+02,  3.25276e+02, -4.53262e+02,   45.5856  ,  9.91079e+01, 189.99   ),\n",
       "       (1., 0.00373226, -6.29323e+02,  1.58123e+02, -1.36861e+02,   83.7224  ,  1.27717e+02, 143.812  ),\n",
       "       (1., 0.00373226, -4.15711e+02,  8.38569e+02, -2.40276e+02,   54.1338  ,  1.01272e+01, 209.878  ),\n",
       "       (1., 0.00373226,  6.65608e+02,  8.98276e+02, -7.94040e+02,   32.7163  ,  9.54692e+01, 147.756  ),\n",
       "       (1., 0.00373226, -7.00705e+02,  5.55105e+02,  7.18815e+01,   81.1992  ,  8.48145e+01, 115.075  ),\n",
       "       (1., 0.00373226, -3.75064e+02,  1.24693e+03, -2.69451e+02,   48.2518  ,  6.60753e+01, 146.664  ),\n",
       "       (1., 0.00373226, -1.28535e+03,  1.65268e+03,  1.62359e+03,   45.203   ,  9.89081e+01, 135.586  ),\n",
       "       (1., 0.00373226, -4.95845e+02,  9.58391e+02,  2.79952e+02,   59.9044  ,  7.32446e+01, 110.473  ),\n",
       "       (1., 0.00373226, -6.49469e+02,  5.08253e+02, -1.25378e+02,   94.7995  ,  9.24120e+01, 132.527  ),\n",
       "       (1., 0.00373226, -7.68985e+02,  7.13105e+02, -2.01377e+02,   78.7954  ,  7.13123e+01, 119.993  ),\n",
       "       (1., 0.00373226, -8.00146e+02,  9.83983e+02, -6.64233e+02,   58.4455  ,  8.88939e+01, 154.537  ),\n",
       "       (1., 0.00373226, -3.58525e+02,  7.32377e+02,  6.00699e+02,   50.2378  ,  8.91812e+01, 110.749  ),\n",
       "       (1., 0.00373226, -5.78354e+02,  4.10440e+02, -6.29886e+01,  145.298   ,  1.32975e+02, 153.843  ),\n",
       "       (1., 0.00373226,  2.70468e+02,  8.20547e+02,  9.04106e+02,   36.8842  ,  9.38743e+01, 124.62   ),\n",
       "       (1., 0.00373226, -6.38006e+02,  2.06904e+02, -5.17052e+01,   87.2842  ,  1.25960e+02, 135.333  ),\n",
       "       (1., 0.00373226, -6.38156e+02,  7.06012e+02, -2.28013e+02,  118.947   ,  1.04735e+02, 122.512  ),\n",
       "       (1., 0.00373226, -7.29101e+02,  7.12963e+02, -3.44853e+02,   88.9826  ,  8.10966e+01, 137.225  ),\n",
       "       (1., 0.00373226, -6.07439e+01,  3.58958e+02,  5.11937e+01,   27.5886  ,  5.48409e+01, 106.366  ),\n",
       "       (1., 0.00373226, -2.56254e+02,  1.16557e+02,  8.17169e+00,  121.842   ,  1.29762e+02, 144.531  ),\n",
       "       (1., 0.00373226, -2.24505e+02,  7.84662e+02, -5.08421e+02,   26.9212  ,  4.56908e+01, 174.503  ),\n",
       "       (1., 0.00373226, -4.60734e+02,  8.53855e+02, -2.84732e+02,  133.605   ,  7.78956e+01, 201.849  ),\n",
       "       (1., 0.00373226, -2.76299e+02,  5.40514e+02,  3.44444e+02,   55.0745  ,  8.78197e+01,  85.9344 ),\n",
       "       (1., 0.00373226, -6.10507e+02,  8.32499e+02, -2.12624e+02,   92.311   ,  3.51760e+01, 188.151  ),\n",
       "       (1., 0.00373226,  6.88338e+01,  8.06352e+02, -7.38407e+01,   16.3956  ,  6.22022e+01, 126.437  ),\n",
       "       (1., 0.00373226, -4.81667e+02,  7.53901e+02, -3.61222e+02,  135.304   ,  8.23813e+01, 138.174  ),\n",
       "       (1., 0.00373226,  3.36620e+03,  4.76685e+02, -1.54442e+03,   41.4335  ,  1.01211e+02, 139.524  ),\n",
       "       (1., 0.00373226, -1.06615e+03,  4.40843e+02, -3.95898e+02,   66.8271  ,  1.03428e+02, 147.105  ),\n",
       "       (1., 0.00373226, -2.95713e+02,  7.84976e+02, -2.96580e+02,   32.0802  , -8.97895e+00, 180.042  ),\n",
       "       (1., 0.00373226, -6.21653e+02, -2.85192e+02,  6.52651e+02,   54.053   ,  1.12284e+02, 125.848  ),\n",
       "       (1., 0.00373226, -2.13440e+02,  1.23521e+03, -1.62023e+01,   38.1736  ,  8.70570e+01, 103.929  ),\n",
       "       (1., 0.00373226,  7.26115e+02, -5.02378e+01, -4.72239e+02,   26.2147  ,  1.07446e+02, 149.051  ),\n",
       "       (1., 0.00373226, -4.30108e+02,  7.65799e+02,  5.99407e-02,   81.138   ,  4.76849e+01,  62.8179 ),\n",
       "       (1., 0.00373226, -5.96992e+02,  4.90510e+02,  2.05556e+02,   85.2108  ,  1.27347e+02, 102.974  ),\n",
       "       (1., 0.00373226, -9.65996e+02,  9.16624e+02, -1.04673e+03,   51.091   ,  9.68217e+01, 149.242  ),\n",
       "       (1., 0.00373226, -9.87839e+01, -6.21188e+02,  2.75226e+03,   43.0647  ,  1.02233e+02, 135.963  ),\n",
       "       (1., 0.00373226, -4.61053e+02,  9.61640e+02, -4.29032e+02,   49.8247  ,  4.86728e+01, 186.61   ),\n",
       "       (1., 0.00373226,  1.57254e+02,  1.28182e+03,  7.88214e+02,   39.2163  ,  9.15098e+01, 129.182  ),\n",
       "       (1., 0.00373226,  1.35072e+03, -1.15356e+03, -5.04062e+02,   39.2343  ,  1.05070e+02, 140.172  ),\n",
       "       (1., 0.00373226, -7.08952e+02,  1.47488e+03,  2.49836e+02,   50.3308  ,  8.66774e+01, 133.347  ),\n",
       "       (1., 0.00373226, -8.92633e+02, -4.16630e+01, -6.38638e+02,   56.8956  ,  1.10444e+02, 149.897  ),\n",
       "       (1., 0.00373226, -5.90823e+02,  5.13786e+02,  4.28160e+02,   66.5311  ,  9.79827e+01, 108.679  ),\n",
       "       (1., 0.00373226, -1.49817e+03,  2.30051e+03,  2.70771e+02,   45.8212  ,  9.73694e+01, 138.06   ),\n",
       "       (1., 0.00373226, -3.02674e+02,  1.25174e+03, -1.64672e+02,   44.4498  ,  6.37141e+01, 141.277  ),\n",
       "       (1., 0.00373226,  1.04808e+02,  5.61286e+02, -1.27793e+02,  -20.0933  ,  7.79048e+01, 149.755  ),\n",
       "       (1., 0.00373226, -2.31223e+02,  7.54024e+02, -4.93355e+02,   23.838   ,  6.55904e+01, 198.584  ),\n",
       "       (1., 0.00373226, -5.93375e+02,  3.50479e+02, -7.50445e+02,   58.2083  ,  1.07881e+02, 166.299  ),\n",
       "       (1., 0.00373226,  2.29449e+03,  1.61162e+02, -1.26832e+03,   40.0438  ,  1.01494e+02, 140.37   ),\n",
       "       (1., 0.00373226,  2.07202e+03,  3.23606e+02,  1.58829e+02,   37.9323  ,  1.01235e+02, 138.424  ),\n",
       "       (1., 0.00373226, -5.23097e+02,  2.20655e+02,  3.50210e+01,  105.01    ,  1.04410e+02,  98.2173 ),\n",
       "       (1., 0.00373226, -7.93903e+02,  7.93721e+02, -4.55034e+02,   62.0509  ,  1.12545e+02, 188.051  ),\n",
       "       (1., 0.00373226, -4.01721e+02,  7.88213e+02, -6.22249e+01,   68.9611  ,  1.34248e+01,  31.9536 ),\n",
       "       (1., 0.00373226, -9.08507e+02,  5.67062e+02, -6.28951e+01,   79.7872  ,  5.73593e+01, 142.137  ),\n",
       "       (1., 0.00373226, -2.75350e+02,  7.79158e+02, -8.17948e+01,   71.1156  , -7.19647e+01, 194.885  ),\n",
       "       (1., 0.00373226, -6.07088e+02,  6.33954e+02, -5.28328e+02,   47.424   ,  1.11039e+02, 185.593  ),\n",
       "       (1., 0.00373226, -6.29147e+02,  9.64920e+02, -1.35900e+03,   46.3146  ,  9.74323e+01, 149.123  ),\n",
       "       (1., 0.00373226, -3.78429e+02, -4.79622e+02,  1.48021e+03,   44.4983  ,  1.05035e+02, 131.499  ),\n",
       "       (1., 0.00373226, -4.22767e+02, -3.01961e+02, -1.07762e+03,   46.0813  ,  1.08710e+02, 150.321  ),\n",
       "       (1., 0.00373226, -5.07719e+02,  1.20784e+03, -3.80838e+02,   54.1739  ,  7.11930e+01, 151.138  ),\n",
       "       (1., 0.00373226, -6.74535e+02,  3.02377e+02, -5.89495e+02,   66.7504  ,  1.12450e+02, 164.921  ),\n",
       "       (1., 0.00373226, -4.10208e+02,  6.06736e+02,  3.60952e+02,   87.7447  ,  1.14978e+02, 123.03   ),\n",
       "       (1., 0.00373226, -3.52328e+02,  6.82742e+02, -5.51455e+02,   72.5362  ,  5.58782e+01, 184.837  ),\n",
       "       (1., 0.00373226, -5.46257e+02,  6.87488e+02, -1.58700e+02,  113.914   ,  7.60044e+01, 187.63   ),\n",
       "       (1., 0.00373226, -4.78464e+02,  6.94563e+02,  1.45145e+02,  109.768   ,  7.97254e+01, 117.403  ),\n",
       "       (1., 0.00373226, -7.14812e+02,  7.82833e+02, -2.18212e+02,   95.9234  ,  7.94842e+01, 190.625  ),\n",
       "       (1., 0.00373226, -5.66691e+02,  6.56245e+02, -1.35190e+02,  135.358   ,  7.89213e+01, 105.684  ),\n",
       "       (1., 0.00373226, -7.93647e+02,  2.59029e+02, -4.84571e+02,   69.666   ,  1.12653e+02, 156.766  ),\n",
       "       (1., 0.00373226, -5.20275e+02,  1.90600e+02, -5.55479e+02,   63.2217  ,  1.20164e+02, 169.516  ),\n",
       "       (1., 0.00373226, -5.64169e+02,  4.77582e+02, -3.89073e+01,   98.3808  ,  1.03166e+02, 106.481  ),\n",
       "       (1., 0.00373226, -1.13541e+03,  4.52134e+02,  3.82924e+02,   60.2488  ,  1.01562e+02, 130.29   ),\n",
       "       (1., 0.00373226, -8.21490e+02,  4.13980e+02, -3.06077e+02,  102.473   ,  7.12855e+01, 150.125  ),\n",
       "       (1., 0.00373226, -3.13169e+01,  8.78866e+02, -5.38269e+02,   37.3608  ,  7.65270e+01, 151.876  ),\n",
       "       (1., 0.00373226, -6.14370e+02,  8.37010e+02,  1.19530e+02,  100.536   ,  7.38459e+01, 102.738  ),\n",
       "       (1., 0.00373226, -1.49817e+03,  2.30051e+03,  2.70771e+02,   45.8212  ,  9.73694e+01, 138.06   ),\n",
       "       (1., 0.00373226, -3.72874e+02,  1.22006e+02, -9.82083e+02,   46.9718  ,  1.07985e+02, 158.692  ),\n",
       "       (1., 0.00373226, -3.84994e+01, -1.61952e+02, -1.59635e+02,   48.9268  ,  1.67960e+02, 188.43   ),\n",
       "       (1., 0.00373226,  9.97067e+02,  1.45133e+02,  2.43399e+02,   25.9001  ,  1.02685e+02, 135.369  ),\n",
       "       (1., 0.00373226, -6.53794e+02,  6.72860e+02,  1.15278e+01,   91.9747  ,  1.31033e+02, 126.464  ),\n",
       "       (1., 0.00373226, -6.24473e+02,  5.49402e+02, -4.36674e+02,   86.4155  ,  7.87407e+01, 177.534  ),\n",
       "       (1., 0.00373226,  1.57292e+02,  1.32170e+03,  2.16241e+02,   34.3829  ,  8.24039e+01, 131.883  ),\n",
       "       (1., 0.00373226, -5.82442e+02,  2.84623e+02, -5.72025e+02,   46.3039  ,  9.41373e+01, 185.518  ),\n",
       "       (1., 0.00373226,  6.26807e+02,  2.22609e+03, -3.90015e+02,   40.486   ,  9.57012e+01, 139.818  ),\n",
       "       (1., 0.00373226,  1.78017e+02,  4.91093e+02,  6.61567e+02,   31.8276  ,  9.12633e+01, 110.558  ),\n",
       "       (1., 0.00373226, -9.56603e+02,  1.11496e+03, -4.80376e+02,   58.5867  ,  8.87496e+01, 146.912  ),\n",
       "       (1., 0.00373226, -3.64106e+02,  8.69818e+02, -3.50548e+02,   38.5252  ,  3.04309e+01, 197.14   ),\n",
       "       (1., 0.00373226,  6.57192e+02,  7.56018e+02,  1.46890e+02,   22.5928  ,  9.03762e+01, 134.556  ),\n",
       "       (1., 0.00373226,  2.30968e+02,  5.21025e+02,  3.55483e+01,   -5.35644 ,  7.24004e+01, 132.936  ),\n",
       "       (1., 0.00373226, -4.14479e+02,  3.97751e+02, -8.56757e+02,   50.0556  ,  1.05079e+02, 167.937  ),\n",
       "       (1., 0.00373226, -9.21973e+01,  7.30252e+02, -6.06767e+01,  -41.5654  ,  6.85705e+01, 125.764  ),\n",
       "       (1., 0.00373226, -4.31378e+02,  7.76334e+02, -8.04094e+01,  122.768   ,  2.00121e+01, 106.931  ),\n",
       "       (1., 0.00373226, -1.26658e+02,  9.39458e+02, -3.78498e+02,  -11.8937  ,  4.66076e+01, 137.099  ),\n",
       "       (1., 0.00373226, -8.63288e+02,  3.92929e+02, -1.78595e+02,   43.161   ,  1.15062e+02, 121.432  ),\n",
       "       (1., 0.00373226, -5.63985e+02, -2.10326e+02, -4.55206e+02,   57.7385  ,  1.19899e+02, 153.189  ),\n",
       "       (1., 0.00373226, -1.57445e+02,  8.92367e+02, -3.79286e+02,   16.4509  ,  5.63313e+01, 196.242  ),\n",
       "       (1., 0.00373226,  3.85917e+02,  3.99789e+02, -2.50432e+03,   42.1873  ,  1.01265e+02, 142.736  ),\n",
       "       (1., 0.00373226, -1.93715e+03, -6.60212e+02, -2.57717e+02,   48.0467  ,  1.04171e+02, 139.396  ),\n",
       "       (1., 0.00373226, -1.07633e+03,  8.65552e+02, -1.25661e+03,   49.025   ,  9.86625e+01, 146.958  ),\n",
       "       (1., 0.00373226, -4.23057e+02,  1.64222e+03,  1.79883e+03,   43.6595  ,  9.85089e+01, 134.679  ),\n",
       "       (1., 0.00373226,  6.86414e+02,  1.50259e+03, -7.32642e+02,   37.2493  ,  9.43477e+01, 143.167  ),\n",
       "       (1., 0.00373226, -4.06772e+02,  2.94443e+02, -4.88874e+02,   51.5655  ,  1.43054e+02, 156.642  ),\n",
       "       (1., 0.00373226, -2.14795e+02,  1.09013e+03, -3.90901e+02,   37.6063  ,  5.97033e+01, 160.87   ),\n",
       "       (1., 0.00373226, -2.24241e+02,  6.31953e+02, -4.83431e+02,   26.1655  ,  9.03545e+01, 227.163  ),\n",
       "       (1., 0.00373226, -5.18365e+02,  6.23468e+02, -3.88828e+02,  120.778   ,  9.29855e+01, 214.589  ),\n",
       "       (1., 0.00373226,  1.24669e+03, -6.74408e+02, -2.50627e+02,   36.0645  ,  1.06163e+02, 140.235  ),\n",
       "       (1., 0.00373226, -1.51814e+02,  5.76627e+02,  2.14340e+02,   31.9534  ,  7.70416e+01,  75.1532 ),\n",
       "       (1., 0.00373226, -8.50308e+02,  7.55089e+02, -2.07792e+02,   98.4853  ,  1.09342e+02, 141.94   ),\n",
       "       (1., 0.00373226, -2.95370e+02,  1.14470e+03,  1.89226e+02,   44.9132  ,  6.68356e+01, 120.671  ),\n",
       "       (1., 0.00373226,  3.24500e+02,  5.08541e+02, -7.74168e+01,   -1.8685  ,  8.15744e+01, 145.848  ),\n",
       "       (1., 0.00373226, -5.99965e+02,  5.94984e+02,  1.28663e+01,  132.601   ,  8.03964e+01, 148.17   ),\n",
       "       (1., 0.00373226, -2.74736e+03,  1.20268e+03, -6.15712e+02,   46.3173  ,  1.00311e+02, 139.505  ),\n",
       "       (1., 0.00373226,  9.34862e+02,  1.12289e+03, -1.19292e+03,   37.989   ,  9.80431e+01, 143.996  ),\n",
       "       (1., 0.00373226, -6.53872e+02,  9.00870e+02, -2.72159e+01,   66.4436  ,  7.19565e+01, 151.122  ),\n",
       "       (1., 0.00373226, -8.40917e+02,  7.31620e+02,  9.19430e+01,   79.5247  ,  9.06647e+01, 125.37   ),\n",
       "       (1., 0.00373226, -7.22454e+02,  6.41881e+02, -1.89501e+03,   44.9168  ,  1.00607e+02, 145.223  ),\n",
       "       (1., 0.00373226, -4.41846e+02,  8.39236e+02, -3.44379e+02,   79.2385  ,  1.01593e+02, 185.434  ),\n",
       "       (1., 0.00373226, -7.25775e+02,  6.96987e+02, -3.59119e+01,   77.3224  ,  9.68809e+01, 167.327  ),\n",
       "       (1., 0.00373226, -7.09793e+02,  1.75046e+03, -8.62245e+02,   46.0974  ,  9.33145e+01, 143.733  ),\n",
       "       (1., 0.00373226,  1.99828e+02,  1.48739e+03, -7.49767e+02,   38.3673  ,  9.04083e+01, 146.042  ),\n",
       "       (1., 0.00373226, -9.96391e+01,  7.82261e+02, -8.03703e+02,   41.9055  ,  8.12979e+01, 143.531  ),\n",
       "       (1., 0.00373226, -2.22997e+02,  9.74190e+02, -3.30052e+02,  -11.8765  ,  7.27904e+01, 182.073  ),\n",
       "       (1., 0.00373226, -4.54318e+01,  1.70507e+02, -3.94227e+02,   31.3953  ,  1.21527e+02, 191.701  ),\n",
       "       (1., 0.00373226, -3.01936e+02,  9.09528e+02, -3.02060e+02,    3.89897 ,  3.19652e+01, 139.147  ),\n",
       "       (1., 0.00373226, -6.57194e+02,  1.07172e+03, -3.79850e+02,   88.993   ,  9.48644e+01, 123.186  ),\n",
       "       (1., 0.00373226, -2.40868e+02,  1.00599e+03, -1.53883e+02,   70.3386  ,  3.70696e+01, 128.506  ),\n",
       "       (1., 0.00373226, -3.36969e+02,  7.60134e+02, -6.36272e+01,  117.083   , -5.07218e+01, 128.651  ),\n",
       "       (1., 0.00373226, -2.31666e+02, -4.27095e+01,  1.72303e+03,   43.641   ,  1.02757e+02, 131.277  ),\n",
       "       (1., 0.00373226,  5.53193e+01,  1.11327e+03,  1.44671e+01,   25.1331  ,  6.82392e+01, 131.871  ),\n",
       "       (1., 0.00373226, -6.77617e+02,  1.91967e+03, -3.10478e+02,   46.1524  ,  9.15134e+01, 140.294  ),\n",
       "       (1., 0.00373226, -8.46295e+02,  3.45651e+02, -3.31203e+01,   98.1073  ,  1.08028e+02, 145.702  ),\n",
       "       (1., 0.00373226,  2.92024e+02,  1.13783e+03, -1.09319e+02,   25.5996  ,  7.98969e+01, 139.553  ),\n",
       "       (1., 0.00373226, -1.22801e+03,  3.55039e+00, -5.34377e+02,   55.877   ,  1.06643e+02, 144.497  ),\n",
       "       (1., 0.00373226,  8.23157e+01,  8.48313e+02,  1.02158e+02,   10.1622  ,  6.62316e+01, 118.536  ),\n",
       "       (1., 0.00373226, -3.76603e+01,  2.86301e+02, -2.79179e+02,   23.9658  ,  1.47970e+02, 182.478  ),\n",
       "       (1., 0.00373226, -1.04292e+03,  3.17871e+02,  3.21019e+02,   63.2971  ,  1.04279e+02, 129.499  ),\n",
       "       (1., 0.00373226, -4.81493e+02,  6.60717e+02, -3.83590e+01,  163.894   ,  2.52420e+01,  94.7617 ),\n",
       "       (1., 0.00373226, -5.42003e+02,  7.21992e+02, -3.11058e+02,  127.021   ,  1.39880e+02, 195.127  ),\n",
       "       (1., 0.00373226,  9.26802e+02, -1.43181e+03, -1.23405e+03,   41.1145  ,  1.04556e+02, 141.14   ),\n",
       "       (1., 0.00373226, -8.36872e+01, -6.04080e+02,  1.75862e+02,   45.0949  ,  1.29896e+02, 134.014  ),\n",
       "       (1., 0.00373226, -9.99238e+02,  2.85159e+02, -1.18267e+03,   50.1388  ,  1.02862e+02, 148.625  ),\n",
       "       (1., 0.00373226, -5.01431e+00,  6.75009e+02, -3.32236e+02,   -0.215662,  8.40331e+01, 199.715  ),\n",
       "       (1., 0.00373226,  8.98545e+02,  3.87498e+03, -1.80518e+03,   42.6421  ,  9.98758e+01, 139.516  ),\n",
       "       (1., 0.00373226, -9.14370e+01,  1.47086e+03,  4.81605e+01,   39.5912  ,  8.00974e+01, 135.393  ),\n",
       "       (1., 0.00373226,  6.21633e+02,  1.91309e+03, -2.44839e+03,   42.2556  ,  9.97463e+01, 141.256  ),\n",
       "       (1., 0.00373226, -1.39292e+03, -2.37117e+01, -3.06306e+02,   55.2103  ,  1.05785e+02, 141.197  ),\n",
       "       (1., 0.00373226, -8.81274e+01,  6.54027e+02,  3.21158e+02,   31.2747  ,  7.56035e+01,  93.1005 ),\n",
       "       (1., 0.00373226, -6.07544e+01,  2.56738e+02, -4.44462e+02,   31.8158  ,  9.56577e+01, 161.345  ),\n",
       "       (1., 0.00373226, -4.51359e+02,  1.56090e+02, -7.44324e+01,   91.8303  ,  1.37952e+02, 141.893  ),\n",
       "       (1., 0.00373226, -8.20950e+02,  1.63069e+03, -7.35002e+02,   47.8103  ,  9.22109e+01, 143.967  ),\n",
       "       (1., 0.00373226, -1.42271e+03,  5.11729e+02, -1.21377e+02,   58.1925  ,  1.00955e+02, 139.182  ),\n",
       "       (1., 0.00373226, -7.00867e+01,  4.60041e+02,  3.04672e+02,   37.3938  ,  7.23644e+01,  83.8586 ),\n",
       "       (1., 0.00373226, -7.72384e+02,  5.00362e+02, -3.81493e+02,  113.31    ,  8.81023e+01, 131.078  ),\n",
       "       (1., 0.00373226, -1.26203e+03,  2.76665e+03, -2.75904e+03,   43.622   ,  1.00091e+02, 140.174  ),\n",
       "       (1., 0.00373226, -1.87933e+03,  1.78199e+03,  5.85190e+02,   46.8108  ,  9.83311e+01, 137.341  ),\n",
       "       (1., 0.00373226, -6.98347e+01,  8.11315e+02, -2.92262e+02,    8.00023 ,  6.20519e+01, 189.32   ),\n",
       "       (1., 0.00373226, -5.10505e+02,  7.79458e+02, -2.50542e+02,  107.153   ,  5.66563e+01, 167.935  ),\n",
       "       (1., 0.00373226, -2.21672e+03,  1.85255e+03,  3.43826e+01,   46.519   ,  9.88985e+01, 138.614  ),\n",
       "       (1., 0.00373226, -4.61752e+02,  6.85336e+02,  1.73530e+02,   81.2691  ,  4.53666e+01,  83.8948 ),\n",
       "       (1., 0.00373226, -3.36966e+02,  2.51214e+02,  1.24954e+02,  108.93    ,  1.24268e+02, 111.295  ),\n",
       "       (1., 0.00373226, -6.12560e+02,  7.60178e+02, -2.56063e+02,  116.842   ,  4.31296e+01, 117.404  ),\n",
       "       (1., 0.00373226,  7.78268e+02,  1.62357e+03,  1.85645e+03,   41.4839  ,  9.91069e+01, 135.546  ),\n",
       "       (1., 0.00373226,  2.95575e+02,  4.84184e+02, -1.23448e+03,   37.8351  ,  1.00534e+02, 151.698  ),\n",
       "       (1., 0.00373226, -1.01174e+03, -5.15338e+02, -1.51420e+03,   46.0297  ,  1.04410e+02, 143.903  ),\n",
       "       (1., 0.00373226, -5.31171e+02,  1.78492e+03, -9.36325e+02,   44.8886  ,  9.34582e+01, 143.956  ),\n",
       "       (1., 0.00373226, -6.62098e+02,  1.32989e+03, -2.59242e+02,   54.5664  ,  7.90380e+01, 143.     ),\n",
       "       (1., 0.00373226, -2.54234e+02,  6.04778e+02, -6.76431e+02,   51.9561  ,  1.11788e+02, 180.043  ),\n",
       "       (1., 0.00373226, -3.12644e+02,  1.34861e+03,  4.95184e+01,   44.8343  ,  7.32558e+01, 133.063  ),\n",
       "       (1., 0.00373226, -4.30951e+02,  7.39157e+02,  2.29714e+02,   59.86    ,  1.09643e+02, 100.29   ),\n",
       "       (1., 0.00373226, -1.96519e+03, -5.23796e+02,  1.92763e+02,   48.3855  ,  1.03920e+02, 138.116  ),\n",
       "       (1., 0.00373226, -3.86434e+02,  7.90273e+02, -1.65091e+02,  119.888   , -3.95107e+01, 115.508  ),\n",
       "       (1., 0.00373226, -4.83988e+02,  1.11656e+03, -1.40330e+02,   81.1179  ,  4.51328e+01, 129.729  ),\n",
       "       (1., 0.00373226, -5.57141e+02,  4.05858e+02, -2.99341e+02,   75.5949  ,  1.51809e+02, 131.69   ),\n",
       "       (1., 0.00373226, -3.46486e+02, -2.18970e+01,  1.97749e+00,   97.8476  ,  1.41061e+02, 142.55   ),\n",
       "       (1., 0.00373226, -1.02811e+03,  4.65102e+02,  5.79980e+02,   57.8827  ,  1.00796e+02, 127.442  ),\n",
       "       (1., 0.00373226, -8.99986e+02, -2.14125e+02,  1.93425e+02,   60.1133  ,  1.13222e+02, 134.035  ),\n",
       "       (1., 0.00373226, -3.64613e+02,  8.08083e+02, -2.79573e+02,   70.2332  ,  4.71359e+01, 255.55   ),\n",
       "       (1., 0.00373226, -7.97402e+02,  6.09942e+02, -3.20351e+02,   84.8892  ,  6.25561e+01, 139.365  ),\n",
       "       (1., 0.00373226, -7.02985e+01,  8.64147e+02, -4.11752e+02,    7.28995 ,  7.59595e+01, 195.859  ),\n",
       "       (1., 0.00373226, -4.74975e+02,  4.18536e+02,  3.73848e+02,   80.2033  ,  8.58624e+01,  93.6089 ),\n",
       "       (1., 0.00373226, -1.66388e+03, -8.01974e+01,  3.31298e+01,   52.1688  ,  1.04252e+02, 138.247  ),\n",
       "       (1., 0.00373226, -6.97550e+02,  4.56285e+02,  8.49305e+01,   99.4195  ,  1.15710e+02, 104.881  ),\n",
       "       (1., 0.00373226, -4.02081e+02,  1.03656e+03,  2.93018e+01,   36.7038  ,  8.54046e+01, 121.675  ),\n",
       "       (1., 0.00373226, -7.44473e+02,  8.07405e+02,  2.47342e+02,   71.3538  ,  8.66019e+01, 117.632  ),\n",
       "       (1., 0.00373226, -5.53820e+02,  6.47006e+02, -4.46684e+02,   40.067   ,  7.96871e+01, 229.498  ),\n",
       "       (1., 0.00373226, -3.95792e+02,  6.86110e+02,  6.04623e+00,  122.049   ,  2.02275e+01,  32.9162 ),\n",
       "       (1., 0.00373226, -5.54054e+02,  6.95908e+02, -1.79129e+02,  113.177   ,  5.52265e+01, 119.813  ),\n",
       "       (1., 0.00373226,  5.38435e+02, -6.42600e+02,  1.92622e+02,   32.1162  ,  1.16927e+02, 136.077  ),\n",
       "       (1., 0.00373226,  8.49749e+02,  3.44159e+03, -2.63331e+01,   42.2539  ,  9.88646e+01, 138.784  ),\n",
       "       (1., 0.00373226, -5.80910e+02,  4.98873e+02, -1.25602e+02,  159.843   ,  6.86900e+01, 152.645  ),\n",
       "       (1., 0.00373226, -2.89879e+02,  1.52909e+01, -6.30649e+02,   49.4841  ,  1.19042e+02, 167.561  ),\n",
       "       (1., 0.00373226, -2.23815e+02,  1.76009e+03,  4.39589e+02,   43.1014  ,  9.01790e+01, 134.24   ),\n",
       "       (1., 0.00373226, -5.54364e+02,  8.05197e+02, -1.69115e+02,  124.956   ,  9.79976e+01, 188.879  ),\n",
       "       (1., 0.00373226, -8.64743e+02, -1.27051e+03,  4.31389e+02,   46.3007  ,  1.07800e+02, 136.992  ),\n",
       "       (1., 0.00373226, -6.74173e+02,  7.60900e+02, -7.01039e+01,  125.358   ,  7.41252e+01, 171.129  ),\n",
       "       (1., 0.00373226, -2.24241e+02,  6.31953e+02, -4.83431e+02,   26.1655  ,  9.03545e+01, 227.163  ),\n",
       "       (1., 0.00373226, -5.54260e+02,  6.52894e+02, -6.37821e+02,   39.7915  ,  1.14378e+02, 171.034  ),\n",
       "       (1., 0.00373226, -4.42739e+02,  1.09152e+03, -1.26073e+03,   45.0816  ,  9.55776e+01, 150.061  ),\n",
       "       (1., 0.00373226, -5.71596e+02,  5.36904e+02,  1.36835e+02,   81.351   ,  1.18509e+02,  78.5547 ),\n",
       "       (1., 0.00373226, -1.01072e+03,  1.59563e+02, -6.43953e+02,   58.6589  ,  1.07280e+02, 149.68   ),\n",
       "       (1., 0.00373226,  6.24980e+02,  1.39416e+03, -5.34127e+02,   35.175   ,  9.23261e+01, 143.219  ),\n",
       "       (1., 0.00373226, -3.72801e+02,  7.58776e+02, -4.79905e+02,  107.871   ,  8.92665e+01, 169.59   ),\n",
       "       (1., 0.00373226, -6.53849e+02,  5.86791e+02, -2.07490e+02,  126.505   ,  1.10264e+02, 157.677  ),\n",
       "       (1., 0.00373226, -7.11514e+02,  5.86693e+02, -2.70398e+02,  101.319   ,  1.16776e+02, 167.537  ),\n",
       "       (1., 0.00373226, -4.58876e+01,  6.27880e+02, -7.62099e+01,  -63.1535  ,  5.32001e+01, 156.592  ),\n",
       "       (1., 0.00373226, -2.90332e+02,  7.24092e+02, -4.81001e+02,   34.4502  ,  8.38805e+01, 195.082  ),\n",
       "       (1., 0.00373226, -2.04365e+01,  7.12223e+02,  3.54630e+01,  -14.533   ,  5.86255e+01, 103.65   ),\n",
       "       (1., 0.00373226, -3.97264e+02, -6.69080e+01,  7.88054e+02,   52.0556  ,  1.09720e+02, 117.993  ),\n",
       "       (1., 0.00373226, -3.11535e+02,  8.25696e+02, -2.62017e+02,   91.0556  , -1.52986e+01, 208.373  ),\n",
       "       (1., 0.00373226, -3.34873e+02,  1.22257e+03,  1.98579e+02,   46.3969  ,  7.16894e+01, 124.922  ),\n",
       "       (1., 0.00373226,  2.62846e+02,  5.48833e+02, -5.76378e+02,   20.013   ,  9.53897e+01, 164.443  ),\n",
       "       (1., 0.00373226, -5.50265e+02,  6.38466e+02, -1.09408e+02,  154.511   ,  1.40171e+02, 200.28   ),\n",
       "       (1., 0.00373226, -1.98356e+02,  7.74644e+02,  1.33823e+03,   43.4812  ,  9.79893e+01, 128.     ),\n",
       "       (1., 0.00373226, -1.98318e+02,  1.21956e+03, -7.73184e+02,   41.7154  ,  8.54445e+01, 154.312  ),\n",
       "       (1., 0.00373226, -4.21400e+02,  7.36588e+02, -3.64583e+02,   54.5371  ,  4.82468e+01, 231.341  ),\n",
       "       (1., 0.00373226, -6.00261e+02,  5.31694e+02, -3.55293e+02,   98.189   ,  7.08788e+01, 185.305  ),\n",
       "       (1., 0.00373226,  1.52093e+03,  7.81918e+02, -4.03302e+02,   35.6716  ,  9.93068e+01, 140.519  ),\n",
       "       (1., 0.00373226, -2.23182e+02,  2.21485e+02, -2.51342e+02,   84.4371  ,  1.76320e+02, 165.51   ),\n",
       "       (1., 0.00373226,  1.81790e+01,  9.27318e+02, -1.57786e+02,    9.58065 ,  2.74091e+01, 128.552  ),\n",
       "       (1., 0.00373226,  1.34559e+03,  1.09766e+03, -1.32258e+03,   39.0198  ,  9.93722e+01, 142.245  ),\n",
       "       (1., 0.00373226, -1.20693e+03,  2.51575e+03,  1.09360e+03,   44.5675  ,  9.82217e+01, 137.107  ),\n",
       "       (1., 0.00373226, -6.63835e+02,  1.05799e+03, -1.16582e+02,   45.2048  ,  8.03702e+01, 169.533  ),\n",
       "       (1., 0.00373226, -2.68546e+02,  4.60909e+02,  1.28907e+02,   69.736   ,  1.20384e+02,  58.7538 ),\n",
       "       (1., 0.00373226, -5.27085e+02,  7.17716e+02, -3.60414e+02,  112.503   ,  1.25216e+02, 182.996  ),\n",
       "       (1., 0.00373226, -3.44182e+02,  7.94883e+02, -2.17698e+02,   13.9261  , -3.45133e+01, 185.376  ),\n",
       "       (1., 0.00373226, -5.81278e+02,  9.36606e+02, -4.15377e+02,   56.4384  ,  5.47998e+01, 171.555  ),\n",
       "       (1., 0.00373226, -3.15218e+02,  8.58689e+02, -7.96650e+01,   61.5504  ,  4.24994e+00,  82.5247 ),\n",
       "       (1., 0.00373226,  1.43196e+03,  1.80074e+01,  1.24723e+03,   38.3339  ,  1.02081e+02, 134.946  ),\n",
       "       (1., 0.00373226, -7.42366e+02,  5.62710e+02, -5.09463e+02,   52.8098  ,  8.98299e+01, 147.245  ),\n",
       "       (1., 0.00373226,  1.80981e+02,  6.14574e+02, -5.76472e+02,   19.1528  ,  9.25985e+01, 168.125  ),\n",
       "       (1., 0.00373226, -7.41013e+02,  5.28700e+02, -2.96491e+01,   79.7467  ,  1.28619e+02, 103.55   ),\n",
       "       (1., 0.00373226, -5.80910e+02,  4.98873e+02, -1.25602e+02,  159.843   ,  6.86900e+01, 152.645  ),\n",
       "       (1., 0.00373226, -6.58274e+02,  5.32980e+02, -2.02151e+02,   85.7509  ,  1.22043e+02, 148.9    ),\n",
       "       (1., 0.00373226, -4.31378e+02,  7.76334e+02, -8.04094e+01,  122.768   ,  2.00121e+01, 106.931  ),\n",
       "       (1., 0.00373226, -5.69193e+02,  6.18647e+02, -2.01384e+02,   99.9785  ,  8.27324e+01, 219.904  ),\n",
       "       (1., 0.00373226, -1.11602e+03,  4.68287e+02, -9.56171e+02,   53.3775  ,  1.01512e+02, 148.809  ),\n",
       "       (1., 0.00373226, -7.61454e+02,  6.37217e+02, -2.30305e+02,   67.0395  ,  9.91997e+01, 149.245  ),\n",
       "       (1., 0.00373226, -1.24104e+03, -4.91226e+01, -2.34191e+02,   57.465   ,  1.07653e+02, 141.121  ),\n",
       "       (1., 0.00373226, -3.08364e+02,  9.64680e+02, -7.17250e+01,   56.295   ,  7.70046e+00, 113.848  ),\n",
       "       (1., 0.00373226, -3.27489e+02,  3.08887e+02,  4.07930e+02,   71.9307  ,  8.07627e+01, 119.873  ),\n",
       "       (1., 0.00373226, -7.18902e+02, -1.85060e+02, -5.53048e+02,   56.4766  ,  1.14770e+02, 150.889  ),\n",
       "       (1., 0.00373226, -3.24311e+02,  8.30251e+02, -1.84108e+02,  113.893   , -5.52743e+00, 183.973  ),\n",
       "       (1., 0.00373226,  2.39318e+02,  4.26819e+02,  4.78405e+01,  -11.9448  ,  6.83126e+01, 135.266  ),\n",
       "       (1., 0.00373226, -5.41461e+02,  6.35751e+02, -4.34673e+02,   61.9401  ,  9.04696e+01, 243.019  ),\n",
       "       (1., 0.00373226,  1.55213e+02,  6.14566e+02, -3.87330e+02,    3.25419 ,  8.72282e+01, 169.804  ),\n",
       "       (1., 0.00373226, -2.63494e+02,  7.60414e+02, -5.72652e+01,   19.9077  ,  1.71421e+01,   6.24522),\n",
       "       (1., 0.00373226, -1.09571e+03, -1.05956e+02, -6.89429e+02,   54.086   ,  1.07668e+02, 146.287  ),\n",
       "       (1., 0.00373226, -3.48629e+01,  3.46531e+02, -1.20691e+03,   40.8219  ,  1.02523e+02, 155.017  ),\n",
       "       (1., 0.00373226, -8.03920e+02,  4.52823e+02,  7.13503e+01,  106.065   ,  9.81710e+01, 109.889  ),\n",
       "       (1., 0.00373226, -4.32861e+02,  4.87627e+02, -8.36006e+02,   51.067   ,  1.02414e+02, 169.965  ),\n",
       "       (1., 0.00373226, -9.65996e+02,  9.16624e+02, -1.04673e+03,   51.091   ,  9.68217e+01, 149.242  ),\n",
       "       (1., 0.00373226, -6.62253e+02,  7.67946e+02,  6.31385e+02,   55.4792  ,  9.31838e+01, 119.563  ),\n",
       "       (1., 0.00373226, -5.29326e+02,  5.14080e+02, -4.61584e+02,   69.7522  ,  1.16339e+02, 181.329  ),\n",
       "       (1., 0.00373226, -1.21178e+03,  1.63795e+03, -5.34294e+01,   49.8122  ,  9.35057e+01, 138.509  ),\n",
       "       (1., 0.00373226, -6.71874e+02,  9.06863e+02, -1.53507e+01,   54.1564  ,  7.99383e+01, 134.319  ),\n",
       "       (1., 0.00373226, -5.86552e+02,  8.11589e+02, -3.50665e+02,  105.422   ,  6.94191e+01, 159.163  ),\n",
       "       (1., 0.00373226, -5.80757e+02,  5.49370e+02, -5.04259e+02,   79.4992  ,  9.77973e+01, 161.274  ),\n",
       "       (1., 0.00373226, -4.53435e+02,  8.50130e+02, -1.40440e+02,  148.115   ,  8.35401e+01, 132.633  ),\n",
       "       (1., 0.00373226, -5.85458e+02,  2.92356e+02,  3.39606e+02,   73.4421  ,  1.08372e+02, 111.065  ),\n",
       "       (1., 0.00373226, -5.65007e+01,  8.14932e+02, -4.81099e+02,   22.4316  ,  4.64606e+01, 183.213  ),\n",
       "       (1., 0.00373226, -5.18361e+02,  1.12084e+03, -3.34175e+02,   45.9216  ,  6.90968e+01, 138.829  ),\n",
       "       (1., 0.00373226, -1.02833e+03, -5.80945e+01,  8.89527e+02,   51.5061  ,  1.05021e+02, 130.241  ),\n",
       "       (1., 0.00373226, -1.43773e+03,  4.24348e+02, -1.48910e+02,   57.7299  ,  1.01907e+02, 139.535  ),\n",
       "       (1., 0.00373226,  8.47428e+02,  8.34913e+01,  8.16332e+02,   32.1128  ,  1.03092e+02, 129.334  ),\n",
       "       (1., 0.00373226,  1.99243e+01, -4.54822e+02, -3.15418e+02,   40.1934  ,  1.29520e+02, 154.385  ),\n",
       "       (1., 0.00373226, -4.97787e+02,  7.52208e+02, -2.50854e+02,  149.805   ,  1.85711e+01, 143.381  ),\n",
       "       (1., 0.00373226, -1.68862e+02,  8.05925e+02,  4.12964e+02,   39.9961  ,  7.83436e+01, 103.302  ),\n",
       "       (1., 0.00373226, -8.53241e+02,  9.58142e+02, -3.43511e+02,   50.1258  ,  7.44051e+01, 165.175  ),\n",
       "       (1., 0.00373226,  5.73999e+02,  9.50866e+02,  3.01891e+02,   27.676   ,  8.91395e+01, 131.672  ),\n",
       "       (1., 0.00373226, -4.60734e+02,  2.86915e+03, -8.39164e+02,   43.4663  ,  9.75602e+01, 139.987  ),\n",
       "       (1., 0.00373226,  1.27206e+02,  6.33316e+02,  6.69984e+01,   -3.11942 ,  6.95620e+01, 120.392  ),\n",
       "       (1., 0.00373226, -4.01340e+02,  7.65414e+02, -3.65773e+02,   55.5907  ,  5.53952e+01, 223.818  ),\n",
       "       (1., 0.00373226, -3.57820e+02,  1.01124e+03,  1.69036e+02,   51.7106  ,  5.81781e+01, 109.187  ),\n",
       "       (1., 0.00373226, -1.33548e+01,  4.27974e+02, -1.61622e+02,  -28.8752  ,  1.30083e+02, 185.838  ),\n",
       "       (1., 0.00373226, -2.34146e+03,  3.21328e+03, -1.72517e+03,   44.0367  ,  1.00034e+02, 139.547  ),\n",
       "       (1., 0.00373226,  8.56656e+01,  2.97597e+02, -1.01193e+03,   37.4443  ,  1.03704e+02, 158.693  ),\n",
       "       (1., 0.00373226,  3.24500e+02,  5.08541e+02, -7.74168e+01,   -1.8685  ,  8.15744e+01, 145.848  ),\n",
       "       (1., 0.00373226,  9.56392e+01, -1.03015e+03, -1.08019e+03,   42.1277  ,  1.07511e+02, 143.85   ),\n",
       "       (1., 0.00373226, -3.89174e+02,  8.49628e+02, -1.86036e+02,  118.277   ,  2.38408e+00, 144.627  ),\n",
       "       (1., 0.00373226, -9.87003e+02,  4.60523e+02,  6.04228e+01,   72.8288  ,  1.03102e+02, 132.35   ),\n",
       "       (1., 0.00373226, -5.96276e+02,  2.99631e+02,  4.54923e+02,   66.7687  ,  1.05267e+02, 112.672  ),\n",
       "       (1., 0.00373226, -2.21401e+02,  1.53819e+02, -4.91702e+02,   47.7544  ,  1.25963e+02, 182.45   ),\n",
       "       (1., 0.00373226, -2.70083e+02,  1.05387e+03, -3.10074e+02,   55.0899  ,  4.12354e+01, 146.98   ),\n",
       "       (1., 0.00373226, -3.40124e+02,  7.24947e+02, -1.16944e+01,   36.2974  ,  5.97759e+00,   8.73785),\n",
       "       (1., 0.00373226, -2.58371e+02,  7.18771e+02, -4.65856e+02,   37.0862  ,  8.74937e+01, 203.257  ),\n",
       "       (1., 0.00373226, -1.74828e+02,  5.62906e+02,  4.51732e+02,   45.503   ,  8.52101e+01,  95.3903 ),\n",
       "       (1., 0.00373226, -2.57178e+03,  5.01645e+02,  2.24753e+03,   44.7843  ,  1.01188e+02, 137.194  ),\n",
       "       (1., 0.00373226, -2.71427e+02,  3.95786e+02, -6.13316e+02,   51.2483  ,  9.81344e+01, 178.657  ),\n",
       "       (1., 0.00373226, -4.68173e+02,  8.54518e+02, -3.28477e+02,  104.729   ,  9.82415e+01, 211.135  ),\n",
       "       (1., 0.00373226, -6.43713e+02,  6.77963e+02, -8.31405e+01,  140.316   ,  9.67182e+01, 146.283  ),\n",
       "       (1., 0.00373226, -8.43703e+02,  8.28584e+02,  1.75625e+02,   71.8197  ,  8.79411e+01, 124.479  ),\n",
       "       (1., 0.00373226, -4.32310e+02,  7.66703e+02, -1.68786e+02,  196.908   ,  5.02740e+01, 165.481  ),\n",
       "       (1., 0.00373226,  3.79018e+02,  7.52234e+02, -1.42447e+03,   39.1839  ,  9.90754e+01, 148.096  ),\n",
       "       (1., 0.00373226, -2.78793e+02,  1.81149e+02, -1.86176e+02,   77.452   ,  1.56745e+02, 147.347  ),\n",
       "       (1., 0.00373226,  5.91892e+02, -9.01800e+02,  3.59867e+03,   42.7611  ,  1.01818e+02, 137.194  ),\n",
       "       (1., 0.00373226,  1.91620e+03,  9.60168e+02,  1.52206e+03,   40.2335  ,  1.00395e+02, 136.666  ),\n",
       "       (1., 0.00373226, -7.77109e+02,  6.69390e+02, -4.91750e+02,   51.7583  ,  1.18255e+02, 135.602  ),\n",
       "       (1., 0.00373226, -4.52557e+02,  8.16456e+02, -5.19784e+02,  112.782   ,  7.11487e+01, 174.679  ),\n",
       "       (1., 0.00373226, -2.58832e+02,  1.46241e+03,  4.86316e+02,   43.544   ,  8.67128e+01, 130.108  ),\n",
       "       (1., 0.00373226, -1.82686e+02,  1.64696e+03,  4.20639e+02,   42.6306  ,  8.84970e+01, 133.211  ),\n",
       "       (1., 0.00373226, -3.72313e+02,  1.01999e+03,  3.52852e+02,   49.9116  ,  7.50996e+01, 113.243  ),\n",
       "       (1., 0.00373226, -6.72090e+01,  9.59931e+02, -1.06905e+02,   19.8102  ,  5.42270e+01,  92.5909 ),\n",
       "       (1., 0.00373226, -7.97010e+02,  8.13817e+02, -5.50448e+02,   68.2568  ,  8.94696e+01, 159.112  ),\n",
       "       (1., 0.00373226, -2.05879e+02,  4.86266e+03, -2.27803e+03,   43.0845  ,  1.00310e+02, 139.29   ),\n",
       "       (1., 0.00373226, -8.43966e+02,  1.30134e+02,  1.99358e+02,   69.3312  ,  1.11852e+02, 128.836  ),\n",
       "       (1., 0.00373226, -7.24422e+02,  6.86168e+02, -9.50488e+02,   53.3504  ,  9.77645e+01, 156.923  ),\n",
       "       (1., 0.00373226, -5.02441e+02,  8.41315e+02, -2.33452e+02,   97.9321  ,  3.94295e+01, 175.606  ),\n",
       "       (1., 0.00373226, -5.95756e+02,  5.12615e+02, -1.08821e+02,  151.949   ,  9.68699e+01, 132.093  ),\n",
       "       (1., 0.00373226, -5.82442e+02,  2.84623e+02, -5.72025e+02,   46.3039  ,  9.41373e+01, 185.518  ),\n",
       "       (1., 0.00373226, -6.65002e+02,  6.57565e+02, -1.21850e+02,  133.984   ,  6.88687e+01, 112.462  ),\n",
       "       (1., 0.00373226, -3.65599e+02,  7.63217e+02, -5.56056e+01,   78.1416  , -3.07925e+01,  62.6329 ),\n",
       "       (1., 0.00373226, -5.42922e+02,  8.90012e+02,  1.15636e+02,   43.4929  ,  5.21308e+01, 118.443  ),\n",
       "       (1., 0.00373226,  4.64591e+01,  9.95537e+02, -5.89274e+02,   29.0575  ,  8.02246e+01, 160.911  ),\n",
       "       (1., 0.00373226, -5.16029e+02,  6.98515e+02, -2.11054e+02,  130.033   ,  2.63307e+01, 170.105  ),\n",
       "       (1., 0.00373226, -8.01086e+02,  6.90555e+02, -2.03005e+02,   87.1609  ,  7.64464e+01, 119.963  ),\n",
       "       (1., 0.00373226, -5.97164e+02,  6.54348e+02, -1.81370e+02,  130.433   ,  1.01108e+02, 159.806  ),\n",
       "       (1., 0.00373226, -8.80385e+02,  6.11248e+02,  3.93854e+02,   64.9788  ,  9.73421e+01, 122.704  ),\n",
       "       (1., 0.00373226, -2.55536e+02,  2.09829e+02, -8.98344e+02,   44.8097  ,  1.08318e+02, 163.986  ),\n",
       "       (1., 0.00373226,  6.16844e+02,  1.18242e+03, -1.30760e+03,   38.8339  ,  9.73840e+01, 145.307  ),\n",
       "       (1., 0.00373226, -1.17960e+03, -3.09191e+02,  1.77050e+02,   54.8961  ,  1.08822e+02, 136.396  ),\n",
       "       (1., 0.00373226, -1.51602e+03,  5.02944e+02, -5.48744e+02,   54.3715  ,  1.01098e+02, 142.804  ),\n",
       "       (1., 0.00373226, -2.68322e+02,  8.02321e+02, -7.87511e+01,    5.84445 , -1.88741e+01,  94.5961 ),\n",
       "       (1., 0.00373226, -4.39439e+02,  1.15746e+03,  7.55321e+01,   59.0838  ,  7.32256e+01, 124.902  ),\n",
       "       (1., 0.00373226, -1.97042e+03, -5.43071e+02, -3.35412e+01,   48.4051  ,  1.03990e+02, 138.77   ),\n",
       "       (1., 0.00373226, -4.52407e+02, -2.25137e+03,  5.56880e+02,   43.5718  ,  1.04809e+02, 138.032  ),\n",
       "       (1., 0.00373226,  5.53193e+01,  1.11327e+03,  1.44671e+01,   25.1331  ,  6.82392e+01, 131.871  ),\n",
       "       (1., 0.00373226, -6.06907e+02,  8.11112e+02,  3.68297e+02,   64.1878  ,  8.53116e+01, 111.217  ),\n",
       "       (1., 0.00373226, -2.36644e+03, -2.69505e+03, -1.97694e+02,   44.1657  ,  1.02752e+02, 138.891  ),\n",
       "       (1., 0.00373226,  3.15263e-01,  7.92425e+02, -3.73919e+02,  -34.0286  ,  4.61000e+01, 166.713  ),\n",
       "       (1., 0.00373226, -4.07099e+02,  9.61908e+02, -3.30841e+02,   95.1087  ,  5.19827e+01, 181.187  ),\n",
       "       (1., 0.00373226, -5.72618e+02,  7.60221e+02, -1.96968e+02,   98.0846  ,  9.09837e+01, 135.229  ),\n",
       "       (1., 0.00373226, -2.91895e+02,  4.69598e+02, -5.37873e+02,   50.0548  ,  8.78067e+01, 188.877  ),\n",
       "       (1., 0.00373226, -6.38524e+02,  1.45746e+03, -1.45943e+02,   51.2368  ,  8.19301e+01, 139.542  ),\n",
       "       (1., 0.00373226, -5.07767e+02,  9.05099e+02, -1.59303e+02,   97.7114  ,  6.96890e+01, 186.425  ),\n",
       "       (1., 0.00373226, -2.34458e+02,  6.16581e+02,  1.24743e+02,   50.1601  ,  5.73817e+01,  38.2986 ),\n",
       "       (1., 0.00373226,  2.25662e+02,  1.81707e+03, -5.71134e+02,   39.9091  ,  9.18993e+01, 142.236  ),\n",
       "       (1., 0.00373226, -7.23032e+02,  7.55284e+02, -3.81177e+02,   92.383   ,  8.28513e+01, 176.604  ),\n",
       "       (1., 0.00373226, -7.11637e+02,  6.35144e+02, -2.95348e+02,   95.1812  ,  8.39935e+01, 187.353  ),\n",
       "       (1., 0.00373226, -7.72384e+02,  5.00362e+02, -3.81493e+02,  113.31    ,  8.81023e+01, 131.078  ),\n",
       "       (1., 0.00373226, -5.63985e+02, -2.10326e+02, -4.55206e+02,   57.7385  ,  1.19899e+02, 153.189  ),\n",
       "       (1., 0.00373226, -8.06257e+02,  6.46643e+02, -7.87163e+00,   79.6133  ,  7.81224e+01, 122.413  ),\n",
       "       (1., 0.00373226, -5.41847e+02,  8.39409e+02, -7.37892e+01,  117.077   ,  3.85203e+01, 142.942  ),\n",
       "       (1., 0.00373226, -8.06195e+02,  8.90973e+02,  6.66505e+00,   77.7896  ,  8.10474e+01, 130.113  ),\n",
       "       (1., 0.00373226, -3.69223e+02,  6.06699e+02, -4.79523e+02,   88.8193  ,  1.21974e+02, 194.523  ),\n",
       "       (1., 0.00373226, -6.41807e+02,  3.42504e+02, -2.78466e+02,   74.3499  ,  1.23030e+02, 186.833  ),\n",
       "       (1., 0.00373226, -7.53763e+02,  9.10954e+02,  1.26005e+02,   73.6553  ,  8.01829e+01, 123.292  ),\n",
       "       (1., 0.00373226, -6.97589e+02,  7.82684e+02, -5.14992e+02,   49.7756  ,  8.39183e+01, 160.541  ),\n",
       "       (1., 0.00373226, -3.91965e+02,  1.07269e+03,  2.82954e+02,   50.8848  ,  7.16531e+01, 115.87   ),\n",
       "       (1., 0.00373226, -8.42832e+02, -5.15598e+01,  1.01540e+03,   50.2845  ,  1.04976e+02, 128.574  ),\n",
       "       (1., 0.00373226, -5.75986e+02,  9.08944e+02,  3.46629e+01,  110.675   ,  7.47973e+01, 121.953  ),\n",
       "       (1., 0.00373226, -7.61004e+02,  8.07596e+02, -1.31832e+03,   47.758   ,  9.85210e+01, 149.535  ),\n",
       "       (1., 0.00373226, -1.62064e+02,  1.03817e+03, -2.75059e+02,   -4.27081 ,  7.11216e+01, 171.202  ),\n",
       "       (1., 0.00373226, -9.35430e+01, -6.43522e+02, -3.39765e+02,   43.9354  ,  1.22012e+02, 147.619  ),\n",
       "       (1., 0.00373226, -5.61499e+02,  6.64698e+02, -4.05738e+02,  103.059   ,  8.90387e+01, 172.533  ),\n",
       "       (1., 0.00373226, -4.69140e+02,  7.23106e+02, -3.42150e+02,   86.3967  ,  8.62010e+01, 230.768  ),\n",
       "       (1., 0.00373226, -1.78864e+02,  1.21616e+03, -3.17411e+02,   37.8068  ,  6.60539e+01, 149.661  ),\n",
       "       (1., 0.00373226, -7.40743e+02,  7.75914e+02, -6.77104e+02,   62.6446  ,  9.21896e+01, 161.721  ),\n",
       "       (1., 0.00373226, -1.68807e+03,  3.09350e+02, -6.40253e+02,   51.7238  ,  1.02128e+02, 142.077  ),\n",
       "       (1., 0.00373226, -1.72790e+02,  1.62630e+03, -2.44720e+01,   41.9845  ,  8.39893e+01, 137.63   ),\n",
       "       (1., 0.00373226, -5.06027e+02,  9.76051e+02, -4.91201e+02,   56.6873  ,  4.79998e+01, 134.705  ),\n",
       "       (1., 0.00373226, -2.19458e+02,  1.87859e+02, -7.46704e+02,   44.3812  ,  1.12642e+02, 170.392  ),\n",
       "       (1., 0.00373226, -3.97388e+02,  7.61055e+02, -3.07938e+02,  118.444   , -8.84039e+00, 231.152  ),\n",
       "       (1., 0.00373226, -6.75323e+02,  7.08442e+02, -2.40759e+02,   93.4843  ,  7.20289e+01, 153.847  ),\n",
       "       (1., 0.00373226, -7.14812e+02,  7.82833e+02, -2.18212e+02,   95.9234  ,  7.94842e+01, 190.625  ),\n",
       "       (1., 0.00373226, -2.33668e+03, -1.74159e+03, -1.53906e+03,   44.5421  ,  1.02687e+02, 139.815  ),\n",
       "       (1., 0.00373226, -6.86640e+02,  5.90400e+02, -2.14112e+02,   83.6492  ,  6.94248e+01, 132.395  ),\n",
       "       (1., 0.00373226, -6.17077e+02,  7.96408e+02, -1.91740e+02,  120.415   ,  5.63011e+01, 155.324  ),\n",
       "       (1., 0.00373226,  8.54638e+02,  5.48570e+02, -1.77885e+03,   39.9935  ,  1.00797e+02, 144.038  ),\n",
       "       (1., 0.00373226,  4.08735e+01,  4.58687e+02,  4.03004e+02,   29.0314  ,  7.60421e+01,  92.1668 ),\n",
       "       (1., 0.00373226, -3.27844e+02,  7.27295e+02, -1.31683e+03,   44.2627  ,  9.85282e+01, 152.547  ),\n",
       "       (1., 0.00373226, -5.30453e+02,  1.41805e+03,  5.30493e+02,   47.2346  ,  8.82389e+01, 129.928  ),\n",
       "       (1., 0.00373226,  3.50183e+02,  1.38550e+03,  6.97751e+02,   37.9796  ,  9.20423e+01, 131.585  ),\n",
       "       (1., 0.00373226, -3.28391e+02,  3.42631e+02, -6.32635e+02,   50.7574  ,  1.15116e+02, 184.323  ),\n",
       "       (1., 0.00373226, -4.10137e+02,  2.38246e+02, -6.85463e+02,   53.6907  ,  1.14747e+02, 172.261  ),\n",
       "       (1., 0.00373226, -4.78862e+02,  7.00340e+02,  3.63375e+00,  124.063   ,  4.26149e+00,  66.5016 ),\n",
       "       (1., 0.00373226, -4.16940e+02,  2.05556e+02, -4.95446e+02,   57.589   ,  9.96813e+01, 197.492  ),\n",
       "       (1., 0.00373226, -4.98578e+02,  9.24866e+02, -6.06343e+02,   73.738   ,  1.03347e+02, 181.346  ),\n",
       "       (1., 0.00373226, -2.30874e+02,  7.84207e+02, -1.30071e+03,   43.1822  ,  9.78582e+01, 152.543  ),\n",
       "       (1., 0.00373226, -9.44445e+01,  7.06631e+02,  7.70302e+01,   33.7593  ,  5.35023e+01,  45.93   ),\n",
       "       (1., 0.00373226, -4.78464e+02,  6.94563e+02,  1.45145e+02,  109.768   ,  7.97254e+01, 117.403  ),\n",
       "       (1., 0.00373226,  9.15952e+02,  1.64655e+03,  2.02105e+02,   37.4262  ,  9.49089e+01, 137.49   ),\n",
       "       (1., 0.00373226, -4.44746e+02,  5.16387e+02, -6.32356e+02,   40.354   ,  6.82950e+01, 189.623  ),\n",
       "       (1., 0.00373226, -5.29944e+02,  4.32646e+02,  2.33311e+02,   62.891   ,  1.36846e+02, 119.128  ),\n",
       "       (1., 0.00373226, -4.39012e+02,  7.54940e+02, -2.64801e+02,  127.875   ,  1.16467e+01, 189.053  ),\n",
       "       (1., 0.00373226,  2.58529e+01,  7.31391e+02, -1.34240e+02,  -23.4128  ,  7.90954e+01, 173.681  ),\n",
       "       (1., 0.00373226, -4.84507e+02,  4.09657e+02, -4.51846e+02,   84.5417  ,  1.15286e+02, 233.002  ),\n",
       "       (1., 0.00373226, -2.10044e+03,  3.10319e+03, -3.92470e+02,   44.4675  ,  9.93352e+01, 139.045  ),\n",
       "       (1., 0.00373226,  1.24689e+02,  9.34870e+02, -6.75526e+02,   29.6058  ,  8.60621e+01, 159.696  ),\n",
       "       (1., 0.00373226,  4.78138e+01,  9.70225e+02, -2.92049e+02,   34.8799  ,  2.99352e+01, 143.395  ),\n",
       "       (1., 0.00373226, -2.90605e+02,  5.29369e+02,  3.52659e+02,   57.0894  ,  8.90814e+01,  87.2461 ),\n",
       "       (1., 0.00373226, -4.12948e+02,  8.58762e+02, -7.17271e+01,   94.7272  ,  1.39659e+01, 134.663  ),\n",
       "       (1., 0.00373226, -4.95424e+02,  1.13103e+02, -3.88731e+02,   34.5363  ,  1.21850e+02, 170.471  ),\n",
       "       (1., 0.00373226, -4.32098e+02,  1.18204e+03, -5.68878e+02,   49.4329  ,  7.72376e+01, 156.494  ),\n",
       "       (1., 0.00373226, -2.23212e+02,  6.88472e+02, -5.80093e+02,   31.4464  ,  5.38159e+01, 187.312  ),\n",
       "       (1., 0.00373226, -3.88929e+02,  7.94725e+02, -5.81615e+02,   46.0566  ,  9.49286e+01, 168.313  ),\n",
       "       (1., 0.00373226, -6.03725e+02,  4.97341e+02, -9.16846e+00,   96.9997  ,  9.20981e+01, 104.899  )],\n",
       "      dtype=[('type', '<f8'), ('m', '<f8'), ('x', '<f8'), ('y', '<f8'), ('z', '<f8'), ('vx', '<f8'), ('vy', '<f8'), ('vz', '<f8')])"
      ]
     },
     "execution_count": 62,
     "metadata": {},
     "output_type": "execute_result"
    }
   ],
   "source": [
    "starMW"
   ]
  },
  {
   "cell_type": "code",
   "execution_count": 77,
   "metadata": {
    "execution_event_id": "b2fe22a0-99dd-4ffd-818c-6e83834c5f0b",
    "last_executed_text": "from tqdm import tqdm\nsnap_id = []\nRj_MW_M33 = []\nRj_M31_M33 = []\nj = 0\nfor i in tqdm(range(1,101,5)):\n    temp_snap = Snap(i)\n    if i == 1:\n        temp_Rj_MW_M33, temp_Rj_M31_M33 = temp_snap.Rj()\n        Rj_MW_M33.append(temp_Rj_MW_M33)\n        Rj_M31_M33.append(temp_Rj_M31_M33)\n    else:\n        temp_Rj_MW_M33, temp_Rj_M31_M33 = temp_snap.Rj(Rj_MW_M33[j],Rj_M31_M33[j])\n        Rj_MW_M33.append(temp_Rj_MW_M33)\n        Rj_M31_M33.append(temp_Rj_M31_M33)\n        j += 1\n    snap_id.append(i)",
    "persistent_id": "e3dc12b6-cd70-4ef2-b6f3-73a18a5ab5d1"
   },
   "outputs": [
    {
     "name": "stderr",
     "output_type": "stream",
     "text": [
      "\n",
      "\n",
      "  0%|          | 0/20 [00:00<?, ?it/s]\u001b[A\u001b[A\n",
      "\n",
      "  5%|▌         | 1/20 [00:15<04:46, 15.08s/it]\u001b[A\u001b[A\n",
      "\n",
      " 10%|█         | 2/20 [00:30<04:34, 15.27s/it]\u001b[A\u001b[A\n",
      "\n",
      " 15%|█▌        | 3/20 [00:45<04:17, 15.14s/it]\u001b[A\u001b[A\n",
      "\n",
      " 20%|██        | 4/20 [01:01<04:05, 15.35s/it]\u001b[A\u001b[A\n",
      "\n",
      " 25%|██▌       | 5/20 [01:14<03:38, 14.57s/it]\u001b[A\u001b[A\n",
      "\n",
      " 30%|███       | 6/20 [01:27<03:20, 14.32s/it]\u001b[A\u001b[A\n",
      "\n",
      " 35%|███▌      | 7/20 [01:40<03:00, 13.91s/it]\u001b[A\u001b[A\n",
      "\n",
      " 40%|████      | 8/20 [01:53<02:42, 13.55s/it]\u001b[A\u001b[A\n",
      "\n",
      " 45%|████▌     | 9/20 [02:07<02:29, 13.62s/it]\u001b[A\u001b[A\n",
      "\n",
      " 50%|█████     | 10/20 [02:19<02:12, 13.22s/it]\u001b[A\u001b[A\n",
      "\n",
      " 55%|█████▌    | 11/20 [02:33<02:01, 13.46s/it]\u001b[A\u001b[A\n",
      "\n",
      " 60%|██████    | 12/20 [02:46<01:46, 13.28s/it]\u001b[A\u001b[A\n",
      "\n",
      " 65%|██████▌   | 13/20 [02:58<01:30, 12.88s/it]\u001b[A\u001b[A\n",
      "\n",
      " 70%|███████   | 14/20 [03:11<01:17, 12.84s/it]\u001b[A\u001b[A\n",
      "\n",
      " 75%|███████▌  | 15/20 [03:22<01:02, 12.47s/it]\u001b[A\u001b[A\n",
      "\n",
      " 80%|████████  | 16/20 [03:33<00:48, 12.06s/it]\u001b[A\u001b[A\n",
      "\n",
      " 85%|████████▌ | 17/20 [03:45<00:35, 11.77s/it]\u001b[A\u001b[A\n",
      "\n",
      " 90%|█████████ | 18/20 [03:56<00:23, 11.57s/it]\u001b[A\u001b[A\n",
      "\n",
      " 95%|█████████▌| 19/20 [04:07<00:11, 11.50s/it]\u001b[A\u001b[A\n",
      "\n",
      "100%|██████████| 20/20 [04:18<00:00, 12.93s/it]\u001b[A\u001b[A\n"
     ]
    }
   ],
   "source": [
    "from tqdm import tqdm\n",
    "snap_id = []\n",
    "Rj_MW_M33 = []\n",
    "Rj_M31_M33 = []\n",
    "j = 0\n",
    "for i in tqdm(range(1,101,5)):\n",
    "    temp_snap = Snap(i)\n",
    "    if i == 1:\n",
    "        temp_Rj_MW_M33, temp_Rj_M31_M33 = temp_snap.Rj()\n",
    "        Rj_MW_M33.append(temp_Rj_MW_M33)\n",
    "        Rj_M31_M33.append(temp_Rj_M31_M33)\n",
    "    else:\n",
    "        temp_Rj_MW_M33, temp_Rj_M31_M33 = temp_snap.Rj(Rj_MW_M33[j],Rj_M31_M33[j])\n",
    "        Rj_MW_M33.append(temp_Rj_MW_M33)\n",
    "        Rj_M31_M33.append(temp_Rj_M31_M33)\n",
    "        j += 1\n",
    "    snap_id.append(i)"
   ]
  },
  {
   "cell_type": "code",
   "execution_count": 78,
   "metadata": {
    "execution_event_id": "55970503-1137-4fba-99c8-d713fc19df91",
    "last_executed_text": "Rj_MW_M33",
    "persistent_id": "a61a1aea-e551-401e-807a-ffeba0f37ea1"
   },
   "outputs": [
    {
     "data": {
      "text/plain": [
       "[366.77148899551594,\n",
       " 345.7408761721368,\n",
       " 342.61742181606814,\n",
       " 339.25183176205906,\n",
       " 335.7392159922693,\n",
       " 330.83364404893825,\n",
       " 327.5658975856285,\n",
       " 325.18667745180073,\n",
       " 320.7859036721584,\n",
       " 316.6476503625817,\n",
       " 312.8659024130138,\n",
       " 308.2536081533759,\n",
       " 305.3511699940214,\n",
       " 301.8069899262213,\n",
       " 298.98708076712285,\n",
       " 294.9228545047138,\n",
       " 291.3782887635562,\n",
       " 282.8273441957278,\n",
       " 285.2007879654345,\n",
       " 276.47588606868595]"
      ]
     },
     "execution_count": 78,
     "metadata": {},
     "output_type": "execute_result"
    }
   ],
   "source": [
    "Rj_MW_M33"
   ]
  },
  {
   "cell_type": "code",
   "execution_count": 79,
   "metadata": {
    "execution_event_id": "336092c3-3f3c-44f7-8ac3-f04d17be14b4",
    "last_executed_text": "Rj_M31_M33",
    "persistent_id": "309dc7a0-93ef-4dce-a7a3-7790430ab3ed"
   },
   "outputs": [
    {
     "data": {
      "text/plain": [
       "[1.444741393735398,\n",
       " 0.0,\n",
       " 0.0,\n",
       " 0.0,\n",
       " 0.0,\n",
       " 0.0,\n",
       " 0.0,\n",
       " 0.0,\n",
       " 0.0,\n",
       " 0.0,\n",
       " 0.0,\n",
       " 0.0,\n",
       " 0.0,\n",
       " 0.0,\n",
       " 0.0,\n",
       " 0.0,\n",
       " 0.0,\n",
       " 0.0,\n",
       " 0.0,\n",
       " 0.0]"
      ]
     },
     "execution_count": 79,
     "metadata": {},
     "output_type": "execute_result"
    }
   ],
   "source": [
    "Rj_M31_M33"
   ]
  },
  {
   "cell_type": "code",
   "execution_count": 74,
   "metadata": {
    "execution_event_id": "1a05639b-8e40-4075-8979-360451159d90",
    "last_executed_text": "from tqdm import tqdm\nsnap_id = []\nRj_MW_M33 = []\nRj_M31_M33 = []\nj = 0\nfor i in tqdm(range(1,801,50)):\n    temp_snap = Snap(i)\n    temp_Rj_MW_M33, temp_Rj_M31_M33 = temp_snap.Rj()\n    Rj_MW_M33.append(temp_Rj_MW_M33)\n    Rj_M31_M33.append(temp_Rj_M31_M33)\n    snap_id.append(i)",
    "persistent_id": "56e269aa-6c8e-4126-a0eb-d1a3f9b1d7ec"
   },
   "outputs": [
    {
     "name": "stderr",
     "output_type": "stream",
     "text": [
      "\n",
      "\n",
      "  0%|          | 0/16 [00:00<?, ?it/s]\u001b[A\u001b[A\n",
      "\n",
      "  6%|▋         | 1/16 [00:13<03:17, 13.16s/it]\u001b[A\u001b[A\n",
      "\n",
      " 12%|█▎        | 2/16 [00:28<03:13, 13.81s/it]\u001b[A\u001b[A\n",
      "\n",
      " 19%|█▉        | 3/16 [00:42<02:58, 13.75s/it]\u001b[A\u001b[A\n",
      "\n",
      " 25%|██▌       | 4/16 [00:54<02:39, 13.25s/it]\u001b[A\u001b[A\n",
      "\n",
      " 31%|███▏      | 5/16 [01:10<02:36, 14.26s/it]\u001b[A\u001b[A\n",
      "\n",
      " 38%|███▊      | 6/16 [01:27<02:29, 14.96s/it]\u001b[A\u001b[A\n",
      "\n",
      " 44%|████▍     | 7/16 [01:40<02:10, 14.52s/it]\u001b[A\u001b[A\n",
      "\n",
      " 50%|█████     | 8/16 [01:55<01:57, 14.66s/it]\u001b[A\u001b[A\n",
      "\n",
      " 56%|█████▋    | 9/16 [02:11<01:43, 14.81s/it]\u001b[A\u001b[A\n",
      "\n",
      " 62%|██████▎   | 10/16 [02:23<01:24, 14.15s/it]\u001b[A\u001b[A\n",
      "\n",
      " 69%|██████▉   | 11/16 [02:38<01:11, 14.35s/it]\u001b[A\u001b[A\n",
      "\n",
      " 75%|███████▌  | 12/16 [02:52<00:56, 14.23s/it]\u001b[A\u001b[A\n",
      "\n",
      " 81%|████████▏ | 13/16 [03:04<00:40, 13.64s/it]\u001b[A\u001b[A\n",
      "\n",
      " 88%|████████▊ | 14/16 [03:16<00:26, 13.19s/it]\u001b[A\u001b[A\n",
      "\n",
      " 94%|█████████▍| 15/16 [03:28<00:12, 12.78s/it]\u001b[A\u001b[A\n",
      "\n",
      "100%|██████████| 16/16 [03:41<00:00, 13.85s/it]\u001b[A\u001b[A\n"
     ]
    }
   ],
   "source": [
    "from tqdm import tqdm\n",
    "snap_id = []\n",
    "Rj_MW_M33 = []\n",
    "Rj_M31_M33 = []\n",
    "j = 0\n",
    "for i in tqdm(range(1,801,50)):\n",
    "    temp_snap = Snap(i)\n",
    "    temp_Rj_MW_M33, temp_Rj_M31_M33 = temp_snap.Rj()\n",
    "    Rj_MW_M33.append(temp_Rj_MW_M33)\n",
    "    Rj_M31_M33.append(temp_Rj_M31_M33)\n",
    "    snap_id.append(i)"
   ]
  },
  {
   "cell_type": "code",
   "execution_count": 75,
   "metadata": {
    "execution_event_id": "8c892b2e-d3a4-4699-9662-511833e79e07",
    "last_executed_text": "Rj_MW_M33",
    "persistent_id": "2ebb799e-b47e-44c6-8578-658f43ad5590"
   },
   "outputs": [
    {
     "data": {
      "text/plain": [
       "[366.77148899551594,\n",
       " 327.81804881752123,\n",
       " 290.2415330764903,\n",
       " 241.82402402571256,\n",
       " 177.7078067251049,\n",
       " 88.82856666192873,\n",
       " 72.03280209133852,\n",
       " 96.85638214303657,\n",
       " 42.01384935082548,\n",
       " 1.765910622978336,\n",
       " 69.27935584420204,\n",
       " 2.1583840804921635,\n",
       " 2.657056648976282,\n",
       " 2.094637464846342,\n",
       " 2.106615931308577,\n",
       " 2.1233732816527944]"
      ]
     },
     "execution_count": 75,
     "metadata": {},
     "output_type": "execute_result"
    }
   ],
   "source": [
    "Rj_MW_M33"
   ]
  },
  {
   "cell_type": "code",
   "execution_count": 76,
   "metadata": {
    "execution_event_id": "fd935b07-26f6-4815-ad74-05c39bf98e17",
    "last_executed_text": "Rj_M31_M33",
    "persistent_id": "089de141-3c8f-42e8-82f9-520391661d8e"
   },
   "outputs": [
    {
     "data": {
      "text/plain": [
       "[1.444741393735398,\n",
       " 2.9141331756552686,\n",
       " 1.6946695990691067,\n",
       " 1.948570823330607,\n",
       " 1.563196483267721,\n",
       " 1.3626882534180713,\n",
       " 4.558666519996171,\n",
       " 1.8185636009980304,\n",
       " 2.2617761669747782,\n",
       " 2.6619555920340425,\n",
       " 2.681858072801591,\n",
       " 4.8068297018396615,\n",
       " 3.639987144774505,\n",
       " 2.680451505526067,\n",
       " 2.9142752847147526,\n",
       " 2.8210647554964075]"
      ]
     },
     "execution_count": 76,
     "metadata": {},
     "output_type": "execute_result"
    }
   ],
   "source": [
    "Rj_M31_M33"
   ]
  },
  {
   "cell_type": "code",
   "execution_count": 70,
   "metadata": {
    "execution_event_id": "a08a82c9-1274-48b0-ae2d-de61579a0992",
    "last_executed_text": "fig, ax= plt.subplots(figsize=(10, 10))\n\n# Plot the analytical separation of M31 and M33\nax.semilogy(snap_id, Rj_MW_M33, 'b', lw=5, label='MW-M33 Rj')\n\n# Plot the simulated separation of M31 and M33\nax.semilogy(snap_id, Rj_M31_M33, 'r', lw=5, label='M31-M33 Rj')\n\n\n# Add axis labels\nax.set_xlabel('Snap', fontsize=22)\nax.set_ylabel('Rj(kpc)', fontsize=22)\nax.set_title(\"Rj vs. Snap Time\", fontsize=22)\n\n#adjust tick label font size\nax.xaxis.set_tick_params(labelsize=22)\nax.yaxis.set_tick_params(labelsize=22)\n\n# add a legend with some customizations.\nlegend = ax.legend(loc='upper left',fontsize=20)\n\n# tight layout\nfig.tight_layout()\n\n# Save to a file\nfig.savefig('orbit_M33_R.pdf')",
    "persistent_id": "b9337c6d-1f41-4f9b-8351-4d8d6b8d8679"
   },
   "outputs": [
    {
     "data": {
      "image/png": "[encoded data removed]",
      "text/plain": [
       "<Figure size 720x720 with 1 Axes>"
      ]
     },
     "metadata": {
      "needs_background": "light"
     },
     "output_type": "display_data"
    }
   ],
   "source": [
    "fig, ax= plt.subplots(figsize=(10, 10))\n",
    "\n",
    "# Plot the analytical separation of M31 and M33\n",
    "ax.semilogy(snap_id, Rj_MW_M33, 'b', lw=5, label='MW-M33 Rj')\n",
    "\n",
    "# Plot the simulated separation of M31 and M33\n",
    "ax.semilogy(snap_id, Rj_M31_M33, 'r', lw=5, label='M31-M33 Rj')\n",
    "\n",
    "\n",
    "# Add axis labels\n",
    "ax.set_xlabel('Snap', fontsize=22)\n",
    "ax.set_ylabel('Rj(kpc)', fontsize=22)\n",
    "ax.set_title(\"Rj vs. Snap Time\", fontsize=22)\n",
    "\n",
    "#adjust tick label font size\n",
    "ax.xaxis.set_tick_params(labelsize=22)\n",
    "ax.yaxis.set_tick_params(labelsize=22)\n",
    "\n",
    "# add a legend with some customizations.\n",
    "legend = ax.legend(loc='upper left',fontsize=20)\n",
    "\n",
    "# tight layout\n",
    "fig.tight_layout()\n",
    "\n",
    "# Save to a file\n",
    "fig.savefig('orbit_M33_R.pdf')"
   ]
  },
  {
   "cell_type": "code",
   "execution_count": 71,
   "metadata": {
    "execution_event_id": "a1f34de5-826f-4f7f-a782-fac76cd9c4c7",
    "last_executed_text": "Rj_M31_M33",
    "persistent_id": "fd9787f6-14a5-4221-a05a-f52161217f89"
   },
   "outputs": [
    {
     "data": {
      "text/plain": [
       "[1.444741393735398,\n",
       " 0.0,\n",
       " 0.0,\n",
       " 0.0,\n",
       " 0.0,\n",
       " 0.0,\n",
       " 0.0,\n",
       " 0.0,\n",
       " 0.0,\n",
       " 0.0,\n",
       " 0.0,\n",
       " 0.0,\n",
       " 0.0,\n",
       " 0.0,\n",
       " 0.0,\n",
       " 0.0,\n",
       " 0.0,\n",
       " 0.0,\n",
       " 0.0,\n",
       " 0.0]"
      ]
     },
     "execution_count": 71,
     "metadata": {},
     "output_type": "execute_result"
    }
   ],
   "source": [
    "Rj_M31_M33"
   ]
  },
  {
   "cell_type": "code",
   "execution_count": 64,
   "metadata": {
    "execution_event_id": "7a50c3d3-f459-4d91-a089-349365905aeb",
    "last_executed_text": "snap_id",
    "persistent_id": "56a7844c-1a64-4930-a2fd-0e0393dcf56d"
   },
   "outputs": [
    {
     "data": {
      "text/plain": [
       "[1, 51, 101, 151, 201, 251, 301, 351, 401, 451, 501, 551, 601, 651, 701, 751]"
      ]
     },
     "execution_count": 64,
     "metadata": {},
     "output_type": "execute_result"
    }
   ],
   "source": [
    "snap_id"
   ]
  },
  {
   "cell_type": "code",
   "execution_count": 65,
   "metadata": {
    "execution_event_id": "f2466ed9-4630-4d62-911f-161031644bc8",
    "last_executed_text": "fig, ax= plt.subplots(figsize=(10, 10))\n\n# Plot the analytical separation of M31 and M33\nax.semilogy(snap_id, Rj_MW_M33, 'b', lw=5, label='MW-M33 Rj')\n\n# Plot the simulated separation of M31 and M33\nax.semilogy(snap_id, Rj_M31_M33, 'r', lw=5, label='M31-M33 Rj')\n\n\n# Add axis labels\nax.set_xlabel('Snap', fontsize=22)\nax.set_ylabel('Rj(kpc)', fontsize=22)\nax.set_title(\"Rj vs. Snap Time\", fontsize=22)\n\n#adjust tick label font size\nax.xaxis.set_tick_params(labelsize=22)\nax.yaxis.set_tick_params(labelsize=22)\n\n# add a legend with some customizations.\nlegend = ax.legend(loc='upper left',fontsize=20)\n\n# tight layout\nfig.tight_layout()\n\n",
    "persistent_id": "41f7941c-97b8-4d81-8622-056b3cdd5e1f"
   },
   "outputs": [
    {
     "data": {
      "image/png": "[encoded data removed]",
      "text/plain": [
       "<Figure size 720x720 with 1 Axes>"
      ]
     },
     "metadata": {
      "needs_background": "light"
     },
     "output_type": "display_data"
    }
   ],
   "source": [
    "fig, ax= plt.subplots(figsize=(10, 10))\n",
    "\n",
    "# Plot the analytical separation of M31 and M33\n",
    "ax.semilogy(snap_id, Rj_MW_M33, 'b', lw=5, label='MW-M33 Rj')\n",
    "\n",
    "# Plot the simulated separation of M31 and M33\n",
    "ax.semilogy(snap_id, Rj_M31_M33, 'r', lw=5, label='M31-M33 Rj')\n",
    "\n",
    "\n",
    "# Add axis labels\n",
    "ax.set_xlabel('Snap', fontsize=22)\n",
    "ax.set_ylabel('Rj(kpc)', fontsize=22)\n",
    "ax.set_title(\"Rj vs. Snap Time\", fontsize=22)\n",
    "\n",
    "#adjust tick label font size\n",
    "ax.xaxis.set_tick_params(labelsize=22)\n",
    "ax.yaxis.set_tick_params(labelsize=22)\n",
    "\n",
    "# add a legend with some customizations.\n",
    "legend = ax.legend(loc='upper left',fontsize=20)\n",
    "\n",
    "# tight layout\n",
    "fig.tight_layout()\n",
    "\n"
   ]
  },
  {
   "cell_type": "code",
   "execution_count": 94,
   "metadata": {
    "execution_event_id": "2ffd5bf4-b1b9-40af-a028-e8cc93adc005",
    "last_executed_text": "t.Rj()",
    "persistent_id": "9f0c1eed-3e1e-4893-8f1f-094683db3a16"
   },
   "outputs": [
    {
     "data": {
      "text/plain": [
       "(1.6734396454618228, 292.15500313251613)"
      ]
     },
     "execution_count": 94,
     "metadata": {},
     "output_type": "execute_result"
    }
   ],
   "source": [
    "t.Rj()"
   ]
  },
  {
   "cell_type": "code",
   "execution_count": 10,
   "metadata": {
    "execution_event_id": "ebc704a1-bbd3-48b7-be38-de96a0db9db1",
    "last_executed_text": "mu0 = 4*np.pi*1e-7\nq = 1.609*1e-19\ng = 9.81\ny = 0.01\nm = 9.11*1e-31",
    "persistent_id": "ae099661-2e79-4c8f-b3e6-186bbacc01f8"
   },
   "outputs": [],
   "source": [
    "mu0 = 4*np.pi*1e-7\n",
    "q = 1.609*1e-19\n",
    "g = 9.81\n",
    "y = 0.01\n",
    "m = 9.11*1e-31"
   ]
  },
  {
   "cell_type": "code",
   "execution_count": 11,
   "metadata": {
    "execution_event_id": "1d81a04e-ca76-4c6a-a22f-1360f0a981aa",
    "last_executed_text": "((mu0*q**2)/(6*np.pi*3*1e8*m))*np.sqrt((2*1.8676*1e12)/y)",
    "persistent_id": "5b75f9f1-0acd-4e74-84b8-0f5a2a188a8f"
   },
   "outputs": [
    {
     "data": {
      "text/plain": [
       "1.220500967189043e-16"
      ]
     },
     "execution_count": 11,
     "metadata": {},
     "output_type": "execute_result"
    }
   ],
   "source": [
    "((mu0*q**2)/(6*np.pi*3*1e8*m))*np.sqrt((2*1.8676*1e12)/y)"
   ]
  },
  {
   "cell_type": "code",
   "execution_count": null,
   "metadata": {
    "persistent_id": "bf308b4e-bc41-4f7b-ae7b-ee652d792db9"
   },
   "outputs": [],
   "source": []
  }
 ],
 "metadata": {
  "history": [
   {
    "cell": {
     "executionCount": 1,
     "executionEventId": "b1a7c769-d77e-4a34-8596-dfcf3bff33c9",
     "hasError": false,
     "id": "8221c510-5393-431e-a4a7-fcab6decbd10",
     "outputs": [],
     "persistentId": "0c0b76d9-3d1a-4a46-859e-e72e8cb5329a",
     "text": "import numpy as np\nimport astropy.units as u\nfrom astropy.constants import G\n\n# import plotting modules\nimport matplotlib.pyplot as plt\nimport matplotlib\n%matplotlib inline\n\n# my modules\nfrom ReadFile import Read\nfrom CenterOfMass2 import CenterOfMass\n"
    },
    "executionTime": "2020-04-09T02:08:58.337Z"
   },
   {
    "cell": {
     "executionCount": 2,
     "executionEventId": "85d83431-7fd5-46b4-a8df-f4369f6bbfeb",
     "hasError": true,
     "id": "d21a84c4-0d3b-4f32-a708-04b501baf5c1",
     "outputs": [
      {
       "ename": "ValueError",
       "evalue": "Unknown format code 'd' for object of type 'str'",
       "output_type": "error",
       "traceback": [
        "\u001b[0;31m---------------------------------------------------------------------------\u001b[0m",
        "\u001b[0;31mValueError\u001b[0m                                Traceback (most recent call last)",
        "\u001b[0;32m<ipython-input-2-bc9179693981>\u001b[0m in \u001b[0;36m<module>\u001b[0;34m\u001b[0m\n\u001b[0;32m----> 1\u001b[0;31m \u001b[0mfilename\u001b[0m \u001b[0;34m=\u001b[0m \u001b[0;34m\"VLowRes/\"\u001b[0m \u001b[0;34m+\u001b[0m \u001b[0;34m'MW'\u001b[0m \u001b[0;34m+\u001b[0m \u001b[0;34m\"_VLowRes/\"\u001b[0m \u001b[0;34m+\u001b[0m \u001b[0;34m'MW'\u001b[0m \u001b[0;34m+\u001b[0m  \u001b[0;34m\"_{:03d}\"\u001b[0m\u001b[0;34m.\u001b[0m\u001b[0mformat\u001b[0m\u001b[0;34m(\u001b[0m\u001b[0;34m'000'\u001b[0m\u001b[0;34m)\u001b[0m \u001b[0;34m+\u001b[0m \u001b[0;34m\".txt\"\u001b[0m\u001b[0;34m\u001b[0m\u001b[0;34m\u001b[0m\u001b[0m\n\u001b[0m\u001b[1;32m      2\u001b[0m \u001b[0mfilename\u001b[0m\u001b[0;34m\u001b[0m\u001b[0;34m\u001b[0m\u001b[0m\n",
        "\u001b[0;31mValueError\u001b[0m: Unknown format code 'd' for object of type 'str'"
       ]
      }
     ],
     "persistentId": "9f222463-6434-4d42-aa79-917bf07aae05",
     "text": "filename = \"VLowRes/\" + 'MW' + \"_VLowRes/\" + 'MW' +  \"_{:03d}\".format('000') + \".txt\"\nfilename"
    },
    "executionTime": "2020-04-09T02:16:18.429Z"
   },
   {
    "cell": {
     "executionCount": 3,
     "executionEventId": "d69d9675-d61f-4d30-ae9e-0809f5dc7094",
     "hasError": true,
     "id": "d21a84c4-0d3b-4f32-a708-04b501baf5c1",
     "outputs": [
      {
       "ename": "SyntaxError",
       "evalue": "invalid token (<ipython-input-3-b6bc35fd3cc2>, line 1)",
       "output_type": "error",
       "traceback": [
        "\u001b[0;36m  File \u001b[0;32m\"<ipython-input-3-b6bc35fd3cc2>\"\u001b[0;36m, line \u001b[0;32m1\u001b[0m\n\u001b[0;31m    filename = \"VLowRes/\" + 'MW' + \"_VLowRes/\" + 'MW' +  \"_{:03d}\".format(001) + \".txt\"\u001b[0m\n\u001b[0m                                                                            ^\u001b[0m\n\u001b[0;31mSyntaxError\u001b[0m\u001b[0;31m:\u001b[0m invalid token\n"
       ]
      }
     ],
     "persistentId": "9f222463-6434-4d42-aa79-917bf07aae05",
     "text": "filename = \"VLowRes/\" + 'MW' + \"_VLowRes/\" + 'MW' +  \"_{:03d}\".format(001) + \".txt\"\nfilename"
    },
    "executionTime": "2020-04-09T02:16:31.531Z"
   },
   {
    "cell": {
     "executionCount": 4,
     "executionEventId": "87583ae7-efdb-4af3-9688-dede3e04ba82",
     "hasError": false,
     "id": "d21a84c4-0d3b-4f32-a708-04b501baf5c1",
     "outputs": [
      {
       "data": {
        "text/plain": "'VLowRes/MW_VLowRes/MW_001.txt'"
       },
       "execution_count": 4,
       "metadata": {},
       "output_type": "execute_result"
      }
     ],
     "persistentId": "9f222463-6434-4d42-aa79-917bf07aae05",
     "text": "filename = \"VLowRes/\" + 'MW' + \"_VLowRes/\" + 'MW' +  \"_{:03d}\".format(1) + \".txt\"\nfilename"
    },
    "executionTime": "2020-04-09T02:16:34.396Z"
   },
   {
    "cell": {
     "executionCount": 5,
     "executionEventId": "e757bb10-811a-4af0-bc12-409e39399b8f",
     "hasError": false,
     "id": "d21a84c4-0d3b-4f32-a708-04b501baf5c1",
     "outputs": [
      {
       "data": {
        "text/plain": "'VLowRes/MW_VLowRes/MW_111.txt'"
       },
       "execution_count": 5,
       "metadata": {},
       "output_type": "execute_result"
      }
     ],
     "persistentId": "9f222463-6434-4d42-aa79-917bf07aae05",
     "text": "filename = \"VLowRes/\" + 'MW' + \"_VLowRes/\" + 'MW' +  \"_{:03d}\".format(111) + \".txt\"\nfilename"
    },
    "executionTime": "2020-04-09T02:16:45.976Z"
   },
   {
    "cell": {
     "executionCount": 6,
     "executionEventId": "10b2253e-b21e-44d5-bd23-2d4edf0b7bab",
     "hasError": false,
     "id": "f11c8769-4224-4ef4-98bd-d2cc30626831",
     "outputs": [],
     "persistentId": "c19ce159-9811-4a98-b843-6bf704c73071",
     "text": "class Snap:\n    \"\"\"This is a class for Snap with M31, MW, M33\"\"\"\n    \n    def __init__(self,Snap_number):\n        self.Snap_number = Snap_number\n        self.MWfilename = \"VLowRes/\" + 'MW' + \"_VLowRes/\" + 'MW' +  \"_{:03d}\".format(self.Snap_number) + \".txt\"\n        self.M31filename = \"VLowRes/\" + 'M31' + \"_VLowRes/\" + 'M31' +  \"_{:03d}\".format(self.Snap_number) + \".txt\"\n        self.M33filename = \"VLowRes/\" + 'M33' + \"_VLowRes/\" + 'M33' +  \"_{:03d}\".format(self.Snap_number) + \".txt\"\n        \n    def COM(self):\n        MW_COM = CenterOfMass(self.MWfilename)\n        M31_COM = CenterOfMass(self.M31filename)\n        COMP_M33 = COM_M33.COM_P(0.1,4)\n        self.COMP_M33 = COMP_M33.value\n        "
    },
    "executionTime": "2020-04-09T02:29:55.121Z"
   },
   {
    "cell": {
     "executionCount": 1,
     "executionEventId": "8eb336de-849e-4baf-9fe2-7cf92f3aa80a",
     "hasError": true,
     "id": "8221c510-5393-431e-a4a7-fcab6decbd10",
     "outputs": [
      {
       "ename": "SyntaxError",
       "evalue": "invalid character in identifier (CenterOfMass2.py, line 26)",
       "output_type": "error",
       "traceback": [
        "Traceback \u001b[0;36m(most recent call last)\u001b[0m:\n",
        "  File \u001b[1;32m\"/anaconda3/lib/python3.6/site-packages/IPython/core/interactiveshell.py\"\u001b[0m, line \u001b[1;32m3319\u001b[0m, in \u001b[1;35mrun_code\u001b[0m\n    exec(code_obj, self.user_global_ns, self.user_ns)\n",
        "\u001b[0;36m  File \u001b[0;32m\"<ipython-input-1-b1ccfe7a4975>\"\u001b[0;36m, line \u001b[0;32m14\u001b[0;36m, in \u001b[0;35m<module>\u001b[0;36m\u001b[0m\n\u001b[0;31m    from CenterOfMass2 import CenterOfMass\u001b[0m\n",
        "\u001b[0;36m  File \u001b[0;32m\"/Users/fanxingzhong/400BRP/CenterOfMass2.py\"\u001b[0;36m, line \u001b[0;32m26\u001b[0m\n\u001b[0;31m    def __init__(self, filename∂):\u001b[0m\n\u001b[0m                               ^\u001b[0m\n\u001b[0;31mSyntaxError\u001b[0m\u001b[0;31m:\u001b[0m invalid character in identifier\n"
       ]
      }
     ],
     "persistentId": "0c0b76d9-3d1a-4a46-859e-e72e8cb5329a",
     "text": "import numpy as np\nimport astropy.units as u\nfrom astropy.constants import G\n\n# import plotting modules\nimport matplotlib.pyplot as plt\nimport matplotlib\n%matplotlib inline\n\n# my modules\nfrom ReadFile import Read\n\n# edit CenterOfMass2 to Calculate COM of all components \nfrom CenterOfMass2 import CenterOfMass\n"
    },
    "executionTime": "2020-04-09T02:31:32.121Z"
   },
   {
    "cell": {
     "executionCount": 2,
     "executionEventId": "6a3741d5-97c0-4ede-a94b-7252c3077790",
     "hasError": true,
     "id": "8221c510-5393-431e-a4a7-fcab6decbd10",
     "outputs": [
      {
       "ename": "SyntaxError",
       "evalue": "invalid character in identifier (CenterOfMass2.py, line 26)",
       "output_type": "error",
       "traceback": [
        "Traceback \u001b[0;36m(most recent call last)\u001b[0m:\n",
        "  File \u001b[1;32m\"/anaconda3/lib/python3.6/site-packages/IPython/core/interactiveshell.py\"\u001b[0m, line \u001b[1;32m3319\u001b[0m, in \u001b[1;35mrun_code\u001b[0m\n    exec(code_obj, self.user_global_ns, self.user_ns)\n",
        "\u001b[0;36m  File \u001b[0;32m\"<ipython-input-2-b1ccfe7a4975>\"\u001b[0;36m, line \u001b[0;32m14\u001b[0;36m, in \u001b[0;35m<module>\u001b[0;36m\u001b[0m\n\u001b[0;31m    from CenterOfMass2 import CenterOfMass\u001b[0m\n",
        "\u001b[0;36m  File \u001b[0;32m\"/Users/fanxingzhong/400BRP/CenterOfMass2.py\"\u001b[0;36m, line \u001b[0;32m26\u001b[0m\n\u001b[0;31m    def __init__(self, filename∂):\u001b[0m\n\u001b[0m                               ^\u001b[0m\n\u001b[0;31mSyntaxError\u001b[0m\u001b[0;31m:\u001b[0m invalid character in identifier\n"
       ]
      }
     ],
     "persistentId": "0c0b76d9-3d1a-4a46-859e-e72e8cb5329a",
     "text": "import numpy as np\nimport astropy.units as u\nfrom astropy.constants import G\n\n# import plotting modules\nimport matplotlib.pyplot as plt\nimport matplotlib\n%matplotlib inline\n\n# my modules\nfrom ReadFile import Read\n\n# edit CenterOfMass2 to Calculate COM of all components \nfrom CenterOfMass2 import CenterOfMass\n"
    },
    "executionTime": "2020-04-09T02:31:45.714Z"
   },
   {
    "cell": {
     "executionCount": 3,
     "executionEventId": "e305c270-30c9-4e23-978d-939f7704ac1c",
     "hasError": false,
     "id": "8221c510-5393-431e-a4a7-fcab6decbd10",
     "outputs": [],
     "persistentId": "0c0b76d9-3d1a-4a46-859e-e72e8cb5329a",
     "text": "import numpy as np\nimport astropy.units as u\nfrom astropy.constants import G\n\n# import plotting modules\nimport matplotlib.pyplot as plt\nimport matplotlib\n%matplotlib inline\n\n# my modules\nfrom ReadFile import Read\n\n# edit CenterOfMass2 to Calculate COM of all components \nfrom CenterOfMass2 import CenterOfMass\n"
    },
    "executionTime": "2020-04-09T02:31:57.352Z"
   },
   {
    "cell": {
     "executionCount": 1,
     "executionEventId": "30ed6e13-a6b7-4469-998f-bf413694a343",
     "hasError": true,
     "id": "8221c510-5393-431e-a4a7-fcab6decbd10",
     "outputs": [
      {
       "ename": "FileNotFoundError",
       "evalue": "[Errno 2] No such file or directory: 'MW_000.txt'",
       "output_type": "error",
       "traceback": [
        "\u001b[0;31m---------------------------------------------------------------------------\u001b[0m",
        "\u001b[0;31mFileNotFoundError\u001b[0m                         Traceback (most recent call last)",
        "\u001b[0;32m<ipython-input-1-2905215b808b>\u001b[0m in \u001b[0;36m<module>\u001b[0;34m\u001b[0m\n\u001b[1;32m     13\u001b[0m \u001b[0;31m# edit CenterOfMass2 to Calculate COM of all components\u001b[0m\u001b[0;34m\u001b[0m\u001b[0;34m\u001b[0m\u001b[0;34m\u001b[0m\u001b[0m\n\u001b[1;32m     14\u001b[0m \u001b[0;32mfrom\u001b[0m \u001b[0mCenterOfMass2\u001b[0m \u001b[0;32mimport\u001b[0m \u001b[0mCenterOfMass\u001b[0m\u001b[0;34m\u001b[0m\u001b[0;34m\u001b[0m\u001b[0m\n\u001b[0;32m---> 15\u001b[0;31m \u001b[0;32mfrom\u001b[0m \u001b[0mGalaxyMass\u001b[0m \u001b[0;32mimport\u001b[0m \u001b[0mComponentMass\u001b[0m\u001b[0;34m\u001b[0m\u001b[0;34m\u001b[0m\u001b[0m\n\u001b[0m",
        "\u001b[0;32m~/400BRP/GalaxyMass.py\u001b[0m in \u001b[0;36m<module>\u001b[0;34m\u001b[0m\n\u001b[1;32m     44\u001b[0m \u001b[0;34m\u001b[0m\u001b[0m\n\u001b[1;32m     45\u001b[0m \u001b[0;31m# MW Mass\u001b[0m\u001b[0;34m\u001b[0m\u001b[0;34m\u001b[0m\u001b[0;34m\u001b[0m\u001b[0m\n\u001b[0;32m---> 46\u001b[0;31m \u001b[0mMW_halo\u001b[0m \u001b[0;34m=\u001b[0m \u001b[0mComponentMass\u001b[0m\u001b[0;34m(\u001b[0m\u001b[0;34m\"MW_000.txt\"\u001b[0m\u001b[0;34m,\u001b[0m\u001b[0;36m1\u001b[0m\u001b[0;34m)\u001b[0m\u001b[0;34m\u001b[0m\u001b[0;34m\u001b[0m\u001b[0m\n\u001b[0m\u001b[1;32m     47\u001b[0m \u001b[0mMW_disk\u001b[0m \u001b[0;34m=\u001b[0m \u001b[0mComponentMass\u001b[0m\u001b[0;34m(\u001b[0m\u001b[0;34m\"MW_000.txt\"\u001b[0m\u001b[0;34m,\u001b[0m\u001b[0;36m2\u001b[0m\u001b[0;34m)\u001b[0m\u001b[0;34m\u001b[0m\u001b[0;34m\u001b[0m\u001b[0m\n\u001b[1;32m     48\u001b[0m \u001b[0mMW_bulge\u001b[0m \u001b[0;34m=\u001b[0m \u001b[0mComponentMass\u001b[0m\u001b[0;34m(\u001b[0m\u001b[0;34m\"MW_000.txt\"\u001b[0m\u001b[0;34m,\u001b[0m\u001b[0;36m3\u001b[0m\u001b[0;34m)\u001b[0m\u001b[0;34m\u001b[0m\u001b[0;34m\u001b[0m\u001b[0m\n",
        "\u001b[0;32m~/400BRP/GalaxyMass.py\u001b[0m in \u001b[0;36mComponentMass\u001b[0;34m(filename, PType)\u001b[0m\n\u001b[1;32m     31\u001b[0m \u001b[0;34m\u001b[0m\u001b[0m\n\u001b[1;32m     32\u001b[0m      \u001b[0;31m# read in the file\u001b[0m\u001b[0;34m\u001b[0m\u001b[0;34m\u001b[0m\u001b[0;34m\u001b[0m\u001b[0m\n\u001b[0;32m---> 33\u001b[0;31m     \u001b[0mtime\u001b[0m\u001b[0;34m,\u001b[0m \u001b[0mtotal\u001b[0m\u001b[0;34m,\u001b[0m \u001b[0mdata\u001b[0m \u001b[0;34m=\u001b[0m \u001b[0mRead\u001b[0m\u001b[0;34m(\u001b[0m\u001b[0mfilename\u001b[0m\u001b[0;34m)\u001b[0m\u001b[0;34m\u001b[0m\u001b[0;34m\u001b[0m\u001b[0m\n\u001b[0m\u001b[1;32m     34\u001b[0m \u001b[0;34m\u001b[0m\u001b[0m\n\u001b[1;32m     35\u001b[0m       \u001b[0;31m# gather particles with the same type and sum up the mass\u001b[0m\u001b[0;34m\u001b[0m\u001b[0;34m\u001b[0m\u001b[0;34m\u001b[0m\u001b[0m\n",
        "\u001b[0;32m~/400BRP/ReadFile.py\u001b[0m in \u001b[0;36mRead\u001b[0;34m(filename)\u001b[0m\n\u001b[1;32m     14\u001b[0m \u001b[0;34m\u001b[0m\u001b[0m\n\u001b[1;32m     15\u001b[0m     \u001b[0;31m# open the file\u001b[0m\u001b[0;34m\u001b[0m\u001b[0;34m\u001b[0m\u001b[0;34m\u001b[0m\u001b[0m\n\u001b[0;32m---> 16\u001b[0;31m     \u001b[0mfile\u001b[0m \u001b[0;34m=\u001b[0m \u001b[0mopen\u001b[0m\u001b[0;34m(\u001b[0m\u001b[0mfilename\u001b[0m\u001b[0;34m,\u001b[0m\u001b[0;34m'r'\u001b[0m\u001b[0;34m)\u001b[0m\u001b[0;34m\u001b[0m\u001b[0;34m\u001b[0m\u001b[0m\n\u001b[0m\u001b[1;32m     17\u001b[0m     \u001b[0;31m# read the first line\u001b[0m\u001b[0;34m\u001b[0m\u001b[0;34m\u001b[0m\u001b[0;34m\u001b[0m\u001b[0m\n\u001b[1;32m     18\u001b[0m     \u001b[0mline1\u001b[0m \u001b[0;34m=\u001b[0m \u001b[0mfile\u001b[0m\u001b[0;34m.\u001b[0m\u001b[0mreadline\u001b[0m\u001b[0;34m(\u001b[0m\u001b[0;34m)\u001b[0m\u001b[0;34m\u001b[0m\u001b[0;34m\u001b[0m\u001b[0m\n",
        "\u001b[0;31mFileNotFoundError\u001b[0m: [Errno 2] No such file or directory: 'MW_000.txt'"
       ]
      }
     ],
     "persistentId": "0c0b76d9-3d1a-4a46-859e-e72e8cb5329a",
     "text": "import numpy as np\nimport astropy.units as u\nfrom astropy.constants import G\n\n# import plotting modules\nimport matplotlib.pyplot as plt\nimport matplotlib\n%matplotlib inline\n\n# my modules\nfrom ReadFile import Read\n\n# edit CenterOfMass2 to Calculate COM of all components \nfrom CenterOfMass2 import CenterOfMass\nfrom GalaxyMass import ComponentMass\n"
    },
    "executionTime": "2020-04-09T02:42:49.778Z"
   },
   {
    "cell": {
     "executionCount": 2,
     "executionEventId": "e6f23af4-c743-4366-9c77-4f76985ecc43",
     "hasError": false,
     "id": "8221c510-5393-431e-a4a7-fcab6decbd10",
     "outputs": [],
     "persistentId": "0c0b76d9-3d1a-4a46-859e-e72e8cb5329a",
     "text": "import numpy as np\nimport astropy.units as u\nfrom astropy.constants import G\n\n# import plotting modules\nimport matplotlib.pyplot as plt\nimport matplotlib\n%matplotlib inline\n\n# my modules\nfrom ReadFile import Read\n\n# edit CenterOfMass2 to Calculate COM of all components \nfrom CenterOfMass2 import CenterOfMass\nfrom GalaxyMass import ComponentMass\n"
    },
    "executionTime": "2020-04-09T02:44:14.582Z"
   },
   {
    "cell": {
     "executionCount": 3,
     "executionEventId": "5d237543-c4ac-4981-bce7-86869fabdaba",
     "hasError": false,
     "id": "8221c510-5393-431e-a4a7-fcab6decbd10",
     "outputs": [],
     "persistentId": "0c0b76d9-3d1a-4a46-859e-e72e8cb5329a",
     "text": "import numpy as np\nimport astropy.units as u\nfrom astropy.constants import G\n\n# import plotting modules\nimport matplotlib.pyplot as plt\nimport matplotlib\n%matplotlib inline\n\n# my modules\nfrom ReadFile import Read\n\n# edit CenterOfMass2 to Calculate COM of all components \nfrom CenterOfMass2 import CenterOfMass\n# edit GalaxyMAss to Calculate Mass of all components \nfrom GalaxyMass import ComponentMass\n"
    },
    "executionTime": "2020-04-09T02:44:33.804Z"
   },
   {
    "cell": {
     "executionCount": 5,
     "executionEventId": "50860781-f8ce-416b-bba6-22c1e4225f6b",
     "hasError": true,
     "id": "5b40a971-b35d-4c0e-accc-b53dada5d090",
     "outputs": [
      {
       "ename": "ImportError",
       "evalue": "cannot import name 'TotalMass'",
       "output_type": "error",
       "traceback": [
        "\u001b[0;31m---------------------------------------------------------------------------\u001b[0m",
        "\u001b[0;31mImportError\u001b[0m                               Traceback (most recent call last)",
        "\u001b[0;32m<ipython-input-5-f0ab1463d895>\u001b[0m in \u001b[0;36m<module>\u001b[0;34m\u001b[0m\n\u001b[1;32m     14\u001b[0m \u001b[0;32mfrom\u001b[0m \u001b[0mCenterOfMass2\u001b[0m \u001b[0;32mimport\u001b[0m \u001b[0mCenterOfMass\u001b[0m\u001b[0;34m\u001b[0m\u001b[0;34m\u001b[0m\u001b[0m\n\u001b[1;32m     15\u001b[0m \u001b[0;31m# edit GalaxyMAss to Calculate Mass of all components\u001b[0m\u001b[0;34m\u001b[0m\u001b[0;34m\u001b[0m\u001b[0;34m\u001b[0m\u001b[0m\n\u001b[0;32m---> 16\u001b[0;31m \u001b[0;32mfrom\u001b[0m \u001b[0mGalaxyMass\u001b[0m \u001b[0;32mimport\u001b[0m \u001b[0mTotalMass\u001b[0m\u001b[0;34m\u001b[0m\u001b[0;34m\u001b[0m\u001b[0m\n\u001b[0m",
        "\u001b[0;31mImportError\u001b[0m: cannot import name 'TotalMass'"
       ]
      }
     ],
     "persistentId": "0c0b76d9-3d1a-4a46-859e-e72e8cb5329a",
     "text": "import numpy as np\nimport astropy.units as u\nfrom astropy.constants import G\n\n# import plotting modules\nimport matplotlib.pyplot as plt\nimport matplotlib\n%matplotlib inline\n\n# my modules\nfrom ReadFile import Read\n\n# edit CenterOfMass2 to Calculate COM of all components \nfrom CenterOfMass2 import CenterOfMass\n# edit GalaxyMAss to Calculate Mass of all components \nfrom GalaxyMass import TotalMass\n"
    },
    "executionTime": "2020-04-09T03:12:29.890Z"
   },
   {
    "cell": {
     "executionCount": 6,
     "executionEventId": "90b8016a-03de-4cdc-80e6-31eb6003b6c9",
     "hasError": false,
     "id": "5b40a971-b35d-4c0e-accc-b53dada5d090",
     "outputs": [],
     "persistentId": "0c0b76d9-3d1a-4a46-859e-e72e8cb5329a",
     "text": "import numpy as np\nimport astropy.units as u\nfrom astropy.constants import G\n\n# import plotting modules\nimport matplotlib.pyplot as plt\nimport matplotlib\n%matplotlib inline\n\n# my modules\nfrom ReadFile import Read\n\n# edit CenterOfMass2 to Calculate COM of all components \nfrom CenterOfMass2 import CenterOfMass\n# edit GalaxyMAss to Calculate Mass of all components \nfrom GalaxyMass import ComponentMass\n"
    },
    "executionTime": "2020-04-09T03:12:35.616Z"
   },
   {
    "cell": {
     "executionCount": 7,
     "executionEventId": "346a60b8-798b-492e-ad2d-ca41ce6596b2",
     "hasError": true,
     "id": "a556ed75-ec70-4552-8265-6e162bcf9330",
     "outputs": [
      {
       "ename": "SyntaxError",
       "evalue": "invalid syntax (<ipython-input-7-42d8021c2dfe>, line 47)",
       "output_type": "error",
       "traceback": [
        "\u001b[0;36m  File \u001b[0;32m\"<ipython-input-7-42d8021c2dfe>\"\u001b[0;36m, line \u001b[0;32m47\u001b[0m\n\u001b[0;31m    self.Rj_MW_M33 = self.MW_M33diff *(self.M33mass/)**(1/3)\u001b[0m\n\u001b[0m                                                    ^\u001b[0m\n\u001b[0;31mSyntaxError\u001b[0m\u001b[0;31m:\u001b[0m invalid syntax\n"
       ]
      }
     ],
     "persistentId": "c19ce159-9811-4a98-b843-6bf704c73071",
     "text": "class Snap:\n    \"\"\"This is a class for Snap with M31, MW, M33\"\"\"\n    \n    def __init__(self,Snap_number):\n        self.Snap_number = Snap_number\n        self.MWfilename = \"VLowRes/\" + 'MW' + \"_VLowRes/\" + 'MW' +  \"_{:03d}\".format(self.Snap_number) + \".txt\"\n        self.M31filename = \"VLowRes/\" + 'M31' + \"_VLowRes/\" + 'M31' +  \"_{:03d}\".format(self.Snap_number) + \".txt\"\n        self.M33filename = \"VLowRes/\" + 'M33' + \"_VLowRes/\" + 'M33' +  \"_{:03d}\".format(self.Snap_number) + \".txt\"\n        \n    def COM(self):\n        \n        MW_COM = CenterOfMass(self.MWfilename)\n        M31_COM = CenterOfMass(self.M31filename)\n        M33_COM = CenterOfMass(self.M31filename)\n        \n        MW_COM = MW_COM.COM_P(0.1,2)\n        M31_COM = M31_COM.COM_P(0.1,2)\n        M33_COM = M33_COM.COM_P(0.1,4)\n        self.COMP_MW = COMP_MW.value\n        self.COMP_M31 = COMP_M31.value\n        self.COMP_M33 = COMP_M33.value\n        \n        return self.COMP_MW, self.COMP_M31, self.COMP_M33\n    \n    \n    def COMdiff(self,galaxy1,galaxy2):\n        \n        COMdiff = np.sqrt((galaxy1[0]-galaxy2[0])**2+(galaxy1[1]-galaxy2[1])**2+(galaxy1[2]-galaxy2[2])**2)        \n        \n        return COMdiff\n    \n    def Total_Mass(self,galaxy_name):\n        \n        return ComponentMass(galaxy_name)        \n    \n    def Rj(self):\n        \n        self.MWmass = self.Total_Mass(self.MWfilename)\n        self.M31mass = self.Total_Mass(self.M31filename)\n        self.M33mass = self.Total_Mass(self.M33filename)\n        \n        self.COMP_MW, self.COMP_M31, self.COMP_M33 = self.COM()\n        \n        self.MW_M33diff = self.COMdiff(self.COMP_MW,self.COMP_M33)\n        self.M31_M33diff = self.COMdiff(self.COMP_M31,self.COMP_M33)\n        \n        self.Rj_MW_M33 = self.MW_M33diff *(self.M33mass/)**(1/3)"
    },
    "executionTime": "2020-04-09T03:12:38.843Z"
   },
   {
    "cell": {
     "executionCount": 8,
     "executionEventId": "a41160a3-44fe-4aa2-8b83-524b7db7db81",
     "hasError": false,
     "id": "2b8be67b-eb5c-4f02-9dc4-c7e1c5e788ed",
     "outputs": [],
     "persistentId": "5064a642-f2ac-42d6-a048-5b0a9c852881",
     "text": "def Mass_enclose(filename,radius):\n# function to compute the mass of all particles of a given type for a given galaxy \n# output: Mass in units of Msun. \n    \n    # read in the file \n    time, total, data = Read(filename)\n    \n    # gather particles with the same type and sum up the mass\n    # we can directly round the result and adjust the units\n    mass = np.round(data[np.sqrt(data['x']**2+data['y']**2+data['z']**2) < radius]['m'].sum() * 1e10, 3)\n    \n    # return the mass \n    return mass\n"
    },
    "executionTime": "2020-04-09T03:18:40.393Z"
   },
   {
    "cell": {
     "executionCount": 9,
     "executionEventId": "17b3518e-366a-4562-a411-c59b07d53b47",
     "hasError": false,
     "id": "a556ed75-ec70-4552-8265-6e162bcf9330",
     "outputs": [],
     "persistentId": "c19ce159-9811-4a98-b843-6bf704c73071",
     "text": "class Snap:\n    \"\"\"This is a class for Snap with M31, MW, M33\"\"\"\n    \n    def __init__(self,Snap_number):\n        self.Snap_number = Snap_number\n        self.MWfilename = \"VLowRes/\" + 'MW' + \"_VLowRes/\" + 'MW' +  \"_{:03d}\".format(self.Snap_number) + \".txt\"\n        self.M31filename = \"VLowRes/\" + 'M31' + \"_VLowRes/\" + 'M31' +  \"_{:03d}\".format(self.Snap_number) + \".txt\"\n        self.M33filename = \"VLowRes/\" + 'M33' + \"_VLowRes/\" + 'M33' +  \"_{:03d}\".format(self.Snap_number) + \".txt\"\n        \n    def COM(self):\n        \n        MW_COM = CenterOfMass(self.MWfilename)\n        M31_COM = CenterOfMass(self.M31filename)\n        M33_COM = CenterOfMass(self.M31filename)\n        \n        MW_COM = MW_COM.COM_P(0.1,2)\n        M31_COM = M31_COM.COM_P(0.1,2)\n        M33_COM = M33_COM.COM_P(0.1,4)\n        self.COMP_MW = COMP_MW.value\n        self.COMP_M31 = COMP_M31.value\n        self.COMP_M33 = COMP_M33.value\n        \n        return self.COMP_MW, self.COMP_M31, self.COMP_M33\n    \n    \n    def COMdiff(self,galaxy1,galaxy2):\n        \n        COMdiff = np.sqrt((galaxy1[0]-galaxy2[0])**2+(galaxy1[1]-galaxy2[1])**2+(galaxy1[2]-galaxy2[2])**2)        \n        \n        return COMdiff\n    \n    def Total_Mass(self,galaxy_name):\n        \n        return ComponentMass(galaxy_name) \n    \n    def Mass_enclose(self):\n        \n        self.COMP_MW, self.COMP_M31, self.COMP_M33 = self.COM()\n        \n        self.MW_M33diff = self.COMdiff(self.COMP_MW,self.COMP_M33)\n        self.M31_M33diff = self.COMdiff(self.COMP_M31,self.COMP_M33)\n        \n        self.M31_enclose = Mass_enclose(self.M31filename, self.M31_M33diff)\n        self.MW_enclose = Mass_enclose(self.MWfilename, self.MW_M33diff)\n        \n        return self.M31_enclose, self.MW_enclose\n    \n    def Rj(self):\n        \n        self.MWmass = self.Total_Mass(self.MWfilename)\n        self.M31mass = self.Total_Mass(self.M31filename)\n        self.M33mass = self.Total_Mass(self.M33filename)\n        \n        self.COMP_MW, self.COMP_M31, self.COMP_M33 = self.COM()\n        \n        self.MW_M33diff = self.COMdiff(self.COMP_MW,self.COMP_M33)\n        self.M31_M33diff = self.COMdiff(self.COMP_M31,self.COMP_M33)\n        \n        self.M31_enclose, self.MW_enclose = self.Mass_enclose()\n        \n        self.Rj_MW_M33 = self.MW_M33diff *(self.M33mass/self.MW_enclose)**(1/3)\n        self.Rj_M31_M33 = self.M31_M33diff *(self.M33mass/self.M31_enclose)**(1/3)\n        \n        return self.Rj_M31_M33, self.Rj_MW_M33"
    },
    "executionTime": "2020-04-09T03:24:41.278Z"
   },
   {
    "cell": {
     "executionCount": 10,
     "executionEventId": "0114c688-1cbe-414e-b88f-28875053009b",
     "hasError": true,
     "id": "ee9c1690-3c2e-4a90-8909-4f94dc46cc52",
     "outputs": [
      {
       "ename": "ValueError",
       "evalue": "only 2 non-keyword arguments accepted",
       "output_type": "error",
       "traceback": [
        "\u001b[0;31m---------------------------------------------------------------------------\u001b[0m",
        "\u001b[0;31mValueError\u001b[0m                                Traceback (most recent call last)",
        "\u001b[0;32m<ipython-input-10-d6a40461989b>\u001b[0m in \u001b[0;36m<module>\u001b[0;34m\u001b[0m\n\u001b[0;32m----> 1\u001b[0;31m \u001b[0ma\u001b[0m \u001b[0;34m=\u001b[0m \u001b[0mnp\u001b[0m\u001b[0;34m.\u001b[0m\u001b[0marray\u001b[0m\u001b[0;34m(\u001b[0m\u001b[0;36m1\u001b[0m\u001b[0;34m,\u001b[0m\u001b[0;36m2\u001b[0m\u001b[0;34m,\u001b[0m\u001b[0;36m3\u001b[0m\u001b[0;34m,\u001b[0m\u001b[0;36m4\u001b[0m\u001b[0;34m,\u001b[0m\u001b[0;36m5\u001b[0m\u001b[0;34m)\u001b[0m\u001b[0;34m\u001b[0m\u001b[0;34m\u001b[0m\u001b[0m\n\u001b[0m",
        "\u001b[0;31mValueError\u001b[0m: only 2 non-keyword arguments accepted"
       ]
      }
     ],
     "persistentId": "bf3dfa73-20bb-4f1f-bcce-fcfa030a530c",
     "text": "a = np.array(1,2,3,4,5)"
    },
    "executionTime": "2020-04-09T03:38:02.736Z"
   },
   {
    "cell": {
     "executionCount": 11,
     "executionEventId": "91e28767-c45f-4f14-a4b9-449471d39583",
     "hasError": false,
     "id": "ee9c1690-3c2e-4a90-8909-4f94dc46cc52",
     "outputs": [],
     "persistentId": "bf3dfa73-20bb-4f1f-bcce-fcfa030a530c",
     "text": "a = np.array([1,2,3,4,5])"
    },
    "executionTime": "2020-04-09T03:38:45.938Z"
   },
   {
    "cell": {
     "executionCount": 12,
     "executionEventId": "885632d6-ea22-45e6-b0d5-f3b3cff29ccf",
     "hasError": false,
     "id": "0b8550f1-34d9-4b41-b347-ca9e14e05330",
     "outputs": [],
     "persistentId": "6ed27eaf-9a13-4f2d-a68b-6cca876c9528",
     "text": "b = np.array([1,2,5,7,9])"
    },
    "executionTime": "2020-04-09T03:39:02.069Z"
   },
   {
    "cell": {
     "executionCount": 13,
     "executionEventId": "c5a5d83c-5714-4242-b873-82c1325b4134",
     "hasError": false,
     "id": "e6d82cd7-b2ed-4c77-bd7a-2fa71b98e996",
     "outputs": [
      {
       "data": {
        "text/plain": "array([1, 2, 3, 4, 5])"
       },
       "execution_count": 13,
       "metadata": {},
       "output_type": "execute_result"
      }
     ],
     "persistentId": "13984171-c099-4a50-a464-856ad4d8d5b5",
     "text": "a"
    },
    "executionTime": "2020-04-09T03:39:03.825Z"
   },
   {
    "cell": {
     "executionCount": 14,
     "executionEventId": "db2fb1f4-ee4f-4c57-bfe2-0ec42af3c277",
     "hasError": false,
     "id": "e6d82cd7-b2ed-4c77-bd7a-2fa71b98e996",
     "outputs": [
      {
       "data": {
        "text/plain": "(array([0]),)"
       },
       "execution_count": 14,
       "metadata": {},
       "output_type": "execute_result"
      }
     ],
     "persistentId": "13984171-c099-4a50-a464-856ad4d8d5b5",
     "text": "np.where(a==1)"
    },
    "executionTime": "2020-04-09T03:39:25.644Z"
   },
   {
    "cell": {
     "executionCount": 15,
     "executionEventId": "48b5dea3-7c5e-427e-814f-9e004056b0d0",
     "hasError": false,
     "id": "e6d82cd7-b2ed-4c77-bd7a-2fa71b98e996",
     "outputs": [
      {
       "data": {
        "text/plain": "array([ True,  True, False, False, False])"
       },
       "execution_count": 15,
       "metadata": {},
       "output_type": "execute_result"
      }
     ],
     "persistentId": "13984171-c099-4a50-a464-856ad4d8d5b5",
     "text": "a ==b"
    },
    "executionTime": "2020-04-09T03:39:39.143Z"
   },
   {
    "cell": {
     "executionCount": 16,
     "executionEventId": "9f889466-586b-411e-aa09-2fc72cd08ddc",
     "hasError": false,
     "id": "e6d82cd7-b2ed-4c77-bd7a-2fa71b98e996",
     "outputs": [
      {
       "data": {
        "text/plain": "(array([0, 1]),)"
       },
       "execution_count": 16,
       "metadata": {},
       "output_type": "execute_result"
      }
     ],
     "persistentId": "13984171-c099-4a50-a464-856ad4d8d5b5",
     "text": "np.where(a == b)"
    },
    "executionTime": "2020-04-09T03:39:50.932Z"
   },
   {
    "cell": {
     "executionCount": 17,
     "executionEventId": "e46490f8-172d-4703-82a8-ee55908fd7a3",
     "hasError": false,
     "id": "e6d82cd7-b2ed-4c77-bd7a-2fa71b98e996",
     "outputs": [
      {
       "data": {
        "text/plain": "5"
       },
       "execution_count": 17,
       "metadata": {},
       "output_type": "execute_result"
      }
     ],
     "persistentId": "13984171-c099-4a50-a464-856ad4d8d5b5",
     "text": "len(a)"
    },
    "executionTime": "2020-04-09T03:42:42.645Z"
   },
   {
    "cell": {
     "executionCount": 18,
     "executionEventId": "5ab407c0-4de7-4bf2-91e3-4d3e91bfaa97",
     "hasError": false,
     "id": "e6d82cd7-b2ed-4c77-bd7a-2fa71b98e996",
     "outputs": [
      {
       "name": "stdout",
       "output_type": "stream",
       "text": "1\n2\n3\n4\n5\n"
      }
     ],
     "persistentId": "13984171-c099-4a50-a464-856ad4d8d5b5",
     "text": "for i in range(len(a)):\n    print(a[i])"
    },
    "executionTime": "2020-04-09T03:43:02.301Z"
   },
   {
    "cell": {
     "executionCount": 19,
     "executionEventId": "c10deece-1975-45f8-af55-f4f4152d0252",
     "hasError": false,
     "id": "e6d82cd7-b2ed-4c77-bd7a-2fa71b98e996",
     "outputs": [
      {
       "name": "stdout",
       "output_type": "stream",
       "text": "3\n4\n"
      }
     ],
     "persistentId": "13984171-c099-4a50-a464-856ad4d8d5b5",
     "text": "for i in range(len(a)):\n    if a[i] not in b:\n        print(a[i])"
    },
    "executionTime": "2020-04-09T03:43:26.517Z"
   },
   {
    "cell": {
     "executionCount": 20,
     "executionEventId": "050fb4ab-68ec-4c60-8b01-e77b379ea4d3",
     "hasError": true,
     "id": "e6d82cd7-b2ed-4c77-bd7a-2fa71b98e996",
     "outputs": [
      {
       "ename": "AttributeError",
       "evalue": "'numpy.ndarray' object has no attribute 'append'",
       "output_type": "error",
       "traceback": [
        "\u001b[0;31m---------------------------------------------------------------------------\u001b[0m",
        "\u001b[0;31mAttributeError\u001b[0m                            Traceback (most recent call last)",
        "\u001b[0;32m<ipython-input-20-e3da84ee4482>\u001b[0m in \u001b[0;36m<module>\u001b[0;34m\u001b[0m\n\u001b[1;32m      2\u001b[0m \u001b[0;32mfor\u001b[0m \u001b[0mi\u001b[0m \u001b[0;32min\u001b[0m \u001b[0mrange\u001b[0m\u001b[0;34m(\u001b[0m\u001b[0mlen\u001b[0m\u001b[0;34m(\u001b[0m\u001b[0ma\u001b[0m\u001b[0;34m)\u001b[0m\u001b[0;34m)\u001b[0m\u001b[0;34m:\u001b[0m\u001b[0;34m\u001b[0m\u001b[0;34m\u001b[0m\u001b[0m\n\u001b[1;32m      3\u001b[0m     \u001b[0;32mif\u001b[0m \u001b[0ma\u001b[0m\u001b[0;34m[\u001b[0m\u001b[0mi\u001b[0m\u001b[0;34m]\u001b[0m \u001b[0;32mnot\u001b[0m \u001b[0;32min\u001b[0m \u001b[0mb\u001b[0m\u001b[0;34m:\u001b[0m\u001b[0;34m\u001b[0m\u001b[0;34m\u001b[0m\u001b[0m\n\u001b[0;32m----> 4\u001b[0;31m         \u001b[0mc\u001b[0m\u001b[0;34m.\u001b[0m\u001b[0mappend\u001b[0m\u001b[0;34m(\u001b[0m\u001b[0ma\u001b[0m\u001b[0;34m[\u001b[0m\u001b[0mi\u001b[0m\u001b[0;34m]\u001b[0m\u001b[0;34m)\u001b[0m\u001b[0;34m\u001b[0m\u001b[0;34m\u001b[0m\u001b[0m\n\u001b[0m",
        "\u001b[0;31mAttributeError\u001b[0m: 'numpy.ndarray' object has no attribute 'append'"
       ]
      }
     ],
     "persistentId": "13984171-c099-4a50-a464-856ad4d8d5b5",
     "text": "c = np.array([])\nfor i in range(len(a)):\n    if a[i] not in b:\n        c.append(a[i])"
    },
    "executionTime": "2020-04-09T03:44:48.223Z"
   },
   {
    "cell": {
     "executionCount": 21,
     "executionEventId": "37184a0b-85b5-40d4-922a-0e5a6577a3d6",
     "hasError": true,
     "id": "e6d82cd7-b2ed-4c77-bd7a-2fa71b98e996",
     "outputs": [
      {
       "ename": "AttributeError",
       "evalue": "'numpy.ndarray' object has no attribute 'np'",
       "output_type": "error",
       "traceback": [
        "\u001b[0;31m---------------------------------------------------------------------------\u001b[0m",
        "\u001b[0;31mAttributeError\u001b[0m                            Traceback (most recent call last)",
        "\u001b[0;32m<ipython-input-21-f44af6a6af49>\u001b[0m in \u001b[0;36m<module>\u001b[0;34m\u001b[0m\n\u001b[1;32m      2\u001b[0m \u001b[0;32mfor\u001b[0m \u001b[0mi\u001b[0m \u001b[0;32min\u001b[0m \u001b[0mrange\u001b[0m\u001b[0;34m(\u001b[0m\u001b[0mlen\u001b[0m\u001b[0;34m(\u001b[0m\u001b[0ma\u001b[0m\u001b[0;34m)\u001b[0m\u001b[0;34m)\u001b[0m\u001b[0;34m:\u001b[0m\u001b[0;34m\u001b[0m\u001b[0;34m\u001b[0m\u001b[0m\n\u001b[1;32m      3\u001b[0m     \u001b[0;32mif\u001b[0m \u001b[0ma\u001b[0m\u001b[0;34m[\u001b[0m\u001b[0mi\u001b[0m\u001b[0;34m]\u001b[0m \u001b[0;32mnot\u001b[0m \u001b[0;32min\u001b[0m \u001b[0mb\u001b[0m\u001b[0;34m:\u001b[0m\u001b[0;34m\u001b[0m\u001b[0;34m\u001b[0m\u001b[0m\n\u001b[0;32m----> 4\u001b[0;31m         \u001b[0mc\u001b[0m\u001b[0;34m.\u001b[0m\u001b[0mnp\u001b[0m\u001b[0;34m.\u001b[0m\u001b[0mappend\u001b[0m\u001b[0;34m(\u001b[0m\u001b[0ma\u001b[0m\u001b[0;34m[\u001b[0m\u001b[0mi\u001b[0m\u001b[0;34m]\u001b[0m\u001b[0;34m)\u001b[0m\u001b[0;34m\u001b[0m\u001b[0;34m\u001b[0m\u001b[0m\n\u001b[0m",
        "\u001b[0;31mAttributeError\u001b[0m: 'numpy.ndarray' object has no attribute 'np'"
       ]
      }
     ],
     "persistentId": "13984171-c099-4a50-a464-856ad4d8d5b5",
     "text": "c = np.array([])\nfor i in range(len(a)):\n    if a[i] not in b:\n        c.np.append(a[i])"
    },
    "executionTime": "2020-04-09T03:44:53.478Z"
   },
   {
    "cell": {
     "executionCount": 22,
     "executionEventId": "64e1e346-5081-4b4b-a1fe-25cbe9f6b654",
     "hasError": true,
     "id": "e6d82cd7-b2ed-4c77-bd7a-2fa71b98e996",
     "outputs": [
      {
       "ename": "AttributeError",
       "evalue": "'numpy.ndarray' object has no attribute 'append'",
       "output_type": "error",
       "traceback": [
        "\u001b[0;31m---------------------------------------------------------------------------\u001b[0m",
        "\u001b[0;31mAttributeError\u001b[0m                            Traceback (most recent call last)",
        "\u001b[0;32m<ipython-input-22-e3da84ee4482>\u001b[0m in \u001b[0;36m<module>\u001b[0;34m\u001b[0m\n\u001b[1;32m      2\u001b[0m \u001b[0;32mfor\u001b[0m \u001b[0mi\u001b[0m \u001b[0;32min\u001b[0m \u001b[0mrange\u001b[0m\u001b[0;34m(\u001b[0m\u001b[0mlen\u001b[0m\u001b[0;34m(\u001b[0m\u001b[0ma\u001b[0m\u001b[0;34m)\u001b[0m\u001b[0;34m)\u001b[0m\u001b[0;34m:\u001b[0m\u001b[0;34m\u001b[0m\u001b[0;34m\u001b[0m\u001b[0m\n\u001b[1;32m      3\u001b[0m     \u001b[0;32mif\u001b[0m \u001b[0ma\u001b[0m\u001b[0;34m[\u001b[0m\u001b[0mi\u001b[0m\u001b[0;34m]\u001b[0m \u001b[0;32mnot\u001b[0m \u001b[0;32min\u001b[0m \u001b[0mb\u001b[0m\u001b[0;34m:\u001b[0m\u001b[0;34m\u001b[0m\u001b[0;34m\u001b[0m\u001b[0m\n\u001b[0;32m----> 4\u001b[0;31m         \u001b[0mc\u001b[0m\u001b[0;34m.\u001b[0m\u001b[0mappend\u001b[0m\u001b[0;34m(\u001b[0m\u001b[0ma\u001b[0m\u001b[0;34m[\u001b[0m\u001b[0mi\u001b[0m\u001b[0;34m]\u001b[0m\u001b[0;34m)\u001b[0m\u001b[0;34m\u001b[0m\u001b[0;34m\u001b[0m\u001b[0m\n\u001b[0m",
        "\u001b[0;31mAttributeError\u001b[0m: 'numpy.ndarray' object has no attribute 'append'"
       ]
      }
     ],
     "persistentId": "13984171-c099-4a50-a464-856ad4d8d5b5",
     "text": "c = np.array([])\nfor i in range(len(a)):\n    if a[i] not in b:\n        c.append(a[i])"
    },
    "executionTime": "2020-04-09T03:45:39.457Z"
   },
   {
    "cell": {
     "executionCount": 23,
     "executionEventId": "dbf9ee8a-4232-40c6-9b1a-c79f92aa8bf9",
     "hasError": false,
     "id": "e6d82cd7-b2ed-4c77-bd7a-2fa71b98e996",
     "outputs": [],
     "persistentId": "13984171-c099-4a50-a464-856ad4d8d5b5",
     "text": "c = np.array([])\nfor i in range(len(a)):\n    if a[i] not in b:\n        c = np.append(a[i],b)"
    },
    "executionTime": "2020-04-09T03:46:34.676Z"
   },
   {
    "cell": {
     "executionCount": 24,
     "executionEventId": "5686ee0d-325d-4a34-91df-157521d42d1e",
     "hasError": false,
     "id": "ef8fc70e-ebf1-4a1a-980f-7fc61bff1c8b",
     "outputs": [
      {
       "data": {
        "text/plain": "array([4, 1, 2, 5, 7, 9])"
       },
       "execution_count": 24,
       "metadata": {},
       "output_type": "execute_result"
      }
     ],
     "persistentId": "766c28c3-28fa-4368-9b97-b2cf69b8d2c8",
     "text": "c"
    },
    "executionTime": "2020-04-09T03:46:36.352Z"
   },
   {
    "cell": {
     "executionCount": 25,
     "executionEventId": "41d58b8a-39fb-48f0-abbb-1bf86cc96974",
     "hasError": false,
     "id": "ef8fc70e-ebf1-4a1a-980f-7fc61bff1c8b",
     "outputs": [
      {
       "data": {
        "text/plain": "array([4, 1, 2, 5, 7, 9])"
       },
       "execution_count": 25,
       "metadata": {},
       "output_type": "execute_result"
      }
     ],
     "persistentId": "766c28c3-28fa-4368-9b97-b2cf69b8d2c8",
     "text": "c"
    },
    "executionTime": "2020-04-09T03:46:50.243Z"
   },
   {
    "cell": {
     "executionCount": 26,
     "executionEventId": "8d11a046-a6ee-49ae-9724-923003a805bd",
     "hasError": false,
     "id": "e6d82cd7-b2ed-4c77-bd7a-2fa71b98e996",
     "outputs": [],
     "persistentId": "13984171-c099-4a50-a464-856ad4d8d5b5",
     "text": "for i in range(len(a)):\n    if a[i] not in b:\n        a = np.append(a[i],b)"
    },
    "executionTime": "2020-04-09T03:47:30.478Z"
   },
   {
    "cell": {
     "executionCount": 27,
     "executionEventId": "ac429c05-9e03-47f6-b2af-b3a9b66393f1",
     "hasError": false,
     "id": "ef8fc70e-ebf1-4a1a-980f-7fc61bff1c8b",
     "outputs": [
      {
       "data": {
        "text/plain": "array([3, 1, 2, 5, 7, 9])"
       },
       "execution_count": 27,
       "metadata": {},
       "output_type": "execute_result"
      }
     ],
     "persistentId": "766c28c3-28fa-4368-9b97-b2cf69b8d2c8",
     "text": "a"
    },
    "executionTime": "2020-04-09T03:47:32.022Z"
   },
   {
    "cell": {
     "executionCount": 28,
     "executionEventId": "ec92df32-d42a-4043-a194-ef27dfd4c381",
     "hasError": false,
     "id": "e6d82cd7-b2ed-4c77-bd7a-2fa71b98e996",
     "outputs": [],
     "persistentId": "13984171-c099-4a50-a464-856ad4d8d5b5",
     "text": "for i in range(len(a)):\n    if a[i] not in b:\n        b = np.append(b,a[i])"
    },
    "executionTime": "2020-04-09T03:48:07.595Z"
   },
   {
    "cell": {
     "executionCount": 29,
     "executionEventId": "ef382b45-b62f-4903-af5e-999d9e3f17a6",
     "hasError": false,
     "id": "ef8fc70e-ebf1-4a1a-980f-7fc61bff1c8b",
     "outputs": [
      {
       "data": {
        "text/plain": "array([1, 2, 5, 7, 9, 3])"
       },
       "execution_count": 29,
       "metadata": {},
       "output_type": "execute_result"
      }
     ],
     "persistentId": "766c28c3-28fa-4368-9b97-b2cf69b8d2c8",
     "text": "b"
    },
    "executionTime": "2020-04-09T03:48:09.455Z"
   },
   {
    "cell": {
     "executionCount": 30,
     "executionEventId": "4ee8e31f-fb16-45d1-8bde-b5284800b702",
     "hasError": false,
     "id": "ee9c1690-3c2e-4a90-8909-4f94dc46cc52",
     "outputs": [],
     "persistentId": "bf3dfa73-20bb-4f1f-bcce-fcfa030a530c",
     "text": "a = np.array([1,2,3,4,5])"
    },
    "executionTime": "2020-04-09T03:48:19.403Z"
   },
   {
    "cell": {
     "executionCount": 31,
     "executionEventId": "91af5032-e70f-4a37-9452-6e13d965642b",
     "hasError": false,
     "id": "0b8550f1-34d9-4b41-b347-ca9e14e05330",
     "outputs": [],
     "persistentId": "6ed27eaf-9a13-4f2d-a68b-6cca876c9528",
     "text": "b = np.array([1,2,5,7,9])"
    },
    "executionTime": "2020-04-09T03:48:20.573Z"
   },
   {
    "cell": {
     "executionCount": 32,
     "executionEventId": "a80cbdef-fa3e-497b-bc31-88f7caf3624d",
     "hasError": false,
     "id": "e6d82cd7-b2ed-4c77-bd7a-2fa71b98e996",
     "outputs": [],
     "persistentId": "13984171-c099-4a50-a464-856ad4d8d5b5",
     "text": "for i in range(len(a)):\n    if a[i] not in b:\n        b = np.append(b,a[i])"
    },
    "executionTime": "2020-04-09T03:48:21.569Z"
   },
   {
    "cell": {
     "executionCount": 33,
     "executionEventId": "a6828131-4999-4a3d-9564-70bcd910e7a4",
     "hasError": false,
     "id": "ef8fc70e-ebf1-4a1a-980f-7fc61bff1c8b",
     "outputs": [
      {
       "data": {
        "text/plain": "array([1, 2, 5, 7, 9, 3, 4])"
       },
       "execution_count": 33,
       "metadata": {},
       "output_type": "execute_result"
      }
     ],
     "persistentId": "766c28c3-28fa-4368-9b97-b2cf69b8d2c8",
     "text": "b"
    },
    "executionTime": "2020-04-09T03:48:23.087Z"
   },
   {
    "cell": {
     "executionCount": 34,
     "executionEventId": "9c0675f6-d52b-4567-ac26-431025ac9c6a",
     "hasError": false,
     "id": "ef8fc70e-ebf1-4a1a-980f-7fc61bff1c8b",
     "outputs": [
      {
       "data": {
        "text/plain": "array([1, 2, 5, 7, 9, 3, 4])"
       },
       "execution_count": 34,
       "metadata": {},
       "output_type": "execute_result"
      }
     ],
     "persistentId": "766c28c3-28fa-4368-9b97-b2cf69b8d2c8",
     "text": "b"
    },
    "executionTime": "2020-04-09T03:48:24.702Z"
   },
   {
    "cell": {
     "executionCount": 35,
     "executionEventId": "90341f2a-c565-4141-92e9-fd9538edaa1d",
     "hasError": false,
     "id": "ad3117bc-b3dc-4220-b74d-33664f23b551",
     "outputs": [],
     "persistentId": "02f16121-7895-4b2d-b448-5f48407eb681",
     "text": "def Select_tides_star(M33,Rj_MW_M33,Rj_M31_M33):\n    \n    time, total, data = Read(M33)\n    MW_index = np.where(np.sqrt(data['x']**2+data['y']**2+data['z']**2) >= Rj_MW_M33)\n    M31_index = np.where(np.sqrt(data['x']**2+data['y']**2+data['z']**2) >= Rj_M31_M33)\n    total_index = M31_index\n    for i in range(len(MW_index)):\n        if MW_index[i] not in total_index:\n            total_index = np.append(total_index,MW_index[i])\n    tidal_star = data[total_index]\n    \n    return tidal_star"
    },
    "executionTime": "2020-04-09T03:50:54.897Z"
   },
   {
    "cell": {
     "executionCount": 36,
     "executionEventId": "023efc85-2cb7-48a0-8cd2-60e2430cbd58",
     "hasError": false,
     "id": "ef8fc70e-ebf1-4a1a-980f-7fc61bff1c8b",
     "outputs": [
      {
       "data": {
        "text/plain": "array([1, 2, 3, 4, 5])"
       },
       "execution_count": 36,
       "metadata": {},
       "output_type": "execute_result"
      }
     ],
     "persistentId": "766c28c3-28fa-4368-9b97-b2cf69b8d2c8",
     "text": "a"
    },
    "executionTime": "2020-04-09T03:54:02.529Z"
   },
   {
    "cell": {
     "executionCount": 37,
     "executionEventId": "a07fc6c9-6306-4a60-a1e7-2f74d5637ae2",
     "hasError": false,
     "id": "ef8fc70e-ebf1-4a1a-980f-7fc61bff1c8b",
     "outputs": [
      {
       "data": {
        "text/plain": "2"
       },
       "execution_count": 37,
       "metadata": {},
       "output_type": "execute_result"
      }
     ],
     "persistentId": "766c28c3-28fa-4368-9b97-b2cf69b8d2c8",
     "text": "a[1]"
    },
    "executionTime": "2020-04-09T03:54:04.834Z"
   },
   {
    "cell": {
     "executionCount": 38,
     "executionEventId": "91f83483-3581-4bcf-83ab-4e2386427c33",
     "hasError": false,
     "id": "ef8fc70e-ebf1-4a1a-980f-7fc61bff1c8b",
     "outputs": [
      {
       "data": {
        "text/plain": "5"
       },
       "execution_count": 38,
       "metadata": {},
       "output_type": "execute_result"
      }
     ],
     "persistentId": "766c28c3-28fa-4368-9b97-b2cf69b8d2c8",
     "text": "a[-1]"
    },
    "executionTime": "2020-04-09T03:54:08.810Z"
   },
   {
    "cell": {
     "executionCount": 1,
     "executionEventId": "0090ec44-6a2a-45da-837e-d4524d6c499f",
     "hasError": true,
     "id": "97f072c2-7796-4475-83ce-d69bd597a262",
     "outputs": [
      {
       "ename": "SyntaxError",
       "evalue": "'return' outside function (<ipython-input-1-2f15218e0aba>, line 9)",
       "output_type": "error",
       "traceback": [
        "\u001b[0;36m  File \u001b[0;32m\"<ipython-input-1-2f15218e0aba>\"\u001b[0;36m, line \u001b[0;32m9\u001b[0m\n\u001b[0;31m    return t\u001b[0m\n\u001b[0m    ^\u001b[0m\n\u001b[0;31mSyntaxError\u001b[0m\u001b[0;31m:\u001b[0m 'return' outside function\n"
       ]
      }
     ],
     "persistentId": "9f222463-6434-4d42-aa79-917bf07aae05",
     "text": "class Test:\n    def __init__(self):\n        self.a = 1\n        self.b = 2\n    \n    def out(self):\n        t = [a,b]\n    \n    return t"
    },
    "executionTime": "2020-04-22T21:18:48.429Z"
   },
   {
    "cell": {
     "executionCount": 2,
     "executionEventId": "0473cf52-25cd-47f4-b8ad-70e52fd20c5e",
     "hasError": false,
     "id": "97f072c2-7796-4475-83ce-d69bd597a262",
     "outputs": [],
     "persistentId": "9f222463-6434-4d42-aa79-917bf07aae05",
     "text": "class Test:\n    def __init__(self):\n        self.a = 1\n        self.b = 2\n    \n    def out(self):\n        t = [a,b]\n        return t"
    },
    "executionTime": "2020-04-22T21:18:54.287Z"
   },
   {
    "cell": {
     "executionCount": 3,
     "executionEventId": "1830c307-a507-435b-bd91-183d33aaeac0",
     "hasError": false,
     "id": "711d9d79-2b93-46c4-805b-8b5612cc4673",
     "outputs": [],
     "persistentId": "bf3dfa73-20bb-4f1f-bcce-fcfa030a530c",
     "text": "a = Test()"
    },
    "executionTime": "2020-04-22T21:19:04.303Z"
   },
   {
    "cell": {
     "executionCount": 4,
     "executionEventId": "8762bfa5-395e-45c1-bfad-423cb73689bd",
     "hasError": true,
     "id": "92d574ff-49f0-4f1f-b5bf-16564ff03442",
     "outputs": [
      {
       "ename": "NameError",
       "evalue": "name 'b' is not defined",
       "output_type": "error",
       "traceback": [
        "\u001b[0;31m---------------------------------------------------------------------------\u001b[0m",
        "\u001b[0;31mNameError\u001b[0m                                 Traceback (most recent call last)",
        "\u001b[0;32m<ipython-input-4-7584f242a22e>\u001b[0m in \u001b[0;36m<module>\u001b[0;34m\u001b[0m\n\u001b[0;32m----> 1\u001b[0;31m \u001b[0mb\u001b[0m \u001b[0;34m=\u001b[0m \u001b[0ma\u001b[0m\u001b[0;34m.\u001b[0m\u001b[0mout\u001b[0m\u001b[0;34m(\u001b[0m\u001b[0;34m)\u001b[0m\u001b[0;34m\u001b[0m\u001b[0;34m\u001b[0m\u001b[0m\n\u001b[0m",
        "\u001b[0;32m<ipython-input-2-cfda4da6f40d>\u001b[0m in \u001b[0;36mout\u001b[0;34m(self)\u001b[0m\n\u001b[1;32m      5\u001b[0m \u001b[0;34m\u001b[0m\u001b[0m\n\u001b[1;32m      6\u001b[0m     \u001b[0;32mdef\u001b[0m \u001b[0mout\u001b[0m\u001b[0;34m(\u001b[0m\u001b[0mself\u001b[0m\u001b[0;34m)\u001b[0m\u001b[0;34m:\u001b[0m\u001b[0;34m\u001b[0m\u001b[0;34m\u001b[0m\u001b[0m\n\u001b[0;32m----> 7\u001b[0;31m         \u001b[0mt\u001b[0m \u001b[0;34m=\u001b[0m \u001b[0;34m[\u001b[0m\u001b[0ma\u001b[0m\u001b[0;34m,\u001b[0m\u001b[0mb\u001b[0m\u001b[0;34m]\u001b[0m\u001b[0;34m\u001b[0m\u001b[0;34m\u001b[0m\u001b[0m\n\u001b[0m\u001b[1;32m      8\u001b[0m         \u001b[0;32mreturn\u001b[0m \u001b[0mt\u001b[0m\u001b[0;34m\u001b[0m\u001b[0;34m\u001b[0m\u001b[0m\n",
        "\u001b[0;31mNameError\u001b[0m: name 'b' is not defined"
       ]
      }
     ],
     "persistentId": "6ed27eaf-9a13-4f2d-a68b-6cca876c9528",
     "text": "b = a.out()"
    },
    "executionTime": "2020-04-22T21:19:13.290Z"
   },
   {
    "cell": {
     "executionCount": 5,
     "executionEventId": "083f79fe-4432-4249-b23e-f9c0a9652ff2",
     "hasError": false,
     "id": "97f072c2-7796-4475-83ce-d69bd597a262",
     "outputs": [],
     "persistentId": "9f222463-6434-4d42-aa79-917bf07aae05",
     "text": "class Test:\n    def __init__(self):\n        self.a = 1\n        self.b = 2\n    \n    def out(self):\n        t = [self.a,self.b]\n        return t"
    },
    "executionTime": "2020-04-22T21:19:25.869Z"
   },
   {
    "cell": {
     "executionCount": 6,
     "executionEventId": "b40e9eb4-928e-4129-87d5-1d208fa14f81",
     "hasError": false,
     "id": "711d9d79-2b93-46c4-805b-8b5612cc4673",
     "outputs": [],
     "persistentId": "bf3dfa73-20bb-4f1f-bcce-fcfa030a530c",
     "text": "a = Test()"
    },
    "executionTime": "2020-04-22T21:19:27.013Z"
   },
   {
    "cell": {
     "executionCount": 7,
     "executionEventId": "260c6d7d-b780-4a46-a367-922513a08405",
     "hasError": false,
     "id": "92d574ff-49f0-4f1f-b5bf-16564ff03442",
     "outputs": [],
     "persistentId": "6ed27eaf-9a13-4f2d-a68b-6cca876c9528",
     "text": "b = a.out()"
    },
    "executionTime": "2020-04-22T21:19:27.702Z"
   },
   {
    "cell": {
     "executionCount": 8,
     "executionEventId": "f5d92b38-6f93-44ba-a379-62f333ff6d74",
     "hasError": false,
     "id": "8e1c4675-14fe-46e3-9b41-c84cd52679e5",
     "outputs": [
      {
       "data": {
        "text/plain": "[1, 2]"
       },
       "execution_count": 8,
       "metadata": {},
       "output_type": "execute_result"
      }
     ],
     "persistentId": "13984171-c099-4a50-a464-856ad4d8d5b5",
     "text": "b"
    },
    "executionTime": "2020-04-22T21:19:31.934Z"
   },
   {
    "cell": {
     "executionCount": 9,
     "executionEventId": "b017a275-2ded-4126-984e-a2e65bcd8fb4",
     "hasError": false,
     "id": "8e1c4675-14fe-46e3-9b41-c84cd52679e5",
     "outputs": [
      {
       "data": {
        "text/plain": "[1, 2]"
       },
       "execution_count": 9,
       "metadata": {},
       "output_type": "execute_result"
      }
     ],
     "persistentId": "13984171-c099-4a50-a464-856ad4d8d5b5",
     "text": "b"
    },
    "executionTime": "2020-04-22T21:19:46.498Z"
   },
   {
    "cell": {
     "executionCount": 10,
     "executionEventId": "2787c778-7e39-4ab2-8b84-0fa1b5cd2cbd",
     "hasError": false,
     "id": "8e1c4675-14fe-46e3-9b41-c84cd52679e5",
     "outputs": [
      {
       "data": {
        "text/plain": "2"
       },
       "execution_count": 10,
       "metadata": {},
       "output_type": "execute_result"
      }
     ],
     "persistentId": "13984171-c099-4a50-a464-856ad4d8d5b5",
     "text": "b[1]"
    },
    "executionTime": "2020-04-22T21:19:52.020Z"
   },
   {
    "cell": {
     "executionCount": 11,
     "executionEventId": "1d49de01-e42d-4c87-9795-3a41724e4575",
     "hasError": false,
     "id": "8e1c4675-14fe-46e3-9b41-c84cd52679e5",
     "outputs": [
      {
       "data": {
        "text/plain": "1"
       },
       "execution_count": 11,
       "metadata": {},
       "output_type": "execute_result"
      }
     ],
     "persistentId": "13984171-c099-4a50-a464-856ad4d8d5b5",
     "text": "b[0]"
    },
    "executionTime": "2020-04-22T21:19:54.622Z"
   },
   {
    "cell": {
     "executionCount": 12,
     "executionEventId": "d226eac0-aca9-4bb0-9257-bae76a18d138",
     "hasError": false,
     "id": "97f072c2-7796-4475-83ce-d69bd597a262",
     "outputs": [],
     "persistentId": "9f222463-6434-4d42-aa79-917bf07aae05",
     "text": "class Test:\n    def __init__(self):\n        self.a = 1\n        self.b = 2\n    \n    def out(self):\n        self.t = [self.a,self.b]\n        \n    def gugu(self):\n        self.t += 1\n        return self.t"
    },
    "executionTime": "2020-04-22T21:39:29.237Z"
   },
   {
    "cell": {
     "executionCount": 13,
     "executionEventId": "69ce8c5b-d39c-46b1-ba93-5ab855a2f84c",
     "hasError": false,
     "id": "711d9d79-2b93-46c4-805b-8b5612cc4673",
     "outputs": [],
     "persistentId": "bf3dfa73-20bb-4f1f-bcce-fcfa030a530c",
     "text": "a = Test()"
    },
    "executionTime": "2020-04-22T21:39:31.201Z"
   },
   {
    "cell": {
     "executionCount": 14,
     "executionEventId": "4e13bf1f-bf84-4db0-b464-c1503aaa7616",
     "hasError": false,
     "id": "92d574ff-49f0-4f1f-b5bf-16564ff03442",
     "outputs": [],
     "persistentId": "6ed27eaf-9a13-4f2d-a68b-6cca876c9528",
     "text": "b = a.out()"
    },
    "executionTime": "2020-04-22T21:39:32.600Z"
   },
   {
    "cell": {
     "executionCount": 15,
     "executionEventId": "26abd990-23e4-4849-a919-93cd3535ea21",
     "hasError": true,
     "id": "8e1c4675-14fe-46e3-9b41-c84cd52679e5",
     "outputs": [
      {
       "ename": "TypeError",
       "evalue": "'int' object is not iterable",
       "output_type": "error",
       "traceback": [
        "\u001b[0;31m---------------------------------------------------------------------------\u001b[0m",
        "\u001b[0;31mTypeError\u001b[0m                                 Traceback (most recent call last)",
        "\u001b[0;32m<ipython-input-15-01036350ff5b>\u001b[0m in \u001b[0;36m<module>\u001b[0;34m\u001b[0m\n\u001b[0;32m----> 1\u001b[0;31m \u001b[0mc\u001b[0m \u001b[0;34m=\u001b[0m \u001b[0ma\u001b[0m\u001b[0;34m.\u001b[0m\u001b[0mgugu\u001b[0m\u001b[0;34m(\u001b[0m\u001b[0;34m)\u001b[0m\u001b[0;34m\u001b[0m\u001b[0;34m\u001b[0m\u001b[0m\n\u001b[0m",
        "\u001b[0;32m<ipython-input-12-1732ddf42d05>\u001b[0m in \u001b[0;36mgugu\u001b[0;34m(self)\u001b[0m\n\u001b[1;32m      8\u001b[0m \u001b[0;34m\u001b[0m\u001b[0m\n\u001b[1;32m      9\u001b[0m     \u001b[0;32mdef\u001b[0m \u001b[0mgugu\u001b[0m\u001b[0;34m(\u001b[0m\u001b[0mself\u001b[0m\u001b[0;34m)\u001b[0m\u001b[0;34m:\u001b[0m\u001b[0;34m\u001b[0m\u001b[0;34m\u001b[0m\u001b[0m\n\u001b[0;32m---> 10\u001b[0;31m         \u001b[0mself\u001b[0m\u001b[0;34m.\u001b[0m\u001b[0mt\u001b[0m \u001b[0;34m+=\u001b[0m \u001b[0;36m1\u001b[0m\u001b[0;34m\u001b[0m\u001b[0;34m\u001b[0m\u001b[0m\n\u001b[0m\u001b[1;32m     11\u001b[0m         \u001b[0;32mreturn\u001b[0m \u001b[0mself\u001b[0m\u001b[0;34m.\u001b[0m\u001b[0mt\u001b[0m\u001b[0;34m\u001b[0m\u001b[0;34m\u001b[0m\u001b[0m\n",
        "\u001b[0;31mTypeError\u001b[0m: 'int' object is not iterable"
       ]
      }
     ],
     "persistentId": "13984171-c099-4a50-a464-856ad4d8d5b5",
     "text": "c = a.gugu()"
    },
    "executionTime": "2020-04-22T21:39:41.748Z"
   },
   {
    "cell": {
     "executionCount": 16,
     "executionEventId": "2db4c17f-d07f-46b2-a04a-d24993e6ff04",
     "hasError": false,
     "id": "97f072c2-7796-4475-83ce-d69bd597a262",
     "outputs": [],
     "persistentId": "9f222463-6434-4d42-aa79-917bf07aae05",
     "text": "class Test:\n    def __init__(self):\n        self.a = 1\n        self.b = 2\n    \n    def out(self):\n        self.t = [self.a,self.b]\n        \n    def gugu(self):\n        self.t.append(1)\n        return self.t"
    },
    "executionTime": "2020-04-22T21:40:07.458Z"
   },
   {
    "cell": {
     "executionCount": 17,
     "executionEventId": "5fc4e377-d67b-4ba7-aaa9-fa6595df50c3",
     "hasError": false,
     "id": "711d9d79-2b93-46c4-805b-8b5612cc4673",
     "outputs": [],
     "persistentId": "bf3dfa73-20bb-4f1f-bcce-fcfa030a530c",
     "text": "a = Test()"
    },
    "executionTime": "2020-04-22T21:40:08.751Z"
   },
   {
    "cell": {
     "executionCount": 18,
     "executionEventId": "f70ab63c-8723-4540-9693-257d07a67290",
     "hasError": true,
     "id": "8e1c4675-14fe-46e3-9b41-c84cd52679e5",
     "outputs": [
      {
       "ename": "AttributeError",
       "evalue": "'Test' object has no attribute 't'",
       "output_type": "error",
       "traceback": [
        "\u001b[0;31m---------------------------------------------------------------------------\u001b[0m",
        "\u001b[0;31mAttributeError\u001b[0m                            Traceback (most recent call last)",
        "\u001b[0;32m<ipython-input-18-01036350ff5b>\u001b[0m in \u001b[0;36m<module>\u001b[0;34m\u001b[0m\n\u001b[0;32m----> 1\u001b[0;31m \u001b[0mc\u001b[0m \u001b[0;34m=\u001b[0m \u001b[0ma\u001b[0m\u001b[0;34m.\u001b[0m\u001b[0mgugu\u001b[0m\u001b[0;34m(\u001b[0m\u001b[0;34m)\u001b[0m\u001b[0;34m\u001b[0m\u001b[0;34m\u001b[0m\u001b[0m\n\u001b[0m",
        "\u001b[0;32m<ipython-input-16-24468093e660>\u001b[0m in \u001b[0;36mgugu\u001b[0;34m(self)\u001b[0m\n\u001b[1;32m      8\u001b[0m \u001b[0;34m\u001b[0m\u001b[0m\n\u001b[1;32m      9\u001b[0m     \u001b[0;32mdef\u001b[0m \u001b[0mgugu\u001b[0m\u001b[0;34m(\u001b[0m\u001b[0mself\u001b[0m\u001b[0;34m)\u001b[0m\u001b[0;34m:\u001b[0m\u001b[0;34m\u001b[0m\u001b[0;34m\u001b[0m\u001b[0m\n\u001b[0;32m---> 10\u001b[0;31m         \u001b[0mself\u001b[0m\u001b[0;34m.\u001b[0m\u001b[0mt\u001b[0m\u001b[0;34m.\u001b[0m\u001b[0mappend\u001b[0m\u001b[0;34m(\u001b[0m\u001b[0;36m1\u001b[0m\u001b[0;34m)\u001b[0m\u001b[0;34m\u001b[0m\u001b[0;34m\u001b[0m\u001b[0m\n\u001b[0m\u001b[1;32m     11\u001b[0m         \u001b[0;32mreturn\u001b[0m \u001b[0mself\u001b[0m\u001b[0;34m.\u001b[0m\u001b[0mt\u001b[0m\u001b[0;34m\u001b[0m\u001b[0;34m\u001b[0m\u001b[0m\n",
        "\u001b[0;31mAttributeError\u001b[0m: 'Test' object has no attribute 't'"
       ]
      }
     ],
     "persistentId": "13984171-c099-4a50-a464-856ad4d8d5b5",
     "text": "c = a.gugu()"
    },
    "executionTime": "2020-04-22T21:40:10.473Z"
   },
   {
    "cell": {
     "executionCount": 19,
     "executionEventId": "370aedfc-eb3f-4b44-9e4d-4e9fefe9486a",
     "hasError": false,
     "id": "92d574ff-49f0-4f1f-b5bf-16564ff03442",
     "outputs": [],
     "persistentId": "6ed27eaf-9a13-4f2d-a68b-6cca876c9528",
     "text": "b = a.out()"
    },
    "executionTime": "2020-04-22T21:40:14.935Z"
   },
   {
    "cell": {
     "executionCount": 20,
     "executionEventId": "218c4847-3d2a-4a23-9ebb-dafaef2884eb",
     "hasError": false,
     "id": "8e1c4675-14fe-46e3-9b41-c84cd52679e5",
     "outputs": [],
     "persistentId": "13984171-c099-4a50-a464-856ad4d8d5b5",
     "text": "c = a.gugu()"
    },
    "executionTime": "2020-04-22T21:40:15.775Z"
   },
   {
    "cell": {
     "executionCount": 21,
     "executionEventId": "409b3445-508c-444e-a588-df79240d2601",
     "hasError": false,
     "id": "dd89d890-5467-432b-a91a-ae0f724d6aa9",
     "outputs": [
      {
       "data": {
        "text/plain": "[1, 2, 1]"
       },
       "execution_count": 21,
       "metadata": {},
       "output_type": "execute_result"
      }
     ],
     "persistentId": "766c28c3-28fa-4368-9b97-b2cf69b8d2c8",
     "text": "c"
    },
    "executionTime": "2020-04-22T21:40:17.253Z"
   },
   {
    "cell": {
     "executionCount": 22,
     "executionEventId": "c6df5acf-e343-41eb-9ae9-75b5a6cc3dce",
     "hasError": false,
     "id": "8eb87ad8-f8b8-4763-a036-a9d220395fa4",
     "outputs": [],
     "persistentId": "0c0b76d9-3d1a-4a46-859e-e72e8cb5329a",
     "text": "import numpy as np\nimport astropy.units as u\nfrom astropy.constants import G\n\n# import plotting modules\nimport matplotlib.pyplot as plt\nimport matplotlib\n%matplotlib inline\n\n# my modules\nfrom ReadFile import Read\n\n# edit CenterOfMass2 to Calculate COM of all components \nfrom CenterOfMass2 import CenterOfMass\n# edit GalaxyMAss to Calculate Mass of all components \nfrom GalaxyMass import ComponentMass\n"
    },
    "executionTime": "2020-04-22T21:44:06.992Z"
   },
   {
    "cell": {
     "executionCount": 1,
     "executionEventId": "9e8559fa-b838-4603-b82b-7a5dda570066",
     "hasError": false,
     "id": "9fb56a98-8890-40b7-9933-b60faebeac3c",
     "outputs": [],
     "persistentId": "5064a642-f2ac-42d6-a048-5b0a9c852881",
     "text": "def Mass_enclose(filename,radius):\n# function to compute the mass of all particles less than the distance between two Galaxy COM position \n# Inputs:\n#       filename: galaxyfile for input\n#       radius: COM position difference in kpc \n# output: Mass in units of Msun. \n    \n    # read in the file \n    time, total, data = Read(filename)\n    \n    # gather particles with the same type and sum up the mass\n    mass = np.round(data[np.sqrt(data['x']**2+data['y']**2+data['z']**2) < radius]['m'].sum() * 1e10, 3)\n    \n    # return the mass \n    return mass\n"
    },
    "executionTime": "2020-04-22T22:23:05.731Z"
   },
   {
    "cell": {
     "executionCount": 2,
     "executionEventId": "75393ee1-105b-4a8e-9231-47330b829a93",
     "hasError": false,
     "id": "660519a7-a223-47d4-93ab-01dbe3e89bf5",
     "outputs": [],
     "persistentId": "02f16121-7895-4b2d-b448-5f48407eb681",
     "text": "def Select_tides_star(M33,Rj_MW_M33,Rj_M31_M33):\n    \"\"\"Select tides star of M33\"\"\"\n    # Inputs:\n    #      M33: each snap file name of M33\n    #      Rj_MW_M33: Jacobi Radius of MW and M33 system\n    #      Rj_M1_M33: Jacobi Radius of M31 and M33 system\n    # Outpur:\n    #      tidal_star con\n    time, total, data = Read(M33)\n    MW_index = np.where(np.sqrt(data['x']**2+data['y']**2+data['z']**2) >= Rj_MW_M33)\n    M31_index = np.where(np.sqrt(data['x']**2+data['y']**2+data['z']**2) >= Rj_M31_M33)\n    total_index = M31_index\n    for i in range(len(MW_index)):\n        if MW_index[i] not in total_index:\n            total_index = np.append(total_index,MW_index[i])\n    \n    tidal_star_MW = data[MW_index]\n    tidal_star_M31 = data[M31_index]\n    tidal_star_total = data[total_index]\n    \n    return tidal_star_MW, tidal_star_M31, tidal_star_total"
    },
    "executionTime": "2020-04-22T22:23:06.846Z"
   },
   {
    "cell": {
     "executionCount": 3,
     "executionEventId": "9ff1a9f4-5282-4762-a8e5-2cf6520b01df",
     "hasError": true,
     "id": "f08f3fbd-ce19-4833-a1d5-879ea03e95c6",
     "outputs": [
      {
       "ename": "SyntaxError",
       "evalue": "invalid syntax (<ipython-input-3-82134b879fd1>, line 60)",
       "output_type": "error",
       "traceback": [
        "\u001b[0;36m  File \u001b[0;32m\"<ipython-input-3-82134b879fd1>\"\u001b[0;36m, line \u001b[0;32m60\u001b[0m\n\u001b[0;31m    def Rj(self)\u001b[0m\n\u001b[0m                ^\u001b[0m\n\u001b[0;31mSyntaxError\u001b[0m\u001b[0;31m:\u001b[0m invalid syntax\n"
       ]
      }
     ],
     "persistentId": "c19ce159-9811-4a98-b843-6bf704c73071",
     "text": "class Snap:\n    \"\"\"This is a class for each Snap with M31, MW, M33\"\"\"\n    \n    def __init__(self,Snap_number):\n        # get the snap file name of MW M31 and M33\n        # Inputs: Snapnumber\n        \n        self.Snap_number = Snap_number\n        self.MWfilename = \"VLowRes/\" + 'MW' + \"_VLowRes/\" + 'MW' +  \"_{:03d}\".format(self.Snap_number) + \".txt\"\n        self.M31filename = \"VLowRes/\" + 'M31' + \"_VLowRes/\" + 'M31' +  \"_{:03d}\".format(self.Snap_number) + \".txt\"\n        self.M33filename = \"VLowRes/\" + 'M33' + \"_VLowRes/\" + 'M33' +  \"_{:03d}\".format(self.Snap_number) + \".txt\"\n        \n    def COM(self):\n        # Calculate the COM Position of MW, M31 and M33 \n        \n        MW_COM = CenterOfMass(self.MWfilename)\n        M31_COM = CenterOfMass(self.M31filename)\n        M33_COM = CenterOfMass(self.M31filename)\n        \n        # For MW and M31 delta = 0.1 and VelDec = 2\n        # For M33 dalta = 0.1 and VelDec = 4\n        MW_COM = MW_COM.COM_P(0.1,2)\n        M31_COM = M31_COM.COM_P(0.1,2)\n        M33_COM = M33_COM.COM_P(0.1,4)\n        self.COMP_MW = COMP_MW.value\n        self.COMP_M31 = COMP_M31.value\n        self.COMP_M33 = COMP_M33.value\n        \n        return self.COMP_MW, self.COMP_M31, self.COMP_M33\n    \n    \n    def COMdiff(self,galaxy1,galaxy2):\n        # Calculate the COM Position distance of two Galaxy\n        \n        COMdiff = np.sqrt((galaxy1[0]-galaxy2[0])**2+(galaxy1[1]-galaxy2[1])**2+(galaxy1[2]-galaxy2[2])**2)        \n        \n        return COMdiff\n    \n    def Total_Mass(self,galaxy_name):\n        # Calculate total Mass of each Galaxy \n        \n        return ComponentMass(galaxy_name) \n    \n    def Mass_enclose(self):\n        # Calculate the Mass enclose less than the distance between two Galaxy COM Position\n        \n        #Calculate COM Positoon\n        self.COMP_MW, self.COMP_M31, self.COMP_M33 = self.COM()\n        \n        #Calculate MW_M33 M31_M33 COMP difference\n        self.MW_M33diff = self.COMdiff(self.COMP_MW,self.COMP_M33)\n        self.M31_M33diff = self.COMdiff(self.COMP_M31,self.COMP_M33)\n        \n        #Calculate the mass inclose\n        self.M31_enclose = Mass_enclose(self.M31filename, self.M31_M33diff)\n        self.MW_enclose = Mass_enclose(self.MWfilename, self.MW_M33diff)\n        \n        return self.M31_enclose, self.MW_enclose\n    \n    def Rj(self)\n        # Calculate the Jacobi Radius of M31-M33 and MW-M33 system\n        # Rj = r*(Msat/Mhost(<r))**(1/3)\n        # Msat is M33, Mhost is enclose mass of MW and M31\n        self.MWmass = self.Total_Mass(self.MWfilename)\n        self.M31mass = self.Total_Mass(self.M31filename)\n        self.M33mass = self.Total_Mass(self.M33filename)\n        \n        self.COMP_MW, self.COMP_M31, self.COMP_M33 = self.COM()\n        \n        self.MW_M33diff = self.COMdiff(self.COMP_MW,self.COMP_M33)\n        self.M31_M33diff = self.COMdiff(self.COMP_M31,self.COMP_M33)\n        \n        self.M31_enclose, self.MW_enclose = self.Mass_enclose()\n        \n        self.Rj_MW_M33 = self.MW_M33diff *(self.M33mass/self.MW_enclose)**(1/3)\n        self.Rj_M31_M33 = self.M31_M33diff *(self.M33mass/self.M31_enclose)**(1/3)\n        \n        return self.Rj_M31_M33, self.Rj_MW_M33\n    \n    def select_star(self):\n        self.tidal_star_MW, self.tidal_star_M31, self.tidal_star_total = Select_tides_star(self.M33filename,self.Rj_MW_M33,self.Rj_M31_M33)\n        \n        return self.tidal_star_MW, self.tidal_star_M31, self.tidal_star_total\n"
    },
    "executionTime": "2020-04-22T22:23:08.678Z"
   },
   {
    "cell": {
     "executionCount": 4,
     "executionEventId": "16312eca-8f57-4ab8-b236-e6d9c19a994b",
     "hasError": false,
     "id": "f08f3fbd-ce19-4833-a1d5-879ea03e95c6",
     "outputs": [],
     "persistentId": "c19ce159-9811-4a98-b843-6bf704c73071",
     "text": "class Snap:\n    \"\"\"This is a class for each Snap with M31, MW, M33\"\"\"\n    \n    def __init__(self,Snap_number):\n        # get the snap file name of MW M31 and M33\n        # Inputs: Snapnumber\n        \n        self.Snap_number = Snap_number\n        self.MWfilename = \"VLowRes/\" + 'MW' + \"_VLowRes/\" + 'MW' +  \"_{:03d}\".format(self.Snap_number) + \".txt\"\n        self.M31filename = \"VLowRes/\" + 'M31' + \"_VLowRes/\" + 'M31' +  \"_{:03d}\".format(self.Snap_number) + \".txt\"\n        self.M33filename = \"VLowRes/\" + 'M33' + \"_VLowRes/\" + 'M33' +  \"_{:03d}\".format(self.Snap_number) + \".txt\"\n        \n    def COM(self):\n        # Calculate the COM Position of MW, M31 and M33 \n        \n        MW_COM = CenterOfMass(self.MWfilename)\n        M31_COM = CenterOfMass(self.M31filename)\n        M33_COM = CenterOfMass(self.M31filename)\n        \n        # For MW and M31 delta = 0.1 and VelDec = 2\n        # For M33 dalta = 0.1 and VelDec = 4\n        MW_COM = MW_COM.COM_P(0.1,2)\n        M31_COM = M31_COM.COM_P(0.1,2)\n        M33_COM = M33_COM.COM_P(0.1,4)\n        self.COMP_MW = COMP_MW.value\n        self.COMP_M31 = COMP_M31.value\n        self.COMP_M33 = COMP_M33.value\n        \n        return self.COMP_MW, self.COMP_M31, self.COMP_M33\n    \n    \n    def COMdiff(self,galaxy1,galaxy2):\n        # Calculate the COM Position distance of two Galaxy\n        \n        COMdiff = np.sqrt((galaxy1[0]-galaxy2[0])**2+(galaxy1[1]-galaxy2[1])**2+(galaxy1[2]-galaxy2[2])**2)        \n        \n        return COMdiff\n    \n    def Total_Mass(self,galaxy_name):\n        # Calculate total Mass of each Galaxy \n        \n        return ComponentMass(galaxy_name) \n    \n    def Mass_enclose(self):\n        # Calculate the Mass enclose less than the distance between two Galaxy COM Position\n        \n        #Calculate COM Positoon\n        self.COMP_MW, self.COMP_M31, self.COMP_M33 = self.COM()\n        \n        #Calculate MW_M33 M31_M33 COMP difference\n        self.MW_M33diff = self.COMdiff(self.COMP_MW,self.COMP_M33)\n        self.M31_M33diff = self.COMdiff(self.COMP_M31,self.COMP_M33)\n        \n        #Calculate the mass inclose\n        self.M31_enclose = Mass_enclose(self.M31filename, self.M31_M33diff)\n        self.MW_enclose = Mass_enclose(self.MWfilename, self.MW_M33diff)\n        \n        return self.M31_enclose, self.MW_enclose\n    \n    def Rj(self):\n        # Calculate the Jacobi Radius of M31-M33 and MW-M33 system\n        # Rj = r*(Msat/Mhost(<r))**(1/3)\n        # Msat is M33, Mhost is enclose mass of MW and M31\n        self.MWmass = self.Total_Mass(self.MWfilename)\n        self.M31mass = self.Total_Mass(self.M31filename)\n        self.M33mass = self.Total_Mass(self.M33filename)\n        \n        self.COMP_MW, self.COMP_M31, self.COMP_M33 = self.COM()\n        \n        self.MW_M33diff = self.COMdiff(self.COMP_MW,self.COMP_M33)\n        self.M31_M33diff = self.COMdiff(self.COMP_M31,self.COMP_M33)\n        \n        self.M31_enclose, self.MW_enclose = self.Mass_enclose()\n        \n        self.Rj_MW_M33 = self.MW_M33diff *(self.M33mass/self.MW_enclose)**(1/3)\n        self.Rj_M31_M33 = self.M31_M33diff *(self.M33mass/self.M31_enclose)**(1/3)\n        \n        return self.Rj_M31_M33, self.Rj_MW_M33\n    \n    def select_star(self):\n        self.tidal_star_MW, self.tidal_star_M31, self.tidal_star_total = Select_tides_star(self.M33filename,self.Rj_MW_M33,self.Rj_M31_M33)\n        \n        return self.tidal_star_MW, self.tidal_star_M31, self.tidal_star_total\n"
    },
    "executionTime": "2020-04-22T22:23:15.404Z"
   },
   {
    "cell": {
     "executionCount": 5,
     "executionEventId": "d9bee76e-50b2-4728-8cda-cf83642a06c8",
     "hasError": false,
     "id": "da8b145e-c2db-4869-849c-7e14c83e668f",
     "outputs": [],
     "persistentId": "089ba10f-5132-447a-b512-d5392113a174",
     "text": "t = Snap(100)"
    },
    "executionTime": "2020-04-22T22:30:45.187Z"
   },
   {
    "cell": {
     "executionCount": 6,
     "executionEventId": "46469748-7e0a-4909-bbda-c981a73a730c",
     "hasError": true,
     "id": "e86aa7b4-017a-49d9-94f9-5886b2140e57",
     "outputs": [
      {
       "ename": "NameError",
       "evalue": "name 'CenterOfMass' is not defined",
       "output_type": "error",
       "traceback": [
        "\u001b[0;31m---------------------------------------------------------------------------\u001b[0m",
        "\u001b[0;31mNameError\u001b[0m                                 Traceback (most recent call last)",
        "\u001b[0;32m<ipython-input-6-9b1ddfd5d0af>\u001b[0m in \u001b[0;36m<module>\u001b[0;34m\u001b[0m\n\u001b[0;32m----> 1\u001b[0;31m \u001b[0mt\u001b[0m\u001b[0;34m.\u001b[0m\u001b[0mCOM\u001b[0m\u001b[0;34m(\u001b[0m\u001b[0;34m)\u001b[0m\u001b[0;34m\u001b[0m\u001b[0;34m\u001b[0m\u001b[0m\n\u001b[0m",
        "\u001b[0;32m<ipython-input-4-8376f6524e3e>\u001b[0m in \u001b[0;36mCOM\u001b[0;34m(self)\u001b[0m\n\u001b[1;32m     14\u001b[0m         \u001b[0;31m# Calculate the COM Position of MW, M31 and M33\u001b[0m\u001b[0;34m\u001b[0m\u001b[0;34m\u001b[0m\u001b[0;34m\u001b[0m\u001b[0m\n\u001b[1;32m     15\u001b[0m \u001b[0;34m\u001b[0m\u001b[0m\n\u001b[0;32m---> 16\u001b[0;31m         \u001b[0mMW_COM\u001b[0m \u001b[0;34m=\u001b[0m \u001b[0mCenterOfMass\u001b[0m\u001b[0;34m(\u001b[0m\u001b[0mself\u001b[0m\u001b[0;34m.\u001b[0m\u001b[0mMWfilename\u001b[0m\u001b[0;34m)\u001b[0m\u001b[0;34m\u001b[0m\u001b[0;34m\u001b[0m\u001b[0m\n\u001b[0m\u001b[1;32m     17\u001b[0m         \u001b[0mM31_COM\u001b[0m \u001b[0;34m=\u001b[0m \u001b[0mCenterOfMass\u001b[0m\u001b[0;34m(\u001b[0m\u001b[0mself\u001b[0m\u001b[0;34m.\u001b[0m\u001b[0mM31filename\u001b[0m\u001b[0;34m)\u001b[0m\u001b[0;34m\u001b[0m\u001b[0;34m\u001b[0m\u001b[0m\n\u001b[1;32m     18\u001b[0m         \u001b[0mM33_COM\u001b[0m \u001b[0;34m=\u001b[0m \u001b[0mCenterOfMass\u001b[0m\u001b[0;34m(\u001b[0m\u001b[0mself\u001b[0m\u001b[0;34m.\u001b[0m\u001b[0mM31filename\u001b[0m\u001b[0;34m)\u001b[0m\u001b[0;34m\u001b[0m\u001b[0;34m\u001b[0m\u001b[0m\n",
        "\u001b[0;31mNameError\u001b[0m: name 'CenterOfMass' is not defined"
       ]
      }
     ],
     "persistentId": "8862a6d1-7d55-4adc-804b-3a6418fb515c",
     "text": "t.COM()"
    },
    "executionTime": "2020-04-22T22:31:14.234Z"
   },
   {
    "cell": {
     "executionCount": 1,
     "executionEventId": "d807cf58-5d47-458d-8068-261caa8dc8bd",
     "hasError": false,
     "id": "8eb87ad8-f8b8-4763-a036-a9d220395fa4",
     "outputs": [],
     "persistentId": "0c0b76d9-3d1a-4a46-859e-e72e8cb5329a",
     "text": "import numpy as np\nimport astropy.units as u\nfrom astropy.constants import G\n\n# import plotting modules\nimport matplotlib.pyplot as plt\nimport matplotlib\n%matplotlib inline\n\n# my modules\nfrom ReadFile import Read\n\n# edit CenterOfMass2 to Calculate COM of all components \nfrom CenterOfMass2 import CenterOfMass\n# edit GalaxyMAss to Calculate Mass of all components \nfrom GalaxyMass import ComponentMass\n"
    },
    "executionTime": "2020-04-22T22:31:41.255Z"
   },
   {
    "cell": {
     "executionCount": 2,
     "executionEventId": "7d98fefe-cdf1-4e00-981e-d24851a698c4",
     "hasError": false,
     "id": "9fb56a98-8890-40b7-9933-b60faebeac3c",
     "outputs": [],
     "persistentId": "5064a642-f2ac-42d6-a048-5b0a9c852881",
     "text": "def Mass_enclose(filename,radius):\n# function to compute the mass of all particles less than the distance between two Galaxy COM position \n# Inputs:\n#       filename: galaxyfile for input\n#       radius: COM position difference in kpc \n# output: Mass in units of Msun. \n    \n    # read in the file \n    time, total, data = Read(filename)\n    \n    # gather particles with the same type and sum up the mass\n    mass = np.round(data[np.sqrt(data['x']**2+data['y']**2+data['z']**2) < radius]['m'].sum() * 1e10, 3)\n    \n    # return the mass \n    return mass\n"
    },
    "executionTime": "2020-04-22T22:31:42.748Z"
   },
   {
    "cell": {
     "executionCount": 3,
     "executionEventId": "9be89313-5033-4084-bcdd-aa95ff0134e1",
     "hasError": false,
     "id": "660519a7-a223-47d4-93ab-01dbe3e89bf5",
     "outputs": [],
     "persistentId": "02f16121-7895-4b2d-b448-5f48407eb681",
     "text": "def Select_tides_star(M33,Rj_MW_M33,Rj_M31_M33):\n    \"\"\"Select tides star of M33\"\"\"\n    # Inputs:\n    #      M33: each snap file name of M33\n    #      Rj_MW_M33: Jacobi Radius of MW and M33 system\n    #      Rj_M1_M33: Jacobi Radius of M31 and M33 system\n    # Outpur:\n    #      tidal_star con\n    time, total, data = Read(M33)\n    MW_index = np.where(np.sqrt(data['x']**2+data['y']**2+data['z']**2) >= Rj_MW_M33)\n    M31_index = np.where(np.sqrt(data['x']**2+data['y']**2+data['z']**2) >= Rj_M31_M33)\n    total_index = M31_index\n    for i in range(len(MW_index)):\n        if MW_index[i] not in total_index:\n            total_index = np.append(total_index,MW_index[i])\n    \n    tidal_star_MW = data[MW_index]\n    tidal_star_M31 = data[M31_index]\n    tidal_star_total = data[total_index]\n    \n    return tidal_star_MW, tidal_star_M31, tidal_star_total"
    },
    "executionTime": "2020-04-22T22:31:46.228Z"
   },
   {
    "cell": {
     "executionCount": 4,
     "executionEventId": "5168040e-5b10-4153-950b-520f750829f5",
     "hasError": false,
     "id": "f08f3fbd-ce19-4833-a1d5-879ea03e95c6",
     "outputs": [],
     "persistentId": "c19ce159-9811-4a98-b843-6bf704c73071",
     "text": "class Snap:\n    \"\"\"This is a class for each Snap with M31, MW, M33\"\"\"\n    \n    def __init__(self,Snap_number):\n        # get the snap file name of MW M31 and M33\n        # Inputs: Snapnumber\n        \n        self.Snap_number = Snap_number\n        self.MWfilename = \"VLowRes/\" + 'MW' + \"_VLowRes/\" + 'MW' +  \"_{:03d}\".format(self.Snap_number) + \".txt\"\n        self.M31filename = \"VLowRes/\" + 'M31' + \"_VLowRes/\" + 'M31' +  \"_{:03d}\".format(self.Snap_number) + \".txt\"\n        self.M33filename = \"VLowRes/\" + 'M33' + \"_VLowRes/\" + 'M33' +  \"_{:03d}\".format(self.Snap_number) + \".txt\"\n        \n    def COM(self):\n        # Calculate the COM Position of MW, M31 and M33 \n        \n        MW_COM = CenterOfMass(self.MWfilename)\n        M31_COM = CenterOfMass(self.M31filename)\n        M33_COM = CenterOfMass(self.M31filename)\n        \n        # For MW and M31 delta = 0.1 and VelDec = 2\n        # For M33 dalta = 0.1 and VelDec = 4\n        MW_COM = MW_COM.COM_P(0.1,2)\n        M31_COM = M31_COM.COM_P(0.1,2)\n        M33_COM = M33_COM.COM_P(0.1,4)\n        self.COMP_MW = COMP_MW.value\n        self.COMP_M31 = COMP_M31.value\n        self.COMP_M33 = COMP_M33.value\n        \n        return self.COMP_MW, self.COMP_M31, self.COMP_M33\n    \n    \n    def COMdiff(self,galaxy1,galaxy2):\n        # Calculate the COM Position distance of two Galaxy\n        \n        COMdiff = np.sqrt((galaxy1[0]-galaxy2[0])**2+(galaxy1[1]-galaxy2[1])**2+(galaxy1[2]-galaxy2[2])**2)        \n        \n        return COMdiff\n    \n    def Total_Mass(self,galaxy_name):\n        # Calculate total Mass of each Galaxy \n        \n        return ComponentMass(galaxy_name) \n    \n    def Mass_enclose(self):\n        # Calculate the Mass enclose less than the distance between two Galaxy COM Position\n        \n        #Calculate COM Positoon\n        self.COMP_MW, self.COMP_M31, self.COMP_M33 = self.COM()\n        \n        #Calculate MW_M33 M31_M33 COMP difference\n        self.MW_M33diff = self.COMdiff(self.COMP_MW,self.COMP_M33)\n        self.M31_M33diff = self.COMdiff(self.COMP_M31,self.COMP_M33)\n        \n        #Calculate the mass inclose\n        self.M31_enclose = Mass_enclose(self.M31filename, self.M31_M33diff)\n        self.MW_enclose = Mass_enclose(self.MWfilename, self.MW_M33diff)\n        \n        return self.M31_enclose, self.MW_enclose\n    \n    def Rj(self):\n        # Calculate the Jacobi Radius of M31-M33 and MW-M33 system\n        # Rj = r*(Msat/Mhost(<r))**(1/3)\n        # Msat is M33, Mhost is enclose mass of MW and M31\n        self.MWmass = self.Total_Mass(self.MWfilename)\n        self.M31mass = self.Total_Mass(self.M31filename)\n        self.M33mass = self.Total_Mass(self.M33filename)\n        \n        self.COMP_MW, self.COMP_M31, self.COMP_M33 = self.COM()\n        \n        self.MW_M33diff = self.COMdiff(self.COMP_MW,self.COMP_M33)\n        self.M31_M33diff = self.COMdiff(self.COMP_M31,self.COMP_M33)\n        \n        self.M31_enclose, self.MW_enclose = self.Mass_enclose()\n        \n        self.Rj_MW_M33 = self.MW_M33diff *(self.M33mass/self.MW_enclose)**(1/3)\n        self.Rj_M31_M33 = self.M31_M33diff *(self.M33mass/self.M31_enclose)**(1/3)\n        \n        return self.Rj_M31_M33, self.Rj_MW_M33\n    \n    def select_star(self):\n        self.tidal_star_MW, self.tidal_star_M31, self.tidal_star_total = Select_tides_star(self.M33filename,self.Rj_MW_M33,self.Rj_M31_M33)\n        \n        return self.tidal_star_MW, self.tidal_star_M31, self.tidal_star_total\n"
    },
    "executionTime": "2020-04-22T22:31:47.678Z"
   },
   {
    "cell": {
     "executionCount": 5,
     "executionEventId": "3cc61557-532e-461e-85bc-5a8ac1170816",
     "hasError": false,
     "id": "da8b145e-c2db-4869-849c-7e14c83e668f",
     "outputs": [],
     "persistentId": "089ba10f-5132-447a-b512-d5392113a174",
     "text": "t = Snap(100)"
    },
    "executionTime": "2020-04-22T22:31:48.880Z"
   },
   {
    "cell": {
     "executionCount": 6,
     "executionEventId": "2a3eb1da-7256-4a38-b2ae-b73d6a4d8187",
     "hasError": true,
     "id": "e86aa7b4-017a-49d9-94f9-5886b2140e57",
     "outputs": [
      {
       "ename": "NameError",
       "evalue": "name 'COMP_MW' is not defined",
       "output_type": "error",
       "traceback": [
        "\u001b[0;31m---------------------------------------------------------------------------\u001b[0m",
        "\u001b[0;31mNameError\u001b[0m                                 Traceback (most recent call last)",
        "\u001b[0;32m<ipython-input-6-9b1ddfd5d0af>\u001b[0m in \u001b[0;36m<module>\u001b[0;34m\u001b[0m\n\u001b[0;32m----> 1\u001b[0;31m \u001b[0mt\u001b[0m\u001b[0;34m.\u001b[0m\u001b[0mCOM\u001b[0m\u001b[0;34m(\u001b[0m\u001b[0;34m)\u001b[0m\u001b[0;34m\u001b[0m\u001b[0;34m\u001b[0m\u001b[0m\n\u001b[0m",
        "\u001b[0;32m<ipython-input-4-8376f6524e3e>\u001b[0m in \u001b[0;36mCOM\u001b[0;34m(self)\u001b[0m\n\u001b[1;32m     23\u001b[0m         \u001b[0mM31_COM\u001b[0m \u001b[0;34m=\u001b[0m \u001b[0mM31_COM\u001b[0m\u001b[0;34m.\u001b[0m\u001b[0mCOM_P\u001b[0m\u001b[0;34m(\u001b[0m\u001b[0;36m0.1\u001b[0m\u001b[0;34m,\u001b[0m\u001b[0;36m2\u001b[0m\u001b[0;34m)\u001b[0m\u001b[0;34m\u001b[0m\u001b[0;34m\u001b[0m\u001b[0m\n\u001b[1;32m     24\u001b[0m         \u001b[0mM33_COM\u001b[0m \u001b[0;34m=\u001b[0m \u001b[0mM33_COM\u001b[0m\u001b[0;34m.\u001b[0m\u001b[0mCOM_P\u001b[0m\u001b[0;34m(\u001b[0m\u001b[0;36m0.1\u001b[0m\u001b[0;34m,\u001b[0m\u001b[0;36m4\u001b[0m\u001b[0;34m)\u001b[0m\u001b[0;34m\u001b[0m\u001b[0;34m\u001b[0m\u001b[0m\n\u001b[0;32m---> 25\u001b[0;31m         \u001b[0mself\u001b[0m\u001b[0;34m.\u001b[0m\u001b[0mCOMP_MW\u001b[0m \u001b[0;34m=\u001b[0m \u001b[0mCOMP_MW\u001b[0m\u001b[0;34m.\u001b[0m\u001b[0mvalue\u001b[0m\u001b[0;34m\u001b[0m\u001b[0;34m\u001b[0m\u001b[0m\n\u001b[0m\u001b[1;32m     26\u001b[0m         \u001b[0mself\u001b[0m\u001b[0;34m.\u001b[0m\u001b[0mCOMP_M31\u001b[0m \u001b[0;34m=\u001b[0m \u001b[0mCOMP_M31\u001b[0m\u001b[0;34m.\u001b[0m\u001b[0mvalue\u001b[0m\u001b[0;34m\u001b[0m\u001b[0;34m\u001b[0m\u001b[0m\n\u001b[1;32m     27\u001b[0m         \u001b[0mself\u001b[0m\u001b[0;34m.\u001b[0m\u001b[0mCOMP_M33\u001b[0m \u001b[0;34m=\u001b[0m \u001b[0mCOMP_M33\u001b[0m\u001b[0;34m.\u001b[0m\u001b[0mvalue\u001b[0m\u001b[0;34m\u001b[0m\u001b[0;34m\u001b[0m\u001b[0m\n",
        "\u001b[0;31mNameError\u001b[0m: name 'COMP_MW' is not defined"
       ]
      }
     ],
     "persistentId": "8862a6d1-7d55-4adc-804b-3a6418fb515c",
     "text": "t.COM()"
    },
    "executionTime": "2020-04-22T22:31:53.180Z"
   },
   {
    "cell": {
     "executionCount": 7,
     "executionEventId": "99e4ef6d-6bdf-45cc-a5ee-bd95a2f157d3",
     "hasError": false,
     "id": "f08f3fbd-ce19-4833-a1d5-879ea03e95c6",
     "outputs": [],
     "persistentId": "c19ce159-9811-4a98-b843-6bf704c73071",
     "text": "class Snap:\n    \"\"\"This is a class for each Snap with M31, MW, M33\"\"\"\n    \n    def __init__(self,Snap_number):\n        # get the snap file name of MW M31 and M33\n        # Inputs: Snapnumber\n        \n        self.Snap_number = Snap_number\n        self.MWfilename = \"VLowRes/\" + 'MW' + \"_VLowRes/\" + 'MW' +  \"_{:03d}\".format(self.Snap_number) + \".txt\"\n        self.M31filename = \"VLowRes/\" + 'M31' + \"_VLowRes/\" + 'M31' +  \"_{:03d}\".format(self.Snap_number) + \".txt\"\n        self.M33filename = \"VLowRes/\" + 'M33' + \"_VLowRes/\" + 'M33' +  \"_{:03d}\".format(self.Snap_number) + \".txt\"\n        \n    def COM(self):\n        # Calculate the COM Position of MW, M31 and M33 \n        \n        MW_COM = CenterOfMass(self.MWfilename)\n        M31_COM = CenterOfMass(self.M31filename)\n        M33_COM = CenterOfMass(self.M31filename)\n        \n        # For MW and M31 delta = 0.1 and VelDec = 2\n        # For M33 dalta = 0.1 and VelDec = 4\n        print(MW_COM.COM_P)\n        MW_COM = MW_COM.COM_P(0.1,2)\n        M31_COM = M31_COM.COM_P(0.1,2)\n        M33_COM = M33_COM.COM_P(0.1,4)\n        self.COMP_MW = COMP_MW.value\n        self.COMP_M31 = COMP_M31.value\n        self.COMP_M33 = COMP_M33.value\n        \n        return self.COMP_MW, self.COMP_M31, self.COMP_M33\n    \n    \n    def COMdiff(self,galaxy1,galaxy2):\n        # Calculate the COM Position distance of two Galaxy\n        \n        COMdiff = np.sqrt((galaxy1[0]-galaxy2[0])**2+(galaxy1[1]-galaxy2[1])**2+(galaxy1[2]-galaxy2[2])**2)        \n        \n        return COMdiff\n    \n    def Total_Mass(self,galaxy_name):\n        # Calculate total Mass of each Galaxy \n        \n        return ComponentMass(galaxy_name) \n    \n    def Mass_enclose(self):\n        # Calculate the Mass enclose less than the distance between two Galaxy COM Position\n        \n        #Calculate COM Positoon\n        self.COMP_MW, self.COMP_M31, self.COMP_M33 = self.COM()\n        \n        #Calculate MW_M33 M31_M33 COMP difference\n        self.MW_M33diff = self.COMdiff(self.COMP_MW,self.COMP_M33)\n        self.M31_M33diff = self.COMdiff(self.COMP_M31,self.COMP_M33)\n        \n        #Calculate the mass inclose\n        self.M31_enclose = Mass_enclose(self.M31filename, self.M31_M33diff)\n        self.MW_enclose = Mass_enclose(self.MWfilename, self.MW_M33diff)\n        \n        return self.M31_enclose, self.MW_enclose\n    \n    def Rj(self):\n        # Calculate the Jacobi Radius of M31-M33 and MW-M33 system\n        # Rj = r*(Msat/Mhost(<r))**(1/3)\n        # Msat is M33, Mhost is enclose mass of MW and M31\n        self.MWmass = self.Total_Mass(self.MWfilename)\n        self.M31mass = self.Total_Mass(self.M31filename)\n        self.M33mass = self.Total_Mass(self.M33filename)\n        \n        self.COMP_MW, self.COMP_M31, self.COMP_M33 = self.COM()\n        \n        self.MW_M33diff = self.COMdiff(self.COMP_MW,self.COMP_M33)\n        self.M31_M33diff = self.COMdiff(self.COMP_M31,self.COMP_M33)\n        \n        self.M31_enclose, self.MW_enclose = self.Mass_enclose()\n        \n        self.Rj_MW_M33 = self.MW_M33diff *(self.M33mass/self.MW_enclose)**(1/3)\n        self.Rj_M31_M33 = self.M31_M33diff *(self.M33mass/self.M31_enclose)**(1/3)\n        \n        return self.Rj_M31_M33, self.Rj_MW_M33\n    \n    def select_star(self):\n        self.tidal_star_MW, self.tidal_star_M31, self.tidal_star_total = Select_tides_star(self.M33filename,self.Rj_MW_M33,self.Rj_M31_M33)\n        \n        return self.tidal_star_MW, self.tidal_star_M31, self.tidal_star_total\n"
    },
    "executionTime": "2020-04-22T22:33:54.030Z"
   },
   {
    "cell": {
     "executionCount": 8,
     "executionEventId": "083ce5e4-3bf6-4661-883d-2d84eee5b805",
     "hasError": false,
     "id": "da8b145e-c2db-4869-849c-7e14c83e668f",
     "outputs": [],
     "persistentId": "089ba10f-5132-447a-b512-d5392113a174",
     "text": "t = Snap(100)"
    },
    "executionTime": "2020-04-22T22:33:55.265Z"
   },
   {
    "cell": {
     "executionCount": 9,
     "executionEventId": "71f878b5-2d60-4510-b6f1-3ed7bdc3208f",
     "hasError": true,
     "id": "e86aa7b4-017a-49d9-94f9-5886b2140e57",
     "outputs": [
      {
       "name": "stdout",
       "output_type": "stream",
       "text": "<bound method CenterOfMass.COM_P of <CenterOfMass2.CenterOfMass object at 0x1107a5dd8>>\n"
      },
      {
       "ename": "NameError",
       "evalue": "name 'COMP_MW' is not defined",
       "output_type": "error",
       "traceback": [
        "\u001b[0;31m---------------------------------------------------------------------------\u001b[0m",
        "\u001b[0;31mNameError\u001b[0m                                 Traceback (most recent call last)",
        "\u001b[0;32m<ipython-input-9-9b1ddfd5d0af>\u001b[0m in \u001b[0;36m<module>\u001b[0;34m\u001b[0m\n\u001b[0;32m----> 1\u001b[0;31m \u001b[0mt\u001b[0m\u001b[0;34m.\u001b[0m\u001b[0mCOM\u001b[0m\u001b[0;34m(\u001b[0m\u001b[0;34m)\u001b[0m\u001b[0;34m\u001b[0m\u001b[0;34m\u001b[0m\u001b[0m\n\u001b[0m",
        "\u001b[0;32m<ipython-input-7-f5e901e54b71>\u001b[0m in \u001b[0;36mCOM\u001b[0;34m(self)\u001b[0m\n\u001b[1;32m     24\u001b[0m         \u001b[0mM31_COM\u001b[0m \u001b[0;34m=\u001b[0m \u001b[0mM31_COM\u001b[0m\u001b[0;34m.\u001b[0m\u001b[0mCOM_P\u001b[0m\u001b[0;34m(\u001b[0m\u001b[0;36m0.1\u001b[0m\u001b[0;34m,\u001b[0m\u001b[0;36m2\u001b[0m\u001b[0;34m)\u001b[0m\u001b[0;34m\u001b[0m\u001b[0;34m\u001b[0m\u001b[0m\n\u001b[1;32m     25\u001b[0m         \u001b[0mM33_COM\u001b[0m \u001b[0;34m=\u001b[0m \u001b[0mM33_COM\u001b[0m\u001b[0;34m.\u001b[0m\u001b[0mCOM_P\u001b[0m\u001b[0;34m(\u001b[0m\u001b[0;36m0.1\u001b[0m\u001b[0;34m,\u001b[0m\u001b[0;36m4\u001b[0m\u001b[0;34m)\u001b[0m\u001b[0;34m\u001b[0m\u001b[0;34m\u001b[0m\u001b[0m\n\u001b[0;32m---> 26\u001b[0;31m         \u001b[0mself\u001b[0m\u001b[0;34m.\u001b[0m\u001b[0mCOMP_MW\u001b[0m \u001b[0;34m=\u001b[0m \u001b[0mCOMP_MW\u001b[0m\u001b[0;34m.\u001b[0m\u001b[0mvalue\u001b[0m\u001b[0;34m\u001b[0m\u001b[0;34m\u001b[0m\u001b[0m\n\u001b[0m\u001b[1;32m     27\u001b[0m         \u001b[0mself\u001b[0m\u001b[0;34m.\u001b[0m\u001b[0mCOMP_M31\u001b[0m \u001b[0;34m=\u001b[0m \u001b[0mCOMP_M31\u001b[0m\u001b[0;34m.\u001b[0m\u001b[0mvalue\u001b[0m\u001b[0;34m\u001b[0m\u001b[0;34m\u001b[0m\u001b[0m\n\u001b[1;32m     28\u001b[0m         \u001b[0mself\u001b[0m\u001b[0;34m.\u001b[0m\u001b[0mCOMP_M33\u001b[0m \u001b[0;34m=\u001b[0m \u001b[0mCOMP_M33\u001b[0m\u001b[0;34m.\u001b[0m\u001b[0mvalue\u001b[0m\u001b[0;34m\u001b[0m\u001b[0;34m\u001b[0m\u001b[0m\n",
        "\u001b[0;31mNameError\u001b[0m: name 'COMP_MW' is not defined"
       ]
      }
     ],
     "persistentId": "8862a6d1-7d55-4adc-804b-3a6418fb515c",
     "text": "t.COM()"
    },
    "executionTime": "2020-04-22T22:33:59.825Z"
   },
   {
    "cell": {
     "executionCount": 10,
     "executionEventId": "9fd5fe4c-b7b4-479a-aea3-8a35fe3b0c5a",
     "hasError": false,
     "id": "f08f3fbd-ce19-4833-a1d5-879ea03e95c6",
     "outputs": [],
     "persistentId": "c19ce159-9811-4a98-b843-6bf704c73071",
     "text": "class Snap:\n    \"\"\"This is a class for each Snap with M31, MW, M33\"\"\"\n    \n    def __init__(self,Snap_number):\n        # get the snap file name of MW M31 and M33\n        # Inputs: Snapnumber\n        \n        self.Snap_number = Snap_number\n        self.MWfilename = \"VLowRes/\" + 'MW' + \"_VLowRes/\" + 'MW' +  \"_{:03d}\".format(self.Snap_number) + \".txt\"\n        self.M31filename = \"VLowRes/\" + 'M31' + \"_VLowRes/\" + 'M31' +  \"_{:03d}\".format(self.Snap_number) + \".txt\"\n        self.M33filename = \"VLowRes/\" + 'M33' + \"_VLowRes/\" + 'M33' +  \"_{:03d}\".format(self.Snap_number) + \".txt\"\n        \n    def COM(self):\n        # Calculate the COM Position of MW, M31 and M33 \n        \n        MW_COM = CenterOfMass(self.MWfilename)\n        M31_COM = CenterOfMass(self.M31filename)\n        M33_COM = CenterOfMass(self.M31filename)\n        \n        # For MW and M31 delta = 0.1 and VelDec = 2\n        # For M33 dalta = 0.1 and VelDec = 4\n        \n        COMP_MW = MW_COM.COM_P(0.1,2)\n        COMP_M31 = M31_COM.COM_P(0.1,2)\n        COMP_M33 = M33_COM.COM_P(0.1,4)\n        self.COMP_MW = COMP_MW.value\n        self.COMP_M31 = COMP_M31.value\n        self.COMP_M33 = COMP_M33.value\n        \n        return self.COMP_MW, self.COMP_M31, self.COMP_M33\n    \n    \n    def COMdiff(self,galaxy1,galaxy2):\n        # Calculate the COM Position distance of two Galaxy\n        \n        COMdiff = np.sqrt((galaxy1[0]-galaxy2[0])**2+(galaxy1[1]-galaxy2[1])**2+(galaxy1[2]-galaxy2[2])**2)        \n        \n        return COMdiff\n    \n    def Total_Mass(self,galaxy_name):\n        # Calculate total Mass of each Galaxy \n        \n        return ComponentMass(galaxy_name) \n    \n    def Mass_enclose(self):\n        # Calculate the Mass enclose less than the distance between two Galaxy COM Position\n        \n        #Calculate COM Positoon\n        self.COMP_MW, self.COMP_M31, self.COMP_M33 = self.COM()\n        \n        #Calculate MW_M33 M31_M33 COMP difference\n        self.MW_M33diff = self.COMdiff(self.COMP_MW,self.COMP_M33)\n        self.M31_M33diff = self.COMdiff(self.COMP_M31,self.COMP_M33)\n        \n        #Calculate the mass inclose\n        self.M31_enclose = Mass_enclose(self.M31filename, self.M31_M33diff)\n        self.MW_enclose = Mass_enclose(self.MWfilename, self.MW_M33diff)\n        \n        return self.M31_enclose, self.MW_enclose\n    \n    def Rj(self):\n        # Calculate the Jacobi Radius of M31-M33 and MW-M33 system\n        # Rj = r*(Msat/Mhost(<r))**(1/3)\n        # Msat is M33, Mhost is enclose mass of MW and M31\n        self.MWmass = self.Total_Mass(self.MWfilename)\n        self.M31mass = self.Total_Mass(self.M31filename)\n        self.M33mass = self.Total_Mass(self.M33filename)\n        \n        self.COMP_MW, self.COMP_M31, self.COMP_M33 = self.COM()\n        \n        self.MW_M33diff = self.COMdiff(self.COMP_MW,self.COMP_M33)\n        self.M31_M33diff = self.COMdiff(self.COMP_M31,self.COMP_M33)\n        \n        self.M31_enclose, self.MW_enclose = self.Mass_enclose()\n        \n        self.Rj_MW_M33 = self.MW_M33diff *(self.M33mass/self.MW_enclose)**(1/3)\n        self.Rj_M31_M33 = self.M31_M33diff *(self.M33mass/self.M31_enclose)**(1/3)\n        \n        return self.Rj_M31_M33, self.Rj_MW_M33\n    \n    def select_star(self):\n        self.tidal_star_MW, self.tidal_star_M31, self.tidal_star_total = Select_tides_star(self.M33filename,self.Rj_MW_M33,self.Rj_M31_M33)\n        \n        return self.tidal_star_MW, self.tidal_star_M31, self.tidal_star_total\n"
    },
    "executionTime": "2020-04-22T22:35:41.820Z"
   },
   {
    "cell": {
     "executionCount": 11,
     "executionEventId": "cedbff3e-e8b1-480b-87bc-c733bed18eb0",
     "hasError": false,
     "id": "da8b145e-c2db-4869-849c-7e14c83e668f",
     "outputs": [],
     "persistentId": "089ba10f-5132-447a-b512-d5392113a174",
     "text": "t = Snap(100)"
    },
    "executionTime": "2020-04-22T22:35:43.458Z"
   },
   {
    "cell": {
     "executionCount": 12,
     "executionEventId": "80bf9d9b-50ee-4055-a5da-22c5349038b6",
     "hasError": false,
     "id": "e86aa7b4-017a-49d9-94f9-5886b2140e57",
     "outputs": [
      {
       "data": {
        "text/plain": "(array([-10.06,  16.78,  -8.86]),\n array([-281.11,  501.26, -211.09]),\n array([-293.22,  505.09, -215.  ]))"
       },
       "execution_count": 12,
       "metadata": {},
       "output_type": "execute_result"
      }
     ],
     "persistentId": "8862a6d1-7d55-4adc-804b-3a6418fb515c",
     "text": "t.COM()"
    },
    "executionTime": "2020-04-22T22:35:48.544Z"
   },
   {
    "cell": {
     "executionCount": 13,
     "executionEventId": "59a61fb7-59da-46e6-a3f9-b948437b2743",
     "hasError": false,
     "id": "38b91c85-3c23-491e-a6b4-d46012a50673",
     "outputs": [
      {
       "name": "stderr",
       "output_type": "stream",
       "text": "/anaconda3/lib/python3.6/site-packages/ipykernel_launcher.py:77: RuntimeWarning: divide by zero encountered in double_scalars\n"
      },
      {
       "data": {
        "text/plain": "(inf, 291.03525141054666)"
       },
       "execution_count": 13,
       "metadata": {},
       "output_type": "execute_result"
      }
     ],
     "persistentId": "6a604084-d72d-4d1e-80fe-fc44e4aafe90",
     "text": "t.Rj()"
    },
    "executionTime": "2020-04-22T22:36:52.751Z"
   },
   {
    "cell": {
     "executionCount": 14,
     "executionEventId": "e50db980-6721-4be8-9f8d-a40dfe564169",
     "hasError": false,
     "id": "e86aa7b4-017a-49d9-94f9-5886b2140e57",
     "outputs": [
      {
       "data": {
        "text/plain": "(0.0, 1724660728999.999)"
       },
       "execution_count": 14,
       "metadata": {},
       "output_type": "execute_result"
      }
     ],
     "persistentId": "8862a6d1-7d55-4adc-804b-3a6418fb515c",
     "text": "t.Mass_enclose()"
    },
    "executionTime": "2020-04-22T22:39:09.225Z"
   },
   {
    "cell": {
     "executionCount": 15,
     "executionEventId": "cc654f0f-6a0b-4cdf-89f6-eeebbc051758",
     "hasError": false,
     "id": "f08f3fbd-ce19-4833-a1d5-879ea03e95c6",
     "outputs": [],
     "persistentId": "c19ce159-9811-4a98-b843-6bf704c73071",
     "text": "class Snap:\n    \"\"\"This is a class for each Snap with M31, MW, M33\"\"\"\n    \n    def __init__(self,Snap_number):\n        # get the snap file name of MW M31 and M33\n        # Inputs: Snapnumber\n        \n        self.Snap_number = Snap_number\n        self.MWfilename = \"VLowRes/\" + 'MW' + \"_VLowRes/\" + 'MW' +  \"_{:03d}\".format(self.Snap_number) + \".txt\"\n        self.M31filename = \"VLowRes/\" + 'M31' + \"_VLowRes/\" + 'M31' +  \"_{:03d}\".format(self.Snap_number) + \".txt\"\n        self.M33filename = \"VLowRes/\" + 'M33' + \"_VLowRes/\" + 'M33' +  \"_{:03d}\".format(self.Snap_number) + \".txt\"\n        \n    def COM(self):\n        # Calculate the COM Position of MW, M31 and M33 \n        \n        MW_COM = CenterOfMass(self.MWfilename)\n        M31_COM = CenterOfMass(self.M31filename)\n        M33_COM = CenterOfMass(self.M31filename)\n        \n        # For MW and M31 delta = 0.1 and VelDec = 2\n        # For M33 dalta = 0.1 and VelDec = 4\n        \n        COMP_MW = MW_COM.COM_P(0.1,2)\n        COMP_M31 = M31_COM.COM_P(0.1,2)\n        COMP_M33 = M33_COM.COM_P(0.1,4)\n        self.COMP_MW = COMP_MW.value\n        self.COMP_M31 = COMP_M31.value\n        self.COMP_M33 = COMP_M33.value\n        \n        return self.COMP_MW, self.COMP_M31, self.COMP_M33\n    \n    \n    def COMdiff(self,galaxy1,galaxy2):\n        # Calculate the COM Position distance of two Galaxy\n        \n        COMdiff = np.sqrt((galaxy1[0]-galaxy2[0])**2+(galaxy1[1]-galaxy2[1])**2+(galaxy1[2]-galaxy2[2])**2)        \n        \n        return COMdiff\n    \n    def Total_Mass(self,galaxy_name):\n        # Calculate total Mass of each Galaxy \n        \n        return ComponentMass(galaxy_name) \n    \n    def Mass_enclose(self):\n        # Calculate the Mass enclose less than the distance between two Galaxy COM Position\n        \n        #Calculate COM Positoon\n        self.COMP_MW, self.COMP_M31, self.COMP_M33 = self.COM()\n        \n        #Calculate MW_M33 M31_M33 COMP difference\n        self.MW_M33diff = self.COMdiff(self.COMP_MW,self.COMP_M33)\n        self.M31_M33diff = self.COMdiff(self.COMP_M31,self.COMP_M33)\n        print(self.MW_M33diff)\n        print(self.M31_M33diff)\n        \n        #Calculate the mass inclose\n        self.M31_enclose = Mass_enclose(self.M31filename, self.M31_M33diff)\n        self.MW_enclose = Mass_enclose(self.MWfilename, self.MW_M33diff)\n        \n        return self.M31_enclose, self.MW_enclose\n    \n    def Rj(self):\n        # Calculate the Jacobi Radius of M31-M33 and MW-M33 system\n        # Rj = r*(Msat/Mhost(<r))**(1/3)\n        # Msat is M33, Mhost is enclose mass of MW and M31\n        self.MWmass = self.Total_Mass(self.MWfilename)\n        self.M31mass = self.Total_Mass(self.M31filename)\n        self.M33mass = self.Total_Mass(self.M33filename)\n        \n        self.COMP_MW, self.COMP_M31, self.COMP_M33 = self.COM()\n        \n        self.MW_M33diff = self.COMdiff(self.COMP_MW,self.COMP_M33)\n        self.M31_M33diff = self.COMdiff(self.COMP_M31,self.COMP_M33)\n        \n        self.M31_enclose, self.MW_enclose = self.Mass_enclose()\n        \n        self.Rj_MW_M33 = self.MW_M33diff *(self.M33mass/self.MW_enclose)**(1/3)\n        self.Rj_M31_M33 = self.M31_M33diff *(self.M33mass/self.M31_enclose)**(1/3)\n        \n        return self.Rj_M31_M33, self.Rj_MW_M33\n    \n    def select_star(self):\n        self.tidal_star_MW, self.tidal_star_M31, self.tidal_star_total = Select_tides_star(self.M33filename,self.Rj_MW_M33,self.Rj_M31_M33)\n        \n        return self.tidal_star_MW, self.tidal_star_M31, self.tidal_star_total\n"
    },
    "executionTime": "2020-04-22T22:42:38.289Z"
   },
   {
    "cell": {
     "executionCount": 16,
     "executionEventId": "302edd00-a07a-439d-a802-827d0fa5ee7e",
     "hasError": false,
     "id": "da8b145e-c2db-4869-849c-7e14c83e668f",
     "outputs": [],
     "persistentId": "089ba10f-5132-447a-b512-d5392113a174",
     "text": "t = Snap(100)"
    },
    "executionTime": "2020-04-22T22:42:40.844Z"
   },
   {
    "cell": {
     "executionCount": 17,
     "executionEventId": "6ece346b-19d8-447f-9e9f-d0a368a003ab",
     "hasError": false,
     "id": "f9de31c8-7a8d-4dd0-8fd1-4e8ce2627731",
     "outputs": [
      {
       "data": {
        "text/plain": "(array([-10.06,  16.78,  -8.86]),\n array([-281.11,  501.26, -211.09]),\n array([-293.22,  505.09, -215.  ]))"
       },
       "execution_count": 17,
       "metadata": {},
       "output_type": "execute_result"
      }
     ],
     "persistentId": "6bfb21a5-851e-441a-80f3-528b3180adbe",
     "text": "t.COM()"
    },
    "executionTime": "2020-04-22T22:42:51.028Z"
   },
   {
    "cell": {
     "executionCount": 18,
     "executionEventId": "3d4aad1e-aacd-4417-8794-0b640da91dac",
     "hasError": false,
     "id": "e86aa7b4-017a-49d9-94f9-5886b2140e57",
     "outputs": [
      {
       "name": "stdout",
       "output_type": "stream",
       "text": "600.9325596936814\n13.289435653932042\n"
      },
      {
       "data": {
        "text/plain": "(0.0, 1724660728999.999)"
       },
       "execution_count": 18,
       "metadata": {},
       "output_type": "execute_result"
      }
     ],
     "persistentId": "8862a6d1-7d55-4adc-804b-3a6418fb515c",
     "text": "t.Mass_enclose()"
    },
    "executionTime": "2020-04-22T22:43:10.791Z"
   },
   {
    "cell": {
     "executionCount": 19,
     "executionEventId": "694e69be-a431-4d2a-bb91-f20bda218829",
     "hasError": false,
     "id": "9ce723f5-0bdf-4346-9714-df6e417c90a2",
     "outputs": [
      {
       "data": {
        "text/plain": "13.289435653932042"
       },
       "execution_count": 19,
       "metadata": {},
       "output_type": "execute_result"
      }
     ],
     "persistentId": "682df9b6-67ca-4e91-8bf9-544063254ed6",
     "text": "np.sqrt((-293.22-(-281.11))**2 + (505.09-501.26)**2 +(-215-(-211.09))**2)"
    },
    "executionTime": "2020-04-22T22:45:59.186Z"
   },
   {
    "cell": {
     "executionCount": 20,
     "executionEventId": "d70ac698-8b7a-4ef0-9678-f7fc2053c9c2",
     "hasError": false,
     "id": "9ce723f5-0bdf-4346-9714-df6e417c90a2",
     "outputs": [
      {
       "data": {
        "text/plain": "590.8349564810803"
       },
       "execution_count": 20,
       "metadata": {},
       "output_type": "execute_result"
      }
     ],
     "persistentId": "682df9b6-67ca-4e91-8bf9-544063254ed6",
     "text": "np.sqrt((-10.06-(-281.11))**2 + (16.78-501.26)**2 +(-8.86-(-211.09))**2)"
    },
    "executionTime": "2020-04-22T22:47:03.723Z"
   },
   {
    "cell": {
     "executionCount": 21,
     "executionEventId": "f50f9a7e-21c9-4438-a77f-b5f00d9aba7c",
     "hasError": true,
     "id": "9fb56a98-8890-40b7-9933-b60faebeac3c",
     "outputs": [
      {
       "ename": "SyntaxError",
       "evalue": "invalid character in identifier (<ipython-input-21-c7f3397a845f>, line 13)",
       "output_type": "error",
       "traceback": [
        "\u001b[0;36m  File \u001b[0;32m\"<ipython-input-21-c7f3397a845f>\"\u001b[0;36m, line \u001b[0;32m13\u001b[0m\n\u001b[0;31m    mass = np.round(data[np.sqrt（(data['x']-COMP[0])**2+(data['y']-COMP[1])**2+(data['z']-COMP[2])**2) < radius]['m'].sum() * 1e10, 3)\u001b[0m\n\u001b[0m                                ^\u001b[0m\n\u001b[0;31mSyntaxError\u001b[0m\u001b[0;31m:\u001b[0m invalid character in identifier\n"
       ]
      }
     ],
     "persistentId": "5064a642-f2ac-42d6-a048-5b0a9c852881",
     "text": "def Mass_enclose(filename,radius,COMP):\n# function to compute the mass of all particles less than the distance between two Galaxy COM position \n# Inputs:\n#       filename: galaxyfile for input\n#       radius: COM position difference in kpc\n#       COMP: COM positon of each galaxy [x, y, z]\n#       output: Mass in units of Msun. \n    \n    # read in the file \n    time, total, data = Read(filename)\n    \n    # gather particles with the same type and sum up the mass\n    mass = np.round(data[np.sqrt（(data['x']-COMP[0])**2+(data['y']-COMP[1])**2+(data['z']-COMP[2])**2) < radius]['m'].sum() * 1e10, 3)\n    \n    # return the mass \n    return mass\n"
    },
    "executionTime": "2020-04-23T02:21:29.864Z"
   },
   {
    "cell": {
     "executionCount": 22,
     "executionEventId": "1cc8737f-2474-4655-9f8e-31555aaa2c20",
     "hasError": false,
     "id": "9fb56a98-8890-40b7-9933-b60faebeac3c",
     "outputs": [],
     "persistentId": "5064a642-f2ac-42d6-a048-5b0a9c852881",
     "text": "def Mass_enclose(filename,radius,COMP):\n# function to compute the mass of all particles less than the distance between two Galaxy COM position \n# Inputs:\n#       filename: galaxyfile for input\n#       radius: COM position difference in kpc\n#       COMP: COM positon of each galaxy [x, y, z]\n#       output: Mass in units of Msun. \n    \n    # read in the file \n    time, total, data = Read(filename)\n    \n    # gather particles with the same type and sum up the mass\n    mass = np.round(data[np.sqrt((data['x']-COMP[0])**2+(data['y']-COMP[1])**2+(data['z']-COMP[2])**2) < radius]['m'].sum() * 1e10, 3)\n    \n    # return the mass \n    return mass\n"
    },
    "executionTime": "2020-04-23T02:22:53.143Z"
   },
   {
    "cell": {
     "executionCount": 23,
     "executionEventId": "cd7b97dd-5b6b-4bc8-ae23-de78f730dc1c",
     "hasError": false,
     "id": "660519a7-a223-47d4-93ab-01dbe3e89bf5",
     "outputs": [],
     "persistentId": "02f16121-7895-4b2d-b448-5f48407eb681",
     "text": "def Select_tides_star(M33,Rj_MW_M33,Rj_M31_M33):\n    \"\"\"Select tides star of M33\"\"\"\n    # Inputs:\n    #      M33: each snap file name of M33\n    #      Rj_MW_M33: Jacobi Radius of MW and M33 system\n    #      Rj_M1_M33: Jacobi Radius of M31 and M33 system\n    # Outpur:\n    #      tidal_star con\n    time, total, data = Read(M33)\n    MW_index = np.where(np.sqrt(data['x']**2+data['y']**2+data['z']**2) >= Rj_MW_M33)\n    M31_index = np.where(np.sqrt(data['x']**2+data['y']**2+data['z']**2) >= Rj_M31_M33)\n    total_index = M31_index\n    for i in range(len(MW_index)):\n        if MW_index[i] not in total_index:\n            total_index = np.append(total_index,MW_index[i])\n    \n    tidal_star_MW = data[MW_index]\n    tidal_star_M31 = data[M31_index]\n    tidal_star_total = data[total_index]\n    \n    return tidal_star_MW, tidal_star_M31, tidal_star_total"
    },
    "executionTime": "2020-04-23T02:24:58.502Z"
   },
   {
    "cell": {
     "executionCount": 24,
     "executionEventId": "2cac2905-a9e9-4a8d-8ee5-c225c9dd1461",
     "hasError": false,
     "id": "f08f3fbd-ce19-4833-a1d5-879ea03e95c6",
     "outputs": [],
     "persistentId": "c19ce159-9811-4a98-b843-6bf704c73071",
     "text": "class Snap:\n    \"\"\"This is a class for each Snap with M31, MW, M33\"\"\"\n    \n    def __init__(self,Snap_number):\n        # get the snap file name of MW M31 and M33\n        # Inputs: Snapnumber\n        \n        self.Snap_number = Snap_number\n        self.MWfilename = \"VLowRes/\" + 'MW' + \"_VLowRes/\" + 'MW' +  \"_{:03d}\".format(self.Snap_number) + \".txt\"\n        self.M31filename = \"VLowRes/\" + 'M31' + \"_VLowRes/\" + 'M31' +  \"_{:03d}\".format(self.Snap_number) + \".txt\"\n        self.M33filename = \"VLowRes/\" + 'M33' + \"_VLowRes/\" + 'M33' +  \"_{:03d}\".format(self.Snap_number) + \".txt\"\n        \n    def COM(self):\n        # Calculate the COM Position of MW, M31 and M33 \n        \n        MW_COM = CenterOfMass(self.MWfilename)\n        M31_COM = CenterOfMass(self.M31filename)\n        M33_COM = CenterOfMass(self.M31filename)\n        \n        # For MW and M31 delta = 0.1 and VelDec = 2\n        # For M33 dalta = 0.1 and VelDec = 4\n        \n        COMP_MW = MW_COM.COM_P(0.1,2)\n        COMP_M31 = M31_COM.COM_P(0.1,2)\n        COMP_M33 = M33_COM.COM_P(0.1,4)\n        self.COMP_MW = COMP_MW.value\n        self.COMP_M31 = COMP_M31.value\n        self.COMP_M33 = COMP_M33.value\n        \n        return self.COMP_MW, self.COMP_M31, self.COMP_M33\n    \n    \n    def COMdiff(self,galaxy1,galaxy2):\n        # Calculate the COM Position distance of two Galaxy\n        \n        COMdiff = np.sqrt((galaxy1[0]-galaxy2[0])**2+(galaxy1[1]-galaxy2[1])**2+(galaxy1[2]-galaxy2[2])**2)        \n        \n        return COMdiff\n    \n    def Total_Mass(self,galaxy_name):\n        # Calculate total Mass of each Galaxy \n        \n        return ComponentMass(galaxy_name) \n    \n    def Mass_enclose(self):\n        # Calculate the Mass enclose less than the distance between two Galaxy COM Position\n        \n        #Calculate COM Positoon\n        self.COMP_MW, self.COMP_M31, self.COMP_M33 = self.COM()\n        \n        #Calculate MW_M33 M31_M33 COMP difference\n        self.MW_M33diff = self.COMdiff(self.COMP_MW,self.COMP_M33)\n        self.M31_M33diff = self.COMdiff(self.COMP_M31,self.COMP_M33)\n        print(self.MW_M33diff)\n        print(self.M31_M33diff)\n        \n        #Calculate the mass inclose\n        self.MW_enclose = Mass_enclose(self.MWfilename, self.MW_M33diff,self.COMP_MW)\n        self.M31_enclose = Mass_enclose(self.M31filename, self.M31_M33diff,self.COMP_M31)\n        \n        return self.M31_enclose, self.MW_enclose\n    \n    def Rj(self):\n        # Calculate the Jacobi Radius of M31-M33 and MW-M33 system\n        # Rj = r*(Msat/Mhost(<r))**(1/3)\n        # Msat is M33, Mhost is enclose mass of MW and M31\n        self.MWmass = self.Total_Mass(self.MWfilename)\n        self.M31mass = self.Total_Mass(self.M31filename)\n        self.M33mass = self.Total_Mass(self.M33filename)\n        \n        self.COMP_MW, self.COMP_M31, self.COMP_M33 = self.COM()\n        \n        self.MW_M33diff = self.COMdiff(self.COMP_MW,self.COMP_M33)\n        self.M31_M33diff = self.COMdiff(self.COMP_M31,self.COMP_M33)\n        \n        self.M31_enclose, self.MW_enclose = self.Mass_enclose()\n        \n        self.Rj_MW_M33 = self.MW_M33diff *(self.M33mass/self.MW_enclose)**(1/3)\n        self.Rj_M31_M33 = self.M31_M33diff *(self.M33mass/self.M31_enclose)**(1/3)\n        \n        return self.Rj_M31_M33, self.Rj_MW_M33\n    \n    def select_star(self):\n        self.tidal_star_MW, self.tidal_star_M31, self.tidal_star_total = Select_tides_star(self.M33filename,self.Rj_MW_M33,self.Rj_M31_M33)\n        \n        return self.tidal_star_MW, self.tidal_star_M31, self.tidal_star_total\n"
    },
    "executionTime": "2020-04-23T02:24:59.323Z"
   },
   {
    "cell": {
     "executionCount": 25,
     "executionEventId": "8b89f7d6-91b1-43ab-8a53-b990d950c845",
     "hasError": false,
     "id": "da8b145e-c2db-4869-849c-7e14c83e668f",
     "outputs": [],
     "persistentId": "089ba10f-5132-447a-b512-d5392113a174",
     "text": "t = Snap(100)"
    },
    "executionTime": "2020-04-23T02:25:00.981Z"
   },
   {
    "cell": {
     "executionCount": 26,
     "executionEventId": "1405f661-a124-4d94-ac00-9bb64f6fea63",
     "hasError": false,
     "id": "f9de31c8-7a8d-4dd0-8fd1-4e8ce2627731",
     "outputs": [
      {
       "data": {
        "text/plain": "(array([-10.06,  16.78,  -8.86]),\n array([-281.11,  501.26, -211.09]),\n array([-293.22,  505.09, -215.  ]))"
       },
       "execution_count": 26,
       "metadata": {},
       "output_type": "execute_result"
      }
     ],
     "persistentId": "6bfb21a5-851e-441a-80f3-528b3180adbe",
     "text": "t.COM()"
    },
    "executionTime": "2020-04-23T02:25:06.553Z"
   },
   {
    "cell": {
     "executionCount": 27,
     "executionEventId": "71f5e02a-0868-4792-adde-adf42a52a9e9",
     "hasError": false,
     "id": "e86aa7b4-017a-49d9-94f9-5886b2140e57",
     "outputs": [
      {
       "name": "stdout",
       "output_type": "stream",
       "text": "600.9325596936814\n13.289435653932042\n"
      },
      {
       "data": {
        "text/plain": "(80708083740.0, 1724423737999.999)"
       },
       "execution_count": 27,
       "metadata": {},
       "output_type": "execute_result"
      }
     ],
     "persistentId": "8862a6d1-7d55-4adc-804b-3a6418fb515c",
     "text": "t.Mass_enclose()"
    },
    "executionTime": "2020-04-23T02:25:16.266Z"
   },
   {
    "cell": {
     "executionCount": 28,
     "executionEventId": "8a175acb-f855-4cce-91fa-019d403efaef",
     "hasError": false,
     "id": "38b91c85-3c23-491e-a6b4-d46012a50673",
     "outputs": [
      {
       "name": "stdout",
       "output_type": "stream",
       "text": "600.9325596936814\n13.289435653932042\n"
      },
      {
       "data": {
        "text/plain": "(17.86029433435545, 291.04858331853455)"
       },
       "execution_count": 28,
       "metadata": {},
       "output_type": "execute_result"
      }
     ],
     "persistentId": "6a604084-d72d-4d1e-80fe-fc44e4aafe90",
     "text": "t.Rj()"
    },
    "executionTime": "2020-04-23T02:25:50.071Z"
   },
   {
    "cell": {
     "executionCount": 29,
     "executionEventId": "40d9fe65-0f22-4fdd-bece-933b95d4e51e",
     "hasError": false,
     "id": "a11f467a-cdbd-4b14-8e45-13abed497880",
     "outputs": [
      {
       "name": "stderr",
       "output_type": "stream",
       "text": "/anaconda3/lib/python3.6/site-packages/ipykernel_launcher.py:14: DeprecationWarning: elementwise comparison failed; this will raise an error in the future.\n  \n"
      }
     ],
     "persistentId": "c12d0638-a9a6-444b-8f11-b464b56e0ac5",
     "text": "starMW = []\nstarM31 = []\nstarT = []\nstarMW,starM31,start = t.select_star()"
    },
    "executionTime": "2020-04-23T02:27:39.943Z"
   },
   {
    "cell": {
     "executionCount": 30,
     "executionEventId": "b053843b-cb1f-4d62-8927-a20488fd5857",
     "hasError": false,
     "id": "a11f467a-cdbd-4b14-8e45-13abed497880",
     "outputs": [
      {
       "name": "stderr",
       "output_type": "stream",
       "text": "/anaconda3/lib/python3.6/site-packages/ipykernel_launcher.py:14: DeprecationWarning: elementwise comparison failed; this will raise an error in the future.\n  \n"
      }
     ],
     "persistentId": "c12d0638-a9a6-444b-8f11-b464b56e0ac5",
     "text": "starMW = []\nstarM31 = []\nstarT = []\nstarMW,starM31,starT = t.select_star()"
    },
    "executionTime": "2020-04-23T02:27:51.994Z"
   },
   {
    "cell": {
     "executionCount": 31,
     "executionEventId": "f6cfd02b-c7cf-413e-8367-89f449b3dd93",
     "hasError": false,
     "id": "a11f467a-cdbd-4b14-8e45-13abed497880",
     "outputs": [
      {
       "name": "stderr",
       "output_type": "stream",
       "text": "/anaconda3/lib/python3.6/site-packages/ipykernel_launcher.py:14: DeprecationWarning: elementwise comparison failed; this will raise an error in the future.\n  \n"
      },
      {
       "data": {
        "text/plain": "(array([(1., 0.00373226, -213.413,  597.013, -127.263, 189.897 , -151.403 , 135.992 ),\n        (1., 0.00373226,  683.653, 2296.4  , -354.354,  40.6226,   96.1086, 139.611 ),\n        (1., 0.00373226, -238.362,  580.58 , -163.808, 146.197 , -123.288 ,  39.1831),\n        ...,\n        (2., 0.0001    , -222.949,  585.322, -135.366, 180.221 ,  -87.5145, 152.939 ),\n        (2., 0.0001    , -226.026,  588.854, -124.262, 383.43  , -118.545 , 151.267 ),\n        (2., 0.0001    , -225.164,  586.913, -130.409, 204.854 ,   27.4439, 180.093 )],\n       dtype=[('type', '<f8'), ('m', '<f8'), ('x', '<f8'), ('y', '<f8'), ('z', '<f8'), ('vx', '<f8'), ('vy', '<f8'), ('vz', '<f8')]),\n array([(1., 0.00373226, -213.413,  597.013, -127.263, 189.897 , -151.403 , 135.992 ),\n        (1., 0.00373226,  683.653, 2296.4  , -354.354,  40.6226,   96.1086, 139.611 ),\n        (1., 0.00373226, -238.362,  580.58 , -163.808, 146.197 , -123.288 ,  39.1831),\n        ...,\n        (2., 0.0001    , -222.949,  585.322, -135.366, 180.221 ,  -87.5145, 152.939 ),\n        (2., 0.0001    , -226.026,  588.854, -124.262, 383.43  , -118.545 , 151.267 ),\n        (2., 0.0001    , -225.164,  586.913, -130.409, 204.854 ,   27.4439, 180.093 )],\n       dtype=[('type', '<f8'), ('m', '<f8'), ('x', '<f8'), ('y', '<f8'), ('z', '<f8'), ('vx', '<f8'), ('vy', '<f8'), ('vz', '<f8')]),\n array([(1., 0.00373226, -213.413,  597.013, -127.263, 189.897 , -151.403 , 135.992 ),\n        (1., 0.00373226,  683.653, 2296.4  , -354.354,  40.6226,   96.1086, 139.611 ),\n        (1., 0.00373226, -238.362,  580.58 , -163.808, 146.197 , -123.288 ,  39.1831),\n        ...,\n        (2., 0.0001    , -222.949,  585.322, -135.366, 180.221 ,  -87.5145, 152.939 ),\n        (2., 0.0001    , -226.026,  588.854, -124.262, 383.43  , -118.545 , 151.267 ),\n        (2., 0.0001    , -225.164,  586.913, -130.409, 204.854 ,   27.4439, 180.093 )],\n       dtype=[('type', '<f8'), ('m', '<f8'), ('x', '<f8'), ('y', '<f8'), ('z', '<f8'), ('vx', '<f8'), ('vy', '<f8'), ('vz', '<f8')]))"
       },
       "execution_count": 31,
       "metadata": {},
       "output_type": "execute_result"
      }
     ],
     "persistentId": "c12d0638-a9a6-444b-8f11-b464b56e0ac5",
     "text": "t.select_star()"
    },
    "executionTime": "2020-04-23T02:28:03.106Z"
   },
   {
    "cell": {
     "executionCount": 32,
     "executionEventId": "bc4bb86f-d726-480e-ba49-428524143cea",
     "hasError": false,
     "id": "a11f467a-cdbd-4b14-8e45-13abed497880",
     "outputs": [
      {
       "name": "stderr",
       "output_type": "stream",
       "text": "/anaconda3/lib/python3.6/site-packages/ipykernel_launcher.py:14: DeprecationWarning: elementwise comparison failed; this will raise an error in the future.\n  \n"
      }
     ],
     "persistentId": "c12d0638-a9a6-444b-8f11-b464b56e0ac5",
     "text": "starMW = []\nstarM31 = []\nstarT = []\nstarMW,starM31,starT = t.select_star()"
    },
    "executionTime": "2020-04-23T02:28:38.032Z"
   },
   {
    "cell": {
     "executionCount": 33,
     "executionEventId": "36775b03-d953-4aa9-91de-a66cd1f5ba06",
     "hasError": false,
     "id": "8b17fef7-f7e1-49d8-b83b-674af6829c5c",
     "outputs": [
      {
       "data": {
        "text/plain": "14292"
       },
       "execution_count": 33,
       "metadata": {},
       "output_type": "execute_result"
      }
     ],
     "persistentId": "e5253a2e-744f-4d93-945c-33a7b299e9a7",
     "text": "len(starMW)"
    },
    "executionTime": "2020-04-23T02:28:58.707Z"
   },
   {
    "cell": {
     "executionCount": 34,
     "executionEventId": "b58143cc-7ec0-4996-bbd3-6d154e521048",
     "hasError": false,
     "id": "8b17fef7-f7e1-49d8-b83b-674af6829c5c",
     "outputs": [
      {
       "data": {
        "text/plain": "28592"
       },
       "execution_count": 34,
       "metadata": {},
       "output_type": "execute_result"
      }
     ],
     "persistentId": "e5253a2e-744f-4d93-945c-33a7b299e9a7",
     "text": "len(starMW)\nlen(starM31)\nlen(starT)"
    },
    "executionTime": "2020-04-23T02:29:56.522Z"
   },
   {
    "cell": {
     "executionCount": 35,
     "executionEventId": "cd4006c0-44ae-4201-8421-2444b45345e1",
     "hasError": false,
     "id": "8b17fef7-f7e1-49d8-b83b-674af6829c5c",
     "outputs": [
      {
       "data": {
        "text/plain": "14300"
       },
       "execution_count": 35,
       "metadata": {},
       "output_type": "execute_result"
      }
     ],
     "persistentId": "e5253a2e-744f-4d93-945c-33a7b299e9a7",
     "text": "len(starMW)\nlen(starM31)"
    },
    "executionTime": "2020-04-23T02:30:01.750Z"
   },
   {
    "cell": {
     "executionCount": 36,
     "executionEventId": "06177bd7-a45f-49fc-abc6-97a4cc0a8b8a",
     "hasError": false,
     "id": "8b17fef7-f7e1-49d8-b83b-674af6829c5c",
     "outputs": [
      {
       "data": {
        "text/plain": "14292"
       },
       "execution_count": 36,
       "metadata": {},
       "output_type": "execute_result"
      }
     ],
     "persistentId": "e5253a2e-744f-4d93-945c-33a7b299e9a7",
     "text": "len(starMW)"
    },
    "executionTime": "2020-04-23T02:30:04.867Z"
   },
   {
    "cell": {
     "executionCount": 37,
     "executionEventId": "c1cbe13c-9abf-43df-b6ab-214976566ca6",
     "hasError": false,
     "id": "f3d90fcc-4979-4ed8-8ccc-814ce0d35d68",
     "outputs": [
      {
       "data": {
        "text/plain": "28592"
       },
       "execution_count": 37,
       "metadata": {},
       "output_type": "execute_result"
      }
     ],
     "persistentId": "decda1c2-9f31-4011-baa1-cc2000519aa2",
     "text": "len(starT)"
    },
    "executionTime": "2020-04-23T02:30:08.715Z"
   },
   {
    "cell": {
     "executionCount": 38,
     "executionEventId": "b75a1205-dba1-4ec8-a195-e591d750a30d",
     "hasError": false,
     "id": "9ce723f5-0bdf-4346-9714-df6e417c90a2",
     "outputs": [
      {
       "data": {
        "text/plain": "13.289435653932042"
       },
       "execution_count": 38,
       "metadata": {},
       "output_type": "execute_result"
      }
     ],
     "persistentId": "682df9b6-67ca-4e91-8bf9-544063254ed6",
     "text": "np.sqrt((-293.22-(-281.11))**2 + (505.09-501.26)**2 +(-215-(-211.09))**2)"
    },
    "executionTime": "2020-04-23T02:32:11.346Z"
   },
   {
    "cell": {
     "executionCount": 39,
     "executionEventId": "c7f2cb40-bb0b-4df1-9a07-dae78d787ee8",
     "hasError": false,
     "id": "9fb56a98-8890-40b7-9933-b60faebeac3c",
     "outputs": [],
     "persistentId": "5064a642-f2ac-42d6-a048-5b0a9c852881",
     "text": "def Mass_enclose(filename,radius,COMP):\n# function to compute the mass of all particles less than the distance between two Galaxy COM position \n# Inputs:\n#       filename: galaxyfile for input\n#       radius: COM position difference in kpc\n#       COMP: COM positon of each galaxy [x, y, z]\n#       output: Mass in units of Msun. \n    \n    # read in the file \n    time, total, data = Read(filename)\n    \n    # gather particles with the same type and sum up the mass\n    mass = np.round(data[np.sqrt((data['x']-COMP[0])**2+(data['y']-COMP[1])**2+(data['z']-COMP[2])**2) < radius]['m'].sum() * 1e10, 3)\n    \n    # return the mass \n    return mass\n"
    },
    "executionTime": "2020-04-23T02:42:09.457Z"
   },
   {
    "cell": {
     "executionCount": 40,
     "executionEventId": "86d1fb91-948a-41e2-9efb-095ce1bb8b7e",
     "hasError": false,
     "id": "660519a7-a223-47d4-93ab-01dbe3e89bf5",
     "outputs": [],
     "persistentId": "02f16121-7895-4b2d-b448-5f48407eb681",
     "text": "def Select_tides_star(M33,Rj_MW_M33,Rj_M31_M33,COMP_M33):\n    \"\"\"Select tides star of M33\"\"\"\n    # Inputs:\n    #      M33: each snap file name of M33\n    #      Rj_MW_M33: Jacobi Radius of MW and M33 system\n    #      Rj_M1_M33: Jacobi Radius of M31 and M33 system\n    #      COMP_M33: COM positon of M33 [x, y, z]\n    # Outpur:\n    #      tidal_star con\n    time, total, data = Read(M33)\n    MW_index = np.where(np.sqrt((data['x']-COMP_M33[0])**2+(data['y']-COMP_M33[1])**2+(data['z']-COMP_M33[2])**2) >= Rj_MW_M33)\n    M31_index = np.where(np.sqrt((data['x']-COMP_M33[0])**2+(data['y']-COMP_M33[1])**2+(data['z']-COMP_M33[2])**2) >= Rj_M31_M33)\n    total_index = M31_index\n    for i in range(len(MW_index)):\n        if MW_index[i] not in total_index:\n            total_index = np.append(total_index,MW_index[i])\n    \n    tidal_star_MW = data[MW_index]\n    tidal_star_M31 = data[M31_index]\n    tidal_star_total = data[total_index]\n    \n    return tidal_star_MW, tidal_star_M31, tidal_star_total"
    },
    "executionTime": "2020-04-23T02:42:10.792Z"
   },
   {
    "cell": {
     "executionCount": 41,
     "executionEventId": "2d3248f3-1d27-4122-9746-6260f6aa9130",
     "hasError": false,
     "id": "f08f3fbd-ce19-4833-a1d5-879ea03e95c6",
     "outputs": [],
     "persistentId": "c19ce159-9811-4a98-b843-6bf704c73071",
     "text": "class Snap:\n    \"\"\"This is a class for each Snap with M31, MW, M33\"\"\"\n    \n    def __init__(self,Snap_number):\n        # get the snap file name of MW M31 and M33\n        # Inputs: Snapnumber\n        \n        self.Snap_number = Snap_number\n        self.MWfilename = \"VLowRes/\" + 'MW' + \"_VLowRes/\" + 'MW' +  \"_{:03d}\".format(self.Snap_number) + \".txt\"\n        self.M31filename = \"VLowRes/\" + 'M31' + \"_VLowRes/\" + 'M31' +  \"_{:03d}\".format(self.Snap_number) + \".txt\"\n        self.M33filename = \"VLowRes/\" + 'M33' + \"_VLowRes/\" + 'M33' +  \"_{:03d}\".format(self.Snap_number) + \".txt\"\n        \n    def COM(self):\n        # Calculate the COM Position of MW, M31 and M33 \n        \n        MW_COM = CenterOfMass(self.MWfilename)\n        M31_COM = CenterOfMass(self.M31filename)\n        M33_COM = CenterOfMass(self.M31filename)\n        \n        # For MW and M31 delta = 0.1 and VelDec = 2\n        # For M33 dalta = 0.1 and VelDec = 4\n        \n        COMP_MW = MW_COM.COM_P(0.1,2)\n        COMP_M31 = M31_COM.COM_P(0.1,2)\n        COMP_M33 = M33_COM.COM_P(0.1,4)\n        self.COMP_MW = COMP_MW.value\n        self.COMP_M31 = COMP_M31.value\n        self.COMP_M33 = COMP_M33.value\n        \n        return self.COMP_MW, self.COMP_M31, self.COMP_M33\n    \n    \n    def COMdiff(self,galaxy1,galaxy2):\n        # Calculate the COM Position distance of two Galaxy\n        \n        COMdiff = np.sqrt((galaxy1[0]-galaxy2[0])**2+(galaxy1[1]-galaxy2[1])**2+(galaxy1[2]-galaxy2[2])**2)        \n        \n        return COMdiff\n    \n    def Total_Mass(self,galaxy_name):\n        # Calculate total Mass of each Galaxy \n        \n        return ComponentMass(galaxy_name) \n    \n    def Mass_enclose(self):\n        # Calculate the Mass enclose less than the distance between two Galaxy COM Position\n        \n        #Calculate COM Positoon\n        self.COMP_MW, self.COMP_M31, self.COMP_M33 = self.COM()\n        \n        #Calculate MW_M33 M31_M33 COMP difference\n        self.MW_M33diff = self.COMdiff(self.COMP_MW,self.COMP_M33)\n        self.M31_M33diff = self.COMdiff(self.COMP_M31,self.COMP_M33)\n        \n        #Calculate the mass inclose\n        self.MW_enclose = Mass_enclose(self.MWfilename, self.MW_M33diff,self.COMP_MW)\n        self.M31_enclose = Mass_enclose(self.M31filename, self.M31_M33diff,self.COMP_M31)\n        \n        return self.M31_enclose, self.MW_enclose\n    \n    def Rj(self):\n        # Calculate the Jacobi Radius of M31-M33 and MW-M33 system\n        # Rj = r*(Msat/Mhost(<r))**(1/3)\n        # Msat is M33, Mhost is enclose mass of MW and M31\n        self.MWmass = self.Total_Mass(self.MWfilename)\n        self.M31mass = self.Total_Mass(self.M31filename)\n        self.M33mass = self.Total_Mass(self.M33filename)\n        \n        self.COMP_MW, self.COMP_M31, self.COMP_M33 = self.COM()\n        \n        self.MW_M33diff = self.COMdiff(self.COMP_MW,self.COMP_M33)\n        self.M31_M33diff = self.COMdiff(self.COMP_M31,self.COMP_M33)\n        \n        self.M31_enclose, self.MW_enclose = self.Mass_enclose()\n        \n        self.Rj_MW_M33 = self.MW_M33diff *(self.M33mass/self.MW_enclose)**(1/3)\n        self.Rj_M31_M33 = self.M31_M33diff *(self.M33mass/self.M31_enclose)**(1/3)\n        \n        return self.Rj_M31_M33, self.Rj_MW_M33\n    \n    def select_star(self):\n        self.tidal_star_MW, self.tidal_star_M31, self.tidal_star_total = Select_tides_star(self.M33filename,self.Rj_MW_M33,self.Rj_M31_M33,self.COM_P_M33)\n        \n        return self.tidal_star_MW, self.tidal_star_M31, self.tidal_star_total\n"
    },
    "executionTime": "2020-04-23T02:42:52.258Z"
   },
   {
    "cell": {
     "executionCount": 42,
     "executionEventId": "238b6af1-f9d7-46cc-b21b-98120c5a5b3d",
     "hasError": false,
     "id": "da8b145e-c2db-4869-849c-7e14c83e668f",
     "outputs": [],
     "persistentId": "089ba10f-5132-447a-b512-d5392113a174",
     "text": "t = Snap(100)"
    },
    "executionTime": "2020-04-23T02:43:11.842Z"
   },
   {
    "cell": {
     "executionCount": 43,
     "executionEventId": "089e0eef-36e6-467d-afd8-1877fd90b1ec",
     "hasError": false,
     "id": "f9de31c8-7a8d-4dd0-8fd1-4e8ce2627731",
     "outputs": [
      {
       "data": {
        "text/plain": "(array([-10.06,  16.78,  -8.86]),\n array([-281.11,  501.26, -211.09]),\n array([-293.22,  505.09, -215.  ]))"
       },
       "execution_count": 43,
       "metadata": {},
       "output_type": "execute_result"
      }
     ],
     "persistentId": "6bfb21a5-851e-441a-80f3-528b3180adbe",
     "text": "t.COM()"
    },
    "executionTime": "2020-04-23T02:43:17.731Z"
   },
   {
    "cell": {
     "executionCount": 44,
     "executionEventId": "7679e183-0f19-416b-a2a3-5ea07f047fda",
     "hasError": false,
     "id": "e86aa7b4-017a-49d9-94f9-5886b2140e57",
     "outputs": [
      {
       "data": {
        "text/plain": "(80708083740.0, 1724423737999.999)"
       },
       "execution_count": 44,
       "metadata": {},
       "output_type": "execute_result"
      }
     ],
     "persistentId": "8862a6d1-7d55-4adc-804b-3a6418fb515c",
     "text": "t.Mass_enclose()"
    },
    "executionTime": "2020-04-23T02:43:31.480Z"
   },
   {
    "cell": {
     "executionCount": 45,
     "executionEventId": "d0571066-a97f-4987-a418-3e3b22a8b5f2",
     "hasError": false,
     "id": "38b91c85-3c23-491e-a6b4-d46012a50673",
     "outputs": [
      {
       "data": {
        "text/plain": "(17.86029433435545, 291.04858331853455)"
       },
       "execution_count": 45,
       "metadata": {},
       "output_type": "execute_result"
      }
     ],
     "persistentId": "6a604084-d72d-4d1e-80fe-fc44e4aafe90",
     "text": "t.Rj()"
    },
    "executionTime": "2020-04-23T02:45:33.265Z"
   },
   {
    "cell": {
     "executionCount": 46,
     "executionEventId": "fde17c88-8bfd-474c-917c-a7921d95e629",
     "hasError": true,
     "id": "a11f467a-cdbd-4b14-8e45-13abed497880",
     "outputs": [
      {
       "ename": "AttributeError",
       "evalue": "'Snap' object has no attribute 'COM_P_M33'",
       "output_type": "error",
       "traceback": [
        "\u001b[0;31m---------------------------------------------------------------------------\u001b[0m",
        "\u001b[0;31mAttributeError\u001b[0m                            Traceback (most recent call last)",
        "\u001b[0;32m<ipython-input-46-23d307adf15e>\u001b[0m in \u001b[0;36m<module>\u001b[0;34m\u001b[0m\n\u001b[1;32m      2\u001b[0m \u001b[0mstarM31\u001b[0m \u001b[0;34m=\u001b[0m \u001b[0;34m[\u001b[0m\u001b[0;34m]\u001b[0m\u001b[0;34m\u001b[0m\u001b[0;34m\u001b[0m\u001b[0m\n\u001b[1;32m      3\u001b[0m \u001b[0mstarT\u001b[0m \u001b[0;34m=\u001b[0m \u001b[0;34m[\u001b[0m\u001b[0;34m]\u001b[0m\u001b[0;34m\u001b[0m\u001b[0;34m\u001b[0m\u001b[0m\n\u001b[0;32m----> 4\u001b[0;31m \u001b[0mstarMW\u001b[0m\u001b[0;34m,\u001b[0m\u001b[0mstarM31\u001b[0m\u001b[0;34m,\u001b[0m\u001b[0mstarT\u001b[0m \u001b[0;34m=\u001b[0m \u001b[0mt\u001b[0m\u001b[0;34m.\u001b[0m\u001b[0mselect_star\u001b[0m\u001b[0;34m(\u001b[0m\u001b[0;34m)\u001b[0m\u001b[0;34m\u001b[0m\u001b[0;34m\u001b[0m\u001b[0m\n\u001b[0m",
        "\u001b[0;32m<ipython-input-41-092d4dd58c93>\u001b[0m in \u001b[0;36mselect_star\u001b[0;34m(self)\u001b[0m\n\u001b[1;32m     80\u001b[0m \u001b[0;34m\u001b[0m\u001b[0m\n\u001b[1;32m     81\u001b[0m     \u001b[0;32mdef\u001b[0m \u001b[0mselect_star\u001b[0m\u001b[0;34m(\u001b[0m\u001b[0mself\u001b[0m\u001b[0;34m)\u001b[0m\u001b[0;34m:\u001b[0m\u001b[0;34m\u001b[0m\u001b[0;34m\u001b[0m\u001b[0m\n\u001b[0;32m---> 82\u001b[0;31m         \u001b[0mself\u001b[0m\u001b[0;34m.\u001b[0m\u001b[0mtidal_star_MW\u001b[0m\u001b[0;34m,\u001b[0m \u001b[0mself\u001b[0m\u001b[0;34m.\u001b[0m\u001b[0mtidal_star_M31\u001b[0m\u001b[0;34m,\u001b[0m \u001b[0mself\u001b[0m\u001b[0;34m.\u001b[0m\u001b[0mtidal_star_total\u001b[0m \u001b[0;34m=\u001b[0m \u001b[0mSelect_tides_star\u001b[0m\u001b[0;34m(\u001b[0m\u001b[0mself\u001b[0m\u001b[0;34m.\u001b[0m\u001b[0mM33filename\u001b[0m\u001b[0;34m,\u001b[0m\u001b[0mself\u001b[0m\u001b[0;34m.\u001b[0m\u001b[0mRj_MW_M33\u001b[0m\u001b[0;34m,\u001b[0m\u001b[0mself\u001b[0m\u001b[0;34m.\u001b[0m\u001b[0mRj_M31_M33\u001b[0m\u001b[0;34m,\u001b[0m\u001b[0mself\u001b[0m\u001b[0;34m.\u001b[0m\u001b[0mCOM_P_M33\u001b[0m\u001b[0;34m)\u001b[0m\u001b[0;34m\u001b[0m\u001b[0;34m\u001b[0m\u001b[0m\n\u001b[0m\u001b[1;32m     83\u001b[0m \u001b[0;34m\u001b[0m\u001b[0m\n\u001b[1;32m     84\u001b[0m         \u001b[0;32mreturn\u001b[0m \u001b[0mself\u001b[0m\u001b[0;34m.\u001b[0m\u001b[0mtidal_star_MW\u001b[0m\u001b[0;34m,\u001b[0m \u001b[0mself\u001b[0m\u001b[0;34m.\u001b[0m\u001b[0mtidal_star_M31\u001b[0m\u001b[0;34m,\u001b[0m \u001b[0mself\u001b[0m\u001b[0;34m.\u001b[0m\u001b[0mtidal_star_total\u001b[0m\u001b[0;34m\u001b[0m\u001b[0;34m\u001b[0m\u001b[0m\n",
        "\u001b[0;31mAttributeError\u001b[0m: 'Snap' object has no attribute 'COM_P_M33'"
       ]
      }
     ],
     "persistentId": "c12d0638-a9a6-444b-8f11-b464b56e0ac5",
     "text": "starMW = []\nstarM31 = []\nstarT = []\nstarMW,starM31,starT = t.select_star()"
    },
    "executionTime": "2020-04-23T02:45:36.354Z"
   },
   {
    "cell": {
     "executionCount": 47,
     "executionEventId": "9ae26196-cec5-4bda-b6a2-e64bd700af7e",
     "hasError": false,
     "id": "f08f3fbd-ce19-4833-a1d5-879ea03e95c6",
     "outputs": [],
     "persistentId": "c19ce159-9811-4a98-b843-6bf704c73071",
     "text": "class Snap:\n    \"\"\"This is a class for each Snap with M31, MW, M33\"\"\"\n    \n    def __init__(self,Snap_number):\n        # get the snap file name of MW M31 and M33\n        # Inputs: Snapnumber\n        \n        self.Snap_number = Snap_number\n        self.MWfilename = \"VLowRes/\" + 'MW' + \"_VLowRes/\" + 'MW' +  \"_{:03d}\".format(self.Snap_number) + \".txt\"\n        self.M31filename = \"VLowRes/\" + 'M31' + \"_VLowRes/\" + 'M31' +  \"_{:03d}\".format(self.Snap_number) + \".txt\"\n        self.M33filename = \"VLowRes/\" + 'M33' + \"_VLowRes/\" + 'M33' +  \"_{:03d}\".format(self.Snap_number) + \".txt\"\n        \n    def COM(self):\n        # Calculate the COM Position of MW, M31 and M33 \n        \n        MW_COM = CenterOfMass(self.MWfilename)\n        M31_COM = CenterOfMass(self.M31filename)\n        M33_COM = CenterOfMass(self.M31filename)\n        \n        # For MW and M31 delta = 0.1 and VelDec = 2\n        # For M33 dalta = 0.1 and VelDec = 4\n        \n        COMP_MW = MW_COM.COM_P(0.1,2)\n        COMP_M31 = M31_COM.COM_P(0.1,2)\n        COMP_M33 = M33_COM.COM_P(0.1,4)\n        self.COMP_MW = COMP_MW.value\n        self.COMP_M31 = COMP_M31.value\n        self.COMP_M33 = COMP_M33.value\n        \n        return self.COMP_MW, self.COMP_M31, self.COMP_M33\n    \n    \n    def COMdiff(self,galaxy1,galaxy2):\n        # Calculate the COM Position distance of two Galaxy\n        \n        COMdiff = np.sqrt((galaxy1[0]-galaxy2[0])**2+(galaxy1[1]-galaxy2[1])**2+(galaxy1[2]-galaxy2[2])**2)        \n        \n        return COMdiff\n    \n    def Total_Mass(self,galaxy_name):\n        # Calculate total Mass of each Galaxy \n        \n        return ComponentMass(galaxy_name) \n    \n    def Mass_enclose(self):\n        # Calculate the Mass enclose less than the distance between two Galaxy COM Position\n        \n        #Calculate COM Positoon\n        self.COMP_MW, self.COMP_M31, self.COMP_M33 = self.COM()\n        \n        #Calculate MW_M33 M31_M33 COMP difference\n        self.MW_M33diff = self.COMdiff(self.COMP_MW,self.COMP_M33)\n        self.M31_M33diff = self.COMdiff(self.COMP_M31,self.COMP_M33)\n        \n        #Calculate the mass inclose\n        self.MW_enclose = Mass_enclose(self.MWfilename, self.MW_M33diff,self.COMP_MW)\n        self.M31_enclose = Mass_enclose(self.M31filename, self.M31_M33diff,self.COMP_M31)\n        \n        return self.M31_enclose, self.MW_enclose\n    \n    def Rj(self):\n        # Calculate the Jacobi Radius of M31-M33 and MW-M33 system\n        # Rj = r*(Msat/Mhost(<r))**(1/3)\n        # Msat is M33, Mhost is enclose mass of MW and M31\n        self.MWmass = self.Total_Mass(self.MWfilename)\n        self.M31mass = self.Total_Mass(self.M31filename)\n        self.M33mass = self.Total_Mass(self.M33filename)\n        \n        self.COMP_MW, self.COMP_M31, self.COMP_M33 = self.COM()\n        \n        self.MW_M33diff = self.COMdiff(self.COMP_MW,self.COMP_M33)\n        self.M31_M33diff = self.COMdiff(self.COMP_M31,self.COMP_M33)\n        \n        self.M31_enclose, self.MW_enclose = self.Mass_enclose()\n        \n        self.Rj_MW_M33 = self.MW_M33diff *(self.M33mass/self.MW_enclose)**(1/3)\n        self.Rj_M31_M33 = self.M31_M33diff *(self.M33mass/self.M31_enclose)**(1/3)\n        \n        return self.Rj_M31_M33, self.Rj_MW_M33\n    \n    def select_star(self):\n        self.tidal_star_MW, self.tidal_star_M31, self.tidal_star_total = Select_tides_star(self.M33filename,self.Rj_MW_M33,self.Rj_M31_M33,self.COMP_M33)\n        \n        return self.tidal_star_MW, self.tidal_star_M31, self.tidal_star_total\n"
    },
    "executionTime": "2020-04-23T02:46:08.338Z"
   },
   {
    "cell": {
     "executionCount": 48,
     "executionEventId": "9ffc4294-5b6b-4453-9f8b-c9ac81b85905",
     "hasError": false,
     "id": "da8b145e-c2db-4869-849c-7e14c83e668f",
     "outputs": [],
     "persistentId": "089ba10f-5132-447a-b512-d5392113a174",
     "text": "t = Snap(100)"
    },
    "executionTime": "2020-04-23T02:46:26.397Z"
   },
   {
    "cell": {
     "executionCount": 49,
     "executionEventId": "25c7e02b-d9c8-42b2-b14e-480bfe3caed9",
     "hasError": false,
     "id": "f9de31c8-7a8d-4dd0-8fd1-4e8ce2627731",
     "outputs": [
      {
       "data": {
        "text/plain": "(array([-10.06,  16.78,  -8.86]),\n array([-281.11,  501.26, -211.09]),\n array([-293.22,  505.09, -215.  ]))"
       },
       "execution_count": 49,
       "metadata": {},
       "output_type": "execute_result"
      }
     ],
     "persistentId": "6bfb21a5-851e-441a-80f3-528b3180adbe",
     "text": "t.COM()"
    },
    "executionTime": "2020-04-23T02:46:31.366Z"
   },
   {
    "cell": {
     "executionCount": 50,
     "executionEventId": "43a67e3c-8e51-4b7f-8926-ae3fb5669851",
     "hasError": false,
     "id": "e86aa7b4-017a-49d9-94f9-5886b2140e57",
     "outputs": [
      {
       "data": {
        "text/plain": "(80708083740.0, 1724423737999.999)"
       },
       "execution_count": 50,
       "metadata": {},
       "output_type": "execute_result"
      }
     ],
     "persistentId": "8862a6d1-7d55-4adc-804b-3a6418fb515c",
     "text": "t.Mass_enclose()"
    },
    "executionTime": "2020-04-23T02:46:42.127Z"
   },
   {
    "cell": {
     "executionCount": 51,
     "executionEventId": "42c6f9cf-a2c5-468b-b7a0-64fd6dcb9954",
     "hasError": true,
     "id": "a11f467a-cdbd-4b14-8e45-13abed497880",
     "outputs": [
      {
       "ename": "AttributeError",
       "evalue": "'Snap' object has no attribute 'Rj_MW_M33'",
       "output_type": "error",
       "traceback": [
        "\u001b[0;31m---------------------------------------------------------------------------\u001b[0m",
        "\u001b[0;31mAttributeError\u001b[0m                            Traceback (most recent call last)",
        "\u001b[0;32m<ipython-input-51-23d307adf15e>\u001b[0m in \u001b[0;36m<module>\u001b[0;34m\u001b[0m\n\u001b[1;32m      2\u001b[0m \u001b[0mstarM31\u001b[0m \u001b[0;34m=\u001b[0m \u001b[0;34m[\u001b[0m\u001b[0;34m]\u001b[0m\u001b[0;34m\u001b[0m\u001b[0;34m\u001b[0m\u001b[0m\n\u001b[1;32m      3\u001b[0m \u001b[0mstarT\u001b[0m \u001b[0;34m=\u001b[0m \u001b[0;34m[\u001b[0m\u001b[0;34m]\u001b[0m\u001b[0;34m\u001b[0m\u001b[0;34m\u001b[0m\u001b[0m\n\u001b[0;32m----> 4\u001b[0;31m \u001b[0mstarMW\u001b[0m\u001b[0;34m,\u001b[0m\u001b[0mstarM31\u001b[0m\u001b[0;34m,\u001b[0m\u001b[0mstarT\u001b[0m \u001b[0;34m=\u001b[0m \u001b[0mt\u001b[0m\u001b[0;34m.\u001b[0m\u001b[0mselect_star\u001b[0m\u001b[0;34m(\u001b[0m\u001b[0;34m)\u001b[0m\u001b[0;34m\u001b[0m\u001b[0;34m\u001b[0m\u001b[0m\n\u001b[0m",
        "\u001b[0;32m<ipython-input-47-c6f71428426d>\u001b[0m in \u001b[0;36mselect_star\u001b[0;34m(self)\u001b[0m\n\u001b[1;32m     80\u001b[0m \u001b[0;34m\u001b[0m\u001b[0m\n\u001b[1;32m     81\u001b[0m     \u001b[0;32mdef\u001b[0m \u001b[0mselect_star\u001b[0m\u001b[0;34m(\u001b[0m\u001b[0mself\u001b[0m\u001b[0;34m)\u001b[0m\u001b[0;34m:\u001b[0m\u001b[0;34m\u001b[0m\u001b[0;34m\u001b[0m\u001b[0m\n\u001b[0;32m---> 82\u001b[0;31m         \u001b[0mself\u001b[0m\u001b[0;34m.\u001b[0m\u001b[0mtidal_star_MW\u001b[0m\u001b[0;34m,\u001b[0m \u001b[0mself\u001b[0m\u001b[0;34m.\u001b[0m\u001b[0mtidal_star_M31\u001b[0m\u001b[0;34m,\u001b[0m \u001b[0mself\u001b[0m\u001b[0;34m.\u001b[0m\u001b[0mtidal_star_total\u001b[0m \u001b[0;34m=\u001b[0m \u001b[0mSelect_tides_star\u001b[0m\u001b[0;34m(\u001b[0m\u001b[0mself\u001b[0m\u001b[0;34m.\u001b[0m\u001b[0mM33filename\u001b[0m\u001b[0;34m,\u001b[0m\u001b[0mself\u001b[0m\u001b[0;34m.\u001b[0m\u001b[0mRj_MW_M33\u001b[0m\u001b[0;34m,\u001b[0m\u001b[0mself\u001b[0m\u001b[0;34m.\u001b[0m\u001b[0mRj_M31_M33\u001b[0m\u001b[0;34m,\u001b[0m\u001b[0mself\u001b[0m\u001b[0;34m.\u001b[0m\u001b[0mCOMP_M33\u001b[0m\u001b[0;34m)\u001b[0m\u001b[0;34m\u001b[0m\u001b[0;34m\u001b[0m\u001b[0m\n\u001b[0m\u001b[1;32m     83\u001b[0m \u001b[0;34m\u001b[0m\u001b[0m\n\u001b[1;32m     84\u001b[0m         \u001b[0;32mreturn\u001b[0m \u001b[0mself\u001b[0m\u001b[0;34m.\u001b[0m\u001b[0mtidal_star_MW\u001b[0m\u001b[0;34m,\u001b[0m \u001b[0mself\u001b[0m\u001b[0;34m.\u001b[0m\u001b[0mtidal_star_M31\u001b[0m\u001b[0;34m,\u001b[0m \u001b[0mself\u001b[0m\u001b[0;34m.\u001b[0m\u001b[0mtidal_star_total\u001b[0m\u001b[0;34m\u001b[0m\u001b[0;34m\u001b[0m\u001b[0m\n",
        "\u001b[0;31mAttributeError\u001b[0m: 'Snap' object has no attribute 'Rj_MW_M33'"
       ]
      }
     ],
     "persistentId": "c12d0638-a9a6-444b-8f11-b464b56e0ac5",
     "text": "starMW = []\nstarM31 = []\nstarT = []\nstarMW,starM31,starT = t.select_star()"
    },
    "executionTime": "2020-04-23T02:46:42.205Z"
   },
   {
    "cell": {
     "executionCount": 52,
     "executionEventId": "8ddd0f12-07d2-47c3-8252-029fd1f99952",
     "hasError": false,
     "id": "f08f3fbd-ce19-4833-a1d5-879ea03e95c6",
     "outputs": [],
     "persistentId": "c19ce159-9811-4a98-b843-6bf704c73071",
     "text": "class Snap:\n    \"\"\"This is a class for each Snap with M31, MW, M33\"\"\"\n    \n    def __init__(self,Snap_number):\n        # get the snap file name of MW M31 and M33\n        # Inputs: Snapnumber\n        \n        self.Snap_number = Snap_number\n        self.MWfilename = \"VLowRes/\" + 'MW' + \"_VLowRes/\" + 'MW' +  \"_{:03d}\".format(self.Snap_number) + \".txt\"\n        self.M31filename = \"VLowRes/\" + 'M31' + \"_VLowRes/\" + 'M31' +  \"_{:03d}\".format(self.Snap_number) + \".txt\"\n        self.M33filename = \"VLowRes/\" + 'M33' + \"_VLowRes/\" + 'M33' +  \"_{:03d}\".format(self.Snap_number) + \".txt\"\n        \n    def COM(self):\n        # Calculate the COM Position of MW, M31 and M33 \n        \n        MW_COM = CenterOfMass(self.MWfilename)\n        M31_COM = CenterOfMass(self.M31filename)\n        M33_COM = CenterOfMass(self.M31filename)\n        \n        # For MW and M31 delta = 0.1 and VelDec = 2\n        # For M33 dalta = 0.1 and VelDec = 4\n        \n        COMP_MW = MW_COM.COM_P(0.1,2)\n        COMP_M31 = M31_COM.COM_P(0.1,2)\n        COMP_M33 = M33_COM.COM_P(0.1,4)\n        self.COMP_MW = COMP_MW.value\n        self.COMP_M31 = COMP_M31.value\n        self.COMP_M33 = COMP_M33.value\n        \n        return self.COMP_MW, self.COMP_M31, self.COMP_M33\n    \n    \n    def COMdiff(self,galaxy1,galaxy2):\n        # Calculate the COM Position distance of two Galaxy\n        \n        COMdiff = np.sqrt((galaxy1[0]-galaxy2[0])**2+(galaxy1[1]-galaxy2[1])**2+(galaxy1[2]-galaxy2[2])**2)        \n        \n        return COMdiff\n    \n    def Total_Mass(self,galaxy_name):\n        # Calculate total Mass of each Galaxy \n        \n        return ComponentMass(galaxy_name) \n    \n    def Mass_enclose(self):\n        # Calculate the Mass enclose less than the distance between two Galaxy COM Position\n        \n        #Calculate COM Positoon\n        self.COMP_MW, self.COMP_M31, self.COMP_M33 = self.COM()\n        \n        #Calculate MW_M33 M31_M33 COMP difference\n        self.MW_M33diff = self.COMdiff(self.COMP_MW,self.COMP_M33)\n        self.M31_M33diff = self.COMdiff(self.COMP_M31,self.COMP_M33)\n        \n        #Calculate the mass inclose\n        self.MW_enclose = Mass_enclose(self.MWfilename, self.MW_M33diff,self.COMP_MW)\n        self.M31_enclose = Mass_enclose(self.M31filename, self.M31_M33diff,self.COMP_M31)\n        \n        return self.M31_enclose, self.MW_enclose\n    \n    def Rj(self):\n        # Calculate the Jacobi Radius of M31-M33 and MW-M33 system\n        # Rj = r*(Msat/Mhost(<r))**(1/3)\n        # Msat is M33, Mhost is enclose mass of MW and M31\n        self.MWmass = self.Total_Mass(self.MWfilename)\n        self.M31mass = self.Total_Mass(self.M31filename)\n        self.M33mass = self.Total_Mass(self.M33filename)\n        \n        self.COMP_MW, self.COMP_M31, self.COMP_M33 = self.COM()\n        \n        self.MW_M33diff = self.COMdiff(self.COMP_MW,self.COMP_M33)\n        self.M31_M33diff = self.COMdiff(self.COMP_M31,self.COMP_M33)\n        \n        self.M31_enclose, self.MW_enclose = self.Mass_enclose()\n        \n        self.Rj_MW_M33 = self.MW_M33diff *(self.M33mass/self.MW_enclose)**(1/3)\n        self.Rj_M31_M33 = self.M31_M33diff *(self.M33mass/self.M31_enclose)**(1/3)\n        \n        return self.Rj_M31_M33, self.Rj_MW_M33\n    \n    def select_star(self):\n        \n        self.Rj_M31_M33, self.Rj_MW_M33 = self.Rj()\n        \n        self.tidal_star_MW, self.tidal_star_M31, self.tidal_star_total = Select_tides_star(self.M33filename,self.Rj_MW_M33,self.Rj_M31_M33,self.COMP_M33)\n        \n        return self.tidal_star_MW, self.tidal_star_M31, self.tidal_star_total\n"
    },
    "executionTime": "2020-04-23T02:48:30.085Z"
   },
   {
    "cell": {
     "executionCount": 53,
     "executionEventId": "69c85c6b-f3b0-449d-b9fa-238b2d873ed9",
     "hasError": false,
     "id": "da8b145e-c2db-4869-849c-7e14c83e668f",
     "outputs": [],
     "persistentId": "089ba10f-5132-447a-b512-d5392113a174",
     "text": "t = Snap(100)"
    },
    "executionTime": "2020-04-23T02:48:42.151Z"
   },
   {
    "cell": {
     "executionCount": 54,
     "executionEventId": "9d0deac1-676c-4c48-876b-70502e46c9fa",
     "hasError": false,
     "id": "f9de31c8-7a8d-4dd0-8fd1-4e8ce2627731",
     "outputs": [
      {
       "data": {
        "text/plain": "(array([-10.06,  16.78,  -8.86]),\n array([-281.11,  501.26, -211.09]),\n array([-293.22,  505.09, -215.  ]))"
       },
       "execution_count": 54,
       "metadata": {},
       "output_type": "execute_result"
      }
     ],
     "persistentId": "6bfb21a5-851e-441a-80f3-528b3180adbe",
     "text": "t.COM()"
    },
    "executionTime": "2020-04-23T02:48:47.304Z"
   },
   {
    "cell": {
     "executionCount": 55,
     "executionEventId": "ef0517c3-6014-4073-8818-dff6eb2f9406",
     "hasError": false,
     "id": "e86aa7b4-017a-49d9-94f9-5886b2140e57",
     "outputs": [
      {
       "data": {
        "text/plain": "(80708083740.0, 1724423737999.999)"
       },
       "execution_count": 55,
       "metadata": {},
       "output_type": "execute_result"
      }
     ],
     "persistentId": "8862a6d1-7d55-4adc-804b-3a6418fb515c",
     "text": "t.Mass_enclose()"
    },
    "executionTime": "2020-04-23T02:49:08.349Z"
   },
   {
    "cell": {
     "executionCount": 56,
     "executionEventId": "0d7f6f01-141f-491e-8daa-be1adb351143",
     "hasError": false,
     "id": "38b91c85-3c23-491e-a6b4-d46012a50673",
     "outputs": [
      {
       "data": {
        "text/plain": "(17.86029433435545, 291.04858331853455)"
       },
       "execution_count": 56,
       "metadata": {},
       "output_type": "execute_result"
      }
     ],
     "persistentId": "6a604084-d72d-4d1e-80fe-fc44e4aafe90",
     "text": "t.Rj()"
    },
    "executionTime": "2020-04-23T02:49:22.824Z"
   },
   {
    "cell": {
     "executionCount": 57,
     "executionEventId": "e464dcdf-c3d2-4259-823f-453f09f977b9",
     "hasError": false,
     "id": "a11f467a-cdbd-4b14-8e45-13abed497880",
     "outputs": [
      {
       "name": "stderr",
       "output_type": "stream",
       "text": "/anaconda3/lib/python3.6/site-packages/ipykernel_launcher.py:15: DeprecationWarning: elementwise comparison failed; this will raise an error in the future.\n  from ipykernel import kernelapp as app\n"
      }
     ],
     "persistentId": "c12d0638-a9a6-444b-8f11-b464b56e0ac5",
     "text": "starMW = []\nstarM31 = []\nstarT = []\nstarMW,starM31,starT = t.select_star()"
    },
    "executionTime": "2020-04-23T02:49:37.922Z"
   },
   {
    "cell": {
     "executionCount": 58,
     "executionEventId": "8c4d2260-3c47-47cd-9123-c61c2d9e49ad",
     "hasError": false,
     "id": "8b17fef7-f7e1-49d8-b83b-674af6829c5c",
     "outputs": [
      {
       "data": {
        "text/plain": "682"
       },
       "execution_count": 58,
       "metadata": {},
       "output_type": "execute_result"
      }
     ],
     "persistentId": "e5253a2e-744f-4d93-945c-33a7b299e9a7",
     "text": "len(starMW)"
    },
    "executionTime": "2020-04-23T02:49:40.794Z"
   },
   {
    "cell": {
     "executionCount": 59,
     "executionEventId": "22f6b11a-ec6a-496d-b525-0f2f6f7c43e4",
     "hasError": false,
     "id": "f3d90fcc-4979-4ed8-8ccc-814ce0d35d68",
     "outputs": [
      {
       "data": {
        "text/plain": "14300"
       },
       "execution_count": 59,
       "metadata": {},
       "output_type": "execute_result"
      }
     ],
     "persistentId": "decda1c2-9f31-4011-baa1-cc2000519aa2",
     "text": "len(starM31)"
    },
    "executionTime": "2020-04-23T02:49:46.758Z"
   },
   {
    "cell": {
     "executionCount": 60,
     "executionEventId": "b313a974-8623-4aa7-b60b-864097c8a12b",
     "hasError": false,
     "id": "13be1021-e871-4619-ac28-be6a3314e021",
     "outputs": [
      {
       "data": {
        "text/plain": "682"
       },
       "execution_count": 60,
       "metadata": {},
       "output_type": "execute_result"
      }
     ],
     "persistentId": "805cf101-458e-4f9d-b006-28cd1484e001",
     "text": "len(starMW)"
    },
    "executionTime": "2020-04-23T02:49:56.981Z"
   },
   {
    "cell": {
     "executionCount": 61,
     "executionEventId": "406657d6-c591-4e7b-abfb-c620fff32cef",
     "hasError": false,
     "id": "13be1021-e871-4619-ac28-be6a3314e021",
     "outputs": [
      {
       "data": {
        "text/plain": "14982"
       },
       "execution_count": 61,
       "metadata": {},
       "output_type": "execute_result"
      }
     ],
     "persistentId": "805cf101-458e-4f9d-b006-28cd1484e001",
     "text": "len(starT)"
    },
    "executionTime": "2020-04-23T02:50:02.667Z"
   },
   {
    "cell": {
     "executionCount": 62,
     "executionEventId": "95ef9214-510e-4181-a8c2-296b40c42868",
     "hasError": false,
     "id": "0165fbda-4cd4-408c-8d83-036b694c4061",
     "outputs": [
      {
       "data": {
        "text/plain": "array([(1., 0.00373226,  6.83653e+02,  2.29640e+03, -3.54354e+02,   40.6226  ,  9.61086e+01, 139.611  ),\n       (1., 0.00373226, -2.62424e+02,  7.93488e+02, -5.97544e+02,   26.5387  ,  4.50087e+01, 191.095  ),\n       (1., 0.00373226, -1.64494e+02,  8.20262e+02, -4.05828e+02,   34.4837  ,  2.97120e+01, 211.802  ),\n       (1., 0.00373226, -3.84501e+01,  6.88735e+02, -2.02983e+02,  -29.6997  ,  4.33915e+01, 197.602  ),\n       (1., 0.00373226,  9.92978e+01,  6.46916e+02,  1.90658e+02,    9.28519 ,  7.04353e+01, 109.076  ),\n       (1., 0.00373226, -1.21197e+03,  1.06697e+03, -3.28748e+02,   57.4902  ,  9.32989e+01, 142.081  ),\n       (1., 0.00373226, -7.22843e+01,  7.14133e+02, -3.66019e+02,   22.7158  ,  5.90773e+01, 172.28   ),\n       (1., 0.00373226, -2.75159e+02,  6.19999e+02, -5.09058e+02,   69.3152  ,  7.95585e+01, 189.682  ),\n       (1., 0.00373226, -1.27960e+03,  7.47316e+01, -7.24678e+02,   53.8462  ,  1.04984e+02, 145.262  ),\n       (1., 0.00373226, -5.53770e+02,  9.13253e+02, -2.82730e+02,   72.8529  ,  6.23585e+01, 164.905  ),\n       (1., 0.00373226, -7.81842e+02,  5.43718e+02,  7.73678e+00,   90.1114  ,  6.72236e+01, 152.544  ),\n       (1., 0.00373226,  4.68559e+02,  3.28003e+02, -1.60899e+02,    2.81659 ,  9.46049e+01, 152.443  ),\n       (1., 0.00373226, -4.91257e+02,  9.18550e+02, -3.67006e+02,   69.5659  ,  6.83363e+01, 195.931  ),\n       (1., 0.00373226, -4.22767e+02, -3.01961e+02, -1.07762e+03,   46.0813  ,  1.08710e+02, 150.321  ),\n       (1., 0.00373226, -7.27680e+02,  1.47447e+02, -1.83202e+02,   77.9384  ,  1.21440e+02, 145.284  ),\n       (1., 0.00373226, -1.24753e+02,  1.58599e+03, -7.77449e+01,   40.9655  ,  8.29363e+01, 138.416  ),\n       (1., 0.00373226, -8.45719e+02,  7.36463e+02, -4.57715e+02,   75.1346  ,  1.12374e+02, 141.159  ),\n       (1., 0.00373226, -1.44170e+03,  1.00162e+03,  2.54056e+02,   53.9191  ,  9.67666e+01, 135.751  ),\n       (1., 0.00373226, -6.13815e+02,  3.77964e+02, -2.14702e+02,   68.2603  ,  1.22304e+02, 146.564  ),\n       (1., 0.00373226, -5.29189e+02,  7.75858e+02, -3.08084e+02,   85.7261  ,  1.15757e+01, 184.356  ),\n       (1., 0.00373226, -3.13537e+01,  2.03880e+02, -3.76578e+01,   27.7928  ,  3.05013e+01, 227.116  ),\n       (1., 0.00373226, -4.67361e+02,  8.15279e+02, -3.11359e+02,   78.969   ,  6.52553e+01, 198.615  ),\n       (1., 0.00373226, -4.60340e+02,  7.45644e+02, -2.70241e+02,  170.704   ,  8.33855e+01, 167.218  ),\n       (1., 0.00373226, -7.06535e+02,  6.21337e+02,  9.58328e+01,   83.7982  ,  1.07611e+02,  98.1918 ),\n       (1., 0.00373226,  6.88338e+01,  8.06352e+02, -7.38407e+01,   16.3956  ,  6.22022e+01, 126.437  ),\n       (1., 0.00373226, -2.11503e+02,  7.89089e+02, -5.90612e+02,    6.66748 ,  7.99146e+01, 174.871  ),\n       (1., 0.00373226, -4.17282e+02,  8.63642e+02, -4.36781e+02,   73.9425  ,  1.00899e+02, 160.862  ),\n       (1., 0.00373226, -1.36985e+02,  5.35356e+02,  1.29422e+02,   -4.35303 ,  9.83420e+01,  73.4708 ),\n       (1., 0.00373226, -1.36122e+02,  7.51785e+02,  2.34928e+01,   13.6653  ,  5.47741e+01,  67.6523 ),\n       (1., 0.00373226, -5.92737e+02,  5.92342e+02, -3.16349e+02,  124.528   ,  9.46803e+01, 167.242  ),\n       (1., 0.00373226,  3.12555e+03,  4.03598e+03, -1.48412e+03,   42.4255  ,  1.00546e+02, 139.096  ),\n       (1., 0.00373226, -6.03118e+02,  6.26174e+02,  8.88955e+01,  121.974   ,  6.72492e+01,  68.7172 ),\n       (1., 0.00373226, -4.59938e+02,  1.83402e+03,  2.07313e+03,   43.5188  ,  9.91342e+01, 135.659  ),\n       (1., 0.00373226, -5.91389e+02,  9.37541e+02,  3.24674e+01,   59.6343  ,  6.90161e+01, 114.381  ),\n       (1., 0.00373226, -4.87574e+02,  7.99424e+02,  7.33959e+02,   50.568   ,  9.24107e+01, 118.865  ),\n       (1., 0.00373226, -2.24505e+02,  7.84662e+02, -5.08421e+02,   26.9212  ,  4.56908e+01, 174.503  ),\n       (1., 0.00373226, -6.92681e+02,  5.15270e+02,  9.08327e+01,   88.7816  ,  1.11873e+02, 141.491  ),\n       (1., 0.00373226, -2.97100e+02,  9.35954e+02,  4.27569e+02,   46.5764  ,  7.85219e+01, 110.192  ),\n       (1., 0.00373226, -1.26517e+00,  5.60380e+02, -1.77049e+02,  -36.0009  ,  7.39668e+01, 179.127  ),\n       (1., 0.00373226, -3.59894e+02,  9.65674e+02, -1.53009e+02,   71.9541  ,  3.21417e+01, 147.96   ),\n       (1., 0.00373226, -2.12577e+02,  9.67861e+02, -2.94298e+02,   13.1754  ,  6.14363e+01, 139.556  ),\n       (1., 0.00373226, -6.17031e+02,  1.00401e+03, -6.67772e+01,   85.16    ,  4.68422e+01, 149.321  ),\n       (1., 0.00373226, -8.42832e+02, -5.15598e+01,  1.01540e+03,   50.2845  ,  1.04976e+02, 128.574  ),\n       (1., 0.00373226, -6.72082e+02,  8.79341e+02, -2.32483e+02,  111.487   ,  5.56440e+01, 127.997  ),\n       (1., 0.00373226, -8.91116e+02,  2.23395e+03,  1.31737e+03,   44.3988  ,  9.78927e+01, 136.206  ),\n       (1., 0.00373226,  6.06395e+02,  9.95509e+02,  9.53068e+02,   36.6992  ,  9.56862e+01, 130.426  ),\n       (1., 0.00373226, -5.22443e+02,  7.82138e+02, -3.17567e+02,  130.328   ,  5.44101e+01, 171.103  ),\n       (1., 0.00373226,  1.17322e+02,  5.70627e+02, -4.02636e+02,    2.34776 ,  9.05602e+01, 175.476  ),\n       (1., 0.00373226, -1.03538e+03,  1.83759e+01, -1.13160e+02,   63.36    ,  1.10842e+02, 139.898  ),\n       (1., 0.00373226,  1.01851e+02, -1.35205e+03,  2.28694e+03,   42.8493  ,  1.03122e+02, 136.239  ),\n       (1., 0.00373226, -5.53770e+02,  9.13253e+02, -2.82730e+02,   72.8529  ,  6.23585e+01, 164.905  ),\n       (1., 0.00373226, -2.00398e+03,  1.36180e+03, -6.79871e+02,   47.9177  ,  9.88779e+01, 140.419  ),\n       (1., 0.00373226, -3.93291e+02,  9.62987e+02, -4.80340e+02,   63.0074  ,  5.40242e+01, 178.232  ),\n       (1., 0.00373226, -4.97267e+02,  6.74265e+02, -4.44704e+02,  117.655   ,  8.99014e+01, 176.29   ),\n       (1., 0.00373226, -4.58573e+02,  7.78345e+02, -2.56908e+02,  165.787   ,  2.47723e+01, 139.255  ),\n       (1., 0.00373226, -1.21755e+03,  6.43273e+02,  1.84453e+02,   61.4148  ,  9.86174e+01, 133.657  ),\n       (1., 0.00373226, -5.74841e+02,  4.09526e+02,  1.45674e+03,   45.9018  ,  1.00857e+02, 129.384  ),\n       (1., 0.00373226, -1.37054e+02,  7.92415e+02,  7.35977e+02,   42.3683  ,  9.00299e+01, 116.551  ),\n       (1., 0.00373226, -4.26027e+02,  8.34758e+02, -1.20839e+02,   94.5692  , -1.60804e-01,  91.3927 ),\n       (1., 0.00373226, -4.45565e+02,  7.30977e+02, -9.53839e+01,  184.365   ,  3.45584e+01, 145.944  ),\n       (1., 0.00373226, -1.83774e+02,  9.37326e+02, -5.26320e+01,   38.1722  ,  3.67343e+01,  95.6095 ),\n       (1., 0.00373226, -7.23523e+02,  8.74844e+02, -1.91956e+02,   79.3111  ,  6.91133e+01, 167.43   ),\n       (1., 0.00373226, -7.64174e+02,  1.23457e+03,  4.75508e+01,   58.4583  ,  8.07233e+01, 133.792  ),\n       (1., 0.00373226, -6.85515e+01,  6.84992e+02, -3.37546e+02,    0.63128 ,  6.60059e+01, 213.508  ),\n       (1., 0.00373226, -2.16046e+02,  8.02128e+02, -2.57451e+02,   -1.04748 , -2.65726e+01, 183.264  ),\n       (1., 0.00373226, -3.64106e+02,  8.69818e+02, -3.50548e+02,   38.5252  ,  3.04309e+01, 197.14   ),\n       (1., 0.00373226, -2.34627e+02,  2.93767e+02,  1.80702e+02,   83.7712  ,  1.05094e+02, 102.915  ),\n       (1., 0.00373226,  1.18223e+02,  7.86962e+01,  8.34965e+01, -151.811   ,  1.20694e+02, 140.44   ),\n       (1., 0.00373226, -6.70570e+02,  4.60831e+02,  1.91565e+01,   95.8484  ,  9.36625e+01, 138.207  ),\n       (1., 0.00373226, -4.79092e+02,  1.19767e+03, -1.49891e+01,   58.3105  ,  7.82802e+01, 163.256  ),\n       (1., 0.00373226,  1.05620e+03, -1.90235e+02, -1.06209e+03,   36.9055  ,  1.03909e+02, 144.349  ),\n       (1., 0.00373226, -6.92191e+01,  1.08898e+03, -5.27304e+02,   32.9841  ,  7.42717e+01, 159.823  ),\n       (1., 0.00373226,  1.11358e+03,  6.70990e+02,  4.28635e+01,   30.0434  ,  9.75116e+01, 138.268  ),\n       (1., 0.00373226, -3.81765e+02,  1.33240e+03, -1.11572e+02,   47.5383  ,  7.07580e+01, 138.656  ),\n       (1., 0.00373226, -4.31347e+02,  6.59686e+02, -5.82464e+02,   67.46    ,  1.33110e+02, 181.234  ),\n       (1., 0.00373226, -3.98200e+02,  7.73065e+02, -3.01404e+02,   64.7422  ,  6.81287e+01, 244.902  ),\n       (1., 0.00373226, -2.08953e+02,  1.16932e+03,  7.91324e+02,   43.275   ,  9.03298e+01, 125.717  ),\n       (1., 0.00373226, -8.37599e+02,  1.43424e+03, -8.99328e+02,   48.4774  ,  9.29785e+01, 146.053  ),\n       (1., 0.00373226,  2.06343e+02,  1.10420e+03, -2.39284e+02,   23.814   ,  7.64202e+01, 144.853  ),\n       (1., 0.00373226, -5.23615e+02,  9.61558e+02, -3.23338e+01,  108.582   ,  4.02642e+01, 137.991  ),\n       (1., 0.00373226, -4.64581e+02,  7.36108e+02, -3.94656e+02,   85.8842  ,  7.58188e+01, 170.27   ),\n       (1., 0.00373226, -1.34523e+03,  5.52780e+01, -7.72073e+01,   57.2518  ,  1.05918e+02, 138.877  ),\n       (1., 0.00373226,  6.68050e+02,  1.11462e+03, -1.17363e+03,   37.7279  ,  9.70339e+01, 145.731  ),\n       (1., 0.00373226, -4.08309e+02,  2.24152e+02, -2.67873e+02,   78.5791  ,  1.35103e+02, 183.385  ),\n       (1., 0.00373226, -5.77872e+02,  4.93110e+02, -1.19726e+02,  138.169   ,  1.39054e+02, 127.287  ),\n       (1., 0.00373226, -2.21735e+02,  8.62468e+02, -3.61808e+02,   17.0915  ,  2.91174e+01, 153.261  ),\n       (1., 0.00373226, -8.71187e+02,  2.56210e+03, -1.16998e+03,   44.2046  ,  9.77091e+01, 140.673  ),\n       (1., 0.00373226,  1.11447e+02,  2.75737e+02, -8.96943e+02,   35.2318  ,  1.04709e+02, 161.579  ),\n       (1., 0.00373226, -7.41499e+02,  1.54110e+01,  4.85148e+02,   61.7189  ,  1.10449e+02, 123.795  ),\n       (1., 0.00373226, -2.53800e+02,  7.67414e+02, -6.66813e+01,   53.097   , -5.54619e+01, 121.94   ),\n       (1., 0.00373226, -1.14318e+02,  2.26239e+02,  6.89963e+01,   87.9196  ,  3.97777e+01, 134.205  ),\n       (1., 0.00373226,  5.12131e+01,  8.82816e+02, -3.21525e+02,   26.1767  ,  6.25235e+01, 143.561  ),\n       (1., 0.00373226, -6.71298e+02,  5.21384e+02,  1.33256e+02,   99.15    ,  1.34364e+02, 114.972  ),\n       (1., 0.00373226, -3.77875e+02,  8.18265e+02, -3.52306e+01,   89.097   , -1.17555e+01, 137.183  ),\n       (1., 0.00373226, -1.65930e+02,  1.55129e+02, -1.62156e+02,   53.4939  ,  1.36560e+02, 226.638  ),\n       (1., 0.00373226, -6.58439e+01,  1.00812e+03,  4.35452e+01,   58.8584  ,  3.54321e+01, 121.94   ),\n       (1., 0.00373226,  3.40346e+01,  8.83392e+02, -1.07302e+03,   38.7907  ,  9.47975e+01, 154.899  ),\n       (1., 0.00373226, -8.07544e+02,  4.89903e+02, -2.43669e+02,   83.778   ,  1.06847e+02, 145.072  ),\n       (1., 0.00373226, -6.58274e+02,  5.32980e+02, -2.02151e+02,   85.7509  ,  1.22043e+02, 148.9    ),\n       (1., 0.00373226,  8.43655e+02, -3.31014e+02, -2.73877e+01,   27.0006  ,  1.10749e+02, 140.04   ),\n       (1., 0.00373226, -4.18949e+02,  6.81939e+02,  3.58053e+02,   82.3911  ,  9.44283e+01, 128.239  ),\n       (1., 0.00373226, -5.06098e+02,  7.48606e+02, -2.26933e+02,  117.565   ,  1.77512e+01, 177.528  ),\n       (1., 0.00373226, -1.41396e+02,  8.40393e+02,  1.88556e+00,  -38.9505  ,  5.09433e+01, 147.629  ),\n       (1., 0.00373226, -1.77414e+02,  1.10373e+03, -5.35262e+02,   37.9731  ,  7.24741e+01, 161.389  ),\n       (1., 0.00373226, -1.53377e+03, -1.39510e+02, -5.98317e+02,   51.4925  ,  1.04737e+02, 142.176  ),\n       (1., 0.00373226, -5.31622e+02,  6.60229e+02, -2.92911e+02,  133.168   ,  1.18702e+02, 135.661  ),\n       (1., 0.00373226, -4.75180e+02,  6.29976e+02, -4.27294e+02,  111.321   ,  1.08130e+02, 168.783  ),\n       (1., 0.00373226, -9.16633e+01,  6.07311e+02, -5.27894e+02,  -29.1549  ,  9.13182e+01, 183.68   ),\n       (1., 0.00373226, -5.26102e+02,  1.30471e+03, -2.47284e+02,   52.7733  ,  7.33820e+01, 143.67   ),\n       (1., 0.00373226, -2.14968e+02,  1.05937e+03,  1.65668e+02,   38.7191  ,  6.03614e+01, 115.137  ),\n       (1., 0.00373226, -6.67594e+02,  6.49479e+02,  2.02963e+01,   97.5139  ,  1.14707e+02, 165.67   ),\n       (1., 0.00373226, -9.64564e+02, -6.51542e+02,  8.25217e+02,   48.7317  ,  1.07482e+02, 133.37   ),\n       (1., 0.00373226, -6.38524e+02,  1.45746e+03, -1.45943e+02,   51.2368  ,  8.19301e+01, 139.542  ),\n       (1., 0.00373226, -4.37191e+02,  7.94908e+02, -2.48753e+02,  158.938   ,  8.57431e+01, 213.791  ),\n       (1., 0.00373226, -1.73733e+03,  1.22992e+02, -7.33305e+02,   50.4919  ,  1.02801e+02, 141.985  ),\n       (1., 0.00373226, -5.10915e+02,  7.73054e+02, -3.62944e+02,  133.645   ,  4.24213e+01, 153.989  ),\n       (1., 0.00373226, -5.71551e+02,  6.64974e+02, -2.27699e+02,  135.689   ,  7.61556e+01, 164.505  ),\n       (1., 0.00373226, -6.21653e+02, -2.85192e+02,  6.52651e+02,   54.053   ,  1.12284e+02, 125.848  ),\n       (1., 0.00373226, -1.54299e+03,  7.40400e+02, -6.00809e+02,   53.2984  ,  9.93737e+01, 142.735  ),\n       (1., 0.00373226, -1.46188e+02,  1.07262e+03,  1.32859e+03,   43.0177  ,  9.68058e+01, 129.828  ),\n       (1., 0.00373226, -6.23150e+02,  5.75096e+02, -3.55552e+02,  107.49    ,  1.43233e+02, 191.136  ),\n       (1., 0.00373226, -5.96869e+02,  3.99147e+02, -3.05320e+02,  112.918   ,  1.23558e+02, 156.232  ),\n       (1., 0.00373226, -6.16112e+02,  6.00517e+02,  9.11891e+01,  110.581   ,  7.97412e+01, 120.35   ),\n       (1., 0.00373226, -6.41807e+02,  3.42504e+02, -2.78466e+02,   74.3499  ,  1.23030e+02, 186.833  ),\n       (1., 0.00373226, -7.30524e+02,  6.87214e+02, -1.58868e+02,   69.5497  ,  6.02055e+01, 147.455  ),\n       (1., 0.00373226, -5.59989e+02,  1.02976e+03, -3.44377e+02,   81.6465  ,  8.98960e+01, 156.576  ),\n       (1., 0.00373226, -3.05889e+03,  8.58167e+02,  2.11307e+03,   44.6488  ,  1.01018e+02, 137.638  ),\n       (1., 0.00373226, -7.67351e+02,  1.27805e+03, -3.99197e+02,   55.8104  ,  8.31378e+01, 145.967  ),\n       (1., 0.00373226, -6.21731e+02,  4.39762e+02, -6.39997e+02,   61.6036  ,  7.76261e+01, 142.686  ),\n       (1., 0.00373226, -5.86393e+02,  1.51029e+03,  1.09695e+02,   49.0886  ,  8.38542e+01, 134.923  ),\n       (1., 0.00373226, -6.04356e+02,  5.90693e+02, -2.92269e+02,  107.424   ,  6.59828e+01, 207.941  ),\n       (1., 0.00373226, -5.79940e+02,  2.52696e+02,  2.46824e+02,   79.2511  ,  1.13348e+02, 112.932  ),\n       (1., 0.00373226,  9.17675e+02, -3.85260e+03, -1.53018e+03,   42.7914  ,  1.02428e+02, 139.229  ),\n       (1., 0.00373226,  8.08713e+02,  1.12684e+03, -7.09695e+02,   34.3998  ,  9.51397e+01, 144.488  ),\n       (1., 0.00373226, -5.54869e+02,  7.18024e+02, -1.81647e+02,  157.489   ,  8.39182e+01, 151.898  ),\n       (1., 0.00373226, -8.31245e+02,  1.23030e+03, -2.60307e+02,   58.8523  ,  8.26796e+01, 142.757  ),\n       (1., 0.00373226, -5.60157e+02, -6.11332e+02, -6.00121e+02,   49.0466  ,  1.13512e+02, 146.62   ),\n       (1., 0.00373226, -4.47082e+02,  7.96202e+02, -2.12318e+02,  177.25    ,  4.27074e+01, 163.631  ),\n       (1., 0.00373226, -1.33546e+02,  7.16530e+02, -5.46646e+01,  -90.2906  ,  6.56941e+01, 106.986  ),\n       (1., 0.00373226, -5.02993e+02,  7.22689e+02, -3.17012e+01,  167.138   ,  5.91574e+01,  90.3624 ),\n       (1., 0.00373226, -2.05357e+02,  8.00883e+02, -2.47549e+02,  -57.4454  ,  3.28561e+01, 198.357  ),\n       (1., 0.00373226,  4.93775e+02,  4.61806e+02, -9.94591e+02,   33.739   ,  1.00293e+02, 152.122  ),\n       (1., 0.00373226,  6.42640e+02,  8.56031e+02, -5.65840e+02,   28.6697  ,  9.35691e+01, 147.72   ),\n       (1., 0.00373226, -6.79918e+02,  7.97666e+02, -2.91291e+02,   79.3349  ,  6.89986e+01, 158.505  ),\n       (1., 0.00373226, -5.76056e+02,  1.30896e+03,  4.12482e+02,   49.9847  ,  8.50284e+01, 128.202  ),\n       (1., 0.00373226, -4.34362e+02,  1.26056e+03, -3.28943e+02,   50.3552  ,  7.01324e+01, 148.329  ),\n       (1., 0.00373226, -4.72070e+02,  2.21272e+02, -1.37227e+02,   78.5208  ,  1.51494e+02, 183.119  ),\n       (1., 0.00373226, -3.82170e+03,  1.22647e+03,  3.67694e+02,   44.8778  ,  1.00869e+02, 138.6    ),\n       (1., 0.00373226, -7.40163e+02,  5.84771e+02, -7.12246e+02,   62.7623  ,  9.94097e+01, 163.068  ),\n       (1., 0.00373226, -7.14758e+02,  1.09576e+03, -4.32880e+02,   73.9957  ,  8.15030e+01, 161.622  ),\n       (1., 0.00373226,  1.24806e+03, -1.37310e+03,  1.87963e+03,   41.5997  ,  1.03092e+02, 136.747  ),\n       (1., 0.00373226,  5.86228e+01,  5.54773e+02, -4.07286e+02,   -0.219297,  9.27650e+01, 183.332  ),\n       (1., 0.00373226, -3.73980e+02,  8.12743e+02, -3.90246e+02,   33.6239  ,  4.45356e+01, 229.804  ),\n       (1., 0.00373226, -5.53601e+02,  7.27609e+02, -4.64485e+02,  106.311   ,  8.50208e+01, 212.719  ),\n       (1., 0.00373226, -9.66654e+02,  7.24752e+02, -4.38447e+02,   69.6021  ,  9.48811e+01, 150.829  ),\n       (1., 0.00373226, -6.84537e+02,  1.21861e+03, -4.09064e+02,   84.9121  ,  9.78944e+01, 156.876  ),\n       (1., 0.00373226, -4.88581e+02,  7.69263e+02, -3.23685e+02,   70.4009  ,  4.65938e+01, 206.839  ),\n       (1., 0.00373226,  5.40829e+02, -1.21596e+03, -5.00326e+02,   39.9897  ,  1.08568e+02, 141.371  ),\n       (1., 0.00373226,  3.04362e+01,  6.39506e+02, -4.24863e+02,   -2.94799 ,  7.61670e+01, 208.934  ),\n       (1., 0.00373226, -1.00362e+03,  7.10507e+02, -1.80598e+02,   73.6916  ,  9.47528e+01, 141.274  ),\n       (1., 0.00373226, -5.72096e+02,  6.53773e+02, -5.20250e+02,  108.211   ,  9.43359e+01, 199.813  ),\n       (1., 0.00373226, -8.00063e+02,  1.20302e+03,  6.10853e+02,   51.2844  ,  9.12905e+01, 128.861  ),\n       (1., 0.00373226,  1.98168e+02,  4.30401e+02, -1.72418e+02,   -8.81475 ,  8.43383e+01, 163.141  ),\n       (1., 0.00373226, -1.43142e+01, -9.63442e+02,  3.39121e+02,   42.6276  ,  1.15334e+02, 135.153  ),\n       (1., 0.00373226,  2.25128e+03,  1.29553e+02, -6.23741e+00,   38.6273  ,  1.01606e+02, 138.808  ),\n       (1., 0.00373226,  8.78676e+02, -1.09866e+03, -3.09377e+03,   42.4779  ,  1.02129e+02, 140.612  ),\n       (1., 0.00373226, -1.67725e+02,  9.69028e+02, -1.95268e+02,   44.3783  ,  2.74727e+01, 118.073  ),\n       (1., 0.00373226, -2.77349e+02,  1.22532e+03, -1.87640e+02,   43.1481  ,  6.13376e+01, 142.929  ),\n       (1., 0.00373226, -3.16126e+02,  7.52670e+02, -4.22378e+01,   76.1581  ,  1.63095e+01,   8.40958),\n       (1., 0.00373226, -9.87003e+02,  4.60523e+02,  6.04228e+01,   72.8288  ,  1.03102e+02, 132.35   ),\n       (1., 0.00373226, -4.05523e+01,  4.38375e+02, -4.45347e+02,   10.0177  ,  1.09516e+02, 196.781  ),\n       (1., 0.00373226, -3.92910e+02,  8.13805e+02, -4.52409e+02,  103.891   ,  7.95498e+01, 187.222  ),\n       (1., 0.00373226, -1.31335e+03, -1.66821e+02, -4.53613e+02,   53.9374  ,  1.06833e+02, 142.541  ),\n       (1., 0.00373226, -2.10972e+02,  6.16959e+02, -4.83566e+02,   34.2304  ,  1.31098e+02, 217.538  ),\n       (1., 0.00373226,  7.03791e+02,  1.37918e+03, -1.04568e+03,   38.0988  ,  9.60957e+01, 144.214  ),\n       (1., 0.00373226, -3.32637e+02,  7.02039e+02,  6.00574e+01,   31.7106  ,  5.15012e+01,   4.14698),\n       (1., 0.00373226, -5.90894e+02,  1.54419e+03,  4.26168e+02,   47.4759  ,  8.85684e+01, 132.416  ),\n       (1., 0.00373226, -9.49066e+01,  5.15043e+02,  2.30204e+02,   30.9377  ,  7.32669e+01,  81.7789 ),\n       (1., 0.00373226, -3.05889e+03,  8.58167e+02,  2.11307e+03,   44.6488  ,  1.01018e+02, 137.638  ),\n       (1., 0.00373226, -5.47474e+01,  1.50688e+03,  3.16475e+02,   40.2951  ,  8.51360e+01, 132.273  ),\n       (1., 0.00373226, -6.89847e+02,  7.04083e+02,  1.74031e+01,   88.999   ,  9.05724e+01, 118.723  ),\n       (1., 0.00373226, -8.77310e+02,  4.93803e+02,  9.09012e+02,   52.2253  ,  1.00066e+02, 126.605  ),\n       (1., 0.00373226, -1.00362e+03,  7.10507e+02, -1.80598e+02,   73.6916  ,  9.47528e+01, 141.274  ),\n       (1., 0.00373226, -9.86179e+02,  1.01400e+03, -6.78845e+02,   56.5752  ,  9.25519e+01, 149.252  ),\n       (1., 0.00373226,  1.53428e+03,  1.65093e+03,  1.08291e+03,   39.9794  ,  9.88944e+01, 136.75   ),\n       (1., 0.00373226, -4.27329e+02,  3.70175e+02,  9.28070e+01,  104.581   ,  1.11966e+02, 125.043  ),\n       (1., 0.00373226,  5.86228e+01,  5.54773e+02, -4.07286e+02,   -0.219297,  9.27650e+01, 183.332  ),\n       (1., 0.00373226, -3.43540e+02,  2.06157e+02,  9.47698e+02,   48.4788  ,  1.02963e+02, 118.603  ),\n       (1., 0.00373226, -1.35945e+03,  3.86362e+02,  1.38492e+02,   58.517   ,  1.02311e+02, 135.874  ),\n       (1., 0.00373226, -5.94244e+02,  7.15785e+02, -2.09118e+02,  128.18    ,  8.15061e+01, 141.009  ),\n       (1., 0.00373226, -6.43713e+02,  6.77963e+02, -8.31405e+01,  140.316   ,  9.67182e+01, 146.283  ),\n       (1., 0.00373226, -4.51193e+02,  1.42322e+03,  1.34935e+02,   47.9088  ,  7.96416e+01, 132.791  ),\n       (1., 0.00373226, -9.66897e+01,  7.35378e+02, -5.77842e+02,   23.4436  ,  6.63950e+01, 165.854  ),\n       (1., 0.00373226, -4.65956e+03,  1.20751e+03, -1.66875e+03,   44.1331  ,  1.01084e+02, 139.188  ),\n       (1., 0.00373226, -6.01776e+02,  5.48977e+02, -1.34007e+02,  122.357   ,  9.90089e+01, 109.25   ),\n       (1., 0.00373226, -4.67252e+02,  3.60832e+02,  2.38888e+02,  101.923   ,  1.01313e+02, 107.073  ),\n       (1., 0.00373226, -5.56652e+02,  3.09712e+02,  1.23242e+02,  111.941   ,  7.47073e+01, 116.082  ),\n       (1., 0.00373226, -2.65405e+02,  1.03795e+03,  2.99844e+02,   43.887   ,  7.05509e+01, 112.896  ),\n       (1., 0.00373226, -5.96353e+02,  8.85621e+02, -3.45336e+02,   50.8391  ,  4.94662e+01, 141.746  ),\n       (1., 0.00373226, -9.24015e+02,  1.39158e+02, -9.17047e+02,   53.3825  ,  1.05843e+02, 150.831  ),\n       (1., 0.00373226, -5.80158e+02,  7.00787e+02, -8.68632e+01,  110.783   ,  2.80623e+01, 121.932  ),\n       (1., 0.00373226, -4.89745e+02,  1.28374e+03, -9.42091e+01,   61.0872  ,  6.56376e+01, 115.175  ),\n       (1., 0.00373226, -5.00498e+01,  4.26857e+02,  1.52595e+03,   42.689   ,  1.00555e+02, 128.978  ),\n       (1., 0.00373226, -7.72821e+02,  5.15215e+02, -4.28913e+02,   72.1723  ,  1.01009e+02, 142.018  ),\n       (1., 0.00373226, -1.92521e+02,  1.03320e+03,  3.60293e+01,   30.3295  ,  5.55297e+01, 109.249  ),\n       (1., 0.00373226, -1.64095e+01,  5.41251e+02, -1.16043e+02,  -37.0185  ,  9.16317e+01, 173.147  ),\n       (1., 0.00373226, -5.35938e+02,  5.70597e+02, -4.31418e+02,  106.095   ,  1.30123e+02, 219.283  ),\n       (1., 0.00373226, -3.28177e+02,  2.24871e+02, -1.06859e+03,   45.543   ,  1.05523e+02, 158.058  ),\n       (1., 0.00373226, -1.45757e+03,  1.25650e+02,  5.70666e+01,   55.7769  ,  1.04335e+02, 137.543  ),\n       (1., 0.00373226, -7.97010e+02,  8.13817e+02, -5.50448e+02,   68.2568  ,  8.94696e+01, 159.112  ),\n       (1., 0.00373226, -3.49107e+02,  1.66136e+02,  1.11361e+02,  102.556   ,  1.23669e+02, 113.802  ),\n       (1., 0.00373226,  1.78320e+02,  6.76900e+02, -5.68618e+01,   -5.49465 ,  7.28868e+01, 136.683  ),\n       (1., 0.00373226, -7.27004e+02, -9.03418e+01,  1.46952e+02,   68.0547  ,  1.18042e+02, 131.887  ),\n       (1., 0.00373226, -5.29189e+02,  7.75858e+02, -3.08084e+02,   85.7261  ,  1.15757e+01, 184.356  ),\n       (1., 0.00373226, -7.36773e+02,  7.56753e+02, -8.68241e+01,   60.3978  ,  8.04512e+01, 155.008  ),\n       (1., 0.00373226, -3.21398e+01,  3.86788e+02, -3.72387e+02,    5.05085 ,  1.15249e+02, 196.61   ),\n       (1., 0.00373226, -4.42951e+02,  3.48476e+02,  2.86556e+02,   79.8398  ,  1.20285e+02, 114.918  ),\n       (1., 0.00373226, -3.00668e+02,  2.63384e+02,  8.44352e+01,   56.9841  ,  1.10528e+02, 110.945  ),\n       (1., 0.00373226, -1.43187e+02,  5.14506e+02, -5.51085e+02,   33.3033  ,  1.22054e+02, 195.611  ),\n       (1., 0.00373226, -5.00704e+02,  1.08652e+03,  1.11194e+03,   45.8665  ,  9.55195e+01, 128.671  ),\n       (1., 0.00373226, -1.41015e+03,  6.57815e+02, -1.28680e+02,   58.2309  ,  9.92691e+01, 139.23   ),\n       (1., 0.00373226, -4.47496e+02,  7.63835e+02, -2.24548e+02,  173.446   ,  7.01448e+01, 160.307  ),\n       (1., 0.00373226, -5.12269e+01,  5.24248e+02, -8.08104e+02,   35.061   ,  9.95675e+01, 170.698  ),\n       (1., 0.00373226, -9.39092e+02,  5.05220e+02, -6.94638e+02,   61.4133  ,  1.01697e+02, 154.215  ),\n       (1., 0.00373226,  3.79018e+02,  7.52234e+02, -1.42447e+03,   39.1839  ,  9.90754e+01, 148.096  ),\n       (1., 0.00373226, -5.68282e+02,  5.68148e+02, -3.41908e+02,  129.993   ,  9.16326e+01, 178.676  ),\n       (1., 0.00373226, -1.88407e+02,  6.15735e+02,  8.32140e+02,   44.5487  ,  9.42110e+01, 115.969  ),\n       (1., 0.00373226, -1.11038e+03, -2.37935e+02,  1.27881e+03,   47.6803  ,  1.03937e+02, 132.758  ),\n       (1., 0.00373226, -7.18902e+02, -1.85060e+02, -5.53048e+02,   56.4766  ,  1.14770e+02, 150.889  ),\n       (1., 0.00373226,  9.81683e+02, -3.41304e+02,  1.36239e+03,   38.8566  ,  1.03636e+02, 133.478  ),\n       (1., 0.00373226, -2.53800e+02,  7.67414e+02, -6.66813e+01,   53.097   , -5.54619e+01, 121.94   ),\n       (1., 0.00373226, -2.35532e+01,  8.23664e+02,  2.94388e+02,   26.4037  ,  7.22197e+01, 105.997  ),\n       (1., 0.00373226, -1.30665e+02, -4.67579e+02, -1.19286e+03,   43.0557  ,  1.07786e+02, 148.266  ),\n       (1., 0.00373226, -4.70494e+02,  8.75373e+02, -5.26109e+01,   68.3117  ,  3.55716e+01,  97.0911 ),\n       (1., 0.00373226, -3.01261e+01,  5.32089e+02,  1.37241e+02,    7.90971 ,  6.73831e+01,  91.758  ),\n       (1., 0.00373226, -5.67136e+02,  4.12369e+02, -3.46572e+02,   74.0521  ,  8.35508e+01, 195.555  ),\n       (1., 0.00373226, -3.85389e+02,  6.75929e+02, -4.61538e+02,   99.5812  ,  6.78355e+01, 199.446  ),\n       (1., 0.00373226, -4.29603e+02,  7.22602e+02, -7.35623e+02,   64.2127  ,  9.91154e+01, 170.896  ),\n       (1., 0.00373226, -4.74975e+02,  4.18536e+02,  3.73848e+02,   80.2033  ,  8.58624e+01,  93.6089 ),\n       (1., 0.00373226, -8.18786e+02,  8.26583e+02, -3.96531e+02,   52.0256  ,  7.75449e+01, 114.139  ),\n       (1., 0.00373226, -4.45326e+02,  6.53323e+02, -4.89277e+02,   34.6799  ,  3.70965e+01, 204.453  ),\n       (1., 0.00373226,  1.03193e+03, -7.19754e+01, -1.09408e+03,   36.7251  ,  1.03422e+02, 144.744  ),\n       (1., 0.00373226, -5.97167e+02,  5.49398e+02, -4.43888e+02,   55.2803  ,  9.35674e+01, 218.004  ),\n       (1., 0.00373226, -1.71270e+02,  1.10274e+03, -5.23775e+02,   37.2977  ,  7.18651e+01, 160.984  ),\n       (1., 0.00373226, -4.01871e+02,  8.48158e+02, -1.46606e+02,   72.9565  , -2.85774e+01, 123.57   ),\n       (1., 0.00373226, -4.67445e+01,  7.58614e+02, -6.58643e+02,   51.6155  ,  9.73534e+01, 175.566  ),\n       (1., 0.00373226, -6.28818e+02,  3.54962e+02,  2.57238e+01,   82.7733  ,  8.62298e+01, 125.402  ),\n       (1., 0.00373226, -5.58539e+02,  1.42168e+03,  8.59434e+01,   50.2403  ,  8.05513e+01, 134.103  ),\n       (1., 0.00373226, -5.22596e+02,  7.71830e+02, -1.68119e+02,  114.957   ,  2.86261e+01, 117.12   ),\n       (1., 0.00373226, -5.48657e+02,  6.67684e+02, -3.12453e+02,  124.529   ,  6.79430e+01, 210.7    ),\n       (1., 0.00373226,  6.87698e+02,  1.97973e+02,  5.00508e+02,   21.7694  ,  1.01477e+02, 125.628  ),\n       (1., 0.00373226, -6.37609e+02,  5.51044e+02, -1.04683e+02,   84.1269  ,  8.27880e+01, 125.724  ),\n       (1., 0.00373226, -2.28063e+02,  6.67233e+02,  1.93092e+02,   87.0628  ,  7.07684e+01,  89.9263 ),\n       (1., 0.00373226,  1.34711e+02,  4.02279e+02, -5.71603e+02,   20.5967  ,  1.02309e+02, 173.937  ),\n       (1., 0.00373226, -4.19091e+03,  9.26262e+02,  2.31411e+02,   44.6579  ,  1.01067e+02, 138.696  ),\n       (1., 0.00373226, -2.19722e+02,  7.99675e+02, -1.42243e+02,    2.86312 , -1.15173e+01, 227.685  ),\n       (1., 0.00373226, -1.62190e+02,  1.66010e+02, -3.67202e+02,   60.296   ,  1.39993e+02, 209.87   ),\n       (1., 0.00373226, -9.16699e+02,  7.38924e+02, -1.16076e+03,   50.2215  ,  9.87689e+01, 149.905  ),\n       (1., 0.00373226, -6.94673e+02,  7.54846e+02, -1.99286e+02,   71.7832  ,  4.57543e+01, 151.236  ),\n       (1., 0.00373226, -2.77223e+02,  7.07092e+02,  2.34843e+02,   76.5374  ,  8.37800e+01,  67.9778 ),\n       (1., 0.00373226, -5.77362e+02,  8.65938e+02, -2.14291e+02,   79.2181  ,  3.40090e+01, 135.602  ),\n       (1., 0.00373226, -4.37543e-01,  9.12097e+01,  7.08345e+01,  215.05    , -4.39720e+01, 157.697  ),\n       (1., 0.00373226, -6.73710e+02,  7.13677e+02, -1.99740e+02,  100.52    ,  6.37072e+01, 144.949  ),\n       (1., 0.00373226, -2.52194e+02,  1.14335e+02,  1.58915e+02,  120.253   ,  1.20337e+02,  99.7071 ),\n       (1., 0.00373226, -6.89516e+01,  1.58539e+03, -3.80829e+02,   40.2749  ,  8.48160e+01, 143.142  ),\n       (1., 0.00373226, -9.43308e+02,  6.14932e+02,  4.54417e+01,   76.4324  ,  9.76005e+01, 131.103  ),\n       (1., 0.00373226, -7.14758e+02,  1.09576e+03, -4.32880e+02,   73.9957  ,  8.15030e+01, 161.622  ),\n       (1., 0.00373226, -4.20981e+02,  1.49043e+03, -4.51120e+02,   46.2456  ,  8.28059e+01, 145.484  ),\n       (1., 0.00373226, -3.76113e+02,  8.42905e+02, -4.21010e+02,   49.3114  ,  6.86849e+01, 177.807  ),\n       (1., 0.00373226,  1.95200e+02,  2.99815e+03,  8.05470e+02,   42.6085  ,  9.80713e+01, 137.732  ),\n       (1., 0.00373226, -3.90611e+02,  7.64650e+02,  1.74651e+02,   67.9092  ,  9.89997e+01,  84.7221 ),\n       (1., 0.00373226, -6.22879e+02,  4.16429e+02, -1.63055e+02,  121.378   ,  1.37500e+02,  91.592  ),\n       (1., 0.00373226, -7.51944e+02,  7.27716e+02, -3.60394e+02,   79.3784  ,  9.95447e+01, 136.707  ),\n       (1., 0.00373226, -5.20089e+02,  6.88953e+02,  9.83507e+00,  148.244   ,  1.11495e+02, 118.399  ),\n       (1., 0.00373226, -4.97787e+02,  7.52208e+02, -2.50854e+02,  149.805   ,  1.85711e+01, 143.381  ),\n       (1., 0.00373226, -3.36969e+02,  7.60134e+02, -6.36272e+01,  117.083   , -5.07218e+01, 128.651  ),\n       (1., 0.00373226,  1.48137e+01,  7.18974e+01,  6.13101e+01, -162.354   , -2.12057e+01, 262.729  ),\n       (1., 0.00373226, -6.70570e+02,  4.60831e+02,  1.91565e+01,   95.8484  ,  9.36625e+01, 138.207  ),\n       (1., 0.00373226, -6.32837e+01, -2.44688e+02, -1.16126e+03,   42.2     ,  1.07691e+02, 150.936  ),\n       (1., 0.00373226, -1.22677e+03,  9.04210e+02,  3.90764e+02,   56.1682  ,  9.59522e+01, 132.542  ),\n       (1., 0.00373226, -5.24635e+02,  6.15386e+02, -3.84722e+02,  136.019   ,  8.67466e+01, 186.848  ),\n       (1., 0.00373226, -3.01052e+02,  8.43765e+02, -1.56855e+02,   83.2121  , -1.21806e+01, 153.223  ),\n       (1., 0.00373226, -4.33505e+02,  5.92586e+02, -6.40304e+02,   47.7875  ,  1.05771e+02, 189.027  ),\n       (1., 0.00373226,  1.78017e+02,  4.91093e+02,  6.61567e+02,   31.8276  ,  9.12633e+01, 110.558  ),\n       (1., 0.00373226, -3.76040e+02,  1.13783e+03,  1.54544e+02,   49.9842  ,  6.51139e+01, 121.224  ),\n       (1., 0.00373226, -1.03924e+03,  1.13365e+03, -6.72381e+02,   54.4574  ,  9.26679e+01, 146.915  ),\n       (1., 0.00373226, -2.63494e+02,  7.60414e+02, -5.72652e+01,   19.9077  ,  1.71421e+01,   6.24522),\n       (1., 0.00373226, -3.25820e+02, -4.38753e+02,  8.91628e+02,   46.9957  ,  1.11140e+02, 126.057  ),\n       (1., 0.00373226, -7.06380e+02,  6.51267e+02, -1.32714e+02,  109.588   ,  1.25776e+02, 138.726  ),\n       (1., 0.00373226, -2.76607e+02,  3.25276e+02, -4.53262e+02,   45.5856  ,  9.91079e+01, 189.99   ),\n       (1., 0.00373226, -6.29323e+02,  1.58123e+02, -1.36861e+02,   83.7224  ,  1.27717e+02, 143.812  ),\n       (1., 0.00373226, -4.15711e+02,  8.38569e+02, -2.40276e+02,   54.1338  ,  1.01272e+01, 209.878  ),\n       (1., 0.00373226,  6.65608e+02,  8.98276e+02, -7.94040e+02,   32.7163  ,  9.54692e+01, 147.756  ),\n       (1., 0.00373226, -7.00705e+02,  5.55105e+02,  7.18815e+01,   81.1992  ,  8.48145e+01, 115.075  ),\n       (1., 0.00373226, -3.75064e+02,  1.24693e+03, -2.69451e+02,   48.2518  ,  6.60753e+01, 146.664  ),\n       (1., 0.00373226, -1.28535e+03,  1.65268e+03,  1.62359e+03,   45.203   ,  9.89081e+01, 135.586  ),\n       (1., 0.00373226, -4.95845e+02,  9.58391e+02,  2.79952e+02,   59.9044  ,  7.32446e+01, 110.473  ),\n       (1., 0.00373226, -6.49469e+02,  5.08253e+02, -1.25378e+02,   94.7995  ,  9.24120e+01, 132.527  ),\n       (1., 0.00373226, -7.68985e+02,  7.13105e+02, -2.01377e+02,   78.7954  ,  7.13123e+01, 119.993  ),\n       (1., 0.00373226, -8.00146e+02,  9.83983e+02, -6.64233e+02,   58.4455  ,  8.88939e+01, 154.537  ),\n       (1., 0.00373226, -3.58525e+02,  7.32377e+02,  6.00699e+02,   50.2378  ,  8.91812e+01, 110.749  ),\n       (1., 0.00373226, -5.78354e+02,  4.10440e+02, -6.29886e+01,  145.298   ,  1.32975e+02, 153.843  ),\n       (1., 0.00373226,  2.70468e+02,  8.20547e+02,  9.04106e+02,   36.8842  ,  9.38743e+01, 124.62   ),\n       (1., 0.00373226, -6.38006e+02,  2.06904e+02, -5.17052e+01,   87.2842  ,  1.25960e+02, 135.333  ),\n       (1., 0.00373226, -6.38156e+02,  7.06012e+02, -2.28013e+02,  118.947   ,  1.04735e+02, 122.512  ),\n       (1., 0.00373226, -7.29101e+02,  7.12963e+02, -3.44853e+02,   88.9826  ,  8.10966e+01, 137.225  ),\n       (1., 0.00373226, -6.07439e+01,  3.58958e+02,  5.11937e+01,   27.5886  ,  5.48409e+01, 106.366  ),\n       (1., 0.00373226, -2.56254e+02,  1.16557e+02,  8.17169e+00,  121.842   ,  1.29762e+02, 144.531  ),\n       (1., 0.00373226, -2.24505e+02,  7.84662e+02, -5.08421e+02,   26.9212  ,  4.56908e+01, 174.503  ),\n       (1., 0.00373226, -4.60734e+02,  8.53855e+02, -2.84732e+02,  133.605   ,  7.78956e+01, 201.849  ),\n       (1., 0.00373226, -2.76299e+02,  5.40514e+02,  3.44444e+02,   55.0745  ,  8.78197e+01,  85.9344 ),\n       (1., 0.00373226, -6.10507e+02,  8.32499e+02, -2.12624e+02,   92.311   ,  3.51760e+01, 188.151  ),\n       (1., 0.00373226,  6.88338e+01,  8.06352e+02, -7.38407e+01,   16.3956  ,  6.22022e+01, 126.437  ),\n       (1., 0.00373226, -4.81667e+02,  7.53901e+02, -3.61222e+02,  135.304   ,  8.23813e+01, 138.174  ),\n       (1., 0.00373226,  3.36620e+03,  4.76685e+02, -1.54442e+03,   41.4335  ,  1.01211e+02, 139.524  ),\n       (1., 0.00373226, -1.06615e+03,  4.40843e+02, -3.95898e+02,   66.8271  ,  1.03428e+02, 147.105  ),\n       (1., 0.00373226, -2.95713e+02,  7.84976e+02, -2.96580e+02,   32.0802  , -8.97895e+00, 180.042  ),\n       (1., 0.00373226, -6.21653e+02, -2.85192e+02,  6.52651e+02,   54.053   ,  1.12284e+02, 125.848  ),\n       (1., 0.00373226, -2.13440e+02,  1.23521e+03, -1.62023e+01,   38.1736  ,  8.70570e+01, 103.929  ),\n       (1., 0.00373226,  7.26115e+02, -5.02378e+01, -4.72239e+02,   26.2147  ,  1.07446e+02, 149.051  ),\n       (1., 0.00373226, -4.30108e+02,  7.65799e+02,  5.99407e-02,   81.138   ,  4.76849e+01,  62.8179 ),\n       (1., 0.00373226, -5.96992e+02,  4.90510e+02,  2.05556e+02,   85.2108  ,  1.27347e+02, 102.974  ),\n       (1., 0.00373226, -9.65996e+02,  9.16624e+02, -1.04673e+03,   51.091   ,  9.68217e+01, 149.242  ),\n       (1., 0.00373226, -9.87839e+01, -6.21188e+02,  2.75226e+03,   43.0647  ,  1.02233e+02, 135.963  ),\n       (1., 0.00373226, -4.61053e+02,  9.61640e+02, -4.29032e+02,   49.8247  ,  4.86728e+01, 186.61   ),\n       (1., 0.00373226,  1.57254e+02,  1.28182e+03,  7.88214e+02,   39.2163  ,  9.15098e+01, 129.182  ),\n       (1., 0.00373226,  1.35072e+03, -1.15356e+03, -5.04062e+02,   39.2343  ,  1.05070e+02, 140.172  ),\n       (1., 0.00373226, -7.08952e+02,  1.47488e+03,  2.49836e+02,   50.3308  ,  8.66774e+01, 133.347  ),\n       (1., 0.00373226, -8.92633e+02, -4.16630e+01, -6.38638e+02,   56.8956  ,  1.10444e+02, 149.897  ),\n       (1., 0.00373226, -5.90823e+02,  5.13786e+02,  4.28160e+02,   66.5311  ,  9.79827e+01, 108.679  ),\n       (1., 0.00373226, -1.49817e+03,  2.30051e+03,  2.70771e+02,   45.8212  ,  9.73694e+01, 138.06   ),\n       (1., 0.00373226, -3.02674e+02,  1.25174e+03, -1.64672e+02,   44.4498  ,  6.37141e+01, 141.277  ),\n       (1., 0.00373226,  1.04808e+02,  5.61286e+02, -1.27793e+02,  -20.0933  ,  7.79048e+01, 149.755  ),\n       (1., 0.00373226, -2.31223e+02,  7.54024e+02, -4.93355e+02,   23.838   ,  6.55904e+01, 198.584  ),\n       (1., 0.00373226, -5.93375e+02,  3.50479e+02, -7.50445e+02,   58.2083  ,  1.07881e+02, 166.299  ),\n       (1., 0.00373226,  2.29449e+03,  1.61162e+02, -1.26832e+03,   40.0438  ,  1.01494e+02, 140.37   ),\n       (1., 0.00373226,  2.07202e+03,  3.23606e+02,  1.58829e+02,   37.9323  ,  1.01235e+02, 138.424  ),\n       (1., 0.00373226, -5.23097e+02,  2.20655e+02,  3.50210e+01,  105.01    ,  1.04410e+02,  98.2173 ),\n       (1., 0.00373226, -7.93903e+02,  7.93721e+02, -4.55034e+02,   62.0509  ,  1.12545e+02, 188.051  ),\n       (1., 0.00373226, -4.01721e+02,  7.88213e+02, -6.22249e+01,   68.9611  ,  1.34248e+01,  31.9536 ),\n       (1., 0.00373226, -9.08507e+02,  5.67062e+02, -6.28951e+01,   79.7872  ,  5.73593e+01, 142.137  ),\n       (1., 0.00373226, -2.75350e+02,  7.79158e+02, -8.17948e+01,   71.1156  , -7.19647e+01, 194.885  ),\n       (1., 0.00373226, -6.07088e+02,  6.33954e+02, -5.28328e+02,   47.424   ,  1.11039e+02, 185.593  ),\n       (1., 0.00373226, -6.29147e+02,  9.64920e+02, -1.35900e+03,   46.3146  ,  9.74323e+01, 149.123  ),\n       (1., 0.00373226, -3.78429e+02, -4.79622e+02,  1.48021e+03,   44.4983  ,  1.05035e+02, 131.499  ),\n       (1., 0.00373226, -4.22767e+02, -3.01961e+02, -1.07762e+03,   46.0813  ,  1.08710e+02, 150.321  ),\n       (1., 0.00373226, -5.07719e+02,  1.20784e+03, -3.80838e+02,   54.1739  ,  7.11930e+01, 151.138  ),\n       (1., 0.00373226, -6.74535e+02,  3.02377e+02, -5.89495e+02,   66.7504  ,  1.12450e+02, 164.921  ),\n       (1., 0.00373226, -4.10208e+02,  6.06736e+02,  3.60952e+02,   87.7447  ,  1.14978e+02, 123.03   ),\n       (1., 0.00373226, -3.52328e+02,  6.82742e+02, -5.51455e+02,   72.5362  ,  5.58782e+01, 184.837  ),\n       (1., 0.00373226, -5.46257e+02,  6.87488e+02, -1.58700e+02,  113.914   ,  7.60044e+01, 187.63   ),\n       (1., 0.00373226, -4.78464e+02,  6.94563e+02,  1.45145e+02,  109.768   ,  7.97254e+01, 117.403  ),\n       (1., 0.00373226, -7.14812e+02,  7.82833e+02, -2.18212e+02,   95.9234  ,  7.94842e+01, 190.625  ),\n       (1., 0.00373226, -5.66691e+02,  6.56245e+02, -1.35190e+02,  135.358   ,  7.89213e+01, 105.684  ),\n       (1., 0.00373226, -7.93647e+02,  2.59029e+02, -4.84571e+02,   69.666   ,  1.12653e+02, 156.766  ),\n       (1., 0.00373226, -5.20275e+02,  1.90600e+02, -5.55479e+02,   63.2217  ,  1.20164e+02, 169.516  ),\n       (1., 0.00373226, -5.64169e+02,  4.77582e+02, -3.89073e+01,   98.3808  ,  1.03166e+02, 106.481  ),\n       (1., 0.00373226, -1.13541e+03,  4.52134e+02,  3.82924e+02,   60.2488  ,  1.01562e+02, 130.29   ),\n       (1., 0.00373226, -8.21490e+02,  4.13980e+02, -3.06077e+02,  102.473   ,  7.12855e+01, 150.125  ),\n       (1., 0.00373226, -3.13169e+01,  8.78866e+02, -5.38269e+02,   37.3608  ,  7.65270e+01, 151.876  ),\n       (1., 0.00373226, -6.14370e+02,  8.37010e+02,  1.19530e+02,  100.536   ,  7.38459e+01, 102.738  ),\n       (1., 0.00373226, -1.49817e+03,  2.30051e+03,  2.70771e+02,   45.8212  ,  9.73694e+01, 138.06   ),\n       (1., 0.00373226, -3.72874e+02,  1.22006e+02, -9.82083e+02,   46.9718  ,  1.07985e+02, 158.692  ),\n       (1., 0.00373226, -3.84994e+01, -1.61952e+02, -1.59635e+02,   48.9268  ,  1.67960e+02, 188.43   ),\n       (1., 0.00373226,  9.97067e+02,  1.45133e+02,  2.43399e+02,   25.9001  ,  1.02685e+02, 135.369  ),\n       (1., 0.00373226, -6.53794e+02,  6.72860e+02,  1.15278e+01,   91.9747  ,  1.31033e+02, 126.464  ),\n       (1., 0.00373226, -6.24473e+02,  5.49402e+02, -4.36674e+02,   86.4155  ,  7.87407e+01, 177.534  ),\n       (1., 0.00373226,  1.57292e+02,  1.32170e+03,  2.16241e+02,   34.3829  ,  8.24039e+01, 131.883  ),\n       (1., 0.00373226, -5.82442e+02,  2.84623e+02, -5.72025e+02,   46.3039  ,  9.41373e+01, 185.518  ),\n       (1., 0.00373226,  6.26807e+02,  2.22609e+03, -3.90015e+02,   40.486   ,  9.57012e+01, 139.818  ),\n       (1., 0.00373226,  1.78017e+02,  4.91093e+02,  6.61567e+02,   31.8276  ,  9.12633e+01, 110.558  ),\n       (1., 0.00373226, -9.56603e+02,  1.11496e+03, -4.80376e+02,   58.5867  ,  8.87496e+01, 146.912  ),\n       (1., 0.00373226, -3.64106e+02,  8.69818e+02, -3.50548e+02,   38.5252  ,  3.04309e+01, 197.14   ),\n       (1., 0.00373226,  6.57192e+02,  7.56018e+02,  1.46890e+02,   22.5928  ,  9.03762e+01, 134.556  ),\n       (1., 0.00373226,  2.30968e+02,  5.21025e+02,  3.55483e+01,   -5.35644 ,  7.24004e+01, 132.936  ),\n       (1., 0.00373226, -4.14479e+02,  3.97751e+02, -8.56757e+02,   50.0556  ,  1.05079e+02, 167.937  ),\n       (1., 0.00373226, -9.21973e+01,  7.30252e+02, -6.06767e+01,  -41.5654  ,  6.85705e+01, 125.764  ),\n       (1., 0.00373226, -4.31378e+02,  7.76334e+02, -8.04094e+01,  122.768   ,  2.00121e+01, 106.931  ),\n       (1., 0.00373226, -1.26658e+02,  9.39458e+02, -3.78498e+02,  -11.8937  ,  4.66076e+01, 137.099  ),\n       (1., 0.00373226, -8.63288e+02,  3.92929e+02, -1.78595e+02,   43.161   ,  1.15062e+02, 121.432  ),\n       (1., 0.00373226, -5.63985e+02, -2.10326e+02, -4.55206e+02,   57.7385  ,  1.19899e+02, 153.189  ),\n       (1., 0.00373226, -1.57445e+02,  8.92367e+02, -3.79286e+02,   16.4509  ,  5.63313e+01, 196.242  ),\n       (1., 0.00373226,  3.85917e+02,  3.99789e+02, -2.50432e+03,   42.1873  ,  1.01265e+02, 142.736  ),\n       (1., 0.00373226, -1.93715e+03, -6.60212e+02, -2.57717e+02,   48.0467  ,  1.04171e+02, 139.396  ),\n       (1., 0.00373226, -1.07633e+03,  8.65552e+02, -1.25661e+03,   49.025   ,  9.86625e+01, 146.958  ),\n       (1., 0.00373226, -4.23057e+02,  1.64222e+03,  1.79883e+03,   43.6595  ,  9.85089e+01, 134.679  ),\n       (1., 0.00373226,  6.86414e+02,  1.50259e+03, -7.32642e+02,   37.2493  ,  9.43477e+01, 143.167  ),\n       (1., 0.00373226, -4.06772e+02,  2.94443e+02, -4.88874e+02,   51.5655  ,  1.43054e+02, 156.642  ),\n       (1., 0.00373226, -2.14795e+02,  1.09013e+03, -3.90901e+02,   37.6063  ,  5.97033e+01, 160.87   ),\n       (1., 0.00373226, -2.24241e+02,  6.31953e+02, -4.83431e+02,   26.1655  ,  9.03545e+01, 227.163  ),\n       (1., 0.00373226, -5.18365e+02,  6.23468e+02, -3.88828e+02,  120.778   ,  9.29855e+01, 214.589  ),\n       (1., 0.00373226,  1.24669e+03, -6.74408e+02, -2.50627e+02,   36.0645  ,  1.06163e+02, 140.235  ),\n       (1., 0.00373226, -1.51814e+02,  5.76627e+02,  2.14340e+02,   31.9534  ,  7.70416e+01,  75.1532 ),\n       (1., 0.00373226, -8.50308e+02,  7.55089e+02, -2.07792e+02,   98.4853  ,  1.09342e+02, 141.94   ),\n       (1., 0.00373226, -2.95370e+02,  1.14470e+03,  1.89226e+02,   44.9132  ,  6.68356e+01, 120.671  ),\n       (1., 0.00373226,  3.24500e+02,  5.08541e+02, -7.74168e+01,   -1.8685  ,  8.15744e+01, 145.848  ),\n       (1., 0.00373226, -5.99965e+02,  5.94984e+02,  1.28663e+01,  132.601   ,  8.03964e+01, 148.17   ),\n       (1., 0.00373226, -2.74736e+03,  1.20268e+03, -6.15712e+02,   46.3173  ,  1.00311e+02, 139.505  ),\n       (1., 0.00373226,  9.34862e+02,  1.12289e+03, -1.19292e+03,   37.989   ,  9.80431e+01, 143.996  ),\n       (1., 0.00373226, -6.53872e+02,  9.00870e+02, -2.72159e+01,   66.4436  ,  7.19565e+01, 151.122  ),\n       (1., 0.00373226, -8.40917e+02,  7.31620e+02,  9.19430e+01,   79.5247  ,  9.06647e+01, 125.37   ),\n       (1., 0.00373226, -7.22454e+02,  6.41881e+02, -1.89501e+03,   44.9168  ,  1.00607e+02, 145.223  ),\n       (1., 0.00373226, -4.41846e+02,  8.39236e+02, -3.44379e+02,   79.2385  ,  1.01593e+02, 185.434  ),\n       (1., 0.00373226, -7.25775e+02,  6.96987e+02, -3.59119e+01,   77.3224  ,  9.68809e+01, 167.327  ),\n       (1., 0.00373226, -7.09793e+02,  1.75046e+03, -8.62245e+02,   46.0974  ,  9.33145e+01, 143.733  ),\n       (1., 0.00373226,  1.99828e+02,  1.48739e+03, -7.49767e+02,   38.3673  ,  9.04083e+01, 146.042  ),\n       (1., 0.00373226, -9.96391e+01,  7.82261e+02, -8.03703e+02,   41.9055  ,  8.12979e+01, 143.531  ),\n       (1., 0.00373226, -2.22997e+02,  9.74190e+02, -3.30052e+02,  -11.8765  ,  7.27904e+01, 182.073  ),\n       (1., 0.00373226, -4.54318e+01,  1.70507e+02, -3.94227e+02,   31.3953  ,  1.21527e+02, 191.701  ),\n       (1., 0.00373226, -3.01936e+02,  9.09528e+02, -3.02060e+02,    3.89897 ,  3.19652e+01, 139.147  ),\n       (1., 0.00373226, -6.57194e+02,  1.07172e+03, -3.79850e+02,   88.993   ,  9.48644e+01, 123.186  ),\n       (1., 0.00373226, -2.40868e+02,  1.00599e+03, -1.53883e+02,   70.3386  ,  3.70696e+01, 128.506  ),\n       (1., 0.00373226, -3.36969e+02,  7.60134e+02, -6.36272e+01,  117.083   , -5.07218e+01, 128.651  ),\n       (1., 0.00373226, -2.31666e+02, -4.27095e+01,  1.72303e+03,   43.641   ,  1.02757e+02, 131.277  ),\n       (1., 0.00373226,  5.53193e+01,  1.11327e+03,  1.44671e+01,   25.1331  ,  6.82392e+01, 131.871  ),\n       (1., 0.00373226, -6.77617e+02,  1.91967e+03, -3.10478e+02,   46.1524  ,  9.15134e+01, 140.294  ),\n       (1., 0.00373226, -8.46295e+02,  3.45651e+02, -3.31203e+01,   98.1073  ,  1.08028e+02, 145.702  ),\n       (1., 0.00373226,  2.92024e+02,  1.13783e+03, -1.09319e+02,   25.5996  ,  7.98969e+01, 139.553  ),\n       (1., 0.00373226, -1.22801e+03,  3.55039e+00, -5.34377e+02,   55.877   ,  1.06643e+02, 144.497  ),\n       (1., 0.00373226,  8.23157e+01,  8.48313e+02,  1.02158e+02,   10.1622  ,  6.62316e+01, 118.536  ),\n       (1., 0.00373226, -3.76603e+01,  2.86301e+02, -2.79179e+02,   23.9658  ,  1.47970e+02, 182.478  ),\n       (1., 0.00373226, -1.04292e+03,  3.17871e+02,  3.21019e+02,   63.2971  ,  1.04279e+02, 129.499  ),\n       (1., 0.00373226, -4.81493e+02,  6.60717e+02, -3.83590e+01,  163.894   ,  2.52420e+01,  94.7617 ),\n       (1., 0.00373226, -5.42003e+02,  7.21992e+02, -3.11058e+02,  127.021   ,  1.39880e+02, 195.127  ),\n       (1., 0.00373226,  9.26802e+02, -1.43181e+03, -1.23405e+03,   41.1145  ,  1.04556e+02, 141.14   ),\n       (1., 0.00373226, -8.36872e+01, -6.04080e+02,  1.75862e+02,   45.0949  ,  1.29896e+02, 134.014  ),\n       (1., 0.00373226, -9.99238e+02,  2.85159e+02, -1.18267e+03,   50.1388  ,  1.02862e+02, 148.625  ),\n       (1., 0.00373226, -5.01431e+00,  6.75009e+02, -3.32236e+02,   -0.215662,  8.40331e+01, 199.715  ),\n       (1., 0.00373226,  8.98545e+02,  3.87498e+03, -1.80518e+03,   42.6421  ,  9.98758e+01, 139.516  ),\n       (1., 0.00373226, -9.14370e+01,  1.47086e+03,  4.81605e+01,   39.5912  ,  8.00974e+01, 135.393  ),\n       (1., 0.00373226,  6.21633e+02,  1.91309e+03, -2.44839e+03,   42.2556  ,  9.97463e+01, 141.256  ),\n       (1., 0.00373226, -1.39292e+03, -2.37117e+01, -3.06306e+02,   55.2103  ,  1.05785e+02, 141.197  ),\n       (1., 0.00373226, -8.81274e+01,  6.54027e+02,  3.21158e+02,   31.2747  ,  7.56035e+01,  93.1005 ),\n       (1., 0.00373226, -6.07544e+01,  2.56738e+02, -4.44462e+02,   31.8158  ,  9.56577e+01, 161.345  ),\n       (1., 0.00373226, -4.51359e+02,  1.56090e+02, -7.44324e+01,   91.8303  ,  1.37952e+02, 141.893  ),\n       (1., 0.00373226, -8.20950e+02,  1.63069e+03, -7.35002e+02,   47.8103  ,  9.22109e+01, 143.967  ),\n       (1., 0.00373226, -1.42271e+03,  5.11729e+02, -1.21377e+02,   58.1925  ,  1.00955e+02, 139.182  ),\n       (1., 0.00373226, -7.00867e+01,  4.60041e+02,  3.04672e+02,   37.3938  ,  7.23644e+01,  83.8586 ),\n       (1., 0.00373226, -7.72384e+02,  5.00362e+02, -3.81493e+02,  113.31    ,  8.81023e+01, 131.078  ),\n       (1., 0.00373226, -1.26203e+03,  2.76665e+03, -2.75904e+03,   43.622   ,  1.00091e+02, 140.174  ),\n       (1., 0.00373226, -1.87933e+03,  1.78199e+03,  5.85190e+02,   46.8108  ,  9.83311e+01, 137.341  ),\n       (1., 0.00373226, -6.98347e+01,  8.11315e+02, -2.92262e+02,    8.00023 ,  6.20519e+01, 189.32   ),\n       (1., 0.00373226, -5.10505e+02,  7.79458e+02, -2.50542e+02,  107.153   ,  5.66563e+01, 167.935  ),\n       (1., 0.00373226, -2.21672e+03,  1.85255e+03,  3.43826e+01,   46.519   ,  9.88985e+01, 138.614  ),\n       (1., 0.00373226, -4.61752e+02,  6.85336e+02,  1.73530e+02,   81.2691  ,  4.53666e+01,  83.8948 ),\n       (1., 0.00373226, -3.36966e+02,  2.51214e+02,  1.24954e+02,  108.93    ,  1.24268e+02, 111.295  ),\n       (1., 0.00373226, -6.12560e+02,  7.60178e+02, -2.56063e+02,  116.842   ,  4.31296e+01, 117.404  ),\n       (1., 0.00373226,  7.78268e+02,  1.62357e+03,  1.85645e+03,   41.4839  ,  9.91069e+01, 135.546  ),\n       (1., 0.00373226,  2.95575e+02,  4.84184e+02, -1.23448e+03,   37.8351  ,  1.00534e+02, 151.698  ),\n       (1., 0.00373226, -1.01174e+03, -5.15338e+02, -1.51420e+03,   46.0297  ,  1.04410e+02, 143.903  ),\n       (1., 0.00373226, -5.31171e+02,  1.78492e+03, -9.36325e+02,   44.8886  ,  9.34582e+01, 143.956  ),\n       (1., 0.00373226, -6.62098e+02,  1.32989e+03, -2.59242e+02,   54.5664  ,  7.90380e+01, 143.     ),\n       (1., 0.00373226, -2.54234e+02,  6.04778e+02, -6.76431e+02,   51.9561  ,  1.11788e+02, 180.043  ),\n       (1., 0.00373226, -3.12644e+02,  1.34861e+03,  4.95184e+01,   44.8343  ,  7.32558e+01, 133.063  ),\n       (1., 0.00373226, -4.30951e+02,  7.39157e+02,  2.29714e+02,   59.86    ,  1.09643e+02, 100.29   ),\n       (1., 0.00373226, -1.96519e+03, -5.23796e+02,  1.92763e+02,   48.3855  ,  1.03920e+02, 138.116  ),\n       (1., 0.00373226, -3.86434e+02,  7.90273e+02, -1.65091e+02,  119.888   , -3.95107e+01, 115.508  ),\n       (1., 0.00373226, -4.83988e+02,  1.11656e+03, -1.40330e+02,   81.1179  ,  4.51328e+01, 129.729  ),\n       (1., 0.00373226, -5.57141e+02,  4.05858e+02, -2.99341e+02,   75.5949  ,  1.51809e+02, 131.69   ),\n       (1., 0.00373226, -3.46486e+02, -2.18970e+01,  1.97749e+00,   97.8476  ,  1.41061e+02, 142.55   ),\n       (1., 0.00373226, -1.02811e+03,  4.65102e+02,  5.79980e+02,   57.8827  ,  1.00796e+02, 127.442  ),\n       (1., 0.00373226, -8.99986e+02, -2.14125e+02,  1.93425e+02,   60.1133  ,  1.13222e+02, 134.035  ),\n       (1., 0.00373226, -3.64613e+02,  8.08083e+02, -2.79573e+02,   70.2332  ,  4.71359e+01, 255.55   ),\n       (1., 0.00373226, -7.97402e+02,  6.09942e+02, -3.20351e+02,   84.8892  ,  6.25561e+01, 139.365  ),\n       (1., 0.00373226, -7.02985e+01,  8.64147e+02, -4.11752e+02,    7.28995 ,  7.59595e+01, 195.859  ),\n       (1., 0.00373226, -4.74975e+02,  4.18536e+02,  3.73848e+02,   80.2033  ,  8.58624e+01,  93.6089 ),\n       (1., 0.00373226, -1.66388e+03, -8.01974e+01,  3.31298e+01,   52.1688  ,  1.04252e+02, 138.247  ),\n       (1., 0.00373226, -6.97550e+02,  4.56285e+02,  8.49305e+01,   99.4195  ,  1.15710e+02, 104.881  ),\n       (1., 0.00373226, -4.02081e+02,  1.03656e+03,  2.93018e+01,   36.7038  ,  8.54046e+01, 121.675  ),\n       (1., 0.00373226, -7.44473e+02,  8.07405e+02,  2.47342e+02,   71.3538  ,  8.66019e+01, 117.632  ),\n       (1., 0.00373226, -5.53820e+02,  6.47006e+02, -4.46684e+02,   40.067   ,  7.96871e+01, 229.498  ),\n       (1., 0.00373226, -3.95792e+02,  6.86110e+02,  6.04623e+00,  122.049   ,  2.02275e+01,  32.9162 ),\n       (1., 0.00373226, -5.54054e+02,  6.95908e+02, -1.79129e+02,  113.177   ,  5.52265e+01, 119.813  ),\n       (1., 0.00373226,  5.38435e+02, -6.42600e+02,  1.92622e+02,   32.1162  ,  1.16927e+02, 136.077  ),\n       (1., 0.00373226,  8.49749e+02,  3.44159e+03, -2.63331e+01,   42.2539  ,  9.88646e+01, 138.784  ),\n       (1., 0.00373226, -5.80910e+02,  4.98873e+02, -1.25602e+02,  159.843   ,  6.86900e+01, 152.645  ),\n       (1., 0.00373226, -2.89879e+02,  1.52909e+01, -6.30649e+02,   49.4841  ,  1.19042e+02, 167.561  ),\n       (1., 0.00373226, -2.23815e+02,  1.76009e+03,  4.39589e+02,   43.1014  ,  9.01790e+01, 134.24   ),\n       (1., 0.00373226, -5.54364e+02,  8.05197e+02, -1.69115e+02,  124.956   ,  9.79976e+01, 188.879  ),\n       (1., 0.00373226, -8.64743e+02, -1.27051e+03,  4.31389e+02,   46.3007  ,  1.07800e+02, 136.992  ),\n       (1., 0.00373226, -6.74173e+02,  7.60900e+02, -7.01039e+01,  125.358   ,  7.41252e+01, 171.129  ),\n       (1., 0.00373226, -2.24241e+02,  6.31953e+02, -4.83431e+02,   26.1655  ,  9.03545e+01, 227.163  ),\n       (1., 0.00373226, -5.54260e+02,  6.52894e+02, -6.37821e+02,   39.7915  ,  1.14378e+02, 171.034  ),\n       (1., 0.00373226, -4.42739e+02,  1.09152e+03, -1.26073e+03,   45.0816  ,  9.55776e+01, 150.061  ),\n       (1., 0.00373226, -5.71596e+02,  5.36904e+02,  1.36835e+02,   81.351   ,  1.18509e+02,  78.5547 ),\n       (1., 0.00373226, -1.01072e+03,  1.59563e+02, -6.43953e+02,   58.6589  ,  1.07280e+02, 149.68   ),\n       (1., 0.00373226,  6.24980e+02,  1.39416e+03, -5.34127e+02,   35.175   ,  9.23261e+01, 143.219  ),\n       (1., 0.00373226, -3.72801e+02,  7.58776e+02, -4.79905e+02,  107.871   ,  8.92665e+01, 169.59   ),\n       (1., 0.00373226, -6.53849e+02,  5.86791e+02, -2.07490e+02,  126.505   ,  1.10264e+02, 157.677  ),\n       (1., 0.00373226, -7.11514e+02,  5.86693e+02, -2.70398e+02,  101.319   ,  1.16776e+02, 167.537  ),\n       (1., 0.00373226, -4.58876e+01,  6.27880e+02, -7.62099e+01,  -63.1535  ,  5.32001e+01, 156.592  ),\n       (1., 0.00373226, -2.90332e+02,  7.24092e+02, -4.81001e+02,   34.4502  ,  8.38805e+01, 195.082  ),\n       (1., 0.00373226, -2.04365e+01,  7.12223e+02,  3.54630e+01,  -14.533   ,  5.86255e+01, 103.65   ),\n       (1., 0.00373226, -3.97264e+02, -6.69080e+01,  7.88054e+02,   52.0556  ,  1.09720e+02, 117.993  ),\n       (1., 0.00373226, -3.11535e+02,  8.25696e+02, -2.62017e+02,   91.0556  , -1.52986e+01, 208.373  ),\n       (1., 0.00373226, -3.34873e+02,  1.22257e+03,  1.98579e+02,   46.3969  ,  7.16894e+01, 124.922  ),\n       (1., 0.00373226,  2.62846e+02,  5.48833e+02, -5.76378e+02,   20.013   ,  9.53897e+01, 164.443  ),\n       (1., 0.00373226, -5.50265e+02,  6.38466e+02, -1.09408e+02,  154.511   ,  1.40171e+02, 200.28   ),\n       (1., 0.00373226, -1.98356e+02,  7.74644e+02,  1.33823e+03,   43.4812  ,  9.79893e+01, 128.     ),\n       (1., 0.00373226, -1.98318e+02,  1.21956e+03, -7.73184e+02,   41.7154  ,  8.54445e+01, 154.312  ),\n       (1., 0.00373226, -4.21400e+02,  7.36588e+02, -3.64583e+02,   54.5371  ,  4.82468e+01, 231.341  ),\n       (1., 0.00373226, -6.00261e+02,  5.31694e+02, -3.55293e+02,   98.189   ,  7.08788e+01, 185.305  ),\n       (1., 0.00373226,  1.52093e+03,  7.81918e+02, -4.03302e+02,   35.6716  ,  9.93068e+01, 140.519  ),\n       (1., 0.00373226, -2.23182e+02,  2.21485e+02, -2.51342e+02,   84.4371  ,  1.76320e+02, 165.51   ),\n       (1., 0.00373226,  1.81790e+01,  9.27318e+02, -1.57786e+02,    9.58065 ,  2.74091e+01, 128.552  ),\n       (1., 0.00373226,  1.34559e+03,  1.09766e+03, -1.32258e+03,   39.0198  ,  9.93722e+01, 142.245  ),\n       (1., 0.00373226, -1.20693e+03,  2.51575e+03,  1.09360e+03,   44.5675  ,  9.82217e+01, 137.107  ),\n       (1., 0.00373226, -6.63835e+02,  1.05799e+03, -1.16582e+02,   45.2048  ,  8.03702e+01, 169.533  ),\n       (1., 0.00373226, -2.68546e+02,  4.60909e+02,  1.28907e+02,   69.736   ,  1.20384e+02,  58.7538 ),\n       (1., 0.00373226, -5.27085e+02,  7.17716e+02, -3.60414e+02,  112.503   ,  1.25216e+02, 182.996  ),\n       (1., 0.00373226, -3.44182e+02,  7.94883e+02, -2.17698e+02,   13.9261  , -3.45133e+01, 185.376  ),\n       (1., 0.00373226, -5.81278e+02,  9.36606e+02, -4.15377e+02,   56.4384  ,  5.47998e+01, 171.555  ),\n       (1., 0.00373226, -3.15218e+02,  8.58689e+02, -7.96650e+01,   61.5504  ,  4.24994e+00,  82.5247 ),\n       (1., 0.00373226,  1.43196e+03,  1.80074e+01,  1.24723e+03,   38.3339  ,  1.02081e+02, 134.946  ),\n       (1., 0.00373226, -7.42366e+02,  5.62710e+02, -5.09463e+02,   52.8098  ,  8.98299e+01, 147.245  ),\n       (1., 0.00373226,  1.80981e+02,  6.14574e+02, -5.76472e+02,   19.1528  ,  9.25985e+01, 168.125  ),\n       (1., 0.00373226, -7.41013e+02,  5.28700e+02, -2.96491e+01,   79.7467  ,  1.28619e+02, 103.55   ),\n       (1., 0.00373226, -5.80910e+02,  4.98873e+02, -1.25602e+02,  159.843   ,  6.86900e+01, 152.645  ),\n       (1., 0.00373226, -6.58274e+02,  5.32980e+02, -2.02151e+02,   85.7509  ,  1.22043e+02, 148.9    ),\n       (1., 0.00373226, -4.31378e+02,  7.76334e+02, -8.04094e+01,  122.768   ,  2.00121e+01, 106.931  ),\n       (1., 0.00373226, -5.69193e+02,  6.18647e+02, -2.01384e+02,   99.9785  ,  8.27324e+01, 219.904  ),\n       (1., 0.00373226, -1.11602e+03,  4.68287e+02, -9.56171e+02,   53.3775  ,  1.01512e+02, 148.809  ),\n       (1., 0.00373226, -7.61454e+02,  6.37217e+02, -2.30305e+02,   67.0395  ,  9.91997e+01, 149.245  ),\n       (1., 0.00373226, -1.24104e+03, -4.91226e+01, -2.34191e+02,   57.465   ,  1.07653e+02, 141.121  ),\n       (1., 0.00373226, -3.08364e+02,  9.64680e+02, -7.17250e+01,   56.295   ,  7.70046e+00, 113.848  ),\n       (1., 0.00373226, -3.27489e+02,  3.08887e+02,  4.07930e+02,   71.9307  ,  8.07627e+01, 119.873  ),\n       (1., 0.00373226, -7.18902e+02, -1.85060e+02, -5.53048e+02,   56.4766  ,  1.14770e+02, 150.889  ),\n       (1., 0.00373226, -3.24311e+02,  8.30251e+02, -1.84108e+02,  113.893   , -5.52743e+00, 183.973  ),\n       (1., 0.00373226,  2.39318e+02,  4.26819e+02,  4.78405e+01,  -11.9448  ,  6.83126e+01, 135.266  ),\n       (1., 0.00373226, -5.41461e+02,  6.35751e+02, -4.34673e+02,   61.9401  ,  9.04696e+01, 243.019  ),\n       (1., 0.00373226,  1.55213e+02,  6.14566e+02, -3.87330e+02,    3.25419 ,  8.72282e+01, 169.804  ),\n       (1., 0.00373226, -2.63494e+02,  7.60414e+02, -5.72652e+01,   19.9077  ,  1.71421e+01,   6.24522),\n       (1., 0.00373226, -1.09571e+03, -1.05956e+02, -6.89429e+02,   54.086   ,  1.07668e+02, 146.287  ),\n       (1., 0.00373226, -3.48629e+01,  3.46531e+02, -1.20691e+03,   40.8219  ,  1.02523e+02, 155.017  ),\n       (1., 0.00373226, -8.03920e+02,  4.52823e+02,  7.13503e+01,  106.065   ,  9.81710e+01, 109.889  ),\n       (1., 0.00373226, -4.32861e+02,  4.87627e+02, -8.36006e+02,   51.067   ,  1.02414e+02, 169.965  ),\n       (1., 0.00373226, -9.65996e+02,  9.16624e+02, -1.04673e+03,   51.091   ,  9.68217e+01, 149.242  ),\n       (1., 0.00373226, -6.62253e+02,  7.67946e+02,  6.31385e+02,   55.4792  ,  9.31838e+01, 119.563  ),\n       (1., 0.00373226, -5.29326e+02,  5.14080e+02, -4.61584e+02,   69.7522  ,  1.16339e+02, 181.329  ),\n       (1., 0.00373226, -1.21178e+03,  1.63795e+03, -5.34294e+01,   49.8122  ,  9.35057e+01, 138.509  ),\n       (1., 0.00373226, -6.71874e+02,  9.06863e+02, -1.53507e+01,   54.1564  ,  7.99383e+01, 134.319  ),\n       (1., 0.00373226, -5.86552e+02,  8.11589e+02, -3.50665e+02,  105.422   ,  6.94191e+01, 159.163  ),\n       (1., 0.00373226, -5.80757e+02,  5.49370e+02, -5.04259e+02,   79.4992  ,  9.77973e+01, 161.274  ),\n       (1., 0.00373226, -4.53435e+02,  8.50130e+02, -1.40440e+02,  148.115   ,  8.35401e+01, 132.633  ),\n       (1., 0.00373226, -5.85458e+02,  2.92356e+02,  3.39606e+02,   73.4421  ,  1.08372e+02, 111.065  ),\n       (1., 0.00373226, -5.65007e+01,  8.14932e+02, -4.81099e+02,   22.4316  ,  4.64606e+01, 183.213  ),\n       (1., 0.00373226, -5.18361e+02,  1.12084e+03, -3.34175e+02,   45.9216  ,  6.90968e+01, 138.829  ),\n       (1., 0.00373226, -1.02833e+03, -5.80945e+01,  8.89527e+02,   51.5061  ,  1.05021e+02, 130.241  ),\n       (1., 0.00373226, -1.43773e+03,  4.24348e+02, -1.48910e+02,   57.7299  ,  1.01907e+02, 139.535  ),\n       (1., 0.00373226,  8.47428e+02,  8.34913e+01,  8.16332e+02,   32.1128  ,  1.03092e+02, 129.334  ),\n       (1., 0.00373226,  1.99243e+01, -4.54822e+02, -3.15418e+02,   40.1934  ,  1.29520e+02, 154.385  ),\n       (1., 0.00373226, -4.97787e+02,  7.52208e+02, -2.50854e+02,  149.805   ,  1.85711e+01, 143.381  ),\n       (1., 0.00373226, -1.68862e+02,  8.05925e+02,  4.12964e+02,   39.9961  ,  7.83436e+01, 103.302  ),\n       (1., 0.00373226, -8.53241e+02,  9.58142e+02, -3.43511e+02,   50.1258  ,  7.44051e+01, 165.175  ),\n       (1., 0.00373226,  5.73999e+02,  9.50866e+02,  3.01891e+02,   27.676   ,  8.91395e+01, 131.672  ),\n       (1., 0.00373226, -4.60734e+02,  2.86915e+03, -8.39164e+02,   43.4663  ,  9.75602e+01, 139.987  ),\n       (1., 0.00373226,  1.27206e+02,  6.33316e+02,  6.69984e+01,   -3.11942 ,  6.95620e+01, 120.392  ),\n       (1., 0.00373226, -4.01340e+02,  7.65414e+02, -3.65773e+02,   55.5907  ,  5.53952e+01, 223.818  ),\n       (1., 0.00373226, -3.57820e+02,  1.01124e+03,  1.69036e+02,   51.7106  ,  5.81781e+01, 109.187  ),\n       (1., 0.00373226, -1.33548e+01,  4.27974e+02, -1.61622e+02,  -28.8752  ,  1.30083e+02, 185.838  ),\n       (1., 0.00373226, -2.34146e+03,  3.21328e+03, -1.72517e+03,   44.0367  ,  1.00034e+02, 139.547  ),\n       (1., 0.00373226,  8.56656e+01,  2.97597e+02, -1.01193e+03,   37.4443  ,  1.03704e+02, 158.693  ),\n       (1., 0.00373226,  3.24500e+02,  5.08541e+02, -7.74168e+01,   -1.8685  ,  8.15744e+01, 145.848  ),\n       (1., 0.00373226,  9.56392e+01, -1.03015e+03, -1.08019e+03,   42.1277  ,  1.07511e+02, 143.85   ),\n       (1., 0.00373226, -3.89174e+02,  8.49628e+02, -1.86036e+02,  118.277   ,  2.38408e+00, 144.627  ),\n       (1., 0.00373226, -9.87003e+02,  4.60523e+02,  6.04228e+01,   72.8288  ,  1.03102e+02, 132.35   ),\n       (1., 0.00373226, -5.96276e+02,  2.99631e+02,  4.54923e+02,   66.7687  ,  1.05267e+02, 112.672  ),\n       (1., 0.00373226, -2.21401e+02,  1.53819e+02, -4.91702e+02,   47.7544  ,  1.25963e+02, 182.45   ),\n       (1., 0.00373226, -2.70083e+02,  1.05387e+03, -3.10074e+02,   55.0899  ,  4.12354e+01, 146.98   ),\n       (1., 0.00373226, -3.40124e+02,  7.24947e+02, -1.16944e+01,   36.2974  ,  5.97759e+00,   8.73785),\n       (1., 0.00373226, -2.58371e+02,  7.18771e+02, -4.65856e+02,   37.0862  ,  8.74937e+01, 203.257  ),\n       (1., 0.00373226, -1.74828e+02,  5.62906e+02,  4.51732e+02,   45.503   ,  8.52101e+01,  95.3903 ),\n       (1., 0.00373226, -2.57178e+03,  5.01645e+02,  2.24753e+03,   44.7843  ,  1.01188e+02, 137.194  ),\n       (1., 0.00373226, -2.71427e+02,  3.95786e+02, -6.13316e+02,   51.2483  ,  9.81344e+01, 178.657  ),\n       (1., 0.00373226, -4.68173e+02,  8.54518e+02, -3.28477e+02,  104.729   ,  9.82415e+01, 211.135  ),\n       (1., 0.00373226, -6.43713e+02,  6.77963e+02, -8.31405e+01,  140.316   ,  9.67182e+01, 146.283  ),\n       (1., 0.00373226, -8.43703e+02,  8.28584e+02,  1.75625e+02,   71.8197  ,  8.79411e+01, 124.479  ),\n       (1., 0.00373226, -4.32310e+02,  7.66703e+02, -1.68786e+02,  196.908   ,  5.02740e+01, 165.481  ),\n       (1., 0.00373226,  3.79018e+02,  7.52234e+02, -1.42447e+03,   39.1839  ,  9.90754e+01, 148.096  ),\n       (1., 0.00373226, -2.78793e+02,  1.81149e+02, -1.86176e+02,   77.452   ,  1.56745e+02, 147.347  ),\n       (1., 0.00373226,  5.91892e+02, -9.01800e+02,  3.59867e+03,   42.7611  ,  1.01818e+02, 137.194  ),\n       (1., 0.00373226,  1.91620e+03,  9.60168e+02,  1.52206e+03,   40.2335  ,  1.00395e+02, 136.666  ),\n       (1., 0.00373226, -7.77109e+02,  6.69390e+02, -4.91750e+02,   51.7583  ,  1.18255e+02, 135.602  ),\n       (1., 0.00373226, -4.52557e+02,  8.16456e+02, -5.19784e+02,  112.782   ,  7.11487e+01, 174.679  ),\n       (1., 0.00373226, -2.58832e+02,  1.46241e+03,  4.86316e+02,   43.544   ,  8.67128e+01, 130.108  ),\n       (1., 0.00373226, -1.82686e+02,  1.64696e+03,  4.20639e+02,   42.6306  ,  8.84970e+01, 133.211  ),\n       (1., 0.00373226, -3.72313e+02,  1.01999e+03,  3.52852e+02,   49.9116  ,  7.50996e+01, 113.243  ),\n       (1., 0.00373226, -6.72090e+01,  9.59931e+02, -1.06905e+02,   19.8102  ,  5.42270e+01,  92.5909 ),\n       (1., 0.00373226, -7.97010e+02,  8.13817e+02, -5.50448e+02,   68.2568  ,  8.94696e+01, 159.112  ),\n       (1., 0.00373226, -2.05879e+02,  4.86266e+03, -2.27803e+03,   43.0845  ,  1.00310e+02, 139.29   ),\n       (1., 0.00373226, -8.43966e+02,  1.30134e+02,  1.99358e+02,   69.3312  ,  1.11852e+02, 128.836  ),\n       (1., 0.00373226, -7.24422e+02,  6.86168e+02, -9.50488e+02,   53.3504  ,  9.77645e+01, 156.923  ),\n       (1., 0.00373226, -5.02441e+02,  8.41315e+02, -2.33452e+02,   97.9321  ,  3.94295e+01, 175.606  ),\n       (1., 0.00373226, -5.95756e+02,  5.12615e+02, -1.08821e+02,  151.949   ,  9.68699e+01, 132.093  ),\n       (1., 0.00373226, -5.82442e+02,  2.84623e+02, -5.72025e+02,   46.3039  ,  9.41373e+01, 185.518  ),\n       (1., 0.00373226, -6.65002e+02,  6.57565e+02, -1.21850e+02,  133.984   ,  6.88687e+01, 112.462  ),\n       (1., 0.00373226, -3.65599e+02,  7.63217e+02, -5.56056e+01,   78.1416  , -3.07925e+01,  62.6329 ),\n       (1., 0.00373226, -5.42922e+02,  8.90012e+02,  1.15636e+02,   43.4929  ,  5.21308e+01, 118.443  ),\n       (1., 0.00373226,  4.64591e+01,  9.95537e+02, -5.89274e+02,   29.0575  ,  8.02246e+01, 160.911  ),\n       (1., 0.00373226, -5.16029e+02,  6.98515e+02, -2.11054e+02,  130.033   ,  2.63307e+01, 170.105  ),\n       (1., 0.00373226, -8.01086e+02,  6.90555e+02, -2.03005e+02,   87.1609  ,  7.64464e+01, 119.963  ),\n       (1., 0.00373226, -5.97164e+02,  6.54348e+02, -1.81370e+02,  130.433   ,  1.01108e+02, 159.806  ),\n       (1., 0.00373226, -8.80385e+02,  6.11248e+02,  3.93854e+02,   64.9788  ,  9.73421e+01, 122.704  ),\n       (1., 0.00373226, -2.55536e+02,  2.09829e+02, -8.98344e+02,   44.8097  ,  1.08318e+02, 163.986  ),\n       (1., 0.00373226,  6.16844e+02,  1.18242e+03, -1.30760e+03,   38.8339  ,  9.73840e+01, 145.307  ),\n       (1., 0.00373226, -1.17960e+03, -3.09191e+02,  1.77050e+02,   54.8961  ,  1.08822e+02, 136.396  ),\n       (1., 0.00373226, -1.51602e+03,  5.02944e+02, -5.48744e+02,   54.3715  ,  1.01098e+02, 142.804  ),\n       (1., 0.00373226, -2.68322e+02,  8.02321e+02, -7.87511e+01,    5.84445 , -1.88741e+01,  94.5961 ),\n       (1., 0.00373226, -4.39439e+02,  1.15746e+03,  7.55321e+01,   59.0838  ,  7.32256e+01, 124.902  ),\n       (1., 0.00373226, -1.97042e+03, -5.43071e+02, -3.35412e+01,   48.4051  ,  1.03990e+02, 138.77   ),\n       (1., 0.00373226, -4.52407e+02, -2.25137e+03,  5.56880e+02,   43.5718  ,  1.04809e+02, 138.032  ),\n       (1., 0.00373226,  5.53193e+01,  1.11327e+03,  1.44671e+01,   25.1331  ,  6.82392e+01, 131.871  ),\n       (1., 0.00373226, -6.06907e+02,  8.11112e+02,  3.68297e+02,   64.1878  ,  8.53116e+01, 111.217  ),\n       (1., 0.00373226, -2.36644e+03, -2.69505e+03, -1.97694e+02,   44.1657  ,  1.02752e+02, 138.891  ),\n       (1., 0.00373226,  3.15263e-01,  7.92425e+02, -3.73919e+02,  -34.0286  ,  4.61000e+01, 166.713  ),\n       (1., 0.00373226, -4.07099e+02,  9.61908e+02, -3.30841e+02,   95.1087  ,  5.19827e+01, 181.187  ),\n       (1., 0.00373226, -5.72618e+02,  7.60221e+02, -1.96968e+02,   98.0846  ,  9.09837e+01, 135.229  ),\n       (1., 0.00373226, -2.91895e+02,  4.69598e+02, -5.37873e+02,   50.0548  ,  8.78067e+01, 188.877  ),\n       (1., 0.00373226, -6.38524e+02,  1.45746e+03, -1.45943e+02,   51.2368  ,  8.19301e+01, 139.542  ),\n       (1., 0.00373226, -5.07767e+02,  9.05099e+02, -1.59303e+02,   97.7114  ,  6.96890e+01, 186.425  ),\n       (1., 0.00373226, -2.34458e+02,  6.16581e+02,  1.24743e+02,   50.1601  ,  5.73817e+01,  38.2986 ),\n       (1., 0.00373226,  2.25662e+02,  1.81707e+03, -5.71134e+02,   39.9091  ,  9.18993e+01, 142.236  ),\n       (1., 0.00373226, -7.23032e+02,  7.55284e+02, -3.81177e+02,   92.383   ,  8.28513e+01, 176.604  ),\n       (1., 0.00373226, -7.11637e+02,  6.35144e+02, -2.95348e+02,   95.1812  ,  8.39935e+01, 187.353  ),\n       (1., 0.00373226, -7.72384e+02,  5.00362e+02, -3.81493e+02,  113.31    ,  8.81023e+01, 131.078  ),\n       (1., 0.00373226, -5.63985e+02, -2.10326e+02, -4.55206e+02,   57.7385  ,  1.19899e+02, 153.189  ),\n       (1., 0.00373226, -8.06257e+02,  6.46643e+02, -7.87163e+00,   79.6133  ,  7.81224e+01, 122.413  ),\n       (1., 0.00373226, -5.41847e+02,  8.39409e+02, -7.37892e+01,  117.077   ,  3.85203e+01, 142.942  ),\n       (1., 0.00373226, -8.06195e+02,  8.90973e+02,  6.66505e+00,   77.7896  ,  8.10474e+01, 130.113  ),\n       (1., 0.00373226, -3.69223e+02,  6.06699e+02, -4.79523e+02,   88.8193  ,  1.21974e+02, 194.523  ),\n       (1., 0.00373226, -6.41807e+02,  3.42504e+02, -2.78466e+02,   74.3499  ,  1.23030e+02, 186.833  ),\n       (1., 0.00373226, -7.53763e+02,  9.10954e+02,  1.26005e+02,   73.6553  ,  8.01829e+01, 123.292  ),\n       (1., 0.00373226, -6.97589e+02,  7.82684e+02, -5.14992e+02,   49.7756  ,  8.39183e+01, 160.541  ),\n       (1., 0.00373226, -3.91965e+02,  1.07269e+03,  2.82954e+02,   50.8848  ,  7.16531e+01, 115.87   ),\n       (1., 0.00373226, -8.42832e+02, -5.15598e+01,  1.01540e+03,   50.2845  ,  1.04976e+02, 128.574  ),\n       (1., 0.00373226, -5.75986e+02,  9.08944e+02,  3.46629e+01,  110.675   ,  7.47973e+01, 121.953  ),\n       (1., 0.00373226, -7.61004e+02,  8.07596e+02, -1.31832e+03,   47.758   ,  9.85210e+01, 149.535  ),\n       (1., 0.00373226, -1.62064e+02,  1.03817e+03, -2.75059e+02,   -4.27081 ,  7.11216e+01, 171.202  ),\n       (1., 0.00373226, -9.35430e+01, -6.43522e+02, -3.39765e+02,   43.9354  ,  1.22012e+02, 147.619  ),\n       (1., 0.00373226, -5.61499e+02,  6.64698e+02, -4.05738e+02,  103.059   ,  8.90387e+01, 172.533  ),\n       (1., 0.00373226, -4.69140e+02,  7.23106e+02, -3.42150e+02,   86.3967  ,  8.62010e+01, 230.768  ),\n       (1., 0.00373226, -1.78864e+02,  1.21616e+03, -3.17411e+02,   37.8068  ,  6.60539e+01, 149.661  ),\n       (1., 0.00373226, -7.40743e+02,  7.75914e+02, -6.77104e+02,   62.6446  ,  9.21896e+01, 161.721  ),\n       (1., 0.00373226, -1.68807e+03,  3.09350e+02, -6.40253e+02,   51.7238  ,  1.02128e+02, 142.077  ),\n       (1., 0.00373226, -1.72790e+02,  1.62630e+03, -2.44720e+01,   41.9845  ,  8.39893e+01, 137.63   ),\n       (1., 0.00373226, -5.06027e+02,  9.76051e+02, -4.91201e+02,   56.6873  ,  4.79998e+01, 134.705  ),\n       (1., 0.00373226, -2.19458e+02,  1.87859e+02, -7.46704e+02,   44.3812  ,  1.12642e+02, 170.392  ),\n       (1., 0.00373226, -3.97388e+02,  7.61055e+02, -3.07938e+02,  118.444   , -8.84039e+00, 231.152  ),\n       (1., 0.00373226, -6.75323e+02,  7.08442e+02, -2.40759e+02,   93.4843  ,  7.20289e+01, 153.847  ),\n       (1., 0.00373226, -7.14812e+02,  7.82833e+02, -2.18212e+02,   95.9234  ,  7.94842e+01, 190.625  ),\n       (1., 0.00373226, -2.33668e+03, -1.74159e+03, -1.53906e+03,   44.5421  ,  1.02687e+02, 139.815  ),\n       (1., 0.00373226, -6.86640e+02,  5.90400e+02, -2.14112e+02,   83.6492  ,  6.94248e+01, 132.395  ),\n       (1., 0.00373226, -6.17077e+02,  7.96408e+02, -1.91740e+02,  120.415   ,  5.63011e+01, 155.324  ),\n       (1., 0.00373226,  8.54638e+02,  5.48570e+02, -1.77885e+03,   39.9935  ,  1.00797e+02, 144.038  ),\n       (1., 0.00373226,  4.08735e+01,  4.58687e+02,  4.03004e+02,   29.0314  ,  7.60421e+01,  92.1668 ),\n       (1., 0.00373226, -3.27844e+02,  7.27295e+02, -1.31683e+03,   44.2627  ,  9.85282e+01, 152.547  ),\n       (1., 0.00373226, -5.30453e+02,  1.41805e+03,  5.30493e+02,   47.2346  ,  8.82389e+01, 129.928  ),\n       (1., 0.00373226,  3.50183e+02,  1.38550e+03,  6.97751e+02,   37.9796  ,  9.20423e+01, 131.585  ),\n       (1., 0.00373226, -3.28391e+02,  3.42631e+02, -6.32635e+02,   50.7574  ,  1.15116e+02, 184.323  ),\n       (1., 0.00373226, -4.10137e+02,  2.38246e+02, -6.85463e+02,   53.6907  ,  1.14747e+02, 172.261  ),\n       (1., 0.00373226, -4.78862e+02,  7.00340e+02,  3.63375e+00,  124.063   ,  4.26149e+00,  66.5016 ),\n       (1., 0.00373226, -4.16940e+02,  2.05556e+02, -4.95446e+02,   57.589   ,  9.96813e+01, 197.492  ),\n       (1., 0.00373226, -4.98578e+02,  9.24866e+02, -6.06343e+02,   73.738   ,  1.03347e+02, 181.346  ),\n       (1., 0.00373226, -2.30874e+02,  7.84207e+02, -1.30071e+03,   43.1822  ,  9.78582e+01, 152.543  ),\n       (1., 0.00373226, -9.44445e+01,  7.06631e+02,  7.70302e+01,   33.7593  ,  5.35023e+01,  45.93   ),\n       (1., 0.00373226, -4.78464e+02,  6.94563e+02,  1.45145e+02,  109.768   ,  7.97254e+01, 117.403  ),\n       (1., 0.00373226,  9.15952e+02,  1.64655e+03,  2.02105e+02,   37.4262  ,  9.49089e+01, 137.49   ),\n       (1., 0.00373226, -4.44746e+02,  5.16387e+02, -6.32356e+02,   40.354   ,  6.82950e+01, 189.623  ),\n       (1., 0.00373226, -5.29944e+02,  4.32646e+02,  2.33311e+02,   62.891   ,  1.36846e+02, 119.128  ),\n       (1., 0.00373226, -4.39012e+02,  7.54940e+02, -2.64801e+02,  127.875   ,  1.16467e+01, 189.053  ),\n       (1., 0.00373226,  2.58529e+01,  7.31391e+02, -1.34240e+02,  -23.4128  ,  7.90954e+01, 173.681  ),\n       (1., 0.00373226, -4.84507e+02,  4.09657e+02, -4.51846e+02,   84.5417  ,  1.15286e+02, 233.002  ),\n       (1., 0.00373226, -2.10044e+03,  3.10319e+03, -3.92470e+02,   44.4675  ,  9.93352e+01, 139.045  ),\n       (1., 0.00373226,  1.24689e+02,  9.34870e+02, -6.75526e+02,   29.6058  ,  8.60621e+01, 159.696  ),\n       (1., 0.00373226,  4.78138e+01,  9.70225e+02, -2.92049e+02,   34.8799  ,  2.99352e+01, 143.395  ),\n       (1., 0.00373226, -2.90605e+02,  5.29369e+02,  3.52659e+02,   57.0894  ,  8.90814e+01,  87.2461 ),\n       (1., 0.00373226, -4.12948e+02,  8.58762e+02, -7.17271e+01,   94.7272  ,  1.39659e+01, 134.663  ),\n       (1., 0.00373226, -4.95424e+02,  1.13103e+02, -3.88731e+02,   34.5363  ,  1.21850e+02, 170.471  ),\n       (1., 0.00373226, -4.32098e+02,  1.18204e+03, -5.68878e+02,   49.4329  ,  7.72376e+01, 156.494  ),\n       (1., 0.00373226, -2.23212e+02,  6.88472e+02, -5.80093e+02,   31.4464  ,  5.38159e+01, 187.312  ),\n       (1., 0.00373226, -3.88929e+02,  7.94725e+02, -5.81615e+02,   46.0566  ,  9.49286e+01, 168.313  ),\n       (1., 0.00373226, -6.03725e+02,  4.97341e+02, -9.16846e+00,   96.9997  ,  9.20981e+01, 104.899  )],\n      dtype=[('type', '<f8'), ('m', '<f8'), ('x', '<f8'), ('y', '<f8'), ('z', '<f8'), ('vx', '<f8'), ('vy', '<f8'), ('vz', '<f8')])"
       },
       "execution_count": 62,
       "metadata": {},
       "output_type": "execute_result"
      }
     ],
     "persistentId": "d15fe194-ced5-4713-8396-afd0e0688dc1",
     "text": "starMW"
    },
    "executionTime": "2020-04-23T02:50:10.578Z"
   },
   {
    "cell": {
     "executionCount": 63,
     "executionEventId": "e59f8e87-5756-4865-a23c-cbd443ed7144",
     "hasError": true,
     "id": "bc76544a-b3a4-45c9-a19e-0fb88b845ee1",
     "outputs": [
      {
       "ename": "SyntaxError",
       "evalue": "invalid character in identifier (<ipython-input-63-93c499e0afe3>, line 1)",
       "output_type": "error",
       "traceback": [
        "\u001b[0;36m  File \u001b[0;32m\"<ipython-input-63-93c499e0afe3>\"\u001b[0;36m, line \u001b[0;32m1\u001b[0m\n\u001b[0;31m    1：10：100\u001b[0m\n\u001b[0m           ^\u001b[0m\n\u001b[0;31mSyntaxError\u001b[0m\u001b[0;31m:\u001b[0m invalid character in identifier\n"
       ]
      }
     ],
     "persistentId": "a457c3b1-2bd8-4770-b1e6-d78246e67cab",
     "text": "1：10：100"
    },
    "executionTime": "2020-04-23T02:54:23.003Z"
   },
   {
    "cell": {
     "executionCount": 64,
     "executionEventId": "76022fdf-64ce-483c-b9b3-d58c536ad883",
     "hasError": true,
     "id": "bc76544a-b3a4-45c9-a19e-0fb88b845ee1",
     "outputs": [
      {
       "ename": "SyntaxError",
       "evalue": "invalid syntax (<ipython-input-64-82403fcf8fae>, line 1)",
       "output_type": "error",
       "traceback": [
        "\u001b[0;36m  File \u001b[0;32m\"<ipython-input-64-82403fcf8fae>\"\u001b[0;36m, line \u001b[0;32m1\u001b[0m\n\u001b[0;31m    1:10:100\u001b[0m\n\u001b[0m        ^\u001b[0m\n\u001b[0;31mSyntaxError\u001b[0m\u001b[0;31m:\u001b[0m invalid syntax\n"
       ]
      }
     ],
     "persistentId": "a457c3b1-2bd8-4770-b1e6-d78246e67cab",
     "text": "1:10:100"
    },
    "executionTime": "2020-04-23T02:54:31.823Z"
   },
   {
    "cell": {
     "executionCount": 65,
     "executionEventId": "1fb0f6b4-fe86-4646-a777-65c4bc27267d",
     "hasError": false,
     "id": "bc76544a-b3a4-45c9-a19e-0fb88b845ee1",
     "outputs": [
      {
       "name": "stdout",
       "output_type": "stream",
       "text": "1\n11\n21\n31\n41\n51\n61\n71\n81\n91\n"
      }
     ],
     "persistentId": "a457c3b1-2bd8-4770-b1e6-d78246e67cab",
     "text": "for i in range(1,100,10):\n    print(i)"
    },
    "executionTime": "2020-04-23T02:54:48.105Z"
   },
   {
    "cell": {
     "executionCount": 66,
     "executionEventId": "f1474cbd-7bb9-4edc-98f5-55a267599e65",
     "hasError": false,
     "id": "da8b145e-c2db-4869-849c-7e14c83e668f",
     "outputs": [],
     "persistentId": "089ba10f-5132-447a-b512-d5392113a174",
     "text": "t = Snap(100)"
    },
    "executionTime": "2020-04-23T02:56:24.117Z"
   },
   {
    "cell": {
     "executionCount": 67,
     "executionEventId": "1e78e8e2-42b4-4189-9014-e2b066b76553",
     "hasError": false,
     "id": "38b91c85-3c23-491e-a6b4-d46012a50673",
     "outputs": [
      {
       "data": {
        "text/plain": "(17.86029433435545, 291.04858331853455)"
       },
       "execution_count": 67,
       "metadata": {},
       "output_type": "execute_result"
      }
     ],
     "persistentId": "6a604084-d72d-4d1e-80fe-fc44e4aafe90",
     "text": "t.Rj()"
    },
    "executionTime": "2020-04-23T02:56:40.817Z"
   },
   {
    "cell": {
     "executionCount": 68,
     "executionEventId": "67fa9da5-f1b1-4068-b402-d9fccc49804d",
     "hasError": false,
     "id": "38b91c85-3c23-491e-a6b4-d46012a50673",
     "outputs": [],
     "persistentId": "6a604084-d72d-4d1e-80fe-fc44e4aafe90",
     "text": "a,b = t.Rj()"
    },
    "executionTime": "2020-04-23T02:57:06.370Z"
   },
   {
    "cell": {
     "executionCount": 69,
     "executionEventId": "5edab77f-1cee-406f-aef7-4f47c8963a06",
     "hasError": false,
     "id": "bc76544a-b3a4-45c9-a19e-0fb88b845ee1",
     "outputs": [
      {
       "name": "stderr",
       "output_type": "stream",
       "text": "100%|██████████| 10/10 [00:00<00:00, 12314.46it/s]"
      },
      {
       "name": "stdout",
       "output_type": "stream",
       "text": "1\n11\n21\n31\n41\n51\n61\n71\n81\n91\n"
      },
      {
       "name": "stderr",
       "output_type": "stream",
       "text": "\n"
      }
     ],
     "persistentId": "a457c3b1-2bd8-4770-b1e6-d78246e67cab",
     "text": "from tqdm import tqdm\nfor i in tqdm(range(1,100,10)):\n    print(i)"
    },
    "executionTime": "2020-04-23T03:00:22.946Z"
   },
   {
    "cell": {
     "executionCount": 70,
     "executionEventId": "6d8827b6-2f8e-404a-8bf3-2fa0cbe659c6",
     "hasError": false,
     "id": "bc76544a-b3a4-45c9-a19e-0fb88b845ee1",
     "outputs": [
      {
       "name": "stderr",
       "output_type": "stream",
       "text": "100%|██████████| 10/10 [00:00<00:00, 4779.83it/s]"
      },
      {
       "name": "stdout",
       "output_type": "stream",
       "text": "1\n11\n21\n31\n41\n51\n61\n71\n81\n91\n"
      },
      {
       "name": "stderr",
       "output_type": "stream",
       "text": "\n"
      }
     ],
     "persistentId": "a457c3b1-2bd8-4770-b1e6-d78246e67cab",
     "text": "from tqdm import tqdm\nfor i in tqdm(range(1,100,10)):\n    print(i)"
    },
    "executionTime": "2020-04-23T03:00:24.690Z"
   },
   {
    "cell": {
     "executionCount": 71,
     "executionEventId": "12ac106b-c7c3-4b1d-b5dc-36e47e27f073",
     "hasError": false,
     "id": "bc76544a-b3a4-45c9-a19e-0fb88b845ee1",
     "outputs": [
      {
       "name": "stderr",
       "output_type": "stream",
       "text": "100%|██████████| 1000/1000 [00:00<00:00, 10373.98it/s]"
      },
      {
       "name": "stdout",
       "output_type": "stream",
       "text": "1\n11\n21\n31\n41\n51\n61\n71\n81\n91\n101\n111\n121\n131\n141\n151\n161\n171\n181\n191\n201\n211\n221\n231\n241\n251\n261\n271\n281\n291\n301\n311\n321\n331\n341\n351\n361\n371\n381\n391\n401\n411\n421\n431\n441\n451\n461\n471\n481\n491\n501\n511\n521\n531\n541\n551\n561\n571\n581\n591\n601\n611\n621\n631\n641\n651\n661\n671\n681\n691\n701\n711\n721\n731\n741\n751\n761\n771\n781\n791\n801\n811\n821\n831\n841\n851\n861\n871\n881\n891\n901\n911\n921\n931\n941\n951\n961\n971\n981\n991\n1001\n1011\n1021\n1031\n1041\n1051\n1061\n1071\n1081\n1091\n1101\n1111\n1121\n1131\n1141\n1151\n1161\n1171\n1181\n1191\n1201\n1211\n1221\n1231\n1241\n1251\n1261\n1271\n1281\n1291\n1301\n1311\n1321\n1331\n1341\n1351\n1361\n1371\n1381\n1391\n1401\n1411\n1421\n1431\n1441\n1451\n1461\n1471\n1481\n1491\n1501\n1511\n1521\n1531\n1541\n1551\n1561\n1571\n1581\n1591\n1601\n1611\n1621\n1631\n1641\n1651\n1661\n1671\n1681\n1691\n1701\n1711\n1721\n1731\n1741\n1751\n1761\n1771\n1781\n1791\n1801\n1811\n1821\n1831\n1841\n1851\n1861\n1871\n1881\n1891\n1901\n1911\n1921\n1931\n1941\n1951\n1961\n1971\n1981\n1991\n2001\n2011\n2021\n2031\n2041\n2051\n2061\n2071\n2081\n2091\n2101\n2111\n2121\n2131\n2141\n2151\n2161\n2171\n2181\n2191\n2201\n2211\n2221\n2231\n2241\n2251\n2261\n2271\n2281\n2291\n2301\n2311\n2321\n2331\n2341\n2351\n2361\n2371\n2381\n2391\n2401\n2411\n2421\n2431\n2441\n2451\n2461\n2471\n2481\n2491\n2501\n2511\n2521\n2531\n2541\n2551\n2561\n2571\n2581\n2591\n2601\n2611\n2621\n2631\n2641\n2651\n2661\n2671\n2681\n2691\n2701\n2711\n2721\n2731\n2741\n2751\n2761\n2771\n2781\n2791\n2801\n2811\n2821\n2831\n2841\n2851\n2861\n2871\n2881\n2891\n2901\n2911\n2921\n2931\n2941\n2951\n2961\n2971\n2981\n2991\n3001\n3011\n3021\n3031\n3041\n3051\n3061\n3071\n3081\n3091\n3101\n3111\n3121\n3131\n3141\n3151\n3161\n3171\n3181\n3191\n3201\n3211\n3221\n3231\n3241\n3251\n3261\n3271\n3281\n3291\n3301\n3311\n3321\n3331\n3341\n3351\n3361\n3371\n3381\n3391\n3401\n3411\n3421\n3431\n3441\n3451\n3461\n3471\n3481\n3491\n3501\n3511\n3521\n3531\n3541\n3551\n3561\n3571\n3581\n3591\n3601\n3611\n3621\n3631\n3641\n3651\n3661\n3671\n3681\n3691\n3701\n3711\n3721\n3731\n3741\n3751\n3761\n3771\n3781\n3791\n3801\n3811\n3821\n3831\n3841\n3851\n3861\n3871\n3881\n3891\n3901\n3911\n3921\n3931\n3941\n3951\n3961\n3971\n3981\n3991\n4001\n4011\n4021\n4031\n4041\n4051\n4061\n4071\n4081\n4091\n4101\n4111\n4121\n4131\n4141\n4151\n4161\n4171\n4181\n4191\n4201\n4211\n4221\n4231\n4241\n4251\n4261\n4271\n4281\n4291\n4301\n4311\n4321\n4331\n4341\n4351\n4361\n4371\n4381\n4391\n4401\n4411\n4421\n4431\n4441\n4451\n4461\n4471\n4481\n4491\n4501\n4511\n4521\n4531\n4541\n4551\n4561\n4571\n4581\n4591\n4601\n4611\n4621\n4631\n4641\n4651\n4661\n4671\n4681\n4691\n4701\n4711\n4721\n4731\n4741\n4751\n4761\n4771\n4781\n4791\n4801\n4811\n4821\n4831\n4841\n4851\n4861\n4871\n4881\n4891\n4901\n4911\n4921\n4931\n4941\n4951\n4961\n4971\n4981\n4991\n5001\n5011\n5021\n5031\n5041\n5051\n5061\n5071\n5081\n5091\n5101\n5111\n5121\n5131\n5141\n5151\n5161\n5171\n5181\n5191\n5201\n5211\n5221\n5231\n5241\n5251\n5261\n5271\n5281\n5291\n5301\n5311\n5321\n5331\n5341\n5351\n5361\n5371\n5381\n5391\n5401\n5411\n5421\n5431\n5441\n5451\n5461\n5471\n5481\n5491\n5501\n5511\n5521\n5531\n5541\n5551\n5561\n5571\n5581\n5591\n5601\n5611\n5621\n5631\n5641\n5651\n5661\n5671\n5681\n5691\n5701\n5711\n5721\n5731\n5741\n5751\n5761\n5771\n5781\n5791\n5801\n5811\n5821\n5831\n5841\n5851\n5861\n5871\n5881\n5891\n5901\n5911\n5921\n5931\n5941\n5951\n5961\n5971\n5981\n5991\n6001\n6011\n6021\n6031\n6041\n6051\n6061\n6071\n6081\n6091\n6101\n6111\n6121\n6131\n6141\n6151\n6161\n6171\n6181\n6191\n6201\n6211\n6221\n6231\n6241\n6251\n6261\n6271\n6281\n6291\n6301\n6311\n6321\n6331\n6341\n6351\n6361\n6371\n6381\n6391\n6401\n6411\n6421\n6431\n6441\n6451\n6461\n6471\n6481\n6491\n6501\n6511\n6521\n6531\n6541\n6551\n6561\n6571\n6581\n6591\n6601\n6611\n6621\n6631\n6641\n6651\n6661\n6671\n6681\n6691\n6701\n6711\n6721\n6731\n6741\n6751\n6761\n6771\n6781\n6791\n6801\n6811\n6821\n6831\n6841\n6851\n6861\n6871\n6881\n6891\n6901\n6911\n6921\n6931\n6941\n6951\n6961\n6971\n6981\n6991\n7001\n7011\n7021\n7031\n7041\n7051\n7061\n7071\n7081\n7091\n7101\n7111\n7121\n7131\n7141\n7151\n7161\n7171\n7181\n7191\n7201\n7211\n7221\n7231\n7241\n7251\n7261\n7271\n7281\n7291\n7301\n7311\n7321\n7331\n7341\n7351\n7361\n7371\n7381\n7391\n7401\n7411\n7421\n7431\n7441\n7451\n7461\n7471\n7481\n7491\n7501\n7511\n7521\n7531\n7541\n7551\n7561\n7571\n7581\n7591\n7601\n7611\n7621\n7631\n7641\n7651\n7661\n7671\n7681\n7691\n7701\n7711\n7721\n7731\n7741\n7751\n7761\n7771\n7781\n7791\n7801\n7811\n7821\n7831\n7841\n7851\n7861\n7871\n7881\n7891\n7901\n7911\n7921\n7931\n7941\n7951\n7961\n7971\n7981\n7991\n8001\n8011\n8021\n8031\n8041\n8051\n8061\n8071\n8081\n8091\n8101\n8111\n8121\n8131\n8141\n8151\n8161\n8171\n8181\n8191\n8201\n8211\n8221\n8231\n8241\n8251\n8261\n8271\n8281\n8291\n8301\n8311\n8321\n8331\n8341\n8351\n8361\n8371\n8381\n8391\n8401\n8411\n8421\n8431\n8441\n8451\n8461\n8471\n8481\n8491\n8501\n8511\n8521\n8531\n8541\n8551\n8561\n8571\n8581\n8591\n8601\n8611\n8621\n8631\n8641\n8651\n8661\n8671\n8681\n8691\n8701\n8711\n8721\n8731\n8741\n8751\n8761\n8771\n8781\n8791\n8801\n8811\n8821\n8831\n8841\n8851\n8861\n8871\n8881\n8891\n8901\n8911\n8921\n8931\n8941\n8951\n8961\n8971\n8981\n8991\n9001\n9011\n9021\n9031\n9041\n9051\n9061\n9071\n9081\n9091\n9101\n9111\n9121\n9131\n9141\n9151\n9161\n9171\n9181\n9191\n9201\n9211\n9221\n9231\n9241\n9251\n9261\n9271\n9281\n9291\n9301\n9311\n9321\n9331\n9341\n9351\n9361\n9371\n9381\n9391\n9401\n9411\n9421\n9431\n9441\n9451\n9461\n9471\n9481\n9491\n9501\n9511\n9521\n9531\n9541\n9551\n9561\n9571\n9581\n9591\n9601\n9611\n9621\n9631\n9641\n9651\n9661\n9671\n9681\n9691\n9701\n9711\n9721\n9731\n9741\n9751\n9761\n9771\n9781\n9791\n9801\n9811\n9821\n9831\n9841\n9851\n9861\n9871\n9881\n9891\n9901\n9911\n9921\n9931\n9941\n9951\n9961\n9971\n9981\n9991\n"
      },
      {
       "name": "stderr",
       "output_type": "stream",
       "text": "\n"
      }
     ],
     "persistentId": "a457c3b1-2bd8-4770-b1e6-d78246e67cab",
     "text": "from tqdm import tqdm\nfor i in tqdm(range(1,10000,10)):\n    print(i)"
    },
    "executionTime": "2020-04-23T03:00:28.043Z"
   },
   {
    "cell": {
     "executionCount": 74,
     "executionEventId": "9337ffc1-6013-4bce-b0ba-43ce860554eb",
     "hasError": false,
     "id": "bc76544a-b3a4-45c9-a19e-0fb88b845ee1",
     "outputs": [
      {
       "name": "stderr",
       "output_type": "stream",
       "text": "  0%|          | 0/1000 [00:00<?, ?it/s]"
      },
      {
       "name": "stdout",
       "output_type": "stream",
       "text": "1\n11\n21\n31\n41\n51\n61\n71\n81\n91\n101\n111\n121\n131\n141\n151\n161\n171\n181\n191\n201\n211\n221\n231\n241\n251\n261\n271\n281\n291\n301\n311\n321\n331\n341\n351\n361\n371\n381\n391\n401\n411\n421\n431\n441\n451\n461\n471\n481\n491\n501\n511\n521\n531\n541\n551\n561\n571\n581\n591\n601\n611\n621\n631\n641\n651\n661\n671\n681\n691\n701\n711\n721\n731\n741\n751\n761\n771\n781\n791\n801\n811\n821\n831\n841\n851\n861\n871\n881\n891\n901\n911\n921\n931\n941\n951\n961\n971\n981\n991\n1001\n1011\n1021\n1031\n1041\n1051\n1061\n1071\n1081\n1091\n1101\n1111\n1121\n1131\n1141\n1151\n1161\n1171\n1181\n1191\n1201\n1211\n1221\n1231\n1241\n1251\n1261\n1271\n1281\n1291\n1301\n1311\n1321\n1331\n1341\n1351\n1361\n1371\n1381\n1391\n1401\n1411\n1421\n1431\n1441\n1451\n1461\n1471\n1481\n1491\n1501\n1511\n1521\n1531\n1541\n1551\n1561\n1571\n1581\n1591\n1601\n"
      },
      {
       "name": "stderr",
       "output_type": "stream",
       "text": "100%|██████████| 1000/1000 [00:00<00:00, 7929.73it/s]"
      },
      {
       "name": "stdout",
       "output_type": "stream",
       "text": "1611\n1621\n1631\n1641\n1651\n1661\n1671\n1681\n1691\n1701\n1711\n1721\n1731\n1741\n1751\n1761\n1771\n1781\n1791\n1801\n1811\n1821\n1831\n1841\n1851\n1861\n1871\n1881\n1891\n1901\n1911\n1921\n1931\n1941\n1951\n1961\n1971\n1981\n1991\n2001\n2011\n2021\n2031\n2041\n2051\n2061\n2071\n2081\n2091\n2101\n2111\n2121\n2131\n2141\n2151\n2161\n2171\n2181\n2191\n2201\n2211\n2221\n2231\n2241\n2251\n2261\n2271\n2281\n2291\n2301\n2311\n2321\n2331\n2341\n2351\n2361\n2371\n2381\n2391\n2401\n2411\n2421\n2431\n2441\n2451\n2461\n2471\n2481\n2491\n2501\n2511\n2521\n2531\n2541\n2551\n2561\n2571\n2581\n2591\n2601\n2611\n2621\n2631\n2641\n2651\n2661\n2671\n2681\n2691\n2701\n2711\n2721\n2731\n2741\n2751\n2761\n2771\n2781\n2791\n2801\n2811\n2821\n2831\n2841\n2851\n2861\n2871\n2881\n2891\n2901\n2911\n2921\n2931\n2941\n2951\n2961\n2971\n2981\n2991\n3001\n3011\n3021\n3031\n3041\n3051\n3061\n3071\n3081\n3091\n3101\n3111\n3121\n3131\n3141\n3151\n3161\n3171\n3181\n3191\n3201\n3211\n3221\n3231\n3241\n3251\n3261\n3271\n3281\n3291\n3301\n3311\n3321\n3331\n3341\n3351\n3361\n3371\n3381\n3391\n3401\n3411\n3421\n3431\n3441\n3451\n3461\n3471\n3481\n3491\n3501\n3511\n3521\n3531\n3541\n3551\n3561\n3571\n3581\n3591\n3601\n3611\n3621\n3631\n3641\n3651\n3661\n3671\n3681\n3691\n3701\n3711\n3721\n3731\n3741\n3751\n3761\n3771\n3781\n3791\n3801\n3811\n3821\n3831\n3841\n3851\n3861\n3871\n3881\n3891\n3901\n3911\n3921\n3931\n3941\n3951\n3961\n3971\n3981\n3991\n4001\n4011\n4021\n4031\n4041\n4051\n4061\n4071\n4081\n4091\n4101\n4111\n4121\n4131\n4141\n4151\n4161\n4171\n4181\n4191\n4201\n4211\n4221\n4231\n4241\n4251\n4261\n4271\n4281\n4291\n4301\n4311\n4321\n4331\n4341\n4351\n4361\n4371\n4381\n4391\n4401\n4411\n4421\n4431\n4441\n4451\n4461\n4471\n4481\n4491\n4501\n4511\n4521\n4531\n4541\n4551\n4561\n4571\n4581\n4591\n4601\n4611\n4621\n4631\n4641\n4651\n4661\n4671\n4681\n4691\n4701\n4711\n4721\n4731\n4741\n4751\n4761\n4771\n4781\n4791\n4801\n4811\n4821\n4831\n4841\n4851\n4861\n4871\n4881\n4891\n4901\n4911\n4921\n4931\n4941\n4951\n4961\n4971\n4981\n4991\n5001\n5011\n5021\n5031\n5041\n5051\n5061\n5071\n5081\n5091\n5101\n5111\n5121\n5131\n5141\n5151\n5161\n5171\n5181\n5191\n5201\n5211\n5221\n5231\n5241\n5251\n5261\n5271\n5281\n5291\n5301\n5311\n5321\n5331\n5341\n5351\n5361\n5371\n5381\n5391\n5401\n5411\n5421\n5431\n5441\n5451\n5461\n5471\n5481\n5491\n5501\n5511\n5521\n5531\n5541\n5551\n5561\n5571\n5581\n5591\n5601\n5611\n5621\n5631\n5641\n5651\n5661\n5671\n5681\n5691\n5701\n5711\n5721\n5731\n5741\n5751\n5761\n5771\n5781\n5791\n5801\n5811\n5821\n5831\n5841\n5851\n5861\n5871\n5881\n5891\n5901\n5911\n5921\n5931\n5941\n5951\n5961\n5971\n5981\n5991\n6001\n6011\n6021\n6031\n6041\n6051\n6061\n6071\n6081\n6091\n6101\n6111\n6121\n6131\n6141\n6151\n6161\n6171\n6181\n6191\n6201\n6211\n6221\n6231\n6241\n6251\n6261\n6271\n6281\n6291\n6301\n6311\n6321\n6331\n6341\n6351\n6361\n6371\n6381\n6391\n6401\n6411\n6421\n6431\n6441\n6451\n6461\n6471\n6481\n6491\n6501\n6511\n6521\n6531\n6541\n6551\n6561\n6571\n6581\n6591\n6601\n6611\n6621\n6631\n6641\n6651\n6661\n6671\n6681\n6691\n6701\n6711\n6721\n6731\n6741\n6751\n6761\n6771\n6781\n6791\n6801\n6811\n6821\n6831\n6841\n6851\n6861\n6871\n6881\n6891\n6901\n6911\n6921\n6931\n6941\n6951\n6961\n6971\n6981\n6991\n7001\n7011\n7021\n7031\n7041\n7051\n7061\n7071\n7081\n7091\n7101\n7111\n7121\n7131\n7141\n7151\n7161\n7171\n7181\n7191\n7201\n7211\n7221\n7231\n7241\n7251\n7261\n7271\n7281\n7291\n7301\n7311\n7321\n7331\n7341\n7351\n7361\n7371\n7381\n7391\n7401\n7411\n7421\n7431\n7441\n7451\n7461\n7471\n7481\n7491\n7501\n7511\n7521\n7531\n7541\n7551\n7561\n7571\n7581\n7591\n7601\n7611\n7621\n7631\n7641\n7651\n7661\n7671\n7681\n7691\n7701\n7711\n7721\n7731\n7741\n7751\n7761\n7771\n7781\n7791\n7801\n7811\n7821\n7831\n7841\n7851\n7861\n7871\n7881\n7891\n7901\n7911\n7921\n7931\n7941\n7951\n7961\n7971\n7981\n7991\n8001\n8011\n8021\n8031\n8041\n8051\n8061\n8071\n8081\n8091\n8101\n8111\n8121\n8131\n8141\n8151\n8161\n8171\n8181\n8191\n8201\n8211\n8221\n8231\n8241\n8251\n8261\n8271\n8281\n8291\n8301\n8311\n8321\n8331\n8341\n8351\n8361\n8371\n8381\n8391\n8401\n8411\n8421\n8431\n8441\n8451\n8461\n8471\n8481\n8491\n8501\n8511\n8521\n8531\n8541\n8551\n8561\n8571\n8581\n8591\n8601\n8611\n8621\n8631\n8641\n8651\n8661\n8671\n8681\n8691\n8701\n8711\n8721\n8731\n8741\n8751\n8761\n8771\n8781\n8791\n8801\n8811\n8821\n8831\n8841\n8851\n8861\n8871\n8881\n8891\n8901\n8911\n8921\n8931\n8941\n8951\n8961\n8971\n8981\n8991\n9001\n9011\n9021\n9031\n9041\n9051\n9061\n9071\n9081\n9091\n9101\n9111\n9121\n9131\n9141\n9151\n9161\n9171\n9181\n9191\n9201\n9211\n9221\n9231\n9241\n9251\n9261\n9271\n9281\n9291\n9301\n9311\n9321\n9331\n9341\n9351\n9361\n9371\n9381\n9391\n9401\n9411\n9421\n9431\n9441\n9451\n9461\n9471\n9481\n9491\n9501\n9511\n9521\n9531\n9541\n9551\n9561\n9571\n9581\n9591\n9601\n9611\n9621\n9631\n9641\n9651\n9661\n9671\n9681\n9691\n9701\n9711\n9721\n9731\n9741\n9751\n9761\n9771\n9781\n9791\n9801\n9811\n9821\n9831\n9841\n9851\n9861\n9871\n9881\n9891\n9901\n9911\n9921\n9931\n9941\n9951\n9961\n9971\n9981\n9991\n"
      },
      {
       "name": "stderr",
       "output_type": "stream",
       "text": "\n"
      }
     ],
     "persistentId": "a457c3b1-2bd8-4770-b1e6-d78246e67cab",
     "text": "from tqdm import tqdm\nfor i in tqdm(range(1,10000,10)):\n    print(i)"
    },
    "executionTime": "2020-04-23T03:00:52.813Z"
   },
   {
    "cell": {
     "executionCount": 75,
     "executionEventId": "4be1518d-2ef4-440a-9679-a8c12645fdfb",
     "hasError": false,
     "id": "bc76544a-b3a4-45c9-a19e-0fb88b845ee1",
     "outputs": [
      {
       "name": "stderr",
       "output_type": "stream",
       "text": "100%|██████████| 1000/1000 [00:00<00:00, 904919.96it/s]\n"
      }
     ],
     "persistentId": "a457c3b1-2bd8-4770-b1e6-d78246e67cab",
     "text": "from tqdm import tqdm\nt = 1\nfor i in tqdm(range(1,10000,10)):\n    t+=1"
    },
    "executionTime": "2020-04-23T03:01:22.372Z"
   },
   {
    "cell": {
     "executionCount": 76,
     "executionEventId": "5e4dbad8-4acf-43d9-a5a9-232320a3aebc",
     "hasError": false,
     "id": "bc76544a-b3a4-45c9-a19e-0fb88b845ee1",
     "outputs": [
      {
       "name": "stderr",
       "output_type": "stream",
       "text": "100%|██████████| 10000/10000 [00:00<00:00, 1383665.09it/s]\n"
      }
     ],
     "persistentId": "a457c3b1-2bd8-4770-b1e6-d78246e67cab",
     "text": "from tqdm import tqdm\nt = 1\nfor i in tqdm(range(1,100000,10)):\n    t+=1"
    },
    "executionTime": "2020-04-23T03:01:24.829Z"
   },
   {
    "cell": {
     "executionCount": 77,
     "executionEventId": "fc91a8c4-3274-485b-ba6a-49e86bc42587",
     "hasError": false,
     "id": "bc76544a-b3a4-45c9-a19e-0fb88b845ee1",
     "outputs": [
      {
       "name": "stderr",
       "output_type": "stream",
       "text": "100%|██████████| 10000000/10000000 [00:03<00:00, 2695171.47it/s]\n"
      }
     ],
     "persistentId": "a457c3b1-2bd8-4770-b1e6-d78246e67cab",
     "text": "from tqdm import tqdm\nt = 1\nfor i in tqdm(range(1,100000000,10)):\n    t+=1"
    },
    "executionTime": "2020-04-23T03:01:30.929Z"
   },
   {
    "cell": {
     "executionCount": 78,
     "executionEventId": "4b8c4eeb-01ce-41df-b886-ec8e693f6513",
     "hasError": true,
     "id": "d38e0fe9-9770-417f-8381-b8b280a8759d",
     "outputs": [
      {
       "ename": "SyntaxError",
       "evalue": "invalid syntax (<ipython-input-78-ad510a247521>, line 5)",
       "output_type": "error",
       "traceback": [
        "\u001b[0;36m  File \u001b[0;32m\"<ipython-input-78-ad510a247521>\"\u001b[0;36m, line \u001b[0;32m5\u001b[0m\n\u001b[0;31m    for i in tqdm(range(1:800:50)):\u001b[0m\n\u001b[0m                         ^\u001b[0m\n\u001b[0;31mSyntaxError\u001b[0m\u001b[0;31m:\u001b[0m invalid syntax\n"
       ]
      }
     ],
     "persistentId": "e3dc12b6-cd70-4ef2-b6f3-73a18a5ab5d1",
     "text": "from tqdm import tqdm\nsnap_id = []\nRj_MW_M33 = []\nRj_M31_M33 = []\nfor i in tqdm(range(1:800:50)):\n    temp_snap = Snap(i)\n    temp_Rj_MW_M33,temp_Rj_M31_M33 = temp_snap.Rj()\n    Rj_MW_M33.append(temp_Rj_MW_M33)\n    Rj_M31_M33.append(temp_Rj_M31_M33)\n    snap_id.append(i)"
    },
    "executionTime": "2020-04-23T03:04:00.626Z"
   },
   {
    "cell": {
     "executionCount": 79,
     "executionEventId": "39f80ce4-9188-403b-8f73-8428d343cc47",
     "hasError": false,
     "id": "d38e0fe9-9770-417f-8381-b8b280a8759d",
     "outputs": [
      {
       "name": "stderr",
       "output_type": "stream",
       "text": "100%|██████████| 16/16 [03:34<00:00, 13.42s/it]\n"
      }
     ],
     "persistentId": "e3dc12b6-cd70-4ef2-b6f3-73a18a5ab5d1",
     "text": "from tqdm import tqdm\nsnap_id = []\nRj_MW_M33 = []\nRj_M31_M33 = []\nfor i in tqdm(range(1,801,50)):\n    temp_snap = Snap(i)\n    temp_Rj_MW_M33,temp_Rj_M31_M33 = temp_snap.Rj()\n    Rj_MW_M33.append(temp_Rj_MW_M33)\n    Rj_M31_M33.append(temp_Rj_M31_M33)\n    snap_id.append(i)"
    },
    "executionTime": "2020-04-23T03:07:51.765Z"
   },
   {
    "cell": {
     "executionCount": 80,
     "executionEventId": "28f3ed08-6268-47d3-bea9-9df2cb558082",
     "hasError": false,
     "id": "4bde0e8d-e8fb-4a2a-9aa2-947d354dcaf8",
     "outputs": [
      {
       "data": {
        "image/png": "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\n",
        "text/plain": "<Figure size 720x720 with 1 Axes>"
       },
       "metadata": {
        "needs_background": "light"
       },
       "output_type": "display_data"
      }
     ],
     "persistentId": "b9337c6d-1f41-4f9b-8351-4d8d6b8d8679",
     "text": "fig, ax= plt.subplots(figsize=(10, 10))\n\n# Plot the analytical separation of M31 and M33\nax.plot(snap_id, Rj_MW_M33, 'b', lw=5, label='MW-M33 Rj')\n\n# Plot the simulated separation of M31 and M33\nax.plot(snap_id, Rj_M31_M33, 'r', lw=5, label='M31-M33 Rj')\n\n\n# Add axis labels\nax.set_xlabel('Snap', fontsize=22)\nax.set_ylabel('Rj(kpc)', fontsize=22)\nax.set_title(\"Rj vs. Snap Time\", fontsize=22)\n\n#adjust tick label font size\nax.xaxis.set_tick_params(labelsize=22)\nax.yaxis.set_tick_params(labelsize=22)\n\n# add a legend with some customizations.\nlegend = ax.legend(loc='upper left',fontsize=20)\n\n# tight layout\nfig.tight_layout()\n\n# Save to a file\nfig.savefig('orbit_M33_R.pdf')"
    },
    "executionTime": "2020-04-23T03:10:17.759Z"
   },
   {
    "cell": {
     "executionCount": 81,
     "executionEventId": "4b401ace-9eb3-40f0-8887-f61a9ad3b897",
     "hasError": false,
     "id": "4bde0e8d-e8fb-4a2a-9aa2-947d354dcaf8",
     "outputs": [
      {
       "data": {
        "image/png": "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\n",
        "text/plain": "<Figure size 720x720 with 1 Axes>"
       },
       "metadata": {
        "needs_background": "light"
       },
       "output_type": "display_data"
      }
     ],
     "persistentId": "b9337c6d-1f41-4f9b-8351-4d8d6b8d8679",
     "text": "fig, ax= plt.subplots(figsize=(10, 10))\n\n# Plot the analytical separation of M31 and M33\nax.plot(snap_id, Rj_MW_M33, 'b', lw=5, label='MW-M33 Rj')\n\n# Plot the simulated separation of M31 and M33\nax.plot(snap_id, Rj_M31_M33, 'r', lw=5, label='M31-M33 Rj')\n\n\n# Add axis labels\nax.set_xlabel('Snap', fontsize=22)\nax.set_ylabel('Rj(kpc)', fontsize=22)\nax.set_title(\"Rj vs. Snap Time\", fontsize=22)\n\n#adjust tick label font size\nax.xaxis.set_tick_params(labelsize=22)\nax.yaxis.set_tick_params(labelsize=22)\n\n# add a legend with some customizations.\nlegend = ax.legend(loc='upper left',fontsize=20)\n\n# tight layout\nfig.tight_layout()\n\n# Save to a file\nfig.savefig('orbit_M33_R.pdf')"
    },
    "executionTime": "2020-04-23T03:11:38.761Z"
   },
   {
    "cell": {
     "executionCount": 82,
     "executionEventId": "3f418113-0764-4e0e-9b89-390166295767",
     "hasError": false,
     "id": "4bde0e8d-e8fb-4a2a-9aa2-947d354dcaf8",
     "outputs": [
      {
       "data": {
        "image/png": "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\n",
        "text/plain": "<Figure size 720x720 with 1 Axes>"
       },
       "metadata": {
        "needs_background": "light"
       },
       "output_type": "display_data"
      }
     ],
     "persistentId": "b9337c6d-1f41-4f9b-8351-4d8d6b8d8679",
     "text": "fig, ax= plt.subplots(figsize=(10, 10))\n\n# Plot the analytical separation of M31 and M33\nax.plot(snap_id, Rj_MW_M33, 'b', lw=5, label='MW-M33 Rj')\n\n# Plot the simulated separation of M31 and M33\nax.plot(snap_id, Rj_M31_M33, 'r', lw=5, label='M31-M33 Rj')\n\n\n# Add axis labels\nax.set_xlabel('Snap', fontsize=22)\nax.set_ylabel('Rj(kpc)', fontsize=22)\nax.set_title(\"Rj vs. Snap Time\", fontsize=22)\n\n#adjust tick label font size\nax.xaxis.set_tick_params(labelsize=22)\nax.yaxis.set_tick_params(labelsize=22)\n\n# add a legend with some customizations.\nlegend = ax.legend(loc='upper left',fontsize=20)\n\n# tight layout\nfig.tight_layout()\n\n# Save to a file\nfig.savefig('orbit_M33_R.pdf')"
    },
    "executionTime": "2020-04-23T03:12:44.486Z"
   },
   {
    "cell": {
     "executionCount": 83,
     "executionEventId": "a680ec7f-b529-4f55-80f1-a65a3f3427fb",
     "hasError": false,
     "id": "d38e0fe9-9770-417f-8381-b8b280a8759d",
     "outputs": [
      {
       "name": "stderr",
       "output_type": "stream",
       "text": "100%|██████████| 16/16 [03:49<00:00, 14.33s/it]\n"
      }
     ],
     "persistentId": "e3dc12b6-cd70-4ef2-b6f3-73a18a5ab5d1",
     "text": "from tqdm import tqdm\nsnap_id = []\nRj_MW_M33 = []\nRj_M31_M33 = []\nfor i in tqdm(range(1,801,50)):\n    temp_snap = Snap(i)\n    temp_Rj_M31_M33, temp_Rj_MW_M33 = temp_snap.Rj()\n    Rj_MW_M33.append(temp_Rj_MW_M33)\n    Rj_M31_M33.append(temp_Rj_M31_M33)\n    snap_id.append(i)"
    },
    "executionTime": "2020-04-23T03:16:37.454Z"
   },
   {
    "cell": {
     "executionCount": 84,
     "executionEventId": "84c2bba7-444d-4552-976a-b40aebd1648e",
     "hasError": false,
     "id": "4bde0e8d-e8fb-4a2a-9aa2-947d354dcaf8",
     "outputs": [
      {
       "data": {
        "image/png": "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\n",
        "text/plain": "<Figure size 720x720 with 1 Axes>"
       },
       "metadata": {
        "needs_background": "light"
       },
       "output_type": "display_data"
      }
     ],
     "persistentId": "b9337c6d-1f41-4f9b-8351-4d8d6b8d8679",
     "text": "fig, ax= plt.subplots(figsize=(10, 10))\n\n# Plot the analytical separation of M31 and M33\nax.plot(snap_id, Rj_MW_M33, 'b', lw=5, label='MW-M33 Rj')\n\n# Plot the simulated separation of M31 and M33\nax.plot(snap_id, Rj_M31_M33, 'r', lw=5, label='M31-M33 Rj')\n\n\n# Add axis labels\nax.set_xlabel('Snap', fontsize=22)\nax.set_ylabel('Rj(kpc)', fontsize=22)\nax.set_title(\"Rj vs. Snap Time\", fontsize=22)\n\n#adjust tick label font size\nax.xaxis.set_tick_params(labelsize=22)\nax.yaxis.set_tick_params(labelsize=22)\n\n# add a legend with some customizations.\nlegend = ax.legend(loc='upper left',fontsize=20)\n\n# tight layout\nfig.tight_layout()\n\n# Save to a file\nfig.savefig('orbit_M33_R.pdf')"
    },
    "executionTime": "2020-04-23T03:16:47.691Z"
   },
   {
    "cell": {
     "executionCount": 85,
     "executionEventId": "e5f9e3df-83e4-466c-af6d-8ebf8854a013",
     "hasError": true,
     "id": "4bde0e8d-e8fb-4a2a-9aa2-947d354dcaf8",
     "outputs": [
      {
       "ename": "AttributeError",
       "evalue": "'AxesSubplot' object has no attribute 'semilog'",
       "output_type": "error",
       "traceback": [
        "\u001b[0;31m---------------------------------------------------------------------------\u001b[0m",
        "\u001b[0;31mAttributeError\u001b[0m                            Traceback (most recent call last)",
        "\u001b[0;32m<ipython-input-85-bbe3dc931cda>\u001b[0m in \u001b[0;36m<module>\u001b[0;34m\u001b[0m\n\u001b[1;32m      2\u001b[0m \u001b[0;34m\u001b[0m\u001b[0m\n\u001b[1;32m      3\u001b[0m \u001b[0;31m# Plot the analytical separation of M31 and M33\u001b[0m\u001b[0;34m\u001b[0m\u001b[0;34m\u001b[0m\u001b[0;34m\u001b[0m\u001b[0m\n\u001b[0;32m----> 4\u001b[0;31m \u001b[0max\u001b[0m\u001b[0;34m.\u001b[0m\u001b[0msemilog\u001b[0m\u001b[0;34m(\u001b[0m\u001b[0msnap_id\u001b[0m\u001b[0;34m,\u001b[0m \u001b[0mRj_MW_M33\u001b[0m\u001b[0;34m,\u001b[0m \u001b[0;34m'b'\u001b[0m\u001b[0;34m,\u001b[0m \u001b[0mlw\u001b[0m\u001b[0;34m=\u001b[0m\u001b[0;36m5\u001b[0m\u001b[0;34m,\u001b[0m \u001b[0mlabel\u001b[0m\u001b[0;34m=\u001b[0m\u001b[0;34m'MW-M33 Rj'\u001b[0m\u001b[0;34m)\u001b[0m\u001b[0;34m\u001b[0m\u001b[0;34m\u001b[0m\u001b[0m\n\u001b[0m\u001b[1;32m      5\u001b[0m \u001b[0;34m\u001b[0m\u001b[0m\n\u001b[1;32m      6\u001b[0m \u001b[0;31m# Plot the simulated separation of M31 and M33\u001b[0m\u001b[0;34m\u001b[0m\u001b[0;34m\u001b[0m\u001b[0;34m\u001b[0m\u001b[0m\n",
        "\u001b[0;31mAttributeError\u001b[0m: 'AxesSubplot' object has no attribute 'semilog'"
       ]
      },
      {
       "data": {
        "image/png": "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\n",
        "text/plain": "<Figure size 720x720 with 1 Axes>"
       },
       "metadata": {
        "needs_background": "light"
       },
       "output_type": "display_data"
      }
     ],
     "persistentId": "b9337c6d-1f41-4f9b-8351-4d8d6b8d8679",
     "text": "fig, ax= plt.subplots(figsize=(10, 10))\n\n# Plot the analytical separation of M31 and M33\nax.semilog(snap_id, Rj_MW_M33, 'b', lw=5, label='MW-M33 Rj')\n\n# Plot the simulated separation of M31 and M33\nax.semilog(snap_id, Rj_M31_M33, 'r', lw=5, label='M31-M33 Rj')\n\n\n# Add axis labels\nax.set_xlabel('Snap', fontsize=22)\nax.set_ylabel('Rj(kpc)', fontsize=22)\nax.set_title(\"Rj vs. Snap Time\", fontsize=22)\n\n#adjust tick label font size\nax.xaxis.set_tick_params(labelsize=22)\nax.yaxis.set_tick_params(labelsize=22)\n\n# add a legend with some customizations.\nlegend = ax.legend(loc='upper left',fontsize=20)\n\n# tight layout\nfig.tight_layout()\n\n# Save to a file\nfig.savefig('orbit_M33_R.pdf')"
    },
    "executionTime": "2020-04-23T03:17:28.858Z"
   },
   {
    "cell": {
     "executionCount": 86,
     "executionEventId": "79af3027-f023-40af-8cf4-f27706826cbf",
     "hasError": false,
     "id": "4bde0e8d-e8fb-4a2a-9aa2-947d354dcaf8",
     "outputs": [
      {
       "data": {
        "image/png": "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\n",
        "text/plain": "<Figure size 720x720 with 1 Axes>"
       },
       "metadata": {
        "needs_background": "light"
       },
       "output_type": "display_data"
      }
     ],
     "persistentId": "b9337c6d-1f41-4f9b-8351-4d8d6b8d8679",
     "text": "fig, ax= plt.subplots(figsize=(10, 10))\n\n# Plot the analytical separation of M31 and M33\nax.semilogy(snap_id, Rj_MW_M33, 'b', lw=5, label='MW-M33 Rj')\n\n# Plot the simulated separation of M31 and M33\nax.semilogy(snap_id, Rj_M31_M33, 'r', lw=5, label='M31-M33 Rj')\n\n\n# Add axis labels\nax.set_xlabel('Snap', fontsize=22)\nax.set_ylabel('Rj(kpc)', fontsize=22)\nax.set_title(\"Rj vs. Snap Time\", fontsize=22)\n\n#adjust tick label font size\nax.xaxis.set_tick_params(labelsize=22)\nax.yaxis.set_tick_params(labelsize=22)\n\n# add a legend with some customizations.\nlegend = ax.legend(loc='upper left',fontsize=20)\n\n# tight layout\nfig.tight_layout()\n\n# Save to a file\nfig.savefig('orbit_M33_R.pdf')"
    },
    "executionTime": "2020-04-23T03:18:07.474Z"
   },
   {
    "cell": {
     "executionCount": 87,
     "executionEventId": "5a223590-f87b-4321-a322-c7bf4045605b",
     "hasError": false,
     "id": "2bf80395-3382-4c50-8542-7b0d5b53b63c",
     "outputs": [
      {
       "data": {
        "text/plain": "[1.444741393735398,\n 2.9141331756552686,\n 1.6946695990691067,\n 1.948570823330607,\n 1.563196483267721,\n 1.3626882534180713,\n 4.558666519996171,\n 1.8185636009980304,\n 2.2617761669747782,\n 2.6619555920340425,\n 2.681858072801591,\n 4.8068297018396615,\n 3.639987144774505,\n 2.680451505526067,\n 2.9142752847147526,\n 2.8210647554964075]"
       },
       "execution_count": 87,
       "metadata": {},
       "output_type": "execute_result"
      }
     ],
     "persistentId": "fd9787f6-14a5-4221-a05a-f52161217f89",
     "text": "Rj_M31_M33"
    },
    "executionTime": "2020-04-23T03:19:38.058Z"
   },
   {
    "cell": {
     "executionCount": 88,
     "executionEventId": "b93a93be-99a6-4a7e-ac95-fff9146cb5fb",
     "hasError": false,
     "id": "41393d75-3f11-4549-a14d-736dc30e7500",
     "outputs": [
      {
       "data": {
        "text/plain": "[1, 51, 101, 151, 201, 251, 301, 351, 401, 451, 501, 551, 601, 651, 701, 751]"
       },
       "execution_count": 88,
       "metadata": {},
       "output_type": "execute_result"
      }
     ],
     "persistentId": "56a7844c-1a64-4930-a2fd-0e0393dcf56d",
     "text": "snap_id"
    },
    "executionTime": "2020-04-23T03:20:09.595Z"
   },
   {
    "cell": {
     "executionCount": 89,
     "executionEventId": "eb9a87fa-2a63-4321-95cd-1503fc264cc4",
     "hasError": false,
     "id": "559de896-90d8-49ee-aa10-afc6a2f2d250",
     "outputs": [],
     "persistentId": "41f7941c-97b8-4d81-8622-056b3cdd5e1f",
     "text": "t = Snap(101)"
    },
    "executionTime": "2020-04-23T03:20:47.329Z"
   },
   {
    "cell": {
     "executionCount": 90,
     "executionEventId": "02bc3def-d33e-46f9-945a-107065f11295",
     "hasError": false,
     "id": "edac13f5-0289-4387-a6d8-f1829088ce8d",
     "outputs": [
      {
       "data": {
        "text/plain": "(1.6946695990691067, 290.2415330764903)"
       },
       "execution_count": 90,
       "metadata": {},
       "output_type": "execute_result"
      }
     ],
     "persistentId": "9f0c1eed-3e1e-4893-8f1f-094683db3a16",
     "text": "t.Rj()"
    },
    "executionTime": "2020-04-23T03:21:06.167Z"
   },
   {
    "cell": {
     "executionCount": 91,
     "executionEventId": "258a4566-3c2e-4d7f-a88a-3fe5c5aa3ef3",
     "hasError": false,
     "id": "559de896-90d8-49ee-aa10-afc6a2f2d250",
     "outputs": [],
     "persistentId": "41f7941c-97b8-4d81-8622-056b3cdd5e1f",
     "text": "t = Snap(100)"
    },
    "executionTime": "2020-04-23T03:21:11.287Z"
   },
   {
    "cell": {
     "executionCount": 92,
     "executionEventId": "fb78e407-a9bc-4a0c-ae91-e060408f2fcd",
     "hasError": false,
     "id": "edac13f5-0289-4387-a6d8-f1829088ce8d",
     "outputs": [
      {
       "data": {
        "text/plain": "(17.86029433435545, 291.04858331853455)"
       },
       "execution_count": 92,
       "metadata": {},
       "output_type": "execute_result"
      }
     ],
     "persistentId": "9f0c1eed-3e1e-4893-8f1f-094683db3a16",
     "text": "t.Rj()"
    },
    "executionTime": "2020-04-23T03:21:26.736Z"
   },
   {
    "cell": {
     "executionCount": 93,
     "executionEventId": "cf9b2b52-96a3-4234-820f-99163140875c",
     "hasError": false,
     "id": "559de896-90d8-49ee-aa10-afc6a2f2d250",
     "outputs": [],
     "persistentId": "41f7941c-97b8-4d81-8622-056b3cdd5e1f",
     "text": "t = Snap(99)"
    },
    "executionTime": "2020-04-23T03:21:52.408Z"
   },
   {
    "cell": {
     "executionCount": 94,
     "executionEventId": "2ffd5bf4-b1b9-40af-a028-e8cc93adc005",
     "hasError": false,
     "id": "edac13f5-0289-4387-a6d8-f1829088ce8d",
     "outputs": [
      {
       "data": {
        "text/plain": "(1.6734396454618228, 292.15500313251613)"
       },
       "execution_count": 94,
       "metadata": {},
       "output_type": "execute_result"
      }
     ],
     "persistentId": "9f0c1eed-3e1e-4893-8f1f-094683db3a16",
     "text": "t.Rj()"
    },
    "executionTime": "2020-04-23T03:22:06.770Z"
   },
   {
    "cell": {
     "executionCount": 1,
     "executionEventId": "b5247861-ebc0-4b74-b141-0b8cef8ba843",
     "hasError": false,
     "id": "9e3738b9-8c3a-416e-b616-28031fe543de",
     "outputs": [],
     "persistentId": "0c0b76d9-3d1a-4a46-859e-e72e8cb5329a",
     "text": "import numpy as np\nimport astropy.units as u\nfrom astropy.constants import G\n\n# import plotting modules\nimport matplotlib.pyplot as plt\nimport matplotlib\n%matplotlib inline\n\n# my modules\nfrom ReadFile import Read\n\n# edit CenterOfMass2 to Calculate COM of all components \nfrom CenterOfMass2 import CenterOfMass\n# edit GalaxyMAss to Calculate Mass of all components \nfrom GalaxyMass import ComponentMass\n"
    },
    "executionTime": "2020-04-25T00:54:23.422Z"
   },
   {
    "cell": {
     "executionCount": 2,
     "executionEventId": "2eb2623a-1016-4a3f-89ea-80610b0085d8",
     "hasError": false,
     "id": "58376bf2-b8c7-49fc-a18b-10ebbf1bc838",
     "outputs": [
      {
       "data": {
        "text/plain": "3.141592653589793"
       },
       "execution_count": 2,
       "metadata": {},
       "output_type": "execute_result"
      }
     ],
     "persistentId": "ae099661-2e79-4c8f-b3e6-186bbacc01f8",
     "text": "np.pi"
    },
    "executionTime": "2020-04-25T00:54:32.362Z"
   },
   {
    "cell": {
     "executionCount": 3,
     "executionEventId": "9909a380-4451-4a15-91e6-9dc4bf764876",
     "hasError": true,
     "id": "58376bf2-b8c7-49fc-a18b-10ebbf1bc838",
     "outputs": [
      {
       "ename": "NameError",
       "evalue": "name 'e10' is not defined",
       "output_type": "error",
       "traceback": [
        "\u001b[0;31m---------------------------------------------------------------------------\u001b[0m",
        "\u001b[0;31mNameError\u001b[0m                                 Traceback (most recent call last)",
        "\u001b[0;32m<ipython-input-3-0713d61862c0>\u001b[0m in \u001b[0;36m<module>\u001b[0;34m\u001b[0m\n\u001b[0;32m----> 1\u001b[0;31m \u001b[0me10\u001b[0m\u001b[0;34m\u001b[0m\u001b[0;34m\u001b[0m\u001b[0m\n\u001b[0m",
        "\u001b[0;31mNameError\u001b[0m: name 'e10' is not defined"
       ]
      }
     ],
     "persistentId": "ae099661-2e79-4c8f-b3e6-186bbacc01f8",
     "text": "e10"
    },
    "executionTime": "2020-04-25T00:54:35.728Z"
   },
   {
    "cell": {
     "executionCount": 4,
     "executionEventId": "ff90011d-db3c-42ab-b744-490b8997e7e6",
     "hasError": false,
     "id": "58376bf2-b8c7-49fc-a18b-10ebbf1bc838",
     "outputs": [
      {
       "data": {
        "text/plain": "10000000000.0"
       },
       "execution_count": 4,
       "metadata": {},
       "output_type": "execute_result"
      }
     ],
     "persistentId": "ae099661-2e79-4c8f-b3e6-186bbacc01f8",
     "text": "1e10"
    },
    "executionTime": "2020-04-25T00:54:52.024Z"
   },
   {
    "cell": {
     "executionCount": 5,
     "executionEventId": "a27867ea-f757-40ac-bc69-f350d9574f81",
     "hasError": false,
     "id": "58376bf2-b8c7-49fc-a18b-10ebbf1bc838",
     "outputs": [
      {
       "data": {
        "text/plain": "1e-07"
       },
       "execution_count": 5,
       "metadata": {},
       "output_type": "execute_result"
      }
     ],
     "persistentId": "ae099661-2e79-4c8f-b3e6-186bbacc01f8",
     "text": "1e-7"
    },
    "executionTime": "2020-04-25T00:54:59.748Z"
   },
   {
    "cell": {
     "executionCount": 6,
     "executionEventId": "e0e1b98b-ee14-4a37-8837-596362d9b63e",
     "hasError": true,
     "id": "58376bf2-b8c7-49fc-a18b-10ebbf1bc838",
     "outputs": [
      {
       "ename": "SyntaxError",
       "evalue": "invalid syntax (<ipython-input-6-152ac42a0d9b>, line 1)",
       "output_type": "error",
       "traceback": [
        "\u001b[0;36m  File \u001b[0;32m\"<ipython-input-6-152ac42a0d9b>\"\u001b[0;36m, line \u001b[0;32m1\u001b[0m\n\u001b[0;31m    mu0 = 4*np.pi*1e(-7)\u001b[0m\n\u001b[0m                   ^\u001b[0m\n\u001b[0;31mSyntaxError\u001b[0m\u001b[0;31m:\u001b[0m invalid syntax\n"
       ]
      }
     ],
     "persistentId": "ae099661-2e79-4c8f-b3e6-186bbacc01f8",
     "text": "mu0 = 4*np.pi*1e(-7)\nq = 1.609*1e(-19)\ng = 9.81\ny = 0.01\nm = 9.11*1e(-7)"
    },
    "executionTime": "2020-04-25T00:56:19.010Z"
   },
   {
    "cell": {
     "executionCount": 7,
     "executionEventId": "f8ee6e79-8e6f-4cbd-922d-f20b94b307b2",
     "hasError": false,
     "id": "58376bf2-b8c7-49fc-a18b-10ebbf1bc838",
     "outputs": [],
     "persistentId": "ae099661-2e79-4c8f-b3e6-186bbacc01f8",
     "text": "mu0 = 4*np.pi*1e-7\nq = 1.609*1e-19\ng = 9.81\ny = 0.01\nm = 9.11*1e-7"
    },
    "executionTime": "2020-04-25T00:56:39.763Z"
   },
   {
    "cell": {
     "executionCount": 8,
     "executionEventId": "4c347eab-3938-4437-89af-e3c4f73d37de",
     "hasError": false,
     "id": "05b92604-5941-4abf-9c9e-b95345d6af50",
     "outputs": [
      {
       "data": {
        "text/plain": "9.109999999999999e-07"
       },
       "execution_count": 8,
       "metadata": {},
       "output_type": "execute_result"
      }
     ],
     "persistentId": "5b75f9f1-0acd-4e74-84b8-0f5a2a188a8f",
     "text": "m"
    },
    "executionTime": "2020-04-25T00:56:41.751Z"
   },
   {
    "cell": {
     "executionCount": 9,
     "executionEventId": "8a252d7c-0a0a-4143-8ade-2994aa393030",
     "hasError": false,
     "id": "05b92604-5941-4abf-9c9e-b95345d6af50",
     "outputs": [
      {
       "data": {
        "text/plain": "1.2205009671890431e-40"
       },
       "execution_count": 9,
       "metadata": {},
       "output_type": "execute_result"
      }
     ],
     "persistentId": "5b75f9f1-0acd-4e74-84b8-0f5a2a188a8f",
     "text": "((mu0*q**2)/(6*np.pi*3*1e8*m))*np.sqrt((2*1.8676*1e12)/y)"
    },
    "executionTime": "2020-04-25T00:58:25.680Z"
   },
   {
    "cell": {
     "executionCount": 10,
     "executionEventId": "ebc704a1-bbd3-48b7-be38-de96a0db9db1",
     "hasError": false,
     "id": "58376bf2-b8c7-49fc-a18b-10ebbf1bc838",
     "outputs": [],
     "persistentId": "ae099661-2e79-4c8f-b3e6-186bbacc01f8",
     "text": "mu0 = 4*np.pi*1e-7\nq = 1.609*1e-19\ng = 9.81\ny = 0.01\nm = 9.11*1e-31"
    },
    "executionTime": "2020-04-25T00:59:00.176Z"
   },
   {
    "cell": {
     "executionCount": 11,
     "executionEventId": "1d81a04e-ca76-4c6a-a22f-1360f0a981aa",
     "hasError": false,
     "id": "05b92604-5941-4abf-9c9e-b95345d6af50",
     "outputs": [
      {
       "data": {
        "text/plain": "1.220500967189043e-16"
       },
       "execution_count": 11,
       "metadata": {},
       "output_type": "execute_result"
      }
     ],
     "persistentId": "5b75f9f1-0acd-4e74-84b8-0f5a2a188a8f",
     "text": "((mu0*q**2)/(6*np.pi*3*1e8*m))*np.sqrt((2*1.8676*1e12)/y)"
    },
    "executionTime": "2020-04-25T00:59:02.093Z"
   },
   {
    "cell": {
     "executionCount": 1,
     "executionEventId": "b937cac8-8754-48c4-bcd6-145281de9b48",
     "hasError": false,
     "id": "83ae0f52-187a-4c26-8715-af52c7d0cfb0",
     "outputs": [],
     "persistentId": "c19ce159-9811-4a98-b843-6bf704c73071",
     "text": "class Snap:\n    \"\"\"This is a class for each Snap with M31, MW, M33\"\"\"\n    \n    def __init__(self,Snap_number):\n        # get the snap file name of MW M31 and M33\n        # Inputs: Snapnumber\n        \n        self.Snap_number = Snap_number\n        self.MWfilename = \"VLowRes/\" + 'MW' + \"_VLowRes/\" + 'MW' +  \"_{:03d}\".format(self.Snap_number) + \".txt\"\n        self.M31filename = \"VLowRes/\" + 'M31' + \"_VLowRes/\" + 'M31' +  \"_{:03d}\".format(self.Snap_number) + \".txt\"\n        self.M33filename = \"VLowRes/\" + 'M33' + \"_VLowRes/\" + 'M33' +  \"_{:03d}\".format(self.Snap_number) + \".txt\"\n        \n    def COM(self):\n        # Calculate the COM Position of MW, M31 and M33 \n        \n        MW_COM = CenterOfMass(self.MWfilename)\n        M31_COM = CenterOfMass(self.M31filename)\n        M33_COM = CenterOfMass(self.M31filename)\n        \n        # For MW and M31 delta = 0.1 and VelDec = 2\n        # For M33 dalta = 0.1 and VelDec = 4\n        \n        COMP_MW = MW_COM.COM_P(0.1,2)\n        COMP_M31 = M31_COM.COM_P(0.1,2)\n        COMP_M33 = M33_COM.COM_P(0.1,4)\n        self.COMP_MW = COMP_MW.value\n        self.COMP_M31 = COMP_M31.value\n        self.COMP_M33 = COMP_M33.value\n        \n        return self.COMP_MW, self.COMP_M31, self.COMP_M33\n    \n    \n    def COMdiff(self,galaxy1,galaxy2):\n        # Calculate the COM Position distance of two Galaxy\n        \n        COMdiff = np.sqrt((galaxy1[0]-galaxy2[0])**2+(galaxy1[1]-galaxy2[1])**2+(galaxy1[2]-galaxy2[2])**2)        \n        \n        return COMdiff\n    \n    def Total_Mass(self,galaxy_name):\n        # Calculate total Mass of each Galaxy \n        \n        return ComponentMass(galaxy_name) \n    \n    def Mass_enclose(self,PreRjMW_M33,PreRjMW_M31):\n        # Calculate the Mass enclose less than the distance between two Galaxy COM Position\n        \n        #Calculate COM Positoon\n        self.COMP_MW, self.COMP_M31, self.COMP_M33 = self.COM()\n        \n        #Calculate MW_M33 M31_M33 COMP difference\n        self.MW_M33diff = self.COMdiff(self.COMP_MW,self.COMP_M33)\n        self.M31_M33diff = self.COMdiff(self.COMP_M31,self.COMP_M33)\n        \n        #Calculate the mass inclose\n        self.MW_enclose = Mass_enclose(self.MWfilename, self.MW_M33diff,self.COMP_MW)\n        self.M31_enclose = Mass_enclose(self.M31filename, self.M31_M33diff,self.COMP_M31)\n        self.M33_enclose_MW = Mass_enclose(self.M33filename, PreRjMW_M33,self.COMP_M33)\n        self.M33_enclose_M31 = Mass_enclose(self.M33filename, PreRjMW_M31,self.COMP_M33)\n        \n        return self.M31_enclose, self.MW_enclose, self.M33_enclose_MW, self.M33_enclose_M31\n    \n    def Rj(self,PreRjMW_M33=10000,PreRjMW_M31=10000):\n        # Calculate the Jacobi Radius of M31-M33 and MW-M33 system\n        # Rj = r*(Msat/Mhost(<r))**(1/3)\n        # Msat is M33, Mhost is enclose mass of MW and M31\n        self.MWmass = self.Total_Mass(self.MWfilename)\n        self.M31mass = self.Total_Mass(self.M31filename)\n        self.M33mass = self.Total_Mass(self.M33filename)\n        \n        self.COMP_MW, self.COMP_M31, self.COMP_M33 = self.COM()\n        \n        self.MW_M33diff = self.COMdiff(self.COMP_MW,self.COMP_M33)\n        self.M31_M33diff = self.COMdiff(self.COMP_M31,self.COMP_M33)\n        \n        self.M31_enclose, self.MW_enclose, self.M33_enclose_MW, self.M33_enclose_M31= self.Mass_enclose(PreRjMW_M33,PreRjMW_M31)\n        \n        self.Rj_MW_M33 = self.MW_M33diff *(self.M33_enclose_MW/self.MW_enclose)**(1/3)\n        self.Rj_M31_M33 = self.M31_M33diff *(self.M33_enclose_M31/self.M31_enclose)**(1/3)\n        \n        return self.Rj_MW_M33, self.Rj_M31_M33\n    \n    def select_star(self):\n        \n        self.Rj_M31_M33, self.Rj_MW_M33 = self.Rj()\n        \n        self.tidal_star_MW, self.tidal_star_M31, self.tidal_star_total = Select_tides_star(self.M33filename,self.Rj_MW_M33,self.Rj_M31_M33,self.COMP_M33)\n        \n        return self.tidal_star_MW, self.tidal_star_M31, self.tidal_star_total\n"
    },
    "executionTime": "2020-05-04T21:34:07.834Z"
   },
   {
    "cell": {
     "executionCount": 2,
     "executionEventId": "531554a5-9d4b-4928-827c-387cb30861b7",
     "hasError": false,
     "id": "1236c981-b489-4e5a-9596-2cb6333fe884",
     "outputs": [],
     "persistentId": "089ba10f-5132-447a-b512-d5392113a174",
     "text": "t = Snap(100)"
    },
    "executionTime": "2020-05-04T21:34:09.878Z"
   },
   {
    "cell": {
     "executionCount": 3,
     "executionEventId": "4df39e56-df39-44a9-9b4f-bb1250d9403f",
     "hasError": true,
     "id": "1e58021e-3340-4ca8-829b-380a1f83dfed",
     "outputs": [
      {
       "ename": "NameError",
       "evalue": "name 'CenterOfMass' is not defined",
       "output_type": "error",
       "traceback": [
        "\u001b[0;31m---------------------------------------------------------------------------\u001b[0m",
        "\u001b[0;31mNameError\u001b[0m                                 Traceback (most recent call last)",
        "\u001b[0;32m<ipython-input-3-9b1ddfd5d0af>\u001b[0m in \u001b[0;36m<module>\u001b[0;34m\u001b[0m\n\u001b[0;32m----> 1\u001b[0;31m \u001b[0mt\u001b[0m\u001b[0;34m.\u001b[0m\u001b[0mCOM\u001b[0m\u001b[0;34m(\u001b[0m\u001b[0;34m)\u001b[0m\u001b[0;34m\u001b[0m\u001b[0;34m\u001b[0m\u001b[0m\n\u001b[0m",
        "\u001b[0;32m<ipython-input-1-e9f575b86f1a>\u001b[0m in \u001b[0;36mCOM\u001b[0;34m(self)\u001b[0m\n\u001b[1;32m     14\u001b[0m         \u001b[0;31m# Calculate the COM Position of MW, M31 and M33\u001b[0m\u001b[0;34m\u001b[0m\u001b[0;34m\u001b[0m\u001b[0;34m\u001b[0m\u001b[0m\n\u001b[1;32m     15\u001b[0m \u001b[0;34m\u001b[0m\u001b[0m\n\u001b[0;32m---> 16\u001b[0;31m         \u001b[0mMW_COM\u001b[0m \u001b[0;34m=\u001b[0m \u001b[0mCenterOfMass\u001b[0m\u001b[0;34m(\u001b[0m\u001b[0mself\u001b[0m\u001b[0;34m.\u001b[0m\u001b[0mMWfilename\u001b[0m\u001b[0;34m)\u001b[0m\u001b[0;34m\u001b[0m\u001b[0;34m\u001b[0m\u001b[0m\n\u001b[0m\u001b[1;32m     17\u001b[0m         \u001b[0mM31_COM\u001b[0m \u001b[0;34m=\u001b[0m \u001b[0mCenterOfMass\u001b[0m\u001b[0;34m(\u001b[0m\u001b[0mself\u001b[0m\u001b[0;34m.\u001b[0m\u001b[0mM31filename\u001b[0m\u001b[0;34m)\u001b[0m\u001b[0;34m\u001b[0m\u001b[0;34m\u001b[0m\u001b[0m\n\u001b[1;32m     18\u001b[0m         \u001b[0mM33_COM\u001b[0m \u001b[0;34m=\u001b[0m \u001b[0mCenterOfMass\u001b[0m\u001b[0;34m(\u001b[0m\u001b[0mself\u001b[0m\u001b[0;34m.\u001b[0m\u001b[0mM31filename\u001b[0m\u001b[0;34m)\u001b[0m\u001b[0;34m\u001b[0m\u001b[0;34m\u001b[0m\u001b[0m\n",
        "\u001b[0;31mNameError\u001b[0m: name 'CenterOfMass' is not defined"
       ]
      }
     ],
     "persistentId": "6bfb21a5-851e-441a-80f3-528b3180adbe",
     "text": "t.COM()"
    },
    "executionTime": "2020-05-04T21:34:10.908Z"
   },
   {
    "cell": {
     "executionCount": 4,
     "executionEventId": "cac6bfa8-dc89-4801-aaec-3078cb114f49",
     "hasError": false,
     "id": "86e88c3c-b094-43ae-a556-0d107b80698d",
     "outputs": [],
     "persistentId": "0c0b76d9-3d1a-4a46-859e-e72e8cb5329a",
     "text": "import numpy as np\nimport astropy.units as u\nfrom astropy.constants import G\n\n# import plotting modules\nimport matplotlib.pyplot as plt\nimport matplotlib\n%matplotlib inline\n\n# my modules\nfrom ReadFile import Read\n\n# edit CenterOfMass2 to Calculate COM of all components \nfrom CenterOfMass2 import CenterOfMass\n# edit GalaxyMAss to Calculate Mass of all components \nfrom GalaxyMass import ComponentMass\n"
    },
    "executionTime": "2020-05-04T21:34:19.733Z"
   },
   {
    "cell": {
     "executionCount": 5,
     "executionEventId": "ceaf86f3-3ff7-4511-9ffd-8aef9bdd32ad",
     "hasError": false,
     "id": "8d4f467c-4051-4da3-9a6b-b51fe5b35c7f",
     "outputs": [],
     "persistentId": "5064a642-f2ac-42d6-a048-5b0a9c852881",
     "text": "def Mass_enclose(filename,radius,COMP):\n# function to compute the mass of all particles less than the distance between two Galaxy COM position \n# Inputs:\n#       filename: galaxyfile for input\n#       radius: COM position difference in kpc\n#       COMP: COM positon of each galaxy [x, y, z]\n#       output: Mass in units of Msun. \n    \n    # read in the file \n    time, total, data = Read(filename)\n    \n    # gather particles with the same type and sum up the mass\n    mass = np.round(data[np.sqrt((data['x']-COMP[0])**2+(data['y']-COMP[1])**2+(data['z']-COMP[2])**2) < radius]['m'].sum() * 1e10, 3)\n    \n    # return the mass \n    return mass\n"
    },
    "executionTime": "2020-05-04T21:34:21.554Z"
   },
   {
    "cell": {
     "executionCount": 6,
     "executionEventId": "1d73c6bf-e9b4-4837-8c96-147b85fab7bb",
     "hasError": false,
     "id": "519c4814-e264-4611-8d1b-98c700427853",
     "outputs": [],
     "persistentId": "02f16121-7895-4b2d-b448-5f48407eb681",
     "text": "def Select_tides_star(M33,Rj_MW_M33,Rj_M31_M33,COMP_M33):\n    \"\"\"Select tides star of M33\"\"\"\n    # Inputs:\n    #      M33: each snap file name of M33\n    #      Rj_MW_M33: Jacobi Radius of MW and M33 system\n    #      Rj_M1_M33: Jacobi Radius of M31 and M33 system\n    #      COMP_M33: COM positon of M33 [x, y, z]\n    # Outpur:\n    #      tidal_star con\n    time, total, data = Read(M33)\n    MW_index = np.where(np.sqrt((data['x']-COMP_M33[0])**2+(data['y']-COMP_M33[1])**2+(data['z']-COMP_M33[2])**2) >= Rj_MW_M33)\n    M31_index = np.where(np.sqrt((data['x']-COMP_M33[0])**2+(data['y']-COMP_M33[1])**2+(data['z']-COMP_M33[2])**2) >= Rj_M31_M33)\n    total_index = M31_index\n    for i in range(len(MW_index)):\n        if MW_index[i] not in total_index:\n            total_index = np.append(total_index,MW_index[i])\n    \n    tidal_star_MW = data[MW_index]\n    tidal_star_M31 = data[M31_index]\n    tidal_star_total = data[total_index]\n    \n    return tidal_star_MW, tidal_star_M31, tidal_star_total"
    },
    "executionTime": "2020-05-04T21:34:22.863Z"
   },
   {
    "cell": {
     "executionCount": 7,
     "executionEventId": "5a51b4e6-ab17-4c56-baa9-9387a3161df2",
     "hasError": false,
     "id": "83ae0f52-187a-4c26-8715-af52c7d0cfb0",
     "outputs": [],
     "persistentId": "c19ce159-9811-4a98-b843-6bf704c73071",
     "text": "class Snap:\n    \"\"\"This is a class for each Snap with M31, MW, M33\"\"\"\n    \n    def __init__(self,Snap_number):\n        # get the snap file name of MW M31 and M33\n        # Inputs: Snapnumber\n        \n        self.Snap_number = Snap_number\n        self.MWfilename = \"VLowRes/\" + 'MW' + \"_VLowRes/\" + 'MW' +  \"_{:03d}\".format(self.Snap_number) + \".txt\"\n        self.M31filename = \"VLowRes/\" + 'M31' + \"_VLowRes/\" + 'M31' +  \"_{:03d}\".format(self.Snap_number) + \".txt\"\n        self.M33filename = \"VLowRes/\" + 'M33' + \"_VLowRes/\" + 'M33' +  \"_{:03d}\".format(self.Snap_number) + \".txt\"\n        \n    def COM(self):\n        # Calculate the COM Position of MW, M31 and M33 \n        \n        MW_COM = CenterOfMass(self.MWfilename)\n        M31_COM = CenterOfMass(self.M31filename)\n        M33_COM = CenterOfMass(self.M31filename)\n        \n        # For MW and M31 delta = 0.1 and VelDec = 2\n        # For M33 dalta = 0.1 and VelDec = 4\n        \n        COMP_MW = MW_COM.COM_P(0.1,2)\n        COMP_M31 = M31_COM.COM_P(0.1,2)\n        COMP_M33 = M33_COM.COM_P(0.1,4)\n        self.COMP_MW = COMP_MW.value\n        self.COMP_M31 = COMP_M31.value\n        self.COMP_M33 = COMP_M33.value\n        \n        return self.COMP_MW, self.COMP_M31, self.COMP_M33\n    \n    \n    def COMdiff(self,galaxy1,galaxy2):\n        # Calculate the COM Position distance of two Galaxy\n        \n        COMdiff = np.sqrt((galaxy1[0]-galaxy2[0])**2+(galaxy1[1]-galaxy2[1])**2+(galaxy1[2]-galaxy2[2])**2)        \n        \n        return COMdiff\n    \n    def Total_Mass(self,galaxy_name):\n        # Calculate total Mass of each Galaxy \n        \n        return ComponentMass(galaxy_name) \n    \n    def Mass_enclose(self,PreRjMW_M33,PreRjMW_M31):\n        # Calculate the Mass enclose less than the distance between two Galaxy COM Position\n        \n        #Calculate COM Positoon\n        self.COMP_MW, self.COMP_M31, self.COMP_M33 = self.COM()\n        \n        #Calculate MW_M33 M31_M33 COMP difference\n        self.MW_M33diff = self.COMdiff(self.COMP_MW,self.COMP_M33)\n        self.M31_M33diff = self.COMdiff(self.COMP_M31,self.COMP_M33)\n        \n        #Calculate the mass inclose\n        self.MW_enclose = Mass_enclose(self.MWfilename, self.MW_M33diff,self.COMP_MW)\n        self.M31_enclose = Mass_enclose(self.M31filename, self.M31_M33diff,self.COMP_M31)\n        self.M33_enclose_MW = Mass_enclose(self.M33filename, PreRjMW_M33,self.COMP_M33)\n        self.M33_enclose_M31 = Mass_enclose(self.M33filename, PreRjMW_M31,self.COMP_M33)\n        \n        return self.M31_enclose, self.MW_enclose, self.M33_enclose_MW, self.M33_enclose_M31\n    \n    def Rj(self,PreRjMW_M33=10000,PreRjMW_M31=10000):\n        # Calculate the Jacobi Radius of M31-M33 and MW-M33 system\n        # Rj = r*(Msat/Mhost(<r))**(1/3)\n        # Msat is M33, Mhost is enclose mass of MW and M31\n        self.MWmass = self.Total_Mass(self.MWfilename)\n        self.M31mass = self.Total_Mass(self.M31filename)\n        self.M33mass = self.Total_Mass(self.M33filename)\n        \n        self.COMP_MW, self.COMP_M31, self.COMP_M33 = self.COM()\n        \n        self.MW_M33diff = self.COMdiff(self.COMP_MW,self.COMP_M33)\n        self.M31_M33diff = self.COMdiff(self.COMP_M31,self.COMP_M33)\n        \n        self.M31_enclose, self.MW_enclose, self.M33_enclose_MW, self.M33_enclose_M31= self.Mass_enclose(PreRjMW_M33,PreRjMW_M31)\n        \n        self.Rj_MW_M33 = self.MW_M33diff *(self.M33_enclose_MW/self.MW_enclose)**(1/3)\n        self.Rj_M31_M33 = self.M31_M33diff *(self.M33_enclose_M31/self.M31_enclose)**(1/3)\n        \n        return self.Rj_MW_M33, self.Rj_M31_M33\n    \n    def select_star(self):\n        \n        self.Rj_M31_M33, self.Rj_MW_M33 = self.Rj()\n        \n        self.tidal_star_MW, self.tidal_star_M31, self.tidal_star_total = Select_tides_star(self.M33filename,self.Rj_MW_M33,self.Rj_M31_M33,self.COMP_M33)\n        \n        return self.tidal_star_MW, self.tidal_star_M31, self.tidal_star_total\n"
    },
    "executionTime": "2020-05-04T21:34:24.021Z"
   },
   {
    "cell": {
     "executionCount": 8,
     "executionEventId": "bab58d07-f930-4a6e-9d82-dfd3fe242445",
     "hasError": false,
     "id": "1236c981-b489-4e5a-9596-2cb6333fe884",
     "outputs": [],
     "persistentId": "089ba10f-5132-447a-b512-d5392113a174",
     "text": "t = Snap(100)"
    },
    "executionTime": "2020-05-04T21:34:24.858Z"
   },
   {
    "cell": {
     "executionCount": 9,
     "executionEventId": "b798fafd-49b8-406c-b89a-966e9852b3d5",
     "hasError": false,
     "id": "1e58021e-3340-4ca8-829b-380a1f83dfed",
     "outputs": [
      {
       "data": {
        "text/plain": "(array([-10.06,  16.78,  -8.86]),\n array([-281.11,  501.26, -211.09]),\n array([-293.22,  505.09, -215.  ]))"
       },
       "execution_count": 9,
       "metadata": {},
       "output_type": "execute_result"
      }
     ],
     "persistentId": "6bfb21a5-851e-441a-80f3-528b3180adbe",
     "text": "t.COM()"
    },
    "executionTime": "2020-05-04T21:34:29.072Z"
   },
   {
    "cell": {
     "executionCount": 10,
     "executionEventId": "71ee5820-947c-46d9-ac62-7f8805596ec2",
     "hasError": false,
     "id": "efbb56f4-ad6a-4df6-b3b7-88b09b4ca57c",
     "outputs": [
      {
       "data": {
        "text/plain": "13.289435653932042"
       },
       "execution_count": 10,
       "metadata": {},
       "output_type": "execute_result"
      }
     ],
     "persistentId": "682df9b6-67ca-4e91-8bf9-544063254ed6",
     "text": "np.sqrt((-293.22-(-281.11))**2 + (505.09-501.26)**2 +(-215-(-211.09))**2)"
    },
    "executionTime": "2020-05-04T21:34:30.385Z"
   },
   {
    "cell": {
     "executionCount": 11,
     "executionEventId": "b3c94922-11cf-43d7-abed-c8572d084476",
     "hasError": true,
     "id": "8c1b0943-5530-4dea-9320-0fd1b449af6d",
     "outputs": [
      {
       "ename": "TypeError",
       "evalue": "Mass_enclose() missing 2 required positional arguments: 'PreRjMW_M33' and 'PreRjMW_M31'",
       "output_type": "error",
       "traceback": [
        "\u001b[0;31m---------------------------------------------------------------------------\u001b[0m",
        "\u001b[0;31mTypeError\u001b[0m                                 Traceback (most recent call last)",
        "\u001b[0;32m<ipython-input-11-8db7bf9d9a56>\u001b[0m in \u001b[0;36m<module>\u001b[0;34m\u001b[0m\n\u001b[0;32m----> 1\u001b[0;31m \u001b[0mt\u001b[0m\u001b[0;34m.\u001b[0m\u001b[0mMass_enclose\u001b[0m\u001b[0;34m(\u001b[0m\u001b[0;34m)\u001b[0m\u001b[0;34m\u001b[0m\u001b[0;34m\u001b[0m\u001b[0m\n\u001b[0m",
        "\u001b[0;31mTypeError\u001b[0m: Mass_enclose() missing 2 required positional arguments: 'PreRjMW_M33' and 'PreRjMW_M31'"
       ]
      }
     ],
     "persistentId": "8862a6d1-7d55-4adc-804b-3a6418fb515c",
     "text": "t.Mass_enclose()"
    },
    "executionTime": "2020-05-04T21:34:31.595Z"
   },
   {
    "cell": {
     "executionCount": 12,
     "executionEventId": "37a22d37-fcce-4ba4-955f-780e311f4589",
     "hasError": false,
     "id": "8c1b0943-5530-4dea-9320-0fd1b449af6d",
     "outputs": [
      {
       "data": {
        "text/plain": "(80708083740.0, 1724423737999.999, 195913000000.0, 195913000000.0)"
       },
       "execution_count": 12,
       "metadata": {},
       "output_type": "execute_result"
      }
     ],
     "persistentId": "8862a6d1-7d55-4adc-804b-3a6418fb515c",
     "text": "t.Mass_enclose(10000,10000)"
    },
    "executionTime": "2020-05-04T21:34:48.861Z"
   },
   {
    "cell": {
     "executionCount": 13,
     "executionEventId": "99b29928-0857-4150-9590-396cffe19e38",
     "hasError": false,
     "id": "8c1b0943-5530-4dea-9320-0fd1b449af6d",
     "outputs": [
      {
       "data": {
        "text/plain": "(80708083740.0, 1724423737999.999, 188821706000.0, 188821706000.0)"
       },
       "execution_count": 13,
       "metadata": {},
       "output_type": "execute_result"
      }
     ],
     "persistentId": "8862a6d1-7d55-4adc-804b-3a6418fb515c",
     "text": "t.Mass_enclose(1000,1000)"
    },
    "executionTime": "2020-05-04T21:35:43.410Z"
   },
   {
    "cell": {
     "executionCount": 14,
     "executionEventId": "64428d65-b207-4cc3-90b3-5465e5f09ebb",
     "hasError": false,
     "id": "8c1b0943-5530-4dea-9320-0fd1b449af6d",
     "outputs": [
      {
       "data": {
        "text/plain": "(80708083740.0, 1724423737999.999, 12093522400.0, 12093522400.0)"
       },
       "execution_count": 14,
       "metadata": {},
       "output_type": "execute_result"
      }
     ],
     "persistentId": "8862a6d1-7d55-4adc-804b-3a6418fb515c",
     "text": "t.Mass_enclose(100,100)"
    },
    "executionTime": "2020-05-04T21:36:02.601Z"
   },
   {
    "cell": {
     "executionCount": 15,
     "executionEventId": "d2c5520c-8102-488c-9234-9fb6d174316b",
     "hasError": false,
     "id": "8c1b0943-5530-4dea-9320-0fd1b449af6d",
     "outputs": [
      {
       "data": {
        "text/plain": "(80708083740.0, 1724423737999.999, 195913000000.0, 195913000000.0)"
       },
       "execution_count": 15,
       "metadata": {},
       "output_type": "execute_result"
      }
     ],
     "persistentId": "8862a6d1-7d55-4adc-804b-3a6418fb515c",
     "text": "t.Mass_enclose(100000,100000)"
    },
    "executionTime": "2020-05-04T21:36:35.736Z"
   },
   {
    "cell": {
     "executionCount": 16,
     "executionEventId": "94c84057-2642-4d99-8331-c17b8a097f7a",
     "hasError": false,
     "id": "8c1b0943-5530-4dea-9320-0fd1b449af6d",
     "outputs": [
      {
       "data": {
        "text/plain": "(80708083740.0, 1724423737999.999, 195913000000.0, 195913000000.0)"
       },
       "execution_count": 16,
       "metadata": {},
       "output_type": "execute_result"
      }
     ],
     "persistentId": "8862a6d1-7d55-4adc-804b-3a6418fb515c",
     "text": "t.Mass_enclose(10000,10000)"
    },
    "executionTime": "2020-05-04T21:37:08.733Z"
   },
   {
    "cell": {
     "executionCount": 17,
     "executionEventId": "cce35b01-914f-40ff-a1f8-adc2feede42e",
     "hasError": false,
     "id": "11391be6-ae38-461f-b38c-c486fa127084",
     "outputs": [],
     "persistentId": "6a604084-d72d-4d1e-80fe-fc44e4aafe90",
     "text": "a,b = t.Rj()"
    },
    "executionTime": "2020-05-04T21:37:33.751Z"
   },
   {
    "cell": {
     "executionCount": 18,
     "executionEventId": "ea7d0c6c-1642-4243-9188-0d94a9151f27",
     "hasError": false,
     "id": "6065a732-46e5-4c44-92ae-4887672f4a64",
     "outputs": [
      {
       "data": {
        "text/plain": "291.04858331853455"
       },
       "execution_count": 18,
       "metadata": {},
       "output_type": "execute_result"
      }
     ],
     "persistentId": "3783232f-adf8-4937-a214-1619d194bdb1",
     "text": "a"
    },
    "executionTime": "2020-05-04T21:37:41.897Z"
   },
   {
    "cell": {
     "executionCount": 19,
     "executionEventId": "519c6ff4-1e2c-45f5-8ea5-8f45933d48dd",
     "hasError": false,
     "id": "6065a732-46e5-4c44-92ae-4887672f4a64",
     "outputs": [
      {
       "data": {
        "text/plain": "17.86029433435545"
       },
       "execution_count": 19,
       "metadata": {},
       "output_type": "execute_result"
      }
     ],
     "persistentId": "3783232f-adf8-4937-a214-1619d194bdb1",
     "text": "b"
    },
    "executionTime": "2020-05-04T21:37:44.385Z"
   },
   {
    "cell": {
     "executionCount": 20,
     "executionEventId": "fd0f6e23-a891-49e5-954d-d4b68f4f5725",
     "hasError": false,
     "id": "84e2bf50-72a3-4c65-a2dc-9bd9711fa481",
     "outputs": [
      {
       "name": "stderr",
       "output_type": "stream",
       "text": "/anaconda3/lib/python3.6/site-packages/ipykernel_launcher.py:15: DeprecationWarning: elementwise comparison failed; this will raise an error in the future.\n  from ipykernel import kernelapp as app\n"
      }
     ],
     "persistentId": "c12d0638-a9a6-444b-8f11-b464b56e0ac5",
     "text": "starMW = []\nstarM31 = []\nstarT = []\nstarMW,starM31,starT = t.select_star()"
    },
    "executionTime": "2020-05-04T21:38:06.076Z"
   },
   {
    "cell": {
     "executionCount": 21,
     "executionEventId": "1b684f14-1d79-4861-ad95-0e43e0e1a396",
     "hasError": false,
     "id": "71a7b314-b3dc-4b31-bee7-b67c75f65ce4",
     "outputs": [
      {
       "data": {
        "text/plain": "14300"
       },
       "execution_count": 21,
       "metadata": {},
       "output_type": "execute_result"
      }
     ],
     "persistentId": "e5253a2e-744f-4d93-945c-33a7b299e9a7",
     "text": "len(starMW)"
    },
    "executionTime": "2020-05-04T21:38:08.059Z"
   },
   {
    "cell": {
     "executionCount": 22,
     "executionEventId": "30362dd5-b61e-450e-b679-8ac794e1fd03",
     "hasError": false,
     "id": "32d28f41-867f-4b7b-bd35-932d9688ce54",
     "outputs": [
      {
       "data": {
        "text/plain": "682"
       },
       "execution_count": 22,
       "metadata": {},
       "output_type": "execute_result"
      }
     ],
     "persistentId": "decda1c2-9f31-4011-baa1-cc2000519aa2",
     "text": "len(starM31)"
    },
    "executionTime": "2020-05-04T21:38:09.903Z"
   },
   {
    "cell": {
     "executionCount": 23,
     "executionEventId": "57c7d3db-fb23-47aa-8250-bc9345d4cc08",
     "hasError": false,
     "id": "31f53d67-938e-477f-8b89-0292d7f332d7",
     "outputs": [
      {
       "data": {
        "text/plain": "14982"
       },
       "execution_count": 23,
       "metadata": {},
       "output_type": "execute_result"
      }
     ],
     "persistentId": "805cf101-458e-4f9d-b006-28cd1484e001",
     "text": "len(starT)"
    },
    "executionTime": "2020-05-04T21:38:16.288Z"
   },
   {
    "cell": {
     "executionCount": 24,
     "executionEventId": "bb81703e-e6c8-4f41-91bb-3f93bfe8767a",
     "hasError": false,
     "id": "31f53d67-938e-477f-8b89-0292d7f332d7",
     "outputs": [
      {
       "data": {
        "text/plain": "14982"
       },
       "execution_count": 24,
       "metadata": {},
       "output_type": "execute_result"
      }
     ],
     "persistentId": "805cf101-458e-4f9d-b006-28cd1484e001",
     "text": "len(starT)"
    },
    "executionTime": "2020-05-04T21:38:17.841Z"
   },
   {
    "cell": {
     "executionCount": 25,
     "executionEventId": "cf38704b-8f1a-470c-8025-d52cf4edce78",
     "hasError": false,
     "id": "83ae0f52-187a-4c26-8715-af52c7d0cfb0",
     "outputs": [],
     "persistentId": "c19ce159-9811-4a98-b843-6bf704c73071",
     "text": "class Snap:\n    \"\"\"This is a class for each Snap with M31, MW, M33\"\"\"\n    \n    def __init__(self,Snap_number):\n        # get the snap file name of MW M31 and M33\n        # Inputs: Snapnumber\n        \n        self.Snap_number = Snap_number\n        self.MWfilename = \"VLowRes/\" + 'MW' + \"_VLowRes/\" + 'MW' +  \"_{:03d}\".format(self.Snap_number) + \".txt\"\n        self.M31filename = \"VLowRes/\" + 'M31' + \"_VLowRes/\" + 'M31' +  \"_{:03d}\".format(self.Snap_number) + \".txt\"\n        self.M33filename = \"VLowRes/\" + 'M33' + \"_VLowRes/\" + 'M33' +  \"_{:03d}\".format(self.Snap_number) + \".txt\"\n        \n    def COM(self):\n        # Calculate the COM Position of MW, M31 and M33 \n        \n        MW_COM = CenterOfMass(self.MWfilename)\n        M31_COM = CenterOfMass(self.M31filename)\n        M33_COM = CenterOfMass(self.M31filename)\n        \n        # For MW and M31 delta = 0.1 and VelDec = 2\n        # For M33 dalta = 0.1 and VelDec = 4\n        \n        COMP_MW = MW_COM.COM_P(0.1,2)\n        COMP_M31 = M31_COM.COM_P(0.1,2)\n        COMP_M33 = M33_COM.COM_P(0.1,4)\n        self.COMP_MW = COMP_MW.value\n        self.COMP_M31 = COMP_M31.value\n        self.COMP_M33 = COMP_M33.value\n        \n        return self.COMP_MW, self.COMP_M31, self.COMP_M33\n    \n    \n    def COMdiff(self,galaxy1,galaxy2):\n        # Calculate the COM Position distance of two Galaxy\n        \n        COMdiff = np.sqrt((galaxy1[0]-galaxy2[0])**2+(galaxy1[1]-galaxy2[1])**2+(galaxy1[2]-galaxy2[2])**2)        \n        \n        return COMdiff\n    \n    def Total_Mass(self,galaxy_name):\n        # Calculate total Mass of each Galaxy \n        \n        return ComponentMass(galaxy_name) \n    \n    def Mass_enclose(self,PreRjMW_M33,PreRjMW_M31):\n        # Calculate the Mass enclose less than the distance between two Galaxy COM Position\n        \n        #Calculate COM Positoon\n        self.COMP_MW, self.COMP_M31, self.COMP_M33 = self.COM()\n        \n        #Calculate MW_M33 M31_M33 COMP difference\n        self.MW_M33diff = self.COMdiff(self.COMP_MW,self.COMP_M33)\n        self.M31_M33diff = self.COMdiff(self.COMP_M31,self.COMP_M33)\n        \n        #Calculate the mass inclose\n        self.MW_enclose = Mass_enclose(self.MWfilename, self.MW_M33diff,self.COMP_MW)\n        self.M31_enclose = Mass_enclose(self.M31filename, self.M31_M33diff,self.COMP_M31)\n        self.M33_enclose_MW = Mass_enclose(self.M33filename, PreRjMW_M33,self.COMP_M33)\n        self.M33_enclose_M31 = Mass_enclose(self.M33filename, PreRjMW_M31,self.COMP_M33)\n        \n        return self.M31_enclose, self.MW_enclose, self.M33_enclose_MW, self.M33_enclose_M31\n    \n    def Rj(self,PreRjMW_M33=10000,PreRjMW_M31=10000):\n        # Calculate the Jacobi Radius of M31-M33 and MW-M33 system\n        # Rj = r*(Msat/Mhost(<r))**(1/3)\n        # Msat is M33, Mhost is enclose mass of MW and M31\n        self.MWmass = self.Total_Mass(self.MWfilename)\n        self.M31mass = self.Total_Mass(self.M31filename)\n        self.M33mass = self.Total_Mass(self.M33filename)\n        \n        self.COMP_MW, self.COMP_M31, self.COMP_M33 = self.COM()\n        \n        self.MW_M33diff = self.COMdiff(self.COMP_MW,self.COMP_M33)\n        self.M31_M33diff = self.COMdiff(self.COMP_M31,self.COMP_M33)\n        \n        self.M31_enclose, self.MW_enclose, self.M33_enclose_MW, self.M33_enclose_M31= self.Mass_enclose(PreRjMW_M33,PreRjMW_M31)\n        \n        self.Rj_MW_M33 = self.MW_M33diff *(self.M33_enclose_MW/self.MW_enclose)**(1/3)\n        self.Rj_M31_M33 = self.M31_M33diff *(self.M33_enclose_M31/self.M31_enclose)**(1/3)\n        \n        return self.Rj_MW_M33, self.Rj_M31_M33\n    \n    def select_star(self):\n        \n        self.Rj_MW_M33, self.Rj_M31_M33 = self.Rj()\n        \n        self.tidal_star_MW, self.tidal_star_M31, self.tidal_star_total = Select_tides_star(self.M33filename,self.Rj_MW_M33,self.Rj_M31_M33,self.COMP_M33)\n        \n        return self.tidal_star_MW, self.tidal_star_M31, self.tidal_star_total\n"
    },
    "executionTime": "2020-05-04T21:38:52.313Z"
   },
   {
    "cell": {
     "executionCount": 26,
     "executionEventId": "c3103126-d118-4726-a6bd-2e36228ca9d2",
     "hasError": false,
     "id": "1236c981-b489-4e5a-9596-2cb6333fe884",
     "outputs": [],
     "persistentId": "089ba10f-5132-447a-b512-d5392113a174",
     "text": "t = Snap(100)"
    },
    "executionTime": "2020-05-04T21:38:53.398Z"
   },
   {
    "cell": {
     "executionCount": 27,
     "executionEventId": "e1e17562-f21a-4e5b-a8e2-6a91990f3738",
     "hasError": false,
     "id": "1e58021e-3340-4ca8-829b-380a1f83dfed",
     "outputs": [
      {
       "data": {
        "text/plain": "(array([-10.06,  16.78,  -8.86]),\n array([-281.11,  501.26, -211.09]),\n array([-293.22,  505.09, -215.  ]))"
       },
       "execution_count": 27,
       "metadata": {},
       "output_type": "execute_result"
      }
     ],
     "persistentId": "6bfb21a5-851e-441a-80f3-528b3180adbe",
     "text": "t.COM()"
    },
    "executionTime": "2020-05-04T21:38:58.977Z"
   },
   {
    "cell": {
     "executionCount": 28,
     "executionEventId": "f6dd2fc5-8c05-43f0-bd95-18b13e9ba24d",
     "hasError": false,
     "id": "efbb56f4-ad6a-4df6-b3b7-88b09b4ca57c",
     "outputs": [
      {
       "data": {
        "text/plain": "13.289435653932042"
       },
       "execution_count": 28,
       "metadata": {},
       "output_type": "execute_result"
      }
     ],
     "persistentId": "682df9b6-67ca-4e91-8bf9-544063254ed6",
     "text": "np.sqrt((-293.22-(-281.11))**2 + (505.09-501.26)**2 +(-215-(-211.09))**2)"
    },
    "executionTime": "2020-05-04T21:39:48.892Z"
   },
   {
    "cell": {
     "executionCount": 29,
     "executionEventId": "94df4590-8744-4a42-8348-886b615a6755",
     "hasError": false,
     "id": "8c1b0943-5530-4dea-9320-0fd1b449af6d",
     "outputs": [
      {
       "data": {
        "text/plain": "(80708083740.0, 1724423737999.999, 195913000000.0, 195913000000.0)"
       },
       "execution_count": 29,
       "metadata": {},
       "output_type": "execute_result"
      }
     ],
     "persistentId": "8862a6d1-7d55-4adc-804b-3a6418fb515c",
     "text": "t.Mass_enclose(10000,10000)"
    },
    "executionTime": "2020-05-04T21:40:22.171Z"
   },
   {
    "cell": {
     "executionCount": 30,
     "executionEventId": "7c7c38bc-5fca-4e23-b651-91c2fb97c0df",
     "hasError": false,
     "id": "11391be6-ae38-461f-b38c-c486fa127084",
     "outputs": [],
     "persistentId": "6a604084-d72d-4d1e-80fe-fc44e4aafe90",
     "text": "a,b = t.Rj()"
    },
    "executionTime": "2020-05-04T21:40:42.353Z"
   },
   {
    "cell": {
     "executionCount": 31,
     "executionEventId": "877e1a84-9609-4a10-806e-82cd850fc226",
     "hasError": false,
     "id": "6065a732-46e5-4c44-92ae-4887672f4a64",
     "outputs": [
      {
       "data": {
        "text/plain": "(291.04858331853455, 17.86029433435545)"
       },
       "execution_count": 31,
       "metadata": {},
       "output_type": "execute_result"
      }
     ],
     "persistentId": "3783232f-adf8-4937-a214-1619d194bdb1",
     "text": "a,b"
    },
    "executionTime": "2020-05-04T21:40:42.526Z"
   },
   {
    "cell": {
     "executionCount": 32,
     "executionEventId": "56d08f64-a601-4ea7-bb9d-3b7825f13b09",
     "hasError": false,
     "id": "84e2bf50-72a3-4c65-a2dc-9bd9711fa481",
     "outputs": [
      {
       "name": "stderr",
       "output_type": "stream",
       "text": "/anaconda3/lib/python3.6/site-packages/ipykernel_launcher.py:15: DeprecationWarning: elementwise comparison failed; this will raise an error in the future.\n  from ipykernel import kernelapp as app\n"
      }
     ],
     "persistentId": "c12d0638-a9a6-444b-8f11-b464b56e0ac5",
     "text": "starMW = []\nstarM31 = []\nstarT = []\nstarMW,starM31,starT = t.select_star()"
    },
    "executionTime": "2020-05-04T21:41:32.862Z"
   },
   {
    "cell": {
     "executionCount": 33,
     "executionEventId": "bb7d0ae5-0fcb-4ed4-ac7b-333b0c5e5770",
     "hasError": false,
     "id": "71a7b314-b3dc-4b31-bee7-b67c75f65ce4",
     "outputs": [
      {
       "data": {
        "text/plain": "682"
       },
       "execution_count": 33,
       "metadata": {},
       "output_type": "execute_result"
      }
     ],
     "persistentId": "e5253a2e-744f-4d93-945c-33a7b299e9a7",
     "text": "len(starMW)"
    },
    "executionTime": "2020-05-04T21:41:34.547Z"
   },
   {
    "cell": {
     "executionCount": 34,
     "executionEventId": "095713a7-2b8b-4a93-8691-87b6b7f4df42",
     "hasError": false,
     "id": "32d28f41-867f-4b7b-bd35-932d9688ce54",
     "outputs": [
      {
       "data": {
        "text/plain": "14300"
       },
       "execution_count": 34,
       "metadata": {},
       "output_type": "execute_result"
      }
     ],
     "persistentId": "decda1c2-9f31-4011-baa1-cc2000519aa2",
     "text": "len(starM31)"
    },
    "executionTime": "2020-05-04T21:41:35.425Z"
   },
   {
    "cell": {
     "executionCount": 35,
     "executionEventId": "00cfcfb6-741f-4d0d-b780-6cd1d0aafdea",
     "hasError": false,
     "id": "31f53d67-938e-477f-8b89-0292d7f332d7",
     "outputs": [
      {
       "data": {
        "text/plain": "14982"
       },
       "execution_count": 35,
       "metadata": {},
       "output_type": "execute_result"
      }
     ],
     "persistentId": "805cf101-458e-4f9d-b006-28cd1484e001",
     "text": "len(starT)"
    },
    "executionTime": "2020-05-04T21:41:36.334Z"
   },
   {
    "cell": {
     "executionCount": 36,
     "executionEventId": "9899d227-0d77-47dc-b893-5a1203793e25",
     "hasError": false,
     "id": "86e88c3c-b094-43ae-a556-0d107b80698d",
     "outputs": [],
     "persistentId": "0c0b76d9-3d1a-4a46-859e-e72e8cb5329a",
     "text": "import numpy as np\nimport astropy.units as u\nfrom astropy.constants import G\n\n# import plotting modules\nimport matplotlib.pyplot as plt\nimport matplotlib\n%matplotlib inline\n\n# my modules\nfrom ReadFile import Read\n\n# edit CenterOfMass2 to Calculate COM of all components \nfrom CenterOfMass2 import CenterOfMass\n# edit GalaxyMAss to Calculate Mass of all components \nfrom GalaxyMass import ComponentMass\n"
    },
    "executionTime": "2020-05-04T21:51:57.044Z"
   },
   {
    "cell": {
     "executionCount": 37,
     "executionEventId": "6b5c5e30-d401-4598-a775-3413bc07943e",
     "hasError": false,
     "id": "8d4f467c-4051-4da3-9a6b-b51fe5b35c7f",
     "outputs": [],
     "persistentId": "5064a642-f2ac-42d6-a048-5b0a9c852881",
     "text": "def Mass_enclose(filename,radius,COMP):\n# function to compute the mass of all particles less than the distance between two Galaxy COM position \n# Inputs:\n#       filename: galaxyfile for input\n#       radius: COM position difference in kpc\n#       COMP: COM positon of each galaxy [x, y, z]\n#       output: Mass in units of Msun. \n    \n    # read in the file \n    time, total, data = Read(filename)\n    \n    # gather particles with the same type and sum up the mass\n    mass = np.round(data[np.sqrt((data['x']-COMP[0])**2+(data['y']-COMP[1])**2+(data['z']-COMP[2])**2) < radius]['m'].sum() * 1e10, 3)\n    \n    # return the mass \n    return mass\n"
    },
    "executionTime": "2020-05-04T21:51:57.861Z"
   },
   {
    "cell": {
     "executionCount": 38,
     "executionEventId": "16b6b157-eff6-41f7-a779-d4bc168eb1fa",
     "hasError": false,
     "id": "519c4814-e264-4611-8d1b-98c700427853",
     "outputs": [],
     "persistentId": "02f16121-7895-4b2d-b448-5f48407eb681",
     "text": "def Select_tides_star(M33,Rj_MW_M33,Rj_M31_M33,COMP_M33):\n    \"\"\"Select tides star of M33\"\"\"\n    # Inputs:\n    #      M33: each snap file name of M33\n    #      Rj_MW_M33: Jacobi Radius of MW and M33 system\n    #      Rj_M1_M33: Jacobi Radius of M31 and M33 system\n    #      COMP_M33: COM positon of M33 [x, y, z]\n    # Outpur:\n    #      tidal_star list\n    time, total, data = Read(M33)\n    MW_index = np.where(np.sqrt((data['x']-COMP_M33[0])**2+(data['y']-COMP_M33[1])**2+(data['z']-COMP_M33[2])**2) >= Rj_MW_M33)\n    M31_index = np.where(np.sqrt((data['x']-COMP_M33[0])**2+(data['y']-COMP_M33[1])**2+(data['z']-COMP_M33[2])**2) >= Rj_M31_M33)\n    total_index = M31_index\n    for i in range(len(MW_index)):\n        if MW_index[i] not in total_index:\n            total_index = np.append(total_index,MW_index[i])\n    \n    tidal_star_MW = data[MW_index]\n    tidal_star_M31 = data[M31_index]\n    tidal_star_total = data[total_index]\n    \n    return tidal_star_MW, tidal_star_M31, tidal_star_total"
    },
    "executionTime": "2020-05-04T21:51:58.972Z"
   },
   {
    "cell": {
     "executionCount": 39,
     "executionEventId": "618541cf-2ce9-4679-b5d7-09121ccbedac",
     "hasError": false,
     "id": "83ae0f52-187a-4c26-8715-af52c7d0cfb0",
     "outputs": [],
     "persistentId": "c19ce159-9811-4a98-b843-6bf704c73071",
     "text": "class Snap:\n    \"\"\"This is a class for each Snap with M31, MW, M33\"\"\"\n    \n    def __init__(self,Snap_number):\n        # get the snap file name of MW M31 and M33\n        # Inputs: Snapnumber\n        # self.time unit is Myr\n        \n        self.Snap_number = Snap_number\n        self.MWfilename = \"VLowRes/\" + 'MW' + \"_VLowRes/\" + 'MW' +  \"_{:03d}\".format(self.Snap_number) + \".txt\"\n        self.M31filename = \"VLowRes/\" + 'M31' + \"_VLowRes/\" + 'M31' +  \"_{:03d}\".format(self.Snap_number) + \".txt\"\n        self.M33filename = \"VLowRes/\" + 'M33' + \"_VLowRes/\" + 'M33' +  \"_{:03d}\".format(self.Snap_number) + \".txt\"\n        self.time = Snap_number*10/0.7\n        \n    def print_time(self):\n        # print time in Myr\n        return self.time\n    \n    def COM(self):\n        # Calculate the COM Position of MW, M31 and M33 \n        \n        MW_COM = CenterOfMass(self.MWfilename)\n        M31_COM = CenterOfMass(self.M31filename)\n        M33_COM = CenterOfMass(self.M31filename)\n        \n        # For MW and M31 delta = 0.1 and VelDec = 2\n        # For M33 dalta = 0.1 and VelDec = 4\n        \n        COMP_MW = MW_COM.COM_P(0.1,2)\n        COMP_M31 = M31_COM.COM_P(0.1,2)\n        COMP_M33 = M33_COM.COM_P(0.1,4)\n        self.COMP_MW = COMP_MW.value\n        self.COMP_M31 = COMP_M31.value\n        self.COMP_M33 = COMP_M33.value\n        \n        return self.COMP_MW, self.COMP_M31, self.COMP_M33\n    \n    \n    def COMdiff(self,galaxy1,galaxy2):\n        # Calculate the COM Position distance of two Galaxy\n        \n        COMdiff = np.sqrt((galaxy1[0]-galaxy2[0])**2+(galaxy1[1]-galaxy2[1])**2+(galaxy1[2]-galaxy2[2])**2)        \n        \n        return COMdiff\n    \n    def Total_Mass(self,galaxy_name):\n        # Calculate total Mass of each Galaxy \n        \n        return ComponentMass(galaxy_name) \n    \n    def Mass_enclose(self,PreRjMW_M33,PreRjMW_M31):\n        # Calculate the Mass enclose less than the distance between two Galaxy COM Position\n        \n        #Calculate COM Positoon\n        self.COMP_MW, self.COMP_M31, self.COMP_M33 = self.COM()\n        \n        #Calculate MW_M33 M31_M33 COMP difference\n        self.MW_M33diff = self.COMdiff(self.COMP_MW,self.COMP_M33)\n        self.M31_M33diff = self.COMdiff(self.COMP_M31,self.COMP_M33)\n        \n        #Calculate the mass inclose\n        self.MW_enclose = Mass_enclose(self.MWfilename, self.MW_M33diff,self.COMP_MW)\n        self.M31_enclose = Mass_enclose(self.M31filename, self.M31_M33diff,self.COMP_M31)\n        self.M33_enclose_MW = Mass_enclose(self.M33filename, PreRjMW_M33,self.COMP_M33)\n        self.M33_enclose_M31 = Mass_enclose(self.M33filename, PreRjMW_M31,self.COMP_M33)\n        \n        return self.M31_enclose, self.MW_enclose, self.M33_enclose_MW, self.M33_enclose_M31\n    \n    def Rj(self,PreRjMW_M33=10000,PreRjMW_M31=10000):\n        # Calculate the Jacobi Radius of M31-M33 and MW-M33 system\n        # Rj = r*(Msat/Mhost(<r))**(1/3)\n        # Msat is M33, Mhost is enclose mass of MW and M31\n        self.MWmass = self.Total_Mass(self.MWfilename)\n        self.M31mass = self.Total_Mass(self.M31filename)\n        self.M33mass = self.Total_Mass(self.M33filename)\n        \n        self.COMP_MW, self.COMP_M31, self.COMP_M33 = self.COM()\n        \n        self.MW_M33diff = self.COMdiff(self.COMP_MW,self.COMP_M33)\n        self.M31_M33diff = self.COMdiff(self.COMP_M31,self.COMP_M33)\n        \n        self.M31_enclose, self.MW_enclose, self.M33_enclose_MW, self.M33_enclose_M31= self.Mass_enclose(PreRjMW_M33,PreRjMW_M31)\n        \n        self.Rj_MW_M33 = self.MW_M33diff *(self.M33_enclose_MW/self.MW_enclose)**(1/3)\n        self.Rj_M31_M33 = self.M31_M33diff *(self.M33_enclose_M31/self.M31_enclose)**(1/3)\n        \n        return self.Rj_MW_M33, self.Rj_M31_M33\n    \n    def select_star(self):\n        \n        self.Rj_MW_M33, self.Rj_M31_M33 = self.Rj()\n        \n        self.tidal_star_MW, self.tidal_star_M31, self.tidal_star_total = Select_tides_star(self.M33filename,self.Rj_MW_M33,self.Rj_M31_M33,self.COMP_M33)\n        \n        return self.tidal_star_MW, self.tidal_star_M31, self.tidal_star_total\n"
    },
    "executionTime": "2020-05-04T21:51:59.507Z"
   },
   {
    "cell": {
     "executionCount": 40,
     "executionEventId": "151206dc-b23a-426c-bdf5-7c9ce045e01b",
     "hasError": false,
     "id": "83ae0f52-187a-4c26-8715-af52c7d0cfb0",
     "outputs": [],
     "persistentId": "c19ce159-9811-4a98-b843-6bf704c73071",
     "text": "class Snap:\n    \"\"\"This is a class for each Snap with M31, MW, M33\"\"\"\n    \n    def __init__(self,Snap_number):\n        # get the snap file name of MW M31 and M33\n        # Inputs: Snapnumber\n        # self.time unit is Myr\n        \n        self.Snap_number = Snap_number\n        self.MWfilename = \"VLowRes/\" + 'MW' + \"_VLowRes/\" + 'MW' +  \"_{:03d}\".format(self.Snap_number) + \".txt\"\n        self.M31filename = \"VLowRes/\" + 'M31' + \"_VLowRes/\" + 'M31' +  \"_{:03d}\".format(self.Snap_number) + \".txt\"\n        self.M33filename = \"VLowRes/\" + 'M33' + \"_VLowRes/\" + 'M33' +  \"_{:03d}\".format(self.Snap_number) + \".txt\"\n        self.time = Snap_number*10/0.7\n    \n    def COM(self):\n        # Calculate the COM Position of MW, M31 and M33 \n        \n        MW_COM = CenterOfMass(self.MWfilename)\n        M31_COM = CenterOfMass(self.M31filename)\n        M33_COM = CenterOfMass(self.M31filename)\n        \n        # For MW and M31 delta = 0.1 and VelDec = 2\n        # For M33 dalta = 0.1 and VelDec = 4\n        \n        COMP_MW = MW_COM.COM_P(0.1,2)\n        COMP_M31 = M31_COM.COM_P(0.1,2)\n        COMP_M33 = M33_COM.COM_P(0.1,4)\n        self.COMP_MW = COMP_MW.value\n        self.COMP_M31 = COMP_M31.value\n        self.COMP_M33 = COMP_M33.value\n        \n        return self.COMP_MW, self.COMP_M31, self.COMP_M33\n    \n    \n    def COMdiff(self,galaxy1,galaxy2):\n        # Calculate the COM Position distance of two Galaxy\n        \n        COMdiff = np.sqrt((galaxy1[0]-galaxy2[0])**2+(galaxy1[1]-galaxy2[1])**2+(galaxy1[2]-galaxy2[2])**2)        \n        \n        return COMdiff\n    \n    def Total_Mass(self,galaxy_name):\n        # Calculate total Mass of each Galaxy \n        \n        return ComponentMass(galaxy_name) \n    \n    def Mass_enclose(self,PreRjMW_M33,PreRjMW_M31):\n        # Calculate the Mass enclose less than the distance between two Galaxy COM Position\n        \n        #Calculate COM Positoon\n        self.COMP_MW, self.COMP_M31, self.COMP_M33 = self.COM()\n        \n        #Calculate MW_M33 M31_M33 COMP difference\n        self.MW_M33diff = self.COMdiff(self.COMP_MW,self.COMP_M33)\n        self.M31_M33diff = self.COMdiff(self.COMP_M31,self.COMP_M33)\n        \n        #Calculate the mass inclose\n        self.MW_enclose = Mass_enclose(self.MWfilename, self.MW_M33diff,self.COMP_MW)\n        self.M31_enclose = Mass_enclose(self.M31filename, self.M31_M33diff,self.COMP_M31)\n        self.M33_enclose_MW = Mass_enclose(self.M33filename, PreRjMW_M33,self.COMP_M33)\n        self.M33_enclose_M31 = Mass_enclose(self.M33filename, PreRjMW_M31,self.COMP_M33)\n        \n        return self.M31_enclose, self.MW_enclose, self.M33_enclose_MW, self.M33_enclose_M31\n    \n    def Rj(self,PreRjMW_M33=10000,PreRjMW_M31=10000):\n        # Calculate the Jacobi Radius of M31-M33 and MW-M33 system\n        # Rj = r*(Msat/Mhost(<r))**(1/3)\n        # Msat is M33, Mhost is enclose mass of MW and M31\n        self.MWmass = self.Total_Mass(self.MWfilename)\n        self.M31mass = self.Total_Mass(self.M31filename)\n        self.M33mass = self.Total_Mass(self.M33filename)\n        \n        self.COMP_MW, self.COMP_M31, self.COMP_M33 = self.COM()\n        \n        self.MW_M33diff = self.COMdiff(self.COMP_MW,self.COMP_M33)\n        self.M31_M33diff = self.COMdiff(self.COMP_M31,self.COMP_M33)\n        \n        self.M31_enclose, self.MW_enclose, self.M33_enclose_MW, self.M33_enclose_M31= self.Mass_enclose(PreRjMW_M33,PreRjMW_M31)\n        \n        self.Rj_MW_M33 = self.MW_M33diff *(self.M33_enclose_MW/self.MW_enclose)**(1/3)\n        self.Rj_M31_M33 = self.M31_M33diff *(self.M33_enclose_M31/self.M31_enclose)**(1/3)\n        \n        return self.Rj_MW_M33, self.Rj_M31_M33\n    \n    def select_star(self):\n        \n        self.Rj_MW_M33, self.Rj_M31_M33 = self.Rj()\n        \n        self.tidal_star_MW, self.tidal_star_M31, self.tidal_star_total = Select_tides_star(self.M33filename,self.Rj_MW_M33,self.Rj_M31_M33,self.COMP_M33)\n        \n        return self.tidal_star_MW, self.tidal_star_M31, self.tidal_star_total\n"
    },
    "executionTime": "2020-05-04T21:52:48.563Z"
   },
   {
    "cell": {
     "executionCount": 41,
     "executionEventId": "e186c9d8-80b4-4794-8594-405684be24bd",
     "hasError": true,
     "id": "cb2dc047-3b13-431a-8fb7-53af0ba12204",
     "outputs": [
      {
       "name": "stderr",
       "output_type": "stream",
       "text": "  6%|▋         | 1/16 [00:11<02:59, 11.97s/it]"
      },
      {
       "ename": "IndexError",
       "evalue": "invalid index to scalar variable.",
       "output_type": "error",
       "traceback": [
        "\u001b[0;31m---------------------------------------------------------------------------\u001b[0m",
        "\u001b[0;31mIndexError\u001b[0m                                Traceback (most recent call last)",
        "\u001b[0;32m<ipython-input-41-e7265ad90bda>\u001b[0m in \u001b[0;36m<module>\u001b[0;34m\u001b[0m\n\u001b[1;32m     10\u001b[0m         \u001b[0mRj_M31_M33\u001b[0m\u001b[0;34m.\u001b[0m\u001b[0mappend\u001b[0m\u001b[0;34m(\u001b[0m\u001b[0mtemp_Rj_M31_M33\u001b[0m\u001b[0;34m)\u001b[0m\u001b[0;34m\u001b[0m\u001b[0;34m\u001b[0m\u001b[0m\n\u001b[1;32m     11\u001b[0m     \u001b[0;32melse\u001b[0m\u001b[0;34m:\u001b[0m\u001b[0;34m\u001b[0m\u001b[0;34m\u001b[0m\u001b[0m\n\u001b[0;32m---> 12\u001b[0;31m         \u001b[0mtemp_Rj_M31_M33\u001b[0m\u001b[0;34m,\u001b[0m \u001b[0mtemp_Rj_MW_M33\u001b[0m \u001b[0;34m=\u001b[0m \u001b[0mtemp_snap\u001b[0m\u001b[0;34m.\u001b[0m\u001b[0mRj\u001b[0m\u001b[0;34m(\u001b[0m\u001b[0mtemp_Rj_M31_M33\u001b[0m\u001b[0;34m[\u001b[0m\u001b[0mi\u001b[0m\u001b[0;34m-\u001b[0m\u001b[0;36m1\u001b[0m\u001b[0;34m]\u001b[0m\u001b[0;34m,\u001b[0m\u001b[0mtemp_Rj_MW_M33\u001b[0m\u001b[0;34m[\u001b[0m\u001b[0mi\u001b[0m\u001b[0;34m-\u001b[0m\u001b[0;36m1\u001b[0m\u001b[0;34m]\u001b[0m\u001b[0;34m)\u001b[0m\u001b[0;34m\u001b[0m\u001b[0;34m\u001b[0m\u001b[0m\n\u001b[0m\u001b[1;32m     13\u001b[0m         \u001b[0mRj_MW_M33\u001b[0m\u001b[0;34m.\u001b[0m\u001b[0mappend\u001b[0m\u001b[0;34m(\u001b[0m\u001b[0mtemp_Rj_MW_M33\u001b[0m\u001b[0;34m)\u001b[0m\u001b[0;34m\u001b[0m\u001b[0;34m\u001b[0m\u001b[0m\n\u001b[1;32m     14\u001b[0m         \u001b[0mRj_M31_M33\u001b[0m\u001b[0;34m.\u001b[0m\u001b[0mappend\u001b[0m\u001b[0;34m(\u001b[0m\u001b[0mtemp_Rj_M31_M33\u001b[0m\u001b[0;34m)\u001b[0m\u001b[0;34m\u001b[0m\u001b[0;34m\u001b[0m\u001b[0m\n",
        "\u001b[0;31mIndexError\u001b[0m: invalid index to scalar variable."
       ]
      }
     ],
     "persistentId": "e3dc12b6-cd70-4ef2-b6f3-73a18a5ab5d1",
     "text": "from tqdm import tqdm\nsnap_id = []\nRj_MW_M33 = []\nRj_M31_M33 = []\nfor i in tqdm(range(1,801,50)):\n    temp_snap = Snap(i)\n    if i == 1:\n        temp_Rj_M31_M33, temp_Rj_MW_M33 = temp_snap.Rj()\n        Rj_MW_M33.append(temp_Rj_MW_M33)\n        Rj_M31_M33.append(temp_Rj_M31_M33)\n    else:\n        temp_Rj_M31_M33, temp_Rj_MW_M33 = temp_snap.Rj(temp_Rj_M31_M33[i-1],temp_Rj_MW_M33[i-1])\n        Rj_MW_M33.append(temp_Rj_MW_M33)\n        Rj_M31_M33.append(temp_Rj_M31_M33)\n    snap_id.append(i)"
    },
    "executionTime": "2020-05-04T21:57:10.420Z"
   },
   {
    "cell": {
     "executionCount": 42,
     "executionEventId": "3ba327aa-db7b-4014-a91d-7c4700063793",
     "hasError": false,
     "id": "eb11d159-97e5-4b0d-b710-218025abdfe4",
     "outputs": [
      {
       "data": {
        "text/plain": "[1.444741393735398]"
       },
       "execution_count": 42,
       "metadata": {},
       "output_type": "execute_result"
      }
     ],
     "persistentId": "2ebb799e-b47e-44c6-8578-658f43ad5590",
     "text": "Rj_MW_M33"
    },
    "executionTime": "2020-05-04T21:57:32.564Z"
   },
   {
    "cell": {
     "executionCount": 43,
     "executionEventId": "d5421592-eb44-4d62-a453-3ee076fb079a",
     "hasError": true,
     "id": "eb11d159-97e5-4b0d-b710-218025abdfe4",
     "outputs": [
      {
       "ename": "IndexError",
       "evalue": "list index out of range",
       "output_type": "error",
       "traceback": [
        "\u001b[0;31m---------------------------------------------------------------------------\u001b[0m",
        "\u001b[0;31mIndexError\u001b[0m                                Traceback (most recent call last)",
        "\u001b[0;32m<ipython-input-43-ae480eb8af84>\u001b[0m in \u001b[0;36m<module>\u001b[0;34m\u001b[0m\n\u001b[0;32m----> 1\u001b[0;31m \u001b[0mRj_MW_M33\u001b[0m\u001b[0;34m[\u001b[0m\u001b[0;36m1\u001b[0m\u001b[0;34m]\u001b[0m\u001b[0;34m\u001b[0m\u001b[0;34m\u001b[0m\u001b[0m\n\u001b[0m",
        "\u001b[0;31mIndexError\u001b[0m: list index out of range"
       ]
      }
     ],
     "persistentId": "2ebb799e-b47e-44c6-8578-658f43ad5590",
     "text": "Rj_MW_M33[1]"
    },
    "executionTime": "2020-05-04T21:57:35.918Z"
   },
   {
    "cell": {
     "executionCount": 44,
     "executionEventId": "b24b7715-3e05-4a22-90cb-270afcdc4270",
     "hasError": false,
     "id": "eb11d159-97e5-4b0d-b710-218025abdfe4",
     "outputs": [
      {
       "data": {
        "text/plain": "1.444741393735398"
       },
       "execution_count": 44,
       "metadata": {},
       "output_type": "execute_result"
      }
     ],
     "persistentId": "2ebb799e-b47e-44c6-8578-658f43ad5590",
     "text": "Rj_MW_M33[0]"
    },
    "executionTime": "2020-05-04T21:57:39.735Z"
   },
   {
    "cell": {
     "executionCount": 45,
     "executionEventId": "d10a3150-3643-41d8-8f02-2dd6194ce522",
     "hasError": false,
     "id": "eb11d159-97e5-4b0d-b710-218025abdfe4",
     "outputs": [
      {
       "name": "stderr",
       "output_type": "stream",
       "text": "\n100%|██████████| 16/16 [00:00<00:00, 29038.89it/s]"
      },
      {
       "name": "stdout",
       "output_type": "stream",
       "text": "1\n51\n101\n151\n201\n251\n301\n351\n401\n451\n501\n551\n601\n651\n701\n751\n"
      },
      {
       "name": "stderr",
       "output_type": "stream",
       "text": "\n"
      }
     ],
     "persistentId": "2ebb799e-b47e-44c6-8578-658f43ad5590",
     "text": "for i in tqdm(range(1,801,50)):\n    print(i)"
    },
    "executionTime": "2020-05-04T21:57:54.511Z"
   },
   {
    "cell": {
     "executionCount": 46,
     "executionEventId": "6f391592-6782-4793-917d-d6a4f0670a73",
     "hasError": true,
     "id": "cb2dc047-3b13-431a-8fb7-53af0ba12204",
     "outputs": [
      {
       "name": "stderr",
       "output_type": "stream",
       "text": "\n  0%|          | 0/16 [00:00<?, ?it/s]\u001b[A\n  6%|▋         | 1/16 [00:13<03:22, 13.52s/it]\u001b[A"
      },
      {
       "ename": "IndexError",
       "evalue": "invalid index to scalar variable.",
       "output_type": "error",
       "traceback": [
        "\u001b[0;31m---------------------------------------------------------------------------\u001b[0m",
        "\u001b[0;31mIndexError\u001b[0m                                Traceback (most recent call last)",
        "\u001b[0;32m<ipython-input-46-e03cb4ce065d>\u001b[0m in \u001b[0;36m<module>\u001b[0;34m\u001b[0m\n\u001b[1;32m     11\u001b[0m         \u001b[0mRj_M31_M33\u001b[0m\u001b[0;34m.\u001b[0m\u001b[0mappend\u001b[0m\u001b[0;34m(\u001b[0m\u001b[0mtemp_Rj_M31_M33\u001b[0m\u001b[0;34m)\u001b[0m\u001b[0;34m\u001b[0m\u001b[0;34m\u001b[0m\u001b[0m\n\u001b[1;32m     12\u001b[0m     \u001b[0;32melse\u001b[0m\u001b[0;34m:\u001b[0m\u001b[0;34m\u001b[0m\u001b[0;34m\u001b[0m\u001b[0m\n\u001b[0;32m---> 13\u001b[0;31m         \u001b[0mtemp_Rj_M31_M33\u001b[0m\u001b[0;34m,\u001b[0m \u001b[0mtemp_Rj_MW_M33\u001b[0m \u001b[0;34m=\u001b[0m \u001b[0mtemp_snap\u001b[0m\u001b[0;34m.\u001b[0m\u001b[0mRj\u001b[0m\u001b[0;34m(\u001b[0m\u001b[0mtemp_Rj_M31_M33\u001b[0m\u001b[0;34m[\u001b[0m\u001b[0mj\u001b[0m\u001b[0;34m]\u001b[0m\u001b[0;34m,\u001b[0m\u001b[0mtemp_Rj_MW_M33\u001b[0m\u001b[0;34m[\u001b[0m\u001b[0mj\u001b[0m\u001b[0;34m]\u001b[0m\u001b[0;34m)\u001b[0m\u001b[0;34m\u001b[0m\u001b[0;34m\u001b[0m\u001b[0m\n\u001b[0m\u001b[1;32m     14\u001b[0m         \u001b[0mRj_MW_M33\u001b[0m\u001b[0;34m.\u001b[0m\u001b[0mappend\u001b[0m\u001b[0;34m(\u001b[0m\u001b[0mtemp_Rj_MW_M33\u001b[0m\u001b[0;34m)\u001b[0m\u001b[0;34m\u001b[0m\u001b[0;34m\u001b[0m\u001b[0m\n\u001b[1;32m     15\u001b[0m         \u001b[0mRj_M31_M33\u001b[0m\u001b[0;34m.\u001b[0m\u001b[0mappend\u001b[0m\u001b[0;34m(\u001b[0m\u001b[0mtemp_Rj_M31_M33\u001b[0m\u001b[0;34m)\u001b[0m\u001b[0;34m\u001b[0m\u001b[0;34m\u001b[0m\u001b[0m\n",
        "\u001b[0;31mIndexError\u001b[0m: invalid index to scalar variable."
       ]
      }
     ],
     "persistentId": "e3dc12b6-cd70-4ef2-b6f3-73a18a5ab5d1",
     "text": "from tqdm import tqdm\nsnap_id = []\nRj_MW_M33 = []\nRj_M31_M33 = []\nj = 0\nfor i in tqdm(range(1,801,50)):\n    temp_snap = Snap(i)\n    if i == 1:\n        temp_Rj_M31_M33, temp_Rj_MW_M33 = temp_snap.Rj()\n        Rj_MW_M33.append(temp_Rj_MW_M33)\n        Rj_M31_M33.append(temp_Rj_M31_M33)\n    else:\n        temp_Rj_M31_M33, temp_Rj_MW_M33 = temp_snap.Rj(temp_Rj_M31_M33[j],temp_Rj_MW_M33[j])\n        Rj_MW_M33.append(temp_Rj_MW_M33)\n        Rj_M31_M33.append(temp_Rj_M31_M33)\n        j += 1\n    snap_id.append(i)"
    },
    "executionTime": "2020-05-04T21:59:23.972Z"
   },
   {
    "cell": {
     "executionCount": 47,
     "executionEventId": "72c38576-9d0a-4b9f-a6e7-0e07c772c9ac",
     "hasError": true,
     "id": "eb11d159-97e5-4b0d-b710-218025abdfe4",
     "outputs": [
      {
       "ename": "IndexError",
       "evalue": "invalid index to scalar variable.",
       "output_type": "error",
       "traceback": [
        "\u001b[0;31m---------------------------------------------------------------------------\u001b[0m",
        "\u001b[0;31mIndexError\u001b[0m                                Traceback (most recent call last)",
        "\u001b[0;32m<ipython-input-47-db5cd9d8e24f>\u001b[0m in \u001b[0;36m<module>\u001b[0;34m\u001b[0m\n\u001b[0;32m----> 1\u001b[0;31m \u001b[0mtemp_Rj_M31_M33\u001b[0m\u001b[0;34m[\u001b[0m\u001b[0mj\u001b[0m\u001b[0;34m]\u001b[0m\u001b[0;34m\u001b[0m\u001b[0;34m\u001b[0m\u001b[0m\n\u001b[0m",
        "\u001b[0;31mIndexError\u001b[0m: invalid index to scalar variable."
       ]
      }
     ],
     "persistentId": "2ebb799e-b47e-44c6-8578-658f43ad5590",
     "text": "temp_Rj_M31_M33[j]"
    },
    "executionTime": "2020-05-04T21:59:57.304Z"
   },
   {
    "cell": {
     "executionCount": 48,
     "executionEventId": "d4ef0c77-8728-4e87-9ae8-80dd49892804",
     "hasError": false,
     "id": "eb11d159-97e5-4b0d-b710-218025abdfe4",
     "outputs": [
      {
       "data": {
        "text/plain": "0"
       },
       "execution_count": 48,
       "metadata": {},
       "output_type": "execute_result"
      }
     ],
     "persistentId": "2ebb799e-b47e-44c6-8578-658f43ad5590",
     "text": "j"
    },
    "executionTime": "2020-05-04T22:00:00.871Z"
   },
   {
    "cell": {
     "executionCount": 49,
     "executionEventId": "383d50c4-acc9-4a0b-96ee-a92166abce86",
     "hasError": true,
     "id": "eb11d159-97e5-4b0d-b710-218025abdfe4",
     "outputs": [
      {
       "ename": "IndexError",
       "evalue": "invalid index to scalar variable.",
       "output_type": "error",
       "traceback": [
        "\u001b[0;31m---------------------------------------------------------------------------\u001b[0m",
        "\u001b[0;31mIndexError\u001b[0m                                Traceback (most recent call last)",
        "\u001b[0;32m<ipython-input-49-9aa4354852f7>\u001b[0m in \u001b[0;36m<module>\u001b[0;34m\u001b[0m\n\u001b[0;32m----> 1\u001b[0;31m \u001b[0mtemp_Rj_M31_M33\u001b[0m\u001b[0;34m[\u001b[0m\u001b[0;36m0\u001b[0m\u001b[0;34m]\u001b[0m\u001b[0;34m\u001b[0m\u001b[0;34m\u001b[0m\u001b[0m\n\u001b[0m",
        "\u001b[0;31mIndexError\u001b[0m: invalid index to scalar variable."
       ]
      }
     ],
     "persistentId": "2ebb799e-b47e-44c6-8578-658f43ad5590",
     "text": "temp_Rj_M31_M33[0]"
    },
    "executionTime": "2020-05-04T22:00:05.017Z"
   },
   {
    "cell": {
     "executionCount": 50,
     "executionEventId": "634b0463-d244-4e12-a15d-1b98f10e7a90",
     "hasError": false,
     "id": "eb11d159-97e5-4b0d-b710-218025abdfe4",
     "outputs": [
      {
       "data": {
        "text/plain": "[1.444741393735398]"
       },
       "execution_count": 50,
       "metadata": {},
       "output_type": "execute_result"
      }
     ],
     "persistentId": "2ebb799e-b47e-44c6-8578-658f43ad5590",
     "text": "Rj_MW_M33"
    },
    "executionTime": "2020-05-04T22:00:27.480Z"
   },
   {
    "cell": {
     "executionCount": 51,
     "executionEventId": "3c3f7942-c259-4254-970b-28bdde703dc5",
     "hasError": false,
     "id": "eb11d159-97e5-4b0d-b710-218025abdfe4",
     "outputs": [
      {
       "data": {
        "text/plain": "1.444741393735398"
       },
       "execution_count": 51,
       "metadata": {},
       "output_type": "execute_result"
      }
     ],
     "persistentId": "2ebb799e-b47e-44c6-8578-658f43ad5590",
     "text": "Rj_MW_M33[j]"
    },
    "executionTime": "2020-05-04T22:00:29.897Z"
   },
   {
    "cell": {
     "executionCount": 52,
     "executionEventId": "f013ecd7-a736-49a6-84e6-c6e2e62e60ab",
     "hasError": false,
     "id": "eb11d159-97e5-4b0d-b710-218025abdfe4",
     "outputs": [
      {
       "data": {
        "text/plain": "366.77148899551594"
       },
       "execution_count": 52,
       "metadata": {},
       "output_type": "execute_result"
      }
     ],
     "persistentId": "2ebb799e-b47e-44c6-8578-658f43ad5590",
     "text": "Rj_M31_M33[j]"
    },
    "executionTime": "2020-05-04T22:00:44.382Z"
   },
   {
    "cell": {
     "executionCount": 53,
     "executionEventId": "5994ae80-b6d1-4851-9b74-942ca8cddc42",
     "hasError": false,
     "id": "eb11d159-97e5-4b0d-b710-218025abdfe4",
     "outputs": [
      {
       "data": {
        "text/plain": "1.444741393735398"
       },
       "execution_count": 53,
       "metadata": {},
       "output_type": "execute_result"
      }
     ],
     "persistentId": "2ebb799e-b47e-44c6-8578-658f43ad5590",
     "text": "Rj_MW_M33[j]"
    },
    "executionTime": "2020-05-04T22:01:51.178Z"
   },
   {
    "cell": {
     "executionCount": 54,
     "executionEventId": "6096614c-1ebc-4e72-9d50-dc34581bae10",
     "hasError": true,
     "id": "eb11d159-97e5-4b0d-b710-218025abdfe4",
     "outputs": [
      {
       "ename": "NameError",
       "evalue": "name 'Rj_M31_MW' is not defined",
       "output_type": "error",
       "traceback": [
        "\u001b[0;31m---------------------------------------------------------------------------\u001b[0m",
        "\u001b[0;31mNameError\u001b[0m                                 Traceback (most recent call last)",
        "\u001b[0;32m<ipython-input-54-9bdd4b6685ba>\u001b[0m in \u001b[0;36m<module>\u001b[0;34m\u001b[0m\n\u001b[0;32m----> 1\u001b[0;31m \u001b[0mRj_M31_MW\u001b[0m\u001b[0;34m[\u001b[0m\u001b[0mj\u001b[0m\u001b[0;34m]\u001b[0m\u001b[0;34m\u001b[0m\u001b[0;34m\u001b[0m\u001b[0m\n\u001b[0m",
        "\u001b[0;31mNameError\u001b[0m: name 'Rj_M31_MW' is not defined"
       ]
      }
     ],
     "persistentId": "2ebb799e-b47e-44c6-8578-658f43ad5590",
     "text": "Rj_M31_MW[j]"
    },
    "executionTime": "2020-05-04T22:01:58.841Z"
   },
   {
    "cell": {
     "executionCount": 55,
     "executionEventId": "f9ddea7a-9f26-4377-a4ff-865ffe0eb1cd",
     "hasError": false,
     "id": "eb11d159-97e5-4b0d-b710-218025abdfe4",
     "outputs": [
      {
       "data": {
        "text/plain": "[1.444741393735398]"
       },
       "execution_count": 55,
       "metadata": {},
       "output_type": "execute_result"
      }
     ],
     "persistentId": "2ebb799e-b47e-44c6-8578-658f43ad5590",
     "text": "Rj_MW_M33"
    },
    "executionTime": "2020-05-04T22:02:17.192Z"
   },
   {
    "cell": {
     "executionCount": 56,
     "executionEventId": "24ea9aa8-17e7-46b7-8365-0ae37b127dcf",
     "hasError": false,
     "id": "cb2dc047-3b13-431a-8fb7-53af0ba12204",
     "outputs": [
      {
       "name": "stderr",
       "output_type": "stream",
       "text": "\n\n  0%|          | 0/16 [00:00<?, ?it/s]\u001b[A\u001b[A\n\n  6%|▋         | 1/16 [00:13<03:20, 13.40s/it]\u001b[A\u001b[A\n\n 12%|█▎        | 2/16 [00:25<03:02, 13.03s/it]\u001b[A\u001b[A\n\n 19%|█▉        | 3/16 [00:37<02:46, 12.83s/it]\u001b[A\u001b[A\n\n 25%|██▌       | 4/16 [00:51<02:37, 13.15s/it]\u001b[A\u001b[A\n\n 31%|███▏      | 5/16 [01:05<02:25, 13.20s/it]\u001b[A\u001b[A\n\n 38%|███▊      | 6/16 [01:18<02:13, 13.34s/it]\u001b[A\u001b[A\n\n 44%|████▍     | 7/16 [01:32<02:02, 13.57s/it]\u001b[A\u001b[A\n\n 50%|█████     | 8/16 [01:46<01:49, 13.66s/it]\u001b[A\u001b[A\n\n 56%|█████▋    | 9/16 [02:01<01:38, 14.07s/it]\u001b[A\u001b[A\n\n 62%|██████▎   | 10/16 [02:16<01:25, 14.22s/it]\u001b[A\u001b[A\n\n 69%|██████▉   | 11/16 [02:30<01:10, 14.20s/it]\u001b[A\u001b[A\n\n 75%|███████▌  | 12/16 [02:42<00:54, 13.63s/it]\u001b[A\u001b[A\n\n 81%|████████▏ | 13/16 [02:58<00:42, 14.28s/it]\u001b[A\u001b[A\n\n 88%|████████▊ | 14/16 [03:12<00:28, 14.06s/it]\u001b[A\u001b[A\n\n 94%|█████████▍| 15/16 [03:24<00:13, 13.58s/it]\u001b[A\u001b[A\n\n100%|██████████| 16/16 [03:36<00:00, 13.55s/it]\u001b[A\u001b[A\n"
      }
     ],
     "persistentId": "e3dc12b6-cd70-4ef2-b6f3-73a18a5ab5d1",
     "text": "from tqdm import tqdm\nsnap_id = []\nRj_MW_M33 = []\nRj_M31_M33 = []\nj = 0\nfor i in tqdm(range(1,801,50)):\n    temp_snap = Snap(i)\n    if i == 1:\n        temp_Rj_MW_M33, temp_Rj_M31_M33 = temp_snap.Rj()\n        Rj_MW_M33.append(temp_Rj_MW_M33)\n        Rj_M31_M33.append(temp_Rj_M31_M33)\n    else:\n        temp_Rj_MW_M33, temp_Rj_M31_M33 = temp_snap.Rj(Rj_MW_M33[j],Rj_M31_M33[j])\n        Rj_MW_M33.append(temp_Rj_MW_M33)\n        Rj_M31_M33.append(temp_Rj_M31_M33)\n        j += 1\n    snap_id.append(i)"
    },
    "executionTime": "2020-05-04T22:05:57.583Z"
   },
   {
    "cell": {
     "executionCount": 57,
     "executionEventId": "0c096070-7780-4ca7-b712-16c048361d62",
     "hasError": false,
     "id": "eb11d159-97e5-4b0d-b710-218025abdfe4",
     "outputs": [
      {
       "data": {
        "text/plain": "[366.77148899551594,\n 315.0447145825201,\n 278.0916837051781,\n 218.7643653129234,\n 127.50667664211,\n 44.433513537994074,\n 23.843891508118773,\n 7.021681398290489,\n 3.4866024998824368,\n 0.0,\n 0.0,\n 0.0,\n 0.0,\n 0.0,\n 0.0,\n 0.0]"
       },
       "execution_count": 57,
       "metadata": {},
       "output_type": "execute_result"
      }
     ],
     "persistentId": "2ebb799e-b47e-44c6-8578-658f43ad5590",
     "text": "Rj_MW_M33"
    },
    "executionTime": "2020-05-04T22:06:03.900Z"
   },
   {
    "cell": {
     "executionCount": 58,
     "executionEventId": "5d0ed02c-d970-4b98-a247-fe8f42e57727",
     "hasError": false,
     "id": "3a6d6806-4c00-42c7-86ae-74ff3c10c79f",
     "outputs": [
      {
       "data": {
        "text/plain": "[1.444741393735398,\n 0.0,\n 0.0,\n 0.0,\n 0.0,\n 0.0,\n 0.0,\n 0.0,\n 0.0,\n 0.0,\n 0.0,\n 0.0,\n 0.0,\n 0.0,\n 0.0,\n 0.0]"
       },
       "execution_count": 58,
       "metadata": {},
       "output_type": "execute_result"
      }
     ],
     "persistentId": "089de141-3c8f-42e8-82f9-520391661d8e",
     "text": "Rj_M31_M33"
    },
    "executionTime": "2020-05-04T22:06:22.337Z"
   },
   {
    "cell": {
     "executionCount": 59,
     "executionEventId": "d8ec1554-7974-44ae-bf22-205dcd255090",
     "hasError": false,
     "id": "1236c981-b489-4e5a-9596-2cb6333fe884",
     "outputs": [],
     "persistentId": "089ba10f-5132-447a-b512-d5392113a174",
     "text": "t = Snap(1)"
    },
    "executionTime": "2020-05-04T22:09:06.733Z"
   },
   {
    "cell": {
     "executionCount": 60,
     "executionEventId": "2ad27a21-a820-4bab-a48e-bc9b96f2aca0",
     "hasError": false,
     "id": "1e58021e-3340-4ca8-829b-380a1f83dfed",
     "outputs": [
      {
       "data": {
        "text/plain": "(array([-2.04,  3.12, -1.49]),\n array([-376.07,  609.98, -283.97]),\n array([-376.17,  610.11, -283.89]))"
       },
       "execution_count": 60,
       "metadata": {},
       "output_type": "execute_result"
      }
     ],
     "persistentId": "6bfb21a5-851e-441a-80f3-528b3180adbe",
     "text": "t.COM()"
    },
    "executionTime": "2020-05-04T22:09:11.688Z"
   },
   {
    "cell": {
     "executionCount": 61,
     "executionEventId": "2978548c-4546-464a-a527-df3b034c706e",
     "hasError": false,
     "id": "11391be6-ae38-461f-b38c-c486fa127084",
     "outputs": [],
     "persistentId": "6a604084-d72d-4d1e-80fe-fc44e4aafe90",
     "text": "a,b = t.Rj()"
    },
    "executionTime": "2020-05-04T22:09:25.974Z"
   },
   {
    "cell": {
     "executionCount": 62,
     "executionEventId": "d7639f14-e098-44ab-826e-de3d873a0639",
     "hasError": false,
     "id": "6065a732-46e5-4c44-92ae-4887672f4a64",
     "outputs": [
      {
       "data": {
        "text/plain": "(366.77148899551594, 1.444741393735398)"
       },
       "execution_count": 62,
       "metadata": {},
       "output_type": "execute_result"
      }
     ],
     "persistentId": "3783232f-adf8-4937-a214-1619d194bdb1",
     "text": "a,b"
    },
    "executionTime": "2020-05-04T22:09:27.037Z"
   },
   {
    "cell": {
     "executionCount": 63,
     "executionEventId": "f8157916-cce6-4161-8ba9-0c32432f5e39",
     "hasError": false,
     "id": "6065a732-46e5-4c44-92ae-4887672f4a64",
     "outputs": [
      {
       "data": {
        "text/plain": "(366.77148899551594, 1.444741393735398)"
       },
       "execution_count": 63,
       "metadata": {},
       "output_type": "execute_result"
      }
     ],
     "persistentId": "3783232f-adf8-4937-a214-1619d194bdb1",
     "text": "a,b"
    },
    "executionTime": "2020-05-04T22:09:29.309Z"
   },
   {
    "cell": {
     "executionCount": 64,
     "executionEventId": "7a50c3d3-f459-4d91-a089-349365905aeb",
     "hasError": false,
     "id": "e9ae2bb8-161b-4b85-9159-3cb52b8d1385",
     "outputs": [
      {
       "data": {
        "text/plain": "[1, 51, 101, 151, 201, 251, 301, 351, 401, 451, 501, 551, 601, 651, 701, 751]"
       },
       "execution_count": 64,
       "metadata": {},
       "output_type": "execute_result"
      }
     ],
     "persistentId": "56a7844c-1a64-4930-a2fd-0e0393dcf56d",
     "text": "snap_id"
    },
    "executionTime": "2020-05-04T22:13:46.387Z"
   },
   {
    "cell": {
     "executionCount": 65,
     "executionEventId": "f2466ed9-4630-4d62-911f-161031644bc8",
     "hasError": false,
     "id": "0aa4a001-842a-484a-8b57-2dff7d192739",
     "outputs": [
      {
       "data": {
        "image/png": "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\n",
        "text/plain": "<Figure size 720x720 with 1 Axes>"
       },
       "metadata": {
        "needs_background": "light"
       },
       "output_type": "display_data"
      }
     ],
     "persistentId": "41f7941c-97b8-4d81-8622-056b3cdd5e1f",
     "text": "fig, ax= plt.subplots(figsize=(10, 10))\n\n# Plot the analytical separation of M31 and M33\nax.semilogy(snap_id, Rj_MW_M33, 'b', lw=5, label='MW-M33 Rj')\n\n# Plot the simulated separation of M31 and M33\nax.semilogy(snap_id, Rj_M31_M33, 'r', lw=5, label='M31-M33 Rj')\n\n\n# Add axis labels\nax.set_xlabel('Snap', fontsize=22)\nax.set_ylabel('Rj(kpc)', fontsize=22)\nax.set_title(\"Rj vs. Snap Time\", fontsize=22)\n\n#adjust tick label font size\nax.xaxis.set_tick_params(labelsize=22)\nax.yaxis.set_tick_params(labelsize=22)\n\n# add a legend with some customizations.\nlegend = ax.legend(loc='upper left',fontsize=20)\n\n# tight layout\nfig.tight_layout()\n\n"
    },
    "executionTime": "2020-05-04T22:13:50.170Z"
   },
   {
    "cell": {
     "executionCount": 66,
     "executionEventId": "ab89858b-4ca8-459e-9e57-cbc5acb4de48",
     "hasError": false,
     "id": "cb2dc047-3b13-431a-8fb7-53af0ba12204",
     "outputs": [
      {
       "name": "stderr",
       "output_type": "stream",
       "text": "\n\n  0%|          | 0/20 [00:00<?, ?it/s]\u001b[A\u001b[A\n\n  5%|▌         | 1/20 [00:12<03:56, 12.46s/it]\u001b[A\u001b[A\n\n 10%|█         | 2/20 [00:23<03:38, 12.16s/it]\u001b[A\u001b[A\n\n 15%|█▌        | 3/20 [00:36<03:29, 12.30s/it]\u001b[A\u001b[A\n\n 20%|██        | 4/20 [00:49<03:19, 12.46s/it]\u001b[A\u001b[A\n\n 25%|██▌       | 5/20 [01:00<03:00, 12.04s/it]\u001b[A\u001b[A\n\n 30%|███       | 6/20 [01:11<02:43, 11.71s/it]\u001b[A\u001b[A\n\n 35%|███▌      | 7/20 [01:22<02:28, 11.40s/it]\u001b[A\u001b[A\n\n 40%|████      | 8/20 [01:34<02:21, 11.83s/it]\u001b[A\u001b[A\n\n 45%|████▌     | 9/20 [01:47<02:13, 12.16s/it]\u001b[A\u001b[A\n\n 50%|█████     | 10/20 [02:01<02:06, 12.63s/it]\u001b[A\u001b[A\n\n 55%|█████▌    | 11/20 [02:13<01:50, 12.33s/it]\u001b[A\u001b[A\n\n 60%|██████    | 12/20 [02:25<01:38, 12.27s/it]\u001b[A\u001b[A\n\n 65%|██████▌   | 13/20 [02:37<01:24, 12.14s/it]\u001b[A\u001b[A\n\n 70%|███████   | 14/20 [02:51<01:16, 12.77s/it]\u001b[A\u001b[A\n\n 75%|███████▌  | 15/20 [03:05<01:05, 13.05s/it]\u001b[A\u001b[A\n\n 80%|████████  | 16/20 [03:17<00:51, 12.92s/it]\u001b[A\u001b[A\n\n 85%|████████▌ | 17/20 [03:32<00:40, 13.56s/it]\u001b[A\u001b[A\n\n 90%|█████████ | 18/20 [03:45<00:26, 13.41s/it]\u001b[A\u001b[A\n\n 95%|█████████▌| 19/20 [04:00<00:13, 13.76s/it]\u001b[A\u001b[A\n\n100%|██████████| 20/20 [04:12<00:00, 12.64s/it]\u001b[A\u001b[A\n"
      }
     ],
     "persistentId": "e3dc12b6-cd70-4ef2-b6f3-73a18a5ab5d1",
     "text": "from tqdm import tqdm\nsnap_id = []\nRj_MW_M33 = []\nRj_M31_M33 = []\nj = 0\nfor i in tqdm(range(1,101,5)):\n    temp_snap = Snap(i)\n    if i == 1:\n        temp_Rj_MW_M33, temp_Rj_M31_M33 = temp_snap.Rj()\n        Rj_MW_M33.append(temp_Rj_MW_M33)\n        Rj_M31_M33.append(temp_Rj_M31_M33)\n    else:\n        temp_Rj_MW_M33, temp_Rj_M31_M33 = temp_snap.Rj(Rj_MW_M33[j],Rj_M31_M33[j])\n        Rj_MW_M33.append(temp_Rj_MW_M33)\n        Rj_M31_M33.append(temp_Rj_M31_M33)\n        j += 1\n    snap_id.append(i)"
    },
    "executionTime": "2020-05-04T22:19:41.383Z"
   },
   {
    "cell": {
     "executionCount": 67,
     "executionEventId": "26c56feb-406b-408b-9a7e-ac05c3c11344",
     "hasError": false,
     "id": "eb11d159-97e5-4b0d-b710-218025abdfe4",
     "outputs": [
      {
       "data": {
        "text/plain": "[366.77148899551594,\n 345.7408761721368,\n 342.61742181606814,\n 339.25183176205906,\n 335.7392159922693,\n 330.83364404893825,\n 327.5658975856285,\n 325.18667745180073,\n 320.7859036721584,\n 316.6476503625817,\n 312.8659024130138,\n 308.2536081533759,\n 305.3511699940214,\n 301.8069899262213,\n 298.98708076712285,\n 294.9228545047138,\n 291.3782887635562,\n 282.8273441957278,\n 285.2007879654345,\n 276.47588606868595]"
       },
       "execution_count": 67,
       "metadata": {},
       "output_type": "execute_result"
      }
     ],
     "persistentId": "2ebb799e-b47e-44c6-8578-658f43ad5590",
     "text": "Rj_MW_M33"
    },
    "executionTime": "2020-05-04T22:19:45.600Z"
   },
   {
    "cell": {
     "executionCount": 68,
     "executionEventId": "0245833f-b2bc-4f4d-865a-723f8cfb5260",
     "hasError": false,
     "id": "3a6d6806-4c00-42c7-86ae-74ff3c10c79f",
     "outputs": [
      {
       "data": {
        "text/plain": "[1.444741393735398,\n 0.0,\n 0.0,\n 0.0,\n 0.0,\n 0.0,\n 0.0,\n 0.0,\n 0.0,\n 0.0,\n 0.0,\n 0.0,\n 0.0,\n 0.0,\n 0.0,\n 0.0,\n 0.0,\n 0.0,\n 0.0,\n 0.0]"
       },
       "execution_count": 68,
       "metadata": {},
       "output_type": "execute_result"
      }
     ],
     "persistentId": "089de141-3c8f-42e8-82f9-520391661d8e",
     "text": "Rj_M31_M33"
    },
    "executionTime": "2020-05-04T22:19:47.999Z"
   },
   {
    "cell": {
     "executionCount": 69,
     "executionEventId": "d50d7c37-b04c-4c15-ad31-2d177ea04e87",
     "hasError": false,
     "id": "3a6d6806-4c00-42c7-86ae-74ff3c10c79f",
     "outputs": [
      {
       "data": {
        "text/plain": "[1.444741393735398,\n 0.0,\n 0.0,\n 0.0,\n 0.0,\n 0.0,\n 0.0,\n 0.0,\n 0.0,\n 0.0,\n 0.0,\n 0.0,\n 0.0,\n 0.0,\n 0.0,\n 0.0,\n 0.0,\n 0.0,\n 0.0,\n 0.0]"
       },
       "execution_count": 69,
       "metadata": {},
       "output_type": "execute_result"
      }
     ],
     "persistentId": "089de141-3c8f-42e8-82f9-520391661d8e",
     "text": "Rj_M31_M33"
    },
    "executionTime": "2020-05-04T22:19:52.253Z"
   },
   {
    "cell": {
     "executionCount": 70,
     "executionEventId": "a08a82c9-1274-48b0-ae2d-de61579a0992",
     "hasError": false,
     "id": "42614e05-0652-40f6-94c0-b637710d2a59",
     "outputs": [
      {
       "data": {
        "image/png": "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\n",
        "text/plain": "<Figure size 720x720 with 1 Axes>"
       },
       "metadata": {
        "needs_background": "light"
       },
       "output_type": "display_data"
      }
     ],
     "persistentId": "b9337c6d-1f41-4f9b-8351-4d8d6b8d8679",
     "text": "fig, ax= plt.subplots(figsize=(10, 10))\n\n# Plot the analytical separation of M31 and M33\nax.semilogy(snap_id, Rj_MW_M33, 'b', lw=5, label='MW-M33 Rj')\n\n# Plot the simulated separation of M31 and M33\nax.semilogy(snap_id, Rj_M31_M33, 'r', lw=5, label='M31-M33 Rj')\n\n\n# Add axis labels\nax.set_xlabel('Snap', fontsize=22)\nax.set_ylabel('Rj(kpc)', fontsize=22)\nax.set_title(\"Rj vs. Snap Time\", fontsize=22)\n\n#adjust tick label font size\nax.xaxis.set_tick_params(labelsize=22)\nax.yaxis.set_tick_params(labelsize=22)\n\n# add a legend with some customizations.\nlegend = ax.legend(loc='upper left',fontsize=20)\n\n# tight layout\nfig.tight_layout()\n\n# Save to a file\nfig.savefig('orbit_M33_R.pdf')"
    },
    "executionTime": "2020-05-04T22:19:53.498Z"
   },
   {
    "cell": {
     "executionCount": 71,
     "executionEventId": "a1f34de5-826f-4f7f-a782-fac76cd9c4c7",
     "hasError": false,
     "id": "4cd4d862-394e-48ae-8265-16ac073eab25",
     "outputs": [
      {
       "data": {
        "text/plain": "[1.444741393735398,\n 0.0,\n 0.0,\n 0.0,\n 0.0,\n 0.0,\n 0.0,\n 0.0,\n 0.0,\n 0.0,\n 0.0,\n 0.0,\n 0.0,\n 0.0,\n 0.0,\n 0.0,\n 0.0,\n 0.0,\n 0.0,\n 0.0]"
       },
       "execution_count": 71,
       "metadata": {},
       "output_type": "execute_result"
      }
     ],
     "persistentId": "fd9787f6-14a5-4221-a05a-f52161217f89",
     "text": "Rj_M31_M33"
    },
    "executionTime": "2020-05-04T22:19:58.226Z"
   },
   {
    "cell": {
     "executionCount": 72,
     "executionEventId": "c457a41a-24c3-4df6-a810-131560ce1d42",
     "hasError": false,
     "id": "eb11d159-97e5-4b0d-b710-218025abdfe4",
     "outputs": [
      {
       "data": {
        "text/plain": "[366.77148899551594,\n 345.7408761721368,\n 342.61742181606814,\n 339.25183176205906,\n 335.7392159922693,\n 330.83364404893825,\n 327.5658975856285,\n 325.18667745180073,\n 320.7859036721584,\n 316.6476503625817,\n 312.8659024130138,\n 308.2536081533759,\n 305.3511699940214,\n 301.8069899262213,\n 298.98708076712285,\n 294.9228545047138,\n 291.3782887635562,\n 282.8273441957278,\n 285.2007879654345,\n 276.47588606868595]"
       },
       "execution_count": 72,
       "metadata": {},
       "output_type": "execute_result"
      }
     ],
     "persistentId": "2ebb799e-b47e-44c6-8578-658f43ad5590",
     "text": "Rj_MW_M33"
    },
    "executionTime": "2020-05-04T22:20:03.948Z"
   },
   {
    "cell": {
     "executionCount": 73,
     "executionEventId": "1c3b45af-2b65-4f5b-988f-75d67630a344",
     "hasError": false,
     "id": "3a6d6806-4c00-42c7-86ae-74ff3c10c79f",
     "outputs": [
      {
       "data": {
        "text/plain": "[1.444741393735398,\n 0.0,\n 0.0,\n 0.0,\n 0.0,\n 0.0,\n 0.0,\n 0.0,\n 0.0,\n 0.0,\n 0.0,\n 0.0,\n 0.0,\n 0.0,\n 0.0,\n 0.0,\n 0.0,\n 0.0,\n 0.0,\n 0.0]"
       },
       "execution_count": 73,
       "metadata": {},
       "output_type": "execute_result"
      }
     ],
     "persistentId": "089de141-3c8f-42e8-82f9-520391661d8e",
     "text": "Rj_M31_M33"
    },
    "executionTime": "2020-05-04T22:20:06.552Z"
   },
   {
    "cell": {
     "executionCount": 74,
     "executionEventId": "1a05639b-8e40-4075-8979-360451159d90",
     "hasError": false,
     "id": "78775cb1-5dd1-4af4-b032-e3f7e79520f6",
     "outputs": [
      {
       "name": "stderr",
       "output_type": "stream",
       "text": "\n\n  0%|          | 0/16 [00:00<?, ?it/s]\u001b[A\u001b[A\n\n  6%|▋         | 1/16 [00:13<03:17, 13.16s/it]\u001b[A\u001b[A\n\n 12%|█▎        | 2/16 [00:28<03:13, 13.81s/it]\u001b[A\u001b[A\n\n 19%|█▉        | 3/16 [00:42<02:58, 13.75s/it]\u001b[A\u001b[A\n\n 25%|██▌       | 4/16 [00:54<02:39, 13.25s/it]\u001b[A\u001b[A\n\n 31%|███▏      | 5/16 [01:10<02:36, 14.26s/it]\u001b[A\u001b[A\n\n 38%|███▊      | 6/16 [01:27<02:29, 14.96s/it]\u001b[A\u001b[A\n\n 44%|████▍     | 7/16 [01:40<02:10, 14.52s/it]\u001b[A\u001b[A\n\n 50%|█████     | 8/16 [01:55<01:57, 14.66s/it]\u001b[A\u001b[A\n\n 56%|█████▋    | 9/16 [02:11<01:43, 14.81s/it]\u001b[A\u001b[A\n\n 62%|██████▎   | 10/16 [02:23<01:24, 14.15s/it]\u001b[A\u001b[A\n\n 69%|██████▉   | 11/16 [02:38<01:11, 14.35s/it]\u001b[A\u001b[A\n\n 75%|███████▌  | 12/16 [02:52<00:56, 14.23s/it]\u001b[A\u001b[A\n\n 81%|████████▏ | 13/16 [03:04<00:40, 13.64s/it]\u001b[A\u001b[A\n\n 88%|████████▊ | 14/16 [03:16<00:26, 13.19s/it]\u001b[A\u001b[A\n\n 94%|█████████▍| 15/16 [03:28<00:12, 12.78s/it]\u001b[A\u001b[A\n\n100%|██████████| 16/16 [03:41<00:00, 13.85s/it]\u001b[A\u001b[A\n"
      }
     ],
     "persistentId": "56e269aa-6c8e-4126-a0eb-d1a3f9b1d7ec",
     "text": "from tqdm import tqdm\nsnap_id = []\nRj_MW_M33 = []\nRj_M31_M33 = []\nj = 0\nfor i in tqdm(range(1,801,50)):\n    temp_snap = Snap(i)\n    temp_Rj_MW_M33, temp_Rj_M31_M33 = temp_snap.Rj()\n    Rj_MW_M33.append(temp_Rj_MW_M33)\n    Rj_M31_M33.append(temp_Rj_M31_M33)\n    snap_id.append(i)"
    },
    "executionTime": "2020-05-04T22:28:08.721Z"
   },
   {
    "cell": {
     "executionCount": 75,
     "executionEventId": "8c892b2e-d3a4-4699-9662-511833e79e07",
     "hasError": false,
     "id": "eb11d159-97e5-4b0d-b710-218025abdfe4",
     "outputs": [
      {
       "data": {
        "text/plain": "[366.77148899551594,\n 327.81804881752123,\n 290.2415330764903,\n 241.82402402571256,\n 177.7078067251049,\n 88.82856666192873,\n 72.03280209133852,\n 96.85638214303657,\n 42.01384935082548,\n 1.765910622978336,\n 69.27935584420204,\n 2.1583840804921635,\n 2.657056648976282,\n 2.094637464846342,\n 2.106615931308577,\n 2.1233732816527944]"
       },
       "execution_count": 75,
       "metadata": {},
       "output_type": "execute_result"
      }
     ],
     "persistentId": "2ebb799e-b47e-44c6-8578-658f43ad5590",
     "text": "Rj_MW_M33"
    },
    "executionTime": "2020-05-04T22:28:26.610Z"
   },
   {
    "cell": {
     "executionCount": 76,
     "executionEventId": "fd935b07-26f6-4815-ad74-05c39bf98e17",
     "hasError": false,
     "id": "3a6d6806-4c00-42c7-86ae-74ff3c10c79f",
     "outputs": [
      {
       "data": {
        "text/plain": "[1.444741393735398,\n 2.9141331756552686,\n 1.6946695990691067,\n 1.948570823330607,\n 1.563196483267721,\n 1.3626882534180713,\n 4.558666519996171,\n 1.8185636009980304,\n 2.2617761669747782,\n 2.6619555920340425,\n 2.681858072801591,\n 4.8068297018396615,\n 3.639987144774505,\n 2.680451505526067,\n 2.9142752847147526,\n 2.8210647554964075]"
       },
       "execution_count": 76,
       "metadata": {},
       "output_type": "execute_result"
      }
     ],
     "persistentId": "089de141-3c8f-42e8-82f9-520391661d8e",
     "text": "Rj_M31_M33"
    },
    "executionTime": "2020-05-04T22:28:30.208Z"
   },
   {
    "cell": {
     "executionCount": 77,
     "executionEventId": "b2fe22a0-99dd-4ffd-818c-6e83834c5f0b",
     "hasError": false,
     "id": "cb2dc047-3b13-431a-8fb7-53af0ba12204",
     "outputs": [
      {
       "name": "stderr",
       "output_type": "stream",
       "text": "\n\n  0%|          | 0/20 [00:00<?, ?it/s]\u001b[A\u001b[A\n\n  5%|▌         | 1/20 [00:15<04:46, 15.08s/it]\u001b[A\u001b[A\n\n 10%|█         | 2/20 [00:30<04:34, 15.27s/it]\u001b[A\u001b[A\n\n 15%|█▌        | 3/20 [00:45<04:17, 15.14s/it]\u001b[A\u001b[A\n\n 20%|██        | 4/20 [01:01<04:05, 15.35s/it]\u001b[A\u001b[A\n\n 25%|██▌       | 5/20 [01:14<03:38, 14.57s/it]\u001b[A\u001b[A\n\n 30%|███       | 6/20 [01:27<03:20, 14.32s/it]\u001b[A\u001b[A\n\n 35%|███▌      | 7/20 [01:40<03:00, 13.91s/it]\u001b[A\u001b[A\n\n 40%|████      | 8/20 [01:53<02:42, 13.55s/it]\u001b[A\u001b[A\n\n 45%|████▌     | 9/20 [02:07<02:29, 13.62s/it]\u001b[A\u001b[A\n\n 50%|█████     | 10/20 [02:19<02:12, 13.22s/it]\u001b[A\u001b[A\n\n 55%|█████▌    | 11/20 [02:33<02:01, 13.46s/it]\u001b[A\u001b[A\n\n 60%|██████    | 12/20 [02:46<01:46, 13.28s/it]\u001b[A\u001b[A\n\n 65%|██████▌   | 13/20 [02:58<01:30, 12.88s/it]\u001b[A\u001b[A\n\n 70%|███████   | 14/20 [03:11<01:17, 12.84s/it]\u001b[A\u001b[A\n\n 75%|███████▌  | 15/20 [03:22<01:02, 12.47s/it]\u001b[A\u001b[A\n\n 80%|████████  | 16/20 [03:33<00:48, 12.06s/it]\u001b[A\u001b[A\n\n 85%|████████▌ | 17/20 [03:45<00:35, 11.77s/it]\u001b[A\u001b[A\n\n 90%|█████████ | 18/20 [03:56<00:23, 11.57s/it]\u001b[A\u001b[A\n\n 95%|█████████▌| 19/20 [04:07<00:11, 11.50s/it]\u001b[A\u001b[A\n\n100%|██████████| 20/20 [04:18<00:00, 12.93s/it]\u001b[A\u001b[A\n"
      }
     ],
     "persistentId": "e3dc12b6-cd70-4ef2-b6f3-73a18a5ab5d1",
     "text": "from tqdm import tqdm\nsnap_id = []\nRj_MW_M33 = []\nRj_M31_M33 = []\nj = 0\nfor i in tqdm(range(1,101,5)):\n    temp_snap = Snap(i)\n    if i == 1:\n        temp_Rj_MW_M33, temp_Rj_M31_M33 = temp_snap.Rj()\n        Rj_MW_M33.append(temp_Rj_MW_M33)\n        Rj_M31_M33.append(temp_Rj_M31_M33)\n    else:\n        temp_Rj_MW_M33, temp_Rj_M31_M33 = temp_snap.Rj(Rj_MW_M33[j],Rj_M31_M33[j])\n        Rj_MW_M33.append(temp_Rj_MW_M33)\n        Rj_M31_M33.append(temp_Rj_M31_M33)\n        j += 1\n    snap_id.append(i)"
    },
    "executionTime": "2020-05-04T23:50:41.342Z"
   },
   {
    "cell": {
     "executionCount": 78,
     "executionEventId": "55970503-1137-4fba-99c8-d713fc19df91",
     "hasError": false,
     "id": "18eeaebe-fd8b-44f8-80a0-922065af57d1",
     "outputs": [
      {
       "data": {
        "text/plain": "[366.77148899551594,\n 345.7408761721368,\n 342.61742181606814,\n 339.25183176205906,\n 335.7392159922693,\n 330.83364404893825,\n 327.5658975856285,\n 325.18667745180073,\n 320.7859036721584,\n 316.6476503625817,\n 312.8659024130138,\n 308.2536081533759,\n 305.3511699940214,\n 301.8069899262213,\n 298.98708076712285,\n 294.9228545047138,\n 291.3782887635562,\n 282.8273441957278,\n 285.2007879654345,\n 276.47588606868595]"
       },
       "execution_count": 78,
       "metadata": {},
       "output_type": "execute_result"
      }
     ],
     "persistentId": "a61a1aea-e551-401e-807a-ffeba0f37ea1",
     "text": "Rj_MW_M33"
    },
    "executionTime": "2020-05-04T23:50:58.768Z"
   },
   {
    "cell": {
     "executionCount": 79,
     "executionEventId": "336092c3-3f3c-44f7-8ac3-f04d17be14b4",
     "hasError": false,
     "id": "142826c1-71b5-4453-8be4-38b6dfb1a2ed",
     "outputs": [
      {
       "data": {
        "text/plain": "[1.444741393735398,\n 0.0,\n 0.0,\n 0.0,\n 0.0,\n 0.0,\n 0.0,\n 0.0,\n 0.0,\n 0.0,\n 0.0,\n 0.0,\n 0.0,\n 0.0,\n 0.0,\n 0.0,\n 0.0,\n 0.0,\n 0.0,\n 0.0]"
       },
       "execution_count": 79,
       "metadata": {},
       "output_type": "execute_result"
      }
     ],
     "persistentId": "309dc7a0-93ef-4dce-a7a3-7790430ab3ed",
     "text": "Rj_M31_M33"
    },
    "executionTime": "2020-05-04T23:51:08.075Z"
   }
  ],
  "kernelspec": {
   "display_name": "Python 3",
   "language": "python",
   "name": "python3"
  },
  "language_info": {
   "codemirror_mode": {
    "name": "ipython",
    "version": 3
   },
   "file_extension": ".py",
   "mimetype": "text/x-python",
   "name": "python",
   "nbconvert_exporter": "python",
   "pygments_lexer": "ipython3",
   "version": "3.6.7"
  },
  "uuid": "bd5542e3-08c0-4e68-8cda-0bfbff28a134"
 },
 "nbformat": 4,
 "nbformat_minor": 4
}
