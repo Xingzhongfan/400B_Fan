{
 "cells": [
  {
   "cell_type": "code",
   "execution_count": 14,
   "metadata": {
    "execution_event_id": "2a5924f5-2230-4ace-8b64-ffeec5e9d1e1",
    "last_executed_text": "from ReadFile import Read\nimport numpy as np\nimport astropy.units as u",
    "persistent_id": "4ee2b677-72bf-4281-b235-19eab5e45583"
   },
   "outputs": [],
   "source": [
    "from ReadFile import Read\n",
    "import numpy as np\n",
    "import astropy.units as u"
   ]
  },
  {
   "cell_type": "code",
   "execution_count": 91,
   "metadata": {
    "execution_event_id": "6779b248-44fa-4b78-8e8d-ee7822f81928",
    "last_executed_text": "# Function to given distance velocity and mass of any given particle of any given type\n\ndef ParticleInfo(filename, ParticleType, ParticleNumber):\n    # Inputs:\n    #    filename is file's name eg: 'MW_000.txt'\n    #    ParticleType: Type 1 = Dark Matter, Type 2 = Disk Stars, Type 3 = Bulge Stars\n    #    ParticleNumber is the order of particle in different ParticleType\n    # Returns:\n    #    distance: the 3D distance of the particle in kpc\n    #    velocity: the 3D velocity of the particle in km/s\n    #    mass: the mass of the particle in Solar mass\n    \n    # using Read Function get the data\n    time,TotalNumber,data = Read(filename)\n    # select input ParticleType index\n    index = np.where(data['type'] == ParticleType)\n    # put all select PaticleType in new_data list\n    new_data = data[index]\n    # select n_th particle \n    particle = new_data[ParticleNumber-1]\n    # calculate selected particle's 3d distance in 3 decimal places\n    distance = np.around(np.sqrt(particle['x']**2+particle['y']**2+particle['z']**2)*u.kpc,3)\n    # calculate selected particle's 3d velocity in 3 decimal places\n    velocity = np.around(np.sqrt(particle['vx']**2+particle['vy']**2+particle['vz']**2)*u.km/ u.s,3)\n    # convert select particle mass units 1e10 to Solar mass\n    mass = particle['m']*1e10/1.9884e30*u.Msun\n    return distance, velocity, mass",
    "persistent_id": "efcdb227-0ff0-44d6-8126-c233ae074c6a"
   },
   "outputs": [],
   "source": [
    "# Function to given distance velocity and mass of any given particle of any given type\n",
    "\n",
    "def ParticleInfo(filename, ParticleType, ParticleNumber):\n",
    "    # Inputs:\n",
    "    #    filename is file's name eg: 'MW_000.txt'\n",
    "    #    ParticleType: Type 1 = Dark Matter, Type 2 = Disk Stars, Type 3 = Bulge Stars\n",
    "    #    ParticleNumber is the order of particle in different ParticleType\n",
    "    # Returns:\n",
    "    #    distance: the 3D distance of the particle in kpc\n",
    "    #    velocity: the 3D velocity of the particle in km/s\n",
    "    #    mass: the mass of the particle in Solar mass\n",
    "    \n",
    "    # using Read Function get the data\n",
    "    time,TotalNumber,data = Read(filename)\n",
    "    # select input ParticleType index\n",
    "    index = np.where(data['type'] == ParticleType)\n",
    "    # put all select PaticleType in new_data list\n",
    "    new_data = data[index]\n",
    "    # select n_th particle \n",
    "    particle = new_data[ParticleNumber-1]\n",
    "    # calculate selected particle's 3d distance in 3 decimal places\n",
    "    distance = np.around(np.sqrt(particle['x']**2+particle['y']**2+particle['z']**2)*u.kpc,3)\n",
    "    # calculate selected particle's 3d velocity in 3 decimal places\n",
    "    velocity = np.around(np.sqrt(particle['vx']**2+particle['vy']**2+particle['vz']**2)*u.km/ u.s,3)\n",
    "    # convert select particle mass units 1e10 to Solar mass\n",
    "    mass = particle['m']*1e10/1.9884e30*u.Msun\n",
    "    return distance, velocity, mass"
   ]
  },
  {
   "cell_type": "markdown",
   "metadata": {
    "execution_event_id": "1fd31048-024a-47e6-8d85-39fa4922fec0",
    "last_executed_text": "d, v, m = ParticleInfo('MW_000.txt',1,100)",
    "persistent_id": "1cbd807d-e506-4a63-9d3c-0bb93f6a03d6"
   },
   "source": [
    "Question 5:\n",
    "100th disk particle of Milky Way at SnapNumber 0"
   ]
  },
  {
   "cell_type": "code",
   "execution_count": 92,
   "metadata": {
    "execution_event_id": "8579b9b4-cbac-442a-93eb-e4a86509cc49",
    "last_executed_text": "distance, velocity, mass = ParticleInfo('MW_000.txt', 2, 100)",
    "persistent_id": "7486aa94-546d-4500-9d43-8aa9b7e965b0"
   },
   "outputs": [],
   "source": [
    "distance, velocity, mass = ParticleInfo('MW_000.txt', 2, 100)"
   ]
  },
  {
   "cell_type": "code",
   "execution_count": 93,
   "metadata": {
    "execution_event_id": "2b697d90-e4ba-45c8-bb35-ad4af7fd3ba5",
    "last_executed_text": "print(distance)",
    "persistent_id": "369c1c0c-a06b-4e50-8890-ebb3f7aa808e"
   },
   "outputs": [
    {
     "name": "stdout",
     "output_type": "stream",
     "text": [
      "4.245 kpc\n"
     ]
    }
   ],
   "source": [
    "print(distance)"
   ]
  },
  {
   "cell_type": "code",
   "execution_count": 94,
   "metadata": {
    "execution_event_id": "def87ed4-984e-446f-b345-146c64469446",
    "last_executed_text": "print(velocity)",
    "persistent_id": "a95f6357-3f9b-4655-ba48-bbeeaa291497"
   },
   "outputs": [
    {
     "name": "stdout",
     "output_type": "stream",
     "text": [
      "312.135 km / s\n"
     ]
    }
   ],
   "source": [
    "print(velocity)"
   ]
  },
  {
   "cell_type": "code",
   "execution_count": 95,
   "metadata": {
    "execution_event_id": "4541ef45-7304-46cd-85e7-138d5935a4ed",
    "last_executed_text": "print(mass)",
    "persistent_id": "c4395caa-c96a-49cd-b220-74d6a72d86de"
   },
   "outputs": [
    {
     "name": "stdout",
     "output_type": "stream",
     "text": [
      "5.029169181251257e-25 solMass\n"
     ]
    }
   ],
   "source": [
    "print(mass)"
   ]
  },
  {
   "cell_type": "code",
   "execution_count": 97,
   "metadata": {
    "execution_event_id": "30462c74-8ed9-4579-9501-d5bb8799b432",
    "last_executed_text": "print(distance.to('lyr'))",
    "persistent_id": "a9399ae9-a154-46a0-b23c-6344e7fe343c"
   },
   "outputs": [
    {
     "name": "stdout",
     "output_type": "stream",
     "text": [
      "13845.33823396728 lyr\n"
     ]
    }
   ],
   "source": [
    "print(distance.to('lyr'))"
   ]
  },
  {
   "cell_type": "code",
   "execution_count": null,
   "metadata": {},
   "outputs": [],
   "source": []
  }
 ],
 "metadata": {
  "history": [
   {
    "cell": {
     "executionCount": 1,
     "executionEventId": "84b8cd52-4e52-4f61-a869-7d6bbbe22f35",
     "hasError": false,
     "id": "6d2b30dc-1e4a-4327-aec0-78f890630ced",
     "outputs": [],
     "persistentId": "4ee2b677-72bf-4281-b235-19eab5e45583",
     "text": "import numpy as np\nimport astropy.units as u\n\ndef Read(filename = 'MW_000.txt'):\n    file = open(filename,'r')\n    line1 = file.readline()\n    lable1, value1 = line1.split()\n    time = float(value1)*u.Myr\n    line2 = file.readline()\n    lable2, value2 = line2.split()\n    TotalNumber = value2\n    data = np.genfromtxt(filename, dtype = None, names = True, skip_header=3)\n    return time,TotalNumber,data"
    },
    "executionTime": "2020-02-01T02:06:47.407Z"
   },
   {
    "cell": {
     "executionCount": 2,
     "executionEventId": "9245ce49-bed5-4bff-97fa-c466c5297bb0",
     "hasError": false,
     "id": "9360c207-2f19-4194-9d99-6706d7e176a3",
     "outputs": [],
     "persistentId": "efcdb227-0ff0-44d6-8126-c233ae074c6a",
     "text": "from ReadFile import Read"
    },
    "executionTime": "2020-02-01T02:07:17.778Z"
   },
   {
    "cell": {
     "executionCount": 3,
     "executionEventId": "bd5c0abb-5459-4c47-b9fb-b835c168e178",
     "hasError": false,
     "id": "6d2b30dc-1e4a-4327-aec0-78f890630ced",
     "outputs": [],
     "persistentId": "4ee2b677-72bf-4281-b235-19eab5e45583",
     "text": "from ReadFile import Read"
    },
    "executionTime": "2020-02-01T02:07:34.777Z"
   },
   {
    "cell": {
     "executionCount": 4,
     "executionEventId": "f678f132-84a5-40c7-a55f-6774dfccc9a3",
     "hasError": false,
     "id": "9360c207-2f19-4194-9d99-6706d7e176a3",
     "outputs": [],
     "persistentId": "efcdb227-0ff0-44d6-8126-c233ae074c6a",
     "text": "time,TotalNumber,data = Read()"
    },
    "executionTime": "2020-02-01T02:08:01.548Z"
   },
   {
    "cell": {
     "executionCount": 5,
     "executionEventId": "6170b535-cd41-46a3-8f14-1975e3d8ffcb",
     "hasError": false,
     "id": "e540b450-4f73-41cb-b8d1-5fa18e584929",
     "outputs": [
      {
       "data": {
        "text/plain": "(1., 0.00394985, -286.601, 298.455, 391.692, 50.2658, -46.4521, 15.1825)"
       },
       "execution_count": 5,
       "metadata": {},
       "output_type": "execute_result"
      }
     ],
     "persistentId": "f9c2802c-7f7b-4c3d-9a76-e0a726b0da0c",
     "text": "data[1]"
    },
    "executionTime": "2020-02-01T02:08:07.401Z"
   },
   {
    "cell": {
     "executionCount": 6,
     "executionEventId": "9536ec6e-03e0-424b-9a6f-2ca33c74d536",
     "hasError": false,
     "id": "e540b450-4f73-41cb-b8d1-5fa18e584929",
     "outputs": [
      {
       "data": {
        "text/plain": "array([1., 1., 1., ..., 3., 3., 3.])"
       },
       "execution_count": 6,
       "metadata": {},
       "output_type": "execute_result"
      }
     ],
     "persistentId": "f9c2802c-7f7b-4c3d-9a76-e0a726b0da0c",
     "text": "data['type']"
    },
    "executionTime": "2020-02-01T02:08:47.294Z"
   },
   {
    "cell": {
     "executionCount": 7,
     "executionEventId": "3498b7a5-def2-4dc1-980e-280953205e28",
     "hasError": false,
     "id": "e540b450-4f73-41cb-b8d1-5fa18e584929",
     "outputs": [
      {
       "data": {
        "text/plain": "array([ 19.1588 , 298.455  , -28.6337 , ...,   3.36725,   5.31409,\n         3.32552])"
       },
       "execution_count": 7,
       "metadata": {},
       "output_type": "execute_result"
      }
     ],
     "persistentId": "f9c2802c-7f7b-4c3d-9a76-e0a726b0da0c",
     "text": "data['type'[1]]"
    },
    "executionTime": "2020-02-01T02:11:28.046Z"
   },
   {
    "cell": {
     "executionCount": 8,
     "executionEventId": "f23ac052-9126-499f-a083-138fe4d8c607",
     "hasError": false,
     "id": "e540b450-4f73-41cb-b8d1-5fa18e584929",
     "outputs": [
      {
       "data": {
        "text/plain": "array([(1., 0.00394985, -286.601, 298.455, 391.692, 50.2658, -46.4521, 15.1825)],\n      dtype=[('type', '<f8'), ('m', '<f8'), ('x', '<f8'), ('y', '<f8'), ('z', '<f8'), ('vx', '<f8'), ('vy', '<f8'), ('vz', '<f8')])"
       },
       "execution_count": 8,
       "metadata": {},
       "output_type": "execute_result"
      }
     ],
     "persistentId": "f9c2802c-7f7b-4c3d-9a76-e0a726b0da0c",
     "text": "data[[1]]"
    },
    "executionTime": "2020-02-01T02:11:44.145Z"
   },
   {
    "cell": {
     "executionCount": 9,
     "executionEventId": "5720f0c8-a124-4b06-a031-30533a561f4a",
     "hasError": false,
     "id": "e540b450-4f73-41cb-b8d1-5fa18e584929",
     "outputs": [
      {
       "data": {
        "text/plain": "(1., 0.00394985, -286.601, 298.455, 391.692, 50.2658, -46.4521, 15.1825)"
       },
       "execution_count": 9,
       "metadata": {},
       "output_type": "execute_result"
      }
     ],
     "persistentId": "f9c2802c-7f7b-4c3d-9a76-e0a726b0da0c",
     "text": "data[1]"
    },
    "executionTime": "2020-02-01T02:11:56.818Z"
   },
   {
    "cell": {
     "executionCount": 10,
     "executionEventId": "558c96ea-4853-4196-92bb-7c444ef5c6cf",
     "hasError": false,
     "id": "e540b450-4f73-41cb-b8d1-5fa18e584929",
     "outputs": [
      {
       "data": {
        "text/plain": "array([(1., 0.00394985, -2.51725e+00,  19.1588 ,  5.28528e+01,  1.34962e-01, 116.109   ,  -85.3822 ),\n       (1., 0.00394985, -2.86601e+02, 298.455  ,  3.91692e+02,  5.02658e+01, -46.4521  ,   15.1825 ),\n       (1., 0.00394985, -5.05945e-01, -28.6337 , -8.39565e+01,  1.13833e+01,  -0.974253,  -39.3509 ),\n       ...,\n       (3., 0.00010005, -3.29432e+00,   3.36725,  1.09023e-01,  2.18821e+02,  73.4462  ,   -8.81108),\n       (3., 0.00010005,  2.57806e-01,   5.31409, -6.62670e-01,  5.46121e+01, -19.0044  , -190.184  ),\n       (3., 0.00010005, -6.57662e-01,   3.32552, -2.51660e+00, -1.37672e+01,  44.8175  ,   16.7124 )],\n      dtype=[('type', '<f8'), ('m', '<f8'), ('x', '<f8'), ('y', '<f8'), ('z', '<f8'), ('vx', '<f8'), ('vy', '<f8'), ('vz', '<f8')])"
       },
       "execution_count": 10,
       "metadata": {},
       "output_type": "execute_result"
      }
     ],
     "persistentId": "f9c2802c-7f7b-4c3d-9a76-e0a726b0da0c",
     "text": "data"
    },
    "executionTime": "2020-02-01T02:12:04.587Z"
   },
   {
    "cell": {
     "executionCount": 11,
     "executionEventId": "38b2f405-5b10-410e-93b6-5a796a4b813d",
     "hasError": false,
     "id": "e540b450-4f73-41cb-b8d1-5fa18e584929",
     "outputs": [
      {
       "data": {
        "text/plain": "numpy.ndarray"
       },
       "execution_count": 11,
       "metadata": {},
       "output_type": "execute_result"
      }
     ],
     "persistentId": "f9c2802c-7f7b-4c3d-9a76-e0a726b0da0c",
     "text": "type(data)"
    },
    "executionTime": "2020-02-01T02:12:18.953Z"
   },
   {
    "cell": {
     "executionCount": 12,
     "executionEventId": "f5b3e8e7-9f35-4e96-b39c-58bf7b917407",
     "hasError": true,
     "id": "e540b450-4f73-41cb-b8d1-5fa18e584929",
     "outputs": [
      {
       "ename": "AttributeError",
       "evalue": "module 'numpy' has no attribute 'dim'",
       "output_type": "error",
       "traceback": [
        "\u001b[0;31m---------------------------------------------------------------------------\u001b[0m",
        "\u001b[0;31mAttributeError\u001b[0m                            Traceback (most recent call last)",
        "\u001b[0;32m<ipython-input-12-3a98f0e25336>\u001b[0m in \u001b[0;36m<module>\u001b[0;34m\u001b[0m\n\u001b[0;32m----> 1\u001b[0;31m \u001b[0mnp\u001b[0m\u001b[0;34m.\u001b[0m\u001b[0mdim\u001b[0m\u001b[0;34m(\u001b[0m\u001b[0mdata\u001b[0m\u001b[0;34m)\u001b[0m\u001b[0;34m\u001b[0m\u001b[0;34m\u001b[0m\u001b[0m\n\u001b[0m",
        "\u001b[0;31mAttributeError\u001b[0m: module 'numpy' has no attribute 'dim'"
       ]
      }
     ],
     "persistentId": "f9c2802c-7f7b-4c3d-9a76-e0a726b0da0c",
     "text": "np.dim(data)"
    },
    "executionTime": "2020-02-01T02:12:26.536Z"
   },
   {
    "cell": {
     "executionCount": 13,
     "executionEventId": "6c6260ff-7e60-4688-9b68-6d0de35995f9",
     "hasError": true,
     "id": "e540b450-4f73-41cb-b8d1-5fa18e584929",
     "outputs": [
      {
       "ename": "NameError",
       "evalue": "name 'dim' is not defined",
       "output_type": "error",
       "traceback": [
        "\u001b[0;31m---------------------------------------------------------------------------\u001b[0m",
        "\u001b[0;31mNameError\u001b[0m                                 Traceback (most recent call last)",
        "\u001b[0;32m<ipython-input-13-9cfdf03ad56f>\u001b[0m in \u001b[0;36m<module>\u001b[0;34m\u001b[0m\n\u001b[0;32m----> 1\u001b[0;31m \u001b[0mdim\u001b[0m\u001b[0;34m(\u001b[0m\u001b[0mdata\u001b[0m\u001b[0;34m)\u001b[0m\u001b[0;34m\u001b[0m\u001b[0;34m\u001b[0m\u001b[0m\n\u001b[0m",
        "\u001b[0;31mNameError\u001b[0m: name 'dim' is not defined"
       ]
      }
     ],
     "persistentId": "f9c2802c-7f7b-4c3d-9a76-e0a726b0da0c",
     "text": "dim(data)"
    },
    "executionTime": "2020-02-01T02:12:30.570Z"
   },
   {
    "cell": {
     "executionCount": 14,
     "executionEventId": "2a5924f5-2230-4ace-8b64-ffeec5e9d1e1",
     "hasError": false,
     "id": "6d2b30dc-1e4a-4327-aec0-78f890630ced",
     "outputs": [],
     "persistentId": "4ee2b677-72bf-4281-b235-19eab5e45583",
     "text": "from ReadFile import Read\nimport numpy as np\nimport astropy.units as u"
    },
    "executionTime": "2020-02-01T02:12:45.433Z"
   },
   {
    "cell": {
     "executionCount": 15,
     "executionEventId": "6a2de4bb-fd23-4d33-8cd5-256a7b7239ac",
     "hasError": true,
     "id": "e540b450-4f73-41cb-b8d1-5fa18e584929",
     "outputs": [
      {
       "ename": "AttributeError",
       "evalue": "module 'numpy' has no attribute 'dim'",
       "output_type": "error",
       "traceback": [
        "\u001b[0;31m---------------------------------------------------------------------------\u001b[0m",
        "\u001b[0;31mAttributeError\u001b[0m                            Traceback (most recent call last)",
        "\u001b[0;32m<ipython-input-15-3a98f0e25336>\u001b[0m in \u001b[0;36m<module>\u001b[0;34m\u001b[0m\n\u001b[0;32m----> 1\u001b[0;31m \u001b[0mnp\u001b[0m\u001b[0;34m.\u001b[0m\u001b[0mdim\u001b[0m\u001b[0;34m(\u001b[0m\u001b[0mdata\u001b[0m\u001b[0;34m)\u001b[0m\u001b[0;34m\u001b[0m\u001b[0;34m\u001b[0m\u001b[0m\n\u001b[0m",
        "\u001b[0;31mAttributeError\u001b[0m: module 'numpy' has no attribute 'dim'"
       ]
      }
     ],
     "persistentId": "f9c2802c-7f7b-4c3d-9a76-e0a726b0da0c",
     "text": "np.dim(data)"
    },
    "executionTime": "2020-02-01T02:12:49.511Z"
   },
   {
    "cell": {
     "executionCount": 16,
     "executionEventId": "e0f3b225-0d91-4363-b5ef-93db187836f6",
     "hasError": false,
     "id": "e540b450-4f73-41cb-b8d1-5fa18e584929",
     "outputs": [
      {
       "data": {
        "text/plain": "array([-2.51725e+00, -2.86601e+02, -5.05945e-01, ..., -3.29432e+00,\n        2.57806e-01, -6.57662e-01])"
       },
       "execution_count": 16,
       "metadata": {},
       "output_type": "execute_result"
      }
     ],
     "persistentId": "f9c2802c-7f7b-4c3d-9a76-e0a726b0da0c",
     "text": "data['x']"
    },
    "executionTime": "2020-02-01T02:13:09.754Z"
   },
   {
    "cell": {
     "executionCount": 17,
     "executionEventId": "bf90bdb1-cdca-4061-acab-e4ada1be994f",
     "hasError": false,
     "id": "e540b450-4f73-41cb-b8d1-5fa18e584929",
     "outputs": [
      {
       "data": {
        "text/plain": "-286.601"
       },
       "execution_count": 17,
       "metadata": {},
       "output_type": "execute_result"
      }
     ],
     "persistentId": "f9c2802c-7f7b-4c3d-9a76-e0a726b0da0c",
     "text": "data['x'][1]"
    },
    "executionTime": "2020-02-01T02:13:17.094Z"
   },
   {
    "cell": {
     "executionCount": 18,
     "executionEventId": "8d08c933-a7ab-4f36-a3b2-d003122dac2e",
     "hasError": false,
     "id": "e540b450-4f73-41cb-b8d1-5fa18e584929",
     "outputs": [
      {
       "data": {
        "text/plain": "-2.51725"
       },
       "execution_count": 18,
       "metadata": {},
       "output_type": "execute_result"
      }
     ],
     "persistentId": "f9c2802c-7f7b-4c3d-9a76-e0a726b0da0c",
     "text": "data['x'][0]"
    },
    "executionTime": "2020-02-01T02:13:21.143Z"
   },
   {
    "cell": {
     "executionCount": 19,
     "executionEventId": "f5650cc4-ab94-4e63-9617-5e9f6ad7aee0",
     "hasError": false,
     "id": "e540b450-4f73-41cb-b8d1-5fa18e584929",
     "outputs": [
      {
       "data": {
        "text/plain": "array([  -2.51725 , -286.601   ,   -0.505945, -169.208   ,   26.1592  ,\n        115.935   , -340.719   ,   -5.75122 ,  -13.2277  ])"
       },
       "execution_count": 19,
       "metadata": {},
       "output_type": "execute_result"
      }
     ],
     "persistentId": "f9c2802c-7f7b-4c3d-9a76-e0a726b0da0c",
     "text": "data['x'][0:9]"
    },
    "executionTime": "2020-02-01T02:13:29.375Z"
   },
   {
    "cell": {
     "executionCount": 20,
     "executionEventId": "55f6cb95-a46e-4b89-ba60-02db012b89a8",
     "hasError": false,
     "id": "e540b450-4f73-41cb-b8d1-5fa18e584929",
     "outputs": [
      {
       "data": {
        "text/plain": "-286.601"
       },
       "execution_count": 20,
       "metadata": {},
       "output_type": "execute_result"
      }
     ],
     "persistentId": "f9c2802c-7f7b-4c3d-9a76-e0a726b0da0c",
     "text": "data['x'][1]"
    },
    "executionTime": "2020-02-01T02:13:57.296Z"
   },
   {
    "cell": {
     "executionCount": 21,
     "executionEventId": "1a606ff8-faf2-4001-9671-e501ba7e8962",
     "hasError": true,
     "id": "e540b450-4f73-41cb-b8d1-5fa18e584929",
     "outputs": [
      {
       "ename": "AttributeError",
       "evalue": "module 'astropy.units' has no attribute 'Kpc'",
       "output_type": "error",
       "traceback": [
        "\u001b[0;31m---------------------------------------------------------------------------\u001b[0m",
        "\u001b[0;31mAttributeError\u001b[0m                            Traceback (most recent call last)",
        "\u001b[0;32m<ipython-input-21-f1cd700f3beb>\u001b[0m in \u001b[0;36m<module>\u001b[0;34m\u001b[0m\n\u001b[0;32m----> 1\u001b[0;31m \u001b[0mdata\u001b[0m\u001b[0;34m[\u001b[0m\u001b[0;34m'x'\u001b[0m\u001b[0;34m]\u001b[0m\u001b[0;34m[\u001b[0m\u001b[0;36m1\u001b[0m\u001b[0;34m]\u001b[0m\u001b[0;34m*\u001b[0m\u001b[0mu\u001b[0m\u001b[0;34m.\u001b[0m\u001b[0mKpc\u001b[0m\u001b[0;34m\u001b[0m\u001b[0;34m\u001b[0m\u001b[0m\n\u001b[0m",
        "\u001b[0;31mAttributeError\u001b[0m: module 'astropy.units' has no attribute 'Kpc'"
       ]
      }
     ],
     "persistentId": "f9c2802c-7f7b-4c3d-9a76-e0a726b0da0c",
     "text": "data['x'][1]*u.Kpc"
    },
    "executionTime": "2020-02-01T02:14:15.416Z"
   },
   {
    "cell": {
     "executionCount": 22,
     "executionEventId": "37ec114a-8fdf-4ae5-b05c-389a1f2a806c",
     "hasError": false,
     "id": "e540b450-4f73-41cb-b8d1-5fa18e584929",
     "outputs": [
      {
       "data": {
        "text/latex": "$-286.601 \\; \\mathrm{kpc}$",
        "text/plain": "<Quantity -286.601 kpc>"
       },
       "execution_count": 22,
       "metadata": {},
       "output_type": "execute_result"
      }
     ],
     "persistentId": "f9c2802c-7f7b-4c3d-9a76-e0a726b0da0c",
     "text": "data['x'][1]*u.kpc"
    },
    "executionTime": "2020-02-01T02:14:20.480Z"
   },
   {
    "cell": {
     "executionCount": 23,
     "executionEventId": "17d92210-aeb6-46ad-bbaf-419af98275ca",
     "hasError": false,
     "id": "e540b450-4f73-41cb-b8d1-5fa18e584929",
     "outputs": [],
     "persistentId": "f9c2802c-7f7b-4c3d-9a76-e0a726b0da0c",
     "text": "x = data['x'][1]*u.kpc"
    },
    "executionTime": "2020-02-01T02:14:27.935Z"
   },
   {
    "cell": {
     "executionCount": 24,
     "executionEventId": "a8d321bd-2299-42e5-84a9-0f2bdef6c833",
     "hasError": false,
     "id": "8c355fbe-fa25-47d3-b91f-b26a5f564579",
     "outputs": [
      {
       "data": {
        "text/latex": "$-286.601 \\; \\mathrm{kpc}$",
        "text/plain": "<Quantity -286.601 kpc>"
       },
       "execution_count": 24,
       "metadata": {},
       "output_type": "execute_result"
      }
     ],
     "persistentId": "f83df714-dfcb-4392-863b-5ce8085969a9",
     "text": "x"
    },
    "executionTime": "2020-02-01T02:14:29.789Z"
   },
   {
    "cell": {
     "executionCount": 25,
     "executionEventId": "b0feb1fa-0627-4ede-80d8-7203b7fcc4f7",
     "hasError": true,
     "id": "8c355fbe-fa25-47d3-b91f-b26a5f564579",
     "outputs": [
      {
       "ename": "UnitConversionError",
       "evalue": "Can only apply 'add' function to dimensionless quantities when other argument is not a quantity (unless the latter is all zero/infinity/nan)",
       "output_type": "error",
       "traceback": [
        "\u001b[0;31m---------------------------------------------------------------------------\u001b[0m",
        "\u001b[0;31mUnitConversionError\u001b[0m                       Traceback (most recent call last)",
        "\u001b[0;32m<ipython-input-25-da2b8556d113>\u001b[0m in \u001b[0;36m<module>\u001b[0;34m\u001b[0m\n\u001b[0;32m----> 1\u001b[0;31m \u001b[0mx\u001b[0m\u001b[0;34m+\u001b[0m\u001b[0;36m1\u001b[0m\u001b[0;34m\u001b[0m\u001b[0;34m\u001b[0m\u001b[0m\n\u001b[0m",
        "\u001b[0;32m/anaconda3/lib/python3.6/site-packages/astropy/units/quantity.py\u001b[0m in \u001b[0;36m__array_ufunc__\u001b[0;34m(self, function, method, *inputs, **kwargs)\u001b[0m\n\u001b[1;32m    459\u001b[0m         \u001b[0;31m# consistent units between two inputs (e.g., in np.add) --\u001b[0m\u001b[0;34m\u001b[0m\u001b[0;34m\u001b[0m\u001b[0;34m\u001b[0m\u001b[0m\n\u001b[1;32m    460\u001b[0m         \u001b[0;31m# and the unit of the result (or tuple of units for nout > 1).\u001b[0m\u001b[0;34m\u001b[0m\u001b[0;34m\u001b[0m\u001b[0;34m\u001b[0m\u001b[0m\n\u001b[0;32m--> 461\u001b[0;31m         \u001b[0mconverters\u001b[0m\u001b[0;34m,\u001b[0m \u001b[0munit\u001b[0m \u001b[0;34m=\u001b[0m \u001b[0mconverters_and_unit\u001b[0m\u001b[0;34m(\u001b[0m\u001b[0mfunction\u001b[0m\u001b[0;34m,\u001b[0m \u001b[0mmethod\u001b[0m\u001b[0;34m,\u001b[0m \u001b[0;34m*\u001b[0m\u001b[0minputs\u001b[0m\u001b[0;34m)\u001b[0m\u001b[0;34m\u001b[0m\u001b[0;34m\u001b[0m\u001b[0m\n\u001b[0m\u001b[1;32m    462\u001b[0m \u001b[0;34m\u001b[0m\u001b[0m\n\u001b[1;32m    463\u001b[0m         \u001b[0mout\u001b[0m \u001b[0;34m=\u001b[0m \u001b[0mkwargs\u001b[0m\u001b[0;34m.\u001b[0m\u001b[0mget\u001b[0m\u001b[0;34m(\u001b[0m\u001b[0;34m'out'\u001b[0m\u001b[0;34m,\u001b[0m \u001b[0;32mNone\u001b[0m\u001b[0;34m)\u001b[0m\u001b[0;34m\u001b[0m\u001b[0;34m\u001b[0m\u001b[0m\n",
        "\u001b[0;32m/anaconda3/lib/python3.6/site-packages/astropy/units/quantity_helper/converters.py\u001b[0m in \u001b[0;36mconverters_and_unit\u001b[0;34m(function, method, *args)\u001b[0m\n\u001b[1;32m    187\u001b[0m                             \u001b[0;34m\"argument is not a quantity (unless the \"\u001b[0m\u001b[0;34m\u001b[0m\u001b[0;34m\u001b[0m\u001b[0m\n\u001b[1;32m    188\u001b[0m                             \u001b[0;34m\"latter is all zero/infinity/nan)\"\u001b[0m\u001b[0;34m\u001b[0m\u001b[0;34m\u001b[0m\u001b[0m\n\u001b[0;32m--> 189\u001b[0;31m                             .format(function.__name__))\n\u001b[0m\u001b[1;32m    190\u001b[0m             \u001b[0;32mexcept\u001b[0m \u001b[0mTypeError\u001b[0m\u001b[0;34m:\u001b[0m\u001b[0;34m\u001b[0m\u001b[0;34m\u001b[0m\u001b[0m\n\u001b[1;32m    191\u001b[0m                 \u001b[0;31m# _can_have_arbitrary_unit failed: arg could not be compared\u001b[0m\u001b[0;34m\u001b[0m\u001b[0;34m\u001b[0m\u001b[0;34m\u001b[0m\u001b[0m\n",
        "\u001b[0;31mUnitConversionError\u001b[0m: Can only apply 'add' function to dimensionless quantities when other argument is not a quantity (unless the latter is all zero/infinity/nan)"
       ]
      }
     ],
     "persistentId": "f83df714-dfcb-4392-863b-5ce8085969a9",
     "text": "x+1"
    },
    "executionTime": "2020-02-01T02:14:32.142Z"
   },
   {
    "cell": {
     "executionCount": 26,
     "executionEventId": "8c0c03df-c0ab-44b6-a77f-a6c75d807278",
     "hasError": false,
     "id": "8c355fbe-fa25-47d3-b91f-b26a5f564579",
     "outputs": [
      {
       "data": {
        "text/latex": "$-285.601 \\; \\mathrm{kpc}$",
        "text/plain": "<Quantity -285.601 kpc>"
       },
       "execution_count": 26,
       "metadata": {},
       "output_type": "execute_result"
      }
     ],
     "persistentId": "f83df714-dfcb-4392-863b-5ce8085969a9",
     "text": "x+1*u.kpc"
    },
    "executionTime": "2020-02-01T02:14:49.705Z"
   },
   {
    "cell": {
     "executionCount": 27,
     "executionEventId": "7ad546ed-67c7-4cfd-a2bb-037ce3d51212",
     "hasError": false,
     "id": "8c355fbe-fa25-47d3-b91f-b26a5f564579",
     "outputs": [],
     "persistentId": "f83df714-dfcb-4392-863b-5ce8085969a9",
     "text": "index = np.where(data['type'] == 1)"
    },
    "executionTime": "2020-02-01T02:15:33.340Z"
   },
   {
    "cell": {
     "executionCount": 28,
     "executionEventId": "04f73a84-68c0-4db9-8542-076875a431dc",
     "hasError": false,
     "id": "b64175ab-e9ed-4752-97e2-e92038a7799b",
     "outputs": [
      {
       "data": {
        "text/plain": "(array([    0,     1,     2, ..., 49997, 49998, 49999]),)"
       },
       "execution_count": 28,
       "metadata": {},
       "output_type": "execute_result"
      }
     ],
     "persistentId": "95f5bdb2-6c93-4c94-8f1c-062b696dec5d",
     "text": "index"
    },
    "executionTime": "2020-02-01T02:15:35.943Z"
   },
   {
    "cell": {
     "executionCount": 29,
     "executionEventId": "502775c6-9599-4108-a229-a7a0333b6aba",
     "hasError": false,
     "id": "8c355fbe-fa25-47d3-b91f-b26a5f564579",
     "outputs": [],
     "persistentId": "f83df714-dfcb-4392-863b-5ce8085969a9",
     "text": "index = np.where(data['type'] == 2)"
    },
    "executionTime": "2020-02-01T02:15:41.287Z"
   },
   {
    "cell": {
     "executionCount": 30,
     "executionEventId": "74095087-096c-45d7-bd1a-0522084a46c7",
     "hasError": false,
     "id": "b64175ab-e9ed-4752-97e2-e92038a7799b",
     "outputs": [
      {
       "data": {
        "text/plain": "(array([ 50000,  50001,  50002, ..., 124997, 124998, 124999]),)"
       },
       "execution_count": 30,
       "metadata": {},
       "output_type": "execute_result"
      }
     ],
     "persistentId": "95f5bdb2-6c93-4c94-8f1c-062b696dec5d",
     "text": "index"
    },
    "executionTime": "2020-02-01T02:15:42.608Z"
   },
   {
    "cell": {
     "executionCount": 31,
     "executionEventId": "c9f9ff89-24a8-4ed9-88bf-028c9b417678",
     "hasError": false,
     "id": "b64175ab-e9ed-4752-97e2-e92038a7799b",
     "outputs": [
      {
       "data": {
        "text/plain": "(array([ 50000,  50001,  50002, ..., 124997, 124998, 124999]),)"
       },
       "execution_count": 31,
       "metadata": {},
       "output_type": "execute_result"
      }
     ],
     "persistentId": "95f5bdb2-6c93-4c94-8f1c-062b696dec5d",
     "text": "index"
    },
    "executionTime": "2020-02-01T02:15:44.117Z"
   },
   {
    "cell": {
     "executionCount": 32,
     "executionEventId": "9f53de6f-bafb-4dcc-8227-0222376249b8",
     "hasError": false,
     "id": "8c355fbe-fa25-47d3-b91f-b26a5f564579",
     "outputs": [],
     "persistentId": "f83df714-dfcb-4392-863b-5ce8085969a9",
     "text": "index = np.where(data['type'] == 1)"
    },
    "executionTime": "2020-02-01T02:15:47.146Z"
   },
   {
    "cell": {
     "executionCount": 33,
     "executionEventId": "d5bcf4c6-5d89-4a20-9310-323527b448d7",
     "hasError": false,
     "id": "b64175ab-e9ed-4752-97e2-e92038a7799b",
     "outputs": [
      {
       "data": {
        "text/plain": "(array([    0,     1,     2, ..., 49997, 49998, 49999]),)"
       },
       "execution_count": 33,
       "metadata": {},
       "output_type": "execute_result"
      }
     ],
     "persistentId": "95f5bdb2-6c93-4c94-8f1c-062b696dec5d",
     "text": "index"
    },
    "executionTime": "2020-02-01T02:15:48.321Z"
   },
   {
    "cell": {
     "executionCount": 34,
     "executionEventId": "e7c1f075-7aa5-435c-9349-e727a3e4d51e",
     "hasError": false,
     "id": "b64175ab-e9ed-4752-97e2-e92038a7799b",
     "outputs": [],
     "persistentId": "95f5bdb2-6c93-4c94-8f1c-062b696dec5d",
     "text": "newdata = data[index]"
    },
    "executionTime": "2020-02-01T02:16:51.700Z"
   },
   {
    "cell": {
     "executionCount": 35,
     "executionEventId": "53bdea8b-d10d-4368-b1e7-3d194eb386a2",
     "hasError": false,
     "id": "a81e328f-09d4-4f54-b65f-7abe791dfd16",
     "outputs": [
      {
       "data": {
        "text/plain": "array([(1., 0.00394985,   -2.51725 ,   19.1588 ,   52.8528,   0.134962, 116.109   , -85.3822),\n       (1., 0.00394985, -286.601   ,  298.455  ,  391.692 ,  50.2658  , -46.4521  ,  15.1825),\n       (1., 0.00394985,   -0.505945,  -28.6337 ,  -83.9565,  11.3833  ,  -0.974253, -39.3509),\n       ...,\n       (1., 0.00394985,  136.385   ,  132.313  ,  -27.288 , -37.9605  , -17.2106  ,  91.7515),\n       (1., 0.00394985, -308.77    , -147.338  , -132.679 , 117.613   , -14.3048  ,  43.5018),\n       (1., 0.00394985,  -63.3878  ,    5.13775,  -39.4569,  55.2651  ,  16.1504  , 151.645 )],\n      dtype=[('type', '<f8'), ('m', '<f8'), ('x', '<f8'), ('y', '<f8'), ('z', '<f8'), ('vx', '<f8'), ('vy', '<f8'), ('vz', '<f8')])"
       },
       "execution_count": 35,
       "metadata": {},
       "output_type": "execute_result"
      }
     ],
     "persistentId": "f340ad7b-8838-4ec1-838c-3b21f0470236",
     "text": "newdata"
    },
    "executionTime": "2020-02-01T02:16:55.198Z"
   },
   {
    "cell": {
     "executionCount": 36,
     "executionEventId": "036d0e04-39b8-45ec-85a6-f414b16313f8",
     "hasError": false,
     "id": "a81e328f-09d4-4f54-b65f-7abe791dfd16",
     "outputs": [
      {
       "data": {
        "text/plain": "array([1., 1., 1., ..., 1., 1., 1.])"
       },
       "execution_count": 36,
       "metadata": {},
       "output_type": "execute_result"
      }
     ],
     "persistentId": "f340ad7b-8838-4ec1-838c-3b21f0470236",
     "text": "newdata['type']"
    },
    "executionTime": "2020-02-01T02:17:03.975Z"
   },
   {
    "cell": {
     "executionCount": 37,
     "executionEventId": "e2a62d24-180c-4cf4-83d1-7e35d650ba11",
     "hasError": false,
     "id": "a81e328f-09d4-4f54-b65f-7abe791dfd16",
     "outputs": [
      {
       "data": {
        "text/plain": "1.0"
       },
       "execution_count": 37,
       "metadata": {},
       "output_type": "execute_result"
      }
     ],
     "persistentId": "f340ad7b-8838-4ec1-838c-3b21f0470236",
     "text": "newdata['type'][100]"
    },
    "executionTime": "2020-02-01T02:19:04.988Z"
   },
   {
    "cell": {
     "executionCount": 38,
     "executionEventId": "37f0cada-a7e4-4066-8d3d-6521a3fe465a",
     "hasError": false,
     "id": "a81e328f-09d4-4f54-b65f-7abe791dfd16",
     "outputs": [
      {
       "data": {
        "text/plain": "array([1., 1., 1., ..., 1., 1., 1.])"
       },
       "execution_count": 38,
       "metadata": {},
       "output_type": "execute_result"
      }
     ],
     "persistentId": "f340ad7b-8838-4ec1-838c-3b21f0470236",
     "text": "newdata['type']"
    },
    "executionTime": "2020-02-01T02:19:09.184Z"
   },
   {
    "cell": {
     "executionCount": 39,
     "executionEventId": "2a218c04-75d9-43d8-8300-62fcdb8ad9ef",
     "hasError": false,
     "id": "a81e328f-09d4-4f54-b65f-7abe791dfd16",
     "outputs": [
      {
       "data": {
        "text/plain": "array([  -2.51725 , -286.601   ,   -0.505945, ...,  136.385   ,\n       -308.77    ,  -63.3878  ])"
       },
       "execution_count": 39,
       "metadata": {},
       "output_type": "execute_result"
      }
     ],
     "persistentId": "f340ad7b-8838-4ec1-838c-3b21f0470236",
     "text": "newdata['x']"
    },
    "executionTime": "2020-02-01T02:19:22.751Z"
   },
   {
    "cell": {
     "executionCount": 40,
     "executionEventId": "c99f0edb-b750-4b63-ab28-235e178bba21",
     "hasError": false,
     "id": "a81e328f-09d4-4f54-b65f-7abe791dfd16",
     "outputs": [
      {
       "data": {
        "text/plain": "-286.601"
       },
       "execution_count": 40,
       "metadata": {},
       "output_type": "execute_result"
      }
     ],
     "persistentId": "f340ad7b-8838-4ec1-838c-3b21f0470236",
     "text": "newdata['x'][1]"
    },
    "executionTime": "2020-02-01T02:19:26.071Z"
   },
   {
    "cell": {
     "executionCount": 41,
     "executionEventId": "d2ea8d41-8c2e-413f-af88-e0270ed3cc75",
     "hasError": false,
     "id": "a81e328f-09d4-4f54-b65f-7abe791dfd16",
     "outputs": [
      {
       "data": {
        "text/plain": "array([-286.601   ,   -0.505945, -169.208   ,   26.1592  ,  115.935   ,\n       -340.719   ,   -5.75122 ,  -13.2277  , -294.037   ])"
       },
       "execution_count": 41,
       "metadata": {},
       "output_type": "execute_result"
      }
     ],
     "persistentId": "f340ad7b-8838-4ec1-838c-3b21f0470236",
     "text": "newdata['x'][1:10]"
    },
    "executionTime": "2020-02-01T02:19:29.654Z"
   },
   {
    "cell": {
     "executionCount": 42,
     "executionEventId": "d4c682b6-2b18-4b50-8887-8efc27f6f99e",
     "hasError": false,
     "id": "a81e328f-09d4-4f54-b65f-7abe791dfd16",
     "outputs": [
      {
       "data": {
        "text/plain": "array([-2.86601e+02, -5.05945e-01, -1.69208e+02,  2.61592e+01,\n        1.15935e+02, -3.40719e+02, -5.75122e+00, -1.32277e+01,\n       -2.94037e+02, -1.04663e+02,  3.69080e+01, -3.78030e+00,\n        1.92281e+02,  1.16699e+03, -1.27492e+02,  1.34871e+01,\n       -7.58966e+00, -8.90944e+01, -2.55852e+01,  4.84749e+01,\n        9.76615e+01,  3.09866e+02, -8.34863e+01,  4.03996e+02,\n        7.87863e+01, -2.32186e+02, -1.23640e+02, -4.90718e+01,\n        1.38995e+01,  4.56820e+01,  1.79913e+02, -3.76103e+00,\n        2.96849e+02,  2.71285e+00,  5.92540e-01,  8.89638e-01,\n        2.02691e+02,  1.00406e+01, -1.05357e+03,  1.89191e+02,\n        2.19797e+01,  9.54920e+01, -4.54600e+00, -1.50158e+02,\n       -2.72983e+01,  3.32483e+01, -7.77782e+00, -4.40770e+00,\n       -2.40232e+02, -1.52063e+02,  2.41446e+02,  1.25487e+01,\n       -3.08498e+02,  7.24052e+00,  1.64905e+00, -5.67339e+01,\n       -2.02671e+01,  1.78120e+01, -4.44411e+01, -9.73092e+01,\n        5.38824e+00,  2.04216e+01,  5.42177e+00, -6.58793e+01,\n        5.47696e+00,  3.93937e+01, -4.11039e+02, -7.03177e+01,\n       -4.33712e+01,  1.40600e+03, -2.19604e+01, -2.20572e+01,\n        1.20924e+02, -5.23064e+01, -8.74125e+03, -9.18077e+01,\n        1.13497e+01,  1.74518e+02,  7.92279e+01, -5.06701e+03,\n        4.83852e+02,  1.31203e+02,  6.59649e+01, -6.96432e+01,\n        1.17604e+01, -1.04216e+00,  1.01091e+01,  3.03475e+03,\n        1.95253e+02,  9.20100e+01, -2.72096e+03,  6.44760e+01,\n        2.95272e+02, -9.04345e+01, -1.21747e+02,  9.12773e+02,\n        2.24957e+03,  1.35836e+02,  6.69443e+02])"
       },
       "execution_count": 42,
       "metadata": {},
       "output_type": "execute_result"
      }
     ],
     "persistentId": "f340ad7b-8838-4ec1-838c-3b21f0470236",
     "text": "newdata['x'][1:100]"
    },
    "executionTime": "2020-02-01T02:19:46.196Z"
   },
   {
    "cell": {
     "executionCount": 43,
     "executionEventId": "128c5588-b6dd-4287-9c16-bde502cd5e0f",
     "hasError": false,
     "id": "a81e328f-09d4-4f54-b65f-7abe791dfd16",
     "outputs": [
      {
       "data": {
        "text/plain": "array([-2.51725e+00, -2.86601e+02, -5.05945e-01, -1.69208e+02,\n        2.61592e+01,  1.15935e+02, -3.40719e+02, -5.75122e+00,\n       -1.32277e+01, -2.94037e+02, -1.04663e+02,  3.69080e+01,\n       -3.78030e+00,  1.92281e+02,  1.16699e+03, -1.27492e+02,\n        1.34871e+01, -7.58966e+00, -8.90944e+01, -2.55852e+01,\n        4.84749e+01,  9.76615e+01,  3.09866e+02, -8.34863e+01,\n        4.03996e+02,  7.87863e+01, -2.32186e+02, -1.23640e+02,\n       -4.90718e+01,  1.38995e+01,  4.56820e+01,  1.79913e+02,\n       -3.76103e+00,  2.96849e+02,  2.71285e+00,  5.92540e-01,\n        8.89638e-01,  2.02691e+02,  1.00406e+01, -1.05357e+03,\n        1.89191e+02,  2.19797e+01,  9.54920e+01, -4.54600e+00,\n       -1.50158e+02, -2.72983e+01,  3.32483e+01, -7.77782e+00,\n       -4.40770e+00, -2.40232e+02, -1.52063e+02,  2.41446e+02,\n        1.25487e+01, -3.08498e+02,  7.24052e+00,  1.64905e+00,\n       -5.67339e+01, -2.02671e+01,  1.78120e+01, -4.44411e+01,\n       -9.73092e+01,  5.38824e+00,  2.04216e+01,  5.42177e+00,\n       -6.58793e+01,  5.47696e+00,  3.93937e+01, -4.11039e+02,\n       -7.03177e+01, -4.33712e+01,  1.40600e+03, -2.19604e+01,\n       -2.20572e+01,  1.20924e+02, -5.23064e+01, -8.74125e+03,\n       -9.18077e+01,  1.13497e+01,  1.74518e+02,  7.92279e+01,\n       -5.06701e+03,  4.83852e+02,  1.31203e+02,  6.59649e+01,\n       -6.96432e+01,  1.17604e+01, -1.04216e+00,  1.01091e+01,\n        3.03475e+03,  1.95253e+02,  9.20100e+01, -2.72096e+03,\n        6.44760e+01,  2.95272e+02, -9.04345e+01, -1.21747e+02,\n        9.12773e+02,  2.24957e+03,  1.35836e+02,  6.69443e+02])"
       },
       "execution_count": 43,
       "metadata": {},
       "output_type": "execute_result"
      }
     ],
     "persistentId": "f340ad7b-8838-4ec1-838c-3b21f0470236",
     "text": "newdata['x'][0:100]"
    },
    "executionTime": "2020-02-01T02:19:55.002Z"
   },
   {
    "cell": {
     "executionCount": 44,
     "executionEventId": "ce786360-cef4-4c48-a327-6207f57d9700",
     "hasError": false,
     "id": "a81e328f-09d4-4f54-b65f-7abe791dfd16",
     "outputs": [
      {
       "data": {
        "text/plain": "100"
       },
       "execution_count": 44,
       "metadata": {},
       "output_type": "execute_result"
      }
     ],
     "persistentId": "f340ad7b-8838-4ec1-838c-3b21f0470236",
     "text": "len(newdata['x'][0:100])"
    },
    "executionTime": "2020-02-01T02:20:00.308Z"
   },
   {
    "cell": {
     "executionCount": 45,
     "executionEventId": "d84d4e2e-a1a0-458d-aacf-1439e907374e",
     "hasError": false,
     "id": "a81e328f-09d4-4f54-b65f-7abe791dfd16",
     "outputs": [
      {
       "data": {
        "text/plain": "10"
       },
       "execution_count": 45,
       "metadata": {},
       "output_type": "execute_result"
      }
     ],
     "persistentId": "f340ad7b-8838-4ec1-838c-3b21f0470236",
     "text": "len(newdata['x'][0:10])"
    },
    "executionTime": "2020-02-01T02:20:11.472Z"
   },
   {
    "cell": {
     "executionCount": 46,
     "executionEventId": "7636a8c1-1fab-4a24-95e9-d2d52d3dce53",
     "hasError": false,
     "id": "a81e328f-09d4-4f54-b65f-7abe791dfd16",
     "outputs": [
      {
       "data": {
        "text/plain": "array([  -2.51725 , -286.601   ,   -0.505945, -169.208   ,   26.1592  ,\n        115.935   , -340.719   ,   -5.75122 ,  -13.2277  , -294.037   ])"
       },
       "execution_count": 46,
       "metadata": {},
       "output_type": "execute_result"
      }
     ],
     "persistentId": "f340ad7b-8838-4ec1-838c-3b21f0470236",
     "text": "newdata['x'][0:10]"
    },
    "executionTime": "2020-02-01T02:20:31.116Z"
   },
   {
    "cell": {
     "executionCount": 47,
     "executionEventId": "2be10f51-96f1-43dc-abf5-8ed7ec80f610",
     "hasError": false,
     "id": "a81e328f-09d4-4f54-b65f-7abe791dfd16",
     "outputs": [
      {
       "data": {
        "text/latex": "$[-2.51725,~-286.601,~-0.505945,~-169.208,~26.1592,~115.935,~-340.719,~-5.75122,~-13.2277,~-294.037] \\; \\mathrm{kpc}$",
        "text/plain": "<Quantity [  -2.51725 , -286.601   ,   -0.505945, -169.208   ,   26.1592  ,\n            115.935   , -340.719   ,   -5.75122 ,  -13.2277  , -294.037   ] kpc>"
       },
       "execution_count": 47,
       "metadata": {},
       "output_type": "execute_result"
      }
     ],
     "persistentId": "f340ad7b-8838-4ec1-838c-3b21f0470236",
     "text": "newdata['x'][0:10]*u.kpc"
    },
    "executionTime": "2020-02-01T02:22:45.285Z"
   },
   {
    "cell": {
     "executionCount": 48,
     "executionEventId": "428b7d1b-b7aa-4506-90eb-e578c6cdead4",
     "hasError": true,
     "id": "a81e328f-09d4-4f54-b65f-7abe791dfd16",
     "outputs": [
      {
       "ename": "AttributeError",
       "evalue": "module 'astropy.units' has no attribute 'msun'",
       "output_type": "error",
       "traceback": [
        "\u001b[0;31m---------------------------------------------------------------------------\u001b[0m",
        "\u001b[0;31mAttributeError\u001b[0m                            Traceback (most recent call last)",
        "\u001b[0;32m<ipython-input-48-9823d22a9a16>\u001b[0m in \u001b[0;36m<module>\u001b[0;34m\u001b[0m\n\u001b[0;32m----> 1\u001b[0;31m \u001b[0mnewdata\u001b[0m\u001b[0;34m[\u001b[0m\u001b[0;34m'x'\u001b[0m\u001b[0;34m]\u001b[0m\u001b[0;34m[\u001b[0m\u001b[0;36m0\u001b[0m\u001b[0;34m:\u001b[0m\u001b[0;36m10\u001b[0m\u001b[0;34m]\u001b[0m\u001b[0;34m*\u001b[0m\u001b[0mu\u001b[0m\u001b[0;34m.\u001b[0m\u001b[0mmsun\u001b[0m\u001b[0;34m\u001b[0m\u001b[0;34m\u001b[0m\u001b[0m\n\u001b[0m",
        "\u001b[0;31mAttributeError\u001b[0m: module 'astropy.units' has no attribute 'msun'"
       ]
      }
     ],
     "persistentId": "f340ad7b-8838-4ec1-838c-3b21f0470236",
     "text": "newdata['x'][0:10]*u.msun"
    },
    "executionTime": "2020-02-01T02:22:50.817Z"
   },
   {
    "cell": {
     "executionCount": 49,
     "executionEventId": "00a9b4a3-2d2e-4507-a7a2-6f0ed664b5e1",
     "hasError": false,
     "id": "a81e328f-09d4-4f54-b65f-7abe791dfd16",
     "outputs": [
      {
       "data": {
        "text/latex": "$[-2.51725,~-286.601,~-0.505945,~-169.208,~26.1592,~115.935,~-340.719,~-5.75122,~-13.2277,~-294.037] \\; \\mathrm{M_{\\odot}}$",
        "text/plain": "<Quantity [  -2.51725 , -286.601   ,   -0.505945, -169.208   ,   26.1592  ,\n            115.935   , -340.719   ,   -5.75122 ,  -13.2277  , -294.037   ] solMass>"
       },
       "execution_count": 49,
       "metadata": {},
       "output_type": "execute_result"
      }
     ],
     "persistentId": "f340ad7b-8838-4ec1-838c-3b21f0470236",
     "text": "newdata['x'][0:10]*u.Msun"
    },
    "executionTime": "2020-02-01T02:23:27.537Z"
   },
   {
    "cell": {
     "executionCount": 50,
     "executionEventId": "009098b6-a4fb-49ee-bd5e-67b6b0e1fe98",
     "hasError": false,
     "id": "a81e328f-09d4-4f54-b65f-7abe791dfd16",
     "outputs": [
      {
       "data": {
        "text/latex": "$[-1.2659676 \\times 10^{-20},~-1.4413649 \\times 10^{-18},~-2.544483 \\times 10^{-21},~-8.5097566 \\times 10^{-19},~1.3155904 \\times 10^{-19},~5.8305673 \\times 10^{-19},~-1.7135335 \\times 10^{-18},~-2.8923858 \\times 10^{-20},~-6.6524341 \\times 10^{-20},~-1.4787618 \\times 10^{-18}] \\; \\mathrm{M_{\\odot}}$",
        "text/plain": "<Quantity [-1.26596761e-20, -1.44136492e-18, -2.54448300e-21,\n           -8.50975659e-19,  1.31559042e-19,  5.83056729e-19,\n           -1.71353349e-18, -2.89238584e-20, -6.65243412e-20,\n           -1.47876182e-18] solMass>"
       },
       "execution_count": 50,
       "metadata": {},
       "output_type": "execute_result"
      }
     ],
     "persistentId": "f340ad7b-8838-4ec1-838c-3b21f0470236",
     "text": "newdata['x'][0:10]*1e10/1.9884e30*u.Msun"
    },
    "executionTime": "2020-02-01T02:24:35.172Z"
   },
   {
    "cell": {
     "executionCount": 51,
     "executionEventId": "84bbbc59-b483-4300-bde7-7a3fb7a48f74",
     "hasError": false,
     "id": "a81e328f-09d4-4f54-b65f-7abe791dfd16",
     "outputs": [
      {
       "data": {
        "text/latex": "$[1.9864464 \\times 10^{-23},~1.9864464 \\times 10^{-23},~1.9864464 \\times 10^{-23},~1.9864464 \\times 10^{-23},~1.9864464 \\times 10^{-23},~1.9864464 \\times 10^{-23},~1.9864464 \\times 10^{-23},~1.9864464 \\times 10^{-23},~1.9864464 \\times 10^{-23},~1.9864464 \\times 10^{-23}] \\; \\mathrm{M_{\\odot}}$",
        "text/plain": "<Quantity [1.98644639e-23, 1.98644639e-23, 1.98644639e-23, 1.98644639e-23,\n           1.98644639e-23, 1.98644639e-23, 1.98644639e-23, 1.98644639e-23,\n           1.98644639e-23, 1.98644639e-23] solMass>"
       },
       "execution_count": 51,
       "metadata": {},
       "output_type": "execute_result"
      }
     ],
     "persistentId": "f340ad7b-8838-4ec1-838c-3b21f0470236",
     "text": "newdata['m'][0:10]*1e10/1.9884e30*u.Msun"
    },
    "executionTime": "2020-02-01T02:24:47.343Z"
   },
   {
    "cell": {
     "executionCount": 52,
     "executionEventId": "33e2ca27-0437-44ad-bce3-fd985e25b72f",
     "hasError": false,
     "id": "659dc20d-a59f-40aa-9426-ebcdaa90bf57",
     "outputs": [
      {
       "data": {
        "text/plain": "(1., 0.00394985, -286.601, 298.455, 391.692, 50.2658, -46.4521, 15.1825)"
       },
       "execution_count": 52,
       "metadata": {},
       "output_type": "execute_result"
      }
     ],
     "persistentId": "a4edef24-d109-4db7-87cb-11a62b21a1d5",
     "text": "newdata[1]"
    },
    "executionTime": "2020-02-01T02:30:04.002Z"
   },
   {
    "cell": {
     "executionCount": 53,
     "executionEventId": "ddfc6bea-7da1-4abb-9986-c88fe0f75c6a",
     "hasError": false,
     "id": "659dc20d-a59f-40aa-9426-ebcdaa90bf57",
     "outputs": [
      {
       "data": {
        "text/plain": "(1., 0.00394985, -2.51725, 19.1588, 52.8528, 0.134962, 116.109, -85.3822)"
       },
       "execution_count": 53,
       "metadata": {},
       "output_type": "execute_result"
      }
     ],
     "persistentId": "a4edef24-d109-4db7-87cb-11a62b21a1d5",
     "text": "newdata[0]"
    },
    "executionTime": "2020-02-01T02:30:11.127Z"
   },
   {
    "cell": {
     "executionCount": 54,
     "executionEventId": "982d05e7-7924-4e06-9175-f18465384301",
     "hasError": true,
     "id": "16a534bc-2c82-4b65-ac5e-fdecded8acee",
     "outputs": [
      {
       "ename": "NameError",
       "evalue": "name 'sqrt' is not defined",
       "output_type": "error",
       "traceback": [
        "\u001b[0;31m---------------------------------------------------------------------------\u001b[0m",
        "\u001b[0;31mNameError\u001b[0m                                 Traceback (most recent call last)",
        "\u001b[0;32m<ipython-input-54-317e033d29d5>\u001b[0m in \u001b[0;36m<module>\u001b[0;34m\u001b[0m\n\u001b[0;32m----> 1\u001b[0;31m \u001b[0msqrt\u001b[0m\u001b[0;34m(\u001b[0m\u001b[0;36m4\u001b[0m\u001b[0;34m)\u001b[0m\u001b[0;34m\u001b[0m\u001b[0;34m\u001b[0m\u001b[0m\n\u001b[0m",
        "\u001b[0;31mNameError\u001b[0m: name 'sqrt' is not defined"
       ]
      }
     ],
     "persistentId": "a2db1003-e9a2-41b0-9c08-0789a13dd8e4",
     "text": "sqrt(4)"
    },
    "executionTime": "2020-02-01T02:31:50.045Z"
   },
   {
    "cell": {
     "executionCount": 55,
     "executionEventId": "53ec7fa5-a446-4f2a-a6e8-cfd03b9407cf",
     "hasError": false,
     "id": "16a534bc-2c82-4b65-ac5e-fdecded8acee",
     "outputs": [
      {
       "data": {
        "text/plain": "2.0"
       },
       "execution_count": 55,
       "metadata": {},
       "output_type": "execute_result"
      }
     ],
     "persistentId": "a2db1003-e9a2-41b0-9c08-0789a13dd8e4",
     "text": "np.sqrt(4)"
    },
    "executionTime": "2020-02-01T02:31:53.874Z"
   },
   {
    "cell": {
     "executionCount": 56,
     "executionEventId": "ec773320-2f38-48b0-9d84-935690f304b4",
     "hasError": false,
     "id": "16a534bc-2c82-4b65-ac5e-fdecded8acee",
     "outputs": [
      {
       "data": {
        "text/plain": "4"
       },
       "execution_count": 56,
       "metadata": {},
       "output_type": "execute_result"
      }
     ],
     "persistentId": "a2db1003-e9a2-41b0-9c08-0789a13dd8e4",
     "text": "2**2"
    },
    "executionTime": "2020-02-01T02:32:50.377Z"
   },
   {
    "cell": {
     "executionCount": 57,
     "executionEventId": "12739196-6137-41b8-9221-abe78c5e56b4",
     "hasError": false,
     "id": "659dc20d-a59f-40aa-9426-ebcdaa90bf57",
     "outputs": [
      {
       "data": {
        "text/plain": "array([  0.134962,  50.2658  ,  11.3833  , ..., -37.9605  , 117.613   ,\n        55.2651  ])"
       },
       "execution_count": 57,
       "metadata": {},
       "output_type": "execute_result"
      }
     ],
     "persistentId": "a4edef24-d109-4db7-87cb-11a62b21a1d5",
     "text": "newdata['vx']"
    },
    "executionTime": "2020-02-01T02:34:09.558Z"
   },
   {
    "cell": {
     "executionCount": 58,
     "executionEventId": "3c8da896-1094-4393-b58f-6a8422aa75b3",
     "hasError": true,
     "id": "659dc20d-a59f-40aa-9426-ebcdaa90bf57",
     "outputs": [
      {
       "ename": "NameError",
       "evalue": "name 's' is not defined",
       "output_type": "error",
       "traceback": [
        "\u001b[0;31m---------------------------------------------------------------------------\u001b[0m",
        "\u001b[0;31mNameError\u001b[0m                                 Traceback (most recent call last)",
        "\u001b[0;32m<ipython-input-58-f743989da16e>\u001b[0m in \u001b[0;36m<module>\u001b[0;34m\u001b[0m\n\u001b[0;32m----> 1\u001b[0;31m \u001b[0mnewdata\u001b[0m\u001b[0;34m[\u001b[0m\u001b[0;34m'vx'\u001b[0m\u001b[0;34m]\u001b[0m\u001b[0;34m*\u001b[0m\u001b[0mu\u001b[0m\u001b[0;34m.\u001b[0m\u001b[0mkm\u001b[0m\u001b[0;34m/\u001b[0m\u001b[0ms\u001b[0m\u001b[0;34m\u001b[0m\u001b[0;34m\u001b[0m\u001b[0m\n\u001b[0m",
        "\u001b[0;31mNameError\u001b[0m: name 's' is not defined"
       ]
      }
     ],
     "persistentId": "a4edef24-d109-4db7-87cb-11a62b21a1d5",
     "text": "newdata['vx']*u.km/s"
    },
    "executionTime": "2020-02-01T02:34:14.871Z"
   },
   {
    "cell": {
     "executionCount": 59,
     "executionEventId": "6bab608b-9d7e-4f58-99c1-d8d05282f884",
     "hasError": false,
     "id": "659dc20d-a59f-40aa-9426-ebcdaa90bf57",
     "outputs": [
      {
       "data": {
        "text/latex": "$[0.134962,~50.2658,~11.3833,~\\dots,~-37.9605,~117.613,~55.2651] \\; \\mathrm{\\frac{km}{s}}$",
        "text/plain": "<Quantity [  0.134962,  50.2658  ,  11.3833  , ..., -37.9605  , 117.613   ,\n            55.2651  ] km / s>"
       },
       "execution_count": 59,
       "metadata": {},
       "output_type": "execute_result"
      }
     ],
     "persistentId": "a4edef24-d109-4db7-87cb-11a62b21a1d5",
     "text": "newdata['vx']*u.km / u.s"
    },
    "executionTime": "2020-02-01T02:35:44.678Z"
   },
   {
    "cell": {
     "executionCount": 60,
     "executionEventId": "8ce7a814-b4d5-4b80-9ec8-44d104b470ae",
     "hasError": true,
     "id": "9360c207-2f19-4194-9d99-6706d7e176a3",
     "outputs": [
      {
       "ename": "SyntaxError",
       "evalue": "non-default argument follows default argument (<ipython-input-60-8d55ca7f14d9>, line 1)",
       "output_type": "error",
       "traceback": [
        "\u001b[0;36m  File \u001b[0;32m\"<ipython-input-60-8d55ca7f14d9>\"\u001b[0;36m, line \u001b[0;32m1\u001b[0m\n\u001b[0;31m    def ParticleInfo(filename='MW_000.txt', ParticleType, ParticleNumber):\u001b[0m\n\u001b[0m                    ^\u001b[0m\n\u001b[0;31mSyntaxError\u001b[0m\u001b[0;31m:\u001b[0m non-default argument follows default argument\n"
       ]
      }
     ],
     "persistentId": "efcdb227-0ff0-44d6-8126-c233ae074c6a",
     "text": "def ParticleInfo(filename='MW_000.txt', ParticleType, ParticleNumber):\n    time,TotalNumber,data = Read(filename)\n    index = np.where(data['type'] == ParticleType)\n    new_data = data[index]\n    particle = new_data[ParticleNumber-1]\n    distance = np.sqrt(particle[x]**2+particle[y]**2+particle[z]**2)*u.kpc\n    velocity = np.sqrt(particle[vx]**2+particle[vy]**2+particle[vz]**2)*u.km/ u.s\n    mass = particle['m']*1e10/1.9884e30*u.Msun\n    return distance, velocity, mass"
    },
    "executionTime": "2020-02-01T02:36:47.980Z"
   },
   {
    "cell": {
     "executionCount": 65,
     "executionEventId": "ae5a794d-b43e-41e5-8e39-6dbeeeb23ca9",
     "hasError": true,
     "id": "468d404f-5924-4ea7-8fd5-fb43960a18ac",
     "outputs": [
      {
       "ename": "SyntaxError",
       "evalue": "non-default argument follows default argument (<ipython-input-65-8d55ca7f14d9>, line 1)",
       "output_type": "error",
       "traceback": [
        "\u001b[0;36m  File \u001b[0;32m\"<ipython-input-65-8d55ca7f14d9>\"\u001b[0;36m, line \u001b[0;32m1\u001b[0m\n\u001b[0;31m    def ParticleInfo(filename='MW_000.txt', ParticleType, ParticleNumber):\u001b[0m\n\u001b[0m                    ^\u001b[0m\n\u001b[0;31mSyntaxError\u001b[0m\u001b[0;31m:\u001b[0m non-default argument follows default argument\n"
       ]
      }
     ],
     "persistentId": "efcdb227-0ff0-44d6-8126-c233ae074c6a",
     "text": "def ParticleInfo(filename='MW_000.txt', ParticleType, ParticleNumber):\n    time,TotalNumber,data = Read(filename)\n    index = np.where(data['type'] == ParticleType)\n    new_data = data[index]\n    particle = new_data[ParticleNumber-1]\n    distance = np.sqrt(particle[x]**2+particle[y]**2+particle[z]**2)*u.kpc\n    velocity = np.sqrt(particle[vx]**2+particle[vy]**2+particle[vz]**2)*u.km/ u.s\n    mass = particle['m']*1e10/1.9884e30*u.Msun\n    return distance, velocity, mass"
    },
    "executionTime": "2020-02-01T02:38:20.031Z"
   },
   {
    "cell": {
     "executionCount": 66,
     "executionEventId": "169f6fd4-c460-42da-bc79-c3032422c9d8",
     "hasError": true,
     "id": "35535b1a-e45e-49f6-856d-7581f8963c2c",
     "outputs": [
      {
       "ename": "IndexError",
       "evalue": "arrays used as indices must be of integer (or boolean) type",
       "output_type": "error",
       "traceback": [
        "\u001b[0;31m---------------------------------------------------------------------------\u001b[0m",
        "\u001b[0;31mIndexError\u001b[0m                                Traceback (most recent call last)",
        "\u001b[0;32m<ipython-input-66-3aaf618d385f>\u001b[0m in \u001b[0;36m<module>\u001b[0;34m\u001b[0m\n\u001b[0;32m----> 1\u001b[0;31m \u001b[0md\u001b[0m\u001b[0;34m,\u001b[0m \u001b[0mv\u001b[0m\u001b[0;34m,\u001b[0m \u001b[0mm\u001b[0m \u001b[0;34m=\u001b[0m \u001b[0mParticleInfo\u001b[0m\u001b[0;34m(\u001b[0m\u001b[0;34m'MW_000.txt'\u001b[0m\u001b[0;34m,\u001b[0m\u001b[0;36m1\u001b[0m\u001b[0;34m,\u001b[0m\u001b[0;36m100\u001b[0m\u001b[0;34m)\u001b[0m\u001b[0;34m\u001b[0m\u001b[0;34m\u001b[0m\u001b[0m\n\u001b[0m",
        "\u001b[0;32m<ipython-input-63-f2fabad017f6>\u001b[0m in \u001b[0;36mParticleInfo\u001b[0;34m(filename, ParticleType, ParticleNumber)\u001b[0m\n\u001b[1;32m      4\u001b[0m     \u001b[0mnew_data\u001b[0m \u001b[0;34m=\u001b[0m \u001b[0mdata\u001b[0m\u001b[0;34m[\u001b[0m\u001b[0mindex\u001b[0m\u001b[0;34m]\u001b[0m\u001b[0;34m\u001b[0m\u001b[0;34m\u001b[0m\u001b[0m\n\u001b[1;32m      5\u001b[0m     \u001b[0mparticle\u001b[0m \u001b[0;34m=\u001b[0m \u001b[0mnew_data\u001b[0m\u001b[0;34m[\u001b[0m\u001b[0mParticleNumber\u001b[0m\u001b[0;34m-\u001b[0m\u001b[0;36m1\u001b[0m\u001b[0;34m]\u001b[0m\u001b[0;34m\u001b[0m\u001b[0;34m\u001b[0m\u001b[0m\n\u001b[0;32m----> 6\u001b[0;31m     \u001b[0mdistance\u001b[0m \u001b[0;34m=\u001b[0m \u001b[0mnp\u001b[0m\u001b[0;34m.\u001b[0m\u001b[0msqrt\u001b[0m\u001b[0;34m(\u001b[0m\u001b[0mparticle\u001b[0m\u001b[0;34m[\u001b[0m\u001b[0mx\u001b[0m\u001b[0;34m]\u001b[0m\u001b[0;34m**\u001b[0m\u001b[0;36m2\u001b[0m\u001b[0;34m+\u001b[0m\u001b[0mparticle\u001b[0m\u001b[0;34m[\u001b[0m\u001b[0my\u001b[0m\u001b[0;34m]\u001b[0m\u001b[0;34m**\u001b[0m\u001b[0;36m2\u001b[0m\u001b[0;34m+\u001b[0m\u001b[0mparticle\u001b[0m\u001b[0;34m[\u001b[0m\u001b[0mz\u001b[0m\u001b[0;34m]\u001b[0m\u001b[0;34m**\u001b[0m\u001b[0;36m2\u001b[0m\u001b[0;34m)\u001b[0m\u001b[0;34m*\u001b[0m\u001b[0mu\u001b[0m\u001b[0;34m.\u001b[0m\u001b[0mkpc\u001b[0m\u001b[0;34m\u001b[0m\u001b[0;34m\u001b[0m\u001b[0m\n\u001b[0m\u001b[1;32m      7\u001b[0m     \u001b[0mvelocity\u001b[0m \u001b[0;34m=\u001b[0m \u001b[0mnp\u001b[0m\u001b[0;34m.\u001b[0m\u001b[0msqrt\u001b[0m\u001b[0;34m(\u001b[0m\u001b[0mparticle\u001b[0m\u001b[0;34m[\u001b[0m\u001b[0mvx\u001b[0m\u001b[0;34m]\u001b[0m\u001b[0;34m**\u001b[0m\u001b[0;36m2\u001b[0m\u001b[0;34m+\u001b[0m\u001b[0mparticle\u001b[0m\u001b[0;34m[\u001b[0m\u001b[0mvy\u001b[0m\u001b[0;34m]\u001b[0m\u001b[0;34m**\u001b[0m\u001b[0;36m2\u001b[0m\u001b[0;34m+\u001b[0m\u001b[0mparticle\u001b[0m\u001b[0;34m[\u001b[0m\u001b[0mvz\u001b[0m\u001b[0;34m]\u001b[0m\u001b[0;34m**\u001b[0m\u001b[0;36m2\u001b[0m\u001b[0;34m)\u001b[0m\u001b[0;34m*\u001b[0m\u001b[0mu\u001b[0m\u001b[0;34m.\u001b[0m\u001b[0mkm\u001b[0m\u001b[0;34m/\u001b[0m \u001b[0mu\u001b[0m\u001b[0;34m.\u001b[0m\u001b[0ms\u001b[0m\u001b[0;34m\u001b[0m\u001b[0;34m\u001b[0m\u001b[0m\n\u001b[1;32m      8\u001b[0m     \u001b[0mmass\u001b[0m \u001b[0;34m=\u001b[0m \u001b[0mparticle\u001b[0m\u001b[0;34m[\u001b[0m\u001b[0;34m'm'\u001b[0m\u001b[0;34m]\u001b[0m\u001b[0;34m*\u001b[0m\u001b[0;36m1e10\u001b[0m\u001b[0;34m/\u001b[0m\u001b[0;36m1.9884e30\u001b[0m\u001b[0;34m*\u001b[0m\u001b[0mu\u001b[0m\u001b[0;34m.\u001b[0m\u001b[0mMsun\u001b[0m\u001b[0;34m\u001b[0m\u001b[0;34m\u001b[0m\u001b[0m\n",
        "\u001b[0;31mIndexError\u001b[0m: arrays used as indices must be of integer (or boolean) type"
       ]
      }
     ],
     "persistentId": "1cbd807d-e506-4a63-9d3c-0bb93f6a03d6",
     "text": "d, v, m = ParticleInfo('MW_000.txt',1,100)"
    },
    "executionTime": "2020-02-01T02:40:01.004Z"
   },
   {
    "cell": {
     "executionCount": 67,
     "executionEventId": "d9360157-72a5-498f-8a35-f8198a0e30fd",
     "hasError": false,
     "id": "468d404f-5924-4ea7-8fd5-fb43960a18ac",
     "outputs": [],
     "persistentId": "efcdb227-0ff0-44d6-8126-c233ae074c6a",
     "text": "def ParticleInfo(filename, ParticleType, ParticleNumber):\n    time,TotalNumber,data = Read(filename)\n    index = np.where(data['type'] == ParticleType)\n    new_data = data[index]\n    particle = new_data[ParticleNumber-1]\n    distance = np.sqrt(particle[x]**2+particle[y]**2+particle[z]**2)*u.kpc\n    velocity = np.sqrt(particle[vx]**2+particle[vy]**2+particle[vz]**2)*u.km/ u.s\n    mass = particle['m']*1e10/1.9884e30*u.Msun\n    return distance, velocity, mass"
    },
    "executionTime": "2020-02-01T02:40:03.179Z"
   },
   {
    "cell": {
     "executionCount": 68,
     "executionEventId": "5b1c92ef-4cba-42bc-b394-56de9dcc8413",
     "hasError": true,
     "id": "35535b1a-e45e-49f6-856d-7581f8963c2c",
     "outputs": [
      {
       "ename": "IndexError",
       "evalue": "arrays used as indices must be of integer (or boolean) type",
       "output_type": "error",
       "traceback": [
        "\u001b[0;31m---------------------------------------------------------------------------\u001b[0m",
        "\u001b[0;31mIndexError\u001b[0m                                Traceback (most recent call last)",
        "\u001b[0;32m<ipython-input-68-3aaf618d385f>\u001b[0m in \u001b[0;36m<module>\u001b[0;34m\u001b[0m\n\u001b[0;32m----> 1\u001b[0;31m \u001b[0md\u001b[0m\u001b[0;34m,\u001b[0m \u001b[0mv\u001b[0m\u001b[0;34m,\u001b[0m \u001b[0mm\u001b[0m \u001b[0;34m=\u001b[0m \u001b[0mParticleInfo\u001b[0m\u001b[0;34m(\u001b[0m\u001b[0;34m'MW_000.txt'\u001b[0m\u001b[0;34m,\u001b[0m\u001b[0;36m1\u001b[0m\u001b[0;34m,\u001b[0m\u001b[0;36m100\u001b[0m\u001b[0;34m)\u001b[0m\u001b[0;34m\u001b[0m\u001b[0;34m\u001b[0m\u001b[0m\n\u001b[0m",
        "\u001b[0;32m<ipython-input-67-f2fabad017f6>\u001b[0m in \u001b[0;36mParticleInfo\u001b[0;34m(filename, ParticleType, ParticleNumber)\u001b[0m\n\u001b[1;32m      4\u001b[0m     \u001b[0mnew_data\u001b[0m \u001b[0;34m=\u001b[0m \u001b[0mdata\u001b[0m\u001b[0;34m[\u001b[0m\u001b[0mindex\u001b[0m\u001b[0;34m]\u001b[0m\u001b[0;34m\u001b[0m\u001b[0;34m\u001b[0m\u001b[0m\n\u001b[1;32m      5\u001b[0m     \u001b[0mparticle\u001b[0m \u001b[0;34m=\u001b[0m \u001b[0mnew_data\u001b[0m\u001b[0;34m[\u001b[0m\u001b[0mParticleNumber\u001b[0m\u001b[0;34m-\u001b[0m\u001b[0;36m1\u001b[0m\u001b[0;34m]\u001b[0m\u001b[0;34m\u001b[0m\u001b[0;34m\u001b[0m\u001b[0m\n\u001b[0;32m----> 6\u001b[0;31m     \u001b[0mdistance\u001b[0m \u001b[0;34m=\u001b[0m \u001b[0mnp\u001b[0m\u001b[0;34m.\u001b[0m\u001b[0msqrt\u001b[0m\u001b[0;34m(\u001b[0m\u001b[0mparticle\u001b[0m\u001b[0;34m[\u001b[0m\u001b[0mx\u001b[0m\u001b[0;34m]\u001b[0m\u001b[0;34m**\u001b[0m\u001b[0;36m2\u001b[0m\u001b[0;34m+\u001b[0m\u001b[0mparticle\u001b[0m\u001b[0;34m[\u001b[0m\u001b[0my\u001b[0m\u001b[0;34m]\u001b[0m\u001b[0;34m**\u001b[0m\u001b[0;36m2\u001b[0m\u001b[0;34m+\u001b[0m\u001b[0mparticle\u001b[0m\u001b[0;34m[\u001b[0m\u001b[0mz\u001b[0m\u001b[0;34m]\u001b[0m\u001b[0;34m**\u001b[0m\u001b[0;36m2\u001b[0m\u001b[0;34m)\u001b[0m\u001b[0;34m*\u001b[0m\u001b[0mu\u001b[0m\u001b[0;34m.\u001b[0m\u001b[0mkpc\u001b[0m\u001b[0;34m\u001b[0m\u001b[0;34m\u001b[0m\u001b[0m\n\u001b[0m\u001b[1;32m      7\u001b[0m     \u001b[0mvelocity\u001b[0m \u001b[0;34m=\u001b[0m \u001b[0mnp\u001b[0m\u001b[0;34m.\u001b[0m\u001b[0msqrt\u001b[0m\u001b[0;34m(\u001b[0m\u001b[0mparticle\u001b[0m\u001b[0;34m[\u001b[0m\u001b[0mvx\u001b[0m\u001b[0;34m]\u001b[0m\u001b[0;34m**\u001b[0m\u001b[0;36m2\u001b[0m\u001b[0;34m+\u001b[0m\u001b[0mparticle\u001b[0m\u001b[0;34m[\u001b[0m\u001b[0mvy\u001b[0m\u001b[0;34m]\u001b[0m\u001b[0;34m**\u001b[0m\u001b[0;36m2\u001b[0m\u001b[0;34m+\u001b[0m\u001b[0mparticle\u001b[0m\u001b[0;34m[\u001b[0m\u001b[0mvz\u001b[0m\u001b[0;34m]\u001b[0m\u001b[0;34m**\u001b[0m\u001b[0;36m2\u001b[0m\u001b[0;34m)\u001b[0m\u001b[0;34m*\u001b[0m\u001b[0mu\u001b[0m\u001b[0;34m.\u001b[0m\u001b[0mkm\u001b[0m\u001b[0;34m/\u001b[0m \u001b[0mu\u001b[0m\u001b[0;34m.\u001b[0m\u001b[0ms\u001b[0m\u001b[0;34m\u001b[0m\u001b[0;34m\u001b[0m\u001b[0m\n\u001b[1;32m      8\u001b[0m     \u001b[0mmass\u001b[0m \u001b[0;34m=\u001b[0m \u001b[0mparticle\u001b[0m\u001b[0;34m[\u001b[0m\u001b[0;34m'm'\u001b[0m\u001b[0;34m]\u001b[0m\u001b[0;34m*\u001b[0m\u001b[0;36m1e10\u001b[0m\u001b[0;34m/\u001b[0m\u001b[0;36m1.9884e30\u001b[0m\u001b[0;34m*\u001b[0m\u001b[0mu\u001b[0m\u001b[0;34m.\u001b[0m\u001b[0mMsun\u001b[0m\u001b[0;34m\u001b[0m\u001b[0;34m\u001b[0m\u001b[0m\n",
        "\u001b[0;31mIndexError\u001b[0m: arrays used as indices must be of integer (or boolean) type"
       ]
      }
     ],
     "persistentId": "1cbd807d-e506-4a63-9d3c-0bb93f6a03d6",
     "text": "d, v, m = ParticleInfo('MW_000.txt',1,100)"
    },
    "executionTime": "2020-02-01T02:40:09.616Z"
   },
   {
    "cell": {
     "executionCount": 69,
     "executionEventId": "a5208544-6aed-4521-8e2e-19a5388c7b90",
     "hasError": false,
     "id": "468d404f-5924-4ea7-8fd5-fb43960a18ac",
     "outputs": [],
     "persistentId": "efcdb227-0ff0-44d6-8126-c233ae074c6a",
     "text": "def ParticleInfo(filename, ParticleType, ParticleNumber):\n    time,TotalNumber,data = Read(filename)\n    index = np.where(data['type'] == ParticleType)\n    new_data = data[index]\n    particle = new_data[ParticleNumber-1]\n    distance = np.sqrt(particle['x']**2+particle['y']**2+particle['z']**2)*u.kpc\n    velocity = np.sqrt(particle['vx']**2+particle['vy']**2+particle['vz']**2)*u.km/ u.s\n    mass = particle['m']*1e10/1.9884e30*u.Msun\n    return distance, velocity, mass"
    },
    "executionTime": "2020-02-01T02:41:09.119Z"
   },
   {
    "cell": {
     "executionCount": 70,
     "executionEventId": "c54312a1-edad-4327-a0ce-c500c5ff0f06",
     "hasError": false,
     "id": "35535b1a-e45e-49f6-856d-7581f8963c2c",
     "outputs": [],
     "persistentId": "1cbd807d-e506-4a63-9d3c-0bb93f6a03d6",
     "text": "d, v, m = ParticleInfo('MW_000.txt',1,100)"
    },
    "executionTime": "2020-02-01T02:41:12.800Z"
   },
   {
    "cell": {
     "executionCount": 71,
     "executionEventId": "bcdda744-51c5-4b70-9e70-93210807cd38",
     "hasError": false,
     "id": "694895c0-d061-4cfd-919e-35053ca23b3e",
     "outputs": [
      {
       "data": {
        "text/plain": "(<Quantity 792.63678496 kpc>,\n <Quantity 89.12452353 km / s>,\n <Quantity 1.98644639e-23 solMass>)"
       },
       "execution_count": 71,
       "metadata": {},
       "output_type": "execute_result"
      }
     ],
     "persistentId": "7486aa94-546d-4500-9d43-8aa9b7e965b0",
     "text": "d, v, m"
    },
    "executionTime": "2020-02-01T02:41:17.121Z"
   },
   {
    "cell": {
     "executionCount": 72,
     "executionEventId": "5ed25207-b262-4e58-b6dc-1a38b3e00b14",
     "hasError": false,
     "id": "694895c0-d061-4cfd-919e-35053ca23b3e",
     "outputs": [
      {
       "name": "stdout",
       "output_type": "stream",
       "text": "792.6367849620657 kpc\n"
      }
     ],
     "persistentId": "7486aa94-546d-4500-9d43-8aa9b7e965b0",
     "text": "print(d)"
    },
    "executionTime": "2020-02-01T02:41:30.645Z"
   },
   {
    "cell": {
     "executionCount": 73,
     "executionEventId": "ddd013c4-053e-42d6-b44f-3760b6137ebb",
     "hasError": false,
     "id": "694895c0-d061-4cfd-919e-35053ca23b3e",
     "outputs": [
      {
       "data": {
        "text/plain": "(<Quantity 792.63678496 kpc>,\n <Quantity 89.12452353 km / s>,\n <Quantity 1.98644639e-23 solMass>)"
       },
       "execution_count": 73,
       "metadata": {},
       "output_type": "execute_result"
      }
     ],
     "persistentId": "7486aa94-546d-4500-9d43-8aa9b7e965b0",
     "text": "d, v, m"
    },
    "executionTime": "2020-02-01T02:41:34.442Z"
   },
   {
    "cell": {
     "executionCount": 74,
     "executionEventId": "7cd676e7-4c7a-4290-80b7-4c39f10634af",
     "hasError": false,
     "id": "468d404f-5924-4ea7-8fd5-fb43960a18ac",
     "outputs": [],
     "persistentId": "efcdb227-0ff0-44d6-8126-c233ae074c6a",
     "text": "def ParticleInfo(filename, ParticleType, ParticleNumber):\n    time,TotalNumber,data = Read(filename)\n    index = np.where(data['type'] == ParticleType)\n    new_data = data[index]\n    particle = new_data[ParticleNumber-1]\n    distance = np.around(np.sqrt(particle['x']**2+particle['y']**2+particle['z']**2)*u.kpc,3)\n    velocity = np.sqrt(particle['vx']**2+particle['vy']**2+particle['vz']**2)*u.km/ u.s\n    mass = particle['m']*1e10/1.9884e30*u.Msun\n    return distance, velocity, mass"
    },
    "executionTime": "2020-02-01T02:43:54.305Z"
   },
   {
    "cell": {
     "executionCount": 75,
     "executionEventId": "069535ba-48c0-4c9e-8fdf-bb09a5fc625a",
     "hasError": false,
     "id": "35535b1a-e45e-49f6-856d-7581f8963c2c",
     "outputs": [],
     "persistentId": "1cbd807d-e506-4a63-9d3c-0bb93f6a03d6",
     "text": "d, v, m = ParticleInfo('MW_000.txt',1,100)"
    },
    "executionTime": "2020-02-01T02:43:57.704Z"
   },
   {
    "cell": {
     "executionCount": 76,
     "executionEventId": "32a29a70-d2af-481e-8020-4f99c32b1379",
     "hasError": false,
     "id": "694895c0-d061-4cfd-919e-35053ca23b3e",
     "outputs": [
      {
       "data": {
        "text/latex": "$792.637 \\; \\mathrm{kpc}$",
        "text/plain": "<Quantity 792.637 kpc>"
       },
       "execution_count": 76,
       "metadata": {},
       "output_type": "execute_result"
      }
     ],
     "persistentId": "7486aa94-546d-4500-9d43-8aa9b7e965b0",
     "text": "d"
    },
    "executionTime": "2020-02-01T02:43:59.901Z"
   },
   {
    "cell": {
     "executionCount": 77,
     "executionEventId": "e560a6ce-25bb-4a42-9aaf-f4f34eac8359",
     "hasError": false,
     "id": "468d404f-5924-4ea7-8fd5-fb43960a18ac",
     "outputs": [],
     "persistentId": "efcdb227-0ff0-44d6-8126-c233ae074c6a",
     "text": "def ParticleInfo(filename, ParticleType, ParticleNumber):\n    time,TotalNumber,data = Read(filename)\n    index = np.where(data['type'] == ParticleType)\n    new_data = data[index]\n    particle = new_data[ParticleNumber-1]\n    distance = np.around(np.sqrt(particle['x']**2+particle['y']**2+particle['z']**2)*u.kpc,3)\n    velocity = np.around(np.sqrt(particle['vx']**2+particle['vy']**2+particle['vz']**2)*u.km/ u.s,3)\n    mass = np.around(particle['m']*1e10/1.9884e30*u.Msun,3)\n    return distance, velocity, mass"
    },
    "executionTime": "2020-02-01T02:44:21.071Z"
   },
   {
    "cell": {
     "executionCount": 78,
     "executionEventId": "b452d99f-55c1-4f28-8d8b-4caf84f84cee",
     "hasError": false,
     "id": "35535b1a-e45e-49f6-856d-7581f8963c2c",
     "outputs": [],
     "persistentId": "1cbd807d-e506-4a63-9d3c-0bb93f6a03d6",
     "text": "d, v, m = ParticleInfo('MW_000.txt',1,100)"
    },
    "executionTime": "2020-02-01T02:44:25.703Z"
   },
   {
    "cell": {
     "executionCount": 79,
     "executionEventId": "50515016-43d4-47bf-9d14-c710460e76e1",
     "hasError": false,
     "id": "694895c0-d061-4cfd-919e-35053ca23b3e",
     "outputs": [
      {
       "data": {
        "text/latex": "$792.637 \\; \\mathrm{kpc}$",
        "text/plain": "<Quantity 792.637 kpc>"
       },
       "execution_count": 79,
       "metadata": {},
       "output_type": "execute_result"
      }
     ],
     "persistentId": "7486aa94-546d-4500-9d43-8aa9b7e965b0",
     "text": "d"
    },
    "executionTime": "2020-02-01T02:44:25.738Z"
   },
   {
    "cell": {
     "executionCount": 80,
     "executionEventId": "28c703d9-6dd0-4074-be89-66a1d7ea8cde",
     "hasError": false,
     "id": "694895c0-d061-4cfd-919e-35053ca23b3e",
     "outputs": [
      {
       "data": {
        "text/latex": "$89.125 \\; \\mathrm{\\frac{km}{s}}$",
        "text/plain": "<Quantity 89.125 km / s>"
       },
       "execution_count": 80,
       "metadata": {},
       "output_type": "execute_result"
      }
     ],
     "persistentId": "7486aa94-546d-4500-9d43-8aa9b7e965b0",
     "text": "v"
    },
    "executionTime": "2020-02-01T02:44:28.250Z"
   },
   {
    "cell": {
     "executionCount": 81,
     "executionEventId": "09937193-5bb3-498f-b427-a3408857508d",
     "hasError": false,
     "id": "694895c0-d061-4cfd-919e-35053ca23b3e",
     "outputs": [
      {
       "data": {
        "text/latex": "$0 \\; \\mathrm{M_{\\odot}}$",
        "text/plain": "<Quantity 0. solMass>"
       },
       "execution_count": 81,
       "metadata": {},
       "output_type": "execute_result"
      }
     ],
     "persistentId": "7486aa94-546d-4500-9d43-8aa9b7e965b0",
     "text": "m"
    },
    "executionTime": "2020-02-01T02:44:30.396Z"
   },
   {
    "cell": {
     "executionCount": 82,
     "executionEventId": "2ee5b684-2fb8-404e-a12b-a2e2aa6bef88",
     "hasError": false,
     "id": "468d404f-5924-4ea7-8fd5-fb43960a18ac",
     "outputs": [],
     "persistentId": "efcdb227-0ff0-44d6-8126-c233ae074c6a",
     "text": "def ParticleInfo(filename, ParticleType, ParticleNumber):\n    time,TotalNumber,data = Read(filename)\n    index = np.where(data['type'] == ParticleType)\n    new_data = data[index]\n    particle = new_data[ParticleNumber-1]\n    distance = np.around(np.sqrt(particle['x']**2+particle['y']**2+particle['z']**2)*u.kpc,3)\n    velocity = np.around(np.sqrt(particle['vx']**2+particle['vy']**2+particle['vz']**2)*u.km/ u.s,3)\n    mass = particle['m']*1e10/1.9884e30*u.Msun\n    return distance, velocity, mass"
    },
    "executionTime": "2020-02-01T02:44:57.321Z"
   },
   {
    "cell": {
     "executionCount": 83,
     "executionEventId": "5a0a7fd8-e995-41f9-88d2-ebcf3aaeeb9d",
     "hasError": false,
     "id": "35535b1a-e45e-49f6-856d-7581f8963c2c",
     "outputs": [],
     "persistentId": "1cbd807d-e506-4a63-9d3c-0bb93f6a03d6",
     "text": "d, v, m = ParticleInfo('MW_000.txt',1,100)"
    },
    "executionTime": "2020-02-01T02:45:01.395Z"
   },
   {
    "cell": {
     "executionCount": 84,
     "executionEventId": "0e3db841-2b28-4b90-ab92-d22dc40c8a0a",
     "hasError": false,
     "id": "694895c0-d061-4cfd-919e-35053ca23b3e",
     "outputs": [
      {
       "data": {
        "text/latex": "$1.9864464 \\times 10^{-23} \\; \\mathrm{M_{\\odot}}$",
        "text/plain": "<Quantity 1.98644639e-23 solMass>"
       },
       "execution_count": 84,
       "metadata": {},
       "output_type": "execute_result"
      }
     ],
     "persistentId": "7486aa94-546d-4500-9d43-8aa9b7e965b0",
     "text": "m"
    },
    "executionTime": "2020-02-01T02:45:01.445Z"
   },
   {
    "cell": {
     "executionCount": 85,
     "executionEventId": "fff26668-995f-491f-a998-35b82ec31ba6",
     "hasError": false,
     "id": "468d404f-5924-4ea7-8fd5-fb43960a18ac",
     "outputs": [],
     "persistentId": "efcdb227-0ff0-44d6-8126-c233ae074c6a",
     "text": "def ParticleInfo(filename, ParticleType, ParticleNumber):\n    time,TotalNumber,data = Read(filename)\n    index = np.where(data['type'] == ParticleType)\n    new_data = data[index]\n    particle = new_data[ParticleNumber-1]\n    distance = np.around(np.sqrt(particle['x']**2+particle['y']**2+particle['z']**2)*u.kpc,3)\n    velocity = np.around(np.sqrt(particle['vx']**2+particle['vy']**2+particle['vz']**2)*u.km/ u.s,3)\n    mass = np.around(particle['m']*1e10/1.9884e30,3)\n    return distance, velocity, mass"
    },
    "executionTime": "2020-02-01T02:45:15.482Z"
   },
   {
    "cell": {
     "executionCount": 86,
     "executionEventId": "266b5d8e-8980-42fb-b6c6-bd77f03ce88c",
     "hasError": false,
     "id": "35535b1a-e45e-49f6-856d-7581f8963c2c",
     "outputs": [],
     "persistentId": "1cbd807d-e506-4a63-9d3c-0bb93f6a03d6",
     "text": "d, v, m = ParticleInfo('MW_000.txt',1,100)"
    },
    "executionTime": "2020-02-01T02:45:21.229Z"
   },
   {
    "cell": {
     "executionCount": 87,
     "executionEventId": "74da3bf1-03a5-412f-8dc9-645ac1c21e70",
     "hasError": false,
     "id": "694895c0-d061-4cfd-919e-35053ca23b3e",
     "outputs": [
      {
       "data": {
        "text/plain": "0.0"
       },
       "execution_count": 87,
       "metadata": {},
       "output_type": "execute_result"
      }
     ],
     "persistentId": "7486aa94-546d-4500-9d43-8aa9b7e965b0",
     "text": "m"
    },
    "executionTime": "2020-02-01T02:45:21.260Z"
   },
   {
    "cell": {
     "executionCount": 88,
     "executionEventId": "7b85fb5d-ebe3-4f93-9a41-0cad04f75d54",
     "hasError": false,
     "id": "468d404f-5924-4ea7-8fd5-fb43960a18ac",
     "outputs": [],
     "persistentId": "efcdb227-0ff0-44d6-8126-c233ae074c6a",
     "text": "def ParticleInfo(filename, ParticleType, ParticleNumber):\n    time,TotalNumber,data = Read(filename)\n    index = np.where(data['type'] == ParticleType)\n    new_data = data[index]\n    particle = new_data[ParticleNumber-1]\n    distance = np.around(np.sqrt(particle['x']**2+particle['y']**2+particle['z']**2)*u.kpc,3)\n    velocity = np.around(np.sqrt(particle['vx']**2+particle['vy']**2+particle['vz']**2)*u.km/ u.s,3)\n    mass = particle['m']*1e10/1.9884e30*u.Msun\n    return distance, velocity, mass"
    },
    "executionTime": "2020-02-01T02:45:40.354Z"
   },
   {
    "cell": {
     "executionCount": 89,
     "executionEventId": "1fd31048-024a-47e6-8d85-39fa4922fec0",
     "hasError": false,
     "id": "35535b1a-e45e-49f6-856d-7581f8963c2c",
     "outputs": [],
     "persistentId": "1cbd807d-e506-4a63-9d3c-0bb93f6a03d6",
     "text": "d, v, m = ParticleInfo('MW_000.txt',1,100)"
    },
    "executionTime": "2020-02-01T02:45:43.785Z"
   },
   {
    "cell": {
     "executionCount": 90,
     "executionEventId": "c4703c12-6c20-4087-ab28-365be6bfb91b",
     "hasError": false,
     "id": "694895c0-d061-4cfd-919e-35053ca23b3e",
     "outputs": [
      {
       "data": {
        "text/latex": "$1.9864464 \\times 10^{-23} \\; \\mathrm{M_{\\odot}}$",
        "text/plain": "<Quantity 1.98644639e-23 solMass>"
       },
       "execution_count": 90,
       "metadata": {},
       "output_type": "execute_result"
      }
     ],
     "persistentId": "7486aa94-546d-4500-9d43-8aa9b7e965b0",
     "text": "m"
    },
    "executionTime": "2020-02-01T02:45:43.827Z"
   },
   {
    "cell": {
     "executionCount": 91,
     "executionEventId": "6779b248-44fa-4b78-8e8d-ee7822f81928",
     "hasError": false,
     "id": "468d404f-5924-4ea7-8fd5-fb43960a18ac",
     "outputs": [],
     "persistentId": "efcdb227-0ff0-44d6-8126-c233ae074c6a",
     "text": "# Function to given distance velocity and mass of any given particle of any given type\n\ndef ParticleInfo(filename, ParticleType, ParticleNumber):\n    # Inputs:\n    #    filename is file's name eg: 'MW_000.txt'\n    #    ParticleType: Type 1 = Dark Matter, Type 2 = Disk Stars, Type 3 = Bulge Stars\n    #    ParticleNumber is the order of particle in different ParticleType\n    # Returns:\n    #    distance: the 3D distance of the particle in kpc\n    #    velocity: the 3D velocity of the particle in km/s\n    #    mass: the mass of the particle in Solar mass\n    \n    # using Read Function get the data\n    time,TotalNumber,data = Read(filename)\n    # select input ParticleType index\n    index = np.where(data['type'] == ParticleType)\n    # put all select PaticleType in new_data list\n    new_data = data[index]\n    # select n_th particle \n    particle = new_data[ParticleNumber-1]\n    # calculate selected particle's 3d distance in 3 decimal places\n    distance = np.around(np.sqrt(particle['x']**2+particle['y']**2+particle['z']**2)*u.kpc,3)\n    # calculate selected particle's 3d velocity in 3 decimal places\n    velocity = np.around(np.sqrt(particle['vx']**2+particle['vy']**2+particle['vz']**2)*u.km/ u.s,3)\n    # convert select particle mass units 1e10 to Solar mass\n    mass = particle['m']*1e10/1.9884e30*u.Msun\n    return distance, velocity, mass"
    },
    "executionTime": "2020-02-01T03:09:13.077Z"
   },
   {
    "cell": {
     "executionCount": 92,
     "executionEventId": "8579b9b4-cbac-442a-93eb-e4a86509cc49",
     "hasError": false,
     "id": "694895c0-d061-4cfd-919e-35053ca23b3e",
     "outputs": [],
     "persistentId": "7486aa94-546d-4500-9d43-8aa9b7e965b0",
     "text": "distance, velocity, mass = ParticleInfo('MW_000.txt', 2, 100)"
    },
    "executionTime": "2020-02-01T03:09:19.807Z"
   },
   {
    "cell": {
     "executionCount": 93,
     "executionEventId": "2b697d90-e4ba-45c8-bb35-ad4af7fd3ba5",
     "hasError": false,
     "id": "df38254d-ceb5-4132-aeb4-5129756981dc",
     "outputs": [
      {
       "name": "stdout",
       "output_type": "stream",
       "text": "4.245 kpc\n"
      }
     ],
     "persistentId": "369c1c0c-a06b-4e50-8890-ebb3f7aa808e",
     "text": "print(distance)"
    },
    "executionTime": "2020-02-01T03:09:23.784Z"
   },
   {
    "cell": {
     "executionCount": 94,
     "executionEventId": "def87ed4-984e-446f-b345-146c64469446",
     "hasError": false,
     "id": "a374eff8-4ba3-45f4-9688-85312720ab32",
     "outputs": [
      {
       "name": "stdout",
       "output_type": "stream",
       "text": "312.135 km / s\n"
      }
     ],
     "persistentId": "a95f6357-3f9b-4655-ba48-bbeeaa291497",
     "text": "print(velocity)"
    },
    "executionTime": "2020-02-01T03:09:30.881Z"
   },
   {
    "cell": {
     "executionCount": 95,
     "executionEventId": "4541ef45-7304-46cd-85e7-138d5935a4ed",
     "hasError": false,
     "id": "696d3023-881d-4379-8ba2-5d6f801678cb",
     "outputs": [
      {
       "name": "stdout",
       "output_type": "stream",
       "text": "5.029169181251257e-25 solMass\n"
      }
     ],
     "persistentId": "c4395caa-c96a-49cd-b220-74d6a72d86de",
     "text": "print(mass)"
    },
    "executionTime": "2020-02-01T03:09:34.820Z"
   },
   {
    "cell": {
     "executionCount": 96,
     "executionEventId": "38143b55-a51d-4697-ba2f-ce37a79be5fe",
     "hasError": true,
     "id": "df474fed-bc39-4921-9a2c-44423ddfc071",
     "outputs": [
      {
       "ename": "NameError",
       "evalue": "name 'lyr' is not defined",
       "output_type": "error",
       "traceback": [
        "\u001b[0;31m---------------------------------------------------------------------------\u001b[0m",
        "\u001b[0;31mNameError\u001b[0m                                 Traceback (most recent call last)",
        "\u001b[0;32m<ipython-input-96-b8ebcf449c71>\u001b[0m in \u001b[0;36m<module>\u001b[0;34m\u001b[0m\n\u001b[0;32m----> 1\u001b[0;31m \u001b[0mprint\u001b[0m\u001b[0;34m(\u001b[0m\u001b[0mdistance\u001b[0m\u001b[0;34m.\u001b[0m\u001b[0mto\u001b[0m\u001b[0;34m(\u001b[0m\u001b[0mlyr\u001b[0m\u001b[0;34m)\u001b[0m\u001b[0;34m)\u001b[0m\u001b[0;34m\u001b[0m\u001b[0;34m\u001b[0m\u001b[0m\n\u001b[0m",
        "\u001b[0;31mNameError\u001b[0m: name 'lyr' is not defined"
       ]
      }
     ],
     "persistentId": "a9399ae9-a154-46a0-b23c-6344e7fe343c",
     "text": "print(distance.to(lyr))"
    },
    "executionTime": "2020-02-01T03:11:43.551Z"
   },
   {
    "cell": {
     "executionCount": 97,
     "executionEventId": "30462c74-8ed9-4579-9501-d5bb8799b432",
     "hasError": false,
     "id": "df474fed-bc39-4921-9a2c-44423ddfc071",
     "outputs": [
      {
       "name": "stdout",
       "output_type": "stream",
       "text": "13845.33823396728 lyr\n"
      }
     ],
     "persistentId": "a9399ae9-a154-46a0-b23c-6344e7fe343c",
     "text": "print(distance.to('lyr'))"
    },
    "executionTime": "2020-02-01T03:12:05.924Z"
   }
  ],
  "kernelspec": {
   "display_name": "Python 3",
   "language": "python",
   "name": "python3"
  },
  "language_info": {
   "codemirror_mode": {
    "name": "ipython",
    "version": 3
   },
   "file_extension": ".py",
   "mimetype": "text/x-python",
   "name": "python",
   "nbconvert_exporter": "python",
   "pygments_lexer": "ipython3",
   "version": "3.6.7"
  },
  "uuid": "504b361d-7a05-4d5c-819f-da43a33798c1"
 },
 "nbformat": 4,
 "nbformat_minor": 4
}
