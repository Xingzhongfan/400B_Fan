{
 "cells": [
  {
   "cell_type": "code",
   "execution_count": 1,
   "metadata": {
    "execution_event_id": "3ead5cad-1ae0-4be3-844a-f7fc674cd30c",
    "last_executed_text": "import numpy as np\nimport astropy.units as u\nfrom ReadFile import Read",
    "persistent_id": "357f28de-0155-4e5e-9959-00199c8c3852"
   },
   "outputs": [],
   "source": [
    "import numpy as np\n",
    "import astropy.units as u\n",
    "from ReadFile import Read"
   ]
  },
  {
   "cell_type": "code",
   "execution_count": 19,
   "metadata": {
    "execution_event_id": "756727d8-d6e6-4244-bc85-082628f124ec",
    "last_executed_text": "#  Define a function that takes in the desired particle type\n#  print the total mass of desired component\n#\n#  Input:  Ptype, particle type e.g. Halo: 1, Disk: 2, Bulge: 3\n#          filename, e.g. \"MW_000.txt\"\n#\n#  Returns: Total mass of any desired component units of 10^12 Msun\n\ndef GalaxyMass(Ptype, filename):\n    \n    # read in the file \n    time, total, data = Read(filename)\n    \n    # create an array to store indexes of particles of desired Ptype\n    index = np.where(data['type'] == Ptype)\n    \n    # create new arrays of m\n    # change units to 10^12 Msun\n    mnew = data['m'][index]*1e10/1e12\n    \n    # calculate the total mass\n    Totalmass = np.around(np.sum(mnew),3)\n    \n    return Totalmass\n    \n",
    "persistent_id": "280380bf-965d-45c6-ac24-5d7c39ecbc2c"
   },
   "outputs": [],
   "source": [
    "#  Define a function that takes in the desired particle type\n",
    "#  print the total mass of desired component\n",
    "#\n",
    "#  Input:  Ptype, particle type e.g. Halo: 1, Disk: 2, Bulge: 3\n",
    "#          filename, e.g. \"MW_000.txt\"\n",
    "#\n",
    "#  Returns: Total mass of any desired component units of 10^12 Msun\n",
    "\n",
    "def GalaxyMass(Ptype, filename):\n",
    "    \n",
    "    # read in the file \n",
    "    time, total, data = Read(filename)\n",
    "    \n",
    "    # create an array to store indexes of particles of desired Ptype\n",
    "    index = np.where(data['type'] == Ptype)\n",
    "    \n",
    "    # create new arrays of m\n",
    "    # change units to 10^12 Msun\n",
    "    mnew = data['m'][index]*1e10/1e12\n",
    "    \n",
    "    # calculate the total mass\n",
    "    Totalmass = np.around(np.sum(mnew),3)\n",
    "    \n",
    "    return Totalmass\n",
    "    \n"
   ]
  },
  {
   "cell_type": "code",
   "execution_count": 20,
   "metadata": {
    "execution_event_id": "94629cf5-9b3e-4efe-99d9-457c63527404",
    "last_executed_text": "GalaxyMass(1,'MW_000.txt')",
    "persistent_id": "36fc7e98-3aee-46f7-976e-d702a8ed9dc5"
   },
   "outputs": [
    {
     "data": {
      "text/plain": [
       "1.975"
      ]
     },
     "execution_count": 20,
     "metadata": {},
     "output_type": "execute_result"
    }
   ],
   "source": [
    "GalaxyMass(1,'MW_000.txt')"
   ]
  },
  {
   "cell_type": "code",
   "execution_count": 21,
   "metadata": {
    "execution_event_id": "1f30acce-6db5-4300-b9da-01b3a7fdadaf",
    "last_executed_text": "GalaxyMass(2,'MW_000.txt')",
    "persistent_id": "b6f99900-cc73-4962-a9bb-ab4fe56ae000"
   },
   "outputs": [
    {
     "data": {
      "text/plain": [
       "0.075"
      ]
     },
     "execution_count": 21,
     "metadata": {},
     "output_type": "execute_result"
    }
   ],
   "source": [
    "GalaxyMass(2,'MW_000.txt')"
   ]
  },
  {
   "cell_type": "code",
   "execution_count": 22,
   "metadata": {
    "execution_event_id": "8821e732-9b9f-49f8-940c-b02557708d40",
    "last_executed_text": "GalaxyMass(3,'MW_000.txt')",
    "persistent_id": "b83bd2fe-100b-4807-95f5-5906bba29a50"
   },
   "outputs": [
    {
     "data": {
      "text/plain": [
       "0.01"
      ]
     },
     "execution_count": 22,
     "metadata": {},
     "output_type": "execute_result"
    }
   ],
   "source": [
    "GalaxyMass(3,'MW_000.txt')"
   ]
  },
  {
   "cell_type": "code",
   "execution_count": 24,
   "metadata": {
    "execution_event_id": "a22e918c-c737-4669-8e64-bb160c0c8f1e",
    "last_executed_text": "MW_TotalMass = GalaxyMass(1,'MW_000.txt')+ GalaxyMass(2,'MW_000.txt')+GalaxyMass(3,'MW_000.txt')\nMW_TotalMass",
    "persistent_id": "3ec175aa-0719-4f26-80fc-b2dba73bdabd"
   },
   "outputs": [
    {
     "data": {
      "text/plain": [
       "2.06"
      ]
     },
     "execution_count": 24,
     "metadata": {},
     "output_type": "execute_result"
    }
   ],
   "source": [
    "MW_TotalMass = GalaxyMass(1,'MW_000.txt')+ GalaxyMass(2,'MW_000.txt')+GalaxyMass(3,'MW_000.txt')\n",
    "MW_TotalMass"
   ]
  },
  {
   "cell_type": "code",
   "execution_count": 30,
   "metadata": {
    "execution_event_id": "d0dd3bc1-8188-446f-8f69-4a4be269c9fd",
    "last_executed_text": "MW_StellarMass = np.around(GalaxyMass(2,'MW_000.txt')+GalaxyMass(3,'MW_000.txt'),3)\nMW_StellarMass",
    "persistent_id": "ab105214-c503-4786-9af2-7a45ea48211b"
   },
   "outputs": [
    {
     "data": {
      "text/plain": [
       "0.085"
      ]
     },
     "execution_count": 30,
     "metadata": {},
     "output_type": "execute_result"
    }
   ],
   "source": [
    "MW_StellarMass = np.around(GalaxyMass(2,'MW_000.txt')+GalaxyMass(3,'MW_000.txt'),3)\n",
    "MW_StellarMass"
   ]
  },
  {
   "cell_type": "code",
   "execution_count": 31,
   "metadata": {
    "execution_event_id": "80d9a6e5-383d-4fa2-aa75-865396309f57",
    "last_executed_text": "MW_fbar = np.around(MW_StellarMass/MW_TotalMass,3)\nMW_fbar",
    "persistent_id": "04e4356d-0b67-4e6e-898e-7866065597d6"
   },
   "outputs": [
    {
     "data": {
      "text/plain": [
       "0.041"
      ]
     },
     "execution_count": 31,
     "metadata": {},
     "output_type": "execute_result"
    }
   ],
   "source": [
    "MW_fbar = np.around(MW_StellarMass/MW_TotalMass,3)\n",
    "MW_fbar"
   ]
  },
  {
   "cell_type": "code",
   "execution_count": 40,
   "metadata": {
    "execution_event_id": "7fbfd415-6dc3-4982-8f1b-cc39b60034e8",
    "last_executed_text": "GalaxyMass(1,'M31_000.txt')",
    "persistent_id": "599cdac3-1bff-420e-9236-9eeca0ebdafb"
   },
   "outputs": [
    {
     "data": {
      "text/plain": [
       "1.921"
      ]
     },
     "execution_count": 40,
     "metadata": {},
     "output_type": "execute_result"
    }
   ],
   "source": [
    "GalaxyMass(1,'M31_000.txt')"
   ]
  },
  {
   "cell_type": "code",
   "execution_count": 33,
   "metadata": {
    "execution_event_id": "8b1c7b1e-bcfe-4cd7-a0d9-eeebc6641030",
    "last_executed_text": "GalaxyMass(2,'M31_000.txt')",
    "persistent_id": "bcd0f9f6-2da5-4751-ace6-d4b06550d82d"
   },
   "outputs": [
    {
     "data": {
      "text/plain": [
       "0.12"
      ]
     },
     "execution_count": 33,
     "metadata": {},
     "output_type": "execute_result"
    }
   ],
   "source": [
    "GalaxyMass(2,'M31_000.txt')"
   ]
  },
  {
   "cell_type": "code",
   "execution_count": 34,
   "metadata": {
    "execution_event_id": "e73e737e-b4b6-421e-bc3c-cd765d3aaec3",
    "last_executed_text": "GalaxyMass(3,'M31_000.txt')",
    "persistent_id": "42b3d5c3-545b-448c-b1ac-784cdd1b7aa1"
   },
   "outputs": [
    {
     "data": {
      "text/plain": [
       "0.019"
      ]
     },
     "execution_count": 34,
     "metadata": {},
     "output_type": "execute_result"
    }
   ],
   "source": [
    "GalaxyMass(3,'M31_000.txt')"
   ]
  },
  {
   "cell_type": "code",
   "execution_count": 35,
   "metadata": {
    "execution_event_id": "ba2e2c36-b683-445d-9546-73a299fdd224",
    "last_executed_text": "M31_TotalMass = GalaxyMass(1,'M31_000.txt')+ GalaxyMass(2,'M31_000.txt')+GalaxyMass(3,'M31_000.txt')\nM31_TotalMass",
    "persistent_id": "afa68320-349f-424b-bcba-cb21f3ec0a1b"
   },
   "outputs": [
    {
     "data": {
      "text/plain": [
       "2.06"
      ]
     },
     "execution_count": 35,
     "metadata": {},
     "output_type": "execute_result"
    }
   ],
   "source": [
    "M31_TotalMass = GalaxyMass(1,'M31_000.txt')+ GalaxyMass(2,'M31_000.txt')+GalaxyMass(3,'M31_000.txt')\n",
    "M31_TotalMass"
   ]
  },
  {
   "cell_type": "code",
   "execution_count": 38,
   "metadata": {
    "execution_event_id": "e1068aa5-1331-48e4-9bd2-401b5a4a1536",
    "last_executed_text": "M31_StellarMass = np.around(GalaxyMass(2,'M31_000.txt')+GalaxyMass(3,'M31_000.txt'),3)\nM31_StellarMass",
    "persistent_id": "9513bc94-b601-40fd-9331-88f623887687"
   },
   "outputs": [
    {
     "data": {
      "text/plain": [
       "0.139"
      ]
     },
     "execution_count": 38,
     "metadata": {},
     "output_type": "execute_result"
    }
   ],
   "source": [
    "M31_StellarMass = np.around(GalaxyMass(2,'M31_000.txt')+GalaxyMass(3,'M31_000.txt'),3)\n",
    "M31_StellarMass"
   ]
  },
  {
   "cell_type": "code",
   "execution_count": 39,
   "metadata": {
    "execution_event_id": "edd3d892-a4d7-4691-a5c5-f28c72fed543",
    "last_executed_text": "M31_fbar = np.around(M31_StellarMass/M31_TotalMass,3)\nM31_fbar",
    "persistent_id": "6dc612db-218f-4b0b-bc25-c4d426b02628"
   },
   "outputs": [
    {
     "data": {
      "text/plain": [
       "0.067"
      ]
     },
     "execution_count": 39,
     "metadata": {},
     "output_type": "execute_result"
    }
   ],
   "source": [
    "M31_fbar = np.around(M31_StellarMass/M31_TotalMass,3)\n",
    "M31_fbar"
   ]
  },
  {
   "cell_type": "code",
   "execution_count": 41,
   "metadata": {
    "execution_event_id": "a4b6622e-69fb-4ebe-96e8-0ff4c7056a27",
    "last_executed_text": "GalaxyMass(1,'M33_000.txt')",
    "persistent_id": "a388e232-7380-41fe-b3bd-cf6c066bb101"
   },
   "outputs": [
    {
     "data": {
      "text/plain": [
       "0.187"
      ]
     },
     "execution_count": 41,
     "metadata": {},
     "output_type": "execute_result"
    }
   ],
   "source": [
    "GalaxyMass(1,'M33_000.txt')"
   ]
  },
  {
   "cell_type": "code",
   "execution_count": 42,
   "metadata": {
    "execution_event_id": "5af94db3-04d2-489f-ad80-e2f89333a133",
    "last_executed_text": "GalaxyMass(2,'M33_000.txt')",
    "persistent_id": "2bb1e8b3-ce68-4f65-af87-3d99e6861a6e"
   },
   "outputs": [
    {
     "data": {
      "text/plain": [
       "0.009"
      ]
     },
     "execution_count": 42,
     "metadata": {},
     "output_type": "execute_result"
    }
   ],
   "source": [
    "GalaxyMass(2,'M33_000.txt')"
   ]
  },
  {
   "cell_type": "code",
   "execution_count": 44,
   "metadata": {
    "execution_event_id": "facc725f-a8e4-4200-9def-728b95cec71d",
    "last_executed_text": "GalaxyMass(3,'M33_000.txt')",
    "persistent_id": "0d1e81e2-507d-4926-abce-1d1d729b101b"
   },
   "outputs": [
    {
     "data": {
      "text/plain": [
       "0.0"
      ]
     },
     "execution_count": 44,
     "metadata": {},
     "output_type": "execute_result"
    }
   ],
   "source": [
    "GalaxyMass(3,'M33_000.txt')"
   ]
  },
  {
   "cell_type": "code",
   "execution_count": 45,
   "metadata": {
    "execution_event_id": "f012fb06-54d1-4c44-a5ee-290def5bc2d2",
    "last_executed_text": "M33_TotalMass = GalaxyMass(1,'M33_000.txt')+ GalaxyMass(2,'M33_000.txt')+GalaxyMass(3,'M33_000.txt')\nM33_TotalMass",
    "persistent_id": "7f787969-5e36-495c-abef-e4a9d00556e9"
   },
   "outputs": [
    {
     "data": {
      "text/plain": [
       "0.196"
      ]
     },
     "execution_count": 45,
     "metadata": {},
     "output_type": "execute_result"
    }
   ],
   "source": [
    "M33_TotalMass = GalaxyMass(1,'M33_000.txt')+ GalaxyMass(2,'M33_000.txt')+GalaxyMass(3,'M33_000.txt')\n",
    "M33_TotalMass"
   ]
  },
  {
   "cell_type": "code",
   "execution_count": 46,
   "metadata": {
    "execution_event_id": "58431a57-e02d-4bb9-8580-790416843acb",
    "last_executed_text": "M33_StellarMass = np.around(GalaxyMass(2,'M33_000.txt')+GalaxyMass(3,'M33_000.txt'),3)\nM33_StellarMass",
    "persistent_id": "30869eb6-0f60-440a-b51b-17a29f3dcf7d"
   },
   "outputs": [
    {
     "data": {
      "text/plain": [
       "0.009"
      ]
     },
     "execution_count": 46,
     "metadata": {},
     "output_type": "execute_result"
    }
   ],
   "source": [
    "M33_StellarMass = np.around(GalaxyMass(2,'M33_000.txt')+GalaxyMass(3,'M33_000.txt'),3)\n",
    "M33_StellarMass"
   ]
  },
  {
   "cell_type": "code",
   "execution_count": 47,
   "metadata": {
    "execution_event_id": "52c9955d-eb20-4979-bba6-f411e52cc68f",
    "last_executed_text": "M33_fbar = np.around(M33_StellarMass/M33_TotalMass,3)\nM33_fbar",
    "persistent_id": "86e020dd-58cc-4b12-8094-e9346fd1d748"
   },
   "outputs": [
    {
     "data": {
      "text/plain": [
       "0.046"
      ]
     },
     "execution_count": 47,
     "metadata": {},
     "output_type": "execute_result"
    }
   ],
   "source": [
    "M33_fbar = np.around(M33_StellarMass/M33_TotalMass,3)\n",
    "M33_fbar"
   ]
  },
  {
   "cell_type": "code",
   "execution_count": 51,
   "metadata": {
    "execution_event_id": "56b97088-6481-48e6-9138-4d2101174844",
    "last_executed_text": "GalaxyMass(1,'MW_000.txt')/GalaxyMass(1,'M31_000.txt')",
    "persistent_id": "fd2b5bb9-711a-423d-b7ce-0e0780cd3504"
   },
   "outputs": [
    {
     "data": {
      "text/plain": [
       "1.028110359187923"
      ]
     },
     "execution_count": 51,
     "metadata": {},
     "output_type": "execute_result"
    }
   ],
   "source": [
    "GalaxyMass(1,'MW_000.txt')/GalaxyMass(1,'M31_000.txt')"
   ]
  }
 ],
 "metadata": {
  "history": [
   {
    "cell": {
     "executionCount": 1,
     "executionEventId": "3ead5cad-1ae0-4be3-844a-f7fc674cd30c",
     "hasError": false,
     "id": "3f8a886d-bd86-4f65-b36e-26380c058e49",
     "outputs": [],
     "persistentId": "357f28de-0155-4e5e-9959-00199c8c3852",
     "text": "import numpy as np\nimport astropy.units as u\nfrom ReadFile import Read"
    },
    "executionTime": "2020-02-05T20:47:47.880Z"
   },
   {
    "cell": {
     "executionCount": 2,
     "executionEventId": "afd290a4-4e43-4e23-afb7-d96790f7588a",
     "hasError": false,
     "id": "778f5a30-b572-4c28-8c07-d59c0fc6b297",
     "outputs": [],
     "persistentId": "280380bf-965d-45c6-ac24-5d7c39ecbc2c",
     "text": "#  Define a function that takes in the desired particle type\n#  print the total mass of desired component\n#\n#  Input:  Ptype, particle type e.g. Halo: 1, Disk: 2, Bulge: 3\n#          filename, e.g. \"MW_000.txt\"\n#\n#  Returns: Total mass of any desired component units of 10^12 Msun\n\ndef GalaxyMass(Ptype, filename):\n    \n    # read in the file \n    time, total, data = Read(filename)\n    \n    #create an array to store indexes of particles of desired Ptype\n    index = np.where(data['type'] == PType)\n    \n    mnew = data['m'][index]*1e10/100*u.Msun\n    \n    Totalmass = np.around(np.sum(mnew),3)\n    \n    return Totalmass\n    \n"
    },
    "executionTime": "2020-02-05T20:57:25.754Z"
   },
   {
    "cell": {
     "executionCount": 3,
     "executionEventId": "85e9d9fb-d171-4bcc-bacd-cf22651283eb",
     "hasError": true,
     "id": "df99d435-1675-4bf3-9864-b0869e77a4ff",
     "outputs": [
      {
       "ename": "NameError",
       "evalue": "name 'MW_000' is not defined",
       "output_type": "error",
       "traceback": [
        "\u001b[0;31m---------------------------------------------------------------------------\u001b[0m",
        "\u001b[0;31mNameError\u001b[0m                                 Traceback (most recent call last)",
        "\u001b[0;32m<ipython-input-3-fa7c1472665d>\u001b[0m in \u001b[0;36m<module>\u001b[0;34m\u001b[0m\n\u001b[0;32m----> 1\u001b[0;31m \u001b[0mGalaxyMass\u001b[0m\u001b[0;34m(\u001b[0m\u001b[0;36m1\u001b[0m\u001b[0;34m,\u001b[0m\u001b[0mMW_000\u001b[0m\u001b[0;34m.\u001b[0m\u001b[0mtxt\u001b[0m\u001b[0;34m)\u001b[0m\u001b[0;34m\u001b[0m\u001b[0;34m\u001b[0m\u001b[0m\n\u001b[0m",
        "\u001b[0;31mNameError\u001b[0m: name 'MW_000' is not defined"
       ]
      }
     ],
     "persistentId": "36fc7e98-3aee-46f7-976e-d702a8ed9dc5",
     "text": "GalaxyMass(1,MW_000.txt)"
    },
    "executionTime": "2020-02-05T20:59:23.235Z"
   },
   {
    "cell": {
     "executionCount": 4,
     "executionEventId": "7d6a39db-bf6f-40b0-9181-6f432ca04430",
     "hasError": true,
     "id": "df99d435-1675-4bf3-9864-b0869e77a4ff",
     "outputs": [
      {
       "ename": "NameError",
       "evalue": "name 'PType' is not defined",
       "output_type": "error",
       "traceback": [
        "\u001b[0;31m---------------------------------------------------------------------------\u001b[0m",
        "\u001b[0;31mNameError\u001b[0m                                 Traceback (most recent call last)",
        "\u001b[0;32m<ipython-input-4-b8d5480f1c45>\u001b[0m in \u001b[0;36m<module>\u001b[0;34m\u001b[0m\n\u001b[0;32m----> 1\u001b[0;31m \u001b[0mGalaxyMass\u001b[0m\u001b[0;34m(\u001b[0m\u001b[0;36m1\u001b[0m\u001b[0;34m,\u001b[0m\u001b[0;34m'MW_000.txt'\u001b[0m\u001b[0;34m)\u001b[0m\u001b[0;34m\u001b[0m\u001b[0;34m\u001b[0m\u001b[0m\n\u001b[0m",
        "\u001b[0;32m<ipython-input-2-bab97ffe93ea>\u001b[0m in \u001b[0;36mGalaxyMass\u001b[0;34m(Ptype, filename)\u001b[0m\n\u001b[1;32m     13\u001b[0m \u001b[0;34m\u001b[0m\u001b[0m\n\u001b[1;32m     14\u001b[0m     \u001b[0;31m#create an array to store indexes of particles of desired Ptype\u001b[0m\u001b[0;34m\u001b[0m\u001b[0;34m\u001b[0m\u001b[0;34m\u001b[0m\u001b[0m\n\u001b[0;32m---> 15\u001b[0;31m     \u001b[0mindex\u001b[0m \u001b[0;34m=\u001b[0m \u001b[0mnp\u001b[0m\u001b[0;34m.\u001b[0m\u001b[0mwhere\u001b[0m\u001b[0;34m(\u001b[0m\u001b[0mdata\u001b[0m\u001b[0;34m[\u001b[0m\u001b[0;34m'type'\u001b[0m\u001b[0;34m]\u001b[0m \u001b[0;34m==\u001b[0m \u001b[0mPType\u001b[0m\u001b[0;34m)\u001b[0m\u001b[0;34m\u001b[0m\u001b[0;34m\u001b[0m\u001b[0m\n\u001b[0m\u001b[1;32m     16\u001b[0m \u001b[0;34m\u001b[0m\u001b[0m\n\u001b[1;32m     17\u001b[0m     \u001b[0mmnew\u001b[0m \u001b[0;34m=\u001b[0m \u001b[0mdata\u001b[0m\u001b[0;34m[\u001b[0m\u001b[0;34m'm'\u001b[0m\u001b[0;34m]\u001b[0m\u001b[0;34m[\u001b[0m\u001b[0mindex\u001b[0m\u001b[0;34m]\u001b[0m\u001b[0;34m*\u001b[0m\u001b[0;36m1e10\u001b[0m\u001b[0;34m/\u001b[0m\u001b[0;36m100\u001b[0m\u001b[0;34m*\u001b[0m\u001b[0mu\u001b[0m\u001b[0;34m.\u001b[0m\u001b[0mMsun\u001b[0m\u001b[0;34m\u001b[0m\u001b[0;34m\u001b[0m\u001b[0m\n",
        "\u001b[0;31mNameError\u001b[0m: name 'PType' is not defined"
       ]
      }
     ],
     "persistentId": "36fc7e98-3aee-46f7-976e-d702a8ed9dc5",
     "text": "GalaxyMass(1,'MW_000.txt')"
    },
    "executionTime": "2020-02-05T20:59:32.418Z"
   },
   {
    "cell": {
     "executionCount": 5,
     "executionEventId": "38fb9c9e-039c-4641-86e9-5e2e9cb59c9b",
     "hasError": false,
     "id": "778f5a30-b572-4c28-8c07-d59c0fc6b297",
     "outputs": [],
     "persistentId": "280380bf-965d-45c6-ac24-5d7c39ecbc2c",
     "text": "#  Define a function that takes in the desired particle type\n#  print the total mass of desired component\n#\n#  Input:  Ptype, particle type e.g. Halo: 1, Disk: 2, Bulge: 3\n#          filename, e.g. \"MW_000.txt\"\n#\n#  Returns: Total mass of any desired component units of 10^12 Msun\n\ndef GalaxyMass(Ptype, filename):\n    \n    # read in the file \n    time, total, data = Read(filename)\n    \n    # create an array to store indexes of particles of desired Ptype\n    index = np.where(data['type'] == Ptype)\n    \n    # create new arrays of m\n    # add units using Astropy\n    # change units to 10^12 Msun\n    mnew = data['m'][index]*1e10/100*u.Msun\n    \n    # calculate the total mass\n    Totalmass = np.around(np.sum(mnew),3)\n    \n    return Totalmass\n    \n"
    },
    "executionTime": "2020-02-05T20:59:43.972Z"
   },
   {
    "cell": {
     "executionCount": 6,
     "executionEventId": "8b3d8191-ac80-409d-b4ee-64af3a0b5464",
     "hasError": false,
     "id": "df99d435-1675-4bf3-9864-b0869e77a4ff",
     "outputs": [
      {
       "data": {
        "text/latex": "$1.974925 \\times 10^{10} \\; \\mathrm{M_{\\odot}}$",
        "text/plain": "<Quantity 1.974925e+10 solMass>"
       },
       "execution_count": 6,
       "metadata": {},
       "output_type": "execute_result"
      }
     ],
     "persistentId": "36fc7e98-3aee-46f7-976e-d702a8ed9dc5",
     "text": "GalaxyMass(1,'MW_000.txt')"
    },
    "executionTime": "2020-02-05T20:59:48.269Z"
   },
   {
    "cell": {
     "executionCount": 7,
     "executionEventId": "07b1fe84-7676-4b84-a4fd-64b9741181b8",
     "hasError": false,
     "id": "778f5a30-b572-4c28-8c07-d59c0fc6b297",
     "outputs": [],
     "persistentId": "280380bf-965d-45c6-ac24-5d7c39ecbc2c",
     "text": "#  Define a function that takes in the desired particle type\n#  print the total mass of desired component\n#\n#  Input:  Ptype, particle type e.g. Halo: 1, Disk: 2, Bulge: 3\n#          filename, e.g. \"MW_000.txt\"\n#\n#  Returns: Total mass of any desired component units of 10^12 Msun\n\ndef GalaxyMass(Ptype, filename):\n    \n    # read in the file \n    time, total, data = Read(filename)\n    \n    # create an array to store indexes of particles of desired Ptype\n    index = np.where(data['type'] == Ptype)\n    \n    # create new arrays of m\n    # add units using Astropy\n    # change units to 10^12 Msun\n    mnew = data['m'][index]*1e10*u.Msun\n    \n    # calculate the total mass\n    Totalmass = np.around(np.sum(mnew),3)\n    \n    return Totalmass\n    \n"
    },
    "executionTime": "2020-02-05T21:00:31.731Z"
   },
   {
    "cell": {
     "executionCount": 8,
     "executionEventId": "1aa5864a-886d-4ee3-b11e-60b61a431863",
     "hasError": false,
     "id": "df99d435-1675-4bf3-9864-b0869e77a4ff",
     "outputs": [
      {
       "data": {
        "text/latex": "$1.974925 \\times 10^{12} \\; \\mathrm{M_{\\odot}}$",
        "text/plain": "<Quantity 1.974925e+12 solMass>"
       },
       "execution_count": 8,
       "metadata": {},
       "output_type": "execute_result"
      }
     ],
     "persistentId": "36fc7e98-3aee-46f7-976e-d702a8ed9dc5",
     "text": "GalaxyMass(1,'MW_000.txt')"
    },
    "executionTime": "2020-02-05T21:00:35.300Z"
   },
   {
    "cell": {
     "executionCount": 9,
     "executionEventId": "d7a8ee90-f023-4465-ac56-708aaed72e03",
     "hasError": false,
     "id": "e00a5f01-78d1-4bd8-bd76-4953cef7134d",
     "outputs": [
      {
       "data": {
        "text/latex": "$7.5 \\times 10^{10} \\; \\mathrm{M_{\\odot}}$",
        "text/plain": "<Quantity 7.5e+10 solMass>"
       },
       "execution_count": 9,
       "metadata": {},
       "output_type": "execute_result"
      }
     ],
     "persistentId": "b6f99900-cc73-4962-a9bb-ab4fe56ae000",
     "text": "GalaxyMass(2,'MW_000.txt')"
    },
    "executionTime": "2020-02-05T21:00:47.456Z"
   },
   {
    "cell": {
     "executionCount": 10,
     "executionEventId": "4a10486b-e3d9-44fa-8509-432afff22ea9",
     "hasError": false,
     "id": "778f5a30-b572-4c28-8c07-d59c0fc6b297",
     "outputs": [],
     "persistentId": "280380bf-965d-45c6-ac24-5d7c39ecbc2c",
     "text": "#  Define a function that takes in the desired particle type\n#  print the total mass of desired component\n#\n#  Input:  Ptype, particle type e.g. Halo: 1, Disk: 2, Bulge: 3\n#          filename, e.g. \"MW_000.txt\"\n#\n#  Returns: Total mass of any desired component units of 10^12 Msun\n\ndef GalaxyMass(Ptype, filename):\n    \n    # read in the file \n    time, total, data = Read(filename)\n    \n    # create an array to store indexes of particles of desired Ptype\n    index = np.where(data['type'] == Ptype)\n    \n    # create new arrays of m\n    # add units using Astropy\n    # change units to 10^12 Msun\n    mnew = data['m'][index]*1e10/1e12*1e12*u.Msun\n    \n    # calculate the total mass\n    Totalmass = np.around(np.sum(mnew),3)\n    \n    return Totalmass\n    \n"
    },
    "executionTime": "2020-02-05T21:01:41.844Z"
   },
   {
    "cell": {
     "executionCount": 11,
     "executionEventId": "a6c50355-cee9-4a01-a3fd-86fb38bfcdc1",
     "hasError": false,
     "id": "df99d435-1675-4bf3-9864-b0869e77a4ff",
     "outputs": [
      {
       "data": {
        "text/latex": "$1.974925 \\times 10^{12} \\; \\mathrm{M_{\\odot}}$",
        "text/plain": "<Quantity 1.974925e+12 solMass>"
       },
       "execution_count": 11,
       "metadata": {},
       "output_type": "execute_result"
      }
     ],
     "persistentId": "36fc7e98-3aee-46f7-976e-d702a8ed9dc5",
     "text": "GalaxyMass(1,'MW_000.txt')"
    },
    "executionTime": "2020-02-05T21:01:45.981Z"
   },
   {
    "cell": {
     "executionCount": 12,
     "executionEventId": "5e6c2c47-f09f-4e75-8fa5-6943cd1aa844",
     "hasError": false,
     "id": "e00a5f01-78d1-4bd8-bd76-4953cef7134d",
     "outputs": [
      {
       "data": {
        "text/latex": "$7.5 \\times 10^{10} \\; \\mathrm{M_{\\odot}}$",
        "text/plain": "<Quantity 7.5e+10 solMass>"
       },
       "execution_count": 12,
       "metadata": {},
       "output_type": "execute_result"
      }
     ],
     "persistentId": "b6f99900-cc73-4962-a9bb-ab4fe56ae000",
     "text": "GalaxyMass(2,'MW_000.txt')"
    },
    "executionTime": "2020-02-05T21:01:50.161Z"
   },
   {
    "cell": {
     "executionCount": 13,
     "executionEventId": "71b9d9b1-d024-4407-9d7d-9e0e06844f9e",
     "hasError": false,
     "id": "778f5a30-b572-4c28-8c07-d59c0fc6b297",
     "outputs": [],
     "persistentId": "280380bf-965d-45c6-ac24-5d7c39ecbc2c",
     "text": "#  Define a function that takes in the desired particle type\n#  print the total mass of desired component\n#\n#  Input:  Ptype, particle type e.g. Halo: 1, Disk: 2, Bulge: 3\n#          filename, e.g. \"MW_000.txt\"\n#\n#  Returns: Total mass of any desired component units of 10^12 Msun\n\ndef GalaxyMass(Ptype, filename):\n    \n    # read in the file \n    time, total, data = Read(filename)\n    \n    # create an array to store indexes of particles of desired Ptype\n    index = np.where(data['type'] == Ptype)\n    \n    # create new arrays of m\n    # add units using Astropy\n    # change units to 10^12 Msun\n    mnew = data['m'][index]*1e10/1e12\n    \n    # calculate the total mass\n    Totalmass = np.around(np.sum(mnew),3)\n    \n    return Totalmass\n    \n"
    },
    "executionTime": "2020-02-05T21:01:56.692Z"
   },
   {
    "cell": {
     "executionCount": 14,
     "executionEventId": "79e14ff8-8b16-4f79-920c-383ff14902d6",
     "hasError": false,
     "id": "df99d435-1675-4bf3-9864-b0869e77a4ff",
     "outputs": [
      {
       "data": {
        "text/plain": "1.975"
       },
       "execution_count": 14,
       "metadata": {},
       "output_type": "execute_result"
      }
     ],
     "persistentId": "36fc7e98-3aee-46f7-976e-d702a8ed9dc5",
     "text": "GalaxyMass(1,'MW_000.txt')"
    },
    "executionTime": "2020-02-05T21:02:01.483Z"
   },
   {
    "cell": {
     "executionCount": 15,
     "executionEventId": "2def00a8-0a9b-47aa-a702-d09a3b721663",
     "hasError": false,
     "id": "e00a5f01-78d1-4bd8-bd76-4953cef7134d",
     "outputs": [
      {
       "data": {
        "text/plain": "0.075"
       },
       "execution_count": 15,
       "metadata": {},
       "output_type": "execute_result"
      }
     ],
     "persistentId": "b6f99900-cc73-4962-a9bb-ab4fe56ae000",
     "text": "GalaxyMass(2,'MW_000.txt')"
    },
    "executionTime": "2020-02-05T21:02:05.969Z"
   },
   {
    "cell": {
     "executionCount": 16,
     "executionEventId": "20d3b7e1-fa48-4303-bf7d-f2644e307999",
     "hasError": false,
     "id": "12eaa1ad-a852-4800-bbaa-332b5bad380b",
     "outputs": [
      {
       "data": {
        "text/plain": "0.01"
       },
       "execution_count": 16,
       "metadata": {},
       "output_type": "execute_result"
      }
     ],
     "persistentId": "b83bd2fe-100b-4807-95f5-5906bba29a50",
     "text": "GalaxyMass(3,'MW_000.txt')"
    },
    "executionTime": "2020-02-05T21:02:34.587Z"
   },
   {
    "cell": {
     "executionCount": 17,
     "executionEventId": "648a4d71-bb37-4031-9992-ed3869fdc2a3",
     "hasError": false,
     "id": "778f5a30-b572-4c28-8c07-d59c0fc6b297",
     "outputs": [],
     "persistentId": "280380bf-965d-45c6-ac24-5d7c39ecbc2c",
     "text": "#  Define a function that takes in the desired particle type\n#  print the total mass of desired component\n#\n#  Input:  Ptype, particle type e.g. Halo: 1, Disk: 2, Bulge: 3\n#          filename, e.g. \"MW_000.txt\"\n#\n#  Returns: Total mass of any desired component units of 10^12 Msun\n\ndef GalaxyMass(Ptype, filename):\n    \n    # read in the file \n    time, total, data = Read(filename)\n    \n    # create an array to store indexes of particles of desired Ptype\n    index = np.where(data['type'] == Ptype)\n    \n    # create new arrays of m\n    # change units to 10^12 Msun\n    mnew = data['m'][index]*1e10/1e12*u.Msun\n    \n    # calculate the total mass\n    Totalmass = np.around(np.sum(mnew),3)\n    \n    return Totalmass\n    \n"
    },
    "executionTime": "2020-02-05T21:03:53.714Z"
   },
   {
    "cell": {
     "executionCount": 18,
     "executionEventId": "9a8db458-d99a-47a4-a62a-2cbbe5a37718",
     "hasError": false,
     "id": "df99d435-1675-4bf3-9864-b0869e77a4ff",
     "outputs": [
      {
       "data": {
        "text/latex": "$1.975 \\; \\mathrm{M_{\\odot}}$",
        "text/plain": "<Quantity 1.975 solMass>"
       },
       "execution_count": 18,
       "metadata": {},
       "output_type": "execute_result"
      }
     ],
     "persistentId": "36fc7e98-3aee-46f7-976e-d702a8ed9dc5",
     "text": "GalaxyMass(1,'MW_000.txt')"
    },
    "executionTime": "2020-02-05T21:03:57.030Z"
   },
   {
    "cell": {
     "executionCount": 19,
     "executionEventId": "756727d8-d6e6-4244-bc85-082628f124ec",
     "hasError": false,
     "id": "778f5a30-b572-4c28-8c07-d59c0fc6b297",
     "outputs": [],
     "persistentId": "280380bf-965d-45c6-ac24-5d7c39ecbc2c",
     "text": "#  Define a function that takes in the desired particle type\n#  print the total mass of desired component\n#\n#  Input:  Ptype, particle type e.g. Halo: 1, Disk: 2, Bulge: 3\n#          filename, e.g. \"MW_000.txt\"\n#\n#  Returns: Total mass of any desired component units of 10^12 Msun\n\ndef GalaxyMass(Ptype, filename):\n    \n    # read in the file \n    time, total, data = Read(filename)\n    \n    # create an array to store indexes of particles of desired Ptype\n    index = np.where(data['type'] == Ptype)\n    \n    # create new arrays of m\n    # change units to 10^12 Msun\n    mnew = data['m'][index]*1e10/1e12\n    \n    # calculate the total mass\n    Totalmass = np.around(np.sum(mnew),3)\n    \n    return Totalmass\n    \n"
    },
    "executionTime": "2020-02-05T21:04:01.892Z"
   },
   {
    "cell": {
     "executionCount": 20,
     "executionEventId": "94629cf5-9b3e-4efe-99d9-457c63527404",
     "hasError": false,
     "id": "df99d435-1675-4bf3-9864-b0869e77a4ff",
     "outputs": [
      {
       "data": {
        "text/plain": "1.975"
       },
       "execution_count": 20,
       "metadata": {},
       "output_type": "execute_result"
      }
     ],
     "persistentId": "36fc7e98-3aee-46f7-976e-d702a8ed9dc5",
     "text": "GalaxyMass(1,'MW_000.txt')"
    },
    "executionTime": "2020-02-05T21:04:05.287Z"
   },
   {
    "cell": {
     "executionCount": 21,
     "executionEventId": "1f30acce-6db5-4300-b9da-01b3a7fdadaf",
     "hasError": false,
     "id": "e00a5f01-78d1-4bd8-bd76-4953cef7134d",
     "outputs": [
      {
       "data": {
        "text/plain": "0.075"
       },
       "execution_count": 21,
       "metadata": {},
       "output_type": "execute_result"
      }
     ],
     "persistentId": "b6f99900-cc73-4962-a9bb-ab4fe56ae000",
     "text": "GalaxyMass(2,'MW_000.txt')"
    },
    "executionTime": "2020-02-05T21:04:08.448Z"
   },
   {
    "cell": {
     "executionCount": 22,
     "executionEventId": "8821e732-9b9f-49f8-940c-b02557708d40",
     "hasError": false,
     "id": "12eaa1ad-a852-4800-bbaa-332b5bad380b",
     "outputs": [
      {
       "data": {
        "text/plain": "0.01"
       },
       "execution_count": 22,
       "metadata": {},
       "output_type": "execute_result"
      }
     ],
     "persistentId": "b83bd2fe-100b-4807-95f5-5906bba29a50",
     "text": "GalaxyMass(3,'MW_000.txt')"
    },
    "executionTime": "2020-02-05T21:04:11.620Z"
   },
   {
    "cell": {
     "executionCount": 23,
     "executionEventId": "fee8112a-7e2b-420a-8e62-61029273dadd",
     "hasError": false,
     "id": "7d37f411-0d0e-4b7e-b69d-2000e19cb8dd",
     "outputs": [],
     "persistentId": "3ec175aa-0719-4f26-80fc-b2dba73bdabd",
     "text": "MW_TotalMass = GalaxyMass(1,'MW_000.txt')+ GalaxyMass(2,'MW_000.txt')+GalaxyMass(3,'MW_000.txt')"
    },
    "executionTime": "2020-02-05T21:04:19.743Z"
   },
   {
    "cell": {
     "executionCount": 24,
     "executionEventId": "a22e918c-c737-4669-8e64-bb160c0c8f1e",
     "hasError": false,
     "id": "7d37f411-0d0e-4b7e-b69d-2000e19cb8dd",
     "outputs": [
      {
       "data": {
        "text/plain": "2.06"
       },
       "execution_count": 24,
       "metadata": {},
       "output_type": "execute_result"
      }
     ],
     "persistentId": "3ec175aa-0719-4f26-80fc-b2dba73bdabd",
     "text": "MW_TotalMass = GalaxyMass(1,'MW_000.txt')+ GalaxyMass(2,'MW_000.txt')+GalaxyMass(3,'MW_000.txt')\nMW_TotalMass"
    },
    "executionTime": "2020-02-05T21:04:34.822Z"
   },
   {
    "cell": {
     "executionCount": 25,
     "executionEventId": "043c5874-ee89-4f7e-b15d-2907193806f5",
     "hasError": false,
     "id": "7bb586cd-8922-45e1-9381-7860ecb446fb",
     "outputs": [
      {
       "data": {
        "text/plain": "2.06"
       },
       "execution_count": 25,
       "metadata": {},
       "output_type": "execute_result"
      }
     ],
     "persistentId": "04e4356d-0b67-4e6e-898e-7866065597d6",
     "text": "1.975+0.075+0.01"
    },
    "executionTime": "2020-02-05T21:04:45.121Z"
   },
   {
    "cell": {
     "executionCount": 26,
     "executionEventId": "398054ec-52e7-4357-ac2c-715badd09699",
     "hasError": false,
     "id": "7bb586cd-8922-45e1-9381-7860ecb446fb",
     "outputs": [],
     "persistentId": "04e4356d-0b67-4e6e-898e-7866065597d6",
     "text": "MW_fbar = (GalaxyMass(2,'MW_000.txt')+GalaxyMass(3,'MW_000.txt'))/MW_TotalMass"
    },
    "executionTime": "2020-02-05T21:09:31.935Z"
   },
   {
    "cell": {
     "executionCount": 27,
     "executionEventId": "770d162c-56bc-4f6a-9bb6-cce3ea432786",
     "hasError": false,
     "id": "7bb586cd-8922-45e1-9381-7860ecb446fb",
     "outputs": [
      {
       "data": {
        "text/plain": "0.04126213592233009"
       },
       "execution_count": 27,
       "metadata": {},
       "output_type": "execute_result"
      }
     ],
     "persistentId": "04e4356d-0b67-4e6e-898e-7866065597d6",
     "text": "MW_fbar = (GalaxyMass(2,'MW_000.txt')+GalaxyMass(3,'MW_000.txt'))/MW_TotalMass\nMW_fbar"
    },
    "executionTime": "2020-02-05T21:09:42.024Z"
   },
   {
    "cell": {
     "executionCount": 28,
     "executionEventId": "719b7917-de5c-4944-9e7c-0e1a3df8a174",
     "hasError": false,
     "id": "7bb586cd-8922-45e1-9381-7860ecb446fb",
     "outputs": [
      {
       "data": {
        "text/plain": "0.041"
       },
       "execution_count": 28,
       "metadata": {},
       "output_type": "execute_result"
      }
     ],
     "persistentId": "04e4356d-0b67-4e6e-898e-7866065597d6",
     "text": "MW_fbar = np.around((GalaxyMass(2,'MW_000.txt')+GalaxyMass(3,'MW_000.txt'))/MW_TotalMass,3)\nMW_fbar"
    },
    "executionTime": "2020-02-05T21:10:05.906Z"
   },
   {
    "cell": {
     "executionCount": 29,
     "executionEventId": "95972f3c-0d39-4c0d-a060-f70003078a7b",
     "hasError": false,
     "id": "d15eaf62-b21f-46be-b7b5-48a805516d1d",
     "outputs": [
      {
       "data": {
        "text/plain": "0.08499999999999999"
       },
       "execution_count": 29,
       "metadata": {},
       "output_type": "execute_result"
      }
     ],
     "persistentId": "ab105214-c503-4786-9af2-7a45ea48211b",
     "text": "MW_StellarMass = GalaxyMass(2,'MW_000.txt')+GalaxyMass(3,'MW_000.txt')\nMW_StellarMass"
    },
    "executionTime": "2020-02-05T21:11:10.442Z"
   },
   {
    "cell": {
     "executionCount": 30,
     "executionEventId": "d0dd3bc1-8188-446f-8f69-4a4be269c9fd",
     "hasError": false,
     "id": "d15eaf62-b21f-46be-b7b5-48a805516d1d",
     "outputs": [
      {
       "data": {
        "text/plain": "0.085"
       },
       "execution_count": 30,
       "metadata": {},
       "output_type": "execute_result"
      }
     ],
     "persistentId": "ab105214-c503-4786-9af2-7a45ea48211b",
     "text": "MW_StellarMass = np.around(GalaxyMass(2,'MW_000.txt')+GalaxyMass(3,'MW_000.txt'),3)\nMW_StellarMass"
    },
    "executionTime": "2020-02-05T21:11:33.518Z"
   },
   {
    "cell": {
     "executionCount": 31,
     "executionEventId": "80d9a6e5-383d-4fa2-aa75-865396309f57",
     "hasError": false,
     "id": "7bb586cd-8922-45e1-9381-7860ecb446fb",
     "outputs": [
      {
       "data": {
        "text/plain": "0.041"
       },
       "execution_count": 31,
       "metadata": {},
       "output_type": "execute_result"
      }
     ],
     "persistentId": "04e4356d-0b67-4e6e-898e-7866065597d6",
     "text": "MW_fbar = np.around(MW_StellarMass/MW_TotalMass,3)\nMW_fbar"
    },
    "executionTime": "2020-02-05T21:11:46.783Z"
   },
   {
    "cell": {
     "executionCount": 32,
     "executionEventId": "80d91deb-004a-4df5-a78e-b04f22f84362",
     "hasError": false,
     "id": "4a44e28a-aee0-40c6-b63e-ff272d14b335",
     "outputs": [
      {
       "data": {
        "text/plain": "1.921"
       },
       "execution_count": 32,
       "metadata": {},
       "output_type": "execute_result"
      }
     ],
     "persistentId": "599cdac3-1bff-420e-9236-9eeca0ebdafb",
     "text": "GalaxyMass(1,'M31_000.txt')"
    },
    "executionTime": "2020-02-05T21:12:09.309Z"
   },
   {
    "cell": {
     "executionCount": 33,
     "executionEventId": "8b1c7b1e-bcfe-4cd7-a0d9-eeebc6641030",
     "hasError": false,
     "id": "e0940a1e-6d5b-443d-87a1-0e3a696a51e0",
     "outputs": [
      {
       "data": {
        "text/plain": "0.12"
       },
       "execution_count": 33,
       "metadata": {},
       "output_type": "execute_result"
      }
     ],
     "persistentId": "bcd0f9f6-2da5-4751-ace6-d4b06550d82d",
     "text": "GalaxyMass(2,'M31_000.txt')"
    },
    "executionTime": "2020-02-05T21:12:22.518Z"
   },
   {
    "cell": {
     "executionCount": 34,
     "executionEventId": "e73e737e-b4b6-421e-bc3c-cd765d3aaec3",
     "hasError": false,
     "id": "abf81eef-baa5-4b9e-8c96-2b14fbabf72c",
     "outputs": [
      {
       "data": {
        "text/plain": "0.019"
       },
       "execution_count": 34,
       "metadata": {},
       "output_type": "execute_result"
      }
     ],
     "persistentId": "42b3d5c3-545b-448c-b1ac-784cdd1b7aa1",
     "text": "GalaxyMass(3,'M31_000.txt')"
    },
    "executionTime": "2020-02-05T21:12:28.216Z"
   },
   {
    "cell": {
     "executionCount": 35,
     "executionEventId": "ba2e2c36-b683-445d-9546-73a299fdd224",
     "hasError": false,
     "id": "1bb6b920-6f38-46d6-a57a-6fc373f7346e",
     "outputs": [
      {
       "data": {
        "text/plain": "2.06"
       },
       "execution_count": 35,
       "metadata": {},
       "output_type": "execute_result"
      }
     ],
     "persistentId": "afa68320-349f-424b-bcba-cb21f3ec0a1b",
     "text": "M31_TotalMass = GalaxyMass(1,'M31_000.txt')+ GalaxyMass(2,'M31_000.txt')+GalaxyMass(3,'M31_000.txt')\nM31_TotalMass"
    },
    "executionTime": "2020-02-05T21:12:59.618Z"
   },
   {
    "cell": {
     "executionCount": 36,
     "executionEventId": "29aead53-4c45-4c19-a866-2046d9f670fe",
     "hasError": false,
     "id": "dfad3b9e-2208-4b69-91a6-5180a232c1e1",
     "outputs": [
      {
       "data": {
        "text/plain": "2.06"
       },
       "execution_count": 36,
       "metadata": {},
       "output_type": "execute_result"
      }
     ],
     "persistentId": "9513bc94-b601-40fd-9331-88f623887687",
     "text": "1.921+0.12+0.019"
    },
    "executionTime": "2020-02-05T21:13:19.826Z"
   },
   {
    "cell": {
     "executionCount": 37,
     "executionEventId": "22ce5011-13e2-424c-b182-94943fb05738",
     "hasError": false,
     "id": "dfad3b9e-2208-4b69-91a6-5180a232c1e1",
     "outputs": [],
     "persistentId": "9513bc94-b601-40fd-9331-88f623887687",
     "text": "M31_StellarMass = np.around(GalaxyMass(2,'M31_000.txt')+GalaxyMass(3,'M31_000.txt'),3)"
    },
    "executionTime": "2020-02-05T21:13:48.420Z"
   },
   {
    "cell": {
     "executionCount": 38,
     "executionEventId": "e1068aa5-1331-48e4-9bd2-401b5a4a1536",
     "hasError": false,
     "id": "dfad3b9e-2208-4b69-91a6-5180a232c1e1",
     "outputs": [
      {
       "data": {
        "text/plain": "0.139"
       },
       "execution_count": 38,
       "metadata": {},
       "output_type": "execute_result"
      }
     ],
     "persistentId": "9513bc94-b601-40fd-9331-88f623887687",
     "text": "M31_StellarMass = np.around(GalaxyMass(2,'M31_000.txt')+GalaxyMass(3,'M31_000.txt'),3)\nM31_StellarMass"
    },
    "executionTime": "2020-02-05T21:13:59.340Z"
   },
   {
    "cell": {
     "executionCount": 39,
     "executionEventId": "edd3d892-a4d7-4691-a5c5-f28c72fed543",
     "hasError": false,
     "id": "f349630f-387d-464c-89f7-ad85a9aa794e",
     "outputs": [
      {
       "data": {
        "text/plain": "0.067"
       },
       "execution_count": 39,
       "metadata": {},
       "output_type": "execute_result"
      }
     ],
     "persistentId": "6dc612db-218f-4b0b-bc25-c4d426b02628",
     "text": "M31_fbar = np.around(M31_StellarMass/M31_TotalMass,3)\nM31_fbar"
    },
    "executionTime": "2020-02-05T21:14:19.009Z"
   },
   {
    "cell": {
     "executionCount": 40,
     "executionEventId": "7fbfd415-6dc3-4982-8f1b-cc39b60034e8",
     "hasError": false,
     "id": "4a44e28a-aee0-40c6-b63e-ff272d14b335",
     "outputs": [
      {
       "data": {
        "text/plain": "1.921"
       },
       "execution_count": 40,
       "metadata": {},
       "output_type": "execute_result"
      }
     ],
     "persistentId": "599cdac3-1bff-420e-9236-9eeca0ebdafb",
     "text": "GalaxyMass(1,'M31_000.txt')"
    },
    "executionTime": "2020-02-05T21:14:35.849Z"
   },
   {
    "cell": {
     "executionCount": 41,
     "executionEventId": "a4b6622e-69fb-4ebe-96e8-0ff4c7056a27",
     "hasError": false,
     "id": "9a7835f3-229e-41b5-bdf0-672d0e1aa37a",
     "outputs": [
      {
       "data": {
        "text/plain": "0.187"
       },
       "execution_count": 41,
       "metadata": {},
       "output_type": "execute_result"
      }
     ],
     "persistentId": "a388e232-7380-41fe-b3bd-cf6c066bb101",
     "text": "GalaxyMass(1,'M33_000.txt')"
    },
    "executionTime": "2020-02-05T21:14:53.898Z"
   },
   {
    "cell": {
     "executionCount": 42,
     "executionEventId": "5af94db3-04d2-489f-ad80-e2f89333a133",
     "hasError": false,
     "id": "470de635-ce33-4435-9375-97f2531be772",
     "outputs": [
      {
       "data": {
        "text/plain": "0.009"
       },
       "execution_count": 42,
       "metadata": {},
       "output_type": "execute_result"
      }
     ],
     "persistentId": "2bb1e8b3-ce68-4f65-af87-3d99e6861a6e",
     "text": "GalaxyMass(2,'M33_000.txt')"
    },
    "executionTime": "2020-02-05T21:15:00.570Z"
   },
   {
    "cell": {
     "executionCount": 43,
     "executionEventId": "1392cce9-ec78-4e7e-a978-bdc305d481df",
     "hasError": false,
     "id": "9b066186-a4e1-4479-aae7-ecbe76160ef5",
     "outputs": [
      {
       "data": {
        "text/plain": "0.0"
       },
       "execution_count": 43,
       "metadata": {},
       "output_type": "execute_result"
      }
     ],
     "persistentId": "0d1e81e2-507d-4926-abce-1d1d729b101b",
     "text": "GalaxyMass(3,'M33_000.txt')"
    },
    "executionTime": "2020-02-05T21:15:05.094Z"
   },
   {
    "cell": {
     "executionCount": 44,
     "executionEventId": "facc725f-a8e4-4200-9def-728b95cec71d",
     "hasError": false,
     "id": "9b066186-a4e1-4479-aae7-ecbe76160ef5",
     "outputs": [
      {
       "data": {
        "text/plain": "0.0"
       },
       "execution_count": 44,
       "metadata": {},
       "output_type": "execute_result"
      }
     ],
     "persistentId": "0d1e81e2-507d-4926-abce-1d1d729b101b",
     "text": "GalaxyMass(3,'M33_000.txt')"
    },
    "executionTime": "2020-02-05T21:15:13.030Z"
   },
   {
    "cell": {
     "executionCount": 45,
     "executionEventId": "f012fb06-54d1-4c44-a5ee-290def5bc2d2",
     "hasError": false,
     "id": "10787115-30b6-4083-86db-458180785838",
     "outputs": [
      {
       "data": {
        "text/plain": "0.196"
       },
       "execution_count": 45,
       "metadata": {},
       "output_type": "execute_result"
      }
     ],
     "persistentId": "7f787969-5e36-495c-abef-e4a9d00556e9",
     "text": "M33_TotalMass = GalaxyMass(1,'M33_000.txt')+ GalaxyMass(2,'M33_000.txt')+GalaxyMass(3,'M33_000.txt')\nM33_TotalMass"
    },
    "executionTime": "2020-02-05T21:15:30.130Z"
   },
   {
    "cell": {
     "executionCount": 46,
     "executionEventId": "58431a57-e02d-4bb9-8580-790416843acb",
     "hasError": false,
     "id": "90157cee-dcb8-4b67-a1ff-07e9ea9fe8d8",
     "outputs": [
      {
       "data": {
        "text/plain": "0.009"
       },
       "execution_count": 46,
       "metadata": {},
       "output_type": "execute_result"
      }
     ],
     "persistentId": "30869eb6-0f60-440a-b51b-17a29f3dcf7d",
     "text": "M33_StellarMass = np.around(GalaxyMass(2,'M33_000.txt')+GalaxyMass(3,'M33_000.txt'),3)\nM33_StellarMass"
    },
    "executionTime": "2020-02-05T21:15:48.493Z"
   },
   {
    "cell": {
     "executionCount": 47,
     "executionEventId": "52c9955d-eb20-4979-bba6-f411e52cc68f",
     "hasError": false,
     "id": "2a2c0029-d77c-4bfe-b131-2b46a6a5ae23",
     "outputs": [
      {
       "data": {
        "text/plain": "0.046"
       },
       "execution_count": 47,
       "metadata": {},
       "output_type": "execute_result"
      }
     ],
     "persistentId": "86e020dd-58cc-4b12-8094-e9346fd1d748",
     "text": "M33_fbar = np.around(M33_StellarMass/M33_TotalMass,3)\nM33_fbar"
    },
    "executionTime": "2020-02-05T21:16:02.176Z"
   },
   {
    "cell": {
     "executionCount": 48,
     "executionEventId": "b3e257dc-2fc9-48c8-96f2-b632eb7a5384",
     "hasError": false,
     "id": "13c20c2d-437d-4512-9f5c-5e2692a3ed64",
     "outputs": [],
     "persistentId": "fd2b5bb9-711a-423d-b7ce-0e0780cd3504",
     "text": "MW_DarkTotalRatio = np.around(GalaxyMass(1,'MW_000.txt')/MW_TotalMass)\n"
    },
    "executionTime": "2020-02-05T21:43:52.028Z"
   },
   {
    "cell": {
     "executionCount": 49,
     "executionEventId": "7915f05a-d1d4-4b9d-b61f-f4bcb8ad06ec",
     "hasError": false,
     "id": "13c20c2d-437d-4512-9f5c-5e2692a3ed64",
     "outputs": [
      {
       "data": {
        "text/plain": "1.0"
       },
       "execution_count": 49,
       "metadata": {},
       "output_type": "execute_result"
      }
     ],
     "persistentId": "fd2b5bb9-711a-423d-b7ce-0e0780cd3504",
     "text": "MW_DarkTotalRatio = np.around(GalaxyMass(1,'MW_000.txt')/MW_TotalMass)\nMW_DarkTotalRatio"
    },
    "executionTime": "2020-02-05T21:43:57.945Z"
   },
   {
    "cell": {
     "executionCount": 50,
     "executionEventId": "df649c8f-2c68-42a4-b40d-b96f712f37cb",
     "hasError": false,
     "id": "311b810d-f1c2-41f8-9eed-2a5c595d2713",
     "outputs": [
      {
       "data": {
        "text/plain": "1.0"
       },
       "execution_count": 50,
       "metadata": {},
       "output_type": "execute_result"
      }
     ],
     "persistentId": "b46d74bb-1aed-48bc-8b19-206b3996d33c",
     "text": "M31_DarkTotalRatio = np.around(GalaxyMass(1,'M31_000.txt')/M31_TotalMass)\nM31_DarkTotalRatio"
    },
    "executionTime": "2020-02-05T21:44:19.226Z"
   },
   {
    "cell": {
     "executionCount": 51,
     "executionEventId": "56b97088-6481-48e6-9138-4d2101174844",
     "hasError": false,
     "id": "13c20c2d-437d-4512-9f5c-5e2692a3ed64",
     "outputs": [
      {
       "data": {
        "text/plain": "1.028110359187923"
       },
       "execution_count": 51,
       "metadata": {},
       "output_type": "execute_result"
      }
     ],
     "persistentId": "fd2b5bb9-711a-423d-b7ce-0e0780cd3504",
     "text": "GalaxyMass(1,'MW_000.txt')/GalaxyMass(1,'M31_000.txt')"
    },
    "executionTime": "2020-02-05T21:45:52.378Z"
   }
  ],
  "kernelspec": {
   "display_name": "Python 3",
   "language": "python",
   "name": "python3"
  },
  "language_info": {
   "codemirror_mode": {
    "name": "ipython",
    "version": 3
   },
   "file_extension": ".py",
   "mimetype": "text/x-python",
   "name": "python",
   "nbconvert_exporter": "python",
   "pygments_lexer": "ipython3",
   "version": "3.6.7"
  },
  "uuid": "8e5838ce-ff63-467d-a44b-a160b3c26a09"
 },
 "nbformat": 4,
 "nbformat_minor": 4
}
