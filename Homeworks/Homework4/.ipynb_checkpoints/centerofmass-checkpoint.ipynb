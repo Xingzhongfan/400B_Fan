{
 "cells": [
  {
   "cell_type": "code",
   "execution_count": null,
   "metadata": {
    "persistent_id": "930e7aa6-66f8-4da9-af05-54e7754e7c19"
   },
   "outputs": [],
   "source": [
    "# Homework 4\n",
    "# Center of Mass Position and Velocity\n",
    "# Xingzhong Fan"
   ]
  },
  {
   "cell_type": "markdown",
   "metadata": {},
   "source": [
    "### Keep in mind this is just a template; you don't need to follow every step and feel free to change anything.\n",
    "### We also strongly encourage you to try to develop your own method to solve the homework."
   ]
  },
  {
   "cell_type": "code",
   "execution_count": 1,
   "metadata": {
    "ExecuteTime": {
     "end_time": "2020-02-04T23:59:21.657237Z",
     "start_time": "2020-02-04T23:59:21.653687Z"
    },
    "execution_event_id": "7b67e858-94ea-49ac-87ce-733e6a4b0c14",
    "last_executed_text": "# import modules\nimport numpy as np\nimport astropy.units as u\nimport astropy.table as tbl\n\nfrom ReadFile import Read",
    "persistent_id": "2971e8f1-8a7a-4f21-bb24-d0f65041fdc9"
   },
   "outputs": [],
   "source": [
    "# import modules\n",
    "import numpy as np\n",
    "import astropy.units as u\n",
    "import astropy.table as tbl\n",
    "\n",
    "from ReadFile import Read"
   ]
  },
  {
   "cell_type": "code",
   "execution_count": 142,
   "metadata": {
    "ExecuteTime": {
     "end_time": "2020-02-04T23:59:24.003059Z",
     "start_time": "2020-02-04T23:59:23.979271Z"
    },
    "execution_event_id": "0ab06c52-0fa7-4eae-ac02-ae07c6d2dfa0",
    "last_executed_text": "class CenterOfMass:\n# Class to define COM position and velocity properties of a given galaxy \n# and simulation snapshot\n    \n    \n    def __init__(self, filename, ptype):\n    # Initialize the instance of this Class with the following properties:\n    \n        # read data in the given file using Read\n        self.time, self.total, self.data = Read(filename)                                                                                             \n\n        #create an array to store indexes of particles of desired Ptype                                \n        self.index = np.where(self.data['type'] == ptype)\n\n        # store the mass, positions, velocities of only the particles of the given type\n        # the following only gives the example of storing the mass\n        # self.m = self.data['m'][self.index]\n        # write your own code to complete this for positions and velocities\n        self.m = self.data['m'][self.index]\n        self.x = self.data['x'][self.index]\n        self.y = self.data['y'][self.index]\n        self.z = self.data['z'][self.index]\n        self.vx = self.data['vx'][self.index]\n        self.vy = self.data['vy'][self.index]\n        self.vz = self.data['vz'][self.index]\n\n\n    def COMdefine(self,a,b,c,m):\n    # Function to compute the center of mass position or velocity generically\n    # input: array (a,b,c) of positions or velocities and the mass\n    # returns: 3 floats  (the center of mass coordinates)\n\n        # write your own code to compute the generic COM using Eq. 1 in the homework instructions\n        # xcomponent Center of mass\n        Acom = np.sum(a*m)/np.sum(m)\n        # ycomponent Center of mass\n        Bcom = np.sum(b*m)/np.sum(m)\n        # zcomponent Center of mass\n        Ccom = np.sum(c*m)/np.sum(m)\n        \n        return Acom, Bcom, Ccom\n    \n    \n    def COM_P(self, delta):\n    # Function to specifically return the center of mass position and velocity                                         \n    # input:                                                                                                           \n    #        particle type (1,2,3)                                                                                     \n    #        delta (tolerance)                                                                                         \n    # returns: One vector, with rows indicating:                                                                                                                                                                            \n    #       3D coordinates of the center of mass position (kpc)                                                             \n\n        # Center of Mass Position                                                                                      \n        ###########################                                                                                    \n\n        # Try a first guess at the COM position by calling COMdefine                                                   \n        XCOM, YCOM, ZCOM = self.COMdefine(self.x, self.y, self.z, self.m)\n        # compute the magnitude of the COM position vector.\n        # write your own code below\n        RCOM = np.sqrt(XCOM**2+YCOM**2+ZCOM**2)\n\n        # iterative process to determine the center of mass                                                            \n\n        # change reference frame to COM frame                                                                          \n        # compute the difference between particle coordinates                                                          \n        # and the first guess at COM position\n        # write your own code below\n        xNew = self.x - XCOM\n        yNew = self.y - YCOM\n        zNew = self.z - ZCOM\n        RNEW = np.sqrt(self.x**2+self.y**2+self.z**2) - RCOM\n\n        # find the max 3D distance of all particles from the guessed COM                                               \n        # will re-start at half that radius (reduced radius)                                                           \n        RMAX = max(RNEW)/2.0\n        \n        # pick an initial value for the change in COM position                                                      \n        # between the first guess above and the new one computed from half that volume\n        # it should be larger than the input tolerance (delta) initially\n        CHANGE = 1000.0\n\n        # start iterative process to determine center of mass position                                                 \n        # delta is the tolerance for the difference in the old COM and the new one.    \n        \n        while (CHANGE > delta):\n            # select all particles within the reduced radius (starting from original x,y,z, m)\n            # write your own code below (hints, use np.where)\n            index2 = np.where(np.sqrt(xNew**2+yNew**2+zNew**2) <= RMAX)\n            x2 = self.data['x'][index2]\n            y2 = self.data['y'][index2]\n            z2 = self.data['z'][index2]\n            m2 = self.data['m'][index2]\n\n            # Refined COM position:                                                                                    \n            # compute the center of mass position using                                                                \n            # the particles in the reduced radius\n            # write your own code below\n            XCOM2, YCOM2, ZCOM2 = self.COMdefine(x2, y2, z2, m2)\n            # compute the new 3D COM position\n            # write your own code below\n            RCOM2 = np.sqrt(XCOM2**2+YCOM2**2+ZCOM2**2)\n            # determine the difference between the previous center of mass position                                    \n            # and the new one.                                                                                         \n            CHANGE = np.abs(RCOM - RCOM2)\n\n            # uncomment the following line if you wnat to check this                                                                                               \n            # print (\"CHANGE = \", CHANGE)                                                                                     \n\n            # Before loop continues, reset : RMAX, particle separations and COM                                        \n\n            # reduce the volume by a factor of 2 again                                                                 \n            RMAX = RMAX/2.0\n            # check this.                                                                                              \n            #print (\"maxR\", RMAX)                                                                                      \n\n            # Change the frame of reference to the newly computed COM.                                                 \n            # subtract the new COM\n            # write your own code below\n            xNew = self.data['x'] - XCOM2\n            yNew = self.data['y'] - YCOM2\n            zNew = self.data['z'] - ZCOM2\n            RNEW = np.sqrt(x2**2+y2**2+z2**2) - RCOM2\n\n            # set the center of mass positions to the refined values                                                   \n            XCOM = XCOM2\n            YCOM = YCOM2\n            ZCOM = ZCOM2\n            RCOM = RCOM2\n\n            # create a vector to store the COM position                                                                                                                                                       \n            COMP = [XCOM, YCOM, ZCOM]\n\n        # set the correct units using astropy and round all values\n        # and then return the COM positon vector\n        # write your own code below\n        \n        XCOM = XCOM*u.kpc\n        YCOM = YCOM*u.kpc\n        ZCOM = ZCOM*u.kpc\n        COMP = np.round(COMP*u.kpc,2)\n    \n        return COMP\n\n    def COM_V(self, COMX,COMY,COMZ):\n        # Center of Mass velocity\n        # input: X, Y, Z positions of the COM\n        # returns 3D Vector of COM Velocities\n        \n        # the max distance from the center that we will use to determine the center of mass velocity                   \n        RVMAX = 15.0*u.kpc\n\n        # determine the position of all particles relative to the center of mass position\n        # write your own code below\n        xV = self.x*u.kpc - COMX\n        yV = self.y*u.kpc - COMY\n        zV = self.z*u.kpc - COMZ\n        RV = np.sqrt(xV**2+yV**2+zV**2)\n        \n        # determine the index for those particles within the max radius\n        # write your own code below\n        indexV = np.where(RV < RVMAX)\n        \n        # determine the velocity and mass of those particles within the mas radius\n        # write your own code below\n        vxnew = self.data['vx'][indexV]\n        vynew = self.data['vy'][indexV]\n        vznew = self.data['vz'][indexV]\n        mnew = self.data['m'][indexV]  \n        \n        \n        # compute the center of mass velocity using those particles\n        # write your own code below\n        VXCOM, VYCOM, VZCOM = self.COMdefine(vxnew, vynew, vznew, mnew)\n\n        # create a vector to store the COM velocity\n        # set the correct units usint astropy\n        # round all values\n        # write your own code below\n        COMV = np.round([VXCOM, VYCOM, VZCOM],2)*u.km/u.s\n\n        # return the COM vector                                                                                        \n        return COMV",
    "persistent_id": "3f3a5cb8-663d-4322-a77a-bde24cf50cec"
   },
   "outputs": [],
   "source": [
    "class CenterOfMass:\n",
    "# Class to define COM position and velocity properties of a given galaxy \n",
    "# and simulation snapshot\n",
    "    \n",
    "    \n",
    "    def __init__(self, filename, ptype):\n",
    "    # Initialize the instance of this Class with the following properties:\n",
    "    \n",
    "        # read data in the given file using Read\n",
    "        self.time, self.total, self.data = Read(filename)                                                                                             \n",
    "\n",
    "        #create an array to store indexes of particles of desired Ptype                                \n",
    "        self.index = np.where(self.data['type'] == ptype)\n",
    "\n",
    "        # store the mass, positions, velocities of only the particles of the given type\n",
    "        # the following only gives the example of storing the mass\n",
    "        # self.m = self.data['m'][self.index]\n",
    "        # write your own code to complete this for positions and velocities\n",
    "        self.m = self.data['m'][self.index]\n",
    "        self.x = self.data['x'][self.index]\n",
    "        self.y = self.data['y'][self.index]\n",
    "        self.z = self.data['z'][self.index]\n",
    "        self.vx = self.data['vx'][self.index]\n",
    "        self.vy = self.data['vy'][self.index]\n",
    "        self.vz = self.data['vz'][self.index]\n",
    "\n",
    "\n",
    "    def COMdefine(self,a,b,c,m):\n",
    "    # Function to compute the center of mass position or velocity generically\n",
    "    # input: array (a,b,c) of positions or velocities and the mass\n",
    "    # returns: 3 floats  (the center of mass coordinates)\n",
    "\n",
    "        # write your own code to compute the generic COM using Eq. 1 in the homework instructions\n",
    "        # xcomponent Center of mass\n",
    "        Acom = np.sum(a*m)/np.sum(m)\n",
    "        # ycomponent Center of mass\n",
    "        Bcom = np.sum(b*m)/np.sum(m)\n",
    "        # zcomponent Center of mass\n",
    "        Ccom = np.sum(c*m)/np.sum(m)\n",
    "        \n",
    "        return Acom, Bcom, Ccom\n",
    "    \n",
    "    \n",
    "    def COM_P(self, delta):\n",
    "    # Function to specifically return the center of mass position and velocity                                         \n",
    "    # input:                                                                                                           \n",
    "    #        particle type (1,2,3)                                                                                     \n",
    "    #        delta (tolerance)                                                                                         \n",
    "    # returns: One vector, with rows indicating:                                                                                                                                                                            \n",
    "    #       3D coordinates of the center of mass position (kpc)                                                             \n",
    "\n",
    "        # Center of Mass Position                                                                                      \n",
    "        ###########################                                                                                    \n",
    "\n",
    "        # Try a first guess at the COM position by calling COMdefine                                                   \n",
    "        XCOM, YCOM, ZCOM = self.COMdefine(self.x, self.y, self.z, self.m)\n",
    "        # compute the magnitude of the COM position vector.\n",
    "        # write your own code below\n",
    "        RCOM = np.sqrt(XCOM**2+YCOM**2+ZCOM**2)\n",
    "\n",
    "        # iterative process to determine the center of mass                                                            \n",
    "\n",
    "        # change reference frame to COM frame                                                                          \n",
    "        # compute the difference between particle coordinates                                                          \n",
    "        # and the first guess at COM position\n",
    "        # write your own code below\n",
    "        xNew = self.x - XCOM\n",
    "        yNew = self.y - YCOM\n",
    "        zNew = self.z - ZCOM\n",
    "        RNEW = np.sqrt(self.x**2+self.y**2+self.z**2) - RCOM\n",
    "\n",
    "        # find the max 3D distance of all particles from the guessed COM                                               \n",
    "        # will re-start at half that radius (reduced radius)                                                           \n",
    "        RMAX = max(RNEW)/2.0\n",
    "        \n",
    "        # pick an initial value for the change in COM position                                                      \n",
    "        # between the first guess above and the new one computed from half that volume\n",
    "        # it should be larger than the input tolerance (delta) initially\n",
    "        CHANGE = 1000.0\n",
    "\n",
    "        # start iterative process to determine center of mass position                                                 \n",
    "        # delta is the tolerance for the difference in the old COM and the new one.    \n",
    "        \n",
    "        while (CHANGE > delta):\n",
    "            # select all particles within the reduced radius (starting from original x,y,z, m)\n",
    "            # write your own code below (hints, use np.where)\n",
    "            index2 = np.where(np.sqrt(xNew**2+yNew**2+zNew**2) <= RMAX)\n",
    "            x2 = self.data['x'][index2]\n",
    "            y2 = self.data['y'][index2]\n",
    "            z2 = self.data['z'][index2]\n",
    "            m2 = self.data['m'][index2]\n",
    "\n",
    "            # Refined COM position:                                                                                    \n",
    "            # compute the center of mass position using                                                                \n",
    "            # the particles in the reduced radius\n",
    "            # write your own code below\n",
    "            XCOM2, YCOM2, ZCOM2 = self.COMdefine(x2, y2, z2, m2)\n",
    "            # compute the new 3D COM position\n",
    "            # write your own code below\n",
    "            RCOM2 = np.sqrt(XCOM2**2+YCOM2**2+ZCOM2**2)\n",
    "            # determine the difference between the previous center of mass position                                    \n",
    "            # and the new one.                                                                                         \n",
    "            CHANGE = np.abs(RCOM - RCOM2)\n",
    "\n",
    "            # uncomment the following line if you wnat to check this                                                                                               \n",
    "            # print (\"CHANGE = \", CHANGE)                                                                                     \n",
    "\n",
    "            # Before loop continues, reset : RMAX, particle separations and COM                                        \n",
    "\n",
    "            # reduce the volume by a factor of 2 again                                                                 \n",
    "            RMAX = RMAX/2.0\n",
    "            # check this.                                                                                              \n",
    "            #print (\"maxR\", RMAX)                                                                                      \n",
    "\n",
    "            # Change the frame of reference to the newly computed COM.                                                 \n",
    "            # subtract the new COM\n",
    "            # write your own code below\n",
    "            xNew = self.data['x'] - XCOM2\n",
    "            yNew = self.data['y'] - YCOM2\n",
    "            zNew = self.data['z'] - ZCOM2\n",
    "            RNEW = np.sqrt(x2**2+y2**2+z2**2) - RCOM2\n",
    "\n",
    "            # set the center of mass positions to the refined values                                                   \n",
    "            XCOM = XCOM2\n",
    "            YCOM = YCOM2\n",
    "            ZCOM = ZCOM2\n",
    "            RCOM = RCOM2\n",
    "\n",
    "            # create a vector to store the COM position                                                                                                                                                       \n",
    "            COMP = [XCOM, YCOM, ZCOM]\n",
    "\n",
    "        # set the correct units using astropy and round all values\n",
    "        # and then return the COM positon vector\n",
    "        # write your own code below\n",
    "        \n",
    "        XCOM = XCOM*u.kpc\n",
    "        YCOM = YCOM*u.kpc\n",
    "        ZCOM = ZCOM*u.kpc\n",
    "        COMP = np.round(COMP*u.kpc,2)\n",
    "    \n",
    "        return COMP\n",
    "\n",
    "    def COM_V(self, COMX,COMY,COMZ):\n",
    "        # Center of Mass velocity\n",
    "        # input: X, Y, Z positions of the COM\n",
    "        # returns 3D Vector of COM Velocities\n",
    "        \n",
    "        # the max distance from the center that we will use to determine the center of mass velocity                   \n",
    "        RVMAX = 15.0*u.kpc\n",
    "\n",
    "        # determine the position of all particles relative to the center of mass position\n",
    "        # write your own code below\n",
    "        xV = self.x*u.kpc - COMX\n",
    "        yV = self.y*u.kpc - COMY\n",
    "        zV = self.z*u.kpc - COMZ\n",
    "        RV = np.sqrt(xV**2+yV**2+zV**2)\n",
    "        \n",
    "        # determine the index for those particles within the max radius\n",
    "        # write your own code below\n",
    "        indexV = np.where(RV < RVMAX)\n",
    "        \n",
    "        # determine the velocity and mass of those particles within the mas radius\n",
    "        # write your own code below\n",
    "        vxnew = self.data['vx'][indexV]\n",
    "        vynew = self.data['vy'][indexV]\n",
    "        vznew = self.data['vz'][indexV]\n",
    "        mnew = self.data['m'][indexV]  \n",
    "        \n",
    "        \n",
    "        # compute the center of mass velocity using those particles\n",
    "        # write your own code below\n",
    "        VXCOM, VYCOM, VZCOM = self.COMdefine(vxnew, vynew, vznew, mnew)\n",
    "\n",
    "        # create a vector to store the COM velocity\n",
    "        # set the correct units usint astropy\n",
    "        # round all values\n",
    "        # write your own code below\n",
    "        COMV = np.round([VXCOM, VYCOM, VZCOM],2)*u.km/u.s\n",
    "\n",
    "        # return the COM vector                                                                                        \n",
    "        return COMV"
   ]
  },
  {
   "cell_type": "markdown",
   "metadata": {
    "ExecuteTime": {
     "end_time": "2020-02-04T23:59:30.160978Z",
     "start_time": "2020-02-04T23:59:26.220455Z"
    },
    "execution_event_id": "6c0f122e-0ba4-4e28-8f0c-481ea6434974",
    "last_executed_text": "# Create a Center of mass object for the MW, M31 and M33\n# below is an example of using the class for MW\nMWCOM = CenterOfMass(\"MW_000.txt\", 2)",
    "persistent_id": "1925e6a4-0327-430a-b39d-4ebbd7201e33"
   },
   "source": [
    "# Create a Center of mass object for the MW, M31 and M33\n",
    "# Qustion 1"
   ]
  },
  {
   "cell_type": "code",
   "execution_count": 144,
   "metadata": {
    "ExecuteTime": {
     "end_time": "2020-02-04T23:59:30.820428Z",
     "start_time": "2020-02-04T23:59:30.761163Z"
    },
    "execution_event_id": "a41a66e7-920c-48d2-a44b-1f36549a285e",
    "last_executed_text": "# below gives you an example of calling the class's functions\n# MW:   store the position and velocity COM\nMWCOM = CenterOfMass(\"MW_000.txt\", 2)\nMW_COMP = MWCOM.COM_P(0.1)\nprint(MW_COMP)\nMW_COMV = MWCOM.COM_V(MW_COMP[0], MW_COMP[1], MW_COMP[2])\nprint(MW_COMV)",
    "persistent_id": "d9be1b5b-cc5b-4d53-bbf7-2deedeca2731"
   },
   "outputs": [
    {
     "name": "stdout",
     "output_type": "stream",
     "text": [
      "[-2.05  2.95 -1.45] kpc\n",
      "[-0.03  0.81 -0.94] km / s\n"
     ]
    }
   ],
   "source": [
    "# below gives you an example of calling the class's functions\n",
    "# MW:   store the position and velocity COM\n",
    "MWCOM = CenterOfMass(\"MW_000.txt\", 2)\n",
    "MW_COMP = MWCOM.COM_P(0.1)\n",
    "print(MW_COMP)\n",
    "MW_COMV = MWCOM.COM_V(MW_COMP[0], MW_COMP[1], MW_COMP[2])\n",
    "print(MW_COMV)"
   ]
  },
  {
   "cell_type": "code",
   "execution_count": 145,
   "metadata": {
    "execution_event_id": "619cabaf-0a16-4204-bf2d-51e0ba132440",
    "last_executed_text": "# now write your own code to answer questions\nM31COM = CenterOfMass(\"M31_000.txt\", 2)\nM31_COMP = M31COM.COM_P(0.1)\nprint(M31_COMP)\nM31_COMV = M31COM.COM_V(M31_COMP[0], M31_COMP[1], M31_COMP[2])\nprint(M31_COMV)",
    "persistent_id": "966ff13b-1221-44fb-ac73-7a97eddb14fb"
   },
   "outputs": [
    {
     "name": "stdout",
     "output_type": "stream",
     "text": [
      "[-377.03  611.   -284.5 ] kpc\n",
      "[ 73.67 -70.83  50.76] km / s\n"
     ]
    }
   ],
   "source": [
    "# now write your own code to answer questions\n",
    "M31COM = CenterOfMass(\"M31_000.txt\", 2)\n",
    "M31_COMP = M31COM.COM_P(0.1)\n",
    "print(M31_COMP)\n",
    "M31_COMV = M31COM.COM_V(M31_COMP[0], M31_COMP[1], M31_COMP[2])\n",
    "print(M31_COMV)"
   ]
  },
  {
   "cell_type": "code",
   "execution_count": 146,
   "metadata": {
    "execution_event_id": "6c1d07ce-a524-4b5d-9e19-a84ca1453c0e",
    "last_executed_text": "M33COM = CenterOfMass(\"M33_000.txt\", 2)\nM33_COMP = M33COM.COM_P(0.1)\nprint(M33_COMP)\nM33_COMV = M33COM.COM_V(M33_COMP[0], M33_COMP[1], M33_COMP[2])\nprint(M33_COMV)",
    "persistent_id": "69daf229-8f48-4d35-a241-46e3fe8889c2"
   },
   "outputs": [
    {
     "name": "stdout",
     "output_type": "stream",
     "text": [
      "[-477.94  487.69 -407.83] kpc\n",
      "[ 43.84 101.46 139.15] km / s\n"
     ]
    }
   ],
   "source": [
    "M33COM = CenterOfMass(\"M33_000.txt\", 2)\n",
    "M33_COMP = M33COM.COM_P(0.1)\n",
    "print(M33_COMP)\n",
    "M33_COMV = M33COM.COM_V(M33_COMP[0], M33_COMP[1], M33_COMP[2])\n",
    "print(M33_COMV)"
   ]
  },
  {
   "cell_type": "markdown",
   "metadata": {
    "execution_event_id": "86e11c83-2553-48a7-b88c-54ab8adce018",
    "last_executed_text": "M33_COMV = M31COM.COM_V(-477.9356*u.kpc, 487.6864*u.kpc, -407.83*u.kpc)\nprint(M33_COMV)",
    "persistent_id": "efaead56-e4f2-4e0c-8bf0-f9e50442409a"
   },
   "source": [
    "# Qustion 2"
   ]
  },
  {
   "cell_type": "code",
   "execution_count": 149,
   "metadata": {
    "execution_event_id": "fcf951f8-1068-4790-bffd-4e571d80073a",
    "last_executed_text": "MW_31_vx_diff = MW_COMV[0] - M31_COMV[0]\nMW_31_vy_diff = MW_COMV[1] - M31_COMV[1]\nMW_31_vz_diff = MW_COMV[2] - M31_COMV[2]\nMW_31_3Dv_diff = np.round(np.sqrt(MW_31_vx_diff**2+MW_31_vy_diff**2+MW_31_vz_diff**2),3)\nprint(MW_31_3Dv_diff)",
    "persistent_id": "6984e14d-04a0-43f9-ad11-92121e14a0d5"
   },
   "outputs": [
    {
     "name": "stdout",
     "output_type": "stream",
     "text": [
      "115.052 km / s\n"
     ]
    }
   ],
   "source": [
    "MW_31_vx_diff = MW_COMV[0] - M31_COMV[0]\n",
    "MW_31_vy_diff = MW_COMV[1] - M31_COMV[1]\n",
    "MW_31_vz_diff = MW_COMV[2] - M31_COMV[2]\n",
    "MW_31_3Dv_diff = np.round(np.sqrt(MW_31_vx_diff**2+MW_31_vy_diff**2+MW_31_vz_diff**2),3)\n",
    "print(MW_31_3Dv_diff)"
   ]
  },
  {
   "cell_type": "markdown",
   "metadata": {
    "persistent_id": "2197bdb3-a97c-47d7-9b0f-d80a99236da6"
   },
   "source": [
    "115.052 km/s is very close from class 110 km/s"
   ]
  },
  {
   "cell_type": "markdown",
   "metadata": {
    "persistent_id": "d48ea936-0937-4e2d-8d2b-d1c41622ea01"
   },
   "source": [
    "# Qustion 3"
   ]
  },
  {
   "cell_type": "code",
   "execution_count": 150,
   "metadata": {
    "execution_event_id": "fa35d709-0174-4500-8e5e-c894281a9d7c",
    "last_executed_text": "M31_33_vx_diff = M31_COMV[0] - M33_COMV[0]\nM31_33_vy_diff = M31_COMV[1] - M33_COMV[1]\nM31_33_vz_diff = M31_COMV[2] - M33_COMV[2]\nM31_33_3Dv_diff = np.round(np.sqrt(M31_33_vx_diff**2+M31_33_vy_diff**2+M31_33_vz_diff**2),3)\nprint(M31_33_3Dv_diff)",
    "persistent_id": "dc1c0ade-1966-4426-8c86-10127da0a6c6"
   },
   "outputs": [
    {
     "name": "stdout",
     "output_type": "stream",
     "text": [
      "195.925 km / s\n"
     ]
    }
   ],
   "source": [
    "M31_33_vx_diff = M31_COMV[0] - M33_COMV[0]\n",
    "M31_33_vy_diff = M31_COMV[1] - M33_COMV[1]\n",
    "M31_33_vz_diff = M31_COMV[2] - M33_COMV[2]\n",
    "M31_33_3Dv_diff = np.round(np.sqrt(M31_33_vx_diff**2+M31_33_vy_diff**2+M31_33_vz_diff**2),3)\n",
    "print(M31_33_3Dv_diff)"
   ]
  },
  {
   "cell_type": "markdown",
   "metadata": {
    "persistent_id": "6e23cde7-2311-4e09-8a82-db92040ef5f8"
   },
   "source": [
    "195.925 km/s is in the range from class 202km/s +- 38km/s"
   ]
  },
  {
   "cell_type": "markdown",
   "metadata": {},
   "source": [
    "# Question 4"
   ]
  },
  {
   "cell_type": "markdown",
   "metadata": {
    "persistent_id": "a76299c1-1340-4df0-8727-91304c309dbe"
   },
   "source": [
    "Without iteration, where the galaxy has a large radius, the parts that do not belong to the galaxy will also contribute COM."
   ]
  }
 ],
 "metadata": {
  "history": [
   {
    "cell": {
     "executionCount": 1,
     "executionEventId": "7b67e858-94ea-49ac-87ce-733e6a4b0c14",
     "hasError": false,
     "id": "d19ec224-be36-4676-9a3b-05e54492c694",
     "outputs": [],
     "persistentId": "2971e8f1-8a7a-4f21-bb24-d0f65041fdc9",
     "text": "# import modules\nimport numpy as np\nimport astropy.units as u\nimport astropy.table as tbl\n\nfrom ReadFile import Read"
    },
    "executionTime": "2020-02-12T02:51:19.770Z"
   },
   {
    "cell": {
     "executionCount": 2,
     "executionEventId": "0036013a-c282-4f77-b44c-6fcf26b5aa93",
     "hasError": true,
     "id": "15a7c55c-5293-4deb-b861-0c326e14d523",
     "outputs": [
      {
       "ename": "SyntaxError",
       "evalue": "invalid syntax (<ipython-input-2-f8e3d1de64c4>, line 150)",
       "output_type": "error",
       "traceback": [
        "\u001b[0;36m  File \u001b[0;32m\"<ipython-input-2-f8e3d1de64c4>\"\u001b[0;36m, line \u001b[0;32m150\u001b[0m\n\u001b[0;31m    xV =\u001b[0m\n\u001b[0m         ^\u001b[0m\n\u001b[0;31mSyntaxError\u001b[0m\u001b[0;31m:\u001b[0m invalid syntax\n"
       ]
      }
     ],
     "persistentId": "3f3a5cb8-663d-4322-a77a-bde24cf50cec",
     "text": "class CenterOfMass:\n# Class to define COM position and velocity properties of a given galaxy \n# and simulation snapshot\n    \n    \n    def __init__(self, filename, ptype):\n    # Initialize the instance of this Class with the following properties:\n    \n        # read data in the given file using Read\n        self.time, self.total, self.data = Read(filename)                                                                                             \n\n        #create an array to store indexes of particles of desired Ptype                                \n        self.index = np.where(self.data['type'] == ptype)\n\n        # store the mass, positions, velocities of only the particles of the given type\n        # the following only gives the example of storing the mass\n        # self.m = self.data['m'][self.index]\n        # write your own code to complete this for positions and velocities\n        self.m = self.data['m'][self.index]\n        self.x = self.data['x'][self.index]\n        self.y = self.data['y'][self.index]\n        self.z = self.data['z'][self.index]\n        self.vx = self.data['vx'][self.index]\n        self.vy = self.data['vy'][self.index]\n        self.vz = self.data['vz'][self.index]\n\n\n    def COMdefine(self,a,b,c,m):\n    # Function to compute the center of mass position or velocity generically\n    # input: array (a,b,c) of positions or velocities and the mass\n    # returns: 3 floats  (the center of mass coordinates)\n\n        # write your own code to compute the generic COM using Eq. 1 in the homework instructions\n        # xcomponent Center of mass\n        Acom = np.sum(self.x*self.m)/np.sum(self.m)\n        # ycomponent Center of mass\n        Bcom = np.sum(self.y*self.m)/np.sum(self.m)\n        # zcomponent Center of mass\n        Ccom = np.sum(self.z*self.m)/np.sum(self.m)\n        \n        return Acom, Bcom, Ccom\n    \n    \n    def COM_P(self, delta):\n    # Function to specifically return the center of mass position and velocity                                         \n    # input:                                                                                                           \n    #        particle type (1,2,3)                                                                                     \n    #        delta (tolerance)                                                                                         \n    # returns: One vector, with rows indicating:                                                                                                                                                                            \n    #       3D coordinates of the center of mass position (kpc)                                                             \n\n        # Center of Mass Position                                                                                      \n        ###########################                                                                                    \n\n        # Try a first guess at the COM position by calling COMdefine                                                   \n        XCOM, YCOM, ZCOM = self.COMdefine(self.x, self.y, self.z, self.m)\n        # compute the magnitude of the COM position vector.\n        # write your own code below\n        RCOM = np.sqrt(XCOM**2+YCOM**2+ZCOM**2)\n\n\n        # iterative process to determine the center of mass                                                            \n\n        # change reference frame to COM frame                                                                          \n        # compute the difference between particle coordinates                                                          \n        # and the first guess at COM position\n        # write your own code below\n        xNew = self.x - XCOM\n        yNew = self.y - YCOM\n        zNew = self.z - ZCOM\n        RNEW = np.sqrt(self.x**2+self.y**2+self.z**2) - RCOM\n\n        # find the max 3D distance of all particles from the guessed COM                                               \n        # will re-start at half that radius (reduced radius)                                                           \n        RMAX = max(RNEW)/2.0\n        \n        # pick an initial value for the change in COM position                                                      \n        # between the first guess above and the new one computed from half that volume\n        # it should be larger than the input tolerance (delta) initially\n        CHANGE = 1000.0\n\n        # start iterative process to determine center of mass position                                                 \n        # delta is the tolerance for the difference in the old COM and the new one.    \n        \n        while (CHANGE > delta):\n            # select all particles within the reduced radius (starting from original x,y,z, m)\n            # write your own code below (hints, use np.where)\n            index2 = np.where(np.sqrt(self.x**2+self.y**2+self.z**2) <= RMAX)\n            x2 = self.data['x'][index2]\n            y2 = self.data['y'][index2]\n            z2 = self.data['z'][index2]\n            m2 = self.data['m'][index2]\n\n            # Refined COM position:                                                                                    \n            # compute the center of mass position using                                                                \n            # the particles in the reduced radius\n            # write your own code below\n            XCOM2, YCOM2, ZCOM2 = self.COMdefine(x2, y2, z2, m2)\n            # compute the new 3D COM position\n            # write your own code below\n            RCOM2 = np.sqrt(XCOM2**2+YCOM2**2+ZCOM2**2)\n\n            # determine the difference between the previous center of mass position                                    \n            # and the new one.                                                                                         \n            CHANGE = np.abs(RCOM - RCOM2)\n            # uncomment the following line if you wnat to check this                                                                                               \n            # print (\"CHANGE = \", CHANGE)                                                                                     \n\n            # Before loop continues, reset : RMAX, particle separations and COM                                        \n\n            # reduce the volume by a factor of 2 again                                                                 \n            RMAX = RMAX/2.0\n            # check this.                                                                                              \n            #print (\"maxR\", maxR)                                                                                      \n\n            # Change the frame of reference to the newly computed COM.                                                 \n            # subtract the new COM\n            # write your own code below\n            xNew = x2 - XCOM2\n            yNew = y2 - YCOM2\n            zNew = z2 - ZCOM2\n            RNEW = np.sqrt(x2**2+y2**2+z2**2) - RCOM2\n\n            # set the center of mass positions to the refined values                                                   \n            XCOM = XCOM2\n            YCOM = YCOM2\n            ZCOM = ZCOM2\n            RCOM = RCOM2\n\n            # create a vector to store the COM position                                                                                                                                                       \n            COMP = [XCOM, YCOM, ZCOM]\n\n        # set the correct units using astropy and round all values\n        # and then return the COM positon vector\n        # write your own code below\n        \n        X\n    \n\n    def COM_V(self, COMX,COMY,COMZ):\n        # Center of Mass velocity\n        # input: X, Y, Z positions of the COM\n        # returns 3D Vector of COM Velocities\n        \n        # the max distance from the center that we will use to determine the center of mass velocity                   \n        RVMAX = 15.0*u.kpc\n\n        # determine the position of all particles relative to the center of mass position\n        # write your own code below\n        xV = \n        yV = \n        zV = \n        RV = \n        \n        # determine the index for those particles within the max radius\n        # write your own code below\n        indexV = \n\n        # determine the velocity and mass of those particles within the mas radius\n        # write your own code below\n        vxnew = \n        vynew = \n        vznew = \n        mnew =   \n        \n        # compute the center of mass velocity using those particles\n        # write your own code below\n        VXCOM, VYCOM, VZCOM = \n\n        # create a vector to store the COM velocity\n        # set the correct units usint astropy\n        # round all values\n        # write your own code below\n        COMV = \n\n        # return the COM vector                                                                                        \n        return COMV"
    },
    "executionTime": "2020-02-12T03:28:32.869Z"
   },
   {
    "cell": {
     "executionCount": 3,
     "executionEventId": "30994905-bfe3-4686-a169-38f506f197ff",
     "hasError": false,
     "id": "15a7c55c-5293-4deb-b861-0c326e14d523",
     "outputs": [],
     "persistentId": "3f3a5cb8-663d-4322-a77a-bde24cf50cec",
     "text": "class CenterOfMass:\n# Class to define COM position and velocity properties of a given galaxy \n# and simulation snapshot\n    \n    \n    def __init__(self, filename, ptype):\n    # Initialize the instance of this Class with the following properties:\n    \n        # read data in the given file using Read\n        self.time, self.total, self.data = Read(filename)                                                                                             \n\n        #create an array to store indexes of particles of desired Ptype                                \n        self.index = np.where(self.data['type'] == ptype)\n\n        # store the mass, positions, velocities of only the particles of the given type\n        # the following only gives the example of storing the mass\n        # self.m = self.data['m'][self.index]\n        # write your own code to complete this for positions and velocities\n        self.m = self.data['m'][self.index]\n        self.x = self.data['x'][self.index]\n        self.y = self.data['y'][self.index]\n        self.z = self.data['z'][self.index]\n        self.vx = self.data['vx'][self.index]\n        self.vy = self.data['vy'][self.index]\n        self.vz = self.data['vz'][self.index]\n\n\n    def COMdefine(self,a,b,c,m):\n    # Function to compute the center of mass position or velocity generically\n    # input: array (a,b,c) of positions or velocities and the mass\n    # returns: 3 floats  (the center of mass coordinates)\n\n        # write your own code to compute the generic COM using Eq. 1 in the homework instructions\n        # xcomponent Center of mass\n        Acom = np.sum(self.x*self.m)/np.sum(self.m)\n        # ycomponent Center of mass\n        Bcom = np.sum(self.y*self.m)/np.sum(self.m)\n        # zcomponent Center of mass\n        Ccom = np.sum(self.z*self.m)/np.sum(self.m)\n        \n        return Acom, Bcom, Ccom\n    \n    \n    def COM_P(self, delta):\n    # Function to specifically return the center of mass position and velocity                                         \n    # input:                                                                                                           \n    #        particle type (1,2,3)                                                                                     \n    #        delta (tolerance)                                                                                         \n    # returns: One vector, with rows indicating:                                                                                                                                                                            \n    #       3D coordinates of the center of mass position (kpc)                                                             \n\n        # Center of Mass Position                                                                                      \n        ###########################                                                                                    \n\n        # Try a first guess at the COM position by calling COMdefine                                                   \n        XCOM, YCOM, ZCOM = self.COMdefine(self.x, self.y, self.z, self.m)\n        # compute the magnitude of the COM position vector.\n        # write your own code below\n        RCOM = np.sqrt(XCOM**2+YCOM**2+ZCOM**2)\n\n\n        # iterative process to determine the center of mass                                                            \n\n        # change reference frame to COM frame                                                                          \n        # compute the difference between particle coordinates                                                          \n        # and the first guess at COM position\n        # write your own code below\n        xNew = self.x - XCOM\n        yNew = self.y - YCOM\n        zNew = self.z - ZCOM\n        RNEW = np.sqrt(self.x**2+self.y**2+self.z**2) - RCOM\n\n        # find the max 3D distance of all particles from the guessed COM                                               \n        # will re-start at half that radius (reduced radius)                                                           \n        RMAX = max(RNEW)/2.0\n        \n        # pick an initial value for the change in COM position                                                      \n        # between the first guess above and the new one computed from half that volume\n        # it should be larger than the input tolerance (delta) initially\n        CHANGE = 1000.0\n\n        # start iterative process to determine center of mass position                                                 \n        # delta is the tolerance for the difference in the old COM and the new one.    \n        \n        while (CHANGE > delta):\n            # select all particles within the reduced radius (starting from original x,y,z, m)\n            # write your own code below (hints, use np.where)\n            index2 = np.where(np.sqrt(self.x**2+self.y**2+self.z**2) <= RMAX)\n            x2 = self.data['x'][index2]\n            y2 = self.data['y'][index2]\n            z2 = self.data['z'][index2]\n            m2 = self.data['m'][index2]\n\n            # Refined COM position:                                                                                    \n            # compute the center of mass position using                                                                \n            # the particles in the reduced radius\n            # write your own code below\n            XCOM2, YCOM2, ZCOM2 = self.COMdefine(x2, y2, z2, m2)\n            # compute the new 3D COM position\n            # write your own code below\n            RCOM2 = np.sqrt(XCOM2**2+YCOM2**2+ZCOM2**2)\n\n            # determine the difference between the previous center of mass position                                    \n            # and the new one.                                                                                         \n            CHANGE = np.abs(RCOM - RCOM2)\n            # uncomment the following line if you wnat to check this                                                                                               \n            # print (\"CHANGE = \", CHANGE)                                                                                     \n\n            # Before loop continues, reset : RMAX, particle separations and COM                                        \n\n            # reduce the volume by a factor of 2 again                                                                 \n            RMAX = RMAX/2.0\n            # check this.                                                                                              \n            #print (\"maxR\", maxR)                                                                                      \n\n            # Change the frame of reference to the newly computed COM.                                                 \n            # subtract the new COM\n            # write your own code below\n            xNew = x2 - XCOM2\n            yNew = y2 - YCOM2\n            zNew = z2 - ZCOM2\n            RNEW = np.sqrt(x2**2+y2**2+z2**2) - RCOM2\n\n            # set the center of mass positions to the refined values                                                   \n            XCOM = XCOM2\n            YCOM = YCOM2\n            ZCOM = ZCOM2\n            RCOM = RCOM2\n\n            # create a vector to store the COM position                                                                                                                                                       \n            COMP = [XCOM, YCOM, ZCOM]\n\n        # set the correct units using astropy and round all values\n        # and then return the COM positon vector\n        # write your own code below\n        \n        XCOM = XCOM*u.kpc\n        YCOM = YCOM*u.kpc\n        ZCOM = ZCOM*u.kpc\n        COMP = COMP*u.kpc\n\n    def COM_V(self, COMX,COMY,COMZ):\n        # Center of Mass velocity\n        # input: X, Y, Z positions of the COM\n        # returns 3D Vector of COM Velocities\n        \n        # the max distance from the center that we will use to determine the center of mass velocity                   \n        RVMAX = 15.0*u.kpc\n\n        # determine the position of all particles relative to the center of mass position\n        # write your own code below\n        xV = self.x - COMX\n        yV = self.y - COMY\n        zV = self.z - COMZ\n        RV = np.sqrt(xV**2+yV**2+zV**2)\n        \n        # determine the index for those particles within the max radius\n        # write your own code below\n        indexV = np.where(RV < RVMAX)\n\n        # determine the velocity and mass of those particles within the mas radius\n        # write your own code below\n        vxnew = self.data['vx'][indexV]\n        vynew = self.data['vy'][indexV]\n        vznew = self.data['vz'][indexV]\n        mnew = self.data['m'][indexV]  \n        \n        # compute the center of mass velocity using those particles\n        # write your own code below\n        VXCOM, VYCOM, VZCOM = self.COMdefine(vxnew, vynew, vznew, mnew)\n\n        # create a vector to store the COM velocity\n        # set the correct units usint astropy\n        # round all values\n        # write your own code below\n        COMV = [VXCOM, VYCOM, VZCOM]\n\n        # return the COM vector                                                                                        \n        return COMV"
    },
    "executionTime": "2020-02-12T03:40:05.169Z"
   },
   {
    "cell": {
     "executionCount": 4,
     "executionEventId": "6c9d0a32-5873-4a3e-8974-7026d32b2230",
     "hasError": false,
     "id": "1ec1c88c-1fce-4f6e-b8c0-db3ed4c98b85",
     "outputs": [],
     "persistentId": "1925e6a4-0327-430a-b39d-4ebbd7201e33",
     "text": "# Create a Center of mass object for the MW, M31 and M33\n# below is an example of using the class for MW\nMWCOM = CenterOfMass(\"MW_000.txt\", 2)"
    },
    "executionTime": "2020-02-12T03:42:41.758Z"
   },
   {
    "cell": {
     "executionCount": 5,
     "executionEventId": "7d97bbd7-5677-48e4-9d36-9f98cfa001cd",
     "hasError": true,
     "id": "41b3f20d-1811-4f91-b20f-b0580131a95f",
     "outputs": [
      {
       "ename": "TypeError",
       "evalue": "'NoneType' object is not subscriptable",
       "output_type": "error",
       "traceback": [
        "\u001b[0;31m---------------------------------------------------------------------------\u001b[0m",
        "\u001b[0;31mTypeError\u001b[0m                                 Traceback (most recent call last)",
        "\u001b[0;32m<ipython-input-5-5852dfb10a2b>\u001b[0m in \u001b[0;36m<module>\u001b[0;34m\u001b[0m\n\u001b[1;32m      2\u001b[0m \u001b[0;31m# MW:   store the position and velocity COM\u001b[0m\u001b[0;34m\u001b[0m\u001b[0;34m\u001b[0m\u001b[0;34m\u001b[0m\u001b[0m\n\u001b[1;32m      3\u001b[0m \u001b[0mMW_COMP\u001b[0m \u001b[0;34m=\u001b[0m \u001b[0mMWCOM\u001b[0m\u001b[0;34m.\u001b[0m\u001b[0mCOM_P\u001b[0m\u001b[0;34m(\u001b[0m\u001b[0;36m0.1\u001b[0m\u001b[0;34m)\u001b[0m\u001b[0;34m\u001b[0m\u001b[0;34m\u001b[0m\u001b[0m\n\u001b[0;32m----> 4\u001b[0;31m \u001b[0mMW_COMV\u001b[0m \u001b[0;34m=\u001b[0m \u001b[0mMWCOM\u001b[0m\u001b[0;34m.\u001b[0m\u001b[0mCOM_V\u001b[0m\u001b[0;34m(\u001b[0m\u001b[0mMW_COMP\u001b[0m\u001b[0;34m[\u001b[0m\u001b[0;36m0\u001b[0m\u001b[0;34m]\u001b[0m\u001b[0;34m,\u001b[0m \u001b[0mMW_COMP\u001b[0m\u001b[0;34m[\u001b[0m\u001b[0;36m1\u001b[0m\u001b[0;34m]\u001b[0m\u001b[0;34m,\u001b[0m \u001b[0mMW_COMP\u001b[0m\u001b[0;34m[\u001b[0m\u001b[0;36m2\u001b[0m\u001b[0;34m]\u001b[0m\u001b[0;34m)\u001b[0m\u001b[0;34m\u001b[0m\u001b[0;34m\u001b[0m\u001b[0m\n\u001b[0m",
        "\u001b[0;31mTypeError\u001b[0m: 'NoneType' object is not subscriptable"
       ]
      }
     ],
     "persistentId": "d9be1b5b-cc5b-4d53-bbf7-2deedeca2731",
     "text": "# below gives you an example of calling the class's functions\n# MW:   store the position and velocity COM\nMW_COMP = MWCOM.COM_P(0.1)\nMW_COMV = MWCOM.COM_V(MW_COMP[0], MW_COMP[1], MW_COMP[2])"
    },
    "executionTime": "2020-02-12T03:43:26.452Z"
   },
   {
    "cell": {
     "executionCount": 6,
     "executionEventId": "bb4eed32-3345-4872-92cf-692580283fc4",
     "hasError": true,
     "id": "f701bbb1-527f-499d-96c1-c318cffd4b81",
     "outputs": [
      {
       "ename": "TypeError",
       "evalue": "'NoneType' object is not subscriptable",
       "output_type": "error",
       "traceback": [
        "\u001b[0;31m---------------------------------------------------------------------------\u001b[0m",
        "\u001b[0;31mTypeError\u001b[0m                                 Traceback (most recent call last)",
        "\u001b[0;32m<ipython-input-6-aa998dfddc62>\u001b[0m in \u001b[0;36m<module>\u001b[0;34m\u001b[0m\n\u001b[1;32m      1\u001b[0m \u001b[0;31m# now write your own code to answer questions\u001b[0m\u001b[0;34m\u001b[0m\u001b[0;34m\u001b[0m\u001b[0;34m\u001b[0m\u001b[0m\n\u001b[0;32m----> 2\u001b[0;31m \u001b[0mprint\u001b[0m\u001b[0;34m(\u001b[0m\u001b[0mMW_COMP\u001b[0m\u001b[0;34m[\u001b[0m\u001b[0;36m0\u001b[0m\u001b[0;34m]\u001b[0m\u001b[0;34m)\u001b[0m\u001b[0;34m\u001b[0m\u001b[0;34m\u001b[0m\u001b[0m\n\u001b[0m",
        "\u001b[0;31mTypeError\u001b[0m: 'NoneType' object is not subscriptable"
       ]
      }
     ],
     "persistentId": "966ff13b-1221-44fb-ac73-7a97eddb14fb",
     "text": "# now write your own code to answer questions\nprint(MW_COMP[0])"
    },
    "executionTime": "2020-02-12T03:44:08.420Z"
   },
   {
    "cell": {
     "executionCount": 7,
     "executionEventId": "4583fd3b-8fd8-4ee3-9d09-ae2c0db4bc36",
     "hasError": false,
     "id": "f701bbb1-527f-499d-96c1-c318cffd4b81",
     "outputs": [
      {
       "name": "stdout",
       "output_type": "stream",
       "text": "None\n"
      }
     ],
     "persistentId": "966ff13b-1221-44fb-ac73-7a97eddb14fb",
     "text": "# now write your own code to answer questions\nprint(MW_COMP)"
    },
    "executionTime": "2020-02-12T03:45:14.581Z"
   },
   {
    "cell": {
     "executionCount": 8,
     "executionEventId": "576f7419-3fb1-41aa-907c-ba3ed5f89fd6",
     "hasError": false,
     "id": "1ec1c88c-1fce-4f6e-b8c0-db3ed4c98b85",
     "outputs": [
      {
       "name": "stdout",
       "output_type": "stream",
       "text": "<__main__.CenterOfMass object at 0x1139cbb38>\n"
      }
     ],
     "persistentId": "1925e6a4-0327-430a-b39d-4ebbd7201e33",
     "text": "# Create a Center of mass object for the MW, M31 and M33\n# below is an example of using the class for MW\nMWCOM = CenterOfMass(\"MW_000.txt\", 2)\nprint(MWCOM)"
    },
    "executionTime": "2020-02-12T03:45:27.406Z"
   },
   {
    "cell": {
     "executionCount": 9,
     "executionEventId": "a8427622-8a14-4e69-aa6e-874e94f11837",
     "hasError": false,
     "id": "1ec1c88c-1fce-4f6e-b8c0-db3ed4c98b85",
     "outputs": [],
     "persistentId": "1925e6a4-0327-430a-b39d-4ebbd7201e33",
     "text": "# Create a Center of mass object for the MW, M31 and M33\n# below is an example of using the class for MW\nMWCOM = CenterOfMass(\"MW_000.txt\", 2)"
    },
    "executionTime": "2020-02-12T03:46:14.956Z"
   },
   {
    "cell": {
     "executionCount": 10,
     "executionEventId": "498e6156-9c52-40d0-888d-c2c9c0a205ff",
     "hasError": false,
     "id": "41b3f20d-1811-4f91-b20f-b0580131a95f",
     "outputs": [],
     "persistentId": "d9be1b5b-cc5b-4d53-bbf7-2deedeca2731",
     "text": "# below gives you an example of calling the class's functions\n# MW:   store the position and velocity COM\nMW_COMP = MWCOM.COM_P(0.1)\n"
    },
    "executionTime": "2020-02-12T03:46:22.815Z"
   },
   {
    "cell": {
     "executionCount": 11,
     "executionEventId": "b1064a31-6c44-4416-a2b9-faf6abb8f976",
     "hasError": false,
     "id": "15a7c55c-5293-4deb-b861-0c326e14d523",
     "outputs": [],
     "persistentId": "3f3a5cb8-663d-4322-a77a-bde24cf50cec",
     "text": "class CenterOfMass:\n# Class to define COM position and velocity properties of a given galaxy \n# and simulation snapshot\n    \n    \n    def __init__(self, filename, ptype):\n    # Initialize the instance of this Class with the following properties:\n    \n        # read data in the given file using Read\n        self.time, self.total, self.data = Read(filename)                                                                                             \n\n        #create an array to store indexes of particles of desired Ptype                                \n        self.index = np.where(self.data['type'] == ptype)\n\n        # store the mass, positions, velocities of only the particles of the given type\n        # the following only gives the example of storing the mass\n        # self.m = self.data['m'][self.index]\n        # write your own code to complete this for positions and velocities\n        self.m = self.data['m'][self.index]\n        self.x = self.data['x'][self.index]\n        self.y = self.data['y'][self.index]\n        self.z = self.data['z'][self.index]\n        self.vx = self.data['vx'][self.index]\n        self.vy = self.data['vy'][self.index]\n        self.vz = self.data['vz'][self.index]\n\n\n    def COMdefine(self,a,b,c,m):\n    # Function to compute the center of mass position or velocity generically\n    # input: array (a,b,c) of positions or velocities and the mass\n    # returns: 3 floats  (the center of mass coordinates)\n\n        # write your own code to compute the generic COM using Eq. 1 in the homework instructions\n        # xcomponent Center of mass\n        Acom = np.sum(self.x*self.m)/np.sum(self.m)\n        # ycomponent Center of mass\n        Bcom = np.sum(self.y*self.m)/np.sum(self.m)\n        # zcomponent Center of mass\n        Ccom = np.sum(self.z*self.m)/np.sum(self.m)\n        \n        return Acom, Bcom, Ccom\n    \n    \n    def COM_P(self, delta):\n    # Function to specifically return the center of mass position and velocity                                         \n    # input:                                                                                                           \n    #        particle type (1,2,3)                                                                                     \n    #        delta (tolerance)                                                                                         \n    # returns: One vector, with rows indicating:                                                                                                                                                                            \n    #       3D coordinates of the center of mass position (kpc)                                                             \n\n        # Center of Mass Position                                                                                      \n        ###########################                                                                                    \n\n        # Try a first guess at the COM position by calling COMdefine                                                   \n        XCOM, YCOM, ZCOM = self.COMdefine(self.x, self.y, self.z, self.m)\n        # compute the magnitude of the COM position vector.\n        # write your own code below\n        RCOM = np.sqrt(XCOM**2+YCOM**2+ZCOM**2)\n\n\n        # iterative process to determine the center of mass                                                            \n\n        # change reference frame to COM frame                                                                          \n        # compute the difference between particle coordinates                                                          \n        # and the first guess at COM position\n        # write your own code below\n        xNew = self.x - XCOM\n        yNew = self.y - YCOM\n        zNew = self.z - ZCOM\n        RNEW = np.sqrt(self.x**2+self.y**2+self.z**2) - RCOM\n\n        # find the max 3D distance of all particles from the guessed COM                                               \n        # will re-start at half that radius (reduced radius)                                                           \n        RMAX = max(RNEW)/2.0\n        \n        # pick an initial value for the change in COM position                                                      \n        # between the first guess above and the new one computed from half that volume\n        # it should be larger than the input tolerance (delta) initially\n        CHANGE = 1000.0\n\n        # start iterative process to determine center of mass position                                                 \n        # delta is the tolerance for the difference in the old COM and the new one.    \n        \n        while (CHANGE > delta):\n            # select all particles within the reduced radius (starting from original x,y,z, m)\n            # write your own code below (hints, use np.where)\n            index2 = np.where(np.sqrt(self.x**2+self.y**2+self.z**2) <= RMAX)\n            x2 = self.data['x'][index2]\n            y2 = self.data['y'][index2]\n            z2 = self.data['z'][index2]\n            m2 = self.data['m'][index2]\n\n            # Refined COM position:                                                                                    \n            # compute the center of mass position using                                                                \n            # the particles in the reduced radius\n            # write your own code below\n            XCOM2, YCOM2, ZCOM2 = self.COMdefine(x2, y2, z2, m2)\n            # compute the new 3D COM position\n            # write your own code below\n            RCOM2 = np.sqrt(XCOM2**2+YCOM2**2+ZCOM2**2)\n\n            # determine the difference between the previous center of mass position                                    \n            # and the new one.                                                                                         \n            CHANGE = np.abs(RCOM - RCOM2)\n            # uncomment the following line if you wnat to check this                                                                                               \n            # print (\"CHANGE = \", CHANGE)                                                                                     \n\n            # Before loop continues, reset : RMAX, particle separations and COM                                        \n\n            # reduce the volume by a factor of 2 again                                                                 \n            RMAX = RMAX/2.0\n            # check this.                                                                                              \n            print (\"maxR\", maxR)                                                                                      \n\n            # Change the frame of reference to the newly computed COM.                                                 \n            # subtract the new COM\n            # write your own code below\n            xNew = x2 - XCOM2\n            yNew = y2 - YCOM2\n            zNew = z2 - ZCOM2\n            RNEW = np.sqrt(x2**2+y2**2+z2**2) - RCOM2\n\n            # set the center of mass positions to the refined values                                                   \n            XCOM = XCOM2\n            YCOM = YCOM2\n            ZCOM = ZCOM2\n            RCOM = RCOM2\n\n            # create a vector to store the COM position                                                                                                                                                       \n            COMP = [XCOM, YCOM, ZCOM]\n\n        # set the correct units using astropy and round all values\n        # and then return the COM positon vector\n        # write your own code below\n        \n        XCOM = XCOM*u.kpc\n        YCOM = YCOM*u.kpc\n        ZCOM = ZCOM*u.kpc\n        COMP = COMP*u.kpc\n\n    def COM_V(self, COMX,COMY,COMZ):\n        # Center of Mass velocity\n        # input: X, Y, Z positions of the COM\n        # returns 3D Vector of COM Velocities\n        \n        # the max distance from the center that we will use to determine the center of mass velocity                   \n        RVMAX = 15.0*u.kpc\n\n        # determine the position of all particles relative to the center of mass position\n        # write your own code below\n        xV = self.x - COMX\n        yV = self.y - COMY\n        zV = self.z - COMZ\n        RV = np.sqrt(xV**2+yV**2+zV**2)\n        \n        # determine the index for those particles within the max radius\n        # write your own code below\n        indexV = np.where(RV < RVMAX)\n\n        # determine the velocity and mass of those particles within the mas radius\n        # write your own code below\n        vxnew = self.data['vx'][indexV]\n        vynew = self.data['vy'][indexV]\n        vznew = self.data['vz'][indexV]\n        mnew = self.data['m'][indexV]  \n        \n        # compute the center of mass velocity using those particles\n        # write your own code below\n        VXCOM, VYCOM, VZCOM = self.COMdefine(vxnew, vynew, vznew, mnew)\n\n        # create a vector to store the COM velocity\n        # set the correct units usint astropy\n        # round all values\n        # write your own code below\n        COMV = [VXCOM, VYCOM, VZCOM]\n\n        # return the COM vector                                                                                        \n        return COMV"
    },
    "executionTime": "2020-02-12T03:46:41.203Z"
   },
   {
    "cell": {
     "executionCount": 12,
     "executionEventId": "c2278dc8-aa63-4ecc-a6d2-e8bb2299440a",
     "hasError": false,
     "id": "41b3f20d-1811-4f91-b20f-b0580131a95f",
     "outputs": [],
     "persistentId": "d9be1b5b-cc5b-4d53-bbf7-2deedeca2731",
     "text": "# below gives you an example of calling the class's functions\n# MW:   store the position and velocity COM\nMW_COMP = MWCOM.COM_P(0.1)\n"
    },
    "executionTime": "2020-02-12T03:46:46.026Z"
   },
   {
    "cell": {
     "executionCount": 13,
     "executionEventId": "ead4fe3d-0932-4079-8db4-3acce02bc18e",
     "hasError": true,
     "id": "41b3f20d-1811-4f91-b20f-b0580131a95f",
     "outputs": [
      {
       "ename": "TypeError",
       "evalue": "'NoneType' object is not subscriptable",
       "output_type": "error",
       "traceback": [
        "\u001b[0;31m---------------------------------------------------------------------------\u001b[0m",
        "\u001b[0;31mTypeError\u001b[0m                                 Traceback (most recent call last)",
        "\u001b[0;32m<ipython-input-13-2d4fe9cb1346>\u001b[0m in \u001b[0;36m<module>\u001b[0;34m\u001b[0m\n\u001b[1;32m      2\u001b[0m \u001b[0;31m# MW:   store the position and velocity COM\u001b[0m\u001b[0;34m\u001b[0m\u001b[0;34m\u001b[0m\u001b[0;34m\u001b[0m\u001b[0m\n\u001b[1;32m      3\u001b[0m \u001b[0mMW_COMP\u001b[0m \u001b[0;34m=\u001b[0m \u001b[0mMWCOM\u001b[0m\u001b[0;34m.\u001b[0m\u001b[0mCOM_P\u001b[0m\u001b[0;34m(\u001b[0m\u001b[0;36m0.1\u001b[0m\u001b[0;34m)\u001b[0m\u001b[0;34m\u001b[0m\u001b[0;34m\u001b[0m\u001b[0m\n\u001b[0;32m----> 4\u001b[0;31m \u001b[0mMW_COMP\u001b[0m\u001b[0;34m[\u001b[0m\u001b[0;36m0\u001b[0m\u001b[0;34m]\u001b[0m\u001b[0;34m\u001b[0m\u001b[0;34m\u001b[0m\u001b[0m\n\u001b[0m",
        "\u001b[0;31mTypeError\u001b[0m: 'NoneType' object is not subscriptable"
       ]
      }
     ],
     "persistentId": "d9be1b5b-cc5b-4d53-bbf7-2deedeca2731",
     "text": "# below gives you an example of calling the class's functions\n# MW:   store the position and velocity COM\nMW_COMP = MWCOM.COM_P(0.1)\nMW_COMP[0]"
    },
    "executionTime": "2020-02-12T03:46:56.612Z"
   },
   {
    "cell": {
     "executionCount": 14,
     "executionEventId": "9615244f-8e4d-4df5-87fd-c2e54d5b49ad",
     "hasError": false,
     "id": "1ec1c88c-1fce-4f6e-b8c0-db3ed4c98b85",
     "outputs": [
      {
       "name": "stdout",
       "output_type": "stream",
       "text": "<__main__.CenterOfMass object at 0x1132490b8>\n"
      }
     ],
     "persistentId": "1925e6a4-0327-430a-b39d-4ebbd7201e33",
     "text": "# Create a Center of mass object for the MW, M31 and M33\n# below is an example of using the class for MW\nMWCOM = CenterOfMass(\"MW_000.txt\", 2)\nprint(MWCOM)"
    },
    "executionTime": "2020-02-12T03:48:25.565Z"
   },
   {
    "cell": {
     "executionCount": 15,
     "executionEventId": "a762ede8-3a27-4718-b0df-fe8f7394e8c7",
     "hasError": true,
     "id": "41b3f20d-1811-4f91-b20f-b0580131a95f",
     "outputs": [
      {
       "ename": "NameError",
       "evalue": "name 'maxR' is not defined",
       "output_type": "error",
       "traceback": [
        "\u001b[0;31m---------------------------------------------------------------------------\u001b[0m",
        "\u001b[0;31mNameError\u001b[0m                                 Traceback (most recent call last)",
        "\u001b[0;32m<ipython-input-15-ecf83d12e9b9>\u001b[0m in \u001b[0;36m<module>\u001b[0;34m\u001b[0m\n\u001b[1;32m      1\u001b[0m \u001b[0;31m# below gives you an example of calling the class's functions\u001b[0m\u001b[0;34m\u001b[0m\u001b[0;34m\u001b[0m\u001b[0;34m\u001b[0m\u001b[0m\n\u001b[1;32m      2\u001b[0m \u001b[0;31m# MW:   store the position and velocity COM\u001b[0m\u001b[0;34m\u001b[0m\u001b[0;34m\u001b[0m\u001b[0;34m\u001b[0m\u001b[0m\n\u001b[0;32m----> 3\u001b[0;31m \u001b[0mMW_COMP\u001b[0m \u001b[0;34m=\u001b[0m \u001b[0mMWCOM\u001b[0m\u001b[0;34m.\u001b[0m\u001b[0mCOM_P\u001b[0m\u001b[0;34m(\u001b[0m\u001b[0;36m0.1\u001b[0m\u001b[0;34m)\u001b[0m\u001b[0;34m\u001b[0m\u001b[0;34m\u001b[0m\u001b[0m\n\u001b[0m",
        "\u001b[0;32m<ipython-input-11-519273cf12f1>\u001b[0m in \u001b[0;36mCOM_P\u001b[0;34m(self, delta)\u001b[0m\n\u001b[1;32m    112\u001b[0m             \u001b[0mRMAX\u001b[0m \u001b[0;34m=\u001b[0m \u001b[0mRMAX\u001b[0m\u001b[0;34m/\u001b[0m\u001b[0;36m2.0\u001b[0m\u001b[0;34m\u001b[0m\u001b[0;34m\u001b[0m\u001b[0m\n\u001b[1;32m    113\u001b[0m             \u001b[0;31m# check this.\u001b[0m\u001b[0;34m\u001b[0m\u001b[0;34m\u001b[0m\u001b[0;34m\u001b[0m\u001b[0m\n\u001b[0;32m--> 114\u001b[0;31m             \u001b[0mprint\u001b[0m \u001b[0;34m(\u001b[0m\u001b[0;34m\"maxR\"\u001b[0m\u001b[0;34m,\u001b[0m \u001b[0mmaxR\u001b[0m\u001b[0;34m)\u001b[0m\u001b[0;34m\u001b[0m\u001b[0;34m\u001b[0m\u001b[0m\n\u001b[0m\u001b[1;32m    115\u001b[0m \u001b[0;34m\u001b[0m\u001b[0m\n\u001b[1;32m    116\u001b[0m             \u001b[0;31m# Change the frame of reference to the newly computed COM.\u001b[0m\u001b[0;34m\u001b[0m\u001b[0;34m\u001b[0m\u001b[0;34m\u001b[0m\u001b[0m\n",
        "\u001b[0;31mNameError\u001b[0m: name 'maxR' is not defined"
       ]
      }
     ],
     "persistentId": "d9be1b5b-cc5b-4d53-bbf7-2deedeca2731",
     "text": "# below gives you an example of calling the class's functions\n# MW:   store the position and velocity COM\nMW_COMP = MWCOM.COM_P(0.1)"
    },
    "executionTime": "2020-02-12T03:49:01.889Z"
   },
   {
    "cell": {
     "executionCount": 16,
     "executionEventId": "d0a784b1-e8c3-4922-ad9d-a9a5ed04678d",
     "hasError": false,
     "id": "15a7c55c-5293-4deb-b861-0c326e14d523",
     "outputs": [],
     "persistentId": "3f3a5cb8-663d-4322-a77a-bde24cf50cec",
     "text": "class CenterOfMass:\n# Class to define COM position and velocity properties of a given galaxy \n# and simulation snapshot\n    \n    \n    def __init__(self, filename, ptype):\n    # Initialize the instance of this Class with the following properties:\n    \n        # read data in the given file using Read\n        self.time, self.total, self.data = Read(filename)                                                                                             \n\n        #create an array to store indexes of particles of desired Ptype                                \n        self.index = np.where(self.data['type'] == ptype)\n\n        # store the mass, positions, velocities of only the particles of the given type\n        # the following only gives the example of storing the mass\n        # self.m = self.data['m'][self.index]\n        # write your own code to complete this for positions and velocities\n        self.m = self.data['m'][self.index]\n        self.x = self.data['x'][self.index]\n        self.y = self.data['y'][self.index]\n        self.z = self.data['z'][self.index]\n        self.vx = self.data['vx'][self.index]\n        self.vy = self.data['vy'][self.index]\n        self.vz = self.data['vz'][self.index]\n\n\n    def COMdefine(self,a,b,c,m):\n    # Function to compute the center of mass position or velocity generically\n    # input: array (a,b,c) of positions or velocities and the mass\n    # returns: 3 floats  (the center of mass coordinates)\n\n        # write your own code to compute the generic COM using Eq. 1 in the homework instructions\n        # xcomponent Center of mass\n        Acom = np.sum(self.x*self.m)/np.sum(self.m)\n        # ycomponent Center of mass\n        Bcom = np.sum(self.y*self.m)/np.sum(self.m)\n        # zcomponent Center of mass\n        Ccom = np.sum(self.z*self.m)/np.sum(self.m)\n        \n        return Acom, Bcom, Ccom\n    \n    \n    def COM_P(self, delta):\n    # Function to specifically return the center of mass position and velocity                                         \n    # input:                                                                                                           \n    #        particle type (1,2,3)                                                                                     \n    #        delta (tolerance)                                                                                         \n    # returns: One vector, with rows indicating:                                                                                                                                                                            \n    #       3D coordinates of the center of mass position (kpc)                                                             \n\n        # Center of Mass Position                                                                                      \n        ###########################                                                                                    \n\n        # Try a first guess at the COM position by calling COMdefine                                                   \n        XCOM, YCOM, ZCOM = self.COMdefine(self.x, self.y, self.z, self.m)\n        # compute the magnitude of the COM position vector.\n        # write your own code below\n        RCOM = np.sqrt(XCOM**2+YCOM**2+ZCOM**2)\n\n\n        # iterative process to determine the center of mass                                                            \n\n        # change reference frame to COM frame                                                                          \n        # compute the difference between particle coordinates                                                          \n        # and the first guess at COM position\n        # write your own code below\n        xNew = self.x - XCOM\n        yNew = self.y - YCOM\n        zNew = self.z - ZCOM\n        RNEW = np.sqrt(self.x**2+self.y**2+self.z**2) - RCOM\n\n        # find the max 3D distance of all particles from the guessed COM                                               \n        # will re-start at half that radius (reduced radius)                                                           \n        RMAX = max(RNEW)/2.0\n        \n        # pick an initial value for the change in COM position                                                      \n        # between the first guess above and the new one computed from half that volume\n        # it should be larger than the input tolerance (delta) initially\n        CHANGE = 1000.0\n\n        # start iterative process to determine center of mass position                                                 \n        # delta is the tolerance for the difference in the old COM and the new one.    \n        \n        while (CHANGE > delta):\n            # select all particles within the reduced radius (starting from original x,y,z, m)\n            # write your own code below (hints, use np.where)\n            index2 = np.where(np.sqrt(self.x**2+self.y**2+self.z**2) <= RMAX)\n            x2 = self.data['x'][index2]\n            y2 = self.data['y'][index2]\n            z2 = self.data['z'][index2]\n            m2 = self.data['m'][index2]\n\n            # Refined COM position:                                                                                    \n            # compute the center of mass position using                                                                \n            # the particles in the reduced radius\n            # write your own code below\n            XCOM2, YCOM2, ZCOM2 = self.COMdefine(x2, y2, z2, m2)\n            # compute the new 3D COM position\n            # write your own code below\n            RCOM2 = np.sqrt(XCOM2**2+YCOM2**2+ZCOM2**2)\n\n            # determine the difference between the previous center of mass position                                    \n            # and the new one.                                                                                         \n            CHANGE = np.abs(RCOM - RCOM2)\n            # uncomment the following line if you wnat to check this                                                                                               \n            # print (\"CHANGE = \", CHANGE)                                                                                     \n\n            # Before loop continues, reset : RMAX, particle separations and COM                                        \n\n            # reduce the volume by a factor of 2 again                                                                 \n            RMAX = RMAX/2.0\n            # check this.                                                                                              \n            print (\"maxR\", Rmax)                                                                                      \n\n            # Change the frame of reference to the newly computed COM.                                                 \n            # subtract the new COM\n            # write your own code below\n            xNew = x2 - XCOM2\n            yNew = y2 - YCOM2\n            zNew = z2 - ZCOM2\n            RNEW = np.sqrt(x2**2+y2**2+z2**2) - RCOM2\n\n            # set the center of mass positions to the refined values                                                   \n            XCOM = XCOM2\n            YCOM = YCOM2\n            ZCOM = ZCOM2\n            RCOM = RCOM2\n\n            # create a vector to store the COM position                                                                                                                                                       \n            COMP = [XCOM, YCOM, ZCOM]\n\n        # set the correct units using astropy and round all values\n        # and then return the COM positon vector\n        # write your own code below\n        \n        XCOM = XCOM*u.kpc\n        YCOM = YCOM*u.kpc\n        ZCOM = ZCOM*u.kpc\n        COMP = COMP*u.kpc\n\n    def COM_V(self, COMX,COMY,COMZ):\n        # Center of Mass velocity\n        # input: X, Y, Z positions of the COM\n        # returns 3D Vector of COM Velocities\n        \n        # the max distance from the center that we will use to determine the center of mass velocity                   \n        RVMAX = 15.0*u.kpc\n\n        # determine the position of all particles relative to the center of mass position\n        # write your own code below\n        xV = self.x - COMX\n        yV = self.y - COMY\n        zV = self.z - COMZ\n        RV = np.sqrt(xV**2+yV**2+zV**2)\n        \n        # determine the index for those particles within the max radius\n        # write your own code below\n        indexV = np.where(RV < RVMAX)\n\n        # determine the velocity and mass of those particles within the mas radius\n        # write your own code below\n        vxnew = self.data['vx'][indexV]\n        vynew = self.data['vy'][indexV]\n        vznew = self.data['vz'][indexV]\n        mnew = self.data['m'][indexV]  \n        \n        # compute the center of mass velocity using those particles\n        # write your own code below\n        VXCOM, VYCOM, VZCOM = self.COMdefine(vxnew, vynew, vznew, mnew)\n\n        # create a vector to store the COM velocity\n        # set the correct units usint astropy\n        # round all values\n        # write your own code below\n        COMV = [VXCOM, VYCOM, VZCOM]\n\n        # return the COM vector                                                                                        \n        return COMV"
    },
    "executionTime": "2020-02-12T03:49:15.320Z"
   },
   {
    "cell": {
     "executionCount": 17,
     "executionEventId": "4c70c60b-269e-4755-9758-52cece6e1275",
     "hasError": false,
     "id": "1ec1c88c-1fce-4f6e-b8c0-db3ed4c98b85",
     "outputs": [],
     "persistentId": "1925e6a4-0327-430a-b39d-4ebbd7201e33",
     "text": "# Create a Center of mass object for the MW, M31 and M33\n# below is an example of using the class for MW\nMWCOM = CenterOfMass(\"MW_000.txt\", 2)\n"
    },
    "executionTime": "2020-02-12T03:49:19.158Z"
   },
   {
    "cell": {
     "executionCount": 18,
     "executionEventId": "462fdaff-266c-4dce-9832-1fddb5cca8a3",
     "hasError": true,
     "id": "41b3f20d-1811-4f91-b20f-b0580131a95f",
     "outputs": [
      {
       "ename": "NameError",
       "evalue": "name 'Rmax' is not defined",
       "output_type": "error",
       "traceback": [
        "\u001b[0;31m---------------------------------------------------------------------------\u001b[0m",
        "\u001b[0;31mNameError\u001b[0m                                 Traceback (most recent call last)",
        "\u001b[0;32m<ipython-input-18-ecf83d12e9b9>\u001b[0m in \u001b[0;36m<module>\u001b[0;34m\u001b[0m\n\u001b[1;32m      1\u001b[0m \u001b[0;31m# below gives you an example of calling the class's functions\u001b[0m\u001b[0;34m\u001b[0m\u001b[0;34m\u001b[0m\u001b[0;34m\u001b[0m\u001b[0m\n\u001b[1;32m      2\u001b[0m \u001b[0;31m# MW:   store the position and velocity COM\u001b[0m\u001b[0;34m\u001b[0m\u001b[0;34m\u001b[0m\u001b[0;34m\u001b[0m\u001b[0m\n\u001b[0;32m----> 3\u001b[0;31m \u001b[0mMW_COMP\u001b[0m \u001b[0;34m=\u001b[0m \u001b[0mMWCOM\u001b[0m\u001b[0;34m.\u001b[0m\u001b[0mCOM_P\u001b[0m\u001b[0;34m(\u001b[0m\u001b[0;36m0.1\u001b[0m\u001b[0;34m)\u001b[0m\u001b[0;34m\u001b[0m\u001b[0;34m\u001b[0m\u001b[0m\n\u001b[0m",
        "\u001b[0;32m<ipython-input-16-967b5c10b29e>\u001b[0m in \u001b[0;36mCOM_P\u001b[0;34m(self, delta)\u001b[0m\n\u001b[1;32m    112\u001b[0m             \u001b[0mRMAX\u001b[0m \u001b[0;34m=\u001b[0m \u001b[0mRMAX\u001b[0m\u001b[0;34m/\u001b[0m\u001b[0;36m2.0\u001b[0m\u001b[0;34m\u001b[0m\u001b[0;34m\u001b[0m\u001b[0m\n\u001b[1;32m    113\u001b[0m             \u001b[0;31m# check this.\u001b[0m\u001b[0;34m\u001b[0m\u001b[0;34m\u001b[0m\u001b[0;34m\u001b[0m\u001b[0m\n\u001b[0;32m--> 114\u001b[0;31m             \u001b[0mprint\u001b[0m \u001b[0;34m(\u001b[0m\u001b[0;34m\"maxR\"\u001b[0m\u001b[0;34m,\u001b[0m \u001b[0mRmax\u001b[0m\u001b[0;34m)\u001b[0m\u001b[0;34m\u001b[0m\u001b[0;34m\u001b[0m\u001b[0m\n\u001b[0m\u001b[1;32m    115\u001b[0m \u001b[0;34m\u001b[0m\u001b[0m\n\u001b[1;32m    116\u001b[0m             \u001b[0;31m# Change the frame of reference to the newly computed COM.\u001b[0m\u001b[0;34m\u001b[0m\u001b[0;34m\u001b[0m\u001b[0;34m\u001b[0m\u001b[0m\n",
        "\u001b[0;31mNameError\u001b[0m: name 'Rmax' is not defined"
       ]
      }
     ],
     "persistentId": "d9be1b5b-cc5b-4d53-bbf7-2deedeca2731",
     "text": "# below gives you an example of calling the class's functions\n# MW:   store the position and velocity COM\nMW_COMP = MWCOM.COM_P(0.1)"
    },
    "executionTime": "2020-02-12T03:49:19.225Z"
   },
   {
    "cell": {
     "executionCount": 19,
     "executionEventId": "5f8a9122-a4e9-42dd-8cf2-cc3a91400d28",
     "hasError": false,
     "id": "15a7c55c-5293-4deb-b861-0c326e14d523",
     "outputs": [],
     "persistentId": "3f3a5cb8-663d-4322-a77a-bde24cf50cec",
     "text": "class CenterOfMass:\n# Class to define COM position and velocity properties of a given galaxy \n# and simulation snapshot\n    \n    \n    def __init__(self, filename, ptype):\n    # Initialize the instance of this Class with the following properties:\n    \n        # read data in the given file using Read\n        self.time, self.total, self.data = Read(filename)                                                                                             \n\n        #create an array to store indexes of particles of desired Ptype                                \n        self.index = np.where(self.data['type'] == ptype)\n\n        # store the mass, positions, velocities of only the particles of the given type\n        # the following only gives the example of storing the mass\n        # self.m = self.data['m'][self.index]\n        # write your own code to complete this for positions and velocities\n        self.m = self.data['m'][self.index]\n        self.x = self.data['x'][self.index]\n        self.y = self.data['y'][self.index]\n        self.z = self.data['z'][self.index]\n        self.vx = self.data['vx'][self.index]\n        self.vy = self.data['vy'][self.index]\n        self.vz = self.data['vz'][self.index]\n\n\n    def COMdefine(self,a,b,c,m):\n    # Function to compute the center of mass position or velocity generically\n    # input: array (a,b,c) of positions or velocities and the mass\n    # returns: 3 floats  (the center of mass coordinates)\n\n        # write your own code to compute the generic COM using Eq. 1 in the homework instructions\n        # xcomponent Center of mass\n        Acom = np.sum(self.x*self.m)/np.sum(self.m)\n        # ycomponent Center of mass\n        Bcom = np.sum(self.y*self.m)/np.sum(self.m)\n        # zcomponent Center of mass\n        Ccom = np.sum(self.z*self.m)/np.sum(self.m)\n        \n        return Acom, Bcom, Ccom\n    \n    \n    def COM_P(self, delta):\n    # Function to specifically return the center of mass position and velocity                                         \n    # input:                                                                                                           \n    #        particle type (1,2,3)                                                                                     \n    #        delta (tolerance)                                                                                         \n    # returns: One vector, with rows indicating:                                                                                                                                                                            \n    #       3D coordinates of the center of mass position (kpc)                                                             \n\n        # Center of Mass Position                                                                                      \n        ###########################                                                                                    \n\n        # Try a first guess at the COM position by calling COMdefine                                                   \n        XCOM, YCOM, ZCOM = self.COMdefine(self.x, self.y, self.z, self.m)\n        # compute the magnitude of the COM position vector.\n        # write your own code below\n        RCOM = np.sqrt(XCOM**2+YCOM**2+ZCOM**2)\n\n\n        # iterative process to determine the center of mass                                                            \n\n        # change reference frame to COM frame                                                                          \n        # compute the difference between particle coordinates                                                          \n        # and the first guess at COM position\n        # write your own code below\n        xNew = self.x - XCOM\n        yNew = self.y - YCOM\n        zNew = self.z - ZCOM\n        RNEW = np.sqrt(self.x**2+self.y**2+self.z**2) - RCOM\n\n        # find the max 3D distance of all particles from the guessed COM                                               \n        # will re-start at half that radius (reduced radius)                                                           \n        RMAX = max(RNEW)/2.0\n        \n        # pick an initial value for the change in COM position                                                      \n        # between the first guess above and the new one computed from half that volume\n        # it should be larger than the input tolerance (delta) initially\n        CHANGE = 1000.0\n\n        # start iterative process to determine center of mass position                                                 \n        # delta is the tolerance for the difference in the old COM and the new one.    \n        \n        while (CHANGE > delta):\n            # select all particles within the reduced radius (starting from original x,y,z, m)\n            # write your own code below (hints, use np.where)\n            index2 = np.where(np.sqrt(self.x**2+self.y**2+self.z**2) <= RMAX)\n            x2 = self.data['x'][index2]\n            y2 = self.data['y'][index2]\n            z2 = self.data['z'][index2]\n            m2 = self.data['m'][index2]\n\n            # Refined COM position:                                                                                    \n            # compute the center of mass position using                                                                \n            # the particles in the reduced radius\n            # write your own code below\n            XCOM2, YCOM2, ZCOM2 = self.COMdefine(x2, y2, z2, m2)\n            # compute the new 3D COM position\n            # write your own code below\n            RCOM2 = np.sqrt(XCOM2**2+YCOM2**2+ZCOM2**2)\n\n            # determine the difference between the previous center of mass position                                    \n            # and the new one.                                                                                         \n            CHANGE = np.abs(RCOM - RCOM2)\n            # uncomment the following line if you wnat to check this                                                                                               \n            # print (\"CHANGE = \", CHANGE)                                                                                     \n\n            # Before loop continues, reset : RMAX, particle separations and COM                                        \n\n            # reduce the volume by a factor of 2 again                                                                 \n            RMAX = RMAX/2.0\n            # check this.                                                                                              \n            print (\"maxR\", RMAX)                                                                                      \n\n            # Change the frame of reference to the newly computed COM.                                                 \n            # subtract the new COM\n            # write your own code below\n            xNew = x2 - XCOM2\n            yNew = y2 - YCOM2\n            zNew = z2 - ZCOM2\n            RNEW = np.sqrt(x2**2+y2**2+z2**2) - RCOM2\n\n            # set the center of mass positions to the refined values                                                   \n            XCOM = XCOM2\n            YCOM = YCOM2\n            ZCOM = ZCOM2\n            RCOM = RCOM2\n\n            # create a vector to store the COM position                                                                                                                                                       \n            COMP = [XCOM, YCOM, ZCOM]\n\n        # set the correct units using astropy and round all values\n        # and then return the COM positon vector\n        # write your own code below\n        \n        XCOM = XCOM*u.kpc\n        YCOM = YCOM*u.kpc\n        ZCOM = ZCOM*u.kpc\n        COMP = COMP*u.kpc\n\n    def COM_V(self, COMX,COMY,COMZ):\n        # Center of Mass velocity\n        # input: X, Y, Z positions of the COM\n        # returns 3D Vector of COM Velocities\n        \n        # the max distance from the center that we will use to determine the center of mass velocity                   \n        RVMAX = 15.0*u.kpc\n\n        # determine the position of all particles relative to the center of mass position\n        # write your own code below\n        xV = self.x - COMX\n        yV = self.y - COMY\n        zV = self.z - COMZ\n        RV = np.sqrt(xV**2+yV**2+zV**2)\n        \n        # determine the index for those particles within the max radius\n        # write your own code below\n        indexV = np.where(RV < RVMAX)\n\n        # determine the velocity and mass of those particles within the mas radius\n        # write your own code below\n        vxnew = self.data['vx'][indexV]\n        vynew = self.data['vy'][indexV]\n        vznew = self.data['vz'][indexV]\n        mnew = self.data['m'][indexV]  \n        \n        # compute the center of mass velocity using those particles\n        # write your own code below\n        VXCOM, VYCOM, VZCOM = self.COMdefine(vxnew, vynew, vznew, mnew)\n\n        # create a vector to store the COM velocity\n        # set the correct units usint astropy\n        # round all values\n        # write your own code below\n        COMV = [VXCOM, VYCOM, VZCOM]\n\n        # return the COM vector                                                                                        \n        return COMV"
    },
    "executionTime": "2020-02-12T03:49:28.484Z"
   },
   {
    "cell": {
     "executionCount": 20,
     "executionEventId": "5ef23d81-69ce-4e16-bccd-dd4f56107ee8",
     "hasError": false,
     "id": "1ec1c88c-1fce-4f6e-b8c0-db3ed4c98b85",
     "outputs": [],
     "persistentId": "1925e6a4-0327-430a-b39d-4ebbd7201e33",
     "text": "# Create a Center of mass object for the MW, M31 and M33\n# below is an example of using the class for MW\nMWCOM = CenterOfMass(\"MW_000.txt\", 2)\n"
    },
    "executionTime": "2020-02-12T03:49:32.140Z"
   },
   {
    "cell": {
     "executionCount": 21,
     "executionEventId": "61852f5b-aabf-4437-80e1-6232f112a834",
     "hasError": false,
     "id": "41b3f20d-1811-4f91-b20f-b0580131a95f",
     "outputs": [
      {
       "name": "stdout",
       "output_type": "stream",
       "text": "maxR 10.489910273984053\n"
      }
     ],
     "persistentId": "d9be1b5b-cc5b-4d53-bbf7-2deedeca2731",
     "text": "# below gives you an example of calling the class's functions\n# MW:   store the position and velocity COM\nMW_COMP = MWCOM.COM_P(0.1)"
    },
    "executionTime": "2020-02-12T03:49:32.949Z"
   },
   {
    "cell": {
     "executionCount": 22,
     "executionEventId": "23f20843-a82f-43db-84f3-da42e21ed85d",
     "hasError": true,
     "id": "f701bbb1-527f-499d-96c1-c318cffd4b81",
     "outputs": [
      {
       "ename": "TypeError",
       "evalue": "'NoneType' object is not subscriptable",
       "output_type": "error",
       "traceback": [
        "\u001b[0;31m---------------------------------------------------------------------------\u001b[0m",
        "\u001b[0;31mTypeError\u001b[0m                                 Traceback (most recent call last)",
        "\u001b[0;32m<ipython-input-22-fb0f99478aff>\u001b[0m in \u001b[0;36m<module>\u001b[0;34m\u001b[0m\n\u001b[1;32m      1\u001b[0m \u001b[0;31m# now write your own code to answer questions\u001b[0m\u001b[0;34m\u001b[0m\u001b[0;34m\u001b[0m\u001b[0;34m\u001b[0m\u001b[0m\n\u001b[0;32m----> 2\u001b[0;31m \u001b[0mMW_COMV\u001b[0m \u001b[0;34m=\u001b[0m \u001b[0mMWCOM\u001b[0m\u001b[0;34m.\u001b[0m\u001b[0mCOM_V\u001b[0m\u001b[0;34m(\u001b[0m\u001b[0mMW_COMP\u001b[0m\u001b[0;34m[\u001b[0m\u001b[0;36m0\u001b[0m\u001b[0;34m]\u001b[0m\u001b[0;34m,\u001b[0m \u001b[0mMW_COMP\u001b[0m\u001b[0;34m[\u001b[0m\u001b[0;36m1\u001b[0m\u001b[0;34m]\u001b[0m\u001b[0;34m,\u001b[0m \u001b[0mMW_COMP\u001b[0m\u001b[0;34m[\u001b[0m\u001b[0;36m2\u001b[0m\u001b[0;34m]\u001b[0m\u001b[0;34m)\u001b[0m\u001b[0;34m\u001b[0m\u001b[0;34m\u001b[0m\u001b[0m\n\u001b[0m\u001b[1;32m      3\u001b[0m \u001b[0mprint\u001b[0m\u001b[0;34m(\u001b[0m\u001b[0mMW_COMP\u001b[0m\u001b[0;34m)\u001b[0m\u001b[0;34m\u001b[0m\u001b[0;34m\u001b[0m\u001b[0m\n",
        "\u001b[0;31mTypeError\u001b[0m: 'NoneType' object is not subscriptable"
       ]
      }
     ],
     "persistentId": "966ff13b-1221-44fb-ac73-7a97eddb14fb",
     "text": "# now write your own code to answer questions\nMW_COMV = MWCOM.COM_V(MW_COMP[0], MW_COMP[1], MW_COMP[2])\nprint(MW_COMP)"
    },
    "executionTime": "2020-02-12T03:49:35.529Z"
   },
   {
    "cell": {
     "executionCount": 23,
     "executionEventId": "790c1740-3480-48f7-9e70-be38b71e6ab1",
     "hasError": false,
     "id": "15a7c55c-5293-4deb-b861-0c326e14d523",
     "outputs": [],
     "persistentId": "3f3a5cb8-663d-4322-a77a-bde24cf50cec",
     "text": "class CenterOfMass:\n# Class to define COM position and velocity properties of a given galaxy \n# and simulation snapshot\n    \n    \n    def __init__(self, filename, ptype):\n    # Initialize the instance of this Class with the following properties:\n    \n        # read data in the given file using Read\n        self.time, self.total, self.data = Read(filename)                                                                                             \n\n        #create an array to store indexes of particles of desired Ptype                                \n        self.index = np.where(self.data['type'] == ptype)\n\n        # store the mass, positions, velocities of only the particles of the given type\n        # the following only gives the example of storing the mass\n        # self.m = self.data['m'][self.index]\n        # write your own code to complete this for positions and velocities\n        self.m = self.data['m'][self.index]\n        self.x = self.data['x'][self.index]\n        self.y = self.data['y'][self.index]\n        self.z = self.data['z'][self.index]\n        self.vx = self.data['vx'][self.index]\n        self.vy = self.data['vy'][self.index]\n        self.vz = self.data['vz'][self.index]\n\n\n    def COMdefine(self,a,b,c,m):\n    # Function to compute the center of mass position or velocity generically\n    # input: array (a,b,c) of positions or velocities and the mass\n    # returns: 3 floats  (the center of mass coordinates)\n\n        # write your own code to compute the generic COM using Eq. 1 in the homework instructions\n        # xcomponent Center of mass\n        Acom = np.sum(self.x*self.m)/np.sum(self.m)\n        # ycomponent Center of mass\n        Bcom = np.sum(self.y*self.m)/np.sum(self.m)\n        # zcomponent Center of mass\n        Ccom = np.sum(self.z*self.m)/np.sum(self.m)\n        \n        return Acom, Bcom, Ccom\n    \n    \n    def COM_P(self, delta):\n    # Function to specifically return the center of mass position and velocity                                         \n    # input:                                                                                                           \n    #        particle type (1,2,3)                                                                                     \n    #        delta (tolerance)                                                                                         \n    # returns: One vector, with rows indicating:                                                                                                                                                                            \n    #       3D coordinates of the center of mass position (kpc)                                                             \n\n        # Center of Mass Position                                                                                      \n        ###########################                                                                                    \n\n        # Try a first guess at the COM position by calling COMdefine                                                   \n        XCOM, YCOM, ZCOM = self.COMdefine(self.x, self.y, self.z, self.m)\n        # compute the magnitude of the COM position vector.\n        # write your own code below\n        RCOM = np.sqrt(XCOM**2+YCOM**2+ZCOM**2)\n\n\n        # iterative process to determine the center of mass                                                            \n\n        # change reference frame to COM frame                                                                          \n        # compute the difference between particle coordinates                                                          \n        # and the first guess at COM position\n        # write your own code below\n        xNew = self.x - XCOM\n        yNew = self.y - YCOM\n        zNew = self.z - ZCOM\n        RNEW = np.sqrt(self.x**2+self.y**2+self.z**2) - RCOM\n\n        # find the max 3D distance of all particles from the guessed COM                                               \n        # will re-start at half that radius (reduced radius)                                                           \n        RMAX = max(RNEW)/2.0\n        \n        # pick an initial value for the change in COM position                                                      \n        # between the first guess above and the new one computed from half that volume\n        # it should be larger than the input tolerance (delta) initially\n        CHANGE = 1000.0\n\n        # start iterative process to determine center of mass position                                                 \n        # delta is the tolerance for the difference in the old COM and the new one.    \n        \n        while (CHANGE > delta):\n            # select all particles within the reduced radius (starting from original x,y,z, m)\n            # write your own code below (hints, use np.where)\n            index2 = np.where(np.sqrt(self.x**2+self.y**2+self.z**2) <= RMAX)\n            x2 = self.data['x'][index2]\n            y2 = self.data['y'][index2]\n            z2 = self.data['z'][index2]\n            m2 = self.data['m'][index2]\n\n            # Refined COM position:                                                                                    \n            # compute the center of mass position using                                                                \n            # the particles in the reduced radius\n            # write your own code below\n            XCOM2, YCOM2, ZCOM2 = self.COMdefine(x2, y2, z2, m2)\n            # compute the new 3D COM position\n            # write your own code below\n            RCOM2 = np.sqrt(XCOM2**2+YCOM2**2+ZCOM2**2)\n\n            # determine the difference between the previous center of mass position                                    \n            # and the new one.                                                                                         \n            CHANGE = np.abs(RCOM - RCOM2)\n            # uncomment the following line if you wnat to check this                                                                                               \n            # print (\"CHANGE = \", CHANGE)                                                                                     \n\n            # Before loop continues, reset : RMAX, particle separations and COM                                        \n\n            # reduce the volume by a factor of 2 again                                                                 \n            RMAX = RMAX/2.0\n            # check this.                                                                                              \n            #print (\"maxR\", RMAX)                                                                                      \n\n            # Change the frame of reference to the newly computed COM.                                                 \n            # subtract the new COM\n            # write your own code below\n            xNew = x2 - XCOM2\n            yNew = y2 - YCOM2\n            zNew = z2 - ZCOM2\n            RNEW = np.sqrt(x2**2+y2**2+z2**2) - RCOM2\n\n            # set the center of mass positions to the refined values                                                   \n            XCOM = XCOM2\n            YCOM = YCOM2\n            ZCOM = ZCOM2\n            RCOM = RCOM2\n\n            # create a vector to store the COM position                                                                                                                                                       \n            COMP = [XCOM, YCOM, ZCOM]\n\n        # set the correct units using astropy and round all values\n        # and then return the COM positon vector\n        # write your own code below\n        \n        XCOM = XCOM*u.kpc\n        YCOM = YCOM*u.kpc\n        ZCOM = ZCOM*u.kpc\n        COMP = COMP*u.kpc\n        print(COMP)\n\n    def COM_V(self, COMX,COMY,COMZ):\n        # Center of Mass velocity\n        # input: X, Y, Z positions of the COM\n        # returns 3D Vector of COM Velocities\n        \n        # the max distance from the center that we will use to determine the center of mass velocity                   \n        RVMAX = 15.0*u.kpc\n\n        # determine the position of all particles relative to the center of mass position\n        # write your own code below\n        xV = self.x - COMX\n        yV = self.y - COMY\n        zV = self.z - COMZ\n        RV = np.sqrt(xV**2+yV**2+zV**2)\n        \n        # determine the index for those particles within the max radius\n        # write your own code below\n        indexV = np.where(RV < RVMAX)\n\n        # determine the velocity and mass of those particles within the mas radius\n        # write your own code below\n        vxnew = self.data['vx'][indexV]\n        vynew = self.data['vy'][indexV]\n        vznew = self.data['vz'][indexV]\n        mnew = self.data['m'][indexV]  \n        \n        # compute the center of mass velocity using those particles\n        # write your own code below\n        VXCOM, VYCOM, VZCOM = self.COMdefine(vxnew, vynew, vznew, mnew)\n\n        # create a vector to store the COM velocity\n        # set the correct units usint astropy\n        # round all values\n        # write your own code below\n        COMV = [VXCOM, VYCOM, VZCOM]\n\n        # return the COM vector                                                                                        \n        return COMV"
    },
    "executionTime": "2020-02-12T03:49:56.405Z"
   },
   {
    "cell": {
     "executionCount": 24,
     "executionEventId": "33787e17-815f-4f7b-a3eb-85e72c0d58b0",
     "hasError": false,
     "id": "1ec1c88c-1fce-4f6e-b8c0-db3ed4c98b85",
     "outputs": [],
     "persistentId": "1925e6a4-0327-430a-b39d-4ebbd7201e33",
     "text": "# Create a Center of mass object for the MW, M31 and M33\n# below is an example of using the class for MW\nMWCOM = CenterOfMass(\"MW_000.txt\", 2)\n"
    },
    "executionTime": "2020-02-12T03:50:00.198Z"
   },
   {
    "cell": {
     "executionCount": 25,
     "executionEventId": "beda6281-b8ee-4cbf-85df-ed73ccb067e6",
     "hasError": false,
     "id": "41b3f20d-1811-4f91-b20f-b0580131a95f",
     "outputs": [
      {
       "name": "stdout",
       "output_type": "stream",
       "text": "[-0.93398577  2.40892628 -1.42421335] kpc\n"
      }
     ],
     "persistentId": "d9be1b5b-cc5b-4d53-bbf7-2deedeca2731",
     "text": "# below gives you an example of calling the class's functions\n# MW:   store the position and velocity COM\nMW_COMP = MWCOM.COM_P(0.1)"
    },
    "executionTime": "2020-02-12T03:50:00.254Z"
   },
   {
    "cell": {
     "executionCount": 26,
     "executionEventId": "f1e22a82-ebb6-433f-ba6d-6ed233ed631c",
     "hasError": false,
     "id": "15a7c55c-5293-4deb-b861-0c326e14d523",
     "outputs": [],
     "persistentId": "3f3a5cb8-663d-4322-a77a-bde24cf50cec",
     "text": "class CenterOfMass:\n# Class to define COM position and velocity properties of a given galaxy \n# and simulation snapshot\n    \n    \n    def __init__(self, filename, ptype):\n    # Initialize the instance of this Class with the following properties:\n    \n        # read data in the given file using Read\n        self.time, self.total, self.data = Read(filename)                                                                                             \n\n        #create an array to store indexes of particles of desired Ptype                                \n        self.index = np.where(self.data['type'] == ptype)\n\n        # store the mass, positions, velocities of only the particles of the given type\n        # the following only gives the example of storing the mass\n        # self.m = self.data['m'][self.index]\n        # write your own code to complete this for positions and velocities\n        self.m = self.data['m'][self.index]\n        self.x = self.data['x'][self.index]\n        self.y = self.data['y'][self.index]\n        self.z = self.data['z'][self.index]\n        self.vx = self.data['vx'][self.index]\n        self.vy = self.data['vy'][self.index]\n        self.vz = self.data['vz'][self.index]\n\n\n    def COMdefine(self,a,b,c,m):\n    # Function to compute the center of mass position or velocity generically\n    # input: array (a,b,c) of positions or velocities and the mass\n    # returns: 3 floats  (the center of mass coordinates)\n\n        # write your own code to compute the generic COM using Eq. 1 in the homework instructions\n        # xcomponent Center of mass\n        Acom = np.sum(self.x*self.m)/np.sum(self.m)\n        # ycomponent Center of mass\n        Bcom = np.sum(self.y*self.m)/np.sum(self.m)\n        # zcomponent Center of mass\n        Ccom = np.sum(self.z*self.m)/np.sum(self.m)\n        \n        return Acom, Bcom, Ccom\n    \n    \n    def COM_P(self, delta):\n    # Function to specifically return the center of mass position and velocity                                         \n    # input:                                                                                                           \n    #        particle type (1,2,3)                                                                                     \n    #        delta (tolerance)                                                                                         \n    # returns: One vector, with rows indicating:                                                                                                                                                                            \n    #       3D coordinates of the center of mass position (kpc)                                                             \n\n        # Center of Mass Position                                                                                      \n        ###########################                                                                                    \n\n        # Try a first guess at the COM position by calling COMdefine                                                   \n        XCOM, YCOM, ZCOM = self.COMdefine(self.x, self.y, self.z, self.m)\n        # compute the magnitude of the COM position vector.\n        # write your own code below\n        RCOM = np.sqrt(XCOM**2+YCOM**2+ZCOM**2)\n\n\n        # iterative process to determine the center of mass                                                            \n\n        # change reference frame to COM frame                                                                          \n        # compute the difference between particle coordinates                                                          \n        # and the first guess at COM position\n        # write your own code below\n        xNew = self.x - XCOM\n        yNew = self.y - YCOM\n        zNew = self.z - ZCOM\n        RNEW = np.sqrt(self.x**2+self.y**2+self.z**2) - RCOM\n\n        # find the max 3D distance of all particles from the guessed COM                                               \n        # will re-start at half that radius (reduced radius)                                                           \n        RMAX = max(RNEW)/2.0\n        \n        # pick an initial value for the change in COM position                                                      \n        # between the first guess above and the new one computed from half that volume\n        # it should be larger than the input tolerance (delta) initially\n        CHANGE = 1000.0\n\n        # start iterative process to determine center of mass position                                                 \n        # delta is the tolerance for the difference in the old COM and the new one.    \n        \n        while (CHANGE > delta):\n            # select all particles within the reduced radius (starting from original x,y,z, m)\n            # write your own code below (hints, use np.where)\n            index2 = np.where(np.sqrt(self.x**2+self.y**2+self.z**2) <= RMAX)\n            x2 = self.data['x'][index2]\n            y2 = self.data['y'][index2]\n            z2 = self.data['z'][index2]\n            m2 = self.data['m'][index2]\n\n            # Refined COM position:                                                                                    \n            # compute the center of mass position using                                                                \n            # the particles in the reduced radius\n            # write your own code below\n            XCOM2, YCOM2, ZCOM2 = self.COMdefine(x2, y2, z2, m2)\n            # compute the new 3D COM position\n            # write your own code below\n            RCOM2 = np.sqrt(XCOM2**2+YCOM2**2+ZCOM2**2)\n\n            # determine the difference between the previous center of mass position                                    \n            # and the new one.                                                                                         \n            CHANGE = np.abs(RCOM - RCOM2)\n            # uncomment the following line if you wnat to check this                                                                                               \n            # print (\"CHANGE = \", CHANGE)                                                                                     \n\n            # Before loop continues, reset : RMAX, particle separations and COM                                        \n\n            # reduce the volume by a factor of 2 again                                                                 \n            RMAX = RMAX/2.0\n            # check this.                                                                                              \n            #print (\"maxR\", RMAX)                                                                                      \n\n            # Change the frame of reference to the newly computed COM.                                                 \n            # subtract the new COM\n            # write your own code below\n            xNew = x2 - XCOM2\n            yNew = y2 - YCOM2\n            zNew = z2 - ZCOM2\n            RNEW = np.sqrt(x2**2+y2**2+z2**2) - RCOM2\n\n            # set the center of mass positions to the refined values                                                   \n            XCOM = XCOM2\n            YCOM = YCOM2\n            ZCOM = ZCOM2\n            RCOM = RCOM2\n\n            # create a vector to store the COM position                                                                                                                                                       \n            COMP = [XCOM, YCOM, ZCOM]\n\n        # set the correct units using astropy and round all values\n        # and then return the COM positon vector\n        # write your own code below\n        \n        XCOM = XCOM*u.kpc\n        YCOM = YCOM*u.kpc\n        ZCOM = ZCOM*u.kpc\n        COMP = COMP*u.kpc\n    \n        return COMP\n\n    def COM_V(self, COMX,COMY,COMZ):\n        # Center of Mass velocity\n        # input: X, Y, Z positions of the COM\n        # returns 3D Vector of COM Velocities\n        \n        # the max distance from the center that we will use to determine the center of mass velocity                   \n        RVMAX = 15.0*u.kpc\n\n        # determine the position of all particles relative to the center of mass position\n        # write your own code below\n        xV = self.x - COMX\n        yV = self.y - COMY\n        zV = self.z - COMZ\n        RV = np.sqrt(xV**2+yV**2+zV**2)\n        \n        # determine the index for those particles within the max radius\n        # write your own code below\n        indexV = np.where(RV < RVMAX)\n\n        # determine the velocity and mass of those particles within the mas radius\n        # write your own code below\n        vxnew = self.data['vx'][indexV]\n        vynew = self.data['vy'][indexV]\n        vznew = self.data['vz'][indexV]\n        mnew = self.data['m'][indexV]  \n        \n        # compute the center of mass velocity using those particles\n        # write your own code below\n        VXCOM, VYCOM, VZCOM = self.COMdefine(vxnew, vynew, vznew, mnew)\n\n        # create a vector to store the COM velocity\n        # set the correct units usint astropy\n        # round all values\n        # write your own code below\n        COMV = [VXCOM, VYCOM, VZCOM]\n\n        # return the COM vector                                                                                        \n        return COMV"
    },
    "executionTime": "2020-02-12T03:50:24.550Z"
   },
   {
    "cell": {
     "executionCount": 27,
     "executionEventId": "f164cbad-5c52-467d-8268-fe8d91e19325",
     "hasError": false,
     "id": "1ec1c88c-1fce-4f6e-b8c0-db3ed4c98b85",
     "outputs": [],
     "persistentId": "1925e6a4-0327-430a-b39d-4ebbd7201e33",
     "text": "# Create a Center of mass object for the MW, M31 and M33\n# below is an example of using the class for MW\nMWCOM = CenterOfMass(\"MW_000.txt\", 2)\n"
    },
    "executionTime": "2020-02-12T03:50:28.518Z"
   },
   {
    "cell": {
     "executionCount": 28,
     "executionEventId": "70c2ded7-7f85-4ae0-96cb-7e7e69deb577",
     "hasError": false,
     "id": "41b3f20d-1811-4f91-b20f-b0580131a95f",
     "outputs": [],
     "persistentId": "d9be1b5b-cc5b-4d53-bbf7-2deedeca2731",
     "text": "# below gives you an example of calling the class's functions\n# MW:   store the position and velocity COM\nMW_COMP = MWCOM.COM_P(0.1)"
    },
    "executionTime": "2020-02-12T03:50:28.599Z"
   },
   {
    "cell": {
     "executionCount": 29,
     "executionEventId": "d31ae3c2-5959-4e80-9652-4e8b3d4c3f0c",
     "hasError": true,
     "id": "f701bbb1-527f-499d-96c1-c318cffd4b81",
     "outputs": [
      {
       "ename": "UnitConversionError",
       "evalue": "Can only apply 'subtract' function to dimensionless quantities when other argument is not a quantity (unless the latter is all zero/infinity/nan)",
       "output_type": "error",
       "traceback": [
        "\u001b[0;31m---------------------------------------------------------------------------\u001b[0m",
        "\u001b[0;31mUnitConversionError\u001b[0m                       Traceback (most recent call last)",
        "\u001b[0;32m<ipython-input-29-fb0f99478aff>\u001b[0m in \u001b[0;36m<module>\u001b[0;34m\u001b[0m\n\u001b[1;32m      1\u001b[0m \u001b[0;31m# now write your own code to answer questions\u001b[0m\u001b[0;34m\u001b[0m\u001b[0;34m\u001b[0m\u001b[0;34m\u001b[0m\u001b[0m\n\u001b[0;32m----> 2\u001b[0;31m \u001b[0mMW_COMV\u001b[0m \u001b[0;34m=\u001b[0m \u001b[0mMWCOM\u001b[0m\u001b[0;34m.\u001b[0m\u001b[0mCOM_V\u001b[0m\u001b[0;34m(\u001b[0m\u001b[0mMW_COMP\u001b[0m\u001b[0;34m[\u001b[0m\u001b[0;36m0\u001b[0m\u001b[0;34m]\u001b[0m\u001b[0;34m,\u001b[0m \u001b[0mMW_COMP\u001b[0m\u001b[0;34m[\u001b[0m\u001b[0;36m1\u001b[0m\u001b[0;34m]\u001b[0m\u001b[0;34m,\u001b[0m \u001b[0mMW_COMP\u001b[0m\u001b[0;34m[\u001b[0m\u001b[0;36m2\u001b[0m\u001b[0;34m]\u001b[0m\u001b[0;34m)\u001b[0m\u001b[0;34m\u001b[0m\u001b[0;34m\u001b[0m\u001b[0m\n\u001b[0m\u001b[1;32m      3\u001b[0m \u001b[0mprint\u001b[0m\u001b[0;34m(\u001b[0m\u001b[0mMW_COMP\u001b[0m\u001b[0;34m)\u001b[0m\u001b[0;34m\u001b[0m\u001b[0;34m\u001b[0m\u001b[0m\n",
        "\u001b[0;32m<ipython-input-26-33064f08116b>\u001b[0m in \u001b[0;36mCOM_V\u001b[0;34m(self, COMX, COMY, COMZ)\u001b[0m\n\u001b[1;32m    152\u001b[0m         \u001b[0;31m# determine the position of all particles relative to the center of mass position\u001b[0m\u001b[0;34m\u001b[0m\u001b[0;34m\u001b[0m\u001b[0;34m\u001b[0m\u001b[0m\n\u001b[1;32m    153\u001b[0m         \u001b[0;31m# write your own code below\u001b[0m\u001b[0;34m\u001b[0m\u001b[0;34m\u001b[0m\u001b[0;34m\u001b[0m\u001b[0m\n\u001b[0;32m--> 154\u001b[0;31m         \u001b[0mxV\u001b[0m \u001b[0;34m=\u001b[0m \u001b[0mself\u001b[0m\u001b[0;34m.\u001b[0m\u001b[0mx\u001b[0m \u001b[0;34m-\u001b[0m \u001b[0mCOMX\u001b[0m\u001b[0;34m\u001b[0m\u001b[0;34m\u001b[0m\u001b[0m\n\u001b[0m\u001b[1;32m    155\u001b[0m         \u001b[0myV\u001b[0m \u001b[0;34m=\u001b[0m \u001b[0mself\u001b[0m\u001b[0;34m.\u001b[0m\u001b[0my\u001b[0m \u001b[0;34m-\u001b[0m \u001b[0mCOMY\u001b[0m\u001b[0;34m\u001b[0m\u001b[0;34m\u001b[0m\u001b[0m\n\u001b[1;32m    156\u001b[0m         \u001b[0mzV\u001b[0m \u001b[0;34m=\u001b[0m \u001b[0mself\u001b[0m\u001b[0;34m.\u001b[0m\u001b[0mz\u001b[0m \u001b[0;34m-\u001b[0m \u001b[0mCOMZ\u001b[0m\u001b[0;34m\u001b[0m\u001b[0;34m\u001b[0m\u001b[0m\n",
        "\u001b[0;32m/anaconda3/lib/python3.6/site-packages/astropy/units/quantity.py\u001b[0m in \u001b[0;36m__array_ufunc__\u001b[0;34m(self, function, method, *inputs, **kwargs)\u001b[0m\n\u001b[1;32m    459\u001b[0m         \u001b[0;31m# consistent units between two inputs (e.g., in np.add) --\u001b[0m\u001b[0;34m\u001b[0m\u001b[0;34m\u001b[0m\u001b[0;34m\u001b[0m\u001b[0m\n\u001b[1;32m    460\u001b[0m         \u001b[0;31m# and the unit of the result (or tuple of units for nout > 1).\u001b[0m\u001b[0;34m\u001b[0m\u001b[0;34m\u001b[0m\u001b[0;34m\u001b[0m\u001b[0m\n\u001b[0;32m--> 461\u001b[0;31m         \u001b[0mconverters\u001b[0m\u001b[0;34m,\u001b[0m \u001b[0munit\u001b[0m \u001b[0;34m=\u001b[0m \u001b[0mconverters_and_unit\u001b[0m\u001b[0;34m(\u001b[0m\u001b[0mfunction\u001b[0m\u001b[0;34m,\u001b[0m \u001b[0mmethod\u001b[0m\u001b[0;34m,\u001b[0m \u001b[0;34m*\u001b[0m\u001b[0minputs\u001b[0m\u001b[0;34m)\u001b[0m\u001b[0;34m\u001b[0m\u001b[0;34m\u001b[0m\u001b[0m\n\u001b[0m\u001b[1;32m    462\u001b[0m \u001b[0;34m\u001b[0m\u001b[0m\n\u001b[1;32m    463\u001b[0m         \u001b[0mout\u001b[0m \u001b[0;34m=\u001b[0m \u001b[0mkwargs\u001b[0m\u001b[0;34m.\u001b[0m\u001b[0mget\u001b[0m\u001b[0;34m(\u001b[0m\u001b[0;34m'out'\u001b[0m\u001b[0;34m,\u001b[0m \u001b[0;32mNone\u001b[0m\u001b[0;34m)\u001b[0m\u001b[0;34m\u001b[0m\u001b[0;34m\u001b[0m\u001b[0m\n",
        "\u001b[0;32m/anaconda3/lib/python3.6/site-packages/astropy/units/quantity_helper/converters.py\u001b[0m in \u001b[0;36mconverters_and_unit\u001b[0;34m(function, method, *args)\u001b[0m\n\u001b[1;32m    187\u001b[0m                             \u001b[0;34m\"argument is not a quantity (unless the \"\u001b[0m\u001b[0;34m\u001b[0m\u001b[0;34m\u001b[0m\u001b[0m\n\u001b[1;32m    188\u001b[0m                             \u001b[0;34m\"latter is all zero/infinity/nan)\"\u001b[0m\u001b[0;34m\u001b[0m\u001b[0;34m\u001b[0m\u001b[0m\n\u001b[0;32m--> 189\u001b[0;31m                             .format(function.__name__))\n\u001b[0m\u001b[1;32m    190\u001b[0m             \u001b[0;32mexcept\u001b[0m \u001b[0mTypeError\u001b[0m\u001b[0;34m:\u001b[0m\u001b[0;34m\u001b[0m\u001b[0;34m\u001b[0m\u001b[0m\n\u001b[1;32m    191\u001b[0m                 \u001b[0;31m# _can_have_arbitrary_unit failed: arg could not be compared\u001b[0m\u001b[0;34m\u001b[0m\u001b[0;34m\u001b[0m\u001b[0;34m\u001b[0m\u001b[0m\n",
        "\u001b[0;31mUnitConversionError\u001b[0m: Can only apply 'subtract' function to dimensionless quantities when other argument is not a quantity (unless the latter is all zero/infinity/nan)"
       ]
      }
     ],
     "persistentId": "966ff13b-1221-44fb-ac73-7a97eddb14fb",
     "text": "# now write your own code to answer questions\nMW_COMV = MWCOM.COM_V(MW_COMP[0], MW_COMP[1], MW_COMP[2])\nprint(MW_COMP)"
    },
    "executionTime": "2020-02-12T03:50:30.521Z"
   },
   {
    "cell": {
     "executionCount": 30,
     "executionEventId": "51302b86-a54f-455d-bfd2-7ad07e88adcd",
     "hasError": false,
     "id": "41b3f20d-1811-4f91-b20f-b0580131a95f",
     "outputs": [
      {
       "name": "stdout",
       "output_type": "stream",
       "text": "[-0.93398577  2.40892628 -1.42421335] kpc\n"
      }
     ],
     "persistentId": "d9be1b5b-cc5b-4d53-bbf7-2deedeca2731",
     "text": "# below gives you an example of calling the class's functions\n# MW:   store the position and velocity COM\nMW_COMP = MWCOM.COM_P(0.1)\nprint(MW_COMP)"
    },
    "executionTime": "2020-02-12T03:50:54.735Z"
   },
   {
    "cell": {
     "executionCount": 31,
     "executionEventId": "411071cf-9a7e-4440-9575-ba88b22b78ae",
     "hasError": false,
     "id": "41b3f20d-1811-4f91-b20f-b0580131a95f",
     "outputs": [
      {
       "name": "stdout",
       "output_type": "stream",
       "text": "-0.9339857735946873 kpc\n"
      }
     ],
     "persistentId": "d9be1b5b-cc5b-4d53-bbf7-2deedeca2731",
     "text": "# below gives you an example of calling the class's functions\n# MW:   store the position and velocity COM\nMW_COMP = MWCOM.COM_P(0.1)\nprint(MW_COMP[0])"
    },
    "executionTime": "2020-02-12T03:51:00.370Z"
   },
   {
    "cell": {
     "executionCount": 32,
     "executionEventId": "c19a04b2-35b3-4c04-8a36-bb8ba4a846b0",
     "hasError": false,
     "id": "41b3f20d-1811-4f91-b20f-b0580131a95f",
     "outputs": [
      {
       "name": "stdout",
       "output_type": "stream",
       "text": "-0.9339857735946873 kpc\n"
      }
     ],
     "persistentId": "d9be1b5b-cc5b-4d53-bbf7-2deedeca2731",
     "text": "# below gives you an example of calling the class's functions\n# MW:   store the position and velocity COM\nMW_COMP = MWCOM.COM_P(0.1)\nprint(MW_COMP[0])"
    },
    "executionTime": "2020-02-12T03:51:42.714Z"
   },
   {
    "cell": {
     "executionCount": 33,
     "executionEventId": "22fa059f-c6ab-4aef-9e23-482bfa8288e2",
     "hasError": false,
     "id": "41b3f20d-1811-4f91-b20f-b0580131a95f",
     "outputs": [
      {
       "name": "stdout",
       "output_type": "stream",
       "text": "[-0.93398577  2.40892628 -1.42421335] kpc\n"
      }
     ],
     "persistentId": "d9be1b5b-cc5b-4d53-bbf7-2deedeca2731",
     "text": "# below gives you an example of calling the class's functions\n# MW:   store the position and velocity COM\nMW_COMP = MWCOM.COM_P(0.1)\nprint(MW_COMP)"
    },
    "executionTime": "2020-02-12T03:51:45.471Z"
   },
   {
    "cell": {
     "executionCount": 34,
     "executionEventId": "daa987c9-bff5-4a85-89c6-c919346dd256",
     "hasError": true,
     "id": "f701bbb1-527f-499d-96c1-c318cffd4b81",
     "outputs": [
      {
       "ename": "UnitConversionError",
       "evalue": "Can only apply 'greater' function to dimensionless quantities when other argument is not a quantity (unless the latter is all zero/infinity/nan)",
       "output_type": "error",
       "traceback": [
        "\u001b[0;31m---------------------------------------------------------------------------\u001b[0m",
        "\u001b[0;31mUnitConversionError\u001b[0m                       Traceback (most recent call last)",
        "\u001b[0;32m<ipython-input-34-079eaf6a90bc>\u001b[0m in \u001b[0;36m<module>\u001b[0;34m\u001b[0m\n\u001b[1;32m      1\u001b[0m \u001b[0;31m# now write your own code to answer questions\u001b[0m\u001b[0;34m\u001b[0m\u001b[0;34m\u001b[0m\u001b[0;34m\u001b[0m\u001b[0m\n\u001b[0;32m----> 2\u001b[0;31m \u001b[0mMW_COMV\u001b[0m \u001b[0;34m=\u001b[0m \u001b[0mMWCOM\u001b[0m\u001b[0;34m.\u001b[0m\u001b[0mCOM_V\u001b[0m\u001b[0;34m(\u001b[0m\u001b[0;34m-\u001b[0m\u001b[0;36m0.9\u001b[0m\u001b[0;34m,\u001b[0m \u001b[0;36m2.4\u001b[0m\u001b[0;34m,\u001b[0m \u001b[0;34m-\u001b[0m\u001b[0;36m1.4\u001b[0m\u001b[0;34m)\u001b[0m\u001b[0;34m\u001b[0m\u001b[0;34m\u001b[0m\u001b[0m\n\u001b[0m\u001b[1;32m      3\u001b[0m \u001b[0mprint\u001b[0m\u001b[0;34m(\u001b[0m\u001b[0mMW_COMP\u001b[0m\u001b[0;34m)\u001b[0m\u001b[0;34m\u001b[0m\u001b[0;34m\u001b[0m\u001b[0m\n",
        "\u001b[0;32m<ipython-input-26-33064f08116b>\u001b[0m in \u001b[0;36mCOM_V\u001b[0;34m(self, COMX, COMY, COMZ)\u001b[0m\n\u001b[1;32m    159\u001b[0m         \u001b[0;31m# determine the index for those particles within the max radius\u001b[0m\u001b[0;34m\u001b[0m\u001b[0;34m\u001b[0m\u001b[0;34m\u001b[0m\u001b[0m\n\u001b[1;32m    160\u001b[0m         \u001b[0;31m# write your own code below\u001b[0m\u001b[0;34m\u001b[0m\u001b[0;34m\u001b[0m\u001b[0;34m\u001b[0m\u001b[0m\n\u001b[0;32m--> 161\u001b[0;31m         \u001b[0mindexV\u001b[0m \u001b[0;34m=\u001b[0m \u001b[0mnp\u001b[0m\u001b[0;34m.\u001b[0m\u001b[0mwhere\u001b[0m\u001b[0;34m(\u001b[0m\u001b[0mRV\u001b[0m \u001b[0;34m<\u001b[0m \u001b[0mRVMAX\u001b[0m\u001b[0;34m)\u001b[0m\u001b[0;34m\u001b[0m\u001b[0;34m\u001b[0m\u001b[0m\n\u001b[0m\u001b[1;32m    162\u001b[0m \u001b[0;34m\u001b[0m\u001b[0m\n\u001b[1;32m    163\u001b[0m         \u001b[0;31m# determine the velocity and mass of those particles within the mas radius\u001b[0m\u001b[0;34m\u001b[0m\u001b[0;34m\u001b[0m\u001b[0;34m\u001b[0m\u001b[0m\n",
        "\u001b[0;32m/anaconda3/lib/python3.6/site-packages/astropy/units/quantity.py\u001b[0m in \u001b[0;36m__array_ufunc__\u001b[0;34m(self, function, method, *inputs, **kwargs)\u001b[0m\n\u001b[1;32m    459\u001b[0m         \u001b[0;31m# consistent units between two inputs (e.g., in np.add) --\u001b[0m\u001b[0;34m\u001b[0m\u001b[0;34m\u001b[0m\u001b[0;34m\u001b[0m\u001b[0m\n\u001b[1;32m    460\u001b[0m         \u001b[0;31m# and the unit of the result (or tuple of units for nout > 1).\u001b[0m\u001b[0;34m\u001b[0m\u001b[0;34m\u001b[0m\u001b[0;34m\u001b[0m\u001b[0m\n\u001b[0;32m--> 461\u001b[0;31m         \u001b[0mconverters\u001b[0m\u001b[0;34m,\u001b[0m \u001b[0munit\u001b[0m \u001b[0;34m=\u001b[0m \u001b[0mconverters_and_unit\u001b[0m\u001b[0;34m(\u001b[0m\u001b[0mfunction\u001b[0m\u001b[0;34m,\u001b[0m \u001b[0mmethod\u001b[0m\u001b[0;34m,\u001b[0m \u001b[0;34m*\u001b[0m\u001b[0minputs\u001b[0m\u001b[0;34m)\u001b[0m\u001b[0;34m\u001b[0m\u001b[0;34m\u001b[0m\u001b[0m\n\u001b[0m\u001b[1;32m    462\u001b[0m \u001b[0;34m\u001b[0m\u001b[0m\n\u001b[1;32m    463\u001b[0m         \u001b[0mout\u001b[0m \u001b[0;34m=\u001b[0m \u001b[0mkwargs\u001b[0m\u001b[0;34m.\u001b[0m\u001b[0mget\u001b[0m\u001b[0;34m(\u001b[0m\u001b[0;34m'out'\u001b[0m\u001b[0;34m,\u001b[0m \u001b[0;32mNone\u001b[0m\u001b[0;34m)\u001b[0m\u001b[0;34m\u001b[0m\u001b[0;34m\u001b[0m\u001b[0m\n",
        "\u001b[0;32m/anaconda3/lib/python3.6/site-packages/astropy/units/quantity_helper/converters.py\u001b[0m in \u001b[0;36mconverters_and_unit\u001b[0;34m(function, method, *args)\u001b[0m\n\u001b[1;32m    187\u001b[0m                             \u001b[0;34m\"argument is not a quantity (unless the \"\u001b[0m\u001b[0;34m\u001b[0m\u001b[0;34m\u001b[0m\u001b[0m\n\u001b[1;32m    188\u001b[0m                             \u001b[0;34m\"latter is all zero/infinity/nan)\"\u001b[0m\u001b[0;34m\u001b[0m\u001b[0;34m\u001b[0m\u001b[0m\n\u001b[0;32m--> 189\u001b[0;31m                             .format(function.__name__))\n\u001b[0m\u001b[1;32m    190\u001b[0m             \u001b[0;32mexcept\u001b[0m \u001b[0mTypeError\u001b[0m\u001b[0;34m:\u001b[0m\u001b[0;34m\u001b[0m\u001b[0;34m\u001b[0m\u001b[0m\n\u001b[1;32m    191\u001b[0m                 \u001b[0;31m# _can_have_arbitrary_unit failed: arg could not be compared\u001b[0m\u001b[0;34m\u001b[0m\u001b[0;34m\u001b[0m\u001b[0;34m\u001b[0m\u001b[0m\n",
        "\u001b[0;31mUnitConversionError\u001b[0m: Can only apply 'greater' function to dimensionless quantities when other argument is not a quantity (unless the latter is all zero/infinity/nan)"
       ]
      }
     ],
     "persistentId": "966ff13b-1221-44fb-ac73-7a97eddb14fb",
     "text": "# now write your own code to answer questions\nMW_COMV = MWCOM.COM_V(-0.9, 2.4, -1.4)\nprint(MW_COMP)"
    },
    "executionTime": "2020-02-12T03:52:05.040Z"
   },
   {
    "cell": {
     "executionCount": 35,
     "executionEventId": "0866cbb8-a4b4-47f1-801f-0534029a7b2c",
     "hasError": false,
     "id": "0e9f9245-ed8e-4b46-a336-0172f5c80435",
     "outputs": [],
     "persistentId": "69daf229-8f48-4d35-a241-46e3fe8889c2",
     "text": "a = 10*u.kpc"
    },
    "executionTime": "2020-02-12T03:53:44.789Z"
   },
   {
    "cell": {
     "executionCount": 36,
     "executionEventId": "aab5cc1f-e3a9-439b-a0de-fcc4f598bf4f",
     "hasError": false,
     "id": "3683a837-e5e9-43a0-9251-eb5d286f75bf",
     "outputs": [],
     "persistentId": "efaead56-e4f2-4e0c-8bf0-f9e50442409a",
     "text": "b = 5*u.kpc"
    },
    "executionTime": "2020-02-12T03:53:52.907Z"
   },
   {
    "cell": {
     "executionCount": 37,
     "executionEventId": "0d917286-c46b-4e22-b65d-99a4119f98b6",
     "hasError": false,
     "id": "5696891e-07e8-4d19-b83f-341a1ae8d9a9",
     "outputs": [
      {
       "data": {
        "text/plain": "True"
       },
       "execution_count": 37,
       "metadata": {},
       "output_type": "execute_result"
      }
     ],
     "persistentId": "44ed540a-4d6f-4c21-8e17-9352a025e83d",
     "text": "a>b"
    },
    "executionTime": "2020-02-12T03:53:56.089Z"
   },
   {
    "cell": {
     "executionCount": 38,
     "executionEventId": "9ebd3077-58f9-4f34-b8a7-675bd301a2cd",
     "hasError": false,
     "id": "5696891e-07e8-4d19-b83f-341a1ae8d9a9",
     "outputs": [
      {
       "data": {
        "text/plain": "False"
       },
       "execution_count": 38,
       "metadata": {},
       "output_type": "execute_result"
      }
     ],
     "persistentId": "44ed540a-4d6f-4c21-8e17-9352a025e83d",
     "text": "a<b"
    },
    "executionTime": "2020-02-12T03:54:01.429Z"
   },
   {
    "cell": {
     "executionCount": 39,
     "executionEventId": "c9ac7287-eca0-4875-9c0d-b65aecf9fb92",
     "hasError": false,
     "id": "5696891e-07e8-4d19-b83f-341a1ae8d9a9",
     "outputs": [
      {
       "data": {
        "text/plain": "False"
       },
       "execution_count": 39,
       "metadata": {},
       "output_type": "execute_result"
      }
     ],
     "persistentId": "44ed540a-4d6f-4c21-8e17-9352a025e83d",
     "text": "a<b"
    },
    "executionTime": "2020-02-12T03:54:08.700Z"
   },
   {
    "cell": {
     "executionCount": 40,
     "executionEventId": "fc6c54ce-5b32-427c-8e16-0389a35af6f2",
     "hasError": false,
     "id": "5696891e-07e8-4d19-b83f-341a1ae8d9a9",
     "outputs": [
      {
       "data": {
        "text/plain": "False"
       },
       "execution_count": 40,
       "metadata": {},
       "output_type": "execute_result"
      }
     ],
     "persistentId": "44ed540a-4d6f-4c21-8e17-9352a025e83d",
     "text": "a<b"
    },
    "executionTime": "2020-02-12T03:54:10.236Z"
   },
   {
    "cell": {
     "executionCount": 41,
     "executionEventId": "e1af2ec4-ff0f-4a92-bd23-c69d4de133f0",
     "hasError": false,
     "id": "5696891e-07e8-4d19-b83f-341a1ae8d9a9",
     "outputs": [
      {
       "data": {
        "text/plain": "True"
       },
       "execution_count": 41,
       "metadata": {},
       "output_type": "execute_result"
      }
     ],
     "persistentId": "44ed540a-4d6f-4c21-8e17-9352a025e83d",
     "text": "a>b"
    },
    "executionTime": "2020-02-12T03:54:20.258Z"
   },
   {
    "cell": {
     "executionCount": 42,
     "executionEventId": "ff94205e-c26b-4660-a13f-8d774e177d77",
     "hasError": false,
     "id": "5696891e-07e8-4d19-b83f-341a1ae8d9a9",
     "outputs": [
      {
       "data": {
        "text/plain": "False"
       },
       "execution_count": 42,
       "metadata": {},
       "output_type": "execute_result"
      }
     ],
     "persistentId": "44ed540a-4d6f-4c21-8e17-9352a025e83d",
     "text": "a<b"
    },
    "executionTime": "2020-02-12T03:54:25.414Z"
   },
   {
    "cell": {
     "executionCount": 43,
     "executionEventId": "bcec13a0-c82d-4f24-9a2a-80fac907f46c",
     "hasError": false,
     "id": "15a7c55c-5293-4deb-b861-0c326e14d523",
     "outputs": [],
     "persistentId": "3f3a5cb8-663d-4322-a77a-bde24cf50cec",
     "text": "class CenterOfMass:\n# Class to define COM position and velocity properties of a given galaxy \n# and simulation snapshot\n    \n    \n    def __init__(self, filename, ptype):\n    # Initialize the instance of this Class with the following properties:\n    \n        # read data in the given file using Read\n        self.time, self.total, self.data = Read(filename)                                                                                             \n\n        #create an array to store indexes of particles of desired Ptype                                \n        self.index = np.where(self.data['type'] == ptype)\n\n        # store the mass, positions, velocities of only the particles of the given type\n        # the following only gives the example of storing the mass\n        # self.m = self.data['m'][self.index]\n        # write your own code to complete this for positions and velocities\n        self.m = self.data['m'][self.index]\n        self.x = self.data['x'][self.index]\n        self.y = self.data['y'][self.index]\n        self.z = self.data['z'][self.index]\n        self.vx = self.data['vx'][self.index]\n        self.vy = self.data['vy'][self.index]\n        self.vz = self.data['vz'][self.index]\n\n\n    def COMdefine(self,a,b,c,m):\n    # Function to compute the center of mass position or velocity generically\n    # input: array (a,b,c) of positions or velocities and the mass\n    # returns: 3 floats  (the center of mass coordinates)\n\n        # write your own code to compute the generic COM using Eq. 1 in the homework instructions\n        # xcomponent Center of mass\n        Acom = np.sum(self.x*self.m)/np.sum(self.m)\n        # ycomponent Center of mass\n        Bcom = np.sum(self.y*self.m)/np.sum(self.m)\n        # zcomponent Center of mass\n        Ccom = np.sum(self.z*self.m)/np.sum(self.m)\n        \n        return Acom, Bcom, Ccom\n    \n    \n    def COM_P(self, delta):\n    # Function to specifically return the center of mass position and velocity                                         \n    # input:                                                                                                           \n    #        particle type (1,2,3)                                                                                     \n    #        delta (tolerance)                                                                                         \n    # returns: One vector, with rows indicating:                                                                                                                                                                            \n    #       3D coordinates of the center of mass position (kpc)                                                             \n\n        # Center of Mass Position                                                                                      \n        ###########################                                                                                    \n\n        # Try a first guess at the COM position by calling COMdefine                                                   \n        XCOM, YCOM, ZCOM = self.COMdefine(self.x, self.y, self.z, self.m)\n        # compute the magnitude of the COM position vector.\n        # write your own code below\n        RCOM = np.sqrt(XCOM**2+YCOM**2+ZCOM**2)\n\n\n        # iterative process to determine the center of mass                                                            \n\n        # change reference frame to COM frame                                                                          \n        # compute the difference between particle coordinates                                                          \n        # and the first guess at COM position\n        # write your own code below\n        xNew = self.x - XCOM\n        yNew = self.y - YCOM\n        zNew = self.z - ZCOM\n        RNEW = np.sqrt(self.x**2+self.y**2+self.z**2) - RCOM\n\n        # find the max 3D distance of all particles from the guessed COM                                               \n        # will re-start at half that radius (reduced radius)                                                           \n        RMAX = max(RNEW)/2.0\n        \n        # pick an initial value for the change in COM position                                                      \n        # between the first guess above and the new one computed from half that volume\n        # it should be larger than the input tolerance (delta) initially\n        CHANGE = 1000.0\n\n        # start iterative process to determine center of mass position                                                 \n        # delta is the tolerance for the difference in the old COM and the new one.    \n        \n        while (CHANGE > delta):\n            # select all particles within the reduced radius (starting from original x,y,z, m)\n            # write your own code below (hints, use np.where)\n            index2 = np.where(np.sqrt(self.x**2+self.y**2+self.z**2) <= RMAX)\n            x2 = self.data['x'][index2]\n            y2 = self.data['y'][index2]\n            z2 = self.data['z'][index2]\n            m2 = self.data['m'][index2]\n\n            # Refined COM position:                                                                                    \n            # compute the center of mass position using                                                                \n            # the particles in the reduced radius\n            # write your own code below\n            XCOM2, YCOM2, ZCOM2 = self.COMdefine(x2, y2, z2, m2)\n            # compute the new 3D COM position\n            # write your own code below\n            RCOM2 = np.sqrt(XCOM2**2+YCOM2**2+ZCOM2**2)\n\n            # determine the difference between the previous center of mass position                                    \n            # and the new one.                                                                                         \n            CHANGE = np.abs(RCOM - RCOM2)\n            # uncomment the following line if you wnat to check this                                                                                               \n            # print (\"CHANGE = \", CHANGE)                                                                                     \n\n            # Before loop continues, reset : RMAX, particle separations and COM                                        \n\n            # reduce the volume by a factor of 2 again                                                                 \n            RMAX = RMAX/2.0\n            # check this.                                                                                              \n            #print (\"maxR\", RMAX)                                                                                      \n\n            # Change the frame of reference to the newly computed COM.                                                 \n            # subtract the new COM\n            # write your own code below\n            xNew = x2 - XCOM2\n            yNew = y2 - YCOM2\n            zNew = z2 - ZCOM2\n            RNEW = np.sqrt(x2**2+y2**2+z2**2) - RCOM2\n\n            # set the center of mass positions to the refined values                                                   \n            XCOM = XCOM2\n            YCOM = YCOM2\n            ZCOM = ZCOM2\n            RCOM = RCOM2\n\n            # create a vector to store the COM position                                                                                                                                                       \n            COMP = [XCOM, YCOM, ZCOM]\n\n        # set the correct units using astropy and round all values\n        # and then return the COM positon vector\n        # write your own code below\n        \n        XCOM = XCOM*u.kpc\n        YCOM = YCOM*u.kpc\n        ZCOM = ZCOM*u.kpc\n        COMP = COMP*u.kpc\n    \n        return COMP\n\n    def COM_V(self, COMX,COMY,COMZ):\n        # Center of Mass velocity\n        # input: X, Y, Z positions of the COM\n        # returns 3D Vector of COM Velocities\n        \n        # the max distance from the center that we will use to determine the center of mass velocity                   \n        RVMAX = 15.0*u.kpc\n\n        # determine the position of all particles relative to the center of mass position\n        # write your own code below\n        xV = self.x - COMX\n        yV = self.y - COMY\n        zV = self.z - COMZ\n        RV = np.sqrt(xV**2+yV**2+zV**2)\n        print(xV)\n        print(RV)\n        \n        # determine the index for those particles within the max radius\n        # write your own code below\n        indexV = np.where(RV < RVMAX)\n\n        # determine the velocity and mass of those particles within the mas radius\n        # write your own code below\n        vxnew = self.data['vx'][indexV]\n        vynew = self.data['vy'][indexV]\n        vznew = self.data['vz'][indexV]\n        mnew = self.data['m'][indexV]  \n        \n        # compute the center of mass velocity using those particles\n        # write your own code below\n        VXCOM, VYCOM, VZCOM = self.COMdefine(vxnew, vynew, vznew, mnew)\n\n        # create a vector to store the COM velocity\n        # set the correct units usint astropy\n        # round all values\n        # write your own code below\n        COMV = [VXCOM, VYCOM, VZCOM]\n\n        # return the COM vector                                                                                        \n        return COMV"
    },
    "executionTime": "2020-02-12T03:55:45.357Z"
   },
   {
    "cell": {
     "executionCount": 44,
     "executionEventId": "77ae095a-b2d3-45ca-97d8-991c3bcbd2fd",
     "hasError": false,
     "id": "1ec1c88c-1fce-4f6e-b8c0-db3ed4c98b85",
     "outputs": [],
     "persistentId": "1925e6a4-0327-430a-b39d-4ebbd7201e33",
     "text": "# Create a Center of mass object for the MW, M31 and M33\n# below is an example of using the class for MW\nMWCOM = CenterOfMass(\"MW_000.txt\", 2)\n"
    },
    "executionTime": "2020-02-12T03:55:48.063Z"
   },
   {
    "cell": {
     "executionCount": 45,
     "executionEventId": "ef0489f9-569e-4455-8fcd-4712707ccbeb",
     "hasError": false,
     "id": "41b3f20d-1811-4f91-b20f-b0580131a95f",
     "outputs": [
      {
       "name": "stdout",
       "output_type": "stream",
       "text": "[-0.93398577  2.40892628 -1.42421335] kpc\n"
      }
     ],
     "persistentId": "d9be1b5b-cc5b-4d53-bbf7-2deedeca2731",
     "text": "# below gives you an example of calling the class's functions\n# MW:   store the position and velocity COM\nMW_COMP = MWCOM.COM_P(0.1)\nprint(MW_COMP)"
    },
    "executionTime": "2020-02-12T03:55:48.166Z"
   },
   {
    "cell": {
     "executionCount": 46,
     "executionEventId": "281dd45c-388c-452f-ae5a-69c4651139da",
     "hasError": true,
     "id": "f701bbb1-527f-499d-96c1-c318cffd4b81",
     "outputs": [
      {
       "name": "stdout",
       "output_type": "stream",
       "text": "[-8.62208 -3.6065  -1.73816 ... -1.21091 -0.58985 -0.64793]\n[16.08930476  5.83869478  2.09802846 ...  3.85483897  7.26558233\n  0.96846741]\n"
      },
      {
       "ename": "UnitConversionError",
       "evalue": "Can only apply 'greater' function to dimensionless quantities when other argument is not a quantity (unless the latter is all zero/infinity/nan)",
       "output_type": "error",
       "traceback": [
        "\u001b[0;31m---------------------------------------------------------------------------\u001b[0m",
        "\u001b[0;31mUnitConversionError\u001b[0m                       Traceback (most recent call last)",
        "\u001b[0;32m<ipython-input-46-079eaf6a90bc>\u001b[0m in \u001b[0;36m<module>\u001b[0;34m\u001b[0m\n\u001b[1;32m      1\u001b[0m \u001b[0;31m# now write your own code to answer questions\u001b[0m\u001b[0;34m\u001b[0m\u001b[0;34m\u001b[0m\u001b[0;34m\u001b[0m\u001b[0m\n\u001b[0;32m----> 2\u001b[0;31m \u001b[0mMW_COMV\u001b[0m \u001b[0;34m=\u001b[0m \u001b[0mMWCOM\u001b[0m\u001b[0;34m.\u001b[0m\u001b[0mCOM_V\u001b[0m\u001b[0;34m(\u001b[0m\u001b[0;34m-\u001b[0m\u001b[0;36m0.9\u001b[0m\u001b[0;34m,\u001b[0m \u001b[0;36m2.4\u001b[0m\u001b[0;34m,\u001b[0m \u001b[0;34m-\u001b[0m\u001b[0;36m1.4\u001b[0m\u001b[0;34m)\u001b[0m\u001b[0;34m\u001b[0m\u001b[0;34m\u001b[0m\u001b[0m\n\u001b[0m\u001b[1;32m      3\u001b[0m \u001b[0mprint\u001b[0m\u001b[0;34m(\u001b[0m\u001b[0mMW_COMP\u001b[0m\u001b[0;34m)\u001b[0m\u001b[0;34m\u001b[0m\u001b[0;34m\u001b[0m\u001b[0m\n",
        "\u001b[0;32m<ipython-input-43-d9992004ffb0>\u001b[0m in \u001b[0;36mCOM_V\u001b[0;34m(self, COMX, COMY, COMZ)\u001b[0m\n\u001b[1;32m    161\u001b[0m         \u001b[0;31m# determine the index for those particles within the max radius\u001b[0m\u001b[0;34m\u001b[0m\u001b[0;34m\u001b[0m\u001b[0;34m\u001b[0m\u001b[0m\n\u001b[1;32m    162\u001b[0m         \u001b[0;31m# write your own code below\u001b[0m\u001b[0;34m\u001b[0m\u001b[0;34m\u001b[0m\u001b[0;34m\u001b[0m\u001b[0m\n\u001b[0;32m--> 163\u001b[0;31m         \u001b[0mindexV\u001b[0m \u001b[0;34m=\u001b[0m \u001b[0mnp\u001b[0m\u001b[0;34m.\u001b[0m\u001b[0mwhere\u001b[0m\u001b[0;34m(\u001b[0m\u001b[0mRV\u001b[0m \u001b[0;34m<\u001b[0m \u001b[0mRVMAX\u001b[0m\u001b[0;34m)\u001b[0m\u001b[0;34m\u001b[0m\u001b[0;34m\u001b[0m\u001b[0m\n\u001b[0m\u001b[1;32m    164\u001b[0m \u001b[0;34m\u001b[0m\u001b[0m\n\u001b[1;32m    165\u001b[0m         \u001b[0;31m# determine the velocity and mass of those particles within the mas radius\u001b[0m\u001b[0;34m\u001b[0m\u001b[0;34m\u001b[0m\u001b[0;34m\u001b[0m\u001b[0m\n",
        "\u001b[0;32m/anaconda3/lib/python3.6/site-packages/astropy/units/quantity.py\u001b[0m in \u001b[0;36m__array_ufunc__\u001b[0;34m(self, function, method, *inputs, **kwargs)\u001b[0m\n\u001b[1;32m    459\u001b[0m         \u001b[0;31m# consistent units between two inputs (e.g., in np.add) --\u001b[0m\u001b[0;34m\u001b[0m\u001b[0;34m\u001b[0m\u001b[0;34m\u001b[0m\u001b[0m\n\u001b[1;32m    460\u001b[0m         \u001b[0;31m# and the unit of the result (or tuple of units for nout > 1).\u001b[0m\u001b[0;34m\u001b[0m\u001b[0;34m\u001b[0m\u001b[0;34m\u001b[0m\u001b[0m\n\u001b[0;32m--> 461\u001b[0;31m         \u001b[0mconverters\u001b[0m\u001b[0;34m,\u001b[0m \u001b[0munit\u001b[0m \u001b[0;34m=\u001b[0m \u001b[0mconverters_and_unit\u001b[0m\u001b[0;34m(\u001b[0m\u001b[0mfunction\u001b[0m\u001b[0;34m,\u001b[0m \u001b[0mmethod\u001b[0m\u001b[0;34m,\u001b[0m \u001b[0;34m*\u001b[0m\u001b[0minputs\u001b[0m\u001b[0;34m)\u001b[0m\u001b[0;34m\u001b[0m\u001b[0;34m\u001b[0m\u001b[0m\n\u001b[0m\u001b[1;32m    462\u001b[0m \u001b[0;34m\u001b[0m\u001b[0m\n\u001b[1;32m    463\u001b[0m         \u001b[0mout\u001b[0m \u001b[0;34m=\u001b[0m \u001b[0mkwargs\u001b[0m\u001b[0;34m.\u001b[0m\u001b[0mget\u001b[0m\u001b[0;34m(\u001b[0m\u001b[0;34m'out'\u001b[0m\u001b[0;34m,\u001b[0m \u001b[0;32mNone\u001b[0m\u001b[0;34m)\u001b[0m\u001b[0;34m\u001b[0m\u001b[0;34m\u001b[0m\u001b[0m\n",
        "\u001b[0;32m/anaconda3/lib/python3.6/site-packages/astropy/units/quantity_helper/converters.py\u001b[0m in \u001b[0;36mconverters_and_unit\u001b[0;34m(function, method, *args)\u001b[0m\n\u001b[1;32m    187\u001b[0m                             \u001b[0;34m\"argument is not a quantity (unless the \"\u001b[0m\u001b[0;34m\u001b[0m\u001b[0;34m\u001b[0m\u001b[0m\n\u001b[1;32m    188\u001b[0m                             \u001b[0;34m\"latter is all zero/infinity/nan)\"\u001b[0m\u001b[0;34m\u001b[0m\u001b[0;34m\u001b[0m\u001b[0m\n\u001b[0;32m--> 189\u001b[0;31m                             .format(function.__name__))\n\u001b[0m\u001b[1;32m    190\u001b[0m             \u001b[0;32mexcept\u001b[0m \u001b[0mTypeError\u001b[0m\u001b[0;34m:\u001b[0m\u001b[0;34m\u001b[0m\u001b[0;34m\u001b[0m\u001b[0m\n\u001b[1;32m    191\u001b[0m                 \u001b[0;31m# _can_have_arbitrary_unit failed: arg could not be compared\u001b[0m\u001b[0;34m\u001b[0m\u001b[0;34m\u001b[0m\u001b[0;34m\u001b[0m\u001b[0m\n",
        "\u001b[0;31mUnitConversionError\u001b[0m: Can only apply 'greater' function to dimensionless quantities when other argument is not a quantity (unless the latter is all zero/infinity/nan)"
       ]
      }
     ],
     "persistentId": "966ff13b-1221-44fb-ac73-7a97eddb14fb",
     "text": "# now write your own code to answer questions\nMW_COMV = MWCOM.COM_V(-0.9, 2.4, -1.4)\nprint(MW_COMP)"
    },
    "executionTime": "2020-02-12T03:55:49.402Z"
   },
   {
    "cell": {
     "executionCount": 47,
     "executionEventId": "f47b2d7c-0172-437e-9f0b-ffa8a6ba161b",
     "hasError": false,
     "id": "41b3f20d-1811-4f91-b20f-b0580131a95f",
     "outputs": [
      {
       "name": "stdout",
       "output_type": "stream",
       "text": "[-0.93398577  2.40892628 -1.42421335] kpc\n"
      }
     ],
     "persistentId": "d9be1b5b-cc5b-4d53-bbf7-2deedeca2731",
     "text": "# below gives you an example of calling the class's functions\n# MW:   store the position and velocity COM\nMW_COMP = MWCOM.COM_P(0.1)\nprint(MW_COMP)"
    },
    "executionTime": "2020-02-12T03:56:07.052Z"
   },
   {
    "cell": {
     "executionCount": 48,
     "executionEventId": "490b0f75-7674-4e61-8152-d33579d1a40b",
     "hasError": true,
     "id": "f701bbb1-527f-499d-96c1-c318cffd4b81",
     "outputs": [
      {
       "ename": "UnitConversionError",
       "evalue": "Can only apply 'subtract' function to dimensionless quantities when other argument is not a quantity (unless the latter is all zero/infinity/nan)",
       "output_type": "error",
       "traceback": [
        "\u001b[0;31m---------------------------------------------------------------------------\u001b[0m",
        "\u001b[0;31mUnitConversionError\u001b[0m                       Traceback (most recent call last)",
        "\u001b[0;32m<ipython-input-48-fb0f99478aff>\u001b[0m in \u001b[0;36m<module>\u001b[0;34m\u001b[0m\n\u001b[1;32m      1\u001b[0m \u001b[0;31m# now write your own code to answer questions\u001b[0m\u001b[0;34m\u001b[0m\u001b[0;34m\u001b[0m\u001b[0;34m\u001b[0m\u001b[0m\n\u001b[0;32m----> 2\u001b[0;31m \u001b[0mMW_COMV\u001b[0m \u001b[0;34m=\u001b[0m \u001b[0mMWCOM\u001b[0m\u001b[0;34m.\u001b[0m\u001b[0mCOM_V\u001b[0m\u001b[0;34m(\u001b[0m\u001b[0mMW_COMP\u001b[0m\u001b[0;34m[\u001b[0m\u001b[0;36m0\u001b[0m\u001b[0;34m]\u001b[0m\u001b[0;34m,\u001b[0m \u001b[0mMW_COMP\u001b[0m\u001b[0;34m[\u001b[0m\u001b[0;36m1\u001b[0m\u001b[0;34m]\u001b[0m\u001b[0;34m,\u001b[0m \u001b[0mMW_COMP\u001b[0m\u001b[0;34m[\u001b[0m\u001b[0;36m2\u001b[0m\u001b[0;34m]\u001b[0m\u001b[0;34m)\u001b[0m\u001b[0;34m\u001b[0m\u001b[0;34m\u001b[0m\u001b[0m\n\u001b[0m\u001b[1;32m      3\u001b[0m \u001b[0mprint\u001b[0m\u001b[0;34m(\u001b[0m\u001b[0mMW_COMP\u001b[0m\u001b[0;34m)\u001b[0m\u001b[0;34m\u001b[0m\u001b[0;34m\u001b[0m\u001b[0m\n",
        "\u001b[0;32m<ipython-input-43-d9992004ffb0>\u001b[0m in \u001b[0;36mCOM_V\u001b[0;34m(self, COMX, COMY, COMZ)\u001b[0m\n\u001b[1;32m    152\u001b[0m         \u001b[0;31m# determine the position of all particles relative to the center of mass position\u001b[0m\u001b[0;34m\u001b[0m\u001b[0;34m\u001b[0m\u001b[0;34m\u001b[0m\u001b[0m\n\u001b[1;32m    153\u001b[0m         \u001b[0;31m# write your own code below\u001b[0m\u001b[0;34m\u001b[0m\u001b[0;34m\u001b[0m\u001b[0;34m\u001b[0m\u001b[0m\n\u001b[0;32m--> 154\u001b[0;31m         \u001b[0mxV\u001b[0m \u001b[0;34m=\u001b[0m \u001b[0mself\u001b[0m\u001b[0;34m.\u001b[0m\u001b[0mx\u001b[0m \u001b[0;34m-\u001b[0m \u001b[0mCOMX\u001b[0m\u001b[0;34m\u001b[0m\u001b[0;34m\u001b[0m\u001b[0m\n\u001b[0m\u001b[1;32m    155\u001b[0m         \u001b[0myV\u001b[0m \u001b[0;34m=\u001b[0m \u001b[0mself\u001b[0m\u001b[0;34m.\u001b[0m\u001b[0my\u001b[0m \u001b[0;34m-\u001b[0m \u001b[0mCOMY\u001b[0m\u001b[0;34m\u001b[0m\u001b[0;34m\u001b[0m\u001b[0m\n\u001b[1;32m    156\u001b[0m         \u001b[0mzV\u001b[0m \u001b[0;34m=\u001b[0m \u001b[0mself\u001b[0m\u001b[0;34m.\u001b[0m\u001b[0mz\u001b[0m \u001b[0;34m-\u001b[0m \u001b[0mCOMZ\u001b[0m\u001b[0;34m\u001b[0m\u001b[0;34m\u001b[0m\u001b[0m\n",
        "\u001b[0;32m/anaconda3/lib/python3.6/site-packages/astropy/units/quantity.py\u001b[0m in \u001b[0;36m__array_ufunc__\u001b[0;34m(self, function, method, *inputs, **kwargs)\u001b[0m\n\u001b[1;32m    459\u001b[0m         \u001b[0;31m# consistent units between two inputs (e.g., in np.add) --\u001b[0m\u001b[0;34m\u001b[0m\u001b[0;34m\u001b[0m\u001b[0;34m\u001b[0m\u001b[0m\n\u001b[1;32m    460\u001b[0m         \u001b[0;31m# and the unit of the result (or tuple of units for nout > 1).\u001b[0m\u001b[0;34m\u001b[0m\u001b[0;34m\u001b[0m\u001b[0;34m\u001b[0m\u001b[0m\n\u001b[0;32m--> 461\u001b[0;31m         \u001b[0mconverters\u001b[0m\u001b[0;34m,\u001b[0m \u001b[0munit\u001b[0m \u001b[0;34m=\u001b[0m \u001b[0mconverters_and_unit\u001b[0m\u001b[0;34m(\u001b[0m\u001b[0mfunction\u001b[0m\u001b[0;34m,\u001b[0m \u001b[0mmethod\u001b[0m\u001b[0;34m,\u001b[0m \u001b[0;34m*\u001b[0m\u001b[0minputs\u001b[0m\u001b[0;34m)\u001b[0m\u001b[0;34m\u001b[0m\u001b[0;34m\u001b[0m\u001b[0m\n\u001b[0m\u001b[1;32m    462\u001b[0m \u001b[0;34m\u001b[0m\u001b[0m\n\u001b[1;32m    463\u001b[0m         \u001b[0mout\u001b[0m \u001b[0;34m=\u001b[0m \u001b[0mkwargs\u001b[0m\u001b[0;34m.\u001b[0m\u001b[0mget\u001b[0m\u001b[0;34m(\u001b[0m\u001b[0;34m'out'\u001b[0m\u001b[0;34m,\u001b[0m \u001b[0;32mNone\u001b[0m\u001b[0;34m)\u001b[0m\u001b[0;34m\u001b[0m\u001b[0;34m\u001b[0m\u001b[0m\n",
        "\u001b[0;32m/anaconda3/lib/python3.6/site-packages/astropy/units/quantity_helper/converters.py\u001b[0m in \u001b[0;36mconverters_and_unit\u001b[0;34m(function, method, *args)\u001b[0m\n\u001b[1;32m    187\u001b[0m                             \u001b[0;34m\"argument is not a quantity (unless the \"\u001b[0m\u001b[0;34m\u001b[0m\u001b[0;34m\u001b[0m\u001b[0m\n\u001b[1;32m    188\u001b[0m                             \u001b[0;34m\"latter is all zero/infinity/nan)\"\u001b[0m\u001b[0;34m\u001b[0m\u001b[0;34m\u001b[0m\u001b[0m\n\u001b[0;32m--> 189\u001b[0;31m                             .format(function.__name__))\n\u001b[0m\u001b[1;32m    190\u001b[0m             \u001b[0;32mexcept\u001b[0m \u001b[0mTypeError\u001b[0m\u001b[0;34m:\u001b[0m\u001b[0;34m\u001b[0m\u001b[0;34m\u001b[0m\u001b[0m\n\u001b[1;32m    191\u001b[0m                 \u001b[0;31m# _can_have_arbitrary_unit failed: arg could not be compared\u001b[0m\u001b[0;34m\u001b[0m\u001b[0;34m\u001b[0m\u001b[0;34m\u001b[0m\u001b[0m\n",
        "\u001b[0;31mUnitConversionError\u001b[0m: Can only apply 'subtract' function to dimensionless quantities when other argument is not a quantity (unless the latter is all zero/infinity/nan)"
       ]
      }
     ],
     "persistentId": "966ff13b-1221-44fb-ac73-7a97eddb14fb",
     "text": "# now write your own code to answer questions\nMW_COMV = MWCOM.COM_V(MW_COMP[0], MW_COMP[1], MW_COMP[2])\nprint(MW_COMP)"
    },
    "executionTime": "2020-02-12T03:56:07.704Z"
   },
   {
    "cell": {
     "executionCount": 49,
     "executionEventId": "2d4d3b05-87d5-405e-bb16-d06ecb991165",
     "hasError": false,
     "id": "15a7c55c-5293-4deb-b861-0c326e14d523",
     "outputs": [],
     "persistentId": "3f3a5cb8-663d-4322-a77a-bde24cf50cec",
     "text": "class CenterOfMass:\n# Class to define COM position and velocity properties of a given galaxy \n# and simulation snapshot\n    \n    \n    def __init__(self, filename, ptype):\n    # Initialize the instance of this Class with the following properties:\n    \n        # read data in the given file using Read\n        self.time, self.total, self.data = Read(filename)                                                                                             \n\n        #create an array to store indexes of particles of desired Ptype                                \n        self.index = np.where(self.data['type'] == ptype)\n\n        # store the mass, positions, velocities of only the particles of the given type\n        # the following only gives the example of storing the mass\n        # self.m = self.data['m'][self.index]\n        # write your own code to complete this for positions and velocities\n        self.m = self.data['m'][self.index]\n        self.x = self.data['x'][self.index]\n        self.y = self.data['y'][self.index]\n        self.z = self.data['z'][self.index]\n        self.vx = self.data['vx'][self.index]\n        self.vy = self.data['vy'][self.index]\n        self.vz = self.data['vz'][self.index]\n\n\n    def COMdefine(self,a,b,c,m):\n    # Function to compute the center of mass position or velocity generically\n    # input: array (a,b,c) of positions or velocities and the mass\n    # returns: 3 floats  (the center of mass coordinates)\n\n        # write your own code to compute the generic COM using Eq. 1 in the homework instructions\n        # xcomponent Center of mass\n        Acom = np.sum(self.x*self.m)/np.sum(self.m)\n        # ycomponent Center of mass\n        Bcom = np.sum(self.y*self.m)/np.sum(self.m)\n        # zcomponent Center of mass\n        Ccom = np.sum(self.z*self.m)/np.sum(self.m)\n        \n        return Acom, Bcom, Ccom\n    \n    \n    def COM_P(self, delta):\n    # Function to specifically return the center of mass position and velocity                                         \n    # input:                                                                                                           \n    #        particle type (1,2,3)                                                                                     \n    #        delta (tolerance)                                                                                         \n    # returns: One vector, with rows indicating:                                                                                                                                                                            \n    #       3D coordinates of the center of mass position (kpc)                                                             \n\n        # Center of Mass Position                                                                                      \n        ###########################                                                                                    \n\n        # Try a first guess at the COM position by calling COMdefine                                                   \n        XCOM, YCOM, ZCOM = self.COMdefine(self.x, self.y, self.z, self.m)\n        # compute the magnitude of the COM position vector.\n        # write your own code below\n        RCOM = np.sqrt(XCOM**2+YCOM**2+ZCOM**2)\n\n\n        # iterative process to determine the center of mass                                                            \n\n        # change reference frame to COM frame                                                                          \n        # compute the difference between particle coordinates                                                          \n        # and the first guess at COM position\n        # write your own code below\n        xNew = self.x - XCOM\n        yNew = self.y - YCOM\n        zNew = self.z - ZCOM\n        RNEW = np.sqrt(self.x**2+self.y**2+self.z**2) - RCOM\n\n        # find the max 3D distance of all particles from the guessed COM                                               \n        # will re-start at half that radius (reduced radius)                                                           \n        RMAX = max(RNEW)/2.0\n        \n        # pick an initial value for the change in COM position                                                      \n        # between the first guess above and the new one computed from half that volume\n        # it should be larger than the input tolerance (delta) initially\n        CHANGE = 1000.0\n\n        # start iterative process to determine center of mass position                                                 \n        # delta is the tolerance for the difference in the old COM and the new one.    \n        \n        while (CHANGE > delta):\n            # select all particles within the reduced radius (starting from original x,y,z, m)\n            # write your own code below (hints, use np.where)\n            index2 = np.where(np.sqrt(self.x**2+self.y**2+self.z**2) <= RMAX)\n            x2 = self.data['x'][index2]\n            y2 = self.data['y'][index2]\n            z2 = self.data['z'][index2]\n            m2 = self.data['m'][index2]\n\n            # Refined COM position:                                                                                    \n            # compute the center of mass position using                                                                \n            # the particles in the reduced radius\n            # write your own code below\n            XCOM2, YCOM2, ZCOM2 = self.COMdefine(x2, y2, z2, m2)\n            # compute the new 3D COM position\n            # write your own code below\n            RCOM2 = np.sqrt(XCOM2**2+YCOM2**2+ZCOM2**2)\n\n            # determine the difference between the previous center of mass position                                    \n            # and the new one.                                                                                         \n            CHANGE = np.abs(RCOM - RCOM2)\n            # uncomment the following line if you wnat to check this                                                                                               \n            # print (\"CHANGE = \", CHANGE)                                                                                     \n\n            # Before loop continues, reset : RMAX, particle separations and COM                                        \n\n            # reduce the volume by a factor of 2 again                                                                 \n            RMAX = RMAX/2.0\n            # check this.                                                                                              \n            #print (\"maxR\", RMAX)                                                                                      \n\n            # Change the frame of reference to the newly computed COM.                                                 \n            # subtract the new COM\n            # write your own code below\n            xNew = x2 - XCOM2\n            yNew = y2 - YCOM2\n            zNew = z2 - ZCOM2\n            RNEW = np.sqrt(x2**2+y2**2+z2**2) - RCOM2\n\n            # set the center of mass positions to the refined values                                                   \n            XCOM = XCOM2\n            YCOM = YCOM2\n            ZCOM = ZCOM2\n            RCOM = RCOM2\n\n            # create a vector to store the COM position                                                                                                                                                       \n            COMP = [XCOM, YCOM, ZCOM]\n\n        # set the correct units using astropy and round all values\n        # and then return the COM positon vector\n        # write your own code below\n        \n        XCOM = XCOM*u.kpc\n        YCOM = YCOM*u.kpc\n        ZCOM = ZCOM*u.kpc\n        COMP = COMP*u.kpc\n    \n        return COMP\n\n    def COM_V(self, COMX,COMY,COMZ):\n        # Center of Mass velocity\n        # input: X, Y, Z positions of the COM\n        # returns 3D Vector of COM Velocities\n        \n        # the max distance from the center that we will use to determine the center of mass velocity                   \n        RVMAX = 15.0*u.kpc\n\n        # determine the position of all particles relative to the center of mass position\n        # write your own code below\n        xV = self.x*u.kpc - COMX\n        yV = self.y*u.kpc - COMY\n        zV = self.z*u.kpc - COMZ\n        RV = np.sqrt(xV**2+yV**2+zV**2)\n        print(xV)\n        print(RV)\n        \n        # determine the index for those particles within the max radius\n        # write your own code below\n        indexV = np.where(RV < RVMAX)\n\n        # determine the velocity and mass of those particles within the mas radius\n        # write your own code below\n        vxnew = self.data['vx'][indexV]\n        vynew = self.data['vy'][indexV]\n        vznew = self.data['vz'][indexV]\n        mnew = self.data['m'][indexV]  \n        \n        # compute the center of mass velocity using those particles\n        # write your own code below\n        VXCOM, VYCOM, VZCOM = self.COMdefine(vxnew, vynew, vznew, mnew)\n\n        # create a vector to store the COM velocity\n        # set the correct units usint astropy\n        # round all values\n        # write your own code below\n        COMV = [VXCOM, VYCOM, VZCOM]\n\n        # return the COM vector                                                                                        \n        return COMV"
    },
    "executionTime": "2020-02-12T03:57:35.749Z"
   },
   {
    "cell": {
     "executionCount": 50,
     "executionEventId": "d020e0f4-7aee-481f-aeaf-a89ea89734a3",
     "hasError": false,
     "id": "1ec1c88c-1fce-4f6e-b8c0-db3ed4c98b85",
     "outputs": [],
     "persistentId": "1925e6a4-0327-430a-b39d-4ebbd7201e33",
     "text": "# Create a Center of mass object for the MW, M31 and M33\n# below is an example of using the class for MW\nMWCOM = CenterOfMass(\"MW_000.txt\", 2)\n"
    },
    "executionTime": "2020-02-12T03:57:39.374Z"
   },
   {
    "cell": {
     "executionCount": 51,
     "executionEventId": "f35b76b1-fbb2-421f-bc02-2197e450ec81",
     "hasError": false,
     "id": "41b3f20d-1811-4f91-b20f-b0580131a95f",
     "outputs": [
      {
       "name": "stdout",
       "output_type": "stream",
       "text": "[-0.93398577  2.40892628 -1.42421335] kpc\n"
      }
     ],
     "persistentId": "d9be1b5b-cc5b-4d53-bbf7-2deedeca2731",
     "text": "# below gives you an example of calling the class's functions\n# MW:   store the position and velocity COM\nMW_COMP = MWCOM.COM_P(0.1)\nprint(MW_COMP)"
    },
    "executionTime": "2020-02-12T03:57:40.253Z"
   },
   {
    "cell": {
     "executionCount": 52,
     "executionEventId": "d1166a8b-0737-48d9-95b1-f3e22223df98",
     "hasError": false,
     "id": "f701bbb1-527f-499d-96c1-c318cffd4b81",
     "outputs": [
      {
       "name": "stdout",
       "output_type": "stream",
       "text": "[-8.58809423 -3.57251423 -1.70417423 ... -1.17692423 -0.55586423\n -0.61394423] kpc\n[16.06367617  5.82531863  2.08451827 ...  3.83157401  7.27104355\n  0.9380769 ] kpc\n[-0.93398577  2.40892628 -1.42421335] kpc\n"
      }
     ],
     "persistentId": "966ff13b-1221-44fb-ac73-7a97eddb14fb",
     "text": "# now write your own code to answer questions\nMW_COMV = MWCOM.COM_V(MW_COMP[0], MW_COMP[1], MW_COMP[2])\nprint(MW_COMP)"
    },
    "executionTime": "2020-02-12T03:57:41.401Z"
   },
   {
    "cell": {
     "executionCount": 53,
     "executionEventId": "5e7b0b20-a765-4e69-ad1b-9324c5d67c28",
     "hasError": false,
     "id": "15a7c55c-5293-4deb-b861-0c326e14d523",
     "outputs": [],
     "persistentId": "3f3a5cb8-663d-4322-a77a-bde24cf50cec",
     "text": "class CenterOfMass:\n# Class to define COM position and velocity properties of a given galaxy \n# and simulation snapshot\n    \n    \n    def __init__(self, filename, ptype):\n    # Initialize the instance of this Class with the following properties:\n    \n        # read data in the given file using Read\n        self.time, self.total, self.data = Read(filename)                                                                                             \n\n        #create an array to store indexes of particles of desired Ptype                                \n        self.index = np.where(self.data['type'] == ptype)\n\n        # store the mass, positions, velocities of only the particles of the given type\n        # the following only gives the example of storing the mass\n        # self.m = self.data['m'][self.index]\n        # write your own code to complete this for positions and velocities\n        self.m = self.data['m'][self.index]\n        self.x = self.data['x'][self.index]\n        self.y = self.data['y'][self.index]\n        self.z = self.data['z'][self.index]\n        self.vx = self.data['vx'][self.index]\n        self.vy = self.data['vy'][self.index]\n        self.vz = self.data['vz'][self.index]\n\n\n    def COMdefine(self,a,b,c,m):\n    # Function to compute the center of mass position or velocity generically\n    # input: array (a,b,c) of positions or velocities and the mass\n    # returns: 3 floats  (the center of mass coordinates)\n\n        # write your own code to compute the generic COM using Eq. 1 in the homework instructions\n        # xcomponent Center of mass\n        Acom = np.sum(self.x*self.m)/np.sum(self.m)\n        # ycomponent Center of mass\n        Bcom = np.sum(self.y*self.m)/np.sum(self.m)\n        # zcomponent Center of mass\n        Ccom = np.sum(self.z*self.m)/np.sum(self.m)\n        \n        return Acom, Bcom, Ccom\n    \n    \n    def COM_P(self, delta):\n    # Function to specifically return the center of mass position and velocity                                         \n    # input:                                                                                                           \n    #        particle type (1,2,3)                                                                                     \n    #        delta (tolerance)                                                                                         \n    # returns: One vector, with rows indicating:                                                                                                                                                                            \n    #       3D coordinates of the center of mass position (kpc)                                                             \n\n        # Center of Mass Position                                                                                      \n        ###########################                                                                                    \n\n        # Try a first guess at the COM position by calling COMdefine                                                   \n        XCOM, YCOM, ZCOM = self.COMdefine(self.x, self.y, self.z, self.m)\n        # compute the magnitude of the COM position vector.\n        # write your own code below\n        RCOM = np.sqrt(XCOM**2+YCOM**2+ZCOM**2)\n\n\n        # iterative process to determine the center of mass                                                            \n\n        # change reference frame to COM frame                                                                          \n        # compute the difference between particle coordinates                                                          \n        # and the first guess at COM position\n        # write your own code below\n        xNew = self.x - XCOM\n        yNew = self.y - YCOM\n        zNew = self.z - ZCOM\n        RNEW = np.sqrt(self.x**2+self.y**2+self.z**2) - RCOM\n\n        # find the max 3D distance of all particles from the guessed COM                                               \n        # will re-start at half that radius (reduced radius)                                                           \n        RMAX = max(RNEW)/2.0\n        \n        # pick an initial value for the change in COM position                                                      \n        # between the first guess above and the new one computed from half that volume\n        # it should be larger than the input tolerance (delta) initially\n        CHANGE = 1000.0\n\n        # start iterative process to determine center of mass position                                                 \n        # delta is the tolerance for the difference in the old COM and the new one.    \n        \n        while (CHANGE > delta):\n            # select all particles within the reduced radius (starting from original x,y,z, m)\n            # write your own code below (hints, use np.where)\n            index2 = np.where(np.sqrt(self.x**2+self.y**2+self.z**2) <= RMAX)\n            x2 = self.data['x'][index2]\n            y2 = self.data['y'][index2]\n            z2 = self.data['z'][index2]\n            m2 = self.data['m'][index2]\n\n            # Refined COM position:                                                                                    \n            # compute the center of mass position using                                                                \n            # the particles in the reduced radius\n            # write your own code below\n            XCOM2, YCOM2, ZCOM2 = self.COMdefine(x2, y2, z2, m2)\n            # compute the new 3D COM position\n            # write your own code below\n            RCOM2 = np.sqrt(XCOM2**2+YCOM2**2+ZCOM2**2)\n\n            # determine the difference between the previous center of mass position                                    \n            # and the new one.                                                                                         \n            CHANGE = np.abs(RCOM - RCOM2)\n            # uncomment the following line if you wnat to check this                                                                                               \n            # print (\"CHANGE = \", CHANGE)                                                                                     \n\n            # Before loop continues, reset : RMAX, particle separations and COM                                        \n\n            # reduce the volume by a factor of 2 again                                                                 \n            RMAX = RMAX/2.0\n            # check this.                                                                                              \n            #print (\"maxR\", RMAX)                                                                                      \n\n            # Change the frame of reference to the newly computed COM.                                                 \n            # subtract the new COM\n            # write your own code below\n            xNew = x2 - XCOM2\n            yNew = y2 - YCOM2\n            zNew = z2 - ZCOM2\n            RNEW = np.sqrt(x2**2+y2**2+z2**2) - RCOM2\n\n            # set the center of mass positions to the refined values                                                   \n            XCOM = XCOM2\n            YCOM = YCOM2\n            ZCOM = ZCOM2\n            RCOM = RCOM2\n\n            # create a vector to store the COM position                                                                                                                                                       \n            COMP = [XCOM, YCOM, ZCOM]\n\n        # set the correct units using astropy and round all values\n        # and then return the COM positon vector\n        # write your own code below\n        \n        XCOM = XCOM*u.kpc\n        YCOM = YCOM*u.kpc\n        ZCOM = ZCOM*u.kpc\n        COMP = COMP*u.kpc\n    \n        return COMP\n\n    def COM_V(self, COMX,COMY,COMZ):\n        # Center of Mass velocity\n        # input: X, Y, Z positions of the COM\n        # returns 3D Vector of COM Velocities\n        \n        # the max distance from the center that we will use to determine the center of mass velocity                   \n        RVMAX = 15.0*u.kpc\n\n        # determine the position of all particles relative to the center of mass position\n        # write your own code below\n        xV = self.x*u.kpc - COMX\n        yV = self.y*u.kpc - COMY\n        zV = self.z*u.kpc - COMZ\n        RV = np.sqrt(xV**2+yV**2+zV**2)\n        \n        # determine the index for those particles within the max radius\n        # write your own code below\n        indexV = np.where(RV < RVMAX)\n\n        # determine the velocity and mass of those particles within the mas radius\n        # write your own code below\n        vxnew = self.data['vx'][indexV]\n        vynew = self.data['vy'][indexV]\n        vznew = self.data['vz'][indexV]\n        mnew = self.data['m'][indexV]  \n        \n        # compute the center of mass velocity using those particles\n        # write your own code below\n        VXCOM, VYCOM, VZCOM = self.COMdefine(vxnew, vynew, vznew, mnew)\n\n        # create a vector to store the COM velocity\n        # set the correct units usint astropy\n        # round all values\n        # write your own code below\n        COMV = [VXCOM, VYCOM, VZCOM]\n\n        # return the COM vector                                                                                        \n        return COMV"
    },
    "executionTime": "2020-02-12T03:58:03.065Z"
   },
   {
    "cell": {
     "executionCount": 54,
     "executionEventId": "cd08239f-f1f3-4ea4-a008-d6bab9bfd152",
     "hasError": false,
     "id": "1ec1c88c-1fce-4f6e-b8c0-db3ed4c98b85",
     "outputs": [],
     "persistentId": "1925e6a4-0327-430a-b39d-4ebbd7201e33",
     "text": "# Create a Center of mass object for the MW, M31 and M33\n# below is an example of using the class for MW\nMWCOM = CenterOfMass(\"MW_000.txt\", 2)\n"
    },
    "executionTime": "2020-02-12T03:58:07.685Z"
   },
   {
    "cell": {
     "executionCount": 55,
     "executionEventId": "0cb60032-b536-465a-ba56-b07c2971c2e4",
     "hasError": false,
     "id": "f701bbb1-527f-499d-96c1-c318cffd4b81",
     "outputs": [
      {
       "name": "stdout",
       "output_type": "stream",
       "text": "[-0.9339857735946873, 2.4089262794557698, -1.4242133462894662]\n"
      }
     ],
     "persistentId": "966ff13b-1221-44fb-ac73-7a97eddb14fb",
     "text": "# now write your own code to answer questions\nMW_COMV = MWCOM.COM_V(MW_COMP[0], MW_COMP[1], MW_COMP[2])\nprint(MW_COMV)"
    },
    "executionTime": "2020-02-12T03:58:12.463Z"
   },
   {
    "cell": {
     "executionCount": 56,
     "executionEventId": "ce1577e7-434d-4a4a-86b3-0e8a639b0501",
     "hasError": false,
     "id": "f701bbb1-527f-499d-96c1-c318cffd4b81",
     "outputs": [
      {
       "name": "stdout",
       "output_type": "stream",
       "text": "[-0.9339857735946873, 2.4089262794557698, -1.4242133462894662]\n"
      }
     ],
     "persistentId": "966ff13b-1221-44fb-ac73-7a97eddb14fb",
     "text": "# now write your own code to answer questions\nMW_COMV = MWCOM.COM_V(MW_COMP[0], MW_COMP[1], MW_COMP[2])\nprint(MW_COMV)"
    },
    "executionTime": "2020-02-12T03:58:35.450Z"
   },
   {
    "cell": {
     "executionCount": 57,
     "executionEventId": "3971c74a-f96c-4950-ae4d-7d2dd72ba308",
     "hasError": false,
     "id": "15a7c55c-5293-4deb-b861-0c326e14d523",
     "outputs": [],
     "persistentId": "3f3a5cb8-663d-4322-a77a-bde24cf50cec",
     "text": "class CenterOfMass:\n# Class to define COM position and velocity properties of a given galaxy \n# and simulation snapshot\n    \n    \n    def __init__(self, filename, ptype):\n    # Initialize the instance of this Class with the following properties:\n    \n        # read data in the given file using Read\n        self.time, self.total, self.data = Read(filename)                                                                                             \n\n        #create an array to store indexes of particles of desired Ptype                                \n        self.index = np.where(self.data['type'] == ptype)\n\n        # store the mass, positions, velocities of only the particles of the given type\n        # the following only gives the example of storing the mass\n        # self.m = self.data['m'][self.index]\n        # write your own code to complete this for positions and velocities\n        self.m = self.data['m'][self.index]\n        self.x = self.data['x'][self.index]\n        self.y = self.data['y'][self.index]\n        self.z = self.data['z'][self.index]\n        self.vx = self.data['vx'][self.index]\n        self.vy = self.data['vy'][self.index]\n        self.vz = self.data['vz'][self.index]\n\n\n    def COMdefine(self,a,b,c,m):\n    # Function to compute the center of mass position or velocity generically\n    # input: array (a,b,c) of positions or velocities and the mass\n    # returns: 3 floats  (the center of mass coordinates)\n\n        # write your own code to compute the generic COM using Eq. 1 in the homework instructions\n        # xcomponent Center of mass\n        Acom = np.sum(self.x*self.m)/np.sum(self.m)\n        # ycomponent Center of mass\n        Bcom = np.sum(self.y*self.m)/np.sum(self.m)\n        # zcomponent Center of mass\n        Ccom = np.sum(self.z*self.m)/np.sum(self.m)\n        \n        return Acom, Bcom, Ccom\n    \n    \n    def COM_P(self, delta):\n    # Function to specifically return the center of mass position and velocity                                         \n    # input:                                                                                                           \n    #        particle type (1,2,3)                                                                                     \n    #        delta (tolerance)                                                                                         \n    # returns: One vector, with rows indicating:                                                                                                                                                                            \n    #       3D coordinates of the center of mass position (kpc)                                                             \n\n        # Center of Mass Position                                                                                      \n        ###########################                                                                                    \n\n        # Try a first guess at the COM position by calling COMdefine                                                   \n        XCOM, YCOM, ZCOM = self.COMdefine(self.x, self.y, self.z, self.m)\n        # compute the magnitude of the COM position vector.\n        # write your own code below\n        RCOM = np.sqrt(XCOM**2+YCOM**2+ZCOM**2)\n\n\n        # iterative process to determine the center of mass                                                            \n\n        # change reference frame to COM frame                                                                          \n        # compute the difference between particle coordinates                                                          \n        # and the first guess at COM position\n        # write your own code below\n        xNew = self.x - XCOM\n        yNew = self.y - YCOM\n        zNew = self.z - ZCOM\n        RNEW = np.sqrt(self.x**2+self.y**2+self.z**2) - RCOM\n\n        # find the max 3D distance of all particles from the guessed COM                                               \n        # will re-start at half that radius (reduced radius)                                                           \n        RMAX = max(RNEW)/2.0\n        \n        # pick an initial value for the change in COM position                                                      \n        # between the first guess above and the new one computed from half that volume\n        # it should be larger than the input tolerance (delta) initially\n        CHANGE = 1000.0\n\n        # start iterative process to determine center of mass position                                                 \n        # delta is the tolerance for the difference in the old COM and the new one.    \n        \n        while (CHANGE > delta):\n            # select all particles within the reduced radius (starting from original x,y,z, m)\n            # write your own code below (hints, use np.where)\n            index2 = np.where(np.sqrt(self.x**2+self.y**2+self.z**2) <= RMAX)\n            x2 = self.data['x'][index2]\n            y2 = self.data['y'][index2]\n            z2 = self.data['z'][index2]\n            m2 = self.data['m'][index2]\n\n            # Refined COM position:                                                                                    \n            # compute the center of mass position using                                                                \n            # the particles in the reduced radius\n            # write your own code below\n            XCOM2, YCOM2, ZCOM2 = self.COMdefine(x2, y2, z2, m2)\n            # compute the new 3D COM position\n            # write your own code below\n            RCOM2 = np.sqrt(XCOM2**2+YCOM2**2+ZCOM2**2)\n\n            # determine the difference between the previous center of mass position                                    \n            # and the new one.                                                                                         \n            CHANGE = np.abs(RCOM - RCOM2)\n            # uncomment the following line if you wnat to check this                                                                                               \n            # print (\"CHANGE = \", CHANGE)                                                                                     \n\n            # Before loop continues, reset : RMAX, particle separations and COM                                        \n\n            # reduce the volume by a factor of 2 again                                                                 \n            RMAX = RMAX/2.0\n            # check this.                                                                                              \n            #print (\"maxR\", RMAX)                                                                                      \n\n            # Change the frame of reference to the newly computed COM.                                                 \n            # subtract the new COM\n            # write your own code below\n            xNew = x2 - XCOM2\n            yNew = y2 - YCOM2\n            zNew = z2 - ZCOM2\n            RNEW = np.sqrt(x2**2+y2**2+z2**2) - RCOM2\n\n            # set the center of mass positions to the refined values                                                   \n            XCOM = XCOM2\n            YCOM = YCOM2\n            ZCOM = ZCOM2\n            RCOM = RCOM2\n\n            # create a vector to store the COM position                                                                                                                                                       \n            COMP = [XCOM, YCOM, ZCOM]\n\n        # set the correct units using astropy and round all values\n        # and then return the COM positon vector\n        # write your own code below\n        \n        XCOM = XCOM*u.kpc\n        YCOM = YCOM*u.kpc\n        ZCOM = ZCOM*u.kpc\n        COMP = COMP*u.kpc\n    \n        return COMP\n\n    def COM_V(self, COMX,COMY,COMZ):\n        # Center of Mass velocity\n        # input: X, Y, Z positions of the COM\n        # returns 3D Vector of COM Velocities\n        \n        # the max distance from the center that we will use to determine the center of mass velocity                   \n        RVMAX = 15.0*u.kpc\n\n        # determine the position of all particles relative to the center of mass position\n        # write your own code below\n        xV = self.x*u.kpc - COMX\n        yV = self.y*u.kpc - COMY\n        zV = self.z*u.kpc - COMZ\n        RV = np.sqrt(xV**2+yV**2+zV**2)\n        \n        # determine the index for those particles within the max radius\n        # write your own code below\n        indexV = np.where(RV < RVMAX)\n\n        # determine the velocity and mass of those particles within the mas radius\n        # write your own code below\n        vxnew = self.data['vx'][indexV]\n        vynew = self.data['vy'][indexV]\n        vznew = self.data['vz'][indexV]\n        mnew = self.data['m'][indexV]  \n        \n        # compute the center of mass velocity using those particles\n        # write your own code below\n        VXCOM, VYCOM, VZCOM = self.COMdefine(vxnew, vynew, vznew, mnew)\n\n        # create a vector to store the COM velocity\n        # set the correct units usint astropy\n        # round all values\n        # write your own code below\n        COMV = [VXCOM, VYCOM, VZCOM]*u.km/u.s\n        print(COMV)\n\n        # return the COM vector                                                                                        \n        return COMV"
    },
    "executionTime": "2020-02-12T04:00:04.783Z"
   },
   {
    "cell": {
     "executionCount": 58,
     "executionEventId": "da5c80a2-b03a-4855-a0a9-3417a2e985a5",
     "hasError": false,
     "id": "1ec1c88c-1fce-4f6e-b8c0-db3ed4c98b85",
     "outputs": [],
     "persistentId": "1925e6a4-0327-430a-b39d-4ebbd7201e33",
     "text": "# Create a Center of mass object for the MW, M31 and M33\n# below is an example of using the class for MW\nMWCOM = CenterOfMass(\"MW_000.txt\", 2)"
    },
    "executionTime": "2020-02-12T04:00:08.230Z"
   },
   {
    "cell": {
     "executionCount": 59,
     "executionEventId": "4fa5f3e0-22de-493d-babe-be28f6333426",
     "hasError": false,
     "id": "41b3f20d-1811-4f91-b20f-b0580131a95f",
     "outputs": [
      {
       "name": "stdout",
       "output_type": "stream",
       "text": "[-0.93398577  2.40892628 -1.42421335] kpc\n"
      }
     ],
     "persistentId": "d9be1b5b-cc5b-4d53-bbf7-2deedeca2731",
     "text": "# below gives you an example of calling the class's functions\n# MW:   store the position and velocity COM\nMW_COMP = MWCOM.COM_P(0.1)\nprint(MW_COMP)"
    },
    "executionTime": "2020-02-12T04:00:10.035Z"
   },
   {
    "cell": {
     "executionCount": 60,
     "executionEventId": "b6b38698-888d-4110-b24d-5f28cc046c03",
     "hasError": false,
     "id": "41b3f20d-1811-4f91-b20f-b0580131a95f",
     "outputs": [
      {
       "name": "stdout",
       "output_type": "stream",
       "text": "[-0.93398577  2.40892628 -1.42421335] kpc\n"
      }
     ],
     "persistentId": "d9be1b5b-cc5b-4d53-bbf7-2deedeca2731",
     "text": "# below gives you an example of calling the class's functions\n# MW:   store the position and velocity COM\nMW_COMP = MWCOM.COM_P(0.1)\nprint(MW_COMP)"
    },
    "executionTime": "2020-02-12T04:00:11.513Z"
   },
   {
    "cell": {
     "executionCount": 61,
     "executionEventId": "2596e51e-05c3-4e08-947c-2086a4048a57",
     "hasError": false,
     "id": "f701bbb1-527f-499d-96c1-c318cffd4b81",
     "outputs": [
      {
       "name": "stdout",
       "output_type": "stream",
       "text": "[-0.93398577  2.40892628 -1.42421335] km / s\n[-0.93398577  2.40892628 -1.42421335] km / s\n"
      }
     ],
     "persistentId": "966ff13b-1221-44fb-ac73-7a97eddb14fb",
     "text": "# now write your own code to answer questions\nMW_COMV = MWCOM.COM_V(MW_COMP[0], MW_COMP[1], MW_COMP[2])\nprint(MW_COMV)"
    },
    "executionTime": "2020-02-12T04:00:12.597Z"
   },
   {
    "cell": {
     "executionCount": 62,
     "executionEventId": "75a55b94-be06-4547-b55a-a9fea5bee2fe",
     "hasError": false,
     "id": "15a7c55c-5293-4deb-b861-0c326e14d523",
     "outputs": [],
     "persistentId": "3f3a5cb8-663d-4322-a77a-bde24cf50cec",
     "text": "class CenterOfMass:\n# Class to define COM position and velocity properties of a given galaxy \n# and simulation snapshot\n    \n    \n    def __init__(self, filename, ptype):\n    # Initialize the instance of this Class with the following properties:\n    \n        # read data in the given file using Read\n        self.time, self.total, self.data = Read(filename)                                                                                             \n\n        #create an array to store indexes of particles of desired Ptype                                \n        self.index = np.where(self.data['type'] == ptype)\n\n        # store the mass, positions, velocities of only the particles of the given type\n        # the following only gives the example of storing the mass\n        # self.m = self.data['m'][self.index]\n        # write your own code to complete this for positions and velocities\n        self.m = self.data['m'][self.index]\n        self.x = self.data['x'][self.index]\n        self.y = self.data['y'][self.index]\n        self.z = self.data['z'][self.index]\n        self.vx = self.data['vx'][self.index]\n        self.vy = self.data['vy'][self.index]\n        self.vz = self.data['vz'][self.index]\n\n\n    def COMdefine(self,a,b,c,m):\n    # Function to compute the center of mass position or velocity generically\n    # input: array (a,b,c) of positions or velocities and the mass\n    # returns: 3 floats  (the center of mass coordinates)\n\n        # write your own code to compute the generic COM using Eq. 1 in the homework instructions\n        # xcomponent Center of mass\n        Acom = np.sum(self.x*self.m)/np.sum(self.m)\n        # ycomponent Center of mass\n        Bcom = np.sum(self.y*self.m)/np.sum(self.m)\n        # zcomponent Center of mass\n        Ccom = np.sum(self.z*self.m)/np.sum(self.m)\n        \n        return Acom, Bcom, Ccom\n    \n    \n    def COM_P(self, delta):\n    # Function to specifically return the center of mass position and velocity                                         \n    # input:                                                                                                           \n    #        particle type (1,2,3)                                                                                     \n    #        delta (tolerance)                                                                                         \n    # returns: One vector, with rows indicating:                                                                                                                                                                            \n    #       3D coordinates of the center of mass position (kpc)                                                             \n\n        # Center of Mass Position                                                                                      \n        ###########################                                                                                    \n\n        # Try a first guess at the COM position by calling COMdefine                                                   \n        XCOM, YCOM, ZCOM = self.COMdefine(self.x, self.y, self.z, self.m)\n        # compute the magnitude of the COM position vector.\n        # write your own code below\n        RCOM = np.sqrt(XCOM**2+YCOM**2+ZCOM**2)\n\n\n        # iterative process to determine the center of mass                                                            \n\n        # change reference frame to COM frame                                                                          \n        # compute the difference between particle coordinates                                                          \n        # and the first guess at COM position\n        # write your own code below\n        xNew = self.x - XCOM\n        yNew = self.y - YCOM\n        zNew = self.z - ZCOM\n        RNEW = np.sqrt(self.x**2+self.y**2+self.z**2) - RCOM\n\n        # find the max 3D distance of all particles from the guessed COM                                               \n        # will re-start at half that radius (reduced radius)                                                           \n        RMAX = max(RNEW)/2.0\n        \n        # pick an initial value for the change in COM position                                                      \n        # between the first guess above and the new one computed from half that volume\n        # it should be larger than the input tolerance (delta) initially\n        CHANGE = 1000.0\n\n        # start iterative process to determine center of mass position                                                 \n        # delta is the tolerance for the difference in the old COM and the new one.    \n        \n        while (CHANGE > delta):\n            # select all particles within the reduced radius (starting from original x,y,z, m)\n            # write your own code below (hints, use np.where)\n            index2 = np.where(np.sqrt(self.x**2+self.y**2+self.z**2) <= RMAX)\n            x2 = self.data['x'][index2]\n            y2 = self.data['y'][index2]\n            z2 = self.data['z'][index2]\n            m2 = self.data['m'][index2]\n\n            # Refined COM position:                                                                                    \n            # compute the center of mass position using                                                                \n            # the particles in the reduced radius\n            # write your own code below\n            XCOM2, YCOM2, ZCOM2 = self.COMdefine(x2, y2, z2, m2)\n            # compute the new 3D COM position\n            # write your own code below\n            RCOM2 = np.sqrt(XCOM2**2+YCOM2**2+ZCOM2**2)\n\n            # determine the difference between the previous center of mass position                                    \n            # and the new one.                                                                                         \n            CHANGE = np.abs(RCOM - RCOM2)\n            # uncomment the following line if you wnat to check this                                                                                               \n            # print (\"CHANGE = \", CHANGE)                                                                                     \n\n            # Before loop continues, reset : RMAX, particle separations and COM                                        \n\n            # reduce the volume by a factor of 2 again                                                                 \n            RMAX = RMAX/2.0\n            # check this.                                                                                              \n            #print (\"maxR\", RMAX)                                                                                      \n\n            # Change the frame of reference to the newly computed COM.                                                 \n            # subtract the new COM\n            # write your own code below\n            xNew = x2 - XCOM2\n            yNew = y2 - YCOM2\n            zNew = z2 - ZCOM2\n            RNEW = np.sqrt(x2**2+y2**2+z2**2) - RCOM2\n\n            # set the center of mass positions to the refined values                                                   \n            XCOM = XCOM2\n            YCOM = YCOM2\n            ZCOM = ZCOM2\n            RCOM = RCOM2\n\n            # create a vector to store the COM position                                                                                                                                                       \n            COMP = [XCOM, YCOM, ZCOM]\n\n        # set the correct units using astropy and round all values\n        # and then return the COM positon vector\n        # write your own code below\n        \n        XCOM = XCOM*u.kpc\n        YCOM = YCOM*u.kpc\n        ZCOM = ZCOM*u.kpc\n        COMP = COMP*u.kpc\n    \n        return COMP\n\n    def COM_V(self, COMX,COMY,COMZ):\n        # Center of Mass velocity\n        # input: X, Y, Z positions of the COM\n        # returns 3D Vector of COM Velocities\n        \n        # the max distance from the center that we will use to determine the center of mass velocity                   \n        RVMAX = 15.0*u.kpc\n\n        # determine the position of all particles relative to the center of mass position\n        # write your own code below\n        xV = self.x*u.kpc - COMX\n        yV = self.y*u.kpc - COMY\n        zV = self.z*u.kpc - COMZ\n        RV = np.sqrt(xV**2+yV**2+zV**2)\n        \n        # determine the index for those particles within the max radius\n        # write your own code below\n        indexV = np.where(RV < RVMAX)\n\n        # determine the velocity and mass of those particles within the mas radius\n        # write your own code below\n        vxnew = self.data['vx'][indexV]\n        vynew = self.data['vy'][indexV]\n        vznew = self.data['vz'][indexV]\n        mnew = self.data['m'][indexV]  \n        \n        # compute the center of mass velocity using those particles\n        # write your own code below\n        VXCOM, VYCOM, VZCOM = self.COMdefine(vxnew, vynew, vznew, mnew)\n\n        # create a vector to store the COM velocity\n        # set the correct units usint astropy\n        # round all values\n        # write your own code below\n        COMV = [VXCOM, VYCOM, VZCOM]*u.km/u.s\n\n        # return the COM vector                                                                                        \n        return COMV"
    },
    "executionTime": "2020-02-12T04:01:31.798Z"
   },
   {
    "cell": {
     "executionCount": 63,
     "executionEventId": "da4d4171-91ce-400f-9b4e-cd40deab8ac1",
     "hasError": false,
     "id": "1ec1c88c-1fce-4f6e-b8c0-db3ed4c98b85",
     "outputs": [],
     "persistentId": "1925e6a4-0327-430a-b39d-4ebbd7201e33",
     "text": "# Create a Center of mass object for the MW, M31 and M33\n# below is an example of using the class for MW\nMWCOM = CenterOfMass(\"MW_000.txt\", 2)"
    },
    "executionTime": "2020-02-12T04:01:39.275Z"
   },
   {
    "cell": {
     "executionCount": 64,
     "executionEventId": "c8667502-86f7-4b61-8825-428d5a9ee0d3",
     "hasError": false,
     "id": "f701bbb1-527f-499d-96c1-c318cffd4b81",
     "outputs": [
      {
       "name": "stdout",
       "output_type": "stream",
       "text": "[-0.93398577  2.40892628 -1.42421335] km / s\n"
      }
     ],
     "persistentId": "966ff13b-1221-44fb-ac73-7a97eddb14fb",
     "text": "# now write your own code to answer questions\nMW_COMV = MWCOM.COM_V(MW_COMP[0], MW_COMP[1], MW_COMP[2])\nprint(MW_COMV)"
    },
    "executionTime": "2020-02-12T04:02:24.760Z"
   },
   {
    "cell": {
     "executionCount": 65,
     "executionEventId": "f9197d59-0048-43c0-a8b6-8f4165826d9d",
     "hasError": false,
     "id": "41b3f20d-1811-4f91-b20f-b0580131a95f",
     "outputs": [
      {
       "name": "stdout",
       "output_type": "stream",
       "text": "[-0.93398577  2.40892628 -1.42421335] kpc\n[-0.93398577  2.40892628 -1.42421335] km / s\n"
      }
     ],
     "persistentId": "d9be1b5b-cc5b-4d53-bbf7-2deedeca2731",
     "text": "# below gives you an example of calling the class's functions\n# MW:   store the position and velocity COM\nMW_COMP = MWCOM.COM_P(0.1)\nMW_COMV = MWCOM.COM_V(MW_COMP[0], MW_COMP[1], MW_COMP[2])\nprint(MW_COMP)\nprint(MW_COMV)"
    },
    "executionTime": "2020-02-12T04:03:19.148Z"
   },
   {
    "cell": {
     "executionCount": 66,
     "executionEventId": "5a621b91-03a7-4152-8c32-4eba6af6b030",
     "hasError": false,
     "id": "f701bbb1-527f-499d-96c1-c318cffd4b81",
     "outputs": [
      {
       "name": "stdout",
       "output_type": "stream",
       "text": "[-377.72135607  611.45569706 -284.6170772 ] kpc\n[-377.72135607  611.45569706 -284.6170772 ] km / s\n"
      }
     ],
     "persistentId": "966ff13b-1221-44fb-ac73-7a97eddb14fb",
     "text": "# now write your own code to answer questions\nM31COM = CenterOfMass(\"M31_000.txt\", 2)\nM31_COMP = M31COM.COM_P(0.1)\nM31_COMV = M31COM.COM_V(MW_COMP[0], MW_COMP[1], MW_COMP[2])\nprint(M31_COMP)\nprint(M31_COMV)"
    },
    "executionTime": "2020-02-12T04:04:05.247Z"
   },
   {
    "cell": {
     "executionCount": 67,
     "executionEventId": "a2e9f840-9274-4bf4-90bc-1cab7c462aaf",
     "hasError": false,
     "id": "15a7c55c-5293-4deb-b861-0c326e14d523",
     "outputs": [],
     "persistentId": "3f3a5cb8-663d-4322-a77a-bde24cf50cec",
     "text": "class CenterOfMass:\n# Class to define COM position and velocity properties of a given galaxy \n# and simulation snapshot\n    \n    \n    def __init__(self, filename, ptype):\n    # Initialize the instance of this Class with the following properties:\n    \n        # read data in the given file using Read\n        self.time, self.total, self.data = Read(filename)                                                                                             \n\n        #create an array to store indexes of particles of desired Ptype                                \n        self.index = np.where(self.data['type'] == ptype)\n\n        # store the mass, positions, velocities of only the particles of the given type\n        # the following only gives the example of storing the mass\n        # self.m = self.data['m'][self.index]\n        # write your own code to complete this for positions and velocities\n        self.m = self.data['m'][self.index]\n        self.x = self.data['x'][self.index]\n        self.y = self.data['y'][self.index]\n        self.z = self.data['z'][self.index]\n        self.vx = self.data['vx'][self.index]\n        self.vy = self.data['vy'][self.index]\n        self.vz = self.data['vz'][self.index]\n\n\n    def COMdefine(self,a,b,c,m):\n    # Function to compute the center of mass position or velocity generically\n    # input: array (a,b,c) of positions or velocities and the mass\n    # returns: 3 floats  (the center of mass coordinates)\n\n        # write your own code to compute the generic COM using Eq. 1 in the homework instructions\n        # xcomponent Center of mass\n        Acom = np.sum(a*m)/np.sum(m)\n        # ycomponent Center of mass\n        Bcom = np.sum(b*m)/np.sum(m)\n        # zcomponent Center of mass\n        Ccom = np.sum(c*m)/np.sum(m)\n        \n        return Acom, Bcom, Ccom\n    \n    \n    def COM_P(self, delta):\n    # Function to specifically return the center of mass position and velocity                                         \n    # input:                                                                                                           \n    #        particle type (1,2,3)                                                                                     \n    #        delta (tolerance)                                                                                         \n    # returns: One vector, with rows indicating:                                                                                                                                                                            \n    #       3D coordinates of the center of mass position (kpc)                                                             \n\n        # Center of Mass Position                                                                                      \n        ###########################                                                                                    \n\n        # Try a first guess at the COM position by calling COMdefine                                                   \n        XCOM, YCOM, ZCOM = self.COMdefine(self.x, self.y, self.z, self.m)\n        # compute the magnitude of the COM position vector.\n        # write your own code below\n        RCOM = np.sqrt(XCOM**2+YCOM**2+ZCOM**2)\n\n\n        # iterative process to determine the center of mass                                                            \n\n        # change reference frame to COM frame                                                                          \n        # compute the difference between particle coordinates                                                          \n        # and the first guess at COM position\n        # write your own code below\n        xNew = self.x - XCOM\n        yNew = self.y - YCOM\n        zNew = self.z - ZCOM\n        RNEW = np.sqrt(self.x**2+self.y**2+self.z**2) - RCOM\n\n        # find the max 3D distance of all particles from the guessed COM                                               \n        # will re-start at half that radius (reduced radius)                                                           \n        RMAX = max(RNEW)/2.0\n        \n        # pick an initial value for the change in COM position                                                      \n        # between the first guess above and the new one computed from half that volume\n        # it should be larger than the input tolerance (delta) initially\n        CHANGE = 1000.0\n\n        # start iterative process to determine center of mass position                                                 \n        # delta is the tolerance for the difference in the old COM and the new one.    \n        \n        while (CHANGE > delta):\n            # select all particles within the reduced radius (starting from original x,y,z, m)\n            # write your own code below (hints, use np.where)\n            index2 = np.where(np.sqrt(self.x**2+self.y**2+self.z**2) <= RMAX)\n            x2 = self.data['x'][index2]\n            y2 = self.data['y'][index2]\n            z2 = self.data['z'][index2]\n            m2 = self.data['m'][index2]\n\n            # Refined COM position:                                                                                    \n            # compute the center of mass position using                                                                \n            # the particles in the reduced radius\n            # write your own code below\n            XCOM2, YCOM2, ZCOM2 = self.COMdefine(x2, y2, z2, m2)\n            # compute the new 3D COM position\n            # write your own code below\n            RCOM2 = np.sqrt(XCOM2**2+YCOM2**2+ZCOM2**2)\n\n            # determine the difference between the previous center of mass position                                    \n            # and the new one.                                                                                         \n            CHANGE = np.abs(RCOM - RCOM2)\n            # uncomment the following line if you wnat to check this                                                                                               \n            # print (\"CHANGE = \", CHANGE)                                                                                     \n\n            # Before loop continues, reset : RMAX, particle separations and COM                                        \n\n            # reduce the volume by a factor of 2 again                                                                 \n            RMAX = RMAX/2.0\n            # check this.                                                                                              \n            #print (\"maxR\", RMAX)                                                                                      \n\n            # Change the frame of reference to the newly computed COM.                                                 \n            # subtract the new COM\n            # write your own code below\n            xNew = x2 - XCOM2\n            yNew = y2 - YCOM2\n            zNew = z2 - ZCOM2\n            RNEW = np.sqrt(x2**2+y2**2+z2**2) - RCOM2\n\n            # set the center of mass positions to the refined values                                                   \n            XCOM = XCOM2\n            YCOM = YCOM2\n            ZCOM = ZCOM2\n            RCOM = RCOM2\n\n            # create a vector to store the COM position                                                                                                                                                       \n            COMP = [XCOM, YCOM, ZCOM]\n\n        # set the correct units using astropy and round all values\n        # and then return the COM positon vector\n        # write your own code below\n        \n        XCOM = XCOM*u.kpc\n        YCOM = YCOM*u.kpc\n        ZCOM = ZCOM*u.kpc\n        COMP = COMP*u.kpc\n    \n        return COMP\n\n    def COM_V(self, COMX,COMY,COMZ):\n        # Center of Mass velocity\n        # input: X, Y, Z positions of the COM\n        # returns 3D Vector of COM Velocities\n        \n        # the max distance from the center that we will use to determine the center of mass velocity                   \n        RVMAX = 15.0*u.kpc\n\n        # determine the position of all particles relative to the center of mass position\n        # write your own code below\n        xV = self.x*u.kpc - COMX\n        yV = self.y*u.kpc - COMY\n        zV = self.z*u.kpc - COMZ\n        RV = np.sqrt(xV**2+yV**2+zV**2)\n        \n        # determine the index for those particles within the max radius\n        # write your own code below\n        indexV = np.where(RV < RVMAX)\n\n        # determine the velocity and mass of those particles within the mas radius\n        # write your own code below\n        vxnew = self.data['vx'][indexV]\n        vynew = self.data['vy'][indexV]\n        vznew = self.data['vz'][indexV]\n        mnew = self.data['m'][indexV]  \n        \n        # compute the center of mass velocity using those particles\n        # write your own code below\n        VXCOM, VYCOM, VZCOM = self.COMdefine(vxnew, vynew, vznew, mnew)\n\n        # create a vector to store the COM velocity\n        # set the correct units usint astropy\n        # round all values\n        # write your own code below\n        COMV = [VXCOM, VYCOM, VZCOM]*u.km/u.s\n\n        # return the COM vector                                                                                        \n        return COMV"
    },
    "executionTime": "2020-02-12T04:07:25.714Z"
   },
   {
    "cell": {
     "executionCount": 68,
     "executionEventId": "da2ce40c-fa12-4643-b684-2bd1580230f0",
     "hasError": false,
     "id": "1ec1c88c-1fce-4f6e-b8c0-db3ed4c98b85",
     "outputs": [],
     "persistentId": "1925e6a4-0327-430a-b39d-4ebbd7201e33",
     "text": "# Create a Center of mass object for the MW, M31 and M33\n# below is an example of using the class for MW\nMWCOM = CenterOfMass(\"MW_000.txt\", 2)"
    },
    "executionTime": "2020-02-12T04:07:29.872Z"
   },
   {
    "cell": {
     "executionCount": 69,
     "executionEventId": "6bc650da-13a4-4261-bf94-06fae42d18f6",
     "hasError": false,
     "id": "41b3f20d-1811-4f91-b20f-b0580131a95f",
     "outputs": [
      {
       "name": "stdout",
       "output_type": "stream",
       "text": "[nan nan nan] kpc\n[nan nan nan] km / s\n"
      },
      {
       "name": "stderr",
       "output_type": "stream",
       "text": "/anaconda3/lib/python3.6/site-packages/ipykernel_launcher.py:35: RuntimeWarning: invalid value encountered in double_scalars\n/anaconda3/lib/python3.6/site-packages/ipykernel_launcher.py:37: RuntimeWarning: invalid value encountered in double_scalars\n/anaconda3/lib/python3.6/site-packages/ipykernel_launcher.py:39: RuntimeWarning: invalid value encountered in double_scalars\n/anaconda3/lib/python3.6/site-packages/astropy/units/quantity.py:481: RuntimeWarning: invalid value encountered in less\n  result = super().__array_ufunc__(function, method, *arrays, **kwargs)\n"
      }
     ],
     "persistentId": "d9be1b5b-cc5b-4d53-bbf7-2deedeca2731",
     "text": "# below gives you an example of calling the class's functions\n# MW:   store the position and velocity COM\nMW_COMP = MWCOM.COM_P(0.1)\nMW_COMV = MWCOM.COM_V(MW_COMP[0], MW_COMP[1], MW_COMP[2])\nprint(MW_COMP)\nprint(MW_COMV)"
    },
    "executionTime": "2020-02-12T04:07:31.389Z"
   },
   {
    "cell": {
     "executionCount": 70,
     "executionEventId": "098c755b-7623-4f38-8112-2e15a4aeae70",
     "hasError": false,
     "id": "1ec1c88c-1fce-4f6e-b8c0-db3ed4c98b85",
     "outputs": [],
     "persistentId": "1925e6a4-0327-430a-b39d-4ebbd7201e33",
     "text": "# Create a Center of mass object for the MW, M31 and M33\n# below is an example of using the class for MW\nMWCOM = CenterOfMass(\"MW_000.txt\", 2)"
    },
    "executionTime": "2020-02-12T04:07:41.426Z"
   },
   {
    "cell": {
     "executionCount": 71,
     "executionEventId": "e44b3aea-1e43-412d-a6f6-684281974e3c",
     "hasError": false,
     "id": "41b3f20d-1811-4f91-b20f-b0580131a95f",
     "outputs": [
      {
       "name": "stdout",
       "output_type": "stream",
       "text": "[nan nan nan] kpc\n[nan nan nan] km / s\n"
      },
      {
       "name": "stderr",
       "output_type": "stream",
       "text": "/anaconda3/lib/python3.6/site-packages/ipykernel_launcher.py:35: RuntimeWarning: invalid value encountered in double_scalars\n/anaconda3/lib/python3.6/site-packages/ipykernel_launcher.py:37: RuntimeWarning: invalid value encountered in double_scalars\n/anaconda3/lib/python3.6/site-packages/ipykernel_launcher.py:39: RuntimeWarning: invalid value encountered in double_scalars\n"
      }
     ],
     "persistentId": "d9be1b5b-cc5b-4d53-bbf7-2deedeca2731",
     "text": "# below gives you an example of calling the class's functions\n# MW:   store the position and velocity COM\nMW_COMP = MWCOM.COM_P(0.1)\nMW_COMV = MWCOM.COM_V(MW_COMP[0], MW_COMP[1], MW_COMP[2])\nprint(MW_COMP)\nprint(MW_COMV)"
    },
    "executionTime": "2020-02-12T04:07:42.641Z"
   },
   {
    "cell": {
     "executionCount": 72,
     "executionEventId": "d726b8ff-806b-4e76-b859-bdf40a5ae700",
     "hasError": false,
     "id": "15a7c55c-5293-4deb-b861-0c326e14d523",
     "outputs": [],
     "persistentId": "3f3a5cb8-663d-4322-a77a-bde24cf50cec",
     "text": "class CenterOfMass:\n# Class to define COM position and velocity properties of a given galaxy \n# and simulation snapshot\n    \n    \n    def __init__(self, filename, ptype):\n    # Initialize the instance of this Class with the following properties:\n    \n        # read data in the given file using Read\n        self.time, self.total, self.data = Read(filename)                                                                                             \n\n        #create an array to store indexes of particles of desired Ptype                                \n        self.index = np.where(self.data['type'] == ptype)\n\n        # store the mass, positions, velocities of only the particles of the given type\n        # the following only gives the example of storing the mass\n        # self.m = self.data['m'][self.index]\n        # write your own code to complete this for positions and velocities\n        self.m = self.data['m'][self.index]\n        self.x = self.data['x'][self.index]\n        self.y = self.data['y'][self.index]\n        self.z = self.data['z'][self.index]\n        self.vx = self.data['vx'][self.index]\n        self.vy = self.data['vy'][self.index]\n        self.vz = self.data['vz'][self.index]\n\n\n    def COMdefine(self,a,b,c,m):\n    # Function to compute the center of mass position or velocity generically\n    # input: array (a,b,c) of positions or velocities and the mass\n    # returns: 3 floats  (the center of mass coordinates)\n\n        # write your own code to compute the generic COM using Eq. 1 in the homework instructions\n        # xcomponent Center of mass\n        Acom = np.sum(a*m)/np.sum(m)\n        # ycomponent Center of mass\n        Bcom = np.sum(b*m)/np.sum(m)\n        # zcomponent Center of mass\n        Ccom = np.sum(c*m)/np.sum(m)\n        \n        return Acom, Bcom, Ccom\n    \n    \n    def COM_P(self, delta):\n    # Function to specifically return the center of mass position and velocity                                         \n    # input:                                                                                                           \n    #        particle type (1,2,3)                                                                                     \n    #        delta (tolerance)                                                                                         \n    # returns: One vector, with rows indicating:                                                                                                                                                                            \n    #       3D coordinates of the center of mass position (kpc)                                                             \n\n        # Center of Mass Position                                                                                      \n        ###########################                                                                                    \n\n        # Try a first guess at the COM position by calling COMdefine                                                   \n        XCOM, YCOM, ZCOM = self.COMdefine(self.x, self.y, self.z, self.m)\n        print(XCOM)\n        # compute the magnitude of the COM position vector.\n        # write your own code below\n        RCOM = np.sqrt(XCOM**2+YCOM**2+ZCOM**2)\n\n\n        # iterative process to determine the center of mass                                                            \n\n        # change reference frame to COM frame                                                                          \n        # compute the difference between particle coordinates                                                          \n        # and the first guess at COM position\n        # write your own code below\n        xNew = self.x - XCOM\n        yNew = self.y - YCOM\n        zNew = self.z - ZCOM\n        RNEW = np.sqrt(self.x**2+self.y**2+self.z**2) - RCOM\n\n        # find the max 3D distance of all particles from the guessed COM                                               \n        # will re-start at half that radius (reduced radius)                                                           \n        RMAX = max(RNEW)/2.0\n        \n        # pick an initial value for the change in COM position                                                      \n        # between the first guess above and the new one computed from half that volume\n        # it should be larger than the input tolerance (delta) initially\n        CHANGE = 1000.0\n\n        # start iterative process to determine center of mass position                                                 \n        # delta is the tolerance for the difference in the old COM and the new one.    \n        \n        while (CHANGE > delta):\n            # select all particles within the reduced radius (starting from original x,y,z, m)\n            # write your own code below (hints, use np.where)\n            index2 = np.where(np.sqrt(self.x**2+self.y**2+self.z**2) <= RMAX)\n            x2 = self.data['x'][index2]\n            y2 = self.data['y'][index2]\n            z2 = self.data['z'][index2]\n            m2 = self.data['m'][index2]\n\n            # Refined COM position:                                                                                    \n            # compute the center of mass position using                                                                \n            # the particles in the reduced radius\n            # write your own code below\n            XCOM2, YCOM2, ZCOM2 = self.COMdefine(x2, y2, z2, m2)\n            # compute the new 3D COM position\n            # write your own code below\n            RCOM2 = np.sqrt(XCOM2**2+YCOM2**2+ZCOM2**2)\n\n            # determine the difference between the previous center of mass position                                    \n            # and the new one.                                                                                         \n            CHANGE = np.abs(RCOM - RCOM2)\n            # uncomment the following line if you wnat to check this                                                                                               \n            # print (\"CHANGE = \", CHANGE)                                                                                     \n\n            # Before loop continues, reset : RMAX, particle separations and COM                                        \n\n            # reduce the volume by a factor of 2 again                                                                 \n            RMAX = RMAX/2.0\n            # check this.                                                                                              \n            #print (\"maxR\", RMAX)                                                                                      \n\n            # Change the frame of reference to the newly computed COM.                                                 \n            # subtract the new COM\n            # write your own code below\n            xNew = x2 - XCOM2\n            yNew = y2 - YCOM2\n            zNew = z2 - ZCOM2\n            RNEW = np.sqrt(x2**2+y2**2+z2**2) - RCOM2\n\n            # set the center of mass positions to the refined values                                                   \n            XCOM = XCOM2\n            YCOM = YCOM2\n            ZCOM = ZCOM2\n            RCOM = RCOM2\n\n            # create a vector to store the COM position                                                                                                                                                       \n            COMP = [XCOM, YCOM, ZCOM]\n\n        # set the correct units using astropy and round all values\n        # and then return the COM positon vector\n        # write your own code below\n        \n        XCOM = XCOM*u.kpc\n        YCOM = YCOM*u.kpc\n        ZCOM = ZCOM*u.kpc\n        COMP = COMP*u.kpc\n    \n        return COMP\n\n    def COM_V(self, COMX,COMY,COMZ):\n        # Center of Mass velocity\n        # input: X, Y, Z positions of the COM\n        # returns 3D Vector of COM Velocities\n        \n        # the max distance from the center that we will use to determine the center of mass velocity                   \n        RVMAX = 15.0*u.kpc\n\n        # determine the position of all particles relative to the center of mass position\n        # write your own code below\n        xV = self.x*u.kpc - COMX\n        yV = self.y*u.kpc - COMY\n        zV = self.z*u.kpc - COMZ\n        RV = np.sqrt(xV**2+yV**2+zV**2)\n        \n        # determine the index for those particles within the max radius\n        # write your own code below\n        indexV = np.where(RV < RVMAX)\n\n        # determine the velocity and mass of those particles within the mas radius\n        # write your own code below\n        vxnew = self.data['vx'][indexV]\n        vynew = self.data['vy'][indexV]\n        vznew = self.data['vz'][indexV]\n        mnew = self.data['m'][indexV]  \n        \n        # compute the center of mass velocity using those particles\n        # write your own code below\n        VXCOM, VYCOM, VZCOM = self.COMdefine(vxnew, vynew, vznew, mnew)\n\n        # create a vector to store the COM velocity\n        # set the correct units usint astropy\n        # round all values\n        # write your own code below\n        COMV = [VXCOM, VYCOM, VZCOM]*u.km/u.s\n\n        # return the COM vector                                                                                        \n        return COMV"
    },
    "executionTime": "2020-02-12T04:09:14.346Z"
   },
   {
    "cell": {
     "executionCount": 73,
     "executionEventId": "3551b361-2854-4381-81ba-72abf8f7a874",
     "hasError": false,
     "id": "1ec1c88c-1fce-4f6e-b8c0-db3ed4c98b85",
     "outputs": [],
     "persistentId": "1925e6a4-0327-430a-b39d-4ebbd7201e33",
     "text": "# Create a Center of mass object for the MW, M31 and M33\n# below is an example of using the class for MW\nMWCOM = CenterOfMass(\"MW_000.txt\", 2)"
    },
    "executionTime": "2020-02-12T04:09:18.389Z"
   },
   {
    "cell": {
     "executionCount": 74,
     "executionEventId": "3cb83798-561b-42be-839c-fe48d55405be",
     "hasError": false,
     "id": "41b3f20d-1811-4f91-b20f-b0580131a95f",
     "outputs": [
      {
       "name": "stdout",
       "output_type": "stream",
       "text": "-0.9339857735946873\n"
      },
      {
       "name": "stderr",
       "output_type": "stream",
       "text": "/anaconda3/lib/python3.6/site-packages/ipykernel_launcher.py:35: RuntimeWarning: invalid value encountered in double_scalars\n/anaconda3/lib/python3.6/site-packages/ipykernel_launcher.py:37: RuntimeWarning: invalid value encountered in double_scalars\n/anaconda3/lib/python3.6/site-packages/ipykernel_launcher.py:39: RuntimeWarning: invalid value encountered in double_scalars\n"
      }
     ],
     "persistentId": "d9be1b5b-cc5b-4d53-bbf7-2deedeca2731",
     "text": "# below gives you an example of calling the class's functions\n# MW:   store the position and velocity COM\nMW_COMP = MWCOM.COM_P(0.1)\n"
    },
    "executionTime": "2020-02-12T04:09:24.214Z"
   },
   {
    "cell": {
     "executionCount": 75,
     "executionEventId": "ae955dea-aff7-4974-a2c5-f379c84e6bb5",
     "hasError": false,
     "id": "15a7c55c-5293-4deb-b861-0c326e14d523",
     "outputs": [],
     "persistentId": "3f3a5cb8-663d-4322-a77a-bde24cf50cec",
     "text": "class CenterOfMass:\n# Class to define COM position and velocity properties of a given galaxy \n# and simulation snapshot\n    \n    \n    def __init__(self, filename, ptype):\n    # Initialize the instance of this Class with the following properties:\n    \n        # read data in the given file using Read\n        self.time, self.total, self.data = Read(filename)                                                                                             \n\n        #create an array to store indexes of particles of desired Ptype                                \n        self.index = np.where(self.data['type'] == ptype)\n\n        # store the mass, positions, velocities of only the particles of the given type\n        # the following only gives the example of storing the mass\n        # self.m = self.data['m'][self.index]\n        # write your own code to complete this for positions and velocities\n        self.m = self.data['m'][self.index]\n        self.x = self.data['x'][self.index]\n        self.y = self.data['y'][self.index]\n        self.z = self.data['z'][self.index]\n        self.vx = self.data['vx'][self.index]\n        self.vy = self.data['vy'][self.index]\n        self.vz = self.data['vz'][self.index]\n\n\n    def COMdefine(self,a,b,c,m):\n    # Function to compute the center of mass position or velocity generically\n    # input: array (a,b,c) of positions or velocities and the mass\n    # returns: 3 floats  (the center of mass coordinates)\n\n        # write your own code to compute the generic COM using Eq. 1 in the homework instructions\n        # xcomponent Center of mass\n        Acom = np.sum(a*m)/np.sum(m)\n        # ycomponent Center of mass\n        Bcom = np.sum(b*m)/np.sum(m)\n        # zcomponent Center of mass\n        Ccom = np.sum(c*m)/np.sum(m)\n        \n        return Acom, Bcom, Ccom\n    \n    \n    def COM_P(self, delta):\n    # Function to specifically return the center of mass position and velocity                                         \n    # input:                                                                                                           \n    #        particle type (1,2,3)                                                                                     \n    #        delta (tolerance)                                                                                         \n    # returns: One vector, with rows indicating:                                                                                                                                                                            \n    #       3D coordinates of the center of mass position (kpc)                                                             \n\n        # Center of Mass Position                                                                                      \n        ###########################                                                                                    \n\n        # Try a first guess at the COM position by calling COMdefine                                                   \n        XCOM, YCOM, ZCOM = self.COMdefine(self.x, self.y, self.z, self.m)\n        # compute the magnitude of the COM position vector.\n        # write your own code below\n        RCOM = np.sqrt(XCOM**2+YCOM**2+ZCOM**2)\n        print(RCOM)\n\n        # iterative process to determine the center of mass                                                            \n\n        # change reference frame to COM frame                                                                          \n        # compute the difference between particle coordinates                                                          \n        # and the first guess at COM position\n        # write your own code below\n        xNew = self.x - XCOM\n        yNew = self.y - YCOM\n        zNew = self.z - ZCOM\n        RNEW = np.sqrt(self.x**2+self.y**2+self.z**2) - RCOM\n\n        # find the max 3D distance of all particles from the guessed COM                                               \n        # will re-start at half that radius (reduced radius)                                                           \n        RMAX = max(RNEW)/2.0\n        \n        # pick an initial value for the change in COM position                                                      \n        # between the first guess above and the new one computed from half that volume\n        # it should be larger than the input tolerance (delta) initially\n        CHANGE = 1000.0\n\n        # start iterative process to determine center of mass position                                                 \n        # delta is the tolerance for the difference in the old COM and the new one.    \n        \n        while (CHANGE > delta):\n            # select all particles within the reduced radius (starting from original x,y,z, m)\n            # write your own code below (hints, use np.where)\n            index2 = np.where(np.sqrt(self.x**2+self.y**2+self.z**2) <= RMAX)\n            x2 = self.data['x'][index2]\n            y2 = self.data['y'][index2]\n            z2 = self.data['z'][index2]\n            m2 = self.data['m'][index2]\n\n            # Refined COM position:                                                                                    \n            # compute the center of mass position using                                                                \n            # the particles in the reduced radius\n            # write your own code below\n            XCOM2, YCOM2, ZCOM2 = self.COMdefine(x2, y2, z2, m2)\n            print(XCOM2)\n            # compute the new 3D COM position\n            # write your own code below\n            RCOM2 = np.sqrt(XCOM2**2+YCOM2**2+ZCOM2**2)\n\n            # determine the difference between the previous center of mass position                                    \n            # and the new one.                                                                                         \n            CHANGE = np.abs(RCOM - RCOM2)\n            # uncomment the following line if you wnat to check this                                                                                               \n            # print (\"CHANGE = \", CHANGE)                                                                                     \n\n            # Before loop continues, reset : RMAX, particle separations and COM                                        \n\n            # reduce the volume by a factor of 2 again                                                                 \n            RMAX = RMAX/2.0\n            # check this.                                                                                              \n            #print (\"maxR\", RMAX)                                                                                      \n\n            # Change the frame of reference to the newly computed COM.                                                 \n            # subtract the new COM\n            # write your own code below\n            xNew = x2 - XCOM2\n            yNew = y2 - YCOM2\n            zNew = z2 - ZCOM2\n            RNEW = np.sqrt(x2**2+y2**2+z2**2) - RCOM2\n\n            # set the center of mass positions to the refined values                                                   \n            XCOM = XCOM2\n            YCOM = YCOM2\n            ZCOM = ZCOM2\n            RCOM = RCOM2\n\n            # create a vector to store the COM position                                                                                                                                                       \n            COMP = [XCOM, YCOM, ZCOM]\n\n        # set the correct units using astropy and round all values\n        # and then return the COM positon vector\n        # write your own code below\n        \n        XCOM = XCOM*u.kpc\n        YCOM = YCOM*u.kpc\n        ZCOM = ZCOM*u.kpc\n        COMP = COMP*u.kpc\n    \n        return COMP\n\n    def COM_V(self, COMX,COMY,COMZ):\n        # Center of Mass velocity\n        # input: X, Y, Z positions of the COM\n        # returns 3D Vector of COM Velocities\n        \n        # the max distance from the center that we will use to determine the center of mass velocity                   \n        RVMAX = 15.0*u.kpc\n\n        # determine the position of all particles relative to the center of mass position\n        # write your own code below\n        xV = self.x*u.kpc - COMX\n        yV = self.y*u.kpc - COMY\n        zV = self.z*u.kpc - COMZ\n        RV = np.sqrt(xV**2+yV**2+zV**2)\n        \n        # determine the index for those particles within the max radius\n        # write your own code below\n        indexV = np.where(RV < RVMAX)\n\n        # determine the velocity and mass of those particles within the mas radius\n        # write your own code below\n        vxnew = self.data['vx'][indexV]\n        vynew = self.data['vy'][indexV]\n        vznew = self.data['vz'][indexV]\n        mnew = self.data['m'][indexV]  \n        \n        # compute the center of mass velocity using those particles\n        # write your own code below\n        VXCOM, VYCOM, VZCOM = self.COMdefine(vxnew, vynew, vznew, mnew)\n\n        # create a vector to store the COM velocity\n        # set the correct units usint astropy\n        # round all values\n        # write your own code below\n        COMV = [VXCOM, VYCOM, VZCOM]*u.km/u.s\n\n        # return the COM vector                                                                                        \n        return COMV"
    },
    "executionTime": "2020-02-12T04:09:51.138Z"
   },
   {
    "cell": {
     "executionCount": 76,
     "executionEventId": "84dedd51-7e0c-4b27-a39f-367ff8f5d501",
     "hasError": false,
     "id": "1ec1c88c-1fce-4f6e-b8c0-db3ed4c98b85",
     "outputs": [],
     "persistentId": "1925e6a4-0327-430a-b39d-4ebbd7201e33",
     "text": "# Create a Center of mass object for the MW, M31 and M33\n# below is an example of using the class for MW\nMWCOM = CenterOfMass(\"MW_000.txt\", 2)"
    },
    "executionTime": "2020-02-12T04:09:53.791Z"
   },
   {
    "cell": {
     "executionCount": 77,
     "executionEventId": "21dcc793-a866-4844-a854-e65c2a58faf3",
     "hasError": false,
     "id": "41b3f20d-1811-4f91-b20f-b0580131a95f",
     "outputs": [
      {
       "name": "stdout",
       "output_type": "stream",
       "text": "2.9501930277320705\n2.5849020567123726\n6.75583629386339\n1.127521643421679\n15.210675322493419\n-0.5911508777671345\n0.9555754461931734\nnan\n"
      },
      {
       "name": "stderr",
       "output_type": "stream",
       "text": "/anaconda3/lib/python3.6/site-packages/ipykernel_launcher.py:35: RuntimeWarning: invalid value encountered in double_scalars\n/anaconda3/lib/python3.6/site-packages/ipykernel_launcher.py:37: RuntimeWarning: invalid value encountered in double_scalars\n/anaconda3/lib/python3.6/site-packages/ipykernel_launcher.py:39: RuntimeWarning: invalid value encountered in double_scalars\n"
      }
     ],
     "persistentId": "d9be1b5b-cc5b-4d53-bbf7-2deedeca2731",
     "text": "# below gives you an example of calling the class's functions\n# MW:   store the position and velocity COM\nMW_COMP = MWCOM.COM_P(0.1)\n"
    },
    "executionTime": "2020-02-12T04:09:54.773Z"
   },
   {
    "cell": {
     "executionCount": 78,
     "executionEventId": "50fd9b5d-8881-4126-bfdd-2cd022461c8d",
     "hasError": false,
     "id": "15a7c55c-5293-4deb-b861-0c326e14d523",
     "outputs": [],
     "persistentId": "3f3a5cb8-663d-4322-a77a-bde24cf50cec",
     "text": "class CenterOfMass:\n# Class to define COM position and velocity properties of a given galaxy \n# and simulation snapshot\n    \n    \n    def __init__(self, filename, ptype):\n    # Initialize the instance of this Class with the following properties:\n    \n        # read data in the given file using Read\n        self.time, self.total, self.data = Read(filename)                                                                                             \n\n        #create an array to store indexes of particles of desired Ptype                                \n        self.index = np.where(self.data['type'] == ptype)\n\n        # store the mass, positions, velocities of only the particles of the given type\n        # the following only gives the example of storing the mass\n        # self.m = self.data['m'][self.index]\n        # write your own code to complete this for positions and velocities\n        self.m = self.data['m'][self.index]\n        self.x = self.data['x'][self.index]\n        self.y = self.data['y'][self.index]\n        self.z = self.data['z'][self.index]\n        self.vx = self.data['vx'][self.index]\n        self.vy = self.data['vy'][self.index]\n        self.vz = self.data['vz'][self.index]\n\n\n    def COMdefine(self,a,b,c,m):\n    # Function to compute the center of mass position or velocity generically\n    # input: array (a,b,c) of positions or velocities and the mass\n    # returns: 3 floats  (the center of mass coordinates)\n\n        # write your own code to compute the generic COM using Eq. 1 in the homework instructions\n        # xcomponent Center of mass\n        Acom = np.sum(a*m)/np.sum(m)\n        # ycomponent Center of mass\n        Bcom = np.sum(b*m)/np.sum(m)\n        # zcomponent Center of mass\n        Ccom = np.sum(c*m)/np.sum(m)\n        \n        return Acom, Bcom, Ccom\n    \n    \n    def COM_P(self, delta):\n    # Function to specifically return the center of mass position and velocity                                         \n    # input:                                                                                                           \n    #        particle type (1,2,3)                                                                                     \n    #        delta (tolerance)                                                                                         \n    # returns: One vector, with rows indicating:                                                                                                                                                                            \n    #       3D coordinates of the center of mass position (kpc)                                                             \n\n        # Center of Mass Position                                                                                      \n        ###########################                                                                                    \n\n        # Try a first guess at the COM position by calling COMdefine                                                   \n        XCOM, YCOM, ZCOM = self.COMdefine(self.x, self.y, self.z, self.m)\n        # compute the magnitude of the COM position vector.\n        # write your own code below\n        RCOM = np.sqrt(XCOM**2+YCOM**2+ZCOM**2)\n\n        # iterative process to determine the center of mass                                                            \n\n        # change reference frame to COM frame                                                                          \n        # compute the difference between particle coordinates                                                          \n        # and the first guess at COM position\n        # write your own code below\n        xNew = self.x - XCOM\n        yNew = self.y - YCOM\n        zNew = self.z - ZCOM\n        RNEW = np.sqrt(self.x**2+self.y**2+self.z**2) - RCOM\n\n        # find the max 3D distance of all particles from the guessed COM                                               \n        # will re-start at half that radius (reduced radius)                                                           \n        RMAX = max(RNEW)/2.0\n        \n        # pick an initial value for the change in COM position                                                      \n        # between the first guess above and the new one computed from half that volume\n        # it should be larger than the input tolerance (delta) initially\n        CHANGE = 1000.0\n\n        # start iterative process to determine center of mass position                                                 \n        # delta is the tolerance for the difference in the old COM and the new one.    \n        \n        while (CHANGE > delta):\n            # select all particles within the reduced radius (starting from original x,y,z, m)\n            # write your own code below (hints, use np.where)\n            index2 = np.where(np.sqrt(self.x**2+self.y**2+self.z**2) <= RMAX)\n            x2 = self.data['x'][index2]\n            y2 = self.data['y'][index2]\n            z2 = self.data['z'][index2]\n            m2 = self.data['m'][index2]\n\n            # Refined COM position:                                                                                    \n            # compute the center of mass position using                                                                \n            # the particles in the reduced radius\n            # write your own code below\n            XCOM2, YCOM2, ZCOM2 = self.COMdefine(x2, y2, z2, m2)\n            # compute the new 3D COM position\n            # write your own code below\n            RCOM2 = np.sqrt(XCOM2**2+YCOM2**2+ZCOM2**2)\n            print(RCOM2)\n            # determine the difference between the previous center of mass position                                    \n            # and the new one.                                                                                         \n            CHANGE = np.abs(RCOM - RCOM2)\n            # uncomment the following line if you wnat to check this                                                                                               \n            # print (\"CHANGE = \", CHANGE)                                                                                     \n\n            # Before loop continues, reset : RMAX, particle separations and COM                                        \n\n            # reduce the volume by a factor of 2 again                                                                 \n            RMAX = RMAX/2.0\n            # check this.                                                                                              \n            #print (\"maxR\", RMAX)                                                                                      \n\n            # Change the frame of reference to the newly computed COM.                                                 \n            # subtract the new COM\n            # write your own code below\n            xNew = x2 - XCOM2\n            yNew = y2 - YCOM2\n            zNew = z2 - ZCOM2\n            RNEW = np.sqrt(x2**2+y2**2+z2**2) - RCOM2\n\n            # set the center of mass positions to the refined values                                                   \n            XCOM = XCOM2\n            YCOM = YCOM2\n            ZCOM = ZCOM2\n            RCOM = RCOM2\n\n            # create a vector to store the COM position                                                                                                                                                       \n            COMP = [XCOM, YCOM, ZCOM]\n\n        # set the correct units using astropy and round all values\n        # and then return the COM positon vector\n        # write your own code below\n        \n        XCOM = XCOM*u.kpc\n        YCOM = YCOM*u.kpc\n        ZCOM = ZCOM*u.kpc\n        COMP = COMP*u.kpc\n    \n        return COMP\n\n    def COM_V(self, COMX,COMY,COMZ):\n        # Center of Mass velocity\n        # input: X, Y, Z positions of the COM\n        # returns 3D Vector of COM Velocities\n        \n        # the max distance from the center that we will use to determine the center of mass velocity                   \n        RVMAX = 15.0*u.kpc\n\n        # determine the position of all particles relative to the center of mass position\n        # write your own code below\n        xV = self.x*u.kpc - COMX\n        yV = self.y*u.kpc - COMY\n        zV = self.z*u.kpc - COMZ\n        RV = np.sqrt(xV**2+yV**2+zV**2)\n        \n        # determine the index for those particles within the max radius\n        # write your own code below\n        indexV = np.where(RV < RVMAX)\n\n        # determine the velocity and mass of those particles within the mas radius\n        # write your own code below\n        vxnew = self.data['vx'][indexV]\n        vynew = self.data['vy'][indexV]\n        vznew = self.data['vz'][indexV]\n        mnew = self.data['m'][indexV]  \n        \n        # compute the center of mass velocity using those particles\n        # write your own code below\n        VXCOM, VYCOM, VZCOM = self.COMdefine(vxnew, vynew, vznew, mnew)\n\n        # create a vector to store the COM velocity\n        # set the correct units usint astropy\n        # round all values\n        # write your own code below\n        COMV = [VXCOM, VYCOM, VZCOM]*u.km/u.s\n\n        # return the COM vector                                                                                        \n        return COMV"
    },
    "executionTime": "2020-02-12T04:10:40.029Z"
   },
   {
    "cell": {
     "executionCount": 79,
     "executionEventId": "148b8b57-cad6-4edc-9afc-aeec29885a33",
     "hasError": false,
     "id": "1ec1c88c-1fce-4f6e-b8c0-db3ed4c98b85",
     "outputs": [],
     "persistentId": "1925e6a4-0327-430a-b39d-4ebbd7201e33",
     "text": "# Create a Center of mass object for the MW, M31 and M33\n# below is an example of using the class for MW\nMWCOM = CenterOfMass(\"MW_000.txt\", 2)"
    },
    "executionTime": "2020-02-12T04:10:42.802Z"
   },
   {
    "cell": {
     "executionCount": 80,
     "executionEventId": "a6cc6a8e-1b9e-403f-88ca-4b64e51a8903",
     "hasError": false,
     "id": "41b3f20d-1811-4f91-b20f-b0580131a95f",
     "outputs": [
      {
       "name": "stdout",
       "output_type": "stream",
       "text": "5.459179483674049\n9.767371201211864\n5.790275086249669\n30.273858650858063\n94.53002046584993\n74.84155985669295\nnan\n"
      },
      {
       "name": "stderr",
       "output_type": "stream",
       "text": "/anaconda3/lib/python3.6/site-packages/ipykernel_launcher.py:35: RuntimeWarning: invalid value encountered in double_scalars\n/anaconda3/lib/python3.6/site-packages/ipykernel_launcher.py:37: RuntimeWarning: invalid value encountered in double_scalars\n/anaconda3/lib/python3.6/site-packages/ipykernel_launcher.py:39: RuntimeWarning: invalid value encountered in double_scalars\n"
      }
     ],
     "persistentId": "d9be1b5b-cc5b-4d53-bbf7-2deedeca2731",
     "text": "# below gives you an example of calling the class's functions\n# MW:   store the position and velocity COM\nMW_COMP = MWCOM.COM_P(0.1)\n"
    },
    "executionTime": "2020-02-12T04:10:42.863Z"
   },
   {
    "cell": {
     "executionCount": 81,
     "executionEventId": "9b4c0a62-536a-4494-91e7-601d19ab2fbb",
     "hasError": false,
     "id": "41b3f20d-1811-4f91-b20f-b0580131a95f",
     "outputs": [
      {
       "name": "stdout",
       "output_type": "stream",
       "text": "5.459179483674049\n9.767371201211864\n5.790275086249669\n30.273858650858063\n94.53002046584993\n74.84155985669295\nnan\n"
      },
      {
       "name": "stderr",
       "output_type": "stream",
       "text": "/anaconda3/lib/python3.6/site-packages/ipykernel_launcher.py:35: RuntimeWarning: invalid value encountered in double_scalars\n/anaconda3/lib/python3.6/site-packages/ipykernel_launcher.py:37: RuntimeWarning: invalid value encountered in double_scalars\n/anaconda3/lib/python3.6/site-packages/ipykernel_launcher.py:39: RuntimeWarning: invalid value encountered in double_scalars\n"
      }
     ],
     "persistentId": "d9be1b5b-cc5b-4d53-bbf7-2deedeca2731",
     "text": "# below gives you an example of calling the class's functions\n# MW:   store the position and velocity COM\nMW_COMP = MWCOM.COM_P(0.1)\n"
    },
    "executionTime": "2020-02-12T04:10:45.899Z"
   },
   {
    "cell": {
     "executionCount": 82,
     "executionEventId": "b9f838ed-bb42-489e-8224-614dcbb3d3a5",
     "hasError": false,
     "id": "15a7c55c-5293-4deb-b861-0c326e14d523",
     "outputs": [],
     "persistentId": "3f3a5cb8-663d-4322-a77a-bde24cf50cec",
     "text": "class CenterOfMass:\n# Class to define COM position and velocity properties of a given galaxy \n# and simulation snapshot\n    \n    \n    def __init__(self, filename, ptype):\n    # Initialize the instance of this Class with the following properties:\n    \n        # read data in the given file using Read\n        self.time, self.total, self.data = Read(filename)                                                                                             \n\n        #create an array to store indexes of particles of desired Ptype                                \n        self.index = np.where(self.data['type'] == ptype)\n\n        # store the mass, positions, velocities of only the particles of the given type\n        # the following only gives the example of storing the mass\n        # self.m = self.data['m'][self.index]\n        # write your own code to complete this for positions and velocities\n        self.m = self.data['m'][self.index]\n        self.x = self.data['x'][self.index]\n        self.y = self.data['y'][self.index]\n        self.z = self.data['z'][self.index]\n        self.vx = self.data['vx'][self.index]\n        self.vy = self.data['vy'][self.index]\n        self.vz = self.data['vz'][self.index]\n\n\n    def COMdefine(self,a,b,c,m):\n    # Function to compute the center of mass position or velocity generically\n    # input: array (a,b,c) of positions or velocities and the mass\n    # returns: 3 floats  (the center of mass coordinates)\n\n        # write your own code to compute the generic COM using Eq. 1 in the homework instructions\n        # xcomponent Center of mass\n        Acom = np.sum(a*m)/np.sum(m)\n        # ycomponent Center of mass\n        Bcom = np.sum(b*m)/np.sum(m)\n        # zcomponent Center of mass\n        Ccom = np.sum(c*m)/np.sum(m)\n        \n        return Acom, Bcom, Ccom\n    \n    \n    def COM_P(self, delta):\n    # Function to specifically return the center of mass position and velocity                                         \n    # input:                                                                                                           \n    #        particle type (1,2,3)                                                                                     \n    #        delta (tolerance)                                                                                         \n    # returns: One vector, with rows indicating:                                                                                                                                                                            \n    #       3D coordinates of the center of mass position (kpc)                                                             \n\n        # Center of Mass Position                                                                                      \n        ###########################                                                                                    \n\n        # Try a first guess at the COM position by calling COMdefine                                                   \n        XCOM, YCOM, ZCOM = self.COMdefine(self.x, self.y, self.z, self.m)\n        # compute the magnitude of the COM position vector.\n        # write your own code below\n        RCOM = np.sqrt(XCOM**2+YCOM**2+ZCOM**2)\n\n        # iterative process to determine the center of mass                                                            \n\n        # change reference frame to COM frame                                                                          \n        # compute the difference between particle coordinates                                                          \n        # and the first guess at COM position\n        # write your own code below\n        xNew = self.x - XCOM\n        yNew = self.y - YCOM\n        zNew = self.z - ZCOM\n        RNEW = np.sqrt(self.x**2+self.y**2+self.z**2) - RCOM\n\n        # find the max 3D distance of all particles from the guessed COM                                               \n        # will re-start at half that radius (reduced radius)                                                           \n        RMAX = max(RNEW)/2.0\n        \n        # pick an initial value for the change in COM position                                                      \n        # between the first guess above and the new one computed from half that volume\n        # it should be larger than the input tolerance (delta) initially\n        CHANGE = 1000.0\n\n        # start iterative process to determine center of mass position                                                 \n        # delta is the tolerance for the difference in the old COM and the new one.    \n        \n        while (CHANGE > delta):\n            # select all particles within the reduced radius (starting from original x,y,z, m)\n            # write your own code below (hints, use np.where)\n            index2 = np.where(np.sqrt(xNew**2+yNew**2+zNew**2) <= RMAX)\n            x2 = self.data['x'][index2]\n            y2 = self.data['y'][index2]\n            z2 = self.data['z'][index2]\n            m2 = self.data['m'][index2]\n\n            # Refined COM position:                                                                                    \n            # compute the center of mass position using                                                                \n            # the particles in the reduced radius\n            # write your own code below\n            XCOM2, YCOM2, ZCOM2 = self.COMdefine(x2, y2, z2, m2)\n            # compute the new 3D COM position\n            # write your own code below\n            RCOM2 = np.sqrt(XCOM2**2+YCOM2**2+ZCOM2**2)\n            print(RCOM2)\n            # determine the difference between the previous center of mass position                                    \n            # and the new one.                                                                                         \n            CHANGE = np.abs(RCOM - RCOM2)\n            # uncomment the following line if you wnat to check this                                                                                               \n            # print (\"CHANGE = \", CHANGE)                                                                                     \n\n            # Before loop continues, reset : RMAX, particle separations and COM                                        \n\n            # reduce the volume by a factor of 2 again                                                                 \n            RMAX = RMAX/2.0\n            # check this.                                                                                              \n            #print (\"maxR\", RMAX)                                                                                      \n\n            # Change the frame of reference to the newly computed COM.                                                 \n            # subtract the new COM\n            # write your own code below\n            xNew = x2 - XCOM2\n            yNew = y2 - YCOM2\n            zNew = z2 - ZCOM2\n            RNEW = np.sqrt(x2**2+y2**2+z2**2) - RCOM2\n\n            # set the center of mass positions to the refined values                                                   \n            XCOM = XCOM2\n            YCOM = YCOM2\n            ZCOM = ZCOM2\n            RCOM = RCOM2\n\n            # create a vector to store the COM position                                                                                                                                                       \n            COMP = [XCOM, YCOM, ZCOM]\n\n        # set the correct units using astropy and round all values\n        # and then return the COM positon vector\n        # write your own code below\n        \n        XCOM = XCOM*u.kpc\n        YCOM = YCOM*u.kpc\n        ZCOM = ZCOM*u.kpc\n        COMP = COMP*u.kpc\n    \n        return COMP\n\n    def COM_V(self, COMX,COMY,COMZ):\n        # Center of Mass velocity\n        # input: X, Y, Z positions of the COM\n        # returns 3D Vector of COM Velocities\n        \n        # the max distance from the center that we will use to determine the center of mass velocity                   \n        RVMAX = 15.0*u.kpc\n\n        # determine the position of all particles relative to the center of mass position\n        # write your own code below\n        xV = self.x*u.kpc - COMX\n        yV = self.y*u.kpc - COMY\n        zV = self.z*u.kpc - COMZ\n        RV = np.sqrt(xV**2+yV**2+zV**2)\n        \n        # determine the index for those particles within the max radius\n        # write your own code below\n        indexV = np.where(RV < RVMAX)\n\n        # determine the velocity and mass of those particles within the mas radius\n        # write your own code below\n        vxnew = self.data['vx'][indexV]\n        vynew = self.data['vy'][indexV]\n        vznew = self.data['vz'][indexV]\n        mnew = self.data['m'][indexV]  \n        \n        # compute the center of mass velocity using those particles\n        # write your own code below\n        VXCOM, VYCOM, VZCOM = self.COMdefine(vxnew, vynew, vznew, mnew)\n\n        # create a vector to store the COM velocity\n        # set the correct units usint astropy\n        # round all values\n        # write your own code below\n        COMV = [VXCOM, VYCOM, VZCOM]*u.km/u.s\n\n        # return the COM vector                                                                                        \n        return COMV"
    },
    "executionTime": "2020-02-12T04:33:23.997Z"
   },
   {
    "cell": {
     "executionCount": 83,
     "executionEventId": "f5b91b2a-cd15-4b80-a5d7-64d3167fea35",
     "hasError": false,
     "id": "1ec1c88c-1fce-4f6e-b8c0-db3ed4c98b85",
     "outputs": [],
     "persistentId": "1925e6a4-0327-430a-b39d-4ebbd7201e33",
     "text": "# Create a Center of mass object for the MW, M31 and M33\n# below is an example of using the class for MW\nMWCOM = CenterOfMass(\"MW_000.txt\", 2)"
    },
    "executionTime": "2020-02-12T04:33:26.723Z"
   },
   {
    "cell": {
     "executionCount": 84,
     "executionEventId": "5d3002f2-51a6-4639-94bc-afeb93a0b0f9",
     "hasError": false,
     "id": "41b3f20d-1811-4f91-b20f-b0580131a95f",
     "outputs": [
      {
       "name": "stdout",
       "output_type": "stream",
       "text": "5.451068356299954\n20.758180090113044\n802.8431357154071\nnan\n"
      },
      {
       "name": "stderr",
       "output_type": "stream",
       "text": "/anaconda3/lib/python3.6/site-packages/ipykernel_launcher.py:35: RuntimeWarning: invalid value encountered in double_scalars\n/anaconda3/lib/python3.6/site-packages/ipykernel_launcher.py:37: RuntimeWarning: invalid value encountered in double_scalars\n/anaconda3/lib/python3.6/site-packages/ipykernel_launcher.py:39: RuntimeWarning: invalid value encountered in double_scalars\n"
      }
     ],
     "persistentId": "d9be1b5b-cc5b-4d53-bbf7-2deedeca2731",
     "text": "# below gives you an example of calling the class's functions\n# MW:   store the position and velocity COM\nMW_COMP = MWCOM.COM_P(0.1)\n"
    },
    "executionTime": "2020-02-12T04:33:27.937Z"
   },
   {
    "cell": {
     "executionCount": 85,
     "executionEventId": "467d326a-e45f-4519-a2f3-1ae474fa9a82",
     "hasError": false,
     "id": "15a7c55c-5293-4deb-b861-0c326e14d523",
     "outputs": [],
     "persistentId": "3f3a5cb8-663d-4322-a77a-bde24cf50cec",
     "text": "class CenterOfMass:\n# Class to define COM position and velocity properties of a given galaxy \n# and simulation snapshot\n    \n    \n    def __init__(self, filename, ptype):\n    # Initialize the instance of this Class with the following properties:\n    \n        # read data in the given file using Read\n        self.time, self.total, self.data = Read(filename)                                                                                             \n\n        #create an array to store indexes of particles of desired Ptype                                \n        self.index = np.where(self.data['type'] == ptype)\n\n        # store the mass, positions, velocities of only the particles of the given type\n        # the following only gives the example of storing the mass\n        # self.m = self.data['m'][self.index]\n        # write your own code to complete this for positions and velocities\n        self.m = self.data['m'][self.index]\n        self.x = self.data['x'][self.index]\n        self.y = self.data['y'][self.index]\n        self.z = self.data['z'][self.index]\n        self.vx = self.data['vx'][self.index]\n        self.vy = self.data['vy'][self.index]\n        self.vz = self.data['vz'][self.index]\n\n\n    def COMdefine(self,a,b,c,m):\n    # Function to compute the center of mass position or velocity generically\n    # input: array (a,b,c) of positions or velocities and the mass\n    # returns: 3 floats  (the center of mass coordinates)\n\n        # write your own code to compute the generic COM using Eq. 1 in the homework instructions\n        # xcomponent Center of mass\n        Acom = np.sum(a*m)/np.sum(m)\n        # ycomponent Center of mass\n        Bcom = np.sum(b*m)/np.sum(m)\n        # zcomponent Center of mass\n        Ccom = np.sum(c*m)/np.sum(m)\n        \n        return Acom, Bcom, Ccom\n    \n    \n    def COM_P(self, delta):\n    # Function to specifically return the center of mass position and velocity                                         \n    # input:                                                                                                           \n    #        particle type (1,2,3)                                                                                     \n    #        delta (tolerance)                                                                                         \n    # returns: One vector, with rows indicating:                                                                                                                                                                            \n    #       3D coordinates of the center of mass position (kpc)                                                             \n\n        # Center of Mass Position                                                                                      \n        ###########################                                                                                    \n\n        # Try a first guess at the COM position by calling COMdefine                                                   \n        XCOM, YCOM, ZCOM = self.COMdefine(self.x, self.y, self.z, self.m)\n        # compute the magnitude of the COM position vector.\n        # write your own code below\n        RCOM = np.sqrt(XCOM**2+YCOM**2+ZCOM**2)\n\n        # iterative process to determine the center of mass                                                            \n\n        # change reference frame to COM frame                                                                          \n        # compute the difference between particle coordinates                                                          \n        # and the first guess at COM position\n        # write your own code below\n        xNew = self.x - XCOM\n        yNew = self.y - YCOM\n        zNew = self.z - ZCOM\n        RNEW = np.sqrt(self.x**2+self.y**2+self.z**2) - RCOM\n\n        # find the max 3D distance of all particles from the guessed COM                                               \n        # will re-start at half that radius (reduced radius)                                                           \n        RMAX = max(RNEW)/2.0\n        \n        # pick an initial value for the change in COM position                                                      \n        # between the first guess above and the new one computed from half that volume\n        # it should be larger than the input tolerance (delta) initially\n        CHANGE = 1000.0\n\n        # start iterative process to determine center of mass position                                                 \n        # delta is the tolerance for the difference in the old COM and the new one.    \n        \n        while (CHANGE > delta):\n            # select all particles within the reduced radius (starting from original x,y,z, m)\n            # write your own code below (hints, use np.where)\n            index2 = np.where(np.sqrt(xNew**2+yNew**2+zNew**2) <= RMAX)\n            x2 = self.data['x'][index2]\n            y2 = self.data['y'][index2]\n            z2 = self.data['z'][index2]\n            m2 = self.data['m'][index2]\n\n            # Refined COM position:                                                                                    \n            # compute the center of mass position using                                                                \n            # the particles in the reduced radius\n            # write your own code below\n            XCOM2, YCOM2, ZCOM2 = self.COMdefine(x2, y2, z2, m2)\n            # compute the new 3D COM position\n            # write your own code below\n            RCOM2 = np.sqrt(XCOM2**2+YCOM2**2+ZCOM2**2)\n            # determine the difference between the previous center of mass position                                    \n            # and the new one.                                                                                         \n            CHANGE = np.abs(RCOM - RCOM2)\n            print(CHANGE)\n            # uncomment the following line if you wnat to check this                                                                                               \n            # print (\"CHANGE = \", CHANGE)                                                                                     \n\n            # Before loop continues, reset : RMAX, particle separations and COM                                        \n\n            # reduce the volume by a factor of 2 again                                                                 \n            RMAX = RMAX/2.0\n            # check this.                                                                                              \n            #print (\"maxR\", RMAX)                                                                                      \n\n            # Change the frame of reference to the newly computed COM.                                                 \n            # subtract the new COM\n            # write your own code below\n            xNew = x2 - XCOM2\n            yNew = y2 - YCOM2\n            zNew = z2 - ZCOM2\n            RNEW = np.sqrt(x2**2+y2**2+z2**2) - RCOM2\n\n            # set the center of mass positions to the refined values                                                   \n            XCOM = XCOM2\n            YCOM = YCOM2\n            ZCOM = ZCOM2\n            RCOM = RCOM2\n\n            # create a vector to store the COM position                                                                                                                                                       \n            COMP = [XCOM, YCOM, ZCOM]\n\n        # set the correct units using astropy and round all values\n        # and then return the COM positon vector\n        # write your own code below\n        \n        XCOM = XCOM*u.kpc\n        YCOM = YCOM*u.kpc\n        ZCOM = ZCOM*u.kpc\n        COMP = COMP*u.kpc\n    \n        return COMP\n\n    def COM_V(self, COMX,COMY,COMZ):\n        # Center of Mass velocity\n        # input: X, Y, Z positions of the COM\n        # returns 3D Vector of COM Velocities\n        \n        # the max distance from the center that we will use to determine the center of mass velocity                   \n        RVMAX = 15.0*u.kpc\n\n        # determine the position of all particles relative to the center of mass position\n        # write your own code below\n        xV = self.x*u.kpc - COMX\n        yV = self.y*u.kpc - COMY\n        zV = self.z*u.kpc - COMZ\n        RV = np.sqrt(xV**2+yV**2+zV**2)\n        \n        # determine the index for those particles within the max radius\n        # write your own code below\n        indexV = np.where(RV < RVMAX)\n\n        # determine the velocity and mass of those particles within the mas radius\n        # write your own code below\n        vxnew = self.data['vx'][indexV]\n        vynew = self.data['vy'][indexV]\n        vznew = self.data['vz'][indexV]\n        mnew = self.data['m'][indexV]  \n        \n        # compute the center of mass velocity using those particles\n        # write your own code below\n        VXCOM, VYCOM, VZCOM = self.COMdefine(vxnew, vynew, vznew, mnew)\n\n        # create a vector to store the COM velocity\n        # set the correct units usint astropy\n        # round all values\n        # write your own code below\n        COMV = [VXCOM, VYCOM, VZCOM]*u.km/u.s\n\n        # return the COM vector                                                                                        \n        return COMV"
    },
    "executionTime": "2020-02-12T04:34:23.968Z"
   },
   {
    "cell": {
     "executionCount": 86,
     "executionEventId": "9cf6a953-3a2d-4584-bd11-105b9e82e3fa",
     "hasError": false,
     "id": "1ec1c88c-1fce-4f6e-b8c0-db3ed4c98b85",
     "outputs": [],
     "persistentId": "1925e6a4-0327-430a-b39d-4ebbd7201e33",
     "text": "# Create a Center of mass object for the MW, M31 and M33\n# below is an example of using the class for MW\nMWCOM = CenterOfMass(\"MW_000.txt\", 2)"
    },
    "executionTime": "2020-02-12T04:34:27.727Z"
   },
   {
    "cell": {
     "executionCount": 87,
     "executionEventId": "45213402-cbcc-40ed-ae22-9884c49eb400",
     "hasError": false,
     "id": "41b3f20d-1811-4f91-b20f-b0580131a95f",
     "outputs": [
      {
       "name": "stdout",
       "output_type": "stream",
       "text": "2.5008753285678837\n15.30711173381309\n782.0849556252941\nnan\n"
      },
      {
       "name": "stderr",
       "output_type": "stream",
       "text": "/anaconda3/lib/python3.6/site-packages/ipykernel_launcher.py:35: RuntimeWarning: invalid value encountered in double_scalars\n/anaconda3/lib/python3.6/site-packages/ipykernel_launcher.py:37: RuntimeWarning: invalid value encountered in double_scalars\n/anaconda3/lib/python3.6/site-packages/ipykernel_launcher.py:39: RuntimeWarning: invalid value encountered in double_scalars\n"
      }
     ],
     "persistentId": "d9be1b5b-cc5b-4d53-bbf7-2deedeca2731",
     "text": "# below gives you an example of calling the class's functions\n# MW:   store the position and velocity COM\nMW_COMP = MWCOM.COM_P(0.1)\n"
    },
    "executionTime": "2020-02-12T04:34:28.917Z"
   },
   {
    "cell": {
     "executionCount": 88,
     "executionEventId": "92220166-9e50-4b9a-99a4-02a08b9f433a",
     "hasError": false,
     "id": "15a7c55c-5293-4deb-b861-0c326e14d523",
     "outputs": [],
     "persistentId": "3f3a5cb8-663d-4322-a77a-bde24cf50cec",
     "text": "class CenterOfMass:\n# Class to define COM position and velocity properties of a given galaxy \n# and simulation snapshot\n    \n    \n    def __init__(self, filename, ptype):\n    # Initialize the instance of this Class with the following properties:\n    \n        # read data in the given file using Read\n        self.time, self.total, self.data = Read(filename)                                                                                             \n\n        #create an array to store indexes of particles of desired Ptype                                \n        self.index = np.where(self.data['type'] == ptype)\n\n        # store the mass, positions, velocities of only the particles of the given type\n        # the following only gives the example of storing the mass\n        # self.m = self.data['m'][self.index]\n        # write your own code to complete this for positions and velocities\n        self.m = self.data['m'][self.index]\n        self.x = self.data['x'][self.index]\n        self.y = self.data['y'][self.index]\n        self.z = self.data['z'][self.index]\n        self.vx = self.data['vx'][self.index]\n        self.vy = self.data['vy'][self.index]\n        self.vz = self.data['vz'][self.index]\n\n\n    def COMdefine(self,a,b,c,m):\n    # Function to compute the center of mass position or velocity generically\n    # input: array (a,b,c) of positions or velocities and the mass\n    # returns: 3 floats  (the center of mass coordinates)\n\n        # write your own code to compute the generic COM using Eq. 1 in the homework instructions\n        # xcomponent Center of mass\n        Acom = np.sum(a*m)/np.sum(m)\n        # ycomponent Center of mass\n        Bcom = np.sum(b*m)/np.sum(m)\n        # zcomponent Center of mass\n        Ccom = np.sum(c*m)/np.sum(m)\n        \n        return Acom, Bcom, Ccom\n    \n    \n    def COM_P(self, delta):\n    # Function to specifically return the center of mass position and velocity                                         \n    # input:                                                                                                           \n    #        particle type (1,2,3)                                                                                     \n    #        delta (tolerance)                                                                                         \n    # returns: One vector, with rows indicating:                                                                                                                                                                            \n    #       3D coordinates of the center of mass position (kpc)                                                             \n\n        # Center of Mass Position                                                                                      \n        ###########################                                                                                    \n\n        # Try a first guess at the COM position by calling COMdefine                                                   \n        XCOM, YCOM, ZCOM = self.COMdefine(self.x, self.y, self.z, self.m)\n        # compute the magnitude of the COM position vector.\n        # write your own code below\n        RCOM = np.sqrt(XCOM**2+YCOM**2+ZCOM**2)\n\n        # iterative process to determine the center of mass                                                            \n\n        # change reference frame to COM frame                                                                          \n        # compute the difference between particle coordinates                                                          \n        # and the first guess at COM position\n        # write your own code below\n        xNew = self.x - XCOM\n        yNew = self.y - YCOM\n        zNew = self.z - ZCOM\n        RNEW = np.sqrt(self.x**2+self.y**2+self.z**2) - RCOM\n\n        # find the max 3D distance of all particles from the guessed COM                                               \n        # will re-start at half that radius (reduced radius)                                                           \n        RMAX = max(RNEW)/2.0\n        \n        # pick an initial value for the change in COM position                                                      \n        # between the first guess above and the new one computed from half that volume\n        # it should be larger than the input tolerance (delta) initially\n        CHANGE = 1000.0\n\n        # start iterative process to determine center of mass position                                                 \n        # delta is the tolerance for the difference in the old COM and the new one.    \n        \n        while (CHANGE > delta):\n            # select all particles within the reduced radius (starting from original x,y,z, m)\n            # write your own code below (hints, use np.where)\n            index2 = np.where(np.sqrt(xNew**2+yNew**2+zNew**2) <= RMAX)\n            x2 = self.data['x'][index2]\n            y2 = self.data['y'][index2]\n            z2 = self.data['z'][index2]\n            m2 = self.data['m'][index2]\n\n            # Refined COM position:                                                                                    \n            # compute the center of mass position using                                                                \n            # the particles in the reduced radius\n            # write your own code below\n            XCOM2, YCOM2, ZCOM2 = self.COMdefine(x2, y2, z2, m2)\n            # compute the new 3D COM position\n            # write your own code below\n            RCOM2 = np.sqrt(XCOM2**2+YCOM2**2+ZCOM2**2)\n            # determine the difference between the previous center of mass position                                    \n            # and the new one.                                                                                         \n            CHANGE = np.abs(RCOM - RCOM2)\n            print(CHANGE)\n            # uncomment the following line if you wnat to check this                                                                                               \n            # print (\"CHANGE = \", CHANGE)                                                                                     \n\n            # Before loop continues, reset : RMAX, particle separations and COM                                        \n\n            # reduce the volume by a factor of 2 again                                                                 \n            RMAX = RMAX/2.0\n            # check this.                                                                                              \n            #print (\"maxR\", RMAX)                                                                                      \n\n            # Change the frame of reference to the newly computed COM.                                                 \n            # subtract the new COM\n            # write your own code below\n            xNew = x2 - XCOM2\n            yNew = y2 - YCOM2\n            zNew = z2 - ZCOM2\n            RNEW = np.sqrt(x2**2+y2**2+z2**2) - RCOM2\n\n            # set the center of mass positions to the refined values                                                   \n            XCOM = XCOM2\n            YCOM = YCOM2\n            ZCOM = ZCOM2\n            RCOM = RCOM2\n\n            # create a vector to store the COM position                                                                                                                                                       \n            COMP = [XCOM, YCOM, ZCOM]\n\n        # set the correct units using astropy and round all values\n        # and then return the COM positon vector\n        # write your own code below\n        \n        XCOM = XCOM*u.kpc\n        YCOM = YCOM*u.kpc\n        ZCOM = ZCOM*u.kpc\n        COMP = COMP*u.kpc\n    \n        return COMP\n\n    def COM_V(self, COMX,COMY,COMZ):\n        # Center of Mass velocity\n        # input: X, Y, Z positions of the COM\n        # returns 3D Vector of COM Velocities\n        \n        # the max distance from the center that we will use to determine the center of mass velocity                   \n        RVMAX = 15.0*u.kpc\n\n        # determine the position of all particles relative to the center of mass position\n        # write your own code below\n        xV = self.x*u.kpc - COMX\n        yV = self.y*u.kpc - COMY\n        zV = self.z*u.kpc - COMZ\n        RV = np.sqrt(xV**2+yV**2+zV**2)\n        \n        # determine the index for those particles within the max radius\n        # write your own code below\n        indexV = np.where(RV < RVMAX)\n\n        # determine the velocity and mass of those particles within the mas radius\n        # write your own code below\n        vxnew = self.data['vx'][indexV]\n        vynew = self.data['vy'][indexV]\n        vznew = self.data['vz'][indexV]\n        mnew = self.data['m'][indexV]  \n        \n        # compute the center of mass velocity using those particles\n        # write your own code below\n        VXCOM, VYCOM, VZCOM = self.COMdefine(vxnew, vynew, vznew, mnew)\n\n        # create a vector to store the COM velocity\n        # set the correct units usint astropy\n        # round all values\n        # write your own code below\n        COMV = [VXCOM, VYCOM, VZCOM]*u.km/u.s\n\n        # return the COM vector                                                                                        \n        return COMV"
    },
    "executionTime": "2020-02-12T04:35:08.074Z"
   },
   {
    "cell": {
     "executionCount": 89,
     "executionEventId": "e1257774-6017-41af-9f82-28c0aa9a18a4",
     "hasError": false,
     "id": "1ec1c88c-1fce-4f6e-b8c0-db3ed4c98b85",
     "outputs": [],
     "persistentId": "1925e6a4-0327-430a-b39d-4ebbd7201e33",
     "text": "# Create a Center of mass object for the MW, M31 and M33\n# below is an example of using the class for MW\nMWCOM = CenterOfMass(\"MW_000.txt\", 2)"
    },
    "executionTime": "2020-02-12T04:35:10.689Z"
   },
   {
    "cell": {
     "executionCount": 90,
     "executionEventId": "4db44258-81a5-470b-b769-57c0d437f9f1",
     "hasError": false,
     "id": "41b3f20d-1811-4f91-b20f-b0580131a95f",
     "outputs": [
      {
       "name": "stdout",
       "output_type": "stream",
       "text": "2.5008753285678837\n15.30711173381309\n782.0849556252941\nnan\n"
      },
      {
       "name": "stderr",
       "output_type": "stream",
       "text": "/anaconda3/lib/python3.6/site-packages/ipykernel_launcher.py:35: RuntimeWarning: invalid value encountered in double_scalars\n/anaconda3/lib/python3.6/site-packages/ipykernel_launcher.py:37: RuntimeWarning: invalid value encountered in double_scalars\n/anaconda3/lib/python3.6/site-packages/ipykernel_launcher.py:39: RuntimeWarning: invalid value encountered in double_scalars\n"
      }
     ],
     "persistentId": "d9be1b5b-cc5b-4d53-bbf7-2deedeca2731",
     "text": "# below gives you an example of calling the class's functions\n# MW:   store the position and velocity COM\nMW_COMP = MWCOM.COM_P(0.1)\n"
    },
    "executionTime": "2020-02-12T04:35:11.431Z"
   },
   {
    "cell": {
     "executionCount": 91,
     "executionEventId": "da82b9ac-09b5-482a-88ad-7b3a0c596547",
     "hasError": false,
     "id": "15a7c55c-5293-4deb-b861-0c326e14d523",
     "outputs": [],
     "persistentId": "3f3a5cb8-663d-4322-a77a-bde24cf50cec",
     "text": "class CenterOfMass:\n# Class to define COM position and velocity properties of a given galaxy \n# and simulation snapshot\n    \n    \n    def __init__(self, filename, ptype):\n    # Initialize the instance of this Class with the following properties:\n    \n        # read data in the given file using Read\n        self.time, self.total, self.data = Read(filename)                                                                                             \n\n        #create an array to store indexes of particles of desired Ptype                                \n        self.index = np.where(self.data['type'] == ptype)\n\n        # store the mass, positions, velocities of only the particles of the given type\n        # the following only gives the example of storing the mass\n        # self.m = self.data['m'][self.index]\n        # write your own code to complete this for positions and velocities\n        self.m = self.data['m'][self.index]\n        self.x = self.data['x'][self.index]\n        self.y = self.data['y'][self.index]\n        self.z = self.data['z'][self.index]\n        self.vx = self.data['vx'][self.index]\n        self.vy = self.data['vy'][self.index]\n        self.vz = self.data['vz'][self.index]\n\n\n    def COMdefine(self,a,b,c,m):\n    # Function to compute the center of mass position or velocity generically\n    # input: array (a,b,c) of positions or velocities and the mass\n    # returns: 3 floats  (the center of mass coordinates)\n\n        # write your own code to compute the generic COM using Eq. 1 in the homework instructions\n        # xcomponent Center of mass\n        Acom = np.sum(a*m)/np.sum(m)\n        # ycomponent Center of mass\n        Bcom = np.sum(b*m)/np.sum(m)\n        # zcomponent Center of mass\n        Ccom = np.sum(c*m)/np.sum(m)\n        \n        return Acom, Bcom, Ccom\n    \n    \n    def COM_P(self, delta):\n    # Function to specifically return the center of mass position and velocity                                         \n    # input:                                                                                                           \n    #        particle type (1,2,3)                                                                                     \n    #        delta (tolerance)                                                                                         \n    # returns: One vector, with rows indicating:                                                                                                                                                                            \n    #       3D coordinates of the center of mass position (kpc)                                                             \n\n        # Center of Mass Position                                                                                      \n        ###########################                                                                                    \n\n        # Try a first guess at the COM position by calling COMdefine                                                   \n        XCOM, YCOM, ZCOM = self.COMdefine(self.x, self.y, self.z, self.m)\n        # compute the magnitude of the COM position vector.\n        # write your own code below\n        RCOM = np.sqrt(XCOM**2+YCOM**2+ZCOM**2)\n\n        # iterative process to determine the center of mass                                                            \n\n        # change reference frame to COM frame                                                                          \n        # compute the difference between particle coordinates                                                          \n        # and the first guess at COM position\n        # write your own code below\n        xNew = self.x - XCOM\n        yNew = self.y - YCOM\n        zNew = self.z - ZCOM\n        RNEW = np.sqrt(self.x**2+self.y**2+self.z**2) - RCOM\n\n        # find the max 3D distance of all particles from the guessed COM                                               \n        # will re-start at half that radius (reduced radius)                                                           \n        RMAX = max(RNEW)/2.0\n        \n        # pick an initial value for the change in COM position                                                      \n        # between the first guess above and the new one computed from half that volume\n        # it should be larger than the input tolerance (delta) initially\n        CHANGE = 1000.0\n\n        # start iterative process to determine center of mass position                                                 \n        # delta is the tolerance for the difference in the old COM and the new one.    \n        \n        while (CHANGE > delta):\n            # select all particles within the reduced radius (starting from original x,y,z, m)\n            # write your own code below (hints, use np.where)\n            index2 = np.where(np.sqrt(xNew**2+yNew**2+zNew**2) <= RMAX)\n            print(len(index2))\n            x2 = xNew[index2]\n            y2 = yNew[index2]\n            z2 = zNew[index2]\n\n            # Refined COM position:                                                                                    \n            # compute the center of mass position using                                                                \n            # the particles in the reduced radius\n            # write your own code below\n            XCOM2, YCOM2, ZCOM2 = self.COMdefine(x2, y2, z2, m2)\n            # compute the new 3D COM position\n            # write your own code below\n            RCOM2 = np.sqrt(XCOM2**2+YCOM2**2+ZCOM2**2)\n            # determine the difference between the previous center of mass position                                    \n            # and the new one.                                                                                         \n            CHANGE = np.abs(RCOM - RCOM2)\n            print (\"CHANGE = \", CHANGE)\n            # uncomment the following line if you wnat to check this                                                                                               \n            # print (\"CHANGE = \", CHANGE)                                                                                     \n\n            # Before loop continues, reset : RMAX, particle separations and COM                                        \n\n            # reduce the volume by a factor of 2 again                                                                 \n            RMAX = RMAX/2.0\n            # check this.                                                                                              \n            #print (\"maxR\", RMAX)                                                                                      \n\n            # Change the frame of reference to the newly computed COM.                                                 \n            # subtract the new COM\n            # write your own code below\n            xNew = x2 - XCOM2\n            yNew = y2 - YCOM2\n            zNew = z2 - ZCOM2\n            RNEW = np.sqrt(x2**2+y2**2+z2**2) - RCOM2\n\n            # set the center of mass positions to the refined values                                                   \n            XCOM = XCOM2\n            YCOM = YCOM2\n            ZCOM = ZCOM2\n            RCOM = RCOM2\n\n            # create a vector to store the COM position                                                                                                                                                       \n            COMP = [XCOM, YCOM, ZCOM]\n\n        # set the correct units using astropy and round all values\n        # and then return the COM positon vector\n        # write your own code below\n        \n        XCOM = XCOM*u.kpc\n        YCOM = YCOM*u.kpc\n        ZCOM = ZCOM*u.kpc\n        COMP = COMP*u.kpc\n    \n        return COMP\n\n    def COM_V(self, COMX,COMY,COMZ):\n        # Center of Mass velocity\n        # input: X, Y, Z positions of the COM\n        # returns 3D Vector of COM Velocities\n        \n        # the max distance from the center that we will use to determine the center of mass velocity                   \n        RVMAX = 15.0*u.kpc\n\n        # determine the position of all particles relative to the center of mass position\n        # write your own code below\n        xV = self.x*u.kpc - COMX\n        yV = self.y*u.kpc - COMY\n        zV = self.z*u.kpc - COMZ\n        RV = np.sqrt(xV**2+yV**2+zV**2)\n        \n        # determine the index for those particles within the max radius\n        # write your own code below\n        indexV = np.where(RV < RVMAX)\n\n        # determine the velocity and mass of those particles within the mas radius\n        # write your own code below\n        vxnew = self.data['vx'][indexV]\n        vynew = self.data['vy'][indexV]\n        vznew = self.data['vz'][indexV]\n        mnew = self.data['m'][indexV]  \n        \n        # compute the center of mass velocity using those particles\n        # write your own code below\n        VXCOM, VYCOM, VZCOM = self.COMdefine(vxnew, vynew, vznew, mnew)\n\n        # create a vector to store the COM velocity\n        # set the correct units usint astropy\n        # round all values\n        # write your own code below\n        COMV = [VXCOM, VYCOM, VZCOM]*u.km/u.s\n\n        # return the COM vector                                                                                        \n        return COMV"
    },
    "executionTime": "2020-02-12T04:38:30.375Z"
   },
   {
    "cell": {
     "executionCount": 92,
     "executionEventId": "b92f97d3-09bc-4575-abff-4a70e340654a",
     "hasError": false,
     "id": "1ec1c88c-1fce-4f6e-b8c0-db3ed4c98b85",
     "outputs": [],
     "persistentId": "1925e6a4-0327-430a-b39d-4ebbd7201e33",
     "text": "# Create a Center of mass object for the MW, M31 and M33\n# below is an example of using the class for MW\nMWCOM = CenterOfMass(\"MW_000.txt\", 2)"
    },
    "executionTime": "2020-02-12T04:38:33.124Z"
   },
   {
    "cell": {
     "executionCount": 93,
     "executionEventId": "4c4d61d8-e097-4680-a5b1-af25f2c12008",
     "hasError": true,
     "id": "41b3f20d-1811-4f91-b20f-b0580131a95f",
     "outputs": [
      {
       "name": "stdout",
       "output_type": "stream",
       "text": "1\n"
      },
      {
       "ename": "NameError",
       "evalue": "name 'm2' is not defined",
       "output_type": "error",
       "traceback": [
        "\u001b[0;31m---------------------------------------------------------------------------\u001b[0m",
        "\u001b[0;31mNameError\u001b[0m                                 Traceback (most recent call last)",
        "\u001b[0;32m<ipython-input-93-ecf83d12e9b9>\u001b[0m in \u001b[0;36m<module>\u001b[0;34m\u001b[0m\n\u001b[1;32m      1\u001b[0m \u001b[0;31m# below gives you an example of calling the class's functions\u001b[0m\u001b[0;34m\u001b[0m\u001b[0;34m\u001b[0m\u001b[0;34m\u001b[0m\u001b[0m\n\u001b[1;32m      2\u001b[0m \u001b[0;31m# MW:   store the position and velocity COM\u001b[0m\u001b[0;34m\u001b[0m\u001b[0;34m\u001b[0m\u001b[0;34m\u001b[0m\u001b[0m\n\u001b[0;32m----> 3\u001b[0;31m \u001b[0mMW_COMP\u001b[0m \u001b[0;34m=\u001b[0m \u001b[0mMWCOM\u001b[0m\u001b[0;34m.\u001b[0m\u001b[0mCOM_P\u001b[0m\u001b[0;34m(\u001b[0m\u001b[0;36m0.1\u001b[0m\u001b[0;34m)\u001b[0m\u001b[0;34m\u001b[0m\u001b[0;34m\u001b[0m\u001b[0m\n\u001b[0m",
        "\u001b[0;32m<ipython-input-91-2ecff304ef44>\u001b[0m in \u001b[0;36mCOM_P\u001b[0;34m(self, delta)\u001b[0m\n\u001b[1;32m     95\u001b[0m             \u001b[0;31m# the particles in the reduced radius\u001b[0m\u001b[0;34m\u001b[0m\u001b[0;34m\u001b[0m\u001b[0;34m\u001b[0m\u001b[0m\n\u001b[1;32m     96\u001b[0m             \u001b[0;31m# write your own code below\u001b[0m\u001b[0;34m\u001b[0m\u001b[0;34m\u001b[0m\u001b[0;34m\u001b[0m\u001b[0m\n\u001b[0;32m---> 97\u001b[0;31m             \u001b[0mXCOM2\u001b[0m\u001b[0;34m,\u001b[0m \u001b[0mYCOM2\u001b[0m\u001b[0;34m,\u001b[0m \u001b[0mZCOM2\u001b[0m \u001b[0;34m=\u001b[0m \u001b[0mself\u001b[0m\u001b[0;34m.\u001b[0m\u001b[0mCOMdefine\u001b[0m\u001b[0;34m(\u001b[0m\u001b[0mx2\u001b[0m\u001b[0;34m,\u001b[0m \u001b[0my2\u001b[0m\u001b[0;34m,\u001b[0m \u001b[0mz2\u001b[0m\u001b[0;34m,\u001b[0m \u001b[0mm2\u001b[0m\u001b[0;34m)\u001b[0m\u001b[0;34m\u001b[0m\u001b[0;34m\u001b[0m\u001b[0m\n\u001b[0m\u001b[1;32m     98\u001b[0m             \u001b[0;31m# compute the new 3D COM position\u001b[0m\u001b[0;34m\u001b[0m\u001b[0;34m\u001b[0m\u001b[0;34m\u001b[0m\u001b[0m\n\u001b[1;32m     99\u001b[0m             \u001b[0;31m# write your own code below\u001b[0m\u001b[0;34m\u001b[0m\u001b[0;34m\u001b[0m\u001b[0;34m\u001b[0m\u001b[0m\n",
        "\u001b[0;31mNameError\u001b[0m: name 'm2' is not defined"
       ]
      }
     ],
     "persistentId": "d9be1b5b-cc5b-4d53-bbf7-2deedeca2731",
     "text": "# below gives you an example of calling the class's functions\n# MW:   store the position and velocity COM\nMW_COMP = MWCOM.COM_P(0.1)\n"
    },
    "executionTime": "2020-02-12T04:38:34.117Z"
   },
   {
    "cell": {
     "executionCount": 94,
     "executionEventId": "bf619869-a92e-465b-b388-a7c200332b56",
     "hasError": false,
     "id": "15a7c55c-5293-4deb-b861-0c326e14d523",
     "outputs": [],
     "persistentId": "3f3a5cb8-663d-4322-a77a-bde24cf50cec",
     "text": "class CenterOfMass:\n# Class to define COM position and velocity properties of a given galaxy \n# and simulation snapshot\n    \n    \n    def __init__(self, filename, ptype):\n    # Initialize the instance of this Class with the following properties:\n    \n        # read data in the given file using Read\n        self.time, self.total, self.data = Read(filename)                                                                                             \n\n        #create an array to store indexes of particles of desired Ptype                                \n        self.index = np.where(self.data['type'] == ptype)\n\n        # store the mass, positions, velocities of only the particles of the given type\n        # the following only gives the example of storing the mass\n        # self.m = self.data['m'][self.index]\n        # write your own code to complete this for positions and velocities\n        self.m = self.data['m'][self.index]\n        self.x = self.data['x'][self.index]\n        self.y = self.data['y'][self.index]\n        self.z = self.data['z'][self.index]\n        self.vx = self.data['vx'][self.index]\n        self.vy = self.data['vy'][self.index]\n        self.vz = self.data['vz'][self.index]\n\n\n    def COMdefine(self,a,b,c,m):\n    # Function to compute the center of mass position or velocity generically\n    # input: array (a,b,c) of positions or velocities and the mass\n    # returns: 3 floats  (the center of mass coordinates)\n\n        # write your own code to compute the generic COM using Eq. 1 in the homework instructions\n        # xcomponent Center of mass\n        Acom = np.sum(a*m)/np.sum(m)\n        # ycomponent Center of mass\n        Bcom = np.sum(b*m)/np.sum(m)\n        # zcomponent Center of mass\n        Ccom = np.sum(c*m)/np.sum(m)\n        \n        return Acom, Bcom, Ccom\n    \n    \n    def COM_P(self, delta):\n    # Function to specifically return the center of mass position and velocity                                         \n    # input:                                                                                                           \n    #        particle type (1,2,3)                                                                                     \n    #        delta (tolerance)                                                                                         \n    # returns: One vector, with rows indicating:                                                                                                                                                                            \n    #       3D coordinates of the center of mass position (kpc)                                                             \n\n        # Center of Mass Position                                                                                      \n        ###########################                                                                                    \n\n        # Try a first guess at the COM position by calling COMdefine                                                   \n        XCOM, YCOM, ZCOM = self.COMdefine(self.x, self.y, self.z, self.m)\n        # compute the magnitude of the COM position vector.\n        # write your own code below\n        RCOM = np.sqrt(XCOM**2+YCOM**2+ZCOM**2)\n\n        # iterative process to determine the center of mass                                                            \n\n        # change reference frame to COM frame                                                                          \n        # compute the difference between particle coordinates                                                          \n        # and the first guess at COM position\n        # write your own code below\n        xNew = self.x - XCOM\n        yNew = self.y - YCOM\n        zNew = self.z - ZCOM\n        RNEW = np.sqrt(self.x**2+self.y**2+self.z**2) - RCOM\n\n        # find the max 3D distance of all particles from the guessed COM                                               \n        # will re-start at half that radius (reduced radius)                                                           \n        RMAX = max(RNEW)/2.0\n        \n        # pick an initial value for the change in COM position                                                      \n        # between the first guess above and the new one computed from half that volume\n        # it should be larger than the input tolerance (delta) initially\n        CHANGE = 1000.0\n\n        # start iterative process to determine center of mass position                                                 \n        # delta is the tolerance for the difference in the old COM and the new one.    \n        \n        while (CHANGE > delta):\n            # select all particles within the reduced radius (starting from original x,y,z, m)\n            # write your own code below (hints, use np.where)\n            index2 = np.where(np.sqrt(xNew**2+yNew**2+zNew**2) <= RMAX)\n            print(len(index2))\n            x2 = self.data['x'][index2]\n            y2 = self.data['y'][index2]\n            z2 = self.data['z'][index2]\n            m2 = self.data['m'][index2]\n\n            # Refined COM position:                                                                                    \n            # compute the center of mass position using                                                                \n            # the particles in the reduced radius\n            # write your own code below\n            XCOM2, YCOM2, ZCOM2 = self.COMdefine(x2, y2, z2, m2)\n            # compute the new 3D COM position\n            # write your own code below\n            RCOM2 = np.sqrt(XCOM2**2+YCOM2**2+ZCOM2**2)\n            # determine the difference between the previous center of mass position                                    \n            # and the new one.                                                                                         \n            CHANGE = np.abs(RCOM - RCOM2)\n            print (\"CHANGE = \", CHANGE)\n            # uncomment the following line if you wnat to check this                                                                                               \n            # print (\"CHANGE = \", CHANGE)                                                                                     \n\n            # Before loop continues, reset : RMAX, particle separations and COM                                        \n\n            # reduce the volume by a factor of 2 again                                                                 \n            RMAX = RMAX/2.0\n            # check this.                                                                                              \n            #print (\"maxR\", RMAX)                                                                                      \n\n            # Change the frame of reference to the newly computed COM.                                                 \n            # subtract the new COM\n            # write your own code below\n            xNew = self.data['x'] - XCOM2\n            yNew = self.data['y'] - YCOM2\n            zNew = self.data['z'] - ZCOM2\n            RNEW = np.sqrt(x2**2+y2**2+z2**2) - RCOM2\n\n            # set the center of mass positions to the refined values                                                   \n            XCOM = XCOM2\n            YCOM = YCOM2\n            ZCOM = ZCOM2\n            RCOM = RCOM2\n\n            # create a vector to store the COM position                                                                                                                                                       \n            COMP = [XCOM, YCOM, ZCOM]\n\n        # set the correct units using astropy and round all values\n        # and then return the COM positon vector\n        # write your own code below\n        \n        XCOM = XCOM*u.kpc\n        YCOM = YCOM*u.kpc\n        ZCOM = ZCOM*u.kpc\n        COMP = COMP*u.kpc\n    \n        return COMP\n\n    def COM_V(self, COMX,COMY,COMZ):\n        # Center of Mass velocity\n        # input: X, Y, Z positions of the COM\n        # returns 3D Vector of COM Velocities\n        \n        # the max distance from the center that we will use to determine the center of mass velocity                   \n        RVMAX = 15.0*u.kpc\n\n        # determine the position of all particles relative to the center of mass position\n        # write your own code below\n        xV = self.x*u.kpc - COMX\n        yV = self.y*u.kpc - COMY\n        zV = self.z*u.kpc - COMZ\n        RV = np.sqrt(xV**2+yV**2+zV**2)\n        \n        # determine the index for those particles within the max radius\n        # write your own code below\n        indexV = np.where(RV < RVMAX)\n\n        # determine the velocity and mass of those particles within the mas radius\n        # write your own code below\n        vxnew = self.data['vx'][indexV]\n        vynew = self.data['vy'][indexV]\n        vznew = self.data['vz'][indexV]\n        mnew = self.data['m'][indexV]  \n        \n        # compute the center of mass velocity using those particles\n        # write your own code below\n        VXCOM, VYCOM, VZCOM = self.COMdefine(vxnew, vynew, vznew, mnew)\n\n        # create a vector to store the COM velocity\n        # set the correct units usint astropy\n        # round all values\n        # write your own code below\n        COMV = [VXCOM, VYCOM, VZCOM]*u.km/u.s\n\n        # return the COM vector                                                                                        \n        return COMV"
    },
    "executionTime": "2020-02-12T04:40:31.831Z"
   },
   {
    "cell": {
     "executionCount": 95,
     "executionEventId": "9d19e282-6149-4eaf-94e7-a91cb87de7bf",
     "hasError": false,
     "id": "1ec1c88c-1fce-4f6e-b8c0-db3ed4c98b85",
     "outputs": [],
     "persistentId": "1925e6a4-0327-430a-b39d-4ebbd7201e33",
     "text": "# Create a Center of mass object for the MW, M31 and M33\n# below is an example of using the class for MW\nMWCOM = CenterOfMass(\"MW_000.txt\", 2)"
    },
    "executionTime": "2020-02-12T04:40:34.580Z"
   },
   {
    "cell": {
     "executionCount": 96,
     "executionEventId": "7c38b89a-9525-4e45-b456-e0f4469c6dc2",
     "hasError": false,
     "id": "41b3f20d-1811-4f91-b20f-b0580131a95f",
     "outputs": [
      {
       "name": "stdout",
       "output_type": "stream",
       "text": "1\nCHANGE =  2.5008753285678837\n1\nCHANGE =  2.365535361242028\n1\nCHANGE =  0.3519645736157724\n1\nCHANGE =  0.30475906188801805\n1\nCHANGE =  0.10619290818042826\n1\nCHANGE =  0.020800060919406338\n"
      }
     ],
     "persistentId": "d9be1b5b-cc5b-4d53-bbf7-2deedeca2731",
     "text": "# below gives you an example of calling the class's functions\n# MW:   store the position and velocity COM\nMW_COMP = MWCOM.COM_P(0.1)\n"
    },
    "executionTime": "2020-02-12T04:40:35.530Z"
   },
   {
    "cell": {
     "executionCount": 97,
     "executionEventId": "d381f2b8-fef4-47e7-9b50-cffb61afd8fd",
     "hasError": false,
     "id": "15a7c55c-5293-4deb-b861-0c326e14d523",
     "outputs": [],
     "persistentId": "3f3a5cb8-663d-4322-a77a-bde24cf50cec",
     "text": "class CenterOfMass:\n# Class to define COM position and velocity properties of a given galaxy \n# and simulation snapshot\n    \n    \n    def __init__(self, filename, ptype):\n    # Initialize the instance of this Class with the following properties:\n    \n        # read data in the given file using Read\n        self.time, self.total, self.data = Read(filename)                                                                                             \n\n        #create an array to store indexes of particles of desired Ptype                                \n        self.index = np.where(self.data['type'] == ptype)\n\n        # store the mass, positions, velocities of only the particles of the given type\n        # the following only gives the example of storing the mass\n        # self.m = self.data['m'][self.index]\n        # write your own code to complete this for positions and velocities\n        self.m = self.data['m'][self.index]\n        self.x = self.data['x'][self.index]\n        self.y = self.data['y'][self.index]\n        self.z = self.data['z'][self.index]\n        self.vx = self.data['vx'][self.index]\n        self.vy = self.data['vy'][self.index]\n        self.vz = self.data['vz'][self.index]\n\n\n    def COMdefine(self,a,b,c,m):\n    # Function to compute the center of mass position or velocity generically\n    # input: array (a,b,c) of positions or velocities and the mass\n    # returns: 3 floats  (the center of mass coordinates)\n\n        # write your own code to compute the generic COM using Eq. 1 in the homework instructions\n        # xcomponent Center of mass\n        Acom = np.sum(a*m)/np.sum(m)\n        # ycomponent Center of mass\n        Bcom = np.sum(b*m)/np.sum(m)\n        # zcomponent Center of mass\n        Ccom = np.sum(c*m)/np.sum(m)\n        \n        return Acom, Bcom, Ccom\n    \n    \n    def COM_P(self, delta):\n    # Function to specifically return the center of mass position and velocity                                         \n    # input:                                                                                                           \n    #        particle type (1,2,3)                                                                                     \n    #        delta (tolerance)                                                                                         \n    # returns: One vector, with rows indicating:                                                                                                                                                                            \n    #       3D coordinates of the center of mass position (kpc)                                                             \n\n        # Center of Mass Position                                                                                      \n        ###########################                                                                                    \n\n        # Try a first guess at the COM position by calling COMdefine                                                   \n        XCOM, YCOM, ZCOM = self.COMdefine(self.x, self.y, self.z, self.m)\n        # compute the magnitude of the COM position vector.\n        # write your own code below\n        RCOM = np.sqrt(XCOM**2+YCOM**2+ZCOM**2)\n\n        # iterative process to determine the center of mass                                                            \n\n        # change reference frame to COM frame                                                                          \n        # compute the difference between particle coordinates                                                          \n        # and the first guess at COM position\n        # write your own code below\n        xNew = self.x - XCOM\n        yNew = self.y - YCOM\n        zNew = self.z - ZCOM\n        RNEW = np.sqrt(self.x**2+self.y**2+self.z**2) - RCOM\n\n        # find the max 3D distance of all particles from the guessed COM                                               \n        # will re-start at half that radius (reduced radius)                                                           \n        RMAX = max(RNEW)/2.0\n        \n        # pick an initial value for the change in COM position                                                      \n        # between the first guess above and the new one computed from half that volume\n        # it should be larger than the input tolerance (delta) initially\n        CHANGE = 1000.0\n\n        # start iterative process to determine center of mass position                                                 \n        # delta is the tolerance for the difference in the old COM and the new one.    \n        \n        while (CHANGE > delta):\n            # select all particles within the reduced radius (starting from original x,y,z, m)\n            # write your own code below (hints, use np.where)\n            index2 = np.where(np.sqrt(xNew**2+yNew**2+zNew**2) <= RMAX)\n            x2 = self.data['x'][index2]\n            y2 = self.data['y'][index2]\n            z2 = self.data['z'][index2]\n            m2 = self.data['m'][index2]\n\n            # Refined COM position:                                                                                    \n            # compute the center of mass position using                                                                \n            # the particles in the reduced radius\n            # write your own code below\n            XCOM2, YCOM2, ZCOM2 = self.COMdefine(x2, y2, z2, m2)\n            # compute the new 3D COM position\n            # write your own code below\n            RCOM2 = np.sqrt(XCOM2**2+YCOM2**2+ZCOM2**2)\n            # determine the difference between the previous center of mass position                                    \n            # and the new one.                                                                                         \n            CHANGE = np.abs(RCOM - RCOM2)\n\n            # uncomment the following line if you wnat to check this                                                                                               \n            # print (\"CHANGE = \", CHANGE)                                                                                     \n\n            # Before loop continues, reset : RMAX, particle separations and COM                                        \n\n            # reduce the volume by a factor of 2 again                                                                 \n            RMAX = RMAX/2.0\n            # check this.                                                                                              \n            #print (\"maxR\", RMAX)                                                                                      \n\n            # Change the frame of reference to the newly computed COM.                                                 \n            # subtract the new COM\n            # write your own code below\n            xNew = self.data['x'] - XCOM2\n            yNew = self.data['y'] - YCOM2\n            zNew = self.data['z'] - ZCOM2\n            RNEW = np.sqrt(x2**2+y2**2+z2**2) - RCOM2\n\n            # set the center of mass positions to the refined values                                                   \n            XCOM = XCOM2\n            YCOM = YCOM2\n            ZCOM = ZCOM2\n            RCOM = RCOM2\n\n            # create a vector to store the COM position                                                                                                                                                       \n            COMP = [XCOM, YCOM, ZCOM]\n\n        # set the correct units using astropy and round all values\n        # and then return the COM positon vector\n        # write your own code below\n        \n        XCOM = XCOM*u.kpc\n        YCOM = YCOM*u.kpc\n        ZCOM = ZCOM*u.kpc\n        COMP = COMP*u.kpc\n    \n        return COMP\n\n    def COM_V(self, COMX,COMY,COMZ):\n        # Center of Mass velocity\n        # input: X, Y, Z positions of the COM\n        # returns 3D Vector of COM Velocities\n        \n        # the max distance from the center that we will use to determine the center of mass velocity                   \n        RVMAX = 15.0*u.kpc\n\n        # determine the position of all particles relative to the center of mass position\n        # write your own code below\n        xV = self.x*u.kpc - COMX\n        yV = self.y*u.kpc - COMY\n        zV = self.z*u.kpc - COMZ\n        RV = np.sqrt(xV**2+yV**2+zV**2)\n        \n        # determine the index for those particles within the max radius\n        # write your own code below\n        indexV = np.where(RV < RVMAX)\n\n        # determine the velocity and mass of those particles within the mas radius\n        # write your own code below\n        vxnew = self.data['vx'][indexV]\n        vynew = self.data['vy'][indexV]\n        vznew = self.data['vz'][indexV]\n        mnew = self.data['m'][indexV]  \n        \n        # compute the center of mass velocity using those particles\n        # write your own code below\n        VXCOM, VYCOM, VZCOM = self.COMdefine(vxnew, vynew, vznew, mnew)\n\n        # create a vector to store the COM velocity\n        # set the correct units usint astropy\n        # round all values\n        # write your own code below\n        COMV = [VXCOM, VYCOM, VZCOM]*u.km/u.s\n\n        # return the COM vector                                                                                        \n        return COMV"
    },
    "executionTime": "2020-02-12T04:41:10.030Z"
   },
   {
    "cell": {
     "executionCount": 98,
     "executionEventId": "8869a6ac-cc83-4a09-9366-e218cf0b7a62",
     "hasError": false,
     "id": "15a7c55c-5293-4deb-b861-0c326e14d523",
     "outputs": [],
     "persistentId": "3f3a5cb8-663d-4322-a77a-bde24cf50cec",
     "text": "class CenterOfMass:\n# Class to define COM position and velocity properties of a given galaxy \n# and simulation snapshot\n    \n    \n    def __init__(self, filename, ptype):\n    # Initialize the instance of this Class with the following properties:\n    \n        # read data in the given file using Read\n        self.time, self.total, self.data = Read(filename)                                                                                             \n\n        #create an array to store indexes of particles of desired Ptype                                \n        self.index = np.where(self.data['type'] == ptype)\n\n        # store the mass, positions, velocities of only the particles of the given type\n        # the following only gives the example of storing the mass\n        # self.m = self.data['m'][self.index]\n        # write your own code to complete this for positions and velocities\n        self.m = self.data['m'][self.index]\n        self.x = self.data['x'][self.index]\n        self.y = self.data['y'][self.index]\n        self.z = self.data['z'][self.index]\n        self.vx = self.data['vx'][self.index]\n        self.vy = self.data['vy'][self.index]\n        self.vz = self.data['vz'][self.index]\n\n\n    def COMdefine(self,a,b,c,m):\n    # Function to compute the center of mass position or velocity generically\n    # input: array (a,b,c) of positions or velocities and the mass\n    # returns: 3 floats  (the center of mass coordinates)\n\n        # write your own code to compute the generic COM using Eq. 1 in the homework instructions\n        # xcomponent Center of mass\n        Acom = np.sum(a*m)/np.sum(m)\n        # ycomponent Center of mass\n        Bcom = np.sum(b*m)/np.sum(m)\n        # zcomponent Center of mass\n        Ccom = np.sum(c*m)/np.sum(m)\n        \n        return Acom, Bcom, Ccom\n    \n    \n    def COM_P(self, delta):\n    # Function to specifically return the center of mass position and velocity                                         \n    # input:                                                                                                           \n    #        particle type (1,2,3)                                                                                     \n    #        delta (tolerance)                                                                                         \n    # returns: One vector, with rows indicating:                                                                                                                                                                            \n    #       3D coordinates of the center of mass position (kpc)                                                             \n\n        # Center of Mass Position                                                                                      \n        ###########################                                                                                    \n\n        # Try a first guess at the COM position by calling COMdefine                                                   \n        XCOM, YCOM, ZCOM = self.COMdefine(self.x, self.y, self.z, self.m)\n        # compute the magnitude of the COM position vector.\n        # write your own code below\n        RCOM = np.sqrt(XCOM**2+YCOM**2+ZCOM**2)\n\n        # iterative process to determine the center of mass                                                            \n\n        # change reference frame to COM frame                                                                          \n        # compute the difference between particle coordinates                                                          \n        # and the first guess at COM position\n        # write your own code below\n        xNew = self.x - XCOM\n        yNew = self.y - YCOM\n        zNew = self.z - ZCOM\n        RNEW = np.sqrt(self.x**2+self.y**2+self.z**2) - RCOM\n\n        # find the max 3D distance of all particles from the guessed COM                                               \n        # will re-start at half that radius (reduced radius)                                                           \n        RMAX = max(RNEW)/2.0\n        \n        # pick an initial value for the change in COM position                                                      \n        # between the first guess above and the new one computed from half that volume\n        # it should be larger than the input tolerance (delta) initially\n        CHANGE = 1000.0\n\n        # start iterative process to determine center of mass position                                                 \n        # delta is the tolerance for the difference in the old COM and the new one.    \n        \n        while (CHANGE > delta):\n            # select all particles within the reduced radius (starting from original x,y,z, m)\n            # write your own code below (hints, use np.where)\n            index2 = np.where(np.sqrt(xNew**2+yNew**2+zNew**2) <= RMAX)\n            x2 = self.data['x'][index2]\n            y2 = self.data['y'][index2]\n            z2 = self.data['z'][index2]\n            m2 = self.data['m'][index2]\n\n            # Refined COM position:                                                                                    \n            # compute the center of mass position using                                                                \n            # the particles in the reduced radius\n            # write your own code below\n            XCOM2, YCOM2, ZCOM2 = self.COMdefine(x2, y2, z2, m2)\n            # compute the new 3D COM position\n            # write your own code below\n            RCOM2 = np.sqrt(XCOM2**2+YCOM2**2+ZCOM2**2)\n            # determine the difference between the previous center of mass position                                    \n            # and the new one.                                                                                         \n            CHANGE = np.abs(RCOM - RCOM2)\n\n            # uncomment the following line if you wnat to check this                                                                                               \n            # print (\"CHANGE = \", CHANGE)                                                                                     \n\n            # Before loop continues, reset : RMAX, particle separations and COM                                        \n\n            # reduce the volume by a factor of 2 again                                                                 \n            RMAX = RMAX/2.0\n            # check this.                                                                                              \n            #print (\"maxR\", RMAX)                                                                                      \n\n            # Change the frame of reference to the newly computed COM.                                                 \n            # subtract the new COM\n            # write your own code below\n            xNew = self.data['x'] - XCOM2\n            yNew = self.data['y'] - YCOM2\n            zNew = self.data['z'] - ZCOM2\n            RNEW = np.sqrt(x2**2+y2**2+z2**2) - RCOM2\n\n            # set the center of mass positions to the refined values                                                   \n            XCOM = XCOM2\n            YCOM = YCOM2\n            ZCOM = ZCOM2\n            RCOM = RCOM2\n\n            # create a vector to store the COM position                                                                                                                                                       \n            COMP = [XCOM, YCOM, ZCOM]\n\n        # set the correct units using astropy and round all values\n        # and then return the COM positon vector\n        # write your own code below\n        \n        XCOM = XCOM*u.kpc\n        YCOM = YCOM*u.kpc\n        ZCOM = ZCOM*u.kpc\n        COMP = COMP*u.kpc\n    \n        return COMP\n\n    def COM_V(self, COMX,COMY,COMZ):\n        # Center of Mass velocity\n        # input: X, Y, Z positions of the COM\n        # returns 3D Vector of COM Velocities\n        \n        # the max distance from the center that we will use to determine the center of mass velocity                   \n        RVMAX = 15.0*u.kpc\n\n        # determine the position of all particles relative to the center of mass position\n        # write your own code below\n        xV = self.x*u.kpc - COMX\n        yV = self.y*u.kpc - COMY\n        zV = self.z*u.kpc - COMZ\n        RV = np.sqrt(xV**2+yV**2+zV**2)\n        \n        # determine the index for those particles within the max radius\n        # write your own code below\n        indexV = np.where(RV < RVMAX)\n\n        # determine the velocity and mass of those particles within the mas radius\n        # write your own code below\n        vxnew = self.data['vx'][indexV]\n        vynew = self.data['vy'][indexV]\n        vznew = self.data['vz'][indexV]\n        mnew = self.data['m'][indexV]  \n        \n        # compute the center of mass velocity using those particles\n        # write your own code below\n        VXCOM, VYCOM, VZCOM = self.COMdefine(vxnew, vynew, vznew, mnew)\n\n        # create a vector to store the COM velocity\n        # set the correct units usint astropy\n        # round all values\n        # write your own code below\n        COMV = [VXCOM, VYCOM, VZCOM]*u.km/u.s\n\n        # return the COM vector                                                                                        \n        return COMV"
    },
    "executionTime": "2020-02-12T04:41:25.652Z"
   },
   {
    "cell": {
     "executionCount": 99,
     "executionEventId": "5184f099-b4bd-40c0-994b-ae96dbf7eaff",
     "hasError": false,
     "id": "1ec1c88c-1fce-4f6e-b8c0-db3ed4c98b85",
     "outputs": [],
     "persistentId": "1925e6a4-0327-430a-b39d-4ebbd7201e33",
     "text": "# Create a Center of mass object for the MW, M31 and M33\n# below is an example of using the class for MW\nMWCOM = CenterOfMass(\"MW_000.txt\", 2)"
    },
    "executionTime": "2020-02-12T04:41:29.330Z"
   },
   {
    "cell": {
     "executionCount": 100,
     "executionEventId": "26bd2849-610e-40d2-b732-0a2f31d2dfd3",
     "hasError": false,
     "id": "41b3f20d-1811-4f91-b20f-b0580131a95f",
     "outputs": [
      {
       "name": "stdout",
       "output_type": "stream",
       "text": "[-2.0477735   2.94706657 -1.44655273] kpc\n"
      }
     ],
     "persistentId": "d9be1b5b-cc5b-4d53-bbf7-2deedeca2731",
     "text": "# below gives you an example of calling the class's functions\n# MW:   store the position and velocity COM\nMW_COMP = MWCOM.COM_P(0.1)\nprint(MW_COMP)"
    },
    "executionTime": "2020-02-12T04:41:34.806Z"
   },
   {
    "cell": {
     "executionCount": 101,
     "executionEventId": "ffd46ca2-a7e3-4935-9ab8-f90b1451ae52",
     "hasError": false,
     "id": "41b3f20d-1811-4f91-b20f-b0580131a95f",
     "outputs": [
      {
       "name": "stdout",
       "output_type": "stream",
       "text": "[-2.0477735   2.94706657 -1.44655273] kpc\n[-0.03131473  0.81106353 -0.94252759] km / s\n"
      }
     ],
     "persistentId": "d9be1b5b-cc5b-4d53-bbf7-2deedeca2731",
     "text": "# below gives you an example of calling the class's functions\n# MW:   store the position and velocity COM\nMW_COMP = MWCOM.COM_P(0.1)\nprint(MW_COMP)\nMW_COMV = MWCOM.COM_V(MW_COMP[0], MW_COMP[1], MW_COMP[2])\nprint(MW_COMV)"
    },
    "executionTime": "2020-02-12T04:41:56.853Z"
   },
   {
    "cell": {
     "executionCount": 102,
     "executionEventId": "ca450c42-6030-470b-abaf-3116008f054d",
     "hasError": false,
     "id": "f701bbb1-527f-499d-96c1-c318cffd4b81",
     "outputs": [
      {
       "name": "stdout",
       "output_type": "stream",
       "text": "[-377.02855002  610.99638282 -284.49859804] kpc\n[nan nan nan] km / s\n"
      },
      {
       "name": "stderr",
       "output_type": "stream",
       "text": "/anaconda3/lib/python3.6/site-packages/ipykernel_launcher.py:35: RuntimeWarning: invalid value encountered in double_scalars\n/anaconda3/lib/python3.6/site-packages/ipykernel_launcher.py:37: RuntimeWarning: invalid value encountered in double_scalars\n/anaconda3/lib/python3.6/site-packages/ipykernel_launcher.py:39: RuntimeWarning: invalid value encountered in double_scalars\n"
      }
     ],
     "persistentId": "966ff13b-1221-44fb-ac73-7a97eddb14fb",
     "text": "# now write your own code to answer questions\nM31COM = CenterOfMass(\"M31_000.txt\", 2)\nM31_COMP = M31COM.COM_P(0.1)\nM31_COMV = M31COM.COM_V(MW_COMP[0], MW_COMP[1], MW_COMP[2])\nprint(M31_COMP)\nprint(M31_COMV)"
    },
    "executionTime": "2020-02-12T04:42:09.707Z"
   },
   {
    "cell": {
     "executionCount": 103,
     "executionEventId": "1c022665-1752-4230-93f6-3034cb66ae04",
     "hasError": false,
     "id": "f701bbb1-527f-499d-96c1-c318cffd4b81",
     "outputs": [
      {
       "name": "stdout",
       "output_type": "stream",
       "text": "[-377.02855002  610.99638282 -284.49859804] kpc\n"
      },
      {
       "name": "stderr",
       "output_type": "stream",
       "text": "/anaconda3/lib/python3.6/site-packages/ipykernel_launcher.py:35: RuntimeWarning: invalid value encountered in double_scalars\n/anaconda3/lib/python3.6/site-packages/ipykernel_launcher.py:37: RuntimeWarning: invalid value encountered in double_scalars\n/anaconda3/lib/python3.6/site-packages/ipykernel_launcher.py:39: RuntimeWarning: invalid value encountered in double_scalars\n"
      }
     ],
     "persistentId": "966ff13b-1221-44fb-ac73-7a97eddb14fb",
     "text": "# now write your own code to answer questions\nM31COM = CenterOfMass(\"M31_000.txt\", 2)\nM31_COMP = M31COM.COM_P(0.1)\nM31_COMV = M31COM.COM_V(MW_COMP[0], MW_COMP[1], MW_COMP[2])\nprint(M31_COMP)"
    },
    "executionTime": "2020-02-12T04:42:38.413Z"
   },
   {
    "cell": {
     "executionCount": 104,
     "executionEventId": "aa215cbf-803d-447b-99c4-c3b064710128",
     "hasError": false,
     "id": "0e9f9245-ed8e-4b46-a336-0172f5c80435",
     "outputs": [
      {
       "name": "stdout",
       "output_type": "stream",
       "text": "[-377.02855002  610.99638282 -284.49859804] kpc\n"
      },
      {
       "name": "stderr",
       "output_type": "stream",
       "text": "/anaconda3/lib/python3.6/site-packages/ipykernel_launcher.py:35: RuntimeWarning: invalid value encountered in double_scalars\n/anaconda3/lib/python3.6/site-packages/ipykernel_launcher.py:37: RuntimeWarning: invalid value encountered in double_scalars\n/anaconda3/lib/python3.6/site-packages/ipykernel_launcher.py:39: RuntimeWarning: invalid value encountered in double_scalars\n"
      }
     ],
     "persistentId": "69daf229-8f48-4d35-a241-46e3fe8889c2",
     "text": "M31_COMV = M31COM.COM_V(MW_COMP[0], MW_COMP[1], MW_COMP[2])\nprint(M31_COMP)"
    },
    "executionTime": "2020-02-12T04:43:15.793Z"
   },
   {
    "cell": {
     "executionCount": 105,
     "executionEventId": "67be8d53-6f00-4ae6-8269-d83bdcd3c26e",
     "hasError": false,
     "id": "0e9f9245-ed8e-4b46-a336-0172f5c80435",
     "outputs": [
      {
       "name": "stdout",
       "output_type": "stream",
       "text": "[nan nan nan] km / s\n"
      },
      {
       "name": "stderr",
       "output_type": "stream",
       "text": "/anaconda3/lib/python3.6/site-packages/ipykernel_launcher.py:35: RuntimeWarning: invalid value encountered in double_scalars\n/anaconda3/lib/python3.6/site-packages/ipykernel_launcher.py:37: RuntimeWarning: invalid value encountered in double_scalars\n/anaconda3/lib/python3.6/site-packages/ipykernel_launcher.py:39: RuntimeWarning: invalid value encountered in double_scalars\n"
      }
     ],
     "persistentId": "69daf229-8f48-4d35-a241-46e3fe8889c2",
     "text": "M31_COMV = M31COM.COM_V(MW_COMP[0], MW_COMP[1], MW_COMP[2])\nprint(M31_COMV)"
    },
    "executionTime": "2020-02-12T04:43:23.868Z"
   },
   {
    "cell": {
     "executionCount": 106,
     "executionEventId": "0f954e9f-d313-4a47-a1fa-13df4a437669",
     "hasError": false,
     "id": "f701bbb1-527f-499d-96c1-c318cffd4b81",
     "outputs": [],
     "persistentId": "966ff13b-1221-44fb-ac73-7a97eddb14fb",
     "text": "# now write your own code to answer questions\nM31COM = CenterOfMass(\"M31_000.txt\", 2)\nM31_COMP = M31COM.COM_P(0.1)"
    },
    "executionTime": "2020-02-12T04:45:32.684Z"
   },
   {
    "cell": {
     "executionCount": 107,
     "executionEventId": "4bc28ac0-0d71-4c4a-b037-ad62463ddea5",
     "hasError": false,
     "id": "15a7c55c-5293-4deb-b861-0c326e14d523",
     "outputs": [],
     "persistentId": "3f3a5cb8-663d-4322-a77a-bde24cf50cec",
     "text": "class CenterOfMass:\n# Class to define COM position and velocity properties of a given galaxy \n# and simulation snapshot\n    \n    \n    def __init__(self, filename, ptype):\n    # Initialize the instance of this Class with the following properties:\n    \n        # read data in the given file using Read\n        self.time, self.total, self.data = Read(filename)                                                                                             \n\n        #create an array to store indexes of particles of desired Ptype                                \n        self.index = np.where(self.data['type'] == ptype)\n\n        # store the mass, positions, velocities of only the particles of the given type\n        # the following only gives the example of storing the mass\n        # self.m = self.data['m'][self.index]\n        # write your own code to complete this for positions and velocities\n        self.m = self.data['m'][self.index]\n        self.x = self.data['x'][self.index]\n        self.y = self.data['y'][self.index]\n        self.z = self.data['z'][self.index]\n        self.vx = self.data['vx'][self.index]\n        self.vy = self.data['vy'][self.index]\n        self.vz = self.data['vz'][self.index]\n\n\n    def COMdefine(self,a,b,c,m):\n    # Function to compute the center of mass position or velocity generically\n    # input: array (a,b,c) of positions or velocities and the mass\n    # returns: 3 floats  (the center of mass coordinates)\n\n        # write your own code to compute the generic COM using Eq. 1 in the homework instructions\n        # xcomponent Center of mass\n        Acom = np.sum(a*m)/np.sum(m)\n        # ycomponent Center of mass\n        Bcom = np.sum(b*m)/np.sum(m)\n        # zcomponent Center of mass\n        Ccom = np.sum(c*m)/np.sum(m)\n        \n        return Acom, Bcom, Ccom\n    \n    \n    def COM_P(self, delta):\n    # Function to specifically return the center of mass position and velocity                                         \n    # input:                                                                                                           \n    #        particle type (1,2,3)                                                                                     \n    #        delta (tolerance)                                                                                         \n    # returns: One vector, with rows indicating:                                                                                                                                                                            \n    #       3D coordinates of the center of mass position (kpc)                                                             \n\n        # Center of Mass Position                                                                                      \n        ###########################                                                                                    \n\n        # Try a first guess at the COM position by calling COMdefine                                                   \n        XCOM, YCOM, ZCOM = self.COMdefine(self.x, self.y, self.z, self.m)\n        # compute the magnitude of the COM position vector.\n        # write your own code below\n        RCOM = np.sqrt(XCOM**2+YCOM**2+ZCOM**2)\n\n        # iterative process to determine the center of mass                                                            \n\n        # change reference frame to COM frame                                                                          \n        # compute the difference between particle coordinates                                                          \n        # and the first guess at COM position\n        # write your own code below\n        xNew = self.x - XCOM\n        yNew = self.y - YCOM\n        zNew = self.z - ZCOM\n        RNEW = np.sqrt(self.x**2+self.y**2+self.z**2) - RCOM\n\n        # find the max 3D distance of all particles from the guessed COM                                               \n        # will re-start at half that radius (reduced radius)                                                           \n        RMAX = max(RNEW)/2.0\n        \n        # pick an initial value for the change in COM position                                                      \n        # between the first guess above and the new one computed from half that volume\n        # it should be larger than the input tolerance (delta) initially\n        CHANGE = 1000.0\n\n        # start iterative process to determine center of mass position                                                 \n        # delta is the tolerance for the difference in the old COM and the new one.    \n        \n        while (CHANGE > delta):\n            # select all particles within the reduced radius (starting from original x,y,z, m)\n            # write your own code below (hints, use np.where)\n            index2 = np.where(np.sqrt(xNew**2+yNew**2+zNew**2) <= RMAX)\n            x2 = self.data['x'][index2]\n            y2 = self.data['y'][index2]\n            z2 = self.data['z'][index2]\n            m2 = self.data['m'][index2]\n\n            # Refined COM position:                                                                                    \n            # compute the center of mass position using                                                                \n            # the particles in the reduced radius\n            # write your own code below\n            XCOM2, YCOM2, ZCOM2 = self.COMdefine(x2, y2, z2, m2)\n            # compute the new 3D COM position\n            # write your own code below\n            RCOM2 = np.sqrt(XCOM2**2+YCOM2**2+ZCOM2**2)\n            # determine the difference between the previous center of mass position                                    \n            # and the new one.                                                                                         \n            CHANGE = np.abs(RCOM - RCOM2)\n\n            # uncomment the following line if you wnat to check this                                                                                               \n            # print (\"CHANGE = \", CHANGE)                                                                                     \n\n            # Before loop continues, reset : RMAX, particle separations and COM                                        \n\n            # reduce the volume by a factor of 2 again                                                                 \n            RMAX = RMAX/2.0\n            # check this.                                                                                              \n            #print (\"maxR\", RMAX)                                                                                      \n\n            # Change the frame of reference to the newly computed COM.                                                 \n            # subtract the new COM\n            # write your own code below\n            xNew = self.data['x'] - XCOM2\n            yNew = self.data['y'] - YCOM2\n            zNew = self.data['z'] - ZCOM2\n            RNEW = np.sqrt(x2**2+y2**2+z2**2) - RCOM2\n\n            # set the center of mass positions to the refined values                                                   \n            XCOM = XCOM2\n            YCOM = YCOM2\n            ZCOM = ZCOM2\n            RCOM = RCOM2\n\n            # create a vector to store the COM position                                                                                                                                                       \n            COMP = [XCOM, YCOM, ZCOM]\n\n        # set the correct units using astropy and round all values\n        # and then return the COM positon vector\n        # write your own code below\n        \n        XCOM = XCOM*u.kpc\n        YCOM = YCOM*u.kpc\n        ZCOM = ZCOM*u.kpc\n        COMP = COMP*u.kpc\n    \n        return COMP\n\n    def COM_V(self, COMX,COMY,COMZ):\n        # Center of Mass velocity\n        # input: X, Y, Z positions of the COM\n        # returns 3D Vector of COM Velocities\n        \n        # the max distance from the center that we will use to determine the center of mass velocity                   \n        RVMAX = 15.0*u.kpc\n\n        # determine the position of all particles relative to the center of mass position\n        # write your own code below\n        xV = self.x*u.kpc - COMX\n        yV = self.y*u.kpc - COMY\n        zV = self.z*u.kpc - COMZ\n        RV = np.sqrt(xV**2+yV**2+zV**2)\n        \n        # determine the index for those particles within the max radius\n        # write your own code below\n        indexV = np.where(RV < RVMAX)\n\n        # determine the velocity and mass of those particles within the mas radius\n        # write your own code below\n        vxnew = self.data['vx'][indexV]\n        vynew = self.data['vy'][indexV]\n        vznew = self.data['vz'][indexV]\n        mnew = self.data['m'][indexV]  \n        print(vxnew)\n        \n        # compute the center of mass velocity using those particles\n        # write your own code below\n        VXCOM, VYCOM, VZCOM = self.COMdefine(vxnew, vynew, vznew, mnew)\n\n        # create a vector to store the COM velocity\n        # set the correct units usint astropy\n        # round all values\n        # write your own code below\n        COMV = [VXCOM, VYCOM, VZCOM]*u.km/u.s\n\n        # return the COM vector                                                                                        \n        return COMV"
    },
    "executionTime": "2020-02-12T04:47:21.316Z"
   },
   {
    "cell": {
     "executionCount": 108,
     "executionEventId": "0679d3b8-2ee7-46f3-9e34-444e0b5ed987",
     "hasError": false,
     "id": "f701bbb1-527f-499d-96c1-c318cffd4b81",
     "outputs": [],
     "persistentId": "966ff13b-1221-44fb-ac73-7a97eddb14fb",
     "text": "# now write your own code to answer questions\nM31COM = CenterOfMass(\"M31_000.txt\", 2)\nM31_COMP = M31COM.COM_P(0.1)"
    },
    "executionTime": "2020-02-12T04:47:28.997Z"
   },
   {
    "cell": {
     "executionCount": 109,
     "executionEventId": "1af89512-3312-4ff8-b420-4078592ba6da",
     "hasError": false,
     "id": "0e9f9245-ed8e-4b46-a336-0172f5c80435",
     "outputs": [
      {
       "name": "stdout",
       "output_type": "stream",
       "text": "[]\n[nan nan nan] km / s\n"
      },
      {
       "name": "stderr",
       "output_type": "stream",
       "text": "/anaconda3/lib/python3.6/site-packages/ipykernel_launcher.py:35: RuntimeWarning: invalid value encountered in double_scalars\n/anaconda3/lib/python3.6/site-packages/ipykernel_launcher.py:37: RuntimeWarning: invalid value encountered in double_scalars\n/anaconda3/lib/python3.6/site-packages/ipykernel_launcher.py:39: RuntimeWarning: invalid value encountered in double_scalars\n"
      }
     ],
     "persistentId": "69daf229-8f48-4d35-a241-46e3fe8889c2",
     "text": "M31_COMV = M31COM.COM_V(MW_COMP[0], MW_COMP[1], MW_COMP[2])\nprint(M31_COMV)"
    },
    "executionTime": "2020-02-12T04:47:30.172Z"
   },
   {
    "cell": {
     "executionCount": 110,
     "executionEventId": "8a580290-d9a6-4aa3-b459-142bf79ac1e0",
     "hasError": false,
     "id": "15a7c55c-5293-4deb-b861-0c326e14d523",
     "outputs": [],
     "persistentId": "3f3a5cb8-663d-4322-a77a-bde24cf50cec",
     "text": "class CenterOfMass:\n# Class to define COM position and velocity properties of a given galaxy \n# and simulation snapshot\n    \n    \n    def __init__(self, filename, ptype):\n    # Initialize the instance of this Class with the following properties:\n    \n        # read data in the given file using Read\n        self.time, self.total, self.data = Read(filename)                                                                                             \n\n        #create an array to store indexes of particles of desired Ptype                                \n        self.index = np.where(self.data['type'] == ptype)\n\n        # store the mass, positions, velocities of only the particles of the given type\n        # the following only gives the example of storing the mass\n        # self.m = self.data['m'][self.index]\n        # write your own code to complete this for positions and velocities\n        self.m = self.data['m'][self.index]\n        self.x = self.data['x'][self.index]\n        self.y = self.data['y'][self.index]\n        self.z = self.data['z'][self.index]\n        self.vx = self.data['vx'][self.index]\n        self.vy = self.data['vy'][self.index]\n        self.vz = self.data['vz'][self.index]\n\n\n    def COMdefine(self,a,b,c,m):\n    # Function to compute the center of mass position or velocity generically\n    # input: array (a,b,c) of positions or velocities and the mass\n    # returns: 3 floats  (the center of mass coordinates)\n\n        # write your own code to compute the generic COM using Eq. 1 in the homework instructions\n        # xcomponent Center of mass\n        Acom = np.sum(a*m)/np.sum(m)\n        # ycomponent Center of mass\n        Bcom = np.sum(b*m)/np.sum(m)\n        # zcomponent Center of mass\n        Ccom = np.sum(c*m)/np.sum(m)\n        \n        return Acom, Bcom, Ccom\n    \n    \n    def COM_P(self, delta):\n    # Function to specifically return the center of mass position and velocity                                         \n    # input:                                                                                                           \n    #        particle type (1,2,3)                                                                                     \n    #        delta (tolerance)                                                                                         \n    # returns: One vector, with rows indicating:                                                                                                                                                                            \n    #       3D coordinates of the center of mass position (kpc)                                                             \n\n        # Center of Mass Position                                                                                      \n        ###########################                                                                                    \n\n        # Try a first guess at the COM position by calling COMdefine                                                   \n        XCOM, YCOM, ZCOM = self.COMdefine(self.x, self.y, self.z, self.m)\n        # compute the magnitude of the COM position vector.\n        # write your own code below\n        RCOM = np.sqrt(XCOM**2+YCOM**2+ZCOM**2)\n\n        # iterative process to determine the center of mass                                                            \n\n        # change reference frame to COM frame                                                                          \n        # compute the difference between particle coordinates                                                          \n        # and the first guess at COM position\n        # write your own code below\n        xNew = self.x - XCOM\n        yNew = self.y - YCOM\n        zNew = self.z - ZCOM\n        RNEW = np.sqrt(self.x**2+self.y**2+self.z**2) - RCOM\n\n        # find the max 3D distance of all particles from the guessed COM                                               \n        # will re-start at half that radius (reduced radius)                                                           \n        RMAX = max(RNEW)/2.0\n        \n        # pick an initial value for the change in COM position                                                      \n        # between the first guess above and the new one computed from half that volume\n        # it should be larger than the input tolerance (delta) initially\n        CHANGE = 1000.0\n\n        # start iterative process to determine center of mass position                                                 \n        # delta is the tolerance for the difference in the old COM and the new one.    \n        \n        while (CHANGE > delta):\n            # select all particles within the reduced radius (starting from original x,y,z, m)\n            # write your own code below (hints, use np.where)\n            index2 = np.where(np.sqrt(xNew**2+yNew**2+zNew**2) <= RMAX)\n            x2 = self.data['x'][index2]\n            y2 = self.data['y'][index2]\n            z2 = self.data['z'][index2]\n            m2 = self.data['m'][index2]\n\n            # Refined COM position:                                                                                    \n            # compute the center of mass position using                                                                \n            # the particles in the reduced radius\n            # write your own code below\n            XCOM2, YCOM2, ZCOM2 = self.COMdefine(x2, y2, z2, m2)\n            # compute the new 3D COM position\n            # write your own code below\n            RCOM2 = np.sqrt(XCOM2**2+YCOM2**2+ZCOM2**2)\n            # determine the difference between the previous center of mass position                                    \n            # and the new one.                                                                                         \n            CHANGE = np.abs(RCOM - RCOM2)\n\n            # uncomment the following line if you wnat to check this                                                                                               \n            # print (\"CHANGE = \", CHANGE)                                                                                     \n\n            # Before loop continues, reset : RMAX, particle separations and COM                                        \n\n            # reduce the volume by a factor of 2 again                                                                 \n            RMAX = RMAX/2.0\n            # check this.                                                                                              \n            #print (\"maxR\", RMAX)                                                                                      \n\n            # Change the frame of reference to the newly computed COM.                                                 \n            # subtract the new COM\n            # write your own code below\n            xNew = self.data['x'] - XCOM2\n            yNew = self.data['y'] - YCOM2\n            zNew = self.data['z'] - ZCOM2\n            RNEW = np.sqrt(x2**2+y2**2+z2**2) - RCOM2\n\n            # set the center of mass positions to the refined values                                                   \n            XCOM = XCOM2\n            YCOM = YCOM2\n            ZCOM = ZCOM2\n            RCOM = RCOM2\n\n            # create a vector to store the COM position                                                                                                                                                       \n            COMP = [XCOM, YCOM, ZCOM]\n\n        # set the correct units using astropy and round all values\n        # and then return the COM positon vector\n        # write your own code below\n        \n        XCOM = XCOM*u.kpc\n        YCOM = YCOM*u.kpc\n        ZCOM = ZCOM*u.kpc\n        COMP = COMP*u.kpc\n    \n        return COMP\n\n    def COM_V(self, COMX,COMY,COMZ):\n        # Center of Mass velocity\n        # input: X, Y, Z positions of the COM\n        # returns 3D Vector of COM Velocities\n        \n        # the max distance from the center that we will use to determine the center of mass velocity                   \n        RVMAX = 15.0*u.kpc\n\n        # determine the position of all particles relative to the center of mass position\n        # write your own code below\n        xV = self.x*u.kpc - COMX\n        yV = self.y*u.kpc - COMY\n        zV = self.z*u.kpc - COMZ\n        RV = np.sqrt(xV**2+yV**2+zV**2)\n        print(xV)\n        \n        # determine the index for those particles within the max radius\n        # write your own code below\n        indexV = np.where(RV < RVMAX)\n        print(indexV)\n        \n        # determine the velocity and mass of those particles within the mas radius\n        # write your own code below\n        vxnew = self.data['vx'][indexV]\n        vynew = self.data['vy'][indexV]\n        vznew = self.data['vz'][indexV]\n        mnew = self.data['m'][indexV]  \n        \n        \n        # compute the center of mass velocity using those particles\n        # write your own code below\n        VXCOM, VYCOM, VZCOM = self.COMdefine(vxnew, vynew, vznew, mnew)\n\n        # create a vector to store the COM velocity\n        # set the correct units usint astropy\n        # round all values\n        # write your own code below\n        COMV = [VXCOM, VYCOM, VZCOM]*u.km/u.s\n\n        # return the COM vector                                                                                        \n        return COMV"
    },
    "executionTime": "2020-02-12T04:48:11.937Z"
   },
   {
    "cell": {
     "executionCount": 111,
     "executionEventId": "1e241ceb-3f27-4d7f-b5e1-fc89b10268dd",
     "hasError": false,
     "id": "f701bbb1-527f-499d-96c1-c318cffd4b81",
     "outputs": [],
     "persistentId": "966ff13b-1221-44fb-ac73-7a97eddb14fb",
     "text": "# now write your own code to answer questions\nM31COM = CenterOfMass(\"M31_000.txt\", 2)\nM31_COMP = M31COM.COM_P(0.1)"
    },
    "executionTime": "2020-02-12T04:48:17.422Z"
   },
   {
    "cell": {
     "executionCount": 112,
     "executionEventId": "57094a05-8051-4eac-9a7a-2abfc52ccdb2",
     "hasError": false,
     "id": "0e9f9245-ed8e-4b46-a336-0172f5c80435",
     "outputs": [
      {
       "name": "stdout",
       "output_type": "stream",
       "text": "[-369.8572265 -374.8672265 -377.4602265 ... -376.2642265 -384.3482265\n -381.8202265] kpc\n(array([], dtype=int64),)\n[nan nan nan] km / s\n"
      },
      {
       "name": "stderr",
       "output_type": "stream",
       "text": "/anaconda3/lib/python3.6/site-packages/ipykernel_launcher.py:35: RuntimeWarning: invalid value encountered in double_scalars\n/anaconda3/lib/python3.6/site-packages/ipykernel_launcher.py:37: RuntimeWarning: invalid value encountered in double_scalars\n/anaconda3/lib/python3.6/site-packages/ipykernel_launcher.py:39: RuntimeWarning: invalid value encountered in double_scalars\n"
      }
     ],
     "persistentId": "69daf229-8f48-4d35-a241-46e3fe8889c2",
     "text": "M31_COMV = M31COM.COM_V(MW_COMP[0], MW_COMP[1], MW_COMP[2])\nprint(M31_COMV)"
    },
    "executionTime": "2020-02-12T04:48:19.339Z"
   },
   {
    "cell": {
     "executionCount": 113,
     "executionEventId": "ae3fdf4f-1060-4811-bf44-2b609827a70c",
     "hasError": false,
     "id": "15a7c55c-5293-4deb-b861-0c326e14d523",
     "outputs": [],
     "persistentId": "3f3a5cb8-663d-4322-a77a-bde24cf50cec",
     "text": "class CenterOfMass:\n# Class to define COM position and velocity properties of a given galaxy \n# and simulation snapshot\n    \n    \n    def __init__(self, filename, ptype):\n    # Initialize the instance of this Class with the following properties:\n    \n        # read data in the given file using Read\n        self.time, self.total, self.data = Read(filename)                                                                                             \n\n        #create an array to store indexes of particles of desired Ptype                                \n        self.index = np.where(self.data['type'] == ptype)\n\n        # store the mass, positions, velocities of only the particles of the given type\n        # the following only gives the example of storing the mass\n        # self.m = self.data['m'][self.index]\n        # write your own code to complete this for positions and velocities\n        self.m = self.data['m'][self.index]\n        self.x = self.data['x'][self.index]\n        self.y = self.data['y'][self.index]\n        self.z = self.data['z'][self.index]\n        self.vx = self.data['vx'][self.index]\n        self.vy = self.data['vy'][self.index]\n        self.vz = self.data['vz'][self.index]\n\n\n    def COMdefine(self,a,b,c,m):\n    # Function to compute the center of mass position or velocity generically\n    # input: array (a,b,c) of positions or velocities and the mass\n    # returns: 3 floats  (the center of mass coordinates)\n\n        # write your own code to compute the generic COM using Eq. 1 in the homework instructions\n        # xcomponent Center of mass\n        Acom = np.sum(a*m)/np.sum(m)\n        # ycomponent Center of mass\n        Bcom = np.sum(b*m)/np.sum(m)\n        # zcomponent Center of mass\n        Ccom = np.sum(c*m)/np.sum(m)\n        \n        return Acom, Bcom, Ccom\n    \n    \n    def COM_P(self, delta):\n    # Function to specifically return the center of mass position and velocity                                         \n    # input:                                                                                                           \n    #        particle type (1,2,3)                                                                                     \n    #        delta (tolerance)                                                                                         \n    # returns: One vector, with rows indicating:                                                                                                                                                                            \n    #       3D coordinates of the center of mass position (kpc)                                                             \n\n        # Center of Mass Position                                                                                      \n        ###########################                                                                                    \n\n        # Try a first guess at the COM position by calling COMdefine                                                   \n        XCOM, YCOM, ZCOM = self.COMdefine(self.x, self.y, self.z, self.m)\n        # compute the magnitude of the COM position vector.\n        # write your own code below\n        RCOM = np.sqrt(XCOM**2+YCOM**2+ZCOM**2)\n\n        # iterative process to determine the center of mass                                                            \n\n        # change reference frame to COM frame                                                                          \n        # compute the difference between particle coordinates                                                          \n        # and the first guess at COM position\n        # write your own code below\n        xNew = self.x - XCOM\n        yNew = self.y - YCOM\n        zNew = self.z - ZCOM\n        RNEW = np.sqrt(self.x**2+self.y**2+self.z**2) - RCOM\n\n        # find the max 3D distance of all particles from the guessed COM                                               \n        # will re-start at half that radius (reduced radius)                                                           \n        RMAX = max(RNEW)/2.0\n        \n        # pick an initial value for the change in COM position                                                      \n        # between the first guess above and the new one computed from half that volume\n        # it should be larger than the input tolerance (delta) initially\n        CHANGE = 1000.0\n\n        # start iterative process to determine center of mass position                                                 \n        # delta is the tolerance for the difference in the old COM and the new one.    \n        \n        while (CHANGE > delta):\n            # select all particles within the reduced radius (starting from original x,y,z, m)\n            # write your own code below (hints, use np.where)\n            index2 = np.where(np.sqrt(xNew**2+yNew**2+zNew**2) <= RMAX)\n            x2 = self.data['x'][index2]\n            y2 = self.data['y'][index2]\n            z2 = self.data['z'][index2]\n            m2 = self.data['m'][index2]\n\n            # Refined COM position:                                                                                    \n            # compute the center of mass position using                                                                \n            # the particles in the reduced radius\n            # write your own code below\n            XCOM2, YCOM2, ZCOM2 = self.COMdefine(x2, y2, z2, m2)\n            # compute the new 3D COM position\n            # write your own code below\n            RCOM2 = np.sqrt(XCOM2**2+YCOM2**2+ZCOM2**2)\n            # determine the difference between the previous center of mass position                                    \n            # and the new one.                                                                                         \n            CHANGE = np.abs(RCOM - RCOM2)\n\n            # uncomment the following line if you wnat to check this                                                                                               \n            # print (\"CHANGE = \", CHANGE)                                                                                     \n\n            # Before loop continues, reset : RMAX, particle separations and COM                                        \n\n            # reduce the volume by a factor of 2 again                                                                 \n            RMAX = RMAX/2.0\n            # check this.                                                                                              \n            #print (\"maxR\", RMAX)                                                                                      \n\n            # Change the frame of reference to the newly computed COM.                                                 \n            # subtract the new COM\n            # write your own code below\n            xNew = self.data['x'] - XCOM2\n            yNew = self.data['y'] - YCOM2\n            zNew = self.data['z'] - ZCOM2\n            RNEW = np.sqrt(x2**2+y2**2+z2**2) - RCOM2\n\n            # set the center of mass positions to the refined values                                                   \n            XCOM = XCOM2\n            YCOM = YCOM2\n            ZCOM = ZCOM2\n            RCOM = RCOM2\n\n            # create a vector to store the COM position                                                                                                                                                       \n            COMP = [XCOM, YCOM, ZCOM]\n\n        # set the correct units using astropy and round all values\n        # and then return the COM positon vector\n        # write your own code below\n        \n        XCOM = XCOM*u.kpc\n        YCOM = YCOM*u.kpc\n        ZCOM = ZCOM*u.kpc\n        COMP = COMP*u.kpc\n    \n        return COMP\n\n    def COM_V(self, COMX,COMY,COMZ):\n        # Center of Mass velocity\n        # input: X, Y, Z positions of the COM\n        # returns 3D Vector of COM Velocities\n        \n        # the max distance from the center that we will use to determine the center of mass velocity                   \n        RVMAX = 15.0*u.kpc\n\n        # determine the position of all particles relative to the center of mass position\n        # write your own code below\n        xV = self.x*u.kpc - COMX\n        yV = self.y*u.kpc - COMY\n        zV = self.z*u.kpc - COMZ\n        RV = np.sqrt(xV**2+yV**2+zV**2)\n        print(RV)\n        min(RV)\n        \n        \n        # determine the index for those particles within the max radius\n        # write your own code below\n        indexV = np.where(RV < RVMAX)\n        print(indexV)\n        \n        # determine the velocity and mass of those particles within the mas radius\n        # write your own code below\n        vxnew = self.data['vx'][indexV]\n        vynew = self.data['vy'][indexV]\n        vznew = self.data['vz'][indexV]\n        mnew = self.data['m'][indexV]  \n        \n        \n        # compute the center of mass velocity using those particles\n        # write your own code below\n        VXCOM, VYCOM, VZCOM = self.COMdefine(vxnew, vynew, vznew, mnew)\n\n        # create a vector to store the COM velocity\n        # set the correct units usint astropy\n        # round all values\n        # write your own code below\n        COMV = [VXCOM, VYCOM, VZCOM]*u.km/u.s\n\n        # return the COM vector                                                                                        \n        return COMV"
    },
    "executionTime": "2020-02-12T04:49:03.874Z"
   },
   {
    "cell": {
     "executionCount": 114,
     "executionEventId": "c642e582-5536-45aa-b998-7794c09a1e3b",
     "hasError": false,
     "id": "f701bbb1-527f-499d-96c1-c318cffd4b81",
     "outputs": [],
     "persistentId": "966ff13b-1221-44fb-ac73-7a97eddb14fb",
     "text": "# now write your own code to answer questions\nM31COM = CenterOfMass(\"M31_000.txt\", 2)\nM31_COMP = M31COM.COM_P(0.1)"
    },
    "executionTime": "2020-02-12T04:49:12.240Z"
   },
   {
    "cell": {
     "executionCount": 115,
     "executionEventId": "bf615142-ba5b-4136-84f1-db019d5456d5",
     "hasError": false,
     "id": "0e9f9245-ed8e-4b46-a336-0172f5c80435",
     "outputs": [
      {
       "name": "stdout",
       "output_type": "stream",
       "text": "[760.26185207 768.16084844 769.30234259 ... 769.12231768 751.39243008\n 779.63264716] kpc\n(array([], dtype=int64),)\n[nan nan nan] km / s\n"
      },
      {
       "name": "stderr",
       "output_type": "stream",
       "text": "/anaconda3/lib/python3.6/site-packages/ipykernel_launcher.py:35: RuntimeWarning: invalid value encountered in double_scalars\n/anaconda3/lib/python3.6/site-packages/ipykernel_launcher.py:37: RuntimeWarning: invalid value encountered in double_scalars\n/anaconda3/lib/python3.6/site-packages/ipykernel_launcher.py:39: RuntimeWarning: invalid value encountered in double_scalars\n"
      }
     ],
     "persistentId": "69daf229-8f48-4d35-a241-46e3fe8889c2",
     "text": "M31_COMV = M31COM.COM_V(MW_COMP[0], MW_COMP[1], MW_COMP[2])\nprint(M31_COMV)"
    },
    "executionTime": "2020-02-12T04:49:15.186Z"
   },
   {
    "cell": {
     "executionCount": 116,
     "executionEventId": "0f956509-e578-4356-9159-1890ea9c15ff",
     "hasError": false,
     "id": "15a7c55c-5293-4deb-b861-0c326e14d523",
     "outputs": [],
     "persistentId": "3f3a5cb8-663d-4322-a77a-bde24cf50cec",
     "text": "class CenterOfMass:\n# Class to define COM position and velocity properties of a given galaxy \n# and simulation snapshot\n    \n    \n    def __init__(self, filename, ptype):\n    # Initialize the instance of this Class with the following properties:\n    \n        # read data in the given file using Read\n        self.time, self.total, self.data = Read(filename)                                                                                             \n\n        #create an array to store indexes of particles of desired Ptype                                \n        self.index = np.where(self.data['type'] == ptype)\n\n        # store the mass, positions, velocities of only the particles of the given type\n        # the following only gives the example of storing the mass\n        # self.m = self.data['m'][self.index]\n        # write your own code to complete this for positions and velocities\n        self.m = self.data['m'][self.index]\n        self.x = self.data['x'][self.index]\n        self.y = self.data['y'][self.index]\n        self.z = self.data['z'][self.index]\n        self.vx = self.data['vx'][self.index]\n        self.vy = self.data['vy'][self.index]\n        self.vz = self.data['vz'][self.index]\n\n\n    def COMdefine(self,a,b,c,m):\n    # Function to compute the center of mass position or velocity generically\n    # input: array (a,b,c) of positions or velocities and the mass\n    # returns: 3 floats  (the center of mass coordinates)\n\n        # write your own code to compute the generic COM using Eq. 1 in the homework instructions\n        # xcomponent Center of mass\n        Acom = np.sum(a*m)/np.sum(m)\n        # ycomponent Center of mass\n        Bcom = np.sum(b*m)/np.sum(m)\n        # zcomponent Center of mass\n        Ccom = np.sum(c*m)/np.sum(m)\n        \n        return Acom, Bcom, Ccom\n    \n    \n    def COM_P(self, delta):\n    # Function to specifically return the center of mass position and velocity                                         \n    # input:                                                                                                           \n    #        particle type (1,2,3)                                                                                     \n    #        delta (tolerance)                                                                                         \n    # returns: One vector, with rows indicating:                                                                                                                                                                            \n    #       3D coordinates of the center of mass position (kpc)                                                             \n\n        # Center of Mass Position                                                                                      \n        ###########################                                                                                    \n\n        # Try a first guess at the COM position by calling COMdefine                                                   \n        XCOM, YCOM, ZCOM = self.COMdefine(self.x, self.y, self.z, self.m)\n        # compute the magnitude of the COM position vector.\n        # write your own code below\n        RCOM = np.sqrt(XCOM**2+YCOM**2+ZCOM**2)\n\n        # iterative process to determine the center of mass                                                            \n\n        # change reference frame to COM frame                                                                          \n        # compute the difference between particle coordinates                                                          \n        # and the first guess at COM position\n        # write your own code below\n        xNew = self.x - XCOM\n        yNew = self.y - YCOM\n        zNew = self.z - ZCOM\n        RNEW = np.sqrt(self.x**2+self.y**2+self.z**2) - RCOM\n\n        # find the max 3D distance of all particles from the guessed COM                                               \n        # will re-start at half that radius (reduced radius)                                                           \n        RMAX = max(RNEW)/2.0\n        \n        # pick an initial value for the change in COM position                                                      \n        # between the first guess above and the new one computed from half that volume\n        # it should be larger than the input tolerance (delta) initially\n        CHANGE = 1000.0\n\n        # start iterative process to determine center of mass position                                                 \n        # delta is the tolerance for the difference in the old COM and the new one.    \n        \n        while (CHANGE > delta):\n            # select all particles within the reduced radius (starting from original x,y,z, m)\n            # write your own code below (hints, use np.where)\n            index2 = np.where(np.sqrt(xNew**2+yNew**2+zNew**2) <= RMAX)\n            x2 = self.data['x'][index2]\n            y2 = self.data['y'][index2]\n            z2 = self.data['z'][index2]\n            m2 = self.data['m'][index2]\n\n            # Refined COM position:                                                                                    \n            # compute the center of mass position using                                                                \n            # the particles in the reduced radius\n            # write your own code below\n            XCOM2, YCOM2, ZCOM2 = self.COMdefine(x2, y2, z2, m2)\n            # compute the new 3D COM position\n            # write your own code below\n            RCOM2 = np.sqrt(XCOM2**2+YCOM2**2+ZCOM2**2)\n            # determine the difference between the previous center of mass position                                    \n            # and the new one.                                                                                         \n            CHANGE = np.abs(RCOM - RCOM2)\n\n            # uncomment the following line if you wnat to check this                                                                                               \n            # print (\"CHANGE = \", CHANGE)                                                                                     \n\n            # Before loop continues, reset : RMAX, particle separations and COM                                        \n\n            # reduce the volume by a factor of 2 again                                                                 \n            RMAX = RMAX/2.0\n            # check this.                                                                                              \n            #print (\"maxR\", RMAX)                                                                                      \n\n            # Change the frame of reference to the newly computed COM.                                                 \n            # subtract the new COM\n            # write your own code below\n            xNew = self.data['x'] - XCOM2\n            yNew = self.data['y'] - YCOM2\n            zNew = self.data['z'] - ZCOM2\n            RNEW = np.sqrt(x2**2+y2**2+z2**2) - RCOM2\n\n            # set the center of mass positions to the refined values                                                   \n            XCOM = XCOM2\n            YCOM = YCOM2\n            ZCOM = ZCOM2\n            RCOM = RCOM2\n\n            # create a vector to store the COM position                                                                                                                                                       \n            COMP = [XCOM, YCOM, ZCOM]\n\n        # set the correct units using astropy and round all values\n        # and then return the COM positon vector\n        # write your own code below\n        \n        XCOM = XCOM*u.kpc\n        YCOM = YCOM*u.kpc\n        ZCOM = ZCOM*u.kpc\n        COMP = COMP*u.kpc\n    \n        return COMP\n\n    def COM_V(self, COMX,COMY,COMZ):\n        # Center of Mass velocity\n        # input: X, Y, Z positions of the COM\n        # returns 3D Vector of COM Velocities\n        \n        # the max distance from the center that we will use to determine the center of mass velocity                   \n        RVMAX = 15.0*u.kpc\n\n        # determine the position of all particles relative to the center of mass position\n        # write your own code below\n        xV = self.x*u.kpc - COMX\n        yV = self.y*u.kpc - COMY\n        zV = self.z*u.kpc - COMZ\n        RV = np.sqrt(xV**2+yV**2+zV**2)\n        print(RV)\n        print(min(RV))\n        \n        \n        # determine the index for those particles within the max radius\n        # write your own code below\n        indexV = np.where(RV < RVMAX)\n        print(indexV)\n        \n        # determine the velocity and mass of those particles within the mas radius\n        # write your own code below\n        vxnew = self.data['vx'][indexV]\n        vynew = self.data['vy'][indexV]\n        vznew = self.data['vz'][indexV]\n        mnew = self.data['m'][indexV]  \n        \n        \n        # compute the center of mass velocity using those particles\n        # write your own code below\n        VXCOM, VYCOM, VZCOM = self.COMdefine(vxnew, vynew, vznew, mnew)\n\n        # create a vector to store the COM velocity\n        # set the correct units usint astropy\n        # round all values\n        # write your own code below\n        COMV = [VXCOM, VYCOM, VZCOM]*u.km/u.s\n\n        # return the COM vector                                                                                        \n        return COMV"
    },
    "executionTime": "2020-02-12T04:49:39.356Z"
   },
   {
    "cell": {
     "executionCount": 117,
     "executionEventId": "5d3befa9-b1b7-420d-9343-a8838071e048",
     "hasError": false,
     "id": "f701bbb1-527f-499d-96c1-c318cffd4b81",
     "outputs": [],
     "persistentId": "966ff13b-1221-44fb-ac73-7a97eddb14fb",
     "text": "# now write your own code to answer questions\nM31COM = CenterOfMass(\"M31_000.txt\", 2)\nM31_COMP = M31COM.COM_P(0.1)"
    },
    "executionTime": "2020-02-12T04:49:48.356Z"
   },
   {
    "cell": {
     "executionCount": 118,
     "executionEventId": "8976eb86-e0ca-4c67-8f34-2142b1137929",
     "hasError": false,
     "id": "0e9f9245-ed8e-4b46-a336-0172f5c80435",
     "outputs": [
      {
       "name": "stdout",
       "output_type": "stream",
       "text": "[760.26185207 768.16084844 769.30234259 ... 769.12231768 751.39243008\n 779.63264716] kpc\n715.444521688977 kpc\n(array([], dtype=int64),)\n[nan nan nan] km / s\n"
      },
      {
       "name": "stderr",
       "output_type": "stream",
       "text": "/anaconda3/lib/python3.6/site-packages/ipykernel_launcher.py:35: RuntimeWarning: invalid value encountered in double_scalars\n/anaconda3/lib/python3.6/site-packages/ipykernel_launcher.py:37: RuntimeWarning: invalid value encountered in double_scalars\n/anaconda3/lib/python3.6/site-packages/ipykernel_launcher.py:39: RuntimeWarning: invalid value encountered in double_scalars\n"
      }
     ],
     "persistentId": "69daf229-8f48-4d35-a241-46e3fe8889c2",
     "text": "M31_COMV = M31COM.COM_V(MW_COMP[0], MW_COMP[1], MW_COMP[2])\nprint(M31_COMV)"
    },
    "executionTime": "2020-02-12T04:49:50.861Z"
   },
   {
    "cell": {
     "executionCount": 119,
     "executionEventId": "7bdb12ef-7d8a-45d0-9fb6-abe9513351ac",
     "hasError": false,
     "id": "15a7c55c-5293-4deb-b861-0c326e14d523",
     "outputs": [],
     "persistentId": "3f3a5cb8-663d-4322-a77a-bde24cf50cec",
     "text": "class CenterOfMass:\n# Class to define COM position and velocity properties of a given galaxy \n# and simulation snapshot\n    \n    \n    def __init__(self, filename, ptype):\n    # Initialize the instance of this Class with the following properties:\n    \n        # read data in the given file using Read\n        self.time, self.total, self.data = Read(filename)                                                                                             \n\n        #create an array to store indexes of particles of desired Ptype                                \n        self.index = np.where(self.data['type'] == ptype)\n\n        # store the mass, positions, velocities of only the particles of the given type\n        # the following only gives the example of storing the mass\n        # self.m = self.data['m'][self.index]\n        # write your own code to complete this for positions and velocities\n        self.m = self.data['m'][self.index]\n        self.x = self.data['x'][self.index]\n        self.y = self.data['y'][self.index]\n        self.z = self.data['z'][self.index]\n        self.vx = self.data['vx'][self.index]\n        self.vy = self.data['vy'][self.index]\n        self.vz = self.data['vz'][self.index]\n\n\n    def COMdefine(self,a,b,c,m):\n    # Function to compute the center of mass position or velocity generically\n    # input: array (a,b,c) of positions or velocities and the mass\n    # returns: 3 floats  (the center of mass coordinates)\n\n        # write your own code to compute the generic COM using Eq. 1 in the homework instructions\n        # xcomponent Center of mass\n        Acom = np.sum(a*m)/np.sum(m)\n        # ycomponent Center of mass\n        Bcom = np.sum(b*m)/np.sum(m)\n        # zcomponent Center of mass\n        Ccom = np.sum(c*m)/np.sum(m)\n        \n        return Acom, Bcom, Ccom\n    \n    \n    def COM_P(self, delta):\n    # Function to specifically return the center of mass position and velocity                                         \n    # input:                                                                                                           \n    #        particle type (1,2,3)                                                                                     \n    #        delta (tolerance)                                                                                         \n    # returns: One vector, with rows indicating:                                                                                                                                                                            \n    #       3D coordinates of the center of mass position (kpc)                                                             \n\n        # Center of Mass Position                                                                                      \n        ###########################                                                                                    \n\n        # Try a first guess at the COM position by calling COMdefine                                                   \n        XCOM, YCOM, ZCOM = self.COMdefine(self.x, self.y, self.z, self.m)\n        # compute the magnitude of the COM position vector.\n        # write your own code below\n        RCOM = np.sqrt(XCOM**2+YCOM**2+ZCOM**2)\n\n        # iterative process to determine the center of mass                                                            \n\n        # change reference frame to COM frame                                                                          \n        # compute the difference between particle coordinates                                                          \n        # and the first guess at COM position\n        # write your own code below\n        xNew = self.x - XCOM\n        yNew = self.y - YCOM\n        zNew = self.z - ZCOM\n        RNEW = np.sqrt(self.x**2+self.y**2+self.z**2) - RCOM\n\n        # find the max 3D distance of all particles from the guessed COM                                               \n        # will re-start at half that radius (reduced radius)                                                           \n        RMAX = max(RNEW)/2.0\n        \n        # pick an initial value for the change in COM position                                                      \n        # between the first guess above and the new one computed from half that volume\n        # it should be larger than the input tolerance (delta) initially\n        CHANGE = 1000.0\n\n        # start iterative process to determine center of mass position                                                 \n        # delta is the tolerance for the difference in the old COM and the new one.    \n        \n        while (CHANGE > delta):\n            # select all particles within the reduced radius (starting from original x,y,z, m)\n            # write your own code below (hints, use np.where)\n            index2 = np.where(np.sqrt(xNew**2+yNew**2+zNew**2) <= RMAX)\n            x2 = self.data['x'][index2]\n            y2 = self.data['y'][index2]\n            z2 = self.data['z'][index2]\n            m2 = self.data['m'][index2]\n\n            # Refined COM position:                                                                                    \n            # compute the center of mass position using                                                                \n            # the particles in the reduced radius\n            # write your own code below\n            XCOM2, YCOM2, ZCOM2 = self.COMdefine(x2, y2, z2, m2)\n            # compute the new 3D COM position\n            # write your own code below\n            RCOM2 = np.sqrt(XCOM2**2+YCOM2**2+ZCOM2**2)\n            # determine the difference between the previous center of mass position                                    \n            # and the new one.                                                                                         \n            CHANGE = np.abs(RCOM - RCOM2)\n\n            # uncomment the following line if you wnat to check this                                                                                               \n            # print (\"CHANGE = \", CHANGE)                                                                                     \n\n            # Before loop continues, reset : RMAX, particle separations and COM                                        \n\n            # reduce the volume by a factor of 2 again                                                                 \n            RMAX = RMAX/2.0\n            # check this.                                                                                              \n            #print (\"maxR\", RMAX)                                                                                      \n\n            # Change the frame of reference to the newly computed COM.                                                 \n            # subtract the new COM\n            # write your own code below\n            xNew = self.data['x'] - XCOM2\n            yNew = self.data['y'] - YCOM2\n            zNew = self.data['z'] - ZCOM2\n            RNEW = np.sqrt(x2**2+y2**2+z2**2) - RCOM2\n\n            # set the center of mass positions to the refined values                                                   \n            XCOM = XCOM2\n            YCOM = YCOM2\n            ZCOM = ZCOM2\n            RCOM = RCOM2\n\n            # create a vector to store the COM position                                                                                                                                                       \n            COMP = [XCOM, YCOM, ZCOM]\n\n        # set the correct units using astropy and round all values\n        # and then return the COM positon vector\n        # write your own code below\n        \n        XCOM = XCOM*u.kpc\n        YCOM = YCOM*u.kpc\n        ZCOM = ZCOM*u.kpc\n        COMP = COMP*u.kpc\n    \n        return COMP\n\n    def COM_V(self, COMX,COMY,COMZ):\n        # Center of Mass velocity\n        # input: X, Y, Z positions of the COM\n        # returns 3D Vector of COM Velocities\n        \n        # the max distance from the center that we will use to determine the center of mass velocity                   \n        RVMAX = 15.0*u.kpc\n\n        # determine the position of all particles relative to the center of mass position\n        # write your own code below\n        xV = self.x*u.kpc - COMX\n        print(self.x)\n        print(min(self.x))\n        yV = self.y*u.kpc - COMY\n        zV = self.z*u.kpc - COMZ\n        RV = np.sqrt(xV**2+yV**2+zV**2)\n        print(RV)\n        print(min(RV))\n        \n        \n        # determine the index for those particles within the max radius\n        # write your own code below\n        indexV = np.where(RV < RVMAX)\n        print(indexV)\n        \n        # determine the velocity and mass of those particles within the mas radius\n        # write your own code below\n        vxnew = self.data['vx'][indexV]\n        vynew = self.data['vy'][indexV]\n        vznew = self.data['vz'][indexV]\n        mnew = self.data['m'][indexV]  \n        \n        \n        # compute the center of mass velocity using those particles\n        # write your own code below\n        VXCOM, VYCOM, VZCOM = self.COMdefine(vxnew, vynew, vznew, mnew)\n\n        # create a vector to store the COM velocity\n        # set the correct units usint astropy\n        # round all values\n        # write your own code below\n        COMV = [VXCOM, VYCOM, VZCOM]*u.km/u.s\n\n        # return the COM vector                                                                                        \n        return COMV"
    },
    "executionTime": "2020-02-12T04:51:35.008Z"
   },
   {
    "cell": {
     "executionCount": 120,
     "executionEventId": "24f65aee-0644-4fa6-9e6b-7a865e229395",
     "hasError": false,
     "id": "f701bbb1-527f-499d-96c1-c318cffd4b81",
     "outputs": [
      {
       "name": "stdout",
       "output_type": "stream",
       "text": "[-377.02855002  610.99638282 -284.49859804] kpc\n"
      }
     ],
     "persistentId": "966ff13b-1221-44fb-ac73-7a97eddb14fb",
     "text": "# now write your own code to answer questions\nM31COM = CenterOfMass(\"M31_000.txt\", 2)\nM31_COMP = M31COM.COM_P(0.1)\nprint(M31_COMP)"
    },
    "executionTime": "2020-02-12T04:51:49.758Z"
   },
   {
    "cell": {
     "executionCount": 121,
     "executionEventId": "4bfc522a-b0ae-446c-b21d-f7ab59e20567",
     "hasError": false,
     "id": "0e9f9245-ed8e-4b46-a336-0172f5c80435",
     "outputs": [
      {
       "name": "stdout",
       "output_type": "stream",
       "text": "[-371.905 -376.915 -379.508 ... -378.312 -386.396 -383.868]\n-435.235\n[760.26185207 768.16084844 769.30234259 ... 769.12231768 751.39243008\n 779.63264716] kpc\n715.444521688977 kpc\n(array([], dtype=int64),)\n[nan nan nan] km / s\n"
      },
      {
       "name": "stderr",
       "output_type": "stream",
       "text": "/anaconda3/lib/python3.6/site-packages/ipykernel_launcher.py:35: RuntimeWarning: invalid value encountered in double_scalars\n/anaconda3/lib/python3.6/site-packages/ipykernel_launcher.py:37: RuntimeWarning: invalid value encountered in double_scalars\n/anaconda3/lib/python3.6/site-packages/ipykernel_launcher.py:39: RuntimeWarning: invalid value encountered in double_scalars\n"
      }
     ],
     "persistentId": "69daf229-8f48-4d35-a241-46e3fe8889c2",
     "text": "M31_COMV = M31COM.COM_V(MW_COMP[0], MW_COMP[1], MW_COMP[2])\nprint(M31_COMV)"
    },
    "executionTime": "2020-02-12T04:51:56.543Z"
   },
   {
    "cell": {
     "executionCount": 122,
     "executionEventId": "d980507e-5fb6-422c-88d5-362fe7023fa9",
     "hasError": false,
     "id": "15a7c55c-5293-4deb-b861-0c326e14d523",
     "outputs": [],
     "persistentId": "3f3a5cb8-663d-4322-a77a-bde24cf50cec",
     "text": "class CenterOfMass:\n# Class to define COM position and velocity properties of a given galaxy \n# and simulation snapshot\n    \n    \n    def __init__(self, filename, ptype):\n    # Initialize the instance of this Class with the following properties:\n    \n        # read data in the given file using Read\n        self.time, self.total, self.data = Read(filename)                                                                                             \n\n        #create an array to store indexes of particles of desired Ptype                                \n        self.index = np.where(self.data['type'] == ptype)\n\n        # store the mass, positions, velocities of only the particles of the given type\n        # the following only gives the example of storing the mass\n        # self.m = self.data['m'][self.index]\n        # write your own code to complete this for positions and velocities\n        self.m = self.data['m'][self.index]\n        self.x = self.data['x'][self.index]\n        self.y = self.data['y'][self.index]\n        self.z = self.data['z'][self.index]\n        self.vx = self.data['vx'][self.index]\n        self.vy = self.data['vy'][self.index]\n        self.vz = self.data['vz'][self.index]\n\n\n    def COMdefine(self,a,b,c,m):\n    # Function to compute the center of mass position or velocity generically\n    # input: array (a,b,c) of positions or velocities and the mass\n    # returns: 3 floats  (the center of mass coordinates)\n\n        # write your own code to compute the generic COM using Eq. 1 in the homework instructions\n        # xcomponent Center of mass\n        Acom = np.sum(a*m)/np.sum(m)\n        # ycomponent Center of mass\n        Bcom = np.sum(b*m)/np.sum(m)\n        # zcomponent Center of mass\n        Ccom = np.sum(c*m)/np.sum(m)\n        \n        return Acom, Bcom, Ccom\n    \n    \n    def COM_P(self, delta):\n    # Function to specifically return the center of mass position and velocity                                         \n    # input:                                                                                                           \n    #        particle type (1,2,3)                                                                                     \n    #        delta (tolerance)                                                                                         \n    # returns: One vector, with rows indicating:                                                                                                                                                                            \n    #       3D coordinates of the center of mass position (kpc)                                                             \n\n        # Center of Mass Position                                                                                      \n        ###########################                                                                                    \n\n        # Try a first guess at the COM position by calling COMdefine                                                   \n        XCOM, YCOM, ZCOM = self.COMdefine(self.x, self.y, self.z, self.m)\n        # compute the magnitude of the COM position vector.\n        # write your own code below\n        RCOM = np.sqrt(XCOM**2+YCOM**2+ZCOM**2)\n\n        # iterative process to determine the center of mass                                                            \n\n        # change reference frame to COM frame                                                                          \n        # compute the difference between particle coordinates                                                          \n        # and the first guess at COM position\n        # write your own code below\n        xNew = self.x - XCOM\n        yNew = self.y - YCOM\n        zNew = self.z - ZCOM\n        RNEW = np.sqrt(self.x**2+self.y**2+self.z**2) - RCOM\n\n        # find the max 3D distance of all particles from the guessed COM                                               \n        # will re-start at half that radius (reduced radius)                                                           \n        RMAX = max(RNEW)/2.0\n        \n        # pick an initial value for the change in COM position                                                      \n        # between the first guess above and the new one computed from half that volume\n        # it should be larger than the input tolerance (delta) initially\n        CHANGE = 1000.0\n\n        # start iterative process to determine center of mass position                                                 \n        # delta is the tolerance for the difference in the old COM and the new one.    \n        \n        while (CHANGE > delta):\n            # select all particles within the reduced radius (starting from original x,y,z, m)\n            # write your own code below (hints, use np.where)\n            index2 = np.where(np.sqrt(xNew**2+yNew**2+zNew**2) <= RMAX)\n            x2 = self.data['x'][index2]\n            y2 = self.data['y'][index2]\n            z2 = self.data['z'][index2]\n            m2 = self.data['m'][index2]\n\n            # Refined COM position:                                                                                    \n            # compute the center of mass position using                                                                \n            # the particles in the reduced radius\n            # write your own code below\n            XCOM2, YCOM2, ZCOM2 = self.COMdefine(x2, y2, z2, m2)\n            # compute the new 3D COM position\n            # write your own code below\n            RCOM2 = np.sqrt(XCOM2**2+YCOM2**2+ZCOM2**2)\n            # determine the difference between the previous center of mass position                                    \n            # and the new one.                                                                                         \n            CHANGE = np.abs(RCOM - RCOM2)\n\n            # uncomment the following line if you wnat to check this                                                                                               \n            # print (\"CHANGE = \", CHANGE)                                                                                     \n\n            # Before loop continues, reset : RMAX, particle separations and COM                                        \n\n            # reduce the volume by a factor of 2 again                                                                 \n            RMAX = RMAX/2.0\n            # check this.                                                                                              \n            #print (\"maxR\", RMAX)                                                                                      \n\n            # Change the frame of reference to the newly computed COM.                                                 \n            # subtract the new COM\n            # write your own code below\n            xNew = self.data['x'] - XCOM2\n            yNew = self.data['y'] - YCOM2\n            zNew = self.data['z'] - ZCOM2\n            RNEW = np.sqrt(x2**2+y2**2+z2**2) - RCOM2\n\n            # set the center of mass positions to the refined values                                                   \n            XCOM = XCOM2\n            YCOM = YCOM2\n            ZCOM = ZCOM2\n            RCOM = RCOM2\n\n            # create a vector to store the COM position                                                                                                                                                       \n            COMP = [XCOM, YCOM, ZCOM]\n\n        # set the correct units using astropy and round all values\n        # and then return the COM positon vector\n        # write your own code below\n        \n        XCOM = XCOM*u.kpc\n        YCOM = YCOM*u.kpc\n        ZCOM = ZCOM*u.kpc\n        COMP = COMP*u.kpc\n    \n        return COMP\n\n    def COM_V(self, COMX,COMY,COMZ):\n        # Center of Mass velocity\n        # input: X, Y, Z positions of the COM\n        # returns 3D Vector of COM Velocities\n        \n        # the max distance from the center that we will use to determine the center of mass velocity                   \n        RVMAX = 15.0*u.kpc\n\n        # determine the position of all particles relative to the center of mass position\n        # write your own code below\n        xV = self.x*u.kpc - COMX\n        print(min(xV))\n        yV = self.y*u.kpc - COMY\n        print(min(yV))\n        zV = self.z*u.kpc - COMZ\n        print(min(zV))\n        RV = np.sqrt(xV**2+yV**2+zV**2)\n        \n        \n        # determine the index for those particles within the max radius\n        # write your own code below\n        indexV = np.where(RV < RVMAX)\n        print(indexV)\n        \n        # determine the velocity and mass of those particles within the mas radius\n        # write your own code below\n        vxnew = self.data['vx'][indexV]\n        vynew = self.data['vy'][indexV]\n        vznew = self.data['vz'][indexV]\n        mnew = self.data['m'][indexV]  \n        \n        \n        # compute the center of mass velocity using those particles\n        # write your own code below\n        VXCOM, VYCOM, VZCOM = self.COMdefine(vxnew, vynew, vznew, mnew)\n\n        # create a vector to store the COM velocity\n        # set the correct units usint astropy\n        # round all values\n        # write your own code below\n        COMV = [VXCOM, VYCOM, VZCOM]*u.km/u.s\n\n        # return the COM vector                                                                                        \n        return COMV"
    },
    "executionTime": "2020-02-12T04:53:12.952Z"
   },
   {
    "cell": {
     "executionCount": 123,
     "executionEventId": "300ec87e-b50c-4a12-9e52-641e7d1b3a7e",
     "hasError": false,
     "id": "f701bbb1-527f-499d-96c1-c318cffd4b81",
     "outputs": [
      {
       "name": "stdout",
       "output_type": "stream",
       "text": "[-377.02855002  610.99638282 -284.49859804] kpc\n"
      }
     ],
     "persistentId": "966ff13b-1221-44fb-ac73-7a97eddb14fb",
     "text": "# now write your own code to answer questions\nM31COM = CenterOfMass(\"M31_000.txt\", 2)\nM31_COMP = M31COM.COM_P(0.1)\nprint(M31_COMP)"
    },
    "executionTime": "2020-02-12T04:53:19.297Z"
   },
   {
    "cell": {
     "executionCount": 124,
     "executionEventId": "7d4cf3ee-e9c2-4f6d-8ad4-ecbcfe1d1487",
     "hasError": false,
     "id": "0e9f9245-ed8e-4b46-a336-0172f5c80435",
     "outputs": [
      {
       "name": "stdout",
       "output_type": "stream",
       "text": "-433.18722649685543 kpc\n570.2999334334842 kpc\n-334.16444727132927 kpc\n(array([], dtype=int64),)\n[nan nan nan] km / s\n"
      },
      {
       "name": "stderr",
       "output_type": "stream",
       "text": "/anaconda3/lib/python3.6/site-packages/ipykernel_launcher.py:35: RuntimeWarning: invalid value encountered in double_scalars\n/anaconda3/lib/python3.6/site-packages/ipykernel_launcher.py:37: RuntimeWarning: invalid value encountered in double_scalars\n/anaconda3/lib/python3.6/site-packages/ipykernel_launcher.py:39: RuntimeWarning: invalid value encountered in double_scalars\n"
      }
     ],
     "persistentId": "69daf229-8f48-4d35-a241-46e3fe8889c2",
     "text": "M31_COMV = M31COM.COM_V(MW_COMP[0], MW_COMP[1], MW_COMP[2])\nprint(M31_COMV)"
    },
    "executionTime": "2020-02-12T04:53:25.617Z"
   },
   {
    "cell": {
     "executionCount": 125,
     "executionEventId": "6af704f0-baa5-48f6-b30a-95c2e4143d98",
     "hasError": false,
     "id": "0e9f9245-ed8e-4b46-a336-0172f5c80435",
     "outputs": [
      {
       "name": "stdout",
       "output_type": "stream",
       "text": "-58.206449982473316 kpc\n-37.749382818619665 kpc\n-51.11240196253493 kpc\n(array([     0,      1,      2, ..., 119995, 119997, 119999]),)\n[ 73.67415474 -70.830308    50.76242959] km / s\n"
      }
     ],
     "persistentId": "69daf229-8f48-4d35-a241-46e3fe8889c2",
     "text": "M31_COMV = M31COM.COM_V(M31_COMP[0], M31_COMP[1], M31_COMP[2])\nprint(M31_COMV)"
    },
    "executionTime": "2020-02-12T04:53:53.418Z"
   },
   {
    "cell": {
     "executionCount": 126,
     "executionEventId": "b54c702f-0ccb-4b17-a930-04c25c028d75",
     "hasError": false,
     "id": "15a7c55c-5293-4deb-b861-0c326e14d523",
     "outputs": [],
     "persistentId": "3f3a5cb8-663d-4322-a77a-bde24cf50cec",
     "text": "class CenterOfMass:\n# Class to define COM position and velocity properties of a given galaxy \n# and simulation snapshot\n    \n    \n    def __init__(self, filename, ptype):\n    # Initialize the instance of this Class with the following properties:\n    \n        # read data in the given file using Read\n        self.time, self.total, self.data = Read(filename)                                                                                             \n\n        #create an array to store indexes of particles of desired Ptype                                \n        self.index = np.where(self.data['type'] == ptype)\n\n        # store the mass, positions, velocities of only the particles of the given type\n        # the following only gives the example of storing the mass\n        # self.m = self.data['m'][self.index]\n        # write your own code to complete this for positions and velocities\n        self.m = self.data['m'][self.index]\n        self.x = self.data['x'][self.index]\n        self.y = self.data['y'][self.index]\n        self.z = self.data['z'][self.index]\n        self.vx = self.data['vx'][self.index]\n        self.vy = self.data['vy'][self.index]\n        self.vz = self.data['vz'][self.index]\n\n\n    def COMdefine(self,a,b,c,m):\n    # Function to compute the center of mass position or velocity generically\n    # input: array (a,b,c) of positions or velocities and the mass\n    # returns: 3 floats  (the center of mass coordinates)\n\n        # write your own code to compute the generic COM using Eq. 1 in the homework instructions\n        # xcomponent Center of mass\n        Acom = np.sum(a*m)/np.sum(m)\n        # ycomponent Center of mass\n        Bcom = np.sum(b*m)/np.sum(m)\n        # zcomponent Center of mass\n        Ccom = np.sum(c*m)/np.sum(m)\n        \n        return Acom, Bcom, Ccom\n    \n    \n    def COM_P(self, delta):\n    # Function to specifically return the center of mass position and velocity                                         \n    # input:                                                                                                           \n    #        particle type (1,2,3)                                                                                     \n    #        delta (tolerance)                                                                                         \n    # returns: One vector, with rows indicating:                                                                                                                                                                            \n    #       3D coordinates of the center of mass position (kpc)                                                             \n\n        # Center of Mass Position                                                                                      \n        ###########################                                                                                    \n\n        # Try a first guess at the COM position by calling COMdefine                                                   \n        XCOM, YCOM, ZCOM = self.COMdefine(self.x, self.y, self.z, self.m)\n        # compute the magnitude of the COM position vector.\n        # write your own code below\n        RCOM = np.sqrt(XCOM**2+YCOM**2+ZCOM**2)\n\n        # iterative process to determine the center of mass                                                            \n\n        # change reference frame to COM frame                                                                          \n        # compute the difference between particle coordinates                                                          \n        # and the first guess at COM position\n        # write your own code below\n        xNew = self.x - XCOM\n        yNew = self.y - YCOM\n        zNew = self.z - ZCOM\n        RNEW = np.sqrt(self.x**2+self.y**2+self.z**2) - RCOM\n\n        # find the max 3D distance of all particles from the guessed COM                                               \n        # will re-start at half that radius (reduced radius)                                                           \n        RMAX = max(RNEW)/2.0\n        \n        # pick an initial value for the change in COM position                                                      \n        # between the first guess above and the new one computed from half that volume\n        # it should be larger than the input tolerance (delta) initially\n        CHANGE = 1000.0\n\n        # start iterative process to determine center of mass position                                                 \n        # delta is the tolerance for the difference in the old COM and the new one.    \n        \n        while (CHANGE > delta):\n            # select all particles within the reduced radius (starting from original x,y,z, m)\n            # write your own code below (hints, use np.where)\n            index2 = np.where(np.sqrt(xNew**2+yNew**2+zNew**2) <= RMAX)\n            x2 = self.data['x'][index2]\n            y2 = self.data['y'][index2]\n            z2 = self.data['z'][index2]\n            m2 = self.data['m'][index2]\n\n            # Refined COM position:                                                                                    \n            # compute the center of mass position using                                                                \n            # the particles in the reduced radius\n            # write your own code below\n            XCOM2, YCOM2, ZCOM2 = self.COMdefine(x2, y2, z2, m2)\n            # compute the new 3D COM position\n            # write your own code below\n            RCOM2 = np.sqrt(XCOM2**2+YCOM2**2+ZCOM2**2)\n            # determine the difference between the previous center of mass position                                    \n            # and the new one.                                                                                         \n            CHANGE = np.abs(RCOM - RCOM2)\n\n            # uncomment the following line if you wnat to check this                                                                                               \n            # print (\"CHANGE = \", CHANGE)                                                                                     \n\n            # Before loop continues, reset : RMAX, particle separations and COM                                        \n\n            # reduce the volume by a factor of 2 again                                                                 \n            RMAX = RMAX/2.0\n            # check this.                                                                                              \n            #print (\"maxR\", RMAX)                                                                                      \n\n            # Change the frame of reference to the newly computed COM.                                                 \n            # subtract the new COM\n            # write your own code below\n            xNew = self.data['x'] - XCOM2\n            yNew = self.data['y'] - YCOM2\n            zNew = self.data['z'] - ZCOM2\n            RNEW = np.sqrt(x2**2+y2**2+z2**2) - RCOM2\n\n            # set the center of mass positions to the refined values                                                   \n            XCOM = XCOM2\n            YCOM = YCOM2\n            ZCOM = ZCOM2\n            RCOM = RCOM2\n\n            # create a vector to store the COM position                                                                                                                                                       \n            COMP = [XCOM, YCOM, ZCOM]\n\n        # set the correct units using astropy and round all values\n        # and then return the COM positon vector\n        # write your own code below\n        \n        XCOM = XCOM*u.kpc\n        YCOM = YCOM*u.kpc\n        ZCOM = ZCOM*u.kpc\n        COMP = COMP*u.kpc\n    \n        return COMP\n\n    def COM_V(self, COMX,COMY,COMZ):\n        # Center of Mass velocity\n        # input: X, Y, Z positions of the COM\n        # returns 3D Vector of COM Velocities\n        \n        # the max distance from the center that we will use to determine the center of mass velocity                   \n        RVMAX = 15.0*u.kpc\n\n        # determine the position of all particles relative to the center of mass position\n        # write your own code below\n        xV = self.x*u.kpc - COMX\n        yV = self.y*u.kpc - COMY\n        zV = self.z*u.kpc - COMZ\n        RV = np.sqrt(xV**2+yV**2+zV**2)\n        \n        \n        # determine the index for those particles within the max radius\n        # write your own code below\n        indexV = np.where(RV < RVMAX)\n        print(indexV)\n        \n        # determine the velocity and mass of those particles within the mas radius\n        # write your own code below\n        vxnew = self.data['vx'][indexV]\n        vynew = self.data['vy'][indexV]\n        vznew = self.data['vz'][indexV]\n        mnew = self.data['m'][indexV]  \n        \n        \n        # compute the center of mass velocity using those particles\n        # write your own code below\n        VXCOM, VYCOM, VZCOM = self.COMdefine(vxnew, vynew, vznew, mnew)\n\n        # create a vector to store the COM velocity\n        # set the correct units usint astropy\n        # round all values\n        # write your own code below\n        COMV = [VXCOM, VYCOM, VZCOM]*u.km/u.s\n\n        # return the COM vector                                                                                        \n        return COMV"
    },
    "executionTime": "2020-02-12T04:54:09.686Z"
   },
   {
    "cell": {
     "executionCount": 127,
     "executionEventId": "6a39fea3-6857-42ed-a761-16b130c8ff7b",
     "hasError": false,
     "id": "f701bbb1-527f-499d-96c1-c318cffd4b81",
     "outputs": [
      {
       "name": "stdout",
       "output_type": "stream",
       "text": "[-377.02855002  610.99638282 -284.49859804] kpc\n(array([     0,      1,      2, ..., 119995, 119997, 119999]),)\n[ 73.67415474 -70.830308    50.76242959] km / s\n"
      }
     ],
     "persistentId": "966ff13b-1221-44fb-ac73-7a97eddb14fb",
     "text": "# now write your own code to answer questions\nM31COM = CenterOfMass(\"M31_000.txt\", 2)\nM31_COMP = M31COM.COM_P(0.1)\nprint(M31_COMP)\nM31_COMV = M31COM.COM_V(M31_COMP[0], M31_COMP[1], M31_COMP[2])\nprint(M31_COMV)"
    },
    "executionTime": "2020-02-12T04:54:19.420Z"
   },
   {
    "cell": {
     "executionCount": 128,
     "executionEventId": "1dbc78e4-3957-44a6-8955-3941b9a5874c",
     "hasError": false,
     "id": "15a7c55c-5293-4deb-b861-0c326e14d523",
     "outputs": [],
     "persistentId": "3f3a5cb8-663d-4322-a77a-bde24cf50cec",
     "text": "class CenterOfMass:\n# Class to define COM position and velocity properties of a given galaxy \n# and simulation snapshot\n    \n    \n    def __init__(self, filename, ptype):\n    # Initialize the instance of this Class with the following properties:\n    \n        # read data in the given file using Read\n        self.time, self.total, self.data = Read(filename)                                                                                             \n\n        #create an array to store indexes of particles of desired Ptype                                \n        self.index = np.where(self.data['type'] == ptype)\n\n        # store the mass, positions, velocities of only the particles of the given type\n        # the following only gives the example of storing the mass\n        # self.m = self.data['m'][self.index]\n        # write your own code to complete this for positions and velocities\n        self.m = self.data['m'][self.index]\n        self.x = self.data['x'][self.index]\n        self.y = self.data['y'][self.index]\n        self.z = self.data['z'][self.index]\n        self.vx = self.data['vx'][self.index]\n        self.vy = self.data['vy'][self.index]\n        self.vz = self.data['vz'][self.index]\n\n\n    def COMdefine(self,a,b,c,m):\n    # Function to compute the center of mass position or velocity generically\n    # input: array (a,b,c) of positions or velocities and the mass\n    # returns: 3 floats  (the center of mass coordinates)\n\n        # write your own code to compute the generic COM using Eq. 1 in the homework instructions\n        # xcomponent Center of mass\n        Acom = np.sum(a*m)/np.sum(m)\n        # ycomponent Center of mass\n        Bcom = np.sum(b*m)/np.sum(m)\n        # zcomponent Center of mass\n        Ccom = np.sum(c*m)/np.sum(m)\n        \n        return Acom, Bcom, Ccom\n    \n    \n    def COM_P(self, delta):\n    # Function to specifically return the center of mass position and velocity                                         \n    # input:                                                                                                           \n    #        particle type (1,2,3)                                                                                     \n    #        delta (tolerance)                                                                                         \n    # returns: One vector, with rows indicating:                                                                                                                                                                            \n    #       3D coordinates of the center of mass position (kpc)                                                             \n\n        # Center of Mass Position                                                                                      \n        ###########################                                                                                    \n\n        # Try a first guess at the COM position by calling COMdefine                                                   \n        XCOM, YCOM, ZCOM = self.COMdefine(self.x, self.y, self.z, self.m)\n        # compute the magnitude of the COM position vector.\n        # write your own code below\n        RCOM = np.sqrt(XCOM**2+YCOM**2+ZCOM**2)\n\n        # iterative process to determine the center of mass                                                            \n\n        # change reference frame to COM frame                                                                          \n        # compute the difference between particle coordinates                                                          \n        # and the first guess at COM position\n        # write your own code below\n        xNew = self.x - XCOM\n        yNew = self.y - YCOM\n        zNew = self.z - ZCOM\n        RNEW = np.sqrt(self.x**2+self.y**2+self.z**2) - RCOM\n\n        # find the max 3D distance of all particles from the guessed COM                                               \n        # will re-start at half that radius (reduced radius)                                                           \n        RMAX = max(RNEW)/2.0\n        \n        # pick an initial value for the change in COM position                                                      \n        # between the first guess above and the new one computed from half that volume\n        # it should be larger than the input tolerance (delta) initially\n        CHANGE = 1000.0\n\n        # start iterative process to determine center of mass position                                                 \n        # delta is the tolerance for the difference in the old COM and the new one.    \n        \n        while (CHANGE > delta):\n            # select all particles within the reduced radius (starting from original x,y,z, m)\n            # write your own code below (hints, use np.where)\n            index2 = np.where(np.sqrt(xNew**2+yNew**2+zNew**2) <= RMAX)\n            x2 = self.data['x'][index2]\n            y2 = self.data['y'][index2]\n            z2 = self.data['z'][index2]\n            m2 = self.data['m'][index2]\n\n            # Refined COM position:                                                                                    \n            # compute the center of mass position using                                                                \n            # the particles in the reduced radius\n            # write your own code below\n            XCOM2, YCOM2, ZCOM2 = self.COMdefine(x2, y2, z2, m2)\n            # compute the new 3D COM position\n            # write your own code below\n            RCOM2 = np.sqrt(XCOM2**2+YCOM2**2+ZCOM2**2)\n            # determine the difference between the previous center of mass position                                    \n            # and the new one.                                                                                         \n            CHANGE = np.abs(RCOM - RCOM2)\n\n            # uncomment the following line if you wnat to check this                                                                                               \n            # print (\"CHANGE = \", CHANGE)                                                                                     \n\n            # Before loop continues, reset : RMAX, particle separations and COM                                        \n\n            # reduce the volume by a factor of 2 again                                                                 \n            RMAX = RMAX/2.0\n            # check this.                                                                                              \n            #print (\"maxR\", RMAX)                                                                                      \n\n            # Change the frame of reference to the newly computed COM.                                                 \n            # subtract the new COM\n            # write your own code below\n            xNew = self.data['x'] - XCOM2\n            yNew = self.data['y'] - YCOM2\n            zNew = self.data['z'] - ZCOM2\n            RNEW = np.sqrt(x2**2+y2**2+z2**2) - RCOM2\n\n            # set the center of mass positions to the refined values                                                   \n            XCOM = XCOM2\n            YCOM = YCOM2\n            ZCOM = ZCOM2\n            RCOM = RCOM2\n\n            # create a vector to store the COM position                                                                                                                                                       \n            COMP = [XCOM, YCOM, ZCOM]\n\n        # set the correct units using astropy and round all values\n        # and then return the COM positon vector\n        # write your own code below\n        \n        XCOM = XCOM*u.kpc\n        YCOM = YCOM*u.kpc\n        ZCOM = ZCOM*u.kpc\n        COMP = COMP*u.kpc\n    \n        return COMP\n\n    def COM_V(self, COMX,COMY,COMZ):\n        # Center of Mass velocity\n        # input: X, Y, Z positions of the COM\n        # returns 3D Vector of COM Velocities\n        \n        # the max distance from the center that we will use to determine the center of mass velocity                   \n        RVMAX = 15.0*u.kpc\n\n        # determine the position of all particles relative to the center of mass position\n        # write your own code below\n        xV = self.x*u.kpc - COMX\n        yV = self.y*u.kpc - COMY\n        zV = self.z*u.kpc - COMZ\n        RV = np.sqrt(xV**2+yV**2+zV**2)\n        \n        \n        # determine the index for those particles within the max radius\n        # write your own code below\n        indexV = np.where(RV < RVMAX)\n        \n        # determine the velocity and mass of those particles within the mas radius\n        # write your own code below\n        vxnew = self.data['vx'][indexV]\n        vynew = self.data['vy'][indexV]\n        vznew = self.data['vz'][indexV]\n        mnew = self.data['m'][indexV]  \n        \n        \n        # compute the center of mass velocity using those particles\n        # write your own code below\n        VXCOM, VYCOM, VZCOM = self.COMdefine(vxnew, vynew, vznew, mnew)\n\n        # create a vector to store the COM velocity\n        # set the correct units usint astropy\n        # round all values\n        # write your own code below\n        COMV = [VXCOM, VYCOM, VZCOM]*u.km/u.s\n\n        # return the COM vector                                                                                        \n        return COMV"
    },
    "executionTime": "2020-02-12T04:54:31.072Z"
   },
   {
    "cell": {
     "executionCount": 129,
     "executionEventId": "1518a50c-1822-4ba9-b52c-31fa1c20942b",
     "hasError": false,
     "id": "41b3f20d-1811-4f91-b20f-b0580131a95f",
     "outputs": [
      {
       "name": "stdout",
       "output_type": "stream",
       "text": "[-2.0477735   2.94706657 -1.44655273] kpc\n[-0.03131473  0.81106353 -0.94252759] km / s\n"
      }
     ],
     "persistentId": "d9be1b5b-cc5b-4d53-bbf7-2deedeca2731",
     "text": "# below gives you an example of calling the class's functions\n# MW:   store the position and velocity COM\nMW_COMP = MWCOM.COM_P(0.1)\nprint(MW_COMP)\nMW_COMV = MWCOM.COM_V(MW_COMP[0], MW_COMP[1], MW_COMP[2])\nprint(MW_COMV)"
    },
    "executionTime": "2020-02-12T04:54:34.290Z"
   },
   {
    "cell": {
     "executionCount": 130,
     "executionEventId": "592fbf34-7efc-4511-8ad4-00cb2c3a0d84",
     "hasError": false,
     "id": "f701bbb1-527f-499d-96c1-c318cffd4b81",
     "outputs": [
      {
       "name": "stdout",
       "output_type": "stream",
       "text": "[-377.02855002  610.99638282 -284.49859804] kpc\n[ 73.67415474 -70.830308    50.76242959] km / s\n"
      }
     ],
     "persistentId": "966ff13b-1221-44fb-ac73-7a97eddb14fb",
     "text": "# now write your own code to answer questions\nM31COM = CenterOfMass(\"M31_000.txt\", 2)\nM31_COMP = M31COM.COM_P(0.1)\nprint(M31_COMP)\nM31_COMV = M31COM.COM_V(M31_COMP[0], M31_COMP[1], M31_COMP[2])\nprint(M31_COMV)"
    },
    "executionTime": "2020-02-12T04:54:38.246Z"
   },
   {
    "cell": {
     "executionCount": 131,
     "executionEventId": "c7ce8739-7eec-4985-94e2-6974cdbc1b72",
     "hasError": false,
     "id": "0e9f9245-ed8e-4b46-a336-0172f5c80435",
     "outputs": [
      {
       "name": "stdout",
       "output_type": "stream",
       "text": "[-477.9356  487.6864 -407.8338] kpc\n[nan nan nan] km / s\n"
      },
      {
       "name": "stderr",
       "output_type": "stream",
       "text": "/anaconda3/lib/python3.6/site-packages/ipykernel_launcher.py:35: RuntimeWarning: invalid value encountered in double_scalars\n/anaconda3/lib/python3.6/site-packages/ipykernel_launcher.py:37: RuntimeWarning: invalid value encountered in double_scalars\n/anaconda3/lib/python3.6/site-packages/ipykernel_launcher.py:39: RuntimeWarning: invalid value encountered in double_scalars\n"
      }
     ],
     "persistentId": "69daf229-8f48-4d35-a241-46e3fe8889c2",
     "text": "M33COM = CenterOfMass(\"M33_000.txt\", 2)\nM33_COMP = M33COM.COM_P(0.1)\nprint(M33_COMP)\nM33_COMV = M31COM.COM_V(M33_COMP[0], M33_COMP[1], M33_COMP[2])\nprint(M33_COMV)"
    },
    "executionTime": "2020-02-12T04:55:12.035Z"
   },
   {
    "cell": {
     "executionCount": 132,
     "executionEventId": "433ce9d4-0824-4775-b21d-29c2b4ee956c",
     "hasError": true,
     "id": "0e9f9245-ed8e-4b46-a336-0172f5c80435",
     "outputs": [
      {
       "name": "stdout",
       "output_type": "stream",
       "text": "[-477.9356  487.6864 -407.8338] kpc\n"
      },
      {
       "ename": "UnitConversionError",
       "evalue": "Can only apply 'subtract' function to dimensionless quantities when other argument is not a quantity (unless the latter is all zero/infinity/nan)",
       "output_type": "error",
       "traceback": [
        "\u001b[0;31m---------------------------------------------------------------------------\u001b[0m",
        "\u001b[0;31mUnitConversionError\u001b[0m                       Traceback (most recent call last)",
        "\u001b[0;32m<ipython-input-132-dfed2ffd0652>\u001b[0m in \u001b[0;36m<module>\u001b[0;34m\u001b[0m\n\u001b[1;32m      2\u001b[0m \u001b[0mM33_COMP\u001b[0m \u001b[0;34m=\u001b[0m \u001b[0mM33COM\u001b[0m\u001b[0;34m.\u001b[0m\u001b[0mCOM_P\u001b[0m\u001b[0;34m(\u001b[0m\u001b[0;36m0.1\u001b[0m\u001b[0;34m)\u001b[0m\u001b[0;34m\u001b[0m\u001b[0;34m\u001b[0m\u001b[0m\n\u001b[1;32m      3\u001b[0m \u001b[0mprint\u001b[0m\u001b[0;34m(\u001b[0m\u001b[0mM33_COMP\u001b[0m\u001b[0;34m)\u001b[0m\u001b[0;34m\u001b[0m\u001b[0;34m\u001b[0m\u001b[0m\n\u001b[0;32m----> 4\u001b[0;31m \u001b[0mM33_COMV\u001b[0m \u001b[0;34m=\u001b[0m \u001b[0mM31COM\u001b[0m\u001b[0;34m.\u001b[0m\u001b[0mCOM_V\u001b[0m\u001b[0;34m(\u001b[0m\u001b[0;34m-\u001b[0m\u001b[0;36m477.9356\u001b[0m\u001b[0;34m,\u001b[0m \u001b[0;36m487.6864\u001b[0m\u001b[0;34m,\u001b[0m \u001b[0;34m-\u001b[0m\u001b[0;36m407.83\u001b[0m\u001b[0;34m)\u001b[0m\u001b[0;34m\u001b[0m\u001b[0;34m\u001b[0m\u001b[0m\n\u001b[0m\u001b[1;32m      5\u001b[0m \u001b[0mprint\u001b[0m\u001b[0;34m(\u001b[0m\u001b[0mM33_COMV\u001b[0m\u001b[0;34m)\u001b[0m\u001b[0;34m\u001b[0m\u001b[0;34m\u001b[0m\u001b[0m\n",
        "\u001b[0;32m<ipython-input-128-ebd7fbccf9e0>\u001b[0m in \u001b[0;36mCOM_V\u001b[0;34m(self, COMX, COMY, COMZ)\u001b[0m\n\u001b[1;32m    151\u001b[0m         \u001b[0;31m# determine the position of all particles relative to the center of mass position\u001b[0m\u001b[0;34m\u001b[0m\u001b[0;34m\u001b[0m\u001b[0;34m\u001b[0m\u001b[0m\n\u001b[1;32m    152\u001b[0m         \u001b[0;31m# write your own code below\u001b[0m\u001b[0;34m\u001b[0m\u001b[0;34m\u001b[0m\u001b[0;34m\u001b[0m\u001b[0m\n\u001b[0;32m--> 153\u001b[0;31m         \u001b[0mxV\u001b[0m \u001b[0;34m=\u001b[0m \u001b[0mself\u001b[0m\u001b[0;34m.\u001b[0m\u001b[0mx\u001b[0m\u001b[0;34m*\u001b[0m\u001b[0mu\u001b[0m\u001b[0;34m.\u001b[0m\u001b[0mkpc\u001b[0m \u001b[0;34m-\u001b[0m \u001b[0mCOMX\u001b[0m\u001b[0;34m\u001b[0m\u001b[0;34m\u001b[0m\u001b[0m\n\u001b[0m\u001b[1;32m    154\u001b[0m         \u001b[0myV\u001b[0m \u001b[0;34m=\u001b[0m \u001b[0mself\u001b[0m\u001b[0;34m.\u001b[0m\u001b[0my\u001b[0m\u001b[0;34m*\u001b[0m\u001b[0mu\u001b[0m\u001b[0;34m.\u001b[0m\u001b[0mkpc\u001b[0m \u001b[0;34m-\u001b[0m \u001b[0mCOMY\u001b[0m\u001b[0;34m\u001b[0m\u001b[0;34m\u001b[0m\u001b[0m\n\u001b[1;32m    155\u001b[0m         \u001b[0mzV\u001b[0m \u001b[0;34m=\u001b[0m \u001b[0mself\u001b[0m\u001b[0;34m.\u001b[0m\u001b[0mz\u001b[0m\u001b[0;34m*\u001b[0m\u001b[0mu\u001b[0m\u001b[0;34m.\u001b[0m\u001b[0mkpc\u001b[0m \u001b[0;34m-\u001b[0m \u001b[0mCOMZ\u001b[0m\u001b[0;34m\u001b[0m\u001b[0;34m\u001b[0m\u001b[0m\n",
        "\u001b[0;32m/anaconda3/lib/python3.6/site-packages/astropy/units/quantity.py\u001b[0m in \u001b[0;36m__array_ufunc__\u001b[0;34m(self, function, method, *inputs, **kwargs)\u001b[0m\n\u001b[1;32m    459\u001b[0m         \u001b[0;31m# consistent units between two inputs (e.g., in np.add) --\u001b[0m\u001b[0;34m\u001b[0m\u001b[0;34m\u001b[0m\u001b[0;34m\u001b[0m\u001b[0m\n\u001b[1;32m    460\u001b[0m         \u001b[0;31m# and the unit of the result (or tuple of units for nout > 1).\u001b[0m\u001b[0;34m\u001b[0m\u001b[0;34m\u001b[0m\u001b[0;34m\u001b[0m\u001b[0m\n\u001b[0;32m--> 461\u001b[0;31m         \u001b[0mconverters\u001b[0m\u001b[0;34m,\u001b[0m \u001b[0munit\u001b[0m \u001b[0;34m=\u001b[0m \u001b[0mconverters_and_unit\u001b[0m\u001b[0;34m(\u001b[0m\u001b[0mfunction\u001b[0m\u001b[0;34m,\u001b[0m \u001b[0mmethod\u001b[0m\u001b[0;34m,\u001b[0m \u001b[0;34m*\u001b[0m\u001b[0minputs\u001b[0m\u001b[0;34m)\u001b[0m\u001b[0;34m\u001b[0m\u001b[0;34m\u001b[0m\u001b[0m\n\u001b[0m\u001b[1;32m    462\u001b[0m \u001b[0;34m\u001b[0m\u001b[0m\n\u001b[1;32m    463\u001b[0m         \u001b[0mout\u001b[0m \u001b[0;34m=\u001b[0m \u001b[0mkwargs\u001b[0m\u001b[0;34m.\u001b[0m\u001b[0mget\u001b[0m\u001b[0;34m(\u001b[0m\u001b[0;34m'out'\u001b[0m\u001b[0;34m,\u001b[0m \u001b[0;32mNone\u001b[0m\u001b[0;34m)\u001b[0m\u001b[0;34m\u001b[0m\u001b[0;34m\u001b[0m\u001b[0m\n",
        "\u001b[0;32m/anaconda3/lib/python3.6/site-packages/astropy/units/quantity_helper/converters.py\u001b[0m in \u001b[0;36mconverters_and_unit\u001b[0;34m(function, method, *args)\u001b[0m\n\u001b[1;32m    187\u001b[0m                             \u001b[0;34m\"argument is not a quantity (unless the \"\u001b[0m\u001b[0;34m\u001b[0m\u001b[0;34m\u001b[0m\u001b[0m\n\u001b[1;32m    188\u001b[0m                             \u001b[0;34m\"latter is all zero/infinity/nan)\"\u001b[0m\u001b[0;34m\u001b[0m\u001b[0;34m\u001b[0m\u001b[0m\n\u001b[0;32m--> 189\u001b[0;31m                             .format(function.__name__))\n\u001b[0m\u001b[1;32m    190\u001b[0m             \u001b[0;32mexcept\u001b[0m \u001b[0mTypeError\u001b[0m\u001b[0;34m:\u001b[0m\u001b[0;34m\u001b[0m\u001b[0;34m\u001b[0m\u001b[0m\n\u001b[1;32m    191\u001b[0m                 \u001b[0;31m# _can_have_arbitrary_unit failed: arg could not be compared\u001b[0m\u001b[0;34m\u001b[0m\u001b[0;34m\u001b[0m\u001b[0;34m\u001b[0m\u001b[0m\n",
        "\u001b[0;31mUnitConversionError\u001b[0m: Can only apply 'subtract' function to dimensionless quantities when other argument is not a quantity (unless the latter is all zero/infinity/nan)"
       ]
      }
     ],
     "persistentId": "69daf229-8f48-4d35-a241-46e3fe8889c2",
     "text": "M33COM = CenterOfMass(\"M33_000.txt\", 2)\nM33_COMP = M33COM.COM_P(0.1)\nprint(M33_COMP)\nM33_COMV = M31COM.COM_V(-477.9356, 487.6864, -407.83)\nprint(M33_COMV)"
    },
    "executionTime": "2020-02-12T04:56:28.981Z"
   },
   {
    "cell": {
     "executionCount": 133,
     "executionEventId": "af3d3d9b-4ec7-4281-8d36-2e8a7f2bcfdf",
     "hasError": false,
     "id": "0e9f9245-ed8e-4b46-a336-0172f5c80435",
     "outputs": [
      {
       "name": "stdout",
       "output_type": "stream",
       "text": "[-477.9356  487.6864 -407.8338] kpc\n[nan nan nan] km / s\n"
      },
      {
       "name": "stderr",
       "output_type": "stream",
       "text": "/anaconda3/lib/python3.6/site-packages/ipykernel_launcher.py:35: RuntimeWarning: invalid value encountered in double_scalars\n/anaconda3/lib/python3.6/site-packages/ipykernel_launcher.py:37: RuntimeWarning: invalid value encountered in double_scalars\n/anaconda3/lib/python3.6/site-packages/ipykernel_launcher.py:39: RuntimeWarning: invalid value encountered in double_scalars\n"
      }
     ],
     "persistentId": "69daf229-8f48-4d35-a241-46e3fe8889c2",
     "text": "M33COM = CenterOfMass(\"M33_000.txt\", 2)\nM33_COMP = M33COM.COM_P(0.1)\nprint(M33_COMP)\nM33_COMV = M31COM.COM_V(-477.9356*u.kpc, 487.6864*u.kpc, -407.83*u.kpc)\nprint(M33_COMV)"
    },
    "executionTime": "2020-02-12T04:56:43.476Z"
   },
   {
    "cell": {
     "executionCount": 134,
     "executionEventId": "51cf4bc0-8dae-4e0e-8ac4-c03ba0924666",
     "hasError": false,
     "id": "15a7c55c-5293-4deb-b861-0c326e14d523",
     "outputs": [],
     "persistentId": "3f3a5cb8-663d-4322-a77a-bde24cf50cec",
     "text": "class CenterOfMass:\n# Class to define COM position and velocity properties of a given galaxy \n# and simulation snapshot\n    \n    \n    def __init__(self, filename, ptype):\n    # Initialize the instance of this Class with the following properties:\n    \n        # read data in the given file using Read\n        self.time, self.total, self.data = Read(filename)                                                                                             \n\n        #create an array to store indexes of particles of desired Ptype                                \n        self.index = np.where(self.data['type'] == ptype)\n\n        # store the mass, positions, velocities of only the particles of the given type\n        # the following only gives the example of storing the mass\n        # self.m = self.data['m'][self.index]\n        # write your own code to complete this for positions and velocities\n        self.m = self.data['m'][self.index]\n        self.x = self.data['x'][self.index]\n        self.y = self.data['y'][self.index]\n        self.z = self.data['z'][self.index]\n        self.vx = self.data['vx'][self.index]\n        self.vy = self.data['vy'][self.index]\n        self.vz = self.data['vz'][self.index]\n\n\n    def COMdefine(self,a,b,c,m):\n    # Function to compute the center of mass position or velocity generically\n    # input: array (a,b,c) of positions or velocities and the mass\n    # returns: 3 floats  (the center of mass coordinates)\n\n        # write your own code to compute the generic COM using Eq. 1 in the homework instructions\n        # xcomponent Center of mass\n        Acom = np.sum(a*m)/np.sum(m)\n        # ycomponent Center of mass\n        Bcom = np.sum(b*m)/np.sum(m)\n        # zcomponent Center of mass\n        Ccom = np.sum(c*m)/np.sum(m)\n        \n        return Acom, Bcom, Ccom\n    \n    \n    def COM_P(self, delta):\n    # Function to specifically return the center of mass position and velocity                                         \n    # input:                                                                                                           \n    #        particle type (1,2,3)                                                                                     \n    #        delta (tolerance)                                                                                         \n    # returns: One vector, with rows indicating:                                                                                                                                                                            \n    #       3D coordinates of the center of mass position (kpc)                                                             \n\n        # Center of Mass Position                                                                                      \n        ###########################                                                                                    \n\n        # Try a first guess at the COM position by calling COMdefine                                                   \n        XCOM, YCOM, ZCOM = self.COMdefine(self.x, self.y, self.z, self.m)\n        # compute the magnitude of the COM position vector.\n        # write your own code below\n        RCOM = np.sqrt(XCOM**2+YCOM**2+ZCOM**2)\n\n        # iterative process to determine the center of mass                                                            \n\n        # change reference frame to COM frame                                                                          \n        # compute the difference between particle coordinates                                                          \n        # and the first guess at COM position\n        # write your own code below\n        xNew = self.x - XCOM\n        yNew = self.y - YCOM\n        zNew = self.z - ZCOM\n        RNEW = np.sqrt(self.x**2+self.y**2+self.z**2) - RCOM\n\n        # find the max 3D distance of all particles from the guessed COM                                               \n        # will re-start at half that radius (reduced radius)                                                           \n        RMAX = max(RNEW)/2.0\n        \n        # pick an initial value for the change in COM position                                                      \n        # between the first guess above and the new one computed from half that volume\n        # it should be larger than the input tolerance (delta) initially\n        CHANGE = 1000.0\n\n        # start iterative process to determine center of mass position                                                 \n        # delta is the tolerance for the difference in the old COM and the new one.    \n        \n        while (CHANGE > delta):\n            # select all particles within the reduced radius (starting from original x,y,z, m)\n            # write your own code below (hints, use np.where)\n            index2 = np.where(np.sqrt(xNew**2+yNew**2+zNew**2) <= RMAX)\n            x2 = self.data['x'][index2]\n            y2 = self.data['y'][index2]\n            z2 = self.data['z'][index2]\n            m2 = self.data['m'][index2]\n\n            # Refined COM position:                                                                                    \n            # compute the center of mass position using                                                                \n            # the particles in the reduced radius\n            # write your own code below\n            XCOM2, YCOM2, ZCOM2 = self.COMdefine(x2, y2, z2, m2)\n            # compute the new 3D COM position\n            # write your own code below\n            RCOM2 = np.sqrt(XCOM2**2+YCOM2**2+ZCOM2**2)\n            # determine the difference between the previous center of mass position                                    \n            # and the new one.                                                                                         \n            CHANGE = np.abs(RCOM - RCOM2)\n\n            # uncomment the following line if you wnat to check this                                                                                               \n            # print (\"CHANGE = \", CHANGE)                                                                                     \n\n            # Before loop continues, reset : RMAX, particle separations and COM                                        \n\n            # reduce the volume by a factor of 2 again                                                                 \n            RMAX = RMAX/2.0\n            # check this.                                                                                              \n            #print (\"maxR\", RMAX)                                                                                      \n\n            # Change the frame of reference to the newly computed COM.                                                 \n            # subtract the new COM\n            # write your own code below\n            xNew = self.data['x'] - XCOM2\n            yNew = self.data['y'] - YCOM2\n            zNew = self.data['z'] - ZCOM2\n            RNEW = np.sqrt(x2**2+y2**2+z2**2) - RCOM2\n\n            # set the center of mass positions to the refined values                                                   \n            XCOM = XCOM2\n            YCOM = YCOM2\n            ZCOM = ZCOM2\n            RCOM = RCOM2\n\n            # create a vector to store the COM position                                                                                                                                                       \n            COMP = [XCOM, YCOM, ZCOM]\n\n        # set the correct units using astropy and round all values\n        # and then return the COM positon vector\n        # write your own code below\n        \n        XCOM = XCOM*u.kpc\n        YCOM = YCOM*u.kpc\n        ZCOM = ZCOM*u.kpc\n        COMP = COMP*u.kpc\n    \n        return COMP\n\n    def COM_V(self, COMX,COMY,COMZ):\n        # Center of Mass velocity\n        # input: X, Y, Z positions of the COM\n        # returns 3D Vector of COM Velocities\n        \n        # the max distance from the center that we will use to determine the center of mass velocity                   \n        RVMAX = 15.0*u.kpc\n\n        # determine the position of all particles relative to the center of mass position\n        # write your own code below\n        xV = self.x*u.kpc - COMX\n        print(min(xV))\n        yV = self.y*u.kpc - COMY\n        print(min(yV))\n        zV = self.z*u.kpc - COMZ\n        print(min(zV))\n        RV = np.sqrt(xV**2+yV**2+zV**2)\n        print(min(RV))\n        \n        # determine the index for those particles within the max radius\n        # write your own code below\n        indexV = np.where(RV < RVMAX)\n        \n        # determine the velocity and mass of those particles within the mas radius\n        # write your own code below\n        vxnew = self.data['vx'][indexV]\n        vynew = self.data['vy'][indexV]\n        vznew = self.data['vz'][indexV]\n        mnew = self.data['m'][indexV]  \n        \n        \n        # compute the center of mass velocity using those particles\n        # write your own code below\n        VXCOM, VYCOM, VZCOM = self.COMdefine(vxnew, vynew, vznew, mnew)\n\n        # create a vector to store the COM velocity\n        # set the correct units usint astropy\n        # round all values\n        # write your own code below\n        COMV = [VXCOM, VYCOM, VZCOM]*u.km/u.s\n\n        # return the COM vector                                                                                        \n        return COMV"
    },
    "executionTime": "2020-02-12T04:57:48.914Z"
   },
   {
    "cell": {
     "executionCount": 135,
     "executionEventId": "2e07da94-1fda-4f9d-b4cb-83086e144891",
     "hasError": false,
     "id": "0e9f9245-ed8e-4b46-a336-0172f5c80435",
     "outputs": [
      {
       "name": "stdout",
       "output_type": "stream",
       "text": "[-477.9356  487.6864 -407.8338] kpc\n[nan nan nan] km / s\n"
      },
      {
       "name": "stderr",
       "output_type": "stream",
       "text": "/anaconda3/lib/python3.6/site-packages/ipykernel_launcher.py:35: RuntimeWarning: invalid value encountered in double_scalars\n/anaconda3/lib/python3.6/site-packages/ipykernel_launcher.py:37: RuntimeWarning: invalid value encountered in double_scalars\n/anaconda3/lib/python3.6/site-packages/ipykernel_launcher.py:39: RuntimeWarning: invalid value encountered in double_scalars\n"
      }
     ],
     "persistentId": "69daf229-8f48-4d35-a241-46e3fe8889c2",
     "text": "M33COM = CenterOfMass(\"M33_000.txt\", 2)\nM33_COMP = M33COM.COM_P(0.1)\nprint(M33_COMP)\nM33_COMV = M31COM.COM_V(-477.9356*u.kpc, 487.6864*u.kpc, -407.83*u.kpc)\nprint(M33_COMV)"
    },
    "executionTime": "2020-02-12T04:57:52.460Z"
   },
   {
    "cell": {
     "executionCount": 136,
     "executionEventId": "86e11c83-2553-48a7-b88c-54ab8adce018",
     "hasError": false,
     "id": "3683a837-e5e9-43a0-9251-eb5d286f75bf",
     "outputs": [
      {
       "name": "stdout",
       "output_type": "stream",
       "text": "[nan nan nan] km / s\n"
      },
      {
       "name": "stderr",
       "output_type": "stream",
       "text": "/anaconda3/lib/python3.6/site-packages/ipykernel_launcher.py:35: RuntimeWarning: invalid value encountered in double_scalars\n/anaconda3/lib/python3.6/site-packages/ipykernel_launcher.py:37: RuntimeWarning: invalid value encountered in double_scalars\n/anaconda3/lib/python3.6/site-packages/ipykernel_launcher.py:39: RuntimeWarning: invalid value encountered in double_scalars\n"
      }
     ],
     "persistentId": "efaead56-e4f2-4e0c-8bf0-f9e50442409a",
     "text": "M33_COMV = M31COM.COM_V(-477.9356*u.kpc, 487.6864*u.kpc, -407.83*u.kpc)\nprint(M33_COMV)"
    },
    "executionTime": "2020-02-12T04:58:07.721Z"
   },
   {
    "cell": {
     "executionCount": 137,
     "executionEventId": "2d6d2e57-f954-4990-b23c-3e8d4e9cdac1",
     "hasError": false,
     "id": "15a7c55c-5293-4deb-b861-0c326e14d523",
     "outputs": [],
     "persistentId": "3f3a5cb8-663d-4322-a77a-bde24cf50cec",
     "text": "class CenterOfMass:\n# Class to define COM position and velocity properties of a given galaxy \n# and simulation snapshot\n    \n    \n    def __init__(self, filename, ptype):\n    # Initialize the instance of this Class with the following properties:\n    \n        # read data in the given file using Read\n        self.time, self.total, self.data = Read(filename)                                                                                             \n\n        #create an array to store indexes of particles of desired Ptype                                \n        self.index = np.where(self.data['type'] == ptype)\n\n        # store the mass, positions, velocities of only the particles of the given type\n        # the following only gives the example of storing the mass\n        # self.m = self.data['m'][self.index]\n        # write your own code to complete this for positions and velocities\n        self.m = self.data['m'][self.index]\n        self.x = self.data['x'][self.index]\n        self.y = self.data['y'][self.index]\n        self.z = self.data['z'][self.index]\n        self.vx = self.data['vx'][self.index]\n        self.vy = self.data['vy'][self.index]\n        self.vz = self.data['vz'][self.index]\n\n\n    def COMdefine(self,a,b,c,m):\n    # Function to compute the center of mass position or velocity generically\n    # input: array (a,b,c) of positions or velocities and the mass\n    # returns: 3 floats  (the center of mass coordinates)\n\n        # write your own code to compute the generic COM using Eq. 1 in the homework instructions\n        # xcomponent Center of mass\n        Acom = np.sum(a*m)/np.sum(m)\n        # ycomponent Center of mass\n        Bcom = np.sum(b*m)/np.sum(m)\n        # zcomponent Center of mass\n        Ccom = np.sum(c*m)/np.sum(m)\n        \n        return Acom, Bcom, Ccom\n    \n    \n    def COM_P(self, delta):\n    # Function to specifically return the center of mass position and velocity                                         \n    # input:                                                                                                           \n    #        particle type (1,2,3)                                                                                     \n    #        delta (tolerance)                                                                                         \n    # returns: One vector, with rows indicating:                                                                                                                                                                            \n    #       3D coordinates of the center of mass position (kpc)                                                             \n\n        # Center of Mass Position                                                                                      \n        ###########################                                                                                    \n\n        # Try a first guess at the COM position by calling COMdefine                                                   \n        XCOM, YCOM, ZCOM = self.COMdefine(self.x, self.y, self.z, self.m)\n        # compute the magnitude of the COM position vector.\n        # write your own code below\n        RCOM = np.sqrt(XCOM**2+YCOM**2+ZCOM**2)\n\n        # iterative process to determine the center of mass                                                            \n\n        # change reference frame to COM frame                                                                          \n        # compute the difference between particle coordinates                                                          \n        # and the first guess at COM position\n        # write your own code below\n        xNew = self.x - XCOM\n        yNew = self.y - YCOM\n        zNew = self.z - ZCOM\n        RNEW = np.sqrt(self.x**2+self.y**2+self.z**2) - RCOM\n\n        # find the max 3D distance of all particles from the guessed COM                                               \n        # will re-start at half that radius (reduced radius)                                                           \n        RMAX = max(RNEW)/2.0\n        \n        # pick an initial value for the change in COM position                                                      \n        # between the first guess above and the new one computed from half that volume\n        # it should be larger than the input tolerance (delta) initially\n        CHANGE = 1000.0\n\n        # start iterative process to determine center of mass position                                                 \n        # delta is the tolerance for the difference in the old COM and the new one.    \n        \n        while (CHANGE > delta):\n            # select all particles within the reduced radius (starting from original x,y,z, m)\n            # write your own code below (hints, use np.where)\n            index2 = np.where(np.sqrt(xNew**2+yNew**2+zNew**2) <= RMAX)\n            x2 = self.data['x'][index2]\n            y2 = self.data['y'][index2]\n            z2 = self.data['z'][index2]\n            m2 = self.data['m'][index2]\n\n            # Refined COM position:                                                                                    \n            # compute the center of mass position using                                                                \n            # the particles in the reduced radius\n            # write your own code below\n            XCOM2, YCOM2, ZCOM2 = self.COMdefine(x2, y2, z2, m2)\n            # compute the new 3D COM position\n            # write your own code below\n            RCOM2 = np.sqrt(XCOM2**2+YCOM2**2+ZCOM2**2)\n            # determine the difference between the previous center of mass position                                    \n            # and the new one.                                                                                         \n            CHANGE = np.abs(RCOM - RCOM2)\n\n            # uncomment the following line if you wnat to check this                                                                                               \n            # print (\"CHANGE = \", CHANGE)                                                                                     \n\n            # Before loop continues, reset : RMAX, particle separations and COM                                        \n\n            # reduce the volume by a factor of 2 again                                                                 \n            RMAX = RMAX/2.0\n            # check this.                                                                                              \n            #print (\"maxR\", RMAX)                                                                                      \n\n            # Change the frame of reference to the newly computed COM.                                                 \n            # subtract the new COM\n            # write your own code below\n            xNew = self.data['x'] - XCOM2\n            yNew = self.data['y'] - YCOM2\n            zNew = self.data['z'] - ZCOM2\n            RNEW = np.sqrt(x2**2+y2**2+z2**2) - RCOM2\n\n            # set the center of mass positions to the refined values                                                   \n            XCOM = XCOM2\n            YCOM = YCOM2\n            ZCOM = ZCOM2\n            RCOM = RCOM2\n\n            # create a vector to store the COM position                                                                                                                                                       \n            COMP = [XCOM, YCOM, ZCOM]\n\n        # set the correct units using astropy and round all values\n        # and then return the COM positon vector\n        # write your own code below\n        \n        XCOM = XCOM*u.kpc\n        YCOM = YCOM*u.kpc\n        ZCOM = ZCOM*u.kpc\n        COMP = COMP*u.kpc\n    \n        return COMP\n\n    def COM_V(self, COMX,COMY,COMZ):\n        # Center of Mass velocity\n        # input: X, Y, Z positions of the COM\n        # returns 3D Vector of COM Velocities\n        \n        # the max distance from the center that we will use to determine the center of mass velocity                   \n        RVMAX = 15.0*u.kpc\n\n        # determine the position of all particles relative to the center of mass position\n        # write your own code below\n        xV = self.x*u.kpc - COMX\n        print(min(xV))\n        yV = self.y*u.kpc - COMY\n        print(min(yV))\n        zV = self.z*u.kpc - COMZ\n        print(min(zV))\n        RV = np.sqrt(xV**2+yV**2+zV**2)\n        print(min(RV))\n        \n        # determine the index for those particles within the max radius\n        # write your own code below\n        indexV = np.where(RV < RVMAX)\n        \n        # determine the velocity and mass of those particles within the mas radius\n        # write your own code below\n        vxnew = self.data['vx'][indexV]\n        vynew = self.data['vy'][indexV]\n        vznew = self.data['vz'][indexV]\n        mnew = self.data['m'][indexV]  \n        \n        \n        # compute the center of mass velocity using those particles\n        # write your own code below\n        VXCOM, VYCOM, VZCOM = self.COMdefine(vxnew, vynew, vznew, mnew)\n\n        # create a vector to store the COM velocity\n        # set the correct units usint astropy\n        # round all values\n        # write your own code below\n        COMV = [VXCOM, VYCOM, VZCOM]*u.km/u.s\n\n        # return the COM vector                                                                                        \n        return COMV"
    },
    "executionTime": "2020-02-12T04:58:11.787Z"
   },
   {
    "cell": {
     "executionCount": 138,
     "executionEventId": "4c1b8288-e7ad-4f49-b4ed-24bc6d736db2",
     "hasError": false,
     "id": "0e9f9245-ed8e-4b46-a336-0172f5c80435",
     "outputs": [
      {
       "name": "stdout",
       "output_type": "stream",
       "text": "[-477.9356  487.6864 -407.8338] kpc\n[nan nan nan] km / s\n"
      },
      {
       "name": "stderr",
       "output_type": "stream",
       "text": "/anaconda3/lib/python3.6/site-packages/ipykernel_launcher.py:35: RuntimeWarning: invalid value encountered in double_scalars\n/anaconda3/lib/python3.6/site-packages/ipykernel_launcher.py:37: RuntimeWarning: invalid value encountered in double_scalars\n/anaconda3/lib/python3.6/site-packages/ipykernel_launcher.py:39: RuntimeWarning: invalid value encountered in double_scalars\n"
      }
     ],
     "persistentId": "69daf229-8f48-4d35-a241-46e3fe8889c2",
     "text": "M33COM = CenterOfMass(\"M33_000.txt\", 2)\nM33_COMP = M33COM.COM_P(0.1)\nprint(M33_COMP)\nM33_COMV = M31COM.COM_V(-477.9356*u.kpc, 487.6864*u.kpc, -407.83*u.kpc)\nprint(M33_COMV)"
    },
    "executionTime": "2020-02-12T04:58:16.813Z"
   },
   {
    "cell": {
     "executionCount": 139,
     "executionEventId": "5a40d73a-f873-4e3d-b677-5f14bcadd008",
     "hasError": false,
     "id": "0e9f9245-ed8e-4b46-a336-0172f5c80435",
     "outputs": [
      {
       "name": "stdout",
       "output_type": "stream",
       "text": "[-477.9356  487.6864 -407.8338] kpc\n-9.247399999999914 kpc\n-3.6954000000000065 kpc\n-16.31020000000001 kpc\n4.37249184790551 kpc\n[ 43.84220786 101.46315995 139.15131868] km / s\n"
      }
     ],
     "persistentId": "69daf229-8f48-4d35-a241-46e3fe8889c2",
     "text": "M33COM = CenterOfMass(\"M33_000.txt\", 2)\nM33_COMP = M33COM.COM_P(0.1)\nprint(M33_COMP)\nM33_COMV = M33COM.COM_V(M33_COMP[0], M33_COMP[1], M33_COMP[2])\nprint(M33_COMV)"
    },
    "executionTime": "2020-02-12T04:58:49.192Z"
   },
   {
    "cell": {
     "executionCount": 140,
     "executionEventId": "6f280f57-da16-4908-9e61-5699e9a38410",
     "hasError": false,
     "id": "15a7c55c-5293-4deb-b861-0c326e14d523",
     "outputs": [],
     "persistentId": "3f3a5cb8-663d-4322-a77a-bde24cf50cec",
     "text": "class CenterOfMass:\n# Class to define COM position and velocity properties of a given galaxy \n# and simulation snapshot\n    \n    \n    def __init__(self, filename, ptype):\n    # Initialize the instance of this Class with the following properties:\n    \n        # read data in the given file using Read\n        self.time, self.total, self.data = Read(filename)                                                                                             \n\n        #create an array to store indexes of particles of desired Ptype                                \n        self.index = np.where(self.data['type'] == ptype)\n\n        # store the mass, positions, velocities of only the particles of the given type\n        # the following only gives the example of storing the mass\n        # self.m = self.data['m'][self.index]\n        # write your own code to complete this for positions and velocities\n        self.m = self.data['m'][self.index]\n        self.x = self.data['x'][self.index]\n        self.y = self.data['y'][self.index]\n        self.z = self.data['z'][self.index]\n        self.vx = self.data['vx'][self.index]\n        self.vy = self.data['vy'][self.index]\n        self.vz = self.data['vz'][self.index]\n\n\n    def COMdefine(self,a,b,c,m):\n    # Function to compute the center of mass position or velocity generically\n    # input: array (a,b,c) of positions or velocities and the mass\n    # returns: 3 floats  (the center of mass coordinates)\n\n        # write your own code to compute the generic COM using Eq. 1 in the homework instructions\n        # xcomponent Center of mass\n        Acom = np.sum(a*m)/np.sum(m)\n        # ycomponent Center of mass\n        Bcom = np.sum(b*m)/np.sum(m)\n        # zcomponent Center of mass\n        Ccom = np.sum(c*m)/np.sum(m)\n        \n        return Acom, Bcom, Ccom\n    \n    \n    def COM_P(self, delta):\n    # Function to specifically return the center of mass position and velocity                                         \n    # input:                                                                                                           \n    #        particle type (1,2,3)                                                                                     \n    #        delta (tolerance)                                                                                         \n    # returns: One vector, with rows indicating:                                                                                                                                                                            \n    #       3D coordinates of the center of mass position (kpc)                                                             \n\n        # Center of Mass Position                                                                                      \n        ###########################                                                                                    \n\n        # Try a first guess at the COM position by calling COMdefine                                                   \n        XCOM, YCOM, ZCOM = self.COMdefine(self.x, self.y, self.z, self.m)\n        # compute the magnitude of the COM position vector.\n        # write your own code below\n        RCOM = np.sqrt(XCOM**2+YCOM**2+ZCOM**2)\n\n        # iterative process to determine the center of mass                                                            \n\n        # change reference frame to COM frame                                                                          \n        # compute the difference between particle coordinates                                                          \n        # and the first guess at COM position\n        # write your own code below\n        xNew = self.x - XCOM\n        yNew = self.y - YCOM\n        zNew = self.z - ZCOM\n        RNEW = np.sqrt(self.x**2+self.y**2+self.z**2) - RCOM\n\n        # find the max 3D distance of all particles from the guessed COM                                               \n        # will re-start at half that radius (reduced radius)                                                           \n        RMAX = max(RNEW)/2.0\n        \n        # pick an initial value for the change in COM position                                                      \n        # between the first guess above and the new one computed from half that volume\n        # it should be larger than the input tolerance (delta) initially\n        CHANGE = 1000.0\n\n        # start iterative process to determine center of mass position                                                 \n        # delta is the tolerance for the difference in the old COM and the new one.    \n        \n        while (CHANGE > delta):\n            # select all particles within the reduced radius (starting from original x,y,z, m)\n            # write your own code below (hints, use np.where)\n            index2 = np.where(np.sqrt(xNew**2+yNew**2+zNew**2) <= RMAX)\n            x2 = self.data['x'][index2]\n            y2 = self.data['y'][index2]\n            z2 = self.data['z'][index2]\n            m2 = self.data['m'][index2]\n\n            # Refined COM position:                                                                                    \n            # compute the center of mass position using                                                                \n            # the particles in the reduced radius\n            # write your own code below\n            XCOM2, YCOM2, ZCOM2 = self.COMdefine(x2, y2, z2, m2)\n            # compute the new 3D COM position\n            # write your own code below\n            RCOM2 = np.sqrt(XCOM2**2+YCOM2**2+ZCOM2**2)\n            # determine the difference between the previous center of mass position                                    \n            # and the new one.                                                                                         \n            CHANGE = np.abs(RCOM - RCOM2)\n\n            # uncomment the following line if you wnat to check this                                                                                               \n            # print (\"CHANGE = \", CHANGE)                                                                                     \n\n            # Before loop continues, reset : RMAX, particle separations and COM                                        \n\n            # reduce the volume by a factor of 2 again                                                                 \n            RMAX = RMAX/2.0\n            # check this.                                                                                              \n            #print (\"maxR\", RMAX)                                                                                      \n\n            # Change the frame of reference to the newly computed COM.                                                 \n            # subtract the new COM\n            # write your own code below\n            xNew = self.data['x'] - XCOM2\n            yNew = self.data['y'] - YCOM2\n            zNew = self.data['z'] - ZCOM2\n            RNEW = np.sqrt(x2**2+y2**2+z2**2) - RCOM2\n\n            # set the center of mass positions to the refined values                                                   \n            XCOM = XCOM2\n            YCOM = YCOM2\n            ZCOM = ZCOM2\n            RCOM = RCOM2\n\n            # create a vector to store the COM position                                                                                                                                                       \n            COMP = [XCOM, YCOM, ZCOM]\n\n        # set the correct units using astropy and round all values\n        # and then return the COM positon vector\n        # write your own code below\n        \n        XCOM = XCOM*u.kpc\n        YCOM = YCOM*u.kpc\n        ZCOM = ZCOM*u.kpc\n        COMP = COMP*u.kpc\n    \n        return COMP\n\n    def COM_V(self, COMX,COMY,COMZ):\n        # Center of Mass velocity\n        # input: X, Y, Z positions of the COM\n        # returns 3D Vector of COM Velocities\n        \n        # the max distance from the center that we will use to determine the center of mass velocity                   \n        RVMAX = 15.0*u.kpc\n\n        # determine the position of all particles relative to the center of mass position\n        # write your own code below\n        xV = self.x*u.kpc - COMX\n        yV = self.y*u.kpc - COMY\n        zV = self.z*u.kpc - COMZ\n        RV = np.sqrt(xV**2+yV**2+zV**2)\n        \n        # determine the index for those particles within the max radius\n        # write your own code below\n        indexV = np.where(RV < RVMAX)\n        \n        # determine the velocity and mass of those particles within the mas radius\n        # write your own code below\n        vxnew = self.data['vx'][indexV]\n        vynew = self.data['vy'][indexV]\n        vznew = self.data['vz'][indexV]\n        mnew = self.data['m'][indexV]  \n        \n        \n        # compute the center of mass velocity using those particles\n        # write your own code below\n        VXCOM, VYCOM, VZCOM = self.COMdefine(vxnew, vynew, vznew, mnew)\n\n        # create a vector to store the COM velocity\n        # set the correct units usint astropy\n        # round all values\n        # write your own code below\n        COMV = [VXCOM, VYCOM, VZCOM]*u.km/u.s\n\n        # return the COM vector                                                                                        \n        return COMV"
    },
    "executionTime": "2020-02-12T04:58:59.527Z"
   },
   {
    "cell": {
     "executionCount": 141,
     "executionEventId": "6b967cd8-5255-4283-9ca9-593c1d6fa9b2",
     "hasError": false,
     "id": "0e9f9245-ed8e-4b46-a336-0172f5c80435",
     "outputs": [
      {
       "name": "stdout",
       "output_type": "stream",
       "text": "[-477.9356  487.6864 -407.8338] kpc\n[ 43.84220786 101.46315995 139.15131868] km / s\n"
      }
     ],
     "persistentId": "69daf229-8f48-4d35-a241-46e3fe8889c2",
     "text": "M33COM = CenterOfMass(\"M33_000.txt\", 2)\nM33_COMP = M33COM.COM_P(0.1)\nprint(M33_COMP)\nM33_COMV = M33COM.COM_V(M33_COMP[0], M33_COMP[1], M33_COMP[2])\nprint(M33_COMV)"
    },
    "executionTime": "2020-02-12T04:59:02.598Z"
   },
   {
    "cell": {
     "executionCount": 142,
     "executionEventId": "0ab06c52-0fa7-4eae-ac02-ae07c6d2dfa0",
     "hasError": false,
     "id": "15a7c55c-5293-4deb-b861-0c326e14d523",
     "outputs": [],
     "persistentId": "3f3a5cb8-663d-4322-a77a-bde24cf50cec",
     "text": "class CenterOfMass:\n# Class to define COM position and velocity properties of a given galaxy \n# and simulation snapshot\n    \n    \n    def __init__(self, filename, ptype):\n    # Initialize the instance of this Class with the following properties:\n    \n        # read data in the given file using Read\n        self.time, self.total, self.data = Read(filename)                                                                                             \n\n        #create an array to store indexes of particles of desired Ptype                                \n        self.index = np.where(self.data['type'] == ptype)\n\n        # store the mass, positions, velocities of only the particles of the given type\n        # the following only gives the example of storing the mass\n        # self.m = self.data['m'][self.index]\n        # write your own code to complete this for positions and velocities\n        self.m = self.data['m'][self.index]\n        self.x = self.data['x'][self.index]\n        self.y = self.data['y'][self.index]\n        self.z = self.data['z'][self.index]\n        self.vx = self.data['vx'][self.index]\n        self.vy = self.data['vy'][self.index]\n        self.vz = self.data['vz'][self.index]\n\n\n    def COMdefine(self,a,b,c,m):\n    # Function to compute the center of mass position or velocity generically\n    # input: array (a,b,c) of positions or velocities and the mass\n    # returns: 3 floats  (the center of mass coordinates)\n\n        # write your own code to compute the generic COM using Eq. 1 in the homework instructions\n        # xcomponent Center of mass\n        Acom = np.sum(a*m)/np.sum(m)\n        # ycomponent Center of mass\n        Bcom = np.sum(b*m)/np.sum(m)\n        # zcomponent Center of mass\n        Ccom = np.sum(c*m)/np.sum(m)\n        \n        return Acom, Bcom, Ccom\n    \n    \n    def COM_P(self, delta):\n    # Function to specifically return the center of mass position and velocity                                         \n    # input:                                                                                                           \n    #        particle type (1,2,3)                                                                                     \n    #        delta (tolerance)                                                                                         \n    # returns: One vector, with rows indicating:                                                                                                                                                                            \n    #       3D coordinates of the center of mass position (kpc)                                                             \n\n        # Center of Mass Position                                                                                      \n        ###########################                                                                                    \n\n        # Try a first guess at the COM position by calling COMdefine                                                   \n        XCOM, YCOM, ZCOM = self.COMdefine(self.x, self.y, self.z, self.m)\n        # compute the magnitude of the COM position vector.\n        # write your own code below\n        RCOM = np.sqrt(XCOM**2+YCOM**2+ZCOM**2)\n\n        # iterative process to determine the center of mass                                                            \n\n        # change reference frame to COM frame                                                                          \n        # compute the difference between particle coordinates                                                          \n        # and the first guess at COM position\n        # write your own code below\n        xNew = self.x - XCOM\n        yNew = self.y - YCOM\n        zNew = self.z - ZCOM\n        RNEW = np.sqrt(self.x**2+self.y**2+self.z**2) - RCOM\n\n        # find the max 3D distance of all particles from the guessed COM                                               \n        # will re-start at half that radius (reduced radius)                                                           \n        RMAX = max(RNEW)/2.0\n        \n        # pick an initial value for the change in COM position                                                      \n        # between the first guess above and the new one computed from half that volume\n        # it should be larger than the input tolerance (delta) initially\n        CHANGE = 1000.0\n\n        # start iterative process to determine center of mass position                                                 \n        # delta is the tolerance for the difference in the old COM and the new one.    \n        \n        while (CHANGE > delta):\n            # select all particles within the reduced radius (starting from original x,y,z, m)\n            # write your own code below (hints, use np.where)\n            index2 = np.where(np.sqrt(xNew**2+yNew**2+zNew**2) <= RMAX)\n            x2 = self.data['x'][index2]\n            y2 = self.data['y'][index2]\n            z2 = self.data['z'][index2]\n            m2 = self.data['m'][index2]\n\n            # Refined COM position:                                                                                    \n            # compute the center of mass position using                                                                \n            # the particles in the reduced radius\n            # write your own code below\n            XCOM2, YCOM2, ZCOM2 = self.COMdefine(x2, y2, z2, m2)\n            # compute the new 3D COM position\n            # write your own code below\n            RCOM2 = np.sqrt(XCOM2**2+YCOM2**2+ZCOM2**2)\n            # determine the difference between the previous center of mass position                                    \n            # and the new one.                                                                                         \n            CHANGE = np.abs(RCOM - RCOM2)\n\n            # uncomment the following line if you wnat to check this                                                                                               \n            # print (\"CHANGE = \", CHANGE)                                                                                     \n\n            # Before loop continues, reset : RMAX, particle separations and COM                                        \n\n            # reduce the volume by a factor of 2 again                                                                 \n            RMAX = RMAX/2.0\n            # check this.                                                                                              \n            #print (\"maxR\", RMAX)                                                                                      \n\n            # Change the frame of reference to the newly computed COM.                                                 \n            # subtract the new COM\n            # write your own code below\n            xNew = self.data['x'] - XCOM2\n            yNew = self.data['y'] - YCOM2\n            zNew = self.data['z'] - ZCOM2\n            RNEW = np.sqrt(x2**2+y2**2+z2**2) - RCOM2\n\n            # set the center of mass positions to the refined values                                                   \n            XCOM = XCOM2\n            YCOM = YCOM2\n            ZCOM = ZCOM2\n            RCOM = RCOM2\n\n            # create a vector to store the COM position                                                                                                                                                       \n            COMP = [XCOM, YCOM, ZCOM]\n\n        # set the correct units using astropy and round all values\n        # and then return the COM positon vector\n        # write your own code below\n        \n        XCOM = XCOM*u.kpc\n        YCOM = YCOM*u.kpc\n        ZCOM = ZCOM*u.kpc\n        COMP = np.round(COMP*u.kpc,2)\n    \n        return COMP\n\n    def COM_V(self, COMX,COMY,COMZ):\n        # Center of Mass velocity\n        # input: X, Y, Z positions of the COM\n        # returns 3D Vector of COM Velocities\n        \n        # the max distance from the center that we will use to determine the center of mass velocity                   \n        RVMAX = 15.0*u.kpc\n\n        # determine the position of all particles relative to the center of mass position\n        # write your own code below\n        xV = self.x*u.kpc - COMX\n        yV = self.y*u.kpc - COMY\n        zV = self.z*u.kpc - COMZ\n        RV = np.sqrt(xV**2+yV**2+zV**2)\n        \n        # determine the index for those particles within the max radius\n        # write your own code below\n        indexV = np.where(RV < RVMAX)\n        \n        # determine the velocity and mass of those particles within the mas radius\n        # write your own code below\n        vxnew = self.data['vx'][indexV]\n        vynew = self.data['vy'][indexV]\n        vznew = self.data['vz'][indexV]\n        mnew = self.data['m'][indexV]  \n        \n        \n        # compute the center of mass velocity using those particles\n        # write your own code below\n        VXCOM, VYCOM, VZCOM = self.COMdefine(vxnew, vynew, vznew, mnew)\n\n        # create a vector to store the COM velocity\n        # set the correct units usint astropy\n        # round all values\n        # write your own code below\n        COMV = np.round([VXCOM, VYCOM, VZCOM],2)*u.km/u.s\n\n        # return the COM vector                                                                                        \n        return COMV"
    },
    "executionTime": "2020-02-12T04:59:55.473Z"
   },
   {
    "cell": {
     "executionCount": 143,
     "executionEventId": "6c0f122e-0ba4-4e28-8f0c-481ea6434974",
     "hasError": false,
     "id": "1ec1c88c-1fce-4f6e-b8c0-db3ed4c98b85",
     "outputs": [],
     "persistentId": "1925e6a4-0327-430a-b39d-4ebbd7201e33",
     "text": "# Create a Center of mass object for the MW, M31 and M33\n# below is an example of using the class for MW\nMWCOM = CenterOfMass(\"MW_000.txt\", 2)"
    },
    "executionTime": "2020-02-12T05:00:05.231Z"
   },
   {
    "cell": {
     "executionCount": 144,
     "executionEventId": "a41a66e7-920c-48d2-a44b-1f36549a285e",
     "hasError": false,
     "id": "41b3f20d-1811-4f91-b20f-b0580131a95f",
     "outputs": [
      {
       "name": "stdout",
       "output_type": "stream",
       "text": "[-2.05  2.95 -1.45] kpc\n[-0.03  0.81 -0.94] km / s\n"
      }
     ],
     "persistentId": "d9be1b5b-cc5b-4d53-bbf7-2deedeca2731",
     "text": "# below gives you an example of calling the class's functions\n# MW:   store the position and velocity COM\nMWCOM = CenterOfMass(\"MW_000.txt\", 2)\nMW_COMP = MWCOM.COM_P(0.1)\nprint(MW_COMP)\nMW_COMV = MWCOM.COM_V(MW_COMP[0], MW_COMP[1], MW_COMP[2])\nprint(MW_COMV)"
    },
    "executionTime": "2020-02-12T05:00:16.837Z"
   },
   {
    "cell": {
     "executionCount": 145,
     "executionEventId": "619cabaf-0a16-4204-bf2d-51e0ba132440",
     "hasError": false,
     "id": "f701bbb1-527f-499d-96c1-c318cffd4b81",
     "outputs": [
      {
       "name": "stdout",
       "output_type": "stream",
       "text": "[-377.03  611.   -284.5 ] kpc\n[ 73.67 -70.83  50.76] km / s\n"
      }
     ],
     "persistentId": "966ff13b-1221-44fb-ac73-7a97eddb14fb",
     "text": "# now write your own code to answer questions\nM31COM = CenterOfMass(\"M31_000.txt\", 2)\nM31_COMP = M31COM.COM_P(0.1)\nprint(M31_COMP)\nM31_COMV = M31COM.COM_V(M31_COMP[0], M31_COMP[1], M31_COMP[2])\nprint(M31_COMV)"
    },
    "executionTime": "2020-02-12T05:00:24.878Z"
   },
   {
    "cell": {
     "executionCount": 146,
     "executionEventId": "6c1d07ce-a524-4b5d-9e19-a84ca1453c0e",
     "hasError": false,
     "id": "0e9f9245-ed8e-4b46-a336-0172f5c80435",
     "outputs": [
      {
       "name": "stdout",
       "output_type": "stream",
       "text": "[-477.94  487.69 -407.83] kpc\n[ 43.84 101.46 139.15] km / s\n"
      }
     ],
     "persistentId": "69daf229-8f48-4d35-a241-46e3fe8889c2",
     "text": "M33COM = CenterOfMass(\"M33_000.txt\", 2)\nM33_COMP = M33COM.COM_P(0.1)\nprint(M33_COMP)\nM33_COMV = M33COM.COM_V(M33_COMP[0], M33_COMP[1], M33_COMP[2])\nprint(M33_COMV)"
    },
    "executionTime": "2020-02-12T05:00:29.336Z"
   },
   {
    "cell": {
     "executionCount": 147,
     "executionEventId": "2c165c49-69ce-44f2-961c-56672fccc6ab",
     "hasError": true,
     "id": "674ac734-287f-4da7-9405-15557605ed90",
     "outputs": [
      {
       "ename": "UnitConversionError",
       "evalue": "Can only apply 'add' function to quantities with compatible dimensions",
       "output_type": "error",
       "traceback": [
        "\u001b[0;31m---------------------------------------------------------------------------\u001b[0m",
        "\u001b[0;31mUnitConversionError\u001b[0m                       Traceback (most recent call last)",
        "\u001b[0;32m/anaconda3/lib/python3.6/site-packages/astropy/units/quantity_helper/helpers.py\u001b[0m in \u001b[0;36mget_converter\u001b[0;34m(from_unit, to_unit)\u001b[0m\n\u001b[1;32m     31\u001b[0m     \u001b[0;32mtry\u001b[0m\u001b[0;34m:\u001b[0m\u001b[0;34m\u001b[0m\u001b[0;34m\u001b[0m\u001b[0m\n\u001b[0;32m---> 32\u001b[0;31m         \u001b[0mscale\u001b[0m \u001b[0;34m=\u001b[0m \u001b[0mfrom_unit\u001b[0m\u001b[0;34m.\u001b[0m\u001b[0m_to\u001b[0m\u001b[0;34m(\u001b[0m\u001b[0mto_unit\u001b[0m\u001b[0;34m)\u001b[0m\u001b[0;34m\u001b[0m\u001b[0;34m\u001b[0m\u001b[0m\n\u001b[0m\u001b[1;32m     33\u001b[0m     \u001b[0;32mexcept\u001b[0m \u001b[0mUnitsError\u001b[0m\u001b[0;34m:\u001b[0m\u001b[0;34m\u001b[0m\u001b[0;34m\u001b[0m\u001b[0m\n",
        "\u001b[0;32m/anaconda3/lib/python3.6/site-packages/astropy/units/core.py\u001b[0m in \u001b[0;36m_to\u001b[0;34m(self, other)\u001b[0m\n\u001b[1;32m    950\u001b[0m         raise UnitConversionError(\n\u001b[0;32m--> 951\u001b[0;31m             f\"'{self!r}' is not a scaled version of '{other!r}'\")\n\u001b[0m\u001b[1;32m    952\u001b[0m \u001b[0;34m\u001b[0m\u001b[0m\n",
        "\u001b[0;31mUnitConversionError\u001b[0m: 'Unit(\"kpc3\")' is not a scaled version of 'Unit(\"kpc2\")'",
        "\nDuring handling of the above exception, another exception occurred:\n",
        "\u001b[0;31mUnitConversionError\u001b[0m                       Traceback (most recent call last)",
        "\u001b[0;32m/anaconda3/lib/python3.6/site-packages/astropy/units/quantity_helper/helpers.py\u001b[0m in \u001b[0;36mget_converters_and_unit\u001b[0;34m(f, unit1, unit2)\u001b[0m\n\u001b[1;32m     76\u001b[0m         \u001b[0;32mtry\u001b[0m\u001b[0;34m:\u001b[0m\u001b[0;34m\u001b[0m\u001b[0;34m\u001b[0m\u001b[0m\n\u001b[0;32m---> 77\u001b[0;31m             \u001b[0mconverters\u001b[0m\u001b[0;34m[\u001b[0m\u001b[0mchangeable\u001b[0m\u001b[0;34m]\u001b[0m \u001b[0;34m=\u001b[0m \u001b[0mget_converter\u001b[0m\u001b[0;34m(\u001b[0m\u001b[0munit2\u001b[0m\u001b[0;34m,\u001b[0m \u001b[0munit1\u001b[0m\u001b[0;34m)\u001b[0m\u001b[0;34m\u001b[0m\u001b[0;34m\u001b[0m\u001b[0m\n\u001b[0m\u001b[1;32m     78\u001b[0m         \u001b[0;32mexcept\u001b[0m \u001b[0mUnitsError\u001b[0m\u001b[0;34m:\u001b[0m\u001b[0;34m\u001b[0m\u001b[0;34m\u001b[0m\u001b[0m\n",
        "\u001b[0;32m/anaconda3/lib/python3.6/site-packages/astropy/units/quantity_helper/helpers.py\u001b[0m in \u001b[0;36mget_converter\u001b[0;34m(from_unit, to_unit)\u001b[0m\n\u001b[1;32m     34\u001b[0m         return from_unit._apply_equivalencies(\n\u001b[0;32m---> 35\u001b[0;31m                 from_unit, to_unit, get_current_unit_registry().equivalencies)\n\u001b[0m\u001b[1;32m     36\u001b[0m     \u001b[0;32mexcept\u001b[0m \u001b[0mAttributeError\u001b[0m\u001b[0;34m:\u001b[0m\u001b[0;34m\u001b[0m\u001b[0;34m\u001b[0m\u001b[0m\n",
        "\u001b[0;32m/anaconda3/lib/python3.6/site-packages/astropy/units/core.py\u001b[0m in \u001b[0;36m_apply_equivalencies\u001b[0;34m(self, unit, other, equivalencies)\u001b[0m\n\u001b[1;32m    887\u001b[0m             \"{} and {} are not convertible\".format(\n\u001b[0;32m--> 888\u001b[0;31m                 unit_str, other_str))\n\u001b[0m\u001b[1;32m    889\u001b[0m \u001b[0;34m\u001b[0m\u001b[0m\n",
        "\u001b[0;31mUnitConversionError\u001b[0m: 'kpc3' (volume) and 'kpc2' (area) are not convertible",
        "\nDuring handling of the above exception, another exception occurred:\n",
        "\u001b[0;31mUnitConversionError\u001b[0m                       Traceback (most recent call last)",
        "\u001b[0;32m<ipython-input-147-11f80dfb08fb>\u001b[0m in \u001b[0;36m<module>\u001b[0;34m\u001b[0m\n\u001b[0;32m----> 1\u001b[0;31m \u001b[0mMW_3Dvelosity\u001b[0m \u001b[0;34m=\u001b[0m \u001b[0mnp\u001b[0m\u001b[0;34m.\u001b[0m\u001b[0msqrt\u001b[0m\u001b[0;34m(\u001b[0m\u001b[0mMW_COMP\u001b[0m\u001b[0;34m[\u001b[0m\u001b[0;36m0\u001b[0m\u001b[0;34m]\u001b[0m\u001b[0;34m**\u001b[0m\u001b[0;36m2\u001b[0m\u001b[0;34m+\u001b[0m\u001b[0mMW_COMP\u001b[0m\u001b[0;34m[\u001b[0m\u001b[0;36m1\u001b[0m\u001b[0;34m]\u001b[0m\u001b[0;34m**\u001b[0m\u001b[0;36m2\u001b[0m\u001b[0;34m+\u001b[0m\u001b[0mMW_COMP\u001b[0m\u001b[0;34m[\u001b[0m\u001b[0;36m2\u001b[0m\u001b[0;34m]\u001b[0m\u001b[0;34m**\u001b[0m\u001b[0;36m3\u001b[0m\u001b[0;34m)\u001b[0m\u001b[0;34m\u001b[0m\u001b[0;34m\u001b[0m\u001b[0m\n\u001b[0m\u001b[1;32m      2\u001b[0m \u001b[0mM31_3Dvelosity\u001b[0m \u001b[0;34m=\u001b[0m \u001b[0mnp\u001b[0m\u001b[0;34m.\u001b[0m\u001b[0msqrt\u001b[0m\u001b[0;34m(\u001b[0m\u001b[0mM31_COMP\u001b[0m\u001b[0;34m[\u001b[0m\u001b[0;36m0\u001b[0m\u001b[0;34m]\u001b[0m\u001b[0;34m**\u001b[0m\u001b[0;36m2\u001b[0m\u001b[0;34m+\u001b[0m\u001b[0mM31_COMP\u001b[0m\u001b[0;34m[\u001b[0m\u001b[0;36m1\u001b[0m\u001b[0;34m]\u001b[0m\u001b[0;34m**\u001b[0m\u001b[0;36m2\u001b[0m\u001b[0;34m+\u001b[0m\u001b[0mM31_COMP\u001b[0m\u001b[0;34m[\u001b[0m\u001b[0;36m2\u001b[0m\u001b[0;34m]\u001b[0m\u001b[0;34m**\u001b[0m\u001b[0;36m3\u001b[0m\u001b[0;34m)\u001b[0m\u001b[0;34m\u001b[0m\u001b[0;34m\u001b[0m\u001b[0m\n\u001b[1;32m      3\u001b[0m \u001b[0mprint\u001b[0m\u001b[0;34m(\u001b[0m\u001b[0mMW_3Dvelosity\u001b[0m\u001b[0;34m)\u001b[0m\u001b[0;34m\u001b[0m\u001b[0;34m\u001b[0m\u001b[0m\n\u001b[1;32m      4\u001b[0m \u001b[0mprint\u001b[0m\u001b[0;34m(\u001b[0m\u001b[0mM31_3Dvelosity\u001b[0m\u001b[0;34m)\u001b[0m\u001b[0;34m\u001b[0m\u001b[0;34m\u001b[0m\u001b[0m\n",
        "\u001b[0;32m/anaconda3/lib/python3.6/site-packages/astropy/units/quantity.py\u001b[0m in \u001b[0;36m__array_ufunc__\u001b[0;34m(self, function, method, *inputs, **kwargs)\u001b[0m\n\u001b[1;32m    459\u001b[0m         \u001b[0;31m# consistent units between two inputs (e.g., in np.add) --\u001b[0m\u001b[0;34m\u001b[0m\u001b[0;34m\u001b[0m\u001b[0;34m\u001b[0m\u001b[0m\n\u001b[1;32m    460\u001b[0m         \u001b[0;31m# and the unit of the result (or tuple of units for nout > 1).\u001b[0m\u001b[0;34m\u001b[0m\u001b[0;34m\u001b[0m\u001b[0;34m\u001b[0m\u001b[0m\n\u001b[0;32m--> 461\u001b[0;31m         \u001b[0mconverters\u001b[0m\u001b[0;34m,\u001b[0m \u001b[0munit\u001b[0m \u001b[0;34m=\u001b[0m \u001b[0mconverters_and_unit\u001b[0m\u001b[0;34m(\u001b[0m\u001b[0mfunction\u001b[0m\u001b[0;34m,\u001b[0m \u001b[0mmethod\u001b[0m\u001b[0;34m,\u001b[0m \u001b[0;34m*\u001b[0m\u001b[0minputs\u001b[0m\u001b[0;34m)\u001b[0m\u001b[0;34m\u001b[0m\u001b[0;34m\u001b[0m\u001b[0m\n\u001b[0m\u001b[1;32m    462\u001b[0m \u001b[0;34m\u001b[0m\u001b[0m\n\u001b[1;32m    463\u001b[0m         \u001b[0mout\u001b[0m \u001b[0;34m=\u001b[0m \u001b[0mkwargs\u001b[0m\u001b[0;34m.\u001b[0m\u001b[0mget\u001b[0m\u001b[0;34m(\u001b[0m\u001b[0;34m'out'\u001b[0m\u001b[0;34m,\u001b[0m \u001b[0;32mNone\u001b[0m\u001b[0;34m)\u001b[0m\u001b[0;34m\u001b[0m\u001b[0;34m\u001b[0m\u001b[0m\n",
        "\u001b[0;32m/anaconda3/lib/python3.6/site-packages/astropy/units/quantity_helper/converters.py\u001b[0m in \u001b[0;36mconverters_and_unit\u001b[0;34m(function, method, *args)\u001b[0m\n\u001b[1;32m    164\u001b[0m \u001b[0;34m\u001b[0m\u001b[0m\n\u001b[1;32m    165\u001b[0m         \u001b[0;31m# Determine possible conversion functions, and the result unit.\u001b[0m\u001b[0;34m\u001b[0m\u001b[0;34m\u001b[0m\u001b[0;34m\u001b[0m\u001b[0m\n\u001b[0;32m--> 166\u001b[0;31m         \u001b[0mconverters\u001b[0m\u001b[0;34m,\u001b[0m \u001b[0mresult_unit\u001b[0m \u001b[0;34m=\u001b[0m \u001b[0mufunc_helper\u001b[0m\u001b[0;34m(\u001b[0m\u001b[0mfunction\u001b[0m\u001b[0;34m,\u001b[0m \u001b[0;34m*\u001b[0m\u001b[0munits\u001b[0m\u001b[0;34m)\u001b[0m\u001b[0;34m\u001b[0m\u001b[0;34m\u001b[0m\u001b[0m\n\u001b[0m\u001b[1;32m    167\u001b[0m \u001b[0;34m\u001b[0m\u001b[0m\n\u001b[1;32m    168\u001b[0m         \u001b[0;32mif\u001b[0m \u001b[0many\u001b[0m\u001b[0;34m(\u001b[0m\u001b[0mconverter\u001b[0m \u001b[0;32mis\u001b[0m \u001b[0;32mFalse\u001b[0m \u001b[0;32mfor\u001b[0m \u001b[0mconverter\u001b[0m \u001b[0;32min\u001b[0m \u001b[0mconverters\u001b[0m\u001b[0;34m)\u001b[0m\u001b[0;34m:\u001b[0m\u001b[0;34m\u001b[0m\u001b[0;34m\u001b[0m\u001b[0m\n",
        "\u001b[0;32m/anaconda3/lib/python3.6/site-packages/astropy/units/quantity_helper/helpers.py\u001b[0m in \u001b[0;36mget_converters_and_unit\u001b[0;34m(f, unit1, unit2)\u001b[0m\n\u001b[1;32m     80\u001b[0m                 \u001b[0;34m\"Can only apply '{}' function to quantities \"\u001b[0m\u001b[0;34m\u001b[0m\u001b[0;34m\u001b[0m\u001b[0m\n\u001b[1;32m     81\u001b[0m                 \u001b[0;34m\"with compatible dimensions\"\u001b[0m\u001b[0;34m\u001b[0m\u001b[0;34m\u001b[0m\u001b[0m\n\u001b[0;32m---> 82\u001b[0;31m                 .format(f.__name__))\n\u001b[0m\u001b[1;32m     83\u001b[0m \u001b[0;34m\u001b[0m\u001b[0m\n\u001b[1;32m     84\u001b[0m         \u001b[0;32mreturn\u001b[0m \u001b[0mconverters\u001b[0m\u001b[0;34m,\u001b[0m \u001b[0munit1\u001b[0m\u001b[0;34m\u001b[0m\u001b[0;34m\u001b[0m\u001b[0m\n",
        "\u001b[0;31mUnitConversionError\u001b[0m: Can only apply 'add' function to quantities with compatible dimensions"
       ]
      }
     ],
     "persistentId": "6984e14d-04a0-43f9-ad11-92121e14a0d5",
     "text": "MW_3Dvelosity = np.sqrt(MW_COMP[0]**2+MW_COMP[1]**2+MW_COMP[2]**3)\nM31_3Dvelosity = np.sqrt(M31_COMP[0]**2+M31_COMP[1]**2+M31_COMP[2]**3)\nprint(MW_3Dvelosity)\nprint(M31_3Dvelosity)"
    },
    "executionTime": "2020-02-12T05:09:26.862Z"
   },
   {
    "cell": {
     "executionCount": 148,
     "executionEventId": "e1e3292d-7d26-4561-ae6a-c27e025ec196",
     "hasError": true,
     "id": "674ac734-287f-4da7-9405-15557605ed90",
     "outputs": [
      {
       "ename": "AttributeError",
       "evalue": "module 'numpy' has no attribute 'roundq'",
       "output_type": "error",
       "traceback": [
        "\u001b[0;31m---------------------------------------------------------------------------\u001b[0m",
        "\u001b[0;31mAttributeError\u001b[0m                            Traceback (most recent call last)",
        "\u001b[0;32m<ipython-input-148-6aeee605bc65>\u001b[0m in \u001b[0;36m<module>\u001b[0;34m\u001b[0m\n\u001b[1;32m      2\u001b[0m \u001b[0mMW_31_vy_diff\u001b[0m \u001b[0;34m=\u001b[0m \u001b[0mMW_COMV\u001b[0m\u001b[0;34m[\u001b[0m\u001b[0;36m1\u001b[0m\u001b[0;34m]\u001b[0m \u001b[0;34m-\u001b[0m \u001b[0mM31_COMV\u001b[0m\u001b[0;34m[\u001b[0m\u001b[0;36m1\u001b[0m\u001b[0;34m]\u001b[0m\u001b[0;34m\u001b[0m\u001b[0;34m\u001b[0m\u001b[0m\n\u001b[1;32m      3\u001b[0m \u001b[0mMW_31_vz_diff\u001b[0m \u001b[0;34m=\u001b[0m \u001b[0mMW_COMV\u001b[0m\u001b[0;34m[\u001b[0m\u001b[0;36m2\u001b[0m\u001b[0;34m]\u001b[0m \u001b[0;34m-\u001b[0m \u001b[0mM31_COMV\u001b[0m\u001b[0;34m[\u001b[0m\u001b[0;36m2\u001b[0m\u001b[0;34m]\u001b[0m\u001b[0;34m\u001b[0m\u001b[0;34m\u001b[0m\u001b[0m\n\u001b[0;32m----> 4\u001b[0;31m \u001b[0mMW_31_3Dv_diff\u001b[0m \u001b[0;34m=\u001b[0m \u001b[0mnp\u001b[0m\u001b[0;34m.\u001b[0m\u001b[0mroundq\u001b[0m\u001b[0;34m(\u001b[0m\u001b[0mnp\u001b[0m\u001b[0;34m.\u001b[0m\u001b[0msqrt\u001b[0m\u001b[0;34m(\u001b[0m\u001b[0mMW_31_vx_diff\u001b[0m\u001b[0;34m**\u001b[0m\u001b[0;36m2\u001b[0m\u001b[0;34m+\u001b[0m\u001b[0mMW_31_vy_diff\u001b[0m\u001b[0;34m**\u001b[0m\u001b[0;36m2\u001b[0m\u001b[0;34m+\u001b[0m\u001b[0mMW_31_vz_diff\u001b[0m\u001b[0;34m**\u001b[0m\u001b[0;36m2\u001b[0m\u001b[0;34m)\u001b[0m\u001b[0;34m,\u001b[0m\u001b[0;36m3\u001b[0m\u001b[0;34m)\u001b[0m\u001b[0;34m\u001b[0m\u001b[0;34m\u001b[0m\u001b[0m\n\u001b[0m\u001b[1;32m      5\u001b[0m \u001b[0mprint\u001b[0m\u001b[0;34m(\u001b[0m\u001b[0mMW_31_3Dv_diff\u001b[0m\u001b[0;34m)\u001b[0m\u001b[0;34m\u001b[0m\u001b[0;34m\u001b[0m\u001b[0m\n",
        "\u001b[0;31mAttributeError\u001b[0m: module 'numpy' has no attribute 'roundq'"
       ]
      }
     ],
     "persistentId": "6984e14d-04a0-43f9-ad11-92121e14a0d5",
     "text": "MW_31_vx_diff = MW_COMV[0] - M31_COMV[0]\nMW_31_vy_diff = MW_COMV[1] - M31_COMV[1]\nMW_31_vz_diff = MW_COMV[2] - M31_COMV[2]\nMW_31_3Dv_diff = np.roundq(np.sqrt(MW_31_vx_diff**2+MW_31_vy_diff**2+MW_31_vz_diff**2),3)\nprint(MW_31_3Dv_diff)"
    },
    "executionTime": "2020-02-12T05:13:29.476Z"
   },
   {
    "cell": {
     "executionCount": 149,
     "executionEventId": "fcf951f8-1068-4790-bffd-4e571d80073a",
     "hasError": false,
     "id": "674ac734-287f-4da7-9405-15557605ed90",
     "outputs": [
      {
       "name": "stdout",
       "output_type": "stream",
       "text": "115.052 km / s\n"
      }
     ],
     "persistentId": "6984e14d-04a0-43f9-ad11-92121e14a0d5",
     "text": "MW_31_vx_diff = MW_COMV[0] - M31_COMV[0]\nMW_31_vy_diff = MW_COMV[1] - M31_COMV[1]\nMW_31_vz_diff = MW_COMV[2] - M31_COMV[2]\nMW_31_3Dv_diff = np.round(np.sqrt(MW_31_vx_diff**2+MW_31_vy_diff**2+MW_31_vz_diff**2),3)\nprint(MW_31_3Dv_diff)"
    },
    "executionTime": "2020-02-12T05:13:33.959Z"
   },
   {
    "cell": {
     "executionCount": 150,
     "executionEventId": "fa35d709-0174-4500-8e5e-c894281a9d7c",
     "hasError": false,
     "id": "41230744-0810-4a0b-8b8f-74c74d98af28",
     "outputs": [
      {
       "name": "stdout",
       "output_type": "stream",
       "text": "195.925 km / s\n"
      }
     ],
     "persistentId": "dc1c0ade-1966-4426-8c86-10127da0a6c6",
     "text": "M31_33_vx_diff = M31_COMV[0] - M33_COMV[0]\nM31_33_vy_diff = M31_COMV[1] - M33_COMV[1]\nM31_33_vz_diff = M31_COMV[2] - M33_COMV[2]\nM31_33_3Dv_diff = np.round(np.sqrt(M31_33_vx_diff**2+M31_33_vy_diff**2+M31_33_vz_diff**2),3)\nprint(M31_33_3Dv_diff)"
    },
    "executionTime": "2020-02-12T05:15:44.165Z"
   }
  ],
  "kernelspec": {
   "display_name": "Python 3",
   "language": "python",
   "name": "python3"
  },
  "language_info": {
   "codemirror_mode": {
    "name": "ipython",
    "version": 3
   },
   "file_extension": ".py",
   "mimetype": "text/x-python",
   "name": "python",
   "nbconvert_exporter": "python",
   "pygments_lexer": "ipython3",
   "version": "3.6.7"
  },
  "uuid": "0df4a9e2-a80f-4415-b4b1-dc0d3dd97189",
  "varInspector": {
   "cols": {
    "lenName": 16,
    "lenType": 16,
    "lenVar": 40
   },
   "kernels_config": {
    "python": {
     "delete_cmd_postfix": "",
     "delete_cmd_prefix": "del ",
     "library": "var_list.py",
     "varRefreshCmd": "print(var_dic_list())"
    },
    "r": {
     "delete_cmd_postfix": ") ",
     "delete_cmd_prefix": "rm(",
     "library": "var_list.r",
     "varRefreshCmd": "cat(var_dic_list()) "
    }
   },
   "types_to_exclude": [
    "module",
    "function",
    "builtin_function_or_method",
    "instance",
    "_Feature"
   ],
   "window_display": false
  }
 },
 "nbformat": 4,
 "nbformat_minor": 4
}
